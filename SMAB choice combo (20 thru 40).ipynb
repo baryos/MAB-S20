{
 "cells": [
  {
   "cell_type": "code",
   "execution_count": 1,
   "metadata": {},
   "outputs": [],
   "source": [
    "#Jump to: Maximizing/Matching CONTROL\n",
    " #or: Maximizing/Matching SOCIAL  "
   ]
  },
  {
   "cell_type": "code",
   "execution_count": 2,
   "metadata": {},
   "outputs": [],
   "source": [
    "import csv\n",
    "import pandas as pd\n",
    "import numpy as np\n",
    "import glob\n",
    "import matplotlib\n",
    "import scipy as sp\n",
    "from matplotlib import pyplot as plt\n",
    "from itertools import cycle, islice\n",
    "from scipy import stats\n",
    "\n",
    "import seaborn as sns"
   ]
  },
  {
   "cell_type": "code",
   "execution_count": 3,
   "metadata": {},
   "outputs": [],
   "source": [
    "def organize_trial_by_trial(txt_filename):\n",
    "    reader = csv.reader( open(txt_filename))\n",
    "    game_data = [row for row in reader]\n",
    "    df = pd.DataFrame(np.array(game_data))\n",
    "    df = df.T\n",
    "    df = df.rename(columns = {0:\"game number\", 1:\"trial\", 2:\"player\", 3:\"arm\", 4:\"probability\", 5:\"reward\", 6:\"time\", 7:\"P1 score\", 8:\"P2 score\"})\n",
    "    #drops first 20 trials of game 1\n",
    "    #remove if you want to analyze the whole session\n",
    "    #df = df[40:]\n",
    "    #df = df.drop(columns = 'time') #can comment this out if want to look at time\n",
    "    df = df.drop(['reward', 'time'], axis=1)\n",
    "    df = df.apply(pd.to_numeric)\n",
    "    df.head()\n",
    "    \n",
    "    return df"
   ]
  },
  {
   "cell_type": "code",
   "execution_count": 4,
   "metadata": {},
   "outputs": [],
   "source": [
    "#0 means \"next\" button\n",
    "#need to exclude zero?\n",
    "\n",
    "def organize_trial_by_trial_floatclick(txt_filename):\n",
    "    reader = csv.reader( open(txt_filename))\n",
    "    game_data = [row for row in reader]\n",
    "    df = pd.DataFrame(np.array(game_data))\n",
    "    df = df.T\n",
    "    df = df.rename(columns = {0:\"type\", 1:\"game number\", 2:\"trial\", 3:\"player\", 4:\"arm\", 5:\"probability\", 6:\"P1 score\", 7:\"P2 score\", 8:\"\"})\n",
    "    #have 402 so need to restrict\n",
    "    df = df[1:]\n",
    "    #df = df.drop(columns = 'time') #can comment this out if want to look at time\n",
    "    df = df.drop(['type'], axis=1)\n",
    "    df = df.apply(pd.to_numeric)\n",
    "    df.head()\n",
    "    \n",
    "    return df"
   ]
  },
  {
   "cell_type": "code",
   "execution_count": 5,
   "metadata": {},
   "outputs": [],
   "source": [
    "def organize_trial_by_trial_300(txt_filename):\n",
    "    reader = csv.reader( open(txt_filename))\n",
    "    game_data = [row for row in reader]\n",
    "    df = pd.DataFrame(np.array(game_data))\n",
    "    df = df.T\n",
    "    df = df.rename(columns = {0:\"type\", 1:\"game number\", 2:\"trial\", 3:\"player\", 4:\"arm\", 5:\"probability\", 6:\"reward\", 7:\"time\", 8:\"P1 score\", 9:\"P2 score\"})\n",
    "    #df = df[40:]\n",
    "    #df = df.drop(columns = 'time') #can comment this out if want to look at time\n",
    "    df = df.drop(['type', 'time', 'reward'], axis=1)\n",
    "    df = df.apply(pd.to_numeric)\n",
    "    df.head()\n",
    "    \n",
    "    return df"
   ]
  },
  {
   "cell_type": "code",
   "execution_count": 6,
   "metadata": {},
   "outputs": [],
   "source": [
    "def get_score(df, player_number, game_number):\n",
    "    if game_number == 1:\n",
    "        row = 199\n",
    "    elif game_number == 2:\n",
    "        row = 399\n",
    "    if player_number == 1:\n",
    "        column = 'P1 score'\n",
    "    elif player_number == 2:\n",
    "        column = 'P2 score'\n",
    "    score = df.loc[row, column]\n",
    "    return score"
   ]
  },
  {
   "cell_type": "code",
   "execution_count": 7,
   "metadata": {},
   "outputs": [],
   "source": [
    "#create a dataframes for scores\n",
    "scores = pd.DataFrame(columns=['s_g1','s_g2','c_g1','c_g2', 'j_g1', 'j_g2', 'm_g1', 'm_g2'])"
   ]
  },
  {
   "cell_type": "code",
   "execution_count": 8,
   "metadata": {},
   "outputs": [],
   "source": [
    "#version is 's' for single player and 'j' for joint\n",
    "def call_get_score(df, version):\n",
    "    p1_g1 = get_score(df, 1, 1)\n",
    "    p1_g2 = get_score(df, 1, 2)\n",
    "    p1_score_diff = p1_g2 - p1_g1\n",
    "    if version == 'j':\n",
    "        p1_g1 = get_score(df, 1, 1)\n",
    "        p1_g2 = get_score(df, 1, 2)\n",
    "        p1_score_diff = p1_g2 - p1_g1\n",
    "        p2_g1 = get_score(df, 2, 1)\n",
    "        p2_g2 = get_score(df, 2, 2)\n",
    "        p2_score_diff = p2_g2 - p2_g1\n",
    "        return p1_g1, p1_g2, p2_g1, p2_g2, p1_score_diff, p2_score_diff\n",
    "    if version == 'm':\n",
    "        p1_g1 = get_score(df, 1, 1)\n",
    "        p1_g2 = get_score(df, 1, 2)\n",
    "        p1_score_diff = p1_g2 - p1_g1\n",
    "        p2_g1 = get_score(df, 2, 1)\n",
    "        p2_g2 = get_score(df, 2, 2)\n",
    "        p2_score_diff = p2_g2 - p2_g1\n",
    "        return p1_g1, p1_g2, p2_g1, p2_g2, p1_score_diff, p2_score_diff\n",
    "    return p1_g1, p1_g2, p1_score_diff"
   ]
  },
  {
   "cell_type": "code",
   "execution_count": 9,
   "metadata": {},
   "outputs": [],
   "source": [
    "#separate data frames for p1 and p2 \n",
    "def separate_df(df, version):\n",
    "    #df.set_index(df['trial'])\n",
    "    df_p1 = df[df['player'] == 1]\n",
    "    df_p1_g1 = df_p1[df['game number'] == 1]\n",
    "    df_p1_g2 = df_p1[df['game number'] == 2]\n",
    "    \n",
    "    #remove trials for g1\n",
    "    df_p1_g1 = df_p1_g1[20:40]\n",
    "    #remove trials for g2\n",
    "    df_p1_g2 = df_p1_g2[20:40]\n",
    "    \n",
    "    if version == 's':\n",
    "        return df_p1_g1, df_p1_g2\n",
    "    if version == 'c':\n",
    "        return df_p1_g1, df_p1_g2\n",
    "    df_p2 = df[df['player'] ==2 ]\n",
    "    df_p2_g1 = df_p2[df['game number'] == 1]\n",
    "    df_p2_g2 = df_p2[df['game number'] == 2]\n",
    "    \n",
    "    #remove trials for g1\n",
    "    df_p2_g1 = df_p2_g1[20:40]\n",
    "    #remove trials for g2\n",
    "    df_p2_g2= df_p2_g2[20:40]\n",
    "    \n",
    "    return df_p1_g1, df_p1_g2, df_p2_g1, df_p2_g2"
   ]
  },
  {
   "cell_type": "code",
   "execution_count": 10,
   "metadata": {},
   "outputs": [],
   "source": [
    "#notes from Binghong:\n",
    "\n",
    "#see reshape to restrict csv file size\n",
    "#https://docs.scipy.org/doc/numpy-1.15.1/reference/generated/numpy.reshape.html ",
    "\n",
    "#https://pandas.pydata.org/pandas-docs/stable/reference/api/pandas.DataFrame.html\n",
    "#https://www.w3schools.com/python/numpy_array_shape.asp ",
    "\n",
    "#https://stackoverflow.com/\n",
    "\n",
    "#use drop to filter data frames or cut\n",
    "#Df=df[20:]\n",
    "\n",
    "#https://pandas.pydata.org/pandas-docs/stable/reference/api/pandas.DataFrame.drop.html ",
    "\n",
    "#drop columns, python, df"
   ]
  },
  {
   "cell_type": "markdown",
   "metadata": {},
   "source": [
    "# Single Player Analysis"
   ]
  },
  {
   "cell_type": "code",
   "execution_count": 11,
   "metadata": {},
   "outputs": [
    {
     "data": {
      "text/html": [
       "<div>\n",
       "<style scoped>\n",
       "    .dataframe tbody tr th:only-of-type {\n",
       "        vertical-align: middle;\n",
       "    }\n",
       "\n",
       "    .dataframe tbody tr th {\n",
       "        vertical-align: top;\n",
       "    }\n",
       "\n",
       "    .dataframe thead th {\n",
       "        text-align: right;\n",
       "    }\n",
       "</style>\n",
       "<table border=\"1\" class=\"dataframe\">\n",
       "  <thead>\n",
       "    <tr style=\"text-align: right;\">\n",
       "      <th></th>\n",
       "      <th>game number</th>\n",
       "      <th>trial</th>\n",
       "      <th>player</th>\n",
       "      <th>arm</th>\n",
       "      <th>probability</th>\n",
       "      <th>P1 score</th>\n",
       "      <th>P2 score</th>\n",
       "    </tr>\n",
       "  </thead>\n",
       "  <tbody>\n",
       "    <tr>\n",
       "      <td>0</td>\n",
       "      <td>1</td>\n",
       "      <td>1</td>\n",
       "      <td>1</td>\n",
       "      <td>2</td>\n",
       "      <td>30</td>\n",
       "      <td>1</td>\n",
       "      <td>0</td>\n",
       "    </tr>\n",
       "    <tr>\n",
       "      <td>1</td>\n",
       "      <td>1</td>\n",
       "      <td>1</td>\n",
       "      <td>2</td>\n",
       "      <td>1</td>\n",
       "      <td>90</td>\n",
       "      <td>1</td>\n",
       "      <td>1</td>\n",
       "    </tr>\n",
       "    <tr>\n",
       "      <td>2</td>\n",
       "      <td>1</td>\n",
       "      <td>2</td>\n",
       "      <td>1</td>\n",
       "      <td>3</td>\n",
       "      <td>60</td>\n",
       "      <td>2</td>\n",
       "      <td>1</td>\n",
       "    </tr>\n",
       "    <tr>\n",
       "      <td>3</td>\n",
       "      <td>1</td>\n",
       "      <td>2</td>\n",
       "      <td>2</td>\n",
       "      <td>1</td>\n",
       "      <td>90</td>\n",
       "      <td>2</td>\n",
       "      <td>2</td>\n",
       "    </tr>\n",
       "    <tr>\n",
       "      <td>4</td>\n",
       "      <td>1</td>\n",
       "      <td>3</td>\n",
       "      <td>1</td>\n",
       "      <td>2</td>\n",
       "      <td>30</td>\n",
       "      <td>2</td>\n",
       "      <td>2</td>\n",
       "    </tr>\n",
       "  </tbody>\n",
       "</table>\n",
       "</div>"
      ],
      "text/plain": [
       "   game number  trial  player  arm  probability  P1 score  P2 score\n",
       "0            1      1       1    2           30         1         0\n",
       "1            1      1       2    1           90         1         1\n",
       "2            1      2       1    3           60         2         1\n",
       "3            1      2       2    1           90         2         2\n",
       "4            1      3       1    2           30         2         2"
      ]
     },
     "execution_count": 11,
     "metadata": {},
     "output_type": "execute_result"
    }
   ],
   "source": [
    "#in the s files, p2 is the confederate\n",
    "df = organize_trial_by_trial('data/s01_gamedata.csv')\n",
    "s01 = df\n",
    "s01_p1_g1_score,s01_p1_g2_score,s01_score_diff = call_get_score(s01, 's')\n",
    "s01.head()"
   ]
  },
  {
   "cell_type": "code",
   "execution_count": 12,
   "metadata": {},
   "outputs": [],
   "source": [
    "#in the s files, p2 is the confederate\n",
    "#df = organize_trial_by_trial('data/s02_gamedata.csv')\n",
    "#s02 = df\n",
    "#s02_p1_g1_score = get_score(s02, 1, 1)\n",
    "#s02.head()"
   ]
  },
  {
   "cell_type": "code",
   "execution_count": 13,
   "metadata": {
    "scrolled": true
   },
   "outputs": [
    {
     "data": {
      "text/html": [
       "<div>\n",
       "<style scoped>\n",
       "    .dataframe tbody tr th:only-of-type {\n",
       "        vertical-align: middle;\n",
       "    }\n",
       "\n",
       "    .dataframe tbody tr th {\n",
       "        vertical-align: top;\n",
       "    }\n",
       "\n",
       "    .dataframe thead th {\n",
       "        text-align: right;\n",
       "    }\n",
       "</style>\n",
       "<table border=\"1\" class=\"dataframe\">\n",
       "  <thead>\n",
       "    <tr style=\"text-align: right;\">\n",
       "      <th></th>\n",
       "      <th>game number</th>\n",
       "      <th>trial</th>\n",
       "      <th>player</th>\n",
       "      <th>arm</th>\n",
       "      <th>probability</th>\n",
       "      <th>P1 score</th>\n",
       "      <th>P2 score</th>\n",
       "    </tr>\n",
       "  </thead>\n",
       "  <tbody>\n",
       "    <tr>\n",
       "      <td>0</td>\n",
       "      <td>1</td>\n",
       "      <td>1</td>\n",
       "      <td>1</td>\n",
       "      <td>3</td>\n",
       "      <td>30</td>\n",
       "      <td>0</td>\n",
       "      <td>0</td>\n",
       "    </tr>\n",
       "    <tr>\n",
       "      <td>1</td>\n",
       "      <td>1</td>\n",
       "      <td>1</td>\n",
       "      <td>2</td>\n",
       "      <td>1</td>\n",
       "      <td>90</td>\n",
       "      <td>0</td>\n",
       "      <td>1</td>\n",
       "    </tr>\n",
       "    <tr>\n",
       "      <td>2</td>\n",
       "      <td>1</td>\n",
       "      <td>2</td>\n",
       "      <td>1</td>\n",
       "      <td>2</td>\n",
       "      <td>60</td>\n",
       "      <td>1</td>\n",
       "      <td>1</td>\n",
       "    </tr>\n",
       "    <tr>\n",
       "      <td>3</td>\n",
       "      <td>1</td>\n",
       "      <td>2</td>\n",
       "      <td>2</td>\n",
       "      <td>1</td>\n",
       "      <td>90</td>\n",
       "      <td>1</td>\n",
       "      <td>2</td>\n",
       "    </tr>\n",
       "    <tr>\n",
       "      <td>4</td>\n",
       "      <td>1</td>\n",
       "      <td>3</td>\n",
       "      <td>1</td>\n",
       "      <td>1</td>\n",
       "      <td>90</td>\n",
       "      <td>2</td>\n",
       "      <td>2</td>\n",
       "    </tr>\n",
       "  </tbody>\n",
       "</table>\n",
       "</div>"
      ],
      "text/plain": [
       "   game number  trial  player  arm  probability  P1 score  P2 score\n",
       "0            1      1       1    3           30         0         0\n",
       "1            1      1       2    1           90         0         1\n",
       "2            1      2       1    2           60         1         1\n",
       "3            1      2       2    1           90         1         2\n",
       "4            1      3       1    1           90         2         2"
      ]
     },
     "execution_count": 13,
     "metadata": {},
     "output_type": "execute_result"
    }
   ],
   "source": [
    "#in the s files, p2 is the confederate\n",
    "df = organize_trial_by_trial('data/s03_gamedata.csv')\n",
    "s03 = df\n",
    "s03_p1_g1_score,s03_p1_g2_score,s03_score_diff = call_get_score(s03, 's')\n",
    "s03.head()"
   ]
  },
  {
   "cell_type": "code",
   "execution_count": 14,
   "metadata": {},
   "outputs": [
    {
     "data": {
      "text/html": [
       "<div>\n",
       "<style scoped>\n",
       "    .dataframe tbody tr th:only-of-type {\n",
       "        vertical-align: middle;\n",
       "    }\n",
       "\n",
       "    .dataframe tbody tr th {\n",
       "        vertical-align: top;\n",
       "    }\n",
       "\n",
       "    .dataframe thead th {\n",
       "        text-align: right;\n",
       "    }\n",
       "</style>\n",
       "<table border=\"1\" class=\"dataframe\">\n",
       "  <thead>\n",
       "    <tr style=\"text-align: right;\">\n",
       "      <th></th>\n",
       "      <th>game number</th>\n",
       "      <th>trial</th>\n",
       "      <th>player</th>\n",
       "      <th>arm</th>\n",
       "      <th>probability</th>\n",
       "      <th>P1 score</th>\n",
       "      <th>P2 score</th>\n",
       "    </tr>\n",
       "  </thead>\n",
       "  <tbody>\n",
       "    <tr>\n",
       "      <td>0</td>\n",
       "      <td>1</td>\n",
       "      <td>1</td>\n",
       "      <td>1</td>\n",
       "      <td>2</td>\n",
       "      <td>30</td>\n",
       "      <td>1</td>\n",
       "      <td>0</td>\n",
       "    </tr>\n",
       "    <tr>\n",
       "      <td>1</td>\n",
       "      <td>1</td>\n",
       "      <td>1</td>\n",
       "      <td>2</td>\n",
       "      <td>1</td>\n",
       "      <td>90</td>\n",
       "      <td>1</td>\n",
       "      <td>1</td>\n",
       "    </tr>\n",
       "    <tr>\n",
       "      <td>2</td>\n",
       "      <td>1</td>\n",
       "      <td>2</td>\n",
       "      <td>1</td>\n",
       "      <td>3</td>\n",
       "      <td>90</td>\n",
       "      <td>2</td>\n",
       "      <td>1</td>\n",
       "    </tr>\n",
       "    <tr>\n",
       "      <td>3</td>\n",
       "      <td>1</td>\n",
       "      <td>2</td>\n",
       "      <td>2</td>\n",
       "      <td>1</td>\n",
       "      <td>90</td>\n",
       "      <td>2</td>\n",
       "      <td>2</td>\n",
       "    </tr>\n",
       "    <tr>\n",
       "      <td>4</td>\n",
       "      <td>1</td>\n",
       "      <td>3</td>\n",
       "      <td>1</td>\n",
       "      <td>3</td>\n",
       "      <td>90</td>\n",
       "      <td>3</td>\n",
       "      <td>2</td>\n",
       "    </tr>\n",
       "  </tbody>\n",
       "</table>\n",
       "</div>"
      ],
      "text/plain": [
       "   game number  trial  player  arm  probability  P1 score  P2 score\n",
       "0            1      1       1    2           30         1         0\n",
       "1            1      1       2    1           90         1         1\n",
       "2            1      2       1    3           90         2         1\n",
       "3            1      2       2    1           90         2         2\n",
       "4            1      3       1    3           90         3         2"
      ]
     },
     "execution_count": 14,
     "metadata": {},
     "output_type": "execute_result"
    }
   ],
   "source": [
    "#in the s files, p2 is the confederate\n",
    "df = organize_trial_by_trial('data/s05_gamedata.csv')\n",
    "s05 = df\n",
    "s05_p1_g1_score,s05_p1_g2_score,s05_score_diff = call_get_score(s05, 's')\n",
    "s05.head()"
   ]
  },
  {
   "cell_type": "code",
   "execution_count": 15,
   "metadata": {},
   "outputs": [
    {
     "data": {
      "text/html": [
       "<div>\n",
       "<style scoped>\n",
       "    .dataframe tbody tr th:only-of-type {\n",
       "        vertical-align: middle;\n",
       "    }\n",
       "\n",
       "    .dataframe tbody tr th {\n",
       "        vertical-align: top;\n",
       "    }\n",
       "\n",
       "    .dataframe thead th {\n",
       "        text-align: right;\n",
       "    }\n",
       "</style>\n",
       "<table border=\"1\" class=\"dataframe\">\n",
       "  <thead>\n",
       "    <tr style=\"text-align: right;\">\n",
       "      <th></th>\n",
       "      <th>game number</th>\n",
       "      <th>trial</th>\n",
       "      <th>player</th>\n",
       "      <th>arm</th>\n",
       "      <th>probability</th>\n",
       "      <th>P1 score</th>\n",
       "      <th>P2 score</th>\n",
       "    </tr>\n",
       "  </thead>\n",
       "  <tbody>\n",
       "    <tr>\n",
       "      <td>0</td>\n",
       "      <td>1</td>\n",
       "      <td>1</td>\n",
       "      <td>1</td>\n",
       "      <td>3</td>\n",
       "      <td>90</td>\n",
       "      <td>1</td>\n",
       "      <td>0</td>\n",
       "    </tr>\n",
       "    <tr>\n",
       "      <td>1</td>\n",
       "      <td>1</td>\n",
       "      <td>1</td>\n",
       "      <td>2</td>\n",
       "      <td>1</td>\n",
       "      <td>90</td>\n",
       "      <td>1</td>\n",
       "      <td>1</td>\n",
       "    </tr>\n",
       "    <tr>\n",
       "      <td>2</td>\n",
       "      <td>1</td>\n",
       "      <td>2</td>\n",
       "      <td>1</td>\n",
       "      <td>2</td>\n",
       "      <td>60</td>\n",
       "      <td>1</td>\n",
       "      <td>1</td>\n",
       "    </tr>\n",
       "    <tr>\n",
       "      <td>3</td>\n",
       "      <td>1</td>\n",
       "      <td>2</td>\n",
       "      <td>2</td>\n",
       "      <td>1</td>\n",
       "      <td>90</td>\n",
       "      <td>1</td>\n",
       "      <td>2</td>\n",
       "    </tr>\n",
       "    <tr>\n",
       "      <td>4</td>\n",
       "      <td>1</td>\n",
       "      <td>3</td>\n",
       "      <td>1</td>\n",
       "      <td>3</td>\n",
       "      <td>90</td>\n",
       "      <td>2</td>\n",
       "      <td>2</td>\n",
       "    </tr>\n",
       "  </tbody>\n",
       "</table>\n",
       "</div>"
      ],
      "text/plain": [
       "   game number  trial  player  arm  probability  P1 score  P2 score\n",
       "0            1      1       1    3           90         1         0\n",
       "1            1      1       2    1           90         1         1\n",
       "2            1      2       1    2           60         1         1\n",
       "3            1      2       2    1           90         1         2\n",
       "4            1      3       1    3           90         2         2"
      ]
     },
     "execution_count": 15,
     "metadata": {},
     "output_type": "execute_result"
    }
   ],
   "source": [
    "#in the s files, p2 is the confederate\n",
    "df = organize_trial_by_trial('data/s06_gamedata.csv')\n",
    "s06 = df\n",
    "s06_p1_g1_score,s06_p1_g2_score,s06_score_diff = call_get_score(s06, 's')\n",
    "s06.head()"
   ]
  },
  {
   "cell_type": "code",
   "execution_count": 16,
   "metadata": {},
   "outputs": [
    {
     "data": {
      "text/html": [
       "<div>\n",
       "<style scoped>\n",
       "    .dataframe tbody tr th:only-of-type {\n",
       "        vertical-align: middle;\n",
       "    }\n",
       "\n",
       "    .dataframe tbody tr th {\n",
       "        vertical-align: top;\n",
       "    }\n",
       "\n",
       "    .dataframe thead th {\n",
       "        text-align: right;\n",
       "    }\n",
       "</style>\n",
       "<table border=\"1\" class=\"dataframe\">\n",
       "  <thead>\n",
       "    <tr style=\"text-align: right;\">\n",
       "      <th></th>\n",
       "      <th>game number</th>\n",
       "      <th>trial</th>\n",
       "      <th>player</th>\n",
       "      <th>arm</th>\n",
       "      <th>probability</th>\n",
       "      <th>P1 score</th>\n",
       "      <th>P2 score</th>\n",
       "    </tr>\n",
       "  </thead>\n",
       "  <tbody>\n",
       "    <tr>\n",
       "      <td>0</td>\n",
       "      <td>1</td>\n",
       "      <td>1</td>\n",
       "      <td>1</td>\n",
       "      <td>3</td>\n",
       "      <td>60</td>\n",
       "      <td>0</td>\n",
       "      <td>0</td>\n",
       "    </tr>\n",
       "    <tr>\n",
       "      <td>1</td>\n",
       "      <td>1</td>\n",
       "      <td>1</td>\n",
       "      <td>2</td>\n",
       "      <td>1</td>\n",
       "      <td>90</td>\n",
       "      <td>0</td>\n",
       "      <td>1</td>\n",
       "    </tr>\n",
       "    <tr>\n",
       "      <td>2</td>\n",
       "      <td>1</td>\n",
       "      <td>2</td>\n",
       "      <td>1</td>\n",
       "      <td>3</td>\n",
       "      <td>60</td>\n",
       "      <td>1</td>\n",
       "      <td>1</td>\n",
       "    </tr>\n",
       "    <tr>\n",
       "      <td>3</td>\n",
       "      <td>1</td>\n",
       "      <td>2</td>\n",
       "      <td>2</td>\n",
       "      <td>1</td>\n",
       "      <td>90</td>\n",
       "      <td>1</td>\n",
       "      <td>2</td>\n",
       "    </tr>\n",
       "    <tr>\n",
       "      <td>4</td>\n",
       "      <td>1</td>\n",
       "      <td>3</td>\n",
       "      <td>1</td>\n",
       "      <td>1</td>\n",
       "      <td>90</td>\n",
       "      <td>1</td>\n",
       "      <td>2</td>\n",
       "    </tr>\n",
       "  </tbody>\n",
       "</table>\n",
       "</div>"
      ],
      "text/plain": [
       "   game number  trial  player  arm  probability  P1 score  P2 score\n",
       "0            1      1       1    3           60         0         0\n",
       "1            1      1       2    1           90         0         1\n",
       "2            1      2       1    3           60         1         1\n",
       "3            1      2       2    1           90         1         2\n",
       "4            1      3       1    1           90         1         2"
      ]
     },
     "execution_count": 16,
     "metadata": {},
     "output_type": "execute_result"
    }
   ],
   "source": [
    "#in the s files, p2 is the confederate\n",
    "df = organize_trial_by_trial('data/s07_gamedata.csv')\n",
    "s07 = df\n",
    "s07_p1_g1_score,s07_p1_g2_score,s07_score_diff = call_get_score(s07, 's')\n",
    "s07.head()"
   ]
  },
  {
   "cell_type": "code",
   "execution_count": 17,
   "metadata": {},
   "outputs": [],
   "source": [
    "pd.set_option('display.max_columns', None)  "
   ]
  },
  {
   "cell_type": "code",
   "execution_count": 18,
   "metadata": {},
   "outputs": [
    {
     "data": {
      "text/html": [
       "<div>\n",
       "<style scoped>\n",
       "    .dataframe tbody tr th:only-of-type {\n",
       "        vertical-align: middle;\n",
       "    }\n",
       "\n",
       "    .dataframe tbody tr th {\n",
       "        vertical-align: top;\n",
       "    }\n",
       "\n",
       "    .dataframe thead th {\n",
       "        text-align: right;\n",
       "    }\n",
       "</style>\n",
       "<table border=\"1\" class=\"dataframe\">\n",
       "  <thead>\n",
       "    <tr style=\"text-align: right;\">\n",
       "      <th></th>\n",
       "      <th>game number</th>\n",
       "      <th>trial</th>\n",
       "      <th>player</th>\n",
       "      <th>arm</th>\n",
       "      <th>probability</th>\n",
       "      <th>P1 score</th>\n",
       "      <th>P2 score</th>\n",
       "    </tr>\n",
       "  </thead>\n",
       "  <tbody>\n",
       "    <tr>\n",
       "      <td>0</td>\n",
       "      <td>1</td>\n",
       "      <td>1</td>\n",
       "      <td>1</td>\n",
       "      <td>1</td>\n",
       "      <td>30</td>\n",
       "      <td>0</td>\n",
       "      <td>0</td>\n",
       "    </tr>\n",
       "    <tr>\n",
       "      <td>1</td>\n",
       "      <td>1</td>\n",
       "      <td>1</td>\n",
       "      <td>2</td>\n",
       "      <td>1</td>\n",
       "      <td>90</td>\n",
       "      <td>0</td>\n",
       "      <td>1</td>\n",
       "    </tr>\n",
       "    <tr>\n",
       "      <td>2</td>\n",
       "      <td>1</td>\n",
       "      <td>2</td>\n",
       "      <td>1</td>\n",
       "      <td>2</td>\n",
       "      <td>90</td>\n",
       "      <td>1</td>\n",
       "      <td>1</td>\n",
       "    </tr>\n",
       "    <tr>\n",
       "      <td>3</td>\n",
       "      <td>1</td>\n",
       "      <td>2</td>\n",
       "      <td>2</td>\n",
       "      <td>1</td>\n",
       "      <td>90</td>\n",
       "      <td>1</td>\n",
       "      <td>2</td>\n",
       "    </tr>\n",
       "    <tr>\n",
       "      <td>4</td>\n",
       "      <td>1</td>\n",
       "      <td>3</td>\n",
       "      <td>1</td>\n",
       "      <td>2</td>\n",
       "      <td>90</td>\n",
       "      <td>2</td>\n",
       "      <td>2</td>\n",
       "    </tr>\n",
       "  </tbody>\n",
       "</table>\n",
       "</div>"
      ],
      "text/plain": [
       "   game number  trial  player  arm  probability  P1 score  P2 score\n",
       "0            1      1       1    1           30         0         0\n",
       "1            1      1       2    1           90         0         1\n",
       "2            1      2       1    2           90         1         1\n",
       "3            1      2       2    1           90         1         2\n",
       "4            1      3       1    2           90         2         2"
      ]
     },
     "execution_count": 18,
     "metadata": {},
     "output_type": "execute_result"
    }
   ],
   "source": [
    "#in the s files, p2 is the confederate\n",
    "df = organize_trial_by_trial('data/s08_gamedata.csv')\n",
    "s08 = df\n",
    "s08_p1_g1_score,s08_p1_g2_score,s08_score_diff = call_get_score(s08, 's')\n",
    "s08.head()"
   ]
  },
  {
   "cell_type": "code",
   "execution_count": 19,
   "metadata": {},
   "outputs": [
    {
     "data": {
      "text/html": [
       "<div>\n",
       "<style scoped>\n",
       "    .dataframe tbody tr th:only-of-type {\n",
       "        vertical-align: middle;\n",
       "    }\n",
       "\n",
       "    .dataframe tbody tr th {\n",
       "        vertical-align: top;\n",
       "    }\n",
       "\n",
       "    .dataframe thead th {\n",
       "        text-align: right;\n",
       "    }\n",
       "</style>\n",
       "<table border=\"1\" class=\"dataframe\">\n",
       "  <thead>\n",
       "    <tr style=\"text-align: right;\">\n",
       "      <th></th>\n",
       "      <th>game number</th>\n",
       "      <th>trial</th>\n",
       "      <th>player</th>\n",
       "      <th>arm</th>\n",
       "      <th>probability</th>\n",
       "      <th>P1 score</th>\n",
       "      <th>P2 score</th>\n",
       "    </tr>\n",
       "  </thead>\n",
       "  <tbody>\n",
       "    <tr>\n",
       "      <td>0</td>\n",
       "      <td>1</td>\n",
       "      <td>1</td>\n",
       "      <td>1</td>\n",
       "      <td>3</td>\n",
       "      <td>60</td>\n",
       "      <td>1</td>\n",
       "      <td>0</td>\n",
       "    </tr>\n",
       "    <tr>\n",
       "      <td>1</td>\n",
       "      <td>1</td>\n",
       "      <td>1</td>\n",
       "      <td>2</td>\n",
       "      <td>1</td>\n",
       "      <td>90</td>\n",
       "      <td>1</td>\n",
       "      <td>1</td>\n",
       "    </tr>\n",
       "    <tr>\n",
       "      <td>2</td>\n",
       "      <td>1</td>\n",
       "      <td>2</td>\n",
       "      <td>1</td>\n",
       "      <td>3</td>\n",
       "      <td>60</td>\n",
       "      <td>2</td>\n",
       "      <td>1</td>\n",
       "    </tr>\n",
       "    <tr>\n",
       "      <td>3</td>\n",
       "      <td>1</td>\n",
       "      <td>2</td>\n",
       "      <td>2</td>\n",
       "      <td>1</td>\n",
       "      <td>90</td>\n",
       "      <td>2</td>\n",
       "      <td>1</td>\n",
       "    </tr>\n",
       "    <tr>\n",
       "      <td>4</td>\n",
       "      <td>1</td>\n",
       "      <td>3</td>\n",
       "      <td>1</td>\n",
       "      <td>1</td>\n",
       "      <td>90</td>\n",
       "      <td>3</td>\n",
       "      <td>1</td>\n",
       "    </tr>\n",
       "  </tbody>\n",
       "</table>\n",
       "</div>"
      ],
      "text/plain": [
       "   game number  trial  player  arm  probability  P1 score  P2 score\n",
       "0            1      1       1    3           60         1         0\n",
       "1            1      1       2    1           90         1         1\n",
       "2            1      2       1    3           60         2         1\n",
       "3            1      2       2    1           90         2         1\n",
       "4            1      3       1    1           90         3         1"
      ]
     },
     "execution_count": 19,
     "metadata": {},
     "output_type": "execute_result"
    }
   ],
   "source": [
    "#in the s files, p2 is the confederate\n",
    "df = organize_trial_by_trial('data/s09_gamedata.csv')\n",
    "s09 = df\n",
    "s09_p1_g1_score,s09_p1_g2_score,s09_score_diff = call_get_score(s09, 's')\n",
    "s09.head()"
   ]
  },
  {
   "cell_type": "code",
   "execution_count": 20,
   "metadata": {},
   "outputs": [
    {
     "data": {
      "text/html": [
       "<div>\n",
       "<style scoped>\n",
       "    .dataframe tbody tr th:only-of-type {\n",
       "        vertical-align: middle;\n",
       "    }\n",
       "\n",
       "    .dataframe tbody tr th {\n",
       "        vertical-align: top;\n",
       "    }\n",
       "\n",
       "    .dataframe thead th {\n",
       "        text-align: right;\n",
       "    }\n",
       "</style>\n",
       "<table border=\"1\" class=\"dataframe\">\n",
       "  <thead>\n",
       "    <tr style=\"text-align: right;\">\n",
       "      <th></th>\n",
       "      <th>game number</th>\n",
       "      <th>trial</th>\n",
       "      <th>player</th>\n",
       "      <th>arm</th>\n",
       "      <th>probability</th>\n",
       "      <th>P1 score</th>\n",
       "      <th>P2 score</th>\n",
       "    </tr>\n",
       "  </thead>\n",
       "  <tbody>\n",
       "    <tr>\n",
       "      <td>1</td>\n",
       "      <td>1</td>\n",
       "      <td>1</td>\n",
       "      <td>2</td>\n",
       "      <td>0</td>\n",
       "      <td>90</td>\n",
       "      <td>1</td>\n",
       "      <td>0</td>\n",
       "    </tr>\n",
       "    <tr>\n",
       "      <td>2</td>\n",
       "      <td>1</td>\n",
       "      <td>2</td>\n",
       "      <td>1</td>\n",
       "      <td>1</td>\n",
       "      <td>30</td>\n",
       "      <td>1</td>\n",
       "      <td>1</td>\n",
       "    </tr>\n",
       "    <tr>\n",
       "      <td>3</td>\n",
       "      <td>1</td>\n",
       "      <td>2</td>\n",
       "      <td>2</td>\n",
       "      <td>0</td>\n",
       "      <td>90</td>\n",
       "      <td>1</td>\n",
       "      <td>1</td>\n",
       "    </tr>\n",
       "    <tr>\n",
       "      <td>4</td>\n",
       "      <td>1</td>\n",
       "      <td>3</td>\n",
       "      <td>1</td>\n",
       "      <td>2</td>\n",
       "      <td>60</td>\n",
       "      <td>1</td>\n",
       "      <td>2</td>\n",
       "    </tr>\n",
       "    <tr>\n",
       "      <td>5</td>\n",
       "      <td>1</td>\n",
       "      <td>3</td>\n",
       "      <td>2</td>\n",
       "      <td>0</td>\n",
       "      <td>90</td>\n",
       "      <td>2</td>\n",
       "      <td>2</td>\n",
       "    </tr>\n",
       "  </tbody>\n",
       "</table>\n",
       "</div>"
      ],
      "text/plain": [
       "   game number  trial  player  arm  probability  P1 score  P2 score\n",
       "1            1      1       2    0           90         1         0\n",
       "2            1      2       1    1           30         1         1\n",
       "3            1      2       2    0           90         1         1\n",
       "4            1      3       1    2           60         1         2\n",
       "5            1      3       2    0           90         2         2"
      ]
     },
     "execution_count": 20,
     "metadata": {},
     "output_type": "execute_result"
    }
   ],
   "source": [
    "#in the s files, p2 is the confederate\n",
    "df = organize_trial_by_trial_floatclick('data/s11_gamedata.csv')\n",
    "s11 = df\n",
    "s11_p1_g1_score,s11_p1_g2_score,s11_score_diff = call_get_score(s11, 's')\n",
    "s11.head()"
   ]
  },
  {
   "cell_type": "code",
   "execution_count": 21,
   "metadata": {},
   "outputs": [
    {
     "data": {
      "text/html": [
       "<div>\n",
       "<style scoped>\n",
       "    .dataframe tbody tr th:only-of-type {\n",
       "        vertical-align: middle;\n",
       "    }\n",
       "\n",
       "    .dataframe tbody tr th {\n",
       "        vertical-align: top;\n",
       "    }\n",
       "\n",
       "    .dataframe thead th {\n",
       "        text-align: right;\n",
       "    }\n",
       "</style>\n",
       "<table border=\"1\" class=\"dataframe\">\n",
       "  <thead>\n",
       "    <tr style=\"text-align: right;\">\n",
       "      <th></th>\n",
       "      <th>game number</th>\n",
       "      <th>trial</th>\n",
       "      <th>player</th>\n",
       "      <th>arm</th>\n",
       "      <th>probability</th>\n",
       "      <th>P1 score</th>\n",
       "      <th>P2 score</th>\n",
       "    </tr>\n",
       "  </thead>\n",
       "  <tbody>\n",
       "    <tr>\n",
       "      <td>0</td>\n",
       "      <td>1</td>\n",
       "      <td>1</td>\n",
       "      <td>1</td>\n",
       "      <td>1</td>\n",
       "      <td>90</td>\n",
       "      <td>1</td>\n",
       "      <td>0</td>\n",
       "    </tr>\n",
       "    <tr>\n",
       "      <td>1</td>\n",
       "      <td>1</td>\n",
       "      <td>1</td>\n",
       "      <td>2</td>\n",
       "      <td>1</td>\n",
       "      <td>90</td>\n",
       "      <td>1</td>\n",
       "      <td>1</td>\n",
       "    </tr>\n",
       "    <tr>\n",
       "      <td>2</td>\n",
       "      <td>1</td>\n",
       "      <td>2</td>\n",
       "      <td>1</td>\n",
       "      <td>3</td>\n",
       "      <td>30</td>\n",
       "      <td>1</td>\n",
       "      <td>1</td>\n",
       "    </tr>\n",
       "    <tr>\n",
       "      <td>3</td>\n",
       "      <td>1</td>\n",
       "      <td>2</td>\n",
       "      <td>2</td>\n",
       "      <td>2</td>\n",
       "      <td>60</td>\n",
       "      <td>1</td>\n",
       "      <td>2</td>\n",
       "    </tr>\n",
       "    <tr>\n",
       "      <td>4</td>\n",
       "      <td>1</td>\n",
       "      <td>3</td>\n",
       "      <td>1</td>\n",
       "      <td>1</td>\n",
       "      <td>90</td>\n",
       "      <td>2</td>\n",
       "      <td>2</td>\n",
       "    </tr>\n",
       "  </tbody>\n",
       "</table>\n",
       "</div>"
      ],
      "text/plain": [
       "   game number  trial  player  arm  probability  P1 score  P2 score\n",
       "0            1      1       1    1           90         1         0\n",
       "1            1      1       2    1           90         1         1\n",
       "2            1      2       1    3           30         1         1\n",
       "3            1      2       2    2           60         1         2\n",
       "4            1      3       1    1           90         2         2"
      ]
     },
     "execution_count": 21,
     "metadata": {},
     "output_type": "execute_result"
    }
   ],
   "source": [
    "#in the s files, p2 is the confederate\n",
    "df = organize_trial_by_trial_300('data/s12_gamedata.csv')\n",
    "s12 = df\n",
    "s12_p1_g1_score,s12_p1_g2_score,s12_score_diff = call_get_score(s12, 's')\n",
    "s12.head()"
   ]
  },
  {
   "cell_type": "code",
   "execution_count": 22,
   "metadata": {},
   "outputs": [
    {
     "data": {
      "text/html": [
       "<div>\n",
       "<style scoped>\n",
       "    .dataframe tbody tr th:only-of-type {\n",
       "        vertical-align: middle;\n",
       "    }\n",
       "\n",
       "    .dataframe tbody tr th {\n",
       "        vertical-align: top;\n",
       "    }\n",
       "\n",
       "    .dataframe thead th {\n",
       "        text-align: right;\n",
       "    }\n",
       "</style>\n",
       "<table border=\"1\" class=\"dataframe\">\n",
       "  <thead>\n",
       "    <tr style=\"text-align: right;\">\n",
       "      <th></th>\n",
       "      <th>game number</th>\n",
       "      <th>trial</th>\n",
       "      <th>player</th>\n",
       "      <th>arm</th>\n",
       "      <th>probability</th>\n",
       "      <th>P1 score</th>\n",
       "      <th>P2 score</th>\n",
       "    </tr>\n",
       "  </thead>\n",
       "  <tbody>\n",
       "    <tr>\n",
       "      <td>1</td>\n",
       "      <td>1</td>\n",
       "      <td>1</td>\n",
       "      <td>2</td>\n",
       "      <td>0</td>\n",
       "      <td>90</td>\n",
       "      <td>1</td>\n",
       "      <td>0</td>\n",
       "    </tr>\n",
       "    <tr>\n",
       "      <td>2</td>\n",
       "      <td>1</td>\n",
       "      <td>2</td>\n",
       "      <td>1</td>\n",
       "      <td>1</td>\n",
       "      <td>30</td>\n",
       "      <td>1</td>\n",
       "      <td>1</td>\n",
       "    </tr>\n",
       "    <tr>\n",
       "      <td>3</td>\n",
       "      <td>1</td>\n",
       "      <td>2</td>\n",
       "      <td>2</td>\n",
       "      <td>0</td>\n",
       "      <td>90</td>\n",
       "      <td>1</td>\n",
       "      <td>1</td>\n",
       "    </tr>\n",
       "    <tr>\n",
       "      <td>4</td>\n",
       "      <td>1</td>\n",
       "      <td>3</td>\n",
       "      <td>1</td>\n",
       "      <td>2</td>\n",
       "      <td>90</td>\n",
       "      <td>1</td>\n",
       "      <td>2</td>\n",
       "    </tr>\n",
       "    <tr>\n",
       "      <td>5</td>\n",
       "      <td>1</td>\n",
       "      <td>3</td>\n",
       "      <td>2</td>\n",
       "      <td>0</td>\n",
       "      <td>90</td>\n",
       "      <td>2</td>\n",
       "      <td>2</td>\n",
       "    </tr>\n",
       "  </tbody>\n",
       "</table>\n",
       "</div>"
      ],
      "text/plain": [
       "   game number  trial  player  arm  probability  P1 score  P2 score\n",
       "1            1      1       2    0           90         1         0\n",
       "2            1      2       1    1           30         1         1\n",
       "3            1      2       2    0           90         1         1\n",
       "4            1      3       1    2           90         1         2\n",
       "5            1      3       2    0           90         2         2"
      ]
     },
     "execution_count": 22,
     "metadata": {},
     "output_type": "execute_result"
    }
   ],
   "source": [
    "#in the s files, p2 is the confederate\n",
    "df = organize_trial_by_trial_floatclick('data/s15_gamedata.csv')\n",
    "s15 = df\n",
    "s15_p1_g1_score,s15_p1_g2_score,s15_score_diff = call_get_score(s15, 's')\n",
    "s15.head()"
   ]
  },
  {
   "cell_type": "code",
   "execution_count": 23,
   "metadata": {},
   "outputs": [
    {
     "data": {
      "text/html": [
       "<div>\n",
       "<style scoped>\n",
       "    .dataframe tbody tr th:only-of-type {\n",
       "        vertical-align: middle;\n",
       "    }\n",
       "\n",
       "    .dataframe tbody tr th {\n",
       "        vertical-align: top;\n",
       "    }\n",
       "\n",
       "    .dataframe thead th {\n",
       "        text-align: right;\n",
       "    }\n",
       "</style>\n",
       "<table border=\"1\" class=\"dataframe\">\n",
       "  <thead>\n",
       "    <tr style=\"text-align: right;\">\n",
       "      <th></th>\n",
       "      <th>game number</th>\n",
       "      <th>trial</th>\n",
       "      <th>player</th>\n",
       "      <th>arm</th>\n",
       "      <th>probability</th>\n",
       "      <th>P1 score</th>\n",
       "      <th>P2 score</th>\n",
       "    </tr>\n",
       "  </thead>\n",
       "  <tbody>\n",
       "    <tr>\n",
       "      <td>1</td>\n",
       "      <td>1</td>\n",
       "      <td>1</td>\n",
       "      <td>2</td>\n",
       "      <td>0</td>\n",
       "      <td>90</td>\n",
       "      <td>1</td>\n",
       "      <td>0</td>\n",
       "    </tr>\n",
       "    <tr>\n",
       "      <td>2</td>\n",
       "      <td>1</td>\n",
       "      <td>2</td>\n",
       "      <td>1</td>\n",
       "      <td>3</td>\n",
       "      <td>60</td>\n",
       "      <td>1</td>\n",
       "      <td>1</td>\n",
       "    </tr>\n",
       "    <tr>\n",
       "      <td>3</td>\n",
       "      <td>1</td>\n",
       "      <td>2</td>\n",
       "      <td>2</td>\n",
       "      <td>0</td>\n",
       "      <td>90</td>\n",
       "      <td>2</td>\n",
       "      <td>1</td>\n",
       "    </tr>\n",
       "    <tr>\n",
       "      <td>4</td>\n",
       "      <td>1</td>\n",
       "      <td>3</td>\n",
       "      <td>1</td>\n",
       "      <td>1</td>\n",
       "      <td>90</td>\n",
       "      <td>2</td>\n",
       "      <td>2</td>\n",
       "    </tr>\n",
       "    <tr>\n",
       "      <td>5</td>\n",
       "      <td>1</td>\n",
       "      <td>3</td>\n",
       "      <td>2</td>\n",
       "      <td>0</td>\n",
       "      <td>90</td>\n",
       "      <td>3</td>\n",
       "      <td>2</td>\n",
       "    </tr>\n",
       "  </tbody>\n",
       "</table>\n",
       "</div>"
      ],
      "text/plain": [
       "   game number  trial  player  arm  probability  P1 score  P2 score\n",
       "1            1      1       2    0           90         1         0\n",
       "2            1      2       1    3           60         1         1\n",
       "3            1      2       2    0           90         2         1\n",
       "4            1      3       1    1           90         2         2\n",
       "5            1      3       2    0           90         3         2"
      ]
     },
     "execution_count": 23,
     "metadata": {},
     "output_type": "execute_result"
    }
   ],
   "source": [
    "#in the s files, p2 is the confederate\n",
    "df = organize_trial_by_trial_floatclick('data/s16_gamedata.csv')\n",
    "s16 = df\n",
    "s16_p1_g1_score,s16_p1_g2_score,s16_score_diff = call_get_score(s16, 's')\n",
    "s16.head()"
   ]
  },
  {
   "cell_type": "code",
   "execution_count": 24,
   "metadata": {},
   "outputs": [
    {
     "data": {
      "text/html": [
       "<div>\n",
       "<style scoped>\n",
       "    .dataframe tbody tr th:only-of-type {\n",
       "        vertical-align: middle;\n",
       "    }\n",
       "\n",
       "    .dataframe tbody tr th {\n",
       "        vertical-align: top;\n",
       "    }\n",
       "\n",
       "    .dataframe thead th {\n",
       "        text-align: right;\n",
       "    }\n",
       "</style>\n",
       "<table border=\"1\" class=\"dataframe\">\n",
       "  <thead>\n",
       "    <tr style=\"text-align: right;\">\n",
       "      <th></th>\n",
       "      <th>game number</th>\n",
       "      <th>trial</th>\n",
       "      <th>player</th>\n",
       "      <th>arm</th>\n",
       "      <th>probability</th>\n",
       "      <th>P1 score</th>\n",
       "      <th>P2 score</th>\n",
       "    </tr>\n",
       "  </thead>\n",
       "  <tbody>\n",
       "    <tr>\n",
       "      <td>0</td>\n",
       "      <td>1</td>\n",
       "      <td>1</td>\n",
       "      <td>1</td>\n",
       "      <td>2</td>\n",
       "      <td>60</td>\n",
       "      <td>1</td>\n",
       "      <td>0</td>\n",
       "    </tr>\n",
       "    <tr>\n",
       "      <td>1</td>\n",
       "      <td>1</td>\n",
       "      <td>1</td>\n",
       "      <td>2</td>\n",
       "      <td>1</td>\n",
       "      <td>90</td>\n",
       "      <td>1</td>\n",
       "      <td>0</td>\n",
       "    </tr>\n",
       "    <tr>\n",
       "      <td>2</td>\n",
       "      <td>1</td>\n",
       "      <td>2</td>\n",
       "      <td>1</td>\n",
       "      <td>1</td>\n",
       "      <td>90</td>\n",
       "      <td>2</td>\n",
       "      <td>0</td>\n",
       "    </tr>\n",
       "    <tr>\n",
       "      <td>3</td>\n",
       "      <td>1</td>\n",
       "      <td>2</td>\n",
       "      <td>2</td>\n",
       "      <td>1</td>\n",
       "      <td>90</td>\n",
       "      <td>2</td>\n",
       "      <td>1</td>\n",
       "    </tr>\n",
       "    <tr>\n",
       "      <td>4</td>\n",
       "      <td>1</td>\n",
       "      <td>3</td>\n",
       "      <td>1</td>\n",
       "      <td>3</td>\n",
       "      <td>30</td>\n",
       "      <td>2</td>\n",
       "      <td>1</td>\n",
       "    </tr>\n",
       "  </tbody>\n",
       "</table>\n",
       "</div>"
      ],
      "text/plain": [
       "   game number  trial  player  arm  probability  P1 score  P2 score\n",
       "0            1      1       1    2           60         1         0\n",
       "1            1      1       2    1           90         1         0\n",
       "2            1      2       1    1           90         2         0\n",
       "3            1      2       2    1           90         2         1\n",
       "4            1      3       1    3           30         2         1"
      ]
     },
     "execution_count": 24,
     "metadata": {},
     "output_type": "execute_result"
    }
   ],
   "source": [
    "#in the s files, p2 is the confederate\n",
    "df = organize_trial_by_trial_300('data/s19_gamedata.csv')\n",
    "s19 = df\n",
    "s19_p1_g1_score,s19_p1_g2_score,s19_score_diff = call_get_score(s19, 's')\n",
    "s19.head()"
   ]
  },
  {
   "cell_type": "code",
   "execution_count": 25,
   "metadata": {},
   "outputs": [
    {
     "data": {
      "text/html": [
       "<div>\n",
       "<style scoped>\n",
       "    .dataframe tbody tr th:only-of-type {\n",
       "        vertical-align: middle;\n",
       "    }\n",
       "\n",
       "    .dataframe tbody tr th {\n",
       "        vertical-align: top;\n",
       "    }\n",
       "\n",
       "    .dataframe thead th {\n",
       "        text-align: right;\n",
       "    }\n",
       "</style>\n",
       "<table border=\"1\" class=\"dataframe\">\n",
       "  <thead>\n",
       "    <tr style=\"text-align: right;\">\n",
       "      <th></th>\n",
       "      <th>game number</th>\n",
       "      <th>trial</th>\n",
       "      <th>player</th>\n",
       "      <th>arm</th>\n",
       "      <th>probability</th>\n",
       "      <th>P1 score</th>\n",
       "      <th>P2 score</th>\n",
       "    </tr>\n",
       "  </thead>\n",
       "  <tbody>\n",
       "    <tr>\n",
       "      <td>1</td>\n",
       "      <td>1</td>\n",
       "      <td>1</td>\n",
       "      <td>2</td>\n",
       "      <td>0</td>\n",
       "      <td>90</td>\n",
       "      <td>1</td>\n",
       "      <td>0</td>\n",
       "    </tr>\n",
       "    <tr>\n",
       "      <td>2</td>\n",
       "      <td>1</td>\n",
       "      <td>2</td>\n",
       "      <td>1</td>\n",
       "      <td>3</td>\n",
       "      <td>60</td>\n",
       "      <td>1</td>\n",
       "      <td>1</td>\n",
       "    </tr>\n",
       "    <tr>\n",
       "      <td>3</td>\n",
       "      <td>1</td>\n",
       "      <td>2</td>\n",
       "      <td>2</td>\n",
       "      <td>0</td>\n",
       "      <td>90</td>\n",
       "      <td>1</td>\n",
       "      <td>1</td>\n",
       "    </tr>\n",
       "    <tr>\n",
       "      <td>4</td>\n",
       "      <td>1</td>\n",
       "      <td>3</td>\n",
       "      <td>1</td>\n",
       "      <td>2</td>\n",
       "      <td>90</td>\n",
       "      <td>1</td>\n",
       "      <td>2</td>\n",
       "    </tr>\n",
       "    <tr>\n",
       "      <td>5</td>\n",
       "      <td>1</td>\n",
       "      <td>3</td>\n",
       "      <td>2</td>\n",
       "      <td>0</td>\n",
       "      <td>90</td>\n",
       "      <td>2</td>\n",
       "      <td>2</td>\n",
       "    </tr>\n",
       "  </tbody>\n",
       "</table>\n",
       "</div>"
      ],
      "text/plain": [
       "   game number  trial  player  arm  probability  P1 score  P2 score\n",
       "1            1      1       2    0           90         1         0\n",
       "2            1      2       1    3           60         1         1\n",
       "3            1      2       2    0           90         1         1\n",
       "4            1      3       1    2           90         1         2\n",
       "5            1      3       2    0           90         2         2"
      ]
     },
     "execution_count": 25,
     "metadata": {},
     "output_type": "execute_result"
    }
   ],
   "source": [
    "#in the s files, p2 is the confederate\n",
    "df = organize_trial_by_trial_floatclick('data/s17_gamedata.csv')\n",
    "s17 = df\n",
    "s17_p1_g1_score,s17_p1_g2_score,s17_score_diff = call_get_score(s17, 's')\n",
    "s17.head()"
   ]
  },
  {
   "cell_type": "code",
   "execution_count": 26,
   "metadata": {},
   "outputs": [
    {
     "data": {
      "text/html": [
       "<div>\n",
       "<style scoped>\n",
       "    .dataframe tbody tr th:only-of-type {\n",
       "        vertical-align: middle;\n",
       "    }\n",
       "\n",
       "    .dataframe tbody tr th {\n",
       "        vertical-align: top;\n",
       "    }\n",
       "\n",
       "    .dataframe thead th {\n",
       "        text-align: right;\n",
       "    }\n",
       "</style>\n",
       "<table border=\"1\" class=\"dataframe\">\n",
       "  <thead>\n",
       "    <tr style=\"text-align: right;\">\n",
       "      <th></th>\n",
       "      <th>game number</th>\n",
       "      <th>trial</th>\n",
       "      <th>player</th>\n",
       "      <th>arm</th>\n",
       "      <th>probability</th>\n",
       "      <th>P1 score</th>\n",
       "      <th>P2 score</th>\n",
       "    </tr>\n",
       "  </thead>\n",
       "  <tbody>\n",
       "    <tr>\n",
       "      <td>1</td>\n",
       "      <td>1</td>\n",
       "      <td>1</td>\n",
       "      <td>2</td>\n",
       "      <td>0</td>\n",
       "      <td>90</td>\n",
       "      <td>1</td>\n",
       "      <td>0</td>\n",
       "    </tr>\n",
       "    <tr>\n",
       "      <td>2</td>\n",
       "      <td>1</td>\n",
       "      <td>2</td>\n",
       "      <td>1</td>\n",
       "      <td>2</td>\n",
       "      <td>60</td>\n",
       "      <td>1</td>\n",
       "      <td>1</td>\n",
       "    </tr>\n",
       "    <tr>\n",
       "      <td>3</td>\n",
       "      <td>1</td>\n",
       "      <td>2</td>\n",
       "      <td>2</td>\n",
       "      <td>0</td>\n",
       "      <td>90</td>\n",
       "      <td>2</td>\n",
       "      <td>1</td>\n",
       "    </tr>\n",
       "    <tr>\n",
       "      <td>4</td>\n",
       "      <td>1</td>\n",
       "      <td>3</td>\n",
       "      <td>1</td>\n",
       "      <td>3</td>\n",
       "      <td>30</td>\n",
       "      <td>2</td>\n",
       "      <td>2</td>\n",
       "    </tr>\n",
       "    <tr>\n",
       "      <td>5</td>\n",
       "      <td>1</td>\n",
       "      <td>3</td>\n",
       "      <td>2</td>\n",
       "      <td>0</td>\n",
       "      <td>90</td>\n",
       "      <td>3</td>\n",
       "      <td>2</td>\n",
       "    </tr>\n",
       "  </tbody>\n",
       "</table>\n",
       "</div>"
      ],
      "text/plain": [
       "   game number  trial  player  arm  probability  P1 score  P2 score\n",
       "1            1      1       2    0           90         1         0\n",
       "2            1      2       1    2           60         1         1\n",
       "3            1      2       2    0           90         2         1\n",
       "4            1      3       1    3           30         2         2\n",
       "5            1      3       2    0           90         3         2"
      ]
     },
     "execution_count": 26,
     "metadata": {},
     "output_type": "execute_result"
    }
   ],
   "source": [
    "#in the s files, p2 is the confederate\n",
    "df = organize_trial_by_trial_floatclick('data/s20_gamedata.csv')\n",
    "s20 = df\n",
    "s20_p1_g1_score,s20_p1_g2_score,s20_score_diff = call_get_score(s20, 's')\n",
    "s20.head()"
   ]
  },
  {
   "cell_type": "markdown",
   "metadata": {},
   "source": [
    "# Single score diff between G1 and G2"
   ]
  },
  {
   "cell_type": "code",
   "execution_count": 27,
   "metadata": {},
   "outputs": [],
   "source": [
    "score_diff = pd.DataFrame({'participant':['s01','s03', 's05', \n",
    "                               's06', 's07', 's08', 's09', 's11', 's12', 's15', 's16', 's17', 's19', 's20'], 'score_diff':\n",
    "     [s01_score_diff, s03_score_diff, s05_score_diff, s06_score_diff,\n",
    "      s07_score_diff, s08_score_diff, s09_score_diff, s11_score_diff, s12_score_diff, s15_score_diff, s16_score_diff, s17_score_diff, s19_score_diff, s20_score_diff]})"
   ]
  },
  {
   "cell_type": "code",
   "execution_count": 28,
   "metadata": {},
   "outputs": [
    {
     "data": {
      "text/html": [
       "<div>\n",
       "<style scoped>\n",
       "    .dataframe tbody tr th:only-of-type {\n",
       "        vertical-align: middle;\n",
       "    }\n",
       "\n",
       "    .dataframe tbody tr th {\n",
       "        vertical-align: top;\n",
       "    }\n",
       "\n",
       "    .dataframe thead th {\n",
       "        text-align: right;\n",
       "    }\n",
       "</style>\n",
       "<table border=\"1\" class=\"dataframe\">\n",
       "  <thead>\n",
       "    <tr style=\"text-align: right;\">\n",
       "      <th></th>\n",
       "      <th>participant</th>\n",
       "      <th>score_diff</th>\n",
       "    </tr>\n",
       "  </thead>\n",
       "  <tbody>\n",
       "    <tr>\n",
       "      <td>0</td>\n",
       "      <td>s01</td>\n",
       "      <td>14</td>\n",
       "    </tr>\n",
       "    <tr>\n",
       "      <td>1</td>\n",
       "      <td>s03</td>\n",
       "      <td>8</td>\n",
       "    </tr>\n",
       "    <tr>\n",
       "      <td>2</td>\n",
       "      <td>s05</td>\n",
       "      <td>11</td>\n",
       "    </tr>\n",
       "    <tr>\n",
       "      <td>3</td>\n",
       "      <td>s06</td>\n",
       "      <td>5</td>\n",
       "    </tr>\n",
       "    <tr>\n",
       "      <td>4</td>\n",
       "      <td>s07</td>\n",
       "      <td>5</td>\n",
       "    </tr>\n",
       "    <tr>\n",
       "      <td>5</td>\n",
       "      <td>s08</td>\n",
       "      <td>-10</td>\n",
       "    </tr>\n",
       "    <tr>\n",
       "      <td>6</td>\n",
       "      <td>s09</td>\n",
       "      <td>5</td>\n",
       "    </tr>\n",
       "    <tr>\n",
       "      <td>7</td>\n",
       "      <td>s11</td>\n",
       "      <td>1</td>\n",
       "    </tr>\n",
       "    <tr>\n",
       "      <td>8</td>\n",
       "      <td>s12</td>\n",
       "      <td>3</td>\n",
       "    </tr>\n",
       "    <tr>\n",
       "      <td>9</td>\n",
       "      <td>s15</td>\n",
       "      <td>15</td>\n",
       "    </tr>\n",
       "    <tr>\n",
       "      <td>10</td>\n",
       "      <td>s16</td>\n",
       "      <td>-1</td>\n",
       "    </tr>\n",
       "    <tr>\n",
       "      <td>11</td>\n",
       "      <td>s17</td>\n",
       "      <td>-11</td>\n",
       "    </tr>\n",
       "    <tr>\n",
       "      <td>12</td>\n",
       "      <td>s19</td>\n",
       "      <td>7</td>\n",
       "    </tr>\n",
       "    <tr>\n",
       "      <td>13</td>\n",
       "      <td>s20</td>\n",
       "      <td>4</td>\n",
       "    </tr>\n",
       "  </tbody>\n",
       "</table>\n",
       "</div>"
      ],
      "text/plain": [
       "   participant  score_diff\n",
       "0          s01          14\n",
       "1          s03           8\n",
       "2          s05          11\n",
       "3          s06           5\n",
       "4          s07           5\n",
       "5          s08         -10\n",
       "6          s09           5\n",
       "7          s11           1\n",
       "8          s12           3\n",
       "9          s15          15\n",
       "10         s16          -1\n",
       "11         s17         -11\n",
       "12         s19           7\n",
       "13         s20           4"
      ]
     },
     "execution_count": 28,
     "metadata": {},
     "output_type": "execute_result"
    }
   ],
   "source": [
    "score_diff"
   ]
  },
  {
   "cell_type": "code",
   "execution_count": 29,
   "metadata": {},
   "outputs": [],
   "source": [
    "score_diff_mean = score_diff['score_diff'].mean()"
   ]
  },
  {
   "cell_type": "code",
   "execution_count": 30,
   "metadata": {},
   "outputs": [
    {
     "data": {
      "text/plain": [
       "4.0"
      ]
     },
     "execution_count": 30,
     "metadata": {},
     "output_type": "execute_result"
    }
   ],
   "source": [
    "score_diff_mean"
   ]
  },
  {
   "cell_type": "markdown",
   "metadata": {},
   "source": [
    "# Single scores in G1 and G2"
   ]
  },
  {
   "cell_type": "code",
   "execution_count": 31,
   "metadata": {
    "scrolled": true
   },
   "outputs": [
    {
     "data": {
      "text/html": [
       "<div>\n",
       "<style scoped>\n",
       "    .dataframe tbody tr th:only-of-type {\n",
       "        vertical-align: middle;\n",
       "    }\n",
       "\n",
       "    .dataframe tbody tr th {\n",
       "        vertical-align: top;\n",
       "    }\n",
       "\n",
       "    .dataframe thead th {\n",
       "        text-align: right;\n",
       "    }\n",
       "</style>\n",
       "<table border=\"1\" class=\"dataframe\">\n",
       "  <thead>\n",
       "    <tr style=\"text-align: right;\">\n",
       "      <th></th>\n",
       "      <th>score_1</th>\n",
       "    </tr>\n",
       "    <tr>\n",
       "      <th>participant</th>\n",
       "      <th></th>\n",
       "    </tr>\n",
       "  </thead>\n",
       "  <tbody>\n",
       "    <tr>\n",
       "      <td>s01</td>\n",
       "      <td>60</td>\n",
       "    </tr>\n",
       "    <tr>\n",
       "      <td>s03</td>\n",
       "      <td>63</td>\n",
       "    </tr>\n",
       "    <tr>\n",
       "      <td>s05</td>\n",
       "      <td>77</td>\n",
       "    </tr>\n",
       "    <tr>\n",
       "      <td>s06</td>\n",
       "      <td>82</td>\n",
       "    </tr>\n",
       "    <tr>\n",
       "      <td>s07</td>\n",
       "      <td>63</td>\n",
       "    </tr>\n",
       "    <tr>\n",
       "      <td>s08</td>\n",
       "      <td>90</td>\n",
       "    </tr>\n",
       "    <tr>\n",
       "      <td>s09</td>\n",
       "      <td>65</td>\n",
       "    </tr>\n",
       "    <tr>\n",
       "      <td>s11</td>\n",
       "      <td>60</td>\n",
       "    </tr>\n",
       "    <tr>\n",
       "      <td>s12</td>\n",
       "      <td>83</td>\n",
       "    </tr>\n",
       "    <tr>\n",
       "      <td>s15</td>\n",
       "      <td>74</td>\n",
       "    </tr>\n",
       "    <tr>\n",
       "      <td>s16</td>\n",
       "      <td>59</td>\n",
       "    </tr>\n",
       "    <tr>\n",
       "      <td>s17</td>\n",
       "      <td>84</td>\n",
       "    </tr>\n",
       "    <tr>\n",
       "      <td>s19</td>\n",
       "      <td>72</td>\n",
       "    </tr>\n",
       "    <tr>\n",
       "      <td>s20</td>\n",
       "      <td>59</td>\n",
       "    </tr>\n",
       "  </tbody>\n",
       "</table>\n",
       "</div>"
      ],
      "text/plain": [
       "             score_1\n",
       "participant         \n",
       "s01               60\n",
       "s03               63\n",
       "s05               77\n",
       "s06               82\n",
       "s07               63\n",
       "s08               90\n",
       "s09               65\n",
       "s11               60\n",
       "s12               83\n",
       "s15               74\n",
       "s16               59\n",
       "s17               84\n",
       "s19               72\n",
       "s20               59"
      ]
     },
     "execution_count": 31,
     "metadata": {},
     "output_type": "execute_result"
    }
   ],
   "source": [
    "#list out all the scores in game 1 by participant\n",
    "s_scores_1 = pd.DataFrame({'participant':['s01','s03', 's05', \n",
    "                               's06', 's07', 's08', 's09', 's11', 's12', 's15', 's16', 's17', 's19', 's20'], 'score_1':\n",
    "     [s01_p1_g1_score, s03_p1_g1_score, s05_p1_g1_score,\n",
    "      s06_p1_g1_score, s07_p1_g1_score, s08_p1_g1_score, s09_p1_g1_score, s11_p1_g1_score, s12_p1_g1_score, s15_p1_g1_score, s16_p1_g1_score, s17_p1_g1_score, s19_p1_g1_score, s20_p1_g1_score]})\n",
    "#to prevent an extra column that numbers each row:\n",
    "s_scores_1.set_index('participant', inplace=True, drop=True)\n",
    "\n",
    "#print\n",
    "s_scores_1"
   ]
  },
  {
   "cell_type": "code",
   "execution_count": 32,
   "metadata": {},
   "outputs": [
    {
     "data": {
      "text/html": [
       "<div>\n",
       "<style scoped>\n",
       "    .dataframe tbody tr th:only-of-type {\n",
       "        vertical-align: middle;\n",
       "    }\n",
       "\n",
       "    .dataframe tbody tr th {\n",
       "        vertical-align: top;\n",
       "    }\n",
       "\n",
       "    .dataframe thead th {\n",
       "        text-align: right;\n",
       "    }\n",
       "</style>\n",
       "<table border=\"1\" class=\"dataframe\">\n",
       "  <thead>\n",
       "    <tr style=\"text-align: right;\">\n",
       "      <th></th>\n",
       "      <th>score_2</th>\n",
       "    </tr>\n",
       "    <tr>\n",
       "      <th>participant</th>\n",
       "      <th></th>\n",
       "    </tr>\n",
       "  </thead>\n",
       "  <tbody>\n",
       "    <tr>\n",
       "      <td>s01</td>\n",
       "      <td>74</td>\n",
       "    </tr>\n",
       "    <tr>\n",
       "      <td>s03</td>\n",
       "      <td>71</td>\n",
       "    </tr>\n",
       "    <tr>\n",
       "      <td>s05</td>\n",
       "      <td>88</td>\n",
       "    </tr>\n",
       "    <tr>\n",
       "      <td>s06</td>\n",
       "      <td>87</td>\n",
       "    </tr>\n",
       "    <tr>\n",
       "      <td>s07</td>\n",
       "      <td>68</td>\n",
       "    </tr>\n",
       "    <tr>\n",
       "      <td>s08</td>\n",
       "      <td>80</td>\n",
       "    </tr>\n",
       "    <tr>\n",
       "      <td>s09</td>\n",
       "      <td>70</td>\n",
       "    </tr>\n",
       "    <tr>\n",
       "      <td>s11</td>\n",
       "      <td>61</td>\n",
       "    </tr>\n",
       "    <tr>\n",
       "      <td>s12</td>\n",
       "      <td>86</td>\n",
       "    </tr>\n",
       "    <tr>\n",
       "      <td>s15</td>\n",
       "      <td>89</td>\n",
       "    </tr>\n",
       "    <tr>\n",
       "      <td>s16</td>\n",
       "      <td>58</td>\n",
       "    </tr>\n",
       "    <tr>\n",
       "      <td>s17</td>\n",
       "      <td>73</td>\n",
       "    </tr>\n",
       "    <tr>\n",
       "      <td>s19</td>\n",
       "      <td>79</td>\n",
       "    </tr>\n",
       "    <tr>\n",
       "      <td>s20</td>\n",
       "      <td>63</td>\n",
       "    </tr>\n",
       "  </tbody>\n",
       "</table>\n",
       "</div>"
      ],
      "text/plain": [
       "             score_2\n",
       "participant         \n",
       "s01               74\n",
       "s03               71\n",
       "s05               88\n",
       "s06               87\n",
       "s07               68\n",
       "s08               80\n",
       "s09               70\n",
       "s11               61\n",
       "s12               86\n",
       "s15               89\n",
       "s16               58\n",
       "s17               73\n",
       "s19               79\n",
       "s20               63"
      ]
     },
     "execution_count": 32,
     "metadata": {},
     "output_type": "execute_result"
    }
   ],
   "source": [
    "#list out all the scores in game 2 by participant\n",
    "s_scores_2 = pd.DataFrame({'participant':['s01', 's03', 's05', \n",
    "                               's06', 's07', 's08', 's09', 's11', 's12', 's15', 's16', 's17', 's19', 's20'], 'score_2':\n",
    "    [s01_p1_g2_score, s03_p1_g2_score, s05_p1_g2_score, \n",
    "s06_p1_g2_score, s07_p1_g2_score, s08_p1_g2_score, s09_p1_g2_score, s11_p1_g2_score, s12_p1_g2_score, s15_p1_g2_score, s16_p1_g2_score, s17_p1_g2_score, s19_p1_g2_score, s20_p1_g2_score]})\n",
    "\n",
    "#to prevent an extra column that numbers each row:\n",
    "s_scores_2.set_index('participant', inplace=True, drop=True)\n",
    "#s_scores_1 = pd.DataFrame(data = d1)\n",
    "#s_scores_2 = pd.DataFrame(data = d2)\n",
    "s_scores_2"
   ]
  },
  {
   "cell_type": "code",
   "execution_count": 33,
   "metadata": {},
   "outputs": [
    {
     "data": {
      "image/png": "[encoded data removed]",
      "text/plain": [
       "<Figure size 432x288 with 1 Axes>"
      ]
     },
     "metadata": {
      "needs_background": "light"
     },
     "output_type": "display_data"
    }
   ],
   "source": [
    "s_scores_1_bar = s_scores_1.plot.bar()"
   ]
  },
  {
   "cell_type": "code",
   "execution_count": 34,
   "metadata": {},
   "outputs": [
    {
     "data": {
      "image/png": "[encoded data removed]",
      "text/plain": [
       "<Figure size 432x288 with 1 Axes>"
      ]
     },
     "metadata": {
      "needs_background": "light"
     },
     "output_type": "display_data"
    }
   ],
   "source": [
    "s_scores_2_bar = s_scores_2.plot.bar()"
   ]
  },
  {
   "cell_type": "code",
   "execution_count": 35,
   "metadata": {},
   "outputs": [],
   "source": [
    "#merge both games by participant:\n",
    "s_scores = pd.merge(s_scores_1, s_scores_2,on='participant')"
   ]
  },
  {
   "cell_type": "code",
   "execution_count": 36,
   "metadata": {},
   "outputs": [],
   "source": [
    "s_scores = pd.merge(s_scores_1, s_scores_2,on='participant')\n",
    "#label columns\n",
    "s_scores.columns=['Game 1','Game 2']"
   ]
  },
  {
   "cell_type": "code",
   "execution_count": 37,
   "metadata": {},
   "outputs": [
    {
     "data": {
      "text/html": [
       "<div>\n",
       "<style scoped>\n",
       "    .dataframe tbody tr th:only-of-type {\n",
       "        vertical-align: middle;\n",
       "    }\n",
       "\n",
       "    .dataframe tbody tr th {\n",
       "        vertical-align: top;\n",
       "    }\n",
       "\n",
       "    .dataframe thead th {\n",
       "        text-align: right;\n",
       "    }\n",
       "</style>\n",
       "<table border=\"1\" class=\"dataframe\">\n",
       "  <thead>\n",
       "    <tr style=\"text-align: right;\">\n",
       "      <th></th>\n",
       "      <th>Game 1</th>\n",
       "      <th>Game 2</th>\n",
       "    </tr>\n",
       "    <tr>\n",
       "      <th>participant</th>\n",
       "      <th></th>\n",
       "      <th></th>\n",
       "    </tr>\n",
       "  </thead>\n",
       "  <tbody>\n",
       "    <tr>\n",
       "      <td>s01</td>\n",
       "      <td>60</td>\n",
       "      <td>74</td>\n",
       "    </tr>\n",
       "    <tr>\n",
       "      <td>s03</td>\n",
       "      <td>63</td>\n",
       "      <td>71</td>\n",
       "    </tr>\n",
       "    <tr>\n",
       "      <td>s05</td>\n",
       "      <td>77</td>\n",
       "      <td>88</td>\n",
       "    </tr>\n",
       "    <tr>\n",
       "      <td>s06</td>\n",
       "      <td>82</td>\n",
       "      <td>87</td>\n",
       "    </tr>\n",
       "    <tr>\n",
       "      <td>s07</td>\n",
       "      <td>63</td>\n",
       "      <td>68</td>\n",
       "    </tr>\n",
       "    <tr>\n",
       "      <td>s08</td>\n",
       "      <td>90</td>\n",
       "      <td>80</td>\n",
       "    </tr>\n",
       "    <tr>\n",
       "      <td>s09</td>\n",
       "      <td>65</td>\n",
       "      <td>70</td>\n",
       "    </tr>\n",
       "    <tr>\n",
       "      <td>s11</td>\n",
       "      <td>60</td>\n",
       "      <td>61</td>\n",
       "    </tr>\n",
       "    <tr>\n",
       "      <td>s12</td>\n",
       "      <td>83</td>\n",
       "      <td>86</td>\n",
       "    </tr>\n",
       "    <tr>\n",
       "      <td>s15</td>\n",
       "      <td>74</td>\n",
       "      <td>89</td>\n",
       "    </tr>\n",
       "    <tr>\n",
       "      <td>s16</td>\n",
       "      <td>59</td>\n",
       "      <td>58</td>\n",
       "    </tr>\n",
       "    <tr>\n",
       "      <td>s17</td>\n",
       "      <td>84</td>\n",
       "      <td>73</td>\n",
       "    </tr>\n",
       "    <tr>\n",
       "      <td>s19</td>\n",
       "      <td>72</td>\n",
       "      <td>79</td>\n",
       "    </tr>\n",
       "    <tr>\n",
       "      <td>s20</td>\n",
       "      <td>59</td>\n",
       "      <td>63</td>\n",
       "    </tr>\n",
       "  </tbody>\n",
       "</table>\n",
       "</div>"
      ],
      "text/plain": [
       "             Game 1  Game 2\n",
       "participant                \n",
       "s01              60      74\n",
       "s03              63      71\n",
       "s05              77      88\n",
       "s06              82      87\n",
       "s07              63      68\n",
       "s08              90      80\n",
       "s09              65      70\n",
       "s11              60      61\n",
       "s12              83      86\n",
       "s15              74      89\n",
       "s16              59      58\n",
       "s17              84      73\n",
       "s19              72      79\n",
       "s20              59      63"
      ]
     },
     "execution_count": 37,
     "metadata": {},
     "output_type": "execute_result"
    }
   ],
   "source": [
    "s_scores"
   ]
  },
  {
   "cell_type": "code",
   "execution_count": 38,
   "metadata": {},
   "outputs": [
    {
     "data": {
      "text/plain": [
       "([<matplotlib.axis.YTick at 0x1a2503e5d0>,\n",
       "  <matplotlib.axis.YTick at 0x1a2503bcd0>,\n",
       "  <matplotlib.axis.YTick at 0x1a24fb2450>,\n",
       "  <matplotlib.axis.YTick at 0x1a25069350>,\n",
       "  <matplotlib.axis.YTick at 0x1a25056dd0>,\n",
       "  <matplotlib.axis.YTick at 0x1a25094350>],\n",
       " <a list of 6 Text yticklabel objects>)"
      ]
     },
     "execution_count": 38,
     "metadata": {},
     "output_type": "execute_result"
    },
    {
     "data": {
      "image/png": "[encoded data removed]",
      "text/plain": [
       "<Figure size 432x288 with 1 Axes>"
      ]
     },
     "metadata": {
      "needs_background": "light"
     },
     "output_type": "display_data"
    }
   ],
   "source": [
    "s_scores_box = s_scores.boxplot(labels=['Game 1','Game 2'])\n",
    "plt.grid(b=None)\n",
    "plt.yticks(np.arange(50, 105, step=10))"
   ]
  },
  {
   "cell_type": "code",
   "execution_count": 39,
   "metadata": {},
   "outputs": [
    {
     "data": {
      "image/png": "[encoded data removed]",
      "text/plain": [
       "<Figure size 432x288 with 1 Axes>"
      ]
     },
     "metadata": {
      "needs_background": "light"
     },
     "output_type": "display_data"
    }
   ],
   "source": [
    "s_scores_box = sns.boxplot( \n",
    "                 data=s_scores, \n",
    "                 width=0.5,\n",
    "                 palette=\"pastel\")\n",
    "s_scores_box.axes.set_title(\"Single Player Scores\",\n",
    "                    fontsize=16)\n",
    "\n",
    "plot_file_name=\"s_score_box.jpg\"\n",
    " \n",
    "plt.ylim(0, 100)\n",
    "s_scores_box.axes.set(ylabel='Score')\n",
    "\n",
    "# save as jpeg\n",
    "s_scores_box.figure.savefig(plot_file_name,\n",
    "                    format='jpeg',\n",
    "                    dpi=100)"
   ]
  },
  {
   "cell_type": "code",
   "execution_count": 40,
   "metadata": {},
   "outputs": [],
   "source": [
    "s_scores_p = sp.stats.ttest_rel(s_scores['Game 1'],s_scores['Game 2'])"
   ]
  },
  {
   "cell_type": "code",
   "execution_count": 41,
   "metadata": {},
   "outputs": [
    {
     "data": {
      "text/plain": [
       "Ttest_relResult(statistic=-1.96521473776207, pvalue=0.07112499604880738)"
      ]
     },
     "execution_count": 41,
     "metadata": {},
     "output_type": "execute_result"
    }
   ],
   "source": [
    "s_scores_p"
   ]
  },
  {
   "cell_type": "code",
   "execution_count": 42,
   "metadata": {},
   "outputs": [
    {
     "data": {
      "image/png": "[encoded data removed]",
      "text/plain": [
       "<Figure size 432x288 with 1 Axes>"
      ]
     },
     "metadata": {
      "needs_background": "light"
     },
     "output_type": "display_data"
    }
   ],
   "source": [
    "s_scores_2_bar = s_scores_2.plot.bar()"
   ]
  },
  {
   "cell_type": "code",
   "execution_count": 43,
   "metadata": {},
   "outputs": [
    {
     "name": "stderr",
     "output_type": "stream",
     "text": [
      "/Users/simonefroley/opt/anaconda3/lib/python3.7/site-packages/pandas/core/frame.py:7123: FutureWarning: Sorting because non-concatenation axis is not aligned. A future version\n",
      "of pandas will change to not sort by default.\n",
      "\n",
      "To accept the future behavior, pass 'sort=False'.\n",
      "\n",
      "To retain the current behavior and silence the warning, pass 'sort=True'.\n",
      "\n",
      "  sort=sort,\n"
     ]
    }
   ],
   "source": [
    "#combine g1 and g2 to one dataframe\n",
    "s_combo = s_scores_1.append(s_scores_2)"
   ]
  },
  {
   "cell_type": "code",
   "execution_count": 44,
   "metadata": {},
   "outputs": [
    {
     "data": {
      "text/plain": [
       "\"s_combo = pd.DataFrame({'participant':['s01', 's01', 's03', 's03','s05', 's05'\\n                              's06', 's06','s07','s07','s08','s08','s09','s09', 's11', 's11', 's12', 's12', 's15', 's15', 's16', 's16', 's17', 's17', 's19', 's19', 's20', 's20'], 'score':\\n     [s01_p1_g1_score, s01_p1_g2_score, s02_p1_g1_score, s03_p1_g1_score, s03_p1_g2_score, s05_p1_g1_score,\\n      s05_p1_g2_score,s06_p1_g1_score,s06_p1_g2_score, s07_p1_g1_score,s07_p1_g2_score, s08_p1_g1_score,s08_p1_g2_score,\\n      s09_p1_g1_score, s09_p1_g2_score, s11_p1_g1_score, s11_p1_g2_score, s12_p1_g1_score, s12_p1_g2_score, s15_p1_g1_score, s15_p1_g2_score, s16_p1_g1_score, s16_p1_g2_score, s17_p1_g1_score, s17_p1_g2_score, s19_p1_g1_score, s19_p1_g2_score, s20_p1_g1_score, s20_p1_g2_score]})\\ns_combo.set_index('participant', inplace=True, drop=True)\""
      ]
     },
     "execution_count": 44,
     "metadata": {},
     "output_type": "execute_result"
    }
   ],
   "source": [
    "'''s_combo = pd.DataFrame({'participant':['s01', 's01', 's03', 's03','s05', 's05'\n",
    "                              's06', 's06','s07','s07','s08','s08','s09','s09', 's11', 's11', 's12', 's12', 's15', 's15', 's16', 's16', 's17', 's17', 's19', 's19', 's20', 's20'], 'score':\n",
    "     [s01_p1_g1_score, s01_p1_g2_score, s02_p1_g1_score, s03_p1_g1_score, s03_p1_g2_score, s05_p1_g1_score,\n",
    "      s05_p1_g2_score,s06_p1_g1_score,s06_p1_g2_score, s07_p1_g1_score,s07_p1_g2_score, s08_p1_g1_score,s08_p1_g2_score,\n",
    "      s09_p1_g1_score, s09_p1_g2_score, s11_p1_g1_score, s11_p1_g2_score, s12_p1_g1_score, s12_p1_g2_score, s15_p1_g1_score, s15_p1_g2_score, s16_p1_g1_score, s16_p1_g2_score, s17_p1_g1_score, s17_p1_g2_score, s19_p1_g1_score, s19_p1_g2_score, s20_p1_g1_score, s20_p1_g2_score]})\n",
    "s_combo.set_index('participant', inplace=True, drop=True)'''"
   ]
  },
  {
   "cell_type": "code",
   "execution_count": 45,
   "metadata": {},
   "outputs": [],
   "source": [
    "\n",
    "#new_index = ('s01_g1','s01_g2','s02_g1','s03_g1','s03_g2','s05_g1','s05_g2', \n",
    "                               #'s06_g1','s06_g2','s07_g1','s07_g2','s08_g1','s08_g2','s09_g1','s09_g2')\n",
    "#s_combo.index = new_index"
   ]
  },
  {
   "cell_type": "code",
   "execution_count": 46,
   "metadata": {},
   "outputs": [],
   "source": [
    "s_combo = s_combo.sort_values(by=['participant'])"
   ]
  },
  {
   "cell_type": "code",
   "execution_count": 47,
   "metadata": {},
   "outputs": [
    {
     "data": {
      "image/png": "[encoded data removed]",
      "text/plain": [
       "<Figure size 432x288 with 1 Axes>"
      ]
     },
     "metadata": {
      "needs_background": "light"
     },
     "output_type": "display_data"
    }
   ],
   "source": [
    "#unnecessary graph\n",
    "#need to make g1 and g2 bars diff colors\n",
    "colors = list(islice(cycle(['red','blue','red', 'red','blue','red','blue','red','blue','red','blue','red','blue','red','blue']),None,len(s_combo)))\n",
    "#my_colors = list(islice(cycle(['b', 'r', 'g', 'y', 'k']), None, len(df)))\n",
    "s_combo_bar = s_combo.plot(kind='bar',color=colors)"
   ]
  },
  {
   "cell_type": "code",
   "execution_count": 48,
   "metadata": {},
   "outputs": [],
   "source": [
    "s_scores_1_mean = s_scores_1.mean()"
   ]
  },
  {
   "cell_type": "code",
   "execution_count": 49,
   "metadata": {},
   "outputs": [
    {
     "data": {
      "text/plain": [
       "score_1    70.785714\n",
       "dtype: float64"
      ]
     },
     "execution_count": 49,
     "metadata": {},
     "output_type": "execute_result"
    }
   ],
   "source": [
    "s_scores_1_mean"
   ]
  },
  {
   "cell_type": "code",
   "execution_count": 50,
   "metadata": {},
   "outputs": [],
   "source": [
    "s_scores_1_std = s_scores_1.std()"
   ]
  },
  {
   "cell_type": "code",
   "execution_count": 51,
   "metadata": {},
   "outputs": [
    {
     "data": {
      "text/plain": [
       "score_1    10.864045\n",
       "dtype: float64"
      ]
     },
     "execution_count": 51,
     "metadata": {},
     "output_type": "execute_result"
    }
   ],
   "source": [
    "s_scores_1_std"
   ]
  },
  {
   "cell_type": "code",
   "execution_count": 52,
   "metadata": {},
   "outputs": [],
   "source": [
    "s_scores_2_mean = s_scores_2.mean()"
   ]
  },
  {
   "cell_type": "code",
   "execution_count": 53,
   "metadata": {},
   "outputs": [
    {
     "data": {
      "text/plain": [
       "score_2    74.785714\n",
       "dtype: float64"
      ]
     },
     "execution_count": 53,
     "metadata": {},
     "output_type": "execute_result"
    }
   ],
   "source": [
    "s_scores_2_mean"
   ]
  },
  {
   "cell_type": "code",
   "execution_count": 54,
   "metadata": {},
   "outputs": [],
   "source": [
    "s_scores_2_std = s_scores_2.std()"
   ]
  },
  {
   "cell_type": "code",
   "execution_count": 55,
   "metadata": {},
   "outputs": [
    {
     "data": {
      "text/plain": [
       "score_2    10.356555\n",
       "dtype: float64"
      ]
     },
     "execution_count": 55,
     "metadata": {},
     "output_type": "execute_result"
    }
   ],
   "source": [
    "s_scores_2_std"
   ]
  },
  {
   "cell_type": "code",
   "execution_count": 56,
   "metadata": {},
   "outputs": [
    {
     "data": {
      "text/plain": [
       "Game 1    68.5\n",
       "Game 2    73.5\n",
       "dtype: float64"
      ]
     },
     "execution_count": 56,
     "metadata": {},
     "output_type": "execute_result"
    }
   ],
   "source": [
    "s_scores_med = s_scores.median()\n",
    "s_scores_med"
   ]
  },
  {
   "cell_type": "markdown",
   "metadata": {},
   "source": [
    "# Single choice probabilities"
   ]
  },
  {
   "cell_type": "code",
   "execution_count": 57,
   "metadata": {},
   "outputs": [
    {
     "name": "stderr",
     "output_type": "stream",
     "text": [
      "/Users/simonefroley/opt/anaconda3/lib/python3.7/site-packages/ipykernel_launcher.py:5: UserWarning: Boolean Series key will be reindexed to match DataFrame index.\n",
      "  \"\"\"\n",
      "/Users/simonefroley/opt/anaconda3/lib/python3.7/site-packages/ipykernel_launcher.py:6: UserWarning: Boolean Series key will be reindexed to match DataFrame index.\n",
      "  \n"
     ]
    }
   ],
   "source": [
    "s01_p1_g1, s01_p1_g2 = separate_df(s01, 's')"
   ]
  },
  {
   "cell_type": "code",
   "execution_count": 58,
   "metadata": {},
   "outputs": [
    {
     "data": {
      "text/html": [
       "<div>\n",
       "<style scoped>\n",
       "    .dataframe tbody tr th:only-of-type {\n",
       "        vertical-align: middle;\n",
       "    }\n",
       "\n",
       "    .dataframe tbody tr th {\n",
       "        vertical-align: top;\n",
       "    }\n",
       "\n",
       "    .dataframe thead th {\n",
       "        text-align: right;\n",
       "    }\n",
       "</style>\n",
       "<table border=\"1\" class=\"dataframe\">\n",
       "  <thead>\n",
       "    <tr style=\"text-align: right;\">\n",
       "      <th></th>\n",
       "      <th>game number</th>\n",
       "      <th>trial</th>\n",
       "      <th>player</th>\n",
       "      <th>arm</th>\n",
       "      <th>probability</th>\n",
       "      <th>P1 score</th>\n",
       "      <th>P2 score</th>\n",
       "    </tr>\n",
       "  </thead>\n",
       "  <tbody>\n",
       "    <tr>\n",
       "      <td>240</td>\n",
       "      <td>2</td>\n",
       "      <td>21</td>\n",
       "      <td>1</td>\n",
       "      <td>2</td>\n",
       "      <td>90</td>\n",
       "      <td>14</td>\n",
       "      <td>18</td>\n",
       "    </tr>\n",
       "    <tr>\n",
       "      <td>242</td>\n",
       "      <td>2</td>\n",
       "      <td>22</td>\n",
       "      <td>1</td>\n",
       "      <td>3</td>\n",
       "      <td>30</td>\n",
       "      <td>15</td>\n",
       "      <td>19</td>\n",
       "    </tr>\n",
       "    <tr>\n",
       "      <td>244</td>\n",
       "      <td>2</td>\n",
       "      <td>23</td>\n",
       "      <td>1</td>\n",
       "      <td>3</td>\n",
       "      <td>30</td>\n",
       "      <td>16</td>\n",
       "      <td>20</td>\n",
       "    </tr>\n",
       "    <tr>\n",
       "      <td>246</td>\n",
       "      <td>2</td>\n",
       "      <td>24</td>\n",
       "      <td>1</td>\n",
       "      <td>3</td>\n",
       "      <td>30</td>\n",
       "      <td>16</td>\n",
       "      <td>21</td>\n",
       "    </tr>\n",
       "    <tr>\n",
       "      <td>248</td>\n",
       "      <td>2</td>\n",
       "      <td>25</td>\n",
       "      <td>1</td>\n",
       "      <td>2</td>\n",
       "      <td>90</td>\n",
       "      <td>17</td>\n",
       "      <td>22</td>\n",
       "    </tr>\n",
       "    <tr>\n",
       "      <td>250</td>\n",
       "      <td>2</td>\n",
       "      <td>26</td>\n",
       "      <td>1</td>\n",
       "      <td>2</td>\n",
       "      <td>90</td>\n",
       "      <td>18</td>\n",
       "      <td>23</td>\n",
       "    </tr>\n",
       "    <tr>\n",
       "      <td>252</td>\n",
       "      <td>2</td>\n",
       "      <td>27</td>\n",
       "      <td>1</td>\n",
       "      <td>2</td>\n",
       "      <td>90</td>\n",
       "      <td>19</td>\n",
       "      <td>24</td>\n",
       "    </tr>\n",
       "    <tr>\n",
       "      <td>254</td>\n",
       "      <td>2</td>\n",
       "      <td>28</td>\n",
       "      <td>1</td>\n",
       "      <td>3</td>\n",
       "      <td>30</td>\n",
       "      <td>20</td>\n",
       "      <td>25</td>\n",
       "    </tr>\n",
       "    <tr>\n",
       "      <td>256</td>\n",
       "      <td>2</td>\n",
       "      <td>29</td>\n",
       "      <td>1</td>\n",
       "      <td>2</td>\n",
       "      <td>90</td>\n",
       "      <td>21</td>\n",
       "      <td>26</td>\n",
       "    </tr>\n",
       "    <tr>\n",
       "      <td>258</td>\n",
       "      <td>2</td>\n",
       "      <td>30</td>\n",
       "      <td>1</td>\n",
       "      <td>1</td>\n",
       "      <td>60</td>\n",
       "      <td>22</td>\n",
       "      <td>27</td>\n",
       "    </tr>\n",
       "    <tr>\n",
       "      <td>260</td>\n",
       "      <td>2</td>\n",
       "      <td>31</td>\n",
       "      <td>1</td>\n",
       "      <td>2</td>\n",
       "      <td>90</td>\n",
       "      <td>23</td>\n",
       "      <td>28</td>\n",
       "    </tr>\n",
       "    <tr>\n",
       "      <td>262</td>\n",
       "      <td>2</td>\n",
       "      <td>32</td>\n",
       "      <td>1</td>\n",
       "      <td>2</td>\n",
       "      <td>90</td>\n",
       "      <td>24</td>\n",
       "      <td>29</td>\n",
       "    </tr>\n",
       "    <tr>\n",
       "      <td>264</td>\n",
       "      <td>2</td>\n",
       "      <td>33</td>\n",
       "      <td>1</td>\n",
       "      <td>3</td>\n",
       "      <td>30</td>\n",
       "      <td>24</td>\n",
       "      <td>30</td>\n",
       "    </tr>\n",
       "    <tr>\n",
       "      <td>266</td>\n",
       "      <td>2</td>\n",
       "      <td>34</td>\n",
       "      <td>1</td>\n",
       "      <td>3</td>\n",
       "      <td>30</td>\n",
       "      <td>24</td>\n",
       "      <td>31</td>\n",
       "    </tr>\n",
       "    <tr>\n",
       "      <td>268</td>\n",
       "      <td>2</td>\n",
       "      <td>35</td>\n",
       "      <td>1</td>\n",
       "      <td>3</td>\n",
       "      <td>30</td>\n",
       "      <td>25</td>\n",
       "      <td>32</td>\n",
       "    </tr>\n",
       "    <tr>\n",
       "      <td>270</td>\n",
       "      <td>2</td>\n",
       "      <td>36</td>\n",
       "      <td>1</td>\n",
       "      <td>2</td>\n",
       "      <td>90</td>\n",
       "      <td>26</td>\n",
       "      <td>32</td>\n",
       "    </tr>\n",
       "    <tr>\n",
       "      <td>272</td>\n",
       "      <td>2</td>\n",
       "      <td>37</td>\n",
       "      <td>1</td>\n",
       "      <td>3</td>\n",
       "      <td>30</td>\n",
       "      <td>26</td>\n",
       "      <td>33</td>\n",
       "    </tr>\n",
       "    <tr>\n",
       "      <td>274</td>\n",
       "      <td>2</td>\n",
       "      <td>38</td>\n",
       "      <td>1</td>\n",
       "      <td>3</td>\n",
       "      <td>30</td>\n",
       "      <td>26</td>\n",
       "      <td>34</td>\n",
       "    </tr>\n",
       "    <tr>\n",
       "      <td>276</td>\n",
       "      <td>2</td>\n",
       "      <td>39</td>\n",
       "      <td>1</td>\n",
       "      <td>1</td>\n",
       "      <td>60</td>\n",
       "      <td>26</td>\n",
       "      <td>35</td>\n",
       "    </tr>\n",
       "    <tr>\n",
       "      <td>278</td>\n",
       "      <td>2</td>\n",
       "      <td>40</td>\n",
       "      <td>1</td>\n",
       "      <td>2</td>\n",
       "      <td>90</td>\n",
       "      <td>27</td>\n",
       "      <td>35</td>\n",
       "    </tr>\n",
       "  </tbody>\n",
       "</table>\n",
       "</div>"
      ],
      "text/plain": [
       "     game number  trial  player  arm  probability  P1 score  P2 score\n",
       "240            2     21       1    2           90        14        18\n",
       "242            2     22       1    3           30        15        19\n",
       "244            2     23       1    3           30        16        20\n",
       "246            2     24       1    3           30        16        21\n",
       "248            2     25       1    2           90        17        22\n",
       "250            2     26       1    2           90        18        23\n",
       "252            2     27       1    2           90        19        24\n",
       "254            2     28       1    3           30        20        25\n",
       "256            2     29       1    2           90        21        26\n",
       "258            2     30       1    1           60        22        27\n",
       "260            2     31       1    2           90        23        28\n",
       "262            2     32       1    2           90        24        29\n",
       "264            2     33       1    3           30        24        30\n",
       "266            2     34       1    3           30        24        31\n",
       "268            2     35       1    3           30        25        32\n",
       "270            2     36       1    2           90        26        32\n",
       "272            2     37       1    3           30        26        33\n",
       "274            2     38       1    3           30        26        34\n",
       "276            2     39       1    1           60        26        35\n",
       "278            2     40       1    2           90        27        35"
      ]
     },
     "execution_count": 58,
     "metadata": {},
     "output_type": "execute_result"
    }
   ],
   "source": [
    "s01_p1_g2"
   ]
  },
  {
   "cell_type": "code",
   "execution_count": 59,
   "metadata": {},
   "outputs": [
    {
     "name": "stderr",
     "output_type": "stream",
     "text": [
      "/Users/simonefroley/opt/anaconda3/lib/python3.7/site-packages/ipykernel_launcher.py:5: UserWarning: Boolean Series key will be reindexed to match DataFrame index.\n",
      "  \"\"\"\n",
      "/Users/simonefroley/opt/anaconda3/lib/python3.7/site-packages/ipykernel_launcher.py:6: UserWarning: Boolean Series key will be reindexed to match DataFrame index.\n",
      "  \n"
     ]
    }
   ],
   "source": [
    "s01_p1_g1, s01_p1_g2 = separate_df(s01, 's')\n",
    "s03_p1_g1, s03_p1_g2 = separate_df(s03, 's')\n",
    "s05_p1_g1, s05_p1_g2 = separate_df(s05, 's')\n",
    "s06_p1_g1, s06_p1_g2 = separate_df(s06, 's')\n",
    "s07_p1_g1, s07_p1_g2 = separate_df(s07, 's')\n",
    "s08_p1_g1, s08_p1_g2 = separate_df(s08, 's')\n",
    "s09_p1_g1, s09_p1_g2 = separate_df(s09, 's')\n",
    "s11_p1_g1, s11_p1_g2 = separate_df(s11, 's')\n",
    "s12_p1_g1, s12_p1_g2 = separate_df(s12, 's')\n",
    "s15_p1_g1, s15_p1_g2 = separate_df(s15, 's')\n",
    "s16_p1_g1, s16_p1_g2 = separate_df(s16, 's')\n",
    "s17_p1_g1, s17_p1_g2 = separate_df(s17, 's')\n",
    "s19_p1_g1, s19_p1_g2 = separate_df(s19, 's')\n",
    "s20_p1_g1, s20_p1_g2 = separate_df(s20, 's')"
   ]
  },
  {
   "cell_type": "code",
   "execution_count": 60,
   "metadata": {},
   "outputs": [],
   "source": [
    "s01_p1_g1_count = s01_p1_g1['probability'].value_counts(sort=False)\n",
    "s01_p1_g2_count = s01_p1_g2['probability'].value_counts(sort=False)\n",
    "s03_p1_g1_count = s03_p1_g1['probability'].value_counts(sort=False)\n",
    "s03_p1_g2_count = s03_p1_g2['probability'].value_counts(sort=False)\n",
    "s05_p1_g1_count = s05_p1_g1['probability'].value_counts(sort=False)\n",
    "s05_p1_g2_count = s05_p1_g2['probability'].value_counts(sort=False)\n",
    "s06_p1_g1_count = s06_p1_g1['probability'].value_counts(sort=False)\n",
    "s06_p1_g2_count = s06_p1_g2['probability'].value_counts(sort=False)\n",
    "s07_p1_g1_count = s07_p1_g1['probability'].value_counts(sort=False)\n",
    "s07_p1_g2_count = s07_p1_g2['probability'].value_counts(sort=False)\n",
    "s08_p1_g1_count = s08_p1_g1['probability'].value_counts(sort=False)\n",
    "s08_p1_g2_count = s08_p1_g2['probability'].value_counts(sort=False)\n",
    "s09_p1_g1_count = s09_p1_g1['probability'].value_counts(sort=False)\n",
    "s09_p1_g2_count = s09_p1_g2['probability'].value_counts(sort=False)\n",
    "s11_p1_g1_count = s11_p1_g1['probability'].value_counts(sort=False)\n",
    "s11_p1_g2_count = s11_p1_g2['probability'].value_counts(sort=False)\n",
    "s12_p1_g1_count = s12_p1_g1['probability'].value_counts(sort=False)\n",
    "s12_p1_g2_count = s12_p1_g2['probability'].value_counts(sort=False)\n",
    "s15_p1_g1_count = s15_p1_g1['probability'].value_counts(sort=False)\n",
    "s15_p1_g2_count = s15_p1_g2['probability'].value_counts(sort=False)\n",
    "s16_p1_g1_count = s16_p1_g1['probability'].value_counts(sort=False)\n",
    "s16_p1_g2_count = s16_p1_g2['probability'].value_counts(sort=False)\n",
    "s17_p1_g1_count = s17_p1_g1['probability'].value_counts(sort=False)\n",
    "s17_p1_g2_count = s17_p1_g2['probability'].value_counts(sort=False)\n",
    "s19_p1_g1_count = s19_p1_g1['probability'].value_counts(sort=False)\n",
    "s19_p1_g2_count = s19_p1_g2['probability'].value_counts(sort=False)\n",
    "s20_p1_g1_count = s20_p1_g1['probability'].value_counts(sort=False)\n",
    "s20_p1_g2_count = s20_p1_g2['probability'].value_counts(sort=False)"
   ]
  },
  {
   "cell_type": "code",
   "execution_count": 61,
   "metadata": {},
   "outputs": [],
   "source": [
    "#to see each individual count of probabilities, print: \n",
    "#s01_p1_g1_count"
   ]
  },
  {
   "cell_type": "markdown",
   "metadata": {},
   "source": [
    "# Single choices in G1 "
   ]
  },
  {
   "cell_type": "code",
   "execution_count": 62,
   "metadata": {},
   "outputs": [],
   "source": [
    "s_g1_counts = pd.DataFrame([s01_p1_g1_count, s03_p1_g1_count, s05_p1_g1_count, s06_p1_g1_count, s07_p1_g1_count, \n",
    "                s08_p1_g1_count, s09_p1_g1_count, s11_p1_g1_count, s12_p1_g1_count, s15_p1_g1_count, s16_p1_g1_count,\n",
    "                    s17_p1_g1_count, s19_p1_g1_count, s20_p1_g1_count],\n",
    "                          index=['s01_p1_g1_count', 's03_p1_g1_count', \n",
    "                            's05_p1_g1_count', 's06_p1_g1_count', 's07_p1_g1_count', 's08_p1_g1_count', \n",
    "                                 's09_p1_g1_count', 's11_p1_g1_count', 's12_p1_g1_count', 's15_p1_g1_count', \n",
    "                                 's16_p1_g1_count','s17_p1_g1_count', 's19_p1_g1_count', 's20_p1_g1_count'])"
   ]
  },
  {
   "cell_type": "code",
   "execution_count": 63,
   "metadata": {},
   "outputs": [
    {
     "data": {
      "text/html": [
       "<div>\n",
       "<style scoped>\n",
       "    .dataframe tbody tr th:only-of-type {\n",
       "        vertical-align: middle;\n",
       "    }\n",
       "\n",
       "    .dataframe tbody tr th {\n",
       "        vertical-align: top;\n",
       "    }\n",
       "\n",
       "    .dataframe thead th {\n",
       "        text-align: right;\n",
       "    }\n",
       "</style>\n",
       "<table border=\"1\" class=\"dataframe\">\n",
       "  <thead>\n",
       "    <tr style=\"text-align: right;\">\n",
       "      <th></th>\n",
       "      <th>30</th>\n",
       "      <th>60</th>\n",
       "      <th>90</th>\n",
       "    </tr>\n",
       "  </thead>\n",
       "  <tbody>\n",
       "    <tr>\n",
       "      <td>s01_p1_g1_count</td>\n",
       "      <td>10.0</td>\n",
       "      <td>7.0</td>\n",
       "      <td>3.0</td>\n",
       "    </tr>\n",
       "    <tr>\n",
       "      <td>s03_p1_g1_count</td>\n",
       "      <td>5.0</td>\n",
       "      <td>8.0</td>\n",
       "      <td>7.0</td>\n",
       "    </tr>\n",
       "    <tr>\n",
       "      <td>s05_p1_g1_count</td>\n",
       "      <td>0.0</td>\n",
       "      <td>0.0</td>\n",
       "      <td>20.0</td>\n",
       "    </tr>\n",
       "    <tr>\n",
       "      <td>s06_p1_g1_count</td>\n",
       "      <td>1.0</td>\n",
       "      <td>0.0</td>\n",
       "      <td>19.0</td>\n",
       "    </tr>\n",
       "    <tr>\n",
       "      <td>s07_p1_g1_count</td>\n",
       "      <td>7.0</td>\n",
       "      <td>7.0</td>\n",
       "      <td>6.0</td>\n",
       "    </tr>\n",
       "    <tr>\n",
       "      <td>s08_p1_g1_count</td>\n",
       "      <td>0.0</td>\n",
       "      <td>0.0</td>\n",
       "      <td>20.0</td>\n",
       "    </tr>\n",
       "    <tr>\n",
       "      <td>s09_p1_g1_count</td>\n",
       "      <td>6.0</td>\n",
       "      <td>5.0</td>\n",
       "      <td>9.0</td>\n",
       "    </tr>\n",
       "    <tr>\n",
       "      <td>s11_p1_g1_count</td>\n",
       "      <td>7.0</td>\n",
       "      <td>5.0</td>\n",
       "      <td>8.0</td>\n",
       "    </tr>\n",
       "    <tr>\n",
       "      <td>s12_p1_g1_count</td>\n",
       "      <td>1.0</td>\n",
       "      <td>10.0</td>\n",
       "      <td>9.0</td>\n",
       "    </tr>\n",
       "    <tr>\n",
       "      <td>s15_p1_g1_count</td>\n",
       "      <td>3.0</td>\n",
       "      <td>3.0</td>\n",
       "      <td>14.0</td>\n",
       "    </tr>\n",
       "    <tr>\n",
       "      <td>s16_p1_g1_count</td>\n",
       "      <td>6.0</td>\n",
       "      <td>7.0</td>\n",
       "      <td>7.0</td>\n",
       "    </tr>\n",
       "    <tr>\n",
       "      <td>s17_p1_g1_count</td>\n",
       "      <td>0.0</td>\n",
       "      <td>0.0</td>\n",
       "      <td>20.0</td>\n",
       "    </tr>\n",
       "    <tr>\n",
       "      <td>s19_p1_g1_count</td>\n",
       "      <td>5.0</td>\n",
       "      <td>9.0</td>\n",
       "      <td>6.0</td>\n",
       "    </tr>\n",
       "    <tr>\n",
       "      <td>s20_p1_g1_count</td>\n",
       "      <td>6.0</td>\n",
       "      <td>9.0</td>\n",
       "      <td>5.0</td>\n",
       "    </tr>\n",
       "  </tbody>\n",
       "</table>\n",
       "</div>"
      ],
      "text/plain": [
       "                   30    60    90\n",
       "s01_p1_g1_count  10.0   7.0   3.0\n",
       "s03_p1_g1_count   5.0   8.0   7.0\n",
       "s05_p1_g1_count   0.0   0.0  20.0\n",
       "s06_p1_g1_count   1.0   0.0  19.0\n",
       "s07_p1_g1_count   7.0   7.0   6.0\n",
       "s08_p1_g1_count   0.0   0.0  20.0\n",
       "s09_p1_g1_count   6.0   5.0   9.0\n",
       "s11_p1_g1_count   7.0   5.0   8.0\n",
       "s12_p1_g1_count   1.0  10.0   9.0\n",
       "s15_p1_g1_count   3.0   3.0  14.0\n",
       "s16_p1_g1_count   6.0   7.0   7.0\n",
       "s17_p1_g1_count   0.0   0.0  20.0\n",
       "s19_p1_g1_count   5.0   9.0   6.0\n",
       "s20_p1_g1_count   6.0   9.0   5.0"
      ]
     },
     "execution_count": 63,
     "metadata": {},
     "output_type": "execute_result"
    }
   ],
   "source": [
    "#How to prevent NaN: df = df.fillna(0)\n",
    "s_g1_counts = s_g1_counts.fillna(0)\n",
    "\n",
    "#print\n",
    "s_g1_counts"
   ]
  },
  {
   "cell_type": "code",
   "execution_count": 64,
   "metadata": {},
   "outputs": [
    {
     "data": {
      "text/plain": [
       "s01_p1_g1_count    20.0\n",
       "s03_p1_g1_count    20.0\n",
       "s05_p1_g1_count    20.0\n",
       "s06_p1_g1_count    20.0\n",
       "s07_p1_g1_count    20.0\n",
       "s08_p1_g1_count    20.0\n",
       "s09_p1_g1_count    20.0\n",
       "s11_p1_g1_count    20.0\n",
       "s12_p1_g1_count    20.0\n",
       "s15_p1_g1_count    20.0\n",
       "s16_p1_g1_count    20.0\n",
       "s17_p1_g1_count    20.0\n",
       "s19_p1_g1_count    20.0\n",
       "s20_p1_g1_count    20.0\n",
       "dtype: float64"
      ]
     },
     "execution_count": 64,
     "metadata": {},
     "output_type": "execute_result"
    }
   ],
   "source": [
    "s_g1_counts.sum(axis=1)"
   ]
  },
  {
   "cell_type": "code",
   "execution_count": 65,
   "metadata": {
    "scrolled": true
   },
   "outputs": [
    {
     "data": {
      "image/png": "[encoded data removed]",
      "text/plain": [
       "<Figure size 432x288 with 1 Axes>"
      ]
     },
     "metadata": {
      "needs_background": "light"
     },
     "output_type": "display_data"
    }
   ],
   "source": [
    "s_g1_counts_bar = s_g1_counts.plot.bar()\n",
    "\n",
    "# save as jpeg\n",
    "s_g1_counts_bar.figure.savefig(plot_file_name,\n",
    "                    format='jpeg',\n",
    "                    dpi=100)"
   ]
  },
  {
   "cell_type": "code",
   "execution_count": 66,
   "metadata": {},
   "outputs": [
    {
     "data": {
      "image/png": "[encoded data removed]",
      "text/plain": [
       "<Figure size 432x288 with 1 Axes>"
      ]
     },
     "metadata": {
      "needs_background": "light"
     },
     "output_type": "display_data"
    }
   ],
   "source": [
    "s_g1_counts_box = sns.boxplot( \n",
    "                 data=s_g1_counts, \n",
    "                 width=0.5,\n",
    "                 palette=\"pastel\")\n",
    "s_g1_counts_box.axes.set_title(\"Single Player Choice Distributions in Game 1\",\n",
    "                    fontsize=16)\n",
    "\n",
    "plot_file_name=\"s_g1_counts_box.jpg\"\n",
    " \n",
    "plt.ylim(0, 100)\n",
    "s_g1_counts_box.axes.set(xlabel='Arm',ylabel='Frequency')\n",
    "\n",
    "# save as jpeg\n",
    "s_g1_counts_box.figure.savefig(plot_file_name,\n",
    "                    format='jpeg',\n",
    "                    dpi=100)"
   ]
  },
  {
   "cell_type": "code",
   "execution_count": 67,
   "metadata": {},
   "outputs": [],
   "source": [
    "#0 is low (30), 1 is med (60), 2 is high (90)\n",
    "s_g1_low = np.mean(s_g1_counts.iloc[:,0])\n",
    "s_g1_med = np.mean(s_g1_counts.iloc[:,1])\n",
    "s_g1_high = np.mean(s_g1_counts.iloc[:,2])"
   ]
  },
  {
   "cell_type": "code",
   "execution_count": 68,
   "metadata": {},
   "outputs": [
    {
     "data": {
      "text/plain": [
       "4.071428571428571"
      ]
     },
     "execution_count": 68,
     "metadata": {},
     "output_type": "execute_result"
    }
   ],
   "source": [
    "s_g1_low"
   ]
  },
  {
   "cell_type": "code",
   "execution_count": 69,
   "metadata": {},
   "outputs": [
    {
     "data": {
      "text/plain": [
       "5.0"
      ]
     },
     "execution_count": 69,
     "metadata": {},
     "output_type": "execute_result"
    }
   ],
   "source": [
    "s_g1_med"
   ]
  },
  {
   "cell_type": "code",
   "execution_count": 70,
   "metadata": {},
   "outputs": [
    {
     "data": {
      "text/plain": [
       "10.928571428571429"
      ]
     },
     "execution_count": 70,
     "metadata": {},
     "output_type": "execute_result"
    }
   ],
   "source": [
    "s_g1_high"
   ]
  },
  {
   "cell_type": "code",
   "execution_count": 71,
   "metadata": {},
   "outputs": [],
   "source": [
    "s_g1_low_std = np.std(s_g1_counts.iloc[:,0])\n",
    "s_g1_med_std = np.std(s_g1_counts.iloc[:,1])\n",
    "s_g1_high_std = np.std(s_g1_counts.iloc[:,2])"
   ]
  },
  {
   "cell_type": "code",
   "execution_count": 72,
   "metadata": {},
   "outputs": [
    {
     "data": {
      "text/plain": [
       "3.104473401728676"
      ]
     },
     "execution_count": 72,
     "metadata": {},
     "output_type": "execute_result"
    }
   ],
   "source": [
    "s_g1_low_std"
   ]
  },
  {
   "cell_type": "code",
   "execution_count": 73,
   "metadata": {},
   "outputs": [
    {
     "data": {
      "text/plain": [
       "3.605551275463989"
      ]
     },
     "execution_count": 73,
     "metadata": {},
     "output_type": "execute_result"
    }
   ],
   "source": [
    "s_g1_med_std"
   ]
  },
  {
   "cell_type": "code",
   "execution_count": 74,
   "metadata": {},
   "outputs": [
    {
     "data": {
      "text/plain": [
       "6.0647021563221015"
      ]
     },
     "execution_count": 74,
     "metadata": {},
     "output_type": "execute_result"
    }
   ],
   "source": [
    "s_g1_high_std"
   ]
  },
  {
   "cell_type": "markdown",
   "metadata": {},
   "source": [
    "# Single choices in G2"
   ]
  },
  {
   "cell_type": "code",
   "execution_count": 75,
   "metadata": {},
   "outputs": [],
   "source": [
    "s_g2_counts = pd.DataFrame([s01_p1_g2_count, s03_p1_g2_count, \n",
    "                            s05_p1_g2_count, s06_p1_g2_count, s07_p1_g2_count, s08_p1_g2_count, s09_p1_g2_count,\n",
    "                            s11_p1_g2_count, s12_p1_g2_count, s15_p1_g2_count, s16_p1_g2_count,\n",
    "                    s17_p1_g2_count, s19_p1_g2_count, s20_p1_g2_count],\n",
    "index= ['s01_p1_g2_count', 's03_p1_g2_count', 's05_p1_g2_count', 's06_p1_g2_count',\n",
    "                                 's07_p1_g2_count', 's08_p1_g2_count', 's09_p1_g2_count', 's11_p1_g2_count', \n",
    "                                 's12_p1_g2_count', 's15_p1_g2_count', 's16_p1_g2_count','s17_p1_g2_count', \n",
    "                                 's19_p1_g2_count', 's20_p1_g2_count'])"
   ]
  },
  {
   "cell_type": "code",
   "execution_count": 76,
   "metadata": {},
   "outputs": [
    {
     "data": {
      "text/html": [
       "<div>\n",
       "<style scoped>\n",
       "    .dataframe tbody tr th:only-of-type {\n",
       "        vertical-align: middle;\n",
       "    }\n",
       "\n",
       "    .dataframe tbody tr th {\n",
       "        vertical-align: top;\n",
       "    }\n",
       "\n",
       "    .dataframe thead th {\n",
       "        text-align: right;\n",
       "    }\n",
       "</style>\n",
       "<table border=\"1\" class=\"dataframe\">\n",
       "  <thead>\n",
       "    <tr style=\"text-align: right;\">\n",
       "      <th></th>\n",
       "      <th>30</th>\n",
       "      <th>60</th>\n",
       "      <th>90</th>\n",
       "    </tr>\n",
       "  </thead>\n",
       "  <tbody>\n",
       "    <tr>\n",
       "      <td>s01_p1_g2_count</td>\n",
       "      <td>9.0</td>\n",
       "      <td>2.0</td>\n",
       "      <td>9.0</td>\n",
       "    </tr>\n",
       "    <tr>\n",
       "      <td>s03_p1_g2_count</td>\n",
       "      <td>5.0</td>\n",
       "      <td>5.0</td>\n",
       "      <td>10.0</td>\n",
       "    </tr>\n",
       "    <tr>\n",
       "      <td>s05_p1_g2_count</td>\n",
       "      <td>0.0</td>\n",
       "      <td>0.0</td>\n",
       "      <td>20.0</td>\n",
       "    </tr>\n",
       "    <tr>\n",
       "      <td>s06_p1_g2_count</td>\n",
       "      <td>0.0</td>\n",
       "      <td>4.0</td>\n",
       "      <td>16.0</td>\n",
       "    </tr>\n",
       "    <tr>\n",
       "      <td>s07_p1_g2_count</td>\n",
       "      <td>4.0</td>\n",
       "      <td>10.0</td>\n",
       "      <td>6.0</td>\n",
       "    </tr>\n",
       "    <tr>\n",
       "      <td>s08_p1_g2_count</td>\n",
       "      <td>2.0</td>\n",
       "      <td>1.0</td>\n",
       "      <td>17.0</td>\n",
       "    </tr>\n",
       "    <tr>\n",
       "      <td>s09_p1_g2_count</td>\n",
       "      <td>4.0</td>\n",
       "      <td>6.0</td>\n",
       "      <td>10.0</td>\n",
       "    </tr>\n",
       "    <tr>\n",
       "      <td>s11_p1_g2_count</td>\n",
       "      <td>9.0</td>\n",
       "      <td>6.0</td>\n",
       "      <td>5.0</td>\n",
       "    </tr>\n",
       "    <tr>\n",
       "      <td>s12_p1_g2_count</td>\n",
       "      <td>2.0</td>\n",
       "      <td>2.0</td>\n",
       "      <td>16.0</td>\n",
       "    </tr>\n",
       "    <tr>\n",
       "      <td>s15_p1_g2_count</td>\n",
       "      <td>1.0</td>\n",
       "      <td>1.0</td>\n",
       "      <td>18.0</td>\n",
       "    </tr>\n",
       "    <tr>\n",
       "      <td>s16_p1_g2_count</td>\n",
       "      <td>8.0</td>\n",
       "      <td>8.0</td>\n",
       "      <td>4.0</td>\n",
       "    </tr>\n",
       "    <tr>\n",
       "      <td>s17_p1_g2_count</td>\n",
       "      <td>0.0</td>\n",
       "      <td>4.0</td>\n",
       "      <td>16.0</td>\n",
       "    </tr>\n",
       "    <tr>\n",
       "      <td>s19_p1_g2_count</td>\n",
       "      <td>0.0</td>\n",
       "      <td>0.0</td>\n",
       "      <td>20.0</td>\n",
       "    </tr>\n",
       "    <tr>\n",
       "      <td>s20_p1_g2_count</td>\n",
       "      <td>1.0</td>\n",
       "      <td>12.0</td>\n",
       "      <td>7.0</td>\n",
       "    </tr>\n",
       "  </tbody>\n",
       "</table>\n",
       "</div>"
      ],
      "text/plain": [
       "                  30    60    90\n",
       "s01_p1_g2_count  9.0   2.0   9.0\n",
       "s03_p1_g2_count  5.0   5.0  10.0\n",
       "s05_p1_g2_count  0.0   0.0  20.0\n",
       "s06_p1_g2_count  0.0   4.0  16.0\n",
       "s07_p1_g2_count  4.0  10.0   6.0\n",
       "s08_p1_g2_count  2.0   1.0  17.0\n",
       "s09_p1_g2_count  4.0   6.0  10.0\n",
       "s11_p1_g2_count  9.0   6.0   5.0\n",
       "s12_p1_g2_count  2.0   2.0  16.0\n",
       "s15_p1_g2_count  1.0   1.0  18.0\n",
       "s16_p1_g2_count  8.0   8.0   4.0\n",
       "s17_p1_g2_count  0.0   4.0  16.0\n",
       "s19_p1_g2_count  0.0   0.0  20.0\n",
       "s20_p1_g2_count  1.0  12.0   7.0"
      ]
     },
     "execution_count": 76,
     "metadata": {},
     "output_type": "execute_result"
    }
   ],
   "source": [
    "#How to prevent NaN: df = df.fillna(0)\n",
    "s_g2_counts = s_g2_counts.fillna(0)\n",
    "\n",
    "#print\n",
    "s_g2_counts"
   ]
  },
  {
   "cell_type": "code",
   "execution_count": 77,
   "metadata": {},
   "outputs": [
    {
     "data": {
      "text/plain": [
       "s01_p1_g2_count    20.0\n",
       "s03_p1_g2_count    20.0\n",
       "s05_p1_g2_count    20.0\n",
       "s06_p1_g2_count    20.0\n",
       "s07_p1_g2_count    20.0\n",
       "s08_p1_g2_count    20.0\n",
       "s09_p1_g2_count    20.0\n",
       "s11_p1_g2_count    20.0\n",
       "s12_p1_g2_count    20.0\n",
       "s15_p1_g2_count    20.0\n",
       "s16_p1_g2_count    20.0\n",
       "s17_p1_g2_count    20.0\n",
       "s19_p1_g2_count    20.0\n",
       "s20_p1_g2_count    20.0\n",
       "dtype: float64"
      ]
     },
     "execution_count": 77,
     "metadata": {},
     "output_type": "execute_result"
    }
   ],
   "source": [
    "s_g2_counts.sum(axis=1)"
   ]
  },
  {
   "cell_type": "code",
   "execution_count": 78,
   "metadata": {},
   "outputs": [
    {
     "data": {
      "text/html": [
       "<div>\n",
       "<style scoped>\n",
       "    .dataframe tbody tr th:only-of-type {\n",
       "        vertical-align: middle;\n",
       "    }\n",
       "\n",
       "    .dataframe tbody tr th {\n",
       "        vertical-align: top;\n",
       "    }\n",
       "\n",
       "    .dataframe thead th {\n",
       "        text-align: right;\n",
       "    }\n",
       "</style>\n",
       "<table border=\"1\" class=\"dataframe\">\n",
       "  <thead>\n",
       "    <tr style=\"text-align: right;\">\n",
       "      <th></th>\n",
       "      <th>game number</th>\n",
       "      <th>trial</th>\n",
       "      <th>player</th>\n",
       "      <th>arm</th>\n",
       "      <th>probability</th>\n",
       "      <th>P1 score</th>\n",
       "      <th>P2 score</th>\n",
       "    </tr>\n",
       "  </thead>\n",
       "  <tbody>\n",
       "    <tr>\n",
       "      <td>42</td>\n",
       "      <td>1</td>\n",
       "      <td>22</td>\n",
       "      <td>1</td>\n",
       "      <td>2</td>\n",
       "      <td>90</td>\n",
       "      <td>12</td>\n",
       "      <td>19</td>\n",
       "    </tr>\n",
       "    <tr>\n",
       "      <td>44</td>\n",
       "      <td>1</td>\n",
       "      <td>23</td>\n",
       "      <td>1</td>\n",
       "      <td>2</td>\n",
       "      <td>90</td>\n",
       "      <td>13</td>\n",
       "      <td>20</td>\n",
       "    </tr>\n",
       "    <tr>\n",
       "      <td>46</td>\n",
       "      <td>1</td>\n",
       "      <td>24</td>\n",
       "      <td>1</td>\n",
       "      <td>2</td>\n",
       "      <td>90</td>\n",
       "      <td>14</td>\n",
       "      <td>21</td>\n",
       "    </tr>\n",
       "    <tr>\n",
       "      <td>48</td>\n",
       "      <td>1</td>\n",
       "      <td>25</td>\n",
       "      <td>1</td>\n",
       "      <td>2</td>\n",
       "      <td>90</td>\n",
       "      <td>15</td>\n",
       "      <td>22</td>\n",
       "    </tr>\n",
       "    <tr>\n",
       "      <td>50</td>\n",
       "      <td>1</td>\n",
       "      <td>26</td>\n",
       "      <td>1</td>\n",
       "      <td>2</td>\n",
       "      <td>90</td>\n",
       "      <td>15</td>\n",
       "      <td>23</td>\n",
       "    </tr>\n",
       "    <tr>\n",
       "      <td>52</td>\n",
       "      <td>1</td>\n",
       "      <td>27</td>\n",
       "      <td>1</td>\n",
       "      <td>1</td>\n",
       "      <td>30</td>\n",
       "      <td>15</td>\n",
       "      <td>24</td>\n",
       "    </tr>\n",
       "    <tr>\n",
       "      <td>54</td>\n",
       "      <td>1</td>\n",
       "      <td>28</td>\n",
       "      <td>1</td>\n",
       "      <td>2</td>\n",
       "      <td>90</td>\n",
       "      <td>15</td>\n",
       "      <td>25</td>\n",
       "    </tr>\n",
       "    <tr>\n",
       "      <td>56</td>\n",
       "      <td>1</td>\n",
       "      <td>29</td>\n",
       "      <td>1</td>\n",
       "      <td>2</td>\n",
       "      <td>90</td>\n",
       "      <td>16</td>\n",
       "      <td>26</td>\n",
       "    </tr>\n",
       "    <tr>\n",
       "      <td>58</td>\n",
       "      <td>1</td>\n",
       "      <td>30</td>\n",
       "      <td>1</td>\n",
       "      <td>1</td>\n",
       "      <td>30</td>\n",
       "      <td>16</td>\n",
       "      <td>27</td>\n",
       "    </tr>\n",
       "    <tr>\n",
       "      <td>60</td>\n",
       "      <td>1</td>\n",
       "      <td>31</td>\n",
       "      <td>1</td>\n",
       "      <td>2</td>\n",
       "      <td>90</td>\n",
       "      <td>16</td>\n",
       "      <td>28</td>\n",
       "    </tr>\n",
       "    <tr>\n",
       "      <td>62</td>\n",
       "      <td>1</td>\n",
       "      <td>32</td>\n",
       "      <td>1</td>\n",
       "      <td>2</td>\n",
       "      <td>90</td>\n",
       "      <td>16</td>\n",
       "      <td>29</td>\n",
       "    </tr>\n",
       "    <tr>\n",
       "      <td>64</td>\n",
       "      <td>1</td>\n",
       "      <td>33</td>\n",
       "      <td>1</td>\n",
       "      <td>2</td>\n",
       "      <td>90</td>\n",
       "      <td>17</td>\n",
       "      <td>30</td>\n",
       "    </tr>\n",
       "    <tr>\n",
       "      <td>66</td>\n",
       "      <td>1</td>\n",
       "      <td>34</td>\n",
       "      <td>1</td>\n",
       "      <td>3</td>\n",
       "      <td>60</td>\n",
       "      <td>18</td>\n",
       "      <td>31</td>\n",
       "    </tr>\n",
       "    <tr>\n",
       "      <td>68</td>\n",
       "      <td>1</td>\n",
       "      <td>35</td>\n",
       "      <td>1</td>\n",
       "      <td>1</td>\n",
       "      <td>30</td>\n",
       "      <td>19</td>\n",
       "      <td>32</td>\n",
       "    </tr>\n",
       "    <tr>\n",
       "      <td>70</td>\n",
       "      <td>1</td>\n",
       "      <td>36</td>\n",
       "      <td>1</td>\n",
       "      <td>2</td>\n",
       "      <td>90</td>\n",
       "      <td>19</td>\n",
       "      <td>33</td>\n",
       "    </tr>\n",
       "    <tr>\n",
       "      <td>72</td>\n",
       "      <td>1</td>\n",
       "      <td>37</td>\n",
       "      <td>1</td>\n",
       "      <td>2</td>\n",
       "      <td>90</td>\n",
       "      <td>20</td>\n",
       "      <td>34</td>\n",
       "    </tr>\n",
       "    <tr>\n",
       "      <td>74</td>\n",
       "      <td>1</td>\n",
       "      <td>38</td>\n",
       "      <td>1</td>\n",
       "      <td>3</td>\n",
       "      <td>60</td>\n",
       "      <td>20</td>\n",
       "      <td>35</td>\n",
       "    </tr>\n",
       "    <tr>\n",
       "      <td>76</td>\n",
       "      <td>1</td>\n",
       "      <td>39</td>\n",
       "      <td>1</td>\n",
       "      <td>2</td>\n",
       "      <td>90</td>\n",
       "      <td>21</td>\n",
       "      <td>36</td>\n",
       "    </tr>\n",
       "    <tr>\n",
       "      <td>78</td>\n",
       "      <td>1</td>\n",
       "      <td>40</td>\n",
       "      <td>1</td>\n",
       "      <td>2</td>\n",
       "      <td>90</td>\n",
       "      <td>22</td>\n",
       "      <td>37</td>\n",
       "    </tr>\n",
       "    <tr>\n",
       "      <td>80</td>\n",
       "      <td>1</td>\n",
       "      <td>41</td>\n",
       "      <td>1</td>\n",
       "      <td>3</td>\n",
       "      <td>60</td>\n",
       "      <td>23</td>\n",
       "      <td>38</td>\n",
       "    </tr>\n",
       "  </tbody>\n",
       "</table>\n",
       "</div>"
      ],
      "text/plain": [
       "    game number  trial  player  arm  probability  P1 score  P2 score\n",
       "42            1     22       1    2           90        12        19\n",
       "44            1     23       1    2           90        13        20\n",
       "46            1     24       1    2           90        14        21\n",
       "48            1     25       1    2           90        15        22\n",
       "50            1     26       1    2           90        15        23\n",
       "52            1     27       1    1           30        15        24\n",
       "54            1     28       1    2           90        15        25\n",
       "56            1     29       1    2           90        16        26\n",
       "58            1     30       1    1           30        16        27\n",
       "60            1     31       1    2           90        16        28\n",
       "62            1     32       1    2           90        16        29\n",
       "64            1     33       1    2           90        17        30\n",
       "66            1     34       1    3           60        18        31\n",
       "68            1     35       1    1           30        19        32\n",
       "70            1     36       1    2           90        19        33\n",
       "72            1     37       1    2           90        20        34\n",
       "74            1     38       1    3           60        20        35\n",
       "76            1     39       1    2           90        21        36\n",
       "78            1     40       1    2           90        22        37\n",
       "80            1     41       1    3           60        23        38"
      ]
     },
     "execution_count": 78,
     "metadata": {},
     "output_type": "execute_result"
    }
   ],
   "source": [
    "s15_p1_g1"
   ]
  },
  {
   "cell_type": "code",
   "execution_count": 79,
   "metadata": {},
   "outputs": [
    {
     "data": {
      "image/png": "[encoded data removed]",
      "text/plain": [
       "<Figure size 432x288 with 1 Axes>"
      ]
     },
     "metadata": {
      "needs_background": "light"
     },
     "output_type": "display_data"
    }
   ],
   "source": [
    "s_g2_counts_bar = s_g2_counts.plot.bar()\n",
    "\n",
    "# save as jpeg\n",
    "s_g2_counts_bar.figure.savefig(plot_file_name,\n",
    "                    format='jpeg',\n",
    "                    dpi=100)"
   ]
  },
  {
   "cell_type": "code",
   "execution_count": 80,
   "metadata": {},
   "outputs": [
    {
     "data": {
      "image/png": "[encoded data removed]",
      "text/plain": [
       "<Figure size 432x288 with 1 Axes>"
      ]
     },
     "metadata": {
      "needs_background": "light"
     },
     "output_type": "display_data"
    }
   ],
   "source": [
    "s_g2_counts_box = sns.boxplot( \n",
    "                 data=s_g2_counts, \n",
    "                 width=0.5,\n",
    "                 palette=\"pastel\")\n",
    "s_g2_counts_box.axes.set_title(\"Single Player Choice Distributions in Game 2\",\n",
    "                    fontsize=16)\n",
    "\n",
    "plot_file_name=\"s_g2_counts_box.jpg\"\n",
    " \n",
    "plt.ylim(0, 100)\n",
    "s_g2_counts_box.axes.set(xlabel='Arm',ylabel='Frequency')\n",
    "\n",
    "# save as jpeg\n",
    "s_g2_counts_box.figure.savefig(plot_file_name,\n",
    "                    format='jpeg',\n",
    "                    dpi=100)"
   ]
  },
  {
   "cell_type": "code",
   "execution_count": 81,
   "metadata": {},
   "outputs": [],
   "source": [
    "s_g2_low = np.mean(s_g2_counts.iloc[:,0])\n",
    "s_g2_med = np.mean(s_g2_counts.iloc[:,1])\n",
    "s_g2_high = np.mean(s_g2_counts.iloc[:,2])"
   ]
  },
  {
   "cell_type": "code",
   "execution_count": 82,
   "metadata": {},
   "outputs": [
    {
     "data": {
      "text/plain": [
       "3.2142857142857144"
      ]
     },
     "execution_count": 82,
     "metadata": {},
     "output_type": "execute_result"
    }
   ],
   "source": [
    "s_g2_low"
   ]
  },
  {
   "cell_type": "code",
   "execution_count": 83,
   "metadata": {},
   "outputs": [
    {
     "data": {
      "text/plain": [
       "4.357142857142857"
      ]
     },
     "execution_count": 83,
     "metadata": {},
     "output_type": "execute_result"
    }
   ],
   "source": [
    "s_g2_med"
   ]
  },
  {
   "cell_type": "code",
   "execution_count": 84,
   "metadata": {},
   "outputs": [
    {
     "data": {
      "text/plain": [
       "12.428571428571429"
      ]
     },
     "execution_count": 84,
     "metadata": {},
     "output_type": "execute_result"
    }
   ],
   "source": [
    "s_g2_high"
   ]
  },
  {
   "cell_type": "code",
   "execution_count": 85,
   "metadata": {},
   "outputs": [],
   "source": [
    "s_g2_low_std = np.std(s_g2_counts.iloc[:,0])\n",
    "s_g2_med_std = np.std(s_g2_counts.iloc[:,1])\n",
    "s_g2_high_std = np.std(s_g2_counts.iloc[:,2])"
   ]
  },
  {
   "cell_type": "code",
   "execution_count": 86,
   "metadata": {},
   "outputs": [
    {
     "data": {
      "text/plain": [
       "3.255293961458812"
      ]
     },
     "execution_count": 86,
     "metadata": {},
     "output_type": "execute_result"
    }
   ],
   "source": [
    "s_g2_low_std"
   ]
  },
  {
   "cell_type": "code",
   "execution_count": 87,
   "metadata": {},
   "outputs": [
    {
     "data": {
      "text/plain": [
       "3.5977600741322937"
      ]
     },
     "execution_count": 87,
     "metadata": {},
     "output_type": "execute_result"
    }
   ],
   "source": [
    "s_g2_med_std"
   ]
  },
  {
   "cell_type": "code",
   "execution_count": 88,
   "metadata": {},
   "outputs": [
    {
     "data": {
      "text/plain": [
       "5.51250896616421"
      ]
     },
     "execution_count": 88,
     "metadata": {},
     "output_type": "execute_result"
    }
   ],
   "source": [
    "s_g2_high_std"
   ]
  },
  {
   "cell_type": "markdown",
   "metadata": {},
   "source": [
    "# Single arrays"
   ]
  },
  {
   "cell_type": "code",
   "execution_count": 89,
   "metadata": {},
   "outputs": [],
   "source": [
    "#pip install researchpy"
   ]
  },
  {
   "cell_type": "code",
   "execution_count": 90,
   "metadata": {},
   "outputs": [],
   "source": [
    "import researchpy as rp"
   ]
  },
  {
   "cell_type": "code",
   "execution_count": 91,
   "metadata": {},
   "outputs": [],
   "source": [
    "s_90_1 = np.array(s_g1_counts.iloc[:,2])\n",
    "s_90_2 = np.array(s_g2_counts.iloc[:,2])"
   ]
  },
  {
   "cell_type": "code",
   "execution_count": 92,
   "metadata": {},
   "outputs": [
    {
     "data": {
      "text/plain": [
       "array([ 3.,  7., 20., 19.,  6., 20.,  9.,  8.,  9., 14.,  7., 20.,  6.,\n",
       "        5.])"
      ]
     },
     "execution_count": 92,
     "metadata": {},
     "output_type": "execute_result"
    }
   ],
   "source": [
    "s_90_1"
   ]
  },
  {
   "cell_type": "code",
   "execution_count": 93,
   "metadata": {},
   "outputs": [
    {
     "data": {
      "text/plain": [
       "array([ 9., 10., 20., 16.,  6., 17., 10.,  5., 16., 18.,  4., 16., 20.,\n",
       "        7.])"
      ]
     },
     "execution_count": 93,
     "metadata": {},
     "output_type": "execute_result"
    }
   ],
   "source": [
    "s_90_2"
   ]
  },
  {
   "cell_type": "code",
   "execution_count": 94,
   "metadata": {},
   "outputs": [],
   "source": [
    "s_60_1 = np.array(s_g1_counts.iloc[:,1])\n",
    "s_60_2 = np.array(s_g2_counts.iloc[:,1])"
   ]
  },
  {
   "cell_type": "code",
   "execution_count": 95,
   "metadata": {},
   "outputs": [
    {
     "data": {
      "text/plain": [
       "array([ 7.,  8.,  0.,  0.,  7.,  0.,  5.,  5., 10.,  3.,  7.,  0.,  9.,\n",
       "        9.])"
      ]
     },
     "execution_count": 95,
     "metadata": {},
     "output_type": "execute_result"
    }
   ],
   "source": [
    "s_60_1"
   ]
  },
  {
   "cell_type": "code",
   "execution_count": 96,
   "metadata": {},
   "outputs": [
    {
     "data": {
      "text/plain": [
       "array([ 2.,  5.,  0.,  4., 10.,  1.,  6.,  6.,  2.,  1.,  8.,  4.,  0.,\n",
       "       12.])"
      ]
     },
     "execution_count": 96,
     "metadata": {},
     "output_type": "execute_result"
    }
   ],
   "source": [
    "s_60_2"
   ]
  },
  {
   "cell_type": "code",
   "execution_count": 97,
   "metadata": {},
   "outputs": [],
   "source": [
    "s_30_1 = np.array(s_g1_counts.iloc[:,0])\n",
    "s_30_2 = np.array(s_g2_counts.iloc[:,0])"
   ]
  },
  {
   "cell_type": "code",
   "execution_count": 98,
   "metadata": {},
   "outputs": [
    {
     "data": {
      "text/plain": [
       "array([10.,  5.,  0.,  1.,  7.,  0.,  6.,  7.,  1.,  3.,  6.,  0.,  5.,\n",
       "        6.])"
      ]
     },
     "execution_count": 98,
     "metadata": {},
     "output_type": "execute_result"
    }
   ],
   "source": [
    "s_30_1"
   ]
  },
  {
   "cell_type": "code",
   "execution_count": 99,
   "metadata": {},
   "outputs": [
    {
     "data": {
      "text/plain": [
       "array([9., 5., 0., 0., 4., 2., 4., 9., 2., 1., 8., 0., 0., 1.])"
      ]
     },
     "execution_count": 99,
     "metadata": {},
     "output_type": "execute_result"
    }
   ],
   "source": [
    "s_30_2"
   ]
  },
  {
   "cell_type": "markdown",
   "metadata": {},
   "source": [
    "# Single choice statistics"
   ]
  },
  {
   "cell_type": "code",
   "execution_count": 100,
   "metadata": {},
   "outputs": [],
   "source": [
    "s_90_p = sp.stats.ttest_rel(s_90_1,s_90_2)\n",
    "s_60_p = sp.stats.ttest_rel(s_60_1,s_60_2)\n",
    "s_30_p = sp.stats.ttest_rel(s_30_1,s_30_2)"
   ]
  },
  {
   "cell_type": "code",
   "execution_count": 101,
   "metadata": {},
   "outputs": [
    {
     "data": {
      "text/plain": [
       "Ttest_relResult(statistic=-1.1114378604524227, pvalue=0.28651301767507664)"
      ]
     },
     "execution_count": 101,
     "metadata": {},
     "output_type": "execute_result"
    }
   ],
   "source": [
    "s_90_p"
   ]
  },
  {
   "cell_type": "code",
   "execution_count": 102,
   "metadata": {},
   "outputs": [
    {
     "data": {
      "text/plain": [
       "Ttest_relResult(statistic=0.5703518254720301, pvalue=0.5781642207789217)"
      ]
     },
     "execution_count": 102,
     "metadata": {},
     "output_type": "execute_result"
    }
   ],
   "source": [
    "s_60_p"
   ]
  },
  {
   "cell_type": "code",
   "execution_count": 103,
   "metadata": {},
   "outputs": [
    {
     "data": {
      "text/plain": [
       "Ttest_relResult(statistic=1.365482271093009, pvalue=0.19526398538628695)"
      ]
     },
     "execution_count": 103,
     "metadata": {},
     "output_type": "execute_result"
    }
   ],
   "source": [
    "s_30_p"
   ]
  },
  {
   "cell_type": "markdown",
   "metadata": {},
   "source": [
    "# Confederate Player Analysis"
   ]
  },
  {
   "cell_type": "code",
   "execution_count": 104,
   "metadata": {},
   "outputs": [
    {
     "data": {
      "text/html": [
       "<div>\n",
       "<style scoped>\n",
       "    .dataframe tbody tr th:only-of-type {\n",
       "        vertical-align: middle;\n",
       "    }\n",
       "\n",
       "    .dataframe tbody tr th {\n",
       "        vertical-align: top;\n",
       "    }\n",
       "\n",
       "    .dataframe thead th {\n",
       "        text-align: right;\n",
       "    }\n",
       "</style>\n",
       "<table border=\"1\" class=\"dataframe\">\n",
       "  <thead>\n",
       "    <tr style=\"text-align: right;\">\n",
       "      <th></th>\n",
       "      <th>game number</th>\n",
       "      <th>trial</th>\n",
       "      <th>player</th>\n",
       "      <th>arm</th>\n",
       "      <th>probability</th>\n",
       "      <th>P1 score</th>\n",
       "      <th>P2 score</th>\n",
       "    </tr>\n",
       "  </thead>\n",
       "  <tbody>\n",
       "    <tr>\n",
       "      <td>0</td>\n",
       "      <td>1</td>\n",
       "      <td>1</td>\n",
       "      <td>1</td>\n",
       "      <td>2</td>\n",
       "      <td>30</td>\n",
       "      <td>0</td>\n",
       "      <td>0</td>\n",
       "    </tr>\n",
       "    <tr>\n",
       "      <td>1</td>\n",
       "      <td>1</td>\n",
       "      <td>1</td>\n",
       "      <td>2</td>\n",
       "      <td>1</td>\n",
       "      <td>90</td>\n",
       "      <td>0</td>\n",
       "      <td>1</td>\n",
       "    </tr>\n",
       "    <tr>\n",
       "      <td>2</td>\n",
       "      <td>1</td>\n",
       "      <td>2</td>\n",
       "      <td>1</td>\n",
       "      <td>2</td>\n",
       "      <td>30</td>\n",
       "      <td>0</td>\n",
       "      <td>1</td>\n",
       "    </tr>\n",
       "    <tr>\n",
       "      <td>3</td>\n",
       "      <td>1</td>\n",
       "      <td>2</td>\n",
       "      <td>2</td>\n",
       "      <td>1</td>\n",
       "      <td>90</td>\n",
       "      <td>0</td>\n",
       "      <td>2</td>\n",
       "    </tr>\n",
       "    <tr>\n",
       "      <td>4</td>\n",
       "      <td>1</td>\n",
       "      <td>3</td>\n",
       "      <td>1</td>\n",
       "      <td>1</td>\n",
       "      <td>90</td>\n",
       "      <td>0</td>\n",
       "      <td>2</td>\n",
       "    </tr>\n",
       "  </tbody>\n",
       "</table>\n",
       "</div>"
      ],
      "text/plain": [
       "   game number  trial  player  arm  probability  P1 score  P2 score\n",
       "0            1      1       1    2           30         0         0\n",
       "1            1      1       2    1           90         0         1\n",
       "2            1      2       1    2           30         0         1\n",
       "3            1      2       2    1           90         0         2\n",
       "4            1      3       1    1           90         0         2"
      ]
     },
     "execution_count": 104,
     "metadata": {},
     "output_type": "execute_result"
    }
   ],
   "source": [
    "#in the s files, p2 is the confederate\n",
    "df = organize_trial_by_trial('data/c02_gamedata.csv')\n",
    "c02 = df\n",
    "c02_p1_g1_score,c02_p1_g2_score,c02_score_diff = call_get_score(c02, 'c')\n",
    "c02.head()"
   ]
  },
  {
   "cell_type": "code",
   "execution_count": 105,
   "metadata": {},
   "outputs": [
    {
     "data": {
      "text/html": [
       "<div>\n",
       "<style scoped>\n",
       "    .dataframe tbody tr th:only-of-type {\n",
       "        vertical-align: middle;\n",
       "    }\n",
       "\n",
       "    .dataframe tbody tr th {\n",
       "        vertical-align: top;\n",
       "    }\n",
       "\n",
       "    .dataframe thead th {\n",
       "        text-align: right;\n",
       "    }\n",
       "</style>\n",
       "<table border=\"1\" class=\"dataframe\">\n",
       "  <thead>\n",
       "    <tr style=\"text-align: right;\">\n",
       "      <th></th>\n",
       "      <th>game number</th>\n",
       "      <th>trial</th>\n",
       "      <th>player</th>\n",
       "      <th>arm</th>\n",
       "      <th>probability</th>\n",
       "      <th>P1 score</th>\n",
       "      <th>P2 score</th>\n",
       "    </tr>\n",
       "  </thead>\n",
       "  <tbody>\n",
       "    <tr>\n",
       "      <td>0</td>\n",
       "      <td>1</td>\n",
       "      <td>1</td>\n",
       "      <td>1</td>\n",
       "      <td>3</td>\n",
       "      <td>90</td>\n",
       "      <td>1</td>\n",
       "      <td>0</td>\n",
       "    </tr>\n",
       "    <tr>\n",
       "      <td>1</td>\n",
       "      <td>1</td>\n",
       "      <td>1</td>\n",
       "      <td>2</td>\n",
       "      <td>3</td>\n",
       "      <td>30</td>\n",
       "      <td>1</td>\n",
       "      <td>1</td>\n",
       "    </tr>\n",
       "    <tr>\n",
       "      <td>2</td>\n",
       "      <td>1</td>\n",
       "      <td>2</td>\n",
       "      <td>1</td>\n",
       "      <td>2</td>\n",
       "      <td>60</td>\n",
       "      <td>1</td>\n",
       "      <td>1</td>\n",
       "    </tr>\n",
       "    <tr>\n",
       "      <td>3</td>\n",
       "      <td>1</td>\n",
       "      <td>2</td>\n",
       "      <td>2</td>\n",
       "      <td>3</td>\n",
       "      <td>30</td>\n",
       "      <td>1</td>\n",
       "      <td>2</td>\n",
       "    </tr>\n",
       "    <tr>\n",
       "      <td>4</td>\n",
       "      <td>1</td>\n",
       "      <td>3</td>\n",
       "      <td>1</td>\n",
       "      <td>1</td>\n",
       "      <td>30</td>\n",
       "      <td>1</td>\n",
       "      <td>2</td>\n",
       "    </tr>\n",
       "  </tbody>\n",
       "</table>\n",
       "</div>"
      ],
      "text/plain": [
       "   game number  trial  player  arm  probability  P1 score  P2 score\n",
       "0            1      1       1    3           90         1         0\n",
       "1            1      1       2    3           30         1         1\n",
       "2            1      2       1    2           60         1         1\n",
       "3            1      2       2    3           30         1         2\n",
       "4            1      3       1    1           30         1         2"
      ]
     },
     "execution_count": 105,
     "metadata": {},
     "output_type": "execute_result"
    }
   ],
   "source": [
    "#in the s files, p2 is the confederate\n",
    "df = organize_trial_by_trial('data/c03_gamedata.csv')\n",
    "c03 = df\n",
    "c03_p1_g1_score,c03_p1_g2_score,c03_score_diff = call_get_score(c03, 'c')\n",
    "c03.head()"
   ]
  },
  {
   "cell_type": "code",
   "execution_count": 106,
   "metadata": {},
   "outputs": [],
   "source": [
    "#in the s files, p2 is the confederate\n",
    "#df = organize_trial_by_trial('data/c04_gamedata.csv')\n",
    "#c04 = df\n",
    "#c04_p1_g1_score,c04_p1_g2_score,c04_score_diff = call_get_score(c04, 'c')\n",
    "#c04.head()"
   ]
  },
  {
   "cell_type": "code",
   "execution_count": 107,
   "metadata": {},
   "outputs": [
    {
     "data": {
      "text/html": [
       "<div>\n",
       "<style scoped>\n",
       "    .dataframe tbody tr th:only-of-type {\n",
       "        vertical-align: middle;\n",
       "    }\n",
       "\n",
       "    .dataframe tbody tr th {\n",
       "        vertical-align: top;\n",
       "    }\n",
       "\n",
       "    .dataframe thead th {\n",
       "        text-align: right;\n",
       "    }\n",
       "</style>\n",
       "<table border=\"1\" class=\"dataframe\">\n",
       "  <thead>\n",
       "    <tr style=\"text-align: right;\">\n",
       "      <th></th>\n",
       "      <th>game number</th>\n",
       "      <th>trial</th>\n",
       "      <th>player</th>\n",
       "      <th>arm</th>\n",
       "      <th>probability</th>\n",
       "      <th>P1 score</th>\n",
       "      <th>P2 score</th>\n",
       "    </tr>\n",
       "  </thead>\n",
       "  <tbody>\n",
       "    <tr>\n",
       "      <td>0</td>\n",
       "      <td>1</td>\n",
       "      <td>1</td>\n",
       "      <td>1</td>\n",
       "      <td>2</td>\n",
       "      <td>60</td>\n",
       "      <td>0</td>\n",
       "      <td>0</td>\n",
       "    </tr>\n",
       "    <tr>\n",
       "      <td>1</td>\n",
       "      <td>1</td>\n",
       "      <td>1</td>\n",
       "      <td>2</td>\n",
       "      <td>3</td>\n",
       "      <td>30</td>\n",
       "      <td>0</td>\n",
       "      <td>1</td>\n",
       "    </tr>\n",
       "    <tr>\n",
       "      <td>2</td>\n",
       "      <td>1</td>\n",
       "      <td>2</td>\n",
       "      <td>1</td>\n",
       "      <td>1</td>\n",
       "      <td>30</td>\n",
       "      <td>1</td>\n",
       "      <td>1</td>\n",
       "    </tr>\n",
       "    <tr>\n",
       "      <td>3</td>\n",
       "      <td>1</td>\n",
       "      <td>2</td>\n",
       "      <td>2</td>\n",
       "      <td>3</td>\n",
       "      <td>30</td>\n",
       "      <td>1</td>\n",
       "      <td>1</td>\n",
       "    </tr>\n",
       "    <tr>\n",
       "      <td>4</td>\n",
       "      <td>1</td>\n",
       "      <td>3</td>\n",
       "      <td>1</td>\n",
       "      <td>3</td>\n",
       "      <td>90</td>\n",
       "      <td>2</td>\n",
       "      <td>1</td>\n",
       "    </tr>\n",
       "  </tbody>\n",
       "</table>\n",
       "</div>"
      ],
      "text/plain": [
       "   game number  trial  player  arm  probability  P1 score  P2 score\n",
       "0            1      1       1    2           60         0         0\n",
       "1            1      1       2    3           30         0         1\n",
       "2            1      2       1    1           30         1         1\n",
       "3            1      2       2    3           30         1         1\n",
       "4            1      3       1    3           90         2         1"
      ]
     },
     "execution_count": 107,
     "metadata": {},
     "output_type": "execute_result"
    }
   ],
   "source": [
    "#in the s files, p2 is the confederate\n",
    "df = organize_trial_by_trial('data/c05_gamedata.csv')\n",
    "c05 = df\n",
    "c05_p1_g1_score,c05_p1_g2_score,c05_score_diff = call_get_score(c05, 'c')\n",
    "c05.head()"
   ]
  },
  {
   "cell_type": "code",
   "execution_count": 108,
   "metadata": {},
   "outputs": [
    {
     "data": {
      "text/html": [
       "<div>\n",
       "<style scoped>\n",
       "    .dataframe tbody tr th:only-of-type {\n",
       "        vertical-align: middle;\n",
       "    }\n",
       "\n",
       "    .dataframe tbody tr th {\n",
       "        vertical-align: top;\n",
       "    }\n",
       "\n",
       "    .dataframe thead th {\n",
       "        text-align: right;\n",
       "    }\n",
       "</style>\n",
       "<table border=\"1\" class=\"dataframe\">\n",
       "  <thead>\n",
       "    <tr style=\"text-align: right;\">\n",
       "      <th></th>\n",
       "      <th>game number</th>\n",
       "      <th>trial</th>\n",
       "      <th>player</th>\n",
       "      <th>arm</th>\n",
       "      <th>probability</th>\n",
       "      <th>P1 score</th>\n",
       "      <th>P2 score</th>\n",
       "    </tr>\n",
       "  </thead>\n",
       "  <tbody>\n",
       "    <tr>\n",
       "      <td>0</td>\n",
       "      <td>1</td>\n",
       "      <td>1</td>\n",
       "      <td>1</td>\n",
       "      <td>3</td>\n",
       "      <td>60</td>\n",
       "      <td>0</td>\n",
       "      <td>0</td>\n",
       "    </tr>\n",
       "    <tr>\n",
       "      <td>1</td>\n",
       "      <td>1</td>\n",
       "      <td>1</td>\n",
       "      <td>2</td>\n",
       "      <td>3</td>\n",
       "      <td>30</td>\n",
       "      <td>0</td>\n",
       "      <td>0</td>\n",
       "    </tr>\n",
       "    <tr>\n",
       "      <td>2</td>\n",
       "      <td>1</td>\n",
       "      <td>2</td>\n",
       "      <td>1</td>\n",
       "      <td>1</td>\n",
       "      <td>30</td>\n",
       "      <td>0</td>\n",
       "      <td>0</td>\n",
       "    </tr>\n",
       "    <tr>\n",
       "      <td>3</td>\n",
       "      <td>1</td>\n",
       "      <td>2</td>\n",
       "      <td>2</td>\n",
       "      <td>3</td>\n",
       "      <td>30</td>\n",
       "      <td>0</td>\n",
       "      <td>0</td>\n",
       "    </tr>\n",
       "    <tr>\n",
       "      <td>4</td>\n",
       "      <td>1</td>\n",
       "      <td>3</td>\n",
       "      <td>1</td>\n",
       "      <td>3</td>\n",
       "      <td>60</td>\n",
       "      <td>1</td>\n",
       "      <td>0</td>\n",
       "    </tr>\n",
       "  </tbody>\n",
       "</table>\n",
       "</div>"
      ],
      "text/plain": [
       "   game number  trial  player  arm  probability  P1 score  P2 score\n",
       "0            1      1       1    3           60         0         0\n",
       "1            1      1       2    3           30         0         0\n",
       "2            1      2       1    1           30         0         0\n",
       "3            1      2       2    3           30         0         0\n",
       "4            1      3       1    3           60         1         0"
      ]
     },
     "execution_count": 108,
     "metadata": {},
     "output_type": "execute_result"
    }
   ],
   "source": [
    "#in the s files, p2 is the confederate\n",
    "df = organize_trial_by_trial('data/c06_gamedata.csv')\n",
    "c06 = df\n",
    "c06_p1_g1_score,c06_p1_g2_score,c06_score_diff = call_get_score(c06, 'c')\n",
    "c06.head()"
   ]
  },
  {
   "cell_type": "code",
   "execution_count": 109,
   "metadata": {},
   "outputs": [
    {
     "data": {
      "text/html": [
       "<div>\n",
       "<style scoped>\n",
       "    .dataframe tbody tr th:only-of-type {\n",
       "        vertical-align: middle;\n",
       "    }\n",
       "\n",
       "    .dataframe tbody tr th {\n",
       "        vertical-align: top;\n",
       "    }\n",
       "\n",
       "    .dataframe thead th {\n",
       "        text-align: right;\n",
       "    }\n",
       "</style>\n",
       "<table border=\"1\" class=\"dataframe\">\n",
       "  <thead>\n",
       "    <tr style=\"text-align: right;\">\n",
       "      <th></th>\n",
       "      <th>game number</th>\n",
       "      <th>trial</th>\n",
       "      <th>player</th>\n",
       "      <th>arm</th>\n",
       "      <th>probability</th>\n",
       "      <th>P1 score</th>\n",
       "      <th>P2 score</th>\n",
       "    </tr>\n",
       "  </thead>\n",
       "  <tbody>\n",
       "    <tr>\n",
       "      <td>0</td>\n",
       "      <td>1</td>\n",
       "      <td>1</td>\n",
       "      <td>1</td>\n",
       "      <td>3</td>\n",
       "      <td>60</td>\n",
       "      <td>1</td>\n",
       "      <td>0</td>\n",
       "    </tr>\n",
       "    <tr>\n",
       "      <td>1</td>\n",
       "      <td>1</td>\n",
       "      <td>1</td>\n",
       "      <td>2</td>\n",
       "      <td>1</td>\n",
       "      <td>90</td>\n",
       "      <td>1</td>\n",
       "      <td>0</td>\n",
       "    </tr>\n",
       "    <tr>\n",
       "      <td>2</td>\n",
       "      <td>1</td>\n",
       "      <td>2</td>\n",
       "      <td>1</td>\n",
       "      <td>3</td>\n",
       "      <td>60</td>\n",
       "      <td>2</td>\n",
       "      <td>0</td>\n",
       "    </tr>\n",
       "    <tr>\n",
       "      <td>3</td>\n",
       "      <td>1</td>\n",
       "      <td>2</td>\n",
       "      <td>2</td>\n",
       "      <td>1</td>\n",
       "      <td>90</td>\n",
       "      <td>2</td>\n",
       "      <td>1</td>\n",
       "    </tr>\n",
       "    <tr>\n",
       "      <td>4</td>\n",
       "      <td>1</td>\n",
       "      <td>3</td>\n",
       "      <td>1</td>\n",
       "      <td>1</td>\n",
       "      <td>90</td>\n",
       "      <td>3</td>\n",
       "      <td>1</td>\n",
       "    </tr>\n",
       "  </tbody>\n",
       "</table>\n",
       "</div>"
      ],
      "text/plain": [
       "   game number  trial  player  arm  probability  P1 score  P2 score\n",
       "0            1      1       1    3           60         1         0\n",
       "1            1      1       2    1           90         1         0\n",
       "2            1      2       1    3           60         2         0\n",
       "3            1      2       2    1           90         2         1\n",
       "4            1      3       1    1           90         3         1"
      ]
     },
     "execution_count": 109,
     "metadata": {},
     "output_type": "execute_result"
    }
   ],
   "source": [
    "#in the s files, p2 is the confederate\n",
    "df = organize_trial_by_trial('data/c09_gamedata.csv')\n",
    "c09 = df\n",
    "c09_p1_g1_score,c09_p1_g2_score,c09_score_diff = call_get_score(c09, 'c')\n",
    "c09.head()"
   ]
  },
  {
   "cell_type": "code",
   "execution_count": 110,
   "metadata": {},
   "outputs": [
    {
     "data": {
      "text/html": [
       "<div>\n",
       "<style scoped>\n",
       "    .dataframe tbody tr th:only-of-type {\n",
       "        vertical-align: middle;\n",
       "    }\n",
       "\n",
       "    .dataframe tbody tr th {\n",
       "        vertical-align: top;\n",
       "    }\n",
       "\n",
       "    .dataframe thead th {\n",
       "        text-align: right;\n",
       "    }\n",
       "</style>\n",
       "<table border=\"1\" class=\"dataframe\">\n",
       "  <thead>\n",
       "    <tr style=\"text-align: right;\">\n",
       "      <th></th>\n",
       "      <th>game number</th>\n",
       "      <th>trial</th>\n",
       "      <th>player</th>\n",
       "      <th>arm</th>\n",
       "      <th>probability</th>\n",
       "      <th>P1 score</th>\n",
       "      <th>P2 score</th>\n",
       "    </tr>\n",
       "  </thead>\n",
       "  <tbody>\n",
       "    <tr>\n",
       "      <td>0</td>\n",
       "      <td>1</td>\n",
       "      <td>1</td>\n",
       "      <td>1</td>\n",
       "      <td>2</td>\n",
       "      <td>60</td>\n",
       "      <td>1</td>\n",
       "      <td>0</td>\n",
       "    </tr>\n",
       "    <tr>\n",
       "      <td>1</td>\n",
       "      <td>1</td>\n",
       "      <td>1</td>\n",
       "      <td>2</td>\n",
       "      <td>1</td>\n",
       "      <td>90</td>\n",
       "      <td>1</td>\n",
       "      <td>1</td>\n",
       "    </tr>\n",
       "    <tr>\n",
       "      <td>2</td>\n",
       "      <td>1</td>\n",
       "      <td>2</td>\n",
       "      <td>1</td>\n",
       "      <td>3</td>\n",
       "      <td>30</td>\n",
       "      <td>1</td>\n",
       "      <td>1</td>\n",
       "    </tr>\n",
       "    <tr>\n",
       "      <td>3</td>\n",
       "      <td>1</td>\n",
       "      <td>2</td>\n",
       "      <td>2</td>\n",
       "      <td>1</td>\n",
       "      <td>90</td>\n",
       "      <td>1</td>\n",
       "      <td>2</td>\n",
       "    </tr>\n",
       "    <tr>\n",
       "      <td>4</td>\n",
       "      <td>1</td>\n",
       "      <td>3</td>\n",
       "      <td>1</td>\n",
       "      <td>2</td>\n",
       "      <td>60</td>\n",
       "      <td>2</td>\n",
       "      <td>2</td>\n",
       "    </tr>\n",
       "  </tbody>\n",
       "</table>\n",
       "</div>"
      ],
      "text/plain": [
       "   game number  trial  player  arm  probability  P1 score  P2 score\n",
       "0            1      1       1    2           60         1         0\n",
       "1            1      1       2    1           90         1         1\n",
       "2            1      2       1    3           30         1         1\n",
       "3            1      2       2    1           90         1         2\n",
       "4            1      3       1    2           60         2         2"
      ]
     },
     "execution_count": 110,
     "metadata": {},
     "output_type": "execute_result"
    }
   ],
   "source": [
    "#in the s files, p2 is the confederate\n",
    "df = organize_trial_by_trial('data/c10_gamedata.csv')\n",
    "c10 = df\n",
    "c10_p1_g1_score,c10_p1_g2_score,c10_score_diff = call_get_score(c10, 'c')\n",
    "c10.head()"
   ]
  },
  {
   "cell_type": "code",
   "execution_count": 111,
   "metadata": {},
   "outputs": [
    {
     "data": {
      "text/html": [
       "<div>\n",
       "<style scoped>\n",
       "    .dataframe tbody tr th:only-of-type {\n",
       "        vertical-align: middle;\n",
       "    }\n",
       "\n",
       "    .dataframe tbody tr th {\n",
       "        vertical-align: top;\n",
       "    }\n",
       "\n",
       "    .dataframe thead th {\n",
       "        text-align: right;\n",
       "    }\n",
       "</style>\n",
       "<table border=\"1\" class=\"dataframe\">\n",
       "  <thead>\n",
       "    <tr style=\"text-align: right;\">\n",
       "      <th></th>\n",
       "      <th>game number</th>\n",
       "      <th>trial</th>\n",
       "      <th>player</th>\n",
       "      <th>arm</th>\n",
       "      <th>probability</th>\n",
       "      <th>P1 score</th>\n",
       "      <th>P2 score</th>\n",
       "    </tr>\n",
       "  </thead>\n",
       "  <tbody>\n",
       "    <tr>\n",
       "      <td>0</td>\n",
       "      <td>1</td>\n",
       "      <td>1</td>\n",
       "      <td>1</td>\n",
       "      <td>2</td>\n",
       "      <td>90</td>\n",
       "      <td>1</td>\n",
       "      <td>0</td>\n",
       "    </tr>\n",
       "    <tr>\n",
       "      <td>1</td>\n",
       "      <td>1</td>\n",
       "      <td>1</td>\n",
       "      <td>2</td>\n",
       "      <td>2</td>\n",
       "      <td>60</td>\n",
       "      <td>1</td>\n",
       "      <td>1</td>\n",
       "    </tr>\n",
       "    <tr>\n",
       "      <td>2</td>\n",
       "      <td>1</td>\n",
       "      <td>2</td>\n",
       "      <td>1</td>\n",
       "      <td>1</td>\n",
       "      <td>60</td>\n",
       "      <td>1</td>\n",
       "      <td>1</td>\n",
       "    </tr>\n",
       "    <tr>\n",
       "      <td>3</td>\n",
       "      <td>1</td>\n",
       "      <td>2</td>\n",
       "      <td>2</td>\n",
       "      <td>2</td>\n",
       "      <td>60</td>\n",
       "      <td>1</td>\n",
       "      <td>2</td>\n",
       "    </tr>\n",
       "    <tr>\n",
       "      <td>4</td>\n",
       "      <td>1</td>\n",
       "      <td>3</td>\n",
       "      <td>1</td>\n",
       "      <td>1</td>\n",
       "      <td>60</td>\n",
       "      <td>1</td>\n",
       "      <td>2</td>\n",
       "    </tr>\n",
       "  </tbody>\n",
       "</table>\n",
       "</div>"
      ],
      "text/plain": [
       "   game number  trial  player  arm  probability  P1 score  P2 score\n",
       "0            1      1       1    2           90         1         0\n",
       "1            1      1       2    2           60         1         1\n",
       "2            1      2       1    1           60         1         1\n",
       "3            1      2       2    2           60         1         2\n",
       "4            1      3       1    1           60         1         2"
      ]
     },
     "execution_count": 111,
     "metadata": {},
     "output_type": "execute_result"
    }
   ],
   "source": [
    "#in the s files, p2 is the confederate\n",
    "df = organize_trial_by_trial('data/c11_gamedata.csv')\n",
    "c11 = df\n",
    "c11_p1_g1_score,c11_p1_g2_score,c11_score_diff = call_get_score(c11, 'c')\n",
    "c11.head()"
   ]
  },
  {
   "cell_type": "code",
   "execution_count": 112,
   "metadata": {},
   "outputs": [],
   "source": [
    "pd.set_option('display.max_columns', None)  "
   ]
  },
  {
   "cell_type": "code",
   "execution_count": 113,
   "metadata": {},
   "outputs": [
    {
     "data": {
      "text/html": [
       "<div>\n",
       "<style scoped>\n",
       "    .dataframe tbody tr th:only-of-type {\n",
       "        vertical-align: middle;\n",
       "    }\n",
       "\n",
       "    .dataframe tbody tr th {\n",
       "        vertical-align: top;\n",
       "    }\n",
       "\n",
       "    .dataframe thead th {\n",
       "        text-align: right;\n",
       "    }\n",
       "</style>\n",
       "<table border=\"1\" class=\"dataframe\">\n",
       "  <thead>\n",
       "    <tr style=\"text-align: right;\">\n",
       "      <th></th>\n",
       "      <th>game number</th>\n",
       "      <th>trial</th>\n",
       "      <th>player</th>\n",
       "      <th>arm</th>\n",
       "      <th>probability</th>\n",
       "      <th>P1 score</th>\n",
       "      <th>P2 score</th>\n",
       "    </tr>\n",
       "  </thead>\n",
       "  <tbody>\n",
       "    <tr>\n",
       "      <td>1</td>\n",
       "      <td>1</td>\n",
       "      <td>1</td>\n",
       "      <td>2</td>\n",
       "      <td>0</td>\n",
       "      <td>90</td>\n",
       "      <td>1</td>\n",
       "      <td>0</td>\n",
       "    </tr>\n",
       "    <tr>\n",
       "      <td>2</td>\n",
       "      <td>1</td>\n",
       "      <td>2</td>\n",
       "      <td>1</td>\n",
       "      <td>2</td>\n",
       "      <td>60</td>\n",
       "      <td>1</td>\n",
       "      <td>0</td>\n",
       "    </tr>\n",
       "    <tr>\n",
       "      <td>3</td>\n",
       "      <td>1</td>\n",
       "      <td>3</td>\n",
       "      <td>2</td>\n",
       "      <td>0</td>\n",
       "      <td>90</td>\n",
       "      <td>2</td>\n",
       "      <td>0</td>\n",
       "    </tr>\n",
       "    <tr>\n",
       "      <td>4</td>\n",
       "      <td>1</td>\n",
       "      <td>4</td>\n",
       "      <td>1</td>\n",
       "      <td>3</td>\n",
       "      <td>30</td>\n",
       "      <td>2</td>\n",
       "      <td>1</td>\n",
       "    </tr>\n",
       "    <tr>\n",
       "      <td>5</td>\n",
       "      <td>1</td>\n",
       "      <td>5</td>\n",
       "      <td>2</td>\n",
       "      <td>0</td>\n",
       "      <td>90</td>\n",
       "      <td>2</td>\n",
       "      <td>1</td>\n",
       "    </tr>\n",
       "  </tbody>\n",
       "</table>\n",
       "</div>"
      ],
      "text/plain": [
       "   game number  trial  player  arm  probability  P1 score  P2 score\n",
       "1            1      1       2    0           90         1         0\n",
       "2            1      2       1    2           60         1         0\n",
       "3            1      3       2    0           90         2         0\n",
       "4            1      4       1    3           30         2         1\n",
       "5            1      5       2    0           90         2         1"
      ]
     },
     "execution_count": 113,
     "metadata": {},
     "output_type": "execute_result"
    }
   ],
   "source": [
    "#in the s files, p2 is the confederate\n",
    "df = organize_trial_by_trial_floatclick('data/c12_gamedata.csv')\n",
    "c12 = df\n",
    "c12_p1_g1_score,c12_p1_g2_score,c12_score_diff = call_get_score(c12, 'c')\n",
    "c12.head()"
   ]
  },
  {
   "cell_type": "code",
   "execution_count": 114,
   "metadata": {},
   "outputs": [
    {
     "data": {
      "text/html": [
       "<div>\n",
       "<style scoped>\n",
       "    .dataframe tbody tr th:only-of-type {\n",
       "        vertical-align: middle;\n",
       "    }\n",
       "\n",
       "    .dataframe tbody tr th {\n",
       "        vertical-align: top;\n",
       "    }\n",
       "\n",
       "    .dataframe thead th {\n",
       "        text-align: right;\n",
       "    }\n",
       "</style>\n",
       "<table border=\"1\" class=\"dataframe\">\n",
       "  <thead>\n",
       "    <tr style=\"text-align: right;\">\n",
       "      <th></th>\n",
       "      <th>game number</th>\n",
       "      <th>trial</th>\n",
       "      <th>player</th>\n",
       "      <th>arm</th>\n",
       "      <th>probability</th>\n",
       "      <th>P1 score</th>\n",
       "      <th>P2 score</th>\n",
       "    </tr>\n",
       "  </thead>\n",
       "  <tbody>\n",
       "    <tr>\n",
       "      <td>1</td>\n",
       "      <td>1</td>\n",
       "      <td>1</td>\n",
       "      <td>2</td>\n",
       "      <td>0</td>\n",
       "      <td>60</td>\n",
       "      <td>0</td>\n",
       "      <td>0</td>\n",
       "    </tr>\n",
       "    <tr>\n",
       "      <td>2</td>\n",
       "      <td>1</td>\n",
       "      <td>2</td>\n",
       "      <td>1</td>\n",
       "      <td>3</td>\n",
       "      <td>30</td>\n",
       "      <td>0</td>\n",
       "      <td>1</td>\n",
       "    </tr>\n",
       "    <tr>\n",
       "      <td>3</td>\n",
       "      <td>1</td>\n",
       "      <td>3</td>\n",
       "      <td>2</td>\n",
       "      <td>0</td>\n",
       "      <td>60</td>\n",
       "      <td>0</td>\n",
       "      <td>1</td>\n",
       "    </tr>\n",
       "    <tr>\n",
       "      <td>4</td>\n",
       "      <td>1</td>\n",
       "      <td>4</td>\n",
       "      <td>1</td>\n",
       "      <td>2</td>\n",
       "      <td>60</td>\n",
       "      <td>0</td>\n",
       "      <td>1</td>\n",
       "    </tr>\n",
       "    <tr>\n",
       "      <td>5</td>\n",
       "      <td>1</td>\n",
       "      <td>5</td>\n",
       "      <td>2</td>\n",
       "      <td>0</td>\n",
       "      <td>60</td>\n",
       "      <td>1</td>\n",
       "      <td>1</td>\n",
       "    </tr>\n",
       "  </tbody>\n",
       "</table>\n",
       "</div>"
      ],
      "text/plain": [
       "   game number  trial  player  arm  probability  P1 score  P2 score\n",
       "1            1      1       2    0           60         0         0\n",
       "2            1      2       1    3           30         0         1\n",
       "3            1      3       2    0           60         0         1\n",
       "4            1      4       1    2           60         0         1\n",
       "5            1      5       2    0           60         1         1"
      ]
     },
     "execution_count": 114,
     "metadata": {},
     "output_type": "execute_result"
    }
   ],
   "source": [
    "#in the s files, p2 is the confederate\n",
    "df = organize_trial_by_trial_floatclick('data/c13_gamedata.csv')\n",
    "c13 = df\n",
    "c13_p1_g1_score,c13_p1_g2_score,c13_score_diff = call_get_score(c13, 'c')\n",
    "c13.head()"
   ]
  },
  {
   "cell_type": "code",
   "execution_count": 115,
   "metadata": {},
   "outputs": [
    {
     "data": {
      "text/html": [
       "<div>\n",
       "<style scoped>\n",
       "    .dataframe tbody tr th:only-of-type {\n",
       "        vertical-align: middle;\n",
       "    }\n",
       "\n",
       "    .dataframe tbody tr th {\n",
       "        vertical-align: top;\n",
       "    }\n",
       "\n",
       "    .dataframe thead th {\n",
       "        text-align: right;\n",
       "    }\n",
       "</style>\n",
       "<table border=\"1\" class=\"dataframe\">\n",
       "  <thead>\n",
       "    <tr style=\"text-align: right;\">\n",
       "      <th></th>\n",
       "      <th>game number</th>\n",
       "      <th>trial</th>\n",
       "      <th>player</th>\n",
       "      <th>arm</th>\n",
       "      <th>probability</th>\n",
       "      <th>P1 score</th>\n",
       "      <th>P2 score</th>\n",
       "    </tr>\n",
       "  </thead>\n",
       "  <tbody>\n",
       "    <tr>\n",
       "      <td>1</td>\n",
       "      <td>1</td>\n",
       "      <td>1</td>\n",
       "      <td>2</td>\n",
       "      <td>0</td>\n",
       "      <td>30</td>\n",
       "      <td>0</td>\n",
       "      <td>0</td>\n",
       "    </tr>\n",
       "    <tr>\n",
       "      <td>2</td>\n",
       "      <td>1</td>\n",
       "      <td>2</td>\n",
       "      <td>1</td>\n",
       "      <td>3</td>\n",
       "      <td>30</td>\n",
       "      <td>0</td>\n",
       "      <td>0</td>\n",
       "    </tr>\n",
       "    <tr>\n",
       "      <td>3</td>\n",
       "      <td>1</td>\n",
       "      <td>3</td>\n",
       "      <td>2</td>\n",
       "      <td>0</td>\n",
       "      <td>30</td>\n",
       "      <td>0</td>\n",
       "      <td>0</td>\n",
       "    </tr>\n",
       "    <tr>\n",
       "      <td>4</td>\n",
       "      <td>1</td>\n",
       "      <td>4</td>\n",
       "      <td>1</td>\n",
       "      <td>2</td>\n",
       "      <td>60</td>\n",
       "      <td>0</td>\n",
       "      <td>0</td>\n",
       "    </tr>\n",
       "    <tr>\n",
       "      <td>5</td>\n",
       "      <td>1</td>\n",
       "      <td>5</td>\n",
       "      <td>2</td>\n",
       "      <td>0</td>\n",
       "      <td>30</td>\n",
       "      <td>1</td>\n",
       "      <td>0</td>\n",
       "    </tr>\n",
       "  </tbody>\n",
       "</table>\n",
       "</div>"
      ],
      "text/plain": [
       "   game number  trial  player  arm  probability  P1 score  P2 score\n",
       "1            1      1       2    0           30         0         0\n",
       "2            1      2       1    3           30         0         0\n",
       "3            1      3       2    0           30         0         0\n",
       "4            1      4       1    2           60         0         0\n",
       "5            1      5       2    0           30         1         0"
      ]
     },
     "execution_count": 115,
     "metadata": {},
     "output_type": "execute_result"
    }
   ],
   "source": [
    "#in the s files, p2 is the confederate\n",
    "df = organize_trial_by_trial_floatclick('data/c14_gamedata.csv')\n",
    "c14 = df\n",
    "c14_p1_g1_score,c14_p1_g2_score,c14_score_diff = call_get_score(c14, 'c')\n",
    "c14.head()"
   ]
  },
  {
   "cell_type": "code",
   "execution_count": 116,
   "metadata": {},
   "outputs": [
    {
     "data": {
      "text/html": [
       "<div>\n",
       "<style scoped>\n",
       "    .dataframe tbody tr th:only-of-type {\n",
       "        vertical-align: middle;\n",
       "    }\n",
       "\n",
       "    .dataframe tbody tr th {\n",
       "        vertical-align: top;\n",
       "    }\n",
       "\n",
       "    .dataframe thead th {\n",
       "        text-align: right;\n",
       "    }\n",
       "</style>\n",
       "<table border=\"1\" class=\"dataframe\">\n",
       "  <thead>\n",
       "    <tr style=\"text-align: right;\">\n",
       "      <th></th>\n",
       "      <th>game number</th>\n",
       "      <th>trial</th>\n",
       "      <th>player</th>\n",
       "      <th>arm</th>\n",
       "      <th>probability</th>\n",
       "      <th>P1 score</th>\n",
       "      <th>P2 score</th>\n",
       "    </tr>\n",
       "  </thead>\n",
       "  <tbody>\n",
       "    <tr>\n",
       "      <td>1</td>\n",
       "      <td>1</td>\n",
       "      <td>1</td>\n",
       "      <td>2</td>\n",
       "      <td>0</td>\n",
       "      <td>90</td>\n",
       "      <td>1</td>\n",
       "      <td>0</td>\n",
       "    </tr>\n",
       "    <tr>\n",
       "      <td>2</td>\n",
       "      <td>1</td>\n",
       "      <td>2</td>\n",
       "      <td>1</td>\n",
       "      <td>2</td>\n",
       "      <td>60</td>\n",
       "      <td>1</td>\n",
       "      <td>0</td>\n",
       "    </tr>\n",
       "    <tr>\n",
       "      <td>3</td>\n",
       "      <td>1</td>\n",
       "      <td>3</td>\n",
       "      <td>2</td>\n",
       "      <td>0</td>\n",
       "      <td>90</td>\n",
       "      <td>2</td>\n",
       "      <td>0</td>\n",
       "    </tr>\n",
       "    <tr>\n",
       "      <td>4</td>\n",
       "      <td>1</td>\n",
       "      <td>4</td>\n",
       "      <td>1</td>\n",
       "      <td>3</td>\n",
       "      <td>30</td>\n",
       "      <td>2</td>\n",
       "      <td>1</td>\n",
       "    </tr>\n",
       "    <tr>\n",
       "      <td>5</td>\n",
       "      <td>1</td>\n",
       "      <td>5</td>\n",
       "      <td>2</td>\n",
       "      <td>0</td>\n",
       "      <td>90</td>\n",
       "      <td>2</td>\n",
       "      <td>1</td>\n",
       "    </tr>\n",
       "  </tbody>\n",
       "</table>\n",
       "</div>"
      ],
      "text/plain": [
       "   game number  trial  player  arm  probability  P1 score  P2 score\n",
       "1            1      1       2    0           90         1         0\n",
       "2            1      2       1    2           60         1         0\n",
       "3            1      3       2    0           90         2         0\n",
       "4            1      4       1    3           30         2         1\n",
       "5            1      5       2    0           90         2         1"
      ]
     },
     "execution_count": 116,
     "metadata": {},
     "output_type": "execute_result"
    }
   ],
   "source": [
    "#in the s files, p2 is the confederate\n",
    "df = organize_trial_by_trial_floatclick('data/c16_gamedata.csv')\n",
    "c16 = df\n",
    "c16_p1_g1_score,c16_p1_g2_score,c16_score_diff = call_get_score(c16, 'c')\n",
    "c12.head()"
   ]
  },
  {
   "cell_type": "code",
   "execution_count": 117,
   "metadata": {},
   "outputs": [
    {
     "data": {
      "text/html": [
       "<div>\n",
       "<style scoped>\n",
       "    .dataframe tbody tr th:only-of-type {\n",
       "        vertical-align: middle;\n",
       "    }\n",
       "\n",
       "    .dataframe tbody tr th {\n",
       "        vertical-align: top;\n",
       "    }\n",
       "\n",
       "    .dataframe thead th {\n",
       "        text-align: right;\n",
       "    }\n",
       "</style>\n",
       "<table border=\"1\" class=\"dataframe\">\n",
       "  <thead>\n",
       "    <tr style=\"text-align: right;\">\n",
       "      <th></th>\n",
       "      <th>game number</th>\n",
       "      <th>trial</th>\n",
       "      <th>player</th>\n",
       "      <th>arm</th>\n",
       "      <th>probability</th>\n",
       "      <th>P1 score</th>\n",
       "      <th>P2 score</th>\n",
       "    </tr>\n",
       "  </thead>\n",
       "  <tbody>\n",
       "    <tr>\n",
       "      <td>1</td>\n",
       "      <td>1</td>\n",
       "      <td>1</td>\n",
       "      <td>2</td>\n",
       "      <td>0</td>\n",
       "      <td>60</td>\n",
       "      <td>0</td>\n",
       "      <td>0</td>\n",
       "    </tr>\n",
       "    <tr>\n",
       "      <td>2</td>\n",
       "      <td>1</td>\n",
       "      <td>2</td>\n",
       "      <td>1</td>\n",
       "      <td>3</td>\n",
       "      <td>30</td>\n",
       "      <td>0</td>\n",
       "      <td>0</td>\n",
       "    </tr>\n",
       "    <tr>\n",
       "      <td>3</td>\n",
       "      <td>1</td>\n",
       "      <td>3</td>\n",
       "      <td>2</td>\n",
       "      <td>0</td>\n",
       "      <td>60</td>\n",
       "      <td>0</td>\n",
       "      <td>0</td>\n",
       "    </tr>\n",
       "    <tr>\n",
       "      <td>4</td>\n",
       "      <td>1</td>\n",
       "      <td>4</td>\n",
       "      <td>1</td>\n",
       "      <td>1</td>\n",
       "      <td>90</td>\n",
       "      <td>0</td>\n",
       "      <td>1</td>\n",
       "    </tr>\n",
       "    <tr>\n",
       "      <td>5</td>\n",
       "      <td>1</td>\n",
       "      <td>5</td>\n",
       "      <td>2</td>\n",
       "      <td>0</td>\n",
       "      <td>60</td>\n",
       "      <td>1</td>\n",
       "      <td>1</td>\n",
       "    </tr>\n",
       "  </tbody>\n",
       "</table>\n",
       "</div>"
      ],
      "text/plain": [
       "   game number  trial  player  arm  probability  P1 score  P2 score\n",
       "1            1      1       2    0           60         0         0\n",
       "2            1      2       1    3           30         0         0\n",
       "3            1      3       2    0           60         0         0\n",
       "4            1      4       1    1           90         0         1\n",
       "5            1      5       2    0           60         1         1"
      ]
     },
     "execution_count": 117,
     "metadata": {},
     "output_type": "execute_result"
    }
   ],
   "source": [
    "#in the s files, p2 is the confederate\n",
    "df = organize_trial_by_trial_floatclick('data/c17_gamedata.csv')\n",
    "c17 = df\n",
    "c17_p1_g1_score,c17_p1_g2_score,c17_score_diff = call_get_score(c17, 'c')\n",
    "c17.head()#in the s files, p2 is the confederate\n"
   ]
  },
  {
   "cell_type": "markdown",
   "metadata": {},
   "source": [
    "# Confederate score difference between G1 and G2"
   ]
  },
  {
   "cell_type": "code",
   "execution_count": 118,
   "metadata": {},
   "outputs": [],
   "source": [
    "score_diff_confederate = pd.DataFrame({'participant':['c02', 'c03', \n",
    "                               'c05', 'c06', 'c09', 'c10', 'c11', 'c12', 'c13', 'c14', 'c16', 'c17'], 'score_diff_confederate':\n",
    "     [c02_score_diff, c03_score_diff,\n",
    "      c05_score_diff, c06_score_diff, c09_score_diff, c10_score_diff, c11_score_diff, c12_score_diff, c13_score_diff, c14_score_diff, c16_score_diff, c17_score_diff ]})"
   ]
  },
  {
   "cell_type": "code",
   "execution_count": 119,
   "metadata": {},
   "outputs": [
    {
     "data": {
      "text/html": [
       "<div>\n",
       "<style scoped>\n",
       "    .dataframe tbody tr th:only-of-type {\n",
       "        vertical-align: middle;\n",
       "    }\n",
       "\n",
       "    .dataframe tbody tr th {\n",
       "        vertical-align: top;\n",
       "    }\n",
       "\n",
       "    .dataframe thead th {\n",
       "        text-align: right;\n",
       "    }\n",
       "</style>\n",
       "<table border=\"1\" class=\"dataframe\">\n",
       "  <thead>\n",
       "    <tr style=\"text-align: right;\">\n",
       "      <th></th>\n",
       "      <th>participant</th>\n",
       "      <th>score_diff_confederate</th>\n",
       "    </tr>\n",
       "  </thead>\n",
       "  <tbody>\n",
       "    <tr>\n",
       "      <td>0</td>\n",
       "      <td>c02</td>\n",
       "      <td>11</td>\n",
       "    </tr>\n",
       "    <tr>\n",
       "      <td>1</td>\n",
       "      <td>c03</td>\n",
       "      <td>-6</td>\n",
       "    </tr>\n",
       "    <tr>\n",
       "      <td>2</td>\n",
       "      <td>c05</td>\n",
       "      <td>11</td>\n",
       "    </tr>\n",
       "    <tr>\n",
       "      <td>3</td>\n",
       "      <td>c06</td>\n",
       "      <td>-6</td>\n",
       "    </tr>\n",
       "    <tr>\n",
       "      <td>4</td>\n",
       "      <td>c09</td>\n",
       "      <td>-17</td>\n",
       "    </tr>\n",
       "    <tr>\n",
       "      <td>5</td>\n",
       "      <td>c10</td>\n",
       "      <td>-2</td>\n",
       "    </tr>\n",
       "    <tr>\n",
       "      <td>6</td>\n",
       "      <td>c11</td>\n",
       "      <td>13</td>\n",
       "    </tr>\n",
       "    <tr>\n",
       "      <td>7</td>\n",
       "      <td>c12</td>\n",
       "      <td>-6</td>\n",
       "    </tr>\n",
       "    <tr>\n",
       "      <td>8</td>\n",
       "      <td>c13</td>\n",
       "      <td>4</td>\n",
       "    </tr>\n",
       "    <tr>\n",
       "      <td>9</td>\n",
       "      <td>c14</td>\n",
       "      <td>-3</td>\n",
       "    </tr>\n",
       "    <tr>\n",
       "      <td>10</td>\n",
       "      <td>c16</td>\n",
       "      <td>1</td>\n",
       "    </tr>\n",
       "    <tr>\n",
       "      <td>11</td>\n",
       "      <td>c17</td>\n",
       "      <td>-11</td>\n",
       "    </tr>\n",
       "  </tbody>\n",
       "</table>\n",
       "</div>"
      ],
      "text/plain": [
       "   participant  score_diff_confederate\n",
       "0          c02                      11\n",
       "1          c03                      -6\n",
       "2          c05                      11\n",
       "3          c06                      -6\n",
       "4          c09                     -17\n",
       "5          c10                      -2\n",
       "6          c11                      13\n",
       "7          c12                      -6\n",
       "8          c13                       4\n",
       "9          c14                      -3\n",
       "10         c16                       1\n",
       "11         c17                     -11"
      ]
     },
     "execution_count": 119,
     "metadata": {},
     "output_type": "execute_result"
    }
   ],
   "source": [
    "score_diff_confederate"
   ]
  },
  {
   "cell_type": "code",
   "execution_count": 120,
   "metadata": {},
   "outputs": [],
   "source": [
    "score_diff_confederate_mean = score_diff_confederate['score_diff_confederate'].mean()"
   ]
  },
  {
   "cell_type": "code",
   "execution_count": 121,
   "metadata": {},
   "outputs": [],
   "source": [
    "#score_diff_ex_mean = score_diff_confederate_ex['score_diff_confederate'].mean()"
   ]
  },
  {
   "cell_type": "code",
   "execution_count": 122,
   "metadata": {},
   "outputs": [
    {
     "data": {
      "text/plain": [
       "-0.9166666666666666"
      ]
     },
     "execution_count": 122,
     "metadata": {},
     "output_type": "execute_result"
    }
   ],
   "source": [
    "score_diff_confederate_mean"
   ]
  },
  {
   "cell_type": "code",
   "execution_count": 123,
   "metadata": {},
   "outputs": [],
   "source": [
    "#score_diff_ex_mean"
   ]
  },
  {
   "cell_type": "markdown",
   "metadata": {},
   "source": [
    "# Confederate scores in G1 and G2"
   ]
  },
  {
   "cell_type": "code",
   "execution_count": 124,
   "metadata": {},
   "outputs": [
    {
     "data": {
      "text/html": [
       "<div>\n",
       "<style scoped>\n",
       "    .dataframe tbody tr th:only-of-type {\n",
       "        vertical-align: middle;\n",
       "    }\n",
       "\n",
       "    .dataframe tbody tr th {\n",
       "        vertical-align: top;\n",
       "    }\n",
       "\n",
       "    .dataframe thead th {\n",
       "        text-align: right;\n",
       "    }\n",
       "</style>\n",
       "<table border=\"1\" class=\"dataframe\">\n",
       "  <thead>\n",
       "    <tr style=\"text-align: right;\">\n",
       "      <th></th>\n",
       "      <th>confederate_score_1</th>\n",
       "    </tr>\n",
       "    <tr>\n",
       "      <th>participant</th>\n",
       "      <th></th>\n",
       "    </tr>\n",
       "  </thead>\n",
       "  <tbody>\n",
       "    <tr>\n",
       "      <td>c02</td>\n",
       "      <td>74</td>\n",
       "    </tr>\n",
       "    <tr>\n",
       "      <td>c03</td>\n",
       "      <td>79</td>\n",
       "    </tr>\n",
       "    <tr>\n",
       "      <td>c05</td>\n",
       "      <td>61</td>\n",
       "    </tr>\n",
       "    <tr>\n",
       "      <td>c06</td>\n",
       "      <td>59</td>\n",
       "    </tr>\n",
       "    <tr>\n",
       "      <td>c09</td>\n",
       "      <td>61</td>\n",
       "    </tr>\n",
       "    <tr>\n",
       "      <td>c10</td>\n",
       "      <td>81</td>\n",
       "    </tr>\n",
       "    <tr>\n",
       "      <td>c11</td>\n",
       "      <td>69</td>\n",
       "    </tr>\n",
       "    <tr>\n",
       "      <td>c12</td>\n",
       "      <td>59</td>\n",
       "    </tr>\n",
       "    <tr>\n",
       "      <td>c13</td>\n",
       "      <td>64</td>\n",
       "    </tr>\n",
       "    <tr>\n",
       "      <td>c14</td>\n",
       "      <td>67</td>\n",
       "    </tr>\n",
       "    <tr>\n",
       "      <td>c16</td>\n",
       "      <td>70</td>\n",
       "    </tr>\n",
       "    <tr>\n",
       "      <td>c17</td>\n",
       "      <td>85</td>\n",
       "    </tr>\n",
       "  </tbody>\n",
       "</table>\n",
       "</div>"
      ],
      "text/plain": [
       "             confederate_score_1\n",
       "participant                     \n",
       "c02                           74\n",
       "c03                           79\n",
       "c05                           61\n",
       "c06                           59\n",
       "c09                           61\n",
       "c10                           81\n",
       "c11                           69\n",
       "c12                           59\n",
       "c13                           64\n",
       "c14                           67\n",
       "c16                           70\n",
       "c17                           85"
      ]
     },
     "execution_count": 124,
     "metadata": {},
     "output_type": "execute_result"
    }
   ],
   "source": [
    "#list out all the scores in game 1 by participant\n",
    "c_scores_1 = pd.DataFrame({'participant':['c02', 'c03', \n",
    "                               'c05', 'c06', 'c09', 'c10', 'c11', 'c12', 'c13', 'c14', 'c16', 'c17'], 'confederate_score_1':\n",
    "     [c02_p1_g1_score, c03_p1_g1_score,\n",
    "      c05_p1_g1_score, c06_p1_g1_score, c09_p1_g1_score, c10_p1_g1_score, c11_p1_g1_score, c12_p1_g1_score, c13_p1_g1_score, c14_p1_g1_score, c16_p1_g1_score, c17_p1_g1_score]})\n",
    "#to prevent an extra column that numbers each row:\n",
    "c_scores_1.set_index('participant', inplace=True, drop=True)\n",
    "\n",
    "#print\n",
    "c_scores_1"
   ]
  },
  {
   "cell_type": "code",
   "execution_count": 125,
   "metadata": {},
   "outputs": [
    {
     "data": {
      "text/html": [
       "<div>\n",
       "<style scoped>\n",
       "    .dataframe tbody tr th:only-of-type {\n",
       "        vertical-align: middle;\n",
       "    }\n",
       "\n",
       "    .dataframe tbody tr th {\n",
       "        vertical-align: top;\n",
       "    }\n",
       "\n",
       "    .dataframe thead th {\n",
       "        text-align: right;\n",
       "    }\n",
       "</style>\n",
       "<table border=\"1\" class=\"dataframe\">\n",
       "  <thead>\n",
       "    <tr style=\"text-align: right;\">\n",
       "      <th></th>\n",
       "      <th>confederate_score_2</th>\n",
       "    </tr>\n",
       "    <tr>\n",
       "      <th>participant</th>\n",
       "      <th></th>\n",
       "    </tr>\n",
       "  </thead>\n",
       "  <tbody>\n",
       "    <tr>\n",
       "      <td>c02</td>\n",
       "      <td>85</td>\n",
       "    </tr>\n",
       "    <tr>\n",
       "      <td>c03</td>\n",
       "      <td>73</td>\n",
       "    </tr>\n",
       "    <tr>\n",
       "      <td>c05</td>\n",
       "      <td>72</td>\n",
       "    </tr>\n",
       "    <tr>\n",
       "      <td>c06</td>\n",
       "      <td>53</td>\n",
       "    </tr>\n",
       "    <tr>\n",
       "      <td>c09</td>\n",
       "      <td>44</td>\n",
       "    </tr>\n",
       "    <tr>\n",
       "      <td>c10</td>\n",
       "      <td>79</td>\n",
       "    </tr>\n",
       "    <tr>\n",
       "      <td>c11</td>\n",
       "      <td>82</td>\n",
       "    </tr>\n",
       "    <tr>\n",
       "      <td>c12</td>\n",
       "      <td>53</td>\n",
       "    </tr>\n",
       "    <tr>\n",
       "      <td>c13</td>\n",
       "      <td>68</td>\n",
       "    </tr>\n",
       "    <tr>\n",
       "      <td>c14</td>\n",
       "      <td>64</td>\n",
       "    </tr>\n",
       "    <tr>\n",
       "      <td>c16</td>\n",
       "      <td>71</td>\n",
       "    </tr>\n",
       "    <tr>\n",
       "      <td>c17</td>\n",
       "      <td>74</td>\n",
       "    </tr>\n",
       "  </tbody>\n",
       "</table>\n",
       "</div>"
      ],
      "text/plain": [
       "             confederate_score_2\n",
       "participant                     \n",
       "c02                           85\n",
       "c03                           73\n",
       "c05                           72\n",
       "c06                           53\n",
       "c09                           44\n",
       "c10                           79\n",
       "c11                           82\n",
       "c12                           53\n",
       "c13                           68\n",
       "c14                           64\n",
       "c16                           71\n",
       "c17                           74"
      ]
     },
     "execution_count": 125,
     "metadata": {},
     "output_type": "execute_result"
    }
   ],
   "source": [
    "#list out all the scores in game 2 by participant\n",
    "c_scores_2 = pd.DataFrame({'participant':['c02', 'c03', \n",
    "                              'c05', 'c06', 'c09', 'c10', 'c11', 'c12', 'c13', 'c14', 'c16', 'c17'], 'confederate_score_2':[c02_p1_g2_score, c03_p1_g2_score, c05_p1_g2_score, c06_p1_g2_score, c09_p1_g2_score, c10_p1_g2_score, c11_p1_g2_score, c12_p1_g2_score, c13_p1_g2_score, c14_p1_g2_score, c16_p1_g2_score, c17_p1_g2_score]})\n",
    "\n",
    "#to prevent an extra column that numbers each row:\n",
    "c_scores_2.set_index('participant', inplace=True, drop=True)\n",
    "#s_scores_1 = pd.DataFrame(data = d1)\n",
    "#s_scores_2 = pd.DataFrame(data = d2)\n",
    "\n",
    "#print\n",
    "c_scores_2"
   ]
  },
  {
   "cell_type": "code",
   "execution_count": 126,
   "metadata": {},
   "outputs": [
    {
     "data": {
      "image/png": "[encoded data removed]",
      "text/plain": [
       "<Figure size 432x288 with 1 Axes>"
      ]
     },
     "metadata": {
      "needs_background": "light"
     },
     "output_type": "display_data"
    }
   ],
   "source": [
    "c_scores_1_bar = c_scores_1.plot.bar()"
   ]
  },
  {
   "cell_type": "code",
   "execution_count": 127,
   "metadata": {},
   "outputs": [
    {
     "data": {
      "image/png": "[encoded data removed]",
      "text/plain": [
       "<Figure size 432x288 with 1 Axes>"
      ]
     },
     "metadata": {
      "needs_background": "light"
     },
     "output_type": "display_data"
    }
   ],
   "source": [
    "c_scores_2_bar = c_scores_2.plot.bar()"
   ]
  },
  {
   "cell_type": "code",
   "execution_count": 128,
   "metadata": {},
   "outputs": [],
   "source": [
    "#merge both games by participant:\n",
    "c_scores = pd.merge(c_scores_1, c_scores_2, on = 'participant')"
   ]
  },
  {
   "cell_type": "code",
   "execution_count": 129,
   "metadata": {},
   "outputs": [],
   "source": [
    "#label columns\n",
    "c_scores.columns=['Game 1','Game 2']"
   ]
  },
  {
   "cell_type": "code",
   "execution_count": 130,
   "metadata": {},
   "outputs": [
    {
     "data": {
      "text/html": [
       "<div>\n",
       "<style scoped>\n",
       "    .dataframe tbody tr th:only-of-type {\n",
       "        vertical-align: middle;\n",
       "    }\n",
       "\n",
       "    .dataframe tbody tr th {\n",
       "        vertical-align: top;\n",
       "    }\n",
       "\n",
       "    .dataframe thead th {\n",
       "        text-align: right;\n",
       "    }\n",
       "</style>\n",
       "<table border=\"1\" class=\"dataframe\">\n",
       "  <thead>\n",
       "    <tr style=\"text-align: right;\">\n",
       "      <th></th>\n",
       "      <th>Game 1</th>\n",
       "      <th>Game 2</th>\n",
       "    </tr>\n",
       "    <tr>\n",
       "      <th>participant</th>\n",
       "      <th></th>\n",
       "      <th></th>\n",
       "    </tr>\n",
       "  </thead>\n",
       "  <tbody>\n",
       "    <tr>\n",
       "      <td>c02</td>\n",
       "      <td>74</td>\n",
       "      <td>85</td>\n",
       "    </tr>\n",
       "    <tr>\n",
       "      <td>c03</td>\n",
       "      <td>79</td>\n",
       "      <td>73</td>\n",
       "    </tr>\n",
       "    <tr>\n",
       "      <td>c05</td>\n",
       "      <td>61</td>\n",
       "      <td>72</td>\n",
       "    </tr>\n",
       "    <tr>\n",
       "      <td>c06</td>\n",
       "      <td>59</td>\n",
       "      <td>53</td>\n",
       "    </tr>\n",
       "    <tr>\n",
       "      <td>c09</td>\n",
       "      <td>61</td>\n",
       "      <td>44</td>\n",
       "    </tr>\n",
       "    <tr>\n",
       "      <td>c10</td>\n",
       "      <td>81</td>\n",
       "      <td>79</td>\n",
       "    </tr>\n",
       "    <tr>\n",
       "      <td>c11</td>\n",
       "      <td>69</td>\n",
       "      <td>82</td>\n",
       "    </tr>\n",
       "    <tr>\n",
       "      <td>c12</td>\n",
       "      <td>59</td>\n",
       "      <td>53</td>\n",
       "    </tr>\n",
       "    <tr>\n",
       "      <td>c13</td>\n",
       "      <td>64</td>\n",
       "      <td>68</td>\n",
       "    </tr>\n",
       "    <tr>\n",
       "      <td>c14</td>\n",
       "      <td>67</td>\n",
       "      <td>64</td>\n",
       "    </tr>\n",
       "    <tr>\n",
       "      <td>c16</td>\n",
       "      <td>70</td>\n",
       "      <td>71</td>\n",
       "    </tr>\n",
       "    <tr>\n",
       "      <td>c17</td>\n",
       "      <td>85</td>\n",
       "      <td>74</td>\n",
       "    </tr>\n",
       "  </tbody>\n",
       "</table>\n",
       "</div>"
      ],
      "text/plain": [
       "             Game 1  Game 2\n",
       "participant                \n",
       "c02              74      85\n",
       "c03              79      73\n",
       "c05              61      72\n",
       "c06              59      53\n",
       "c09              61      44\n",
       "c10              81      79\n",
       "c11              69      82\n",
       "c12              59      53\n",
       "c13              64      68\n",
       "c14              67      64\n",
       "c16              70      71\n",
       "c17              85      74"
      ]
     },
     "execution_count": 130,
     "metadata": {},
     "output_type": "execute_result"
    }
   ],
   "source": [
    "c_scores"
   ]
  },
  {
   "cell_type": "code",
   "execution_count": 131,
   "metadata": {},
   "outputs": [
    {
     "data": {
      "text/plain": [
       "([<matplotlib.axis.YTick at 0x1a26007d10>,\n",
       "  <matplotlib.axis.YTick at 0x1a26007450>,\n",
       "  <matplotlib.axis.YTick at 0x1a25e21650>,\n",
       "  <matplotlib.axis.YTick at 0x1a260a9f50>,\n",
       "  <matplotlib.axis.YTick at 0x1a260a9a90>,\n",
       "  <matplotlib.axis.YTick at 0x1a260d3b90>],\n",
       " <a list of 6 Text yticklabel objects>)"
      ]
     },
     "execution_count": 131,
     "metadata": {},
     "output_type": "execute_result"
    },
    {
     "data": {
      "image/png": "[encoded data removed]",
      "text/plain": [
       "<Figure size 432x288 with 1 Axes>"
      ]
     },
     "metadata": {
      "needs_background": "light"
     },
     "output_type": "display_data"
    }
   ],
   "source": [
    "c_scores_box = c_scores.boxplot(labels=['Game 1','Game 2'])\n",
    "plt.grid(b=None)\n",
    "plt.yticks(np.arange(50, 105, step=10))"
   ]
  },
  {
   "cell_type": "code",
   "execution_count": 132,
   "metadata": {},
   "outputs": [
    {
     "data": {
      "image/png": "[encoded data removed]",
      "text/plain": [
       "<Figure size 432x288 with 1 Axes>"
      ]
     },
     "metadata": {
      "needs_background": "light"
     },
     "output_type": "display_data"
    }
   ],
   "source": [
    "c_scores_box = sns.boxplot( \n",
    "                 data=c_scores, \n",
    "                 width=0.5,\n",
    "                 palette=\"pastel\")\n",
    "c_scores_box.axes.set_title(\"Confederate Player Scores\",\n",
    "                    fontsize=16)\n",
    "\n",
    "plot_file_name=\"c_score_box.jpg\"\n",
    " \n",
    "plt.ylim(0, 100)\n",
    "c_scores_box.axes.set(ylabel='Score')\n",
    "\n",
    "# save as jpeg\n",
    "c_scores_box.figure.savefig(plot_file_name,\n",
    "                    format='jpeg',\n",
    "                    dpi=100)"
   ]
  },
  {
   "cell_type": "code",
   "execution_count": 133,
   "metadata": {},
   "outputs": [],
   "source": [
    "c_scores_p = sp.stats.ttest_rel(c_scores['Game 1'],c_scores['Game 2'])"
   ]
  },
  {
   "cell_type": "code",
   "execution_count": 134,
   "metadata": {},
   "outputs": [
    {
     "data": {
      "text/plain": [
       "Ttest_relResult(statistic=0.34188840128339476, pvalue=0.7388773653404721)"
      ]
     },
     "execution_count": 134,
     "metadata": {},
     "output_type": "execute_result"
    }
   ],
   "source": [
    "c_scores_p"
   ]
  },
  {
   "cell_type": "code",
   "execution_count": 135,
   "metadata": {},
   "outputs": [
    {
     "data": {
      "image/png": "[encoded data removed]",
      "text/plain": [
       "<Figure size 432x288 with 1 Axes>"
      ]
     },
     "metadata": {
      "needs_background": "light"
     },
     "output_type": "display_data"
    }
   ],
   "source": [
    "c_scores_2_bar = c_scores_2.plot.bar()"
   ]
  },
  {
   "cell_type": "code",
   "execution_count": 136,
   "metadata": {},
   "outputs": [
    {
     "name": "stderr",
     "output_type": "stream",
     "text": [
      "/Users/simonefroley/opt/anaconda3/lib/python3.7/site-packages/pandas/core/frame.py:7123: FutureWarning: Sorting because non-concatenation axis is not aligned. A future version\n",
      "of pandas will change to not sort by default.\n",
      "\n",
      "To accept the future behavior, pass 'sort=False'.\n",
      "\n",
      "To retain the current behavior and silence the warning, pass 'sort=True'.\n",
      "\n",
      "  sort=sort,\n"
     ]
    }
   ],
   "source": [
    "#combine g1 and g2 to one dataframe\n",
    "c_combo = c_scores_1.append(c_scores_2)"
   ]
  },
  {
   "cell_type": "code",
   "execution_count": 137,
   "metadata": {},
   "outputs": [
    {
     "data": {
      "text/plain": [
       "\"c_combo = pd.DataFrame({'participant':['c02', 'c02', 'c03', 'c03',\\n                              'c06','c06','c09','c09','c10','c10','c11','c11','c12','c12','c13','c13','c14','c14','c16','c16','c17','c17'], 'score':\\n     [c02_p1_g1_score, c02_p1_g2_score, c03_p1_g1_score, c03_p1_g2_score, c05_p1_g1_score, c05_p1_g2_score, c06_p1_g1_score, c06_p1_g2_score, c09_p1_g1_score, c09_p1_g2_score, c10_p1_g1_score, c10_p1_g2_score, c11_p1_g1_score, c11_p1_g2_score, c12_p1_g1_score, c12_p1_g2_score, c13_p1_g1_score, c13_p1_g2_score, c14_p1_g1_score, c14_p1_g2_score, c16_p1_g1_score, c16_p1_g2_score, c17_p1_g1_score, c17_p1_g2_score]})\\nc_combo.set_index('participant', inplace=True, drop=True)\""
      ]
     },
     "execution_count": 137,
     "metadata": {},
     "output_type": "execute_result"
    }
   ],
   "source": [
    "'''c_combo = pd.DataFrame({'participant':['c02', 'c02', 'c03', 'c03',\n",
    "                              'c06','c06','c09','c09','c10','c10','c11','c11','c12','c12','c13','c13','c14','c14','c16','c16','c17','c17'], 'score':\n",
    "     [c02_p1_g1_score, c02_p1_g2_score, c03_p1_g1_score, c03_p1_g2_score, c05_p1_g1_score, c05_p1_g2_score, c06_p1_g1_score, c06_p1_g2_score, c09_p1_g1_score, c09_p1_g2_score, c10_p1_g1_score, c10_p1_g2_score, c11_p1_g1_score, c11_p1_g2_score, c12_p1_g1_score, c12_p1_g2_score, c13_p1_g1_score, c13_p1_g2_score, c14_p1_g1_score, c14_p1_g2_score, c16_p1_g1_score, c16_p1_g2_score, c17_p1_g1_score, c17_p1_g2_score]})\n",
    "c_combo.set_index('participant', inplace=True, drop=True)'''"
   ]
  },
  {
   "cell_type": "code",
   "execution_count": 138,
   "metadata": {},
   "outputs": [],
   "source": [
    "#new_index = ('c02_g1','c02_g2','c03_g1','c03_g2','c04_g1','c04_g2','c05_g1','c05_g2','c06_g1','c06_g2','c09_g1','c09_g2','c10_g1','c10_g2','c11_g1','c11_g2','c12_g1','c12_g2','c13_g1','c13_g2','c14_g1','c14_g2','c16_g1','c16_g2','c17_g1','c17_g2')\n",
    "#c_combo.index = new_index"
   ]
  },
  {
   "cell_type": "code",
   "execution_count": 139,
   "metadata": {},
   "outputs": [],
   "source": [
    "c_combo = c_combo.sort_values(by=['participant'])"
   ]
  },
  {
   "cell_type": "code",
   "execution_count": 140,
   "metadata": {},
   "outputs": [
    {
     "data": {
      "image/png": "[encoded data removed]",
      "text/plain": [
       "<Figure size 432x288 with 1 Axes>"
      ]
     },
     "metadata": {
      "needs_background": "light"
     },
     "output_type": "display_data"
    }
   ],
   "source": [
    "#unnecessary graph\n",
    "#need to make g1 and g2 bars diff colors\n",
    "colors = list(islice(cycle(['red','blue','red', 'red','blue','red','blue','red','blue','red','blue','red','blue','red','blue']),None,len(c_combo)))\n",
    "#my_colors = list(islice(cycle(['b', 'r', 'g', 'y', 'k']), None, len(df)))\n",
    "c_combo_bar = c_combo.plot(kind='bar',color=colors)"
   ]
  },
  {
   "cell_type": "code",
   "execution_count": 141,
   "metadata": {},
   "outputs": [],
   "source": [
    "c_scores_1_mean = c_scores_1.mean()"
   ]
  },
  {
   "cell_type": "code",
   "execution_count": 142,
   "metadata": {},
   "outputs": [
    {
     "data": {
      "text/plain": [
       "confederate_score_1    69.083333\n",
       "dtype: float64"
      ]
     },
     "execution_count": 142,
     "metadata": {},
     "output_type": "execute_result"
    }
   ],
   "source": [
    "c_scores_1_mean"
   ]
  },
  {
   "cell_type": "code",
   "execution_count": 143,
   "metadata": {},
   "outputs": [],
   "source": [
    "c_scores_1_std = c_scores_1.std()"
   ]
  },
  {
   "cell_type": "code",
   "execution_count": 144,
   "metadata": {},
   "outputs": [
    {
     "data": {
      "text/plain": [
       "confederate_score_1    8.959082\n",
       "dtype: float64"
      ]
     },
     "execution_count": 144,
     "metadata": {},
     "output_type": "execute_result"
    }
   ],
   "source": [
    "c_scores_1_std"
   ]
  },
  {
   "cell_type": "code",
   "execution_count": 145,
   "metadata": {},
   "outputs": [],
   "source": [
    "c_scores_2_mean = c_scores_2.mean()"
   ]
  },
  {
   "cell_type": "code",
   "execution_count": 146,
   "metadata": {},
   "outputs": [
    {
     "data": {
      "text/plain": [
       "confederate_score_2    68.166667\n",
       "dtype: float64"
      ]
     },
     "execution_count": 146,
     "metadata": {},
     "output_type": "execute_result"
    }
   ],
   "source": [
    "c_scores_2_mean"
   ]
  },
  {
   "cell_type": "code",
   "execution_count": 147,
   "metadata": {},
   "outputs": [],
   "source": [
    "c_scores_2_std = c_scores_2.std()"
   ]
  },
  {
   "cell_type": "code",
   "execution_count": 148,
   "metadata": {},
   "outputs": [
    {
     "data": {
      "text/plain": [
       "confederate_score_2    12.554125\n",
       "dtype: float64"
      ]
     },
     "execution_count": 148,
     "metadata": {},
     "output_type": "execute_result"
    }
   ],
   "source": [
    "c_scores_2_std"
   ]
  },
  {
   "cell_type": "code",
   "execution_count": 149,
   "metadata": {},
   "outputs": [
    {
     "data": {
      "text/plain": [
       "Game 1    68.0\n",
       "Game 2    71.5\n",
       "dtype: float64"
      ]
     },
     "execution_count": 149,
     "metadata": {},
     "output_type": "execute_result"
    }
   ],
   "source": [
    "c_scores_med = c_scores.median()\n",
    "c_scores_med"
   ]
  },
  {
   "cell_type": "markdown",
   "metadata": {},
   "source": [
    "# Confederate choice probabilities"
   ]
  },
  {
   "cell_type": "code",
   "execution_count": 150,
   "metadata": {
    "scrolled": true
   },
   "outputs": [
    {
     "name": "stderr",
     "output_type": "stream",
     "text": [
      "/Users/simonefroley/opt/anaconda3/lib/python3.7/site-packages/ipykernel_launcher.py:5: UserWarning: Boolean Series key will be reindexed to match DataFrame index.\n",
      "  \"\"\"\n",
      "/Users/simonefroley/opt/anaconda3/lib/python3.7/site-packages/ipykernel_launcher.py:6: UserWarning: Boolean Series key will be reindexed to match DataFrame index.\n",
      "  \n"
     ]
    }
   ],
   "source": [
    "#s01_p1_g1, s01_p1_g2 = separate_df(s01, 's')\n",
    "c02_p1_g1, c02_p1_g2 = separate_df(c02, 'c')\n",
    "c03_p1_g1, c03_p1_g2 = separate_df(c03, 'c')\n",
    "c05_p1_g1, c05_p1_g2 = separate_df(c05, 'c')\n",
    "c06_p1_g1, c06_p1_g2 = separate_df(c06, 'c')\n",
    "c09_p1_g1, c09_p1_g2 = separate_df(c09, 'c')\n",
    "c10_p1_g1, c10_p1_g2 = separate_df(c10, 'c')\n",
    "c11_p1_g1, c11_p1_g2 = separate_df(c11, 'c')\n",
    "c12_p1_g1, c12_p1_g2 = separate_df(c12, 'c')\n",
    "c13_p1_g1, c13_p1_g2 = separate_df(c13, 'c')\n",
    "c14_p1_g1, c14_p1_g2 = separate_df(c14, 'c')\n",
    "c16_p1_g1, c16_p1_g2 = separate_df(c16, 'c')\n",
    "c17_p1_g1, c17_p1_g2 = separate_df(c17, 'c')"
   ]
  },
  {
   "cell_type": "code",
   "execution_count": 151,
   "metadata": {},
   "outputs": [],
   "source": [
    "c02_p1_g1_count = c02_p1_g1['probability'].value_counts(sort=False)\n",
    "c02_p1_g2_count = c02_p1_g2['probability'].value_counts(sort=False)\n",
    "c03_p1_g1_count = c03_p1_g1['probability'].value_counts(sort=False)\n",
    "c03_p1_g2_count = c03_p1_g2['probability'].value_counts(sort=False)\n",
    "c05_p1_g1_count = c05_p1_g1['probability'].value_counts(sort=False)\n",
    "c05_p1_g2_count = c05_p1_g2['probability'].value_counts(sort=False)\n",
    "c06_p1_g1_count = c06_p1_g1['probability'].value_counts(sort=False)\n",
    "c06_p1_g2_count = c06_p1_g2['probability'].value_counts(sort=False)\n",
    "c09_p1_g1_count = c09_p1_g1['probability'].value_counts(sort=False)\n",
    "c09_p1_g2_count = c09_p1_g2['probability'].value_counts(sort=False)\n",
    "c10_p1_g1_count = c10_p1_g1['probability'].value_counts(sort=False)\n",
    "c10_p1_g2_count = c10_p1_g2['probability'].value_counts(sort=False)\n",
    "c11_p1_g1_count = c11_p1_g1['probability'].value_counts(sort=False)\n",
    "c11_p1_g2_count = c11_p1_g2['probability'].value_counts(sort=False)\n",
    "c12_p1_g1_count = c12_p1_g1['probability'].value_counts(sort=False)\n",
    "c12_p1_g2_count = c12_p1_g2['probability'].value_counts(sort=False)\n",
    "c13_p1_g1_count = c13_p1_g1['probability'].value_counts(sort=False)\n",
    "c13_p1_g2_count = c13_p1_g2['probability'].value_counts(sort=False)\n",
    "c14_p1_g1_count = c14_p1_g1['probability'].value_counts(sort=False)\n",
    "c14_p1_g2_count = c14_p1_g2['probability'].value_counts(sort=False)\n",
    "c16_p1_g1_count = c16_p1_g1['probability'].value_counts(sort=False)\n",
    "c16_p1_g2_count = c16_p1_g2['probability'].value_counts(sort=False)\n",
    "c17_p1_g1_count = c17_p1_g1['probability'].value_counts(sort=False)\n",
    "c17_p1_g2_count = c17_p1_g2['probability'].value_counts(sort=False)"
   ]
  },
  {
   "cell_type": "markdown",
   "metadata": {},
   "source": [
    "# Confederate choices in G1"
   ]
  },
  {
   "cell_type": "code",
   "execution_count": 152,
   "metadata": {},
   "outputs": [],
   "source": [
    "c_g1_counts = pd.DataFrame([c02_p1_g1_count, c03_p1_g1_count,\n",
    "                            c05_p1_g1_count, c06_p1_g1_count, c09_p1_g1_count, c10_p1_g1_count, c11_p1_g1_count, c12_p1_g1_count, c13_p1_g1_count, c14_p1_g1_count, c16_p1_g1_count, c17_p1_g1_count],\n",
    "         index=['c02_p1_g1_count', 'c03_p1_g1_count', 'c05_p1_g1_count', 'c06_p1_g1_count', \n",
    "                'c09_p1_g1_count', 'c10_p1_g1_count', 'c11_p1_g1_count', 'c12_p1_g1_count', 'c13_p1_g1_count', 'c14_p1_g1_count', \n",
    "                'c16_p1_g1_count', 'c17_p1_g1_count'])"
   ]
  },
  {
   "cell_type": "code",
   "execution_count": 153,
   "metadata": {},
   "outputs": [
    {
     "data": {
      "text/html": [
       "<div>\n",
       "<style scoped>\n",
       "    .dataframe tbody tr th:only-of-type {\n",
       "        vertical-align: middle;\n",
       "    }\n",
       "\n",
       "    .dataframe tbody tr th {\n",
       "        vertical-align: top;\n",
       "    }\n",
       "\n",
       "    .dataframe thead th {\n",
       "        text-align: right;\n",
       "    }\n",
       "</style>\n",
       "<table border=\"1\" class=\"dataframe\">\n",
       "  <thead>\n",
       "    <tr style=\"text-align: right;\">\n",
       "      <th></th>\n",
       "      <th>30</th>\n",
       "      <th>60</th>\n",
       "      <th>90</th>\n",
       "    </tr>\n",
       "  </thead>\n",
       "  <tbody>\n",
       "    <tr>\n",
       "      <td>c02_p1_g1_count</td>\n",
       "      <td>5.0</td>\n",
       "      <td>13.0</td>\n",
       "      <td>2.0</td>\n",
       "    </tr>\n",
       "    <tr>\n",
       "      <td>c03_p1_g1_count</td>\n",
       "      <td>0.0</td>\n",
       "      <td>1.0</td>\n",
       "      <td>19.0</td>\n",
       "    </tr>\n",
       "    <tr>\n",
       "      <td>c05_p1_g1_count</td>\n",
       "      <td>6.0</td>\n",
       "      <td>5.0</td>\n",
       "      <td>9.0</td>\n",
       "    </tr>\n",
       "    <tr>\n",
       "      <td>c06_p1_g1_count</td>\n",
       "      <td>6.0</td>\n",
       "      <td>3.0</td>\n",
       "      <td>11.0</td>\n",
       "    </tr>\n",
       "    <tr>\n",
       "      <td>c09_p1_g1_count</td>\n",
       "      <td>5.0</td>\n",
       "      <td>10.0</td>\n",
       "      <td>5.0</td>\n",
       "    </tr>\n",
       "    <tr>\n",
       "      <td>c10_p1_g1_count</td>\n",
       "      <td>3.0</td>\n",
       "      <td>4.0</td>\n",
       "      <td>13.0</td>\n",
       "    </tr>\n",
       "    <tr>\n",
       "      <td>c11_p1_g1_count</td>\n",
       "      <td>4.0</td>\n",
       "      <td>9.0</td>\n",
       "      <td>7.0</td>\n",
       "    </tr>\n",
       "    <tr>\n",
       "      <td>c12_p1_g1_count</td>\n",
       "      <td>7.0</td>\n",
       "      <td>9.0</td>\n",
       "      <td>4.0</td>\n",
       "    </tr>\n",
       "    <tr>\n",
       "      <td>c13_p1_g1_count</td>\n",
       "      <td>6.0</td>\n",
       "      <td>7.0</td>\n",
       "      <td>7.0</td>\n",
       "    </tr>\n",
       "    <tr>\n",
       "      <td>c14_p1_g1_count</td>\n",
       "      <td>6.0</td>\n",
       "      <td>5.0</td>\n",
       "      <td>9.0</td>\n",
       "    </tr>\n",
       "    <tr>\n",
       "      <td>c16_p1_g1_count</td>\n",
       "      <td>7.0</td>\n",
       "      <td>7.0</td>\n",
       "      <td>6.0</td>\n",
       "    </tr>\n",
       "    <tr>\n",
       "      <td>c17_p1_g1_count</td>\n",
       "      <td>3.0</td>\n",
       "      <td>1.0</td>\n",
       "      <td>16.0</td>\n",
       "    </tr>\n",
       "  </tbody>\n",
       "</table>\n",
       "</div>"
      ],
      "text/plain": [
       "                  30    60    90\n",
       "c02_p1_g1_count  5.0  13.0   2.0\n",
       "c03_p1_g1_count  0.0   1.0  19.0\n",
       "c05_p1_g1_count  6.0   5.0   9.0\n",
       "c06_p1_g1_count  6.0   3.0  11.0\n",
       "c09_p1_g1_count  5.0  10.0   5.0\n",
       "c10_p1_g1_count  3.0   4.0  13.0\n",
       "c11_p1_g1_count  4.0   9.0   7.0\n",
       "c12_p1_g1_count  7.0   9.0   4.0\n",
       "c13_p1_g1_count  6.0   7.0   7.0\n",
       "c14_p1_g1_count  6.0   5.0   9.0\n",
       "c16_p1_g1_count  7.0   7.0   6.0\n",
       "c17_p1_g1_count  3.0   1.0  16.0"
      ]
     },
     "execution_count": 153,
     "metadata": {},
     "output_type": "execute_result"
    }
   ],
   "source": [
    "#How to prevent NaN: df = df.fillna(0)\n",
    "c_g1_counts = c_g1_counts.fillna(0)\n",
    "\n",
    "#print\n",
    "c_g1_counts"
   ]
  },
  {
   "cell_type": "code",
   "execution_count": 154,
   "metadata": {},
   "outputs": [
    {
     "data": {
      "text/plain": [
       "c02_p1_g1_count    20.0\n",
       "c03_p1_g1_count    20.0\n",
       "c05_p1_g1_count    20.0\n",
       "c06_p1_g1_count    20.0\n",
       "c09_p1_g1_count    20.0\n",
       "c10_p1_g1_count    20.0\n",
       "c11_p1_g1_count    20.0\n",
       "c12_p1_g1_count    20.0\n",
       "c13_p1_g1_count    20.0\n",
       "c14_p1_g1_count    20.0\n",
       "c16_p1_g1_count    20.0\n",
       "c17_p1_g1_count    20.0\n",
       "dtype: float64"
      ]
     },
     "execution_count": 154,
     "metadata": {},
     "output_type": "execute_result"
    }
   ],
   "source": [
    "c_g1_counts.sum(axis=1)"
   ]
  },
  {
   "cell_type": "code",
   "execution_count": 155,
   "metadata": {
    "scrolled": true
   },
   "outputs": [
    {
     "data": {
      "image/png": "[encoded data removed]",
      "text/plain": [
       "<Figure size 432x288 with 1 Axes>"
      ]
     },
     "metadata": {
      "needs_background": "light"
     },
     "output_type": "display_data"
    }
   ],
   "source": [
    "c_g1_counts_bar = c_g1_counts.plot.bar()\n",
    "\n",
    "# save as jpeg\n",
    "c_g1_counts_bar.figure.savefig(plot_file_name,\n",
    "                    format='jpeg',\n",
    "                    dpi=100)"
   ]
  },
  {
   "cell_type": "code",
   "execution_count": 156,
   "metadata": {},
   "outputs": [
    {
     "data": {
      "image/png": "[encoded data removed]",
      "text/plain": [
       "<Figure size 432x288 with 1 Axes>"
      ]
     },
     "metadata": {
      "needs_background": "light"
     },
     "output_type": "display_data"
    }
   ],
   "source": [
    "c_g1_counts_box = sns.boxplot( \n",
    "                 data=c_g1_counts, \n",
    "                 width=0.5,\n",
    "                 palette=\"pastel\")\n",
    "c_g1_counts_box.axes.set_title(\"Confederate Player Choice Distributions in Game 1\",\n",
    "                    fontsize=16)\n",
    "\n",
    "plot_file_name=\"c_g1_counts_box.jpg\"\n",
    " \n",
    "plt.ylim(0, 100)\n",
    "c_g1_counts_box.axes.set(xlabel='Arm',ylabel='Frequency')\n",
    "\n",
    "# save as jpeg\n",
    "c_g1_counts_box.figure.savefig(plot_file_name,\n",
    "                    format='jpeg',\n",
    "                    dpi=100)"
   ]
  },
  {
   "cell_type": "code",
   "execution_count": 157,
   "metadata": {},
   "outputs": [],
   "source": [
    "#0 is low (30), 1 is med (60), 2 is high (90)\n",
    "c_g1_low = np.mean(c_g1_counts.iloc[:,0])\n",
    "c_g1_med = np.mean(c_g1_counts.iloc[:,1])\n",
    "c_g1_high = np.mean(c_g1_counts.iloc[:,2])"
   ]
  },
  {
   "cell_type": "code",
   "execution_count": 158,
   "metadata": {},
   "outputs": [
    {
     "data": {
      "text/plain": [
       "4.833333333333333"
      ]
     },
     "execution_count": 158,
     "metadata": {},
     "output_type": "execute_result"
    }
   ],
   "source": [
    "c_g1_low"
   ]
  },
  {
   "cell_type": "code",
   "execution_count": 159,
   "metadata": {},
   "outputs": [
    {
     "data": {
      "text/plain": [
       "6.166666666666667"
      ]
     },
     "execution_count": 159,
     "metadata": {},
     "output_type": "execute_result"
    }
   ],
   "source": [
    "c_g1_med"
   ]
  },
  {
   "cell_type": "code",
   "execution_count": 160,
   "metadata": {},
   "outputs": [
    {
     "data": {
      "text/plain": [
       "9.0"
      ]
     },
     "execution_count": 160,
     "metadata": {},
     "output_type": "execute_result"
    }
   ],
   "source": [
    "c_g1_high"
   ]
  },
  {
   "cell_type": "code",
   "execution_count": 161,
   "metadata": {},
   "outputs": [],
   "source": [
    "c_g1_low_std = np.std(c_g1_counts.iloc[:,0])\n",
    "c_g1_med_std = np.std(c_g1_counts.iloc[:,1])\n",
    "c_g1_high_std = np.std(c_g1_counts.iloc[:,2])"
   ]
  },
  {
   "cell_type": "code",
   "execution_count": 162,
   "metadata": {},
   "outputs": [
    {
     "data": {
      "text/plain": [
       "1.9507833184532708"
      ]
     },
     "execution_count": 162,
     "metadata": {},
     "output_type": "execute_result"
    }
   ],
   "source": [
    "c_g1_low_std"
   ]
  },
  {
   "cell_type": "code",
   "execution_count": 163,
   "metadata": {},
   "outputs": [
    {
     "data": {
      "text/plain": [
       "3.531603350069515"
      ]
     },
     "execution_count": 163,
     "metadata": {},
     "output_type": "execute_result"
    }
   ],
   "source": [
    "c_g1_med_std"
   ]
  },
  {
   "cell_type": "code",
   "execution_count": 164,
   "metadata": {},
   "outputs": [
    {
     "data": {
      "text/plain": [
       "4.795831523312719"
      ]
     },
     "execution_count": 164,
     "metadata": {},
     "output_type": "execute_result"
    }
   ],
   "source": [
    "c_g1_high_std"
   ]
  },
  {
   "cell_type": "markdown",
   "metadata": {},
   "source": [
    "# Confederate choices in G2"
   ]
  },
  {
   "cell_type": "code",
   "execution_count": 165,
   "metadata": {},
   "outputs": [],
   "source": [
    "c_g2_counts = pd.DataFrame([c02_p1_g2_count, c03_p1_g2_count,\n",
    "                            c05_p1_g2_count, c06_p1_g2_count, c09_p1_g2_count, c10_p1_g2_count, c11_p1_g2_count, c12_p1_g2_count, c13_p1_g2_count, c14_p1_g2_count, c16_p1_g2_count, c17_p1_g2_count],\n",
    "         index=['c02_p1_g2_count', 'c03_p1_g2_count', 'c05_p1_g2_count', 'c06_p1_g2_count', \n",
    "                'c09_p1_g2_count', 'c10_p1_g2_count', 'c11_p1_g2_count', 'c12_p1_g2_count', 'c13_p1_g2_count', 'c14_p1_g2_count', \n",
    "                'c16_p1_g2_count', 'c17_p1_g2_count'])"
   ]
  },
  {
   "cell_type": "code",
   "execution_count": 166,
   "metadata": {},
   "outputs": [
    {
     "data": {
      "text/html": [
       "<div>\n",
       "<style scoped>\n",
       "    .dataframe tbody tr th:only-of-type {\n",
       "        vertical-align: middle;\n",
       "    }\n",
       "\n",
       "    .dataframe tbody tr th {\n",
       "        vertical-align: top;\n",
       "    }\n",
       "\n",
       "    .dataframe thead th {\n",
       "        text-align: right;\n",
       "    }\n",
       "</style>\n",
       "<table border=\"1\" class=\"dataframe\">\n",
       "  <thead>\n",
       "    <tr style=\"text-align: right;\">\n",
       "      <th></th>\n",
       "      <th>30</th>\n",
       "      <th>60</th>\n",
       "      <th>90</th>\n",
       "    </tr>\n",
       "  </thead>\n",
       "  <tbody>\n",
       "    <tr>\n",
       "      <td>c02_p1_g2_count</td>\n",
       "      <td>0.0</td>\n",
       "      <td>0.0</td>\n",
       "      <td>20.0</td>\n",
       "    </tr>\n",
       "    <tr>\n",
       "      <td>c03_p1_g2_count</td>\n",
       "      <td>0.0</td>\n",
       "      <td>0.0</td>\n",
       "      <td>20.0</td>\n",
       "    </tr>\n",
       "    <tr>\n",
       "      <td>c05_p1_g2_count</td>\n",
       "      <td>6.0</td>\n",
       "      <td>8.0</td>\n",
       "      <td>6.0</td>\n",
       "    </tr>\n",
       "    <tr>\n",
       "      <td>c06_p1_g2_count</td>\n",
       "      <td>7.0</td>\n",
       "      <td>7.0</td>\n",
       "      <td>6.0</td>\n",
       "    </tr>\n",
       "    <tr>\n",
       "      <td>c09_p1_g2_count</td>\n",
       "      <td>7.0</td>\n",
       "      <td>8.0</td>\n",
       "      <td>5.0</td>\n",
       "    </tr>\n",
       "    <tr>\n",
       "      <td>c10_p1_g2_count</td>\n",
       "      <td>1.0</td>\n",
       "      <td>10.0</td>\n",
       "      <td>9.0</td>\n",
       "    </tr>\n",
       "    <tr>\n",
       "      <td>c11_p1_g2_count</td>\n",
       "      <td>2.0</td>\n",
       "      <td>6.0</td>\n",
       "      <td>12.0</td>\n",
       "    </tr>\n",
       "    <tr>\n",
       "      <td>c12_p1_g2_count</td>\n",
       "      <td>11.0</td>\n",
       "      <td>6.0</td>\n",
       "      <td>3.0</td>\n",
       "    </tr>\n",
       "    <tr>\n",
       "      <td>c13_p1_g2_count</td>\n",
       "      <td>4.0</td>\n",
       "      <td>6.0</td>\n",
       "      <td>10.0</td>\n",
       "    </tr>\n",
       "    <tr>\n",
       "      <td>c14_p1_g2_count</td>\n",
       "      <td>4.0</td>\n",
       "      <td>4.0</td>\n",
       "      <td>12.0</td>\n",
       "    </tr>\n",
       "    <tr>\n",
       "      <td>c16_p1_g2_count</td>\n",
       "      <td>2.0</td>\n",
       "      <td>8.0</td>\n",
       "      <td>10.0</td>\n",
       "    </tr>\n",
       "    <tr>\n",
       "      <td>c17_p1_g2_count</td>\n",
       "      <td>0.0</td>\n",
       "      <td>1.0</td>\n",
       "      <td>19.0</td>\n",
       "    </tr>\n",
       "  </tbody>\n",
       "</table>\n",
       "</div>"
      ],
      "text/plain": [
       "                   30    60    90\n",
       "c02_p1_g2_count   0.0   0.0  20.0\n",
       "c03_p1_g2_count   0.0   0.0  20.0\n",
       "c05_p1_g2_count   6.0   8.0   6.0\n",
       "c06_p1_g2_count   7.0   7.0   6.0\n",
       "c09_p1_g2_count   7.0   8.0   5.0\n",
       "c10_p1_g2_count   1.0  10.0   9.0\n",
       "c11_p1_g2_count   2.0   6.0  12.0\n",
       "c12_p1_g2_count  11.0   6.0   3.0\n",
       "c13_p1_g2_count   4.0   6.0  10.0\n",
       "c14_p1_g2_count   4.0   4.0  12.0\n",
       "c16_p1_g2_count   2.0   8.0  10.0\n",
       "c17_p1_g2_count   0.0   1.0  19.0"
      ]
     },
     "execution_count": 166,
     "metadata": {},
     "output_type": "execute_result"
    }
   ],
   "source": [
    "#How to prevent NaN: df = df.fillna(0)\n",
    "c_g2_counts = c_g2_counts.fillna(0)\n",
    "\n",
    "#print\n",
    "c_g2_counts"
   ]
  },
  {
   "cell_type": "code",
   "execution_count": 167,
   "metadata": {},
   "outputs": [
    {
     "data": {
      "text/plain": [
       "c02_p1_g2_count    20.0\n",
       "c03_p1_g2_count    20.0\n",
       "c05_p1_g2_count    20.0\n",
       "c06_p1_g2_count    20.0\n",
       "c09_p1_g2_count    20.0\n",
       "c10_p1_g2_count    20.0\n",
       "c11_p1_g2_count    20.0\n",
       "c12_p1_g2_count    20.0\n",
       "c13_p1_g2_count    20.0\n",
       "c14_p1_g2_count    20.0\n",
       "c16_p1_g2_count    20.0\n",
       "c17_p1_g2_count    20.0\n",
       "dtype: float64"
      ]
     },
     "execution_count": 167,
     "metadata": {},
     "output_type": "execute_result"
    }
   ],
   "source": [
    "c_g2_counts.sum(axis=1)"
   ]
  },
  {
   "cell_type": "code",
   "execution_count": 168,
   "metadata": {},
   "outputs": [
    {
     "data": {
      "image/png": "[encoded data removed]",
      "text/plain": [
       "<Figure size 432x288 with 1 Axes>"
      ]
     },
     "metadata": {
      "needs_background": "light"
     },
     "output_type": "display_data"
    }
   ],
   "source": [
    "c_g2_counts_bar = c_g2_counts.plot.bar()\n",
    "\n",
    "# save as jpeg\n",
    "c_g2_counts_bar.figure.savefig(plot_file_name,\n",
    "                    format='jpeg',\n",
    "                    dpi=100)"
   ]
  },
  {
   "cell_type": "code",
   "execution_count": 169,
   "metadata": {},
   "outputs": [
    {
     "data": {
      "image/png": "[encoded data removed]",
      "text/plain": [
       "<Figure size 432x288 with 1 Axes>"
      ]
     },
     "metadata": {
      "needs_background": "light"
     },
     "output_type": "display_data"
    }
   ],
   "source": [
    "c_g2_counts_box = sns.boxplot( \n",
    "                 data=c_g2_counts, \n",
    "                 width=0.5,\n",
    "                 palette=\"pastel\")\n",
    "c_g2_counts_box.axes.set_title(\"Confederate Player Choice Distributions in Game 2\",\n",
    "                    fontsize=16)\n",
    "\n",
    "plot_file_name=\"c_g2_counts_box.jpg\"\n",
    " \n",
    "plt.ylim(0, 100)\n",
    "s=c_g2_counts_box.axes.set(xlabel='Arm',ylabel='Frequency')\n",
    "\n",
    "# save as jpeg\n",
    "c_g2_counts_box.figure.savefig(plot_file_name,\n",
    "                    format='jpeg',\n",
    "                    dpi=100)"
   ]
  },
  {
   "cell_type": "code",
   "execution_count": 170,
   "metadata": {},
   "outputs": [],
   "source": [
    "c_g2_low = np.mean(c_g2_counts.iloc[:,0])\n",
    "c_g2_med = np.mean(c_g2_counts.iloc[:,1])\n",
    "c_g2_high = np.mean(c_g2_counts.iloc[:,2])"
   ]
  },
  {
   "cell_type": "code",
   "execution_count": 171,
   "metadata": {},
   "outputs": [
    {
     "data": {
      "text/plain": [
       "3.6666666666666665"
      ]
     },
     "execution_count": 171,
     "metadata": {},
     "output_type": "execute_result"
    }
   ],
   "source": [
    "c_g2_low"
   ]
  },
  {
   "cell_type": "code",
   "execution_count": 172,
   "metadata": {},
   "outputs": [
    {
     "data": {
      "text/plain": [
       "5.333333333333333"
      ]
     },
     "execution_count": 172,
     "metadata": {},
     "output_type": "execute_result"
    }
   ],
   "source": [
    "c_g2_med"
   ]
  },
  {
   "cell_type": "code",
   "execution_count": 173,
   "metadata": {},
   "outputs": [
    {
     "data": {
      "text/plain": [
       "11.0"
      ]
     },
     "execution_count": 173,
     "metadata": {},
     "output_type": "execute_result"
    }
   ],
   "source": [
    "c_g2_high"
   ]
  },
  {
   "cell_type": "code",
   "execution_count": 174,
   "metadata": {},
   "outputs": [],
   "source": [
    "c_g2_low_std = np.std(c_g2_counts.iloc[:,0])\n",
    "c_g2_med_std = np.std(c_g2_counts.iloc[:,1])\n",
    "c_g2_high_std = np.std(c_g2_counts.iloc[:,2])"
   ]
  },
  {
   "cell_type": "code",
   "execution_count": 175,
   "metadata": {},
   "outputs": [
    {
     "data": {
      "text/plain": [
       "3.3499585403736303"
      ]
     },
     "execution_count": 175,
     "metadata": {},
     "output_type": "execute_result"
    }
   ],
   "source": [
    "c_g2_low_std"
   ]
  },
  {
   "cell_type": "code",
   "execution_count": 176,
   "metadata": {},
   "outputs": [
    {
     "data": {
      "text/plain": [
       "3.2231799343022858"
      ]
     },
     "execution_count": 176,
     "metadata": {},
     "output_type": "execute_result"
    }
   ],
   "source": [
    "c_g2_med_std"
   ]
  },
  {
   "cell_type": "code",
   "execution_count": 177,
   "metadata": {},
   "outputs": [
    {
     "data": {
      "text/plain": [
       "5.656854249492381"
      ]
     },
     "execution_count": 177,
     "metadata": {},
     "output_type": "execute_result"
    }
   ],
   "source": [
    "c_g2_high_std "
   ]
  },
  {
   "cell_type": "markdown",
   "metadata": {},
   "source": [
    "# Confederate arrays"
   ]
  },
  {
   "cell_type": "code",
   "execution_count": 178,
   "metadata": {},
   "outputs": [],
   "source": [
    "#pip install researchpy"
   ]
  },
  {
   "cell_type": "code",
   "execution_count": 179,
   "metadata": {},
   "outputs": [],
   "source": [
    "import researchpy as rp"
   ]
  },
  {
   "cell_type": "code",
   "execution_count": 180,
   "metadata": {},
   "outputs": [],
   "source": [
    "c_90_1 = np.array(c_g1_counts.iloc[:,2])\n",
    "c_90_2 = np.array(c_g2_counts.iloc[:,2])"
   ]
  },
  {
   "cell_type": "code",
   "execution_count": 181,
   "metadata": {},
   "outputs": [
    {
     "data": {
      "text/plain": [
       "array([ 2., 19.,  9., 11.,  5., 13.,  7.,  4.,  7.,  9.,  6., 16.])"
      ]
     },
     "execution_count": 181,
     "metadata": {},
     "output_type": "execute_result"
    }
   ],
   "source": [
    "c_90_1"
   ]
  },
  {
   "cell_type": "code",
   "execution_count": 182,
   "metadata": {},
   "outputs": [
    {
     "data": {
      "text/plain": [
       "array([20., 20.,  6.,  6.,  5.,  9., 12.,  3., 10., 12., 10., 19.])"
      ]
     },
     "execution_count": 182,
     "metadata": {},
     "output_type": "execute_result"
    }
   ],
   "source": [
    "c_90_2"
   ]
  },
  {
   "cell_type": "code",
   "execution_count": 183,
   "metadata": {},
   "outputs": [],
   "source": [
    "c_60_1 = np.array(c_g1_counts.iloc[:,1])\n",
    "c_60_2 = np.array(c_g2_counts.iloc[:,1])"
   ]
  },
  {
   "cell_type": "code",
   "execution_count": 184,
   "metadata": {},
   "outputs": [
    {
     "data": {
      "text/plain": [
       "array([13.,  1.,  5.,  3., 10.,  4.,  9.,  9.,  7.,  5.,  7.,  1.])"
      ]
     },
     "execution_count": 184,
     "metadata": {},
     "output_type": "execute_result"
    }
   ],
   "source": [
    "c_60_1"
   ]
  },
  {
   "cell_type": "code",
   "execution_count": 185,
   "metadata": {},
   "outputs": [
    {
     "data": {
      "text/plain": [
       "array([ 0.,  0.,  8.,  7.,  8., 10.,  6.,  6.,  6.,  4.,  8.,  1.])"
      ]
     },
     "execution_count": 185,
     "metadata": {},
     "output_type": "execute_result"
    }
   ],
   "source": [
    "c_60_2"
   ]
  },
  {
   "cell_type": "code",
   "execution_count": 186,
   "metadata": {},
   "outputs": [],
   "source": [
    "c_30_1 = np.array(c_g1_counts.iloc[:,0])\n",
    "c_30_2 = np.array(c_g2_counts.iloc[:,0])"
   ]
  },
  {
   "cell_type": "code",
   "execution_count": 187,
   "metadata": {},
   "outputs": [
    {
     "data": {
      "text/plain": [
       "array([5., 0., 6., 6., 5., 3., 4., 7., 6., 6., 7., 3.])"
      ]
     },
     "execution_count": 187,
     "metadata": {},
     "output_type": "execute_result"
    }
   ],
   "source": [
    "c_30_1"
   ]
  },
  {
   "cell_type": "code",
   "execution_count": 188,
   "metadata": {},
   "outputs": [
    {
     "data": {
      "text/plain": [
       "array([ 0.,  0.,  6.,  7.,  7.,  1.,  2., 11.,  4.,  4.,  2.,  0.])"
      ]
     },
     "execution_count": 188,
     "metadata": {},
     "output_type": "execute_result"
    }
   ],
   "source": [
    "c_30_2"
   ]
  },
  {
   "cell_type": "markdown",
   "metadata": {},
   "source": [
    "# Confederate choice statistics"
   ]
  },
  {
   "cell_type": "code",
   "execution_count": 189,
   "metadata": {},
   "outputs": [],
   "source": [
    "c_90_p = sp.stats.ttest_rel(c_90_1,c_90_2)\n",
    "c_60_p = sp.stats.ttest_rel(c_60_1,c_60_2)\n",
    "c_30_p = sp.stats.ttest_rel(c_30_1,c_30_2)"
   ]
  },
  {
   "cell_type": "code",
   "execution_count": 190,
   "metadata": {},
   "outputs": [
    {
     "data": {
      "text/plain": [
       "Ttest_relResult(statistic=-1.1547005383792517, pvalue=0.272681685955018)"
      ]
     },
     "execution_count": 190,
     "metadata": {},
     "output_type": "execute_result"
    }
   ],
   "source": [
    "c_90_p"
   ]
  },
  {
   "cell_type": "code",
   "execution_count": 191,
   "metadata": {},
   "outputs": [
    {
     "data": {
      "text/plain": [
       "Ttest_relResult(statistic=0.6083758135822109, pvalue=0.5552922677372994)"
      ]
     },
     "execution_count": 191,
     "metadata": {},
     "output_type": "execute_result"
    }
   ],
   "source": [
    "c_60_p"
   ]
  },
  {
   "cell_type": "code",
   "execution_count": 192,
   "metadata": {},
   "outputs": [
    {
     "data": {
      "text/plain": [
       "Ttest_relResult(statistic=1.5017423632311278, pvalue=0.16131362250844508)"
      ]
     },
     "execution_count": 192,
     "metadata": {},
     "output_type": "execute_result"
    }
   ],
   "source": [
    "c_30_p"
   ]
  },
  {
   "cell_type": "code",
   "execution_count": 193,
   "metadata": {},
   "outputs": [],
   "source": [
    "#maximizing and matching?"
   ]
  },
  {
   "cell_type": "code",
   "execution_count": 194,
   "metadata": {},
   "outputs": [],
   "source": [
    "#maximizing and matching?"
   ]
  },
  {
   "cell_type": "code",
   "execution_count": 195,
   "metadata": {},
   "outputs": [
    {
     "data": {
      "text/html": [
       "<div>\n",
       "<style scoped>\n",
       "    .dataframe tbody tr th:only-of-type {\n",
       "        vertical-align: middle;\n",
       "    }\n",
       "\n",
       "    .dataframe tbody tr th {\n",
       "        vertical-align: top;\n",
       "    }\n",
       "\n",
       "    .dataframe thead th {\n",
       "        text-align: right;\n",
       "    }\n",
       "</style>\n",
       "<table border=\"1\" class=\"dataframe\">\n",
       "  <thead>\n",
       "    <tr style=\"text-align: right;\">\n",
       "      <th></th>\n",
       "      <th>30</th>\n",
       "      <th>60</th>\n",
       "      <th>90</th>\n",
       "    </tr>\n",
       "  </thead>\n",
       "  <tbody>\n",
       "    <tr>\n",
       "      <td>s01_p1_g1_count</td>\n",
       "      <td>10.0</td>\n",
       "      <td>7.0</td>\n",
       "      <td>3.0</td>\n",
       "    </tr>\n",
       "    <tr>\n",
       "      <td>s03_p1_g1_count</td>\n",
       "      <td>5.0</td>\n",
       "      <td>8.0</td>\n",
       "      <td>7.0</td>\n",
       "    </tr>\n",
       "    <tr>\n",
       "      <td>s05_p1_g1_count</td>\n",
       "      <td>0.0</td>\n",
       "      <td>0.0</td>\n",
       "      <td>20.0</td>\n",
       "    </tr>\n",
       "    <tr>\n",
       "      <td>s06_p1_g1_count</td>\n",
       "      <td>1.0</td>\n",
       "      <td>0.0</td>\n",
       "      <td>19.0</td>\n",
       "    </tr>\n",
       "    <tr>\n",
       "      <td>s07_p1_g1_count</td>\n",
       "      <td>7.0</td>\n",
       "      <td>7.0</td>\n",
       "      <td>6.0</td>\n",
       "    </tr>\n",
       "    <tr>\n",
       "      <td>s08_p1_g1_count</td>\n",
       "      <td>0.0</td>\n",
       "      <td>0.0</td>\n",
       "      <td>20.0</td>\n",
       "    </tr>\n",
       "    <tr>\n",
       "      <td>s09_p1_g1_count</td>\n",
       "      <td>6.0</td>\n",
       "      <td>5.0</td>\n",
       "      <td>9.0</td>\n",
       "    </tr>\n",
       "    <tr>\n",
       "      <td>s11_p1_g1_count</td>\n",
       "      <td>7.0</td>\n",
       "      <td>5.0</td>\n",
       "      <td>8.0</td>\n",
       "    </tr>\n",
       "    <tr>\n",
       "      <td>s12_p1_g1_count</td>\n",
       "      <td>1.0</td>\n",
       "      <td>10.0</td>\n",
       "      <td>9.0</td>\n",
       "    </tr>\n",
       "    <tr>\n",
       "      <td>s15_p1_g1_count</td>\n",
       "      <td>3.0</td>\n",
       "      <td>3.0</td>\n",
       "      <td>14.0</td>\n",
       "    </tr>\n",
       "    <tr>\n",
       "      <td>s16_p1_g1_count</td>\n",
       "      <td>6.0</td>\n",
       "      <td>7.0</td>\n",
       "      <td>7.0</td>\n",
       "    </tr>\n",
       "    <tr>\n",
       "      <td>s17_p1_g1_count</td>\n",
       "      <td>0.0</td>\n",
       "      <td>0.0</td>\n",
       "      <td>20.0</td>\n",
       "    </tr>\n",
       "    <tr>\n",
       "      <td>s19_p1_g1_count</td>\n",
       "      <td>5.0</td>\n",
       "      <td>9.0</td>\n",
       "      <td>6.0</td>\n",
       "    </tr>\n",
       "    <tr>\n",
       "      <td>s20_p1_g1_count</td>\n",
       "      <td>6.0</td>\n",
       "      <td>9.0</td>\n",
       "      <td>5.0</td>\n",
       "    </tr>\n",
       "  </tbody>\n",
       "</table>\n",
       "</div>"
      ],
      "text/plain": [
       "                   30    60    90\n",
       "s01_p1_g1_count  10.0   7.0   3.0\n",
       "s03_p1_g1_count   5.0   8.0   7.0\n",
       "s05_p1_g1_count   0.0   0.0  20.0\n",
       "s06_p1_g1_count   1.0   0.0  19.0\n",
       "s07_p1_g1_count   7.0   7.0   6.0\n",
       "s08_p1_g1_count   0.0   0.0  20.0\n",
       "s09_p1_g1_count   6.0   5.0   9.0\n",
       "s11_p1_g1_count   7.0   5.0   8.0\n",
       "s12_p1_g1_count   1.0  10.0   9.0\n",
       "s15_p1_g1_count   3.0   3.0  14.0\n",
       "s16_p1_g1_count   6.0   7.0   7.0\n",
       "s17_p1_g1_count   0.0   0.0  20.0\n",
       "s19_p1_g1_count   5.0   9.0   6.0\n",
       "s20_p1_g1_count   6.0   9.0   5.0"
      ]
     },
     "execution_count": 195,
     "metadata": {},
     "output_type": "execute_result"
    }
   ],
   "source": [
    "s_g1_counts"
   ]
  },
  {
   "cell_type": "code",
   "execution_count": 196,
   "metadata": {},
   "outputs": [
    {
     "data": {
      "text/plain": [
       "s01_p1_g1_count    20.0\n",
       "s03_p1_g1_count    20.0\n",
       "s05_p1_g1_count    20.0\n",
       "s06_p1_g1_count    20.0\n",
       "s07_p1_g1_count    20.0\n",
       "s08_p1_g1_count    20.0\n",
       "s09_p1_g1_count    20.0\n",
       "s11_p1_g1_count    20.0\n",
       "s12_p1_g1_count    20.0\n",
       "s15_p1_g1_count    20.0\n",
       "s16_p1_g1_count    20.0\n",
       "s17_p1_g1_count    20.0\n",
       "s19_p1_g1_count    20.0\n",
       "s20_p1_g1_count    20.0\n",
       "dtype: float64"
      ]
     },
     "execution_count": 196,
     "metadata": {},
     "output_type": "execute_result"
    }
   ],
   "source": [
    "s_g1_counts.sum(axis=1)"
   ]
  },
  {
   "cell_type": "code",
   "execution_count": 197,
   "metadata": {},
   "outputs": [
    {
     "data": {
      "text/html": [
       "<div>\n",
       "<style scoped>\n",
       "    .dataframe tbody tr th:only-of-type {\n",
       "        vertical-align: middle;\n",
       "    }\n",
       "\n",
       "    .dataframe tbody tr th {\n",
       "        vertical-align: top;\n",
       "    }\n",
       "\n",
       "    .dataframe thead th {\n",
       "        text-align: right;\n",
       "    }\n",
       "</style>\n",
       "<table border=\"1\" class=\"dataframe\">\n",
       "  <thead>\n",
       "    <tr style=\"text-align: right;\">\n",
       "      <th></th>\n",
       "      <th>30</th>\n",
       "      <th>60</th>\n",
       "      <th>90</th>\n",
       "    </tr>\n",
       "  </thead>\n",
       "  <tbody>\n",
       "    <tr>\n",
       "      <td>s01_p1_g2_count</td>\n",
       "      <td>9.0</td>\n",
       "      <td>2.0</td>\n",
       "      <td>9.0</td>\n",
       "    </tr>\n",
       "    <tr>\n",
       "      <td>s03_p1_g2_count</td>\n",
       "      <td>5.0</td>\n",
       "      <td>5.0</td>\n",
       "      <td>10.0</td>\n",
       "    </tr>\n",
       "    <tr>\n",
       "      <td>s05_p1_g2_count</td>\n",
       "      <td>0.0</td>\n",
       "      <td>0.0</td>\n",
       "      <td>20.0</td>\n",
       "    </tr>\n",
       "    <tr>\n",
       "      <td>s06_p1_g2_count</td>\n",
       "      <td>0.0</td>\n",
       "      <td>4.0</td>\n",
       "      <td>16.0</td>\n",
       "    </tr>\n",
       "    <tr>\n",
       "      <td>s07_p1_g2_count</td>\n",
       "      <td>4.0</td>\n",
       "      <td>10.0</td>\n",
       "      <td>6.0</td>\n",
       "    </tr>\n",
       "    <tr>\n",
       "      <td>s08_p1_g2_count</td>\n",
       "      <td>2.0</td>\n",
       "      <td>1.0</td>\n",
       "      <td>17.0</td>\n",
       "    </tr>\n",
       "    <tr>\n",
       "      <td>s09_p1_g2_count</td>\n",
       "      <td>4.0</td>\n",
       "      <td>6.0</td>\n",
       "      <td>10.0</td>\n",
       "    </tr>\n",
       "    <tr>\n",
       "      <td>s11_p1_g2_count</td>\n",
       "      <td>9.0</td>\n",
       "      <td>6.0</td>\n",
       "      <td>5.0</td>\n",
       "    </tr>\n",
       "    <tr>\n",
       "      <td>s12_p1_g2_count</td>\n",
       "      <td>2.0</td>\n",
       "      <td>2.0</td>\n",
       "      <td>16.0</td>\n",
       "    </tr>\n",
       "    <tr>\n",
       "      <td>s15_p1_g2_count</td>\n",
       "      <td>1.0</td>\n",
       "      <td>1.0</td>\n",
       "      <td>18.0</td>\n",
       "    </tr>\n",
       "    <tr>\n",
       "      <td>s16_p1_g2_count</td>\n",
       "      <td>8.0</td>\n",
       "      <td>8.0</td>\n",
       "      <td>4.0</td>\n",
       "    </tr>\n",
       "    <tr>\n",
       "      <td>s17_p1_g2_count</td>\n",
       "      <td>0.0</td>\n",
       "      <td>4.0</td>\n",
       "      <td>16.0</td>\n",
       "    </tr>\n",
       "    <tr>\n",
       "      <td>s19_p1_g2_count</td>\n",
       "      <td>0.0</td>\n",
       "      <td>0.0</td>\n",
       "      <td>20.0</td>\n",
       "    </tr>\n",
       "    <tr>\n",
       "      <td>s20_p1_g2_count</td>\n",
       "      <td>1.0</td>\n",
       "      <td>12.0</td>\n",
       "      <td>7.0</td>\n",
       "    </tr>\n",
       "  </tbody>\n",
       "</table>\n",
       "</div>"
      ],
      "text/plain": [
       "                  30    60    90\n",
       "s01_p1_g2_count  9.0   2.0   9.0\n",
       "s03_p1_g2_count  5.0   5.0  10.0\n",
       "s05_p1_g2_count  0.0   0.0  20.0\n",
       "s06_p1_g2_count  0.0   4.0  16.0\n",
       "s07_p1_g2_count  4.0  10.0   6.0\n",
       "s08_p1_g2_count  2.0   1.0  17.0\n",
       "s09_p1_g2_count  4.0   6.0  10.0\n",
       "s11_p1_g2_count  9.0   6.0   5.0\n",
       "s12_p1_g2_count  2.0   2.0  16.0\n",
       "s15_p1_g2_count  1.0   1.0  18.0\n",
       "s16_p1_g2_count  8.0   8.0   4.0\n",
       "s17_p1_g2_count  0.0   4.0  16.0\n",
       "s19_p1_g2_count  0.0   0.0  20.0\n",
       "s20_p1_g2_count  1.0  12.0   7.0"
      ]
     },
     "execution_count": 197,
     "metadata": {},
     "output_type": "execute_result"
    }
   ],
   "source": [
    "s_g2_counts"
   ]
  },
  {
   "cell_type": "code",
   "execution_count": 198,
   "metadata": {},
   "outputs": [
    {
     "data": {
      "text/plain": [
       "s01_p1_g2_count    20.0\n",
       "s03_p1_g2_count    20.0\n",
       "s05_p1_g2_count    20.0\n",
       "s06_p1_g2_count    20.0\n",
       "s07_p1_g2_count    20.0\n",
       "s08_p1_g2_count    20.0\n",
       "s09_p1_g2_count    20.0\n",
       "s11_p1_g2_count    20.0\n",
       "s12_p1_g2_count    20.0\n",
       "s15_p1_g2_count    20.0\n",
       "s16_p1_g2_count    20.0\n",
       "s17_p1_g2_count    20.0\n",
       "s19_p1_g2_count    20.0\n",
       "s20_p1_g2_count    20.0\n",
       "dtype: float64"
      ]
     },
     "execution_count": 198,
     "metadata": {},
     "output_type": "execute_result"
    }
   ],
   "source": [
    "s_g2_counts.sum(axis=1)"
   ]
  },
  {
   "cell_type": "code",
   "execution_count": 199,
   "metadata": {},
   "outputs": [
    {
     "data": {
      "text/html": [
       "<div>\n",
       "<style scoped>\n",
       "    .dataframe tbody tr th:only-of-type {\n",
       "        vertical-align: middle;\n",
       "    }\n",
       "\n",
       "    .dataframe tbody tr th {\n",
       "        vertical-align: top;\n",
       "    }\n",
       "\n",
       "    .dataframe thead th {\n",
       "        text-align: right;\n",
       "    }\n",
       "</style>\n",
       "<table border=\"1\" class=\"dataframe\">\n",
       "  <thead>\n",
       "    <tr style=\"text-align: right;\">\n",
       "      <th></th>\n",
       "      <th>30</th>\n",
       "      <th>60</th>\n",
       "      <th>90</th>\n",
       "    </tr>\n",
       "  </thead>\n",
       "  <tbody>\n",
       "    <tr>\n",
       "      <td>c02_p1_g1_count</td>\n",
       "      <td>5.0</td>\n",
       "      <td>13.0</td>\n",
       "      <td>2.0</td>\n",
       "    </tr>\n",
       "    <tr>\n",
       "      <td>c03_p1_g1_count</td>\n",
       "      <td>0.0</td>\n",
       "      <td>1.0</td>\n",
       "      <td>19.0</td>\n",
       "    </tr>\n",
       "    <tr>\n",
       "      <td>c05_p1_g1_count</td>\n",
       "      <td>6.0</td>\n",
       "      <td>5.0</td>\n",
       "      <td>9.0</td>\n",
       "    </tr>\n",
       "    <tr>\n",
       "      <td>c06_p1_g1_count</td>\n",
       "      <td>6.0</td>\n",
       "      <td>3.0</td>\n",
       "      <td>11.0</td>\n",
       "    </tr>\n",
       "    <tr>\n",
       "      <td>c09_p1_g1_count</td>\n",
       "      <td>5.0</td>\n",
       "      <td>10.0</td>\n",
       "      <td>5.0</td>\n",
       "    </tr>\n",
       "    <tr>\n",
       "      <td>c10_p1_g1_count</td>\n",
       "      <td>3.0</td>\n",
       "      <td>4.0</td>\n",
       "      <td>13.0</td>\n",
       "    </tr>\n",
       "    <tr>\n",
       "      <td>c11_p1_g1_count</td>\n",
       "      <td>4.0</td>\n",
       "      <td>9.0</td>\n",
       "      <td>7.0</td>\n",
       "    </tr>\n",
       "    <tr>\n",
       "      <td>c12_p1_g1_count</td>\n",
       "      <td>7.0</td>\n",
       "      <td>9.0</td>\n",
       "      <td>4.0</td>\n",
       "    </tr>\n",
       "    <tr>\n",
       "      <td>c13_p1_g1_count</td>\n",
       "      <td>6.0</td>\n",
       "      <td>7.0</td>\n",
       "      <td>7.0</td>\n",
       "    </tr>\n",
       "    <tr>\n",
       "      <td>c14_p1_g1_count</td>\n",
       "      <td>6.0</td>\n",
       "      <td>5.0</td>\n",
       "      <td>9.0</td>\n",
       "    </tr>\n",
       "    <tr>\n",
       "      <td>c16_p1_g1_count</td>\n",
       "      <td>7.0</td>\n",
       "      <td>7.0</td>\n",
       "      <td>6.0</td>\n",
       "    </tr>\n",
       "    <tr>\n",
       "      <td>c17_p1_g1_count</td>\n",
       "      <td>3.0</td>\n",
       "      <td>1.0</td>\n",
       "      <td>16.0</td>\n",
       "    </tr>\n",
       "  </tbody>\n",
       "</table>\n",
       "</div>"
      ],
      "text/plain": [
       "                  30    60    90\n",
       "c02_p1_g1_count  5.0  13.0   2.0\n",
       "c03_p1_g1_count  0.0   1.0  19.0\n",
       "c05_p1_g1_count  6.0   5.0   9.0\n",
       "c06_p1_g1_count  6.0   3.0  11.0\n",
       "c09_p1_g1_count  5.0  10.0   5.0\n",
       "c10_p1_g1_count  3.0   4.0  13.0\n",
       "c11_p1_g1_count  4.0   9.0   7.0\n",
       "c12_p1_g1_count  7.0   9.0   4.0\n",
       "c13_p1_g1_count  6.0   7.0   7.0\n",
       "c14_p1_g1_count  6.0   5.0   9.0\n",
       "c16_p1_g1_count  7.0   7.0   6.0\n",
       "c17_p1_g1_count  3.0   1.0  16.0"
      ]
     },
     "execution_count": 199,
     "metadata": {},
     "output_type": "execute_result"
    }
   ],
   "source": [
    "c_g1_counts"
   ]
  },
  {
   "cell_type": "code",
   "execution_count": 200,
   "metadata": {},
   "outputs": [
    {
     "data": {
      "text/plain": [
       "c02_p1_g1_count    20.0\n",
       "c03_p1_g1_count    20.0\n",
       "c05_p1_g1_count    20.0\n",
       "c06_p1_g1_count    20.0\n",
       "c09_p1_g1_count    20.0\n",
       "c10_p1_g1_count    20.0\n",
       "c11_p1_g1_count    20.0\n",
       "c12_p1_g1_count    20.0\n",
       "c13_p1_g1_count    20.0\n",
       "c14_p1_g1_count    20.0\n",
       "c16_p1_g1_count    20.0\n",
       "c17_p1_g1_count    20.0\n",
       "dtype: float64"
      ]
     },
     "execution_count": 200,
     "metadata": {},
     "output_type": "execute_result"
    }
   ],
   "source": [
    "c_g1_counts.sum(axis=1)"
   ]
  },
  {
   "cell_type": "code",
   "execution_count": 201,
   "metadata": {},
   "outputs": [
    {
     "data": {
      "text/html": [
       "<div>\n",
       "<style scoped>\n",
       "    .dataframe tbody tr th:only-of-type {\n",
       "        vertical-align: middle;\n",
       "    }\n",
       "\n",
       "    .dataframe tbody tr th {\n",
       "        vertical-align: top;\n",
       "    }\n",
       "\n",
       "    .dataframe thead th {\n",
       "        text-align: right;\n",
       "    }\n",
       "</style>\n",
       "<table border=\"1\" class=\"dataframe\">\n",
       "  <thead>\n",
       "    <tr style=\"text-align: right;\">\n",
       "      <th></th>\n",
       "      <th>30</th>\n",
       "      <th>60</th>\n",
       "      <th>90</th>\n",
       "    </tr>\n",
       "  </thead>\n",
       "  <tbody>\n",
       "    <tr>\n",
       "      <td>c02_p1_g2_count</td>\n",
       "      <td>0.0</td>\n",
       "      <td>0.0</td>\n",
       "      <td>20.0</td>\n",
       "    </tr>\n",
       "    <tr>\n",
       "      <td>c03_p1_g2_count</td>\n",
       "      <td>0.0</td>\n",
       "      <td>0.0</td>\n",
       "      <td>20.0</td>\n",
       "    </tr>\n",
       "    <tr>\n",
       "      <td>c05_p1_g2_count</td>\n",
       "      <td>6.0</td>\n",
       "      <td>8.0</td>\n",
       "      <td>6.0</td>\n",
       "    </tr>\n",
       "    <tr>\n",
       "      <td>c06_p1_g2_count</td>\n",
       "      <td>7.0</td>\n",
       "      <td>7.0</td>\n",
       "      <td>6.0</td>\n",
       "    </tr>\n",
       "    <tr>\n",
       "      <td>c09_p1_g2_count</td>\n",
       "      <td>7.0</td>\n",
       "      <td>8.0</td>\n",
       "      <td>5.0</td>\n",
       "    </tr>\n",
       "    <tr>\n",
       "      <td>c10_p1_g2_count</td>\n",
       "      <td>1.0</td>\n",
       "      <td>10.0</td>\n",
       "      <td>9.0</td>\n",
       "    </tr>\n",
       "    <tr>\n",
       "      <td>c11_p1_g2_count</td>\n",
       "      <td>2.0</td>\n",
       "      <td>6.0</td>\n",
       "      <td>12.0</td>\n",
       "    </tr>\n",
       "    <tr>\n",
       "      <td>c12_p1_g2_count</td>\n",
       "      <td>11.0</td>\n",
       "      <td>6.0</td>\n",
       "      <td>3.0</td>\n",
       "    </tr>\n",
       "    <tr>\n",
       "      <td>c13_p1_g2_count</td>\n",
       "      <td>4.0</td>\n",
       "      <td>6.0</td>\n",
       "      <td>10.0</td>\n",
       "    </tr>\n",
       "    <tr>\n",
       "      <td>c14_p1_g2_count</td>\n",
       "      <td>4.0</td>\n",
       "      <td>4.0</td>\n",
       "      <td>12.0</td>\n",
       "    </tr>\n",
       "    <tr>\n",
       "      <td>c16_p1_g2_count</td>\n",
       "      <td>2.0</td>\n",
       "      <td>8.0</td>\n",
       "      <td>10.0</td>\n",
       "    </tr>\n",
       "    <tr>\n",
       "      <td>c17_p1_g2_count</td>\n",
       "      <td>0.0</td>\n",
       "      <td>1.0</td>\n",
       "      <td>19.0</td>\n",
       "    </tr>\n",
       "  </tbody>\n",
       "</table>\n",
       "</div>"
      ],
      "text/plain": [
       "                   30    60    90\n",
       "c02_p1_g2_count   0.0   0.0  20.0\n",
       "c03_p1_g2_count   0.0   0.0  20.0\n",
       "c05_p1_g2_count   6.0   8.0   6.0\n",
       "c06_p1_g2_count   7.0   7.0   6.0\n",
       "c09_p1_g2_count   7.0   8.0   5.0\n",
       "c10_p1_g2_count   1.0  10.0   9.0\n",
       "c11_p1_g2_count   2.0   6.0  12.0\n",
       "c12_p1_g2_count  11.0   6.0   3.0\n",
       "c13_p1_g2_count   4.0   6.0  10.0\n",
       "c14_p1_g2_count   4.0   4.0  12.0\n",
       "c16_p1_g2_count   2.0   8.0  10.0\n",
       "c17_p1_g2_count   0.0   1.0  19.0"
      ]
     },
     "execution_count": 201,
     "metadata": {},
     "output_type": "execute_result"
    }
   ],
   "source": [
    "c_g2_counts"
   ]
  },
  {
   "cell_type": "code",
   "execution_count": 202,
   "metadata": {},
   "outputs": [
    {
     "data": {
      "text/plain": [
       "c02_p1_g2_count    20.0\n",
       "c03_p1_g2_count    20.0\n",
       "c05_p1_g2_count    20.0\n",
       "c06_p1_g2_count    20.0\n",
       "c09_p1_g2_count    20.0\n",
       "c10_p1_g2_count    20.0\n",
       "c11_p1_g2_count    20.0\n",
       "c12_p1_g2_count    20.0\n",
       "c13_p1_g2_count    20.0\n",
       "c14_p1_g2_count    20.0\n",
       "c16_p1_g2_count    20.0\n",
       "c17_p1_g2_count    20.0\n",
       "dtype: float64"
      ]
     },
     "execution_count": 202,
     "metadata": {},
     "output_type": "execute_result"
    }
   ],
   "source": [
    "c_g2_counts.sum(axis=1)"
   ]
  },
  {
   "cell_type": "markdown",
   "metadata": {},
   "source": [
    "# Maximizing/Matching CONTROL"
   ]
  },
  {
   "cell_type": "code",
   "execution_count": 203,
   "metadata": {},
   "outputs": [],
   "source": [
    "#Here we compare the choice distributions to idealized models of two decision-making strategies: \n",
    "#matching and maximizing. Matching would be choosing each each hole proportionally to its reward rate, \n",
    "#and maximizing would be always choosing the high reward hole."
   ]
  },
  {
   "cell_type": "code",
   "execution_count": 204,
   "metadata": {},
   "outputs": [],
   "source": [
    "#JSD: Jensen Shannon Divergence. Measures the similarity between two probability distributions. Taken from \n",
    "#https://gist.github.com/zhiyzuo/f80e2b1cfb493a5711330d271a228a3d. *Note: probability distributions need to be\n",
    "#normalized.'''\n",
    "#parameters: p and q are the two probability distributions to be compared.\n",
    "\n",
    "def jsd(p, q, base=np.e):\n",
    "    \n",
    "    \n",
    "    #Implementation of pairwise `jsd` based on https://en.wikipedia.org/wiki/Jensen%E2%80%93Shannon_divergence\n",
    "    # convert to np.array\n",
    "    p, q = np.asarray(p), np.asarray(q)\n",
    "    # normalize p, q to probabilities\n",
    "    p, q = p/p.sum(), q/q.sum()\n",
    "    m = 1./2*(p + q)\n",
    "    return sp.stats.entropy(p,m, base=base)/2. +  sp.stats.entropy(q, m, base=base)/2."
   ]
  },
  {
   "cell_type": "code",
   "execution_count": 205,
   "metadata": {},
   "outputs": [],
   "source": [
    "#Are ppl using a strategy similar to their partner's? This functions calls jsd for p1 and for p2. *UNFINISHED* \n",
    "#DO NOT USE.\n",
    "#calls jsd for p1 and p2 and for p1 and p2 with the mean\n",
    "#def compare_strat(p1,p2):\n",
    "    #strat = jsd(p1,p2)\n",
    "   # comp_1 = jsd(p1,[j_g1_low,j_g1_med,j_g1_high])\n",
    "    #comp_2 = jsd(p2,[j_g1_low,j_g1_med,j_g1_high])\n",
    "    #return strat, comp_1, comp_2"
   ]
  },
  {
   "cell_type": "code",
   "execution_count": 206,
   "metadata": {},
   "outputs": [],
   "source": [
    "#Idealized probability distributions to use for comparison. You can change these or add more models.\n",
    "\n",
    "maximize = [0,0,100]\n",
    "match = [30/180 * 100,60/180 * 100,90/180 * 100]\n",
    "random = [30/90 * 100,30/90 * 100,30/90 * 100]\n",
    "social = [0,100,0]"
   ]
  },
  {
   "cell_type": "code",
   "execution_count": 207,
   "metadata": {},
   "outputs": [],
   "source": [
    "#This function calls jsd. \n",
    "#Input: counts- a player's choice distributions in a particular game (ex. s01_p1_g1_counts)\n",
    "#Output: maxi- JSD score for the maximizing strategy\n",
    "        #matchi- JSD score for the matching strategy\n",
    "def call_jsd(counts):\n",
    "    maxi = jsd(counts,maximize) #(p, q)\n",
    "    matchi = jsd(counts,match)\n",
    "    rando = jsd(counts,random)\n",
    "    soci = jsd(counts, social)\n",
    "    return maxi,matchi,rando,soci"
   ]
  },
  {
   "cell_type": "code",
   "execution_count": 208,
   "metadata": {},
   "outputs": [],
   "source": [
    "from scipy import stats"
   ]
  },
  {
   "cell_type": "code",
   "execution_count": 209,
   "metadata": {},
   "outputs": [],
   "source": [
    "#if same, 0\n",
    "test = jsd(random,random)"
   ]
  },
  {
   "cell_type": "code",
   "execution_count": 210,
   "metadata": {},
   "outputs": [
    {
     "data": {
      "text/plain": [
       "0.0"
      ]
     },
     "execution_count": 210,
     "metadata": {},
     "output_type": "execute_result"
    }
   ],
   "source": [
    "test"
   ]
  },
  {
   "cell_type": "code",
   "execution_count": 211,
   "metadata": {},
   "outputs": [],
   "source": [
    "def check_type(df,*social):\n",
    "    types = pd.DataFrame(index=['type'])\n",
    "    "
   ]
  },
  {
   "cell_type": "code",
   "execution_count": 530,
   "metadata": {},
   "outputs": [],
   "source": [
    "#Call 'call_jsd' for each participant for each game in the single player sessions.\n",
    "#with 0, put in actual probabilities in brackets\n",
    "\n",
    "s01_g1_max,s01_g1_match,s01_g1_rand,s01_g1_soc = call_jsd(s01_p1_g1_count)\n",
    "s01_g2_max,s01_g2_match,s01_g2_rand,s01_g2_soc = call_jsd(s01_p1_g2_count)\n",
    "s03_g1_max,s03_g1_match,s03_g1_rand,s03_g1_soc = call_jsd(s03_p1_g1_count)\n",
    "s03_g2_max,s03_g2_match,s03_g2_rand,s03_g2_soc = call_jsd(s03_p1_g2_count)\n",
    "s05_g1_max,s05_g1_match,s05_g1_rand,s05_g1_soc= call_jsd([0, 0, 20])\n",
    "s05_g2_max,s05_g2_match,s05_g2_rand,s05_g2_soc = call_jsd([0, 0, 20])\n",
    "s06_g1_max,s06_g1_match,s06_g1_rand,s06_g1_soc = call_jsd([1, 0, 19])\n",
    "s06_g2_max,s06_g2_match,s06_g2_rand,s06_g2_soc = call_jsd([0, 4, 16])\n",
    "s07_g1_max,s07_g1_match,s07_g1_rand,s07_g1_soc = call_jsd(s07_p1_g1_count)\n",
    "s07_g2_max,s07_g2_match,s07_g2_rand,s07_g2_soc = call_jsd(s07_p1_g2_count)\n",
    "s08_g1_max,s08_g1_match,s08_g1_rand,s08_g1_soc = call_jsd([0, 0, 20])\n",
    "s08_g2_max,s08_g2_match,s08_g2_rand,s08_g2_soc = call_jsd(s08_p1_g2_count)\n",
    "s09_g1_max,s09_g1_match,s09_g1_rand,s09_g1_soc = call_jsd(s09_p1_g1_count)\n",
    "s09_g2_max,s09_g2_match,s09_g2_rand,s09_g2_soc = call_jsd(s09_p1_g2_count)\n",
    "s11_g1_max,s11_g1_match,s11_g1_rand,s11_g1_soc = call_jsd(s11_p1_g1_count)\n",
    "s11_g2_max,s11_g2_match,s11_g2_rand,s11_g2_soc = call_jsd(s11_p1_g2_count)\n",
    "s12_g1_max,s12_g1_match,s12_g1_rand,s12_g1_soc = call_jsd(s12_p1_g1_count)\n",
    "s12_g2_max,s12_g2_match,s12_g2_rand,s12_g2_soc = call_jsd(s12_p1_g2_count)\n",
    "s15_g1_max,s15_g1_match,s15_g1_rand,s15_g1_soc = call_jsd(s15_p1_g1_count)\n",
    "s15_g2_max,s15_g2_match,s15_g2_rand,s15_g2_soc = call_jsd(s15_p1_g1_count)\n",
    "s16_g1_max,s16_g1_match,s16_g1_rand,s16_g1_soc = call_jsd(s16_p1_g1_count)\n",
    "s16_g2_max,s16_g2_match,s16_g2_rand,s16_g2_soc = call_jsd(s16_p1_g2_count)\n",
    "s17_g1_max,s17_g1_match,s17_g1_rand,s17_g1_soc = call_jsd([0, 0, 20])\n",
    "s17_g2_max,s17_g2_match,s17_g2_rand,s17_g2_soc = call_jsd([0, 4, 16])\n",
    "s19_g1_max,s19_g1_match,s19_g1_rand,s19_g1_soc = call_jsd(s19_p1_g1_count)\n",
    "s19_g2_max,s19_g2_match,s19_g2_rand,s19_g2_soc = call_jsd([0, 0, 20])\n",
    "s20_g1_max,s20_g1_match,s20_g1_rand,s20_g1_soc = call_jsd(s20_p1_g1_count)\n",
    "s20_g2_max,s20_g2_match,s20_g2_rand,s20_g2_soc = call_jsd(s20_p1_g2_count)\n",
    "c02_g1_max,c02_g1_match,c02_g1_rand,c02_g1_soc = call_jsd(c02_p1_g1_count)\n",
    "c02_g2_max,c02_g2_match,c02_g2_rand,c02_g2_soc = call_jsd([0, 0, 20])\n",
    "c03_g1_max,c03_g1_match,c03_g1_rand,c03_g1_soc = call_jsd([0, 1, 19])\n",
    "c03_g2_max,c03_g2_match,c03_g2_rand,c03_g2_soc = call_jsd([0, 0, 20])\n",
    "c05_g1_max,c05_g1_match,c05_g1_rand,c05_g1_soc = call_jsd(c05_p1_g1_count)\n",
    "c05_g2_max,c05_g2_match,c05_g2_rand,c05_g2_soc = call_jsd(c05_p1_g2_count)\n",
    "c06_g1_max,c06_g1_match,c06_g1_rand,c06_g1_soc = call_jsd(c06_p1_g1_count)\n",
    "c06_g2_max,c06_g2_match,c06_g2_rand,c06_g2_soc = call_jsd(c06_p1_g1_count)\n",
    "c09_g1_max,c09_g1_match,c09_g1_rand,c09_g1_soc = call_jsd(c09_p1_g1_count)\n",
    "c09_g2_max,c09_g2_match,c09_g2_rand,c09_g2_soc = call_jsd(c09_p1_g2_count)\n",
    "c10_g1_max,c10_g1_match,c10_g1_rand,c10_g1_soc = call_jsd(c10_p1_g1_count)\n",
    "c10_g2_max,c10_g2_match,c10_g2_rand,c10_g2_soc = call_jsd(c10_p1_g2_count)\n",
    "c11_g1_max,c11_g1_match,c11_g1_rand,c11_g1_soc = call_jsd(c11_p1_g1_count)\n",
    "c11_g2_max,c11_g2_match,c11_g2_rand,c11_g2_soc= call_jsd(c11_p1_g2_count)\n",
    "c12_g1_max,c12_g1_match,c12_g1_rand,c12_g1_soc = call_jsd(c12_p1_g1_count)\n",
    "c12_g2_max,c12_g2_match,c12_g2_rand,c12_g2_soc = call_jsd(c12_p1_g2_count)\n",
    "c13_g1_max,c13_g1_match,c13_g1_rand,c13_g1_soc = call_jsd(c13_p1_g1_count)\n",
    "c13_g2_max,c13_g2_match,c13_g2_rand,c13_g2_soc = call_jsd(c13_p1_g2_count)\n",
    "c14_g1_max,c14_g1_match,c14_g1_rand,c14_g1_soc = call_jsd(c14_p1_g1_count)\n",
    "c14_g2_max,c14_g2_match,c14_g2_rand,c14_g2_soc = call_jsd(c14_p1_g2_count)\n",
    "c16_g1_max,c16_g1_match,c16_g1_rand,c16_g1_soc = call_jsd(c16_p1_g1_count)\n",
    "c16_g2_max,c16_g2_match,c16_g2_rand,c16_g2_soc = call_jsd(c16_p1_g2_count)\n",
    "c17_g1_max,c17_g1_match,c17_g1_rand,c17_g1_soc = call_jsd(c17_p1_g1_count)\n",
    "c17_g2_max,c17_g2_match,c17_g2_rand,c17_g2_soc = call_jsd([0,1,19])"
   ]
  },
  {
   "cell_type": "code",
   "execution_count": 531,
   "metadata": {},
   "outputs": [],
   "source": [
    "#Create a dataframe for single player game 1 jsd scores, with a column for each strategy.'''\n",
    "control_jsd_g1 = pd.DataFrame({'max':[s01_g1_max,s03_g1_max,s05_g1_max,s06_g1_max,s07_g1_max,s08_g1_max,\n",
    "                                s09_g1_max, s11_g1_max, s12_g1_max, s15_g1_max, s16_g1_max, s17_g1_max, \n",
    "                                      s19_g1_max, s20_g1_max, c02_g1_max, c03_g1_max, c05_g1_max, c06_g1_max, \n",
    "                                      c09_g1_max, c10_g1_max, c11_g1_max, c12_g1_max, c13_g1_max, c14_g1_max, \n",
    "                                      c16_g1_max, c17_g1_max],\n",
    "                      'match':[s01_g1_match,s03_g1_match,s05_g1_match\n",
    "                               ,s06_g1_match,s07_g1_match,s08_g1_match,s09_g1_match, s11_g1_match, \n",
    "                               s12_g1_match, s15_g1_match, s16_g1_match, s17_g1_match, s19_g1_match, \n",
    "                               s20_g1_match, c02_g1_match, c03_g1_match, c05_g1_match, c06_g1_match, \n",
    "                                      c09_g1_match, c10_g1_match, c11_g1_match, c12_g1_match, c13_g1_match, c14_g1_match, \n",
    "                                      c16_g1_match, c17_g1_match],\n",
    "                    'rand':[s01_g1_rand,s03_g1_rand,s05_g1_rand,s06_g1_rand,s07_g1_rand,s08_g1_rand,\n",
    "                                s09_g1_rand, s11_g1_rand, s12_g1_rand, s15_g1_rand, s16_g1_rand, s17_g1_rand, \n",
    "                                      s19_g1_rand, s20_g1_rand, c02_g1_rand, c03_g1_rand, c05_g1_rand, c06_g1_rand, \n",
    "                                      c09_g1_rand, c10_g1_rand, c11_g1_rand, c12_g1_rand, c13_g1_rand, c14_g1_rand, \n",
    "                                      c16_g1_rand, c17_g1_rand],\n",
    "                        'soc':[s01_g1_soc,s03_g1_soc,s05_g1_soc,s06_g1_soc,s07_g1_soc,s08_g1_soc,\n",
    "                                s09_g1_soc, s11_g1_soc, s12_g1_soc, s15_g1_soc, s16_g1_soc, s17_g1_soc, \n",
    "                                      s19_g1_soc, s20_g1_soc, c02_g1_soc, c03_g1_soc, c05_g1_soc, c06_g1_soc, \n",
    "                                      c09_g1_soc, c10_g1_soc, c11_g1_soc, c12_g1_soc, c13_g1_soc, c14_g1_soc, \n",
    "                                      c16_g1_soc, c17_g1_soc]},\n",
    "                              \n",
    "                        index=['s01', 's03','s05','s06','s07','s08','s09', 's11', 's12', 's15', 's16', 's17', 's19', 's20', 'c02', 'c03', \n",
    "                               'c05', 'c06', 'c09', 'c10', 'c11', 'c12', 'c13', 'c14', 'c16', 'c17'])"
   ]
  },
  {
   "cell_type": "code",
   "execution_count": 532,
   "metadata": {
    "scrolled": false
   },
   "outputs": [
    {
     "data": {
      "text/html": [
       "<div>\n",
       "<style scoped>\n",
       "    .dataframe tbody tr th:only-of-type {\n",
       "        vertical-align: middle;\n",
       "    }\n",
       "\n",
       "    .dataframe tbody tr th {\n",
       "        vertical-align: top;\n",
       "    }\n",
       "\n",
       "    .dataframe thead th {\n",
       "        text-align: right;\n",
       "    }\n",
       "</style>\n",
       "<table border=\"1\" class=\"dataframe\">\n",
       "  <thead>\n",
       "    <tr style=\"text-align: right;\">\n",
       "      <th></th>\n",
       "      <th>max</th>\n",
       "      <th>match</th>\n",
       "      <th>rand</th>\n",
       "      <th>soc</th>\n",
       "    </tr>\n",
       "  </thead>\n",
       "  <tbody>\n",
       "    <tr>\n",
       "      <td>s01</td>\n",
       "      <td>0.215762</td>\n",
       "      <td>0.000321</td>\n",
       "      <td>0.026319</td>\n",
       "      <td>0.306858</td>\n",
       "    </tr>\n",
       "    <tr>\n",
       "      <td>s03</td>\n",
       "      <td>0.380396</td>\n",
       "      <td>0.039378</td>\n",
       "      <td>0.004605</td>\n",
       "      <td>0.274358</td>\n",
       "    </tr>\n",
       "    <tr>\n",
       "      <td>s05</td>\n",
       "      <td>0.000000</td>\n",
       "      <td>0.215762</td>\n",
       "      <td>0.318257</td>\n",
       "      <td>0.693147</td>\n",
       "    </tr>\n",
       "    <tr>\n",
       "      <td>s06</td>\n",
       "      <td>0.017649</td>\n",
       "      <td>0.167590</td>\n",
       "      <td>0.251394</td>\n",
       "      <td>0.693147</td>\n",
       "    </tr>\n",
       "    <tr>\n",
       "      <td>s07</td>\n",
       "      <td>0.306858</td>\n",
       "      <td>0.016412</td>\n",
       "      <td>0.000642</td>\n",
       "      <td>0.306858</td>\n",
       "    </tr>\n",
       "    <tr>\n",
       "      <td>s08</td>\n",
       "      <td>0.000000</td>\n",
       "      <td>0.215762</td>\n",
       "      <td>0.318257</td>\n",
       "      <td>0.693147</td>\n",
       "    </tr>\n",
       "    <tr>\n",
       "      <td>s09</td>\n",
       "      <td>0.342014</td>\n",
       "      <td>0.049419</td>\n",
       "      <td>0.007785</td>\n",
       "      <td>0.380396</td>\n",
       "    </tr>\n",
       "    <tr>\n",
       "      <td>s11</td>\n",
       "      <td>0.306858</td>\n",
       "      <td>0.034388</td>\n",
       "      <td>0.004605</td>\n",
       "      <td>0.380396</td>\n",
       "    </tr>\n",
       "    <tr>\n",
       "      <td>s12</td>\n",
       "      <td>0.592639</td>\n",
       "      <td>0.149030</td>\n",
       "      <td>0.071387</td>\n",
       "      <td>0.215762</td>\n",
       "    </tr>\n",
       "    <tr>\n",
       "      <td>s15</td>\n",
       "      <td>0.470500</td>\n",
       "      <td>0.155759</td>\n",
       "      <td>0.068902</td>\n",
       "      <td>0.470500</td>\n",
       "    </tr>\n",
       "    <tr>\n",
       "      <td>s16</td>\n",
       "      <td>0.342014</td>\n",
       "      <td>0.029358</td>\n",
       "      <td>0.000642</td>\n",
       "      <td>0.306858</td>\n",
       "    </tr>\n",
       "    <tr>\n",
       "      <td>s17</td>\n",
       "      <td>0.000000</td>\n",
       "      <td>0.215762</td>\n",
       "      <td>0.318257</td>\n",
       "      <td>0.693147</td>\n",
       "    </tr>\n",
       "    <tr>\n",
       "      <td>s19</td>\n",
       "      <td>0.380396</td>\n",
       "      <td>0.035255</td>\n",
       "      <td>0.007785</td>\n",
       "      <td>0.244099</td>\n",
       "    </tr>\n",
       "    <tr>\n",
       "      <td>s20</td>\n",
       "      <td>0.342014</td>\n",
       "      <td>0.021189</td>\n",
       "      <td>0.007785</td>\n",
       "      <td>0.244099</td>\n",
       "    </tr>\n",
       "    <tr>\n",
       "      <td>c02</td>\n",
       "      <td>0.380396</td>\n",
       "      <td>0.051403</td>\n",
       "      <td>0.062078</td>\n",
       "      <td>0.140003</td>\n",
       "    </tr>\n",
       "    <tr>\n",
       "      <td>c03</td>\n",
       "      <td>0.017649</td>\n",
       "      <td>0.151897</td>\n",
       "      <td>0.251394</td>\n",
       "      <td>0.592639</td>\n",
       "    </tr>\n",
       "    <tr>\n",
       "      <td>c05</td>\n",
       "      <td>0.342014</td>\n",
       "      <td>0.049419</td>\n",
       "      <td>0.007785</td>\n",
       "      <td>0.380396</td>\n",
       "    </tr>\n",
       "    <tr>\n",
       "      <td>c06</td>\n",
       "      <td>0.342014</td>\n",
       "      <td>0.084498</td>\n",
       "      <td>0.031689</td>\n",
       "      <td>0.470500</td>\n",
       "    </tr>\n",
       "    <tr>\n",
       "      <td>c09</td>\n",
       "      <td>0.380396</td>\n",
       "      <td>0.033822</td>\n",
       "      <td>0.014363</td>\n",
       "      <td>0.215762</td>\n",
       "    </tr>\n",
       "    <tr>\n",
       "      <td>c10</td>\n",
       "      <td>0.470500</td>\n",
       "      <td>0.134544</td>\n",
       "      <td>0.052205</td>\n",
       "      <td>0.422810</td>\n",
       "    </tr>\n",
       "    <tr>\n",
       "      <td>c11</td>\n",
       "      <td>0.422810</td>\n",
       "      <td>0.054191</td>\n",
       "      <td>0.012884</td>\n",
       "      <td>0.244099</td>\n",
       "    </tr>\n",
       "    <tr>\n",
       "      <td>c12</td>\n",
       "      <td>0.306858</td>\n",
       "      <td>0.011771</td>\n",
       "      <td>0.012884</td>\n",
       "      <td>0.244099</td>\n",
       "    </tr>\n",
       "    <tr>\n",
       "      <td>c13</td>\n",
       "      <td>0.342014</td>\n",
       "      <td>0.029358</td>\n",
       "      <td>0.000642</td>\n",
       "      <td>0.306858</td>\n",
       "    </tr>\n",
       "    <tr>\n",
       "      <td>c14</td>\n",
       "      <td>0.342014</td>\n",
       "      <td>0.049419</td>\n",
       "      <td>0.007785</td>\n",
       "      <td>0.380396</td>\n",
       "    </tr>\n",
       "    <tr>\n",
       "      <td>c16</td>\n",
       "      <td>0.306858</td>\n",
       "      <td>0.016412</td>\n",
       "      <td>0.000642</td>\n",
       "      <td>0.306858</td>\n",
       "    </tr>\n",
       "    <tr>\n",
       "      <td>c17</td>\n",
       "      <td>0.470500</td>\n",
       "      <td>0.221180</td>\n",
       "      <td>0.125964</td>\n",
       "      <td>0.592639</td>\n",
       "    </tr>\n",
       "  </tbody>\n",
       "</table>\n",
       "</div>"
      ],
      "text/plain": [
       "          max     match      rand       soc\n",
       "s01  0.215762  0.000321  0.026319  0.306858\n",
       "s03  0.380396  0.039378  0.004605  0.274358\n",
       "s05  0.000000  0.215762  0.318257  0.693147\n",
       "s06  0.017649  0.167590  0.251394  0.693147\n",
       "s07  0.306858  0.016412  0.000642  0.306858\n",
       "s08  0.000000  0.215762  0.318257  0.693147\n",
       "s09  0.342014  0.049419  0.007785  0.380396\n",
       "s11  0.306858  0.034388  0.004605  0.380396\n",
       "s12  0.592639  0.149030  0.071387  0.215762\n",
       "s15  0.470500  0.155759  0.068902  0.470500\n",
       "s16  0.342014  0.029358  0.000642  0.306858\n",
       "s17  0.000000  0.215762  0.318257  0.693147\n",
       "s19  0.380396  0.035255  0.007785  0.244099\n",
       "s20  0.342014  0.021189  0.007785  0.244099\n",
       "c02  0.380396  0.051403  0.062078  0.140003\n",
       "c03  0.017649  0.151897  0.251394  0.592639\n",
       "c05  0.342014  0.049419  0.007785  0.380396\n",
       "c06  0.342014  0.084498  0.031689  0.470500\n",
       "c09  0.380396  0.033822  0.014363  0.215762\n",
       "c10  0.470500  0.134544  0.052205  0.422810\n",
       "c11  0.422810  0.054191  0.012884  0.244099\n",
       "c12  0.306858  0.011771  0.012884  0.244099\n",
       "c13  0.342014  0.029358  0.000642  0.306858\n",
       "c14  0.342014  0.049419  0.007785  0.380396\n",
       "c16  0.306858  0.016412  0.000642  0.306858\n",
       "c17  0.470500  0.221180  0.125964  0.592639"
      ]
     },
     "execution_count": 532,
     "metadata": {},
     "output_type": "execute_result"
    }
   ],
   "source": [
    "#closer to 0 = closer to that pure strategy\n",
    "control_jsd_g1"
   ]
  },
  {
   "cell_type": "code",
   "execution_count": 533,
   "metadata": {
    "scrolled": false
   },
   "outputs": [
    {
     "name": "stdout",
     "output_type": "stream",
     "text": [
      "min values of row are at following columns :\n",
      "s01    match\n",
      "s03     rand\n",
      "s05      max\n",
      "s06      max\n",
      "s07     rand\n",
      "s08      max\n",
      "s09     rand\n",
      "s11     rand\n",
      "s12     rand\n",
      "s15     rand\n",
      "s16     rand\n",
      "s17      max\n",
      "s19     rand\n",
      "s20     rand\n",
      "c02    match\n",
      "c03      max\n",
      "c05     rand\n",
      "c06     rand\n",
      "c09     rand\n",
      "c10     rand\n",
      "c11     rand\n",
      "c12    match\n",
      "c13     rand\n",
      "c14     rand\n",
      "c16     rand\n",
      "c17     rand\n",
      "dtype: object\n"
     ]
    }
   ],
   "source": [
    "# get the column name of min values in every row\n",
    "strategy_control_jsd_g1 = control_jsd_g1.idxmin(axis=1)\n",
    " \n",
    "print(\"min values of row are at following columns :\")\n",
    "print(strategy_control_jsd_g1)\n"
   ]
  },
  {
   "cell_type": "code",
   "execution_count": 534,
   "metadata": {},
   "outputs": [
    {
     "data": {
      "text/plain": [
       "rand     18\n",
       "max       5\n",
       "match     3\n",
       "dtype: int64"
      ]
     },
     "execution_count": 534,
     "metadata": {},
     "output_type": "execute_result"
    }
   ],
   "source": [
    "strategy_control_jsd_g1.value_counts()"
   ]
  },
  {
   "cell_type": "code",
   "execution_count": 535,
   "metadata": {},
   "outputs": [],
   "source": [
    "#control_types_g1 = check_type(control_jsd_g1)"
   ]
  },
  {
   "cell_type": "code",
   "execution_count": 536,
   "metadata": {},
   "outputs": [],
   "source": [
    "#control_types_g1.drop([0])"
   ]
  },
  {
   "cell_type": "code",
   "execution_count": 537,
   "metadata": {},
   "outputs": [],
   "source": [
    "#(control_types_g1 == 'maxi').sum()"
   ]
  },
  {
   "cell_type": "code",
   "execution_count": 538,
   "metadata": {},
   "outputs": [],
   "source": [
    "#Create a dataframe for single player game 1 jsd scores, with a column for each strategy.'''\n",
    "control_jsd_g2 = pd.DataFrame({'max':[s01_g2_max,s03_g2_max,s05_g2_max,s06_g2_max,s07_g2_max,s08_g2_max,\n",
    "                                s09_g2_max, s11_g2_max, s12_g2_max, s15_g2_max, s16_g2_max, s17_g2_max, \n",
    "                                      s19_g2_max, s20_g2_max, c02_g2_max, c03_g2_max, c05_g2_max, c06_g2_max, \n",
    "                                      c09_g2_max, c10_g2_max, c11_g2_max, c12_g2_max, c13_g2_max, c14_g2_max, \n",
    "                                      c16_g2_max, c17_g2_max],\n",
    "                      'match':[s01_g2_match,s03_g2_match,s05_g2_match\n",
    "                               ,s06_g2_match,s07_g2_match,s08_g2_match,s09_g2_match, s11_g2_match, \n",
    "                               s12_g2_match, s15_g2_match, s16_g2_match, s17_g2_match, s19_g2_match, \n",
    "                               s20_g2_match, c02_g2_match, c03_g2_match, c05_g2_match, c06_g2_match, \n",
    "                                      c09_g2_match, c10_g2_match, c11_g2_match, c12_g2_match, c13_g2_match, c14_g2_match, \n",
    "                                      c16_g2_match, c17_g2_match],\n",
    "                    'rand':[s01_g2_rand,s03_g2_rand,s05_g2_rand,s06_g2_rand,s07_g2_rand,s08_g2_rand,\n",
    "                                s09_g2_rand, s11_g2_rand, s12_g2_rand, s15_g2_rand, s16_g2_rand, s17_g2_rand, \n",
    "                                      s19_g2_rand, s20_g2_rand, c02_g2_rand, c03_g2_rand, c05_g2_rand, c06_g2_rand, \n",
    "                                      c09_g2_rand, c10_g2_rand, c11_g2_rand, c12_g2_rand, c13_g2_rand, c14_g2_rand, \n",
    "                                      c16_g2_rand, c17_g2_rand],\n",
    "                        'soc':[s01_g2_soc,s03_g2_soc,s05_g2_soc,s06_g2_soc,s07_g2_soc,s08_g2_soc,\n",
    "                                s09_g2_soc, s11_g2_soc, s12_g2_soc, s15_g2_soc, s16_g2_soc, s17_g2_soc, \n",
    "                                      s19_g2_soc, s20_g2_soc, c02_g2_soc, c03_g2_soc, c05_g2_soc, c06_g2_soc, \n",
    "                                      c09_g2_soc, c10_g2_soc, c11_g2_soc, c12_g2_soc, c13_g2_soc, c14_g2_soc, \n",
    "                                      c16_g2_soc, c17_g2_soc]},\n",
    "                              \n",
    "                        index=['s01', 's03','s05','s06','s07','s08','s09', 's11', 's12', 's15', 's16', 's17', 's19', 's20', 'c02', 'c03', \n",
    "                               'c05', 'c06', 'c09', 'c10', 'c11', 'c12', 'c13', 'c14', 'c16', 'c17'])"
   ]
  },
  {
   "cell_type": "code",
   "execution_count": 539,
   "metadata": {},
   "outputs": [
    {
     "data": {
      "text/html": [
       "<div>\n",
       "<style scoped>\n",
       "    .dataframe tbody tr th:only-of-type {\n",
       "        vertical-align: middle;\n",
       "    }\n",
       "\n",
       "    .dataframe tbody tr th {\n",
       "        vertical-align: top;\n",
       "    }\n",
       "\n",
       "    .dataframe thead th {\n",
       "        text-align: right;\n",
       "    }\n",
       "</style>\n",
       "<table border=\"1\" class=\"dataframe\">\n",
       "  <thead>\n",
       "    <tr style=\"text-align: right;\">\n",
       "      <th></th>\n",
       "      <th>max</th>\n",
       "      <th>match</th>\n",
       "      <th>rand</th>\n",
       "      <th>soc</th>\n",
       "    </tr>\n",
       "  </thead>\n",
       "  <tbody>\n",
       "    <tr>\n",
       "      <td>s01</td>\n",
       "      <td>0.244099</td>\n",
       "      <td>0.067595</td>\n",
       "      <td>0.041858</td>\n",
       "      <td>0.525597</td>\n",
       "    </tr>\n",
       "    <tr>\n",
       "      <td>s03</td>\n",
       "      <td>0.380396</td>\n",
       "      <td>0.067828</td>\n",
       "      <td>0.014363</td>\n",
       "      <td>0.380396</td>\n",
       "    </tr>\n",
       "    <tr>\n",
       "      <td>s05</td>\n",
       "      <td>0.000000</td>\n",
       "      <td>0.215762</td>\n",
       "      <td>0.318257</td>\n",
       "      <td>0.693147</td>\n",
       "    </tr>\n",
       "    <tr>\n",
       "      <td>s06</td>\n",
       "      <td>0.074882</td>\n",
       "      <td>0.083649</td>\n",
       "      <td>0.173445</td>\n",
       "      <td>0.422810</td>\n",
       "    </tr>\n",
       "    <tr>\n",
       "      <td>s07</td>\n",
       "      <td>0.422810</td>\n",
       "      <td>0.051255</td>\n",
       "      <td>0.017251</td>\n",
       "      <td>0.215762</td>\n",
       "    </tr>\n",
       "    <tr>\n",
       "      <td>s08</td>\n",
       "      <td>0.525597</td>\n",
       "      <td>0.256977</td>\n",
       "      <td>0.150116</td>\n",
       "      <td>0.592639</td>\n",
       "    </tr>\n",
       "    <tr>\n",
       "      <td>s09</td>\n",
       "      <td>0.422810</td>\n",
       "      <td>0.077250</td>\n",
       "      <td>0.017251</td>\n",
       "      <td>0.342014</td>\n",
       "    </tr>\n",
       "    <tr>\n",
       "      <td>s11</td>\n",
       "      <td>0.244099</td>\n",
       "      <td>0.005292</td>\n",
       "      <td>0.007785</td>\n",
       "      <td>0.342014</td>\n",
       "    </tr>\n",
       "    <tr>\n",
       "      <td>s12</td>\n",
       "      <td>0.525597</td>\n",
       "      <td>0.218750</td>\n",
       "      <td>0.115773</td>\n",
       "      <td>0.525597</td>\n",
       "    </tr>\n",
       "    <tr>\n",
       "      <td>s15</td>\n",
       "      <td>0.470500</td>\n",
       "      <td>0.155759</td>\n",
       "      <td>0.068902</td>\n",
       "      <td>0.470500</td>\n",
       "    </tr>\n",
       "    <tr>\n",
       "      <td>s16</td>\n",
       "      <td>0.274358</td>\n",
       "      <td>0.005059</td>\n",
       "      <td>0.011457</td>\n",
       "      <td>0.274358</td>\n",
       "    </tr>\n",
       "    <tr>\n",
       "      <td>s17</td>\n",
       "      <td>0.074882</td>\n",
       "      <td>0.083649</td>\n",
       "      <td>0.173445</td>\n",
       "      <td>0.422810</td>\n",
       "    </tr>\n",
       "    <tr>\n",
       "      <td>s19</td>\n",
       "      <td>0.000000</td>\n",
       "      <td>0.215762</td>\n",
       "      <td>0.318257</td>\n",
       "      <td>0.693147</td>\n",
       "    </tr>\n",
       "    <tr>\n",
       "      <td>s20</td>\n",
       "      <td>0.592639</td>\n",
       "      <td>0.142779</td>\n",
       "      <td>0.078055</td>\n",
       "      <td>0.163897</td>\n",
       "    </tr>\n",
       "    <tr>\n",
       "      <td>c02</td>\n",
       "      <td>0.000000</td>\n",
       "      <td>0.215762</td>\n",
       "      <td>0.318257</td>\n",
       "      <td>0.693147</td>\n",
       "    </tr>\n",
       "    <tr>\n",
       "      <td>c03</td>\n",
       "      <td>0.000000</td>\n",
       "      <td>0.215762</td>\n",
       "      <td>0.318257</td>\n",
       "      <td>0.693147</td>\n",
       "    </tr>\n",
       "    <tr>\n",
       "      <td>c05</td>\n",
       "      <td>0.342014</td>\n",
       "      <td>0.023809</td>\n",
       "      <td>0.002395</td>\n",
       "      <td>0.274358</td>\n",
       "    </tr>\n",
       "    <tr>\n",
       "      <td>c06</td>\n",
       "      <td>0.342014</td>\n",
       "      <td>0.084498</td>\n",
       "      <td>0.031689</td>\n",
       "      <td>0.470500</td>\n",
       "    </tr>\n",
       "    <tr>\n",
       "      <td>c09</td>\n",
       "      <td>0.306858</td>\n",
       "      <td>0.012365</td>\n",
       "      <td>0.004605</td>\n",
       "      <td>0.274358</td>\n",
       "    </tr>\n",
       "    <tr>\n",
       "      <td>c10</td>\n",
       "      <td>0.592639</td>\n",
       "      <td>0.149030</td>\n",
       "      <td>0.071387</td>\n",
       "      <td>0.215762</td>\n",
       "    </tr>\n",
       "    <tr>\n",
       "      <td>c11</td>\n",
       "      <td>0.525597</td>\n",
       "      <td>0.138213</td>\n",
       "      <td>0.052892</td>\n",
       "      <td>0.342014</td>\n",
       "    </tr>\n",
       "    <tr>\n",
       "      <td>c12</td>\n",
       "      <td>0.189094</td>\n",
       "      <td>0.001254</td>\n",
       "      <td>0.031689</td>\n",
       "      <td>0.342014</td>\n",
       "    </tr>\n",
       "    <tr>\n",
       "      <td>c13</td>\n",
       "      <td>0.422810</td>\n",
       "      <td>0.077250</td>\n",
       "      <td>0.017251</td>\n",
       "      <td>0.342014</td>\n",
       "    </tr>\n",
       "    <tr>\n",
       "      <td>c14</td>\n",
       "      <td>0.422810</td>\n",
       "      <td>0.106628</td>\n",
       "      <td>0.036160</td>\n",
       "      <td>0.422810</td>\n",
       "    </tr>\n",
       "    <tr>\n",
       "      <td>c16</td>\n",
       "      <td>0.525597</td>\n",
       "      <td>0.117897</td>\n",
       "      <td>0.043045</td>\n",
       "      <td>0.274358</td>\n",
       "    </tr>\n",
       "    <tr>\n",
       "      <td>c17</td>\n",
       "      <td>0.017649</td>\n",
       "      <td>0.151897</td>\n",
       "      <td>0.251394</td>\n",
       "      <td>0.592639</td>\n",
       "    </tr>\n",
       "  </tbody>\n",
       "</table>\n",
       "</div>"
      ],
      "text/plain": [
       "          max     match      rand       soc\n",
       "s01  0.244099  0.067595  0.041858  0.525597\n",
       "s03  0.380396  0.067828  0.014363  0.380396\n",
       "s05  0.000000  0.215762  0.318257  0.693147\n",
       "s06  0.074882  0.083649  0.173445  0.422810\n",
       "s07  0.422810  0.051255  0.017251  0.215762\n",
       "s08  0.525597  0.256977  0.150116  0.592639\n",
       "s09  0.422810  0.077250  0.017251  0.342014\n",
       "s11  0.244099  0.005292  0.007785  0.342014\n",
       "s12  0.525597  0.218750  0.115773  0.525597\n",
       "s15  0.470500  0.155759  0.068902  0.470500\n",
       "s16  0.274358  0.005059  0.011457  0.274358\n",
       "s17  0.074882  0.083649  0.173445  0.422810\n",
       "s19  0.000000  0.215762  0.318257  0.693147\n",
       "s20  0.592639  0.142779  0.078055  0.163897\n",
       "c02  0.000000  0.215762  0.318257  0.693147\n",
       "c03  0.000000  0.215762  0.318257  0.693147\n",
       "c05  0.342014  0.023809  0.002395  0.274358\n",
       "c06  0.342014  0.084498  0.031689  0.470500\n",
       "c09  0.306858  0.012365  0.004605  0.274358\n",
       "c10  0.592639  0.149030  0.071387  0.215762\n",
       "c11  0.525597  0.138213  0.052892  0.342014\n",
       "c12  0.189094  0.001254  0.031689  0.342014\n",
       "c13  0.422810  0.077250  0.017251  0.342014\n",
       "c14  0.422810  0.106628  0.036160  0.422810\n",
       "c16  0.525597  0.117897  0.043045  0.274358\n",
       "c17  0.017649  0.151897  0.251394  0.592639"
      ]
     },
     "execution_count": 539,
     "metadata": {},
     "output_type": "execute_result"
    }
   ],
   "source": [
    "control_jsd_g2"
   ]
  },
  {
   "cell_type": "code",
   "execution_count": 540,
   "metadata": {
    "scrolled": false
   },
   "outputs": [
    {
     "name": "stdout",
     "output_type": "stream",
     "text": [
      "min values of row are at following columns :\n",
      "s01     rand\n",
      "s03     rand\n",
      "s05      max\n",
      "s06      max\n",
      "s07     rand\n",
      "s08     rand\n",
      "s09     rand\n",
      "s11    match\n",
      "s12     rand\n",
      "s15     rand\n",
      "s16    match\n",
      "s17      max\n",
      "s19      max\n",
      "s20     rand\n",
      "c02      max\n",
      "c03      max\n",
      "c05     rand\n",
      "c06     rand\n",
      "c09     rand\n",
      "c10     rand\n",
      "c11     rand\n",
      "c12    match\n",
      "c13     rand\n",
      "c14     rand\n",
      "c16     rand\n",
      "c17      max\n",
      "dtype: object\n"
     ]
    }
   ],
   "source": [
    "# get the column name of min values in every row\n",
    "strategy_control_jsd_g2 = control_jsd_g2.idxmin(axis=1)\n",
    " \n",
    "print(\"min values of row are at following columns :\")\n",
    "print(strategy_control_jsd_g2)\n"
   ]
  },
  {
   "cell_type": "code",
   "execution_count": 541,
   "metadata": {},
   "outputs": [
    {
     "data": {
      "text/plain": [
       "rand     16\n",
       "max       7\n",
       "match     3\n",
       "dtype: int64"
      ]
     },
     "execution_count": 541,
     "metadata": {},
     "output_type": "execute_result"
    }
   ],
   "source": [
    "strategy_control_jsd_g2.value_counts()"
   ]
  },
  {
   "cell_type": "code",
   "execution_count": 542,
   "metadata": {},
   "outputs": [],
   "source": [
    "#control_types_g2 = check_type(control_jsd_g2)"
   ]
  },
  {
   "cell_type": "code",
   "execution_count": 226,
   "metadata": {},
   "outputs": [],
   "source": [
    "#control_types_g2.drop([0])"
   ]
  },
  {
   "cell_type": "code",
   "execution_count": 227,
   "metadata": {},
   "outputs": [],
   "source": [
    "#(control_types_g2 == 'maxi').sum()"
   ]
  },
  {
   "cell_type": "code",
   "execution_count": 228,
   "metadata": {},
   "outputs": [],
   "source": [
    "#how different max and match dists are from eachother\n",
    "#neither max or match(?)\n",
    "#threshold = jsd(maximize,match)"
   ]
  },
  {
   "cell_type": "code",
   "execution_count": 229,
   "metadata": {},
   "outputs": [],
   "source": [
    "import matplotlib.lines as mlines"
   ]
  },
  {
   "cell_type": "code",
   "execution_count": 230,
   "metadata": {},
   "outputs": [],
   "source": [
    "#colors_jsd = [['lightcoral','red','lightcoral','red','bisque','orange','bisque','orange','palegreen','green','palegreen','green',\n",
    "              #'lightblue','blue','lightblue','blue','mediumslateblue','indigo','mediumslateblue','indigo','lightpink','deeppink',\n",
    "              #'lightpink','deeppink','yellow','gold','yellow','gold','lightgray','gray','lightgray','gray']              "
   ]
  },
  {
   "cell_type": "code",
   "execution_count": 231,
   "metadata": {},
   "outputs": [],
   "source": [
    "import itertools"
   ]
  },
  {
   "cell_type": "code",
   "execution_count": 232,
   "metadata": {},
   "outputs": [],
   "source": [
    "#Here I print the means of the JSD values in each condition, just to see what they are.'''"
   ]
  },
  {
   "cell_type": "code",
   "execution_count": 233,
   "metadata": {},
   "outputs": [
    {
     "data": {
      "text/plain": [
       "max      0.225146\n",
       "match    0.073886\n",
       "rand     0.096379\n",
       "soc      0.391850\n",
       "dtype: float64"
      ]
     },
     "execution_count": 233,
     "metadata": {},
     "output_type": "execute_result"
    }
   ],
   "source": [
    "#run t test to see sig between max and match per game\n",
    "#put in box plot\n",
    "control_jsd_g1.mean()"
   ]
  },
  {
   "cell_type": "code",
   "execution_count": 234,
   "metadata": {},
   "outputs": [
    {
     "data": {
      "text/plain": [
       "max      0.203077\n",
       "match    0.099893\n",
       "rand     0.128325\n",
       "soc      0.448837\n",
       "dtype: float64"
      ]
     },
     "execution_count": 234,
     "metadata": {},
     "output_type": "execute_result"
    }
   ],
   "source": [
    "control_jsd_g2.mean()"
   ]
  },
  {
   "cell_type": "markdown",
   "metadata": {},
   "source": [
    "# Control strategy stats "
   ]
  },
  {
   "cell_type": "code",
   "execution_count": 235,
   "metadata": {},
   "outputs": [],
   "source": [
    "control_jsd_g1.dropna(inplace = True) "
   ]
  },
  {
   "cell_type": "markdown",
   "metadata": {},
   "source": [
    "# Max strategy"
   ]
  },
  {
   "cell_type": "code",
   "execution_count": 236,
   "metadata": {},
   "outputs": [],
   "source": [
    "control_max_g1 = control_jsd_g1.loc[ : , 'max' ]"
   ]
  },
  {
   "cell_type": "code",
   "execution_count": 237,
   "metadata": {
    "scrolled": false
   },
   "outputs": [
    {
     "data": {
      "text/plain": [
       "s01    0.215762\n",
       "s03    0.380396\n",
       "s05    0.251473\n",
       "s06    0.017649\n",
       "s07    0.306858\n",
       "s08    0.035974\n",
       "s09    0.342014\n",
       "s11    0.306858\n",
       "s12    0.215762\n",
       "s15    0.055030\n",
       "s16    0.342014\n",
       "s17    0.013011\n",
       "s19    0.000000\n",
       "s20    0.342014\n",
       "c02    0.244099\n",
       "c03    0.055030\n",
       "c05    0.342014\n",
       "c06    0.342014\n",
       "c09    0.380396\n",
       "c10    0.000000\n",
       "c11    0.422810\n",
       "c12    0.306858\n",
       "c13    0.342014\n",
       "c14    0.342014\n",
       "c16    0.215762\n",
       "c17    0.035974\n",
       "Name: max, dtype: float64"
      ]
     },
     "execution_count": 237,
     "metadata": {},
     "output_type": "execute_result"
    }
   ],
   "source": [
    "control_max_g1"
   ]
  },
  {
   "cell_type": "code",
   "execution_count": 238,
   "metadata": {},
   "outputs": [],
   "source": [
    "control_max_g2 = control_jsd_g2.loc[ : , 'max' ]"
   ]
  },
  {
   "cell_type": "code",
   "execution_count": 239,
   "metadata": {
    "scrolled": false
   },
   "outputs": [
    {
     "data": {
      "text/plain": [
       "s01    0.244099\n",
       "s03    0.380396\n",
       "s05    0.000000\n",
       "s06    0.074882\n",
       "s07    0.422810\n",
       "s08    0.055030\n",
       "s09    0.189094\n",
       "s11    0.244099\n",
       "s12    0.017649\n",
       "s15    0.035974\n",
       "s16    0.274358\n",
       "s17    0.089110\n",
       "s19    0.000000\n",
       "s20    0.592639\n",
       "c02    0.000000\n",
       "c03    0.000000\n",
       "c05    0.342014\n",
       "c06    0.342014\n",
       "c09    0.306858\n",
       "c10    0.035974\n",
       "c11    0.525597\n",
       "c12    0.189094\n",
       "c13    0.422810\n",
       "c14    0.422810\n",
       "c16    0.055030\n",
       "c17    0.017649\n",
       "Name: max, dtype: float64"
      ]
     },
     "execution_count": 239,
     "metadata": {},
     "output_type": "execute_result"
    }
   ],
   "source": [
    "control_max_g2"
   ]
  },
  {
   "cell_type": "code",
   "execution_count": 240,
   "metadata": {},
   "outputs": [],
   "source": [
    "control_max_g1_mean = control_max_g1.mean()"
   ]
  },
  {
   "cell_type": "code",
   "execution_count": 241,
   "metadata": {},
   "outputs": [
    {
     "data": {
      "text/plain": [
       "0.2251461782292409"
      ]
     },
     "execution_count": 241,
     "metadata": {},
     "output_type": "execute_result"
    }
   ],
   "source": [
    "control_max_g1_mean"
   ]
  },
  {
   "cell_type": "code",
   "execution_count": 242,
   "metadata": {},
   "outputs": [],
   "source": [
    "control_max_g1_std = control_max_g1.std()"
   ]
  },
  {
   "cell_type": "code",
   "execution_count": 243,
   "metadata": {},
   "outputs": [
    {
     "data": {
      "text/plain": [
       "0.14465403616068484"
      ]
     },
     "execution_count": 243,
     "metadata": {},
     "output_type": "execute_result"
    }
   ],
   "source": [
    "control_max_g1_std"
   ]
  },
  {
   "cell_type": "code",
   "execution_count": 244,
   "metadata": {},
   "outputs": [],
   "source": [
    "control_max_g2_mean = control_max_g2.mean()"
   ]
  },
  {
   "cell_type": "code",
   "execution_count": 245,
   "metadata": {},
   "outputs": [
    {
     "data": {
      "text/plain": [
       "0.20307667100687835"
      ]
     },
     "execution_count": 245,
     "metadata": {},
     "output_type": "execute_result"
    }
   ],
   "source": [
    "control_max_g2_mean"
   ]
  },
  {
   "cell_type": "code",
   "execution_count": 246,
   "metadata": {},
   "outputs": [
    {
     "data": {
      "text/plain": [
       "0.18472867323517675"
      ]
     },
     "execution_count": 246,
     "metadata": {},
     "output_type": "execute_result"
    }
   ],
   "source": [
    "control_max_g2_std = control_max_g2.std()\n",
    "control_max_g2_std"
   ]
  },
  {
   "cell_type": "markdown",
   "metadata": {},
   "source": [
    "Max T-Test "
   ]
  },
  {
   "cell_type": "code",
   "execution_count": 247,
   "metadata": {},
   "outputs": [],
   "source": [
    "control_max_p = sp.stats.ttest_rel(control_max_g1,control_max_g2)"
   ]
  },
  {
   "cell_type": "code",
   "execution_count": 248,
   "metadata": {},
   "outputs": [
    {
     "data": {
      "text/plain": [
       "Ttest_relResult(statistic=0.962766221426645, pvalue=0.34488553427457613)"
      ]
     },
     "execution_count": 248,
     "metadata": {},
     "output_type": "execute_result"
    }
   ],
   "source": [
    "control_max_p"
   ]
  },
  {
   "cell_type": "markdown",
   "metadata": {},
   "source": [
    "# Match strategy"
   ]
  },
  {
   "cell_type": "code",
   "execution_count": 249,
   "metadata": {},
   "outputs": [],
   "source": [
    "control_match_g1 = control_jsd_g1.loc[ : , 'match' ]"
   ]
  },
  {
   "cell_type": "code",
   "execution_count": 250,
   "metadata": {
    "scrolled": false
   },
   "outputs": [
    {
     "data": {
      "text/plain": [
       "s01    0.000321\n",
       "s03    0.039378\n",
       "s05    0.006066\n",
       "s06    0.151897\n",
       "s07    0.016412\n",
       "s08    0.119873\n",
       "s09    0.049419\n",
       "s11    0.034388\n",
       "s12    0.066152\n",
       "s15    0.098537\n",
       "s16    0.029358\n",
       "s17    0.163186\n",
       "s19    0.215762\n",
       "s20    0.021189\n",
       "c02    0.071843\n",
       "c03    0.138690\n",
       "c05    0.049419\n",
       "c06    0.084498\n",
       "c09    0.033822\n",
       "c10    0.215762\n",
       "c11    0.054191\n",
       "c12    0.011771\n",
       "c13    0.029358\n",
       "c14    0.049419\n",
       "c16    0.066152\n",
       "c17    0.104180\n",
       "Name: match, dtype: float64"
      ]
     },
     "execution_count": 250,
     "metadata": {},
     "output_type": "execute_result"
    }
   ],
   "source": [
    "control_match_g1"
   ]
  },
  {
   "cell_type": "code",
   "execution_count": 251,
   "metadata": {},
   "outputs": [],
   "source": [
    "control_match_g2 = control_jsd_g2.loc[ : , 'match' ]"
   ]
  },
  {
   "cell_type": "code",
   "execution_count": 252,
   "metadata": {
    "scrolled": false
   },
   "outputs": [
    {
     "data": {
      "text/plain": [
       "s01    0.067595\n",
       "s03    0.067828\n",
       "s05    0.215762\n",
       "s06    0.083649\n",
       "s07    0.051255\n",
       "s08    0.085795\n",
       "s09    0.062718\n",
       "s11    0.005292\n",
       "s12    0.167590\n",
       "s15    0.104180\n",
       "s16    0.005059\n",
       "s17    0.076101\n",
       "s19    0.215762\n",
       "s20    0.142779\n",
       "c02    0.215762\n",
       "c03    0.215762\n",
       "c05    0.023809\n",
       "c06    0.084498\n",
       "c09    0.012365\n",
       "c10    0.119873\n",
       "c11    0.138213\n",
       "c12    0.001254\n",
       "c13    0.077250\n",
       "c14    0.106628\n",
       "c16    0.098537\n",
       "c17    0.151897\n",
       "Name: match, dtype: float64"
      ]
     },
     "execution_count": 252,
     "metadata": {},
     "output_type": "execute_result"
    }
   ],
   "source": [
    "control_match_g2"
   ]
  },
  {
   "cell_type": "code",
   "execution_count": 253,
   "metadata": {},
   "outputs": [],
   "source": [
    "control_match_g1_mean = control_match_g1.mean()"
   ]
  },
  {
   "cell_type": "code",
   "execution_count": 254,
   "metadata": {},
   "outputs": [
    {
     "data": {
      "text/plain": [
       "0.07388626117184005"
      ]
     },
     "execution_count": 254,
     "metadata": {},
     "output_type": "execute_result"
    }
   ],
   "source": [
    "control_match_g1_mean"
   ]
  },
  {
   "cell_type": "code",
   "execution_count": 255,
   "metadata": {},
   "outputs": [],
   "source": [
    "control_match_g1_std = control_match_g1.std()"
   ]
  },
  {
   "cell_type": "code",
   "execution_count": 256,
   "metadata": {
    "scrolled": true
   },
   "outputs": [
    {
     "data": {
      "text/plain": [
       "0.06094224892394445"
      ]
     },
     "execution_count": 256,
     "metadata": {},
     "output_type": "execute_result"
    }
   ],
   "source": [
    "control_match_g1_std"
   ]
  },
  {
   "cell_type": "code",
   "execution_count": 257,
   "metadata": {},
   "outputs": [],
   "source": [
    "control_match_g2_mean = control_match_g2.mean()"
   ]
  },
  {
   "cell_type": "code",
   "execution_count": 258,
   "metadata": {},
   "outputs": [
    {
     "data": {
      "text/plain": [
       "0.09989270632625674"
      ]
     },
     "execution_count": 258,
     "metadata": {},
     "output_type": "execute_result"
    }
   ],
   "source": [
    "control_match_g2_mean"
   ]
  },
  {
   "cell_type": "code",
   "execution_count": 259,
   "metadata": {},
   "outputs": [],
   "source": [
    "control_match_g2_std = control_match_g2.std()"
   ]
  },
  {
   "cell_type": "code",
   "execution_count": 260,
   "metadata": {},
   "outputs": [
    {
     "data": {
      "text/plain": [
       "0.06737411551645703"
      ]
     },
     "execution_count": 260,
     "metadata": {},
     "output_type": "execute_result"
    }
   ],
   "source": [
    "control_match_g2_std"
   ]
  },
  {
   "cell_type": "code",
   "execution_count": 261,
   "metadata": {},
   "outputs": [],
   "source": [
    "control_match_p = sp.stats.ttest_rel(control_match_g1,control_match_g2)"
   ]
  },
  {
   "cell_type": "code",
   "execution_count": 262,
   "metadata": {},
   "outputs": [
    {
     "data": {
      "text/plain": [
       "Ttest_relResult(statistic=-1.8672622630590225, pvalue=0.07363358166026425)"
      ]
     },
     "execution_count": 262,
     "metadata": {},
     "output_type": "execute_result"
    }
   ],
   "source": [
    "control_match_p"
   ]
  },
  {
   "cell_type": "markdown",
   "metadata": {},
   "source": [
    "# Random strategy"
   ]
  },
  {
   "cell_type": "code",
   "execution_count": 263,
   "metadata": {},
   "outputs": [],
   "source": [
    "control_rand_g1 = control_jsd_g1.loc[ : , 'rand' ]"
   ]
  },
  {
   "cell_type": "code",
   "execution_count": 264,
   "metadata": {
    "scrolled": false
   },
   "outputs": [
    {
     "data": {
      "text/plain": [
       "s01    0.026319\n",
       "s03    0.004605\n",
       "s05    0.031625\n",
       "s06    0.251394\n",
       "s07    0.000642\n",
       "s08    0.216261\n",
       "s09    0.007785\n",
       "s11    0.004605\n",
       "s12    0.132304\n",
       "s15    0.191694\n",
       "s16    0.000642\n",
       "s17    0.263472\n",
       "s19    0.318257\n",
       "s20    0.007785\n",
       "c02    0.133307\n",
       "c03    0.191694\n",
       "c05    0.007785\n",
       "c06    0.031689\n",
       "c09    0.014363\n",
       "c10    0.318257\n",
       "c11    0.012884\n",
       "c12    0.012884\n",
       "c13    0.000642\n",
       "c14    0.007785\n",
       "c16    0.132304\n",
       "c17    0.184874\n",
       "Name: rand, dtype: float64"
      ]
     },
     "execution_count": 264,
     "metadata": {},
     "output_type": "execute_result"
    }
   ],
   "source": [
    "control_rand_g1"
   ]
  },
  {
   "cell_type": "code",
   "execution_count": 265,
   "metadata": {},
   "outputs": [],
   "source": [
    "control_rand_g2 = control_jsd_g2.loc[ : , 'rand' ]"
   ]
  },
  {
   "cell_type": "code",
   "execution_count": 266,
   "metadata": {
    "scrolled": false
   },
   "outputs": [
    {
     "data": {
      "text/plain": [
       "s01    0.041858\n",
       "s03    0.014363\n",
       "s05    0.318257\n",
       "s06    0.173445\n",
       "s07    0.017251\n",
       "s08    0.150116\n",
       "s09    0.133307\n",
       "s11    0.007785\n",
       "s12    0.251394\n",
       "s15    0.184874\n",
       "s16    0.011457\n",
       "s17    0.163491\n",
       "s19    0.318257\n",
       "s20    0.078055\n",
       "c02    0.318257\n",
       "c03    0.318257\n",
       "c05    0.002395\n",
       "c06    0.031689\n",
       "c09    0.004605\n",
       "c10    0.216261\n",
       "c11    0.052892\n",
       "c12    0.031689\n",
       "c13    0.017251\n",
       "c14    0.036160\n",
       "c16    0.191694\n",
       "c17    0.251394\n",
       "Name: rand, dtype: float64"
      ]
     },
     "execution_count": 266,
     "metadata": {},
     "output_type": "execute_result"
    }
   ],
   "source": [
    "control_rand_g2"
   ]
  },
  {
   "cell_type": "code",
   "execution_count": 267,
   "metadata": {},
   "outputs": [],
   "source": [
    "control_rand_g1_mean = control_rand_g1.mean()"
   ]
  },
  {
   "cell_type": "code",
   "execution_count": 268,
   "metadata": {},
   "outputs": [
    {
     "data": {
      "text/plain": [
       "0.09637927858593555"
      ]
     },
     "execution_count": 268,
     "metadata": {},
     "output_type": "execute_result"
    }
   ],
   "source": [
    "control_rand_g1_mean"
   ]
  },
  {
   "cell_type": "code",
   "execution_count": 269,
   "metadata": {},
   "outputs": [],
   "source": [
    "control_rand_g1_std = control_rand_g1.std()"
   ]
  },
  {
   "cell_type": "code",
   "execution_count": 270,
   "metadata": {},
   "outputs": [
    {
     "data": {
      "text/plain": [
       "0.11034846762214916"
      ]
     },
     "execution_count": 270,
     "metadata": {},
     "output_type": "execute_result"
    }
   ],
   "source": [
    "control_rand_g1_std"
   ]
  },
  {
   "cell_type": "code",
   "execution_count": 271,
   "metadata": {},
   "outputs": [],
   "source": [
    "control_rand_g2_mean = control_rand_g2.mean()"
   ]
  },
  {
   "cell_type": "code",
   "execution_count": 272,
   "metadata": {},
   "outputs": [
    {
     "data": {
      "text/plain": [
       "0.1283252510031665"
      ]
     },
     "execution_count": 272,
     "metadata": {},
     "output_type": "execute_result"
    }
   ],
   "source": [
    "control_rand_g2_mean"
   ]
  },
  {
   "cell_type": "code",
   "execution_count": 273,
   "metadata": {},
   "outputs": [
    {
     "data": {
      "text/plain": [
       "0.11544476771881021"
      ]
     },
     "execution_count": 273,
     "metadata": {},
     "output_type": "execute_result"
    }
   ],
   "source": [
    "control_rand_g2_std = control_rand_g2.std()\n",
    "control_rand_g2_std"
   ]
  },
  {
   "cell_type": "code",
   "execution_count": 274,
   "metadata": {},
   "outputs": [],
   "source": [
    "control_rand_p = sp.stats.ttest_rel(control_rand_g1,control_rand_g2)"
   ]
  },
  {
   "cell_type": "code",
   "execution_count": 275,
   "metadata": {},
   "outputs": [
    {
     "data": {
      "text/plain": [
       "Ttest_relResult(statistic=-1.901459907151789, pvalue=0.06882716470973808)"
      ]
     },
     "execution_count": 275,
     "metadata": {},
     "output_type": "execute_result"
    }
   ],
   "source": [
    "control_rand_p"
   ]
  },
  {
   "cell_type": "markdown",
   "metadata": {},
   "source": [
    "# Social strategy"
   ]
  },
  {
   "cell_type": "code",
   "execution_count": 276,
   "metadata": {},
   "outputs": [],
   "source": [
    "control_soc_g1 = control_jsd_g1.loc[ : , 'soc' ]"
   ]
  },
  {
   "cell_type": "code",
   "execution_count": 277,
   "metadata": {
    "scrolled": false
   },
   "outputs": [
    {
     "data": {
      "text/plain": [
       "s01    0.306858\n",
       "s03    0.274358\n",
       "s05    0.251473\n",
       "s06    0.592639\n",
       "s07    0.306858\n",
       "s08    0.525597\n",
       "s09    0.380396\n",
       "s11    0.380396\n",
       "s12    0.215762\n",
       "s15    0.470500\n",
       "s16    0.306858\n",
       "s17    0.613256\n",
       "s19    0.693147\n",
       "s20    0.244099\n",
       "c02    0.189094\n",
       "c03    0.693147\n",
       "c05    0.380396\n",
       "c06    0.470500\n",
       "c09    0.215762\n",
       "c10    0.693147\n",
       "c11    0.244099\n",
       "c12    0.244099\n",
       "c13    0.306858\n",
       "c14    0.380396\n",
       "c16    0.215762\n",
       "c17    0.592639\n",
       "Name: soc, dtype: float64"
      ]
     },
     "execution_count": 277,
     "metadata": {},
     "output_type": "execute_result"
    }
   ],
   "source": [
    "control_soc_g1"
   ]
  },
  {
   "cell_type": "code",
   "execution_count": 278,
   "metadata": {},
   "outputs": [],
   "source": [
    "control_soc_g2 = control_jsd_g2.loc[ : , 'soc' ]"
   ]
  },
  {
   "cell_type": "code",
   "execution_count": 279,
   "metadata": {
    "scrolled": false
   },
   "outputs": [
    {
     "data": {
      "text/plain": [
       "s01    0.525597\n",
       "s03    0.380396\n",
       "s05    0.693147\n",
       "s06    0.422810\n",
       "s07    0.215762\n",
       "s08    0.592639\n",
       "s09    0.244099\n",
       "s11    0.342014\n",
       "s12    0.693147\n",
       "s15    0.592639\n",
       "s16    0.274358\n",
       "s17    0.393010\n",
       "s19    0.693147\n",
       "s20    0.163897\n",
       "c02    0.693147\n",
       "c03    0.693147\n",
       "c05    0.274358\n",
       "c06    0.470500\n",
       "c09    0.274358\n",
       "c10    0.525597\n",
       "c11    0.342014\n",
       "c12    0.342014\n",
       "c13    0.342014\n",
       "c14    0.422810\n",
       "c16    0.470500\n",
       "c17    0.592639\n",
       "Name: soc, dtype: float64"
      ]
     },
     "execution_count": 279,
     "metadata": {},
     "output_type": "execute_result"
    }
   ],
   "source": [
    "control_soc_g2"
   ]
  },
  {
   "cell_type": "code",
   "execution_count": 280,
   "metadata": {},
   "outputs": [],
   "source": [
    "control_soc_g1_mean = control_soc_g1.mean()"
   ]
  },
  {
   "cell_type": "code",
   "execution_count": 281,
   "metadata": {},
   "outputs": [
    {
     "data": {
      "text/plain": [
       "0.3918498090714647"
      ]
     },
     "execution_count": 281,
     "metadata": {},
     "output_type": "execute_result"
    }
   ],
   "source": [
    "control_soc_g1_mean"
   ]
  },
  {
   "cell_type": "code",
   "execution_count": 282,
   "metadata": {},
   "outputs": [],
   "source": [
    "control_soc_g1_std = control_soc_g1.std()"
   ]
  },
  {
   "cell_type": "code",
   "execution_count": 283,
   "metadata": {},
   "outputs": [
    {
     "data": {
      "text/plain": [
       "0.1667098745270291"
      ]
     },
     "execution_count": 283,
     "metadata": {},
     "output_type": "execute_result"
    }
   ],
   "source": [
    "control_soc_g1_std"
   ]
  },
  {
   "cell_type": "code",
   "execution_count": 284,
   "metadata": {},
   "outputs": [],
   "source": [
    "control_soc_g2_mean = control_soc_g2.mean()"
   ]
  },
  {
   "cell_type": "code",
   "execution_count": 285,
   "metadata": {},
   "outputs": [
    {
     "data": {
      "text/plain": [
       "0.44883710753916783"
      ]
     },
     "execution_count": 285,
     "metadata": {},
     "output_type": "execute_result"
    }
   ],
   "source": [
    "control_soc_g2_mean"
   ]
  },
  {
   "cell_type": "code",
   "execution_count": 286,
   "metadata": {},
   "outputs": [],
   "source": [
    "control_soc_g2_std = control_soc_g2.std()"
   ]
  },
  {
   "cell_type": "code",
   "execution_count": 287,
   "metadata": {},
   "outputs": [
    {
     "data": {
      "text/plain": [
       "0.16694407713730425"
      ]
     },
     "execution_count": 287,
     "metadata": {},
     "output_type": "execute_result"
    }
   ],
   "source": [
    "control_soc_g2_std"
   ]
  },
  {
   "cell_type": "code",
   "execution_count": 288,
   "metadata": {},
   "outputs": [],
   "source": [
    "control_soc_p = sp.stats.ttest_rel(control_soc_g1,control_soc_g2)"
   ]
  },
  {
   "cell_type": "code",
   "execution_count": 289,
   "metadata": {},
   "outputs": [
    {
     "data": {
      "text/plain": [
       "Ttest_relResult(statistic=-1.5195897980883175, pvalue=0.14116123248639798)"
      ]
     },
     "execution_count": 289,
     "metadata": {},
     "output_type": "execute_result"
    }
   ],
   "source": [
    "control_soc_p"
   ]
  },
  {
   "cell_type": "code",
   "execution_count": null,
   "metadata": {},
   "outputs": [],
   "source": []
  },
  {
   "cell_type": "code",
   "execution_count": 290,
   "metadata": {},
   "outputs": [],
   "source": [
    "#control_scores_p = sp.stats.ttest_rel(control_scores['Game 1'],control_scores['Game 2'])"
   ]
  },
  {
   "cell_type": "code",
   "execution_count": 291,
   "metadata": {},
   "outputs": [],
   "source": [
    "#control_scores_p"
   ]
  },
  {
   "cell_type": "code",
   "execution_count": null,
   "metadata": {},
   "outputs": [],
   "source": []
  },
  {
   "cell_type": "code",
   "execution_count": 292,
   "metadata": {},
   "outputs": [],
   "source": [
    "import matplotlib.patches as mpatches"
   ]
  },
  {
   "cell_type": "code",
   "execution_count": 293,
   "metadata": {},
   "outputs": [],
   "source": [
    "#,'orange','green','blue','pink','purple','peru','cyan','red','lightcoral','orange','darkorange','green','palegreen','blue', 'peru','cyan', 'red','lightcoral', 'orange','darkorange','green','palegreen','blue','palegreen','blue']"
   ]
  },
  {
   "cell_type": "code",
   "execution_count": 294,
   "metadata": {},
   "outputs": [
    {
     "data": {
      "text/plain": [
       "['red',\n",
       " 'blue',\n",
       " 'red',\n",
       " 'red',\n",
       " 'blue',\n",
       " 'red',\n",
       " 'blue',\n",
       " 'red',\n",
       " 'blue',\n",
       " 'red',\n",
       " 'blue',\n",
       " 'red',\n",
       " 'blue',\n",
       " 'red',\n",
       " 'blue',\n",
       " 'red',\n",
       " 'blue',\n",
       " 'red',\n",
       " 'red',\n",
       " 'blue',\n",
       " 'red',\n",
       " 'blue',\n",
       " 'red',\n",
       " 'blue']"
      ]
     },
     "execution_count": 294,
     "metadata": {},
     "output_type": "execute_result"
    }
   ],
   "source": [
    "#Here I think I tried to create colors for each subject in each condition for use in graphs. I DON'T think this is \n",
    "#a good way to do this.'''\n",
    "#colors_jsd_j = ['red','lightcoral','red','darkred','green','red',\n",
    "             # 'blue','darkblue','hotblue','blue','purple','plum','peru','saddlebrown','gray','lightgray']\n",
    "colors_jsd_control_g1_ego = ['red','red','red','blue','red','blue','red','red','red','blue',\n",
    "                         'red','blue','blue','red',\n",
    "              'red', 'blue','red', 'red','red', 'blue','red','red','red','red','red','blue']\n",
    "\n",
    "\n",
    "colors_jsd_control_g2_ego = ['red','red','blue','blue','red','blue','red','red','blue','blue',\n",
    "                         'red','red','blue','red',\n",
    "              'blue', 'blue','red', 'red','red', 'blue','red','red','red','red','blue','blue']\n",
    "\n",
    "\n",
    "colors_jsd_control_g1_joint = ['green','green','green','green','green','green','green','green'\n",
    "                              ,'green','green', 'green','green','green','green',\n",
    "              'green','green','green','green','green','green','green','green','green'\n",
    "                              ,'green','green','green']\n",
    "\n",
    "colors_jsd_control_g2_joint = ['green','green','green','green','green','green','green','green'\n",
    "                              ,'green','green', 'green','green','green','green',\n",
    "              'green','green','green','green','green','green','green','green','green'\n",
    "                              ,'green','green','green']\n",
    "\n",
    "#markers_jsd = ['o','v','o','v','o','v','o','v','o','v','o','v','o','v','o','v','o','v','o','v','o','v','o','v'\n",
    "       #   'o','v','o','v','o','v','o','v']\n",
    "colors"
   ]
  },
  {
   "cell_type": "markdown",
   "metadata": {},
   "source": [
    "# Graphs"
   ]
  },
  {
   "cell_type": "code",
   "execution_count": 295,
   "metadata": {},
   "outputs": [],
   "source": [
    "#Here I try to plot the JSD Values. Continued below under 'JSD with gender."
   ]
  },
  {
   "cell_type": "code",
   "execution_count": 296,
   "metadata": {
    "scrolled": false
   },
   "outputs": [
    {
     "name": "stderr",
     "output_type": "stream",
     "text": [
      "/Users/simonefroley/opt/anaconda3/lib/python3.7/site-packages/pandas/plotting/_matplotlib/core.py:203: UserWarning: 'colors' is being deprecated. Please use 'color'instead of 'colors'\n",
      "  \"'colors' is being deprecated. Please use 'color'\"\n"
     ]
    },
    {
     "data": {
      "image/png": "[encoded data removed]",
      "text/plain": [
       "<Figure size 432x288 with 1 Axes>"
      ]
     },
     "metadata": {
      "needs_background": "light"
     },
     "output_type": "display_data"
    }
   ],
   "source": [
    "#under line = matching (closer to 0)\n",
    "#plots of actual jsd values\n",
    "\n",
    "control_jsd_g1_plot = control_jsd_g1.plot.scatter(x='max',y='match',s=50,colors=colors_jsd_control_g1_ego,title='Control Player JSD Values Game 1')\n",
    "plt.xticks(np.arange(0, 1, step=0.1))\n",
    "plt.yticks(np.arange(0, 1, step=0.1))\n",
    "#line1 = mlines.Line2D([0.2148, 0.2148],[-0.03, 0.5], color='red')\n",
    "#line2 = mlines.Line2D([0,0.8],[0.2148,0.2148])\n",
    "\n",
    "#plt.xlabel('Match')\n",
    "#plt.ylabel('Maximize')\n",
    "\n",
    "plt.ylim(-.1, .5)\n",
    "plt.xlim(-.1, .5)\n",
    "\n",
    "plt.gca().set_aspect('equal', adjustable='box')\n",
    "plt.draw()\n",
    "\n",
    "#add legend (NEEDS TO BE FIXED)\n",
    "from numpy.random import randn\n",
    "\n",
    "z = randn(100)\n",
    "\n",
    "#blue_dot, = plt.plot(z, \"bo\", markersize=10)\n",
    "#red_dot, = plt.plot(z, \"ro\", markersize=10)\n",
    "\n",
    "#plt.legend([blue_dot, red_dot], [\"Maximize\", \"Match\"])\n",
    "\n",
    "line1 = mlines.Line2D([-1, .5],[-1, .5], color='black')\n",
    "control_jsd_g1_plot.add_line(line1)\n",
    "\n",
    "#s_jsd_g2_plot.add_line(line2)\n",
    "plt.savefig('control_jsd_1.eps',format='eps',dpi=1000)\n",
    "plt.show()\n",
    "\n",
    "# save as jpeg\n",
    "control_jsd_g1_plot.figure.savefig(plot_file_name,\n",
    "                    format='jpeg',\n",
    "                    dpi=100)\n",
    "\n",
    "\n"
   ]
  },
  {
   "cell_type": "code",
   "execution_count": 297,
   "metadata": {},
   "outputs": [
    {
     "data": {
      "image/png": "[encoded data removed]",
      "text/plain": [
       "<Figure size 432x288 with 1 Axes>"
      ]
     },
     "metadata": {
      "needs_background": "light"
     },
     "output_type": "display_data"
    }
   ],
   "source": [
    "#under line = matching (closer to 0)\n",
    "#plots of atual jsd values\n",
    "control_joint_jsd_g1_plot = control_jsd_g1.plot.scatter(x='rand',y='soc',s=50,colors=colors_jsd_control_g1_joint,title='Multiplayer control Strategies Game 1')\n",
    "plt.xticks(np.arange(0, 0.5, step=0.1))\n",
    "plt.yticks(np.arange(0, 0.5, step=0.1))\n",
    "#line1 = mlines.Line2D([0.2148, 0.2148],[-0.03, 0.5], color='red')\n",
    "#line2 = mlines.Line2D([0,0.8],[0.2148,0.2148])\n",
    "\n",
    "plt.ylim(-.1, .5)\n",
    "plt.xlim(-.1, .5)\n",
    "\n",
    "#make axes equal length\n",
    "plt.gca().set_aspect('equal', adjustable='box')\n",
    "plt.draw()\n",
    "\n",
    "\n",
    "#add legend FIX\n",
    "#from numpy.random import randn\n",
    "#z = randn(100)\n",
    "#blue_dot, = plt.plot(z, \"bo\", markersize=10)\n",
    "#red_dot, = plt.plot(z, \"ro\", markersize=10)\n",
    "#plt.legend([blue_dot, red_dot], [\"Maximize\", \"Match\"])\n",
    "\n",
    "\n",
    "\n",
    "#add line\n",
    "line1 = mlines.Line2D([-1, .5],[-1, .5], color='black')\n",
    "control_joint_jsd_g1_plot.add_line(line1)\n",
    "\n",
    "\n",
    "\n",
    "plt.savefig('control_joint_jsd_1.eps',format='eps',dpi=1000)\n",
    "plt.show()\n",
    "\n",
    "# save as jpeg\n",
    "control_joint_jsd_g1_plot.figure.savefig(plot_file_name,\n",
    "                    format='jpeg',\n",
    "                    dpi=100)"
   ]
  },
  {
   "cell_type": "code",
   "execution_count": 298,
   "metadata": {
    "scrolled": true
   },
   "outputs": [
    {
     "data": {
      "image/png": "[encoded data removed]",
      "text/plain": [
       "<Figure size 432x288 with 1 Axes>"
      ]
     },
     "metadata": {
      "needs_background": "light"
     },
     "output_type": "display_data"
    }
   ],
   "source": [
    "#under line = matching (closer to 0)\n",
    "#plots of actual jsd values\n",
    "control_jsd_g2_plot = control_jsd_g2.plot.scatter(x='max',y='match',s=50,colors=colors_jsd_control_g2_ego,title='Control Player JSD Values Game 2')\n",
    "plt.xticks(np.arange(0, 1, step=0.1))\n",
    "plt.yticks(np.arange(0, 1, step=0.1))\n",
    "#line1 = mlines.Line2D([0.2148, 0.2148],[-0.03, 0.5], color='red')\n",
    "#line2 = mlines.Line2D([0,0.8],[0.2148,0.2148])\n",
    "\n",
    "plt.ylim(-.1, .5)\n",
    "plt.xlim(-.1, .5)\n",
    "\n",
    "plt.gca().set_aspect('equal', adjustable='box')\n",
    "plt.draw()\n",
    "\n",
    "#add legend (NEEDS TO BE FIXED)\n",
    "#from numpy.random import randn\n",
    "\n",
    "#blue_dot, = plt.plot(z, \"bo\", markersize=10)\n",
    "#red_dot, = plt.plot(z, \"ro\", markersize=10)\n",
    "\n",
    "#plt.legend([blue_dot, red_dot], [\"Maximize\", \"Match\"])\n",
    "\n",
    " \n",
    "\n",
    "line1 = mlines.Line2D([-1, .5],[-1, .5], color='black')\n",
    "\n",
    "control_jsd_g2_plot.add_line(line1)\n",
    "#control_jsd_g2_plot.add_line(line2)\n",
    "plt.savefig('control_jsd_2.eps',format='eps',dpi=1000)\n",
    "plt.show()\n",
    "\n",
    "# save as jpeg\n",
    "control_jsd_g2_plot.figure.savefig(plot_file_name,\n",
    "                    format='jpeg',\n",
    "                    dpi=100)\n"
   ]
  },
  {
   "cell_type": "code",
   "execution_count": 299,
   "metadata": {},
   "outputs": [
    {
     "data": {
      "image/png": "[encoded data removed]",
      "text/plain": [
       "<Figure size 432x288 with 1 Axes>"
      ]
     },
     "metadata": {
      "needs_background": "light"
     },
     "output_type": "display_data"
    }
   ],
   "source": [
    "#under line = matching (closer to 0)\n",
    "#plots of atual jsd values\n",
    "control_joint_jsd_g2_plot = control_jsd_g2.plot.scatter(x='rand',y='soc',s=50,colors=colors_jsd_control_g2_joint,title='Multiplayer control Strategies Game 2')\n",
    "plt.xticks(np.arange(0, 0.5, step=0.1))\n",
    "plt.yticks(np.arange(0, 0.5, step=0.1))\n",
    "#line1 = mlines.Line2D([0.2148, 0.2148],[-0.03, 0.5], color='red')\n",
    "#line2 = mlines.Line2D([0,0.8],[0.2148,0.2148])\n",
    "\n",
    "plt.ylim(-.1, .5)\n",
    "plt.xlim(-.1, .5)\n",
    "\n",
    "#make axes equal length\n",
    "plt.gca().set_aspect('equal', adjustable='box')\n",
    "plt.draw()\n",
    "\n",
    "\n",
    "#add legend FIX\n",
    "#from numpy.random import randn\n",
    "#z = randn(100)\n",
    "#blue_dot, = plt.plot(z, \"bo\", markersize=10)\n",
    "#red_dot, = plt.plot(z, \"ro\", markersize=10)\n",
    "#plt.legend([blue_dot, red_dot], [\"Maximize\", \"Match\"])\n",
    "\n",
    "\n",
    "\n",
    "#add line\n",
    "line1 = mlines.Line2D([-1, .5],[-1, .5], color='black')\n",
    "control_joint_jsd_g2_plot.add_line(line1)\n",
    "\n",
    "\n",
    "\n",
    "plt.savefig('control_joint_jsd_1.eps',format='eps',dpi=1000)\n",
    "plt.show()\n",
    "\n",
    "# save as jpeg\n",
    "control_joint_jsd_g2_plot.figure.savefig(plot_file_name,\n",
    "                    format='jpeg',\n",
    "                    dpi=100)"
   ]
  },
  {
   "cell_type": "code",
   "execution_count": null,
   "metadata": {},
   "outputs": [],
   "source": []
  },
  {
   "cell_type": "markdown",
   "metadata": {},
   "source": [
    "# Joint Analysis"
   ]
  },
  {
   "cell_type": "code",
   "execution_count": 300,
   "metadata": {},
   "outputs": [
    {
     "data": {
      "text/html": [
       "<div>\n",
       "<style scoped>\n",
       "    .dataframe tbody tr th:only-of-type {\n",
       "        vertical-align: middle;\n",
       "    }\n",
       "\n",
       "    .dataframe tbody tr th {\n",
       "        vertical-align: top;\n",
       "    }\n",
       "\n",
       "    .dataframe thead th {\n",
       "        text-align: right;\n",
       "    }\n",
       "</style>\n",
       "<table border=\"1\" class=\"dataframe\">\n",
       "  <thead>\n",
       "    <tr style=\"text-align: right;\">\n",
       "      <th></th>\n",
       "      <th>game number</th>\n",
       "      <th>trial</th>\n",
       "      <th>player</th>\n",
       "      <th>arm</th>\n",
       "      <th>probability</th>\n",
       "      <th>P1 score</th>\n",
       "      <th>P2 score</th>\n",
       "    </tr>\n",
       "  </thead>\n",
       "  <tbody>\n",
       "    <tr>\n",
       "      <td>0</td>\n",
       "      <td>1</td>\n",
       "      <td>1</td>\n",
       "      <td>1</td>\n",
       "      <td>3</td>\n",
       "      <td>60</td>\n",
       "      <td>1</td>\n",
       "      <td>0</td>\n",
       "    </tr>\n",
       "    <tr>\n",
       "      <td>1</td>\n",
       "      <td>1</td>\n",
       "      <td>1</td>\n",
       "      <td>2</td>\n",
       "      <td>3</td>\n",
       "      <td>60</td>\n",
       "      <td>1</td>\n",
       "      <td>1</td>\n",
       "    </tr>\n",
       "    <tr>\n",
       "      <td>2</td>\n",
       "      <td>1</td>\n",
       "      <td>2</td>\n",
       "      <td>1</td>\n",
       "      <td>1</td>\n",
       "      <td>90</td>\n",
       "      <td>2</td>\n",
       "      <td>1</td>\n",
       "    </tr>\n",
       "    <tr>\n",
       "      <td>3</td>\n",
       "      <td>1</td>\n",
       "      <td>2</td>\n",
       "      <td>2</td>\n",
       "      <td>2</td>\n",
       "      <td>90</td>\n",
       "      <td>2</td>\n",
       "      <td>2</td>\n",
       "    </tr>\n",
       "    <tr>\n",
       "      <td>4</td>\n",
       "      <td>1</td>\n",
       "      <td>3</td>\n",
       "      <td>1</td>\n",
       "      <td>2</td>\n",
       "      <td>30</td>\n",
       "      <td>2</td>\n",
       "      <td>2</td>\n",
       "    </tr>\n",
       "  </tbody>\n",
       "</table>\n",
       "</div>"
      ],
      "text/plain": [
       "   game number  trial  player  arm  probability  P1 score  P2 score\n",
       "0            1      1       1    3           60         1         0\n",
       "1            1      1       2    3           60         1         1\n",
       "2            1      2       1    1           90         2         1\n",
       "3            1      2       2    2           90         2         2\n",
       "4            1      3       1    2           30         2         2"
      ]
     },
     "execution_count": 300,
     "metadata": {},
     "output_type": "execute_result"
    }
   ],
   "source": [
    "df = organize_trial_by_trial('data/j01_gamedata.csv')\n",
    "j01 = df\n",
    "j01_p1_g1_score,j01_p1_g2_score,j01_p2_g1_score,j01_p2_g2_score,j01_p1_diff,j01_p2_diff = call_get_score(j01, 'j')\n",
    "j01.head()"
   ]
  },
  {
   "cell_type": "code",
   "execution_count": 301,
   "metadata": {},
   "outputs": [
    {
     "data": {
      "text/html": [
       "<div>\n",
       "<style scoped>\n",
       "    .dataframe tbody tr th:only-of-type {\n",
       "        vertical-align: middle;\n",
       "    }\n",
       "\n",
       "    .dataframe tbody tr th {\n",
       "        vertical-align: top;\n",
       "    }\n",
       "\n",
       "    .dataframe thead th {\n",
       "        text-align: right;\n",
       "    }\n",
       "</style>\n",
       "<table border=\"1\" class=\"dataframe\">\n",
       "  <thead>\n",
       "    <tr style=\"text-align: right;\">\n",
       "      <th></th>\n",
       "      <th>game number</th>\n",
       "      <th>trial</th>\n",
       "      <th>player</th>\n",
       "      <th>arm</th>\n",
       "      <th>probability</th>\n",
       "      <th>P1 score</th>\n",
       "      <th>P2 score</th>\n",
       "    </tr>\n",
       "  </thead>\n",
       "  <tbody>\n",
       "    <tr>\n",
       "      <td>0</td>\n",
       "      <td>1</td>\n",
       "      <td>1</td>\n",
       "      <td>1</td>\n",
       "      <td>3</td>\n",
       "      <td>30</td>\n",
       "      <td>0</td>\n",
       "      <td>0</td>\n",
       "    </tr>\n",
       "    <tr>\n",
       "      <td>1</td>\n",
       "      <td>1</td>\n",
       "      <td>1</td>\n",
       "      <td>2</td>\n",
       "      <td>1</td>\n",
       "      <td>60</td>\n",
       "      <td>0</td>\n",
       "      <td>1</td>\n",
       "    </tr>\n",
       "    <tr>\n",
       "      <td>2</td>\n",
       "      <td>1</td>\n",
       "      <td>2</td>\n",
       "      <td>1</td>\n",
       "      <td>2</td>\n",
       "      <td>90</td>\n",
       "      <td>1</td>\n",
       "      <td>1</td>\n",
       "    </tr>\n",
       "    <tr>\n",
       "      <td>3</td>\n",
       "      <td>1</td>\n",
       "      <td>2</td>\n",
       "      <td>2</td>\n",
       "      <td>3</td>\n",
       "      <td>90</td>\n",
       "      <td>1</td>\n",
       "      <td>2</td>\n",
       "    </tr>\n",
       "    <tr>\n",
       "      <td>4</td>\n",
       "      <td>1</td>\n",
       "      <td>3</td>\n",
       "      <td>1</td>\n",
       "      <td>2</td>\n",
       "      <td>90</td>\n",
       "      <td>2</td>\n",
       "      <td>2</td>\n",
       "    </tr>\n",
       "  </tbody>\n",
       "</table>\n",
       "</div>"
      ],
      "text/plain": [
       "   game number  trial  player  arm  probability  P1 score  P2 score\n",
       "0            1      1       1    3           30         0         0\n",
       "1            1      1       2    1           60         0         1\n",
       "2            1      2       1    2           90         1         1\n",
       "3            1      2       2    3           90         1         2\n",
       "4            1      3       1    2           90         2         2"
      ]
     },
     "execution_count": 301,
     "metadata": {},
     "output_type": "execute_result"
    }
   ],
   "source": [
    "df = organize_trial_by_trial('data/j02_gamedata.csv')\n",
    "j02 = df\n",
    "j02_p1_g1_score,j02_p1_g2_score,j02_p2_g1_score,j02_p2_g2_score,j02_p1_diff,j02_p2_diff = call_get_score(j02, 'j')\n",
    "j02.head()"
   ]
  },
  {
   "cell_type": "code",
   "execution_count": 302,
   "metadata": {},
   "outputs": [
    {
     "data": {
      "text/html": [
       "<div>\n",
       "<style scoped>\n",
       "    .dataframe tbody tr th:only-of-type {\n",
       "        vertical-align: middle;\n",
       "    }\n",
       "\n",
       "    .dataframe tbody tr th {\n",
       "        vertical-align: top;\n",
       "    }\n",
       "\n",
       "    .dataframe thead th {\n",
       "        text-align: right;\n",
       "    }\n",
       "</style>\n",
       "<table border=\"1\" class=\"dataframe\">\n",
       "  <thead>\n",
       "    <tr style=\"text-align: right;\">\n",
       "      <th></th>\n",
       "      <th>game number</th>\n",
       "      <th>trial</th>\n",
       "      <th>player</th>\n",
       "      <th>arm</th>\n",
       "      <th>probability</th>\n",
       "      <th>P1 score</th>\n",
       "      <th>P2 score</th>\n",
       "    </tr>\n",
       "  </thead>\n",
       "  <tbody>\n",
       "    <tr>\n",
       "      <td>0</td>\n",
       "      <td>1</td>\n",
       "      <td>1</td>\n",
       "      <td>1</td>\n",
       "      <td>2</td>\n",
       "      <td>90</td>\n",
       "      <td>1</td>\n",
       "      <td>0</td>\n",
       "    </tr>\n",
       "    <tr>\n",
       "      <td>1</td>\n",
       "      <td>1</td>\n",
       "      <td>1</td>\n",
       "      <td>2</td>\n",
       "      <td>2</td>\n",
       "      <td>30</td>\n",
       "      <td>1</td>\n",
       "      <td>0</td>\n",
       "    </tr>\n",
       "    <tr>\n",
       "      <td>2</td>\n",
       "      <td>1</td>\n",
       "      <td>2</td>\n",
       "      <td>1</td>\n",
       "      <td>3</td>\n",
       "      <td>30</td>\n",
       "      <td>2</td>\n",
       "      <td>0</td>\n",
       "    </tr>\n",
       "    <tr>\n",
       "      <td>3</td>\n",
       "      <td>1</td>\n",
       "      <td>2</td>\n",
       "      <td>2</td>\n",
       "      <td>1</td>\n",
       "      <td>60</td>\n",
       "      <td>2</td>\n",
       "      <td>1</td>\n",
       "    </tr>\n",
       "    <tr>\n",
       "      <td>4</td>\n",
       "      <td>1</td>\n",
       "      <td>3</td>\n",
       "      <td>1</td>\n",
       "      <td>2</td>\n",
       "      <td>90</td>\n",
       "      <td>3</td>\n",
       "      <td>1</td>\n",
       "    </tr>\n",
       "  </tbody>\n",
       "</table>\n",
       "</div>"
      ],
      "text/plain": [
       "   game number  trial  player  arm  probability  P1 score  P2 score\n",
       "0            1      1       1    2           90         1         0\n",
       "1            1      1       2    2           30         1         0\n",
       "2            1      2       1    3           30         2         0\n",
       "3            1      2       2    1           60         2         1\n",
       "4            1      3       1    2           90         3         1"
      ]
     },
     "execution_count": 302,
     "metadata": {},
     "output_type": "execute_result"
    }
   ],
   "source": [
    "df = organize_trial_by_trial('data/j03_gamedata.csv')\n",
    "j03 = df\n",
    "j03_p1_g1_score,j03_p1_g2_score,j03_p2_g1_score,j03_p2_g2_score,j03_p1_diff,j03_p2_diff = call_get_score(j03, 'j')\n",
    "j03.head()"
   ]
  },
  {
   "cell_type": "code",
   "execution_count": 303,
   "metadata": {},
   "outputs": [
    {
     "data": {
      "text/html": [
       "<div>\n",
       "<style scoped>\n",
       "    .dataframe tbody tr th:only-of-type {\n",
       "        vertical-align: middle;\n",
       "    }\n",
       "\n",
       "    .dataframe tbody tr th {\n",
       "        vertical-align: top;\n",
       "    }\n",
       "\n",
       "    .dataframe thead th {\n",
       "        text-align: right;\n",
       "    }\n",
       "</style>\n",
       "<table border=\"1\" class=\"dataframe\">\n",
       "  <thead>\n",
       "    <tr style=\"text-align: right;\">\n",
       "      <th></th>\n",
       "      <th>game number</th>\n",
       "      <th>trial</th>\n",
       "      <th>player</th>\n",
       "      <th>arm</th>\n",
       "      <th>probability</th>\n",
       "      <th>P1 score</th>\n",
       "      <th>P2 score</th>\n",
       "    </tr>\n",
       "  </thead>\n",
       "  <tbody>\n",
       "    <tr>\n",
       "      <td>0</td>\n",
       "      <td>1</td>\n",
       "      <td>1</td>\n",
       "      <td>1</td>\n",
       "      <td>2</td>\n",
       "      <td>30</td>\n",
       "      <td>0</td>\n",
       "      <td>0</td>\n",
       "    </tr>\n",
       "    <tr>\n",
       "      <td>1</td>\n",
       "      <td>1</td>\n",
       "      <td>1</td>\n",
       "      <td>2</td>\n",
       "      <td>2</td>\n",
       "      <td>90</td>\n",
       "      <td>0</td>\n",
       "      <td>0</td>\n",
       "    </tr>\n",
       "    <tr>\n",
       "      <td>2</td>\n",
       "      <td>1</td>\n",
       "      <td>2</td>\n",
       "      <td>1</td>\n",
       "      <td>3</td>\n",
       "      <td>60</td>\n",
       "      <td>1</td>\n",
       "      <td>0</td>\n",
       "    </tr>\n",
       "    <tr>\n",
       "      <td>3</td>\n",
       "      <td>1</td>\n",
       "      <td>2</td>\n",
       "      <td>2</td>\n",
       "      <td>2</td>\n",
       "      <td>90</td>\n",
       "      <td>1</td>\n",
       "      <td>1</td>\n",
       "    </tr>\n",
       "    <tr>\n",
       "      <td>4</td>\n",
       "      <td>1</td>\n",
       "      <td>3</td>\n",
       "      <td>1</td>\n",
       "      <td>2</td>\n",
       "      <td>30</td>\n",
       "      <td>1</td>\n",
       "      <td>1</td>\n",
       "    </tr>\n",
       "  </tbody>\n",
       "</table>\n",
       "</div>"
      ],
      "text/plain": [
       "   game number  trial  player  arm  probability  P1 score  P2 score\n",
       "0            1      1       1    2           30         0         0\n",
       "1            1      1       2    2           90         0         0\n",
       "2            1      2       1    3           60         1         0\n",
       "3            1      2       2    2           90         1         1\n",
       "4            1      3       1    2           30         1         1"
      ]
     },
     "execution_count": 303,
     "metadata": {},
     "output_type": "execute_result"
    }
   ],
   "source": [
    "df = organize_trial_by_trial('data/j04_gamedata.csv')\n",
    "j04 = df\n",
    "j04_p1_g1_score,j04_p1_g2_score,j04_p2_g1_score,j04_p2_g2_score,j04_p1_diff,j04_p2_diff = call_get_score(j04, 'j')\n",
    "j04.head()"
   ]
  },
  {
   "cell_type": "code",
   "execution_count": 304,
   "metadata": {},
   "outputs": [
    {
     "data": {
      "text/html": [
       "<div>\n",
       "<style scoped>\n",
       "    .dataframe tbody tr th:only-of-type {\n",
       "        vertical-align: middle;\n",
       "    }\n",
       "\n",
       "    .dataframe tbody tr th {\n",
       "        vertical-align: top;\n",
       "    }\n",
       "\n",
       "    .dataframe thead th {\n",
       "        text-align: right;\n",
       "    }\n",
       "</style>\n",
       "<table border=\"1\" class=\"dataframe\">\n",
       "  <thead>\n",
       "    <tr style=\"text-align: right;\">\n",
       "      <th></th>\n",
       "      <th>game number</th>\n",
       "      <th>trial</th>\n",
       "      <th>player</th>\n",
       "      <th>arm</th>\n",
       "      <th>probability</th>\n",
       "      <th>P1 score</th>\n",
       "      <th>P2 score</th>\n",
       "    </tr>\n",
       "  </thead>\n",
       "  <tbody>\n",
       "    <tr>\n",
       "      <td>0</td>\n",
       "      <td>1</td>\n",
       "      <td>1</td>\n",
       "      <td>1</td>\n",
       "      <td>2</td>\n",
       "      <td>90</td>\n",
       "      <td>1</td>\n",
       "      <td>0</td>\n",
       "    </tr>\n",
       "    <tr>\n",
       "      <td>1</td>\n",
       "      <td>1</td>\n",
       "      <td>1</td>\n",
       "      <td>2</td>\n",
       "      <td>1</td>\n",
       "      <td>90</td>\n",
       "      <td>1</td>\n",
       "      <td>1</td>\n",
       "    </tr>\n",
       "    <tr>\n",
       "      <td>2</td>\n",
       "      <td>1</td>\n",
       "      <td>2</td>\n",
       "      <td>1</td>\n",
       "      <td>3</td>\n",
       "      <td>60</td>\n",
       "      <td>2</td>\n",
       "      <td>1</td>\n",
       "    </tr>\n",
       "    <tr>\n",
       "      <td>3</td>\n",
       "      <td>1</td>\n",
       "      <td>2</td>\n",
       "      <td>2</td>\n",
       "      <td>2</td>\n",
       "      <td>30</td>\n",
       "      <td>2</td>\n",
       "      <td>1</td>\n",
       "    </tr>\n",
       "    <tr>\n",
       "      <td>4</td>\n",
       "      <td>1</td>\n",
       "      <td>3</td>\n",
       "      <td>1</td>\n",
       "      <td>1</td>\n",
       "      <td>30</td>\n",
       "      <td>2</td>\n",
       "      <td>1</td>\n",
       "    </tr>\n",
       "  </tbody>\n",
       "</table>\n",
       "</div>"
      ],
      "text/plain": [
       "   game number  trial  player  arm  probability  P1 score  P2 score\n",
       "0            1      1       1    2           90         1         0\n",
       "1            1      1       2    1           90         1         1\n",
       "2            1      2       1    3           60         2         1\n",
       "3            1      2       2    2           30         2         1\n",
       "4            1      3       1    1           30         2         1"
      ]
     },
     "execution_count": 304,
     "metadata": {},
     "output_type": "execute_result"
    }
   ],
   "source": [
    "df = organize_trial_by_trial('data/j05_gamedata.csv')\n",
    "j05 = df\n",
    "j05_p1_g1_score,j05_p1_g2_score,j05_p2_g1_score,j05_p2_g2_score,j05_p1_diff,j05_p2_diff = call_get_score(j05, 'j')\n",
    "j05.head()"
   ]
  },
  {
   "cell_type": "code",
   "execution_count": 305,
   "metadata": {},
   "outputs": [
    {
     "data": {
      "text/html": [
       "<div>\n",
       "<style scoped>\n",
       "    .dataframe tbody tr th:only-of-type {\n",
       "        vertical-align: middle;\n",
       "    }\n",
       "\n",
       "    .dataframe tbody tr th {\n",
       "        vertical-align: top;\n",
       "    }\n",
       "\n",
       "    .dataframe thead th {\n",
       "        text-align: right;\n",
       "    }\n",
       "</style>\n",
       "<table border=\"1\" class=\"dataframe\">\n",
       "  <thead>\n",
       "    <tr style=\"text-align: right;\">\n",
       "      <th></th>\n",
       "      <th>game number</th>\n",
       "      <th>trial</th>\n",
       "      <th>player</th>\n",
       "      <th>arm</th>\n",
       "      <th>probability</th>\n",
       "      <th>P1 score</th>\n",
       "      <th>P2 score</th>\n",
       "    </tr>\n",
       "  </thead>\n",
       "  <tbody>\n",
       "    <tr>\n",
       "      <td>0</td>\n",
       "      <td>1</td>\n",
       "      <td>1</td>\n",
       "      <td>1</td>\n",
       "      <td>3</td>\n",
       "      <td>30</td>\n",
       "      <td>0</td>\n",
       "      <td>0</td>\n",
       "    </tr>\n",
       "    <tr>\n",
       "      <td>1</td>\n",
       "      <td>1</td>\n",
       "      <td>1</td>\n",
       "      <td>2</td>\n",
       "      <td>2</td>\n",
       "      <td>60</td>\n",
       "      <td>0</td>\n",
       "      <td>1</td>\n",
       "    </tr>\n",
       "    <tr>\n",
       "      <td>2</td>\n",
       "      <td>1</td>\n",
       "      <td>2</td>\n",
       "      <td>1</td>\n",
       "      <td>1</td>\n",
       "      <td>90</td>\n",
       "      <td>1</td>\n",
       "      <td>1</td>\n",
       "    </tr>\n",
       "    <tr>\n",
       "      <td>3</td>\n",
       "      <td>1</td>\n",
       "      <td>2</td>\n",
       "      <td>2</td>\n",
       "      <td>3</td>\n",
       "      <td>90</td>\n",
       "      <td>1</td>\n",
       "      <td>2</td>\n",
       "    </tr>\n",
       "    <tr>\n",
       "      <td>4</td>\n",
       "      <td>1</td>\n",
       "      <td>3</td>\n",
       "      <td>1</td>\n",
       "      <td>2</td>\n",
       "      <td>60</td>\n",
       "      <td>2</td>\n",
       "      <td>2</td>\n",
       "    </tr>\n",
       "  </tbody>\n",
       "</table>\n",
       "</div>"
      ],
      "text/plain": [
       "   game number  trial  player  arm  probability  P1 score  P2 score\n",
       "0            1      1       1    3           30         0         0\n",
       "1            1      1       2    2           60         0         1\n",
       "2            1      2       1    1           90         1         1\n",
       "3            1      2       2    3           90         1         2\n",
       "4            1      3       1    2           60         2         2"
      ]
     },
     "execution_count": 305,
     "metadata": {},
     "output_type": "execute_result"
    }
   ],
   "source": [
    "df = organize_trial_by_trial('data/j06_gamedata.csv')\n",
    "j06 = df\n",
    "j06_p1_g1_score,j06_p1_g2_score,j06_p2_g1_score,j06_p2_g2_score,j06_p1_diff,j06_p2_diff = call_get_score(j06, 'j')\n",
    "j06.head()"
   ]
  },
  {
   "cell_type": "code",
   "execution_count": 306,
   "metadata": {},
   "outputs": [
    {
     "data": {
      "text/html": [
       "<div>\n",
       "<style scoped>\n",
       "    .dataframe tbody tr th:only-of-type {\n",
       "        vertical-align: middle;\n",
       "    }\n",
       "\n",
       "    .dataframe tbody tr th {\n",
       "        vertical-align: top;\n",
       "    }\n",
       "\n",
       "    .dataframe thead th {\n",
       "        text-align: right;\n",
       "    }\n",
       "</style>\n",
       "<table border=\"1\" class=\"dataframe\">\n",
       "  <thead>\n",
       "    <tr style=\"text-align: right;\">\n",
       "      <th></th>\n",
       "      <th>game number</th>\n",
       "      <th>trial</th>\n",
       "      <th>player</th>\n",
       "      <th>arm</th>\n",
       "      <th>probability</th>\n",
       "      <th>P1 score</th>\n",
       "      <th>P2 score</th>\n",
       "    </tr>\n",
       "  </thead>\n",
       "  <tbody>\n",
       "    <tr>\n",
       "      <td>0</td>\n",
       "      <td>1</td>\n",
       "      <td>1</td>\n",
       "      <td>1</td>\n",
       "      <td>2</td>\n",
       "      <td>60</td>\n",
       "      <td>1</td>\n",
       "      <td>0</td>\n",
       "    </tr>\n",
       "    <tr>\n",
       "      <td>1</td>\n",
       "      <td>1</td>\n",
       "      <td>1</td>\n",
       "      <td>2</td>\n",
       "      <td>3</td>\n",
       "      <td>30</td>\n",
       "      <td>1</td>\n",
       "      <td>0</td>\n",
       "    </tr>\n",
       "    <tr>\n",
       "      <td>2</td>\n",
       "      <td>1</td>\n",
       "      <td>2</td>\n",
       "      <td>1</td>\n",
       "      <td>1</td>\n",
       "      <td>30</td>\n",
       "      <td>1</td>\n",
       "      <td>0</td>\n",
       "    </tr>\n",
       "    <tr>\n",
       "      <td>3</td>\n",
       "      <td>1</td>\n",
       "      <td>2</td>\n",
       "      <td>2</td>\n",
       "      <td>2</td>\n",
       "      <td>60</td>\n",
       "      <td>1</td>\n",
       "      <td>1</td>\n",
       "    </tr>\n",
       "    <tr>\n",
       "      <td>4</td>\n",
       "      <td>1</td>\n",
       "      <td>3</td>\n",
       "      <td>1</td>\n",
       "      <td>3</td>\n",
       "      <td>90</td>\n",
       "      <td>2</td>\n",
       "      <td>1</td>\n",
       "    </tr>\n",
       "  </tbody>\n",
       "</table>\n",
       "</div>"
      ],
      "text/plain": [
       "   game number  trial  player  arm  probability  P1 score  P2 score\n",
       "0            1      1       1    2           60         1         0\n",
       "1            1      1       2    3           30         1         0\n",
       "2            1      2       1    1           30         1         0\n",
       "3            1      2       2    2           60         1         1\n",
       "4            1      3       1    3           90         2         1"
      ]
     },
     "execution_count": 306,
     "metadata": {},
     "output_type": "execute_result"
    }
   ],
   "source": [
    "df = organize_trial_by_trial('data/j07_gamedata.csv')\n",
    "j07 = df\n",
    "j07_p1_g1_score,j07_p1_g2_score,j07_p2_g1_score,j07_p2_g2_score,j07_p1_diff,j07_p2_diff = call_get_score(j07, 'j')\n",
    "j07.head()"
   ]
  },
  {
   "cell_type": "code",
   "execution_count": 307,
   "metadata": {},
   "outputs": [
    {
     "data": {
      "text/html": [
       "<div>\n",
       "<style scoped>\n",
       "    .dataframe tbody tr th:only-of-type {\n",
       "        vertical-align: middle;\n",
       "    }\n",
       "\n",
       "    .dataframe tbody tr th {\n",
       "        vertical-align: top;\n",
       "    }\n",
       "\n",
       "    .dataframe thead th {\n",
       "        text-align: right;\n",
       "    }\n",
       "</style>\n",
       "<table border=\"1\" class=\"dataframe\">\n",
       "  <thead>\n",
       "    <tr style=\"text-align: right;\">\n",
       "      <th></th>\n",
       "      <th>game number</th>\n",
       "      <th>trial</th>\n",
       "      <th>player</th>\n",
       "      <th>arm</th>\n",
       "      <th>probability</th>\n",
       "      <th>P1 score</th>\n",
       "      <th>P2 score</th>\n",
       "    </tr>\n",
       "  </thead>\n",
       "  <tbody>\n",
       "    <tr>\n",
       "      <td>0</td>\n",
       "      <td>1</td>\n",
       "      <td>1</td>\n",
       "      <td>1</td>\n",
       "      <td>3</td>\n",
       "      <td>60</td>\n",
       "      <td>1</td>\n",
       "      <td>0</td>\n",
       "    </tr>\n",
       "    <tr>\n",
       "      <td>1</td>\n",
       "      <td>1</td>\n",
       "      <td>1</td>\n",
       "      <td>2</td>\n",
       "      <td>2</td>\n",
       "      <td>30</td>\n",
       "      <td>1</td>\n",
       "      <td>0</td>\n",
       "    </tr>\n",
       "    <tr>\n",
       "      <td>2</td>\n",
       "      <td>1</td>\n",
       "      <td>2</td>\n",
       "      <td>1</td>\n",
       "      <td>3</td>\n",
       "      <td>60</td>\n",
       "      <td>2</td>\n",
       "      <td>0</td>\n",
       "    </tr>\n",
       "    <tr>\n",
       "      <td>3</td>\n",
       "      <td>1</td>\n",
       "      <td>2</td>\n",
       "      <td>2</td>\n",
       "      <td>1</td>\n",
       "      <td>90</td>\n",
       "      <td>2</td>\n",
       "      <td>1</td>\n",
       "    </tr>\n",
       "    <tr>\n",
       "      <td>4</td>\n",
       "      <td>1</td>\n",
       "      <td>3</td>\n",
       "      <td>1</td>\n",
       "      <td>3</td>\n",
       "      <td>60</td>\n",
       "      <td>3</td>\n",
       "      <td>1</td>\n",
       "    </tr>\n",
       "  </tbody>\n",
       "</table>\n",
       "</div>"
      ],
      "text/plain": [
       "   game number  trial  player  arm  probability  P1 score  P2 score\n",
       "0            1      1       1    3           60         1         0\n",
       "1            1      1       2    2           30         1         0\n",
       "2            1      2       1    3           60         2         0\n",
       "3            1      2       2    1           90         2         1\n",
       "4            1      3       1    3           60         3         1"
      ]
     },
     "execution_count": 307,
     "metadata": {},
     "output_type": "execute_result"
    }
   ],
   "source": [
    "df = organize_trial_by_trial('data/j08_gamedata.csv')\n",
    "j08 = df\n",
    "j08_p1_g1_score,j08_p1_g2_score,j08_p2_g1_score,j08_p2_g2_score,j08_p1_diff,j08_p2_diff = call_get_score(j08, 'j')\n",
    "j08.head()"
   ]
  },
  {
   "cell_type": "code",
   "execution_count": 308,
   "metadata": {},
   "outputs": [
    {
     "data": {
      "text/html": [
       "<div>\n",
       "<style scoped>\n",
       "    .dataframe tbody tr th:only-of-type {\n",
       "        vertical-align: middle;\n",
       "    }\n",
       "\n",
       "    .dataframe tbody tr th {\n",
       "        vertical-align: top;\n",
       "    }\n",
       "\n",
       "    .dataframe thead th {\n",
       "        text-align: right;\n",
       "    }\n",
       "</style>\n",
       "<table border=\"1\" class=\"dataframe\">\n",
       "  <thead>\n",
       "    <tr style=\"text-align: right;\">\n",
       "      <th></th>\n",
       "      <th>game number</th>\n",
       "      <th>trial</th>\n",
       "      <th>player</th>\n",
       "      <th>arm</th>\n",
       "      <th>probability</th>\n",
       "      <th>P1 score</th>\n",
       "      <th>P2 score</th>\n",
       "    </tr>\n",
       "  </thead>\n",
       "  <tbody>\n",
       "    <tr>\n",
       "      <td>1</td>\n",
       "      <td>1</td>\n",
       "      <td>1</td>\n",
       "      <td>2</td>\n",
       "      <td>1</td>\n",
       "      <td>60</td>\n",
       "      <td>1</td>\n",
       "      <td>0</td>\n",
       "    </tr>\n",
       "    <tr>\n",
       "      <td>2</td>\n",
       "      <td>1</td>\n",
       "      <td>2</td>\n",
       "      <td>1</td>\n",
       "      <td>2</td>\n",
       "      <td>30</td>\n",
       "      <td>1</td>\n",
       "      <td>1</td>\n",
       "    </tr>\n",
       "    <tr>\n",
       "      <td>3</td>\n",
       "      <td>1</td>\n",
       "      <td>2</td>\n",
       "      <td>2</td>\n",
       "      <td>1</td>\n",
       "      <td>60</td>\n",
       "      <td>1</td>\n",
       "      <td>1</td>\n",
       "    </tr>\n",
       "    <tr>\n",
       "      <td>4</td>\n",
       "      <td>1</td>\n",
       "      <td>3</td>\n",
       "      <td>1</td>\n",
       "      <td>3</td>\n",
       "      <td>90</td>\n",
       "      <td>1</td>\n",
       "      <td>2</td>\n",
       "    </tr>\n",
       "    <tr>\n",
       "      <td>5</td>\n",
       "      <td>1</td>\n",
       "      <td>3</td>\n",
       "      <td>2</td>\n",
       "      <td>1</td>\n",
       "      <td>60</td>\n",
       "      <td>2</td>\n",
       "      <td>2</td>\n",
       "    </tr>\n",
       "  </tbody>\n",
       "</table>\n",
       "</div>"
      ],
      "text/plain": [
       "   game number  trial  player  arm  probability  P1 score  P2 score\n",
       "1            1      1       2    1           60         1         0\n",
       "2            1      2       1    2           30         1         1\n",
       "3            1      2       2    1           60         1         1\n",
       "4            1      3       1    3           90         1         2\n",
       "5            1      3       2    1           60         2         2"
      ]
     },
     "execution_count": 308,
     "metadata": {},
     "output_type": "execute_result"
    }
   ],
   "source": [
    "df = organize_trial_by_trial_floatclick('data/j10_gamedata.csv')\n",
    "j10 = df\n",
    "j10_p1_g1_score,j10_p1_g2_score,j10_p2_g1_score,j10_p2_g2_score,j10_p1_diff,j10_p2_diff = call_get_score(j10, 'j')\n",
    "j10.head()"
   ]
  },
  {
   "cell_type": "code",
   "execution_count": 309,
   "metadata": {},
   "outputs": [
    {
     "data": {
      "text/html": [
       "<div>\n",
       "<style scoped>\n",
       "    .dataframe tbody tr th:only-of-type {\n",
       "        vertical-align: middle;\n",
       "    }\n",
       "\n",
       "    .dataframe tbody tr th {\n",
       "        vertical-align: top;\n",
       "    }\n",
       "\n",
       "    .dataframe thead th {\n",
       "        text-align: right;\n",
       "    }\n",
       "</style>\n",
       "<table border=\"1\" class=\"dataframe\">\n",
       "  <thead>\n",
       "    <tr style=\"text-align: right;\">\n",
       "      <th></th>\n",
       "      <th>game number</th>\n",
       "      <th>trial</th>\n",
       "      <th>player</th>\n",
       "      <th>arm</th>\n",
       "      <th>probability</th>\n",
       "      <th>P1 score</th>\n",
       "      <th>P2 score</th>\n",
       "    </tr>\n",
       "  </thead>\n",
       "  <tbody>\n",
       "    <tr>\n",
       "      <td>1</td>\n",
       "      <td>1</td>\n",
       "      <td>1</td>\n",
       "      <td>2</td>\n",
       "      <td>1</td>\n",
       "      <td>90</td>\n",
       "      <td>1</td>\n",
       "      <td>0</td>\n",
       "    </tr>\n",
       "    <tr>\n",
       "      <td>2</td>\n",
       "      <td>1</td>\n",
       "      <td>2</td>\n",
       "      <td>1</td>\n",
       "      <td>2</td>\n",
       "      <td>60</td>\n",
       "      <td>1</td>\n",
       "      <td>0</td>\n",
       "    </tr>\n",
       "    <tr>\n",
       "      <td>3</td>\n",
       "      <td>1</td>\n",
       "      <td>2</td>\n",
       "      <td>2</td>\n",
       "      <td>3</td>\n",
       "      <td>30</td>\n",
       "      <td>1</td>\n",
       "      <td>0</td>\n",
       "    </tr>\n",
       "    <tr>\n",
       "      <td>4</td>\n",
       "      <td>1</td>\n",
       "      <td>3</td>\n",
       "      <td>1</td>\n",
       "      <td>3</td>\n",
       "      <td>90</td>\n",
       "      <td>1</td>\n",
       "      <td>0</td>\n",
       "    </tr>\n",
       "    <tr>\n",
       "      <td>5</td>\n",
       "      <td>1</td>\n",
       "      <td>3</td>\n",
       "      <td>2</td>\n",
       "      <td>1</td>\n",
       "      <td>90</td>\n",
       "      <td>2</td>\n",
       "      <td>0</td>\n",
       "    </tr>\n",
       "  </tbody>\n",
       "</table>\n",
       "</div>"
      ],
      "text/plain": [
       "   game number  trial  player  arm  probability  P1 score  P2 score\n",
       "1            1      1       2    1           90         1         0\n",
       "2            1      2       1    2           60         1         0\n",
       "3            1      2       2    3           30         1         0\n",
       "4            1      3       1    3           90         1         0\n",
       "5            1      3       2    1           90         2         0"
      ]
     },
     "execution_count": 309,
     "metadata": {},
     "output_type": "execute_result"
    }
   ],
   "source": [
    "df = organize_trial_by_trial_floatclick('data/j11_gamedata.csv')\n",
    "j11 = df\n",
    "j11_p1_g1_score,j11_p1_g2_score,j11_p2_g1_score,j11_p2_g2_score,j11_p1_diff,j11_p2_diff = call_get_score(j11, 'j')\n",
    "j11.head()"
   ]
  },
  {
   "cell_type": "code",
   "execution_count": 310,
   "metadata": {},
   "outputs": [
    {
     "name": "stderr",
     "output_type": "stream",
     "text": [
      "/Users/simonefroley/opt/anaconda3/lib/python3.7/site-packages/ipykernel_launcher.py:5: UserWarning: Boolean Series key will be reindexed to match DataFrame index.\n",
      "  \"\"\"\n",
      "/Users/simonefroley/opt/anaconda3/lib/python3.7/site-packages/ipykernel_launcher.py:6: UserWarning: Boolean Series key will be reindexed to match DataFrame index.\n",
      "  \n",
      "/Users/simonefroley/opt/anaconda3/lib/python3.7/site-packages/ipykernel_launcher.py:18: UserWarning: Boolean Series key will be reindexed to match DataFrame index.\n",
      "/Users/simonefroley/opt/anaconda3/lib/python3.7/site-packages/ipykernel_launcher.py:19: UserWarning: Boolean Series key will be reindexed to match DataFrame index.\n"
     ]
    }
   ],
   "source": [
    "j01_p1_g1, j01_p1_g2, j01_p2_g1, j01_p2_g2 = separate_df(j01, 'j')\n",
    "j02_p1_g1, j02_p1_g2, j02_p2_g1, j02_p2_g2 = separate_df(j02, 'j')\n",
    "j03_p1_g1, j03_p1_g2, j03_p2_g1, j03_p2_g2 = separate_df(j03, 'j')\n",
    "j04_p1_g1, j04_p1_g2, j04_p2_g1, j04_p2_g2 = separate_df(j04, 'j')\n",
    "j05_p1_g1, j05_p1_g2, j05_p2_g1, j05_p2_g2 = separate_df(j05, 'j')\n",
    "j06_p1_g1, j06_p1_g2, j06_p2_g1, j06_p2_g2 = separate_df(j06, 'j')\n",
    "j07_p1_g1, j07_p1_g2, j07_p2_g1, j07_p2_g2 = separate_df(j07, 'j')\n",
    "j08_p1_g1, j08_p1_g2, j08_p2_g1, j08_p2_g2 = separate_df(j08, 'j')\n",
    "j10_p1_g1, j10_p1_g2, j10_p2_g1, j10_p2_g2 = separate_df(j10, 'j')\n",
    "j11_p1_g1, j11_p1_g2, j11_p2_g1, j11_p2_g2 = separate_df(j11, 'j')\n"
   ]
  },
  {
   "cell_type": "code",
   "execution_count": 311,
   "metadata": {},
   "outputs": [],
   "source": [
    "j01_p1_g1_count = j01_p1_g1['probability'].value_counts(sort=False)\n",
    "j01_p1_g2_count = j01_p1_g2['probability'].value_counts(sort=False)\n",
    "j01_p2_g1_count = j01_p2_g1['probability'].value_counts(sort=False)\n",
    "j01_p2_g2_count = j01_p2_g2['probability'].value_counts(sort=False)\n",
    "j02_p1_g1_count = j02_p1_g1['probability'].value_counts(sort=False)\n",
    "j02_p1_g2_count = j02_p1_g2['probability'].value_counts(sort=False)\n",
    "j02_p2_g1_count = j02_p2_g1['probability'].value_counts(sort=False)\n",
    "j02_p2_g2_count = j02_p2_g2['probability'].value_counts(sort=False)\n",
    "j03_p1_g1_count = j03_p1_g1['probability'].value_counts(sort=False)\n",
    "j03_p1_g2_count = j03_p1_g2['probability'].value_counts(sort=False)\n",
    "j03_p2_g1_count = j03_p2_g1['probability'].value_counts(sort=False)\n",
    "j03_p2_g2_count = j03_p2_g2['probability'].value_counts(sort=False)\n",
    "j04_p1_g1_count = j04_p1_g1['probability'].value_counts(sort=False)\n",
    "j04_p1_g2_count = j04_p1_g2['probability'].value_counts(sort=False)\n",
    "j04_p2_g1_count = j04_p2_g1['probability'].value_counts(sort=False)\n",
    "j04_p2_g2_count = j04_p2_g2['probability'].value_counts(sort=False)\n",
    "j05_p1_g1_count = j05_p1_g1['probability'].value_counts(sort=False)\n",
    "j05_p1_g2_count = j05_p1_g2['probability'].value_counts(sort=False)\n",
    "j05_p2_g1_count = j05_p2_g1['probability'].value_counts(sort=False)\n",
    "j05_p2_g2_count = j05_p2_g2['probability'].value_counts(sort=False)\n",
    "j06_p1_g1_count = j06_p1_g1['probability'].value_counts(sort=False)\n",
    "j06_p1_g2_count = j06_p1_g2['probability'].value_counts(sort=False)\n",
    "j06_p2_g1_count = j06_p2_g1['probability'].value_counts(sort=False)\n",
    "j06_p2_g2_count = j06_p2_g2['probability'].value_counts(sort=False)\n",
    "j07_p1_g1_count = j07_p1_g1['probability'].value_counts(sort=False)\n",
    "j07_p1_g2_count = j07_p1_g2['probability'].value_counts(sort=False)\n",
    "j07_p2_g1_count = j07_p2_g1['probability'].value_counts(sort=False)\n",
    "j07_p2_g2_count = j07_p2_g2['probability'].value_counts(sort=False)\n",
    "j08_p1_g1_count = j08_p1_g1['probability'].value_counts(sort=False)\n",
    "j08_p1_g2_count = j08_p1_g2['probability'].value_counts(sort=False)\n",
    "j08_p2_g1_count = j08_p2_g1['probability'].value_counts(sort=False)\n",
    "j08_p2_g2_count = j08_p2_g2['probability'].value_counts(sort=False)\n",
    "j10_p1_g1_count = j10_p1_g1['probability'].value_counts(sort=False)\n",
    "j10_p1_g2_count = j10_p1_g2['probability'].value_counts(sort=False)\n",
    "j10_p2_g1_count = j10_p2_g1['probability'].value_counts(sort=False)\n",
    "j10_p2_g2_count = j10_p2_g2['probability'].value_counts(sort=False)\n",
    "j11_p1_g1_count = j11_p1_g1['probability'].value_counts(sort=False)\n",
    "j11_p1_g2_count = j11_p1_g2['probability'].value_counts(sort=False)\n",
    "j11_p2_g1_count = j11_p2_g1['probability'].value_counts(sort=False)\n",
    "j11_p2_g2_count = j11_p2_g2['probability'].value_counts(sort=False)"
   ]
  },
  {
   "cell_type": "markdown",
   "metadata": {},
   "source": [
    "# Combined Joint scores G1"
   ]
  },
  {
   "cell_type": "code",
   "execution_count": 312,
   "metadata": {},
   "outputs": [
    {
     "data": {
      "text/html": [
       "<div>\n",
       "<style scoped>\n",
       "    .dataframe tbody tr th:only-of-type {\n",
       "        vertical-align: middle;\n",
       "    }\n",
       "\n",
       "    .dataframe tbody tr th {\n",
       "        vertical-align: top;\n",
       "    }\n",
       "\n",
       "    .dataframe thead th {\n",
       "        text-align: right;\n",
       "    }\n",
       "</style>\n",
       "<table border=\"1\" class=\"dataframe\">\n",
       "  <thead>\n",
       "    <tr style=\"text-align: right;\">\n",
       "      <th></th>\n",
       "      <th>j_score_1</th>\n",
       "    </tr>\n",
       "    <tr>\n",
       "      <th>participant</th>\n",
       "      <th></th>\n",
       "    </tr>\n",
       "  </thead>\n",
       "  <tbody>\n",
       "    <tr>\n",
       "      <td>j01_p1</td>\n",
       "      <td>57</td>\n",
       "    </tr>\n",
       "    <tr>\n",
       "      <td>j01_p2</td>\n",
       "      <td>61</td>\n",
       "    </tr>\n",
       "    <tr>\n",
       "      <td>j02_p1</td>\n",
       "      <td>54</td>\n",
       "    </tr>\n",
       "    <tr>\n",
       "      <td>j02_p2</td>\n",
       "      <td>68</td>\n",
       "    </tr>\n",
       "    <tr>\n",
       "      <td>j03_p1</td>\n",
       "      <td>69</td>\n",
       "    </tr>\n",
       "    <tr>\n",
       "      <td>j03_p2</td>\n",
       "      <td>67</td>\n",
       "    </tr>\n",
       "    <tr>\n",
       "      <td>j04_p1</td>\n",
       "      <td>64</td>\n",
       "    </tr>\n",
       "    <tr>\n",
       "      <td>j04_p2</td>\n",
       "      <td>56</td>\n",
       "    </tr>\n",
       "    <tr>\n",
       "      <td>j05_p1</td>\n",
       "      <td>77</td>\n",
       "    </tr>\n",
       "    <tr>\n",
       "      <td>j05_p2</td>\n",
       "      <td>70</td>\n",
       "    </tr>\n",
       "    <tr>\n",
       "      <td>j06_p1</td>\n",
       "      <td>54</td>\n",
       "    </tr>\n",
       "    <tr>\n",
       "      <td>j06_p2</td>\n",
       "      <td>61</td>\n",
       "    </tr>\n",
       "    <tr>\n",
       "      <td>j07_p1</td>\n",
       "      <td>74</td>\n",
       "    </tr>\n",
       "    <tr>\n",
       "      <td>j07_p2</td>\n",
       "      <td>80</td>\n",
       "    </tr>\n",
       "    <tr>\n",
       "      <td>j08_p1</td>\n",
       "      <td>60</td>\n",
       "    </tr>\n",
       "    <tr>\n",
       "      <td>j08_p2</td>\n",
       "      <td>57</td>\n",
       "    </tr>\n",
       "    <tr>\n",
       "      <td>j10_p1</td>\n",
       "      <td>66</td>\n",
       "    </tr>\n",
       "    <tr>\n",
       "      <td>j10_p2</td>\n",
       "      <td>75</td>\n",
       "    </tr>\n",
       "    <tr>\n",
       "      <td>j11_p1</td>\n",
       "      <td>79</td>\n",
       "    </tr>\n",
       "    <tr>\n",
       "      <td>j11_p2</td>\n",
       "      <td>87</td>\n",
       "    </tr>\n",
       "  </tbody>\n",
       "</table>\n",
       "</div>"
      ],
      "text/plain": [
       "             j_score_1\n",
       "participant           \n",
       "j01_p1              57\n",
       "j01_p2              61\n",
       "j02_p1              54\n",
       "j02_p2              68\n",
       "j03_p1              69\n",
       "j03_p2              67\n",
       "j04_p1              64\n",
       "j04_p2              56\n",
       "j05_p1              77\n",
       "j05_p2              70\n",
       "j06_p1              54\n",
       "j06_p2              61\n",
       "j07_p1              74\n",
       "j07_p2              80\n",
       "j08_p1              60\n",
       "j08_p2              57\n",
       "j10_p1              66\n",
       "j10_p2              75\n",
       "j11_p1              79\n",
       "j11_p2              87"
      ]
     },
     "execution_count": 312,
     "metadata": {},
     "output_type": "execute_result"
    }
   ],
   "source": [
    "j_scores_1 = pd.DataFrame({'participant':['j01_p1', 'j01_p2','j02_p1', 'j02_p2','j03_p1', 'j03_p2','j04_p1', 'j04_p2','j05_p1', 'j05_p2','j06_p1','j06_p2','j07_p1', 'j07_p2','j08_p1', 'j08_p2','j10_p1', 'j10_p2','j11_p1', 'j11_p2'], 'j_score_1':\n",
    "     [j01_p1_g1_score, j01_p2_g1_score, j02_p1_g1_score, j02_p2_g1_score, j03_p1_g1_score, j03_p2_g1_score,\n",
    "      j04_p1_g1_score, j04_p2_g1_score, j05_p1_g1_score, j05_p2_g1_score, j06_p1_g1_score, j06_p2_g1_score,\n",
    "      j07_p1_g1_score, j07_p2_g1_score, j08_p1_g1_score, j08_p2_g1_score, j10_p1_g1_score, j10_p2_g1_score, j11_p1_g1_score, j11_p2_g1_score]})\n",
    "j_scores_1.set_index('participant', inplace=True, drop=True)\n",
    "j_scores_1"
   ]
  },
  {
   "cell_type": "markdown",
   "metadata": {},
   "source": [
    "# Combined Joint scores G2"
   ]
  },
  {
   "cell_type": "code",
   "execution_count": 313,
   "metadata": {},
   "outputs": [
    {
     "data": {
      "text/html": [
       "<div>\n",
       "<style scoped>\n",
       "    .dataframe tbody tr th:only-of-type {\n",
       "        vertical-align: middle;\n",
       "    }\n",
       "\n",
       "    .dataframe tbody tr th {\n",
       "        vertical-align: top;\n",
       "    }\n",
       "\n",
       "    .dataframe thead th {\n",
       "        text-align: right;\n",
       "    }\n",
       "</style>\n",
       "<table border=\"1\" class=\"dataframe\">\n",
       "  <thead>\n",
       "    <tr style=\"text-align: right;\">\n",
       "      <th></th>\n",
       "      <th>j_score_2</th>\n",
       "    </tr>\n",
       "    <tr>\n",
       "      <th>participant</th>\n",
       "      <th></th>\n",
       "    </tr>\n",
       "  </thead>\n",
       "  <tbody>\n",
       "    <tr>\n",
       "      <td>j01_p1</td>\n",
       "      <td>73</td>\n",
       "    </tr>\n",
       "    <tr>\n",
       "      <td>j01_p2</td>\n",
       "      <td>60</td>\n",
       "    </tr>\n",
       "    <tr>\n",
       "      <td>j02_p1</td>\n",
       "      <td>72</td>\n",
       "    </tr>\n",
       "    <tr>\n",
       "      <td>j02_p2</td>\n",
       "      <td>76</td>\n",
       "    </tr>\n",
       "    <tr>\n",
       "      <td>j03_p1</td>\n",
       "      <td>82</td>\n",
       "    </tr>\n",
       "    <tr>\n",
       "      <td>j03_p2</td>\n",
       "      <td>75</td>\n",
       "    </tr>\n",
       "    <tr>\n",
       "      <td>j04_p1</td>\n",
       "      <td>60</td>\n",
       "    </tr>\n",
       "    <tr>\n",
       "      <td>j04_p2</td>\n",
       "      <td>54</td>\n",
       "    </tr>\n",
       "    <tr>\n",
       "      <td>j05_p1</td>\n",
       "      <td>70</td>\n",
       "    </tr>\n",
       "    <tr>\n",
       "      <td>j05_p2</td>\n",
       "      <td>78</td>\n",
       "    </tr>\n",
       "    <tr>\n",
       "      <td>j06_p1</td>\n",
       "      <td>76</td>\n",
       "    </tr>\n",
       "    <tr>\n",
       "      <td>j06_p2</td>\n",
       "      <td>75</td>\n",
       "    </tr>\n",
       "    <tr>\n",
       "      <td>j07_p1</td>\n",
       "      <td>84</td>\n",
       "    </tr>\n",
       "    <tr>\n",
       "      <td>j07_p2</td>\n",
       "      <td>74</td>\n",
       "    </tr>\n",
       "    <tr>\n",
       "      <td>j08_p1</td>\n",
       "      <td>83</td>\n",
       "    </tr>\n",
       "    <tr>\n",
       "      <td>j08_p2</td>\n",
       "      <td>71</td>\n",
       "    </tr>\n",
       "    <tr>\n",
       "      <td>j10_p1</td>\n",
       "      <td>76</td>\n",
       "    </tr>\n",
       "    <tr>\n",
       "      <td>j10_p2</td>\n",
       "      <td>78</td>\n",
       "    </tr>\n",
       "    <tr>\n",
       "      <td>j11_p1</td>\n",
       "      <td>76</td>\n",
       "    </tr>\n",
       "    <tr>\n",
       "      <td>j11_p2</td>\n",
       "      <td>89</td>\n",
       "    </tr>\n",
       "  </tbody>\n",
       "</table>\n",
       "</div>"
      ],
      "text/plain": [
       "             j_score_2\n",
       "participant           \n",
       "j01_p1              73\n",
       "j01_p2              60\n",
       "j02_p1              72\n",
       "j02_p2              76\n",
       "j03_p1              82\n",
       "j03_p2              75\n",
       "j04_p1              60\n",
       "j04_p2              54\n",
       "j05_p1              70\n",
       "j05_p2              78\n",
       "j06_p1              76\n",
       "j06_p2              75\n",
       "j07_p1              84\n",
       "j07_p2              74\n",
       "j08_p1              83\n",
       "j08_p2              71\n",
       "j10_p1              76\n",
       "j10_p2              78\n",
       "j11_p1              76\n",
       "j11_p2              89"
      ]
     },
     "execution_count": 313,
     "metadata": {},
     "output_type": "execute_result"
    }
   ],
   "source": [
    "j_scores_2 = pd.DataFrame({'participant':['j01_p1', 'j01_p2','j02_p1', 'j02_p2','j03_p1', 'j03_p2','j04_p1', 'j04_p2','j05_p1', 'j05_p2','j06_p1','j06_p2','j07_p1', 'j07_p2','j08_p1', 'j08_p2','j10_p1', 'j10_p2','j11_p1', 'j11_p2'], 'j_score_2':\n",
    "     [j01_p1_g2_score, j01_p2_g2_score, j02_p1_g2_score, j02_p2_g2_score, j03_p1_g2_score, j03_p2_g2_score,\n",
    "      j04_p1_g2_score, j04_p2_g2_score, j05_p1_g2_score, j05_p2_g2_score, j06_p1_g2_score, j06_p2_g2_score,\n",
    "      j07_p1_g2_score, j07_p2_g2_score, j08_p1_g2_score, j08_p2_g2_score, j10_p1_g2_score, j10_p2_g2_score, j11_p1_g2_score, j11_p2_g2_score]})\n",
    "j_scores_2.set_index('participant', inplace=True, drop=True)\n",
    "j_scores_2"
   ]
  },
  {
   "cell_type": "code",
   "execution_count": 314,
   "metadata": {},
   "outputs": [
    {
     "data": {
      "text/html": [
       "<div>\n",
       "<style scoped>\n",
       "    .dataframe tbody tr th:only-of-type {\n",
       "        vertical-align: middle;\n",
       "    }\n",
       "\n",
       "    .dataframe tbody tr th {\n",
       "        vertical-align: top;\n",
       "    }\n",
       "\n",
       "    .dataframe thead th {\n",
       "        text-align: right;\n",
       "    }\n",
       "</style>\n",
       "<table border=\"1\" class=\"dataframe\">\n",
       "  <thead>\n",
       "    <tr style=\"text-align: right;\">\n",
       "      <th></th>\n",
       "      <th>Game 1</th>\n",
       "      <th>Game 2</th>\n",
       "    </tr>\n",
       "    <tr>\n",
       "      <th>participant</th>\n",
       "      <th></th>\n",
       "      <th></th>\n",
       "    </tr>\n",
       "  </thead>\n",
       "  <tbody>\n",
       "    <tr>\n",
       "      <td>j01_p1</td>\n",
       "      <td>57</td>\n",
       "      <td>73</td>\n",
       "    </tr>\n",
       "    <tr>\n",
       "      <td>j01_p2</td>\n",
       "      <td>61</td>\n",
       "      <td>60</td>\n",
       "    </tr>\n",
       "    <tr>\n",
       "      <td>j02_p1</td>\n",
       "      <td>54</td>\n",
       "      <td>72</td>\n",
       "    </tr>\n",
       "    <tr>\n",
       "      <td>j02_p2</td>\n",
       "      <td>68</td>\n",
       "      <td>76</td>\n",
       "    </tr>\n",
       "    <tr>\n",
       "      <td>j03_p1</td>\n",
       "      <td>69</td>\n",
       "      <td>82</td>\n",
       "    </tr>\n",
       "    <tr>\n",
       "      <td>j03_p2</td>\n",
       "      <td>67</td>\n",
       "      <td>75</td>\n",
       "    </tr>\n",
       "    <tr>\n",
       "      <td>j04_p1</td>\n",
       "      <td>64</td>\n",
       "      <td>60</td>\n",
       "    </tr>\n",
       "    <tr>\n",
       "      <td>j04_p2</td>\n",
       "      <td>56</td>\n",
       "      <td>54</td>\n",
       "    </tr>\n",
       "    <tr>\n",
       "      <td>j05_p1</td>\n",
       "      <td>77</td>\n",
       "      <td>70</td>\n",
       "    </tr>\n",
       "    <tr>\n",
       "      <td>j05_p2</td>\n",
       "      <td>70</td>\n",
       "      <td>78</td>\n",
       "    </tr>\n",
       "    <tr>\n",
       "      <td>j06_p1</td>\n",
       "      <td>54</td>\n",
       "      <td>76</td>\n",
       "    </tr>\n",
       "    <tr>\n",
       "      <td>j06_p2</td>\n",
       "      <td>61</td>\n",
       "      <td>75</td>\n",
       "    </tr>\n",
       "    <tr>\n",
       "      <td>j07_p1</td>\n",
       "      <td>74</td>\n",
       "      <td>84</td>\n",
       "    </tr>\n",
       "    <tr>\n",
       "      <td>j07_p2</td>\n",
       "      <td>80</td>\n",
       "      <td>74</td>\n",
       "    </tr>\n",
       "    <tr>\n",
       "      <td>j08_p1</td>\n",
       "      <td>60</td>\n",
       "      <td>83</td>\n",
       "    </tr>\n",
       "    <tr>\n",
       "      <td>j08_p2</td>\n",
       "      <td>57</td>\n",
       "      <td>71</td>\n",
       "    </tr>\n",
       "    <tr>\n",
       "      <td>j10_p1</td>\n",
       "      <td>66</td>\n",
       "      <td>76</td>\n",
       "    </tr>\n",
       "    <tr>\n",
       "      <td>j10_p2</td>\n",
       "      <td>75</td>\n",
       "      <td>78</td>\n",
       "    </tr>\n",
       "    <tr>\n",
       "      <td>j11_p1</td>\n",
       "      <td>79</td>\n",
       "      <td>76</td>\n",
       "    </tr>\n",
       "    <tr>\n",
       "      <td>j11_p2</td>\n",
       "      <td>87</td>\n",
       "      <td>89</td>\n",
       "    </tr>\n",
       "  </tbody>\n",
       "</table>\n",
       "</div>"
      ],
      "text/plain": [
       "             Game 1  Game 2\n",
       "participant                \n",
       "j01_p1           57      73\n",
       "j01_p2           61      60\n",
       "j02_p1           54      72\n",
       "j02_p2           68      76\n",
       "j03_p1           69      82\n",
       "j03_p2           67      75\n",
       "j04_p1           64      60\n",
       "j04_p2           56      54\n",
       "j05_p1           77      70\n",
       "j05_p2           70      78\n",
       "j06_p1           54      76\n",
       "j06_p2           61      75\n",
       "j07_p1           74      84\n",
       "j07_p2           80      74\n",
       "j08_p1           60      83\n",
       "j08_p2           57      71\n",
       "j10_p1           66      76\n",
       "j10_p2           75      78\n",
       "j11_p1           79      76\n",
       "j11_p2           87      89"
      ]
     },
     "execution_count": 314,
     "metadata": {},
     "output_type": "execute_result"
    }
   ],
   "source": [
    "j_scores = pd.merge(j_scores_1, j_scores_2, on = 'participant')\n",
    "j_scores.columns=['Game 1','Game 2']\n",
    "#jp1_scores.set_index('participant', inplace=True, drop=True)\n",
    "j_scores"
   ]
  },
  {
   "cell_type": "code",
   "execution_count": 315,
   "metadata": {},
   "outputs": [],
   "source": [
    "j_scores_1_mean = j_scores_1.mean()"
   ]
  },
  {
   "cell_type": "code",
   "execution_count": 316,
   "metadata": {},
   "outputs": [
    {
     "data": {
      "text/plain": [
       "j_score_1    66.8\n",
       "dtype: float64"
      ]
     },
     "execution_count": 316,
     "metadata": {},
     "output_type": "execute_result"
    }
   ],
   "source": [
    "j_scores_1_mean"
   ]
  },
  {
   "cell_type": "code",
   "execution_count": 317,
   "metadata": {},
   "outputs": [],
   "source": [
    "j_scores_1_std = j_scores_1.std()"
   ]
  },
  {
   "cell_type": "code",
   "execution_count": 318,
   "metadata": {},
   "outputs": [
    {
     "data": {
      "text/plain": [
       "j_score_1    9.539944\n",
       "dtype: float64"
      ]
     },
     "execution_count": 318,
     "metadata": {},
     "output_type": "execute_result"
    }
   ],
   "source": [
    "j_scores_1_std"
   ]
  },
  {
   "cell_type": "code",
   "execution_count": 319,
   "metadata": {},
   "outputs": [],
   "source": [
    "j_scores_2_mean = j_scores_2.mean()"
   ]
  },
  {
   "cell_type": "code",
   "execution_count": 320,
   "metadata": {},
   "outputs": [
    {
     "data": {
      "text/plain": [
       "j_score_2    74.1\n",
       "dtype: float64"
      ]
     },
     "execution_count": 320,
     "metadata": {},
     "output_type": "execute_result"
    }
   ],
   "source": [
    "j_scores_2_mean"
   ]
  },
  {
   "cell_type": "code",
   "execution_count": 321,
   "metadata": {},
   "outputs": [],
   "source": [
    "j_scores_2_std = j_scores_2.std()"
   ]
  },
  {
   "cell_type": "code",
   "execution_count": 322,
   "metadata": {},
   "outputs": [
    {
     "data": {
      "text/plain": [
       "j_score_2    8.403633\n",
       "dtype: float64"
      ]
     },
     "execution_count": 322,
     "metadata": {},
     "output_type": "execute_result"
    }
   ],
   "source": [
    "j_scores_2_std"
   ]
  },
  {
   "cell_type": "code",
   "execution_count": 323,
   "metadata": {},
   "outputs": [
    {
     "data": {
      "text/plain": [
       "Game 1    66.5\n",
       "Game 2    75.5\n",
       "dtype: float64"
      ]
     },
     "execution_count": 323,
     "metadata": {},
     "output_type": "execute_result"
    }
   ],
   "source": [
    "j_scores_med = j_scores.median()\n",
    "j_scores_med"
   ]
  },
  {
   "cell_type": "code",
   "execution_count": 324,
   "metadata": {},
   "outputs": [],
   "source": [
    "j_scores_p = sp.stats.ttest_rel(j_scores['Game 1'],j_scores['Game 2'])"
   ]
  },
  {
   "cell_type": "code",
   "execution_count": 325,
   "metadata": {},
   "outputs": [
    {
     "data": {
      "image/png": "[encoded data removed]",
      "text/plain": [
       "<Figure size 432x288 with 1 Axes>"
      ]
     },
     "metadata": {
      "needs_background": "light"
     },
     "output_type": "display_data"
    }
   ],
   "source": [
    "j_scores_box = sns.boxplot( \n",
    "                 data=j_scores, \n",
    "                 width=0.5,\n",
    "                 palette=\"pastel\")\n",
    "j_scores_box.axes.set_title(\"Joint Player Scores\",\n",
    "                    fontsize=16)\n",
    "\n",
    "plot_file_name=\"j_score_box.jpg\"\n",
    " \n",
    "plt.ylim(0, 100)\n",
    "j_scores_box.axes.set(ylabel='Score')\n",
    "\n",
    "# save as jpeg\n",
    "j_scores_box.figure.savefig(plot_file_name,\n",
    "                    format='jpeg',\n",
    "                    dpi=100)"
   ]
  },
  {
   "cell_type": "code",
   "execution_count": 326,
   "metadata": {},
   "outputs": [
    {
     "data": {
      "text/plain": [
       "Ttest_relResult(statistic=-3.548498529057052, pvalue=0.002145546053304259)"
      ]
     },
     "execution_count": 326,
     "metadata": {},
     "output_type": "execute_result"
    }
   ],
   "source": [
    "j_scores_p"
   ]
  },
  {
   "cell_type": "markdown",
   "metadata": {},
   "source": [
    "# Joint combined choices in G1"
   ]
  },
  {
   "cell_type": "code",
   "execution_count": 327,
   "metadata": {},
   "outputs": [],
   "source": [
    "j_g1_counts = pd.DataFrame([j01_p1_g1_count, j01_p2_g1_count, j02_p1_g1_count, j02_p2_g1_count, j03_p1_g1_count, \n",
    "              j03_p2_g1_count, j04_p1_g1_count, j04_p2_g1_count, j05_p1_g1_count, j05_p2_g1_count, j06_p1_g1_count, \n",
    "              j06_p2_g1_count, j07_p1_g1_count, j07_p2_g1_count, j08_p1_g1_count, j08_p2_g1_count, \n",
    "              j10_p1_g1_count, j10_p2_g1_count, j11_p1_g1_count, j11_p2_g1_count],\n",
    "                index = ['j01_p1_g1_count', 'j01_p2_g1_count', 'j02_p1_g1_count', 'j02_p2_g1_count', \n",
    "                 'j03_p1_g1_count', 'j03_p2_g1_count', 'j04_p1_g1_count', 'j04_p2_g1_count', 'j05_p1_g1_count', \n",
    "                  'j05_p2_g1_count', 'j06_p1_g1_count', 'j06_p2_g1_count', 'j07_p1_g1_count', \n",
    "                    'j07_p2_g1_count', 'j08_p1_g1_count', 'j08_p2_g1_count', 'j10_p1_g1_count', 'j10_p2_g1_count', \n",
    "                    'j11_p1_g1_count', 'j11_p2_g1_count'])\n"
   ]
  },
  {
   "cell_type": "code",
   "execution_count": 328,
   "metadata": {
    "scrolled": true
   },
   "outputs": [],
   "source": [
    "j_g1_counts = j_g1_counts.fillna(0)"
   ]
  },
  {
   "cell_type": "code",
   "execution_count": 329,
   "metadata": {},
   "outputs": [
    {
     "data": {
      "text/html": [
       "<div>\n",
       "<style scoped>\n",
       "    .dataframe tbody tr th:only-of-type {\n",
       "        vertical-align: middle;\n",
       "    }\n",
       "\n",
       "    .dataframe tbody tr th {\n",
       "        vertical-align: top;\n",
       "    }\n",
       "\n",
       "    .dataframe thead th {\n",
       "        text-align: right;\n",
       "    }\n",
       "</style>\n",
       "<table border=\"1\" class=\"dataframe\">\n",
       "  <thead>\n",
       "    <tr style=\"text-align: right;\">\n",
       "      <th></th>\n",
       "      <th>30</th>\n",
       "      <th>60</th>\n",
       "      <th>90</th>\n",
       "    </tr>\n",
       "  </thead>\n",
       "  <tbody>\n",
       "    <tr>\n",
       "      <td>j01_p1_g1_count</td>\n",
       "      <td>8.0</td>\n",
       "      <td>6.0</td>\n",
       "      <td>6.0</td>\n",
       "    </tr>\n",
       "    <tr>\n",
       "      <td>j01_p2_g1_count</td>\n",
       "      <td>7.0</td>\n",
       "      <td>8.0</td>\n",
       "      <td>5.0</td>\n",
       "    </tr>\n",
       "    <tr>\n",
       "      <td>j02_p1_g1_count</td>\n",
       "      <td>7.0</td>\n",
       "      <td>8.0</td>\n",
       "      <td>5.0</td>\n",
       "    </tr>\n",
       "    <tr>\n",
       "      <td>j02_p2_g1_count</td>\n",
       "      <td>5.0</td>\n",
       "      <td>5.0</td>\n",
       "      <td>10.0</td>\n",
       "    </tr>\n",
       "    <tr>\n",
       "      <td>j03_p1_g1_count</td>\n",
       "      <td>7.0</td>\n",
       "      <td>6.0</td>\n",
       "      <td>7.0</td>\n",
       "    </tr>\n",
       "    <tr>\n",
       "      <td>j03_p2_g1_count</td>\n",
       "      <td>9.0</td>\n",
       "      <td>5.0</td>\n",
       "      <td>6.0</td>\n",
       "    </tr>\n",
       "    <tr>\n",
       "      <td>j04_p1_g1_count</td>\n",
       "      <td>7.0</td>\n",
       "      <td>8.0</td>\n",
       "      <td>5.0</td>\n",
       "    </tr>\n",
       "    <tr>\n",
       "      <td>j04_p2_g1_count</td>\n",
       "      <td>10.0</td>\n",
       "      <td>1.0</td>\n",
       "      <td>9.0</td>\n",
       "    </tr>\n",
       "    <tr>\n",
       "      <td>j05_p1_g1_count</td>\n",
       "      <td>0.0</td>\n",
       "      <td>4.0</td>\n",
       "      <td>16.0</td>\n",
       "    </tr>\n",
       "    <tr>\n",
       "      <td>j05_p2_g1_count</td>\n",
       "      <td>3.0</td>\n",
       "      <td>6.0</td>\n",
       "      <td>11.0</td>\n",
       "    </tr>\n",
       "    <tr>\n",
       "      <td>j06_p1_g1_count</td>\n",
       "      <td>9.0</td>\n",
       "      <td>8.0</td>\n",
       "      <td>3.0</td>\n",
       "    </tr>\n",
       "    <tr>\n",
       "      <td>j06_p2_g1_count</td>\n",
       "      <td>13.0</td>\n",
       "      <td>2.0</td>\n",
       "      <td>5.0</td>\n",
       "    </tr>\n",
       "    <tr>\n",
       "      <td>j07_p1_g1_count</td>\n",
       "      <td>0.0</td>\n",
       "      <td>10.0</td>\n",
       "      <td>10.0</td>\n",
       "    </tr>\n",
       "    <tr>\n",
       "      <td>j07_p2_g1_count</td>\n",
       "      <td>3.0</td>\n",
       "      <td>2.0</td>\n",
       "      <td>15.0</td>\n",
       "    </tr>\n",
       "    <tr>\n",
       "      <td>j08_p1_g1_count</td>\n",
       "      <td>5.0</td>\n",
       "      <td>8.0</td>\n",
       "      <td>7.0</td>\n",
       "    </tr>\n",
       "    <tr>\n",
       "      <td>j08_p2_g1_count</td>\n",
       "      <td>12.0</td>\n",
       "      <td>2.0</td>\n",
       "      <td>6.0</td>\n",
       "    </tr>\n",
       "    <tr>\n",
       "      <td>j10_p1_g1_count</td>\n",
       "      <td>7.0</td>\n",
       "      <td>6.0</td>\n",
       "      <td>7.0</td>\n",
       "    </tr>\n",
       "    <tr>\n",
       "      <td>j10_p2_g1_count</td>\n",
       "      <td>4.0</td>\n",
       "      <td>6.0</td>\n",
       "      <td>10.0</td>\n",
       "    </tr>\n",
       "    <tr>\n",
       "      <td>j11_p1_g1_count</td>\n",
       "      <td>0.0</td>\n",
       "      <td>8.0</td>\n",
       "      <td>12.0</td>\n",
       "    </tr>\n",
       "    <tr>\n",
       "      <td>j11_p2_g1_count</td>\n",
       "      <td>0.0</td>\n",
       "      <td>3.0</td>\n",
       "      <td>17.0</td>\n",
       "    </tr>\n",
       "  </tbody>\n",
       "</table>\n",
       "</div>"
      ],
      "text/plain": [
       "                   30    60    90\n",
       "j01_p1_g1_count   8.0   6.0   6.0\n",
       "j01_p2_g1_count   7.0   8.0   5.0\n",
       "j02_p1_g1_count   7.0   8.0   5.0\n",
       "j02_p2_g1_count   5.0   5.0  10.0\n",
       "j03_p1_g1_count   7.0   6.0   7.0\n",
       "j03_p2_g1_count   9.0   5.0   6.0\n",
       "j04_p1_g1_count   7.0   8.0   5.0\n",
       "j04_p2_g1_count  10.0   1.0   9.0\n",
       "j05_p1_g1_count   0.0   4.0  16.0\n",
       "j05_p2_g1_count   3.0   6.0  11.0\n",
       "j06_p1_g1_count   9.0   8.0   3.0\n",
       "j06_p2_g1_count  13.0   2.0   5.0\n",
       "j07_p1_g1_count   0.0  10.0  10.0\n",
       "j07_p2_g1_count   3.0   2.0  15.0\n",
       "j08_p1_g1_count   5.0   8.0   7.0\n",
       "j08_p2_g1_count  12.0   2.0   6.0\n",
       "j10_p1_g1_count   7.0   6.0   7.0\n",
       "j10_p2_g1_count   4.0   6.0  10.0\n",
       "j11_p1_g1_count   0.0   8.0  12.0\n",
       "j11_p2_g1_count   0.0   3.0  17.0"
      ]
     },
     "execution_count": 329,
     "metadata": {},
     "output_type": "execute_result"
    }
   ],
   "source": [
    "j_g1_counts "
   ]
  },
  {
   "cell_type": "code",
   "execution_count": 330,
   "metadata": {},
   "outputs": [
    {
     "data": {
      "text/plain": [
       "j01_p1_g1_count    20.0\n",
       "j01_p2_g1_count    20.0\n",
       "j02_p1_g1_count    20.0\n",
       "j02_p2_g1_count    20.0\n",
       "j03_p1_g1_count    20.0\n",
       "j03_p2_g1_count    20.0\n",
       "j04_p1_g1_count    20.0\n",
       "j04_p2_g1_count    20.0\n",
       "j05_p1_g1_count    20.0\n",
       "j05_p2_g1_count    20.0\n",
       "j06_p1_g1_count    20.0\n",
       "j06_p2_g1_count    20.0\n",
       "j07_p1_g1_count    20.0\n",
       "j07_p2_g1_count    20.0\n",
       "j08_p1_g1_count    20.0\n",
       "j08_p2_g1_count    20.0\n",
       "j10_p1_g1_count    20.0\n",
       "j10_p2_g1_count    20.0\n",
       "j11_p1_g1_count    20.0\n",
       "j11_p2_g1_count    20.0\n",
       "dtype: float64"
      ]
     },
     "execution_count": 330,
     "metadata": {},
     "output_type": "execute_result"
    }
   ],
   "source": [
    "j_g1_counts.sum(axis=1)"
   ]
  },
  {
   "cell_type": "code",
   "execution_count": 331,
   "metadata": {
    "scrolled": true
   },
   "outputs": [
    {
     "data": {
      "image/png": "[encoded data removed]",
      "text/plain": [
       "<Figure size 432x288 with 1 Axes>"
      ]
     },
     "metadata": {
      "needs_background": "light"
     },
     "output_type": "display_data"
    }
   ],
   "source": [
    "j_g1_counts_bar = j_g1_counts.plot.bar()"
   ]
  },
  {
   "cell_type": "code",
   "execution_count": 332,
   "metadata": {},
   "outputs": [
    {
     "data": {
      "image/png": "[encoded data removed]",
      "text/plain": [
       "<Figure size 432x288 with 1 Axes>"
      ]
     },
     "metadata": {
      "needs_background": "light"
     },
     "output_type": "display_data"
    }
   ],
   "source": [
    "j_g1_counts_box = sns.boxplot( \n",
    "                 data=j_g1_counts, \n",
    "                 width=0.5,\n",
    "                 palette=\"pastel\")\n",
    "j_g1_counts_box.axes.set_title(\"Combined Joint Player Choice Distributions in Game 1\",\n",
    "                    fontsize=16)\n",
    "\n",
    "plot_file_name=\"j_g1_counts_box.jpg\"\n",
    " \n",
    "plt.ylim(0, 100)\n",
    "j_g1_counts_box.axes.set(xlabel='Arm',ylabel='Frequency')\n",
    "\n",
    "# save as jpeg\n",
    "j_g1_counts_box.figure.savefig(plot_file_name,\n",
    "                    format='jpeg',\n",
    "                    dpi=100)"
   ]
  },
  {
   "cell_type": "code",
   "execution_count": 333,
   "metadata": {},
   "outputs": [],
   "source": [
    "j_g1_low = np.mean(j_g1_counts.iloc[:,0])\n",
    "j_g1_med = np.mean(j_g1_counts.iloc[:,1])\n",
    "j_g1_high = np.mean(j_g1_counts.iloc[:,2])"
   ]
  },
  {
   "cell_type": "code",
   "execution_count": 334,
   "metadata": {},
   "outputs": [
    {
     "data": {
      "text/plain": [
       "5.8"
      ]
     },
     "execution_count": 334,
     "metadata": {},
     "output_type": "execute_result"
    }
   ],
   "source": [
    "j_g1_low"
   ]
  },
  {
   "cell_type": "code",
   "execution_count": 335,
   "metadata": {},
   "outputs": [
    {
     "data": {
      "text/plain": [
       "5.6"
      ]
     },
     "execution_count": 335,
     "metadata": {},
     "output_type": "execute_result"
    }
   ],
   "source": [
    "j_g1_med"
   ]
  },
  {
   "cell_type": "code",
   "execution_count": 336,
   "metadata": {},
   "outputs": [
    {
     "data": {
      "text/plain": [
       "8.6"
      ]
     },
     "execution_count": 336,
     "metadata": {},
     "output_type": "execute_result"
    }
   ],
   "source": [
    "j_g1_high"
   ]
  },
  {
   "cell_type": "code",
   "execution_count": 337,
   "metadata": {},
   "outputs": [],
   "source": [
    "j_g1_low_std = np.std(j_g1_counts.iloc[:,0])\n",
    "j_g1_med_std = np.std(j_g1_counts.iloc[:,1])\n",
    "j_g1_high_std = np.std(j_g1_counts.iloc[:,2])"
   ]
  },
  {
   "cell_type": "code",
   "execution_count": 338,
   "metadata": {},
   "outputs": [
    {
     "data": {
      "text/plain": [
       "3.8418745424597094"
      ]
     },
     "execution_count": 338,
     "metadata": {},
     "output_type": "execute_result"
    }
   ],
   "source": [
    "j_g1_low_std"
   ]
  },
  {
   "cell_type": "code",
   "execution_count": 339,
   "metadata": {},
   "outputs": [
    {
     "data": {
      "text/plain": [
       "2.4979991993593593"
      ]
     },
     "execution_count": 339,
     "metadata": {},
     "output_type": "execute_result"
    }
   ],
   "source": [
    "j_g1_med_std"
   ]
  },
  {
   "cell_type": "code",
   "execution_count": 340,
   "metadata": {
    "scrolled": true
   },
   "outputs": [
    {
     "data": {
      "text/plain": [
       "3.8781438859330635"
      ]
     },
     "execution_count": 340,
     "metadata": {},
     "output_type": "execute_result"
    }
   ],
   "source": [
    "j_g1_high_std"
   ]
  },
  {
   "cell_type": "markdown",
   "metadata": {},
   "source": [
    "# Joint combined choices in G2"
   ]
  },
  {
   "cell_type": "code",
   "execution_count": 341,
   "metadata": {},
   "outputs": [],
   "source": [
    "j_g2_counts = pd.DataFrame([j01_p1_g2_count, j01_p2_g2_count, j02_p1_g2_count, j02_p2_g2_count, j03_p1_g2_count, \n",
    "              j03_p2_g2_count, j04_p1_g2_count, j04_p2_g2_count, j05_p1_g2_count, j05_p2_g2_count, j06_p1_g2_count, \n",
    "              j06_p2_g2_count, j07_p1_g2_count, j07_p2_g2_count, j08_p1_g2_count, j08_p2_g2_count, \n",
    "              j10_p1_g2_count, j10_p2_g2_count, j11_p1_g2_count, j11_p2_g2_count],\n",
    "                index = ['j01_p1_g2_count', 'j01_p2_g2_count', 'j02_p1_g2_count', 'j02_p2_g2_count', \n",
    "                 'j03_p1_g2_count', 'j03_p2_g2_count', 'j04_p1_g2_count', 'j04_p2_g2_count', 'j05_p1_g2_count', \n",
    "                  'j05_p2_g2_count', 'j06_p1_g2_count', 'j06_p2_g2_count', 'j07_p1_g1_count', 'j07_p1_g2_count', \n",
    "                 'j08_p1_g2_count', 'j08_p2_g2_count', 'j10_p1_g2_count', 'j10_p2_g2_count', \n",
    "                    'j11_p1_g2_count', 'j11_p2_g2_count'])\n"
   ]
  },
  {
   "cell_type": "code",
   "execution_count": 342,
   "metadata": {},
   "outputs": [
    {
     "data": {
      "text/html": [
       "<div>\n",
       "<style scoped>\n",
       "    .dataframe tbody tr th:only-of-type {\n",
       "        vertical-align: middle;\n",
       "    }\n",
       "\n",
       "    .dataframe tbody tr th {\n",
       "        vertical-align: top;\n",
       "    }\n",
       "\n",
       "    .dataframe thead th {\n",
       "        text-align: right;\n",
       "    }\n",
       "</style>\n",
       "<table border=\"1\" class=\"dataframe\">\n",
       "  <thead>\n",
       "    <tr style=\"text-align: right;\">\n",
       "      <th></th>\n",
       "      <th>30</th>\n",
       "      <th>60</th>\n",
       "      <th>90</th>\n",
       "    </tr>\n",
       "  </thead>\n",
       "  <tbody>\n",
       "    <tr>\n",
       "      <td>j01_p1_g2_count</td>\n",
       "      <td>3.0</td>\n",
       "      <td>6.0</td>\n",
       "      <td>11.0</td>\n",
       "    </tr>\n",
       "    <tr>\n",
       "      <td>j01_p2_g2_count</td>\n",
       "      <td>5.0</td>\n",
       "      <td>7.0</td>\n",
       "      <td>8.0</td>\n",
       "    </tr>\n",
       "    <tr>\n",
       "      <td>j02_p1_g2_count</td>\n",
       "      <td>6.0</td>\n",
       "      <td>6.0</td>\n",
       "      <td>8.0</td>\n",
       "    </tr>\n",
       "    <tr>\n",
       "      <td>j02_p2_g2_count</td>\n",
       "      <td>4.0</td>\n",
       "      <td>8.0</td>\n",
       "      <td>8.0</td>\n",
       "    </tr>\n",
       "    <tr>\n",
       "      <td>j03_p1_g2_count</td>\n",
       "      <td>3.0</td>\n",
       "      <td>5.0</td>\n",
       "      <td>12.0</td>\n",
       "    </tr>\n",
       "    <tr>\n",
       "      <td>j03_p2_g2_count</td>\n",
       "      <td>0.0</td>\n",
       "      <td>0.0</td>\n",
       "      <td>20.0</td>\n",
       "    </tr>\n",
       "    <tr>\n",
       "      <td>j04_p1_g2_count</td>\n",
       "      <td>7.0</td>\n",
       "      <td>7.0</td>\n",
       "      <td>6.0</td>\n",
       "    </tr>\n",
       "    <tr>\n",
       "      <td>j04_p2_g2_count</td>\n",
       "      <td>9.0</td>\n",
       "      <td>5.0</td>\n",
       "      <td>6.0</td>\n",
       "    </tr>\n",
       "    <tr>\n",
       "      <td>j05_p1_g2_count</td>\n",
       "      <td>5.0</td>\n",
       "      <td>3.0</td>\n",
       "      <td>12.0</td>\n",
       "    </tr>\n",
       "    <tr>\n",
       "      <td>j05_p2_g2_count</td>\n",
       "      <td>2.0</td>\n",
       "      <td>8.0</td>\n",
       "      <td>10.0</td>\n",
       "    </tr>\n",
       "    <tr>\n",
       "      <td>j06_p1_g2_count</td>\n",
       "      <td>2.0</td>\n",
       "      <td>9.0</td>\n",
       "      <td>9.0</td>\n",
       "    </tr>\n",
       "    <tr>\n",
       "      <td>j06_p2_g2_count</td>\n",
       "      <td>2.0</td>\n",
       "      <td>6.0</td>\n",
       "      <td>12.0</td>\n",
       "    </tr>\n",
       "    <tr>\n",
       "      <td>j07_p1_g1_count</td>\n",
       "      <td>2.0</td>\n",
       "      <td>1.0</td>\n",
       "      <td>17.0</td>\n",
       "    </tr>\n",
       "    <tr>\n",
       "      <td>j07_p1_g2_count</td>\n",
       "      <td>2.0</td>\n",
       "      <td>9.0</td>\n",
       "      <td>9.0</td>\n",
       "    </tr>\n",
       "    <tr>\n",
       "      <td>j08_p1_g2_count</td>\n",
       "      <td>2.0</td>\n",
       "      <td>2.0</td>\n",
       "      <td>16.0</td>\n",
       "    </tr>\n",
       "    <tr>\n",
       "      <td>j08_p2_g2_count</td>\n",
       "      <td>6.0</td>\n",
       "      <td>6.0</td>\n",
       "      <td>8.0</td>\n",
       "    </tr>\n",
       "    <tr>\n",
       "      <td>j10_p1_g2_count</td>\n",
       "      <td>5.0</td>\n",
       "      <td>8.0</td>\n",
       "      <td>7.0</td>\n",
       "    </tr>\n",
       "    <tr>\n",
       "      <td>j10_p2_g2_count</td>\n",
       "      <td>10.0</td>\n",
       "      <td>1.0</td>\n",
       "      <td>9.0</td>\n",
       "    </tr>\n",
       "    <tr>\n",
       "      <td>j11_p1_g2_count</td>\n",
       "      <td>0.0</td>\n",
       "      <td>5.0</td>\n",
       "      <td>15.0</td>\n",
       "    </tr>\n",
       "    <tr>\n",
       "      <td>j11_p2_g2_count</td>\n",
       "      <td>0.0</td>\n",
       "      <td>0.0</td>\n",
       "      <td>20.0</td>\n",
       "    </tr>\n",
       "  </tbody>\n",
       "</table>\n",
       "</div>"
      ],
      "text/plain": [
       "                   30   60    90\n",
       "j01_p1_g2_count   3.0  6.0  11.0\n",
       "j01_p2_g2_count   5.0  7.0   8.0\n",
       "j02_p1_g2_count   6.0  6.0   8.0\n",
       "j02_p2_g2_count   4.0  8.0   8.0\n",
       "j03_p1_g2_count   3.0  5.0  12.0\n",
       "j03_p2_g2_count   0.0  0.0  20.0\n",
       "j04_p1_g2_count   7.0  7.0   6.0\n",
       "j04_p2_g2_count   9.0  5.0   6.0\n",
       "j05_p1_g2_count   5.0  3.0  12.0\n",
       "j05_p2_g2_count   2.0  8.0  10.0\n",
       "j06_p1_g2_count   2.0  9.0   9.0\n",
       "j06_p2_g2_count   2.0  6.0  12.0\n",
       "j07_p1_g1_count   2.0  1.0  17.0\n",
       "j07_p1_g2_count   2.0  9.0   9.0\n",
       "j08_p1_g2_count   2.0  2.0  16.0\n",
       "j08_p2_g2_count   6.0  6.0   8.0\n",
       "j10_p1_g2_count   5.0  8.0   7.0\n",
       "j10_p2_g2_count  10.0  1.0   9.0\n",
       "j11_p1_g2_count   0.0  5.0  15.0\n",
       "j11_p2_g2_count   0.0  0.0  20.0"
      ]
     },
     "execution_count": 342,
     "metadata": {},
     "output_type": "execute_result"
    }
   ],
   "source": [
    "j_g2_counts = j_g2_counts.fillna(0)\n",
    "j_g2_counts "
   ]
  },
  {
   "cell_type": "code",
   "execution_count": 343,
   "metadata": {},
   "outputs": [
    {
     "data": {
      "text/plain": [
       "j01_p1_g2_count    20.0\n",
       "j01_p2_g2_count    20.0\n",
       "j02_p1_g2_count    20.0\n",
       "j02_p2_g2_count    20.0\n",
       "j03_p1_g2_count    20.0\n",
       "j03_p2_g2_count    20.0\n",
       "j04_p1_g2_count    20.0\n",
       "j04_p2_g2_count    20.0\n",
       "j05_p1_g2_count    20.0\n",
       "j05_p2_g2_count    20.0\n",
       "j06_p1_g2_count    20.0\n",
       "j06_p2_g2_count    20.0\n",
       "j07_p1_g1_count    20.0\n",
       "j07_p1_g2_count    20.0\n",
       "j08_p1_g2_count    20.0\n",
       "j08_p2_g2_count    20.0\n",
       "j10_p1_g2_count    20.0\n",
       "j10_p2_g2_count    20.0\n",
       "j11_p1_g2_count    20.0\n",
       "j11_p2_g2_count    20.0\n",
       "dtype: float64"
      ]
     },
     "execution_count": 343,
     "metadata": {},
     "output_type": "execute_result"
    }
   ],
   "source": [
    "j_g2_counts.sum(axis=1)"
   ]
  },
  {
   "cell_type": "code",
   "execution_count": 344,
   "metadata": {
    "scrolled": true
   },
   "outputs": [
    {
     "data": {
      "image/png": "[encoded data removed]",
      "text/plain": [
       "<Figure size 432x288 with 1 Axes>"
      ]
     },
     "metadata": {
      "needs_background": "light"
     },
     "output_type": "display_data"
    }
   ],
   "source": [
    "j_g2_counts_bar = j_g2_counts.plot.bar()"
   ]
  },
  {
   "cell_type": "code",
   "execution_count": 345,
   "metadata": {},
   "outputs": [
    {
     "data": {
      "image/png": "[encoded data removed]",
      "text/plain": [
       "<Figure size 432x288 with 1 Axes>"
      ]
     },
     "metadata": {
      "needs_background": "light"
     },
     "output_type": "display_data"
    }
   ],
   "source": [
    "j_g2_counts_box = sns.boxplot( \n",
    "                 data=j_g2_counts, \n",
    "                 width=0.5,\n",
    "                 palette=\"pastel\")\n",
    "j_g2_counts_box.axes.set_title(\"Combined Joint Player Choice Distributions in Game 2\",\n",
    "                    fontsize=16)\n",
    "\n",
    "plot_file_name=\"j_g2_counts_box.jpg\"\n",
    " \n",
    "plt.ylim(0, 100)\n",
    "j_g2_counts_box.axes.set(xlabel='Arm',ylabel='Frequency')\n",
    "\n",
    "# save as jpeg\n",
    "j_g2_counts_box.figure.savefig(plot_file_name,\n",
    "                    format='jpeg',\n",
    "                    dpi=100)"
   ]
  },
  {
   "cell_type": "code",
   "execution_count": 346,
   "metadata": {},
   "outputs": [],
   "source": [
    "j_g2_low = np.mean(j_g2_counts.iloc[:,0])\n",
    "j_g2_med = np.mean(j_g2_counts.iloc[:,1])\n",
    "j_g2_high = np.mean(j_g2_counts.iloc[:,2])"
   ]
  },
  {
   "cell_type": "code",
   "execution_count": 347,
   "metadata": {},
   "outputs": [
    {
     "data": {
      "text/plain": [
       "3.75"
      ]
     },
     "execution_count": 347,
     "metadata": {},
     "output_type": "execute_result"
    }
   ],
   "source": [
    "j_g2_low"
   ]
  },
  {
   "cell_type": "code",
   "execution_count": 348,
   "metadata": {},
   "outputs": [
    {
     "data": {
      "text/plain": [
       "5.1"
      ]
     },
     "execution_count": 348,
     "metadata": {},
     "output_type": "execute_result"
    }
   ],
   "source": [
    "j_g2_med"
   ]
  },
  {
   "cell_type": "code",
   "execution_count": 349,
   "metadata": {},
   "outputs": [
    {
     "data": {
      "text/plain": [
       "11.15"
      ]
     },
     "execution_count": 349,
     "metadata": {},
     "output_type": "execute_result"
    }
   ],
   "source": [
    "j_g2_high"
   ]
  },
  {
   "cell_type": "code",
   "execution_count": 350,
   "metadata": {},
   "outputs": [],
   "source": [
    "j_g2_low_std = np.std(j_g2_counts.iloc[:,0])\n",
    "j_g2_med_std = np.std(j_g2_counts.iloc[:,1])\n",
    "j_g2_high_std = np.std(j_g2_counts.iloc[:,2])"
   ]
  },
  {
   "cell_type": "code",
   "execution_count": 351,
   "metadata": {},
   "outputs": [
    {
     "data": {
      "text/plain": [
       "2.7726341266023544"
      ]
     },
     "execution_count": 351,
     "metadata": {},
     "output_type": "execute_result"
    }
   ],
   "source": [
    "j_g2_low_std"
   ]
  },
  {
   "cell_type": "code",
   "execution_count": 352,
   "metadata": {},
   "outputs": [
    {
     "data": {
      "text/plain": [
       "2.8792360097775935"
      ]
     },
     "execution_count": 352,
     "metadata": {},
     "output_type": "execute_result"
    }
   ],
   "source": [
    "j_g2_med_std"
   ]
  },
  {
   "cell_type": "code",
   "execution_count": 353,
   "metadata": {
    "scrolled": false
   },
   "outputs": [
    {
     "data": {
      "text/plain": [
       "4.222262426709169"
      ]
     },
     "execution_count": 353,
     "metadata": {},
     "output_type": "execute_result"
    }
   ],
   "source": [
    "j_g2_high_std"
   ]
  },
  {
   "cell_type": "markdown",
   "metadata": {},
   "source": [
    "# Joint combined arrays"
   ]
  },
  {
   "cell_type": "code",
   "execution_count": 354,
   "metadata": {},
   "outputs": [],
   "source": [
    "#pip install researchpy"
   ]
  },
  {
   "cell_type": "code",
   "execution_count": 355,
   "metadata": {},
   "outputs": [],
   "source": [
    "import researchpy as rp"
   ]
  },
  {
   "cell_type": "code",
   "execution_count": 356,
   "metadata": {},
   "outputs": [],
   "source": [
    "j_90_1 = np.array(j_g1_counts.iloc[:,2])\n",
    "j_90_2 = np.array(j_g2_counts.iloc[:,2])"
   ]
  },
  {
   "cell_type": "code",
   "execution_count": 357,
   "metadata": {},
   "outputs": [
    {
     "data": {
      "text/plain": [
       "array([ 6.,  5.,  5., 10.,  7.,  6.,  5.,  9., 16., 11.,  3.,  5., 10.,\n",
       "       15.,  7.,  6.,  7., 10., 12., 17.])"
      ]
     },
     "execution_count": 357,
     "metadata": {},
     "output_type": "execute_result"
    }
   ],
   "source": [
    "j_90_1"
   ]
  },
  {
   "cell_type": "code",
   "execution_count": 358,
   "metadata": {
    "scrolled": true
   },
   "outputs": [
    {
     "data": {
      "text/plain": [
       "array([11.,  8.,  8.,  8., 12., 20.,  6.,  6., 12., 10.,  9., 12., 17.,\n",
       "        9., 16.,  8.,  7.,  9., 15., 20.])"
      ]
     },
     "execution_count": 358,
     "metadata": {},
     "output_type": "execute_result"
    }
   ],
   "source": [
    "j_90_2"
   ]
  },
  {
   "cell_type": "code",
   "execution_count": 359,
   "metadata": {},
   "outputs": [],
   "source": [
    "j_60_1 = np.array(j_g1_counts.iloc[:,1])\n",
    "j_60_2 = np.array(j_g2_counts.iloc[:,1])"
   ]
  },
  {
   "cell_type": "code",
   "execution_count": 360,
   "metadata": {},
   "outputs": [
    {
     "data": {
      "text/plain": [
       "array([ 6.,  8.,  8.,  5.,  6.,  5.,  8.,  1.,  4.,  6.,  8.,  2., 10.,\n",
       "        2.,  8.,  2.,  6.,  6.,  8.,  3.])"
      ]
     },
     "execution_count": 360,
     "metadata": {},
     "output_type": "execute_result"
    }
   ],
   "source": [
    "j_60_1"
   ]
  },
  {
   "cell_type": "code",
   "execution_count": 361,
   "metadata": {},
   "outputs": [
    {
     "data": {
      "text/plain": [
       "array([6., 7., 6., 8., 5., 0., 7., 5., 3., 8., 9., 6., 1., 9., 2., 6., 8.,\n",
       "       1., 5., 0.])"
      ]
     },
     "execution_count": 361,
     "metadata": {},
     "output_type": "execute_result"
    }
   ],
   "source": [
    "j_60_2"
   ]
  },
  {
   "cell_type": "code",
   "execution_count": 362,
   "metadata": {},
   "outputs": [],
   "source": [
    "j_30_1 = np.array(j_g1_counts.iloc[:,0])\n",
    "j_30_2 = np.array(j_g2_counts.iloc[:,0])"
   ]
  },
  {
   "cell_type": "code",
   "execution_count": 363,
   "metadata": {},
   "outputs": [
    {
     "data": {
      "text/plain": [
       "array([ 8.,  7.,  7.,  5.,  7.,  9.,  7., 10.,  0.,  3.,  9., 13.,  0.,\n",
       "        3.,  5., 12.,  7.,  4.,  0.,  0.])"
      ]
     },
     "execution_count": 363,
     "metadata": {},
     "output_type": "execute_result"
    }
   ],
   "source": [
    "j_30_1"
   ]
  },
  {
   "cell_type": "code",
   "execution_count": 364,
   "metadata": {},
   "outputs": [
    {
     "data": {
      "text/plain": [
       "array([ 3.,  5.,  6.,  4.,  3.,  0.,  7.,  9.,  5.,  2.,  2.,  2.,  2.,\n",
       "        2.,  2.,  6.,  5., 10.,  0.,  0.])"
      ]
     },
     "execution_count": 364,
     "metadata": {},
     "output_type": "execute_result"
    }
   ],
   "source": [
    "j_30_2"
   ]
  },
  {
   "cell_type": "markdown",
   "metadata": {},
   "source": [
    "# Joint combined choice statistics"
   ]
  },
  {
   "cell_type": "code",
   "execution_count": 365,
   "metadata": {},
   "outputs": [],
   "source": [
    "j_90_p = sp.stats.ttest_rel(j_90_1,j_90_2)\n",
    "j_60_p = sp.stats.ttest_rel(j_60_1,j_60_2)\n",
    "j_30_p = sp.stats.ttest_rel(j_30_1,j_30_2)"
   ]
  },
  {
   "cell_type": "code",
   "execution_count": 366,
   "metadata": {},
   "outputs": [
    {
     "data": {
      "text/plain": [
       "Ttest_relResult(statistic=-2.372599595707988, pvalue=0.028373892619935115)"
      ]
     },
     "execution_count": 366,
     "metadata": {},
     "output_type": "execute_result"
    }
   ],
   "source": [
    "j_90_p"
   ]
  },
  {
   "cell_type": "code",
   "execution_count": 367,
   "metadata": {},
   "outputs": [
    {
     "data": {
      "text/plain": [
       "Ttest_relResult(statistic=0.5599387048019752, pvalue=0.5820634404683647)"
      ]
     },
     "execution_count": 367,
     "metadata": {},
     "output_type": "execute_result"
    }
   ],
   "source": [
    "j_60_p"
   ]
  },
  {
   "cell_type": "code",
   "execution_count": 368,
   "metadata": {},
   "outputs": [
    {
     "data": {
      "text/plain": [
       "Ttest_relResult(statistic=2.1966682183524817, pvalue=0.0406531924718944)"
      ]
     },
     "execution_count": 368,
     "metadata": {},
     "output_type": "execute_result"
    }
   ],
   "source": [
    "j_30_p"
   ]
  },
  {
   "cell_type": "code",
   "execution_count": 369,
   "metadata": {},
   "outputs": [],
   "source": [
    "#maximizing and matching?"
   ]
  },
  {
   "cell_type": "markdown",
   "metadata": {},
   "source": [
    "# Multi Analysis"
   ]
  },
  {
   "cell_type": "code",
   "execution_count": 370,
   "metadata": {
    "scrolled": true
   },
   "outputs": [
    {
     "data": {
      "text/html": [
       "<div>\n",
       "<style scoped>\n",
       "    .dataframe tbody tr th:only-of-type {\n",
       "        vertical-align: middle;\n",
       "    }\n",
       "\n",
       "    .dataframe tbody tr th {\n",
       "        vertical-align: top;\n",
       "    }\n",
       "\n",
       "    .dataframe thead th {\n",
       "        text-align: right;\n",
       "    }\n",
       "</style>\n",
       "<table border=\"1\" class=\"dataframe\">\n",
       "  <thead>\n",
       "    <tr style=\"text-align: right;\">\n",
       "      <th></th>\n",
       "      <th>game number</th>\n",
       "      <th>trial</th>\n",
       "      <th>player</th>\n",
       "      <th>arm</th>\n",
       "      <th>probability</th>\n",
       "      <th>P1 score</th>\n",
       "      <th>P2 score</th>\n",
       "    </tr>\n",
       "  </thead>\n",
       "  <tbody>\n",
       "    <tr>\n",
       "      <td>0</td>\n",
       "      <td>1</td>\n",
       "      <td>1</td>\n",
       "      <td>1</td>\n",
       "      <td>3</td>\n",
       "      <td>30</td>\n",
       "      <td>1</td>\n",
       "      <td>0</td>\n",
       "    </tr>\n",
       "    <tr>\n",
       "      <td>1</td>\n",
       "      <td>1</td>\n",
       "      <td>1</td>\n",
       "      <td>2</td>\n",
       "      <td>2</td>\n",
       "      <td>60</td>\n",
       "      <td>1</td>\n",
       "      <td>1</td>\n",
       "    </tr>\n",
       "    <tr>\n",
       "      <td>2</td>\n",
       "      <td>1</td>\n",
       "      <td>2</td>\n",
       "      <td>1</td>\n",
       "      <td>3</td>\n",
       "      <td>30</td>\n",
       "      <td>2</td>\n",
       "      <td>1</td>\n",
       "    </tr>\n",
       "    <tr>\n",
       "      <td>3</td>\n",
       "      <td>1</td>\n",
       "      <td>2</td>\n",
       "      <td>2</td>\n",
       "      <td>2</td>\n",
       "      <td>60</td>\n",
       "      <td>2</td>\n",
       "      <td>2</td>\n",
       "    </tr>\n",
       "    <tr>\n",
       "      <td>4</td>\n",
       "      <td>1</td>\n",
       "      <td>3</td>\n",
       "      <td>1</td>\n",
       "      <td>1</td>\n",
       "      <td>90</td>\n",
       "      <td>3</td>\n",
       "      <td>2</td>\n",
       "    </tr>\n",
       "  </tbody>\n",
       "</table>\n",
       "</div>"
      ],
      "text/plain": [
       "   game number  trial  player  arm  probability  P1 score  P2 score\n",
       "0            1      1       1    3           30         1         0\n",
       "1            1      1       2    2           60         1         1\n",
       "2            1      2       1    3           30         2         1\n",
       "3            1      2       2    2           60         2         2\n",
       "4            1      3       1    1           90         3         2"
      ]
     },
     "execution_count": 370,
     "metadata": {},
     "output_type": "execute_result"
    }
   ],
   "source": [
    "df = organize_trial_by_trial('data/m05_gamedata.csv')\n",
    "m05 = df\n",
    "m05_p1_g1_score,m05_p1_g2_score,m05_p2_g1_score,m05_p2_g2_score,m05_p1_score_diff,m05_p2_score_diff = call_get_score(m05, 'm')\n",
    "m05.head()"
   ]
  },
  {
   "cell_type": "code",
   "execution_count": 371,
   "metadata": {},
   "outputs": [
    {
     "data": {
      "text/html": [
       "<div>\n",
       "<style scoped>\n",
       "    .dataframe tbody tr th:only-of-type {\n",
       "        vertical-align: middle;\n",
       "    }\n",
       "\n",
       "    .dataframe tbody tr th {\n",
       "        vertical-align: top;\n",
       "    }\n",
       "\n",
       "    .dataframe thead th {\n",
       "        text-align: right;\n",
       "    }\n",
       "</style>\n",
       "<table border=\"1\" class=\"dataframe\">\n",
       "  <thead>\n",
       "    <tr style=\"text-align: right;\">\n",
       "      <th></th>\n",
       "      <th>game number</th>\n",
       "      <th>trial</th>\n",
       "      <th>player</th>\n",
       "      <th>arm</th>\n",
       "      <th>probability</th>\n",
       "      <th>P1 score</th>\n",
       "      <th>P2 score</th>\n",
       "    </tr>\n",
       "  </thead>\n",
       "  <tbody>\n",
       "    <tr>\n",
       "      <td>1</td>\n",
       "      <td>1</td>\n",
       "      <td>1</td>\n",
       "      <td>2</td>\n",
       "      <td>2</td>\n",
       "      <td>30</td>\n",
       "      <td>1</td>\n",
       "      <td>0</td>\n",
       "    </tr>\n",
       "    <tr>\n",
       "      <td>2</td>\n",
       "      <td>1</td>\n",
       "      <td>2</td>\n",
       "      <td>1</td>\n",
       "      <td>1</td>\n",
       "      <td>90</td>\n",
       "      <td>1</td>\n",
       "      <td>0</td>\n",
       "    </tr>\n",
       "    <tr>\n",
       "      <td>3</td>\n",
       "      <td>1</td>\n",
       "      <td>3</td>\n",
       "      <td>2</td>\n",
       "      <td>2</td>\n",
       "      <td>30</td>\n",
       "      <td>2</td>\n",
       "      <td>0</td>\n",
       "    </tr>\n",
       "    <tr>\n",
       "      <td>4</td>\n",
       "      <td>1</td>\n",
       "      <td>4</td>\n",
       "      <td>1</td>\n",
       "      <td>2</td>\n",
       "      <td>60</td>\n",
       "      <td>2</td>\n",
       "      <td>0</td>\n",
       "    </tr>\n",
       "    <tr>\n",
       "      <td>5</td>\n",
       "      <td>1</td>\n",
       "      <td>5</td>\n",
       "      <td>2</td>\n",
       "      <td>1</td>\n",
       "      <td>90</td>\n",
       "      <td>3</td>\n",
       "      <td>0</td>\n",
       "    </tr>\n",
       "  </tbody>\n",
       "</table>\n",
       "</div>"
      ],
      "text/plain": [
       "   game number  trial  player  arm  probability  P1 score  P2 score\n",
       "1            1      1       2    2           30         1         0\n",
       "2            1      2       1    1           90         1         0\n",
       "3            1      3       2    2           30         2         0\n",
       "4            1      4       1    2           60         2         0\n",
       "5            1      5       2    1           90         3         0"
      ]
     },
     "execution_count": 371,
     "metadata": {},
     "output_type": "execute_result"
    }
   ],
   "source": [
    "df = organize_trial_by_trial_floatclick('data/m06_gamedata.csv')\n",
    "m06 = df\n",
    "m06_p1_g1_score,m06_p1_g2_score,m06_p2_g1_score,m06_p2_g2_score,m06_p1_score_diff,m06_p2_score_diff = call_get_score(m06, 'm')\n",
    "m06.head()"
   ]
  },
  {
   "cell_type": "code",
   "execution_count": 372,
   "metadata": {},
   "outputs": [
    {
     "data": {
      "text/html": [
       "<div>\n",
       "<style scoped>\n",
       "    .dataframe tbody tr th:only-of-type {\n",
       "        vertical-align: middle;\n",
       "    }\n",
       "\n",
       "    .dataframe tbody tr th {\n",
       "        vertical-align: top;\n",
       "    }\n",
       "\n",
       "    .dataframe thead th {\n",
       "        text-align: right;\n",
       "    }\n",
       "</style>\n",
       "<table border=\"1\" class=\"dataframe\">\n",
       "  <thead>\n",
       "    <tr style=\"text-align: right;\">\n",
       "      <th></th>\n",
       "      <th>game number</th>\n",
       "      <th>trial</th>\n",
       "      <th>player</th>\n",
       "      <th>arm</th>\n",
       "      <th>probability</th>\n",
       "      <th>P1 score</th>\n",
       "      <th>P2 score</th>\n",
       "    </tr>\n",
       "  </thead>\n",
       "  <tbody>\n",
       "    <tr>\n",
       "      <td>1</td>\n",
       "      <td>1</td>\n",
       "      <td>1</td>\n",
       "      <td>2</td>\n",
       "      <td>2</td>\n",
       "      <td>60</td>\n",
       "      <td>1</td>\n",
       "      <td>0</td>\n",
       "    </tr>\n",
       "    <tr>\n",
       "      <td>2</td>\n",
       "      <td>1</td>\n",
       "      <td>2</td>\n",
       "      <td>1</td>\n",
       "      <td>1</td>\n",
       "      <td>90</td>\n",
       "      <td>1</td>\n",
       "      <td>1</td>\n",
       "    </tr>\n",
       "    <tr>\n",
       "      <td>3</td>\n",
       "      <td>1</td>\n",
       "      <td>3</td>\n",
       "      <td>2</td>\n",
       "      <td>2</td>\n",
       "      <td>60</td>\n",
       "      <td>2</td>\n",
       "      <td>1</td>\n",
       "    </tr>\n",
       "    <tr>\n",
       "      <td>4</td>\n",
       "      <td>1</td>\n",
       "      <td>4</td>\n",
       "      <td>1</td>\n",
       "      <td>2</td>\n",
       "      <td>60</td>\n",
       "      <td>2</td>\n",
       "      <td>2</td>\n",
       "    </tr>\n",
       "    <tr>\n",
       "      <td>5</td>\n",
       "      <td>1</td>\n",
       "      <td>5</td>\n",
       "      <td>2</td>\n",
       "      <td>1</td>\n",
       "      <td>30</td>\n",
       "      <td>2</td>\n",
       "      <td>2</td>\n",
       "    </tr>\n",
       "  </tbody>\n",
       "</table>\n",
       "</div>"
      ],
      "text/plain": [
       "   game number  trial  player  arm  probability  P1 score  P2 score\n",
       "1            1      1       2    2           60         1         0\n",
       "2            1      2       1    1           90         1         1\n",
       "3            1      3       2    2           60         2         1\n",
       "4            1      4       1    2           60         2         2\n",
       "5            1      5       2    1           30         2         2"
      ]
     },
     "execution_count": 372,
     "metadata": {},
     "output_type": "execute_result"
    }
   ],
   "source": [
    "df = organize_trial_by_trial_floatclick('data/m08_gamedata.csv')\n",
    "m08 = df\n",
    "m08_p1_g1_score,m08_p1_g2_score,m08_p2_g1_score,m08_p2_g2_score,m08_p1_score_diff,m08_p2_score_diff = call_get_score(m08, 'm')\n",
    "m08.head()"
   ]
  },
  {
   "cell_type": "code",
   "execution_count": 373,
   "metadata": {},
   "outputs": [],
   "source": [
    "#df = organize_trial_by_trial_floatclick('data/m09_gamedata.csv')\n",
    "#m09 = df\n",
    "#m09_p1_g1_score,m09_p1_g2_score,m09_p2_g1_score,m09_p2_g2_score,m09_p1_score_diff,m09_p2_score_diff = call_get_score(m09, 'm')\n",
    "#m09.head()"
   ]
  },
  {
   "cell_type": "code",
   "execution_count": 374,
   "metadata": {},
   "outputs": [
    {
     "data": {
      "text/html": [
       "<div>\n",
       "<style scoped>\n",
       "    .dataframe tbody tr th:only-of-type {\n",
       "        vertical-align: middle;\n",
       "    }\n",
       "\n",
       "    .dataframe tbody tr th {\n",
       "        vertical-align: top;\n",
       "    }\n",
       "\n",
       "    .dataframe thead th {\n",
       "        text-align: right;\n",
       "    }\n",
       "</style>\n",
       "<table border=\"1\" class=\"dataframe\">\n",
       "  <thead>\n",
       "    <tr style=\"text-align: right;\">\n",
       "      <th></th>\n",
       "      <th>game number</th>\n",
       "      <th>trial</th>\n",
       "      <th>player</th>\n",
       "      <th>arm</th>\n",
       "      <th>probability</th>\n",
       "      <th>P1 score</th>\n",
       "      <th>P2 score</th>\n",
       "    </tr>\n",
       "  </thead>\n",
       "  <tbody>\n",
       "    <tr>\n",
       "      <td>1</td>\n",
       "      <td>1</td>\n",
       "      <td>1</td>\n",
       "      <td>2</td>\n",
       "      <td>2</td>\n",
       "      <td>60</td>\n",
       "      <td>1</td>\n",
       "      <td>0</td>\n",
       "    </tr>\n",
       "    <tr>\n",
       "      <td>2</td>\n",
       "      <td>1</td>\n",
       "      <td>2</td>\n",
       "      <td>1</td>\n",
       "      <td>1</td>\n",
       "      <td>90</td>\n",
       "      <td>1</td>\n",
       "      <td>1</td>\n",
       "    </tr>\n",
       "    <tr>\n",
       "      <td>3</td>\n",
       "      <td>1</td>\n",
       "      <td>3</td>\n",
       "      <td>2</td>\n",
       "      <td>2</td>\n",
       "      <td>60</td>\n",
       "      <td>2</td>\n",
       "      <td>1</td>\n",
       "    </tr>\n",
       "    <tr>\n",
       "      <td>4</td>\n",
       "      <td>1</td>\n",
       "      <td>4</td>\n",
       "      <td>1</td>\n",
       "      <td>2</td>\n",
       "      <td>60</td>\n",
       "      <td>2</td>\n",
       "      <td>2</td>\n",
       "    </tr>\n",
       "    <tr>\n",
       "      <td>5</td>\n",
       "      <td>1</td>\n",
       "      <td>5</td>\n",
       "      <td>2</td>\n",
       "      <td>1</td>\n",
       "      <td>30</td>\n",
       "      <td>2</td>\n",
       "      <td>2</td>\n",
       "    </tr>\n",
       "  </tbody>\n",
       "</table>\n",
       "</div>"
      ],
      "text/plain": [
       "   game number  trial  player  arm  probability  P1 score  P2 score\n",
       "1            1      1       2    2           60         1         0\n",
       "2            1      2       1    1           90         1         1\n",
       "3            1      3       2    2           60         2         1\n",
       "4            1      4       1    2           60         2         2\n",
       "5            1      5       2    1           30         2         2"
      ]
     },
     "execution_count": 374,
     "metadata": {},
     "output_type": "execute_result"
    }
   ],
   "source": [
    "df = organize_trial_by_trial_floatclick('data/m10_gamedata.csv')\n",
    "m10 = df\n",
    "m10_p1_g1_score,m10_p1_g2_score,m10_p2_g1_score,m10_p2_g2_score,m10_p1_score_diff,m10_p2_score_diff = call_get_score(m10, 'm')\n",
    "m10.head()"
   ]
  },
  {
   "cell_type": "code",
   "execution_count": 375,
   "metadata": {},
   "outputs": [
    {
     "data": {
      "text/html": [
       "<div>\n",
       "<style scoped>\n",
       "    .dataframe tbody tr th:only-of-type {\n",
       "        vertical-align: middle;\n",
       "    }\n",
       "\n",
       "    .dataframe tbody tr th {\n",
       "        vertical-align: top;\n",
       "    }\n",
       "\n",
       "    .dataframe thead th {\n",
       "        text-align: right;\n",
       "    }\n",
       "</style>\n",
       "<table border=\"1\" class=\"dataframe\">\n",
       "  <thead>\n",
       "    <tr style=\"text-align: right;\">\n",
       "      <th></th>\n",
       "      <th>game number</th>\n",
       "      <th>trial</th>\n",
       "      <th>player</th>\n",
       "      <th>arm</th>\n",
       "      <th>probability</th>\n",
       "      <th>P1 score</th>\n",
       "      <th>P2 score</th>\n",
       "    </tr>\n",
       "  </thead>\n",
       "  <tbody>\n",
       "    <tr>\n",
       "      <td>1</td>\n",
       "      <td>1</td>\n",
       "      <td>1</td>\n",
       "      <td>2</td>\n",
       "      <td>2</td>\n",
       "      <td>60</td>\n",
       "      <td>1</td>\n",
       "      <td>0</td>\n",
       "    </tr>\n",
       "    <tr>\n",
       "      <td>2</td>\n",
       "      <td>1</td>\n",
       "      <td>2</td>\n",
       "      <td>1</td>\n",
       "      <td>1</td>\n",
       "      <td>90</td>\n",
       "      <td>1</td>\n",
       "      <td>1</td>\n",
       "    </tr>\n",
       "    <tr>\n",
       "      <td>3</td>\n",
       "      <td>1</td>\n",
       "      <td>3</td>\n",
       "      <td>2</td>\n",
       "      <td>3</td>\n",
       "      <td>90</td>\n",
       "      <td>2</td>\n",
       "      <td>1</td>\n",
       "    </tr>\n",
       "    <tr>\n",
       "      <td>4</td>\n",
       "      <td>1</td>\n",
       "      <td>4</td>\n",
       "      <td>1</td>\n",
       "      <td>3</td>\n",
       "      <td>30</td>\n",
       "      <td>2</td>\n",
       "      <td>2</td>\n",
       "    </tr>\n",
       "    <tr>\n",
       "      <td>5</td>\n",
       "      <td>1</td>\n",
       "      <td>5</td>\n",
       "      <td>2</td>\n",
       "      <td>3</td>\n",
       "      <td>90</td>\n",
       "      <td>3</td>\n",
       "      <td>2</td>\n",
       "    </tr>\n",
       "  </tbody>\n",
       "</table>\n",
       "</div>"
      ],
      "text/plain": [
       "   game number  trial  player  arm  probability  P1 score  P2 score\n",
       "1            1      1       2    2           60         1         0\n",
       "2            1      2       1    1           90         1         1\n",
       "3            1      3       2    3           90         2         1\n",
       "4            1      4       1    3           30         2         2\n",
       "5            1      5       2    3           90         3         2"
      ]
     },
     "execution_count": 375,
     "metadata": {},
     "output_type": "execute_result"
    }
   ],
   "source": [
    "df = organize_trial_by_trial_floatclick('data/m11_gamedata.csv')\n",
    "m11 = df\n",
    "m11_p1_g1_score,m11_p1_g2_score,m11_p2_g1_score,m11_p2_g2_score,m11_p1_score_diff,m11_p2_score_diff = call_get_score(m11, 'm')\n",
    "m11.head()"
   ]
  },
  {
   "cell_type": "code",
   "execution_count": 376,
   "metadata": {},
   "outputs": [],
   "source": [
    "#df = organize_trial_by_trial_floatclick('data/m12_gamedata.csv')\n",
    "#m12 = df\n",
    "#m12_p1_g1_score,m12_p1_g2_score,m12_p2_g1_score,m12_p2_g2_score,m12_p1_score_diff,m12_p2_score_diff = call_get_score(m12, 'm')\n",
    "#m12.head()"
   ]
  },
  {
   "cell_type": "code",
   "execution_count": 377,
   "metadata": {},
   "outputs": [
    {
     "data": {
      "text/html": [
       "<div>\n",
       "<style scoped>\n",
       "    .dataframe tbody tr th:only-of-type {\n",
       "        vertical-align: middle;\n",
       "    }\n",
       "\n",
       "    .dataframe tbody tr th {\n",
       "        vertical-align: top;\n",
       "    }\n",
       "\n",
       "    .dataframe thead th {\n",
       "        text-align: right;\n",
       "    }\n",
       "</style>\n",
       "<table border=\"1\" class=\"dataframe\">\n",
       "  <thead>\n",
       "    <tr style=\"text-align: right;\">\n",
       "      <th></th>\n",
       "      <th>game number</th>\n",
       "      <th>trial</th>\n",
       "      <th>player</th>\n",
       "      <th>arm</th>\n",
       "      <th>probability</th>\n",
       "      <th>P1 score</th>\n",
       "      <th>P2 score</th>\n",
       "    </tr>\n",
       "  </thead>\n",
       "  <tbody>\n",
       "    <tr>\n",
       "      <td>1</td>\n",
       "      <td>1</td>\n",
       "      <td>1</td>\n",
       "      <td>2</td>\n",
       "      <td>3</td>\n",
       "      <td>90</td>\n",
       "      <td>1</td>\n",
       "      <td>0</td>\n",
       "    </tr>\n",
       "    <tr>\n",
       "      <td>2</td>\n",
       "      <td>1</td>\n",
       "      <td>2</td>\n",
       "      <td>1</td>\n",
       "      <td>3</td>\n",
       "      <td>30</td>\n",
       "      <td>1</td>\n",
       "      <td>1</td>\n",
       "    </tr>\n",
       "    <tr>\n",
       "      <td>3</td>\n",
       "      <td>1</td>\n",
       "      <td>3</td>\n",
       "      <td>2</td>\n",
       "      <td>1</td>\n",
       "      <td>30</td>\n",
       "      <td>1</td>\n",
       "      <td>1</td>\n",
       "    </tr>\n",
       "    <tr>\n",
       "      <td>4</td>\n",
       "      <td>1</td>\n",
       "      <td>4</td>\n",
       "      <td>1</td>\n",
       "      <td>1</td>\n",
       "      <td>90</td>\n",
       "      <td>1</td>\n",
       "      <td>1</td>\n",
       "    </tr>\n",
       "    <tr>\n",
       "      <td>5</td>\n",
       "      <td>1</td>\n",
       "      <td>5</td>\n",
       "      <td>2</td>\n",
       "      <td>1</td>\n",
       "      <td>30</td>\n",
       "      <td>2</td>\n",
       "      <td>1</td>\n",
       "    </tr>\n",
       "  </tbody>\n",
       "</table>\n",
       "</div>"
      ],
      "text/plain": [
       "   game number  trial  player  arm  probability  P1 score  P2 score\n",
       "1            1      1       2    3           90         1         0\n",
       "2            1      2       1    3           30         1         1\n",
       "3            1      3       2    1           30         1         1\n",
       "4            1      4       1    1           90         1         1\n",
       "5            1      5       2    1           30         2         1"
      ]
     },
     "execution_count": 377,
     "metadata": {},
     "output_type": "execute_result"
    }
   ],
   "source": [
    "df = organize_trial_by_trial_floatclick('data/m13_gamedata.csv')\n",
    "m13 = df\n",
    "m13_p1_g1_score,m13_p1_g2_score,m13_p2_g1_score,m13_p2_g2_score,m13_p1_score_diff,m13_p2_score_diff = call_get_score(m13, 'm')\n",
    "m13.head()"
   ]
  },
  {
   "cell_type": "code",
   "execution_count": 378,
   "metadata": {},
   "outputs": [
    {
     "data": {
      "text/html": [
       "<div>\n",
       "<style scoped>\n",
       "    .dataframe tbody tr th:only-of-type {\n",
       "        vertical-align: middle;\n",
       "    }\n",
       "\n",
       "    .dataframe tbody tr th {\n",
       "        vertical-align: top;\n",
       "    }\n",
       "\n",
       "    .dataframe thead th {\n",
       "        text-align: right;\n",
       "    }\n",
       "</style>\n",
       "<table border=\"1\" class=\"dataframe\">\n",
       "  <thead>\n",
       "    <tr style=\"text-align: right;\">\n",
       "      <th></th>\n",
       "      <th>game number</th>\n",
       "      <th>trial</th>\n",
       "      <th>player</th>\n",
       "      <th>arm</th>\n",
       "      <th>probability</th>\n",
       "      <th>P1 score</th>\n",
       "      <th>P2 score</th>\n",
       "    </tr>\n",
       "  </thead>\n",
       "  <tbody>\n",
       "    <tr>\n",
       "      <td>1</td>\n",
       "      <td>1</td>\n",
       "      <td>1</td>\n",
       "      <td>2</td>\n",
       "      <td>3</td>\n",
       "      <td>60</td>\n",
       "      <td>1</td>\n",
       "      <td>0</td>\n",
       "    </tr>\n",
       "    <tr>\n",
       "      <td>2</td>\n",
       "      <td>1</td>\n",
       "      <td>2</td>\n",
       "      <td>1</td>\n",
       "      <td>3</td>\n",
       "      <td>30</td>\n",
       "      <td>1</td>\n",
       "      <td>1</td>\n",
       "    </tr>\n",
       "    <tr>\n",
       "      <td>3</td>\n",
       "      <td>1</td>\n",
       "      <td>3</td>\n",
       "      <td>2</td>\n",
       "      <td>3</td>\n",
       "      <td>60</td>\n",
       "      <td>2</td>\n",
       "      <td>1</td>\n",
       "    </tr>\n",
       "    <tr>\n",
       "      <td>4</td>\n",
       "      <td>1</td>\n",
       "      <td>4</td>\n",
       "      <td>1</td>\n",
       "      <td>1</td>\n",
       "      <td>90</td>\n",
       "      <td>2</td>\n",
       "      <td>1</td>\n",
       "    </tr>\n",
       "    <tr>\n",
       "      <td>5</td>\n",
       "      <td>1</td>\n",
       "      <td>5</td>\n",
       "      <td>2</td>\n",
       "      <td>2</td>\n",
       "      <td>90</td>\n",
       "      <td>3</td>\n",
       "      <td>1</td>\n",
       "    </tr>\n",
       "  </tbody>\n",
       "</table>\n",
       "</div>"
      ],
      "text/plain": [
       "   game number  trial  player  arm  probability  P1 score  P2 score\n",
       "1            1      1       2    3           60         1         0\n",
       "2            1      2       1    3           30         1         1\n",
       "3            1      3       2    3           60         2         1\n",
       "4            1      4       1    1           90         2         1\n",
       "5            1      5       2    2           90         3         1"
      ]
     },
     "execution_count": 378,
     "metadata": {},
     "output_type": "execute_result"
    }
   ],
   "source": [
    "df = organize_trial_by_trial_floatclick('data/m14_gamedata.csv')\n",
    "m14 = df\n",
    "m14_p1_g1_score,m14_p1_g2_score,m14_p2_g1_score,m14_p2_g2_score,m14_p1_score_diff,m14_p2_score_diff = call_get_score(m14, 'm')\n",
    "m14.head()"
   ]
  },
  {
   "cell_type": "code",
   "execution_count": 379,
   "metadata": {
    "scrolled": true
   },
   "outputs": [
    {
     "name": "stderr",
     "output_type": "stream",
     "text": [
      "/Users/simonefroley/opt/anaconda3/lib/python3.7/site-packages/ipykernel_launcher.py:5: UserWarning: Boolean Series key will be reindexed to match DataFrame index.\n",
      "  \"\"\"\n",
      "/Users/simonefroley/opt/anaconda3/lib/python3.7/site-packages/ipykernel_launcher.py:6: UserWarning: Boolean Series key will be reindexed to match DataFrame index.\n",
      "  \n",
      "/Users/simonefroley/opt/anaconda3/lib/python3.7/site-packages/ipykernel_launcher.py:18: UserWarning: Boolean Series key will be reindexed to match DataFrame index.\n",
      "/Users/simonefroley/opt/anaconda3/lib/python3.7/site-packages/ipykernel_launcher.py:19: UserWarning: Boolean Series key will be reindexed to match DataFrame index.\n"
     ]
    }
   ],
   "source": [
    "m05_p1_g1, m05_p1_g2, m05_p2_g1, m05_p2_g2 = separate_df(m05, 'm')\n",
    "m06_p1_g1, m06_p1_g2, m06_p2_g1, m06_p2_g2 = separate_df(m06, 'm')\n",
    "m08_p1_g1, m08_p1_g2, m08_p2_g1, m08_p2_g2 = separate_df(m08, 'm')\n",
    "m10_p1_g1, m10_p1_g2, m10_p2_g1, m10_p2_g2 = separate_df(m10, 'm')\n",
    "m11_p1_g1, m11_p1_g2, m11_p2_g1, m11_p2_g2 = separate_df(m11, 'm')\n",
    "m13_p1_g1, m13_p1_g2, m13_p2_g1, m13_p2_g2 = separate_df(m13, 'm')\n",
    "m14_p1_g1, m14_p1_g2, m14_p2_g1, m14_p2_g2 = separate_df(m14, 'm')"
   ]
  },
  {
   "cell_type": "code",
   "execution_count": 380,
   "metadata": {},
   "outputs": [],
   "source": [
    "m05_p1_g1_count = m05_p1_g1['probability'].value_counts(sort=False)\n",
    "m05_p1_g2_count = m05_p1_g2['probability'].value_counts(sort=False)\n",
    "m05_p2_g1_count = m05_p2_g1['probability'].value_counts(sort=False)\n",
    "m05_p2_g2_count = m05_p2_g2['probability'].value_counts(sort=False)\n",
    "m06_p1_g1_count = m06_p1_g1['probability'].value_counts(sort=False)\n",
    "m06_p1_g2_count = m06_p1_g2['probability'].value_counts(sort=False)\n",
    "m06_p2_g1_count = m06_p2_g1['probability'].value_counts(sort=False)\n",
    "m06_p2_g2_count = m06_p2_g2['probability'].value_counts(sort=False)\n",
    "m08_p1_g1_count = m08_p1_g1['probability'].value_counts(sort=False)\n",
    "m08_p1_g2_count = m08_p1_g2['probability'].value_counts(sort=False)\n",
    "m08_p2_g1_count = m08_p2_g1['probability'].value_counts(sort=False)\n",
    "m08_p2_g2_count = m08_p2_g2['probability'].value_counts(sort=False)\n",
    "m10_p1_g1_count = m10_p1_g1['probability'].value_counts(sort=False)\n",
    "m10_p1_g2_count = m10_p1_g2['probability'].value_counts(sort=False)\n",
    "m10_p2_g1_count = m10_p2_g1['probability'].value_counts(sort=False)\n",
    "m10_p2_g2_count = m10_p2_g2['probability'].value_counts(sort=False)\n",
    "m11_p1_g1_count = m11_p1_g1['probability'].value_counts(sort=False)\n",
    "m11_p1_g2_count = m11_p1_g2['probability'].value_counts(sort=False)\n",
    "m11_p2_g1_count = m11_p2_g1['probability'].value_counts(sort=False)\n",
    "m11_p2_g2_count = m11_p2_g2['probability'].value_counts(sort=False)\n",
    "m13_p1_g1_count = m13_p1_g1['probability'].value_counts(sort=False)\n",
    "m13_p1_g2_count = m13_p1_g2['probability'].value_counts(sort=False)\n",
    "m13_p2_g1_count = m13_p2_g1['probability'].value_counts(sort=False)\n",
    "m13_p2_g2_count = m13_p2_g2['probability'].value_counts(sort=False)\n",
    "m14_p1_g1_count = m14_p1_g1['probability'].value_counts(sort=False)\n",
    "m14_p1_g2_count = m14_p1_g2['probability'].value_counts(sort=False)\n",
    "m14_p2_g1_count = m14_p2_g1['probability'].value_counts(sort=False)\n",
    "m14_p2_g2_count = m14_p2_g2['probability'].value_counts(sort=False)"
   ]
  },
  {
   "cell_type": "markdown",
   "metadata": {},
   "source": [
    "# Combined multi scores G1"
   ]
  },
  {
   "cell_type": "code",
   "execution_count": 381,
   "metadata": {},
   "outputs": [
    {
     "data": {
      "text/html": [
       "<div>\n",
       "<style scoped>\n",
       "    .dataframe tbody tr th:only-of-type {\n",
       "        vertical-align: middle;\n",
       "    }\n",
       "\n",
       "    .dataframe tbody tr th {\n",
       "        vertical-align: top;\n",
       "    }\n",
       "\n",
       "    .dataframe thead th {\n",
       "        text-align: right;\n",
       "    }\n",
       "</style>\n",
       "<table border=\"1\" class=\"dataframe\">\n",
       "  <thead>\n",
       "    <tr style=\"text-align: right;\">\n",
       "      <th></th>\n",
       "      <th>m_score_1</th>\n",
       "    </tr>\n",
       "    <tr>\n",
       "      <th>participant</th>\n",
       "      <th></th>\n",
       "    </tr>\n",
       "  </thead>\n",
       "  <tbody>\n",
       "    <tr>\n",
       "      <td>m05_p1</td>\n",
       "      <td>86</td>\n",
       "    </tr>\n",
       "    <tr>\n",
       "      <td>m05_p2</td>\n",
       "      <td>75</td>\n",
       "    </tr>\n",
       "    <tr>\n",
       "      <td>m06_p1</td>\n",
       "      <td>57</td>\n",
       "    </tr>\n",
       "    <tr>\n",
       "      <td>m06_p2</td>\n",
       "      <td>71</td>\n",
       "    </tr>\n",
       "    <tr>\n",
       "      <td>m08_p1</td>\n",
       "      <td>69</td>\n",
       "    </tr>\n",
       "    <tr>\n",
       "      <td>m08_p2</td>\n",
       "      <td>82</td>\n",
       "    </tr>\n",
       "    <tr>\n",
       "      <td>m10_p1</td>\n",
       "      <td>69</td>\n",
       "    </tr>\n",
       "    <tr>\n",
       "      <td>m10_p2</td>\n",
       "      <td>57</td>\n",
       "    </tr>\n",
       "    <tr>\n",
       "      <td>m11_p1</td>\n",
       "      <td>80</td>\n",
       "    </tr>\n",
       "    <tr>\n",
       "      <td>m11_p2</td>\n",
       "      <td>86</td>\n",
       "    </tr>\n",
       "    <tr>\n",
       "      <td>m13_p1</td>\n",
       "      <td>53</td>\n",
       "    </tr>\n",
       "    <tr>\n",
       "      <td>m13_p2</td>\n",
       "      <td>59</td>\n",
       "    </tr>\n",
       "    <tr>\n",
       "      <td>m14_p1</td>\n",
       "      <td>75</td>\n",
       "    </tr>\n",
       "    <tr>\n",
       "      <td>m14_p2</td>\n",
       "      <td>62</td>\n",
       "    </tr>\n",
       "  </tbody>\n",
       "</table>\n",
       "</div>"
      ],
      "text/plain": [
       "             m_score_1\n",
       "participant           \n",
       "m05_p1              86\n",
       "m05_p2              75\n",
       "m06_p1              57\n",
       "m06_p2              71\n",
       "m08_p1              69\n",
       "m08_p2              82\n",
       "m10_p1              69\n",
       "m10_p2              57\n",
       "m11_p1              80\n",
       "m11_p2              86\n",
       "m13_p1              53\n",
       "m13_p2              59\n",
       "m14_p1              75\n",
       "m14_p2              62"
      ]
     },
     "execution_count": 381,
     "metadata": {},
     "output_type": "execute_result"
    }
   ],
   "source": [
    "m_scores_1 = pd.DataFrame({'participant':['m05_p1', 'm05_p2','m06_p1', 'm06_p2', 'm08_p1', 'm08_p2', 'm10_p1', 'm10_p2', 'm11_p1', 'm11_p2', 'm13_p1', 'm13_p2', 'm14_p1', 'm14_p2'], 'm_score_1':\n",
    "     [m05_p1_g1_score, m05_p2_g1_score, m06_p1_g1_score, m06_p2_g1_score, m08_p1_g1_score, m08_p2_g1_score,\n",
    "      m10_p1_g1_score, m10_p2_g1_score, m11_p1_g1_score, m11_p2_g1_score, m13_p1_g1_score, m13_p2_g1_score,\n",
    "      m14_p1_g1_score, m14_p2_g1_score]})\n",
    "m_scores_1.set_index('participant', inplace=True, drop=True)\n",
    "m_scores_1"
   ]
  },
  {
   "cell_type": "markdown",
   "metadata": {},
   "source": [
    "# Combined multi scores G2"
   ]
  },
  {
   "cell_type": "code",
   "execution_count": 382,
   "metadata": {},
   "outputs": [
    {
     "data": {
      "text/html": [
       "<div>\n",
       "<style scoped>\n",
       "    .dataframe tbody tr th:only-of-type {\n",
       "        vertical-align: middle;\n",
       "    }\n",
       "\n",
       "    .dataframe tbody tr th {\n",
       "        vertical-align: top;\n",
       "    }\n",
       "\n",
       "    .dataframe thead th {\n",
       "        text-align: right;\n",
       "    }\n",
       "</style>\n",
       "<table border=\"1\" class=\"dataframe\">\n",
       "  <thead>\n",
       "    <tr style=\"text-align: right;\">\n",
       "      <th></th>\n",
       "      <th>m_score_1</th>\n",
       "    </tr>\n",
       "    <tr>\n",
       "      <th>participant</th>\n",
       "      <th></th>\n",
       "    </tr>\n",
       "  </thead>\n",
       "  <tbody>\n",
       "    <tr>\n",
       "      <td>m05_p1</td>\n",
       "      <td>68</td>\n",
       "    </tr>\n",
       "    <tr>\n",
       "      <td>m05_p2</td>\n",
       "      <td>86</td>\n",
       "    </tr>\n",
       "    <tr>\n",
       "      <td>m06_p1</td>\n",
       "      <td>62</td>\n",
       "    </tr>\n",
       "    <tr>\n",
       "      <td>m06_p2</td>\n",
       "      <td>68</td>\n",
       "    </tr>\n",
       "    <tr>\n",
       "      <td>m08_p1</td>\n",
       "      <td>80</td>\n",
       "    </tr>\n",
       "    <tr>\n",
       "      <td>m08_p2</td>\n",
       "      <td>88</td>\n",
       "    </tr>\n",
       "    <tr>\n",
       "      <td>m10_p1</td>\n",
       "      <td>66</td>\n",
       "    </tr>\n",
       "    <tr>\n",
       "      <td>m10_p2</td>\n",
       "      <td>62</td>\n",
       "    </tr>\n",
       "    <tr>\n",
       "      <td>m11_p1</td>\n",
       "      <td>83</td>\n",
       "    </tr>\n",
       "    <tr>\n",
       "      <td>m11_p2</td>\n",
       "      <td>87</td>\n",
       "    </tr>\n",
       "    <tr>\n",
       "      <td>m13_p1</td>\n",
       "      <td>68</td>\n",
       "    </tr>\n",
       "    <tr>\n",
       "      <td>m13_p2</td>\n",
       "      <td>72</td>\n",
       "    </tr>\n",
       "    <tr>\n",
       "      <td>m14_p1</td>\n",
       "      <td>54</td>\n",
       "    </tr>\n",
       "    <tr>\n",
       "      <td>m14_p2</td>\n",
       "      <td>56</td>\n",
       "    </tr>\n",
       "  </tbody>\n",
       "</table>\n",
       "</div>"
      ],
      "text/plain": [
       "             m_score_1\n",
       "participant           \n",
       "m05_p1              68\n",
       "m05_p2              86\n",
       "m06_p1              62\n",
       "m06_p2              68\n",
       "m08_p1              80\n",
       "m08_p2              88\n",
       "m10_p1              66\n",
       "m10_p2              62\n",
       "m11_p1              83\n",
       "m11_p2              87\n",
       "m13_p1              68\n",
       "m13_p2              72\n",
       "m14_p1              54\n",
       "m14_p2              56"
      ]
     },
     "execution_count": 382,
     "metadata": {},
     "output_type": "execute_result"
    }
   ],
   "source": [
    "m_scores_2 = pd.DataFrame({'participant':['m05_p1', 'm05_p2','m06_p1', 'm06_p2', 'm08_p1', 'm08_p2', 'm10_p1', 'm10_p2', 'm11_p1', 'm11_p2', 'm13_p1', 'm13_p2', 'm14_p1', 'm14_p2'], 'm_score_1':\n",
    "     [m05_p1_g2_score, m05_p2_g2_score, m06_p1_g2_score, m06_p2_g2_score, m08_p1_g2_score, m08_p2_g2_score,\n",
    "      m10_p1_g2_score, m10_p2_g2_score, m11_p1_g2_score, m11_p2_g2_score, m13_p1_g2_score, m13_p2_g2_score,\n",
    "      m14_p1_g2_score, m14_p2_g2_score]})\n",
    "m_scores_2.set_index('participant', inplace=True, drop=True)\n",
    "m_scores_2"
   ]
  },
  {
   "cell_type": "code",
   "execution_count": 383,
   "metadata": {},
   "outputs": [
    {
     "data": {
      "text/html": [
       "<div>\n",
       "<style scoped>\n",
       "    .dataframe tbody tr th:only-of-type {\n",
       "        vertical-align: middle;\n",
       "    }\n",
       "\n",
       "    .dataframe tbody tr th {\n",
       "        vertical-align: top;\n",
       "    }\n",
       "\n",
       "    .dataframe thead th {\n",
       "        text-align: right;\n",
       "    }\n",
       "</style>\n",
       "<table border=\"1\" class=\"dataframe\">\n",
       "  <thead>\n",
       "    <tr style=\"text-align: right;\">\n",
       "      <th></th>\n",
       "      <th>Game 1</th>\n",
       "      <th>Game 2</th>\n",
       "    </tr>\n",
       "    <tr>\n",
       "      <th>participant</th>\n",
       "      <th></th>\n",
       "      <th></th>\n",
       "    </tr>\n",
       "  </thead>\n",
       "  <tbody>\n",
       "    <tr>\n",
       "      <td>m05_p1</td>\n",
       "      <td>86</td>\n",
       "      <td>68</td>\n",
       "    </tr>\n",
       "    <tr>\n",
       "      <td>m05_p2</td>\n",
       "      <td>75</td>\n",
       "      <td>86</td>\n",
       "    </tr>\n",
       "    <tr>\n",
       "      <td>m06_p1</td>\n",
       "      <td>57</td>\n",
       "      <td>62</td>\n",
       "    </tr>\n",
       "    <tr>\n",
       "      <td>m06_p2</td>\n",
       "      <td>71</td>\n",
       "      <td>68</td>\n",
       "    </tr>\n",
       "    <tr>\n",
       "      <td>m08_p1</td>\n",
       "      <td>69</td>\n",
       "      <td>80</td>\n",
       "    </tr>\n",
       "    <tr>\n",
       "      <td>m08_p2</td>\n",
       "      <td>82</td>\n",
       "      <td>88</td>\n",
       "    </tr>\n",
       "    <tr>\n",
       "      <td>m10_p1</td>\n",
       "      <td>69</td>\n",
       "      <td>66</td>\n",
       "    </tr>\n",
       "    <tr>\n",
       "      <td>m10_p2</td>\n",
       "      <td>57</td>\n",
       "      <td>62</td>\n",
       "    </tr>\n",
       "    <tr>\n",
       "      <td>m11_p1</td>\n",
       "      <td>80</td>\n",
       "      <td>83</td>\n",
       "    </tr>\n",
       "    <tr>\n",
       "      <td>m11_p2</td>\n",
       "      <td>86</td>\n",
       "      <td>87</td>\n",
       "    </tr>\n",
       "    <tr>\n",
       "      <td>m13_p1</td>\n",
       "      <td>53</td>\n",
       "      <td>68</td>\n",
       "    </tr>\n",
       "    <tr>\n",
       "      <td>m13_p2</td>\n",
       "      <td>59</td>\n",
       "      <td>72</td>\n",
       "    </tr>\n",
       "    <tr>\n",
       "      <td>m14_p1</td>\n",
       "      <td>75</td>\n",
       "      <td>54</td>\n",
       "    </tr>\n",
       "    <tr>\n",
       "      <td>m14_p2</td>\n",
       "      <td>62</td>\n",
       "      <td>56</td>\n",
       "    </tr>\n",
       "  </tbody>\n",
       "</table>\n",
       "</div>"
      ],
      "text/plain": [
       "             Game 1  Game 2\n",
       "participant                \n",
       "m05_p1           86      68\n",
       "m05_p2           75      86\n",
       "m06_p1           57      62\n",
       "m06_p2           71      68\n",
       "m08_p1           69      80\n",
       "m08_p2           82      88\n",
       "m10_p1           69      66\n",
       "m10_p2           57      62\n",
       "m11_p1           80      83\n",
       "m11_p2           86      87\n",
       "m13_p1           53      68\n",
       "m13_p2           59      72\n",
       "m14_p1           75      54\n",
       "m14_p2           62      56"
      ]
     },
     "execution_count": 383,
     "metadata": {},
     "output_type": "execute_result"
    }
   ],
   "source": [
    "m_scores = pd.merge(m_scores_1, m_scores_2, on = 'participant')\n",
    "m_scores.columns=['Game 1','Game 2']\n",
    "#jp1_scores.set_index('participant', inplace=True, drop=True)\n",
    "m_scores"
   ]
  },
  {
   "cell_type": "code",
   "execution_count": 384,
   "metadata": {},
   "outputs": [],
   "source": [
    "m_scores_1_mean = m_scores_1.mean()"
   ]
  },
  {
   "cell_type": "code",
   "execution_count": 385,
   "metadata": {},
   "outputs": [
    {
     "data": {
      "text/plain": [
       "m_score_1    70.071429\n",
       "dtype: float64"
      ]
     },
     "execution_count": 385,
     "metadata": {},
     "output_type": "execute_result"
    }
   ],
   "source": [
    "m_scores_1_mean"
   ]
  },
  {
   "cell_type": "code",
   "execution_count": 386,
   "metadata": {},
   "outputs": [],
   "source": [
    "m_scores_1_std = m_scores_1.std()"
   ]
  },
  {
   "cell_type": "code",
   "execution_count": 387,
   "metadata": {},
   "outputs": [
    {
     "data": {
      "text/plain": [
       "m_score_1    11.166325\n",
       "dtype: float64"
      ]
     },
     "execution_count": 387,
     "metadata": {},
     "output_type": "execute_result"
    }
   ],
   "source": [
    "m_scores_1_std"
   ]
  },
  {
   "cell_type": "code",
   "execution_count": 388,
   "metadata": {},
   "outputs": [],
   "source": [
    "m_scores_2_mean = m_scores_2.mean()"
   ]
  },
  {
   "cell_type": "code",
   "execution_count": 389,
   "metadata": {},
   "outputs": [
    {
     "data": {
      "text/plain": [
       "m_score_1    71.428571\n",
       "dtype: float64"
      ]
     },
     "execution_count": 389,
     "metadata": {},
     "output_type": "execute_result"
    }
   ],
   "source": [
    "m_scores_2_mean"
   ]
  },
  {
   "cell_type": "code",
   "execution_count": 390,
   "metadata": {},
   "outputs": [],
   "source": [
    "m_scores_2_std = m_scores_2.std()"
   ]
  },
  {
   "cell_type": "code",
   "execution_count": 391,
   "metadata": {},
   "outputs": [
    {
     "data": {
      "text/plain": [
       "m_score_1    11.507284\n",
       "dtype: float64"
      ]
     },
     "execution_count": 391,
     "metadata": {},
     "output_type": "execute_result"
    }
   ],
   "source": [
    "m_scores_2_std"
   ]
  },
  {
   "cell_type": "code",
   "execution_count": 392,
   "metadata": {},
   "outputs": [
    {
     "data": {
      "text/plain": [
       "Game 1    70.0\n",
       "Game 2    68.0\n",
       "dtype: float64"
      ]
     },
     "execution_count": 392,
     "metadata": {},
     "output_type": "execute_result"
    }
   ],
   "source": [
    "m_scores_med = m_scores.median()\n",
    "m_scores_med"
   ]
  },
  {
   "cell_type": "code",
   "execution_count": 393,
   "metadata": {},
   "outputs": [],
   "source": [
    "m_scores_p = sp.stats.ttest_rel(m_scores['Game 1'],m_scores['Game 2'])"
   ]
  },
  {
   "cell_type": "code",
   "execution_count": 394,
   "metadata": {},
   "outputs": [
    {
     "data": {
      "text/plain": [
       "Ttest_relResult(statistic=-0.4688088775680356, pvalue=0.6469706054464561)"
      ]
     },
     "execution_count": 394,
     "metadata": {},
     "output_type": "execute_result"
    }
   ],
   "source": [
    "m_scores_p"
   ]
  },
  {
   "cell_type": "code",
   "execution_count": 395,
   "metadata": {},
   "outputs": [
    {
     "data": {
      "image/png": "[encoded data removed]",
      "text/plain": [
       "<Figure size 432x288 with 1 Axes>"
      ]
     },
     "metadata": {
      "needs_background": "light"
     },
     "output_type": "display_data"
    }
   ],
   "source": [
    "m_scores_box = sns.boxplot( \n",
    "                 data=m_scores, \n",
    "                 width=0.5,\n",
    "                 palette=\"pastel\")\n",
    "m_scores_box.axes.set_title(\"Multi Player Scores\",\n",
    "                    fontsize=16)\n",
    "\n",
    "plot_file_name=\"m_score_box.jpg\"\n",
    " \n",
    "plt.ylim(0, 100)\n",
    "m_scores_box.axes.set(ylabel='Score')\n",
    "\n",
    "# save as jpeg\n",
    "m_scores_box.figure.savefig(plot_file_name,\n",
    "                    format='jpeg',\n",
    "                    dpi=100)"
   ]
  },
  {
   "cell_type": "code",
   "execution_count": 396,
   "metadata": {},
   "outputs": [
    {
     "data": {
      "text/plain": [
       "Ttest_relResult(statistic=-0.4688088775680356, pvalue=0.6469706054464561)"
      ]
     },
     "execution_count": 396,
     "metadata": {},
     "output_type": "execute_result"
    }
   ],
   "source": [
    "m_scores_p"
   ]
  },
  {
   "cell_type": "markdown",
   "metadata": {},
   "source": [
    "# Multi combined choices in G1"
   ]
  },
  {
   "cell_type": "code",
   "execution_count": 397,
   "metadata": {},
   "outputs": [],
   "source": [
    "m_g1_counts = pd.DataFrame([m05_p1_g1_count, m05_p2_g1_count, m06_p1_g1_count, m06_p2_g1_count, m08_p1_g1_count, m08_p2_g1_count, \n",
    "              m10_p1_g1_count, m10_p2_g1_count, m11_p1_g1_count, m11_p2_g1_count, m13_p1_g1_count, m13_p2_g1_count, \n",
    "              m14_p1_g1_count, m14_p2_g1_count],\n",
    "                index = ['m05_p1_g1_count', 'm05_p2_g1_count', 'm06_p1_g1_count', 'm06_p2_g1_count',\n",
    "                 'm08_p1_g1_count', 'm08_p2_g1_count', 'm10_p1_g1_count', 'm10_p2_g1_count', 'm11_p1_g1_count', \n",
    "                'm11_p2_g1_count', 'm13_p1_g1_count', 'm13_p2_g1_count', 'm14_p1_g1_count', 'm14_p2_g1_count'])\n"
   ]
  },
  {
   "cell_type": "code",
   "execution_count": 398,
   "metadata": {
    "scrolled": true
   },
   "outputs": [],
   "source": [
    "m_g1_counts = m_g1_counts.fillna(0) "
   ]
  },
  {
   "cell_type": "code",
   "execution_count": 399,
   "metadata": {},
   "outputs": [
    {
     "data": {
      "text/html": [
       "<div>\n",
       "<style scoped>\n",
       "    .dataframe tbody tr th:only-of-type {\n",
       "        vertical-align: middle;\n",
       "    }\n",
       "\n",
       "    .dataframe tbody tr th {\n",
       "        vertical-align: top;\n",
       "    }\n",
       "\n",
       "    .dataframe thead th {\n",
       "        text-align: right;\n",
       "    }\n",
       "</style>\n",
       "<table border=\"1\" class=\"dataframe\">\n",
       "  <thead>\n",
       "    <tr style=\"text-align: right;\">\n",
       "      <th></th>\n",
       "      <th>30</th>\n",
       "      <th>60</th>\n",
       "      <th>90</th>\n",
       "    </tr>\n",
       "  </thead>\n",
       "  <tbody>\n",
       "    <tr>\n",
       "      <td>m05_p1_g1_count</td>\n",
       "      <td>0.0</td>\n",
       "      <td>5.0</td>\n",
       "      <td>15.0</td>\n",
       "    </tr>\n",
       "    <tr>\n",
       "      <td>m05_p2_g1_count</td>\n",
       "      <td>0.0</td>\n",
       "      <td>5.0</td>\n",
       "      <td>15.0</td>\n",
       "    </tr>\n",
       "    <tr>\n",
       "      <td>m06_p1_g1_count</td>\n",
       "      <td>6.0</td>\n",
       "      <td>7.0</td>\n",
       "      <td>7.0</td>\n",
       "    </tr>\n",
       "    <tr>\n",
       "      <td>m06_p2_g1_count</td>\n",
       "      <td>6.0</td>\n",
       "      <td>6.0</td>\n",
       "      <td>8.0</td>\n",
       "    </tr>\n",
       "    <tr>\n",
       "      <td>m08_p1_g1_count</td>\n",
       "      <td>3.0</td>\n",
       "      <td>7.0</td>\n",
       "      <td>10.0</td>\n",
       "    </tr>\n",
       "    <tr>\n",
       "      <td>m08_p2_g1_count</td>\n",
       "      <td>2.0</td>\n",
       "      <td>7.0</td>\n",
       "      <td>11.0</td>\n",
       "    </tr>\n",
       "    <tr>\n",
       "      <td>m10_p1_g1_count</td>\n",
       "      <td>5.0</td>\n",
       "      <td>6.0</td>\n",
       "      <td>9.0</td>\n",
       "    </tr>\n",
       "    <tr>\n",
       "      <td>m10_p2_g1_count</td>\n",
       "      <td>7.0</td>\n",
       "      <td>9.0</td>\n",
       "      <td>4.0</td>\n",
       "    </tr>\n",
       "    <tr>\n",
       "      <td>m11_p1_g1_count</td>\n",
       "      <td>4.0</td>\n",
       "      <td>0.0</td>\n",
       "      <td>16.0</td>\n",
       "    </tr>\n",
       "    <tr>\n",
       "      <td>m11_p2_g1_count</td>\n",
       "      <td>0.0</td>\n",
       "      <td>0.0</td>\n",
       "      <td>20.0</td>\n",
       "    </tr>\n",
       "    <tr>\n",
       "      <td>m13_p1_g1_count</td>\n",
       "      <td>7.0</td>\n",
       "      <td>9.0</td>\n",
       "      <td>4.0</td>\n",
       "    </tr>\n",
       "    <tr>\n",
       "      <td>m13_p2_g1_count</td>\n",
       "      <td>7.0</td>\n",
       "      <td>8.0</td>\n",
       "      <td>5.0</td>\n",
       "    </tr>\n",
       "    <tr>\n",
       "      <td>m14_p1_g1_count</td>\n",
       "      <td>4.0</td>\n",
       "      <td>7.0</td>\n",
       "      <td>9.0</td>\n",
       "    </tr>\n",
       "    <tr>\n",
       "      <td>m14_p2_g1_count</td>\n",
       "      <td>7.0</td>\n",
       "      <td>6.0</td>\n",
       "      <td>7.0</td>\n",
       "    </tr>\n",
       "  </tbody>\n",
       "</table>\n",
       "</div>"
      ],
      "text/plain": [
       "                  30   60    90\n",
       "m05_p1_g1_count  0.0  5.0  15.0\n",
       "m05_p2_g1_count  0.0  5.0  15.0\n",
       "m06_p1_g1_count  6.0  7.0   7.0\n",
       "m06_p2_g1_count  6.0  6.0   8.0\n",
       "m08_p1_g1_count  3.0  7.0  10.0\n",
       "m08_p2_g1_count  2.0  7.0  11.0\n",
       "m10_p1_g1_count  5.0  6.0   9.0\n",
       "m10_p2_g1_count  7.0  9.0   4.0\n",
       "m11_p1_g1_count  4.0  0.0  16.0\n",
       "m11_p2_g1_count  0.0  0.0  20.0\n",
       "m13_p1_g1_count  7.0  9.0   4.0\n",
       "m13_p2_g1_count  7.0  8.0   5.0\n",
       "m14_p1_g1_count  4.0  7.0   9.0\n",
       "m14_p2_g1_count  7.0  6.0   7.0"
      ]
     },
     "execution_count": 399,
     "metadata": {},
     "output_type": "execute_result"
    }
   ],
   "source": [
    "m_g1_counts"
   ]
  },
  {
   "cell_type": "code",
   "execution_count": 400,
   "metadata": {},
   "outputs": [
    {
     "data": {
      "text/plain": [
       "m05_p1_g1_count    20.0\n",
       "m05_p2_g1_count    20.0\n",
       "m06_p1_g1_count    20.0\n",
       "m06_p2_g1_count    20.0\n",
       "m08_p1_g1_count    20.0\n",
       "m08_p2_g1_count    20.0\n",
       "m10_p1_g1_count    20.0\n",
       "m10_p2_g1_count    20.0\n",
       "m11_p1_g1_count    20.0\n",
       "m11_p2_g1_count    20.0\n",
       "m13_p1_g1_count    20.0\n",
       "m13_p2_g1_count    20.0\n",
       "m14_p1_g1_count    20.0\n",
       "m14_p2_g1_count    20.0\n",
       "dtype: float64"
      ]
     },
     "execution_count": 400,
     "metadata": {},
     "output_type": "execute_result"
    }
   ],
   "source": [
    "m_g1_counts.sum(axis=1)"
   ]
  },
  {
   "cell_type": "code",
   "execution_count": 401,
   "metadata": {
    "scrolled": true
   },
   "outputs": [
    {
     "data": {
      "image/png": "[encoded data removed]",
      "text/plain": [
       "<Figure size 432x288 with 1 Axes>"
      ]
     },
     "metadata": {
      "needs_background": "light"
     },
     "output_type": "display_data"
    }
   ],
   "source": [
    "m_g1_counts_bar = m_g1_counts.plot.bar()"
   ]
  },
  {
   "cell_type": "code",
   "execution_count": 402,
   "metadata": {},
   "outputs": [
    {
     "data": {
      "image/png": "[encoded data removed]",
      "text/plain": [
       "<Figure size 432x288 with 1 Axes>"
      ]
     },
     "metadata": {
      "needs_background": "light"
     },
     "output_type": "display_data"
    }
   ],
   "source": [
    "m_g1_counts_box = sns.boxplot( \n",
    "                 data = m_g1_counts, \n",
    "                 width=0.5,\n",
    "                 palette=\"pastel\")\n",
    "m_g1_counts_box.axes.set_title(\"Combined Multi Player Choice Distributions in Game 1\",\n",
    "                    fontsize=16)\n",
    "\n",
    "plot_file_name=\"m_g1_counts_box.jpg\"\n",
    " \n",
    "plt.ylim(0, 100)\n",
    "m_g1_counts_box.axes.set(xlabel='Arm',ylabel='Frequency')\n",
    "\n",
    "# save as jpeg\n",
    "m_g1_counts_box.figure.savefig(plot_file_name,\n",
    "                    format='jpeg',\n",
    "                    dpi=100)"
   ]
  },
  {
   "cell_type": "code",
   "execution_count": 403,
   "metadata": {},
   "outputs": [],
   "source": [
    "m_g1_low = np.mean(m_g1_counts.iloc[:,0])\n",
    "m_g1_med = np.mean(m_g1_counts.iloc[:,1])\n",
    "m_g1_high = np.mean(m_g1_counts.iloc[:,2])"
   ]
  },
  {
   "cell_type": "code",
   "execution_count": 404,
   "metadata": {},
   "outputs": [
    {
     "data": {
      "text/plain": [
       "4.142857142857143"
      ]
     },
     "execution_count": 404,
     "metadata": {},
     "output_type": "execute_result"
    }
   ],
   "source": [
    "m_g1_low"
   ]
  },
  {
   "cell_type": "code",
   "execution_count": 405,
   "metadata": {},
   "outputs": [
    {
     "data": {
      "text/plain": [
       "5.857142857142857"
      ]
     },
     "execution_count": 405,
     "metadata": {},
     "output_type": "execute_result"
    }
   ],
   "source": [
    "m_g1_med"
   ]
  },
  {
   "cell_type": "code",
   "execution_count": 406,
   "metadata": {},
   "outputs": [
    {
     "data": {
      "text/plain": [
       "10.0"
      ]
     },
     "execution_count": 406,
     "metadata": {},
     "output_type": "execute_result"
    }
   ],
   "source": [
    "m_g1_high"
   ]
  },
  {
   "cell_type": "code",
   "execution_count": 407,
   "metadata": {},
   "outputs": [],
   "source": [
    "m_g1_low_std = np.std(m_g1_counts.iloc[:,0])\n",
    "m_g1_med_std = np.std(m_g1_counts.iloc[:,1])\n",
    "m_g1_high_std = np.std(m_g1_counts.iloc[:,2])"
   ]
  },
  {
   "cell_type": "code",
   "execution_count": 408,
   "metadata": {},
   "outputs": [
    {
     "data": {
      "text/plain": [
       "2.6418917155581325"
      ]
     },
     "execution_count": 408,
     "metadata": {},
     "output_type": "execute_result"
    }
   ],
   "source": [
    "m_g1_low_std"
   ]
  },
  {
   "cell_type": "code",
   "execution_count": 409,
   "metadata": {},
   "outputs": [
    {
     "data": {
      "text/plain": [
       "2.6687916703242007"
      ]
     },
     "execution_count": 409,
     "metadata": {},
     "output_type": "execute_result"
    }
   ],
   "source": [
    "m_g1_med_std"
   ]
  },
  {
   "cell_type": "code",
   "execution_count": 410,
   "metadata": {
    "scrolled": true
   },
   "outputs": [
    {
     "data": {
      "text/plain": [
       "4.69041575982343"
      ]
     },
     "execution_count": 410,
     "metadata": {},
     "output_type": "execute_result"
    }
   ],
   "source": [
    "m_g1_high_std"
   ]
  },
  {
   "cell_type": "markdown",
   "metadata": {},
   "source": [
    "# Multi combined choices in G2"
   ]
  },
  {
   "cell_type": "code",
   "execution_count": 411,
   "metadata": {},
   "outputs": [],
   "source": [
    "m_g2_counts = pd.DataFrame([m05_p1_g2_count, m05_p2_g2_count, m06_p1_g2_count, m06_p2_g2_count, m08_p1_g2_count, m08_p2_g2_count, \n",
    "              m10_p1_g2_count, m10_p2_g2_count, m11_p1_g2_count, m11_p2_g2_count, m13_p1_g2_count, m13_p2_g2_count, \n",
    "              m14_p1_g2_count, m14_p2_g2_count],\n",
    "                index = ['m05_p1_g2_count', 'm05_p2_g2_count', 'm06_p1_g2_count', 'm06_p2_g2_count',\n",
    "                 'm08_p1_g2_count', 'm08_p2_g2_count', 'm10_p1_g2_count', 'm10_p2_g2_count', 'm11_p1_g2_count', \n",
    "                'm11_p2_g2_count', 'm13_p1_g2_count', 'm13_p2_g2_count', 'm14_p1_g2_count', 'm14_p2_g2_count'])\n"
   ]
  },
  {
   "cell_type": "code",
   "execution_count": 412,
   "metadata": {
    "scrolled": true
   },
   "outputs": [],
   "source": [
    "m_g2_counts = m_g2_counts.fillna(0) "
   ]
  },
  {
   "cell_type": "code",
   "execution_count": 413,
   "metadata": {},
   "outputs": [
    {
     "data": {
      "text/html": [
       "<div>\n",
       "<style scoped>\n",
       "    .dataframe tbody tr th:only-of-type {\n",
       "        vertical-align: middle;\n",
       "    }\n",
       "\n",
       "    .dataframe tbody tr th {\n",
       "        vertical-align: top;\n",
       "    }\n",
       "\n",
       "    .dataframe thead th {\n",
       "        text-align: right;\n",
       "    }\n",
       "</style>\n",
       "<table border=\"1\" class=\"dataframe\">\n",
       "  <thead>\n",
       "    <tr style=\"text-align: right;\">\n",
       "      <th></th>\n",
       "      <th>30</th>\n",
       "      <th>60</th>\n",
       "      <th>90</th>\n",
       "    </tr>\n",
       "  </thead>\n",
       "  <tbody>\n",
       "    <tr>\n",
       "      <td>m05_p1_g2_count</td>\n",
       "      <td>0.0</td>\n",
       "      <td>20.0</td>\n",
       "      <td>0.0</td>\n",
       "    </tr>\n",
       "    <tr>\n",
       "      <td>m05_p2_g2_count</td>\n",
       "      <td>1.0</td>\n",
       "      <td>0.0</td>\n",
       "      <td>19.0</td>\n",
       "    </tr>\n",
       "    <tr>\n",
       "      <td>m06_p1_g2_count</td>\n",
       "      <td>9.0</td>\n",
       "      <td>4.0</td>\n",
       "      <td>7.0</td>\n",
       "    </tr>\n",
       "    <tr>\n",
       "      <td>m06_p2_g2_count</td>\n",
       "      <td>7.0</td>\n",
       "      <td>5.0</td>\n",
       "      <td>8.0</td>\n",
       "    </tr>\n",
       "    <tr>\n",
       "      <td>m08_p1_g2_count</td>\n",
       "      <td>0.0</td>\n",
       "      <td>2.0</td>\n",
       "      <td>18.0</td>\n",
       "    </tr>\n",
       "    <tr>\n",
       "      <td>m08_p2_g2_count</td>\n",
       "      <td>0.0</td>\n",
       "      <td>0.0</td>\n",
       "      <td>20.0</td>\n",
       "    </tr>\n",
       "    <tr>\n",
       "      <td>m10_p1_g2_count</td>\n",
       "      <td>7.0</td>\n",
       "      <td>6.0</td>\n",
       "      <td>7.0</td>\n",
       "    </tr>\n",
       "    <tr>\n",
       "      <td>m10_p2_g2_count</td>\n",
       "      <td>6.0</td>\n",
       "      <td>9.0</td>\n",
       "      <td>5.0</td>\n",
       "    </tr>\n",
       "    <tr>\n",
       "      <td>m11_p1_g2_count</td>\n",
       "      <td>0.0</td>\n",
       "      <td>0.0</td>\n",
       "      <td>20.0</td>\n",
       "    </tr>\n",
       "    <tr>\n",
       "      <td>m11_p2_g2_count</td>\n",
       "      <td>0.0</td>\n",
       "      <td>0.0</td>\n",
       "      <td>20.0</td>\n",
       "    </tr>\n",
       "    <tr>\n",
       "      <td>m13_p1_g2_count</td>\n",
       "      <td>5.0</td>\n",
       "      <td>7.0</td>\n",
       "      <td>8.0</td>\n",
       "    </tr>\n",
       "    <tr>\n",
       "      <td>m13_p2_g2_count</td>\n",
       "      <td>7.0</td>\n",
       "      <td>5.0</td>\n",
       "      <td>8.0</td>\n",
       "    </tr>\n",
       "    <tr>\n",
       "      <td>m14_p1_g2_count</td>\n",
       "      <td>11.0</td>\n",
       "      <td>8.0</td>\n",
       "      <td>1.0</td>\n",
       "    </tr>\n",
       "    <tr>\n",
       "      <td>m14_p2_g2_count</td>\n",
       "      <td>6.0</td>\n",
       "      <td>8.0</td>\n",
       "      <td>6.0</td>\n",
       "    </tr>\n",
       "  </tbody>\n",
       "</table>\n",
       "</div>"
      ],
      "text/plain": [
       "                   30    60    90\n",
       "m05_p1_g2_count   0.0  20.0   0.0\n",
       "m05_p2_g2_count   1.0   0.0  19.0\n",
       "m06_p1_g2_count   9.0   4.0   7.0\n",
       "m06_p2_g2_count   7.0   5.0   8.0\n",
       "m08_p1_g2_count   0.0   2.0  18.0\n",
       "m08_p2_g2_count   0.0   0.0  20.0\n",
       "m10_p1_g2_count   7.0   6.0   7.0\n",
       "m10_p2_g2_count   6.0   9.0   5.0\n",
       "m11_p1_g2_count   0.0   0.0  20.0\n",
       "m11_p2_g2_count   0.0   0.0  20.0\n",
       "m13_p1_g2_count   5.0   7.0   8.0\n",
       "m13_p2_g2_count   7.0   5.0   8.0\n",
       "m14_p1_g2_count  11.0   8.0   1.0\n",
       "m14_p2_g2_count   6.0   8.0   6.0"
      ]
     },
     "execution_count": 413,
     "metadata": {},
     "output_type": "execute_result"
    }
   ],
   "source": [
    "m_g2_counts"
   ]
  },
  {
   "cell_type": "code",
   "execution_count": 414,
   "metadata": {},
   "outputs": [
    {
     "data": {
      "text/plain": [
       "m05_p1_g2_count    20.0\n",
       "m05_p2_g2_count    20.0\n",
       "m06_p1_g2_count    20.0\n",
       "m06_p2_g2_count    20.0\n",
       "m08_p1_g2_count    20.0\n",
       "m08_p2_g2_count    20.0\n",
       "m10_p1_g2_count    20.0\n",
       "m10_p2_g2_count    20.0\n",
       "m11_p1_g2_count    20.0\n",
       "m11_p2_g2_count    20.0\n",
       "m13_p1_g2_count    20.0\n",
       "m13_p2_g2_count    20.0\n",
       "m14_p1_g2_count    20.0\n",
       "m14_p2_g2_count    20.0\n",
       "dtype: float64"
      ]
     },
     "execution_count": 414,
     "metadata": {},
     "output_type": "execute_result"
    }
   ],
   "source": [
    "m_g2_counts.sum(axis=1)"
   ]
  },
  {
   "cell_type": "code",
   "execution_count": 415,
   "metadata": {
    "scrolled": true
   },
   "outputs": [
    {
     "data": {
      "image/png": "[encoded data removed]",
      "text/plain": [
       "<Figure size 432x288 with 1 Axes>"
      ]
     },
     "metadata": {
      "needs_background": "light"
     },
     "output_type": "display_data"
    }
   ],
   "source": [
    "m_g2_counts_bar = m_g2_counts.plot.bar()"
   ]
  },
  {
   "cell_type": "code",
   "execution_count": 416,
   "metadata": {},
   "outputs": [
    {
     "data": {
      "image/png": "[encoded data removed]",
      "text/plain": [
       "<Figure size 432x288 with 1 Axes>"
      ]
     },
     "metadata": {
      "needs_background": "light"
     },
     "output_type": "display_data"
    }
   ],
   "source": [
    "m_g2_counts_box = sns.boxplot( \n",
    "                 data = m_g2_counts, \n",
    "                 width=0.5,\n",
    "                 palette=\"pastel\")\n",
    "m_g2_counts_box.axes.set_title(\"Combined Multi Player Choice Distributions in Game 2\",\n",
    "                    fontsize=16)\n",
    "\n",
    "plot_file_name=\"m_g2_counts_box.jpg\"\n",
    " \n",
    "plt.ylim(0, 100)\n",
    "m_g2_counts_box.axes.set(xlabel='Arm',ylabel='Frequency')\n",
    "\n",
    "# save as jpeg\n",
    "m_g2_counts_box.figure.savefig(plot_file_name,\n",
    "                    format='jpeg',\n",
    "                    dpi=100)"
   ]
  },
  {
   "cell_type": "code",
   "execution_count": 417,
   "metadata": {},
   "outputs": [],
   "source": [
    "m_g2_low = np.mean(m_g2_counts.iloc[:,0])\n",
    "m_g2_med = np.mean(m_g2_counts.iloc[:,1])\n",
    "m_g2_high = np.mean(m_g2_counts.iloc[:,2])"
   ]
  },
  {
   "cell_type": "code",
   "execution_count": 418,
   "metadata": {},
   "outputs": [
    {
     "data": {
      "text/plain": [
       "4.214285714285714"
      ]
     },
     "execution_count": 418,
     "metadata": {},
     "output_type": "execute_result"
    }
   ],
   "source": [
    "m_g2_low"
   ]
  },
  {
   "cell_type": "code",
   "execution_count": 419,
   "metadata": {},
   "outputs": [
    {
     "data": {
      "text/plain": [
       "5.285714285714286"
      ]
     },
     "execution_count": 419,
     "metadata": {},
     "output_type": "execute_result"
    }
   ],
   "source": [
    "m_g2_med"
   ]
  },
  {
   "cell_type": "code",
   "execution_count": 420,
   "metadata": {},
   "outputs": [
    {
     "data": {
      "text/plain": [
       "10.5"
      ]
     },
     "execution_count": 420,
     "metadata": {},
     "output_type": "execute_result"
    }
   ],
   "source": [
    "m_g2_high"
   ]
  },
  {
   "cell_type": "code",
   "execution_count": 421,
   "metadata": {},
   "outputs": [],
   "source": [
    "m_g2_low_std = np.std(m_g2_counts.iloc[:,0])\n",
    "m_g2_med_std = np.std(m_g2_counts.iloc[:,1])\n",
    "m_g2_high_std = np.std(m_g2_counts.iloc[:,2])"
   ]
  },
  {
   "cell_type": "code",
   "execution_count": 422,
   "metadata": {},
   "outputs": [
    {
     "data": {
      "text/plain": [
       "3.764089178930113"
      ]
     },
     "execution_count": 422,
     "metadata": {},
     "output_type": "execute_result"
    }
   ],
   "source": [
    "m_g2_low_std"
   ]
  },
  {
   "cell_type": "code",
   "execution_count": 423,
   "metadata": {},
   "outputs": [
    {
     "data": {
      "text/plain": [
       "5.160683390910983"
      ]
     },
     "execution_count": 423,
     "metadata": {},
     "output_type": "execute_result"
    }
   ],
   "source": [
    "m_g2_med_std"
   ]
  },
  {
   "cell_type": "code",
   "execution_count": 424,
   "metadata": {
    "scrolled": true
   },
   "outputs": [
    {
     "data": {
      "text/plain": [
       "7.0381612858554385"
      ]
     },
     "execution_count": 424,
     "metadata": {},
     "output_type": "execute_result"
    }
   ],
   "source": [
    "m_g2_high_std"
   ]
  },
  {
   "cell_type": "markdown",
   "metadata": {},
   "source": [
    "# Multi combined arrays"
   ]
  },
  {
   "cell_type": "code",
   "execution_count": 425,
   "metadata": {},
   "outputs": [],
   "source": [
    "#pip install researchpy"
   ]
  },
  {
   "cell_type": "code",
   "execution_count": 426,
   "metadata": {},
   "outputs": [],
   "source": [
    "import researchpy as rp"
   ]
  },
  {
   "cell_type": "code",
   "execution_count": 427,
   "metadata": {},
   "outputs": [],
   "source": [
    "m_90_1 = np.array(m_g1_counts.iloc[:,2])\n",
    "m_90_2 = np.array(m_g2_counts.iloc[:,2])"
   ]
  },
  {
   "cell_type": "code",
   "execution_count": 428,
   "metadata": {},
   "outputs": [
    {
     "data": {
      "text/plain": [
       "array([15., 15.,  7.,  8., 10., 11.,  9.,  4., 16., 20.,  4.,  5.,  9.,\n",
       "        7.])"
      ]
     },
     "execution_count": 428,
     "metadata": {},
     "output_type": "execute_result"
    }
   ],
   "source": [
    "m_90_1"
   ]
  },
  {
   "cell_type": "code",
   "execution_count": 429,
   "metadata": {
    "scrolled": true
   },
   "outputs": [
    {
     "data": {
      "text/plain": [
       "array([ 0., 19.,  7.,  8., 18., 20.,  7.,  5., 20., 20.,  8.,  8.,  1.,\n",
       "        6.])"
      ]
     },
     "execution_count": 429,
     "metadata": {},
     "output_type": "execute_result"
    }
   ],
   "source": [
    "m_90_2"
   ]
  },
  {
   "cell_type": "code",
   "execution_count": 430,
   "metadata": {},
   "outputs": [],
   "source": [
    "m_60_1 = np.array(m_g1_counts.iloc[:,1])\n",
    "m_60_2 = np.array(m_g2_counts.iloc[:,1])"
   ]
  },
  {
   "cell_type": "code",
   "execution_count": 431,
   "metadata": {},
   "outputs": [
    {
     "data": {
      "text/plain": [
       "array([5., 5., 7., 6., 7., 7., 6., 9., 0., 0., 9., 8., 7., 6.])"
      ]
     },
     "execution_count": 431,
     "metadata": {},
     "output_type": "execute_result"
    }
   ],
   "source": [
    "m_60_1"
   ]
  },
  {
   "cell_type": "code",
   "execution_count": 432,
   "metadata": {},
   "outputs": [
    {
     "data": {
      "text/plain": [
       "array([20.,  0.,  4.,  5.,  2.,  0.,  6.,  9.,  0.,  0.,  7.,  5.,  8.,\n",
       "        8.])"
      ]
     },
     "execution_count": 432,
     "metadata": {},
     "output_type": "execute_result"
    }
   ],
   "source": [
    "m_60_2"
   ]
  },
  {
   "cell_type": "code",
   "execution_count": 433,
   "metadata": {},
   "outputs": [],
   "source": [
    "m_30_1 = np.array(m_g1_counts.iloc[:,0])\n",
    "m_30_2 = np.array(m_g2_counts.iloc[:,0])"
   ]
  },
  {
   "cell_type": "code",
   "execution_count": 434,
   "metadata": {},
   "outputs": [
    {
     "data": {
      "text/plain": [
       "array([0., 0., 6., 6., 3., 2., 5., 7., 4., 0., 7., 7., 4., 7.])"
      ]
     },
     "execution_count": 434,
     "metadata": {},
     "output_type": "execute_result"
    }
   ],
   "source": [
    "m_30_1"
   ]
  },
  {
   "cell_type": "code",
   "execution_count": 435,
   "metadata": {},
   "outputs": [
    {
     "data": {
      "text/plain": [
       "array([ 0.,  1.,  9.,  7.,  0.,  0.,  7.,  6.,  0.,  0.,  5.,  7., 11.,\n",
       "        6.])"
      ]
     },
     "execution_count": 435,
     "metadata": {},
     "output_type": "execute_result"
    }
   ],
   "source": [
    "m_30_2"
   ]
  },
  {
   "cell_type": "markdown",
   "metadata": {},
   "source": [
    "# Multi combined choice statistics"
   ]
  },
  {
   "cell_type": "code",
   "execution_count": 436,
   "metadata": {},
   "outputs": [],
   "source": [
    "m_90_p = sp.stats.ttest_rel(m_90_1,m_90_2)\n",
    "m_60_p = sp.stats.ttest_rel(m_60_1,m_60_2)\n",
    "m_30_p = sp.stats.ttest_rel(m_30_1,m_30_2)"
   ]
  },
  {
   "cell_type": "code",
   "execution_count": 437,
   "metadata": {},
   "outputs": [
    {
     "data": {
      "text/plain": [
       "Ttest_relResult(statistic=-0.3036421933135836, pvalue=0.7662056489772482)"
      ]
     },
     "execution_count": 437,
     "metadata": {},
     "output_type": "execute_result"
    }
   ],
   "source": [
    "m_90_p"
   ]
  },
  {
   "cell_type": "code",
   "execution_count": 438,
   "metadata": {},
   "outputs": [
    {
     "data": {
      "text/plain": [
       "Ttest_relResult(statistic=0.4135850959342556, pvalue=0.6859194947592072)"
      ]
     },
     "execution_count": 438,
     "metadata": {},
     "output_type": "execute_result"
    }
   ],
   "source": [
    "m_60_p"
   ]
  },
  {
   "cell_type": "code",
   "execution_count": 439,
   "metadata": {},
   "outputs": [
    {
     "data": {
      "text/plain": [
       "Ttest_relResult(statistic=-0.09688282401152257, pvalue=0.9242971550765083)"
      ]
     },
     "execution_count": 439,
     "metadata": {},
     "output_type": "execute_result"
    }
   ],
   "source": [
    "m_30_p"
   ]
  },
  {
   "cell_type": "code",
   "execution_count": 440,
   "metadata": {},
   "outputs": [],
   "source": [
    "#maximizing and matching?"
   ]
  },
  {
   "cell_type": "markdown",
   "metadata": {},
   "source": [
    "# Total social counts (M & J)"
   ]
  },
  {
   "cell_type": "code",
   "execution_count": 441,
   "metadata": {},
   "outputs": [],
   "source": [
    "social_counts_g1 = pd.DataFrame([j01_p1_g1_count, j01_p2_g1_count, j02_p1_g1_count, j02_p2_g1_count, j03_p1_g1_count, \n",
    "              j03_p2_g1_count, j04_p1_g1_count, j04_p2_g1_count, j05_p1_g1_count, j05_p2_g1_count, j06_p1_g1_count, \n",
    "              j06_p2_g1_count, j07_p1_g1_count, j07_p2_g1_count, j08_p1_g1_count, j08_p2_g1_count, \n",
    "              j10_p1_g1_count, j10_p2_g1_count, j11_p1_g1_count, j11_p2_g1_count, m05_p1_g1_count, m05_p2_g1_count, m06_p1_g1_count, m06_p2_g1_count, m08_p1_g1_count, m08_p2_g1_count, \n",
    "              m10_p1_g1_count, m10_p2_g1_count, m11_p1_g1_count, m11_p2_g1_count, m13_p1_g1_count, m13_p2_g1_count, \n",
    "              m14_p1_g1_count, m14_p2_g1_count],\n",
    "                index = ['j01_p1_g1_count', 'j01_p2_g1_count', 'j02_p1_g1_count', 'j02_p2_g1_count', \n",
    "                 'j03_p1_g1_count', 'j03_p2_g1_count', 'j04_p1_g1_count', 'j04_p2_g1_count', 'j05_p1_g1_count', \n",
    "                  'j05_p2_g1_count', 'j06_p1_g1_count', 'j06_p2_g1_count', 'j07_p1_g1_count', \n",
    "                    'j07_p2_g1_count', 'j08_p1_g1_count', 'j08_p2_g1_count', 'j10_p1_g1_count', 'j10_p2_g1_count', \n",
    "                    'j11_p1_g1_count', 'j11_p2_g1_count', 'm05_p1_g1_count', 'm05_p2_g1_count', 'm06_p1_g1_count', 'm06_p2_g1_count',\n",
    "                 'm08_p1_g1_count', 'm08_p2_g1_count', 'm10_p1_g1_count', 'm10_p2_g1_count', 'm11_p1_g1_count', \n",
    "                'm11_p2_g1_count', 'm13_p1_g1_count', 'm13_p2_g1_count', 'm14_p1_g1_count', 'm14_p2_g1_count'])"
   ]
  },
  {
   "cell_type": "code",
   "execution_count": 442,
   "metadata": {},
   "outputs": [],
   "source": [
    "#How to prevent NaN: df = df.fillna(0)\n",
    "social_counts_g1=social_counts_g1.fillna(0)"
   ]
  },
  {
   "cell_type": "code",
   "execution_count": 443,
   "metadata": {},
   "outputs": [
    {
     "data": {
      "text/html": [
       "<div>\n",
       "<style scoped>\n",
       "    .dataframe tbody tr th:only-of-type {\n",
       "        vertical-align: middle;\n",
       "    }\n",
       "\n",
       "    .dataframe tbody tr th {\n",
       "        vertical-align: top;\n",
       "    }\n",
       "\n",
       "    .dataframe thead th {\n",
       "        text-align: right;\n",
       "    }\n",
       "</style>\n",
       "<table border=\"1\" class=\"dataframe\">\n",
       "  <thead>\n",
       "    <tr style=\"text-align: right;\">\n",
       "      <th></th>\n",
       "      <th>30</th>\n",
       "      <th>60</th>\n",
       "      <th>90</th>\n",
       "    </tr>\n",
       "  </thead>\n",
       "  <tbody>\n",
       "    <tr>\n",
       "      <td>j01_p1_g1_count</td>\n",
       "      <td>8.0</td>\n",
       "      <td>6.0</td>\n",
       "      <td>6.0</td>\n",
       "    </tr>\n",
       "    <tr>\n",
       "      <td>j01_p2_g1_count</td>\n",
       "      <td>7.0</td>\n",
       "      <td>8.0</td>\n",
       "      <td>5.0</td>\n",
       "    </tr>\n",
       "    <tr>\n",
       "      <td>j02_p1_g1_count</td>\n",
       "      <td>7.0</td>\n",
       "      <td>8.0</td>\n",
       "      <td>5.0</td>\n",
       "    </tr>\n",
       "    <tr>\n",
       "      <td>j02_p2_g1_count</td>\n",
       "      <td>5.0</td>\n",
       "      <td>5.0</td>\n",
       "      <td>10.0</td>\n",
       "    </tr>\n",
       "    <tr>\n",
       "      <td>j03_p1_g1_count</td>\n",
       "      <td>7.0</td>\n",
       "      <td>6.0</td>\n",
       "      <td>7.0</td>\n",
       "    </tr>\n",
       "    <tr>\n",
       "      <td>j03_p2_g1_count</td>\n",
       "      <td>9.0</td>\n",
       "      <td>5.0</td>\n",
       "      <td>6.0</td>\n",
       "    </tr>\n",
       "    <tr>\n",
       "      <td>j04_p1_g1_count</td>\n",
       "      <td>7.0</td>\n",
       "      <td>8.0</td>\n",
       "      <td>5.0</td>\n",
       "    </tr>\n",
       "    <tr>\n",
       "      <td>j04_p2_g1_count</td>\n",
       "      <td>10.0</td>\n",
       "      <td>1.0</td>\n",
       "      <td>9.0</td>\n",
       "    </tr>\n",
       "    <tr>\n",
       "      <td>j05_p1_g1_count</td>\n",
       "      <td>0.0</td>\n",
       "      <td>4.0</td>\n",
       "      <td>16.0</td>\n",
       "    </tr>\n",
       "    <tr>\n",
       "      <td>j05_p2_g1_count</td>\n",
       "      <td>3.0</td>\n",
       "      <td>6.0</td>\n",
       "      <td>11.0</td>\n",
       "    </tr>\n",
       "    <tr>\n",
       "      <td>j06_p1_g1_count</td>\n",
       "      <td>9.0</td>\n",
       "      <td>8.0</td>\n",
       "      <td>3.0</td>\n",
       "    </tr>\n",
       "    <tr>\n",
       "      <td>j06_p2_g1_count</td>\n",
       "      <td>13.0</td>\n",
       "      <td>2.0</td>\n",
       "      <td>5.0</td>\n",
       "    </tr>\n",
       "    <tr>\n",
       "      <td>j07_p1_g1_count</td>\n",
       "      <td>0.0</td>\n",
       "      <td>10.0</td>\n",
       "      <td>10.0</td>\n",
       "    </tr>\n",
       "    <tr>\n",
       "      <td>j07_p2_g1_count</td>\n",
       "      <td>3.0</td>\n",
       "      <td>2.0</td>\n",
       "      <td>15.0</td>\n",
       "    </tr>\n",
       "    <tr>\n",
       "      <td>j08_p1_g1_count</td>\n",
       "      <td>5.0</td>\n",
       "      <td>8.0</td>\n",
       "      <td>7.0</td>\n",
       "    </tr>\n",
       "    <tr>\n",
       "      <td>j08_p2_g1_count</td>\n",
       "      <td>12.0</td>\n",
       "      <td>2.0</td>\n",
       "      <td>6.0</td>\n",
       "    </tr>\n",
       "    <tr>\n",
       "      <td>j10_p1_g1_count</td>\n",
       "      <td>7.0</td>\n",
       "      <td>6.0</td>\n",
       "      <td>7.0</td>\n",
       "    </tr>\n",
       "    <tr>\n",
       "      <td>j10_p2_g1_count</td>\n",
       "      <td>4.0</td>\n",
       "      <td>6.0</td>\n",
       "      <td>10.0</td>\n",
       "    </tr>\n",
       "    <tr>\n",
       "      <td>j11_p1_g1_count</td>\n",
       "      <td>0.0</td>\n",
       "      <td>8.0</td>\n",
       "      <td>12.0</td>\n",
       "    </tr>\n",
       "    <tr>\n",
       "      <td>j11_p2_g1_count</td>\n",
       "      <td>0.0</td>\n",
       "      <td>3.0</td>\n",
       "      <td>17.0</td>\n",
       "    </tr>\n",
       "    <tr>\n",
       "      <td>m05_p1_g1_count</td>\n",
       "      <td>0.0</td>\n",
       "      <td>5.0</td>\n",
       "      <td>15.0</td>\n",
       "    </tr>\n",
       "    <tr>\n",
       "      <td>m05_p2_g1_count</td>\n",
       "      <td>0.0</td>\n",
       "      <td>5.0</td>\n",
       "      <td>15.0</td>\n",
       "    </tr>\n",
       "    <tr>\n",
       "      <td>m06_p1_g1_count</td>\n",
       "      <td>6.0</td>\n",
       "      <td>7.0</td>\n",
       "      <td>7.0</td>\n",
       "    </tr>\n",
       "    <tr>\n",
       "      <td>m06_p2_g1_count</td>\n",
       "      <td>6.0</td>\n",
       "      <td>6.0</td>\n",
       "      <td>8.0</td>\n",
       "    </tr>\n",
       "    <tr>\n",
       "      <td>m08_p1_g1_count</td>\n",
       "      <td>3.0</td>\n",
       "      <td>7.0</td>\n",
       "      <td>10.0</td>\n",
       "    </tr>\n",
       "    <tr>\n",
       "      <td>m08_p2_g1_count</td>\n",
       "      <td>2.0</td>\n",
       "      <td>7.0</td>\n",
       "      <td>11.0</td>\n",
       "    </tr>\n",
       "    <tr>\n",
       "      <td>m10_p1_g1_count</td>\n",
       "      <td>5.0</td>\n",
       "      <td>6.0</td>\n",
       "      <td>9.0</td>\n",
       "    </tr>\n",
       "    <tr>\n",
       "      <td>m10_p2_g1_count</td>\n",
       "      <td>7.0</td>\n",
       "      <td>9.0</td>\n",
       "      <td>4.0</td>\n",
       "    </tr>\n",
       "    <tr>\n",
       "      <td>m11_p1_g1_count</td>\n",
       "      <td>4.0</td>\n",
       "      <td>0.0</td>\n",
       "      <td>16.0</td>\n",
       "    </tr>\n",
       "    <tr>\n",
       "      <td>m11_p2_g1_count</td>\n",
       "      <td>0.0</td>\n",
       "      <td>0.0</td>\n",
       "      <td>20.0</td>\n",
       "    </tr>\n",
       "    <tr>\n",
       "      <td>m13_p1_g1_count</td>\n",
       "      <td>7.0</td>\n",
       "      <td>9.0</td>\n",
       "      <td>4.0</td>\n",
       "    </tr>\n",
       "    <tr>\n",
       "      <td>m13_p2_g1_count</td>\n",
       "      <td>7.0</td>\n",
       "      <td>8.0</td>\n",
       "      <td>5.0</td>\n",
       "    </tr>\n",
       "    <tr>\n",
       "      <td>m14_p1_g1_count</td>\n",
       "      <td>4.0</td>\n",
       "      <td>7.0</td>\n",
       "      <td>9.0</td>\n",
       "    </tr>\n",
       "    <tr>\n",
       "      <td>m14_p2_g1_count</td>\n",
       "      <td>7.0</td>\n",
       "      <td>6.0</td>\n",
       "      <td>7.0</td>\n",
       "    </tr>\n",
       "  </tbody>\n",
       "</table>\n",
       "</div>"
      ],
      "text/plain": [
       "                   30    60    90\n",
       "j01_p1_g1_count   8.0   6.0   6.0\n",
       "j01_p2_g1_count   7.0   8.0   5.0\n",
       "j02_p1_g1_count   7.0   8.0   5.0\n",
       "j02_p2_g1_count   5.0   5.0  10.0\n",
       "j03_p1_g1_count   7.0   6.0   7.0\n",
       "j03_p2_g1_count   9.0   5.0   6.0\n",
       "j04_p1_g1_count   7.0   8.0   5.0\n",
       "j04_p2_g1_count  10.0   1.0   9.0\n",
       "j05_p1_g1_count   0.0   4.0  16.0\n",
       "j05_p2_g1_count   3.0   6.0  11.0\n",
       "j06_p1_g1_count   9.0   8.0   3.0\n",
       "j06_p2_g1_count  13.0   2.0   5.0\n",
       "j07_p1_g1_count   0.0  10.0  10.0\n",
       "j07_p2_g1_count   3.0   2.0  15.0\n",
       "j08_p1_g1_count   5.0   8.0   7.0\n",
       "j08_p2_g1_count  12.0   2.0   6.0\n",
       "j10_p1_g1_count   7.0   6.0   7.0\n",
       "j10_p2_g1_count   4.0   6.0  10.0\n",
       "j11_p1_g1_count   0.0   8.0  12.0\n",
       "j11_p2_g1_count   0.0   3.0  17.0\n",
       "m05_p1_g1_count   0.0   5.0  15.0\n",
       "m05_p2_g1_count   0.0   5.0  15.0\n",
       "m06_p1_g1_count   6.0   7.0   7.0\n",
       "m06_p2_g1_count   6.0   6.0   8.0\n",
       "m08_p1_g1_count   3.0   7.0  10.0\n",
       "m08_p2_g1_count   2.0   7.0  11.0\n",
       "m10_p1_g1_count   5.0   6.0   9.0\n",
       "m10_p2_g1_count   7.0   9.0   4.0\n",
       "m11_p1_g1_count   4.0   0.0  16.0\n",
       "m11_p2_g1_count   0.0   0.0  20.0\n",
       "m13_p1_g1_count   7.0   9.0   4.0\n",
       "m13_p2_g1_count   7.0   8.0   5.0\n",
       "m14_p1_g1_count   4.0   7.0   9.0\n",
       "m14_p2_g1_count   7.0   6.0   7.0"
      ]
     },
     "execution_count": 443,
     "metadata": {},
     "output_type": "execute_result"
    }
   ],
   "source": [
    "social_counts_g1"
   ]
  },
  {
   "cell_type": "code",
   "execution_count": 444,
   "metadata": {},
   "outputs": [
    {
     "data": {
      "text/plain": [
       "j01_p1_g1_count    20.0\n",
       "j01_p2_g1_count    20.0\n",
       "j02_p1_g1_count    20.0\n",
       "j02_p2_g1_count    20.0\n",
       "j03_p1_g1_count    20.0\n",
       "j03_p2_g1_count    20.0\n",
       "j04_p1_g1_count    20.0\n",
       "j04_p2_g1_count    20.0\n",
       "j05_p1_g1_count    20.0\n",
       "j05_p2_g1_count    20.0\n",
       "j06_p1_g1_count    20.0\n",
       "j06_p2_g1_count    20.0\n",
       "j07_p1_g1_count    20.0\n",
       "j07_p2_g1_count    20.0\n",
       "j08_p1_g1_count    20.0\n",
       "j08_p2_g1_count    20.0\n",
       "j10_p1_g1_count    20.0\n",
       "j10_p2_g1_count    20.0\n",
       "j11_p1_g1_count    20.0\n",
       "j11_p2_g1_count    20.0\n",
       "m05_p1_g1_count    20.0\n",
       "m05_p2_g1_count    20.0\n",
       "m06_p1_g1_count    20.0\n",
       "m06_p2_g1_count    20.0\n",
       "m08_p1_g1_count    20.0\n",
       "m08_p2_g1_count    20.0\n",
       "m10_p1_g1_count    20.0\n",
       "m10_p2_g1_count    20.0\n",
       "m11_p1_g1_count    20.0\n",
       "m11_p2_g1_count    20.0\n",
       "m13_p1_g1_count    20.0\n",
       "m13_p2_g1_count    20.0\n",
       "m14_p1_g1_count    20.0\n",
       "m14_p2_g1_count    20.0\n",
       "dtype: float64"
      ]
     },
     "execution_count": 444,
     "metadata": {},
     "output_type": "execute_result"
    }
   ],
   "source": [
    "social_counts_g1.sum(axis=1)"
   ]
  },
  {
   "cell_type": "code",
   "execution_count": 445,
   "metadata": {},
   "outputs": [],
   "source": [
    "social_counts_g2 = pd.DataFrame([j01_p1_g2_count, j01_p2_g2_count, j02_p1_g2_count, j02_p2_g2_count, j03_p1_g2_count, \n",
    "              j03_p2_g2_count, j04_p1_g2_count, j04_p2_g2_count, j05_p1_g2_count, j05_p2_g2_count, j06_p1_g2_count, \n",
    "              j06_p2_g2_count, j07_p1_g2_count, j07_p2_g2_count, j08_p1_g2_count, j08_p2_g2_count, \n",
    "              j10_p1_g2_count, j10_p2_g2_count, j11_p1_g2_count, j11_p2_g2_count, m05_p1_g2_count, m05_p2_g2_count, m06_p1_g2_count, m06_p2_g2_count, m08_p1_g2_count, m08_p2_g2_count, \n",
    "              m10_p1_g2_count, m10_p2_g2_count, m11_p1_g2_count, m11_p2_g2_count, m13_p1_g2_count, m13_p2_g2_count, \n",
    "              m14_p1_g2_count, m14_p2_g2_count],\n",
    "                index = ['j01_p1_g2_count', 'j01_p2_g2_count', 'j02_p1_g2_count', 'j02_p2_g2_count', \n",
    "                 'j03_p1_g2_count', 'j03_p2_g2_count', 'j04_p1_g2_count', 'j04_p2_g2_count', 'j05_p1_g2_count', \n",
    "                  'j05_p2_g2_count', 'j06_p1_g2_count', 'j06_p2_g2_count', 'j07_p1_g2_count', \n",
    "                    'j07_p2_g2_count', 'j08_p1_g2_count', 'j08_p2_g2_count', 'j10_p1_g2_count', 'j10_p2_g2_count', \n",
    "                    'j11_p1_g2_count', 'j11_p2_g2_count', 'm05_p1_g2_count', 'm05_p2_g2_count', 'm06_p1_g2_count', 'm06_p2_g2_count',\n",
    "                 'm08_p1_g2_count', 'm08_p2_g2_count', 'm10_p1_g2_count', 'm10_p2_g2_count', 'm11_p1_g2_count', \n",
    "                'm11_p2_g2_count', 'm13_p1_g2_count', 'm13_p2_g2_count', 'm14_p1_g2_count', 'm14_p2_g2_count'])"
   ]
  },
  {
   "cell_type": "code",
   "execution_count": 446,
   "metadata": {},
   "outputs": [
    {
     "data": {
      "text/html": [
       "<div>\n",
       "<style scoped>\n",
       "    .dataframe tbody tr th:only-of-type {\n",
       "        vertical-align: middle;\n",
       "    }\n",
       "\n",
       "    .dataframe tbody tr th {\n",
       "        vertical-align: top;\n",
       "    }\n",
       "\n",
       "    .dataframe thead th {\n",
       "        text-align: right;\n",
       "    }\n",
       "</style>\n",
       "<table border=\"1\" class=\"dataframe\">\n",
       "  <thead>\n",
       "    <tr style=\"text-align: right;\">\n",
       "      <th></th>\n",
       "      <th>30</th>\n",
       "      <th>60</th>\n",
       "      <th>90</th>\n",
       "    </tr>\n",
       "  </thead>\n",
       "  <tbody>\n",
       "    <tr>\n",
       "      <td>j01_p1_g2_count</td>\n",
       "      <td>3.0</td>\n",
       "      <td>6.0</td>\n",
       "      <td>11.0</td>\n",
       "    </tr>\n",
       "    <tr>\n",
       "      <td>j01_p2_g2_count</td>\n",
       "      <td>5.0</td>\n",
       "      <td>7.0</td>\n",
       "      <td>8.0</td>\n",
       "    </tr>\n",
       "    <tr>\n",
       "      <td>j02_p1_g2_count</td>\n",
       "      <td>6.0</td>\n",
       "      <td>6.0</td>\n",
       "      <td>8.0</td>\n",
       "    </tr>\n",
       "    <tr>\n",
       "      <td>j02_p2_g2_count</td>\n",
       "      <td>4.0</td>\n",
       "      <td>8.0</td>\n",
       "      <td>8.0</td>\n",
       "    </tr>\n",
       "    <tr>\n",
       "      <td>j03_p1_g2_count</td>\n",
       "      <td>3.0</td>\n",
       "      <td>5.0</td>\n",
       "      <td>12.0</td>\n",
       "    </tr>\n",
       "    <tr>\n",
       "      <td>j03_p2_g2_count</td>\n",
       "      <td>0.0</td>\n",
       "      <td>0.0</td>\n",
       "      <td>20.0</td>\n",
       "    </tr>\n",
       "    <tr>\n",
       "      <td>j04_p1_g2_count</td>\n",
       "      <td>7.0</td>\n",
       "      <td>7.0</td>\n",
       "      <td>6.0</td>\n",
       "    </tr>\n",
       "    <tr>\n",
       "      <td>j04_p2_g2_count</td>\n",
       "      <td>9.0</td>\n",
       "      <td>5.0</td>\n",
       "      <td>6.0</td>\n",
       "    </tr>\n",
       "    <tr>\n",
       "      <td>j05_p1_g2_count</td>\n",
       "      <td>5.0</td>\n",
       "      <td>3.0</td>\n",
       "      <td>12.0</td>\n",
       "    </tr>\n",
       "    <tr>\n",
       "      <td>j05_p2_g2_count</td>\n",
       "      <td>2.0</td>\n",
       "      <td>8.0</td>\n",
       "      <td>10.0</td>\n",
       "    </tr>\n",
       "    <tr>\n",
       "      <td>j06_p1_g2_count</td>\n",
       "      <td>2.0</td>\n",
       "      <td>9.0</td>\n",
       "      <td>9.0</td>\n",
       "    </tr>\n",
       "    <tr>\n",
       "      <td>j06_p2_g2_count</td>\n",
       "      <td>2.0</td>\n",
       "      <td>6.0</td>\n",
       "      <td>12.0</td>\n",
       "    </tr>\n",
       "    <tr>\n",
       "      <td>j07_p1_g2_count</td>\n",
       "      <td>2.0</td>\n",
       "      <td>1.0</td>\n",
       "      <td>17.0</td>\n",
       "    </tr>\n",
       "    <tr>\n",
       "      <td>j07_p2_g2_count</td>\n",
       "      <td>2.0</td>\n",
       "      <td>9.0</td>\n",
       "      <td>9.0</td>\n",
       "    </tr>\n",
       "    <tr>\n",
       "      <td>j08_p1_g2_count</td>\n",
       "      <td>2.0</td>\n",
       "      <td>2.0</td>\n",
       "      <td>16.0</td>\n",
       "    </tr>\n",
       "    <tr>\n",
       "      <td>j08_p2_g2_count</td>\n",
       "      <td>6.0</td>\n",
       "      <td>6.0</td>\n",
       "      <td>8.0</td>\n",
       "    </tr>\n",
       "    <tr>\n",
       "      <td>j10_p1_g2_count</td>\n",
       "      <td>5.0</td>\n",
       "      <td>8.0</td>\n",
       "      <td>7.0</td>\n",
       "    </tr>\n",
       "    <tr>\n",
       "      <td>j10_p2_g2_count</td>\n",
       "      <td>10.0</td>\n",
       "      <td>1.0</td>\n",
       "      <td>9.0</td>\n",
       "    </tr>\n",
       "    <tr>\n",
       "      <td>j11_p1_g2_count</td>\n",
       "      <td>0.0</td>\n",
       "      <td>5.0</td>\n",
       "      <td>15.0</td>\n",
       "    </tr>\n",
       "    <tr>\n",
       "      <td>j11_p2_g2_count</td>\n",
       "      <td>0.0</td>\n",
       "      <td>0.0</td>\n",
       "      <td>20.0</td>\n",
       "    </tr>\n",
       "    <tr>\n",
       "      <td>m05_p1_g2_count</td>\n",
       "      <td>0.0</td>\n",
       "      <td>20.0</td>\n",
       "      <td>0.0</td>\n",
       "    </tr>\n",
       "    <tr>\n",
       "      <td>m05_p2_g2_count</td>\n",
       "      <td>1.0</td>\n",
       "      <td>0.0</td>\n",
       "      <td>19.0</td>\n",
       "    </tr>\n",
       "    <tr>\n",
       "      <td>m06_p1_g2_count</td>\n",
       "      <td>9.0</td>\n",
       "      <td>4.0</td>\n",
       "      <td>7.0</td>\n",
       "    </tr>\n",
       "    <tr>\n",
       "      <td>m06_p2_g2_count</td>\n",
       "      <td>7.0</td>\n",
       "      <td>5.0</td>\n",
       "      <td>8.0</td>\n",
       "    </tr>\n",
       "    <tr>\n",
       "      <td>m08_p1_g2_count</td>\n",
       "      <td>0.0</td>\n",
       "      <td>2.0</td>\n",
       "      <td>18.0</td>\n",
       "    </tr>\n",
       "    <tr>\n",
       "      <td>m08_p2_g2_count</td>\n",
       "      <td>0.0</td>\n",
       "      <td>0.0</td>\n",
       "      <td>20.0</td>\n",
       "    </tr>\n",
       "    <tr>\n",
       "      <td>m10_p1_g2_count</td>\n",
       "      <td>7.0</td>\n",
       "      <td>6.0</td>\n",
       "      <td>7.0</td>\n",
       "    </tr>\n",
       "    <tr>\n",
       "      <td>m10_p2_g2_count</td>\n",
       "      <td>6.0</td>\n",
       "      <td>9.0</td>\n",
       "      <td>5.0</td>\n",
       "    </tr>\n",
       "    <tr>\n",
       "      <td>m11_p1_g2_count</td>\n",
       "      <td>0.0</td>\n",
       "      <td>0.0</td>\n",
       "      <td>20.0</td>\n",
       "    </tr>\n",
       "    <tr>\n",
       "      <td>m11_p2_g2_count</td>\n",
       "      <td>0.0</td>\n",
       "      <td>0.0</td>\n",
       "      <td>20.0</td>\n",
       "    </tr>\n",
       "    <tr>\n",
       "      <td>m13_p1_g2_count</td>\n",
       "      <td>5.0</td>\n",
       "      <td>7.0</td>\n",
       "      <td>8.0</td>\n",
       "    </tr>\n",
       "    <tr>\n",
       "      <td>m13_p2_g2_count</td>\n",
       "      <td>7.0</td>\n",
       "      <td>5.0</td>\n",
       "      <td>8.0</td>\n",
       "    </tr>\n",
       "    <tr>\n",
       "      <td>m14_p1_g2_count</td>\n",
       "      <td>11.0</td>\n",
       "      <td>8.0</td>\n",
       "      <td>1.0</td>\n",
       "    </tr>\n",
       "    <tr>\n",
       "      <td>m14_p2_g2_count</td>\n",
       "      <td>6.0</td>\n",
       "      <td>8.0</td>\n",
       "      <td>6.0</td>\n",
       "    </tr>\n",
       "  </tbody>\n",
       "</table>\n",
       "</div>"
      ],
      "text/plain": [
       "                   30    60    90\n",
       "j01_p1_g2_count   3.0   6.0  11.0\n",
       "j01_p2_g2_count   5.0   7.0   8.0\n",
       "j02_p1_g2_count   6.0   6.0   8.0\n",
       "j02_p2_g2_count   4.0   8.0   8.0\n",
       "j03_p1_g2_count   3.0   5.0  12.0\n",
       "j03_p2_g2_count   0.0   0.0  20.0\n",
       "j04_p1_g2_count   7.0   7.0   6.0\n",
       "j04_p2_g2_count   9.0   5.0   6.0\n",
       "j05_p1_g2_count   5.0   3.0  12.0\n",
       "j05_p2_g2_count   2.0   8.0  10.0\n",
       "j06_p1_g2_count   2.0   9.0   9.0\n",
       "j06_p2_g2_count   2.0   6.0  12.0\n",
       "j07_p1_g2_count   2.0   1.0  17.0\n",
       "j07_p2_g2_count   2.0   9.0   9.0\n",
       "j08_p1_g2_count   2.0   2.0  16.0\n",
       "j08_p2_g2_count   6.0   6.0   8.0\n",
       "j10_p1_g2_count   5.0   8.0   7.0\n",
       "j10_p2_g2_count  10.0   1.0   9.0\n",
       "j11_p1_g2_count   0.0   5.0  15.0\n",
       "j11_p2_g2_count   0.0   0.0  20.0\n",
       "m05_p1_g2_count   0.0  20.0   0.0\n",
       "m05_p2_g2_count   1.0   0.0  19.0\n",
       "m06_p1_g2_count   9.0   4.0   7.0\n",
       "m06_p2_g2_count   7.0   5.0   8.0\n",
       "m08_p1_g2_count   0.0   2.0  18.0\n",
       "m08_p2_g2_count   0.0   0.0  20.0\n",
       "m10_p1_g2_count   7.0   6.0   7.0\n",
       "m10_p2_g2_count   6.0   9.0   5.0\n",
       "m11_p1_g2_count   0.0   0.0  20.0\n",
       "m11_p2_g2_count   0.0   0.0  20.0\n",
       "m13_p1_g2_count   5.0   7.0   8.0\n",
       "m13_p2_g2_count   7.0   5.0   8.0\n",
       "m14_p1_g2_count  11.0   8.0   1.0\n",
       "m14_p2_g2_count   6.0   8.0   6.0"
      ]
     },
     "execution_count": 446,
     "metadata": {},
     "output_type": "execute_result"
    }
   ],
   "source": [
    "#How to prevent NaN: df = df.fillna(0)\n",
    "social_counts_g2=social_counts_g2.fillna(0)\n",
    "social_counts_g2"
   ]
  },
  {
   "cell_type": "code",
   "execution_count": 447,
   "metadata": {},
   "outputs": [
    {
     "data": {
      "text/plain": [
       "j01_p1_g2_count    20.0\n",
       "j01_p2_g2_count    20.0\n",
       "j02_p1_g2_count    20.0\n",
       "j02_p2_g2_count    20.0\n",
       "j03_p1_g2_count    20.0\n",
       "j03_p2_g2_count    20.0\n",
       "j04_p1_g2_count    20.0\n",
       "j04_p2_g2_count    20.0\n",
       "j05_p1_g2_count    20.0\n",
       "j05_p2_g2_count    20.0\n",
       "j06_p1_g2_count    20.0\n",
       "j06_p2_g2_count    20.0\n",
       "j07_p1_g2_count    20.0\n",
       "j07_p2_g2_count    20.0\n",
       "j08_p1_g2_count    20.0\n",
       "j08_p2_g2_count    20.0\n",
       "j10_p1_g2_count    20.0\n",
       "j10_p2_g2_count    20.0\n",
       "j11_p1_g2_count    20.0\n",
       "j11_p2_g2_count    20.0\n",
       "m05_p1_g2_count    20.0\n",
       "m05_p2_g2_count    20.0\n",
       "m06_p1_g2_count    20.0\n",
       "m06_p2_g2_count    20.0\n",
       "m08_p1_g2_count    20.0\n",
       "m08_p2_g2_count    20.0\n",
       "m10_p1_g2_count    20.0\n",
       "m10_p2_g2_count    20.0\n",
       "m11_p1_g2_count    20.0\n",
       "m11_p2_g2_count    20.0\n",
       "m13_p1_g2_count    20.0\n",
       "m13_p2_g2_count    20.0\n",
       "m14_p1_g2_count    20.0\n",
       "m14_p2_g2_count    20.0\n",
       "dtype: float64"
      ]
     },
     "execution_count": 447,
     "metadata": {},
     "output_type": "execute_result"
    }
   ],
   "source": [
    "social_counts_g2.sum(axis=1)"
   ]
  },
  {
   "cell_type": "markdown",
   "metadata": {},
   "source": [
    "# Maximizing/Matching SOCIAL"
   ]
  },
  {
   "cell_type": "code",
   "execution_count": 448,
   "metadata": {},
   "outputs": [],
   "source": [
    "from scipy import stats"
   ]
  },
  {
   "cell_type": "code",
   "execution_count": 449,
   "metadata": {},
   "outputs": [],
   "source": [
    "#Optional: Idealized probability distributions to use for comparison. These assume a social strategy in which the probability\n",
    "#distributions of both partners in a joint session are averaged (all holes reward at a 60% rate)\n",
    "\n",
    "#social_max = [0, 0, 100]\n",
    "#social_match = [30/180 * 100,60/180 * 100, 90/180 * 100]\n"
   ]
  },
  {
   "cell_type": "code",
   "execution_count": 450,
   "metadata": {},
   "outputs": [],
   "source": [
    "#Calls jsd with the social distributions.\n",
    "#def call_jsd_social(counts):\n",
    "   # maxi = jsd(counts,social_max)\n",
    "   # matchi = jsd(counts,social_match)\n",
    "    #return maxi,matchi"
   ]
  },
  {
   "cell_type": "code",
   "execution_count": 561,
   "metadata": {},
   "outputs": [],
   "source": [
    "j01_p1_g1_max,j01_p1_g1_match,j01_p1_g1_rand,j01_p1_g1_soc = call_jsd(j01_p1_g1_count)\n",
    "j01_p1_g2_max,j01_p1_g2_match,j01_p1_g2_rand,j01_p1_g2_soc = call_jsd(j01_p1_g2_count)\n",
    "j01_p2_g1_max,j01_p2_g1_match,j01_p2_g1_rand,j01_p2_g1_soc = call_jsd(j01_p2_g1_count)\n",
    "j01_p2_g2_max,j01_p2_g2_match,j01_p2_g2_rand,j01_p2_g2_soc = call_jsd(j01_p2_g2_count)\n",
    "j02_p1_g1_max,j02_p1_g1_match,j02_p1_g1_rand,j02_p1_g1_soc = call_jsd(j02_p1_g1_count)\n",
    "j02_p1_g2_max,j02_p1_g2_match,j02_p1_g2_rand,j02_p1_g2_soc = call_jsd(j02_p1_g2_count)\n",
    "j02_p2_g1_max,j02_p2_g1_match,j02_p2_g1_rand,j02_p2_g1_soc = call_jsd(j02_p2_g1_count)\n",
    "j02_p2_g2_max,j02_p2_g2_match,j02_p2_g2_rand,j02_p2_g2_soc = call_jsd(j02_p2_g2_count)\n",
    "j03_p1_g1_max,j03_p1_g1_match,j03_p1_g1_rand,j03_p1_g1_soc = call_jsd(j03_p1_g1_count)\n",
    "j03_p1_g2_max,j03_p1_g2_match,j03_p1_g2_rand,j03_p1_g2_soc = call_jsd(j03_p1_g2_count)\n",
    "j03_p2_g1_max,j03_p2_g1_match,j03_p2_g1_rand,j03_p2_g1_soc = call_jsd(j03_p2_g1_count)\n",
    "j03_p2_g2_max,j03_p2_g2_match,j03_p2_g2_rand,j03_p2_g2_soc = call_jsd([0,0,20])\n",
    "j04_p1_g1_max,j04_p1_g1_match,j04_p1_g1_rand,j04_p1_g1_soc = call_jsd(j04_p1_g1_count)\n",
    "j04_p1_g2_max,j04_p1_g2_match,j04_p1_g2_rand,j04_p1_g2_soc = call_jsd(j04_p1_g2_count)\n",
    "j04_p2_g1_max,j04_p2_g1_match,j04_p2_g1_rand,j04_p2_g1_soc = call_jsd(j04_p2_g1_count)\n",
    "j04_p2_g2_max,j04_p2_g2_match,j04_p2_g2_rand,j04_p2_g2_soc = call_jsd(j04_p2_g2_count)\n",
    "j05_p1_g1_max,j05_p1_g1_match,j05_p1_g1_rand,j05_p1_g1_soc = call_jsd([0,4,16])\n",
    "j05_p1_g2_max,j05_p1_g2_match,j05_p1_g2_rand,j05_p1_g2_soc = call_jsd(j05_p1_g2_count)\n",
    "j05_p2_g1_max,j05_p2_g1_match,j05_p2_g1_rand,j05_p2_g1_soc = call_jsd(j05_p2_g1_count)\n",
    "j05_p2_g2_max,j05_p2_g2_match,j05_p2_g2_rand,j05_p2_g2_soc = call_jsd(j05_p2_g2_count)\n",
    "j06_p1_g1_max,j06_p1_g1_match,j06_p1_g1_rand,j06_p1_g1_soc = call_jsd(j06_p1_g1_count)\n",
    "j06_p1_g2_max,j06_p1_g2_match,j06_p1_g2_rand,j06_p1_g2_soc = call_jsd(j06_p1_g2_count)\n",
    "j06_p2_g1_max,j06_p2_g1_match,j06_p2_g1_rand,j06_p2_g1_soc = call_jsd(j06_p2_g1_count)\n",
    "j06_p2_g2_max,j06_p2_g2_match,j06_p2_g2_rand,j06_p2_g2_soc = call_jsd(j06_p2_g2_count)\n",
    "j07_p1_g1_max,j07_p1_g1_match,j07_p1_g1_rand,j07_p1_g1_soc = call_jsd([0,10,10])\n",
    "j07_p1_g2_max,j07_p1_g2_match,j07_p1_g2_rand,j07_p1_g2_soc = call_jsd(j07_p1_g2_count)\n",
    "j07_p2_g1_max,j07_p2_g1_match,j07_p2_g1_rand,j07_p2_g1_soc = call_jsd(j07_p2_g1_count)\n",
    "j07_p2_g2_max,j07_p2_g2_match,j07_p2_g2_rand,j07_p2_g2_soc = call_jsd(j07_p2_g2_count)\n",
    "j08_p1_g1_max,j08_p1_g1_match,j08_p1_g1_rand,j08_p1_g1_soc = call_jsd(j08_p1_g1_count)\n",
    "j08_p1_g2_max,j08_p1_g2_match,j08_p1_g2_rand,j08_p1_g2_soc = call_jsd(j08_p1_g2_count)\n",
    "j08_p2_g1_max,j08_p2_g1_match,j08_p2_g1_rand,j08_p2_g1_soc = call_jsd(j08_p2_g1_count)\n",
    "j08_p2_g2_max,j08_p2_g2_match,j08_p2_g2_rand,j08_p2_g2_soc = call_jsd(j08_p2_g2_count)\n",
    "j10_p1_g1_max,j10_p1_g1_match,j10_p1_g1_rand,j10_p1_g1_soc = call_jsd(j10_p1_g1_count)\n",
    "j10_p1_g2_max,j10_p1_g2_match,j10_p1_g2_rand,j10_p1_g2_soc = call_jsd(j10_p1_g2_count)\n",
    "j10_p2_g1_max,j10_p2_g1_match,j10_p2_g1_rand,j10_p2_g1_soc = call_jsd(j10_p2_g1_count)\n",
    "j10_p2_g2_max,j10_p2_g2_match,j10_p2_g2_rand,j10_p2_g2_soc = call_jsd(j10_p2_g2_count)\n",
    "j11_p1_g1_max,j11_p1_g1_match,j11_p1_g1_rand,j11_p1_g1_soc = call_jsd([0,8,12])\n",
    "j11_p1_g2_max,j11_p1_g2_match,j11_p1_g2_rand,j11_p1_g2_soc = call_jsd([0,5,15])\n",
    "j11_p2_g1_max,j11_p2_g1_match,j11_p2_g1_rand,j11_p2_g1_soc = call_jsd([0,3,17])\n",
    "j11_p2_g2_max,j11_p2_g2_match,j11_p2_g2_rand,j11_p2_g2_soc = call_jsd([0,0,20])\n",
    "m05_p1_g1_max,m05_p1_g1_match,m05_p1_g1_rand,m05_p1_g1_soc = call_jsd([0,5,15])\n",
    "m05_p1_g2_max,m05_p1_g2_match,m05_p1_g2_rand,m05_p1_g2_soc = call_jsd([0,20,0])\n",
    "m05_p2_g1_max,m05_p2_g1_match,m05_p2_g1_rand,m05_p2_g1_soc = call_jsd([0,5,15])\n",
    "m05_p2_g2_max,m05_p2_g2_match,m05_p2_g2_rand,m05_p2_g2_soc = call_jsd([1,0,19])\n",
    "m06_p1_g1_max,m06_p1_g1_match,m06_p1_g1_rand,m06_p1_g1_soc = call_jsd(m06_p1_g1_count)\n",
    "m06_p1_g2_max,m06_p1_g2_match,m06_p1_g2_rand,m06_p1_g2_soc = call_jsd(m06_p1_g2_count)\n",
    "m06_p2_g1_max,m06_p2_g1_match,m06_p2_g1_rand,m06_p2_g1_soc = call_jsd(m06_p2_g1_count)\n",
    "m06_p2_g2_max,m06_p2_g2_match,m06_p2_g2_rand,m06_p2_g2_soc = call_jsd(m06_p2_g2_count)\n",
    "m08_p1_g1_max,m08_p1_g1_match,m08_p1_g1_rand,m08_p1_g1_soc = call_jsd(m08_p1_g1_count)\n",
    "m08_p1_g2_max,m08_p1_g2_match,m08_p1_g2_rand,m08_p1_g2_soc = call_jsd([0,2,18])\n",
    "m08_p2_g1_max,m08_p2_g1_match,m08_p2_g1_rand,m08_p2_g1_soc = call_jsd(m08_p2_g1_count)\n",
    "m08_p2_g2_max,m08_p2_g2_match,m08_p2_g2_rand,m08_p2_g2_soc = call_jsd([0,0,20])\n",
    "m10_p1_g1_max,m10_p1_g1_match,m10_p1_g1_rand,m10_p1_g1_soc = call_jsd(m10_p1_g1_count)\n",
    "m10_p1_g2_max,m10_p1_g2_match,m10_p1_g2_rand,m10_p1_g2_soc = call_jsd(m10_p1_g2_count)\n",
    "m10_p2_g1_max,m10_p2_g1_match,m10_p2_g1_rand,m10_p2_g1_soc = call_jsd(m10_p2_g1_count)\n",
    "m10_p2_g2_max,m10_p2_g2_match,m10_p2_g2_rand,m10_p2_g2_soc = call_jsd(m10_p2_g2_count)\n",
    "m11_p1_g1_max,m11_p1_g1_match,m11_p1_g1_rand,m11_p1_g1_soc = call_jsd([0,5,15])\n",
    "m11_p1_g2_max,m11_p1_g2_match,m11_p1_g2_rand,m11_p1_g2_soc = call_jsd([0,0,20])\n",
    "m11_p2_g1_max,m11_p2_g1_match,m11_p2_g1_rand,m11_p2_g1_soc = call_jsd([0,5,15])\n",
    "m11_p2_g2_max,m11_p2_g2_match,m11_p2_g2_rand,m11_p2_g2_soc = call_jsd([0,0,20])\n",
    "m13_p1_g1_max,m13_p1_g1_match,m13_p1_g1_rand,m13_p1_g1_soc = call_jsd(m13_p1_g1_count)\n",
    "m13_p1_g2_max,m13_p1_g2_match,m13_p1_g2_rand,m13_p1_g2_soc = call_jsd(m13_p1_g2_count)\n",
    "m13_p2_g1_max,m13_p2_g1_match,m13_p2_g1_rand,m13_p2_g1_soc = call_jsd(m13_p2_g1_count)\n",
    "m13_p2_g2_max,m13_p2_g2_match,m13_p2_g2_rand,m13_p2_g2_soc = call_jsd(m13_p2_g2_count)\n",
    "m14_p1_g1_max,m14_p1_g1_match,m14_p1_g1_rand,m14_p1_g1_soc = call_jsd(m14_p1_g1_count)\n",
    "m14_p1_g2_max,m14_p1_g2_match,m14_p1_g2_rand,m14_p1_g2_soc = call_jsd(m14_p1_g2_count)\n",
    "m14_p2_g1_max,m14_p2_g1_match,m14_p2_g1_rand,m14_p2_g1_soc = call_jsd(m14_p2_g1_count)\n",
    "m14_p2_g2_max,m14_p2_g2_match,m14_p2_g2_rand,m14_p2_g2_soc = call_jsd(m14_p2_g2_count)"
   ]
  },
  {
   "cell_type": "code",
   "execution_count": 562,
   "metadata": {},
   "outputs": [],
   "source": [
    "#Create a dataframe for single player game 1 jsd scores, with a column for each strategy.'''\n",
    "social_jsd_g1 = pd.DataFrame({'max':[j01_p1_g1_max,j01_p2_g1_max,j02_p1_g1_max,j02_p2_g1_max,j03_p1_g1_max,j03_p2_g1_max,\n",
    "                             j04_p1_g1_max,j04_p2_g1_max,j05_p1_g1_max,j05_p2_g1_max,j06_p1_g1_max,j06_p2_g1_max,\n",
    "                             j07_p1_g1_max,j07_p2_g1_max,j08_p1_g1_max,j08_p2_g1_max, j10_p1_g1_max, j10_p2_g1_max,\n",
    "                               j11_p1_g1_max, j11_p2_g1_max, m05_p1_g1_max, m05_p2_g1_max, m06_p1_g1_max, m06_p2_g1_max,\n",
    "                                   m08_p1_g1_max, m08_p2_g1_max, m10_p1_g1_max, m10_p2_g1_max, m11_p1_g1_max, m11_p2_g1_max,\n",
    "                                    m13_p1_g1_max, m13_p2_g1_max, m14_p1_g1_max, m14_p2_g1_max],\n",
    "                    'match':[j01_p1_g1_match,j01_p2_g1_match,j02_p1_g1_match, j02_p2_g1_match,j03_p1_g1_match,j03_p2_g1_match,\n",
    "                               j04_p1_g1_match,j04_p2_g1_match,j05_p1_g1_match,\n",
    "                               j05_p2_g1_match,j06_p1_g1_match,j06_p2_g1_match,\n",
    "                               j07_p1_g1_match,j07_p2_g1_match,j08_p1_g1_match,j08_p2_g1_match, j10_p1_g1_match,\n",
    "                               j10_p2_g1_match, j11_p1_g1_match, j11_p2_g1_match, m05_p1_g1_match, m05_p2_g1_match,\n",
    "                               m06_p1_g1_match, m06_p2_g1_match, m08_p1_g1_match, m08_p2_g1_match, m10_p1_g1_match,\n",
    "                               m10_p2_g1_match, m11_p1_g1_match, m11_p2_g1_match, m13_p1_g1_match, m13_p2_g1_match,\n",
    "                               m14_p1_g1_match, m14_p2_g1_match],\n",
    "                    'rand':[j01_p1_g1_rand,j01_p2_g1_rand,j02_p1_g1_rand,j02_p2_g1_rand,j03_p1_g1_rand,j03_p2_g1_rand,\n",
    "                             j04_p1_g1_rand,j04_p2_g1_rand,j05_p1_g1_rand,j05_p2_g1_rand,j06_p1_g1_rand,j06_p2_g1_rand,\n",
    "                             j07_p1_g1_rand,j07_p2_g1_rand,j08_p1_g1_rand,j08_p2_g1_rand, j10_p1_g1_rand, j10_p2_g1_rand,\n",
    "                               j11_p1_g1_rand, j11_p2_g1_rand, m05_p1_g1_rand, m05_p2_g1_rand, m06_p1_g1_rand, m06_p2_g1_rand,\n",
    "                                   m08_p1_g1_rand, m08_p2_g1_rand, m10_p1_g1_rand, m10_p2_g1_rand, m11_p1_g1_rand, m11_p2_g1_rand,\n",
    "                                    m13_p1_g1_rand, m13_p2_g1_rand, m14_p1_g1_rand, m14_p2_g1_rand],\n",
    "                    'soc':[j01_p1_g1_soc,j01_p2_g1_soc,j02_p1_g1_soc, j02_p2_g1_soc,j03_p1_g1_soc,j03_p2_g1_soc,\n",
    "                               j04_p1_g1_soc,j04_p2_g1_soc,j05_p1_g1_soc,\n",
    "                               j05_p2_g1_soc,j06_p1_g1_soc,j06_p2_g1_soc,\n",
    "                               j07_p1_g1_soc,j07_p2_g1_soc,j08_p1_g1_soc,j08_p2_g1_soc, j10_p1_g1_soc,\n",
    "                               j10_p2_g1_soc, j11_p1_g1_soc, j11_p2_g1_soc, m05_p1_g1_soc, m05_p2_g1_soc,\n",
    "                               m06_p1_g1_soc, m06_p2_g1_soc, m08_p1_g1_soc, m08_p2_g1_soc, m10_p1_g1_soc,\n",
    "                               m10_p2_g1_soc, m11_p1_g1_soc, m11_p2_g1_soc, m13_p1_g1_soc, m13_p2_g1_soc,\n",
    "                               m14_p1_g1_soc, m14_p2_g1_soc]},\n",
    "                         index=['j01', 'j01', 'j02', 'j02', 'j03', 'j03','j04',\n",
    "                                'j04','j05', 'j05', 'j06', 'j06','j07','j07','j08','j08', 'j10', 'j10', 'j11', 'j11','m05','m05','m06', 'm06', 'm08', 'm08', 'm10', 'm10', 'm11', 'm11', 'm13','m13', 'm14', 'm14'])"
   ]
  },
  {
   "cell_type": "code",
   "execution_count": 563,
   "metadata": {},
   "outputs": [],
   "source": [
    "#to print wothout truncation\n",
    "pd.set_option('display.max_rows', None)"
   ]
  },
  {
   "cell_type": "code",
   "execution_count": 564,
   "metadata": {},
   "outputs": [
    {
     "data": {
      "text/html": [
       "<div>\n",
       "<style scoped>\n",
       "    .dataframe tbody tr th:only-of-type {\n",
       "        vertical-align: middle;\n",
       "    }\n",
       "\n",
       "    .dataframe tbody tr th {\n",
       "        vertical-align: top;\n",
       "    }\n",
       "\n",
       "    .dataframe thead th {\n",
       "        text-align: right;\n",
       "    }\n",
       "</style>\n",
       "<table border=\"1\" class=\"dataframe\">\n",
       "  <thead>\n",
       "    <tr style=\"text-align: right;\">\n",
       "      <th></th>\n",
       "      <th>max</th>\n",
       "      <th>match</th>\n",
       "      <th>rand</th>\n",
       "      <th>soc</th>\n",
       "    </tr>\n",
       "  </thead>\n",
       "  <tbody>\n",
       "    <tr>\n",
       "      <td>j01</td>\n",
       "      <td>0.274358</td>\n",
       "      <td>0.012880</td>\n",
       "      <td>0.002395</td>\n",
       "      <td>0.342014</td>\n",
       "    </tr>\n",
       "    <tr>\n",
       "      <td>j01</td>\n",
       "      <td>0.306858</td>\n",
       "      <td>0.012365</td>\n",
       "      <td>0.004605</td>\n",
       "      <td>0.274358</td>\n",
       "    </tr>\n",
       "    <tr>\n",
       "      <td>j02</td>\n",
       "      <td>0.306858</td>\n",
       "      <td>0.012365</td>\n",
       "      <td>0.004605</td>\n",
       "      <td>0.274358</td>\n",
       "    </tr>\n",
       "    <tr>\n",
       "      <td>j02</td>\n",
       "      <td>0.380396</td>\n",
       "      <td>0.067828</td>\n",
       "      <td>0.014363</td>\n",
       "      <td>0.380396</td>\n",
       "    </tr>\n",
       "    <tr>\n",
       "      <td>j03</td>\n",
       "      <td>0.306858</td>\n",
       "      <td>0.023714</td>\n",
       "      <td>0.000642</td>\n",
       "      <td>0.342014</td>\n",
       "    </tr>\n",
       "    <tr>\n",
       "      <td>j03</td>\n",
       "      <td>0.244099</td>\n",
       "      <td>0.013302</td>\n",
       "      <td>0.007785</td>\n",
       "      <td>0.380396</td>\n",
       "    </tr>\n",
       "    <tr>\n",
       "      <td>j04</td>\n",
       "      <td>0.306858</td>\n",
       "      <td>0.012365</td>\n",
       "      <td>0.004605</td>\n",
       "      <td>0.274358</td>\n",
       "    </tr>\n",
       "    <tr>\n",
       "      <td>j04</td>\n",
       "      <td>0.215762</td>\n",
       "      <td>0.092437</td>\n",
       "      <td>0.071387</td>\n",
       "      <td>0.592639</td>\n",
       "    </tr>\n",
       "    <tr>\n",
       "      <td>j05</td>\n",
       "      <td>0.074882</td>\n",
       "      <td>0.083649</td>\n",
       "      <td>0.173445</td>\n",
       "      <td>0.422810</td>\n",
       "    </tr>\n",
       "    <tr>\n",
       "      <td>j05</td>\n",
       "      <td>0.470500</td>\n",
       "      <td>0.104181</td>\n",
       "      <td>0.031689</td>\n",
       "      <td>0.342014</td>\n",
       "    </tr>\n",
       "    <tr>\n",
       "      <td>j06</td>\n",
       "      <td>0.244099</td>\n",
       "      <td>0.002395</td>\n",
       "      <td>0.023705</td>\n",
       "      <td>0.274358</td>\n",
       "    </tr>\n",
       "    <tr>\n",
       "      <td>j06</td>\n",
       "      <td>0.140003</td>\n",
       "      <td>0.042238</td>\n",
       "      <td>0.062078</td>\n",
       "      <td>0.525597</td>\n",
       "    </tr>\n",
       "    <tr>\n",
       "      <td>j07</td>\n",
       "      <td>0.215762</td>\n",
       "      <td>0.066152</td>\n",
       "      <td>0.132304</td>\n",
       "      <td>0.215762</td>\n",
       "    </tr>\n",
       "    <tr>\n",
       "      <td>j07</td>\n",
       "      <td>0.470500</td>\n",
       "      <td>0.183223</td>\n",
       "      <td>0.092081</td>\n",
       "      <td>0.525597</td>\n",
       "    </tr>\n",
       "    <tr>\n",
       "      <td>j08</td>\n",
       "      <td>0.380396</td>\n",
       "      <td>0.039378</td>\n",
       "      <td>0.004605</td>\n",
       "      <td>0.274358</td>\n",
       "    </tr>\n",
       "    <tr>\n",
       "      <td>j08</td>\n",
       "      <td>0.163897</td>\n",
       "      <td>0.045071</td>\n",
       "      <td>0.052892</td>\n",
       "      <td>0.525597</td>\n",
       "    </tr>\n",
       "    <tr>\n",
       "      <td>j10</td>\n",
       "      <td>0.306858</td>\n",
       "      <td>0.023714</td>\n",
       "      <td>0.000642</td>\n",
       "      <td>0.342014</td>\n",
       "    </tr>\n",
       "    <tr>\n",
       "      <td>j10</td>\n",
       "      <td>0.422810</td>\n",
       "      <td>0.077250</td>\n",
       "      <td>0.017251</td>\n",
       "      <td>0.342014</td>\n",
       "    </tr>\n",
       "    <tr>\n",
       "      <td>j11</td>\n",
       "      <td>0.163897</td>\n",
       "      <td>0.061555</td>\n",
       "      <td>0.136357</td>\n",
       "      <td>0.274358</td>\n",
       "    </tr>\n",
       "    <tr>\n",
       "      <td>j11</td>\n",
       "      <td>0.055030</td>\n",
       "      <td>0.098537</td>\n",
       "      <td>0.191694</td>\n",
       "      <td>0.470500</td>\n",
       "    </tr>\n",
       "    <tr>\n",
       "      <td>m05</td>\n",
       "      <td>0.095603</td>\n",
       "      <td>0.073333</td>\n",
       "      <td>0.159626</td>\n",
       "      <td>0.380396</td>\n",
       "    </tr>\n",
       "    <tr>\n",
       "      <td>m05</td>\n",
       "      <td>0.095603</td>\n",
       "      <td>0.073333</td>\n",
       "      <td>0.159626</td>\n",
       "      <td>0.380396</td>\n",
       "    </tr>\n",
       "    <tr>\n",
       "      <td>m06</td>\n",
       "      <td>0.342014</td>\n",
       "      <td>0.029358</td>\n",
       "      <td>0.000642</td>\n",
       "      <td>0.306858</td>\n",
       "    </tr>\n",
       "    <tr>\n",
       "      <td>m06</td>\n",
       "      <td>0.342014</td>\n",
       "      <td>0.037821</td>\n",
       "      <td>0.002395</td>\n",
       "      <td>0.342014</td>\n",
       "    </tr>\n",
       "    <tr>\n",
       "      <td>m08</td>\n",
       "      <td>0.470500</td>\n",
       "      <td>0.093412</td>\n",
       "      <td>0.026319</td>\n",
       "      <td>0.306858</td>\n",
       "    </tr>\n",
       "    <tr>\n",
       "      <td>m08</td>\n",
       "      <td>0.525597</td>\n",
       "      <td>0.126913</td>\n",
       "      <td>0.046662</td>\n",
       "      <td>0.306858</td>\n",
       "    </tr>\n",
       "    <tr>\n",
       "      <td>m10</td>\n",
       "      <td>0.380396</td>\n",
       "      <td>0.055476</td>\n",
       "      <td>0.007785</td>\n",
       "      <td>0.342014</td>\n",
       "    </tr>\n",
       "    <tr>\n",
       "      <td>m10</td>\n",
       "      <td>0.306858</td>\n",
       "      <td>0.011771</td>\n",
       "      <td>0.012884</td>\n",
       "      <td>0.244099</td>\n",
       "    </tr>\n",
       "    <tr>\n",
       "      <td>m11</td>\n",
       "      <td>0.095603</td>\n",
       "      <td>0.073333</td>\n",
       "      <td>0.159626</td>\n",
       "      <td>0.380396</td>\n",
       "    </tr>\n",
       "    <tr>\n",
       "      <td>m11</td>\n",
       "      <td>0.095603</td>\n",
       "      <td>0.073333</td>\n",
       "      <td>0.159626</td>\n",
       "      <td>0.380396</td>\n",
       "    </tr>\n",
       "    <tr>\n",
       "      <td>m13</td>\n",
       "      <td>0.306858</td>\n",
       "      <td>0.011771</td>\n",
       "      <td>0.012884</td>\n",
       "      <td>0.244099</td>\n",
       "    </tr>\n",
       "    <tr>\n",
       "      <td>m13</td>\n",
       "      <td>0.306858</td>\n",
       "      <td>0.012365</td>\n",
       "      <td>0.004605</td>\n",
       "      <td>0.274358</td>\n",
       "    </tr>\n",
       "    <tr>\n",
       "      <td>m14</td>\n",
       "      <td>0.422810</td>\n",
       "      <td>0.067108</td>\n",
       "      <td>0.012884</td>\n",
       "      <td>0.306858</td>\n",
       "    </tr>\n",
       "    <tr>\n",
       "      <td>m14</td>\n",
       "      <td>0.306858</td>\n",
       "      <td>0.023714</td>\n",
       "      <td>0.000642</td>\n",
       "      <td>0.342014</td>\n",
       "    </tr>\n",
       "  </tbody>\n",
       "</table>\n",
       "</div>"
      ],
      "text/plain": [
       "          max     match      rand       soc\n",
       "j01  0.274358  0.012880  0.002395  0.342014\n",
       "j01  0.306858  0.012365  0.004605  0.274358\n",
       "j02  0.306858  0.012365  0.004605  0.274358\n",
       "j02  0.380396  0.067828  0.014363  0.380396\n",
       "j03  0.306858  0.023714  0.000642  0.342014\n",
       "j03  0.244099  0.013302  0.007785  0.380396\n",
       "j04  0.306858  0.012365  0.004605  0.274358\n",
       "j04  0.215762  0.092437  0.071387  0.592639\n",
       "j05  0.074882  0.083649  0.173445  0.422810\n",
       "j05  0.470500  0.104181  0.031689  0.342014\n",
       "j06  0.244099  0.002395  0.023705  0.274358\n",
       "j06  0.140003  0.042238  0.062078  0.525597\n",
       "j07  0.215762  0.066152  0.132304  0.215762\n",
       "j07  0.470500  0.183223  0.092081  0.525597\n",
       "j08  0.380396  0.039378  0.004605  0.274358\n",
       "j08  0.163897  0.045071  0.052892  0.525597\n",
       "j10  0.306858  0.023714  0.000642  0.342014\n",
       "j10  0.422810  0.077250  0.017251  0.342014\n",
       "j11  0.163897  0.061555  0.136357  0.274358\n",
       "j11  0.055030  0.098537  0.191694  0.470500\n",
       "m05  0.095603  0.073333  0.159626  0.380396\n",
       "m05  0.095603  0.073333  0.159626  0.380396\n",
       "m06  0.342014  0.029358  0.000642  0.306858\n",
       "m06  0.342014  0.037821  0.002395  0.342014\n",
       "m08  0.470500  0.093412  0.026319  0.306858\n",
       "m08  0.525597  0.126913  0.046662  0.306858\n",
       "m10  0.380396  0.055476  0.007785  0.342014\n",
       "m10  0.306858  0.011771  0.012884  0.244099\n",
       "m11  0.095603  0.073333  0.159626  0.380396\n",
       "m11  0.095603  0.073333  0.159626  0.380396\n",
       "m13  0.306858  0.011771  0.012884  0.244099\n",
       "m13  0.306858  0.012365  0.004605  0.274358\n",
       "m14  0.422810  0.067108  0.012884  0.306858\n",
       "m14  0.306858  0.023714  0.000642  0.342014"
      ]
     },
     "execution_count": 564,
     "metadata": {},
     "output_type": "execute_result"
    }
   ],
   "source": [
    "social_jsd_g1"
   ]
  },
  {
   "cell_type": "code",
   "execution_count": 565,
   "metadata": {
    "scrolled": false
   },
   "outputs": [
    {
     "name": "stdout",
     "output_type": "stream",
     "text": [
      "min values of row are at following columns :\n",
      "j01     rand\n",
      "j01     rand\n",
      "j02     rand\n",
      "j02     rand\n",
      "j03     rand\n",
      "j03     rand\n",
      "j04     rand\n",
      "j04     rand\n",
      "j05      max\n",
      "j05     rand\n",
      "j06    match\n",
      "j06    match\n",
      "j07    match\n",
      "j07     rand\n",
      "j08     rand\n",
      "j08    match\n",
      "j10     rand\n",
      "j10     rand\n",
      "j11    match\n",
      "j11      max\n",
      "m05    match\n",
      "m05    match\n",
      "m06     rand\n",
      "m06     rand\n",
      "m08     rand\n",
      "m08     rand\n",
      "m10     rand\n",
      "m10    match\n",
      "m11    match\n",
      "m11    match\n",
      "m13    match\n",
      "m13     rand\n",
      "m14     rand\n",
      "m14     rand\n",
      "dtype: object\n"
     ]
    }
   ],
   "source": [
    "# get the column name of min values in every row\n",
    "strategy_social_jsd_g1 = social_jsd_g1.idxmin(axis=1)\n",
    " \n",
    "print(\"min values of row are at following columns :\")\n",
    "print(strategy_social_jsd_g1)\n"
   ]
  },
  {
   "cell_type": "code",
   "execution_count": 566,
   "metadata": {},
   "outputs": [
    {
     "data": {
      "text/plain": [
       "rand     21\n",
       "match    11\n",
       "max       2\n",
       "dtype: int64"
      ]
     },
     "execution_count": 566,
     "metadata": {},
     "output_type": "execute_result"
    }
   ],
   "source": [
    "strategy_social_jsd_g1.value_counts()"
   ]
  },
  {
   "cell_type": "code",
   "execution_count": 567,
   "metadata": {},
   "outputs": [],
   "source": [
    "#social_types_g1 = check_type(social_jsd_g1)"
   ]
  },
  {
   "cell_type": "code",
   "execution_count": 568,
   "metadata": {
    "scrolled": false
   },
   "outputs": [],
   "source": [
    "#social_types_g1.drop([0])"
   ]
  },
  {
   "cell_type": "code",
   "execution_count": 569,
   "metadata": {},
   "outputs": [],
   "source": [
    "#(social_types_g1 == 'maxi').sum()"
   ]
  },
  {
   "cell_type": "code",
   "execution_count": 570,
   "metadata": {},
   "outputs": [],
   "source": [
    "#Create a dataframe for single player game 1 jsd scores, with a column for each strategy.'''\n",
    "social_jsd_g2 = pd.DataFrame({'max':[j01_p1_g2_max,j01_p2_g2_max,j02_p1_g2_max,j02_p2_g2_max,j03_p1_g2_max,j03_p2_g2_max,\n",
    "                             j04_p1_g2_max,j04_p2_g2_max,j05_p1_g2_max,j05_p2_g2_max,j06_p1_g2_max,j06_p2_g2_max,\n",
    "                             j07_p1_g2_max,j07_p2_g2_max,j08_p1_g2_max,j08_p2_g2_max, j10_p1_g2_max, j10_p2_g2_max,\n",
    "                               j11_p1_g2_max, j11_p2_g2_max, m05_p1_g2_max, m05_p2_g2_max, m06_p1_g2_max, m06_p2_g2_max,\n",
    "                                   m08_p1_g2_max, m08_p2_g2_max, m10_p1_g2_max, m10_p2_g2_max, m11_p1_g2_max, m11_p2_g2_max,\n",
    "                                    m13_p1_g2_max, m13_p2_g2_max, m14_p1_g2_max, m14_p2_g2_max],\n",
    "                    'match':[j01_p1_g2_match,j01_p2_g2_match,j02_p1_g2_match, j02_p2_g2_match,j03_p1_g2_match,j03_p2_g2_match,\n",
    "                               j04_p1_g2_match,j04_p2_g2_match,j05_p1_g2_match,\n",
    "                               j05_p2_g2_match,j06_p1_g2_match,j06_p2_g2_match,\n",
    "                               j07_p1_g2_match,j07_p2_g2_match,j08_p1_g2_match,j08_p2_g2_match, j10_p1_g2_match,\n",
    "                               j10_p2_g2_match, j11_p1_g2_match, j11_p2_g2_match, m05_p1_g2_match, m05_p2_g2_match,\n",
    "                               m06_p1_g2_match, m06_p2_g2_match, m08_p1_g2_match, m08_p2_g2_match, m10_p1_g2_match,\n",
    "                               m10_p2_g2_match, m11_p1_g2_match, m11_p2_g2_match, m13_p1_g2_match, m13_p2_g2_match,\n",
    "                               m14_p1_g2_match, m14_p2_g2_match],\n",
    "                    'rand':[j01_p1_g2_rand,j01_p2_g2_rand,j02_p1_g2_rand,j02_p2_g2_rand,j03_p1_g2_rand,j03_p2_g2_rand,\n",
    "                             j04_p1_g2_rand,j04_p2_g2_rand,j05_p1_g2_rand,j05_p2_g2_rand,j06_p1_g2_rand,j06_p2_g2_rand,\n",
    "                             j07_p1_g2_rand,j07_p2_g2_rand,j08_p1_g2_rand,j08_p2_g2_rand, j10_p1_g2_rand, j10_p2_g2_rand,\n",
    "                               j11_p1_g2_rand, j11_p2_g2_rand, m05_p1_g2_rand, m05_p2_g2_rand, m06_p1_g2_rand, m06_p2_g2_rand,\n",
    "                                   m08_p1_g2_rand, m08_p2_g2_rand, m10_p1_g2_rand, m10_p2_g2_rand, m11_p1_g2_rand, m11_p2_g2_rand,\n",
    "                                    m13_p1_g2_rand, m13_p2_g2_rand, m14_p1_g2_rand, m14_p2_g2_rand],\n",
    "                    'soc':[j01_p1_g2_soc,j01_p2_g2_soc,j02_p1_g2_soc, j02_p2_g2_soc,j03_p1_g2_soc,j03_p2_g2_soc,\n",
    "                               j04_p1_g2_soc,j04_p2_g2_soc,j05_p1_g2_soc,\n",
    "                               j05_p2_g2_soc,j06_p1_g2_soc,j06_p2_g2_soc,\n",
    "                               j07_p1_g2_soc,j07_p2_g2_soc,j08_p1_g2_soc,j08_p2_g2_soc, j10_p1_g2_soc,\n",
    "                               j10_p2_g2_soc, j11_p1_g2_soc, j11_p2_g2_soc, m05_p1_g2_soc, m05_p2_g2_soc,\n",
    "                               m06_p1_g2_soc, m06_p2_g2_soc, m08_p1_g2_soc, m08_p2_g2_soc, m10_p1_g2_soc,\n",
    "                               m10_p2_g2_soc, m11_p1_g2_soc, m11_p2_g2_soc, m13_p1_g2_soc, m13_p2_g2_soc,\n",
    "                               m14_p1_g2_soc, m14_p2_g2_soc]},\n",
    "                         index=['j01', 'j01', 'j02', 'j02', 'j03', 'j03','j04',\n",
    "                                'j04','j05', 'j05', 'j06', 'j06','j07','j07','j08','j08', 'j10', 'j10', 'j11', 'j11','m05','m05','m06', 'm06', 'm08', 'm08', 'm10', 'm10', 'm11', 'm11', 'm13','m13', 'm14', 'm14'])"
   ]
  },
  {
   "cell_type": "code",
   "execution_count": 571,
   "metadata": {},
   "outputs": [
    {
     "data": {
      "text/html": [
       "<div>\n",
       "<style scoped>\n",
       "    .dataframe tbody tr th:only-of-type {\n",
       "        vertical-align: middle;\n",
       "    }\n",
       "\n",
       "    .dataframe tbody tr th {\n",
       "        vertical-align: top;\n",
       "    }\n",
       "\n",
       "    .dataframe thead th {\n",
       "        text-align: right;\n",
       "    }\n",
       "</style>\n",
       "<table border=\"1\" class=\"dataframe\">\n",
       "  <thead>\n",
       "    <tr style=\"text-align: right;\">\n",
       "      <th></th>\n",
       "      <th>max</th>\n",
       "      <th>match</th>\n",
       "      <th>rand</th>\n",
       "      <th>soc</th>\n",
       "    </tr>\n",
       "  </thead>\n",
       "  <tbody>\n",
       "    <tr>\n",
       "      <td>j01</td>\n",
       "      <td>0.470500</td>\n",
       "      <td>0.104181</td>\n",
       "      <td>0.031689</td>\n",
       "      <td>0.342014</td>\n",
       "    </tr>\n",
       "    <tr>\n",
       "      <td>j01</td>\n",
       "      <td>0.380396</td>\n",
       "      <td>0.046088</td>\n",
       "      <td>0.004605</td>\n",
       "      <td>0.306858</td>\n",
       "    </tr>\n",
       "    <tr>\n",
       "      <td>j02</td>\n",
       "      <td>0.342014</td>\n",
       "      <td>0.037821</td>\n",
       "      <td>0.002395</td>\n",
       "      <td>0.342014</td>\n",
       "    </tr>\n",
       "    <tr>\n",
       "      <td>j02</td>\n",
       "      <td>0.422810</td>\n",
       "      <td>0.059473</td>\n",
       "      <td>0.011457</td>\n",
       "      <td>0.274358</td>\n",
       "    </tr>\n",
       "    <tr>\n",
       "      <td>j03</td>\n",
       "      <td>0.470500</td>\n",
       "      <td>0.117691</td>\n",
       "      <td>0.040130</td>\n",
       "      <td>0.380396</td>\n",
       "    </tr>\n",
       "    <tr>\n",
       "      <td>j03</td>\n",
       "      <td>0.000000</td>\n",
       "      <td>0.215762</td>\n",
       "      <td>0.318257</td>\n",
       "      <td>0.693147</td>\n",
       "    </tr>\n",
       "    <tr>\n",
       "      <td>j04</td>\n",
       "      <td>0.306858</td>\n",
       "      <td>0.016412</td>\n",
       "      <td>0.000642</td>\n",
       "      <td>0.306858</td>\n",
       "    </tr>\n",
       "    <tr>\n",
       "      <td>j04</td>\n",
       "      <td>0.244099</td>\n",
       "      <td>0.013302</td>\n",
       "      <td>0.007785</td>\n",
       "      <td>0.380396</td>\n",
       "    </tr>\n",
       "    <tr>\n",
       "      <td>j05</td>\n",
       "      <td>0.380396</td>\n",
       "      <td>0.104064</td>\n",
       "      <td>0.040130</td>\n",
       "      <td>0.470500</td>\n",
       "    </tr>\n",
       "    <tr>\n",
       "      <td>j05</td>\n",
       "      <td>0.525597</td>\n",
       "      <td>0.117897</td>\n",
       "      <td>0.043045</td>\n",
       "      <td>0.274358</td>\n",
       "    </tr>\n",
       "    <tr>\n",
       "      <td>j06</td>\n",
       "      <td>0.525597</td>\n",
       "      <td>0.110935</td>\n",
       "      <td>0.041858</td>\n",
       "      <td>0.244099</td>\n",
       "    </tr>\n",
       "    <tr>\n",
       "      <td>j06</td>\n",
       "      <td>0.525597</td>\n",
       "      <td>0.138213</td>\n",
       "      <td>0.052892</td>\n",
       "      <td>0.342014</td>\n",
       "    </tr>\n",
       "    <tr>\n",
       "      <td>j07</td>\n",
       "      <td>0.525597</td>\n",
       "      <td>0.256977</td>\n",
       "      <td>0.150116</td>\n",
       "      <td>0.592639</td>\n",
       "    </tr>\n",
       "    <tr>\n",
       "      <td>j07</td>\n",
       "      <td>0.525597</td>\n",
       "      <td>0.110935</td>\n",
       "      <td>0.041858</td>\n",
       "      <td>0.244099</td>\n",
       "    </tr>\n",
       "    <tr>\n",
       "      <td>j08</td>\n",
       "      <td>0.525597</td>\n",
       "      <td>0.218750</td>\n",
       "      <td>0.115773</td>\n",
       "      <td>0.525597</td>\n",
       "    </tr>\n",
       "    <tr>\n",
       "      <td>j08</td>\n",
       "      <td>0.342014</td>\n",
       "      <td>0.037821</td>\n",
       "      <td>0.002395</td>\n",
       "      <td>0.342014</td>\n",
       "    </tr>\n",
       "    <tr>\n",
       "      <td>j10</td>\n",
       "      <td>0.380396</td>\n",
       "      <td>0.039378</td>\n",
       "      <td>0.004605</td>\n",
       "      <td>0.274358</td>\n",
       "    </tr>\n",
       "    <tr>\n",
       "      <td>j10</td>\n",
       "      <td>0.215762</td>\n",
       "      <td>0.092437</td>\n",
       "      <td>0.071387</td>\n",
       "      <td>0.592639</td>\n",
       "    </tr>\n",
       "    <tr>\n",
       "      <td>j11</td>\n",
       "      <td>0.095603</td>\n",
       "      <td>0.073333</td>\n",
       "      <td>0.159626</td>\n",
       "      <td>0.380396</td>\n",
       "    </tr>\n",
       "    <tr>\n",
       "      <td>j11</td>\n",
       "      <td>0.000000</td>\n",
       "      <td>0.215762</td>\n",
       "      <td>0.318257</td>\n",
       "      <td>0.693147</td>\n",
       "    </tr>\n",
       "    <tr>\n",
       "      <td>m05</td>\n",
       "      <td>0.693147</td>\n",
       "      <td>0.318257</td>\n",
       "      <td>0.318257</td>\n",
       "      <td>0.000000</td>\n",
       "    </tr>\n",
       "    <tr>\n",
       "      <td>m05</td>\n",
       "      <td>0.017649</td>\n",
       "      <td>0.167590</td>\n",
       "      <td>0.251394</td>\n",
       "      <td>0.693147</td>\n",
       "    </tr>\n",
       "    <tr>\n",
       "      <td>m06</td>\n",
       "      <td>0.244099</td>\n",
       "      <td>0.025704</td>\n",
       "      <td>0.012884</td>\n",
       "      <td>0.422810</td>\n",
       "    </tr>\n",
       "    <tr>\n",
       "      <td>m06</td>\n",
       "      <td>0.306858</td>\n",
       "      <td>0.034388</td>\n",
       "      <td>0.004605</td>\n",
       "      <td>0.380396</td>\n",
       "    </tr>\n",
       "    <tr>\n",
       "      <td>m08</td>\n",
       "      <td>0.035974</td>\n",
       "      <td>0.119873</td>\n",
       "      <td>0.216261</td>\n",
       "      <td>0.525597</td>\n",
       "    </tr>\n",
       "    <tr>\n",
       "      <td>m08</td>\n",
       "      <td>0.000000</td>\n",
       "      <td>0.215762</td>\n",
       "      <td>0.318257</td>\n",
       "      <td>0.693147</td>\n",
       "    </tr>\n",
       "    <tr>\n",
       "      <td>m10</td>\n",
       "      <td>0.306858</td>\n",
       "      <td>0.023714</td>\n",
       "      <td>0.000642</td>\n",
       "      <td>0.342014</td>\n",
       "    </tr>\n",
       "    <tr>\n",
       "      <td>m10</td>\n",
       "      <td>0.342014</td>\n",
       "      <td>0.021189</td>\n",
       "      <td>0.007785</td>\n",
       "      <td>0.244099</td>\n",
       "    </tr>\n",
       "    <tr>\n",
       "      <td>m11</td>\n",
       "      <td>0.000000</td>\n",
       "      <td>0.215762</td>\n",
       "      <td>0.318257</td>\n",
       "      <td>0.693147</td>\n",
       "    </tr>\n",
       "    <tr>\n",
       "      <td>m11</td>\n",
       "      <td>0.000000</td>\n",
       "      <td>0.215762</td>\n",
       "      <td>0.318257</td>\n",
       "      <td>0.693147</td>\n",
       "    </tr>\n",
       "    <tr>\n",
       "      <td>m13</td>\n",
       "      <td>0.380396</td>\n",
       "      <td>0.046088</td>\n",
       "      <td>0.004605</td>\n",
       "      <td>0.306858</td>\n",
       "    </tr>\n",
       "    <tr>\n",
       "      <td>m13</td>\n",
       "      <td>0.306858</td>\n",
       "      <td>0.034388</td>\n",
       "      <td>0.004605</td>\n",
       "      <td>0.380396</td>\n",
       "    </tr>\n",
       "    <tr>\n",
       "      <td>m14</td>\n",
       "      <td>0.189094</td>\n",
       "      <td>0.018682</td>\n",
       "      <td>0.073577</td>\n",
       "      <td>0.274358</td>\n",
       "    </tr>\n",
       "    <tr>\n",
       "      <td>m14</td>\n",
       "      <td>0.342014</td>\n",
       "      <td>0.023809</td>\n",
       "      <td>0.002395</td>\n",
       "      <td>0.274358</td>\n",
       "    </tr>\n",
       "  </tbody>\n",
       "</table>\n",
       "</div>"
      ],
      "text/plain": [
       "          max     match      rand       soc\n",
       "j01  0.470500  0.104181  0.031689  0.342014\n",
       "j01  0.380396  0.046088  0.004605  0.306858\n",
       "j02  0.342014  0.037821  0.002395  0.342014\n",
       "j02  0.422810  0.059473  0.011457  0.274358\n",
       "j03  0.470500  0.117691  0.040130  0.380396\n",
       "j03  0.000000  0.215762  0.318257  0.693147\n",
       "j04  0.306858  0.016412  0.000642  0.306858\n",
       "j04  0.244099  0.013302  0.007785  0.380396\n",
       "j05  0.380396  0.104064  0.040130  0.470500\n",
       "j05  0.525597  0.117897  0.043045  0.274358\n",
       "j06  0.525597  0.110935  0.041858  0.244099\n",
       "j06  0.525597  0.138213  0.052892  0.342014\n",
       "j07  0.525597  0.256977  0.150116  0.592639\n",
       "j07  0.525597  0.110935  0.041858  0.244099\n",
       "j08  0.525597  0.218750  0.115773  0.525597\n",
       "j08  0.342014  0.037821  0.002395  0.342014\n",
       "j10  0.380396  0.039378  0.004605  0.274358\n",
       "j10  0.215762  0.092437  0.071387  0.592639\n",
       "j11  0.095603  0.073333  0.159626  0.380396\n",
       "j11  0.000000  0.215762  0.318257  0.693147\n",
       "m05  0.693147  0.318257  0.318257  0.000000\n",
       "m05  0.017649  0.167590  0.251394  0.693147\n",
       "m06  0.244099  0.025704  0.012884  0.422810\n",
       "m06  0.306858  0.034388  0.004605  0.380396\n",
       "m08  0.035974  0.119873  0.216261  0.525597\n",
       "m08  0.000000  0.215762  0.318257  0.693147\n",
       "m10  0.306858  0.023714  0.000642  0.342014\n",
       "m10  0.342014  0.021189  0.007785  0.244099\n",
       "m11  0.000000  0.215762  0.318257  0.693147\n",
       "m11  0.000000  0.215762  0.318257  0.693147\n",
       "m13  0.380396  0.046088  0.004605  0.306858\n",
       "m13  0.306858  0.034388  0.004605  0.380396\n",
       "m14  0.189094  0.018682  0.073577  0.274358\n",
       "m14  0.342014  0.023809  0.002395  0.274358"
      ]
     },
     "execution_count": 571,
     "metadata": {},
     "output_type": "execute_result"
    }
   ],
   "source": [
    "social_jsd_g2"
   ]
  },
  {
   "cell_type": "code",
   "execution_count": 572,
   "metadata": {
    "scrolled": false
   },
   "outputs": [
    {
     "name": "stdout",
     "output_type": "stream",
     "text": [
      "min values of row are at following columns :\n",
      "j01     rand\n",
      "j01     rand\n",
      "j02     rand\n",
      "j02     rand\n",
      "j03     rand\n",
      "j03      max\n",
      "j04     rand\n",
      "j04     rand\n",
      "j05     rand\n",
      "j05     rand\n",
      "j06     rand\n",
      "j06     rand\n",
      "j07     rand\n",
      "j07     rand\n",
      "j08     rand\n",
      "j08     rand\n",
      "j10     rand\n",
      "j10     rand\n",
      "j11    match\n",
      "j11      max\n",
      "m05      soc\n",
      "m05      max\n",
      "m06     rand\n",
      "m06     rand\n",
      "m08      max\n",
      "m08      max\n",
      "m10     rand\n",
      "m10     rand\n",
      "m11      max\n",
      "m11      max\n",
      "m13     rand\n",
      "m13     rand\n",
      "m14    match\n",
      "m14     rand\n",
      "dtype: object\n"
     ]
    }
   ],
   "source": [
    "# get the column name of min values in every row\n",
    "strategy_social_jsd_g2 = social_jsd_g2.idxmin(axis=1)\n",
    " \n",
    "print(\"min values of row are at following columns :\")\n",
    "print(strategy_social_jsd_g2)\n"
   ]
  },
  {
   "cell_type": "code",
   "execution_count": 574,
   "metadata": {},
   "outputs": [
    {
     "data": {
      "text/plain": [
       "rand     24\n",
       "max       7\n",
       "match     2\n",
       "soc       1\n",
       "dtype: int64"
      ]
     },
     "execution_count": 574,
     "metadata": {},
     "output_type": "execute_result"
    }
   ],
   "source": [
    "strategy_social_jsd_g2.value_counts()"
   ]
  },
  {
   "cell_type": "code",
   "execution_count": 557,
   "metadata": {},
   "outputs": [
    {
     "data": {
      "text/plain": [
       "max      0.282547\n",
       "match    0.054355\n",
       "rand     0.052594\n",
       "soc      0.349846\n",
       "dtype: float64"
      ]
     },
     "execution_count": 557,
     "metadata": {},
     "output_type": "execute_result"
    }
   ],
   "source": [
    "social_jsd_g1.mean()"
   ]
  },
  {
   "cell_type": "code",
   "execution_count": 465,
   "metadata": {},
   "outputs": [
    {
     "data": {
      "text/plain": [
       "max      0.224600\n",
       "match    0.108204\n",
       "rand     0.133786\n",
       "soc      0.428105\n",
       "dtype: float64"
      ]
     },
     "execution_count": 465,
     "metadata": {},
     "output_type": "execute_result"
    }
   ],
   "source": [
    "social_jsd_g2.mean()"
   ]
  },
  {
   "cell_type": "markdown",
   "metadata": {},
   "source": [
    "# Social strategy stats "
   ]
  },
  {
   "cell_type": "markdown",
   "metadata": {},
   "source": [
    "# Max strategy"
   ]
  },
  {
   "cell_type": "code",
   "execution_count": 466,
   "metadata": {},
   "outputs": [],
   "source": [
    "social_max_g1 = social_jsd_g1.loc[ : , 'max' ]"
   ]
  },
  {
   "cell_type": "code",
   "execution_count": 467,
   "metadata": {
    "scrolled": false
   },
   "outputs": [
    {
     "data": {
      "text/plain": [
       "j01    0.274358\n",
       "j01    0.306858\n",
       "j02    0.306858\n",
       "j02    0.244099\n",
       "j03    0.306858\n",
       "j03    0.342014\n",
       "j04    0.306858\n",
       "j04    0.215762\n",
       "j05    0.074882\n",
       "j05    0.470500\n",
       "j06    0.244099\n",
       "j06    0.140003\n",
       "j07    0.215762\n",
       "j07    0.470500\n",
       "j08    0.380396\n",
       "j08    0.163897\n",
       "j10    0.306858\n",
       "j10    0.055030\n",
       "j11    0.167544\n",
       "j11    0.055030\n",
       "m05    0.095603\n",
       "m05    0.095603\n",
       "m06    0.342014\n",
       "m06    0.342014\n",
       "m08    0.470500\n",
       "m08    0.244099\n",
       "m10    0.380396\n",
       "m10    0.306858\n",
       "m11    0.021885\n",
       "m11    0.000000\n",
       "m13    0.306858\n",
       "m13    0.306858\n",
       "m14    0.422810\n",
       "m14    0.306858\n",
       "Name: max, dtype: float64"
      ]
     },
     "execution_count": 467,
     "metadata": {},
     "output_type": "execute_result"
    }
   ],
   "source": [
    "social_max_g1"
   ]
  },
  {
   "cell_type": "code",
   "execution_count": 468,
   "metadata": {},
   "outputs": [],
   "source": [
    "social_max_g2 = social_jsd_g2.loc[ : , 'max' ]"
   ]
  },
  {
   "cell_type": "code",
   "execution_count": 469,
   "metadata": {
    "scrolled": false
   },
   "outputs": [
    {
     "data": {
      "text/plain": [
       "j01    0.470500\n",
       "j01    0.380396\n",
       "j02    0.342014\n",
       "j02    0.380396\n",
       "j03    0.244099\n",
       "j03    0.000000\n",
       "j04    0.306858\n",
       "j04    0.244099\n",
       "j05    0.380396\n",
       "j05    0.189094\n",
       "j06    0.525597\n",
       "j06    0.244099\n",
       "j07    0.000000\n",
       "j07    0.525597\n",
       "j08    0.000000\n",
       "j08    0.000000\n",
       "j10    0.380396\n",
       "j10    0.000000\n",
       "j11    0.078903\n",
       "j11    0.003478\n",
       "m05    0.693147\n",
       "m05    0.017649\n",
       "m06    0.244099\n",
       "m06    0.306858\n",
       "m08    0.035974\n",
       "m08    0.013176\n",
       "m10    0.306858\n",
       "m10    0.095603\n",
       "m11    0.008743\n",
       "m11    0.000000\n",
       "m13    0.380396\n",
       "m13    0.306858\n",
       "m14    0.189094\n",
       "m14    0.342014\n",
       "Name: max, dtype: float64"
      ]
     },
     "execution_count": 469,
     "metadata": {},
     "output_type": "execute_result"
    }
   ],
   "source": [
    "social_max_g2"
   ]
  },
  {
   "cell_type": "code",
   "execution_count": 470,
   "metadata": {},
   "outputs": [],
   "source": [
    "social_max_g1_mean = social_max_g1.mean()"
   ]
  },
  {
   "cell_type": "code",
   "execution_count": 471,
   "metadata": {},
   "outputs": [
    {
     "data": {
      "text/plain": [
       "0.2556035190189714"
      ]
     },
     "execution_count": 471,
     "metadata": {},
     "output_type": "execute_result"
    }
   ],
   "source": [
    "social_max_g1_mean"
   ]
  },
  {
   "cell_type": "code",
   "execution_count": 472,
   "metadata": {},
   "outputs": [],
   "source": [
    "social_max_g1_std = social_max_g1.std()"
   ]
  },
  {
   "cell_type": "code",
   "execution_count": 473,
   "metadata": {},
   "outputs": [
    {
     "data": {
      "text/plain": [
       "0.13043274013073972"
      ]
     },
     "execution_count": 473,
     "metadata": {},
     "output_type": "execute_result"
    }
   ],
   "source": [
    "social_max_g1_std"
   ]
  },
  {
   "cell_type": "code",
   "execution_count": 474,
   "metadata": {},
   "outputs": [],
   "source": [
    "social_max_g2_mean = social_max_g2.mean()"
   ]
  },
  {
   "cell_type": "code",
   "execution_count": 475,
   "metadata": {},
   "outputs": [
    {
     "data": {
      "text/plain": [
       "0.22459978735134548"
      ]
     },
     "execution_count": 475,
     "metadata": {},
     "output_type": "execute_result"
    }
   ],
   "source": [
    "social_max_g2_mean"
   ]
  },
  {
   "cell_type": "code",
   "execution_count": 476,
   "metadata": {},
   "outputs": [],
   "source": [
    "social_max_g2_std = social_max_g2.std()"
   ]
  },
  {
   "cell_type": "markdown",
   "metadata": {},
   "source": [
    "Max T-Test "
   ]
  },
  {
   "cell_type": "code",
   "execution_count": 477,
   "metadata": {},
   "outputs": [],
   "source": [
    "social_max_p = sp.stats.ttest_rel(social_max_g1,social_max_g2)"
   ]
  },
  {
   "cell_type": "code",
   "execution_count": 478,
   "metadata": {},
   "outputs": [
    {
     "data": {
      "text/plain": [
       "Ttest_relResult(statistic=0.8830759396682902, pvalue=0.3835833218013617)"
      ]
     },
     "execution_count": 478,
     "metadata": {},
     "output_type": "execute_result"
    }
   ],
   "source": [
    "social_max_p"
   ]
  },
  {
   "cell_type": "markdown",
   "metadata": {},
   "source": [
    "# Match strategy"
   ]
  },
  {
   "cell_type": "code",
   "execution_count": 479,
   "metadata": {},
   "outputs": [],
   "source": [
    "social_match_g1 = social_jsd_g1.loc[ : , 'match' ]"
   ]
  },
  {
   "cell_type": "code",
   "execution_count": 480,
   "metadata": {
    "scrolled": false
   },
   "outputs": [
    {
     "data": {
      "text/plain": [
       "j01    0.012880\n",
       "j01    0.012365\n",
       "j02    0.012365\n",
       "j02    0.071843\n",
       "j03    0.023714\n",
       "j03    0.049419\n",
       "j04    0.012365\n",
       "j04    0.092437\n",
       "j05    0.083649\n",
       "j05    0.104181\n",
       "j06    0.002395\n",
       "j06    0.042238\n",
       "j07    0.066152\n",
       "j07    0.183223\n",
       "j08    0.039378\n",
       "j08    0.045071\n",
       "j10    0.023714\n",
       "j10    0.098537\n",
       "j11    0.061581\n",
       "j11    0.098537\n",
       "m05    0.073333\n",
       "m05    0.073333\n",
       "m06    0.029358\n",
       "m06    0.037821\n",
       "m08    0.093412\n",
       "m08    0.071843\n",
       "m10    0.055476\n",
       "m10    0.011771\n",
       "m11    0.161967\n",
       "m11    0.215762\n",
       "m13    0.011771\n",
       "m13    0.012365\n",
       "m14    0.067108\n",
       "m14    0.023714\n",
       "Name: match, dtype: float64"
      ]
     },
     "execution_count": 480,
     "metadata": {},
     "output_type": "execute_result"
    }
   ],
   "source": [
    "social_match_g1"
   ]
  },
  {
   "cell_type": "code",
   "execution_count": 481,
   "metadata": {},
   "outputs": [],
   "source": [
    "social_match_g2 = social_jsd_g2.loc[ : , 'match' ]"
   ]
  },
  {
   "cell_type": "code",
   "execution_count": 482,
   "metadata": {
    "scrolled": false
   },
   "outputs": [
    {
     "data": {
      "text/plain": [
       "j01    0.104181\n",
       "j01    0.046088\n",
       "j02    0.037821\n",
       "j02    0.035255\n",
       "j03    0.071843\n",
       "j03    0.215762\n",
       "j04    0.016412\n",
       "j04    0.013302\n",
       "j05    0.104064\n",
       "j05    0.062718\n",
       "j06    0.110935\n",
       "j06    0.071843\n",
       "j07    0.215762\n",
       "j07    0.110935\n",
       "j08    0.215762\n",
       "j08    0.215762\n",
       "j10    0.039378\n",
       "j10    0.215762\n",
       "j11    0.081290\n",
       "j11    0.195190\n",
       "m05    0.318257\n",
       "m05    0.167590\n",
       "m06    0.025704\n",
       "m06    0.034388\n",
       "m08    0.119873\n",
       "m08    0.162751\n",
       "m10    0.023714\n",
       "m10    0.132304\n",
       "m11    0.175547\n",
       "m11    0.215762\n",
       "m13    0.046088\n",
       "m13    0.034388\n",
       "m14    0.018682\n",
       "m14    0.023809\n",
       "Name: match, dtype: float64"
      ]
     },
     "execution_count": 482,
     "metadata": {},
     "output_type": "execute_result"
    }
   ],
   "source": [
    "social_match_g2"
   ]
  },
  {
   "cell_type": "code",
   "execution_count": 483,
   "metadata": {},
   "outputs": [],
   "source": [
    "social_match_g1_mean = social_match_g1.mean()"
   ]
  },
  {
   "cell_type": "code",
   "execution_count": 484,
   "metadata": {},
   "outputs": [
    {
     "data": {
      "text/plain": [
       "0.06103176427727892"
      ]
     },
     "execution_count": 484,
     "metadata": {},
     "output_type": "execute_result"
    }
   ],
   "source": [
    "social_match_g1_mean"
   ]
  },
  {
   "cell_type": "code",
   "execution_count": 485,
   "metadata": {},
   "outputs": [],
   "source": [
    "social_match_g1_std = social_match_g1.std()"
   ]
  },
  {
   "cell_type": "code",
   "execution_count": 486,
   "metadata": {
    "scrolled": true
   },
   "outputs": [
    {
     "data": {
      "text/plain": [
       "0.05043073437518562"
      ]
     },
     "execution_count": 486,
     "metadata": {},
     "output_type": "execute_result"
    }
   ],
   "source": [
    "social_match_g1_std"
   ]
  },
  {
   "cell_type": "code",
   "execution_count": 487,
   "metadata": {},
   "outputs": [],
   "source": [
    "social_match_g2_mean = social_match_g2.mean()"
   ]
  },
  {
   "cell_type": "code",
   "execution_count": 488,
   "metadata": {},
   "outputs": [
    {
     "data": {
      "text/plain": [
       "0.10820357855783694"
      ]
     },
     "execution_count": 488,
     "metadata": {},
     "output_type": "execute_result"
    }
   ],
   "source": [
    "social_match_g2_mean"
   ]
  },
  {
   "cell_type": "code",
   "execution_count": 489,
   "metadata": {},
   "outputs": [],
   "source": [
    "social_match_g2_std = social_match_g2.std()"
   ]
  },
  {
   "cell_type": "code",
   "execution_count": 490,
   "metadata": {},
   "outputs": [
    {
     "data": {
      "text/plain": [
       "0.08136731368930877"
      ]
     },
     "execution_count": 490,
     "metadata": {},
     "output_type": "execute_result"
    }
   ],
   "source": [
    "social_match_g2_std"
   ]
  },
  {
   "cell_type": "code",
   "execution_count": 491,
   "metadata": {},
   "outputs": [],
   "source": [
    "social_match_p = sp.stats.ttest_rel(social_match_g1,social_match_g2)"
   ]
  },
  {
   "cell_type": "code",
   "execution_count": 492,
   "metadata": {},
   "outputs": [
    {
     "data": {
      "text/plain": [
       "Ttest_relResult(statistic=-3.5688081890877834, pvalue=0.0011227991885469778)"
      ]
     },
     "execution_count": 492,
     "metadata": {},
     "output_type": "execute_result"
    }
   ],
   "source": [
    "social_match_p"
   ]
  },
  {
   "cell_type": "markdown",
   "metadata": {},
   "source": [
    "# Random strategy"
   ]
  },
  {
   "cell_type": "code",
   "execution_count": 493,
   "metadata": {},
   "outputs": [],
   "source": [
    "social_rand_g1 = social_jsd_g1.loc[ : , 'rand' ]"
   ]
  },
  {
   "cell_type": "code",
   "execution_count": 494,
   "metadata": {
    "scrolled": false
   },
   "outputs": [
    {
     "data": {
      "text/plain": [
       "j01    0.002395\n",
       "j01    0.004605\n",
       "j02    0.004605\n",
       "j02    0.133307\n",
       "j03    0.000642\n",
       "j03    0.007785\n",
       "j04    0.004605\n",
       "j04    0.071387\n",
       "j05    0.173445\n",
       "j05    0.031689\n",
       "j06    0.023705\n",
       "j06    0.062078\n",
       "j07    0.132304\n",
       "j07    0.092081\n",
       "j08    0.004605\n",
       "j08    0.052892\n",
       "j10    0.000642\n",
       "j10    0.191694\n",
       "j11    0.135773\n",
       "j11    0.191694\n",
       "m05    0.159626\n",
       "m05    0.159626\n",
       "m06    0.000642\n",
       "m06    0.002395\n",
       "m08    0.026319\n",
       "m08    0.133307\n",
       "m10    0.007785\n",
       "m10    0.012884\n",
       "m11    0.241774\n",
       "m11    0.318257\n",
       "m13    0.012884\n",
       "m13    0.004605\n",
       "m14    0.012884\n",
       "m14    0.000642\n",
       "Name: rand, dtype: float64"
      ]
     },
     "execution_count": 494,
     "metadata": {},
     "output_type": "execute_result"
    }
   ],
   "source": [
    "social_rand_g1"
   ]
  },
  {
   "cell_type": "code",
   "execution_count": 495,
   "metadata": {},
   "outputs": [],
   "source": [
    "social_rand_g2 = social_jsd_g2.loc[ : , 'rand' ]"
   ]
  },
  {
   "cell_type": "code",
   "execution_count": 496,
   "metadata": {
    "scrolled": false
   },
   "outputs": [
    {
     "data": {
      "text/plain": [
       "j01    0.031689\n",
       "j01    0.004605\n",
       "j02    0.002395\n",
       "j02    0.007785\n",
       "j03    0.133307\n",
       "j03    0.318257\n",
       "j04    0.000642\n",
       "j04    0.007785\n",
       "j05    0.040130\n",
       "j05    0.133307\n",
       "j06    0.041858\n",
       "j06    0.133307\n",
       "j07    0.318257\n",
       "j07    0.041858\n",
       "j08    0.318257\n",
       "j08    0.318257\n",
       "j10    0.004605\n",
       "j10    0.318257\n",
       "j11    0.170405\n",
       "j11    0.297095\n",
       "m05    0.318257\n",
       "m05    0.251394\n",
       "m06    0.012884\n",
       "m06    0.004605\n",
       "m08    0.216261\n",
       "m08    0.263009\n",
       "m10    0.000642\n",
       "m10    0.159626\n",
       "m11    0.276557\n",
       "m11    0.318257\n",
       "m13    0.004605\n",
       "m13    0.004605\n",
       "m14    0.073577\n",
       "m14    0.002395\n",
       "Name: rand, dtype: float64"
      ]
     },
     "execution_count": 496,
     "metadata": {},
     "output_type": "execute_result"
    }
   ],
   "source": [
    "social_rand_g2"
   ]
  },
  {
   "cell_type": "code",
   "execution_count": 497,
   "metadata": {},
   "outputs": [],
   "source": [
    "social_rand_g1_mean = social_rand_g1.mean()"
   ]
  },
  {
   "cell_type": "code",
   "execution_count": 498,
   "metadata": {},
   "outputs": [
    {
     "data": {
      "text/plain": [
       "0.07104612047647384"
      ]
     },
     "execution_count": 498,
     "metadata": {},
     "output_type": "execute_result"
    }
   ],
   "source": [
    "social_rand_g1_mean"
   ]
  },
  {
   "cell_type": "code",
   "execution_count": 499,
   "metadata": {},
   "outputs": [],
   "source": [
    "social_rand_g1_std = social_rand_g1.std()"
   ]
  },
  {
   "cell_type": "code",
   "execution_count": 500,
   "metadata": {},
   "outputs": [
    {
     "data": {
      "text/plain": [
       "0.08481110286416464"
      ]
     },
     "execution_count": 500,
     "metadata": {},
     "output_type": "execute_result"
    }
   ],
   "source": [
    "social_rand_g1_std"
   ]
  },
  {
   "cell_type": "code",
   "execution_count": 501,
   "metadata": {},
   "outputs": [],
   "source": [
    "social_rand_g2_mean = social_rand_g2.mean()"
   ]
  },
  {
   "cell_type": "code",
   "execution_count": 502,
   "metadata": {},
   "outputs": [
    {
     "data": {
      "text/plain": [
       "0.13378638608965676"
      ]
     },
     "execution_count": 502,
     "metadata": {},
     "output_type": "execute_result"
    }
   ],
   "source": [
    "social_rand_g2_mean"
   ]
  },
  {
   "cell_type": "code",
   "execution_count": 503,
   "metadata": {},
   "outputs": [],
   "source": [
    "social_rand_g2_std = social_rand_g2.std()"
   ]
  },
  {
   "cell_type": "code",
   "execution_count": 504,
   "metadata": {},
   "outputs": [
    {
     "data": {
      "text/plain": [
       "0.1307453651984941"
      ]
     },
     "execution_count": 504,
     "metadata": {},
     "output_type": "execute_result"
    }
   ],
   "source": [
    "social_rand_g2_std"
   ]
  },
  {
   "cell_type": "code",
   "execution_count": 505,
   "metadata": {},
   "outputs": [],
   "source": [
    "social_rand_p = sp.stats.ttest_rel(social_rand_g1,social_rand_g2)"
   ]
  },
  {
   "cell_type": "code",
   "execution_count": 506,
   "metadata": {},
   "outputs": [
    {
     "data": {
      "text/plain": [
       "Ttest_relResult(statistic=-3.40128302382355, pvalue=0.0017719254392105181)"
      ]
     },
     "execution_count": 506,
     "metadata": {},
     "output_type": "execute_result"
    }
   ],
   "source": [
    "social_rand_p"
   ]
  },
  {
   "cell_type": "markdown",
   "metadata": {},
   "source": [
    "# Social strategy"
   ]
  },
  {
   "cell_type": "code",
   "execution_count": 507,
   "metadata": {},
   "outputs": [],
   "source": [
    "social_soc_g1 = social_jsd_g1.loc[ : , 'soc' ]"
   ]
  },
  {
   "cell_type": "code",
   "execution_count": 508,
   "metadata": {
    "scrolled": false
   },
   "outputs": [
    {
     "data": {
      "text/plain": [
       "j01    0.342014\n",
       "j01    0.274358\n",
       "j02    0.274358\n",
       "j02    0.189094\n",
       "j03    0.342014\n",
       "j03    0.380396\n",
       "j04    0.274358\n",
       "j04    0.592639\n",
       "j05    0.422810\n",
       "j05    0.342014\n",
       "j06    0.274358\n",
       "j06    0.525597\n",
       "j07    0.215762\n",
       "j07    0.525597\n",
       "j08    0.274358\n",
       "j08    0.525597\n",
       "j10    0.342014\n",
       "j10    0.470500\n",
       "j11    0.269743\n",
       "j11    0.470500\n",
       "m05    0.380396\n",
       "m05    0.380396\n",
       "m06    0.306858\n",
       "m06    0.342014\n",
       "m08    0.306858\n",
       "m08    0.189094\n",
       "m10    0.342014\n",
       "m10    0.244099\n",
       "m11    0.693147\n",
       "m11    0.693147\n",
       "m13    0.244099\n",
       "m13    0.274358\n",
       "m14    0.306858\n",
       "m14    0.342014\n",
       "Name: soc, dtype: float64"
      ]
     },
     "execution_count": 508,
     "metadata": {},
     "output_type": "execute_result"
    }
   ],
   "source": [
    "social_soc_g1"
   ]
  },
  {
   "cell_type": "code",
   "execution_count": 509,
   "metadata": {},
   "outputs": [],
   "source": [
    "social_soc_g2 = social_jsd_g2.loc[ : , 'soc' ]"
   ]
  },
  {
   "cell_type": "code",
   "execution_count": 510,
   "metadata": {
    "scrolled": false
   },
   "outputs": [
    {
     "data": {
      "text/plain": [
       "j01    0.342014\n",
       "j01    0.306858\n",
       "j02    0.342014\n",
       "j02    0.244099\n",
       "j03    0.189094\n",
       "j03    0.693147\n",
       "j04    0.306858\n",
       "j04    0.380396\n",
       "j05    0.470500\n",
       "j05    0.244099\n",
       "j06    0.244099\n",
       "j06    0.189094\n",
       "j07    0.693147\n",
       "j07    0.244099\n",
       "j08    0.693147\n",
       "j08    0.693147\n",
       "j10    0.274358\n",
       "j10    0.693147\n",
       "j11    0.414062\n",
       "j11    0.665096\n",
       "m05    0.000000\n",
       "m05    0.693147\n",
       "m06    0.422810\n",
       "m06    0.380396\n",
       "m08    0.525597\n",
       "m08    0.612486\n",
       "m10    0.342014\n",
       "m10    0.693147\n",
       "m11    0.634381\n",
       "m11    0.693147\n",
       "m13    0.306858\n",
       "m13    0.380396\n",
       "m14    0.274358\n",
       "m14    0.274358\n",
       "Name: soc, dtype: float64"
      ]
     },
     "execution_count": 510,
     "metadata": {},
     "output_type": "execute_result"
    }
   ],
   "source": [
    "social_soc_g2"
   ]
  },
  {
   "cell_type": "code",
   "execution_count": 511,
   "metadata": {},
   "outputs": [],
   "source": [
    "social_soc_g1_mean = social_soc_g1.mean()"
   ]
  },
  {
   "cell_type": "code",
   "execution_count": 512,
   "metadata": {},
   "outputs": [
    {
     "data": {
      "text/plain": [
       "0.36392471728775505"
      ]
     },
     "execution_count": 512,
     "metadata": {},
     "output_type": "execute_result"
    }
   ],
   "source": [
    "social_soc_g1_mean"
   ]
  },
  {
   "cell_type": "code",
   "execution_count": 513,
   "metadata": {},
   "outputs": [],
   "source": [
    "social_soc_g1_std = social_soc_g1.std()"
   ]
  },
  {
   "cell_type": "code",
   "execution_count": 514,
   "metadata": {},
   "outputs": [
    {
     "data": {
      "text/plain": [
       "0.12985192608740503"
      ]
     },
     "execution_count": 514,
     "metadata": {},
     "output_type": "execute_result"
    }
   ],
   "source": [
    "social_soc_g1_std"
   ]
  },
  {
   "cell_type": "code",
   "execution_count": 515,
   "metadata": {},
   "outputs": [],
   "source": [
    "social_soc_g2_mean = social_soc_g2.mean()"
   ]
  },
  {
   "cell_type": "code",
   "execution_count": 516,
   "metadata": {},
   "outputs": [
    {
     "data": {
      "text/plain": [
       "0.4281051809274363"
      ]
     },
     "execution_count": 516,
     "metadata": {},
     "output_type": "execute_result"
    }
   ],
   "source": [
    "social_soc_g2_mean"
   ]
  },
  {
   "cell_type": "code",
   "execution_count": 517,
   "metadata": {},
   "outputs": [],
   "source": [
    "social_soc_g2_std = social_soc_g2.std()"
   ]
  },
  {
   "cell_type": "code",
   "execution_count": 518,
   "metadata": {},
   "outputs": [
    {
     "data": {
      "text/plain": [
       "0.19719668534590165"
      ]
     },
     "execution_count": 518,
     "metadata": {},
     "output_type": "execute_result"
    }
   ],
   "source": [
    "social_soc_g2_std"
   ]
  },
  {
   "cell_type": "code",
   "execution_count": 519,
   "metadata": {},
   "outputs": [],
   "source": [
    "social_soc_p = sp.stats.ttest_rel(social_soc_g1,social_soc_g2)"
   ]
  },
  {
   "cell_type": "code",
   "execution_count": 520,
   "metadata": {},
   "outputs": [
    {
     "data": {
      "text/plain": [
       "Ttest_relResult(statistic=-1.7577632167936166, pvalue=0.08806167244122598)"
      ]
     },
     "execution_count": 520,
     "metadata": {},
     "output_type": "execute_result"
    }
   ],
   "source": [
    "social_soc_p"
   ]
  },
  {
   "cell_type": "code",
   "execution_count": null,
   "metadata": {},
   "outputs": [],
   "source": []
  },
  {
   "cell_type": "markdown",
   "metadata": {},
   "source": [
    "# End of SMAB3 analysis"
   ]
  },
  {
   "cell_type": "code",
   "execution_count": 521,
   "metadata": {},
   "outputs": [
    {
     "data": {
      "text/plain": [
       "'here i compared scores of pairs of mixed gender and same gender pairs. there are a lot of different types of analyses you can\\ndo on the choice data, and you can group the data by demographics, questionnaire responses, etc.'"
      ]
     },
     "execution_count": 521,
     "metadata": {},
     "output_type": "execute_result"
    }
   ],
   "source": [
    "#hypothesis: scores lower for same gender pairs: male-male\n",
    "'''here i compared scores of pairs of mixed gender and same gender pairs. there are a lot of different types of analyses you can\n",
    "do on the choice data, and you can group the data by demographics, questionnaire responses, etc.'''"
   ]
  },
  {
   "cell_type": "code",
   "execution_count": 522,
   "metadata": {},
   "outputs": [],
   "source": [
    "scores_f = pd.DataFrame([j03_p1_g1_score,j03_p1_g2_score,j03_p2_g1_score,j03_p2_g2_score,j04_p1_g1_score,\n",
    "            j04_p1_g2_score,j04_p2_g1_score,j04_p2_g2_score,j07_p1_g1_score,j07_p1_g2_score,j07_p2_g1_score,\n",
    "            j07_p2_g2_score,j08_p1_g1_score,j08_p1_g2_score,j08_p2_g1_score,j08_p2_g2_score])"
   ]
  },
  {
   "cell_type": "code",
   "execution_count": 523,
   "metadata": {},
   "outputs": [],
   "source": [
    "scores_mix = pd.DataFrame([j01_p1_g1_score,j01_p1_g2_score,j01_p2_g1_score,j01_p2_g2_score,j02_p1_g1_score,\n",
    "            j02_p1_g2_score,j02_p2_g1_score,j02_p2_g2_score,j05_p1_g1_score,j05_p1_g2_score,j05_p2_g1_score,\n",
    "            j05_p2_g2_score,j05_p1_g1_score,j05_p1_g2_score,j05_p2_g1_score,j05_p2_g2_score,j06_p1_g1_score,\n",
    "            j06_p1_g2_score,j06_p2_g1_score,j06_p2_g2_score])"
   ]
  },
  {
   "cell_type": "code",
   "execution_count": 524,
   "metadata": {},
   "outputs": [],
   "source": [
    "#m_mean=scores_m.mean()\n",
    "f_mean=scores_f.mean()\n",
    "mix_mean=scores_mix.mean()"
   ]
  },
  {
   "cell_type": "code",
   "execution_count": 525,
   "metadata": {},
   "outputs": [],
   "source": [
    "#m_mean"
   ]
  },
  {
   "cell_type": "code",
   "execution_count": 526,
   "metadata": {},
   "outputs": [
    {
     "data": {
      "text/plain": [
       "0    69.375\n",
       "dtype: float64"
      ]
     },
     "execution_count": 526,
     "metadata": {},
     "output_type": "execute_result"
    }
   ],
   "source": [
    "f_mean"
   ]
  },
  {
   "cell_type": "code",
   "execution_count": 527,
   "metadata": {},
   "outputs": [
    {
     "data": {
      "text/plain": [
       "0    68.85\n",
       "dtype: float64"
      ]
     },
     "execution_count": 527,
     "metadata": {},
     "output_type": "execute_result"
    }
   ],
   "source": [
    "mix_mean"
   ]
  },
  {
   "cell_type": "code",
   "execution_count": 528,
   "metadata": {},
   "outputs": [
    {
     "ename": "NameError",
     "evalue": "name 'j_combo' is not defined",
     "output_type": "error",
     "traceback": [
      "\u001b[0;31m---------------------------------------------------------------------------\u001b[0m",
      "\u001b[0;31mNameError\u001b[0m                                 Traceback (most recent call last)",
      "\u001b[0;32m<ipython-input-528-5a526a363425>\u001b[0m in \u001b[0;36m<module>\u001b[0;34m\u001b[0m\n\u001b[0;32m----> 1\u001b[0;31m \u001b[0mj_combo\u001b[0m \u001b[0;34m=\u001b[0m \u001b[0mj_combo\u001b[0m\u001b[0;34m.\u001b[0m\u001b[0msort_values\u001b[0m\u001b[0;34m(\u001b[0m\u001b[0mby\u001b[0m\u001b[0;34m=\u001b[0m\u001b[0;34m[\u001b[0m\u001b[0;34m'participant'\u001b[0m\u001b[0;34m]\u001b[0m\u001b[0;34m)\u001b[0m\u001b[0;34m\u001b[0m\u001b[0;34m\u001b[0m\u001b[0m\n\u001b[0m",
      "\u001b[0;31mNameError\u001b[0m: name 'j_combo' is not defined"
     ]
    }
   ],
   "source": [
    "j_combo = j_combo.sort_values(by=['participant'])"
   ]
  },
  {
   "cell_type": "code",
   "execution_count": null,
   "metadata": {},
   "outputs": [],
   "source": [
    "#j_combo_bar = j_combo.plot(kind='bar',color=colors)"
   ]
  },
  {
   "cell_type": "code",
   "execution_count": null,
   "metadata": {},
   "outputs": [],
   "source": [
    "j_score_diff = pd.DataFrame({'participant':['j01_p1','j01_p2','j02_p1','j02_p2','j03_p1','j03_p2','j04_p1','j04_p2',\n",
    "                                          'j05_p1','j05_p2','j06_p1','j06_p2','j07_p1','j07_p2','j06_p1','j06_p2'], 'score_diff':\n",
    "     [j01_p1_diff,j01_p2_diff,j02_p1_diff,j02_p2_diff,j03_p1_diff,j03_p2_diff,j04_p1_diff,j04_p2_diff,\n",
    "     j05_p1_diff,j05_p2_diff,j06_p1_diff,j06_p2_diff,j07_p1_diff,j07_p2_diff,j08_p1_diff,j08_p2_diff]})"
   ]
  },
  {
   "cell_type": "code",
   "execution_count": null,
   "metadata": {},
   "outputs": [],
   "source": [
    "j_score_diff"
   ]
  },
  {
   "cell_type": "code",
   "execution_count": null,
   "metadata": {},
   "outputs": [],
   "source": [
    "#impairs learning?"
   ]
  },
  {
   "cell_type": "code",
   "execution_count": null,
   "metadata": {},
   "outputs": [],
   "source": [
    "#pattern within sessions for score_diff?\n",
    "#5 ppl did worse second time; joint interfered with learning"
   ]
  },
  {
   "cell_type": "code",
   "execution_count": null,
   "metadata": {},
   "outputs": [],
   "source": [
    "j_score_diff_mean = j_score_diff['score_diff'].mean()"
   ]
  },
  {
   "cell_type": "code",
   "execution_count": null,
   "metadata": {},
   "outputs": [],
   "source": [
    "j_score_diff_mean"
   ]
  },
  {
   "cell_type": "code",
   "execution_count": null,
   "metadata": {},
   "outputs": [],
   "source": [
    "j01_p1_g1, j01_p1_g2, j01_p2_g1, j01_p2_g2 = separate_df(j01, 'j')\n",
    "j02_p1_g1, j02_p1_g2, j02_p2_g1, j02_p2_g2 = separate_df(j02, 'j')\n",
    "j03_p1_g1, j03_p1_g2, j03_p2_g1, j03_p2_g2 = separate_df(j03, 'j')\n",
    "j04_p1_g1, j04_p1_g2, j04_p2_g1, j04_p2_g2 = separate_df(j04, 'j')\n",
    "j05_p1_g1, j05_p1_g2, j05_p2_g1, j05_p2_g2 = separate_df(j05, 'j')\n",
    "j06_p1_g1, j06_p1_g2, j06_p2_g1, j06_p2_g2 = separate_df(j06, 'j')\n",
    "j07_p1_g1, j07_p1_g2, j07_p2_g1, j07_p2_g2 = separate_df(j07, 'j')\n",
    "j08_p1_g1, j08_p1_g2, j08_p2_g1, j08_p2_g2 = separate_df(j08, 'j')"
   ]
  },
  {
   "cell_type": "code",
   "execution_count": null,
   "metadata": {},
   "outputs": [],
   "source": [
    "#social matching"
   ]
  },
  {
   "cell_type": "code",
   "execution_count": null,
   "metadata": {},
   "outputs": [],
   "source": [
    "j_g2_counts = pd.DataFrame([j01_p1_g2_count, j01_p2_g2_count, j02_p1_g2_count, j02_p2_g2_count, \n",
    "                            j03_p1_g2_count, j03_p2_g2_count, j04_p1_g2_count, j04_p2_g2_count,\n",
    "                           j05_p1_g2_count,j05_p2_g2_count, j06_p1_g2_count, j06_p2_g2_count, j07_p1_g2_count, \n",
    "                            j07_p2_g2_count, j08_p1_g2_count, j08_p2_g2_count],\n",
    "                          index=['j01_p1_g2_count', 'j01_p2_g2_count', 'j02_p1_g2_count', 'j02_p2_g2_count', \n",
    "                            'j03_p1_g2_count', 'j03_p2_g2_count', 'j04_p1_g2_count', 'j04_p2_g2_count',\n",
    "                           'j05_p1_g2_count','j05_p2_g2_count', 'j06_p1_g2_count', 'j06_p2_g2_count', 'j07_p1_g2_count', \n",
    "                            'j07_p2_g2_count', 'j08_p1_g2_count', 'j08_p2_g2_count'])"
   ]
  },
  {
   "cell_type": "code",
   "execution_count": null,
   "metadata": {},
   "outputs": [],
   "source": [
    "j_g2_counts"
   ]
  },
  {
   "cell_type": "code",
   "execution_count": null,
   "metadata": {},
   "outputs": [],
   "source": [
    "j_60_p = sp.stats.ttest_rel(j_g1_counts.iloc[:,1],j_g2_counts.iloc[:,1])"
   ]
  },
  {
   "cell_type": "code",
   "execution_count": null,
   "metadata": {},
   "outputs": [],
   "source": [
    "j_60_p"
   ]
  },
  {
   "cell_type": "code",
   "execution_count": null,
   "metadata": {},
   "outputs": [],
   "source": [
    "j_30_p = sp.stats.ttest_rel(j_g1_counts.iloc[:,0],j_g2_counts.iloc[:,0])"
   ]
  },
  {
   "cell_type": "code",
   "execution_count": null,
   "metadata": {},
   "outputs": [],
   "source": [
    "j_30_p"
   ]
  },
  {
   "cell_type": "code",
   "execution_count": null,
   "metadata": {},
   "outputs": [],
   "source": [
    "j_g2_low = np.mean(j_g2_counts.iloc[:,0])\n",
    "j_g2_med = np.mean(j_g2_counts.iloc[:,1])\n",
    "j_g2_high = np.mean(j_g2_counts.iloc[:,2])\n",
    "\n",
    "j_g2_low_std = np.std(j_g2_counts.iloc[:,0])\n",
    "j_g2_med_std = np.std(j_g2_counts.iloc[:,1])\n",
    "j_g2_high_std = np.std(j_g2_counts.iloc[:,2])"
   ]
  },
  {
   "cell_type": "code",
   "execution_count": null,
   "metadata": {},
   "outputs": [],
   "source": [
    "j_g2_low"
   ]
  },
  {
   "cell_type": "code",
   "execution_count": null,
   "metadata": {},
   "outputs": [],
   "source": [
    "j_g2_med"
   ]
  },
  {
   "cell_type": "code",
   "execution_count": null,
   "metadata": {},
   "outputs": [],
   "source": [
    "j_g2_high"
   ]
  },
  {
   "cell_type": "code",
   "execution_count": null,
   "metadata": {},
   "outputs": [],
   "source": [
    "j_g1_counts_bar = j_g1_counts.plot.bar()"
   ]
  },
  {
   "cell_type": "code",
   "execution_count": null,
   "metadata": {},
   "outputs": [],
   "source": [
    "j_g2_counts_bar = j_g2_counts.plot.bar()"
   ]
  },
  {
   "cell_type": "code",
   "execution_count": null,
   "metadata": {},
   "outputs": [],
   "source": [
    "j_g1_counts_box = sns.boxplot( \n",
    "                 data=j_g1_counts, \n",
    "                 width=0.5,\n",
    "                 palette=\"pastel\")\n",
    "j_g1_counts_box.axes.set_title(\"Multiplayer Choice Distributions in Game 1\",\n",
    "                    fontsize=16)\n",
    "\n",
    "plot_file_name=\"j_g1_counts_box.jpg\"\n",
    "\n",
    "plt.ylim(0, 100)\n",
    "j_g1_counts_box.axes.set(xlabel='Arm',ylabel='Frequency')\n",
    "\n",
    "# save as jpeg\n",
    "j_g1_counts_box.figure.savefig(plot_file_name,\n",
    "                    format='jpeg',\n",
    "                    dpi=100)"
   ]
  },
  {
   "cell_type": "code",
   "execution_count": null,
   "metadata": {},
   "outputs": [],
   "source": [
    "j_g2_counts_box = sns.boxplot( \n",
    "                 data=j_g2_counts, \n",
    "                 width=0.5,\n",
    "                 palette=\"pastel\")\n",
    "j_g2_counts_box.axes.set_title(\"Multiplayer Choice Distributions in Game 2\",\n",
    "                    fontsize=16)\n",
    "\n",
    "plot_file_name=\"j_g2_counts_box.jpg\"\n",
    "\n",
    "plt.ylim(0, 100)\n",
    "j_g2_counts_box.axes.set(xlabel='Arm',ylabel='Frequency')\n",
    "\n",
    "# save as jpeg\n",
    "j_g2_counts_box.figure.savefig(plot_file_name,\n",
    "                    format='jpeg',\n",
    "                    dpi=100)"
   ]
  },
  {
   "cell_type": "code",
   "execution_count": null,
   "metadata": {},
   "outputs": [],
   "source": [
    "hannah_counts = pd.DataFrame([s08_p1_g1_count,s08_p1_g2_count,s09_p1_g1_count,s09_p1_g2_count,j01_p1_g1_count,\n",
    "                              j01_p1_g2_count,j01_p2_g1_count,j01_p2_g2_count,j05_p1_g1_count,j05_p1_g2_count,j05_p1_g1_count,\n",
    "                              j05_p2_g2_count],\n",
    "                          index=['s08 Game 1','s08 Game 2','s09 Game 1','s09 Game 2','j01_1 Game 1','j01_1 Game 2',\n",
    "                                'j01_2 Game 1','j01_2 Game 2','j05_1 Game 1','j05_1 Game 2','j05_2 Game 1','j05_2 Game 2'])"
   ]
  },
  {
   "cell_type": "code",
   "execution_count": null,
   "metadata": {},
   "outputs": [],
   "source": [
    "hannah_counts"
   ]
  },
  {
   "cell_type": "code",
   "execution_count": null,
   "metadata": {},
   "outputs": [],
   "source": [
    "hannah_counts.to_pickle('hannah_counts_table.pkl')"
   ]
  },
  {
   "cell_type": "code",
   "execution_count": null,
   "metadata": {},
   "outputs": [],
   "source": [
    "hannah_counts_bar = hannah_counts.plot.bar(title='Choice Distributions')\n",
    "plt.tight_layout()\n",
    "plt.savefig('hannah_counts.eps',format='eps',dpi=1000)"
   ]
  },
  {
   "cell_type": "markdown",
   "metadata": {},
   "source": [
    "# Combined Tables"
   ]
  },
  {
   "cell_type": "code",
   "execution_count": null,
   "metadata": {},
   "outputs": [],
   "source": [
    "#NEEDS WORK\n",
    "scores_df = pd.DataFrame({'score':[s_scores_1_mean, s_scores_2_mean, j_scores_1_mean, j_scores_2_mean],\n",
    "                       'std':[s_scores_1_std,s_scores_2_std,j_scores_1_std,j_scores_2_std]},index = ['s_1','s_2',\n",
    "                                                                                                     'j_1', 'j_2'])"
   ]
  },
  {
   "cell_type": "code",
   "execution_count": null,
   "metadata": {},
   "outputs": [],
   "source": [
    "s_scores_1_mean"
   ]
  },
  {
   "cell_type": "code",
   "execution_count": null,
   "metadata": {},
   "outputs": [],
   "source": [
    "pd.to_numeric(s_scores_1_mean)"
   ]
  },
  {
   "cell_type": "code",
   "execution_count": null,
   "metadata": {},
   "outputs": [],
   "source": [
    "scores_df"
   ]
  },
  {
   "cell_type": "code",
   "execution_count": null,
   "metadata": {},
   "outputs": [],
   "source": [
    "counts_df = pd.DataFrame({'low':[s_g1_low,s_g2_low,j_g1_low,j_g2_low],'medium':[s_g1_med,s_g2_med,j_g1_med,j_g2_med],\n",
    "                          'high':[s_g1_high,s_g2_high,j_g1_high,j_g2_high]},index = ['s_1','s_2','j_1', 'j_2'])\n",
    "#add standard deviations"
   ]
  },
  {
   "cell_type": "code",
   "execution_count": null,
   "metadata": {},
   "outputs": [],
   "source": [
    "counts_df"
   ]
  },
  {
   "cell_type": "code",
   "execution_count": null,
   "metadata": {},
   "outputs": [],
   "source": [
    "#j learn to favor medium over the low in game 2"
   ]
  },
  {
   "cell_type": "code",
   "execution_count": null,
   "metadata": {},
   "outputs": [],
   "source": [
    "counts_std_df = pd.DataFrame({'low':[s_g1_low_std,s_g2_low_std,j_g1_low_std,j_g2_low_std],'medium':[s_g1_med_std,s_g2_med_std,j_g1_med_std,j_g2_med_std],\n",
    "                          'high':[s_g1_high_std,s_g2_high_std,j_g1_high_std,j_g2_high_std]},index = ['s_1','s_2','j_1', 'j_2'])"
   ]
  },
  {
   "cell_type": "code",
   "execution_count": null,
   "metadata": {},
   "outputs": [],
   "source": [
    "counts_std_df"
   ]
  },
  {
   "cell_type": "code",
   "execution_count": null,
   "metadata": {},
   "outputs": [],
   "source": [
    "#high deviations in high and med in game 2\n",
    "#evidence of 2 subgroups?"
   ]
  },
  {
   "cell_type": "markdown",
   "metadata": {},
   "source": [
    "# Maximizing/Matching"
   ]
  },
  {
   "cell_type": "code",
   "execution_count": null,
   "metadata": {},
   "outputs": [],
   "source": [
    "#Here we compare the choice distributions to idealized models of two decision-making strategies: \n",
    "#matching and maximizing. Matching would be choosing each each hole proportionally to its reward rate, \n",
    "#and maximizing would be always choosing the high reward hole."
   ]
  },
  {
   "cell_type": "code",
   "execution_count": null,
   "metadata": {},
   "outputs": [],
   "source": [
    "s_g1_counts"
   ]
  },
  {
   "cell_type": "code",
   "execution_count": null,
   "metadata": {},
   "outputs": [],
   "source": [
    "s_g1_counts"
   ]
  },
  {
   "cell_type": "code",
   "execution_count": null,
   "metadata": {},
   "outputs": [],
   "source": [
    "j_g1_counts"
   ]
  },
  {
   "cell_type": "code",
   "execution_count": null,
   "metadata": {},
   "outputs": [],
   "source": [
    "j_g2_counts"
   ]
  },
  {
   "cell_type": "code",
   "execution_count": null,
   "metadata": {},
   "outputs": [],
   "source": [
    "#JSD: Jensen Shannon Divergence. Measures the similarity between two probability distributions. Taken from \n",
    "#https://gist.github.com/zhiyzuo/f80e2b1cfb493a5711330d271a228a3d. *Note: probability distributions need to be\n",
    "#normalized.'''\n",
    "#parameters: p and q are the two probability distributions to be compared.\n",
    "\n",
    "def jsd(p, q, base=np.e):\n",
    "    \n",
    "    \n",
    "    #Implementation of pairwise `jsd` based on https://en.wikipedia.org/wiki/Jensen%E2%80%93Shannon_divergence\n",
    "    # convert to np.array\n",
    "    p, q = np.asarray(p), np.asarray(q)\n",
    "    # normalize p, q to probabilities\n",
    "    p, q = p/p.sum(), q/q.sum()\n",
    "    m = 1./2*(p + q)\n",
    "    return sp.stats.entropy(p,m, base=base)/2. +  sp.stats.entropy(q, m, base=base)/2."
   ]
  },
  {
   "cell_type": "code",
   "execution_count": null,
   "metadata": {},
   "outputs": [],
   "source": [
    "#Are ppl using a strategy similar to their partner's? This functions calls jsd for p1 and for p2. *UNFINISHED* \n",
    "#DO NOT USE.\n",
    "#calls jsd for p1 and p2 and for p1 and p2 with the mean\n",
    "#def compare_strat(p1,p2):\n",
    "    #strat = jsd(p1,p2)\n",
    "   # comp_1 = jsd(p1,[j_g1_low,j_g1_med,j_g1_high])\n",
    "    #comp_2 = jsd(p2,[j_g1_low,j_g1_med,j_g1_high])\n",
    "    #return strat, comp_1, comp_2"
   ]
  },
  {
   "cell_type": "code",
   "execution_count": null,
   "metadata": {},
   "outputs": [],
   "source": [
    "#Idealized probability distributions to use for comparison. You can change these or add more models.\n",
    "maximize = [0,0,100]\n",
    "match = [30/180 * 100,60/180 * 100,50]"
   ]
  },
  {
   "cell_type": "code",
   "execution_count": null,
   "metadata": {},
   "outputs": [],
   "source": [
    "#This function calls jsd. \n",
    "#Input: counts- a player's choice distributions in a particular game (ex. s01_p1_g1_counts)\n",
    "#Output: maxi- JSD score for the maximizing strategy\n",
    "        #matchi- JSD score for the matching strategy\n",
    "def call_jsd(counts):\n",
    "    maxi = jsd(counts,maximize)\n",
    "    matchi = jsd(counts,match)\n",
    "    return maxi,matchi"
   ]
  },
  {
   "cell_type": "code",
   "execution_count": null,
   "metadata": {},
   "outputs": [],
   "source": [
    "j01_p1_g1_count"
   ]
  },
  {
   "cell_type": "code",
   "execution_count": null,
   "metadata": {},
   "outputs": [],
   "source": [
    "#Optional: Idealized probability distributions to use for comparison. These assume a social strategy in which the probability\n",
    "#distributions of both partners in a joint session are averaged (all holes reward at a 60% rate.\n",
    "\n",
    "social_max = [0, 100, 0]\n",
    "social_match = [30/180 * 100,30/180 * 100, 30/180 * 100]"
   ]
  },
  {
   "cell_type": "code",
   "execution_count": null,
   "metadata": {},
   "outputs": [],
   "source": [
    "#Calls jsd with the social distributions.\n",
    "def call_jsd_social(counts):\n",
    "    maxi = jsd(counts,social_max)\n",
    "    matchi = jsd(counts,social_match)\n",
    "    return maxi,matchi"
   ]
  },
  {
   "cell_type": "code",
   "execution_count": null,
   "metadata": {},
   "outputs": [],
   "source": [
    "s01_p1_g1_count"
   ]
  },
  {
   "cell_type": "code",
   "execution_count": null,
   "metadata": {},
   "outputs": [],
   "source": [
    "from scipy import stats"
   ]
  },
  {
   "cell_type": "code",
   "execution_count": null,
   "metadata": {},
   "outputs": [],
   "source": [
    "#if same, 0\n",
    "test = jsd(maximize,match)"
   ]
  },
  {
   "cell_type": "code",
   "execution_count": null,
   "metadata": {},
   "outputs": [],
   "source": [
    "test"
   ]
  },
  {
   "cell_type": "code",
   "execution_count": null,
   "metadata": {},
   "outputs": [],
   "source": [
    "s01 = 'match'"
   ]
  },
  {
   "cell_type": "code",
   "execution_count": null,
   "metadata": {},
   "outputs": [],
   "source": [
    "s05_p1_g2_count"
   ]
  },
  {
   "cell_type": "code",
   "execution_count": null,
   "metadata": {},
   "outputs": [],
   "source": [
    "s05_p1_g2_count = [11,0,89]"
   ]
  },
  {
   "cell_type": "code",
   "execution_count": null,
   "metadata": {},
   "outputs": [],
   "source": [
    "# some add to 80, some add to 81??\n",
    "s_g1_counts"
   ]
  },
  {
   "cell_type": "code",
   "execution_count": null,
   "metadata": {},
   "outputs": [],
   "source": [
    "s_g2_counts"
   ]
  },
  {
   "cell_type": "code",
   "execution_count": null,
   "metadata": {},
   "outputs": [],
   "source": [
    "#Call 'call_jsd' for each participant for each game in the single player sessions.\n",
    "#with 0, put in actual probabilities in brackets\n",
    "\n",
    "s01_g1_max,s01_g1_match = call_jsd(s01_p1_g1_count)\n",
    "s01_g2_max,s01_g2_match = call_jsd(s01_p1_g2_count)\n",
    "s03_g1_max,s03_g1_match = call_jsd(s03_p1_g1_count)\n",
    "s03_g2_max,s03_g2_match = call_jsd(s03_p1_g2_count)\n",
    "s05_g1_max,s05_g1_match = call_jsd(s05_p1_g1_count)\n",
    "s05_g2_max,s05_g2_match = call_jsd(s05_p1_g2_count)\n",
    "s06_g1_max,s06_g1_match = call_jsd(s06_p1_g1_count)\n",
    "s06_g2_max,s06_g2_match = call_jsd(s06_p1_g1_count)\n",
    "s07_g1_max,s07_g1_match = call_jsd(s07_p1_g1_count)\n",
    "s07_g2_max,s07_g2_match = call_jsd(s07_p1_g2_count)\n",
    "s08_g1_max,s08_g1_match = call_jsd(s08_p1_g1_count)\n",
    "s08_g2_max,s08_g2_match = call_jsd(s08_p1_g2_count)\n",
    "s09_g1_max,s09_g1_match = call_jsd(s09_p1_g1_count)\n",
    "s09_g2_max,s09_g2_match = call_jsd(s09_p1_g2_count)\n",
    "s11_g1_max,s11_g1_match = call_jsd(s11_p1_g1_count)\n",
    "s11_g2_max,s11_g2_match = call_jsd(s11_p1_g2_count)\n",
    "s12_g1_max,s12_g1_match = call_jsd(s12_p1_g1_count)\n",
    "s12_g2_max,s12_g2_match = call_jsd(s12_p1_g2_count)\n",
    "s15_g1_max,s15_g1_match = call_jsd(s15_p1_g1_count)\n",
    "s15_g2_max,s15_g2_match = call_jsd(s15_p1_g2_count)\n",
    "s16_g1_max,s16_g1_match = call_jsd(s16_p1_g1_count)\n",
    "s16_g2_max,s16_g2_match = call_jsd(s16_p1_g2_count)\n",
    "s17_g1_max,s17_g1_match = call_jsd([0.0, 3.0, 78.0])\n",
    "s17_g2_max,s17_g2_match = call_jsd([0, 19, 62])\n",
    "s19_g1_max,s19_g1_match = call_jsd(s19_p1_g1_count)\n",
    "s19_g2_max,s19_g2_match = call_jsd(s19_p1_g2_count)\n",
    "s20_g1_max,s20_g1_match = call_jsd(s20_p1_g1_count)\n",
    "s20_g2_max,s20_g2_match = call_jsd(s20_p1_g2_count)"
   ]
  },
  {
   "cell_type": "code",
   "execution_count": null,
   "metadata": {},
   "outputs": [],
   "source": [
    "s17_p1_g1_count"
   ]
  },
  {
   "cell_type": "code",
   "execution_count": null,
   "metadata": {},
   "outputs": [],
   "source": [
    "s17_p1_g2_count"
   ]
  },
  {
   "cell_type": "code",
   "execution_count": null,
   "metadata": {},
   "outputs": [],
   "source": [
    "#Create a dataframe for single player game 1 jsd scores, with a column for each strategy.'''\n",
    "s_jsd_g1 = pd.DataFrame({'max':[s01_g1_max,s03_g1_max,s05_g1_max,s06_g1_max,s07_g1_max,s08_g1_max,\n",
    "                                s09_g1_max, s11_g1_max, s12_g1_max, s15_g1_max, s16_g1_max, s17_g1_max, s19_g1_max, s20_g1_max],\n",
    "                      'match':[s01_g1_match,s03_g1_match,s05_g1_match\n",
    "                               ,s06_g1_match,s07_g1_match,s08_g1_match,s09_g1_match, s11_g1_match, s12_g1_match, s15_g1_match, s16_g1_match, s17_g1_match, s19_g1_match, s20_g1_match]},\n",
    "                        index=['s01', 's03','s05','s06','s07','s08','s09', 's11', 's12', 's15', 's16', 's17', 's19', 's20'])"
   ]
  },
  {
   "cell_type": "code",
   "execution_count": null,
   "metadata": {},
   "outputs": [],
   "source": [
    "#closer to 0 = closer to that pure strategy\n",
    "s_jsd_g1"
   ]
  },
  {
   "cell_type": "code",
   "execution_count": null,
   "metadata": {},
   "outputs": [],
   "source": [
    "#Create a dataframe for single player game 2 jsd scores, with a column for each strategy.'''\n",
    "s_jsd_g2 = pd.DataFrame({'max':[s01_g2_max,s03_g2_max,s05_g2_max,s06_g2_max,s07_g2_max,s08_g2_max,\n",
    "                                s09_g2_max, s11_g2_max, s12_g2_max, s15_g2_max, s16_g2_max, s17_g2_max, s19_g2_max, s20_g2_max],\n",
    "                      'match':[s01_g2_match,s03_g2_match,s05_g2_match\n",
    "                               ,s06_g2_match,s07_g2_match,s08_g2_match,s09_g2_match, s11_g2_match, s12_g2_match, s15_g2_match, s16_g2_match, s17_g2_match, s19_g2_match, s20_g2_match]},\n",
    "                        index=['s01', 's03','s05','s06','s07','s08','s09', 's11', 's12', 's15', 's16', 's17', 's19', 's20'])"
   ]
  },
  {
   "cell_type": "code",
   "execution_count": null,
   "metadata": {},
   "outputs": [],
   "source": [
    "def check_type(df,*social):\n",
    "    types = pd.DataFrame(index=['type'])\n",
    "    for index,row in df.iterrows():\n",
    "        maxi = row[\"max\"]\n",
    "        matchi = row[\"match\"]\n",
    "        print(index,maxi,matchi)\n",
    "        if maxi < matchi:\n",
    "            print('maxi')\n",
    "            types = types.append({'type' : 'maxi'},ignore_index=True)\n",
    "            #types[index,'type'] = 'max'\n",
    "            num = maxi\n",
    "        elif matchi < maxi:\n",
    "            print('matchi')\n",
    "            types = types.append({'type' : 'matchi'},ignore_index=True)\n",
    "            num = matchi\n",
    "        else:\n",
    "            types = types.append({'type' : 'neither'},ignore_index=True)\n",
    "            num = 1\n",
    "        if social == True:\n",
    "            if num >= jsd(social_max,social_match):\n",
    "                types = types.append({'type' : 'neither'},ignore_index=True)\n",
    "        else:\n",
    "            if num >= jsd(maximize,match):\n",
    "                types = types.append({'type' : 'neither'},ignore_index=True)\n",
    "    return types"
   ]
  },
  {
   "cell_type": "code",
   "execution_count": null,
   "metadata": {
    "scrolled": true
   },
   "outputs": [],
   "source": [
    "s_types_g1 = check_type(s_jsd_g1)"
   ]
  },
  {
   "cell_type": "code",
   "execution_count": null,
   "metadata": {},
   "outputs": [],
   "source": [
    "s_types_g2 = check_type(s_jsd_g2)"
   ]
  },
  {
   "cell_type": "code",
   "execution_count": null,
   "metadata": {},
   "outputs": [],
   "source": [
    "#add label, make sure in correct order\n",
    "s_types_g1.drop([0])"
   ]
  },
  {
   "cell_type": "code",
   "execution_count": null,
   "metadata": {},
   "outputs": [],
   "source": [
    "s_types_g2.drop([0])"
   ]
  },
  {
   "cell_type": "code",
   "execution_count": null,
   "metadata": {},
   "outputs": [],
   "source": [
    "#how different max and match dists are from eachother\n",
    "#neither max or match(?)\n",
    "threshold = jsd(maximize,match)"
   ]
  },
  {
   "cell_type": "code",
   "execution_count": null,
   "metadata": {},
   "outputs": [],
   "source": [
    "threshold"
   ]
  },
  {
   "cell_type": "code",
   "execution_count": null,
   "metadata": {},
   "outputs": [],
   "source": [
    "s_jsd_g1"
   ]
  },
  {
   "cell_type": "code",
   "execution_count": null,
   "metadata": {},
   "outputs": [],
   "source": [
    "s_jsd_g2"
   ]
  },
  {
   "cell_type": "code",
   "execution_count": null,
   "metadata": {},
   "outputs": [],
   "source": [
    "#Call 'call_jsd' for each participant for each game in the joint sessions.'''\n",
    "j01_p1_g1_max,j01_p1_g1_match = call_jsd(j01_p1_g1_count)\n",
    "j01_p1_g2_max,j01_p1_g2_match = call_jsd(j01_p1_g2_count)\n",
    "j01_p2_g1_max,j01_p2_g1_match = call_jsd(j01_p2_g1_count)\n",
    "j01_p2_g2_max,j01_p2_g2_match = call_jsd(j01_p2_g2_count)\n",
    "j02_p1_g1_max,j02_p1_g1_match = call_jsd(j02_p1_g1_count)\n",
    "j02_p1_g2_max,j02_p1_g2_match = call_jsd(j02_p1_g2_count)\n",
    "j02_p2_g1_max,j02_p2_g1_match = call_jsd(j02_p2_g1_count)\n",
    "j02_p2_g2_max,j02_p2_g2_match = call_jsd(j02_p2_g2_count)\n",
    "j03_p1_g1_max,j03_p1_g1_match = call_jsd(j03_p1_g1_count)\n",
    "j03_p1_g2_max,j03_p1_g2_match = call_jsd(j03_p1_g2_count)\n",
    "j03_p2_g1_max,j03_p2_g1_match = call_jsd(j03_p2_g1_count)\n",
    "j03_p2_g2_max,j03_p2_g2_match = call_jsd(j03_p2_g2_count)\n",
    "j04_p1_g1_max,j04_p1_g1_match = call_jsd(j04_p1_g1_count)\n",
    "j04_p1_g2_max,j04_p1_g2_match = call_jsd(j04_p1_g2_count)\n",
    "j04_p2_g1_max,j04_p2_g1_match = call_jsd(j04_p2_g1_count)\n",
    "j04_p2_g2_max,j04_p2_g2_match = call_jsd(j04_p2_g2_count)\n",
    "j05_p1_g1_max,j05_p1_g1_match = call_jsd(j05_p1_g1_count)\n",
    "j05_p1_g2_max,j05_p1_g2_match = call_jsd(j05_p1_g2_count)\n",
    "j05_p2_g1_max,j05_p2_g1_match = call_jsd(j05_p2_g1_count)\n",
    "j05_p2_g2_max,j05_p2_g2_match = call_jsd(j05_p2_g2_count)\n",
    "j06_p1_g1_max,j06_p1_g1_match = call_jsd(j06_p1_g1_count)\n",
    "j06_p1_g2_max,j06_p1_g2_match = call_jsd(j06_p1_g2_count)\n",
    "j06_p2_g1_max,j06_p2_g1_match = call_jsd(j06_p2_g1_count)\n",
    "j06_p2_g2_max,j06_p2_g2_match = call_jsd(j06_p2_g2_count)\n",
    "j07_p1_g1_max,j07_p1_g1_match = call_jsd(j07_p1_g1_count)\n",
    "j07_p1_g2_max,j07_p1_g2_match = call_jsd(j07_p1_g2_count)\n",
    "j07_p2_g1_max,j07_p2_g1_match = call_jsd(j07_p2_g1_count)\n",
    "j07_p2_g2_max,j07_p2_g2_match = call_jsd(j07_p2_g2_count)\n",
    "j08_p1_g1_max,j08_p1_g1_match = call_jsd(j08_p1_g1_count)\n",
    "j08_p1_g2_max,j08_p1_g2_match = call_jsd(j08_p1_g2_count)\n",
    "j08_p2_g1_max,j08_p2_g1_match = call_jsd(j08_p2_g1_count)\n",
    "j08_p2_g2_max,j08_p2_g2_match = call_jsd(j08_p2_g2_count)\n",
    "j10_p1_g1_max,j10_p1_g1_match = call_jsd(j10_p1_g1_count)\n",
    "j10_p1_g2_max,j10_p1_g2_match = call_jsd(j10_p1_g2_count)\n",
    "j10_p2_g1_max,j10_p2_g1_match = call_jsd(j10_p2_g1_count)\n",
    "j10_p2_g2_max,j10_p2_g2_match = call_jsd(j10_p2_g2_count)\n",
    "j11_p1_g1_max,j11_p1_g1_match = call_jsd([0,6,74])\n",
    "j11_p1_g2_max,j11_p1_g2_match = call_jsd([0,6,74])\n",
    "j11_p2_g1_max,j11_p2_g1_match = call_jsd([0,6,74])\n",
    "j11_p2_g2_max,j11_p2_g2_match = call_jsd([0,6,74])"
   ]
  },
  {
   "cell_type": "code",
   "execution_count": null,
   "metadata": {},
   "outputs": [],
   "source": [
    "#Create a dataframe for joint game 1 jsd scores, with a column for each strategy.'''\n",
    "j_jsd_g1 = pd.DataFrame({'max':[j01_p1_g1_max,j01_p2_g1_max,j02_p1_g1_max,j02_p2_g1_max,j03_p1_g1_max,j03_p2_g1_max,\n",
    "                             j04_p1_g1_max,j04_p2_g1_max,j05_p1_g1_max,j05_p2_g1_max,j06_p1_g1_max,j06_p2_g1_max,\n",
    "                             j07_p1_g1_max,j07_p2_g1_max,j08_p1_g1_max,j08_p2_g1_max,j10_p1_g1_max,j10_p2_g1_max,\n",
    "                               j11_p1_g1_max, j11_p2_g1_max],\n",
    "                      'match':[j01_p1_g1_match,j01_p2_g1_match,j02_p1_g1_match,\n",
    "                               j02_p2_g1_match,j03_p1_g1_match,j03_p2_g1_match,\n",
    "                               j04_p1_g1_match,j04_p2_g1_match,j05_p1_g1_match,\n",
    "                               j05_p2_g1_match,j06_p1_g1_match,j06_p2_g1_match,\n",
    "                               j07_p1_g1_match,j07_p2_g1_match,j08_p1_g1_match,j08_p2_g1_match, j10_p1_g1_match,\n",
    "                              j10_p2_g1_match, j11_p1_g1_match, j11_p2_g1_match]}, \n",
    "                        index=['j01', 'j01', 'j02', 'j02', 'j03', 'j03','j04', 'j04','j05', 'j05',\n",
    "                               'j06', 'j06','j07','j07','j08','j08', 'j10', 'j10', 'j11', 'j11'])"
   ]
  },
  {
   "cell_type": "code",
   "execution_count": null,
   "metadata": {},
   "outputs": [],
   "source": [
    "#Create a dataframe for joint game 2 jsd scores, with a column for each strategy.'''\n",
    "j_jsd_g2 = pd.DataFrame({'max':[j01_p1_g2_max,j01_p2_g2_max,j02_p1_g2_max,j02_p2_g2_max,j03_p1_g2_max,j03_p2_g2_max,\n",
    "                             j04_p1_g2_max,j04_p2_g2_max,j05_p1_g2_max,j05_p2_g2_max,j06_p1_g2_max,j06_p2_g2_max,\n",
    "                             j07_p1_g2_max,j07_p2_g2_max,j08_p1_g2_max,j08_p2_g2_max,j10_p1_g2_max,j10_p2_g2_max,\n",
    "                               j11_p1_g2_max, j11_p2_g2_max],\n",
    "                      'match':[j01_p1_g2_match,j01_p2_g2_match,j02_p1_g2_match,\n",
    "                               j02_p2_g2_match,j03_p1_g2_match,j03_p2_g2_match,\n",
    "                               j04_p1_g2_match,j04_p2_g2_match,j05_p1_g2_match,\n",
    "                               j05_p2_g2_match,j06_p1_g2_match,j06_p2_g2_match,\n",
    "                               j07_p1_g2_match,j07_p2_g2_match,j08_p1_g2_match,j08_p2_g2_match,j10_p1_g2_match,\n",
    "                              j10_p2_g2_match, j11_p1_g2_match, j11_p2_g2_match]}, \n",
    "                        index=['j01', 'j01', 'j02', 'j02', 'j03', 'j03','j04', 'j04','j05', 'j05',\n",
    "                               'j06', 'j06','j07','j07','j08','j08', 'j10', 'j10', 'j11', 'j11'])"
   ]
  },
  {
   "cell_type": "code",
   "execution_count": null,
   "metadata": {},
   "outputs": [],
   "source": [
    "j_types_g1 = check_type(j_jsd_g1)"
   ]
  },
  {
   "cell_type": "code",
   "execution_count": null,
   "metadata": {},
   "outputs": [],
   "source": [
    "j_types_g2 = check_type(j_jsd_g2)"
   ]
  },
  {
   "cell_type": "code",
   "execution_count": null,
   "metadata": {},
   "outputs": [],
   "source": [
    "j_types_g1.drop([0])"
   ]
  },
  {
   "cell_type": "code",
   "execution_count": null,
   "metadata": {},
   "outputs": [],
   "source": [
    "j_types_g2.drop([0])"
   ]
  },
  {
   "cell_type": "code",
   "execution_count": null,
   "metadata": {
    "scrolled": false
   },
   "outputs": [],
   "source": [
    "j_jsd_g1"
   ]
  },
  {
   "cell_type": "code",
   "execution_count": null,
   "metadata": {},
   "outputs": [],
   "source": [
    "j_jsd_g2"
   ]
  },
  {
   "cell_type": "code",
   "execution_count": null,
   "metadata": {},
   "outputs": [],
   "source": [
    "#same for joint using \"social\""
   ]
  },
  {
   "cell_type": "code",
   "execution_count": null,
   "metadata": {},
   "outputs": [],
   "source": [
    "#Call 'call_jsd_social' for each participant for each game in the joint sessions.'''\n",
    "j01_p1_g1_max,j01_p1_g1_match = call_jsd_social(j01_p1_g1_count)\n",
    "j01_p1_g2_max,j01_p1_g2_match = call_jsd_social(j01_p1_g2_count)\n",
    "j01_p2_g1_max,j01_p2_g1_match = call_jsd_social(j01_p2_g1_count)\n",
    "j01_p2_g2_max,j01_p2_g2_match = call_jsd_social(j01_p2_g2_count)\n",
    "j02_p1_g1_max,j02_p1_g1_match = call_jsd_social(j02_p1_g1_count)\n",
    "j02_p1_g2_max,j02_p1_g2_match = call_jsd_social(j02_p1_g2_count)\n",
    "j02_p2_g1_max,j02_p2_g1_match = call_jsd_social(j02_p2_g1_count)\n",
    "j02_p2_g2_max,j02_p2_g2_match = call_jsd_social(j02_p2_g2_count)\n",
    "j03_p1_g1_max,j03_p1_g1_match = call_jsd_social(j03_p1_g1_count)\n",
    "j03_p1_g2_max,j03_p1_g2_match = call_jsd_social(j03_p1_g2_count)\n",
    "j03_p2_g1_max,j03_p2_g1_match = call_jsd_social(j03_p2_g1_count)\n",
    "j03_p2_g2_max,j03_p2_g2_match = call_jsd_social(j03_p2_g2_count)\n",
    "j04_p1_g1_max,j04_p1_g1_match = call_jsd_social(j04_p1_g1_count)\n",
    "j04_p1_g2_max,j04_p1_g2_match = call_jsd_social(j04_p1_g2_count)\n",
    "j04_p2_g1_max,j04_p2_g1_match = call_jsd_social(j04_p2_g1_count)\n",
    "j04_p2_g2_max,j04_p2_g2_match = call_jsd_social(j04_p2_g2_count)\n",
    "j05_p1_g1_max,j05_p1_g1_match = call_jsd_social(j05_p1_g1_count)\n",
    "j05_p1_g2_max,j05_p1_g2_match = call_jsd_social(j05_p1_g2_count)\n",
    "j05_p2_g1_max,j05_p2_g1_match = call_jsd_social(j05_p2_g1_count)\n",
    "j05_p2_g2_max,j05_p2_g2_match = call_jsd_social(j05_p2_g2_count)\n",
    "j06_p1_g1_max,j06_p1_g1_match = call_jsd_social(j06_p1_g1_count)\n",
    "j06_p1_g2_max,j06_p1_g2_match = call_jsd_social(j06_p1_g2_count)\n",
    "j06_p2_g1_max,j06_p2_g1_match = call_jsd_social(j06_p2_g1_count)\n",
    "j06_p2_g2_max,j06_p2_g2_match = call_jsd_social(j06_p2_g2_count)\n",
    "j07_p1_g1_max,j07_p1_g1_match = call_jsd_social(j07_p1_g1_count)\n",
    "j07_p1_g2_max,j07_p1_g2_match = call_jsd_social(j07_p1_g2_count)\n",
    "j07_p2_g1_max,j07_p2_g1_match = call_jsd_social(j07_p2_g1_count)\n",
    "j07_p2_g2_max,j07_p2_g2_match = call_jsd_social(j07_p2_g2_count)\n",
    "j08_p1_g1_max,j08_p1_g1_match = call_jsd_social(j08_p1_g1_count)\n",
    "j08_p1_g2_max,j08_p1_g2_match = call_jsd_social(j08_p1_g2_count)\n",
    "j08_p2_g1_max,j08_p2_g1_match = call_jsd_social(j08_p2_g1_count)\n",
    "j08_p2_g2_max,j08_p2_g2_match = call_jsd_social(j08_p2_g2_count)\n",
    "j10_p1_g1_max,j10_p1_g1_match = call_jsd_social(j10_p1_g1_count)\n",
    "j10_p1_g2_max,j10_p1_g2_match = call_jsd_social(j10_p1_g2_count)\n",
    "j10_p2_g1_max,j10_p2_g1_match = call_jsd_social(j10_p2_g1_count)\n",
    "j10_p2_g2_max,j10_p2_g2_match = call_jsd_social(j10_p2_g2_count)\n",
    "j11_p1_g1_max,j11_p1_g1_match = call_jsd_social(j11_p1_g1_count)\n",
    "j11_p1_g2_max,j11_p1_g2_match = call_jsd_social(j11_p1_g2_count)\n",
    "j11_p2_g1_max,j11_p2_g1_match = call_jsd_social(j11_p2_g1_count)\n",
    "j11_p2_g2_max,j11_p2_g2_match = call_jsd_social(j11_p2_g2_count)"
   ]
  },
  {
   "cell_type": "code",
   "execution_count": null,
   "metadata": {},
   "outputs": [],
   "source": [
    "#Create a dataframe for joint game 1 social jsd scores, with a column for each strategy.'''\n",
    "j_jsd_g1_social = pd.DataFrame({'max':[j01_p1_g1_max,j01_p2_g1_max,j02_p1_g1_max,j02_p2_g1_max,j03_p1_g1_max,j03_p2_g1_max,\n",
    "                             j04_p1_g1_max,j04_p2_g1_max,j05_p1_g1_max,j05_p2_g1_max,j06_p1_g1_max,j06_p2_g1_max,\n",
    "                             j07_p1_g1_max,j07_p2_g1_max,j08_p1_g1_max,j08_p2_g1_max, j10_p2_g1_max,\n",
    "                               j11_p1_g1_max, j11_p2_g1_max],\n",
    "                      'match':[j01_p1_g1_match,j01_p2_g1_match,j02_p1_g1_match,\n",
    "                               j02_p2_g1_match,j03_p1_g1_match,j03_p2_g1_match,\n",
    "                               j04_p1_g1_match,j04_p2_g1_match,j05_p1_g1_match,\n",
    "                               j05_p2_g1_match,j06_p1_g1_match,j06_p2_g1_match,\n",
    "                               j07_p1_g1_match,j07_p2_g1_match,j08_p1_g1_match,j08_p2_g1_match, j10_p1_g1_match,\n",
    "                              j10_p2_g1_match, j11_p1_g1_match, j11_p2_g1_match]}, \n",
    "                        index=['j01', 'j01', 'j02', 'j02', 'j03', 'j03','j04', 'j04','j05', 'j05',\n",
    "                               'j06', 'j06','j07','j07','j08','j08', 'j10', 'j10', 'j11', 'j11'])"
   ]
  },
  {
   "cell_type": "code",
   "execution_count": null,
   "metadata": {},
   "outputs": [],
   "source": [
    "#Create a dataframe for joint game 2 social jsd scores, with a column for each strategy.'''\n",
    "j_jsd_g2_social = pd.DataFrame({'max':[j01_p1_g2_max,j01_p2_g2_max,j02_p1_g2_max,j02_p2_g2_max,j03_p1_g2_max,j03_p2_g2_max,\n",
    "                             j04_p1_g2_max,j04_p2_g2_max,j05_p1_g2_max,j05_p2_g2_max,j06_p1_g2_max,j06_p2_g2_max,\n",
    "                             j07_p1_g2_max,j07_p2_g2_max,j08_p1_g2_max,j08_p2_g2_max],\n",
    "                      'match':[j01_p1_g2_match,j01_p2_g2_match,j02_p1_g2_match,\n",
    "                               j02_p2_g2_match,j03_p1_g2_match,j03_p2_g2_match,\n",
    "                               j04_p1_g2_match,j04_p2_g2_match,j05_p1_g2_match,\n",
    "                               j05_p2_g2_match,j06_p1_g2_match,j06_p2_g2_match,\n",
    "                               j07_p1_g2_match,j07_p2_g2_match,j08_p1_g2_match,j08_p2_g2_match]}, \n",
    "                        index=['j01', 'j01', 'j02', 'j02', 'j03', 'j03','j04', 'j04','j05', 'j05',\n",
    "                               'j06', 'j06','j07','j07','j08','j08'])"
   ]
  },
  {
   "cell_type": "code",
   "execution_count": null,
   "metadata": {},
   "outputs": [],
   "source": [
    "j_jsd_g1_social = check_type(j_jsd_g1_social,True)"
   ]
  },
  {
   "cell_type": "code",
   "execution_count": null,
   "metadata": {},
   "outputs": [],
   "source": [
    "j_jsd_g2_social = check_type(j_jsd_g2_social,True)"
   ]
  },
  {
   "cell_type": "code",
   "execution_count": null,
   "metadata": {},
   "outputs": [],
   "source": [
    "#j_jsd_g1_social.drop([0])\n",
    "\n",
    "j_jsd_g1_social"
   ]
  },
  {
   "cell_type": "code",
   "execution_count": null,
   "metadata": {},
   "outputs": [],
   "source": [
    "j_jsd_g2_social"
   ]
  },
  {
   "cell_type": "code",
   "execution_count": null,
   "metadata": {},
   "outputs": [],
   "source": [
    "threshold"
   ]
  },
  {
   "cell_type": "code",
   "execution_count": null,
   "metadata": {},
   "outputs": [],
   "source": [
    "import matplotlib.lines as mlines"
   ]
  },
  {
   "cell_type": "code",
   "execution_count": null,
   "metadata": {},
   "outputs": [],
   "source": [
    "#colors_jsd = [['lightcoral','red','lightcoral','red','bisque','orange','bisque','orange','palegreen','green','palegreen','green',\n",
    "              #'lightblue','blue','lightblue','blue','mediumslateblue','indigo','mediumslateblue','indigo','lightpink','deeppink',\n",
    "              #'lightpink','deeppink','yellow','gold','yellow','gold','lightgray','gray','lightgray','gray']              "
   ]
  },
  {
   "cell_type": "code",
   "execution_count": null,
   "metadata": {},
   "outputs": [],
   "source": [
    "import itertools"
   ]
  },
  {
   "cell_type": "code",
   "execution_count": null,
   "metadata": {},
   "outputs": [],
   "source": [
    "#Here I think I tried to create colors for each subject in each condition for use in graphs. I DON'T think this is \n",
    "#a good way to do this.'''\n",
    "colors_jsd_j = ['red','lightcoral','orange','darkorange','green','palegreen',\n",
    "              'blue','darkblue','hotpink','pink','purple','plum','peru','saddlebrown','gray','lightgray']\n",
    "colors_jsd_s_g1 = ['red','orange','green','blue','pink','purple','peru','cyan', 'red','lightcoral','orange','darkorange','green','palegreen',\n",
    "              'blue']\n",
    "colors_jsd_s_g2 = ['red','green','blue','pink','purple','peru','cyan', 'red','lightcoral','orange','darkorange','green','palegreen',\n",
    "              'blue']\n",
    "markers_jsd = ['o','v','o','v','o','v','o','v','o','v','o','v','o','v','o','v','o','v','o','v','o','v','o','v'\n",
    "          'o','v','o','v','o','v','o','v']\n",
    "colors"
   ]
  },
  {
   "cell_type": "code",
   "execution_count": null,
   "metadata": {},
   "outputs": [],
   "source": [
    "#Here I print the means of the JSD values in each condition, just to see what they are.'''"
   ]
  },
  {
   "cell_type": "code",
   "execution_count": null,
   "metadata": {},
   "outputs": [],
   "source": [
    "#run t test to see sig between max and match per game\n",
    "#put in box plot\n",
    "s_jsd_g1.mean()"
   ]
  },
  {
   "cell_type": "code",
   "execution_count": null,
   "metadata": {},
   "outputs": [],
   "source": [
    "s_jsd_g2.mean()"
   ]
  },
  {
   "cell_type": "code",
   "execution_count": null,
   "metadata": {},
   "outputs": [],
   "source": [
    "j_jsd_g1.mean()"
   ]
  },
  {
   "cell_type": "code",
   "execution_count": null,
   "metadata": {},
   "outputs": [],
   "source": [
    "j_jsd_g2.mean()"
   ]
  },
  {
   "cell_type": "code",
   "execution_count": null,
   "metadata": {},
   "outputs": [],
   "source": [
    "import matplotlib.patches as mpatches"
   ]
  },
  {
   "cell_type": "code",
   "execution_count": null,
   "metadata": {},
   "outputs": [],
   "source": [
    "#create proxy artist for legend\n",
    "patches = []\n",
    "for index,row in j_jsd_g1.iterrows():\n",
    "    for i in colors_jsd_j:\n",
    "        patches.append(mpatches.Patch(color=i, label=index))"
   ]
  },
  {
   "cell_type": "markdown",
   "metadata": {},
   "source": [
    "# legend not working"
   ]
  },
  {
   "cell_type": "code",
   "execution_count": null,
   "metadata": {},
   "outputs": [],
   "source": [
    "#Here I try to plot the JSD Values. Continued below under 'JSD with gender."
   ]
  },
  {
   "cell_type": "code",
   "execution_count": null,
   "metadata": {},
   "outputs": [],
   "source": [
    "#j_jsd_plot = j_jsd.plot.scatter(x='max',y='match',title='Multi Player JSD Values')\n",
    "#line = mlines.Line2D([0.2148, 0], [0.2148, 1], color='red')\n",
    "#j_jsd_plot.add_line(line)\n",
    "#plt.show()\n",
    "#fig, j_jsd_g1_plot = plt.subplots()\n",
    "\n",
    "j_jsd_g1_plot = j_jsd_g1.plot.scatter(x='max',y='match',s=100,c=colors_jsd_j,title='Multiplayer JSD Values Game 1')\n",
    "plt.xticks(np.arange(0, 0.5, step=0.1))\n",
    "plt.yticks(np.arange(0, 0.5, step=0.1))\n",
    "line1 = mlines.Line2D([0, 0.4],[0, 0.4], color='red')\n",
    "#line2 = mlines.Line2D([0,0.8],[0.2148,0.2148])\n",
    "#line2 = mlines.Line2D([0, 0.4],[0.2148, 0.2148], color='red')\n",
    "\n",
    "\n",
    "line2 = mlines.Line2D([0.2148, 0.2148],[-0.03, 0.5], color='red')\n",
    "line3 = mlines.Line2D([-0.03,0.8],[0.2148,0.2148])\n",
    "\n",
    "#transform = ax.transAxes\n",
    "#line2 doesn't show up; all below it?\n",
    "#line.set_transform(transform)\n",
    "j_jsd_g1_plot.add_line(line1)\n",
    "#j_jsd_g1_plot.add_line(line2)\n",
    "#j_jsd_g1_plot.add_line(line3)\n",
    "\n",
    "#plt.legend(handles=patches)\n",
    "plt.savefig('j_jsd_1.eps',format='eps',dpi=1000)\n",
    "plt.show()\n",
    "\n",
    "\n",
    "\n",
    "\n",
    "#color code pairs together\n",
    "\n"
   ]
  },
  {
   "cell_type": "code",
   "execution_count": null,
   "metadata": {},
   "outputs": [],
   "source": [
    "#j_jsd_plot = j_jsd.plot.scatter(x='max',y='match',title='Multi Player JSD Values')\n",
    "#line = mlines.Line2D([0.2148, 0], [0.2148, 1], color='red')\n",
    "#j_jsd_plot.add_line(line)\n",
    "#plt.show()\n",
    "#fig, j_jsd_g2_plot = plt.subplots()\n",
    "\n",
    "\n",
    "j_jsd_g2_plot = j_jsd_g2.plot.scatter(x='max',y='match',s=100,c=colors_jsd_j,title='Multiplayer JSD Values Game 2')\n",
    "plt.xticks(np.arange(0, 0.5, step=0.1))\n",
    "plt.yticks(np.arange(0, 0.5, step=0.1))\n",
    "#line1 = mlines.Line2D([0.2148, 0.2148],[-0.03, 0.5], color='red')\n",
    "#line2 = mlines.Line2D([-0.03,0.8],[0.2148,0.2148])\n",
    "#line2 = mlines.Line2D([0, 0.4],[0.2148, 0.2148], color='red')\n",
    "line1 = mlines.Line2D([-1, 0.4],[-1, 0.4], color='red')\n",
    "#transform = ax.transAxes\n",
    "#line2 doesn't show up; all below it?\n",
    "#line.set_transform(transform)\n",
    "j_jsd_g2_plot.add_line(line1)\n",
    "#j_jsd_g2_plot.add_line(line2)\n",
    "plt.savefig('j_jsd_2.eps',format='eps',dpi=1000)\n",
    "plt.show()\n",
    "\n",
    "\n",
    "#color code pairs together"
   ]
  },
  {
   "cell_type": "code",
   "execution_count": null,
   "metadata": {},
   "outputs": [],
   "source": [
    "#under line = matching (closer to 0)\n",
    "#plots of atual jsd values\n",
    "s_jsd_g1_plot = s_jsd_g1.plot.scatter(x='max',y='match',s=100,colors=colors_jsd_s_g2,title='Single Player JSD Values Game 1')\n",
    "plt.xticks(np.arange(0, 0.5, step=0.1))\n",
    "plt.yticks(np.arange(0, 0.5, step=0.1))\n",
    "#line1 = mlines.Line2D([0.2148, 0.2148],[-0.03, 0.5], color='red')\n",
    "#line2 = mlines.Line2D([0,0.8],[0.2148,0.2148])\n",
    "\n",
    "line1 = mlines.Line2D([0, 0.4],[0, 0.4], color='red')\n",
    "\n",
    "s_jsd_g1_plot.add_line(line1)\n",
    "#s_jsd_g2_plot.add_line(line2)\n",
    "plt.savefig('s_jsd_2.eps',format='eps',dpi=1000)\n",
    "plt.show()"
   ]
  },
  {
   "cell_type": "code",
   "execution_count": null,
   "metadata": {},
   "outputs": [],
   "source": [
    "s_jsd_g2_plot = s_jsd_g2.plot.scatter(x='max',y='match',s=100,colors=colors_jsd_s_g2,title='Single Player JSD Values Game 2')\n",
    "plt.xticks(np.arange(0, 0.5, step=0.1))\n",
    "plt.yticks(np.arange(0, 0.5, step=0.1))\n",
    "\n",
    "#line1 = mlines.Line2D([0.2148, 0.2148],[-0.03, 0.5], color='red')\n",
    "#line2 = mlines.Line2D([0,0.8],[0.2148,0.2148])\n",
    "\n",
    "line1 = mlines.Line2D([0, 0.4],[0, 0.4], color='red')\n",
    "\n",
    "s_jsd_g2_plot.add_line(line1)\n",
    "#s_jsd_g2_plot.add_line(line2)\n",
    "plt.savefig('s_jsd_2.eps',format='eps',dpi=1000)"
   ]
  },
  {
   "cell_type": "code",
   "execution_count": null,
   "metadata": {},
   "outputs": [],
   "source": [
    "threshold_social = jsd(social_max,social_match)"
   ]
  },
  {
   "cell_type": "code",
   "execution_count": null,
   "metadata": {},
   "outputs": [],
   "source": [
    "threshold_social"
   ]
  },
  {
   "cell_type": "code",
   "execution_count": null,
   "metadata": {},
   "outputs": [],
   "source": [
    "j_jsd_g1_social_plot = j_jsd_g1_social.plot.scatter(x='max',y='match',s=100,c=colors_jsd_j,title='Multi Player JSD Social Values Game 1')\n",
    "plt.xticks(np.arange(0, 0.6, step=0.1))\n",
    "plt.yticks(np.arange(0, 0.6, step=0.1))\n",
    "#line1 = mlines.Line2D([0.3183, 0.3183],[-0.03, 0.55], color='red')\n",
    "#line2 = mlines.Line2D([0, 0.8],[0.3183, 0.3183])\n",
    "#j_jsd_g1_social_plot.add_line(line1)\n",
    "#j_jsd_g1_social_plot.add_line(line2)\n",
    "\n",
    "line1 = mlines.Line2D([0, 0.55],[0, 0.55], color='red')\n",
    "\n",
    "j_jsd_g1_social_plot.add_line(line1)\n",
    "plt.savefig('j_jsd_social_1.eps',format='eps',dpi=1000)\n",
    "#everyone could be classified as a matcher. everyone to the left of the red line could be using both\n",
    "#NEED TO: color differently those who were more of maximizers than matchers!!!"
   ]
  },
  {
   "cell_type": "code",
   "execution_count": null,
   "metadata": {},
   "outputs": [],
   "source": [
    "j_jsd_g2_social_plot = j_jsd_g2_social.plot.scatter(x='max',y='match',s=100,colors=colors_jsd_j,title='Multi Player JSD Social Values Game 2')\n",
    "plt.xticks(np.arange(0, 0.6, step=0.1))\n",
    "plt.yticks(np.arange(0, 0.6, step=0.1))\n",
    "line1 = mlines.Line2D([0, 0.55],[0, 0.55], color='red')\n",
    "\n",
    "j_jsd_g2_social_plot.add_line(line1)\n",
    "plt.savefig('j_jsd_social_2.eps',format='eps',dpi=1000)"
   ]
  },
  {
   "cell_type": "markdown",
   "metadata": {},
   "source": [
    "### NOT WORKING\n",
    "def check_type_3(row):\n",
    "        maxi = row[\"max\"]\n",
    "        matchi = row[\"match\"]\n",
    "        if maxi < matchi:\n",
    "            row['type'] = 'max'\n",
    "            num = maxi\n",
    "        elif matchi < maxi:\n",
    "            row['type'] = 'match'\n",
    "            num = matchi\n",
    "        else:\n",
    "            row['type'] = 'neither'\n",
    "        if num >= jsd(maximize,match):\n",
    "            row['type'] = 'neither'\n",
    "            \n",
    "def check_type_2(df):\n",
    "    for row in df.itertuples(index=True, name='Pandas'):\n",
    "        print(index,row[\"max\"],row[\"match\"])\n",
    "        if row[\"match\"] < row[\"max\"] and row[\"match\"] < jsd(maximize,match):\n",
    "            df.at[index,'type'] = 'match'\n",
    "        elif row[\"max\"] < row[\"match\"] and row[\"max\"] < jsd(maximize,match):\n",
    "            df.at[index,'type'] = 'max'\n",
    "        else:\n",
    "            df.at[index,'type'] = 'neither'"
   ]
  },
  {
   "cell_type": "markdown",
   "metadata": {},
   "source": [
    "# Gender Diff"
   ]
  },
  {
   "cell_type": "code",
   "execution_count": null,
   "metadata": {},
   "outputs": [],
   "source": [
    "#load from CSV file\n",
    "reader = csv.reader( open('gender.csv'))\n",
    "data = [row for row in reader]\n",
    "gender = pd.DataFrame(np.array(data))\n",
    "gender = gender.rename(columns = {0:\"participant\", 1:\"gender \"})\n",
    "gender_s = gender.iloc[16:,:]\n",
    "gender_j = gender.iloc[:16,:]\n",
    "gender_s.drop([19])"
   ]
  },
  {
   "cell_type": "code",
   "execution_count": null,
   "metadata": {},
   "outputs": [],
   "source": [
    "gender_s"
   ]
  },
  {
   "cell_type": "code",
   "execution_count": null,
   "metadata": {},
   "outputs": [],
   "source": [
    "gender_j"
   ]
  },
  {
   "cell_type": "code",
   "execution_count": null,
   "metadata": {},
   "outputs": [],
   "source": [
    "gender_s = gender_s.merge(s_scores_1,on='participant')"
   ]
  },
  {
   "cell_type": "code",
   "execution_count": null,
   "metadata": {},
   "outputs": [],
   "source": [
    "gender_s = gender_s.merge(s_scores_2,on='participant')"
   ]
  },
  {
   "cell_type": "code",
   "execution_count": null,
   "metadata": {},
   "outputs": [],
   "source": [
    "gender_s\n",
    "#gender_s.drop(['score'],axis=1)"
   ]
  },
  {
   "cell_type": "code",
   "execution_count": null,
   "metadata": {},
   "outputs": [],
   "source": [
    "gender_s = gender_s.merge(score_diff,on='participant')"
   ]
  },
  {
   "cell_type": "code",
   "execution_count": null,
   "metadata": {},
   "outputs": [],
   "source": [
    "gender_s"
   ]
  },
  {
   "cell_type": "code",
   "execution_count": null,
   "metadata": {},
   "outputs": [],
   "source": [
    "#gender_s_m = gender_s.gender == \"male\"\n",
    "#gender_s['score_x'].mean()"
   ]
  },
  {
   "cell_type": "code",
   "execution_count": null,
   "metadata": {},
   "outputs": [],
   "source": [
    "j_scores_1['participant'] = ['j01a','j01b','j02a','j02b','j03a','j03b','j04a','j04b','j05a','j05b','j06a','j06b',\n",
    "                             'j07a','j07b',\n",
    "                            'j08a','j08b']\n",
    "j_scores_2['participant'] = ['j01a','j01b','j02a','j02b','j03a','j03b','j04a','j04b','j05a','j05b','j06a','j06b',\n",
    "                             'j07a','j07b',\n",
    "                            'j08a','j08b']"
   ]
  },
  {
   "cell_type": "code",
   "execution_count": null,
   "metadata": {},
   "outputs": [],
   "source": [
    "j_score_diff['participant'] = ['j01a','j01b','j02a','j02b','j03a','j03b','j04a','j04b','j05a','j05b','j06a','j06b',\n",
    "                             'j07a','j07b',\n",
    "                            'j08a','j08b']"
   ]
  },
  {
   "cell_type": "code",
   "execution_count": null,
   "metadata": {},
   "outputs": [],
   "source": [
    "j_score_diff"
   ]
  },
  {
   "cell_type": "code",
   "execution_count": null,
   "metadata": {},
   "outputs": [],
   "source": [
    "gender_j = gender_j.merge(j_scores_1,on='participant')\n",
    "#gender_j = gender_j.merge(j_scores_2,on='participant')\n",
    "#gender_j = gender_j.merge(j_score_diff,on='participant')"
   ]
  },
  {
   "cell_type": "code",
   "execution_count": null,
   "metadata": {},
   "outputs": [],
   "source": [
    "gender_j"
   ]
  },
  {
   "cell_type": "code",
   "execution_count": null,
   "metadata": {},
   "outputs": [],
   "source": [
    "gender_j = gender_j.merge(j_scores_2,on='participant')"
   ]
  },
  {
   "cell_type": "code",
   "execution_count": null,
   "metadata": {},
   "outputs": [],
   "source": [
    "gender_j"
   ]
  },
  {
   "cell_type": "code",
   "execution_count": null,
   "metadata": {},
   "outputs": [],
   "source": [
    "gender_j = gender_j.merge(j_score_diff,on='participant')"
   ]
  },
  {
   "cell_type": "code",
   "execution_count": null,
   "metadata": {},
   "outputs": [],
   "source": [
    "gender_j"
   ]
  },
  {
   "cell_type": "code",
   "execution_count": null,
   "metadata": {},
   "outputs": [],
   "source": [
    "#don't remove first 20 trials\n",
    "def organize_trial_by_trial_all(txt_filename):\n",
    "    reader = csv.reader( open(txt_filename))\n",
    "    game_data = [row for row in reader]\n",
    "    df = pd.DataFrame(np.array(game_data))\n",
    "    df = df.T\n",
    "    df = df.rename(columns = {0:\"game number\", 1:\"trial\", 2:\"player\", 3:\"arm\", 4:\"probability\", 5:\"reward\", 6:\"time\", 7:\"P1 score\", 8:\"P2 score\"})\n",
    "    #df = df[40:]\n",
    "    #df = df.drop(columns = 'time') #can comment this out if want to look at time\n",
    "    df = df.apply(pd.to_numeric)\n",
    "    df.head()\n",
    "    \n",
    "    #combining info in the same trial for both players together in the same row\n",
    "    #player1 = df[df['player'] == 1].drop(columns = \"P2 score\").drop(columns = \"player\")\n",
    "    #player1 = player1.reset_index().drop(columns = \"index\")\n",
    "    #player1 = player1.rename(columns = {\"arm\":\"P1 arm\", \"probability\":\"P1 prob\", \"reward\":\"P1 reward\"})\n",
    "\n",
    "    #player2 = df[df['player'] == 2].drop(columns = \"P1 score\").drop(columns = 'trial').drop(columns = 'player')\n",
    "    #player2 = player2.reset_index().drop(columns = \"index\")\n",
    "    #player2 = player2.rename(columns = {\"arm\":\"P2 arm\", \"probability\":\"P2 prob\", \"reward\":\"P2 reward\"})\n",
    "\n",
    "    #result = pd.concat([player1, player2], axis=1, sort=False)\n",
    "    return df"
   ]
  },
  {
   "cell_type": "code",
   "execution_count": null,
   "metadata": {},
   "outputs": [],
   "source": [
    "#don't remove first 20 trials\n",
    "#separate data frames for p1 and p2 \n",
    "def separate_df(df, version):\n",
    "    #df.set_index(df['trial'])\n",
    "    df_p1 = df[df['player'] == 1]\n",
    "    df_p1_g1 = df_p1[df['game number'] == 1]\n",
    "    df_p1_g2 = df_p1[df['game number'] == 2]\n",
    "    #remove first 20 trials for g2\n",
    "    #df_p1_g2 = df_p1_g2[20:]\n",
    "    if version == 's':\n",
    "        return df_p1_g1, df_p1_g2\n",
    "    df_p2 = df[df['player'] ==2 ]\n",
    "    df_p2_g1 = df_p2[df['game number'] == 1]\n",
    "    df_p2_g2 = df_p2[df['game number'] == 2]\n",
    "    return df_p1_g1, df_p1_g2, df_p2_g1, df_p2_g2"
   ]
  },
  {
   "cell_type": "code",
   "execution_count": null,
   "metadata": {},
   "outputs": [],
   "source": [
    "import glob,os"
   ]
  },
  {
   "cell_type": "code",
   "execution_count": null,
   "metadata": {},
   "outputs": [],
   "source": [
    "for filename in glob.iglob('/data/**', recursive=True):\n",
    "    if os.path.isfile(filename): # filter dirs\n",
    "        filename = organize_trial_by_trial_all(filename)"
   ]
  },
  {
   "cell_type": "markdown",
   "metadata": {},
   "source": [
    "# jsd with gender"
   ]
  },
  {
   "cell_type": "code",
   "execution_count": null,
   "metadata": {},
   "outputs": [],
   "source": [
    "colors_jsd_s_g1=['b','b','r','b','b','r','r','r']\n",
    "colors_jsd_s_g2=['b','r','b','b','r','r','r']"
   ]
  },
  {
   "cell_type": "code",
   "execution_count": null,
   "metadata": {},
   "outputs": [],
   "source": [
    "s_jsd_g1_plot = s_jsd_g1.plot.scatter(x='max',y='match',s=100,colors=colors_jsd_s_g1,title='Single Player JSD Values Game 1')\n",
    "plt.xticks(np.arange(0, 0.5, step=0.1))\n",
    "plt.yticks(np.arange(0, 0.5, step=0.1))\n",
    "#line1 = mlines.Line2D([0.2148, 0.2148],[-0.03, 0.5], color='red')\n",
    "#line2 = mlines.Line2D([0,0.8],[0.2148,0.2148])\n",
    "\n",
    "line1 = mlines.Line2D([0, 0.4],[0, 0.4], color='red')\n",
    "\n",
    "s_jsd_g1_plot.add_line(line1)\n",
    "#s_jsd_g1_plot.add_line(line2)\n",
    "plt.savefig('s_jsd_1.eps',format='eps',dpi=1000)\n",
    "plt.show()"
   ]
  },
  {
   "cell_type": "code",
   "execution_count": null,
   "metadata": {},
   "outputs": [],
   "source": [
    "s_jsd_g2_plot = s_jsd_g2.plot.scatter(x='max',y='match',s=100,colors=colors_jsd_s_g2,title='Single Player JSD Values Game 2')\n",
    "plt.xticks(np.arange(0, 0.5, step=0.1))\n",
    "plt.yticks(np.arange(0, 0.5, step=0.1))\n",
    "#line1 = mlines.Line2D([0.2148, 0.2148],[-0.03, 0.5], color='red')\n",
    "#line2 = mlines.Line2D([0,0.8],[0.2148,0.2148])\n",
    "\n",
    "line1 = mlines.Line2D([0, 0.4],[0, 0.4], color='red')\n",
    "\n",
    "s_jsd_g1_plot.add_line(line1)\n",
    "#s_jsd_g1_plot.add_line(line2)\n",
    "plt.savefig('s_jsd_1.eps',format='eps',dpi=1000)\n",
    "plt.show()"
   ]
  },
  {
   "cell_type": "code",
   "execution_count": null,
   "metadata": {},
   "outputs": [],
   "source": [
    "colors_jsd_j = ['purple','green','green','purple','r','r','r','r','purple','green','green','purple','r','r','r','r']"
   ]
  },
  {
   "cell_type": "code",
   "execution_count": null,
   "metadata": {},
   "outputs": [],
   "source": [
    "#fig, j_jsd_g1_plot = plt.subplots()\n",
    "j_jsd_g1_plot = j_jsd_g1.plot.scatter(x='max',y='match',s=100,c=colors_jsd_j,title='Multiplayer JSD Values Game 1')\n",
    "plt.xticks(np.arange(0, 0.5, step=0.1))\n",
    "plt.yticks(np.arange(0, 0.5, step=0.1))\n",
    "line1 = mlines.Line2D([0, 0.4],[0, 0.4], color='red')\n",
    "#line2 = mlines.Line2D([0,0.8],[0.2148,0.2148])\n",
    "#line2 = mlines.Line2D([0, 0.4],[0.2148, 0.2148], color='red')\n",
    "\n",
    "line2 = mlines.Line2D([0.2148, 0.2148],[-0.03, 0.5], color='red')\n",
    "line3 = mlines.Line2D([-0.03,0.8],[0.2148,0.2148])\n",
    "\n",
    "#transform = ax.transAxes\n",
    "#line2 doesn't show up; all below it?\n",
    "#line.set_transform(transform)\n",
    "j_jsd_g1_plot.add_line(line1)\n",
    "#j_jsd_g1_plot.add_line(line2)\n",
    "#j_jsd_g1_plot.add_line(line3)\n",
    "\n",
    "#plt.legend(handles=patches)\n",
    "plt.savefig('j_jsd_1.eps',format='eps',dpi=1000)\n",
    "plt.show()"
   ]
  },
  {
   "cell_type": "code",
   "execution_count": null,
   "metadata": {},
   "outputs": [],
   "source": [
    "#fig, j_jsd_g1_plot = plt.subplots()\n",
    "j_jsd_g2_plot = j_jsd_g2.plot.scatter(x='max',y='match',s=100,c=colors_jsd_j,title='Multiplayer JSD Values Game 2')\n",
    "plt.xticks(np.arange(0, 0.5, step=0.1))\n",
    "plt.yticks(np.arange(0, 0.5, step=0.1))\n",
    "line1 = mlines.Line2D([0, 0.4],[0, 0.4], color='red')\n",
    "\n",
    "\n",
    "line2 = mlines.Line2D([0.2148, 0.2148],[-0.03, 0.5], color='red')\n",
    "line3 = mlines.Line2D([-0.03,0.8],[0.2148,0.2148])\n",
    "\n",
    "\n",
    "j_jsd_g2_plot.add_line(line1)\n",
    "\n",
    "\n",
    "#plt.legend(handles=patches)\n",
    "plt.savefig('j_jsd_2.eps',format='eps',dpi=1000)\n",
    "plt.show()"
   ]
  },
  {
   "cell_type": "code",
   "execution_count": null,
   "metadata": {},
   "outputs": [],
   "source": []
  }
 ],
 "metadata": {
  "kernelspec": {
   "display_name": "Python 3",
   "language": "python",
   "name": "python3"
  },
  "language_info": {
   "codemirror_mode": {
    "name": "ipython",
    "version": 3
   },
   "file_extension": ".py",
   "mimetype": "text/x-python",
   "name": "python",
   "nbconvert_exporter": "python",
   "pygments_lexer": "ipython3",
   "version": "3.7.4"
  }
 },
 "nbformat": 4,
 "nbformat_minor": 2
}
