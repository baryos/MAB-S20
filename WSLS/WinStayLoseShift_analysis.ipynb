{
 "cells": [
  {
   "cell_type": "markdown",
   "metadata": {},
   "source": [
    "# Kexin's analysis on WSLS"
   ]
  },
  {
   "cell_type": "code",
   "execution_count": 1,
   "metadata": {},
   "outputs": [],
   "source": [
    "import pandas as pd\n",
    "import numpy as np\n",
    "import matplotlib \n",
    "from matplotlib import pyplot as plt\n",
    "\n",
    "from scipy import stats\n",
    "from datetime import datetime\n",
    "\n",
    "import seaborn as sns\n",
    "import warnings\n",
    "warnings.filterwarnings('ignore')"
   ]
  },
  {
   "cell_type": "markdown",
   "metadata": {},
   "source": [
    "## Briefly Preprocessing"
   ]
  },
  {
   "cell_type": "code",
   "execution_count": 104,
   "metadata": {
    "scrolled": true
   },
   "outputs": [],
   "source": [
    "df=pd.read_csv('../data/m03_gamedata_handcode.csv',index_col=1)\n",
    "df.columns = df.iloc[7]\n",
    "df=df[[\"Game Number\",\"Player\",'Arm','Outcome','Time']].iloc[8:,:]\n",
    "# df"
   ]
  },
  {
   "cell_type": "markdown",
   "metadata": {},
   "source": [
    "## Separate out each dataframes(diff player & diff game)"
   ]
  },
  {
   "cell_type": "code",
   "execution_count": 9,
   "metadata": {},
   "outputs": [
    {
     "data": {
      "text/html": [
       "<div>\n",
       "<style scoped>\n",
       "    .dataframe tbody tr th:only-of-type {\n",
       "        vertical-align: middle;\n",
       "    }\n",
       "\n",
       "    .dataframe tbody tr th {\n",
       "        vertical-align: top;\n",
       "    }\n",
       "\n",
       "    .dataframe thead th {\n",
       "        text-align: right;\n",
       "    }\n",
       "</style>\n",
       "<table border=\"1\" class=\"dataframe\">\n",
       "  <thead>\n",
       "    <tr style=\"text-align: right;\">\n",
       "      <th>Trial Number</th>\n",
       "      <th>Game Number</th>\n",
       "      <th>Player</th>\n",
       "      <th>Arm</th>\n",
       "      <th>Outcome</th>\n",
       "      <th>Time</th>\n",
       "    </tr>\n",
       "    <tr>\n",
       "      <th>m03</th>\n",
       "      <th></th>\n",
       "      <th></th>\n",
       "      <th></th>\n",
       "      <th></th>\n",
       "      <th></th>\n",
       "    </tr>\n",
       "  </thead>\n",
       "  <tbody>\n",
       "    <tr>\n",
       "      <th>1</th>\n",
       "      <td>1</td>\n",
       "      <td>1</td>\n",
       "      <td>1</td>\n",
       "      <td>1</td>\n",
       "      <td>02:00.906</td>\n",
       "    </tr>\n",
       "    <tr>\n",
       "      <th>3</th>\n",
       "      <td>1</td>\n",
       "      <td>1</td>\n",
       "      <td>3</td>\n",
       "      <td>0</td>\n",
       "      <td>02:07.641</td>\n",
       "    </tr>\n",
       "    <tr>\n",
       "      <th>5</th>\n",
       "      <td>1</td>\n",
       "      <td>1</td>\n",
       "      <td>2</td>\n",
       "      <td>1</td>\n",
       "      <td>02:13.639</td>\n",
       "    </tr>\n",
       "    <tr>\n",
       "      <th>7</th>\n",
       "      <td>1</td>\n",
       "      <td>1</td>\n",
       "      <td>3</td>\n",
       "      <td>0</td>\n",
       "      <td>02:19.068</td>\n",
       "    </tr>\n",
       "    <tr>\n",
       "      <th>9</th>\n",
       "      <td>1</td>\n",
       "      <td>1</td>\n",
       "      <td>3</td>\n",
       "      <td>1</td>\n",
       "      <td>02:24.805</td>\n",
       "    </tr>\n",
       "    <tr>\n",
       "      <th>...</th>\n",
       "      <td>...</td>\n",
       "      <td>...</td>\n",
       "      <td>...</td>\n",
       "      <td>...</td>\n",
       "      <td>...</td>\n",
       "    </tr>\n",
       "    <tr>\n",
       "      <th>191</th>\n",
       "      <td>1</td>\n",
       "      <td>1</td>\n",
       "      <td>3</td>\n",
       "      <td>1</td>\n",
       "      <td>11:14.229</td>\n",
       "    </tr>\n",
       "    <tr>\n",
       "      <th>193</th>\n",
       "      <td>1</td>\n",
       "      <td>1</td>\n",
       "      <td>2</td>\n",
       "      <td>1</td>\n",
       "      <td>11:19.859</td>\n",
       "    </tr>\n",
       "    <tr>\n",
       "      <th>195</th>\n",
       "      <td>1</td>\n",
       "      <td>1</td>\n",
       "      <td>2</td>\n",
       "      <td>1</td>\n",
       "      <td>11:25.455</td>\n",
       "    </tr>\n",
       "    <tr>\n",
       "      <th>197</th>\n",
       "      <td>1</td>\n",
       "      <td>1</td>\n",
       "      <td>1</td>\n",
       "      <td>0</td>\n",
       "      <td>11:31.320</td>\n",
       "    </tr>\n",
       "    <tr>\n",
       "      <th>199</th>\n",
       "      <td>1</td>\n",
       "      <td>1</td>\n",
       "      <td>3</td>\n",
       "      <td>0</td>\n",
       "      <td>11:36.849</td>\n",
       "    </tr>\n",
       "  </tbody>\n",
       "</table>\n",
       "<p>100 rows × 5 columns</p>\n",
       "</div>"
      ],
      "text/plain": [
       "Trial Number Game Number Player Arm Outcome       Time\n",
       "m03                                                   \n",
       "1                      1      1   1       1  02:00.906\n",
       "3                      1      1   3       0  02:07.641\n",
       "5                      1      1   2       1  02:13.639\n",
       "7                      1      1   3       0  02:19.068\n",
       "9                      1      1   3       1  02:24.805\n",
       "..                   ...    ...  ..     ...        ...\n",
       "191                    1      1   3       1  11:14.229\n",
       "193                    1      1   2       1  11:19.859\n",
       "195                    1      1   2       1  11:25.455\n",
       "197                    1      1   1       0  11:31.320\n",
       "199                    1      1   3       0  11:36.849\n",
       "\n",
       "[100 rows x 5 columns]"
      ]
     },
     "execution_count": 9,
     "metadata": {},
     "output_type": "execute_result"
    }
   ],
   "source": [
    "df_player1_1=df[(df['Game Number']=='1') & (df['Player']=='1')]\n",
    "df_player1_2=df[(df['Game Number']=='2') & (df['Player']=='1')]\n",
    "df_player2_1=df[(df['Game Number']=='1') & (df['Player']=='2')]\n",
    "df_player2_2=df[(df['Game Number']=='2') & (df['Player']=='2')]\n",
    "# df_player1_1"
   ]
  },
  {
   "cell_type": "markdown",
   "metadata": {},
   "source": [
    "## Functions for process and analysis"
   ]
  },
  {
   "cell_type": "code",
   "execution_count": 100,
   "metadata": {},
   "outputs": [],
   "source": [
    "# calc difference of outcome between trials\n",
    "def win_lose_outcome(cur_df,col_name):\n",
    "    cur_df=cur_df.iloc[::-1]\n",
    "    change_ls=[0]\n",
    "    ls=cur_df[col_name].tolist()\n",
    "    ls=[int(i) for i in ls]\n",
    "    change_ls=np.concatenate((np.diff(ls),change_ls))\n",
    "    new_col_name=col_name+'Diff'\n",
    "    cur_df[new_col_name]=change_ls\n",
    "    cur_df=cur_df.iloc[::-1]\n",
    "    return cur_df\n",
    "\n",
    "# label the status for each type\n",
    "def labeling(outcome_num,num,type_):\n",
    "    label=''\n",
    "    num=str(num)\n",
    "    outcome_num=str(outcome_num)\n",
    "    if type_=='Outcome':\n",
    "        if outcome_num=='0':\n",
    "            label='Loss'\n",
    "        elif outcome_num=='1':\n",
    "            label='Win'\n",
    "    else:\n",
    "        if num=='0':\n",
    "            label='Unswitched Arms'\n",
    "        else:\n",
    "            label='Switched Arms'\n",
    "    return label\n",
    "\n",
    "#similar process of calc differences of arms\n",
    "def switch_arms(cur_df):\n",
    "    cur_df=win_lose_outcome(cur_df,'Arm')\n",
    "    return cur_df['ArmDiff']\n",
    "\n",
    "def find_df_perCond(cur_df,outStatus,armStatus):\n",
    "    df_new=cur_df[(cur_df['Outcome_labels']==outStatus)&(cur_df['New_Arms_labels']==armStatus)]\n",
    "    p=df_new.shape[0]/cur_df.shape[0]*100\n",
    "    return p\n",
    "# find prob of each condition (W-Stay, W-Change, L-Stay, L-Change)\n",
    "def find_prob(cur_df):\n",
    "    val1=find_df_perCond(cur_df,'Win','Unswitched Arms')\n",
    "    val2=find_df_perCond(cur_df,'Win','Switched Arms')\n",
    "    val3=find_df_perCond(cur_df,'Loss','Unswitched Arms')\n",
    "    val4=find_df_perCond(cur_df,'Loss','Switched Arms')\n",
    "    return [{\"W-S\":val1},{\"W-C\":val2},{\"L-S\":val3},{\"L-C\":val4}]\n",
    "\n",
    "\n",
    "# put the operations into one simple function\n",
    "def full_operations(cur_df):\n",
    "    new_df=win_lose_outcome(cur_df,'Outcome')\n",
    "    new_df['Outcome_labels']=new_df.apply(lambda row: labeling(row['Outcome'],row['OutcomeDiff'], 'Outcome'), axis=1)\n",
    "    new_df['ArmDiff']=switch_arms(cur_df)\n",
    "    new_df['Arms_labels']=new_df.apply(lambda row: labeling(row['Outcome'],row['ArmDiff'],'Arm'), axis=1)\n",
    "    new_arm=new_df['Arms_labels'].tolist()\n",
    "    new_arm=new_arm[1:]+[\"End\"]\n",
    "    new_df['New_Arms_labels']=new_arm\n",
    "    prob_val=find_prob(new_df)\n",
    "    return prob_val \n",
    "#     return new_df # or you can return prob_val for analysing probability\n",
    "\n",
    "# full_operations(df_player1_1)"
   ]
  },
  {
   "cell_type": "markdown",
   "metadata": {},
   "source": [
    "## Return probabilities in each case & Plot Bar plot"
   ]
  },
  {
   "cell_type": "code",
   "execution_count": 101,
   "metadata": {},
   "outputs": [
    {
     "name": "stdout",
     "output_type": "stream",
     "text": [
      "data passed into plot: [[17.0, 44.0, 9.0, 28.999999999999996], [14.000000000000002, 42.0, 4.0, 39.0], [16.0, 49.0, 7.000000000000001, 27.0], [7.000000000000001, 47.0, 12.0, 33.0]]\n"
     ]
    },
    {
     "data": {
      "text/plain": [
       "<matplotlib.legend.Legend at 0x1a19deb810>"
      ]
     },
     "execution_count": 101,
     "metadata": {},
     "output_type": "execute_result"
    },
    {
     "data": {
      "image/png": "[encoded data removed]",
      "text/plain": [
       "<Figure size 432x288 with 1 Axes>"
      ]
     },
     "metadata": {
      "needs_background": "light"
     },
     "output_type": "display_data"
    }
   ],
   "source": [
    "df_lst=[df_player1_1,df_player1_2,df_player2_1,df_player2_2]\n",
    "prob_lst=[]\n",
    "for i in df_lst:\n",
    "    prob_val=full_operations(i)\n",
    "    prob_lst.append(prob_val)\n",
    "prob=[e for a in prob_lst for e in a]\n",
    "\n",
    "numbers=[]\n",
    "for lst in prob_lst:\n",
    "    for e in lst:\n",
    "        val=list(e.values())\n",
    "        numbers.append(val)\n",
    "        \n",
    "flatten = [item for sublist in numbers for item in sublist]#flatten out the list\n",
    "# from flatten list, create small lists for different player and game\n",
    "l1=flatten[:4]\n",
    "l2=flatten[4:8]\n",
    "l3=flatten[8:12]\n",
    "l4=flatten[12:]\n",
    "\n",
    "# pass into plot\n",
    "data=[l1,l2,l3,l4]\n",
    "print(\"data passed into plot:\", data)\n",
    "labels=[\"W-Stay\",\"W-Change\",\"L-Stay\",\"L-Change\"]\n",
    "\n",
    "X = np.arange(len(labels))  # the label locations\n",
    "width = 0.3  # the width of the bars\n",
    "\n",
    "\n",
    "fig = plt.figure()\n",
    "ax = fig.add_axes([0,0,1,1])\n",
    "ax.bar(X + 0.00, data[0], width = 0.2,label='Player1_game1')\n",
    "ax.bar(X + 0.2, data[1], width = 0.2,label='Player1_game2')\n",
    "ax.bar(X + 0.40, data[2], width = 0.2,label='Player2_game1')\n",
    "ax.bar(X + 0.6, data[3], width = 0.2,label='Player2_game2')\n",
    "fig.tight_layout()\n",
    "ax.set_ylabel('Probability in %')\n",
    "ax.set_title('Game Rounds by Different Players')\n",
    "ax.set_xticks(x)\n",
    "ax.set_xticklabels(labels)\n",
    "ax.legend()"
   ]
  },
  {
   "cell_type": "code",
   "execution_count": 102,
   "metadata": {},
   "outputs": [
    {
     "data": {
      "text/html": [
       "<div>\n",
       "<style scoped>\n",
       "    .dataframe tbody tr th:only-of-type {\n",
       "        vertical-align: middle;\n",
       "    }\n",
       "\n",
       "    .dataframe tbody tr th {\n",
       "        vertical-align: top;\n",
       "    }\n",
       "\n",
       "    .dataframe thead th {\n",
       "        text-align: right;\n",
       "    }\n",
       "</style>\n",
       "<table border=\"1\" class=\"dataframe\">\n",
       "  <thead>\n",
       "    <tr style=\"text-align: right;\">\n",
       "      <th></th>\n",
       "      <th>Win-Stay</th>\n",
       "      <th>Win-Change</th>\n",
       "      <th>Loss-Stay</th>\n",
       "      <th>Loss-Change</th>\n",
       "    </tr>\n",
       "  </thead>\n",
       "  <tbody>\n",
       "    <tr>\n",
       "      <th>player1_g1</th>\n",
       "      <td>17.0</td>\n",
       "      <td>44.0</td>\n",
       "      <td>9.0</td>\n",
       "      <td>29.0</td>\n",
       "    </tr>\n",
       "    <tr>\n",
       "      <th>player1_g2</th>\n",
       "      <td>14.0</td>\n",
       "      <td>42.0</td>\n",
       "      <td>4.0</td>\n",
       "      <td>39.0</td>\n",
       "    </tr>\n",
       "    <tr>\n",
       "      <th>player2_g1</th>\n",
       "      <td>16.0</td>\n",
       "      <td>49.0</td>\n",
       "      <td>7.0</td>\n",
       "      <td>27.0</td>\n",
       "    </tr>\n",
       "    <tr>\n",
       "      <th>player4_g2</th>\n",
       "      <td>7.0</td>\n",
       "      <td>47.0</td>\n",
       "      <td>12.0</td>\n",
       "      <td>33.0</td>\n",
       "    </tr>\n",
       "  </tbody>\n",
       "</table>\n",
       "</div>"
      ],
      "text/plain": [
       "            Win-Stay  Win-Change  Loss-Stay  Loss-Change\n",
       "player1_g1      17.0        44.0        9.0         29.0\n",
       "player1_g2      14.0        42.0        4.0         39.0\n",
       "player2_g1      16.0        49.0        7.0         27.0\n",
       "player4_g2       7.0        47.0       12.0         33.0"
      ]
     },
     "execution_count": 102,
     "metadata": {},
     "output_type": "execute_result"
    }
   ],
   "source": [
    "df=pd.DataFrame(data)\n",
    "df.columns=['Win-Stay','Win-Change','Loss-Stay','Loss-Change']\n",
    "df.index=['player1_g1','player1_g2','player2_g1','player4_g2']\n",
    "df"
   ]
  },
  {
   "cell_type": "code",
   "execution_count": 103,
   "metadata": {},
   "outputs": [
    {
     "data": {
      "text/plain": [
       "Win-Stay       13.5\n",
       "Win-Change     45.5\n",
       "Loss-Stay       8.0\n",
       "Loss-Change    32.0\n",
       "dtype: float64"
      ]
     },
     "execution_count": 103,
     "metadata": {},
     "output_type": "execute_result"
    }
   ],
   "source": [
    "df.mean(axis=0)"
   ]
  },
  {
   "cell_type": "markdown",
   "metadata": {},
   "source": [
    "## Current insights"
   ]
  },
  {
   "cell_type": "markdown",
   "metadata": {},
   "source": [
    "WIN-CHANGE has the highest average are most likely due to the uneven portion between win and loss. As far as I know, there are usually more than 70% win rate in a single game, so players would often shift to different holes since they feel like most of the holes would yield a good result (i.e. a fish). "
   ]
  },
  {
   "cell_type": "markdown",
   "metadata": {},
   "source": [
    "## Comments for further study"
   ]
  },
  {
   "cell_type": "code",
   "execution_count": null,
   "metadata": {},
   "outputs": [],
   "source": [
    "# you could also try export and further analyse the df's that are returned.\n",
    "# I did not save them to csv's."
   ]
  }
 ],
 "metadata": {
  "kernelspec": {
   "display_name": "Python 3",
   "language": "python",
   "name": "python3"
  },
  "language_info": {
   "codemirror_mode": {
    "name": "ipython",
    "version": 3
   },
   "file_extension": ".py",
   "mimetype": "text/x-python",
   "name": "python",
   "nbconvert_exporter": "python",
   "pygments_lexer": "ipython3",
   "version": "3.7.6"
  }
 },
 "nbformat": 4,
 "nbformat_minor": 4
}
