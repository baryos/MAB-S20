{
 "cells": [
  {
   "cell_type": "code",
   "execution_count": 1,
   "metadata": {},
   "outputs": [],
   "source": [
    "#Jump to: Maximizing/Matching CONTROL\n",
    " #or: Maximizing/Matching SOCIAL  \n",
    "\n",
    "import csv\n",
    "import pandas as pd\n",
    "import numpy as np\n",
    "import glob\n",
    "import matplotlib\n",
    "import scipy as sp\n",
    "from matplotlib import pyplot as plt\n",
    "from itertools import cycle, islice\n",
    "from scipy import stats\n",
    "from datetime import datetime\n",
    "\n",
    "import seaborn as sns"
   ]
  },
  {
   "cell_type": "markdown",
   "metadata": {},
   "source": [
    "-plot score for 50 and 20 intervals \n",
    "\n",
    "\n",
    "-removing 1st trials?\n",
    "-RT\n",
    "-questionnaire\n",
    "-JSD for max/match\n",
    "-win-stay, lose-switch"
   ]
  },
  {
   "cell_type": "markdown",
   "metadata": {},
   "source": [
    "9/25\n",
    "need to:\n",
    "\n",
    "1. look into c07 (key error 399): need to code first 3 trials\n",
    "2. compare 100, 200, 300 timestamps\n",
    "4. write script to add probabilities to hand coded df \n",
    "5. work on reaction time analyses\n",
    "    import timestamps from hand coded files \n",
    "7. hand code first 3 trials of c07 and add to analyses "
   ]
  },
  {
   "cell_type": "markdown",
   "metadata": {},
   "source": [
    "This notebook is for analyzing behavior data in the social multi-armed bandit (SMAB) paradigm.\n",
    "It uses Pandas dataframes (https://pandas.pydata.org/docs/getting_started/index.html#getting-started).\n",
    "The 's' datasets are single-player sessions from SMAB3 and the 'j' datasets are multi-player sessions from SMAB3.\n",
    "The 'c' datasets are single-player sessions from SMAB4 and the 'm' datasets are multi-player sessions from SMAB4.\n",
    "\n",
    "Updated by Bar Y. 8/4/20"
   ]
  },
  {
   "cell_type": "code",
   "execution_count": 2,
   "metadata": {},
   "outputs": [],
   "source": [
    "'''\n",
    "These functions import csv files into pandas dataframes and rename the columns.\n",
    "input: filename of the csv file to import; the path needs to be included, as well\n",
    "output: pandas dataframe\n",
    "\n",
    "There are multiple iterations of this function because the data is in slightly different formats. \n",
    "'''\n",
    "\n",
    "\n",
    "def organize_trial_by_trial(txt_filename):\n",
    "    reader = csv.reader( open(txt_filename))\n",
    "    game_data = [row for row in reader]\n",
    "    df = pd.DataFrame(np.array(game_data))\n",
    "    df = df.T\n",
    "    df = df.rename(columns = {0:\"game number\", 1:\"trial\", 2:\"player\", 3:\"arm\", 4:\"probability\", 5:\"reward\", 6:\"time\", 7:\"P1 score\", 8:\"P2 score\"})\n",
    "    #drops first 10 trials of game 1\n",
    "    #remove if you want to analyze the whole session\n",
    "    #df = df[20:]\n",
    "    #df = df.drop(columns = 'time') #can comment this out if want to look at time\n",
    "    #df = df.drop(['reward'], axis=1)\n",
    "    df = df.apply(pd.to_numeric)\n",
    "    df.head()\n",
    "    \n",
    "    return df\n",
    "\n",
    "\n",
    "\n",
    "#0 means \"next\" button\n",
    "#need to exclude zero?\n",
    "\n",
    "def organize_trial_by_trial_floatclick(txt_filename):\n",
    "    reader = csv.reader( open(txt_filename))\n",
    "    game_data = [row for row in reader]\n",
    "    df = pd.DataFrame(np.array(game_data))\n",
    "    df = df.T\n",
    "    df = df.rename(columns = {0:\"type\", 1:\"game number\", 2:\"trial\", 3:\"player\", 4:\"arm\", 5:\"probability\", 6:\"P1 score\", 7:\"P2 score\", 8:\"\"})\n",
    "    #have 402 so need to restrict\n",
    "    #df = df[20:]\n",
    "    #df = df.drop(columns = 'time') #can comment this out if want to look at time\n",
    "    df = df.drop(['type'], axis=1)\n",
    "    df = df.apply(pd.to_numeric)\n",
    "    df.head()\n",
    "    \n",
    "    return df\n",
    "\n",
    "\n",
    "\n",
    "def organize_trial_by_trial_300(txt_filename):\n",
    "    reader = csv.reader( open(txt_filename))\n",
    "    game_data = [row for row in reader]\n",
    "    df = pd.DataFrame(np.array(game_data))\n",
    "    df = df.T\n",
    "    df = df.rename(columns = {0:\"type\", 1:\"game number\", 2:\"trial\", 3:\"player\", 4:\"arm\", 5:\"probability\", 6:\"reward\", 7:\"time\", 8:\"P1 score\", 9:\"P2 score\"})\n",
    "    #df = df[20:]\n",
    "    #df = df.drop(columns = 'time') #can comment this out if want to look at time\n",
    "    #df = df.drop(['type', 'reward'], axis=1)\n",
    "    df = df.drop(['type'], axis=1)\n",
    "    df = df.apply(pd.to_numeric)\n",
    "    df.head()\n",
    "    \n",
    "    return df\n",
    "\n",
    "'''#used before changes were made to template\n",
    "def organize_trial_by_trial_hand_code(txt_filename):\n",
    "    reader = csv.reader( open(txt_filename))\n",
    "    game_data = [row for row in reader]\n",
    "    df = pd.DataFrame(np.array(game_data))\n",
    "    #remove first row with column headings\n",
    "    df = df.drop(df.index[0])\n",
    "    #convert values to numbers (NEED TO FIX)\n",
    "    df.reset_index(drop=True,inplace=True)\n",
    "    df = df.drop(range(0, 8))\n",
    "    df.reset_index(drop=True,inplace=True)\n",
    "    #df = df.apply(pd.to_numeric)\n",
    "    #add column headings\n",
    "    df = df.rename(columns = {0:\"game number\", 1:\"trial\", 2:\"player\", 3:\"arm\", 4:\"probability\", 5:\"reward\",6:\"time\",7:\"P1 score\", 8:\"P2 score\"})\n",
    "    df.head()\n",
    "    \n",
    "    return df'''\n",
    "\n",
    "#use this function for hand coded game data files \n",
    "def organize_trial_by_trial_hand_code2(txt_filename):\n",
    "    reader = csv.reader( open(txt_filename))\n",
    "    game_data = [row for row in reader]\n",
    "    df = pd.DataFrame(np.array(game_data))\n",
    "    #remove first row with column headings\n",
    "    df = df.drop(df.index[0])\n",
    "    #convert values to numbers (NEED TO FIX)\n",
    "    df.reset_index(drop=True,inplace=True)\n",
    "    df = df.drop(range(0, 8))\n",
    "    df.reset_index(drop=True,inplace=True)\n",
    "    #drop comment columns\n",
    "    #df = df.drop(range(7,9), axis = 1)\n",
    "    #add p1 and p2 score columns\n",
    "    df.insert\n",
    "    #add column headings\n",
    "    df = df.rename(columns = {0:\"game number\", 1:\"trial\", 2:\"player\", 3:\"arm\", 4:\"probability\", 5:\"reward\",6:\"time\",7:\"comment 1\", 8:\"comment 2\", 9:\"P1 score\", 10:\"P2 score\"})\n",
    "    \n",
    "    #remove the time and comment columns (we'll add them back in a moment)\n",
    "    #we are removing them bc we are converting all the values to numbeic and this can't be done to these columns\n",
    "    time = df['time']\n",
    "    df = df.drop('time', axis = 1 )\n",
    "    \n",
    "    comment_1 = df['comment 1']\n",
    "    comment_2 = df['comment 2']\n",
    "    df = df.drop('comment 1', axis = 1 )\n",
    "    df = df.drop('comment 2', axis = 1 )\n",
    "    \n",
    "    df = df.apply(pd.to_numeric)\n",
    "    \n",
    "    #add dropped columns back in\n",
    "    df['time'] = time\n",
    "    df['comment 1'] = comment_1\n",
    "    df['comment 2'] = comment_2\n",
    "    \n",
    "    #convert time and comment 1 to date time objects\n",
    "    df['time']= pd.to_datetime(df['time'], errors = 'coerce', format = '%M:%S.%f')\n",
    "    df['comment 1']= pd.to_datetime(df['comment 1'], errors = 'coerce', format = '%M:%S.%f')\n",
    "\n",
    "    df.head()\n",
    "    \n",
    "    return df"
   ]
  },
  {
   "cell_type": "code",
   "execution_count": 3,
   "metadata": {},
   "outputs": [],
   "source": [
    "'''\n",
    "This function returns the score for game 1 and game 2. call_get_score can be used to call this function.\n",
    "To section trials into groups of 50 or 20, change row #.\n",
    "'''\n",
    "def get_score(df, player_number, game_number):\n",
    "    if game_number == 1:\n",
    "        row = 199\n",
    "    elif game_number == 2:\n",
    "        row = 399\n",
    "    if player_number == 1:\n",
    "        column = 'P1 score'\n",
    "    elif player_number == 2:\n",
    "        column = 'P2 score'\n",
    "    score = df.loc[row, column]\n",
    "    return score\n",
    "\n",
    "'''Here we get the score at trial 50 of both games'''\n",
    "def get_score_at_50(df, player_number, game_number):\n",
    "    if game_number == 1:\n",
    "        row = 99\n",
    "    elif game_number == 2:\n",
    "        row = 299\n",
    "    if player_number == 1:\n",
    "        column = 'P1 score'\n",
    "    elif player_number == 2:\n",
    "        column = 'P2 score'\n",
    "    score = df.loc[row, column]\n",
    "    return score"
   ]
  },
  {
   "cell_type": "code",
   "execution_count": 4,
   "metadata": {},
   "outputs": [],
   "source": [
    "#create a dataframes for scores\n",
    "scores = pd.DataFrame(columns=['s_g1','s_g2','c_g1','c_g2', 'j_g1', 'j_g2', 'm_g1', 'm_g2'])\n",
    "\n",
    "'''This function calls get_score.\n",
    "input: dataframe with game data and version*\n",
    "output: scores for each player and each game**\n",
    "*version is 's' for single player SMAB3, 'c' for single player SMAB4, 'j' for multiplayer SMAB3, \n",
    "'m' for multiplayer SMAB4\n",
    "**only 1 player score is outputted for each game in the single player sessions, while scores for both players are \n",
    "outputted for multiplayer sessions'''\n",
    "def call_get_score(df, version):\n",
    "    p1_g1 = get_score(df, 1, 1)\n",
    "    p1_g2 = get_score(df, 1, 2)\n",
    "    p1_score_diff = p1_g2 - p1_g1\n",
    "    \n",
    "    p1_g1_50 = get_score_at_50(df, 1, 1)\n",
    "    p1_g2_50 = get_score_at_50(df, 1, 2)\n",
    "    \n",
    "    if version == 'j' or version == 'm':\n",
    "        p1_g1 = get_score(df, 1, 1)\n",
    "        p1_g2 = get_score(df, 1, 2)\n",
    "        p1_score_diff = p1_g2 - p1_g1\n",
    "        \n",
    "        p1_g1_50 = get_score_at_50(df, 1, 1)\n",
    "        p1_g2_50 = get_score_at_50(df, 1, 2)\n",
    "        \n",
    "        p2_g1 = get_score(df, 2, 1)\n",
    "        p2_g2 = get_score(df, 2, 2)\n",
    "        p2_score_diff = p2_g2 - p2_g1\n",
    "        \n",
    "        p2_g1_50 = get_score_at_50(df, 2, 1)\n",
    "        p2_g2_50 = get_score_at_50(df, 2, 2)\n",
    "        return p1_g1, p1_g2, p2_g1, p2_g2, p1_score_diff, p2_score_diff, p1_g1_50,p1_g2_50, p2_g1_50, p2_g2_50\n",
    "\n",
    "    return p1_g1, p1_g2, p1_score_diff, p1_g1_50, p1_g2_50"
   ]
  },
  {
   "cell_type": "code",
   "execution_count": 5,
   "metadata": {},
   "outputs": [],
   "source": [
    "'''This functions separates the dataframes by player and game.\n",
    "input: dataframe with gamedata and version*\n",
    "output: four dataframes separated by player and game\n",
    "*same as call_get_score above'''\n",
    "\n",
    "\n",
    "\n",
    "#separate data frames for p1 and p2 \n",
    "def separate_df(df, version):\n",
    "    #df.set_index(df['trial'])\n",
    "    df_p1 = df[df['player'] == 1]\n",
    "    df_p1_g1 = df_p1[df['game number'] == 1]\n",
    "    df_p1_g2 = df_p1[df['game number'] == 2]\n",
    "    \n",
    "    #remove trials for g1\n",
    "    df_p1_g1 = df_p1_g1[10:40]\n",
    "    #remove trials for g2\n",
    "    df_p1_g2 = df_p1_g2[10:40]\n",
    "    \n",
    "    if version == 's':\n",
    "        return df_p1_g1, df_p1_g2\n",
    "    if version == 'c':\n",
    "        return df_p1_g1, df_p1_g2\n",
    "    df_p2 = df[df['player'] ==2 ]\n",
    "    df_p2_g1 = df_p2[df['game number'] == 1]\n",
    "    df_p2_g2 = df_p2[df['game number'] == 2]\n",
    "    \n",
    "    #remove trials for g1\n",
    "    df_p2_g1 = df_p2_g1[10:40]\n",
    "    #remove trials for g2\n",
    "    df_p2_g2= df_p2_g2[10:40]\n",
    "    \n",
    "    return df_p1_g1, df_p1_g2, df_p2_g1, df_p2_g2"
   ]
  },
  {
   "cell_type": "code",
   "execution_count": 6,
   "metadata": {},
   "outputs": [],
   "source": [
    "#ignore for now\n",
    "def get_df_name(df):\n",
    "    name =[x for x in globals() if globals()[x] is df][0]\n",
    "    return name"
   ]
  },
  {
   "cell_type": "code",
   "execution_count": 7,
   "metadata": {},
   "outputs": [],
   "source": [
    "'''This function separates reaction times into post-win and post-loss arrays.\n",
    "NOTE that it is intended to be called with dataframes separated by separate_df (ex. s01_p1_g1)'''\n",
    "def reaction_time(df, time):\n",
    "    df.reset_index(drop=True, inplace=True)\n",
    "    post_win_time = []\n",
    "    post_loss_time = []\n",
    "    for index, row in df.iterrows():\n",
    "        if index > 0 and index < 101:\n",
    "            prev_rew = df.loc[index - 1, 'reward']\n",
    "            if prev_rew == 1:\n",
    "                post_win_time.append(df.loc[index, 'time'])\n",
    "            elif prev_rew == 0:\n",
    "                post_loss_time.append(df.loc[index, 'time'])\n",
    "    post_win_mean = np.mean(post_win_time)\n",
    "    post_loss_mean = np.mean(post_loss_time)\n",
    "    name = str(get_df_name(df))\n",
    "    time = time.append({'session' : name , 'post win' : post_win_mean, 'post loss': post_loss_mean} , ignore_index=True)\n",
    "    return(time)"
   ]
  },
  {
   "cell_type": "code",
   "execution_count": 8,
   "metadata": {},
   "outputs": [],
   "source": [
    "'''This functionfixes the reward column in the files imported using the '300' function. \n",
    "This function works for dataframes that have already been split up by game and player by separate_df (ex. c12_p1_g1)\n",
    "NOTE that this function had to be written for a subset of the data that had a bug that caused the reward column to be\n",
    "0 for all trials.'''\n",
    "def fix_reward(df):\n",
    "    df.reset_index(drop=True, inplace=True)\n",
    "    for index, row in df.iterrows():\n",
    "        if df.loc[index, 'player'] == 1:\n",
    "                score_column = 'P1 score'\n",
    "        elif df.loc[index, 'player'] == 2:\n",
    "                score_column = 'P2 score'\n",
    "        if index == 0:\n",
    "            if df.loc[index, score_column] == 1:\n",
    "                df.loc[index, 'reward'] = 1\n",
    "            #not necessary here because the values are all 0\n",
    "            else:\n",
    "                df.loc[index, 'reward'] = 0\n",
    "        elif index > 0:\n",
    "            prev_score = df.loc[index - 1, score_column]\n",
    "            curr_score = df.loc[index, score_column]\n",
    "            score_diff = curr_score - prev_score\n",
    "            df.loc[index, 'reward'] = score_diff\n",
    "    return(df)"
   ]
  },
  {
   "cell_type": "code",
   "execution_count": 9,
   "metadata": {},
   "outputs": [],
   "source": [
    "'''This function outputs the hole-probability mappings in each game. \n",
    "input: df of session data\n",
    "output: df with the hole-probability mappings\n",
    "g = game\n",
    "p = player\n",
    "h = hole\n",
    "r = reward (1 means yes and 0 means no)\n",
    "'''\n",
    "\n",
    "def hole_prob_map(df):\n",
    "    h1_prob = df.loc[df['arm'] == 1, 'probability'].iloc[0]\n",
    "    h2_prob = df.loc[df['arm'] == 2, 'probability'].iloc[0]\n",
    "    h3_prob = df.loc[df['arm'] == 3, 'probability'].iloc[0]\n",
    "    h_probs = pd.DataFrame({'h1_prob': [h1_prob], 'h2_prob': [h2_prob], 'h3_prob': [h3_prob]})\n",
    "    \n",
    "    return h_probs\n"
   ]
  },
  {
   "cell_type": "code",
   "execution_count": 10,
   "metadata": {},
   "outputs": [],
   "source": [
    "'''Here we compare the choice distributions to idealized models of two decision-making strategies: \n",
    "matching and maximizing. Matching would be choosing each each hole proportionally to its reward rate, \n",
    "and maximizing would be always choosing the high reward hole.'''\n",
    "\n",
    "#JSD: Jensen Shannon Divergence. Measures the similarity between two probability distributions. Taken from \n",
    "#https://urldefense.com/v3/__https://gist.github.com/zhiyzuo/f80e2b1cfb493a5711330d271a228a3d__;!!Mih3wA!SwZbl3yG75UWaB_c9Pq_T5wxVHgFZMbUZ5HHf5pZDf119g1JHaZr-dX94Xg7JRI$ . *Note: probability distributions need to be\n",
    "#normalized.'''\n",
    "#parameters: p and q are the two probability distributions to be compared.\n",
    "\n",
    "def jsd(p, q, base=np.e):\n",
    "    \n",
    "    \n",
    "    #Implementation of pairwise `jsd` based on https://urldefense.com/v3/__https://en.wikipedia.org/wiki/Jensen**BShannon_divergence__;4oCT!!Mih3wA!SwZbl3yG75UWaB_c9Pq_T5wxVHgFZMbUZ5HHf5pZDf119g1JHaZr-dX9SSBIvMc$ \n",
    "    # convert to np.array\n",
    "    p, q = np.asarray(p), np.asarray(q)\n",
    "    # normalize p, q to probabilities\n",
    "    p, q = p/p.sum(), q/q.sum()\n",
    "    m = 1./2*(p + q)\n",
    "    return sp.stats.entropy(p,m, base=base)/2. +  sp.stats.entropy(q, m, base=base)/2.\n",
    "\n",
    "\n",
    "\n",
    "#Idealized probability distributions to use for comparison. You can change these or add more models.\n",
    "\n",
    "maximize = [0,0,100]\n",
    "match = [30/180 * 100,60/180 * 100,90/180 * 100]\n",
    "random = [30/90 * 100,30/90 * 100,30/90 * 100]\n",
    "social = [1/3 * 100,1/3 * 100, 1/3 * 100]\n",
    "\n",
    "\n",
    "#This function calls jsd. \n",
    "#Input: counts- a player's choice distributions in a particular game (ex. s01_p1_g1_counts)\n",
    "#Output: maxi- JSD score for the maximizing strategy\n",
    "        #matchi- JSD score for the matching strategy\n",
    "def call_jsd(counts):\n",
    "    maxi = jsd(counts,maximize) #(p, q)\n",
    "    matchi = jsd(counts,match)\n",
    "    randi = jsd(counts,random)\n",
    "    soci = jsd(counts,social)\n",
    "    return maxi,matchi,randi, soci"
   ]
  },
  {
   "cell_type": "markdown",
   "metadata": {},
   "source": [
    "# Hand Coding Functions\n",
    "These functions can be used for game data files that were created by hand coding."
   ]
  },
  {
   "cell_type": "code",
   "execution_count": 11,
   "metadata": {},
   "outputs": [],
   "source": [
    "#jsd(social,m01_p1_g1_count)"
   ]
  },
  {
   "cell_type": "code",
   "execution_count": 12,
   "metadata": {},
   "outputs": [],
   "source": [
    "'''This function calculates the number of times each hole was chosen and the \n",
    "probability with which each hole rewarded each player in each game.\n",
    "input: hand coded game data file in a df\n",
    "output: df with the number of times each hole was chosen by each player in each game and the percentage of choices that were\n",
    "rewarded\n",
    "g = game\n",
    "p = player\n",
    "h = hole\n",
    "r = reward (1 means yes and 0 means no)'''\n",
    "\n",
    "def handcode_calc_prob(df):\n",
    "    \n",
    "    #NOTE: turn into function with parameters for game and player\n",
    "    #get counts for g1, p1\n",
    "    g1_p1_h1_r1_count,g1_p1_h1_r0_count,g1_p1_h2_r1_count,g1_p1_h2_r0_count,g1_p1_h3_r1_count,g1_p1_h3_r0_count = get_count(df, 1,1)\n",
    "    \n",
    "    g1_p2_h1_r1_count,g1_p2_h1_r0_count,g1_p2_h2_r1_count,g1_p2_h2_r0_count,g1_p2_h3_r1_count,g1_p2_h3_r0_count = get_count(df, 2,1)\n",
    "    \n",
    "    g2_p1_h1_r1_count,g2_p1_h1_r0_count,g2_p1_h2_r1_count,g2_p1_h2_r0_count,g2_p1_h3_r1_count,g2_p1_h3_r0_count = get_count(df, 1,2)\n",
    "    \n",
    "    g2_p2_h1_r1_count,g2_p2_h1_r0_count,g2_p2_h2_r1_count,g2_p2_h2_r0_count,g2_p2_h3_r1_count,g2_p2_h3_r0_count = get_count(df, 2,2)\n",
    "    \n",
    "    #calculate reward rate of each hole in each condition\n",
    "    \n",
    "    g1_p1_h1 = calc_prob(g1_p1_h1_r1_count,g1_p1_h1_r0_count)\n",
    "    g1_p1_h2 = calc_prob(g1_p1_h2_r1_count,g1_p1_h2_r0_count)\n",
    "    g1_p1_h3 = calc_prob(g1_p1_h3_r1_count,g1_p1_h3_r0_count)\n",
    "    \n",
    "    g1_p2_h1 = calc_prob(g1_p2_h1_r1_count,g1_p2_h1_r0_count)\n",
    "    g1_p2_h2 = calc_prob(g1_p2_h2_r1_count,g1_p2_h2_r0_count)\n",
    "    g1_p2_h3 = calc_prob(g1_p2_h3_r1_count,g1_p2_h3_r0_count)\n",
    "    \n",
    "    g2_p1_h1 = calc_prob(g2_p1_h1_r1_count,g2_p1_h1_r0_count)\n",
    "    g2_p1_h2 = calc_prob(g2_p1_h2_r1_count,g2_p1_h2_r0_count)\n",
    "    g2_p1_h3 = calc_prob(g2_p1_h3_r1_count,g2_p1_h3_r0_count)\n",
    "    \n",
    "    g2_p2_h1 = calc_prob(g2_p2_h1_r1_count,g2_p2_h1_r0_count)\n",
    "    g2_p2_h2 = calc_prob(g2_p2_h2_r1_count,g2_p2_h2_r0_count)\n",
    "    g2_p2_h3 = calc_prob(g2_p2_h3_r1_count,g2_p2_h3_r0_count)\n",
    "    \n",
    "    \n",
    "    #NEED to add indices to these\n",
    "    p1_counts_d = {'g1_p1_h1_count': [g1_p1_h1_r1_count, g1_p1_h1_r0_count], 'g1_p1_h2_count': [g1_p1_h2_r1_count, g1_p1_h2_r0_count],\n",
    "        'g1_p1_h3_count': [g1_p1_h3_r1_count, g1_p1_h3_r0_count], 'g2_p1_h1_count': [g2_p1_h1_r1_count, g2_p1_h1_r0_count], \n",
    "         'g2_p1_h2_count': [g2_p1_h2_r1_count, g2_p1_h2_r0_count],\n",
    "        'g2_p1_h3_count': [g2_p1_h3_r1_count, g2_p1_h3_r0_count] }\n",
    "    p1_counts_df = pd.DataFrame(p1_counts_d)\n",
    "    \n",
    "    p2_counts_d = {'g1_p2_h1_count': [g1_p2_h1_r1_count, g1_p2_h1_r0_count], 'g1_p2_h2_count': [g1_p2_h2_r1_count, g1_p2_h2_r0_count],\n",
    "        'g1_p2_h3_count': [g1_p2_h3_r1_count, g1_p2_h3_r0_count], 'g2_p2_h1_count': [g2_p2_h1_r1_count, g2_p2_h1_r0_count], \n",
    "         'g2_p2_h2_count': [g2_p2_h2_r1_count, g2_p2_h2_r0_count],\n",
    "        'g2_p2_h3_count': [g2_p2_h3_r1_count, g2_p2_h3_r0_count] }\n",
    "    p2_counts_df = pd.DataFrame(p2_counts_d)\n",
    "    \n",
    "    p1_counts_df.index = ['rewarded', 'non-rewarded']\n",
    "    p2_counts_df.index = ['rewarded','non-rewarded']\n",
    "    \n",
    "    p1_probs_d = {'p1_h1':[g1_p1_h1, g2_p1_h1], 'p1_h2':[g1_p1_h2, g2_p1_h2], 'p1_h3':[g1_p1_h3, g2_p1_h3]}\n",
    "    p1_probs_df = pd.DataFrame(p1_probs_d)\n",
    "    \n",
    "    p2_probs_d = {'p2_h1':[g1_p2_h1, g2_p2_h1], 'p1_h2':[g1_p2_h2, g2_p2_h2], 'p1_h3':[g1_p2_h3, g2_p2_h3]}\n",
    "    p2_probs_df = pd.DataFrame(p2_probs_d)\n",
    "    \n",
    "    p1_probs_df.index = ['game 1', 'game 2'] \n",
    "    p2_probs_df.index = ['game 1','game 2']\n",
    "    \n",
    "    return p1_counts_df, p2_counts_df, p1_probs_df, p2_probs_df\n"
   ]
  },
  {
   "cell_type": "code",
   "execution_count": 13,
   "metadata": {},
   "outputs": [],
   "source": [
    "'''This function is called in handcode_calc_prob and calculates the number of times each hole was chosen and rewarded/not rewarded\n",
    "input: df, player and game numbers\n",
    "output: counts for each hole and outcome (rewarded/not rewarded)\n",
    "'''\n",
    "def get_count(df,player,game):\n",
    "    h1_r1_count = len(df[(df['game number']==game) & (df['player']==player) & (df['arm']==1) & (df['reward']==1)])\n",
    "    h1_r0_count = len(df[(df['game number']==game) & (df['player']==player) & (df['arm']==1) & (df['reward']==0)])\n",
    "    h2_r1_count = len(df[(df['game number']==game) & (df['player']==player) & (df['arm']==2) & (df['reward']==1)])\n",
    "    h2_r0_count = len(df[(df['game number']==game) & (df['player']==player) & (df['arm']==2) & (df['reward']==0)])\n",
    "    h3_r1_count = len(df[(df['game number']==game) & (df['player']==player) & (df['arm']==3) & (df['reward']==1)])\n",
    "    h3_r0_count = len(df[(df['game number']==game) & (df['player']==player) & (df['arm']==3) & (df['reward']==0)])\n",
    "    return h1_r1_count, h1_r0_count, h2_r1_count, h2_r0_count, h3_r1_count, h2_r0_count"
   ]
  },
  {
   "cell_type": "code",
   "execution_count": 14,
   "metadata": {},
   "outputs": [],
   "source": [
    "'''This function is called in handcode_calc_prob and calculates the reward probability of a hole.\n",
    "input: number of rewarded trials, number of un-rewarded trials\n",
    "output: percentage of rewarded trials for that hole'''\n",
    "def calc_prob(r1,r0):\n",
    "    try:\n",
    "        return (r1/(r1+r0) * 100)\n",
    "    #if the hole was never chosen and the denominator is 0\n",
    "    except ZeroDivisionError:\n",
    "        return 0"
   ]
  },
  {
   "cell_type": "code",
   "execution_count": 15,
   "metadata": {},
   "outputs": [],
   "source": [
    "'''This function fills in the dataframe with the probabilities (30, 60, or 90) to each hole for each player in each\n",
    "game.\n",
    "input: dataframe with gamedata, probabilities for each player/game number/hole*\n",
    "output: dataframe with the probabilities filled in\n",
    "*You must put the inputs in the correct order as defined in the parameters of the function.\n",
    "'''\n",
    "def fill_in_prob(df, p1_g1_h1, p1_g1_h2, p1_g1_h3, p1_g2_h1, p1_g2_h2, p1_g2_h3, p2_g1_h1, p2_g1_h2, p2_g1_h3, \n",
    "                 p2_g2_h1, p2_g2_h2, p2_g2_h3):\n",
    "    for index, row in df.iterrows():\n",
    "        if df.loc[index,'game number'] == 1:\n",
    "            if df.loc[index,'player'] == 1:\n",
    "                if df.loc[index,'arm'] == 1:\n",
    "                    df.loc[index,'probability'] = p1_g1_h1\n",
    "                elif df.loc[index,'arm'] == 2:\n",
    "                    df.loc[index,'probability'] = p1_g1_h2\n",
    "                elif df.loc[index,'arm'] == 3:\n",
    "                    df.loc[index,'probability'] = p1_g1_h3\n",
    "            elif df.loc[index,'player'] == 2:\n",
    "                if df.loc[index,'arm'] == 1:\n",
    "                    df.loc[index,'probability'] = p2_g1_h1\n",
    "                elif df.loc[index,'arm'] == 2:\n",
    "                    df.loc[index,'probability'] = p2_g1_h2\n",
    "                elif df.loc[index,'arm'] == 3:\n",
    "                    df.loc[index,'probability'] = p2_g1_h3\n",
    "        elif df.loc[index,'game number'] == 2:\n",
    "            if df.loc[index,'player'] == 1:\n",
    "                if df.loc[index,'arm'] == 1:\n",
    "                    df.loc[index,'probability'] = p1_g2_h1\n",
    "                elif df.loc[index,'arm'] == 2:\n",
    "                    df.loc[index,'probability'] = p1_g2_h2\n",
    "                elif df.loc[index,'arm'] == 3:\n",
    "                    df.loc[index,'probability'] = p1_g2_h3\n",
    "            elif df.loc[index,'player'] == 2:\n",
    "                if df.loc[index,'arm'] == 1:\n",
    "                    df.loc[index,'probability'] = p2_g2_h1\n",
    "                elif df.loc[index,'arm'] == 2:\n",
    "                    df.loc[index,'probability'] = p2_g2_h2\n",
    "                elif df.loc[index,'arm'] == 3:\n",
    "                    df.loc[index,'probability'] = p2_g2_h3\n",
    "    return df"
   ]
  },
  {
   "cell_type": "markdown",
   "metadata": {},
   "source": [
    "# SMAB3 Single Player Analysis"
   ]
  },
  {
   "cell_type": "code",
   "execution_count": 16,
   "metadata": {},
   "outputs": [
    {
     "data": {
      "text/html": [
       "<div>\n",
       "<style scoped>\n",
       "    .dataframe tbody tr th:only-of-type {\n",
       "        vertical-align: middle;\n",
       "    }\n",
       "\n",
       "    .dataframe tbody tr th {\n",
       "        vertical-align: top;\n",
       "    }\n",
       "\n",
       "    .dataframe thead th {\n",
       "        text-align: right;\n",
       "    }\n",
       "</style>\n",
       "<table border=\"1\" class=\"dataframe\">\n",
       "  <thead>\n",
       "    <tr style=\"text-align: right;\">\n",
       "      <th></th>\n",
       "      <th>game number</th>\n",
       "      <th>trial</th>\n",
       "      <th>player</th>\n",
       "      <th>arm</th>\n",
       "      <th>probability</th>\n",
       "      <th>P1 score</th>\n",
       "      <th>P2 score</th>\n",
       "    </tr>\n",
       "  </thead>\n",
       "  <tbody>\n",
       "    <tr>\n",
       "      <td>0</td>\n",
       "      <td>1</td>\n",
       "      <td>1</td>\n",
       "      <td>1</td>\n",
       "      <td>1</td>\n",
       "      <td>90</td>\n",
       "      <td>0</td>\n",
       "      <td>0</td>\n",
       "    </tr>\n",
       "    <tr>\n",
       "      <td>1</td>\n",
       "      <td>1</td>\n",
       "      <td>1</td>\n",
       "      <td>2</td>\n",
       "      <td>0</td>\n",
       "      <td>90</td>\n",
       "      <td>1</td>\n",
       "      <td>0</td>\n",
       "    </tr>\n",
       "    <tr>\n",
       "      <td>2</td>\n",
       "      <td>1</td>\n",
       "      <td>2</td>\n",
       "      <td>1</td>\n",
       "      <td>2</td>\n",
       "      <td>60</td>\n",
       "      <td>1</td>\n",
       "      <td>1</td>\n",
       "    </tr>\n",
       "    <tr>\n",
       "      <td>3</td>\n",
       "      <td>1</td>\n",
       "      <td>2</td>\n",
       "      <td>2</td>\n",
       "      <td>0</td>\n",
       "      <td>90</td>\n",
       "      <td>2</td>\n",
       "      <td>1</td>\n",
       "    </tr>\n",
       "    <tr>\n",
       "      <td>4</td>\n",
       "      <td>1</td>\n",
       "      <td>3</td>\n",
       "      <td>1</td>\n",
       "      <td>3</td>\n",
       "      <td>30</td>\n",
       "      <td>2</td>\n",
       "      <td>2</td>\n",
       "    </tr>\n",
       "  </tbody>\n",
       "</table>\n",
       "</div>"
      ],
      "text/plain": [
       "   game number  trial  player  arm  probability  P1 score  P2 score\n",
       "0            1      1       1    1           90         0         0\n",
       "1            1      1       2    0           90         1         0\n",
       "2            1      2       1    2           60         1         1\n",
       "3            1      2       2    0           90         2         1\n",
       "4            1      3       1    3           30         2         2"
      ]
     },
     "execution_count": 16,
     "metadata": {},
     "output_type": "execute_result"
    }
   ],
   "source": [
    "'''\n",
    "Here, we load all of the csv files into pandas dataframes using organize_trial_by_trial and get the game 1 and 2 scores using \n",
    "call_get_score.'''\n",
    "\n",
    "#in the s files, p2 is the confederate\n",
    "df = organize_trial_by_trial('data/s01_gamedata.csv')\n",
    "s01 = df\n",
    "s01_p1_g1_score,s01_p1_g2_score,s01_score_diff,s01_p1_g1_50,s01_p1_g2_50 = call_get_score(s01, 's')\n",
    "s01.head()\n",
    "\n",
    "''''#in the s files, p2 is the confederate- NEED TO WORK ON\n",
    "df = organize_trial_by_trial('data/s02_gamedata.csv')\n",
    "s02 = df\n",
    "s02_p1_g1_score = get_score(s02, 1, 1)\n",
    "s02_p1_g1_score,s02_p1_g2_score,s02_score_diff,s02_p1_g1_50,s02_p1_g2_50 = call_get_score(s02, 's')\n",
    "s02.head()'''\n",
    "\n",
    "\n",
    "#in the s files, p2 is the confederate\n",
    "df = organize_trial_by_trial('data/s03_gamedata.csv')\n",
    "s03 = df\n",
    "s03_p1_g1_score,s03_p1_g2_score,s03_score_diff,s03_p1_g1_50,s03_p1_g2_50 = call_get_score(s03, 's')\n",
    "s03.head()\n",
    "\n",
    "#in the s files, p2 is the confederate\n",
    "df = organize_trial_by_trial('data/s05_gamedata.csv')\n",
    "s05 = df\n",
    "s05_p1_g1_score,s05_p1_g2_score,s05_score_diff, s05_p1_g1_50,s05_p1_g2_50 = call_get_score(s05, 's')\n",
    "s05.head()\n",
    "\n",
    "#in the s files, p2 is the confederate\n",
    "df = organize_trial_by_trial('data/s06_gamedata.csv')\n",
    "s06 = df\n",
    "s06_p1_g1_score,s06_p1_g2_score,s06_score_diff, s06_p1_g1_50,s06_p1_g2_50 = call_get_score(s06, 's')\n",
    "s06.head()\n",
    "\n",
    "#in the s files, p2 is the confederate\n",
    "df = organize_trial_by_trial('data/s07_gamedata.csv')\n",
    "s07 = df\n",
    "s07_p1_g1_score,s07_p1_g2_score,s07_score_diff, s07_p1_g1_50,s07_p1_g2_50 = call_get_score(s07, 's')\n",
    "s07.head()\n",
    "\n",
    "pd.set_option('display.max_columns', None)  \n",
    "\n",
    "#in the s files, p2 is the confederate\n",
    "df = organize_trial_by_trial('data/s08_gamedata.csv')\n",
    "s08 = df\n",
    "s08_p1_g1_score,s08_p1_g2_score,s08_score_diff, s08_p1_g1_50,s08_p1_g2_50 = call_get_score(s08, 's')\n",
    "s08.head()\n",
    "\n",
    "#in the s files, p2 is the confederate\n",
    "df = organize_trial_by_trial('data/s09_gamedata.csv')\n",
    "s09 = df\n",
    "s09_p1_g1_score,s09_p1_g2_score,s09_score_diff, s09_p1_g1_50,s09_p1_g2_50 = call_get_score(s09, 's')\n",
    "s09.head()\n",
    "\n",
    "#in the s files, p2 is the confederate\n",
    "df = organize_trial_by_trial_300('data/s11_gamedata2.csv')\n",
    "s11 = df\n",
    "s11_p1_g1_score,s11_p1_g2_score,s11_score_diff,s11_p1_g1_50,s11_p1_g2_50 = call_get_score(s11, 's')\n",
    "s11.head()\n",
    "\n",
    "#in the s files, p2 is the confederate\n",
    "df = organize_trial_by_trial_300('data/s12_gamedata.csv')\n",
    "s12 = df\n",
    "s12_p1_g1_score,s12_p1_g2_score,s12_score_diff, s12_p1_g1_50,s12_p1_g2_50 = call_get_score(s12, 's')\n",
    "s12.head()\n",
    "\n",
    "#in the s files, p2 is the confederate\n",
    "df = organize_trial_by_trial_hand_code2('data/s14_gamedata_handcode.csv')\n",
    "s14 = df\n",
    "#s12_p1_g1_score,s12_p1_g2_score,s12_score_diff, s12_p1_g1_50,s12_p1_g2_50 = call_get_score(s12, 's')\n",
    "s14.head()\n",
    "\n",
    "#in the s files, p2 is the confederate\n",
    "df = organize_trial_by_trial_300('data/s15_gamedata2.csv')\n",
    "s15 = df\n",
    "s15_p1_g1_score,s15_p1_g2_score,s15_score_diff,s15_p1_g1_50,s15_p1_g2_50 = call_get_score(s15, 's')\n",
    "s15.head()\n",
    "\n",
    "#in the s files, p2 is the confederate\n",
    "df = organize_trial_by_trial_300('data/s16_gamedata2.csv')\n",
    "s16 = df\n",
    "s16_p1_g1_score,s16_p1_g2_score,s16_score_diff,s16_p1_g1_50,s16_p1_g2_50 = call_get_score(s16, 's')\n",
    "s16.head()\n",
    "\n",
    "#in the s files, p2 is the confederate\n",
    "df = organize_trial_by_trial_300('data/s19_gamedata.csv')\n",
    "s19 = df\n",
    "s19_p1_g1_score,s19_p1_g2_score,s19_score_diff,s19_p1_g1_50,s19_p1_g2_50 = call_get_score(s19, 's')\n",
    "s19.head()\n",
    "\n",
    "#in the s files, p2 is the confederate\n",
    "df = organize_trial_by_trial_300('data/s17_gamedata2.csv')\n",
    "s17 = df\n",
    "s17_p1_g1_score,s17_p1_g2_score,s17_score_diff,s17_p1_g1_50,s17_p1_g2_50 = call_get_score(s17, 's')\n",
    "s17.head()\n",
    "\n",
    "#in the s files, p2 is the confederate\n",
    "df = organize_trial_by_trial_floatclick('data/s20_gamedata.csv')\n",
    "s20 = df\n",
    "s20_p1_g1_score,s20_p1_g2_score,s20_score_diff, s20_p1_g1_50,s20_p1_g2_50= call_get_score(s20, 's')\n",
    "s20.head()"
   ]
  },
  {
   "cell_type": "code",
   "execution_count": 17,
   "metadata": {},
   "outputs": [
    {
     "data": {
      "text/html": [
       "<div>\n",
       "<style scoped>\n",
       "    .dataframe tbody tr th:only-of-type {\n",
       "        vertical-align: middle;\n",
       "    }\n",
       "\n",
       "    .dataframe tbody tr th {\n",
       "        vertical-align: top;\n",
       "    }\n",
       "\n",
       "    .dataframe thead th {\n",
       "        text-align: right;\n",
       "    }\n",
       "</style>\n",
       "<table border=\"1\" class=\"dataframe\">\n",
       "  <thead>\n",
       "    <tr style=\"text-align: right;\">\n",
       "      <th></th>\n",
       "      <th>game number</th>\n",
       "      <th>trial</th>\n",
       "      <th>player</th>\n",
       "      <th>arm</th>\n",
       "      <th>probability</th>\n",
       "      <th>reward</th>\n",
       "      <th>time</th>\n",
       "      <th>P1 score</th>\n",
       "      <th>P2 score</th>\n",
       "    </tr>\n",
       "  </thead>\n",
       "  <tbody>\n",
       "    <tr>\n",
       "      <td>0</td>\n",
       "      <td>1</td>\n",
       "      <td>1</td>\n",
       "      <td>1</td>\n",
       "      <td>2</td>\n",
       "      <td>90</td>\n",
       "      <td>1</td>\n",
       "      <td>25.633740</td>\n",
       "      <td>1</td>\n",
       "      <td>0</td>\n",
       "    </tr>\n",
       "    <tr>\n",
       "      <td>1</td>\n",
       "      <td>1</td>\n",
       "      <td>1</td>\n",
       "      <td>2</td>\n",
       "      <td>1</td>\n",
       "      <td>90</td>\n",
       "      <td>1</td>\n",
       "      <td>10.289090</td>\n",
       "      <td>1</td>\n",
       "      <td>1</td>\n",
       "    </tr>\n",
       "    <tr>\n",
       "      <td>2</td>\n",
       "      <td>1</td>\n",
       "      <td>2</td>\n",
       "      <td>1</td>\n",
       "      <td>3</td>\n",
       "      <td>60</td>\n",
       "      <td>0</td>\n",
       "      <td>5.244492</td>\n",
       "      <td>1</td>\n",
       "      <td>1</td>\n",
       "    </tr>\n",
       "    <tr>\n",
       "      <td>3</td>\n",
       "      <td>1</td>\n",
       "      <td>2</td>\n",
       "      <td>2</td>\n",
       "      <td>1</td>\n",
       "      <td>90</td>\n",
       "      <td>1</td>\n",
       "      <td>13.060750</td>\n",
       "      <td>1</td>\n",
       "      <td>2</td>\n",
       "    </tr>\n",
       "    <tr>\n",
       "      <td>4</td>\n",
       "      <td>1</td>\n",
       "      <td>3</td>\n",
       "      <td>1</td>\n",
       "      <td>2</td>\n",
       "      <td>90</td>\n",
       "      <td>1</td>\n",
       "      <td>2.117987</td>\n",
       "      <td>2</td>\n",
       "      <td>2</td>\n",
       "    </tr>\n",
       "  </tbody>\n",
       "</table>\n",
       "</div>"
      ],
      "text/plain": [
       "   game number  trial  player  arm  probability  reward       time  P1 score  \\\n",
       "0            1      1       1    2           90       1  25.633740         1   \n",
       "1            1      1       2    1           90       1  10.289090         1   \n",
       "2            1      2       1    3           60       0   5.244492         1   \n",
       "3            1      2       2    1           90       1  13.060750         1   \n",
       "4            1      3       1    2           90       1   2.117987         2   \n",
       "\n",
       "   P2 score  \n",
       "0         0  \n",
       "1         1  \n",
       "2         1  \n",
       "3         2  \n",
       "4         2  "
      ]
     },
     "execution_count": 17,
     "metadata": {},
     "output_type": "execute_result"
    }
   ],
   "source": [
    "#in the s files, p2 is the confederate\n",
    "df = organize_trial_by_trial_300('data/s17_gamedata2.csv')\n",
    "s17 = df\n",
    "s17_p1_g1_score,s17_p1_g2_score,s17_score_diff,s17_p1_g1_50,s17_p1_g2_50 = call_get_score(s17, 's')\n",
    "s17.head()"
   ]
  },
  {
   "cell_type": "code",
   "execution_count": 18,
   "metadata": {},
   "outputs": [],
   "source": [
    "s14_p1_counts, s14_p2_counts, s14_p1_probs, s14_p2_probs = handcode_calc_prob(s14)"
   ]
  },
  {
   "cell_type": "code",
   "execution_count": 19,
   "metadata": {},
   "outputs": [
    {
     "name": "stderr",
     "output_type": "stream",
     "text": [
      "/Users/simonefroley/opt/anaconda3/lib/python3.7/site-packages/ipykernel_launcher.py:12: UserWarning: Boolean Series key will be reindexed to match DataFrame index.\n",
      "  if sys.path[0] == '':\n",
      "/Users/simonefroley/opt/anaconda3/lib/python3.7/site-packages/ipykernel_launcher.py:13: UserWarning: Boolean Series key will be reindexed to match DataFrame index.\n",
      "  del sys.path[0]\n"
     ]
    }
   ],
   "source": [
    "'''The Hand Code Functions are called for s14'''\n",
    "s14 = fill_in_prob(s14, 60,90,30,60,90,30,60,90,30,60,90,30)\n",
    "s14_p1_g1, s14_p1_g2 = separate_df(s14, 'c')\n",
    "s14_p1_g1_score = s14_p1_g1['reward'].sum()\n",
    "s14_p1_g2_score = s14_p1_g2['reward'].sum()"
   ]
  },
  {
   "cell_type": "code",
   "execution_count": 20,
   "metadata": {},
   "outputs": [],
   "source": [
    "'''\n",
    "Here, we create a dataframe of all of the scores and score differences between game 1 and 2'''\n",
    "\n",
    "#list out all the scores in game 1 by participant\n",
    "s_scores_1 = pd.DataFrame({'participant':['s01','s03', 's05', \n",
    "                               's06', 's07', 's08', 's09', 's11', 's12', 's14','s15', 's16', 's17', 's19', 's20'], 'score':\n",
    "     [s01_p1_g1_score, s03_p1_g1_score, s05_p1_g1_score,\n",
    "      s06_p1_g1_score, s07_p1_g1_score, s08_p1_g1_score, s09_p1_g1_score, s11_p1_g1_score, s12_p1_g1_score, s14_p1_g1_score, s15_p1_g1_score, s16_p1_g1_score, s17_p1_g1_score, s19_p1_g1_score, s20_p1_g1_score]})\n",
    "#to prevent an extra column that numbers each row:\n",
    "s_scores_1.set_index('participant', inplace=True, drop=True)\n",
    "\n",
    "#game 2 data is split by same (s) and different (d) contingencies in g1 and g2\n",
    "#list out all the scores in game 2 by participant\n",
    "s_scores_2_d = pd.DataFrame({'participant':['s01', 's03', 's05', \n",
    "                               's06', 's07', 's08', 's09',], 'score':\n",
    "    [s01_p1_g2_score, s03_p1_g2_score, s05_p1_g2_score, \n",
    "s06_p1_g2_score, s07_p1_g2_score, s08_p1_g2_score, s09_p1_g2_score]})\n",
    "\n",
    "#to prevent an extra column that numbers each row:\n",
    "s_scores_2_d.set_index('participant', inplace=True, drop=True)\n",
    "\n",
    "s_scores_2_s = pd.DataFrame({'participant':['s11', 's12', 's14','s15', 's16', 's17', 's19', 's20'], 'score':\n",
    "    [s11_p1_g2_score, s12_p1_g2_score, s14_p1_g2_score, s15_p1_g2_score, s16_p1_g2_score, s17_p1_g2_score, s19_p1_g2_score, s20_p1_g2_score]})\n",
    "\n",
    "#to prevent an extra column that numbers each row:\n",
    "s_scores_2_s.set_index('participant', inplace=True, drop=True)\n",
    "\n",
    "\n",
    "#list out all the scores in game 1 by participant\n",
    "s_scores_1_50 = pd.DataFrame({'participant':['s01','s03', 's05', \n",
    "                               's06', 's07', 's08', 's09', 's11', 's12', 's15', 's16', 's17', 's19', 's20'], 'score_1_50':\n",
    "     [s01_p1_g1_50, s03_p1_g1_50, s05_p1_g1_50,\n",
    "      s06_p1_g1_50, s07_p1_g1_50, s08_p1_g1_50, s09_p1_g1_50, s11_p1_g1_50, s12_p1_g1_50, s15_p1_g1_50, s16_p1_g1_50, s17_p1_g1_50, s19_p1_g1_50, s20_p1_g1_50]})\n",
    "#to prevent an extra column that numbers each row:\n",
    "s_scores_1_50.set_index('participant', inplace=True, drop=True)\n",
    "\n",
    "#list out all the scores in game 2 by participant\n",
    "s_scores_2_50 = pd.DataFrame({'participant':['s01', 's03', 's05', \n",
    "                               's06', 's07', 's08', 's09', 's11', 's12', 's15', 's16', 's17', 's19', 's20'], 'score_2_50':\n",
    "    [s01_p1_g2_50, s03_p1_g2_50, s05_p1_g2_50, \n",
    "s06_p1_g2_50, s07_p1_g2_50, s08_p1_g2_50, s09_p1_g2_50, s11_p1_g2_50, s12_p1_g2_50, s15_p1_g2_50, s16_p1_g2_50, s17_p1_g2_50, s19_p1_g2_50, s20_p1_g2_50]})\n",
    "s_scores_2_50.set_index('participant', inplace=True, drop=True)\n",
    "\n",
    "#frames = [s_scores_1_50,s_scores_2_50,s_scores_1,s_scores_2]'''"
   ]
  },
  {
   "cell_type": "code",
   "execution_count": 21,
   "metadata": {},
   "outputs": [
    {
     "data": {
      "text/plain": [
       "\"\\n#merge both games by participant:\\ns_scores = pd.merge(s_scores_1, s_scores_2,on='participant')\\n\\n#label columns\\ns_scores.columns=['Game 1','Game 2']\\n\\ns_scores\""
      ]
     },
     "execution_count": 21,
     "metadata": {},
     "output_type": "execute_result"
    },
    {
     "data": {
      "image/png": "[encoded data removed]",
      "text/plain": [
       "<Figure size 432x288 with 1 Axes>"
      ]
     },
     "metadata": {
      "needs_background": "light"
     },
     "output_type": "display_data"
    },
    {
     "data": {
      "image/png": "[encoded data removed]",
      "text/plain": [
       "<Figure size 432x288 with 1 Axes>"
      ]
     },
     "metadata": {
      "needs_background": "light"
     },
     "output_type": "display_data"
    },
    {
     "data": {
      "image/png": "[encoded data removed]",
      "text/plain": [
       "<Figure size 432x288 with 1 Axes>"
      ]
     },
     "metadata": {
      "needs_background": "light"
     },
     "output_type": "display_data"
    }
   ],
   "source": [
    "'''Here we plot the scores.'''\n",
    "\n",
    "s_scores_1_bar = s_scores_1.plot.bar()\n",
    "\n",
    "s_scores_2_s_bar = s_scores_2_s.plot.bar()\n",
    "\n",
    "s_scores_2_d_bar = s_scores_2_d.plot.bar()\n",
    "\n",
    "'''\n",
    "#merge both games by participant:\n",
    "s_scores = pd.merge(s_scores_1, s_scores_2,on='participant')\n",
    "\n",
    "#label columns\n",
    "s_scores.columns=['Game 1','Game 2']\n",
    "\n",
    "s_scores'''"
   ]
  },
  {
   "cell_type": "code",
   "execution_count": 22,
   "metadata": {},
   "outputs": [
    {
     "data": {
      "image/png": "[encoded data removed]",
      "text/plain": [
       "<Figure size 432x288 with 1 Axes>"
      ]
     },
     "metadata": {
      "needs_background": "light"
     },
     "output_type": "display_data"
    }
   ],
   "source": [
    "#make a boxplot of the scores in game 1 and game 2 \n",
    "#s_scores_box = s_scores.boxplot(labels=['Game 1','Game 2'])\n",
    "#plt.grid(b=None)\n",
    "#plt.yticks(np.arange(50, 105, step=10))\n",
    "\n",
    "s_scores1_box = sns.boxplot( \n",
    "                 data=s_scores_1,\n",
    "                 width=0.5,\n",
    "                 palette=\"pastel\")\n",
    "s_scores1_box.axes.set_title(\"SMAB3 Control Scores First 50 Trials in Game 1\",\n",
    "                    fontsize=16)\n",
    "\n",
    "plot_file_name=\"s_score1_box.jpg\"\n",
    " \n",
    "plt.ylim(0, 100)\n",
    "s_scores1_box.axes.set(ylabel='Score')\n",
    "\n",
    "# save as jpeg\n",
    "s_scores1_box.figure.savefig(plot_file_name,\n",
    "                    format='jpeg')"
   ]
  },
  {
   "cell_type": "code",
   "execution_count": 23,
   "metadata": {},
   "outputs": [
    {
     "data": {
      "image/png": "[encoded data removed]",
      "text/plain": [
       "<Figure size 432x288 with 1 Axes>"
      ]
     },
     "metadata": {
      "needs_background": "light"
     },
     "output_type": "display_data"
    }
   ],
   "source": [
    "#make a boxplot of the scores in game 1 and game 2 \n",
    "#s_scores_box = s_scores.boxplot(labels=['Game 1','Game 2'])\n",
    "#plt.grid(b=None)\n",
    "#plt.yticks(np.arange(50, 105, step=10))\n",
    "\n",
    "s_scores2s_box = sns.boxplot( \n",
    "                 data=s_scores_2_s,\n",
    "                 width=0.5,\n",
    "                 palette=\"pastel\")\n",
    "s_scores2s_box.axes.set_title(\"SMAB3 Control Scores in Game 2-Same\",\n",
    "                    fontsize=16)\n",
    "\n",
    "plot_file_name=\"s_score_2s_box.jpg\"\n",
    " \n",
    "plt.ylim(0, 100)\n",
    "s_scores2s_box.axes.set(ylabel='Score')\n",
    "\n",
    "# save as jpeg\n",
    "s_scores2s_box.figure.savefig(plot_file_name,\n",
    "                    format='jpeg')"
   ]
  },
  {
   "cell_type": "code",
   "execution_count": 24,
   "metadata": {},
   "outputs": [
    {
     "data": {
      "image/png": "[encoded data removed]",
      "text/plain": [
       "<Figure size 432x288 with 1 Axes>"
      ]
     },
     "metadata": {
      "needs_background": "light"
     },
     "output_type": "display_data"
    }
   ],
   "source": [
    "#make a boxplot of the scores in game 1 and game 2 \n",
    "#s_scores_box = s_scores.boxplot(labels=['Game 1','Game 2'])\n",
    "#plt.grid(b=None)\n",
    "#plt.yticks(np.arange(50, 105, step=10))\n",
    "\n",
    "s_scores2d_box = sns.boxplot( \n",
    "                 data=s_scores_2_d,\n",
    "                 width=0.5,\n",
    "                 palette=\"pastel\")\n",
    "s_scores2d_box.axes.set_title(\"SMAB3 Control Scores in Game 2-Different\",\n",
    "                    fontsize=16)\n",
    "\n",
    "plot_file_name=\"s_score_2d_box.jpg\"\n",
    " \n",
    "plt.ylim(0, 100)\n",
    "s_scores2d_box.axes.set(ylabel='Score')\n",
    "\n",
    "# save as jpeg\n",
    "s_scores2d_box.figure.savefig(plot_file_name,\n",
    "                    format='jpeg')"
   ]
  },
  {
   "cell_type": "code",
   "execution_count": 25,
   "metadata": {},
   "outputs": [],
   "source": [
    "#SMAB3 CONTROL SCORES\n",
    "'''Here we look at the means, standard deviations, and medians of the scores in games 1 and 2.'''\n",
    "\n",
    "s_scores_1_mean = s_scores_1.mean()"
   ]
  },
  {
   "cell_type": "code",
   "execution_count": 26,
   "metadata": {},
   "outputs": [],
   "source": [
    "s_scores_1_std = s_scores_1.std()"
   ]
  },
  {
   "cell_type": "code",
   "execution_count": 27,
   "metadata": {},
   "outputs": [
    {
     "data": {
      "text/plain": [
       "(score    67.466667\n",
       " dtype: float64, score    16.578242\n",
       " dtype: float64)"
      ]
     },
     "execution_count": 27,
     "metadata": {},
     "output_type": "execute_result"
    }
   ],
   "source": [
    "s_scores_1_mean, s_scores_1_std"
   ]
  },
  {
   "cell_type": "code",
   "execution_count": 28,
   "metadata": {},
   "outputs": [],
   "source": [
    "s_scores_2s_mean = s_scores_2_s.mean()"
   ]
  },
  {
   "cell_type": "code",
   "execution_count": 29,
   "metadata": {},
   "outputs": [],
   "source": [
    "s_scores_2s_std = s_scores_2_s.std()"
   ]
  },
  {
   "cell_type": "code",
   "execution_count": 30,
   "metadata": {},
   "outputs": [],
   "source": [
    "s_scores_2d_mean = s_scores_2_d.mean()"
   ]
  },
  {
   "cell_type": "code",
   "execution_count": 31,
   "metadata": {},
   "outputs": [],
   "source": [
    "s_scores_2d_std = s_scores_2_d.std()"
   ]
  },
  {
   "cell_type": "code",
   "execution_count": 32,
   "metadata": {},
   "outputs": [
    {
     "data": {
      "text/plain": [
       "(score    66.875\n",
       " dtype: float64, score    20.92461\n",
       " dtype: float64)"
      ]
     },
     "execution_count": 32,
     "metadata": {},
     "output_type": "execute_result"
    }
   ],
   "source": [
    "s_scores_2s_mean, s_scores_2s_std"
   ]
  },
  {
   "cell_type": "code",
   "execution_count": 33,
   "metadata": {},
   "outputs": [
    {
     "data": {
      "text/plain": [
       "(score    76.857143\n",
       " dtype: float64, score    8.214389\n",
       " dtype: float64)"
      ]
     },
     "execution_count": 33,
     "metadata": {},
     "output_type": "execute_result"
    }
   ],
   "source": [
    "s_scores_2d_mean, s_scores_2d_std"
   ]
  },
  {
   "cell_type": "code",
   "execution_count": 34,
   "metadata": {},
   "outputs": [
    {
     "data": {
      "text/plain": [
       "Ttest_indResult(statistic=array([-1.18058121]), pvalue=array([0.25891973]))"
      ]
     },
     "execution_count": 34,
     "metadata": {},
     "output_type": "execute_result"
    }
   ],
   "source": [
    "sp.stats.ttest_ind(s_scores_2_s, s_scores_2_d)"
   ]
  },
  {
   "cell_type": "code",
   "execution_count": 35,
   "metadata": {
    "scrolled": true
   },
   "outputs": [
    {
     "name": "stderr",
     "output_type": "stream",
     "text": [
      "/Users/simonefroley/opt/anaconda3/lib/python3.7/site-packages/ipykernel_launcher.py:12: UserWarning: Boolean Series key will be reindexed to match DataFrame index.\n",
      "  if sys.path[0] == '':\n",
      "/Users/simonefroley/opt/anaconda3/lib/python3.7/site-packages/ipykernel_launcher.py:13: UserWarning: Boolean Series key will be reindexed to match DataFrame index.\n",
      "  del sys.path[0]\n"
     ]
    }
   ],
   "source": [
    "'''Here we separate the dataframes of game 1 and game 2 for each subject.'''\n",
    "\n",
    "\n",
    "s01_p1_g1, s01_p1_g2 = separate_df(s01, 's')\n",
    "s03_p1_g1, s03_p1_g2 = separate_df(s03, 's')\n",
    "s05_p1_g1, s05_p1_g2 = separate_df(s05, 's')\n",
    "s06_p1_g1, s06_p1_g2 = separate_df(s06, 's')\n",
    "s07_p1_g1, s07_p1_g2 = separate_df(s07, 's')\n",
    "s08_p1_g1, s08_p1_g2 = separate_df(s08, 's')\n",
    "s09_p1_g1, s09_p1_g2 = separate_df(s09, 's')\n",
    "s11_p1_g1, s11_p1_g2 = separate_df(s11, 's')\n",
    "s12_p1_g1, s12_p1_g2 = separate_df(s12, 's')\n",
    "s15_p1_g1, s15_p1_g2 = separate_df(s15, 's')\n",
    "s16_p1_g1, s16_p1_g2 = separate_df(s16, 's')\n",
    "s17_p1_g1, s17_p1_g2 = separate_df(s17, 's')\n",
    "s19_p1_g1, s19_p1_g2 = separate_df(s19, 's')\n",
    "s20_p1_g1, s20_p1_g2 = separate_df(s20, 's')"
   ]
  },
  {
   "cell_type": "code",
   "execution_count": 36,
   "metadata": {},
   "outputs": [
    {
     "data": {
      "text/plain": [
       "'s01_p1_g1_map = hole_prob_map(s01_p1_g1)\\ns01_p1_g2_map = hole_prob_map(s01_p1_g2)\\n\\ns03_p1_g1_map = hole_prob_map(s03_p1_g1)\\ns03_p1_g2_map = hole_prob_map(s03_p1_g2)\\n\\ns05_p1_g1_map = hole_prob_map(s05_p1_g1)\\n#s05_p1_g2_map = hole_prob_map(s05_p1_g2)\\n\\ns07_p1_g1_map = hole_prob_map(s07_p1_g1)\\ns07_p1_g2_map = hole_prob_map(s07_p1_g2)\\n\\ns08_p1_g1_map = hole_prob_map(s08_p1_g1)\\ns08_p1_g2_map = hole_prob_map(s08_p1_g2)\\n\\ns09_p1_g1_map = hole_prob_map(s09_p1_g1)\\ns09_p1_g2_map = hole_prob_map(s09_p1_g2)\\n\\ns11_p1_g1_map = hole_prob_map(s11_p1_g1)\\ns11_p1_g2_map = hole_prob_map(s11_p1_g2)\\n\\ns12_p1_g1_map = hole_prob_map(s12_p1_g1)\\ns12_p1_g2_map = hole_prob_map(s12_p1_g2)\\n\\ns15_p1_g1_map = hole_prob_map(s15_p1_g1)\\ns15_p1_g2_map = hole_prob_map(s15_p1_g2)\\n\\ns16_p1_g1_map = hole_prob_map(s16_p1_g1)\\ns16_p1_g2_map = hole_prob_map(s16_p1_g2)\\n\\ns17_p1_g1_map = hole_prob_map(s17_p1_g1)\\n#s17_p1_g2_map = hole_prob_map(s17_p1_g2)'"
      ]
     },
     "execution_count": 36,
     "metadata": {},
     "output_type": "execute_result"
    }
   ],
   "source": [
    "'''Here we check the arm-probability mappings in each game'''\n",
    "#IndexError: single positional indexer is out-of-bounds\n",
    "'''s01_p1_g1_map = hole_prob_map(s01_p1_g1)\n",
    "s01_p1_g2_map = hole_prob_map(s01_p1_g2)\n",
    "\n",
    "s03_p1_g1_map = hole_prob_map(s03_p1_g1)\n",
    "s03_p1_g2_map = hole_prob_map(s03_p1_g2)\n",
    "\n",
    "s05_p1_g1_map = hole_prob_map(s05_p1_g1)\n",
    "#s05_p1_g2_map = hole_prob_map(s05_p1_g2)\n",
    "\n",
    "s07_p1_g1_map = hole_prob_map(s07_p1_g1)\n",
    "s07_p1_g2_map = hole_prob_map(s07_p1_g2)\n",
    "\n",
    "s08_p1_g1_map = hole_prob_map(s08_p1_g1)\n",
    "s08_p1_g2_map = hole_prob_map(s08_p1_g2)\n",
    "\n",
    "s09_p1_g1_map = hole_prob_map(s09_p1_g1)\n",
    "s09_p1_g2_map = hole_prob_map(s09_p1_g2)\n",
    "\n",
    "s11_p1_g1_map = hole_prob_map(s11_p1_g1)\n",
    "s11_p1_g2_map = hole_prob_map(s11_p1_g2)\n",
    "\n",
    "s12_p1_g1_map = hole_prob_map(s12_p1_g1)\n",
    "s12_p1_g2_map = hole_prob_map(s12_p1_g2)\n",
    "\n",
    "s15_p1_g1_map = hole_prob_map(s15_p1_g1)\n",
    "s15_p1_g2_map = hole_prob_map(s15_p1_g2)\n",
    "\n",
    "s16_p1_g1_map = hole_prob_map(s16_p1_g1)\n",
    "s16_p1_g2_map = hole_prob_map(s16_p1_g2)\n",
    "\n",
    "s17_p1_g1_map = hole_prob_map(s17_p1_g1)\n",
    "#s17_p1_g2_map = hole_prob_map(s17_p1_g2)'''"
   ]
  },
  {
   "cell_type": "code",
   "execution_count": 37,
   "metadata": {},
   "outputs": [
    {
     "data": {
      "text/html": [
       "<div>\n",
       "<style scoped>\n",
       "    .dataframe tbody tr th:only-of-type {\n",
       "        vertical-align: middle;\n",
       "    }\n",
       "\n",
       "    .dataframe tbody tr th {\n",
       "        vertical-align: top;\n",
       "    }\n",
       "\n",
       "    .dataframe thead th {\n",
       "        text-align: right;\n",
       "    }\n",
       "</style>\n",
       "<table border=\"1\" class=\"dataframe\">\n",
       "  <thead>\n",
       "    <tr style=\"text-align: right;\">\n",
       "      <th></th>\n",
       "      <th>game number</th>\n",
       "      <th>trial</th>\n",
       "      <th>player</th>\n",
       "      <th>arm</th>\n",
       "      <th>probability</th>\n",
       "      <th>reward</th>\n",
       "      <th>time</th>\n",
       "      <th>P1 score</th>\n",
       "      <th>P2 score</th>\n",
       "    </tr>\n",
       "  </thead>\n",
       "  <tbody>\n",
       "    <tr>\n",
       "      <td>20</td>\n",
       "      <td>1</td>\n",
       "      <td>11</td>\n",
       "      <td>1</td>\n",
       "      <td>3</td>\n",
       "      <td>60</td>\n",
       "      <td>0</td>\n",
       "      <td>2.506092</td>\n",
       "      <td>5</td>\n",
       "      <td>10</td>\n",
       "    </tr>\n",
       "    <tr>\n",
       "      <td>22</td>\n",
       "      <td>1</td>\n",
       "      <td>12</td>\n",
       "      <td>1</td>\n",
       "      <td>3</td>\n",
       "      <td>60</td>\n",
       "      <td>1</td>\n",
       "      <td>2.129512</td>\n",
       "      <td>6</td>\n",
       "      <td>11</td>\n",
       "    </tr>\n",
       "    <tr>\n",
       "      <td>24</td>\n",
       "      <td>1</td>\n",
       "      <td>13</td>\n",
       "      <td>1</td>\n",
       "      <td>3</td>\n",
       "      <td>60</td>\n",
       "      <td>1</td>\n",
       "      <td>2.859897</td>\n",
       "      <td>7</td>\n",
       "      <td>12</td>\n",
       "    </tr>\n",
       "    <tr>\n",
       "      <td>26</td>\n",
       "      <td>1</td>\n",
       "      <td>14</td>\n",
       "      <td>1</td>\n",
       "      <td>1</td>\n",
       "      <td>90</td>\n",
       "      <td>1</td>\n",
       "      <td>2.659386</td>\n",
       "      <td>8</td>\n",
       "      <td>13</td>\n",
       "    </tr>\n",
       "    <tr>\n",
       "      <td>28</td>\n",
       "      <td>1</td>\n",
       "      <td>15</td>\n",
       "      <td>1</td>\n",
       "      <td>3</td>\n",
       "      <td>60</td>\n",
       "      <td>1</td>\n",
       "      <td>2.522157</td>\n",
       "      <td>9</td>\n",
       "      <td>14</td>\n",
       "    </tr>\n",
       "    <tr>\n",
       "      <td>30</td>\n",
       "      <td>1</td>\n",
       "      <td>16</td>\n",
       "      <td>1</td>\n",
       "      <td>3</td>\n",
       "      <td>60</td>\n",
       "      <td>1</td>\n",
       "      <td>2.403007</td>\n",
       "      <td>10</td>\n",
       "      <td>15</td>\n",
       "    </tr>\n",
       "    <tr>\n",
       "      <td>32</td>\n",
       "      <td>1</td>\n",
       "      <td>17</td>\n",
       "      <td>1</td>\n",
       "      <td>2</td>\n",
       "      <td>30</td>\n",
       "      <td>0</td>\n",
       "      <td>2.331370</td>\n",
       "      <td>10</td>\n",
       "      <td>16</td>\n",
       "    </tr>\n",
       "    <tr>\n",
       "      <td>34</td>\n",
       "      <td>1</td>\n",
       "      <td>18</td>\n",
       "      <td>1</td>\n",
       "      <td>2</td>\n",
       "      <td>30</td>\n",
       "      <td>1</td>\n",
       "      <td>1.615854</td>\n",
       "      <td>11</td>\n",
       "      <td>17</td>\n",
       "    </tr>\n",
       "    <tr>\n",
       "      <td>36</td>\n",
       "      <td>1</td>\n",
       "      <td>19</td>\n",
       "      <td>1</td>\n",
       "      <td>3</td>\n",
       "      <td>60</td>\n",
       "      <td>0</td>\n",
       "      <td>2.721275</td>\n",
       "      <td>11</td>\n",
       "      <td>18</td>\n",
       "    </tr>\n",
       "    <tr>\n",
       "      <td>38</td>\n",
       "      <td>1</td>\n",
       "      <td>20</td>\n",
       "      <td>1</td>\n",
       "      <td>3</td>\n",
       "      <td>60</td>\n",
       "      <td>1</td>\n",
       "      <td>1.528131</td>\n",
       "      <td>12</td>\n",
       "      <td>19</td>\n",
       "    </tr>\n",
       "    <tr>\n",
       "      <td>40</td>\n",
       "      <td>1</td>\n",
       "      <td>21</td>\n",
       "      <td>1</td>\n",
       "      <td>1</td>\n",
       "      <td>90</td>\n",
       "      <td>1</td>\n",
       "      <td>2.266084</td>\n",
       "      <td>13</td>\n",
       "      <td>20</td>\n",
       "    </tr>\n",
       "    <tr>\n",
       "      <td>42</td>\n",
       "      <td>1</td>\n",
       "      <td>22</td>\n",
       "      <td>1</td>\n",
       "      <td>3</td>\n",
       "      <td>60</td>\n",
       "      <td>0</td>\n",
       "      <td>1.921934</td>\n",
       "      <td>13</td>\n",
       "      <td>21</td>\n",
       "    </tr>\n",
       "    <tr>\n",
       "      <td>44</td>\n",
       "      <td>1</td>\n",
       "      <td>23</td>\n",
       "      <td>1</td>\n",
       "      <td>3</td>\n",
       "      <td>60</td>\n",
       "      <td>0</td>\n",
       "      <td>1.533652</td>\n",
       "      <td>13</td>\n",
       "      <td>22</td>\n",
       "    </tr>\n",
       "    <tr>\n",
       "      <td>46</td>\n",
       "      <td>1</td>\n",
       "      <td>24</td>\n",
       "      <td>1</td>\n",
       "      <td>3</td>\n",
       "      <td>60</td>\n",
       "      <td>1</td>\n",
       "      <td>2.955235</td>\n",
       "      <td>14</td>\n",
       "      <td>23</td>\n",
       "    </tr>\n",
       "    <tr>\n",
       "      <td>48</td>\n",
       "      <td>1</td>\n",
       "      <td>25</td>\n",
       "      <td>1</td>\n",
       "      <td>2</td>\n",
       "      <td>30</td>\n",
       "      <td>0</td>\n",
       "      <td>1.914423</td>\n",
       "      <td>14</td>\n",
       "      <td>24</td>\n",
       "    </tr>\n",
       "    <tr>\n",
       "      <td>50</td>\n",
       "      <td>1</td>\n",
       "      <td>26</td>\n",
       "      <td>1</td>\n",
       "      <td>2</td>\n",
       "      <td>30</td>\n",
       "      <td>0</td>\n",
       "      <td>1.888488</td>\n",
       "      <td>14</td>\n",
       "      <td>25</td>\n",
       "    </tr>\n",
       "    <tr>\n",
       "      <td>52</td>\n",
       "      <td>1</td>\n",
       "      <td>27</td>\n",
       "      <td>1</td>\n",
       "      <td>2</td>\n",
       "      <td>30</td>\n",
       "      <td>0</td>\n",
       "      <td>1.781107</td>\n",
       "      <td>14</td>\n",
       "      <td>26</td>\n",
       "    </tr>\n",
       "    <tr>\n",
       "      <td>54</td>\n",
       "      <td>1</td>\n",
       "      <td>28</td>\n",
       "      <td>1</td>\n",
       "      <td>3</td>\n",
       "      <td>60</td>\n",
       "      <td>0</td>\n",
       "      <td>1.519401</td>\n",
       "      <td>14</td>\n",
       "      <td>26</td>\n",
       "    </tr>\n",
       "    <tr>\n",
       "      <td>56</td>\n",
       "      <td>1</td>\n",
       "      <td>29</td>\n",
       "      <td>1</td>\n",
       "      <td>3</td>\n",
       "      <td>60</td>\n",
       "      <td>1</td>\n",
       "      <td>1.473959</td>\n",
       "      <td>15</td>\n",
       "      <td>27</td>\n",
       "    </tr>\n",
       "    <tr>\n",
       "      <td>58</td>\n",
       "      <td>1</td>\n",
       "      <td>30</td>\n",
       "      <td>1</td>\n",
       "      <td>1</td>\n",
       "      <td>90</td>\n",
       "      <td>1</td>\n",
       "      <td>2.289316</td>\n",
       "      <td>16</td>\n",
       "      <td>28</td>\n",
       "    </tr>\n",
       "    <tr>\n",
       "      <td>60</td>\n",
       "      <td>1</td>\n",
       "      <td>31</td>\n",
       "      <td>1</td>\n",
       "      <td>2</td>\n",
       "      <td>30</td>\n",
       "      <td>1</td>\n",
       "      <td>1.681350</td>\n",
       "      <td>17</td>\n",
       "      <td>29</td>\n",
       "    </tr>\n",
       "    <tr>\n",
       "      <td>62</td>\n",
       "      <td>1</td>\n",
       "      <td>32</td>\n",
       "      <td>1</td>\n",
       "      <td>2</td>\n",
       "      <td>30</td>\n",
       "      <td>0</td>\n",
       "      <td>2.000399</td>\n",
       "      <td>17</td>\n",
       "      <td>30</td>\n",
       "    </tr>\n",
       "    <tr>\n",
       "      <td>64</td>\n",
       "      <td>1</td>\n",
       "      <td>33</td>\n",
       "      <td>1</td>\n",
       "      <td>2</td>\n",
       "      <td>30</td>\n",
       "      <td>1</td>\n",
       "      <td>1.555528</td>\n",
       "      <td>18</td>\n",
       "      <td>31</td>\n",
       "    </tr>\n",
       "    <tr>\n",
       "      <td>66</td>\n",
       "      <td>1</td>\n",
       "      <td>34</td>\n",
       "      <td>1</td>\n",
       "      <td>1</td>\n",
       "      <td>90</td>\n",
       "      <td>1</td>\n",
       "      <td>1.569532</td>\n",
       "      <td>19</td>\n",
       "      <td>32</td>\n",
       "    </tr>\n",
       "    <tr>\n",
       "      <td>68</td>\n",
       "      <td>1</td>\n",
       "      <td>35</td>\n",
       "      <td>1</td>\n",
       "      <td>3</td>\n",
       "      <td>60</td>\n",
       "      <td>0</td>\n",
       "      <td>1.777362</td>\n",
       "      <td>19</td>\n",
       "      <td>32</td>\n",
       "    </tr>\n",
       "    <tr>\n",
       "      <td>70</td>\n",
       "      <td>1</td>\n",
       "      <td>36</td>\n",
       "      <td>1</td>\n",
       "      <td>3</td>\n",
       "      <td>60</td>\n",
       "      <td>1</td>\n",
       "      <td>2.435819</td>\n",
       "      <td>20</td>\n",
       "      <td>33</td>\n",
       "    </tr>\n",
       "    <tr>\n",
       "      <td>72</td>\n",
       "      <td>1</td>\n",
       "      <td>37</td>\n",
       "      <td>1</td>\n",
       "      <td>2</td>\n",
       "      <td>30</td>\n",
       "      <td>1</td>\n",
       "      <td>1.870987</td>\n",
       "      <td>21</td>\n",
       "      <td>34</td>\n",
       "    </tr>\n",
       "    <tr>\n",
       "      <td>74</td>\n",
       "      <td>1</td>\n",
       "      <td>38</td>\n",
       "      <td>1</td>\n",
       "      <td>2</td>\n",
       "      <td>30</td>\n",
       "      <td>0</td>\n",
       "      <td>1.646839</td>\n",
       "      <td>21</td>\n",
       "      <td>35</td>\n",
       "    </tr>\n",
       "    <tr>\n",
       "      <td>76</td>\n",
       "      <td>1</td>\n",
       "      <td>39</td>\n",
       "      <td>1</td>\n",
       "      <td>2</td>\n",
       "      <td>30</td>\n",
       "      <td>0</td>\n",
       "      <td>1.419505</td>\n",
       "      <td>21</td>\n",
       "      <td>36</td>\n",
       "    </tr>\n",
       "    <tr>\n",
       "      <td>78</td>\n",
       "      <td>1</td>\n",
       "      <td>40</td>\n",
       "      <td>1</td>\n",
       "      <td>2</td>\n",
       "      <td>30</td>\n",
       "      <td>0</td>\n",
       "      <td>2.011336</td>\n",
       "      <td>21</td>\n",
       "      <td>37</td>\n",
       "    </tr>\n",
       "  </tbody>\n",
       "</table>\n",
       "</div>"
      ],
      "text/plain": [
       "    game number  trial  player  arm  probability  reward      time  P1 score  \\\n",
       "20            1     11       1    3           60       0  2.506092         5   \n",
       "22            1     12       1    3           60       1  2.129512         6   \n",
       "24            1     13       1    3           60       1  2.859897         7   \n",
       "26            1     14       1    1           90       1  2.659386         8   \n",
       "28            1     15       1    3           60       1  2.522157         9   \n",
       "30            1     16       1    3           60       1  2.403007        10   \n",
       "32            1     17       1    2           30       0  2.331370        10   \n",
       "34            1     18       1    2           30       1  1.615854        11   \n",
       "36            1     19       1    3           60       0  2.721275        11   \n",
       "38            1     20       1    3           60       1  1.528131        12   \n",
       "40            1     21       1    1           90       1  2.266084        13   \n",
       "42            1     22       1    3           60       0  1.921934        13   \n",
       "44            1     23       1    3           60       0  1.533652        13   \n",
       "46            1     24       1    3           60       1  2.955235        14   \n",
       "48            1     25       1    2           30       0  1.914423        14   \n",
       "50            1     26       1    2           30       0  1.888488        14   \n",
       "52            1     27       1    2           30       0  1.781107        14   \n",
       "54            1     28       1    3           60       0  1.519401        14   \n",
       "56            1     29       1    3           60       1  1.473959        15   \n",
       "58            1     30       1    1           90       1  2.289316        16   \n",
       "60            1     31       1    2           30       1  1.681350        17   \n",
       "62            1     32       1    2           30       0  2.000399        17   \n",
       "64            1     33       1    2           30       1  1.555528        18   \n",
       "66            1     34       1    1           90       1  1.569532        19   \n",
       "68            1     35       1    3           60       0  1.777362        19   \n",
       "70            1     36       1    3           60       1  2.435819        20   \n",
       "72            1     37       1    2           30       1  1.870987        21   \n",
       "74            1     38       1    2           30       0  1.646839        21   \n",
       "76            1     39       1    2           30       0  1.419505        21   \n",
       "78            1     40       1    2           30       0  2.011336        21   \n",
       "\n",
       "    P2 score  \n",
       "20        10  \n",
       "22        11  \n",
       "24        12  \n",
       "26        13  \n",
       "28        14  \n",
       "30        15  \n",
       "32        16  \n",
       "34        17  \n",
       "36        18  \n",
       "38        19  \n",
       "40        20  \n",
       "42        21  \n",
       "44        22  \n",
       "46        23  \n",
       "48        24  \n",
       "50        25  \n",
       "52        26  \n",
       "54        26  \n",
       "56        27  \n",
       "58        28  \n",
       "60        29  \n",
       "62        30  \n",
       "64        31  \n",
       "66        32  \n",
       "68        32  \n",
       "70        33  \n",
       "72        34  \n",
       "74        35  \n",
       "76        36  \n",
       "78        37  "
      ]
     },
     "execution_count": 37,
     "metadata": {},
     "output_type": "execute_result"
    }
   ],
   "source": [
    "s01_p1_g1"
   ]
  },
  {
   "cell_type": "code",
   "execution_count": 38,
   "metadata": {},
   "outputs": [
    {
     "data": {
      "text/html": [
       "<div>\n",
       "<style scoped>\n",
       "    .dataframe tbody tr th:only-of-type {\n",
       "        vertical-align: middle;\n",
       "    }\n",
       "\n",
       "    .dataframe tbody tr th {\n",
       "        vertical-align: top;\n",
       "    }\n",
       "\n",
       "    .dataframe thead th {\n",
       "        text-align: right;\n",
       "    }\n",
       "</style>\n",
       "<table border=\"1\" class=\"dataframe\">\n",
       "  <thead>\n",
       "    <tr style=\"text-align: right;\">\n",
       "      <th></th>\n",
       "      <th>game number</th>\n",
       "      <th>trial</th>\n",
       "      <th>player</th>\n",
       "      <th>arm</th>\n",
       "      <th>probability</th>\n",
       "      <th>reward</th>\n",
       "      <th>time</th>\n",
       "      <th>P1 score</th>\n",
       "      <th>P2 score</th>\n",
       "    </tr>\n",
       "  </thead>\n",
       "  <tbody>\n",
       "    <tr>\n",
       "      <td>220</td>\n",
       "      <td>2</td>\n",
       "      <td>11</td>\n",
       "      <td>1</td>\n",
       "      <td>3</td>\n",
       "      <td>30</td>\n",
       "      <td>0</td>\n",
       "      <td>2.537525</td>\n",
       "      <td>7</td>\n",
       "      <td>8</td>\n",
       "    </tr>\n",
       "    <tr>\n",
       "      <td>222</td>\n",
       "      <td>2</td>\n",
       "      <td>12</td>\n",
       "      <td>1</td>\n",
       "      <td>3</td>\n",
       "      <td>30</td>\n",
       "      <td>0</td>\n",
       "      <td>3.240973</td>\n",
       "      <td>7</td>\n",
       "      <td>9</td>\n",
       "    </tr>\n",
       "    <tr>\n",
       "      <td>224</td>\n",
       "      <td>2</td>\n",
       "      <td>13</td>\n",
       "      <td>1</td>\n",
       "      <td>2</td>\n",
       "      <td>90</td>\n",
       "      <td>1</td>\n",
       "      <td>3.199889</td>\n",
       "      <td>8</td>\n",
       "      <td>10</td>\n",
       "    </tr>\n",
       "    <tr>\n",
       "      <td>226</td>\n",
       "      <td>2</td>\n",
       "      <td>14</td>\n",
       "      <td>1</td>\n",
       "      <td>1</td>\n",
       "      <td>60</td>\n",
       "      <td>1</td>\n",
       "      <td>3.057177</td>\n",
       "      <td>9</td>\n",
       "      <td>11</td>\n",
       "    </tr>\n",
       "    <tr>\n",
       "      <td>228</td>\n",
       "      <td>2</td>\n",
       "      <td>15</td>\n",
       "      <td>1</td>\n",
       "      <td>2</td>\n",
       "      <td>90</td>\n",
       "      <td>1</td>\n",
       "      <td>2.776664</td>\n",
       "      <td>10</td>\n",
       "      <td>12</td>\n",
       "    </tr>\n",
       "    <tr>\n",
       "      <td>230</td>\n",
       "      <td>2</td>\n",
       "      <td>16</td>\n",
       "      <td>1</td>\n",
       "      <td>3</td>\n",
       "      <td>30</td>\n",
       "      <td>1</td>\n",
       "      <td>3.064561</td>\n",
       "      <td>11</td>\n",
       "      <td>13</td>\n",
       "    </tr>\n",
       "    <tr>\n",
       "      <td>232</td>\n",
       "      <td>2</td>\n",
       "      <td>17</td>\n",
       "      <td>1</td>\n",
       "      <td>2</td>\n",
       "      <td>90</td>\n",
       "      <td>1</td>\n",
       "      <td>3.593238</td>\n",
       "      <td>12</td>\n",
       "      <td>14</td>\n",
       "    </tr>\n",
       "    <tr>\n",
       "      <td>234</td>\n",
       "      <td>2</td>\n",
       "      <td>18</td>\n",
       "      <td>1</td>\n",
       "      <td>2</td>\n",
       "      <td>90</td>\n",
       "      <td>1</td>\n",
       "      <td>2.927821</td>\n",
       "      <td>13</td>\n",
       "      <td>15</td>\n",
       "    </tr>\n",
       "    <tr>\n",
       "      <td>236</td>\n",
       "      <td>2</td>\n",
       "      <td>19</td>\n",
       "      <td>1</td>\n",
       "      <td>3</td>\n",
       "      <td>30</td>\n",
       "      <td>0</td>\n",
       "      <td>2.778097</td>\n",
       "      <td>13</td>\n",
       "      <td>16</td>\n",
       "    </tr>\n",
       "    <tr>\n",
       "      <td>238</td>\n",
       "      <td>2</td>\n",
       "      <td>20</td>\n",
       "      <td>1</td>\n",
       "      <td>1</td>\n",
       "      <td>60</td>\n",
       "      <td>0</td>\n",
       "      <td>2.553147</td>\n",
       "      <td>13</td>\n",
       "      <td>17</td>\n",
       "    </tr>\n",
       "    <tr>\n",
       "      <td>240</td>\n",
       "      <td>2</td>\n",
       "      <td>21</td>\n",
       "      <td>1</td>\n",
       "      <td>2</td>\n",
       "      <td>90</td>\n",
       "      <td>1</td>\n",
       "      <td>2.775883</td>\n",
       "      <td>14</td>\n",
       "      <td>18</td>\n",
       "    </tr>\n",
       "    <tr>\n",
       "      <td>242</td>\n",
       "      <td>2</td>\n",
       "      <td>22</td>\n",
       "      <td>1</td>\n",
       "      <td>3</td>\n",
       "      <td>30</td>\n",
       "      <td>1</td>\n",
       "      <td>3.330906</td>\n",
       "      <td>15</td>\n",
       "      <td>19</td>\n",
       "    </tr>\n",
       "    <tr>\n",
       "      <td>244</td>\n",
       "      <td>2</td>\n",
       "      <td>23</td>\n",
       "      <td>1</td>\n",
       "      <td>3</td>\n",
       "      <td>30</td>\n",
       "      <td>1</td>\n",
       "      <td>3.048250</td>\n",
       "      <td>16</td>\n",
       "      <td>20</td>\n",
       "    </tr>\n",
       "    <tr>\n",
       "      <td>246</td>\n",
       "      <td>2</td>\n",
       "      <td>24</td>\n",
       "      <td>1</td>\n",
       "      <td>3</td>\n",
       "      <td>30</td>\n",
       "      <td>0</td>\n",
       "      <td>2.736499</td>\n",
       "      <td>16</td>\n",
       "      <td>21</td>\n",
       "    </tr>\n",
       "    <tr>\n",
       "      <td>248</td>\n",
       "      <td>2</td>\n",
       "      <td>25</td>\n",
       "      <td>1</td>\n",
       "      <td>2</td>\n",
       "      <td>90</td>\n",
       "      <td>1</td>\n",
       "      <td>3.289048</td>\n",
       "      <td>17</td>\n",
       "      <td>22</td>\n",
       "    </tr>\n",
       "    <tr>\n",
       "      <td>250</td>\n",
       "      <td>2</td>\n",
       "      <td>26</td>\n",
       "      <td>1</td>\n",
       "      <td>2</td>\n",
       "      <td>90</td>\n",
       "      <td>1</td>\n",
       "      <td>3.087186</td>\n",
       "      <td>18</td>\n",
       "      <td>23</td>\n",
       "    </tr>\n",
       "    <tr>\n",
       "      <td>252</td>\n",
       "      <td>2</td>\n",
       "      <td>27</td>\n",
       "      <td>1</td>\n",
       "      <td>2</td>\n",
       "      <td>90</td>\n",
       "      <td>1</td>\n",
       "      <td>3.257419</td>\n",
       "      <td>19</td>\n",
       "      <td>24</td>\n",
       "    </tr>\n",
       "    <tr>\n",
       "      <td>254</td>\n",
       "      <td>2</td>\n",
       "      <td>28</td>\n",
       "      <td>1</td>\n",
       "      <td>3</td>\n",
       "      <td>30</td>\n",
       "      <td>1</td>\n",
       "      <td>2.927100</td>\n",
       "      <td>20</td>\n",
       "      <td>25</td>\n",
       "    </tr>\n",
       "    <tr>\n",
       "      <td>256</td>\n",
       "      <td>2</td>\n",
       "      <td>29</td>\n",
       "      <td>1</td>\n",
       "      <td>2</td>\n",
       "      <td>90</td>\n",
       "      <td>1</td>\n",
       "      <td>3.610209</td>\n",
       "      <td>21</td>\n",
       "      <td>26</td>\n",
       "    </tr>\n",
       "    <tr>\n",
       "      <td>258</td>\n",
       "      <td>2</td>\n",
       "      <td>30</td>\n",
       "      <td>1</td>\n",
       "      <td>1</td>\n",
       "      <td>60</td>\n",
       "      <td>1</td>\n",
       "      <td>3.711964</td>\n",
       "      <td>22</td>\n",
       "      <td>27</td>\n",
       "    </tr>\n",
       "    <tr>\n",
       "      <td>260</td>\n",
       "      <td>2</td>\n",
       "      <td>31</td>\n",
       "      <td>1</td>\n",
       "      <td>2</td>\n",
       "      <td>90</td>\n",
       "      <td>1</td>\n",
       "      <td>3.432564</td>\n",
       "      <td>23</td>\n",
       "      <td>28</td>\n",
       "    </tr>\n",
       "    <tr>\n",
       "      <td>262</td>\n",
       "      <td>2</td>\n",
       "      <td>32</td>\n",
       "      <td>1</td>\n",
       "      <td>2</td>\n",
       "      <td>90</td>\n",
       "      <td>1</td>\n",
       "      <td>2.758852</td>\n",
       "      <td>24</td>\n",
       "      <td>29</td>\n",
       "    </tr>\n",
       "    <tr>\n",
       "      <td>264</td>\n",
       "      <td>2</td>\n",
       "      <td>33</td>\n",
       "      <td>1</td>\n",
       "      <td>3</td>\n",
       "      <td>30</td>\n",
       "      <td>0</td>\n",
       "      <td>2.786462</td>\n",
       "      <td>24</td>\n",
       "      <td>30</td>\n",
       "    </tr>\n",
       "    <tr>\n",
       "      <td>266</td>\n",
       "      <td>2</td>\n",
       "      <td>34</td>\n",
       "      <td>1</td>\n",
       "      <td>3</td>\n",
       "      <td>30</td>\n",
       "      <td>0</td>\n",
       "      <td>2.672267</td>\n",
       "      <td>24</td>\n",
       "      <td>31</td>\n",
       "    </tr>\n",
       "    <tr>\n",
       "      <td>268</td>\n",
       "      <td>2</td>\n",
       "      <td>35</td>\n",
       "      <td>1</td>\n",
       "      <td>3</td>\n",
       "      <td>30</td>\n",
       "      <td>1</td>\n",
       "      <td>2.912802</td>\n",
       "      <td>25</td>\n",
       "      <td>32</td>\n",
       "    </tr>\n",
       "    <tr>\n",
       "      <td>270</td>\n",
       "      <td>2</td>\n",
       "      <td>36</td>\n",
       "      <td>1</td>\n",
       "      <td>2</td>\n",
       "      <td>90</td>\n",
       "      <td>1</td>\n",
       "      <td>3.201111</td>\n",
       "      <td>26</td>\n",
       "      <td>32</td>\n",
       "    </tr>\n",
       "    <tr>\n",
       "      <td>272</td>\n",
       "      <td>2</td>\n",
       "      <td>37</td>\n",
       "      <td>1</td>\n",
       "      <td>3</td>\n",
       "      <td>30</td>\n",
       "      <td>0</td>\n",
       "      <td>2.818094</td>\n",
       "      <td>26</td>\n",
       "      <td>33</td>\n",
       "    </tr>\n",
       "    <tr>\n",
       "      <td>274</td>\n",
       "      <td>2</td>\n",
       "      <td>38</td>\n",
       "      <td>1</td>\n",
       "      <td>3</td>\n",
       "      <td>30</td>\n",
       "      <td>0</td>\n",
       "      <td>2.785189</td>\n",
       "      <td>26</td>\n",
       "      <td>34</td>\n",
       "    </tr>\n",
       "    <tr>\n",
       "      <td>276</td>\n",
       "      <td>2</td>\n",
       "      <td>39</td>\n",
       "      <td>1</td>\n",
       "      <td>1</td>\n",
       "      <td>60</td>\n",
       "      <td>0</td>\n",
       "      <td>2.888673</td>\n",
       "      <td>26</td>\n",
       "      <td>35</td>\n",
       "    </tr>\n",
       "    <tr>\n",
       "      <td>278</td>\n",
       "      <td>2</td>\n",
       "      <td>40</td>\n",
       "      <td>1</td>\n",
       "      <td>2</td>\n",
       "      <td>90</td>\n",
       "      <td>1</td>\n",
       "      <td>2.807095</td>\n",
       "      <td>27</td>\n",
       "      <td>35</td>\n",
       "    </tr>\n",
       "  </tbody>\n",
       "</table>\n",
       "</div>"
      ],
      "text/plain": [
       "     game number  trial  player  arm  probability  reward      time  P1 score  \\\n",
       "220            2     11       1    3           30       0  2.537525         7   \n",
       "222            2     12       1    3           30       0  3.240973         7   \n",
       "224            2     13       1    2           90       1  3.199889         8   \n",
       "226            2     14       1    1           60       1  3.057177         9   \n",
       "228            2     15       1    2           90       1  2.776664        10   \n",
       "230            2     16       1    3           30       1  3.064561        11   \n",
       "232            2     17       1    2           90       1  3.593238        12   \n",
       "234            2     18       1    2           90       1  2.927821        13   \n",
       "236            2     19       1    3           30       0  2.778097        13   \n",
       "238            2     20       1    1           60       0  2.553147        13   \n",
       "240            2     21       1    2           90       1  2.775883        14   \n",
       "242            2     22       1    3           30       1  3.330906        15   \n",
       "244            2     23       1    3           30       1  3.048250        16   \n",
       "246            2     24       1    3           30       0  2.736499        16   \n",
       "248            2     25       1    2           90       1  3.289048        17   \n",
       "250            2     26       1    2           90       1  3.087186        18   \n",
       "252            2     27       1    2           90       1  3.257419        19   \n",
       "254            2     28       1    3           30       1  2.927100        20   \n",
       "256            2     29       1    2           90       1  3.610209        21   \n",
       "258            2     30       1    1           60       1  3.711964        22   \n",
       "260            2     31       1    2           90       1  3.432564        23   \n",
       "262            2     32       1    2           90       1  2.758852        24   \n",
       "264            2     33       1    3           30       0  2.786462        24   \n",
       "266            2     34       1    3           30       0  2.672267        24   \n",
       "268            2     35       1    3           30       1  2.912802        25   \n",
       "270            2     36       1    2           90       1  3.201111        26   \n",
       "272            2     37       1    3           30       0  2.818094        26   \n",
       "274            2     38       1    3           30       0  2.785189        26   \n",
       "276            2     39       1    1           60       0  2.888673        26   \n",
       "278            2     40       1    2           90       1  2.807095        27   \n",
       "\n",
       "     P2 score  \n",
       "220         8  \n",
       "222         9  \n",
       "224        10  \n",
       "226        11  \n",
       "228        12  \n",
       "230        13  \n",
       "232        14  \n",
       "234        15  \n",
       "236        16  \n",
       "238        17  \n",
       "240        18  \n",
       "242        19  \n",
       "244        20  \n",
       "246        21  \n",
       "248        22  \n",
       "250        23  \n",
       "252        24  \n",
       "254        25  \n",
       "256        26  \n",
       "258        27  \n",
       "260        28  \n",
       "262        29  \n",
       "264        30  \n",
       "266        31  \n",
       "268        32  \n",
       "270        32  \n",
       "272        33  \n",
       "274        34  \n",
       "276        35  \n",
       "278        35  "
      ]
     },
     "execution_count": 38,
     "metadata": {},
     "output_type": "execute_result"
    }
   ],
   "source": [
    "s01_p1_g2\n"
   ]
  },
  {
   "cell_type": "code",
   "execution_count": 39,
   "metadata": {},
   "outputs": [],
   "source": [
    "'''Here we count the number of times that each hole was selected by each subject in each game by calling value_counts'''\n",
    "\n",
    "\n",
    "s01_p1_g1_count = s01_p1_g1['probability'].value_counts(sort=False)\n",
    "s01_p1_g2_count = s01_p1_g2['probability'].value_counts(sort=False)\n",
    "s03_p1_g1_count = s03_p1_g1['probability'].value_counts(sort=False)\n",
    "s03_p1_g2_count = s03_p1_g2['probability'].value_counts(sort=False)\n",
    "s05_p1_g1_count = s05_p1_g1['probability'].value_counts(sort=False)\n",
    "s05_p1_g2_count = s05_p1_g2['probability'].value_counts(sort=False)\n",
    "s06_p1_g1_count = s06_p1_g1['probability'].value_counts(sort=False)\n",
    "s06_p1_g2_count = s06_p1_g2['probability'].value_counts(sort=False)\n",
    "s07_p1_g1_count = s07_p1_g1['probability'].value_counts(sort=False)\n",
    "s07_p1_g2_count = s07_p1_g2['probability'].value_counts(sort=False)\n",
    "s08_p1_g1_count = s08_p1_g1['probability'].value_counts(sort=False)\n",
    "s08_p1_g2_count = s08_p1_g2['probability'].value_counts(sort=False)\n",
    "s09_p1_g1_count = s09_p1_g1['probability'].value_counts(sort=False)\n",
    "s09_p1_g2_count = s09_p1_g2['probability'].value_counts(sort=False)\n",
    "s11_p1_g1_count = s11_p1_g1['probability'].value_counts(sort=False)\n",
    "s11_p1_g2_count = s11_p1_g2['probability'].value_counts(sort=False)\n",
    "s12_p1_g1_count = s12_p1_g1['probability'].value_counts(sort=False)\n",
    "s12_p1_g2_count = s12_p1_g2['probability'].value_counts(sort=False)\n",
    "s14_p1_g1_count = s14_p1_g1['probability'].value_counts(sort=False)\n",
    "s14_p1_g2_count = s14_p1_g2['probability'].value_counts(sort=False)\n",
    "s15_p1_g1_count = s15_p1_g1['probability'].value_counts(sort=False)\n",
    "s15_p1_g2_count = s15_p1_g2['probability'].value_counts(sort=False)\n",
    "s16_p1_g1_count = s16_p1_g1['probability'].value_counts(sort=False)\n",
    "s16_p1_g2_count = s16_p1_g2['probability'].value_counts(sort=False)\n",
    "s17_p1_g1_count = s17_p1_g1['probability'].value_counts(sort=False)\n",
    "s17_p1_g2_count = s17_p1_g2['probability'].value_counts(sort=False)\n",
    "s19_p1_g1_count = s19_p1_g1['probability'].value_counts(sort=False)\n",
    "s19_p1_g2_count = s19_p1_g2['probability'].value_counts(sort=False)\n",
    "s20_p1_g1_count = s20_p1_g1['probability'].value_counts(sort=False)\n",
    "s20_p1_g2_count = s20_p1_g2['probability'].value_counts(sort=False)"
   ]
  },
  {
   "cell_type": "code",
   "execution_count": 40,
   "metadata": {},
   "outputs": [
    {
     "data": {
      "text/plain": [
       "90     4\n",
       "60    14\n",
       "30    12\n",
       "Name: probability, dtype: int64"
      ]
     },
     "execution_count": 40,
     "metadata": {},
     "output_type": "execute_result"
    }
   ],
   "source": [
    "#SMAB3 CONTROL COUNTS\n",
    "s01_p1_g1_count"
   ]
  },
  {
   "cell_type": "code",
   "execution_count": 41,
   "metadata": {},
   "outputs": [
    {
     "data": {
      "text/plain": [
       "90    13\n",
       "60     4\n",
       "30    13\n",
       "Name: probability, dtype: int64"
      ]
     },
     "execution_count": 41,
     "metadata": {},
     "output_type": "execute_result"
    }
   ],
   "source": [
    "s01_p1_g2_count"
   ]
  },
  {
   "cell_type": "code",
   "execution_count": 42,
   "metadata": {},
   "outputs": [
    {
     "data": {
      "text/html": [
       "<div>\n",
       "<style scoped>\n",
       "    .dataframe tbody tr th:only-of-type {\n",
       "        vertical-align: middle;\n",
       "    }\n",
       "\n",
       "    .dataframe tbody tr th {\n",
       "        vertical-align: top;\n",
       "    }\n",
       "\n",
       "    .dataframe thead th {\n",
       "        text-align: right;\n",
       "    }\n",
       "</style>\n",
       "<table border=\"1\" class=\"dataframe\">\n",
       "  <thead>\n",
       "    <tr style=\"text-align: right;\">\n",
       "      <th></th>\n",
       "      <th>30.0</th>\n",
       "      <th>60.0</th>\n",
       "      <th>90.0</th>\n",
       "    </tr>\n",
       "  </thead>\n",
       "  <tbody>\n",
       "    <tr>\n",
       "      <td>s01_p1_g1_count</td>\n",
       "      <td>12.0</td>\n",
       "      <td>14.0</td>\n",
       "      <td>4.0</td>\n",
       "    </tr>\n",
       "    <tr>\n",
       "      <td>s03_p1_g1_count</td>\n",
       "      <td>9.0</td>\n",
       "      <td>11.0</td>\n",
       "      <td>10.0</td>\n",
       "    </tr>\n",
       "    <tr>\n",
       "      <td>s05_p1_g1_count</td>\n",
       "      <td>0.0</td>\n",
       "      <td>0.0</td>\n",
       "      <td>30.0</td>\n",
       "    </tr>\n",
       "    <tr>\n",
       "      <td>s06_p1_g1_count</td>\n",
       "      <td>1.0</td>\n",
       "      <td>0.0</td>\n",
       "      <td>29.0</td>\n",
       "    </tr>\n",
       "    <tr>\n",
       "      <td>s07_p1_g1_count</td>\n",
       "      <td>10.0</td>\n",
       "      <td>11.0</td>\n",
       "      <td>9.0</td>\n",
       "    </tr>\n",
       "    <tr>\n",
       "      <td>s08_p1_g1_count</td>\n",
       "      <td>0.0</td>\n",
       "      <td>0.0</td>\n",
       "      <td>30.0</td>\n",
       "    </tr>\n",
       "    <tr>\n",
       "      <td>s09_p1_g1_count</td>\n",
       "      <td>9.0</td>\n",
       "      <td>9.0</td>\n",
       "      <td>12.0</td>\n",
       "    </tr>\n",
       "    <tr>\n",
       "      <td>s11_p1_g1_count</td>\n",
       "      <td>11.0</td>\n",
       "      <td>8.0</td>\n",
       "      <td>11.0</td>\n",
       "    </tr>\n",
       "    <tr>\n",
       "      <td>s12_p1_g1_count</td>\n",
       "      <td>4.0</td>\n",
       "      <td>14.0</td>\n",
       "      <td>12.0</td>\n",
       "    </tr>\n",
       "    <tr>\n",
       "      <td>s14_p1_g1_count</td>\n",
       "      <td>2.0</td>\n",
       "      <td>1.0</td>\n",
       "      <td>27.0</td>\n",
       "    </tr>\n",
       "    <tr>\n",
       "      <td>s15_p1_g1_count</td>\n",
       "      <td>7.0</td>\n",
       "      <td>3.0</td>\n",
       "      <td>20.0</td>\n",
       "    </tr>\n",
       "    <tr>\n",
       "      <td>s16_p1_g1_count</td>\n",
       "      <td>9.0</td>\n",
       "      <td>11.0</td>\n",
       "      <td>10.0</td>\n",
       "    </tr>\n",
       "    <tr>\n",
       "      <td>s17_p1_g1_count</td>\n",
       "      <td>1.0</td>\n",
       "      <td>1.0</td>\n",
       "      <td>28.0</td>\n",
       "    </tr>\n",
       "    <tr>\n",
       "      <td>s19_p1_g1_count</td>\n",
       "      <td>8.0</td>\n",
       "      <td>13.0</td>\n",
       "      <td>9.0</td>\n",
       "    </tr>\n",
       "    <tr>\n",
       "      <td>s20_p1_g1_count</td>\n",
       "      <td>8.0</td>\n",
       "      <td>13.0</td>\n",
       "      <td>9.0</td>\n",
       "    </tr>\n",
       "  </tbody>\n",
       "</table>\n",
       "</div>"
      ],
      "text/plain": [
       "                 30.0  60.0  90.0\n",
       "s01_p1_g1_count  12.0  14.0   4.0\n",
       "s03_p1_g1_count   9.0  11.0  10.0\n",
       "s05_p1_g1_count   0.0   0.0  30.0\n",
       "s06_p1_g1_count   1.0   0.0  29.0\n",
       "s07_p1_g1_count  10.0  11.0   9.0\n",
       "s08_p1_g1_count   0.0   0.0  30.0\n",
       "s09_p1_g1_count   9.0   9.0  12.0\n",
       "s11_p1_g1_count  11.0   8.0  11.0\n",
       "s12_p1_g1_count   4.0  14.0  12.0\n",
       "s14_p1_g1_count   2.0   1.0  27.0\n",
       "s15_p1_g1_count   7.0   3.0  20.0\n",
       "s16_p1_g1_count   9.0  11.0  10.0\n",
       "s17_p1_g1_count   1.0   1.0  28.0\n",
       "s19_p1_g1_count   8.0  13.0   9.0\n",
       "s20_p1_g1_count   8.0  13.0   9.0"
      ]
     },
     "execution_count": 42,
     "metadata": {},
     "output_type": "execute_result"
    }
   ],
   "source": [
    "'''Here we create dataframes with the counts for game 1.'''\n",
    "\n",
    "s_g1_counts = pd.DataFrame([s01_p1_g1_count, s03_p1_g1_count, s05_p1_g1_count, s06_p1_g1_count, s07_p1_g1_count, \n",
    "                s08_p1_g1_count, s09_p1_g1_count, s11_p1_g1_count, s12_p1_g1_count,s14_p1_g1_count, s15_p1_g1_count, s16_p1_g1_count,\n",
    "                    s17_p1_g1_count, s19_p1_g1_count, s20_p1_g1_count],\n",
    "                          index=['s01_p1_g1_count', 's03_p1_g1_count', \n",
    "                            's05_p1_g1_count', 's06_p1_g1_count', 's07_p1_g1_count', 's08_p1_g1_count', \n",
    "                                 's09_p1_g1_count', 's11_p1_g1_count', 's12_p1_g1_count','s14_p1_g1_count', 's15_p1_g1_count', \n",
    "                                 's16_p1_g1_count','s17_p1_g1_count', 's19_p1_g1_count', 's20_p1_g1_count'])\n",
    "\n",
    "\n",
    "\n",
    "\n",
    "#How to prevent NaN: df = df.fillna(0). This makes the value 0 if a hole was never selected by a subject.\n",
    "s_g1_counts = s_g1_counts.fillna(0)\n",
    "\n",
    "#print\n",
    "s_g1_counts"
   ]
  },
  {
   "cell_type": "code",
   "execution_count": 43,
   "metadata": {},
   "outputs": [
    {
     "data": {
      "text/plain": [
       "s01_p1_g1_count    30.0\n",
       "s03_p1_g1_count    30.0\n",
       "s05_p1_g1_count    30.0\n",
       "s06_p1_g1_count    30.0\n",
       "s07_p1_g1_count    30.0\n",
       "s08_p1_g1_count    30.0\n",
       "s09_p1_g1_count    30.0\n",
       "s11_p1_g1_count    30.0\n",
       "s12_p1_g1_count    30.0\n",
       "s14_p1_g1_count    30.0\n",
       "s15_p1_g1_count    30.0\n",
       "s16_p1_g1_count    30.0\n",
       "s17_p1_g1_count    30.0\n",
       "s19_p1_g1_count    30.0\n",
       "s20_p1_g1_count    30.0\n",
       "dtype: float64"
      ]
     },
     "execution_count": 43,
     "metadata": {},
     "output_type": "execute_result"
    }
   ],
   "source": [
    "s_g1_counts.sum(axis=1)"
   ]
  },
  {
   "cell_type": "code",
   "execution_count": 44,
   "metadata": {},
   "outputs": [
    {
     "data": {
      "image/png": "[encoded data removed]",
      "text/plain": [
       "<Figure size 432x288 with 1 Axes>"
      ]
     },
     "metadata": {
      "needs_background": "light"
     },
     "output_type": "display_data"
    }
   ],
   "source": [
    "#Here we plot the value counts\n",
    "\n",
    "s_g1_counts.sum(axis=1)\n",
    "\n",
    "\n",
    "s_g1_counts_bar = s_g1_counts.plot.bar()\n",
    "\n",
    "s_g1_counts_bar.axes.set_title(\"SMAB3 Control Choice Distributions in Game 1\",\n",
    "                    fontsize=16)\n",
    "\n",
    "# save as jpeg\n",
    "s_g1_counts_bar.figure.savefig(\"s_g1_counts_bar.jpg\",\n",
    "                    format='jpeg')"
   ]
  },
  {
   "cell_type": "code",
   "execution_count": 262,
   "metadata": {},
   "outputs": [
    {
     "data": {
      "image/png": "[encoded data removed]",
      "text/plain": [
       "<Figure size 432x288 with 1 Axes>"
      ]
     },
     "metadata": {},
     "output_type": "display_data"
    }
   ],
   "source": [
    "s_g1_counts_box = sns.boxplot( \n",
    "                 data=s_g1_counts, \n",
    "                 width=0.5,\n",
    "                 palette=\"pastel\")\n",
    "s_g1_counts_box.axes.set_title(\"Control Choice Distributions in Game 1\",\n",
    "                    fontsize=16)\n",
    "\n",
    "plot_file_name=\"s_g1_counts_box.jpg\"\n",
    " \n",
    "plt.ylim(0, 100)\n",
    "s_g1_counts_box.axes.set(xlabel='Arm',ylabel='Frequency')\n",
    "\n",
    "# save as jpeg\n",
    "s_g1_counts_box.figure.savefig(plot_file_name,\n",
    "                    format='jpeg')"
   ]
  },
  {
   "cell_type": "code",
   "execution_count": 46,
   "metadata": {},
   "outputs": [],
   "source": [
    "'''Here we get the mean and standard deviation of the number of selections of each hole where low is the 0th column and the 30% hole, \n",
    "med is the 1st column and the 60% hole, and high is the 2nd column and the 90% hole.'''\n",
    "\n",
    "\n",
    "s_g1_low = np.mean(s_g1_counts.iloc[:,0])\n",
    "s_g1_med = np.mean(s_g1_counts.iloc[:,1])\n",
    "s_g1_high = np.mean(s_g1_counts.iloc[:,2])\n",
    "\n",
    "\n",
    "s_g1_low_std = np.std(s_g1_counts.iloc[:,0])\n",
    "s_g1_med_std = np.std(s_g1_counts.iloc[:,1])\n",
    "s_g1_high_std = np.std(s_g1_counts.iloc[:,2])"
   ]
  },
  {
   "cell_type": "code",
   "execution_count": 47,
   "metadata": {},
   "outputs": [
    {
     "data": {
      "text/plain": [
       "(6.066666666666666, 7.266666666666667, 16.666666666666668)"
      ]
     },
     "execution_count": 47,
     "metadata": {},
     "output_type": "execute_result"
    }
   ],
   "source": [
    "s_g1_low, s_g1_med, s_g1_high"
   ]
  },
  {
   "cell_type": "code",
   "execution_count": 48,
   "metadata": {},
   "outputs": [
    {
     "data": {
      "text/plain": [
       "(4.122566622330749, 5.519259209551788, 9.148163142887697)"
      ]
     },
     "execution_count": 48,
     "metadata": {},
     "output_type": "execute_result"
    }
   ],
   "source": [
    " s_g1_low_std, s_g1_med_std, s_g1_high_std"
   ]
  },
  {
   "cell_type": "code",
   "execution_count": 49,
   "metadata": {},
   "outputs": [
    {
     "data": {
      "text/plain": [
       "s01_p1_g2_count    30.0\n",
       "s03_p1_g2_count    30.0\n",
       "s05_p1_g2_count    30.0\n",
       "s06_p1_g2_count    30.0\n",
       "s07_p1_g2_count    30.0\n",
       "s08_p1_g2_count    30.0\n",
       "s09_p1_g2_count    30.0\n",
       "s11_p1_g2_count    30.0\n",
       "s12_p1_g2_count    30.0\n",
       "s14_p1_g2_count    30.0\n",
       "s15_p1_g2_count    30.0\n",
       "s16_p1_g2_count    30.0\n",
       "s17_p1_g2_count    30.0\n",
       "s19_p1_g2_count    30.0\n",
       "s20_p1_g2_count    30.0\n",
       "dtype: float64"
      ]
     },
     "execution_count": 49,
     "metadata": {},
     "output_type": "execute_result"
    }
   ],
   "source": [
    "'''Here we create dataframes with the counts for game 2.'''\n",
    "\n",
    "\n",
    "s_g2_counts = pd.DataFrame([s01_p1_g2_count, s03_p1_g2_count, \n",
    "                            s05_p1_g2_count, s06_p1_g2_count, s07_p1_g2_count, s08_p1_g2_count, s09_p1_g2_count, s11_p1_g2_count, s12_p1_g2_count, s14_p1_g2_count, s15_p1_g2_count, s16_p1_g2_count,\n",
    "                    s17_p1_g2_count, s19_p1_g2_count, s20_p1_g2_count],\n",
    "                             index= ['s01_p1_g2_count', 's03_p1_g2_count', 's05_p1_g2_count', 's06_p1_g2_count',\n",
    "                                 's07_p1_g2_count', 's08_p1_g2_count', 's09_p1_g2_count', 's11_p1_g2_count', 's12_p1_g2_count', 's14_p1_g2_count', 's15_p1_g2_count',\n",
    "                                 's16_p1_g2_count', 's17_p1_g2_count', 's19_p1_g2_count', 's20_p1_g2_count'])\n",
    "\n",
    "\n",
    "#How to prevent NaN: df = df.fillna(0)\n",
    "s_g2_counts = s_g2_counts.fillna(0)\n",
    "\n",
    "#print\n",
    "s_g2_counts\n",
    "\n",
    "s_g2_counts.sum(axis=1)"
   ]
  },
  {
   "cell_type": "code",
   "execution_count": 263,
   "metadata": {},
   "outputs": [
    {
     "data": {
      "image/png": "[encoded data removed]",
      "text/plain": [
       "<Figure size 432x288 with 1 Axes>"
      ]
     },
     "metadata": {},
     "output_type": "display_data"
    }
   ],
   "source": [
    "s_g2_counts_box = sns.boxplot( \n",
    "                 data=s_g2_counts, \n",
    "                 width=0.5,\n",
    "                 palette=\"pastel\")\n",
    "s_g2_counts_box.axes.set_title(\"SMAB3 Control Choice Distributions in Game 2\",\n",
    "                    fontsize=16)\n",
    "\n",
    "plot_file_name=\"s_g2_counts_box.jpg\"\n",
    "\n",
    "plt.ylim(0, 100)\n",
    "s_g2_counts_box.axes.set(xlabel='Arm',ylabel='Frequency')\n",
    "\n",
    "# save as jpeg\n",
    "s_g2_counts_box.figure.savefig(plot_file_name,\n",
    "                    format='jpeg')"
   ]
  },
  {
   "cell_type": "code",
   "execution_count": 51,
   "metadata": {},
   "outputs": [],
   "source": [
    "'''Here we get the mean and standard deviation of the number of times participants chose each hole.'''\n",
    "\n",
    "\n",
    "s_g1_low = np.mean(s_g1_counts.iloc[:,0])\n",
    "s_g1_med = np.mean(s_g1_counts.iloc[:,1])\n",
    "s_g1_high = np.mean(s_g1_counts.iloc[:,2])\n",
    "#s_g1_d_med = np.mean(s_g1_d_counts.iloc[:,1])\n",
    "\n"
   ]
  },
  {
   "cell_type": "code",
   "execution_count": 52,
   "metadata": {},
   "outputs": [
    {
     "data": {
      "text/plain": [
       "6.066666666666666"
      ]
     },
     "execution_count": 52,
     "metadata": {},
     "output_type": "execute_result"
    }
   ],
   "source": [
    "s_g1_low"
   ]
  },
  {
   "cell_type": "code",
   "execution_count": 53,
   "metadata": {},
   "outputs": [
    {
     "data": {
      "text/plain": [
       "7.266666666666667"
      ]
     },
     "execution_count": 53,
     "metadata": {},
     "output_type": "execute_result"
    }
   ],
   "source": [
    "s_g1_med"
   ]
  },
  {
   "cell_type": "code",
   "execution_count": 54,
   "metadata": {},
   "outputs": [
    {
     "data": {
      "text/plain": [
       "16.666666666666668"
      ]
     },
     "execution_count": 54,
     "metadata": {},
     "output_type": "execute_result"
    }
   ],
   "source": [
    "s_g1_high"
   ]
  },
  {
   "cell_type": "code",
   "execution_count": 55,
   "metadata": {},
   "outputs": [],
   "source": [
    "s_g1_low_std = np.std(s_g1_counts.iloc[:,0])\n",
    "s_g1_med_std = np.std(s_g1_counts.iloc[:,1])\n",
    "s_g1_high_std = np.std(s_g1_counts.iloc[:,2])"
   ]
  },
  {
   "cell_type": "code",
   "execution_count": 56,
   "metadata": {},
   "outputs": [
    {
     "data": {
      "text/plain": [
       "4.122566622330749"
      ]
     },
     "execution_count": 56,
     "metadata": {},
     "output_type": "execute_result"
    }
   ],
   "source": [
    "s_g1_low_std"
   ]
  },
  {
   "cell_type": "code",
   "execution_count": 57,
   "metadata": {},
   "outputs": [
    {
     "data": {
      "text/plain": [
       "5.519259209551788"
      ]
     },
     "execution_count": 57,
     "metadata": {},
     "output_type": "execute_result"
    }
   ],
   "source": [
    "s_g1_med_std"
   ]
  },
  {
   "cell_type": "code",
   "execution_count": 58,
   "metadata": {},
   "outputs": [
    {
     "data": {
      "text/plain": [
       "9.148163142887697"
      ]
     },
     "execution_count": 58,
     "metadata": {},
     "output_type": "execute_result"
    }
   ],
   "source": [
    "s_g1_high_std"
   ]
  },
  {
   "cell_type": "code",
   "execution_count": 59,
   "metadata": {},
   "outputs": [],
   "source": [
    "'''Here we get the mean and standard deviation of the number of times participants chose each hole.'''\n",
    "\n",
    "\n",
    "s_g2_low = np.mean(s_g2_counts.iloc[:,0])\n",
    "s_g2_med = np.mean(s_g2_counts.iloc[:,1])\n",
    "s_g2_high = np.mean(s_g2_counts.iloc[:,2])\n",
    "#s_g2_d_med = np.mean(s_g2_d_counts.iloc[:,1])\n",
    "\n",
    "\n"
   ]
  },
  {
   "cell_type": "code",
   "execution_count": 60,
   "metadata": {},
   "outputs": [
    {
     "data": {
      "text/plain": [
       "5.133333333333334"
      ]
     },
     "execution_count": 60,
     "metadata": {},
     "output_type": "execute_result"
    }
   ],
   "source": [
    "s_g2_low"
   ]
  },
  {
   "cell_type": "code",
   "execution_count": 61,
   "metadata": {},
   "outputs": [
    {
     "data": {
      "text/plain": [
       "6.0"
      ]
     },
     "execution_count": 61,
     "metadata": {},
     "output_type": "execute_result"
    }
   ],
   "source": [
    "s_g2_med"
   ]
  },
  {
   "cell_type": "code",
   "execution_count": 62,
   "metadata": {},
   "outputs": [
    {
     "data": {
      "text/plain": [
       "18.866666666666667"
      ]
     },
     "execution_count": 62,
     "metadata": {},
     "output_type": "execute_result"
    }
   ],
   "source": [
    "s_g2_high"
   ]
  },
  {
   "cell_type": "code",
   "execution_count": 63,
   "metadata": {},
   "outputs": [],
   "source": [
    "s_g2_low_std = np.std(s_g2_counts.iloc[:,0])\n",
    "s_g2_med_std = np.std(s_g2_counts.iloc[:,1])\n",
    "s_g2_high_std = np.std(s_g2_counts.iloc[:,2])"
   ]
  },
  {
   "cell_type": "code",
   "execution_count": 64,
   "metadata": {},
   "outputs": [
    {
     "data": {
      "text/plain": [
       "4.544104850120526"
      ]
     },
     "execution_count": 64,
     "metadata": {},
     "output_type": "execute_result"
    }
   ],
   "source": [
    "s_g2_low_std"
   ]
  },
  {
   "cell_type": "code",
   "execution_count": 65,
   "metadata": {},
   "outputs": [
    {
     "data": {
      "text/plain": [
       "4.544104850120526"
      ]
     },
     "execution_count": 65,
     "metadata": {},
     "output_type": "execute_result"
    }
   ],
   "source": [
    "s_g2_low_std"
   ]
  },
  {
   "cell_type": "code",
   "execution_count": 66,
   "metadata": {},
   "outputs": [
    {
     "data": {
      "text/plain": [
       "4.544104850120526"
      ]
     },
     "execution_count": 66,
     "metadata": {},
     "output_type": "execute_result"
    }
   ],
   "source": [
    "s_g2_low_std"
   ]
  },
  {
   "cell_type": "code",
   "execution_count": 67,
   "metadata": {},
   "outputs": [
    {
     "data": {
      "text/plain": [
       "'Here we place the value counts for each hole for each game into separate numy arrays and compare them statistically.\\n\\n\\nimport researchpy as rp\\n\\n\\ns_90_1 = np.array(s_g1_counts.iloc[:,2])\\ns_90_2 = np.array(s_g2_counts.iloc[:,2])\\n\\ns_60_1 = np.array(s_g1_counts.iloc[:,1])\\ns_60_2 = np.array(s_g2_counts.iloc[:,1])\\n\\n\\ns_30_1 = np.array(s_g1_counts.iloc[:,0])\\ns_30_2 = np.array(s_g2_counts.iloc[:,0])\\n\\ns_90_p = sp.stats.ttest_rel(s_90_1,s_90_2)\\ns_60_p = sp.stats.ttest_rel(s_60_1,s_60_2)\\ns_30_p = sp.stats.ttest_rel(s_30_1,s_30_2)'"
      ]
     },
     "execution_count": 67,
     "metadata": {},
     "output_type": "execute_result"
    }
   ],
   "source": [
    "'''Here we place the value counts for each hole for each game into separate numy arrays and compare them statistically.\n",
    "\n",
    "\n",
    "import researchpy as rp\n",
    "\n",
    "\n",
    "s_90_1 = np.array(s_g1_counts.iloc[:,2])\n",
    "s_90_2 = np.array(s_g2_counts.iloc[:,2])\n",
    "\n",
    "s_60_1 = np.array(s_g1_counts.iloc[:,1])\n",
    "s_60_2 = np.array(s_g2_counts.iloc[:,1])\n",
    "\n",
    "\n",
    "s_30_1 = np.array(s_g1_counts.iloc[:,0])\n",
    "s_30_2 = np.array(s_g2_counts.iloc[:,0])\n",
    "\n",
    "s_90_p = sp.stats.ttest_rel(s_90_1,s_90_2)\n",
    "s_60_p = sp.stats.ttest_rel(s_60_1,s_60_2)\n",
    "s_30_p = sp.stats.ttest_rel(s_30_1,s_30_2)'''"
   ]
  },
  {
   "cell_type": "code",
   "execution_count": 68,
   "metadata": {},
   "outputs": [],
   "source": [
    "s01_p1_g1.reset_index(drop=True, inplace=True)"
   ]
  },
  {
   "cell_type": "markdown",
   "metadata": {},
   "source": [
    "# Reaction Time Analyses"
   ]
  },
  {
   "cell_type": "code",
   "execution_count": 69,
   "metadata": {},
   "outputs": [],
   "source": [
    "'Here we get the reaction times'\n",
    "time_s_1 = pd.DataFrame(columns = ['session','post win','post loss'])\n",
    "time_s_2 = pd.DataFrame(columns = ['session','post win','post loss'])"
   ]
  },
  {
   "cell_type": "code",
   "execution_count": 70,
   "metadata": {},
   "outputs": [],
   "source": [
    "time_s_1 = reaction_time(s01_p1_g1, time_s_1)"
   ]
  },
  {
   "cell_type": "code",
   "execution_count": 71,
   "metadata": {},
   "outputs": [
    {
     "name": "stderr",
     "output_type": "stream",
     "text": [
      "/Users/simonefroley/opt/anaconda3/lib/python3.7/site-packages/numpy/core/fromnumeric.py:3257: RuntimeWarning: Mean of empty slice.\n",
      "  out=out, **kwargs)\n",
      "/Users/simonefroley/opt/anaconda3/lib/python3.7/site-packages/numpy/core/_methods.py:161: RuntimeWarning: invalid value encountered in double_scalars\n",
      "  ret = ret.dtype.type(ret / rcount)\n"
     ]
    }
   ],
   "source": [
    "time_s_1 = reaction_time(s03_p1_g1, time_s_1)\n",
    "time_s_1 = reaction_time(s05_p1_g1, time_s_1)\n",
    "time_s_1 = reaction_time(s06_p1_g1, time_s_1)\n",
    "time_s_1 = reaction_time(s07_p1_g1, time_s_1)\n",
    "time_s_1 = reaction_time(s08_p1_g1, time_s_1)\n",
    "time_s_1 = reaction_time(s09_p1_g1, time_s_1)\n",
    "time_s_1 = reaction_time(s11_p1_g1, time_s_1)\n",
    "time_s_1 = reaction_time(s12_p1_g1, time_s_1)\n",
    "time_s_1 = reaction_time(s15_p1_g1, time_s_1)\n",
    "time_s_1 = reaction_time(s16_p1_g1, time_s_1)\n",
    "time_s_1 = reaction_time(s17_p1_g1, time_s_1)\n",
    "time_s_1 = reaction_time(s19_p1_g1, time_s_1)\n",
    "#time_s_1 = reaction_time(s20_p1_g1, time_s_1)"
   ]
  },
  {
   "cell_type": "code",
   "execution_count": 72,
   "metadata": {},
   "outputs": [],
   "source": [
    "time_s_2 = reaction_time(s03_p1_g2, time_s_2)\n",
    "time_s_2 = reaction_time(s05_p1_g2, time_s_2)\n",
    "time_s_2 = reaction_time(s06_p1_g2, time_s_2)\n",
    "time_s_2 = reaction_time(s07_p1_g2, time_s_2)\n",
    "time_s_2 = reaction_time(s08_p1_g2, time_s_2)\n",
    "time_s_2 = reaction_time(s09_p1_g2, time_s_2)\n",
    "time_s_2 = reaction_time(s11_p1_g2, time_s_2)\n",
    "time_s_2 = reaction_time(s12_p1_g2, time_s_2)\n",
    "time_s_2 = reaction_time(s15_p1_g2, time_s_2)\n",
    "time_s_2 = reaction_time(s16_p1_g2, time_s_2)\n",
    "time_s_2 = reaction_time(s17_p1_g2, time_s_2)\n",
    "time_s_2 = reaction_time(s19_p1_g2, time_s_2)\n",
    "#time_s_2 = reaction_time(s20_p1_g2, time_s_2)"
   ]
  },
  {
   "cell_type": "code",
   "execution_count": 73,
   "metadata": {},
   "outputs": [
    {
     "data": {
      "text/plain": [
       "Ttest_relResult(statistic=nan, pvalue=nan)"
      ]
     },
     "execution_count": 73,
     "metadata": {},
     "output_type": "execute_result"
    }
   ],
   "source": [
    "sp.stats.ttest_rel(time_s_1['post win'], time_s_1['post loss'])"
   ]
  },
  {
   "cell_type": "code",
   "execution_count": 74,
   "metadata": {},
   "outputs": [
    {
     "data": {
      "text/plain": [
       "Ttest_relResult(statistic=1.136343499564463, pvalue=0.2799632807606969)"
      ]
     },
     "execution_count": 74,
     "metadata": {},
     "output_type": "execute_result"
    }
   ],
   "source": [
    "sp.stats.ttest_rel(time_s_2['post win'], time_s_2['post loss'])"
   ]
  },
  {
   "cell_type": "code",
   "execution_count": 75,
   "metadata": {},
   "outputs": [],
   "source": [
    "#sp.stats.ttest_rel(time_s_1['post loss'], time_s_2['post loss'])"
   ]
  },
  {
   "cell_type": "code",
   "execution_count": 76,
   "metadata": {},
   "outputs": [
    {
     "data": {
      "text/plain": [
       "2.506092072"
      ]
     },
     "execution_count": 76,
     "metadata": {},
     "output_type": "execute_result"
    }
   ],
   "source": [
    "s01_p1_g1.loc[0,'time']"
   ]
  },
  {
   "cell_type": "code",
   "execution_count": 77,
   "metadata": {},
   "outputs": [],
   "source": [
    "'''Here we get the average reaction times for each subject in games 1 and 2'''\n",
    "s01_p1_g1_t = s01_p1_g1['time'].mean()\n",
    "s01_p1_g2_t = s01_p1_g2['time'].mean()"
   ]
  },
  {
   "cell_type": "markdown",
   "metadata": {},
   "source": [
    "# SMAB4 Single Player Analysis"
   ]
  },
  {
   "cell_type": "code",
   "execution_count": 78,
   "metadata": {},
   "outputs": [
    {
     "data": {
      "text/html": [
       "<div>\n",
       "<style scoped>\n",
       "    .dataframe tbody tr th:only-of-type {\n",
       "        vertical-align: middle;\n",
       "    }\n",
       "\n",
       "    .dataframe tbody tr th {\n",
       "        vertical-align: top;\n",
       "    }\n",
       "\n",
       "    .dataframe thead th {\n",
       "        text-align: right;\n",
       "    }\n",
       "</style>\n",
       "<table border=\"1\" class=\"dataframe\">\n",
       "  <thead>\n",
       "    <tr style=\"text-align: right;\">\n",
       "      <th></th>\n",
       "      <th>game number</th>\n",
       "      <th>trial</th>\n",
       "      <th>player</th>\n",
       "      <th>arm</th>\n",
       "      <th>probability</th>\n",
       "      <th>reward</th>\n",
       "      <th>time</th>\n",
       "      <th>P1 score</th>\n",
       "      <th>P2 score</th>\n",
       "    </tr>\n",
       "  </thead>\n",
       "  <tbody>\n",
       "    <tr>\n",
       "      <td>0</td>\n",
       "      <td>1</td>\n",
       "      <td>1</td>\n",
       "      <td>1</td>\n",
       "      <td>3</td>\n",
       "      <td>90</td>\n",
       "      <td>0</td>\n",
       "      <td>5.135425</td>\n",
       "      <td>0</td>\n",
       "      <td>0</td>\n",
       "    </tr>\n",
       "    <tr>\n",
       "      <td>1</td>\n",
       "      <td>1</td>\n",
       "      <td>2</td>\n",
       "      <td>2</td>\n",
       "      <td>3</td>\n",
       "      <td>30</td>\n",
       "      <td>0</td>\n",
       "      <td>2.545789</td>\n",
       "      <td>1</td>\n",
       "      <td>0</td>\n",
       "    </tr>\n",
       "    <tr>\n",
       "      <td>2</td>\n",
       "      <td>1</td>\n",
       "      <td>3</td>\n",
       "      <td>1</td>\n",
       "      <td>2</td>\n",
       "      <td>60</td>\n",
       "      <td>0</td>\n",
       "      <td>7.996138</td>\n",
       "      <td>1</td>\n",
       "      <td>0</td>\n",
       "    </tr>\n",
       "    <tr>\n",
       "      <td>3</td>\n",
       "      <td>1</td>\n",
       "      <td>4</td>\n",
       "      <td>2</td>\n",
       "      <td>3</td>\n",
       "      <td>30</td>\n",
       "      <td>0</td>\n",
       "      <td>3.018310</td>\n",
       "      <td>2</td>\n",
       "      <td>0</td>\n",
       "    </tr>\n",
       "    <tr>\n",
       "      <td>4</td>\n",
       "      <td>1</td>\n",
       "      <td>4</td>\n",
       "      <td>1</td>\n",
       "      <td>3</td>\n",
       "      <td>90</td>\n",
       "      <td>0</td>\n",
       "      <td>1.015114</td>\n",
       "      <td>2</td>\n",
       "      <td>0</td>\n",
       "    </tr>\n",
       "    <tr>\n",
       "      <td>...</td>\n",
       "      <td>...</td>\n",
       "      <td>...</td>\n",
       "      <td>...</td>\n",
       "      <td>...</td>\n",
       "      <td>...</td>\n",
       "      <td>...</td>\n",
       "      <td>...</td>\n",
       "      <td>...</td>\n",
       "      <td>...</td>\n",
       "    </tr>\n",
       "    <tr>\n",
       "      <td>395</td>\n",
       "      <td>2</td>\n",
       "      <td>196</td>\n",
       "      <td>2</td>\n",
       "      <td>3</td>\n",
       "      <td>30</td>\n",
       "      <td>0</td>\n",
       "      <td>3.947417</td>\n",
       "      <td>73</td>\n",
       "      <td>35</td>\n",
       "    </tr>\n",
       "    <tr>\n",
       "      <td>396</td>\n",
       "      <td>2</td>\n",
       "      <td>197</td>\n",
       "      <td>1</td>\n",
       "      <td>1</td>\n",
       "      <td>30</td>\n",
       "      <td>0</td>\n",
       "      <td>3.995810</td>\n",
       "      <td>73</td>\n",
       "      <td>35</td>\n",
       "    </tr>\n",
       "    <tr>\n",
       "      <td>397</td>\n",
       "      <td>2</td>\n",
       "      <td>198</td>\n",
       "      <td>2</td>\n",
       "      <td>3</td>\n",
       "      <td>30</td>\n",
       "      <td>0</td>\n",
       "      <td>2.867564</td>\n",
       "      <td>73</td>\n",
       "      <td>35</td>\n",
       "    </tr>\n",
       "    <tr>\n",
       "      <td>398</td>\n",
       "      <td>2</td>\n",
       "      <td>199</td>\n",
       "      <td>1</td>\n",
       "      <td>3</td>\n",
       "      <td>90</td>\n",
       "      <td>0</td>\n",
       "      <td>3.397195</td>\n",
       "      <td>73</td>\n",
       "      <td>35</td>\n",
       "    </tr>\n",
       "    <tr>\n",
       "      <td>399</td>\n",
       "      <td>2</td>\n",
       "      <td>200</td>\n",
       "      <td>2</td>\n",
       "      <td>3</td>\n",
       "      <td>30</td>\n",
       "      <td>0</td>\n",
       "      <td>2.818558</td>\n",
       "      <td>74</td>\n",
       "      <td>35</td>\n",
       "    </tr>\n",
       "  </tbody>\n",
       "</table>\n",
       "<p>400 rows × 9 columns</p>\n",
       "</div>"
      ],
      "text/plain": [
       "     game number  trial  player  arm  probability  reward      time  P1 score  \\\n",
       "0              1      1       1    3           90       0  5.135425         0   \n",
       "1              1      2       2    3           30       0  2.545789         1   \n",
       "2              1      3       1    2           60       0  7.996138         1   \n",
       "3              1      4       2    3           30       0  3.018310         2   \n",
       "4              1      4       1    3           90       0  1.015114         2   \n",
       "..           ...    ...     ...  ...          ...     ...       ...       ...   \n",
       "395            2    196       2    3           30       0  3.947417        73   \n",
       "396            2    197       1    1           30       0  3.995810        73   \n",
       "397            2    198       2    3           30       0  2.867564        73   \n",
       "398            2    199       1    3           90       0  3.397195        73   \n",
       "399            2    200       2    3           30       0  2.818558        74   \n",
       "\n",
       "     P2 score  \n",
       "0           0  \n",
       "1           0  \n",
       "2           0  \n",
       "3           0  \n",
       "4           0  \n",
       "..        ...  \n",
       "395        35  \n",
       "396        35  \n",
       "397        35  \n",
       "398        35  \n",
       "399        35  \n",
       "\n",
       "[400 rows x 9 columns]"
      ]
     },
     "execution_count": 78,
     "metadata": {},
     "output_type": "execute_result"
    }
   ],
   "source": [
    "'''Here we load the csv files into pandas dataframes by calling organize_trial_by_trial and get the scores in games\n",
    "1 and 2 by calling call_get_score.'''\n",
    "\n",
    "df = organize_trial_by_trial_hand_code2('data/c01_gamedata_handcode.csv')\n",
    "c01 = df\n",
    "#c02_p1_g1_score,c02_p1_g2_score,c02_score_diff, c02_p1_g1_50,c02_p1_g2_50 = call_get_score(c02, 'c')\n",
    "c01.head()\n",
    "\n",
    "df = organize_trial_by_trial('data/c02_gamedata.csv')\n",
    "c02 = df\n",
    "c02_p1_g1_score,c02_p1_g2_score,c02_score_diff, c02_p1_g1_50,c02_p1_g2_50 = call_get_score(c02, 'c')\n",
    "c02.head()\n",
    "\n",
    "#in the s files, p2 is the confederate\n",
    "df = organize_trial_by_trial('data/c03_gamedata.csv')\n",
    "c03 = df\n",
    "c03_p1_g1_score,c03_p1_g2_score,c03_score_diff, c03_p1_g1_50,c03_p1_g2_50 = call_get_score(c03, 'c')\n",
    "c03.head()\n",
    "\n",
    "df = organize_trial_by_trial_hand_code2('data/c04_gamedata_handcode.csv')\n",
    "c04 = df\n",
    "#c04_p1_g1_score,c04_p1_g2_score,c04_score_diff, c04_p1_g1_50,c04_p1_g2_50 = call_get_score(c04, 'c')\n",
    "c04.head()\n",
    "\n",
    "#in the s files, p2 is the confederate\n",
    "df = organize_trial_by_trial('data/c05_gamedata.csv')\n",
    "c05 = df\n",
    "c05_p1_g1_score,c05_p1_g2_score,c05_score_diff, c05_p1_g1_50,c05_p1_g2_50 = call_get_score(c05, 'c')\n",
    "c05.head()\n",
    "\n",
    "#in the s files, p2 is the confederate\n",
    "df = organize_trial_by_trial('data/c06_gamedata.csv')\n",
    "c06 = df\n",
    "c06_p1_g1_score,c06_p1_g2_score,c06_score_diff, c06_p1_g1_50,c06_p1_g2_50 = call_get_score(c06, 'c')\n",
    "c06.head()\n",
    "\n",
    "\n",
    "#in the s files, p2 is the confederate\n",
    "df = organize_trial_by_trial('data/c07_gamedata.csv')\n",
    "c07 = df\n",
    "c07_p1_g1_score,c07_p1_g2_score,c07_score_diff, c07_p1_g1_50,c07_p1_g2_50 = 78, 86, 8, 34, 42 \n",
    "#c07.head()\n",
    "\n",
    "#in the s files, p2 is the confederate\n",
    "df = organize_trial_by_trial('data/c09_gamedata.csv')\n",
    "c09 = df\n",
    "c09_p1_g1_score,c09_p1_g2_score,c09_score_diff, c09_p1_g1_50,c09_p1_g2_50 = call_get_score(c09, 'c')\n",
    "c09.head()\n",
    "\n",
    "#in the s files, p2 is the confederate\n",
    "df = organize_trial_by_trial('data/c10_gamedata.csv')\n",
    "c10 = df\n",
    "c10_p1_g1_score,c10_p1_g2_score,c10_score_diff, c10_p1_g1_50,c10_p1_g2_50 = call_get_score(c10, 'c')\n",
    "c10.head()\n",
    "\n",
    "#in the s files, p2 is the confederate\n",
    "df = organize_trial_by_trial('data/c11_gamedata.csv')\n",
    "c11 = df\n",
    "c11_p1_g1_score,c11_p1_g2_score,c11_score_diff, c11_p1_g1_50,c11_p1_g2_50 = call_get_score(c11, 'c')\n",
    "c11.head()\n",
    "\n",
    "pd.set_option('display.max_columns', None)  \n",
    "\n",
    "#in the s files, p2 is the confederate\n",
    "df = organize_trial_by_trial_300('data/c12_gamedata2.csv')\n",
    "c12 = df\n",
    "c12_p1_g1_score,c12_p1_g2_score,c12_score_diff, c12_p1_g1_50,c12_p1_g2_50 = call_get_score(c12, 'c')\n",
    "c12.head()\n",
    "\n",
    "#in the s files, p2 is the confederate\n",
    "df = organize_trial_by_trial_300('data/c13_gamedata2.csv')\n",
    "c13 = df\n",
    "c13_p1_g1_score,c13_p1_g2_score,c13_score_diff, c13_p1_g1_50,c13_p1_g2_50 = call_get_score(c13, 'c')\n",
    "c13.head()\n",
    "\n",
    "#in the s files, p2 is the confederate\n",
    "df = organize_trial_by_trial_300('data/c14_gamedata2.csv')\n",
    "c14 = df\n",
    "c14_p1_g1_score,c14_p1_g2_score,c14_score_diff, c14_p1_g1_50,c14_p1_g2_50 = call_get_score(c14, 'c')\n",
    "c14.head()\n",
    "\n",
    "#in the s files, p2 is the confederate\n",
    "df = organize_trial_by_trial_300('data/c15_gamedata.csv')\n",
    "c15 = df\n",
    "c15_p1_g1_score,c15_p1_g2_score,c15_score_diff, c15_p1_g1_50,c15_p1_g2_50 = call_get_score(c15, 'c')\n",
    "\n",
    "\n",
    "#in the s files, p2 is the confederate\n",
    "df = organize_trial_by_trial_300('data/c16_gamedata2.csv')\n",
    "c16 = df\n",
    "c16_p1_g1_score,c16_p1_g2_score,c16_score_diff, c16_p1_g1_50,c16_p1_g2_50 = call_get_score(c16, 'c')\n",
    "c16.head()\n",
    "\n",
    "#in the s files, p2 is the confederate\n",
    "df = organize_trial_by_trial_300('data/c17_gamedata2.csv')\n",
    "c17 = df\n",
    "c17_p1_g1_score,c17_p1_g2_score,c17_score_diff, c17_p1_g1_50,c17_p1_g2_50 = call_get_score(c17, 'c')\n",
    "c17#in the s files, p2 is the confederate\n",
    "\n",
    "#in the s files, p2 is the confederate\n",
    "df = organize_trial_by_trial_300('data/c18_gamedata.csv')\n",
    "c18 = df\n",
    "c18_p1_g1_score,c18_p1_g2_score,c18_score_diff, c18_p1_g1_50,c18_p1_g2_50 = call_get_score(c18, 'c')\n",
    "c18#in the s files, p2 is the confederate\n",
    "\n"
   ]
  },
  {
   "cell_type": "code",
   "execution_count": 79,
   "metadata": {},
   "outputs": [],
   "source": [
    "c01_p1_counts, c01_p2_counts, c01_p1_probs, c01_p2_probs = handcode_calc_prob(c01)\n",
    "c04_p1_counts, c04_p2_counts, c04_p1_probs, c04_p2_probs = handcode_calc_prob(c04)"
   ]
  },
  {
   "cell_type": "code",
   "execution_count": 80,
   "metadata": {},
   "outputs": [
    {
     "data": {
      "text/html": [
       "<div>\n",
       "<style scoped>\n",
       "    .dataframe tbody tr th:only-of-type {\n",
       "        vertical-align: middle;\n",
       "    }\n",
       "\n",
       "    .dataframe tbody tr th {\n",
       "        vertical-align: top;\n",
       "    }\n",
       "\n",
       "    .dataframe thead th {\n",
       "        text-align: right;\n",
       "    }\n",
       "</style>\n",
       "<table border=\"1\" class=\"dataframe\">\n",
       "  <thead>\n",
       "    <tr style=\"text-align: right;\">\n",
       "      <th></th>\n",
       "      <th>g1_p1_h1_count</th>\n",
       "      <th>g1_p1_h2_count</th>\n",
       "      <th>g1_p1_h3_count</th>\n",
       "      <th>g2_p1_h1_count</th>\n",
       "      <th>g2_p1_h2_count</th>\n",
       "      <th>g2_p1_h3_count</th>\n",
       "    </tr>\n",
       "  </thead>\n",
       "  <tbody>\n",
       "    <tr>\n",
       "      <td>rewarded</td>\n",
       "      <td>39</td>\n",
       "      <td>20</td>\n",
       "      <td>7</td>\n",
       "      <td>53</td>\n",
       "      <td>20</td>\n",
       "      <td>2</td>\n",
       "    </tr>\n",
       "    <tr>\n",
       "      <td>non-rewarded</td>\n",
       "      <td>4</td>\n",
       "      <td>14</td>\n",
       "      <td>14</td>\n",
       "      <td>9</td>\n",
       "      <td>10</td>\n",
       "      <td>10</td>\n",
       "    </tr>\n",
       "  </tbody>\n",
       "</table>\n",
       "</div>"
      ],
      "text/plain": [
       "              g1_p1_h1_count  g1_p1_h2_count  g1_p1_h3_count  g2_p1_h1_count  \\\n",
       "rewarded                  39              20               7              53   \n",
       "non-rewarded               4              14              14               9   \n",
       "\n",
       "              g2_p1_h2_count  g2_p1_h3_count  \n",
       "rewarded                  20               2  \n",
       "non-rewarded              10              10  "
      ]
     },
     "execution_count": 80,
     "metadata": {},
     "output_type": "execute_result"
    }
   ],
   "source": [
    "c01_p1_counts"
   ]
  },
  {
   "cell_type": "code",
   "execution_count": 81,
   "metadata": {},
   "outputs": [
    {
     "data": {
      "text/html": [
       "<div>\n",
       "<style scoped>\n",
       "    .dataframe tbody tr th:only-of-type {\n",
       "        vertical-align: middle;\n",
       "    }\n",
       "\n",
       "    .dataframe tbody tr th {\n",
       "        vertical-align: top;\n",
       "    }\n",
       "\n",
       "    .dataframe thead th {\n",
       "        text-align: right;\n",
       "    }\n",
       "</style>\n",
       "<table border=\"1\" class=\"dataframe\">\n",
       "  <thead>\n",
       "    <tr style=\"text-align: right;\">\n",
       "      <th></th>\n",
       "      <th>g1_p1_h1_count</th>\n",
       "      <th>g1_p1_h2_count</th>\n",
       "      <th>g1_p1_h3_count</th>\n",
       "      <th>g2_p1_h1_count</th>\n",
       "      <th>g2_p1_h2_count</th>\n",
       "      <th>g2_p1_h3_count</th>\n",
       "    </tr>\n",
       "  </thead>\n",
       "  <tbody>\n",
       "    <tr>\n",
       "      <td>rewarded</td>\n",
       "      <td>43</td>\n",
       "      <td>12</td>\n",
       "      <td>1</td>\n",
       "      <td>50</td>\n",
       "      <td>21</td>\n",
       "      <td>1</td>\n",
       "    </tr>\n",
       "    <tr>\n",
       "      <td>non-rewarded</td>\n",
       "      <td>5</td>\n",
       "      <td>10</td>\n",
       "      <td>10</td>\n",
       "      <td>7</td>\n",
       "      <td>17</td>\n",
       "      <td>17</td>\n",
       "    </tr>\n",
       "  </tbody>\n",
       "</table>\n",
       "</div>"
      ],
      "text/plain": [
       "              g1_p1_h1_count  g1_p1_h2_count  g1_p1_h3_count  g2_p1_h1_count  \\\n",
       "rewarded                  43              12               1              50   \n",
       "non-rewarded               5              10              10               7   \n",
       "\n",
       "              g2_p1_h2_count  g2_p1_h3_count  \n",
       "rewarded                  21               1  \n",
       "non-rewarded              17              17  "
      ]
     },
     "execution_count": 81,
     "metadata": {},
     "output_type": "execute_result"
    }
   ],
   "source": [
    "c04_p1_counts"
   ]
  },
  {
   "cell_type": "code",
   "execution_count": 82,
   "metadata": {},
   "outputs": [
    {
     "data": {
      "text/html": [
       "<div>\n",
       "<style scoped>\n",
       "    .dataframe tbody tr th:only-of-type {\n",
       "        vertical-align: middle;\n",
       "    }\n",
       "\n",
       "    .dataframe tbody tr th {\n",
       "        vertical-align: top;\n",
       "    }\n",
       "\n",
       "    .dataframe thead th {\n",
       "        text-align: right;\n",
       "    }\n",
       "</style>\n",
       "<table border=\"1\" class=\"dataframe\">\n",
       "  <thead>\n",
       "    <tr style=\"text-align: right;\">\n",
       "      <th></th>\n",
       "      <th>p1_h1</th>\n",
       "      <th>p1_h2</th>\n",
       "      <th>p1_h3</th>\n",
       "    </tr>\n",
       "  </thead>\n",
       "  <tbody>\n",
       "    <tr>\n",
       "      <td>game 1</td>\n",
       "      <td>90.697674</td>\n",
       "      <td>58.823529</td>\n",
       "      <td>33.333333</td>\n",
       "    </tr>\n",
       "    <tr>\n",
       "      <td>game 2</td>\n",
       "      <td>85.483871</td>\n",
       "      <td>66.666667</td>\n",
       "      <td>16.666667</td>\n",
       "    </tr>\n",
       "  </tbody>\n",
       "</table>\n",
       "</div>"
      ],
      "text/plain": [
       "            p1_h1      p1_h2      p1_h3\n",
       "game 1  90.697674  58.823529  33.333333\n",
       "game 2  85.483871  66.666667  16.666667"
      ]
     },
     "execution_count": 82,
     "metadata": {},
     "output_type": "execute_result"
    }
   ],
   "source": [
    "c01_p1_probs"
   ]
  },
  {
   "cell_type": "code",
   "execution_count": 83,
   "metadata": {},
   "outputs": [
    {
     "data": {
      "text/html": [
       "<div>\n",
       "<style scoped>\n",
       "    .dataframe tbody tr th:only-of-type {\n",
       "        vertical-align: middle;\n",
       "    }\n",
       "\n",
       "    .dataframe tbody tr th {\n",
       "        vertical-align: top;\n",
       "    }\n",
       "\n",
       "    .dataframe thead th {\n",
       "        text-align: right;\n",
       "    }\n",
       "</style>\n",
       "<table border=\"1\" class=\"dataframe\">\n",
       "  <thead>\n",
       "    <tr style=\"text-align: right;\">\n",
       "      <th></th>\n",
       "      <th>p1_h1</th>\n",
       "      <th>p1_h2</th>\n",
       "      <th>p1_h3</th>\n",
       "    </tr>\n",
       "  </thead>\n",
       "  <tbody>\n",
       "    <tr>\n",
       "      <td>game 1</td>\n",
       "      <td>89.583333</td>\n",
       "      <td>54.545455</td>\n",
       "      <td>9.090909</td>\n",
       "    </tr>\n",
       "    <tr>\n",
       "      <td>game 2</td>\n",
       "      <td>87.719298</td>\n",
       "      <td>55.263158</td>\n",
       "      <td>5.555556</td>\n",
       "    </tr>\n",
       "  </tbody>\n",
       "</table>\n",
       "</div>"
      ],
      "text/plain": [
       "            p1_h1      p1_h2     p1_h3\n",
       "game 1  89.583333  54.545455  9.090909\n",
       "game 2  87.719298  55.263158  5.555556"
      ]
     },
     "execution_count": 83,
     "metadata": {},
     "output_type": "execute_result"
    }
   ],
   "source": [
    "c04_p1_probs"
   ]
  },
  {
   "cell_type": "code",
   "execution_count": 84,
   "metadata": {},
   "outputs": [],
   "source": [
    "#NOT SURE\n",
    "c01 = fill_in_prob(c01, 90,60,30,90,60,30,30,60,90,30,60,90)\n",
    "c04 = fill_in_prob(c04, 90,60,30,90,60,30,30,60,90,30,60,90)"
   ]
  },
  {
   "cell_type": "code",
   "execution_count": 85,
   "metadata": {},
   "outputs": [
    {
     "name": "stderr",
     "output_type": "stream",
     "text": [
      "/Users/simonefroley/opt/anaconda3/lib/python3.7/site-packages/ipykernel_launcher.py:12: UserWarning: Boolean Series key will be reindexed to match DataFrame index.\n",
      "  if sys.path[0] == '':\n",
      "/Users/simonefroley/opt/anaconda3/lib/python3.7/site-packages/ipykernel_launcher.py:13: UserWarning: Boolean Series key will be reindexed to match DataFrame index.\n",
      "  del sys.path[0]\n"
     ]
    }
   ],
   "source": [
    "c01_p1_g1, c01_p1_g2 = separate_df(c01, 'c')\n",
    "c04_p1_g1, c04_p1_g2 = separate_df(c04, 'c')"
   ]
  },
  {
   "cell_type": "code",
   "execution_count": 86,
   "metadata": {},
   "outputs": [],
   "source": [
    "c01_p1_g1_score = c01_p1_g1['reward'].sum()\n",
    "c01_p1_g2_score = c01_p1_g2['reward'].sum()\n",
    "c04_p1_g1_score = c04_p1_g1['reward'].sum()\n",
    "c04_p1_g2_score = c04_p1_g2['reward'].sum()"
   ]
  },
  {
   "cell_type": "code",
   "execution_count": 90,
   "metadata": {},
   "outputs": [
    {
     "data": {
      "image/png": "[encoded data removed]",
      "text/plain": [
       "<Figure size 432x288 with 1 Axes>"
      ]
     },
     "metadata": {
      "needs_background": "light"
     },
     "output_type": "display_data"
    }
   ],
   "source": [
    "#c_scores1_box = c_scores_1.boxplot()\n",
    "#plt.grid(b=None)\n",
    "#plt.yticks(np.arange(50, 105, step=10))\n",
    "\n",
    "\n",
    "c_scores1_box = sns.boxplot( \n",
    "                 data=c_scores_1, \n",
    "                 width=0.5,\n",
    "                 palette=\"pastel\")\n",
    "c_scores1_box.axes.set_title(\"SMAB4 Control Scores in Game 1\",\n",
    "                    fontsize=16)\n",
    "\n",
    "plot_file_name=\"c_g1_score_box.jpg\"\n",
    " \n",
    "plt.ylim(0, 100)\n",
    "c_scores1_box.axes.set(ylabel='Score')\n",
    "\n",
    "# save as jpeg\n",
    "c_scores1_box.figure.savefig(plot_file_name,\n",
    "                    format='jpeg')"
   ]
  },
  {
   "cell_type": "code",
   "execution_count": 91,
   "metadata": {},
   "outputs": [
    {
     "data": {
      "image/png": "[encoded data removed]",
      "text/plain": [
       "<Figure size 432x288 with 1 Axes>"
      ]
     },
     "metadata": {
      "needs_background": "light"
     },
     "output_type": "display_data"
    }
   ],
   "source": [
    "c_scores_2d_box = sns.boxplot( \n",
    "                 data=c_scores_2_d, \n",
    "                 width=0.5,\n",
    "                 palette=\"pastel\")\n",
    "c_scores_2d_box.axes.set_title(\"SMAB4 Control Scores in Game 1-Different\",\n",
    "                    fontsize=16)\n",
    "\n",
    "plot_file_name=\"c_g2d_score_box.jpg\"\n",
    " \n",
    "plt.ylim(0, 100)\n",
    "c_scores_2d_box.axes.set(ylabel='Score')\n",
    "\n",
    "# save as jpeg\n",
    "c_scores_2d_box.figure.savefig(plot_file_name,\n",
    "                    format='jpeg')"
   ]
  },
  {
   "cell_type": "code",
   "execution_count": 92,
   "metadata": {},
   "outputs": [
    {
     "data": {
      "image/png": "[encoded data removed]",
      "text/plain": [
       "<Figure size 432x288 with 1 Axes>"
      ]
     },
     "metadata": {
      "needs_background": "light"
     },
     "output_type": "display_data"
    }
   ],
   "source": [
    "c_scores_2s_box = sns.boxplot( \n",
    "                 data=c_scores_2_s, \n",
    "                 width=0.5,\n",
    "                 palette=\"pastel\")\n",
    "c_scores_2s_box.axes.set_title(\"SMAB4 Control Scores in Game 1-Same\",\n",
    "                    fontsize=16)\n",
    "\n",
    "plot_file_name=\"c_g2s_score_box.jpg\"\n",
    " \n",
    "plt.ylim(0, 100)\n",
    "c_scores_2s_box.axes.set(ylabel='Score')\n",
    "\n",
    "# save as jpeg\n",
    "c_scores_2s_box.figure.savefig(plot_file_name,\n",
    "                    format='jpeg')"
   ]
  },
  {
   "cell_type": "code",
   "execution_count": 93,
   "metadata": {},
   "outputs": [],
   "source": [
    "c_scores_2s_mean = c_scores_2_s.mean()"
   ]
  },
  {
   "cell_type": "code",
   "execution_count": 94,
   "metadata": {},
   "outputs": [],
   "source": [
    "c_scores_2s_std = c_scores_2_s.std()"
   ]
  },
  {
   "cell_type": "code",
   "execution_count": 95,
   "metadata": {},
   "outputs": [],
   "source": [
    "c_scores_2d_mean = c_scores_2_d.mean()"
   ]
  },
  {
   "cell_type": "code",
   "execution_count": 96,
   "metadata": {},
   "outputs": [],
   "source": [
    "c_scores_2d_std = c_scores_2_d.std()"
   ]
  },
  {
   "cell_type": "code",
   "execution_count": 97,
   "metadata": {},
   "outputs": [
    {
     "data": {
      "text/plain": [
       "(score    69.857143\n",
       " dtype: float64, score    9.191093\n",
       " dtype: float64)"
      ]
     },
     "execution_count": 97,
     "metadata": {},
     "output_type": "execute_result"
    }
   ],
   "source": [
    "c_scores_2s_mean, c_scores_2s_std"
   ]
  },
  {
   "cell_type": "code",
   "execution_count": 98,
   "metadata": {},
   "outputs": [
    {
     "data": {
      "text/plain": [
       "(score    59.333333\n",
       " dtype: float64, score    24.556058\n",
       " dtype: float64)"
      ]
     },
     "execution_count": 98,
     "metadata": {},
     "output_type": "execute_result"
    }
   ],
   "source": [
    "c_scores_2d_mean, c_scores_2d_std"
   ]
  },
  {
   "cell_type": "code",
   "execution_count": 99,
   "metadata": {},
   "outputs": [
    {
     "data": {
      "text/plain": [
       "Ttest_indResult(statistic=array([1.07016011]), pvalue=array([0.30265113]))"
      ]
     },
     "execution_count": 99,
     "metadata": {},
     "output_type": "execute_result"
    }
   ],
   "source": [
    "sp.stats.ttest_ind(c_scores_2_s, c_scores_2_d)"
   ]
  },
  {
   "cell_type": "code",
   "execution_count": 102,
   "metadata": {},
   "outputs": [],
   "source": [
    "#unnecessary graph\n",
    "#need to make g1 and g2 bars diff colors\n",
    "#colors = list(islice(cycle(['red','blue','green', 'yellow']),None,len(c_combo)))\n",
    "#blue','red','blue','red','blue','red','blue','red','blue','red','blue']),None,len(c_combo)))\n",
    "#my_colors = list(islice(cycle(['b', 'r', 'g', 'y', 'k']), None, len(df)))\n",
    "#c_combo_bar = c_combo.plot(kind='bar',color=colors)"
   ]
  },
  {
   "cell_type": "code",
   "execution_count": 256,
   "metadata": {},
   "outputs": [
    {
     "name": "stderr",
     "output_type": "stream",
     "text": [
      "/Users/simonefroley/opt/anaconda3/lib/python3.7/site-packages/ipykernel_launcher.py:12: UserWarning: Boolean Series key will be reindexed to match DataFrame index.\n",
      "  if sys.path[0] == '':\n",
      "/Users/simonefroley/opt/anaconda3/lib/python3.7/site-packages/ipykernel_launcher.py:13: UserWarning: Boolean Series key will be reindexed to match DataFrame index.\n",
      "  del sys.path[0]\n"
     ]
    }
   ],
   "source": [
    "'''Here we separate the dataframes into games 1 and 2.'''\n",
    "\n",
    "#s01_p1_g1, s01_p1_g2 = separate_df(s01, 's')\n",
    "c02_p1_g1, c02_p1_g2 = separate_df(c02, 'c')\n",
    "c03_p1_g1, c03_p1_g2 = separate_df(c03, 'c')\n",
    "c05_p1_g1, c05_p1_g2 = separate_df(c05, 'c')\n",
    "c06_p1_g1, c06_p1_g2 = separate_df(c06, 'c')\n",
    "c07_p1_g1, c07_p1_g2 = separate_df(c07, 'c')\n",
    "c09_p1_g1, c09_p1_g2 = separate_df(c09, 'c')\n",
    "c10_p1_g1, c10_p1_g2 = separate_df(c10, 'c')\n",
    "c11_p1_g1, c11_p1_g2 = separate_df(c11, 'c')\n",
    "c12_p1_g1, c12_p1_g2 = separate_df(c12, 'c')\n",
    "c13_p1_g1, c13_p1_g2 = separate_df(c13, 'c')\n",
    "c14_p1_g1, c14_p1_g2 = separate_df(c14, 'c')\n",
    "c15_p1_g1, c15_p1_g2 = separate_df(c15, 'c')\n",
    "c16_p1_g1, c16_p1_g2 = separate_df(c16, 'c')\n",
    "c17_p1_g1, c17_p1_g2 = separate_df(c17, 'c')\n",
    "c18_p1_g1, c18_p1_g2 = separate_df(c18, 'c')"
   ]
  },
  {
   "cell_type": "code",
   "execution_count": 117,
   "metadata": {},
   "outputs": [],
   "source": [
    "#call fix_reward on all of the files imported with '300' to fix the reward column\n",
    "c12_p1_g1 = fix_reward(c12_p1_g1)\n",
    "c12_p1_g2 = fix_reward(c12_p1_g2)\n",
    "c13_p1_g1 = fix_reward(c13_p1_g1)\n",
    "c13_p1_g2 = fix_reward(c13_p1_g2)\n",
    "c14_p1_g1 = fix_reward(c14_p1_g1)\n",
    "c14_p1_g2 = fix_reward(c14_p1_g2)\n",
    "c15_p1_g1 = fix_reward(c15_p1_g1)\n",
    "c15_p1_g2 = fix_reward(c15_p1_g2)\n",
    "c16_p1_g1 = fix_reward(c16_p1_g1)\n",
    "c16_p1_g2 = fix_reward(c16_p1_g2)\n",
    "c17_p1_g1 = fix_reward(c17_p1_g1)\n",
    "c17_p1_g2 = fix_reward(c17_p1_g2)\n",
    "c18_p1_g1 = fix_reward(c18_p1_g1)\n",
    "c18_p1_g2 = fix_reward(c18_p1_g2)\n"
   ]
  },
  {
   "cell_type": "code",
   "execution_count": 119,
   "metadata": {},
   "outputs": [],
   "source": [
    "'''Here we count the number of times each hole was chosen in each game and place it in an array.'''\n",
    "\n",
    "c01_p1_g1_count = c01_p1_g1['probability'].value_counts(sort=False)\n",
    "c01_p1_g2_count = c01_p1_g2['probability'].value_counts(sort=False)\n",
    "c02_p1_g1_count = c02_p1_g1['probability'].value_counts(sort=False)\n",
    "c02_p1_g2_count = c02_p1_g2['probability'].value_counts(sort=False)\n",
    "c03_p1_g1_count = c03_p1_g1['probability'].value_counts(sort=False)\n",
    "c03_p1_g2_count = c03_p1_g2['probability'].value_counts(sort=False)\n",
    "c04_p1_g1_count = c04_p1_g1['probability'].value_counts(sort=False)\n",
    "c04_p1_g2_count = c04_p1_g2['probability'].value_counts(sort=False)\n",
    "c05_p1_g1_count = c05_p1_g1['probability'].value_counts(sort=False)\n",
    "c05_p1_g2_count = c05_p1_g2['probability'].value_counts(sort=False)\n",
    "c06_p1_g1_count = c06_p1_g1['probability'].value_counts(sort=False)\n",
    "c06_p1_g2_count = c06_p1_g2['probability'].value_counts(sort=False)\n",
    "c07_p1_g1_count = c07_p1_g1['probability'].value_counts(sort=False)\n",
    "c07_p1_g2_count = c07_p1_g2['probability'].value_counts(sort=False)\n",
    "c09_p1_g1_count = c09_p1_g1['probability'].value_counts(sort=False)\n",
    "c09_p1_g2_count = c09_p1_g2['probability'].value_counts(sort=False)\n",
    "c10_p1_g1_count = c10_p1_g1['probability'].value_counts(sort=False)\n",
    "c10_p1_g2_count = c10_p1_g2['probability'].value_counts(sort=False)\n",
    "c11_p1_g1_count = c11_p1_g1['probability'].value_counts(sort=False)\n",
    "c11_p1_g2_count = c11_p1_g2['probability'].value_counts(sort=False)\n",
    "c12_p1_g1_count = c12_p1_g1['probability'].value_counts(sort=False)\n",
    "c12_p1_g2_count = c12_p1_g2['probability'].value_counts(sort=False)\n",
    "c13_p1_g1_count = c13_p1_g1['probability'].value_counts(sort=False)\n",
    "c13_p1_g2_count = c13_p1_g2['probability'].value_counts(sort=False)\n",
    "c14_p1_g1_count = c14_p1_g1['probability'].value_counts(sort=False)\n",
    "c14_p1_g2_count = c14_p1_g2['probability'].value_counts(sort=False)\n",
    "c15_p1_g1_count = c15_p1_g1['probability'].value_counts(sort=False)\n",
    "c15_p1_g2_count = c15_p1_g2['probability'].value_counts(sort=False)\n",
    "c16_p1_g1_count = c16_p1_g1['probability'].value_counts(sort=False)\n",
    "c16_p1_g2_count = c16_p1_g2['probability'].value_counts(sort=False)\n",
    "c17_p1_g1_count = c17_p1_g1['probability'].value_counts(sort=False)\n",
    "c17_p1_g2_count = c17_p1_g2['probability'].value_counts(sort=False)\n",
    "c18_p1_g1_count = c18_p1_g1['probability'].value_counts(sort=False)\n",
    "c18_p1_g2_count = c18_p1_g2['probability'].value_counts(sort=False)"
   ]
  },
  {
   "cell_type": "markdown",
   "metadata": {},
   "source": [
    "# COMBINED CHOICE SINGLE PLAYER"
   ]
  },
  {
   "cell_type": "code",
   "execution_count": 293,
   "metadata": {},
   "outputs": [
    {
     "data": {
      "text/plain": [
       "s01_p1_g1_count    30.0\n",
       "s03_p1_g1_count    30.0\n",
       "s05_p1_g1_count    30.0\n",
       "s06_p1_g1_count    30.0\n",
       "s07_p1_g1_count    30.0\n",
       "s08_p1_g1_count    30.0\n",
       "s09_p1_g1_count    30.0\n",
       "s11_p1_g1_count    30.0\n",
       "s12_p1_g1_count    30.0\n",
       "s14_p1_g1_count    30.0\n",
       "s15_p1_g1_count    30.0\n",
       "s16_p1_g1_count    30.0\n",
       "s17_p1_g1_count    30.0\n",
       "s19_p1_g1_count    30.0\n",
       "s20_p1_g1_count    30.0\n",
       "c01_p1_g1_count    30.0\n",
       "c02_p1_g1_count    30.0\n",
       "c03_p1_g1_count    30.0\n",
       "c04_p1_g1_count    30.0\n",
       "c05_p1_g1_count    30.0\n",
       "c06_p1_g1_count    30.0\n",
       "c07_p1_g1_count    30.0\n",
       "c09_p1_g1_count    30.0\n",
       "c10_p1_g1_count    30.0\n",
       "c11_p1_g1_count    30.0\n",
       "c12_p1_g1_count    30.0\n",
       "c13_p1_g1_count    30.0\n",
       "c14_p1_g1_count    30.0\n",
       "c15_p1_g1_count    30.0\n",
       "c16_p1_g1_count    30.0\n",
       "c17_p1_g1_count    30.0\n",
       "c18_p1_g1_count    30.0\n",
       "dtype: float64"
      ]
     },
     "execution_count": 293,
     "metadata": {},
     "output_type": "execute_result"
    }
   ],
   "source": [
    "\n",
    "'''Here we place the number of times each hole was chosen by each subject in game 1 and into a dataframe.\n",
    "We also plot this data and get the means and standard deviations of it.'''\n",
    "\n",
    "#GAME 1\n",
    "\n",
    "c_g1_counts = pd.DataFrame([s01_p1_g1_count, s03_p1_g1_count, \n",
    "                            s05_p1_g1_count, s06_p1_g1_count, s07_p1_g1_count, s08_p1_g1_count, s09_p1_g1_count, s11_p1_g1_count, s12_p1_g1_count, s14_p1_g1_count, s15_p1_g1_count, s16_p1_g1_count,\n",
    "                    s17_p1_g1_count, s19_p1_g1_count, s20_p1_g1_count, c01_p1_g1_count, c02_p1_g1_count, c03_p1_g1_count, c04_p1_g1_count,\n",
    "                            c05_p1_g1_count, c06_p1_g1_count, c07_p1_g1_count, c09_p1_g1_count, c10_p1_g1_count, c11_p1_g1_count, c12_p1_g1_count, c13_p1_g1_count, c14_p1_g1_count, c15_p1_g1_count,\n",
    "                            c16_p1_g1_count, c17_p1_g1_count, c18_p1_g1_count],\n",
    "         index=['s01_p1_g1_count', 's03_p1_g1_count', 's05_p1_g1_count', 's06_p1_g1_count',\n",
    "                                 's07_p1_g1_count', 's08_p1_g1_count', 's09_p1_g1_count', 's11_p1_g1_count', 's12_p1_g1_count', 's14_p1_g1_count', 's15_p1_g1_count',\n",
    "                                 's16_p1_g1_count', 's17_p1_g1_count', 's19_p1_g1_count', 's20_p1_g1_count','c01_p1_g1_count', 'c02_p1_g1_count', 'c03_p1_g1_count', 'c04_p1_g1_count', 'c05_p1_g1_count', 'c06_p1_g1_count', \n",
    "                'c07_p1_g1_count','c09_p1_g1_count', 'c10_p1_g1_count', 'c11_p1_g1_count', 'c12_p1_g1_count', 'c13_p1_g1_count', 'c14_p1_g1_count', \n",
    "                'c15_p1_g1_count', 'c16_p1_g1_count', 'c17_p1_g1_count', 'c18_p1_g1_count'])\n",
    "\n",
    "\n",
    "#How to prevent NaN: df = df.fillna(0)\n",
    "c_g1_counts = c_g1_counts.fillna(0)\n",
    "\n",
    "#print\n",
    "c_g1_counts\n",
    "\n",
    "\n",
    "c_g1_counts.sum(axis=1)"
   ]
  },
  {
   "cell_type": "code",
   "execution_count": 294,
   "metadata": {},
   "outputs": [
    {
     "data": {
      "image/png": "[encoded data removed]",
      "text/plain": [
       "<Figure size 432x288 with 1 Axes>"
      ]
     },
     "metadata": {},
     "output_type": "display_data"
    }
   ],
   "source": [
    "c_g1_counts_box = sns.boxplot( \n",
    "                 data=c_g1_counts, \n",
    "                 width=0.5,\n",
    "                 palette=\"pastel\")\n",
    "c_g1_counts_box.axes.set_title(\"Block 1, Control Choice Distributions in Game 1\",\n",
    "                    fontsize=16)\n",
    "\n",
    "plot_file_name=\"c_g1_counts_box.jpg\"\n",
    " \n",
    "plt.ylim(0, 100)\n",
    "c_g1_counts_box.axes.set(xlabel='Arm',ylabel='Frequency')\n",
    "\n",
    "# save as jpeg\n",
    "c_g1_counts_box.figure.savefig(plot_file_name,\n",
    "                    format='jpeg')"
   ]
  },
  {
   "cell_type": "code",
   "execution_count": 308,
   "metadata": {},
   "outputs": [
    {
     "data": {
      "text/plain": [
       "s01_p1_g2_count    30.0\n",
       "s03_p1_g2_count    30.0\n",
       "s05_p1_g2_count    30.0\n",
       "s06_p1_g2_count    30.0\n",
       "s07_p1_g2_count    30.0\n",
       "s08_p1_g2_count    30.0\n",
       "s09_p1_g2_count    30.0\n",
       "s11_p1_g2_count    30.0\n",
       "s12_p1_g2_count    30.0\n",
       "s14_p1_g2_count    30.0\n",
       "s15_p1_g2_count    30.0\n",
       "s16_p1_g2_count    30.0\n",
       "s17_p1_g2_count    30.0\n",
       "s19_p1_g2_count    30.0\n",
       "s20_p1_g2_count    30.0\n",
       "c02_p1_g2_count    30.0\n",
       "c03_p1_g2_count    30.0\n",
       "c05_p1_g2_count    30.0\n",
       "c06_p1_g2_count    30.0\n",
       "c09_p1_g2_count    30.0\n",
       "c10_p1_g2_count    30.0\n",
       "c11_p1_g2_count    30.0\n",
       "c01_p1_g2_count    30.0\n",
       "c04_p1_g2_count    30.0\n",
       "c12_p1_g2_count    30.0\n",
       "c13_p1_g2_count    30.0\n",
       "c14_p1_g2_count    30.0\n",
       "c15_p1_g2_count    30.0\n",
       "c16_p1_g2_count    30.0\n",
       "c17_p1_g2_count    30.0\n",
       "c18_p1_g2_count    30.0\n",
       "dtype: float64"
      ]
     },
     "execution_count": 308,
     "metadata": {},
     "output_type": "execute_result"
    }
   ],
   "source": [
    "'''Here we place the number of times each hole was chosen by each subject in game 2 and into a dataframe.\n",
    "We also plot this data and get the means and standard deviations of it.'''\n",
    "\n",
    "#GAME 2\n",
    "c_g2_counts = pd.DataFrame([s01_p1_g2_count, s03_p1_g2_count, \n",
    "                            s05_p1_g2_count, s06_p1_g2_count, s07_p1_g2_count, s08_p1_g2_count, s09_p1_g2_count, s11_p1_g2_count, s12_p1_g2_count, s14_p1_g2_count, s15_p1_g2_count, s16_p1_g2_count,\n",
    "                    s17_p1_g2_count, s19_p1_g2_count, s20_p1_g2_count, c02_p1_g2_count, c03_p1_g2_count,\n",
    "                            c05_p1_g2_count, c06_p1_g2_count, c09_p1_g2_count, c10_p1_g2_count, c11_p1_g2_count, c01_p1_g2_count, c04_p1_g2_count, c12_p1_g2_count, c13_p1_g2_count, c14_p1_g2_count, c15_p1_g2_count, c16_p1_g2_count, c17_p1_g2_count, c18_p1_g2_count],\n",
    "         index=['s01_p1_g2_count', 's03_p1_g2_count', 's05_p1_g2_count', 's06_p1_g2_count',\n",
    "                                 's07_p1_g2_count', 's08_p1_g2_count', 's09_p1_g2_count', 's11_p1_g2_count', 's12_p1_g2_count', 's14_p1_g2_count', 's15_p1_g2_count',\n",
    "                                 's16_p1_g2_count', 's17_p1_g2_count', 's19_p1_g2_count', 's20_p1_g2_count','c02_p1_g2_count', 'c03_p1_g2_count', 'c05_p1_g2_count', 'c06_p1_g2_count', \n",
    "                'c09_p1_g2_count', 'c10_p1_g2_count', 'c11_p1_g2_count', 'c01_p1_g2_count', 'c04_p1_g2_count','c12_p1_g2_count', 'c13_p1_g2_count', \n",
    "                'c14_p1_g2_count', 'c15_p1_g2_count',\n",
    "                'c16_p1_g2_count', 'c17_p1_g2_count', 'c18_p1_g2_count'])\n",
    "\n",
    "\n",
    "\n",
    "\n",
    "\n",
    "\n",
    "\n",
    "\n",
    "#How to prevent NaN: df = df.fillna(0)\n",
    "c_g2_counts = c_g2_counts.fillna(0)\n",
    "\n",
    "#print\n",
    "c_g2_counts\n",
    "\n",
    "\n",
    "c_g2_counts.sum(axis=1)\n"
   ]
  },
  {
   "cell_type": "code",
   "execution_count": 310,
   "metadata": {},
   "outputs": [
    {
     "data": {
      "image/png": "[encoded data removed]",
      "text/plain": [
       "<Figure size 432x288 with 1 Axes>"
      ]
     },
     "metadata": {},
     "output_type": "display_data"
    }
   ],
   "source": [
    "c_g2_counts_box = sns.boxplot( \n",
    "                 data=c_g2_counts, \n",
    "                 width=0.5,\n",
    "                 palette=\"pastel\")\n",
    "c_g2_counts_box.axes.set_title(\"Block 1, Control Choice Distributions in Game 2\",\n",
    "                    fontsize=16)\n",
    "\n",
    "plot_file_name=\"c_g2_counts_box.jpg\"\n",
    " \n",
    "plt.ylim(0, 100)\n",
    "c_g2_counts_box.axes.set(xlabel='Arm',ylabel='Frequency')\n",
    "\n",
    "# save as jpeg\n",
    "c_g2_counts_box.figure.savefig(plot_file_name,\n",
    "                    format='jpeg')"
   ]
  },
  {
   "cell_type": "code",
   "execution_count": 301,
   "metadata": {},
   "outputs": [],
   "source": [
    "c_g1_low = np.mean(c_g1_counts.iloc[:,0])\n",
    "c_g1_med = np.mean(c_g1_counts.iloc[:,1])\n",
    "c_g1_high = np.mean(c_g1_counts.iloc[:,2])\n",
    "\n",
    "c_g1_low_std = np.std(c_g1_counts.iloc[:,0])\n",
    "c_g1_med_std = np.std(c_g1_counts.iloc[:,1])\n",
    "c_g1_high_std = np.std(c_g1_counts.iloc[:,2])"
   ]
  },
  {
   "cell_type": "code",
   "execution_count": 302,
   "metadata": {},
   "outputs": [
    {
     "data": {
      "text/plain": [
       "(6.71875, 8.375, 14.90625)"
      ]
     },
     "execution_count": 302,
     "metadata": {},
     "output_type": "execute_result"
    }
   ],
   "source": [
    "(c_g1_low, c_g1_med, c_g1_high)"
   ]
  },
  {
   "cell_type": "code",
   "execution_count": 303,
   "metadata": {},
   "outputs": [
    {
     "data": {
      "text/plain": [
       "(3.5287601841865084, 5.048205126577168, 7.883366091810021)"
      ]
     },
     "execution_count": 303,
     "metadata": {},
     "output_type": "execute_result"
    }
   ],
   "source": [
    "(c_g1_low_std, c_g1_med_std, c_g1_high_std)"
   ]
  },
  {
   "cell_type": "code",
   "execution_count": 304,
   "metadata": {},
   "outputs": [],
   "source": [
    "c_g2_low = np.mean(c_g2_counts.iloc[:,0])\n",
    "c_g2_med = np.mean(c_g2_counts.iloc[:,1])\n",
    "c_g2_high = np.mean(c_g2_counts.iloc[:,2])\n",
    "\n",
    "c_g2_low_std = np.std(c_g2_counts.iloc[:,0])\n",
    "c_g2_med_std = np.std(c_g2_counts.iloc[:,1])\n",
    "c_g2_high_std = np.std(c_g2_counts.iloc[:,2])"
   ]
  },
  {
   "cell_type": "code",
   "execution_count": 305,
   "metadata": {},
   "outputs": [
    {
     "data": {
      "text/plain": [
       "(4.806451612903226, 7.096774193548387, 18.096774193548388)"
      ]
     },
     "execution_count": 305,
     "metadata": {},
     "output_type": "execute_result"
    }
   ],
   "source": [
    "(c_g2_low, c_g2_med, c_g2_high)"
   ]
  },
  {
   "cell_type": "code",
   "execution_count": 306,
   "metadata": {},
   "outputs": [
    {
     "data": {
      "text/plain": [
       "(4.395153891677703, 4.788122662007606, 7.830275563517822)"
      ]
     },
     "execution_count": 306,
     "metadata": {},
     "output_type": "execute_result"
    }
   ],
   "source": [
    "(c_g2_low_std, c_g2_med_std, c_g2_high_std)"
   ]
  },
  {
   "cell_type": "code",
   "execution_count": 307,
   "metadata": {},
   "outputs": [
    {
     "data": {
      "text/plain": [
       "Ttest_indResult(statistic=array([ 1.87668596,  1.01403036, -1.58551235]), pvalue=array([0.06534641, 0.31457358, 0.11802088]))"
      ]
     },
     "execution_count": 307,
     "metadata": {},
     "output_type": "execute_result"
    }
   ],
   "source": [
    "sp.stats.ttest_ind(c_g1_counts, c_g2_counts)"
   ]
  },
  {
   "cell_type": "code",
   "execution_count": 134,
   "metadata": {},
   "outputs": [],
   "source": [
    "#sp.stats.ttest_ind(c_g1_scores, c_g2_s_scores)"
   ]
  },
  {
   "cell_type": "markdown",
   "metadata": {},
   "source": [
    "# Reaction Time Analyses"
   ]
  },
  {
   "cell_type": "code",
   "execution_count": 135,
   "metadata": {},
   "outputs": [],
   "source": [
    "'Here we get the reaction times'\n",
    "'NEED to fix rewards for SMAB4'\n",
    "time_c_1 = pd.DataFrame(columns = ['session','post win','post loss'])\n",
    "time_c_2 = pd.DataFrame(columns = ['session','post win','post loss'])"
   ]
  },
  {
   "cell_type": "code",
   "execution_count": 136,
   "metadata": {},
   "outputs": [],
   "source": [
    "time_c_1 = reaction_time(c02_p1_g1, time_c_1)\n",
    "time_c_1 = reaction_time(c03_p1_g1, time_c_1)\n",
    "time_c_1 = reaction_time(c05_p1_g1, time_c_1)\n",
    "time_c_1 = reaction_time(c06_p1_g1, time_c_1)\n",
    "time_c_1 = reaction_time(c09_p1_g1, time_c_1)\n",
    "time_c_1 = reaction_time(c10_p1_g1, time_c_1)\n",
    "time_c_1 = reaction_time(c11_p1_g1, time_c_1)\n",
    "time_c_1 = reaction_time(c12_p1_g1, time_c_1)\n",
    "time_c_1 = reaction_time(c13_p1_g1, time_c_1)\n",
    "time_c_1 = reaction_time(c14_p1_g1, time_c_1)\n",
    "time_c_1 = reaction_time(c15_p1_g1, time_c_1)\n",
    "time_c_1 = reaction_time(c16_p1_g1, time_c_1)\n",
    "time_c_1 = reaction_time(c17_p1_g1, time_c_1)\n",
    "time_c_1 = reaction_time(c18_p1_g1, time_c_1)"
   ]
  },
  {
   "cell_type": "code",
   "execution_count": 137,
   "metadata": {},
   "outputs": [
    {
     "data": {
      "text/html": [
       "<div>\n",
       "<style scoped>\n",
       "    .dataframe tbody tr th:only-of-type {\n",
       "        vertical-align: middle;\n",
       "    }\n",
       "\n",
       "    .dataframe tbody tr th {\n",
       "        vertical-align: top;\n",
       "    }\n",
       "\n",
       "    .dataframe thead th {\n",
       "        text-align: right;\n",
       "    }\n",
       "</style>\n",
       "<table border=\"1\" class=\"dataframe\">\n",
       "  <thead>\n",
       "    <tr style=\"text-align: right;\">\n",
       "      <th></th>\n",
       "      <th>session</th>\n",
       "      <th>post win</th>\n",
       "      <th>post loss</th>\n",
       "    </tr>\n",
       "  </thead>\n",
       "  <tbody>\n",
       "    <tr>\n",
       "      <td>0</td>\n",
       "      <td>c02_p1_g1</td>\n",
       "      <td>4.257012</td>\n",
       "      <td>6.589807</td>\n",
       "    </tr>\n",
       "    <tr>\n",
       "      <td>1</td>\n",
       "      <td>c03_p1_g1</td>\n",
       "      <td>3.457620</td>\n",
       "      <td>3.434314</td>\n",
       "    </tr>\n",
       "    <tr>\n",
       "      <td>2</td>\n",
       "      <td>c05_p1_g1</td>\n",
       "      <td>3.824453</td>\n",
       "      <td>3.812090</td>\n",
       "    </tr>\n",
       "    <tr>\n",
       "      <td>3</td>\n",
       "      <td>c06_p1_g1</td>\n",
       "      <td>3.125762</td>\n",
       "      <td>2.753691</td>\n",
       "    </tr>\n",
       "    <tr>\n",
       "      <td>4</td>\n",
       "      <td>c09_p1_g1</td>\n",
       "      <td>3.315176</td>\n",
       "      <td>3.288630</td>\n",
       "    </tr>\n",
       "    <tr>\n",
       "      <td>5</td>\n",
       "      <td>c10_p1_g1</td>\n",
       "      <td>3.122579</td>\n",
       "      <td>3.439771</td>\n",
       "    </tr>\n",
       "    <tr>\n",
       "      <td>6</td>\n",
       "      <td>c11_p1_g1</td>\n",
       "      <td>3.853327</td>\n",
       "      <td>4.203817</td>\n",
       "    </tr>\n",
       "    <tr>\n",
       "      <td>7</td>\n",
       "      <td>c12_p1_g1</td>\n",
       "      <td>3.776948</td>\n",
       "      <td>4.019729</td>\n",
       "    </tr>\n",
       "    <tr>\n",
       "      <td>8</td>\n",
       "      <td>c13_p1_g1</td>\n",
       "      <td>3.630673</td>\n",
       "      <td>3.798113</td>\n",
       "    </tr>\n",
       "    <tr>\n",
       "      <td>9</td>\n",
       "      <td>c14_p1_g1</td>\n",
       "      <td>3.202178</td>\n",
       "      <td>3.198625</td>\n",
       "    </tr>\n",
       "    <tr>\n",
       "      <td>10</td>\n",
       "      <td>c15_p1_g1</td>\n",
       "      <td>4.239755</td>\n",
       "      <td>4.348809</td>\n",
       "    </tr>\n",
       "    <tr>\n",
       "      <td>11</td>\n",
       "      <td>c16_p1_g1</td>\n",
       "      <td>3.241831</td>\n",
       "      <td>3.218283</td>\n",
       "    </tr>\n",
       "    <tr>\n",
       "      <td>12</td>\n",
       "      <td>c17_p1_g1</td>\n",
       "      <td>2.749382</td>\n",
       "      <td>2.799411</td>\n",
       "    </tr>\n",
       "    <tr>\n",
       "      <td>13</td>\n",
       "      <td>c18_p1_g1</td>\n",
       "      <td>3.445492</td>\n",
       "      <td>3.479078</td>\n",
       "    </tr>\n",
       "  </tbody>\n",
       "</table>\n",
       "</div>"
      ],
      "text/plain": [
       "      session  post win  post loss\n",
       "0   c02_p1_g1  4.257012   6.589807\n",
       "1   c03_p1_g1  3.457620   3.434314\n",
       "2   c05_p1_g1  3.824453   3.812090\n",
       "3   c06_p1_g1  3.125762   2.753691\n",
       "4   c09_p1_g1  3.315176   3.288630\n",
       "5   c10_p1_g1  3.122579   3.439771\n",
       "6   c11_p1_g1  3.853327   4.203817\n",
       "7   c12_p1_g1  3.776948   4.019729\n",
       "8   c13_p1_g1  3.630673   3.798113\n",
       "9   c14_p1_g1  3.202178   3.198625\n",
       "10  c15_p1_g1  4.239755   4.348809\n",
       "11  c16_p1_g1  3.241831   3.218283\n",
       "12  c17_p1_g1  2.749382   2.799411\n",
       "13  c18_p1_g1  3.445492   3.479078"
      ]
     },
     "execution_count": 137,
     "metadata": {},
     "output_type": "execute_result"
    }
   ],
   "source": [
    "time_c_1"
   ]
  },
  {
   "cell_type": "code",
   "execution_count": 138,
   "metadata": {},
   "outputs": [],
   "source": [
    "time_c_2 = reaction_time(c02_p1_g2, time_c_2)\n",
    "time_c_2 = reaction_time(c03_p1_g2, time_c_2)\n",
    "time_c_2 = reaction_time(c05_p1_g2, time_c_2)\n",
    "time_c_2 = reaction_time(c06_p1_g2, time_c_2)\n",
    "time_c_2 = reaction_time(c09_p1_g2, time_c_2)\n",
    "time_c_2 = reaction_time(c10_p1_g2, time_c_2)\n",
    "time_c_2 = reaction_time(c11_p1_g2, time_c_2)\n",
    "time_c_2 = reaction_time(c12_p1_g2, time_c_2)\n",
    "time_c_2 = reaction_time(c13_p1_g2, time_c_2)\n",
    "time_c_2 = reaction_time(c14_p1_g2, time_c_2)\n",
    "time_c_2 = reaction_time(c15_p1_g2, time_c_2)\n",
    "time_c_2 = reaction_time(c16_p1_g2, time_c_2)\n",
    "time_c_2 = reaction_time(c17_p1_g2, time_c_2)\n",
    "time_c_2 = reaction_time(c18_p1_g2, time_c_2)"
   ]
  },
  {
   "cell_type": "code",
   "execution_count": 139,
   "metadata": {},
   "outputs": [
    {
     "data": {
      "image/png": "[encoded data removed]",
      "text/plain": [
       "<Figure size 432x288 with 1 Axes>"
      ]
     },
     "metadata": {
      "needs_background": "light"
     },
     "output_type": "display_data"
    }
   ],
   "source": [
    "times_c_g1_box = sns.boxplot( \n",
    "                 data=time_c_1, \n",
    "                 width=0.5,\n",
    "                 palette=\"pastel\")\n",
    "times_c_g1_box.axes.set_title(\"SMAB4 Control Reaction Times in Game 1\",\n",
    "                    fontsize=16)\n",
    "\n",
    "plot_file_name=\"times_c_g1_box.jpg\"\n",
    " \n",
    "plt.ylim(0, 5)\n",
    "times_c_g1_box.axes.set(ylabel='Time in sec.')\n",
    "\n",
    "# save as jpeg\n",
    "times_c_g1_box.figure.savefig(plot_file_name,format='jpeg')"
   ]
  },
  {
   "cell_type": "code",
   "execution_count": 140,
   "metadata": {},
   "outputs": [
    {
     "data": {
      "image/png": "[encoded data removed]",
      "text/plain": [
       "<Figure size 432x288 with 1 Axes>"
      ]
     },
     "metadata": {
      "needs_background": "light"
     },
     "output_type": "display_data"
    }
   ],
   "source": [
    "times_c_g2_box = sns.boxplot( \n",
    "                 data=time_c_2, \n",
    "                 width=0.5,\n",
    "                 palette=\"pastel\")\n",
    "times_c_g2_box.axes.set_title(\"SMAB4 Control Reaction Times in Game 2\",\n",
    "                    fontsize=16)\n",
    "\n",
    "plot_file_name=\"times_c_g2_box.jpg\"\n",
    " \n",
    "plt.ylim(0, 5)\n",
    "times_c_g2_box.axes.set(ylabel='Time in sec.')\n",
    "\n",
    "# save as jpeg\n",
    "times_c_g2_box.figure.savefig(plot_file_name,format='jpeg')"
   ]
  },
  {
   "cell_type": "code",
   "execution_count": 141,
   "metadata": {},
   "outputs": [
    {
     "data": {
      "text/plain": [
       "post win     3.517299\n",
       "post loss    3.741726\n",
       "dtype: float64"
      ]
     },
     "execution_count": 141,
     "metadata": {},
     "output_type": "execute_result"
    }
   ],
   "source": [
    "np.mean(time_c_1)"
   ]
  },
  {
   "cell_type": "code",
   "execution_count": 142,
   "metadata": {},
   "outputs": [
    {
     "data": {
      "text/plain": [
       "post win     3.484933\n",
       "post loss    3.354428\n",
       "dtype: float64"
      ]
     },
     "execution_count": 142,
     "metadata": {},
     "output_type": "execute_result"
    }
   ],
   "source": [
    "np.mean(time_c_2)"
   ]
  },
  {
   "cell_type": "code",
   "execution_count": 143,
   "metadata": {},
   "outputs": [
    {
     "data": {
      "text/plain": [
       "post win     0.420901\n",
       "post loss    0.913085\n",
       "dtype: float64"
      ]
     },
     "execution_count": 143,
     "metadata": {},
     "output_type": "execute_result"
    }
   ],
   "source": [
    "np.std(time_c_1)"
   ]
  },
  {
   "cell_type": "code",
   "execution_count": 144,
   "metadata": {},
   "outputs": [
    {
     "data": {
      "text/plain": [
       "post win     0.482295\n",
       "post loss    0.467945\n",
       "dtype: float64"
      ]
     },
     "execution_count": 144,
     "metadata": {},
     "output_type": "execute_result"
    }
   ],
   "source": [
    "np.std(time_c_2)"
   ]
  },
  {
   "cell_type": "code",
   "execution_count": 145,
   "metadata": {},
   "outputs": [
    {
     "data": {
      "text/plain": [
       "Ttest_relResult(statistic=-1.3273281251375004, pvalue=0.20723976886930365)"
      ]
     },
     "execution_count": 145,
     "metadata": {},
     "output_type": "execute_result"
    }
   ],
   "source": [
    "sp.stats.ttest_rel(time_c_1['post win'],time_c_1['post loss'])"
   ]
  },
  {
   "cell_type": "code",
   "execution_count": 146,
   "metadata": {},
   "outputs": [
    {
     "data": {
      "text/plain": [
       "Ttest_relResult(statistic=2.565666240860327, pvalue=0.023485772048290256)"
      ]
     },
     "execution_count": 146,
     "metadata": {},
     "output_type": "execute_result"
    }
   ],
   "source": [
    "sp.stats.ttest_rel(time_c_2['post win'],time_c_2['post loss'])"
   ]
  },
  {
   "cell_type": "code",
   "execution_count": 147,
   "metadata": {},
   "outputs": [],
   "source": [
    "#not working\n",
    "#sp.stats.ttest_rel(time_c_1['post win'],time_c_2['post win'])"
   ]
  },
  {
   "cell_type": "code",
   "execution_count": 148,
   "metadata": {},
   "outputs": [],
   "source": [
    "#not working\n",
    "#sp.stats.ttest_rel(time_c_1['post loss'],time_c_2['post loss'])"
   ]
  },
  {
   "cell_type": "code",
   "execution_count": 149,
   "metadata": {},
   "outputs": [
    {
     "data": {
      "text/plain": [
       "90    13\n",
       "60     4\n",
       "30    13\n",
       "Name: probability, dtype: int64"
      ]
     },
     "execution_count": 149,
     "metadata": {},
     "output_type": "execute_result"
    }
   ],
   "source": [
    "s01_p1_g2_count"
   ]
  },
  {
   "cell_type": "markdown",
   "metadata": {},
   "source": [
    "# SMAB3 Joint Analysis"
   ]
  },
  {
   "cell_type": "code",
   "execution_count": 311,
   "metadata": {},
   "outputs": [
    {
     "data": {
      "text/plain": [
       "\"'df = organize_trial_by_trial_300('data/j12_gamedata_old.csv')\\nj12 = df\\nj12_p1_g1_score,j12_p1_g2_score,j12_p2_g1_score,j12_p2_g2_score,j12_p1_diff,j12_p2_diff,j12_p1_g1_50,j12_p1_g2_50,j12_p2_g1_50,j12_p2_g2_50 = call_get_score(j12, 'j')\\nj12.head()\""
      ]
     },
     "execution_count": 311,
     "metadata": {},
     "output_type": "execute_result"
    }
   ],
   "source": [
    "'''Here we load the csv files into Pandas dataframes by calling organize_trial_by_trial and get the score of each subject \n",
    "in each game by calling call_get_score.'''\n",
    "\n",
    "\n",
    "df = organize_trial_by_trial('data/j01_gamedata.csv')\n",
    "j01 = df\n",
    "j01_p1_g1_score,j01_p1_g2_score,j01_p2_g1_score,j01_p2_g2_score,j01_p1_diff,j01_p2_diff,j01_p1_g1_50,j01_p1_g2_50,j01_p2_g1_50,j01_p2_g2_50= call_get_score(j01, 'j')\n",
    "j01.head()\n",
    "\n",
    "df = organize_trial_by_trial('data/j02_gamedata.csv')\n",
    "j02 = df\n",
    "j02_p1_g1_score,j02_p1_g2_score,j02_p2_g1_score,j02_p2_g2_score,j02_p1_diff,j02_p2_diff,j02_p1_g1_50,j02_p1_g2_50,j02_p2_g1_50,j02_p2_g2_50 = call_get_score(j02, 'j')\n",
    "j02.head()\n",
    "\n",
    "\n",
    "df = organize_trial_by_trial('data/j03_gamedata.csv')\n",
    "j03 = df\n",
    "j03_p1_g1_score,j03_p1_g2_score,j03_p2_g1_score,j03_p2_g2_score,j03_p1_diff,j03_p2_diff,j03_p1_g1_50,j03_p1_g2_50,j03_p2_g1_50,j03_p2_g2_50 = call_get_score(j03, 'j')\n",
    "j03.head()\n",
    "\n",
    "\n",
    "df = organize_trial_by_trial('data/j04_gamedata.csv')\n",
    "j04 = df\n",
    "j04_p1_g1_score,j04_p1_g2_score,j04_p2_g1_score,j04_p2_g2_score,j04_p1_diff,j04_p2_diff,j04_p1_g1_50,j04_p1_g2_50,j04_p2_g1_50,j04_p2_g2_50 = call_get_score(j04, 'j')\n",
    "j04.head()\n",
    "\n",
    "\n",
    "df = organize_trial_by_trial('data/j05_gamedata.csv')\n",
    "j05 = df\n",
    "j05_p1_g1_score,j05_p1_g2_score,j05_p2_g1_score,j05_p2_g2_score,j05_p1_diff,j05_p2_diff,j05_p1_g1_50,j05_p1_g2_50,j05_p2_g1_50,j05_p2_g2_50 = call_get_score(j05, 'j')\n",
    "j05.head()\n",
    "\n",
    "\n",
    "df = organize_trial_by_trial('data/j06_gamedata.csv')\n",
    "j06 = df\n",
    "j06_p1_g1_score,j06_p1_g2_score,j06_p2_g1_score,j06_p2_g2_score,j06_p1_diff,j06_p2_diff,j06_p1_g1_50,j06_p1_g2_50,j06_p2_g1_50,j06_p2_g2_50 = call_get_score(j06, 'j')\n",
    "j06.head()\n",
    "\n",
    "\n",
    "df = organize_trial_by_trial('data/j07_gamedata.csv')\n",
    "j07 = df\n",
    "j07_p1_g1_score,j07_p1_g2_score,j07_p2_g1_score,j07_p2_g2_score,j07_p1_diff,j07_p2_diff,j07_p1_g1_50,j07_p1_g2_50,j07_p2_g1_50,j07_p2_g2_50 = call_get_score(j07, 'j')\n",
    "j07.head()\n",
    "\n",
    "\n",
    "df = organize_trial_by_trial('data/j08_gamedata.csv')\n",
    "j08 = df\n",
    "j08_p1_g1_score,j08_p1_g2_score,j08_p2_g1_score,j08_p2_g2_score,j08_p1_diff,j08_p2_diff,j08_p1_g1_50,j08_p1_g2_50,j08_p2_g1_50,j08_p2_g2_50 = call_get_score(j08, 'j')\n",
    "j08.head()\n",
    "\n",
    "\n",
    "df = organize_trial_by_trial_300('data/j10_gamedata2.csv')\n",
    "j10 = df\n",
    "j10_p1_g1_score,j10_p1_g2_score,j10_p2_g1_score,j10_p2_g2_score,j10_p1_diff,j10_p2_diff,j10_p1_g1_50,j10_p1_g2_50,j10_p2_g1_50,j10_p2_g2_50 = call_get_score(j10, 'j')\n",
    "j10.head()\n",
    "\n",
    "\n",
    "df = organize_trial_by_trial_300('data/j11_gamedata2.csv')\n",
    "j11 = df\n",
    "j11_p1_g1_score,j11_p1_g2_score,j11_p2_g1_score,j11_p2_g2_score,j11_p1_diff,j11_p2_diff,j11_p1_g1_50,j11_p1_g2_50,j11_p2_g1_50,j11_p2_g2_50 = call_get_score(j11, 'j')\n",
    "j11.head()\n",
    "\n",
    "#NEED to add j12 to other analyses\n",
    "''''df = organize_trial_by_trial_300('data/j12_gamedata_old.csv')\n",
    "j12 = df\n",
    "j12_p1_g1_score,j12_p1_g2_score,j12_p2_g1_score,j12_p2_g2_score,j12_p1_diff,j12_p2_diff,j12_p1_g1_50,j12_p1_g2_50,j12_p2_g1_50,j12_p2_g2_50 = call_get_score(j12, 'j')\n",
    "j12.head()'''"
   ]
  },
  {
   "cell_type": "code",
   "execution_count": 312,
   "metadata": {},
   "outputs": [
    {
     "name": "stderr",
     "output_type": "stream",
     "text": [
      "/Users/simonefroley/opt/anaconda3/lib/python3.7/site-packages/ipykernel_launcher.py:12: UserWarning: Boolean Series key will be reindexed to match DataFrame index.\n",
      "  if sys.path[0] == '':\n",
      "/Users/simonefroley/opt/anaconda3/lib/python3.7/site-packages/ipykernel_launcher.py:13: UserWarning: Boolean Series key will be reindexed to match DataFrame index.\n",
      "  del sys.path[0]\n",
      "/Users/simonefroley/opt/anaconda3/lib/python3.7/site-packages/ipykernel_launcher.py:25: UserWarning: Boolean Series key will be reindexed to match DataFrame index.\n",
      "/Users/simonefroley/opt/anaconda3/lib/python3.7/site-packages/ipykernel_launcher.py:26: UserWarning: Boolean Series key will be reindexed to match DataFrame index.\n"
     ]
    }
   ],
   "source": [
    "'''Here we separate the dataframes by suject and game by calling separate_df. We also create arrays with the number of\n",
    "times that each subject chose each hole by calling value_counts.'''\n",
    "\n",
    "j01_p1_g1, j01_p1_g2, j01_p2_g1, j01_p2_g2 = separate_df(j01, 'j')\n",
    "j02_p1_g1, j02_p1_g2, j02_p2_g1, j02_p2_g2 = separate_df(j02, 'j')\n",
    "j03_p1_g1, j03_p1_g2, j03_p2_g1, j03_p2_g2 = separate_df(j03, 'j')\n",
    "j04_p1_g1, j04_p1_g2, j04_p2_g1, j04_p2_g2 = separate_df(j04, 'j')\n",
    "j05_p1_g1, j05_p1_g2, j05_p2_g1, j05_p2_g2 = separate_df(j05, 'j')\n",
    "j06_p1_g1, j06_p1_g2, j06_p2_g1, j06_p2_g2 = separate_df(j06, 'j')\n",
    "j07_p1_g1, j07_p1_g2, j07_p2_g1, j07_p2_g2 = separate_df(j07, 'j')\n",
    "j08_p1_g1, j08_p1_g2, j08_p2_g1, j08_p2_g2 = separate_df(j08, 'j')\n",
    "j10_p1_g1, j10_p1_g2, j10_p2_g1, j10_p2_g2 = separate_df(j10, 'j')\n",
    "j11_p1_g1, j11_p1_g2, j11_p2_g1, j11_p2_g2 = separate_df(j11, 'j')\n",
    "\n",
    "\n",
    "\n",
    "j01_p1_g1_count = j01_p1_g1['probability'].value_counts(sort=False)\n",
    "j01_p1_g2_count = j01_p1_g2['probability'].value_counts(sort=False)\n",
    "j01_p2_g1_count = j01_p2_g1['probability'].value_counts(sort=False)\n",
    "j01_p2_g2_count = j01_p2_g2['probability'].value_counts(sort=False)\n",
    "j02_p1_g1_count = j02_p1_g1['probability'].value_counts(sort=False)\n",
    "j02_p1_g2_count = j02_p1_g2['probability'].value_counts(sort=False)\n",
    "j02_p2_g1_count = j02_p2_g1['probability'].value_counts(sort=False)\n",
    "j02_p2_g2_count = j02_p2_g2['probability'].value_counts(sort=False)\n",
    "j03_p1_g1_count = j03_p1_g1['probability'].value_counts(sort=False)\n",
    "j03_p1_g2_count = j03_p1_g2['probability'].value_counts(sort=False)\n",
    "j03_p2_g1_count = j03_p2_g1['probability'].value_counts(sort=False)\n",
    "j03_p2_g2_count = j03_p2_g2['probability'].value_counts(sort=False)\n",
    "j04_p1_g1_count = j04_p1_g1['probability'].value_counts(sort=False)\n",
    "j04_p1_g2_count = j04_p1_g2['probability'].value_counts(sort=False)\n",
    "j04_p2_g1_count = j04_p2_g1['probability'].value_counts(sort=False)\n",
    "j04_p2_g2_count = j04_p2_g2['probability'].value_counts(sort=False)\n",
    "j05_p1_g1_count = j05_p1_g1['probability'].value_counts(sort=False)\n",
    "j05_p1_g2_count = j05_p1_g2['probability'].value_counts(sort=False)\n",
    "j05_p2_g1_count = j05_p2_g1['probability'].value_counts(sort=False)\n",
    "j05_p2_g2_count = j05_p2_g2['probability'].value_counts(sort=False)\n",
    "j06_p1_g1_count = j06_p1_g1['probability'].value_counts(sort=False)\n",
    "j06_p1_g2_count = j06_p1_g2['probability'].value_counts(sort=False)\n",
    "j06_p2_g1_count = j06_p2_g1['probability'].value_counts(sort=False)\n",
    "j06_p2_g2_count = j06_p2_g2['probability'].value_counts(sort=False)\n",
    "j07_p1_g1_count = j07_p1_g1['probability'].value_counts(sort=False)\n",
    "j07_p1_g2_count = j07_p1_g2['probability'].value_counts(sort=False)\n",
    "j07_p2_g1_count = j07_p2_g1['probability'].value_counts(sort=False)\n",
    "j07_p2_g2_count = j07_p2_g2['probability'].value_counts(sort=False)\n",
    "j08_p1_g1_count = j08_p1_g1['probability'].value_counts(sort=False)\n",
    "j08_p1_g2_count = j08_p1_g2['probability'].value_counts(sort=False)\n",
    "j08_p2_g1_count = j08_p2_g1['probability'].value_counts(sort=False)\n",
    "j08_p2_g2_count = j08_p2_g2['probability'].value_counts(sort=False)\n",
    "j10_p1_g1_count = j10_p1_g1['probability'].value_counts(sort=False)\n",
    "j10_p1_g2_count = j10_p1_g2['probability'].value_counts(sort=False)\n",
    "j10_p2_g1_count = j10_p2_g1['probability'].value_counts(sort=False)\n",
    "j10_p2_g2_count = j10_p2_g2['probability'].value_counts(sort=False)\n",
    "j11_p1_g1_count = j11_p1_g1['probability'].value_counts(sort=False)\n",
    "j11_p1_g2_count = j11_p1_g2['probability'].value_counts(sort=False)\n",
    "j11_p2_g1_count = j11_p2_g1['probability'].value_counts(sort=False)\n",
    "j11_p2_g2_count = j11_p2_g2['probability'].value_counts(sort=False)"
   ]
  },
  {
   "cell_type": "code",
   "execution_count": 313,
   "metadata": {},
   "outputs": [
    {
     "data": {
      "text/plain": [
       "'j01_p1_g1_map = hole_prob_map(j01_p1_g1)\\nj01_p1_g2_map = hole_prob_map(j01_p1_g2)\\nj01_p2_g1_map = hole_prob_map(j01_p2_g1)\\nj01_p2_g2_map = hole_prob_map(j01_p2_g2)\\n\\nj02_p1_g1_map = hole_prob_map(j02_p1_g1)\\nj02_p1_g2_map = hole_prob_map(j02_p1_g2)\\nj02_p2_g1_map = hole_prob_map(j02_p2_g1)\\nj02_p2_g2_map = hole_prob_map(j02_p2_g2)\\n\\nj03_p1_g1_map = hole_prob_map(j03_p1_g1)\\nj03_p1_g2_map = hole_prob_map(j03_p1_g2)\\nj03_p2_g1_map = hole_prob_map(j03_p2_g1)\\nj03_p2_g2_map = hole_prob_map(j03_p2_g2)\\n\\nj04_p1_g1_map = hole_prob_map(j04_p1_g1)\\nj04_p1_g2_map = hole_prob_map(j04_p1_g2)\\nj04_p2_g1_map = hole_prob_map(j04_p2_g1)\\nj04_p2_g2_map = hole_prob_map(j04_p2_g2)\\n\\nj05_p1_g1_map = hole_prob_map(j05_p1_g1)\\nj05_p1_g2_map = hole_prob_map(j05_p1_g2)\\nj05_p2_g1_map = hole_prob_map(j05_p2_g1)\\nj05_p2_g2_map = hole_prob_map(j05_p2_g2)\\n\\nj06_p1_g1_map = hole_prob_map(j06_p1_g1)\\nj06_p1_g2_map = hole_prob_map(j06_p1_g2)\\nj06_p2_g1_map = hole_prob_map(j06_p2_g1)\\nj06_p2_g2_map = hole_prob_map(j06_p2_g2)\\n\\nj07_p1_g1_map = hole_prob_map(j07_p1_g1)\\nj07_p1_g2_map = hole_prob_map(j07_p1_g2)\\nj07_p2_g1_map = hole_prob_map(j07_p2_g1)\\nj07_p2_g2_map = hole_prob_map(j07_p2_g2)\\n\\nj08_p1_g1_map = hole_prob_map(j08_p1_g1)\\nj08_p1_g2_map = hole_prob_map(j08_p1_g2)\\nj08_p2_g1_map = hole_prob_map(j08_p2_g1)\\nj08_p2_g2_map = hole_prob_map(j08_p2_g2)\\n\\nj10_p1_g1_map = hole_prob_map(j10_p1_g1)\\nj10_p1_g2_map = hole_prob_map(j10_p1_g2)\\nj10_p2_g1_map = hole_prob_map(j10_p2_g1)\\nj10_p2_g2_map = hole_prob_map(j10_p2_g2)\\n\\n'"
      ]
     },
     "execution_count": 313,
     "metadata": {},
     "output_type": "execute_result"
    }
   ],
   "source": [
    "'''Here we mech the hole-probability mappings in each game for each player'''\n",
    "#INDEXER ERROR\n",
    "'''j01_p1_g1_map = hole_prob_map(j01_p1_g1)\n",
    "j01_p1_g2_map = hole_prob_map(j01_p1_g2)\n",
    "j01_p2_g1_map = hole_prob_map(j01_p2_g1)\n",
    "j01_p2_g2_map = hole_prob_map(j01_p2_g2)\n",
    "\n",
    "j02_p1_g1_map = hole_prob_map(j02_p1_g1)\n",
    "j02_p1_g2_map = hole_prob_map(j02_p1_g2)\n",
    "j02_p2_g1_map = hole_prob_map(j02_p2_g1)\n",
    "j02_p2_g2_map = hole_prob_map(j02_p2_g2)\n",
    "\n",
    "j03_p1_g1_map = hole_prob_map(j03_p1_g1)\n",
    "j03_p1_g2_map = hole_prob_map(j03_p1_g2)\n",
    "j03_p2_g1_map = hole_prob_map(j03_p2_g1)\n",
    "j03_p2_g2_map = hole_prob_map(j03_p2_g2)\n",
    "\n",
    "j04_p1_g1_map = hole_prob_map(j04_p1_g1)\n",
    "j04_p1_g2_map = hole_prob_map(j04_p1_g2)\n",
    "j04_p2_g1_map = hole_prob_map(j04_p2_g1)\n",
    "j04_p2_g2_map = hole_prob_map(j04_p2_g2)\n",
    "\n",
    "j05_p1_g1_map = hole_prob_map(j05_p1_g1)\n",
    "j05_p1_g2_map = hole_prob_map(j05_p1_g2)\n",
    "j05_p2_g1_map = hole_prob_map(j05_p2_g1)\n",
    "j05_p2_g2_map = hole_prob_map(j05_p2_g2)\n",
    "\n",
    "j06_p1_g1_map = hole_prob_map(j06_p1_g1)\n",
    "j06_p1_g2_map = hole_prob_map(j06_p1_g2)\n",
    "j06_p2_g1_map = hole_prob_map(j06_p2_g1)\n",
    "j06_p2_g2_map = hole_prob_map(j06_p2_g2)\n",
    "\n",
    "j07_p1_g1_map = hole_prob_map(j07_p1_g1)\n",
    "j07_p1_g2_map = hole_prob_map(j07_p1_g2)\n",
    "j07_p2_g1_map = hole_prob_map(j07_p2_g1)\n",
    "j07_p2_g2_map = hole_prob_map(j07_p2_g2)\n",
    "\n",
    "j08_p1_g1_map = hole_prob_map(j08_p1_g1)\n",
    "j08_p1_g2_map = hole_prob_map(j08_p1_g2)\n",
    "j08_p2_g1_map = hole_prob_map(j08_p2_g1)\n",
    "j08_p2_g2_map = hole_prob_map(j08_p2_g2)\n",
    "\n",
    "j10_p1_g1_map = hole_prob_map(j10_p1_g1)\n",
    "j10_p1_g2_map = hole_prob_map(j10_p1_g2)\n",
    "j10_p2_g1_map = hole_prob_map(j10_p2_g1)\n",
    "j10_p2_g2_map = hole_prob_map(j10_p2_g2)\n",
    "\n",
    "'''\n",
    "#j11_p1_g1_map = hole_prob_map(j11_p1_g1)\n",
    "#j11_p1_g2_map = hole_prob_map(j11_p1_g2)\n",
    "#j11_p2_g1_map = hole_prob_map(j11_p2_g1)\n",
    "#j11_p2_g2_map = hole_prob_map(j11_p2_g2)"
   ]
  },
  {
   "cell_type": "code",
   "execution_count": 314,
   "metadata": {},
   "outputs": [],
   "source": [
    "'''Here we create dataframes with all of the scores of each subject in games 1 and 2. 50 refers to the score half-way\n",
    "through the games'''\n",
    "\n",
    "\n",
    "# # Combined Joint scores G1\n",
    "\n",
    "j_scores_1 = pd.DataFrame({'participant':['j01_p1', 'j01_p2','j02_p1', 'j02_p2','j03_p1', 'j03_p2','j04_p1', 'j04_p2','j05_p1', 'j05_p2','j06_p1','j06_p2','j07_p1', 'j07_p2','j08_p1', 'j08_p2','j10_p1', 'j10_p2','j11_p1', 'j11_p2'], 'score_1':\n",
    "     [j01_p1_g1_score, j01_p2_g1_score, j02_p1_g1_score, j02_p2_g1_score, j03_p1_g1_score, j03_p2_g1_score,\n",
    "      j04_p1_g1_score, j04_p2_g1_score, j05_p1_g1_score, j05_p2_g1_score, j06_p1_g1_score, j06_p2_g1_score,\n",
    "      j07_p1_g1_score, j07_p2_g1_score, j08_p1_g1_score, j08_p2_g1_score, j10_p1_g1_score, j10_p2_g1_score, j11_p1_g1_score, j11_p2_g1_score]})\n",
    "j_scores_1.set_index('participant', inplace=True, drop=True)\n",
    "j_scores_1\n",
    "\n",
    "\n",
    "# # Combined Joint scores G2\n",
    "\n",
    "# In[ ]:\n",
    "\n",
    "\n",
    "j_scores_2_d = pd.DataFrame({'participant':['j01_p1', 'j01_p2','j02_p1', 'j02_p2','j03_p1', 'j03_p2','j04_p1', 'j04_p2','j05_p1', 'j05_p2','j06_p1','j06_p2','j07_p1', 'j07_p2','j08_p1', 'j08_p2'], 'score_2':\n",
    "     [j01_p1_g2_score, j01_p2_g2_score, j02_p1_g2_score, j02_p2_g2_score, j03_p1_g2_score, j03_p2_g2_score,\n",
    "      j04_p1_g2_score, j04_p2_g2_score, j05_p1_g2_score, j05_p2_g2_score, j06_p1_g2_score, j06_p2_g2_score,\n",
    "      j07_p1_g2_score, j07_p2_g2_score, j08_p1_g2_score, j08_p2_g2_score]})\n",
    "j_scores_2_d.set_index('participant', inplace=True, drop=True)\n",
    "\n",
    "j_scores_2_s = pd.DataFrame({'participant':['j10_p1', 'j10_p2','j11_p1', 'j11_p2'], 'score_2':\n",
    "     [j10_p1_g2_score, j10_p2_g2_score, j11_p1_g2_score, j11_p2_g2_score]})\n",
    "j_scores_2_s.set_index('participant', inplace=True, drop=True)\n",
    "\n",
    "j_scores_1_50 = pd.DataFrame({'participant':['j01_p1', 'j01_p2','j02_p1', 'j02_p2','j03_p1', 'j03_p2','j04_p1', 'j04_p2','j05_p1', 'j05_p2','j06_p1','j06_p2','j07_p1', 'j07_p2','j08_p1', 'j08_p2','j10_p1', 'j10_p2','j11_p1', 'j11_p2'], 'score_1_50':\n",
    "     [j01_p1_g1_50, j01_p2_g1_50, j02_p1_g1_50, j02_p2_g1_50, j03_p1_g1_50, j03_p2_g1_50,\n",
    "      j04_p1_g1_50, j04_p2_g1_50, j05_p1_g1_50, j05_p2_g1_50, j06_p1_g1_50, j06_p2_g1_50,\n",
    "      j07_p1_g1_50, j07_p2_g1_50, j08_p1_g1_50, j08_p2_g1_50, j10_p1_g1_50, j10_p2_g1_50, j11_p1_g1_50, j11_p2_g1_50]})\n",
    "j_scores_1_50.set_index('participant', inplace=True, drop=True)\n",
    "\n",
    "\n",
    "\n",
    "\n",
    "j_scores_2_50 = pd.DataFrame({'participant':['j01_p1', 'j01_p2','j02_p1', 'j02_p2','j03_p1', 'j03_p2','j04_p1', 'j04_p2','j05_p1', 'j05_p2','j06_p1','j06_p2','j07_p1', 'j07_p2','j08_p1', 'j08_p2','j10_p1', 'j10_p2','j11_p1', 'j11_p2'], 'score_2_50':\n",
    "     [j01_p1_g2_50, j01_p2_g2_50, j02_p1_g2_50, j02_p2_g2_50, j03_p1_g2_50, j03_p2_g2_50,\n",
    "      j04_p1_g2_50, j04_p2_g2_50, j05_p1_g2_50, j05_p2_g2_50, j06_p1_g2_50, j06_p2_g2_50,\n",
    "      j07_p1_g2_50, j07_p2_g2_50, j08_p1_g2_50, j08_p2_g2_50, j10_p1_g2_50, j10_p2_g2_50, j11_p1_g2_50, j11_p2_g2_50]})\n",
    "j_scores_2_50.set_index('participant', inplace=True, drop=True)\n",
    "\n"
   ]
  },
  {
   "cell_type": "code",
   "execution_count": 315,
   "metadata": {},
   "outputs": [
    {
     "data": {
      "image/png": "[encoded data removed]",
      "text/plain": [
       "<Figure size 432x288 with 1 Axes>"
      ]
     },
     "metadata": {},
     "output_type": "display_data"
    }
   ],
   "source": [
    "j_scores_1_box = sns.boxplot( \n",
    "                 data=j_scores_1, \n",
    "                 width=0.5,\n",
    "                 palette=\"pastel\")\n",
    "j_scores_1_box.axes.set_title(\"SMAB3 Social Scores in Game 1\",\n",
    "                    fontsize=16)\n",
    "\n",
    "plot_file_name=\"j_score_1_box.jpg\"\n",
    " \n",
    "plt.ylim(0, 100)\n",
    "j_scores_1_box.axes.set(ylabel='Score')\n",
    "\n",
    "# save as jpeg\n",
    "j_scores_1_box.figure.savefig(plot_file_name,\n",
    "                    format='jpeg')"
   ]
  },
  {
   "cell_type": "code",
   "execution_count": 316,
   "metadata": {},
   "outputs": [
    {
     "data": {
      "image/png": "[encoded data removed]",
      "text/plain": [
       "<Figure size 432x288 with 1 Axes>"
      ]
     },
     "metadata": {},
     "output_type": "display_data"
    }
   ],
   "source": [
    "j_scores_2s_box = sns.boxplot( \n",
    "                 data=j_scores_2_s, \n",
    "                 width=0.5,\n",
    "                 palette=\"pastel\")\n",
    "j_scores_2s_box.axes.set_title(\"SMAB3 Social Scores in Game 1-Same\",\n",
    "                    fontsize=16)\n",
    "\n",
    "plot_file_name=\"j_score_2s_box.jpg\"\n",
    " \n",
    "plt.ylim(0, 100)\n",
    "j_scores_2s_box.axes.set(ylabel='Score')\n",
    "\n",
    "# save as jpeg\n",
    "j_scores_2s_box.figure.savefig(plot_file_name,\n",
    "                    format='jpeg')"
   ]
  },
  {
   "cell_type": "code",
   "execution_count": 317,
   "metadata": {},
   "outputs": [
    {
     "data": {
      "image/png": "[encoded data removed]",
      "text/plain": [
       "<Figure size 432x288 with 1 Axes>"
      ]
     },
     "metadata": {},
     "output_type": "display_data"
    }
   ],
   "source": [
    "j_scores_2d_box = sns.boxplot( \n",
    "                 data=j_scores_2_d, \n",
    "                 width=0.5,\n",
    "                 palette=\"pastel\")\n",
    "j_scores_2d_box.axes.set_title(\"SMAB3 Social Scores in Game 1-Different\",\n",
    "                    fontsize=16)\n",
    "\n",
    "plot_file_name=\"j_score_2d_box.jpg\"\n",
    " \n",
    "plt.ylim(0, 100)\n",
    "j_scores_2d_box.axes.set(ylabel='Score')\n",
    "\n",
    "# save as jpeg\n",
    "j_scores_2d_box.figure.savefig(plot_file_name,\n",
    "                    format='jpeg')"
   ]
  },
  {
   "cell_type": "code",
   "execution_count": 318,
   "metadata": {},
   "outputs": [],
   "source": [
    "j_scores_2s_mean = j_scores_2_s.mean()"
   ]
  },
  {
   "cell_type": "code",
   "execution_count": 319,
   "metadata": {},
   "outputs": [],
   "source": [
    "j_scores_2d_mean = j_scores_2_d.mean()"
   ]
  },
  {
   "cell_type": "code",
   "execution_count": 320,
   "metadata": {},
   "outputs": [],
   "source": [
    "j_scores_2s_std = j_scores_2_s.std()"
   ]
  },
  {
   "cell_type": "code",
   "execution_count": 321,
   "metadata": {},
   "outputs": [],
   "source": [
    "j_scores_2d_std = j_scores_2_d.std()"
   ]
  },
  {
   "cell_type": "code",
   "execution_count": 322,
   "metadata": {},
   "outputs": [
    {
     "data": {
      "text/plain": [
       "(score_2    80.25\n",
       " dtype: float64, score_2    5.965177\n",
       " dtype: float64)"
      ]
     },
     "execution_count": 322,
     "metadata": {},
     "output_type": "execute_result"
    }
   ],
   "source": [
    "j_scores_2s_mean, j_scores_2s_std"
   ]
  },
  {
   "cell_type": "code",
   "execution_count": 162,
   "metadata": {},
   "outputs": [
    {
     "data": {
      "text/plain": [
       "(score_2    72.6875\n",
       " dtype: float64, score_2    8.42788\n",
       " dtype: float64)"
      ]
     },
     "execution_count": 162,
     "metadata": {},
     "output_type": "execute_result"
    }
   ],
   "source": [
    "j_scores_2d_mean, j_scores_2d_std"
   ]
  },
  {
   "cell_type": "code",
   "execution_count": 163,
   "metadata": {},
   "outputs": [
    {
     "data": {
      "text/plain": [
       "Ttest_indResult(statistic=array([1.67640168]), pvalue=array([0.11094111]))"
      ]
     },
     "execution_count": 163,
     "metadata": {},
     "output_type": "execute_result"
    }
   ],
   "source": [
    "sp.stats.ttest_ind(j_scores_2_s, j_scores_2_d)"
   ]
  },
  {
   "cell_type": "code",
   "execution_count": 164,
   "metadata": {},
   "outputs": [
    {
     "data": {
      "text/plain": [
       "8"
      ]
     },
     "execution_count": 164,
     "metadata": {},
     "output_type": "execute_result"
    }
   ],
   "source": [
    "s_scores_2_s.size"
   ]
  },
  {
   "cell_type": "code",
   "execution_count": 165,
   "metadata": {},
   "outputs": [
    {
     "data": {
      "text/plain": [
       "score_1    9.653333\n",
       "dtype: float64"
      ]
     },
     "execution_count": 165,
     "metadata": {},
     "output_type": "execute_result"
    }
   ],
   "source": [
    "'''Here we get the mean, median, and standard deviation of the scores. We also run a t-test comparing the scores in games 1 and 2\n",
    "and plot the data.'''\n",
    "\n",
    "j_scores_1_mean = j_scores_1.mean()\n",
    "\n",
    "\n",
    "# In[ ]:\n",
    "\n",
    "\n",
    "j_scores_1_mean\n",
    "\n",
    "\n",
    "# In[ ]:\n",
    "\n",
    "\n",
    "j_scores_1_std = j_scores_1.std()\n",
    "\n",
    "\n",
    "# In[ ]:\n",
    "\n",
    "\n",
    "j_scores_1_std"
   ]
  },
  {
   "cell_type": "code",
   "execution_count": 166,
   "metadata": {},
   "outputs": [],
   "source": [
    "#j_scores_p = sp.stats.ttest_rel(j_scores['Game 1'],j_scores['Game 2'])"
   ]
  },
  {
   "cell_type": "code",
   "execution_count": 167,
   "metadata": {},
   "outputs": [
    {
     "data": {
      "text/plain": [
       "20"
      ]
     },
     "execution_count": 167,
     "metadata": {},
     "output_type": "execute_result"
    }
   ],
   "source": [
    "len(j_scores_1)"
   ]
  },
  {
   "cell_type": "code",
   "execution_count": 168,
   "metadata": {},
   "outputs": [
    {
     "data": {
      "text/plain": [
       "'\\nj_scores_box = sns.boxplot( \\n                 data=j_scores, \\n                 width=0.5,\\n                 palette=\"pastel\")\\nj_scores_box.axes.set_title(\"SMAB3 Social Scores\",\\n                    fontsize=16)\\n\\nplot_file_name=\"j_score_box.jpg\"\\n \\nplt.ylim(0, 100)\\nj_scores_box.axes.set(ylabel=\\'Score\\')\\n\\n# save as jpeg\\nj_scores_box.figure.savefig(plot_file_name,\\n                    format=\\'jpeg\\')'"
      ]
     },
     "execution_count": 168,
     "metadata": {},
     "output_type": "execute_result"
    }
   ],
   "source": [
    "'''\n",
    "j_scores_box = sns.boxplot( \n",
    "                 data=j_scores, \n",
    "                 width=0.5,\n",
    "                 palette=\"pastel\")\n",
    "j_scores_box.axes.set_title(\"SMAB3 Social Scores\",\n",
    "                    fontsize=16)\n",
    "\n",
    "plot_file_name=\"j_score_box.jpg\"\n",
    " \n",
    "plt.ylim(0, 100)\n",
    "j_scores_box.axes.set(ylabel='Score')\n",
    "\n",
    "# save as jpeg\n",
    "j_scores_box.figure.savefig(plot_file_name,\n",
    "                    format='jpeg')'''"
   ]
  },
  {
   "cell_type": "code",
   "execution_count": 323,
   "metadata": {},
   "outputs": [
    {
     "data": {
      "image/png": "[encoded data removed]",
      "text/plain": [
       "<Figure size 432x288 with 1 Axes>"
      ]
     },
     "metadata": {},
     "output_type": "display_data"
    }
   ],
   "source": [
    "'''Here we place all of the data into the number of times each subject chose each hole into dataframes for games 1 \n",
    "and 2. We plot this data and run statistics on it.'''\n",
    "\n",
    "# # Joint combined choices in G1\n",
    "\n",
    "\n",
    "\n",
    "j_g1_counts = pd.DataFrame([j01_p1_g1_count, j01_p2_g1_count, j02_p1_g1_count, j02_p2_g1_count, j03_p1_g1_count, \n",
    "              j03_p2_g1_count, j04_p1_g1_count, j04_p2_g1_count, j05_p1_g1_count, j05_p2_g1_count, j06_p1_g1_count, \n",
    "              j06_p2_g1_count, j07_p1_g1_count, j07_p2_g1_count, j08_p1_g1_count, j08_p2_g1_count, \n",
    "              j10_p1_g1_count, j10_p2_g1_count, j11_p1_g1_count, j11_p2_g1_count],\n",
    "                index = ['j01_p1_g1_count', 'j01_p2_g1_count', 'j02_p1_g1_count', 'j02_p2_g1_count', \n",
    "                 'j03_p1_g1_count', 'j03_p2_g1_count', 'j04_p1_g1_count', 'j04_p2_g1_count', 'j05_p1_g1_count', \n",
    "                  'j05_p2_g1_count', 'j06_p1_g1_count', 'j06_p2_g1_count', 'j07_p1_g1_count', \n",
    "                    'j07_p2_g1_count', 'j08_p1_g1_count', 'j08_p2_g1_count', 'j10_p1_g1_count', 'j10_p2_g1_count', \n",
    "                    'j11_p1_g1_count', 'j11_p2_g1_count'])\n",
    "\n",
    "\n",
    "# In[ ]:\n",
    "\n",
    "\n",
    "j_g1_counts = j_g1_counts.fillna(0)\n",
    "\n",
    "\n",
    "# In[ ]:\n",
    "\n",
    "\n",
    "j_g1_counts \n",
    "\n",
    "\n",
    "# In[ ]:\n",
    "\n",
    "\n",
    "j_g1_counts.sum(axis=1)\n",
    "\n",
    "\n",
    "# In[ ]:\n",
    "\n",
    "\n",
    "j_g1_counts_bar = j_g1_counts.plot.bar()\n",
    "\n",
    "j_g1_counts_bar.axes.set_title(\"SMAB3 Social Choice Distributions in Game 1\",\n",
    "                    fontsize=16)\n",
    "\n",
    "j_g1_counts_bar.figure.savefig(\"j_g1_counts_bar.jpg\",\n",
    "                    format='jpeg')"
   ]
  },
  {
   "cell_type": "code",
   "execution_count": 170,
   "metadata": {},
   "outputs": [
    {
     "data": {
      "image/png": "[encoded data removed]",
      "text/plain": [
       "<Figure size 432x288 with 1 Axes>"
      ]
     },
     "metadata": {},
     "output_type": "display_data"
    }
   ],
   "source": [
    "# In[ ]:\n",
    "sns.set_style(\"whitegrid\")\n",
    "\n",
    "j_g1_counts_box = sns.boxplot( \n",
    "                 data=j_g1_counts, \n",
    "                 width=0.5,\n",
    "                 palette=\"pastel\")\n",
    "j_g1_counts_box.axes.set_title(\"SMAB3 Social Choice Distributions in Game 1\",\n",
    "                    fontsize=16)\n",
    "\n",
    "plot_file_name=\"j_g1_counts_box.jpg\"\n",
    " \n",
    "plt.ylim(0, 100)\n",
    "j_g1_counts_box.axes.set(xlabel='Arm',ylabel='Frequency')\n",
    "\n",
    "# save as jpeg\n",
    "j_g1_counts_box.figure.savefig(plot_file_name,\n",
    "                    format='jpeg')\n",
    "\n",
    "\n",
    "# In[ ]:"
   ]
  },
  {
   "cell_type": "code",
   "execution_count": 171,
   "metadata": {},
   "outputs": [
    {
     "data": {
      "text/plain": [
       "5.284647575761321"
      ]
     },
     "execution_count": 171,
     "metadata": {},
     "output_type": "execute_result"
    }
   ],
   "source": [
    "j_g1_low = np.mean(j_g1_counts.iloc[:,0])\n",
    "j_g1_med = np.mean(j_g1_counts.iloc[:,1])\n",
    "j_g1_high = np.mean(j_g1_counts.iloc[:,2])\n",
    "\n",
    "\n",
    "# In[ ]:\n",
    "\n",
    "\n",
    "j_g1_low\n",
    "\n",
    "\n",
    "# In[ ]:\n",
    "\n",
    "\n",
    "j_g1_med\n",
    "\n",
    "\n",
    "# In[ ]:\n",
    "\n",
    "\n",
    "j_g1_high\n",
    "\n",
    "\n",
    "# In[ ]:\n",
    "\n",
    "\n",
    "j_g1_low_std = np.std(j_g1_counts.iloc[:,0])\n",
    "j_g1_med_std = np.std(j_g1_counts.iloc[:,1])\n",
    "j_g1_high_std = np.std(j_g1_counts.iloc[:,2])\n",
    "\n",
    "\n",
    "# In[ ]:\n",
    "\n",
    "\n",
    "j_g1_low_std\n",
    "\n",
    "\n",
    "# In[ ]:\n",
    "\n",
    "\n",
    "j_g1_med_std\n",
    "\n",
    "\n",
    "# In[ ]:\n",
    "\n",
    "\n",
    "j_g1_high_std"
   ]
  },
  {
   "cell_type": "code",
   "execution_count": 172,
   "metadata": {},
   "outputs": [
    {
     "data": {
      "image/png": "[encoded data removed]",
      "text/plain": [
       "<Figure size 432x288 with 1 Axes>"
      ]
     },
     "metadata": {},
     "output_type": "display_data"
    }
   ],
   "source": [
    "# # Joint combined choices in G2\n",
    "\n",
    "\n",
    "j_g2_d_counts = pd.DataFrame([j01_p1_g2_count, j01_p2_g2_count, j02_p1_g2_count, j02_p2_g2_count, j03_p1_g2_count, \n",
    "              j03_p2_g2_count, j04_p1_g2_count, j04_p2_g2_count, j05_p1_g2_count, j05_p2_g2_count, j06_p1_g2_count, \n",
    "              j06_p2_g2_count, j07_p1_g2_count, j07_p2_g2_count, j08_p1_g2_count, j08_p2_g2_count],\n",
    "                index = ['j01_p1_g2_count', 'j01_p2_g2_count', 'j02_p1_g2_count', 'j02_p2_g2_count', \n",
    "                 'j03_p1_g2_count', 'j03_p2_g2_count', 'j04_p1_g2_count', 'j04_p2_g2_count', 'j05_p1_g2_count', \n",
    "                  'j05_p2_g2_count', 'j06_p1_g2_count', 'j06_p2_g2_count', 'j07_p1_g1_count', 'j07_p1_g2_count', \n",
    "                 'j08_p1_g2_count', 'j08_p2_g2_count'])\n",
    "\n",
    "\n",
    "\n",
    "j_g2_d_counts = j_g2_d_counts.fillna(0)\n",
    "\n",
    "\n",
    "\n",
    "j_g2_d_counts.sum(axis=1)\n",
    "\n",
    "\n",
    "\n",
    "j_g2_d_counts_bar = j_g2_d_counts.plot.bar()"
   ]
  },
  {
   "cell_type": "code",
   "execution_count": 173,
   "metadata": {},
   "outputs": [
    {
     "data": {
      "image/png": "[encoded data removed]",
      "text/plain": [
       "<Figure size 432x288 with 1 Axes>"
      ]
     },
     "metadata": {},
     "output_type": "display_data"
    }
   ],
   "source": [
    "j_g2_s_counts = pd.DataFrame([j10_p1_g2_count, j10_p2_g2_count, j11_p1_g2_count, j11_p2_g2_count],\n",
    "                index = ['j10_p1_g2_count', 'j10_p2_g2_count', \n",
    "                    'j11_p1_g2_count', 'j11_p2_g2_count'])\n",
    "\n",
    "\n",
    "\n",
    "j_g2_s_counts = j_g2_s_counts.fillna(0)\n",
    "\n",
    "\n",
    "\n",
    "j_g2_s_counts.sum(axis=1)\n",
    "\n",
    "\n",
    "\n",
    "j_g2_s_counts_bar = j_g2_s_counts.plot.bar()"
   ]
  },
  {
   "cell_type": "code",
   "execution_count": 174,
   "metadata": {},
   "outputs": [
    {
     "data": {
      "image/png": "[encoded data removed]",
      "text/plain": [
       "<Figure size 432x288 with 1 Axes>"
      ]
     },
     "metadata": {},
     "output_type": "display_data"
    }
   ],
   "source": [
    "# In[ ]:\n",
    "\n",
    "\n",
    "j_g2_s_counts_box = sns.boxplot( \n",
    "                 data=j_g2_s_counts, \n",
    "                 width=0.5,\n",
    "                 palette=\"pastel\")\n",
    "j_g2_s_counts_box.axes.set_title(\"SMAB3 Social Choice Distributions in Game 2- Same\",\n",
    "                    fontsize=16)\n",
    "\n",
    "plot_file_name=\"j_g2_s_counts_box.jpg\"\n",
    " \n",
    "plt.ylim(0, 100)\n",
    "j_g2_s_counts_box.axes.set(xlabel='Arm',ylabel='Frequency')\n",
    "\n",
    "# save as jpeg\n",
    "j_g2_s_counts_box.figure.savefig(plot_file_name,\n",
    "                    format='jpeg')"
   ]
  },
  {
   "cell_type": "code",
   "execution_count": 175,
   "metadata": {},
   "outputs": [
    {
     "data": {
      "image/png": "[encoded data removed]",
      "text/plain": [
       "<Figure size 432x288 with 1 Axes>"
      ]
     },
     "metadata": {},
     "output_type": "display_data"
    }
   ],
   "source": [
    "j_g2_d_counts_box = sns.boxplot( \n",
    "                 data=j_g2_d_counts, \n",
    "                 width=0.5,\n",
    "                 palette=\"pastel\")\n",
    "j_g2_d_counts_box.axes.set_title(\"SMAB3 Social Choice Distributions in Game 2- Different\",\n",
    "                    fontsize=16)\n",
    "\n",
    "plot_file_name=\"j_g2_d_counts_box.jpg\"\n",
    " \n",
    "plt.ylim(0, 100)\n",
    "j_g2_d_counts_box.axes.set(xlabel='Arm',ylabel='Frequency')\n",
    "\n",
    "# save as jpeg\n",
    "j_g2_d_counts_box.figure.savefig(plot_file_name,\n",
    "                    format='jpeg')"
   ]
  },
  {
   "cell_type": "code",
   "execution_count": 176,
   "metadata": {},
   "outputs": [
    {
     "data": {
      "text/html": [
       "<div>\n",
       "<style scoped>\n",
       "    .dataframe tbody tr th:only-of-type {\n",
       "        vertical-align: middle;\n",
       "    }\n",
       "\n",
       "    .dataframe tbody tr th {\n",
       "        vertical-align: top;\n",
       "    }\n",
       "\n",
       "    .dataframe thead th {\n",
       "        text-align: right;\n",
       "    }\n",
       "</style>\n",
       "<table border=\"1\" class=\"dataframe\">\n",
       "  <thead>\n",
       "    <tr style=\"text-align: right;\">\n",
       "      <th></th>\n",
       "      <th>score_1</th>\n",
       "    </tr>\n",
       "    <tr>\n",
       "      <th>participant</th>\n",
       "      <th></th>\n",
       "    </tr>\n",
       "  </thead>\n",
       "  <tbody>\n",
       "    <tr>\n",
       "      <td>j01_p1</td>\n",
       "      <td>57</td>\n",
       "    </tr>\n",
       "    <tr>\n",
       "      <td>j01_p2</td>\n",
       "      <td>61</td>\n",
       "    </tr>\n",
       "    <tr>\n",
       "      <td>j02_p1</td>\n",
       "      <td>54</td>\n",
       "    </tr>\n",
       "    <tr>\n",
       "      <td>j02_p2</td>\n",
       "      <td>68</td>\n",
       "    </tr>\n",
       "    <tr>\n",
       "      <td>j03_p1</td>\n",
       "      <td>69</td>\n",
       "    </tr>\n",
       "    <tr>\n",
       "      <td>j03_p2</td>\n",
       "      <td>67</td>\n",
       "    </tr>\n",
       "    <tr>\n",
       "      <td>j04_p1</td>\n",
       "      <td>64</td>\n",
       "    </tr>\n",
       "    <tr>\n",
       "      <td>j04_p2</td>\n",
       "      <td>56</td>\n",
       "    </tr>\n",
       "    <tr>\n",
       "      <td>j05_p1</td>\n",
       "      <td>77</td>\n",
       "    </tr>\n",
       "    <tr>\n",
       "      <td>j05_p2</td>\n",
       "      <td>70</td>\n",
       "    </tr>\n",
       "    <tr>\n",
       "      <td>j06_p1</td>\n",
       "      <td>54</td>\n",
       "    </tr>\n",
       "    <tr>\n",
       "      <td>j06_p2</td>\n",
       "      <td>61</td>\n",
       "    </tr>\n",
       "    <tr>\n",
       "      <td>j07_p1</td>\n",
       "      <td>74</td>\n",
       "    </tr>\n",
       "    <tr>\n",
       "      <td>j07_p2</td>\n",
       "      <td>80</td>\n",
       "    </tr>\n",
       "    <tr>\n",
       "      <td>j08_p1</td>\n",
       "      <td>60</td>\n",
       "    </tr>\n",
       "    <tr>\n",
       "      <td>j08_p2</td>\n",
       "      <td>57</td>\n",
       "    </tr>\n",
       "    <tr>\n",
       "      <td>j10_p1</td>\n",
       "      <td>66</td>\n",
       "    </tr>\n",
       "    <tr>\n",
       "      <td>j10_p2</td>\n",
       "      <td>75</td>\n",
       "    </tr>\n",
       "    <tr>\n",
       "      <td>j11_p1</td>\n",
       "      <td>79</td>\n",
       "    </tr>\n",
       "    <tr>\n",
       "      <td>j11_p2</td>\n",
       "      <td>88</td>\n",
       "    </tr>\n",
       "  </tbody>\n",
       "</table>\n",
       "</div>"
      ],
      "text/plain": [
       "             score_1\n",
       "participant         \n",
       "j01_p1            57\n",
       "j01_p2            61\n",
       "j02_p1            54\n",
       "j02_p2            68\n",
       "j03_p1            69\n",
       "j03_p2            67\n",
       "j04_p1            64\n",
       "j04_p2            56\n",
       "j05_p1            77\n",
       "j05_p2            70\n",
       "j06_p1            54\n",
       "j06_p2            61\n",
       "j07_p1            74\n",
       "j07_p2            80\n",
       "j08_p1            60\n",
       "j08_p2            57\n",
       "j10_p1            66\n",
       "j10_p2            75\n",
       "j11_p1            79\n",
       "j11_p2            88"
      ]
     },
     "execution_count": 176,
     "metadata": {},
     "output_type": "execute_result"
    }
   ],
   "source": [
    "j_scores_1"
   ]
  },
  {
   "cell_type": "code",
   "execution_count": 177,
   "metadata": {},
   "outputs": [
    {
     "data": {
      "text/plain": [
       "score_1    66.85\n",
       "dtype: float64"
      ]
     },
     "execution_count": 177,
     "metadata": {},
     "output_type": "execute_result"
    }
   ],
   "source": [
    "j_scores_1_mean"
   ]
  },
  {
   "cell_type": "code",
   "execution_count": 178,
   "metadata": {},
   "outputs": [
    {
     "data": {
      "text/plain": [
       "score_1    9.653333\n",
       "dtype: float64"
      ]
     },
     "execution_count": 178,
     "metadata": {},
     "output_type": "execute_result"
    }
   ],
   "source": [
    "j_scores_1_std"
   ]
  },
  {
   "cell_type": "code",
   "execution_count": 179,
   "metadata": {},
   "outputs": [],
   "source": [
    "# In[ ]:\n",
    "\n",
    "j_g1_low = np.mean(j_g1_counts.iloc[:,0])\n",
    "j_g1_med = np.mean(j_g1_counts.iloc[:,1])\n",
    "j_g1_high = np.mean(j_g1_counts.iloc[:,2])\n",
    "\n",
    "j_g2_s_low = np.mean(j_g2_s_counts.iloc[:,0])\n",
    "j_g2_s_med = np.mean(j_g2_s_counts.iloc[:,1])\n",
    "j_g2_s_high = np.mean(j_g2_s_counts.iloc[:,2])\n",
    "\n",
    "j_g2_d_low = np.mean(j_g2_d_counts.iloc[:,0])\n",
    "j_g2_d_med = np.mean(j_g2_d_counts.iloc[:,1])\n",
    "j_g2_d_high = np.mean(j_g2_d_counts.iloc[:,2])"
   ]
  },
  {
   "cell_type": "code",
   "execution_count": 180,
   "metadata": {},
   "outputs": [
    {
     "data": {
      "text/plain": [
       "(8.0, 8.65, 13.35)"
      ]
     },
     "execution_count": 180,
     "metadata": {},
     "output_type": "execute_result"
    }
   ],
   "source": [
    "j_g1_low, j_g1_med, j_g1_high"
   ]
  },
  {
   "cell_type": "code",
   "execution_count": 181,
   "metadata": {},
   "outputs": [
    {
     "data": {
      "text/plain": [
       "(4.898979485566356, 3.6779749863205975, 5.284647575761321)"
      ]
     },
     "execution_count": 181,
     "metadata": {},
     "output_type": "execute_result"
    }
   ],
   "source": [
    "j_g1_low_std, j_g1_med_std, j_g1_high_std"
   ]
  },
  {
   "cell_type": "code",
   "execution_count": 182,
   "metadata": {},
   "outputs": [
    {
     "data": {
      "text/html": [
       "<div>\n",
       "<style scoped>\n",
       "    .dataframe tbody tr th:only-of-type {\n",
       "        vertical-align: middle;\n",
       "    }\n",
       "\n",
       "    .dataframe tbody tr th {\n",
       "        vertical-align: top;\n",
       "    }\n",
       "\n",
       "    .dataframe thead th {\n",
       "        text-align: right;\n",
       "    }\n",
       "</style>\n",
       "<table border=\"1\" class=\"dataframe\">\n",
       "  <thead>\n",
       "    <tr style=\"text-align: right;\">\n",
       "      <th></th>\n",
       "      <th>30</th>\n",
       "      <th>60</th>\n",
       "      <th>90</th>\n",
       "    </tr>\n",
       "  </thead>\n",
       "  <tbody>\n",
       "    <tr>\n",
       "      <td>j01_p1_g1_count</td>\n",
       "      <td>12.0</td>\n",
       "      <td>9.0</td>\n",
       "      <td>9.0</td>\n",
       "    </tr>\n",
       "    <tr>\n",
       "      <td>j01_p2_g1_count</td>\n",
       "      <td>10.0</td>\n",
       "      <td>12.0</td>\n",
       "      <td>8.0</td>\n",
       "    </tr>\n",
       "    <tr>\n",
       "      <td>j02_p1_g1_count</td>\n",
       "      <td>11.0</td>\n",
       "      <td>13.0</td>\n",
       "      <td>6.0</td>\n",
       "    </tr>\n",
       "    <tr>\n",
       "      <td>j02_p2_g1_count</td>\n",
       "      <td>10.0</td>\n",
       "      <td>8.0</td>\n",
       "      <td>12.0</td>\n",
       "    </tr>\n",
       "    <tr>\n",
       "      <td>j03_p1_g1_count</td>\n",
       "      <td>9.0</td>\n",
       "      <td>9.0</td>\n",
       "      <td>12.0</td>\n",
       "    </tr>\n",
       "    <tr>\n",
       "      <td>j03_p2_g1_count</td>\n",
       "      <td>11.0</td>\n",
       "      <td>10.0</td>\n",
       "      <td>9.0</td>\n",
       "    </tr>\n",
       "    <tr>\n",
       "      <td>j04_p1_g1_count</td>\n",
       "      <td>8.0</td>\n",
       "      <td>13.0</td>\n",
       "      <td>9.0</td>\n",
       "    </tr>\n",
       "    <tr>\n",
       "      <td>j04_p2_g1_count</td>\n",
       "      <td>14.0</td>\n",
       "      <td>1.0</td>\n",
       "      <td>15.0</td>\n",
       "    </tr>\n",
       "    <tr>\n",
       "      <td>j05_p1_g1_count</td>\n",
       "      <td>1.0</td>\n",
       "      <td>6.0</td>\n",
       "      <td>23.0</td>\n",
       "    </tr>\n",
       "    <tr>\n",
       "      <td>j05_p2_g1_count</td>\n",
       "      <td>4.0</td>\n",
       "      <td>10.0</td>\n",
       "      <td>16.0</td>\n",
       "    </tr>\n",
       "    <tr>\n",
       "      <td>j06_p1_g1_count</td>\n",
       "      <td>14.0</td>\n",
       "      <td>9.0</td>\n",
       "      <td>7.0</td>\n",
       "    </tr>\n",
       "    <tr>\n",
       "      <td>j06_p2_g1_count</td>\n",
       "      <td>17.0</td>\n",
       "      <td>3.0</td>\n",
       "      <td>10.0</td>\n",
       "    </tr>\n",
       "    <tr>\n",
       "      <td>j07_p1_g1_count</td>\n",
       "      <td>2.0</td>\n",
       "      <td>13.0</td>\n",
       "      <td>15.0</td>\n",
       "    </tr>\n",
       "    <tr>\n",
       "      <td>j07_p2_g1_count</td>\n",
       "      <td>3.0</td>\n",
       "      <td>4.0</td>\n",
       "      <td>23.0</td>\n",
       "    </tr>\n",
       "    <tr>\n",
       "      <td>j08_p1_g1_count</td>\n",
       "      <td>6.0</td>\n",
       "      <td>13.0</td>\n",
       "      <td>11.0</td>\n",
       "    </tr>\n",
       "    <tr>\n",
       "      <td>j08_p2_g1_count</td>\n",
       "      <td>13.0</td>\n",
       "      <td>3.0</td>\n",
       "      <td>14.0</td>\n",
       "    </tr>\n",
       "    <tr>\n",
       "      <td>j10_p1_g1_count</td>\n",
       "      <td>8.0</td>\n",
       "      <td>10.0</td>\n",
       "      <td>12.0</td>\n",
       "    </tr>\n",
       "    <tr>\n",
       "      <td>j10_p2_g1_count</td>\n",
       "      <td>7.0</td>\n",
       "      <td>10.0</td>\n",
       "      <td>13.0</td>\n",
       "    </tr>\n",
       "    <tr>\n",
       "      <td>j11_p1_g1_count</td>\n",
       "      <td>0.0</td>\n",
       "      <td>12.0</td>\n",
       "      <td>18.0</td>\n",
       "    </tr>\n",
       "    <tr>\n",
       "      <td>j11_p2_g1_count</td>\n",
       "      <td>0.0</td>\n",
       "      <td>5.0</td>\n",
       "      <td>25.0</td>\n",
       "    </tr>\n",
       "  </tbody>\n",
       "</table>\n",
       "</div>"
      ],
      "text/plain": [
       "                   30    60    90\n",
       "j01_p1_g1_count  12.0   9.0   9.0\n",
       "j01_p2_g1_count  10.0  12.0   8.0\n",
       "j02_p1_g1_count  11.0  13.0   6.0\n",
       "j02_p2_g1_count  10.0   8.0  12.0\n",
       "j03_p1_g1_count   9.0   9.0  12.0\n",
       "j03_p2_g1_count  11.0  10.0   9.0\n",
       "j04_p1_g1_count   8.0  13.0   9.0\n",
       "j04_p2_g1_count  14.0   1.0  15.0\n",
       "j05_p1_g1_count   1.0   6.0  23.0\n",
       "j05_p2_g1_count   4.0  10.0  16.0\n",
       "j06_p1_g1_count  14.0   9.0   7.0\n",
       "j06_p2_g1_count  17.0   3.0  10.0\n",
       "j07_p1_g1_count   2.0  13.0  15.0\n",
       "j07_p2_g1_count   3.0   4.0  23.0\n",
       "j08_p1_g1_count   6.0  13.0  11.0\n",
       "j08_p2_g1_count  13.0   3.0  14.0\n",
       "j10_p1_g1_count   8.0  10.0  12.0\n",
       "j10_p2_g1_count   7.0  10.0  13.0\n",
       "j11_p1_g1_count   0.0  12.0  18.0\n",
       "j11_p2_g1_count   0.0   5.0  25.0"
      ]
     },
     "execution_count": 182,
     "metadata": {},
     "output_type": "execute_result"
    }
   ],
   "source": [
    "j_g1_counts"
   ]
  },
  {
   "cell_type": "markdown",
   "metadata": {},
   "source": [
    "# Reaction Time"
   ]
  },
  {
   "cell_type": "code",
   "execution_count": 183,
   "metadata": {},
   "outputs": [],
   "source": [
    "'Here we get the reaction times'\n",
    "time_j_1 = pd.DataFrame(columns = ['session','post win','post loss'])\n",
    "time_j_2 = pd.DataFrame(columns = ['session','post win','post loss'])"
   ]
  },
  {
   "cell_type": "code",
   "execution_count": 184,
   "metadata": {},
   "outputs": [],
   "source": [
    "time_j_1 = reaction_time(j01_p1_g1, time_j_1)\n",
    "time_j_1 = reaction_time(j02_p1_g1, time_j_1)\n",
    "time_j_1 = reaction_time(j03_p1_g1, time_j_1)\n",
    "time_j_1 = reaction_time(j04_p1_g1, time_j_1)\n",
    "time_j_1 = reaction_time(j05_p1_g1, time_j_1)\n",
    "time_j_1 = reaction_time(j06_p1_g1, time_j_1)\n",
    "time_j_1 = reaction_time(j07_p1_g1, time_j_1)\n",
    "time_j_1 = reaction_time(j08_p1_g1, time_j_1)\n",
    "time_j_1 = reaction_time(j10_p1_g1, time_j_1)\n",
    "time_j_1 = reaction_time(j11_p1_g1, time_j_1)"
   ]
  },
  {
   "cell_type": "code",
   "execution_count": 185,
   "metadata": {},
   "outputs": [],
   "source": [
    "time_j_2 = reaction_time(j01_p1_g2, time_j_2)\n",
    "time_j_2 = reaction_time(j02_p1_g2, time_j_2)\n",
    "time_j_2 = reaction_time(j03_p1_g2, time_j_2)\n",
    "time_j_2 = reaction_time(j04_p1_g2, time_j_2)\n",
    "time_j_2 = reaction_time(j05_p1_g2, time_j_2)\n",
    "time_j_2 = reaction_time(j06_p1_g2, time_j_2)\n",
    "time_j_2 = reaction_time(j07_p1_g2, time_j_2)\n",
    "time_j_2 = reaction_time(j08_p1_g2, time_j_2)\n",
    "time_j_2 = reaction_time(j10_p1_g2, time_j_2)\n",
    "time_j_2 = reaction_time(j11_p1_g2, time_j_2)"
   ]
  },
  {
   "cell_type": "code",
   "execution_count": 186,
   "metadata": {},
   "outputs": [
    {
     "data": {
      "image/png": "[encoded data removed]",
      "text/plain": [
       "<Figure size 432x288 with 1 Axes>"
      ]
     },
     "metadata": {},
     "output_type": "display_data"
    }
   ],
   "source": [
    "times_j_g1_box = sns.boxplot( \n",
    "                 data=time_j_1, \n",
    "                 width=0.5,\n",
    "                 palette=\"pastel\")\n",
    "times_j_g1_box.axes.set_title(\"SMAB3 Joint Reaction Times in Game 1\",\n",
    "                    fontsize=16)\n",
    "\n",
    "plot_file_name=\"times_j_g1_box.jpg\"\n",
    " \n",
    "plt.ylim(0, 5)\n",
    "times_j_g1_box.axes.set(ylabel='Time in sec.')\n",
    "\n",
    "# save as jpeg\n",
    "times_j_g1_box.figure.savefig(plot_file_name,format='jpeg')"
   ]
  },
  {
   "cell_type": "code",
   "execution_count": 187,
   "metadata": {},
   "outputs": [
    {
     "data": {
      "image/png": "[encoded data removed]",
      "text/plain": [
       "<Figure size 432x288 with 1 Axes>"
      ]
     },
     "metadata": {},
     "output_type": "display_data"
    }
   ],
   "source": [
    "times_j_g2_box = sns.boxplot( \n",
    "                 data=time_j_2, \n",
    "                 width=0.5,\n",
    "                 palette=\"pastel\")\n",
    "times_j_g2_box.axes.set_title(\"SMAB3 Joint Reaction Times in Game 2\",\n",
    "                    fontsize=16)\n",
    "\n",
    "plot_file_name=\"times_j_g2_box.jpg\"\n",
    " \n",
    "plt.ylim(0, 5)\n",
    "times_j_g2_box.axes.set(ylabel='Time in sec.')\n",
    "\n",
    "# save as jpeg\n",
    "times_j_g2_box.figure.savefig(plot_file_name,format='jpeg')"
   ]
  },
  {
   "cell_type": "code",
   "execution_count": 188,
   "metadata": {},
   "outputs": [
    {
     "data": {
      "image/png": "[encoded data removed]",
      "text/plain": [
       "<Figure size 432x288 with 1 Axes>"
      ]
     },
     "metadata": {},
     "output_type": "display_data"
    }
   ],
   "source": [
    "times_s_g2_box = sns.boxplot( \n",
    "                 data=time_s_2, \n",
    "                 width=0.5,\n",
    "                 palette=\"pastel\")\n",
    "times_s_g2_box.axes.set_title(\"SMAB3 Control Reaction Times in Game 2\",\n",
    "                    fontsize=16)\n",
    "\n",
    "plot_file_name=\"times_s_g2_box.jpg\"\n",
    " \n",
    "plt.ylim(0, 5)\n",
    "times_s_g2_box.axes.set(ylabel='Time in sec.')\n",
    "\n",
    "# save as jpeg\n",
    "times_s_g2_box.figure.savefig(plot_file_name,format='jpeg')"
   ]
  },
  {
   "cell_type": "code",
   "execution_count": 189,
   "metadata": {},
   "outputs": [
    {
     "data": {
      "image/png": "[encoded data removed]",
      "text/plain": [
       "<Figure size 432x288 with 1 Axes>"
      ]
     },
     "metadata": {},
     "output_type": "display_data"
    }
   ],
   "source": [
    "times_s_g1_box = sns.boxplot( \n",
    "                 data=time_s_1, \n",
    "                 width=0.5,\n",
    "                 palette=\"pastel\")\n",
    "times_s_g1_box.axes.set_title(\"SMAB3 Control Reaction Times in Game 1\",\n",
    "                    fontsize=16)\n",
    "\n",
    "plot_file_name=\"times_s_g1_box.jpg\"\n",
    " \n",
    "plt.ylim(0, 5)\n",
    "times_s_g1_box.axes.set(ylabel='Time in sec.')\n",
    "\n",
    "# save as jpeg\n",
    "times_s_g1_box.figure.savefig(plot_file_name,format='jpeg')"
   ]
  },
  {
   "cell_type": "code",
   "execution_count": 190,
   "metadata": {},
   "outputs": [
    {
     "data": {
      "text/plain": [
       "post win     2.177116\n",
       "post loss    2.181738\n",
       "dtype: float64"
      ]
     },
     "execution_count": 190,
     "metadata": {},
     "output_type": "execute_result"
    }
   ],
   "source": [
    "np.mean(time_s_1)"
   ]
  },
  {
   "cell_type": "code",
   "execution_count": 191,
   "metadata": {},
   "outputs": [
    {
     "data": {
      "text/plain": [
       "post win     2.118549\n",
       "post loss    2.049547\n",
       "dtype: float64"
      ]
     },
     "execution_count": 191,
     "metadata": {},
     "output_type": "execute_result"
    }
   ],
   "source": [
    "np.mean(time_s_2)"
   ]
  },
  {
   "cell_type": "code",
   "execution_count": 192,
   "metadata": {},
   "outputs": [
    {
     "data": {
      "text/plain": [
       "post win     0.528221\n",
       "post loss    0.578885\n",
       "dtype: float64"
      ]
     },
     "execution_count": 192,
     "metadata": {},
     "output_type": "execute_result"
    }
   ],
   "source": [
    "np.std(time_s_1)"
   ]
  },
  {
   "cell_type": "code",
   "execution_count": 193,
   "metadata": {},
   "outputs": [
    {
     "data": {
      "text/plain": [
       "post win     0.536611\n",
       "post loss    0.528770\n",
       "dtype: float64"
      ]
     },
     "execution_count": 193,
     "metadata": {},
     "output_type": "execute_result"
    }
   ],
   "source": [
    "np.std(time_s_2)"
   ]
  },
  {
   "cell_type": "code",
   "execution_count": 194,
   "metadata": {},
   "outputs": [
    {
     "data": {
      "text/plain": [
       "post win     2.629908\n",
       "post loss    2.741026\n",
       "dtype: float64"
      ]
     },
     "execution_count": 194,
     "metadata": {},
     "output_type": "execute_result"
    }
   ],
   "source": [
    "np.mean(time_j_1)"
   ]
  },
  {
   "cell_type": "code",
   "execution_count": 195,
   "metadata": {},
   "outputs": [
    {
     "data": {
      "text/plain": [
       "post win     2.517012\n",
       "post loss    2.860335\n",
       "dtype: float64"
      ]
     },
     "execution_count": 195,
     "metadata": {},
     "output_type": "execute_result"
    }
   ],
   "source": [
    "np.mean(time_j_2)"
   ]
  },
  {
   "cell_type": "code",
   "execution_count": 196,
   "metadata": {},
   "outputs": [
    {
     "data": {
      "text/plain": [
       "post win     0.615928\n",
       "post loss    0.602834\n",
       "dtype: float64"
      ]
     },
     "execution_count": 196,
     "metadata": {},
     "output_type": "execute_result"
    }
   ],
   "source": [
    "np.std(time_j_1)"
   ]
  },
  {
   "cell_type": "code",
   "execution_count": 197,
   "metadata": {},
   "outputs": [
    {
     "data": {
      "text/plain": [
       "post win     0.700845\n",
       "post loss    1.015839\n",
       "dtype: float64"
      ]
     },
     "execution_count": 197,
     "metadata": {},
     "output_type": "execute_result"
    }
   ],
   "source": [
    "np.std(time_j_2)"
   ]
  },
  {
   "cell_type": "code",
   "execution_count": 198,
   "metadata": {},
   "outputs": [
    {
     "data": {
      "text/plain": [
       "Ttest_relResult(statistic=nan, pvalue=nan)"
      ]
     },
     "execution_count": 198,
     "metadata": {},
     "output_type": "execute_result"
    }
   ],
   "source": [
    "sp.stats.ttest_rel(time_s_1['post win'],time_s_1['post loss'])"
   ]
  },
  {
   "cell_type": "code",
   "execution_count": 199,
   "metadata": {},
   "outputs": [
    {
     "data": {
      "text/plain": [
       "Ttest_relResult(statistic=1.136343499564463, pvalue=0.2799632807606969)"
      ]
     },
     "execution_count": 199,
     "metadata": {},
     "output_type": "execute_result"
    }
   ],
   "source": [
    "sp.stats.ttest_rel(time_s_2['post win'],time_s_2['post loss'])"
   ]
  },
  {
   "cell_type": "code",
   "execution_count": 200,
   "metadata": {},
   "outputs": [
    {
     "data": {
      "text/plain": [
       "Ttest_relResult(statistic=-1.1418218122546244, pvalue=0.28299596788547354)"
      ]
     },
     "execution_count": 200,
     "metadata": {},
     "output_type": "execute_result"
    }
   ],
   "source": [
    "sp.stats.ttest_rel(time_j_1['post win'],time_j_1['post loss'])"
   ]
  },
  {
   "cell_type": "code",
   "execution_count": 201,
   "metadata": {},
   "outputs": [
    {
     "data": {
      "text/plain": [
       "Ttest_relResult(statistic=-1.1131872945793573, pvalue=0.2944746024410398)"
      ]
     },
     "execution_count": 201,
     "metadata": {},
     "output_type": "execute_result"
    }
   ],
   "source": [
    "sp.stats.ttest_rel(time_j_2['post win'],time_j_2['post loss'])"
   ]
  },
  {
   "cell_type": "markdown",
   "metadata": {},
   "source": [
    "# SMAB4 Joint Data "
   ]
  },
  {
   "cell_type": "code",
   "execution_count": 202,
   "metadata": {},
   "outputs": [
    {
     "name": "stderr",
     "output_type": "stream",
     "text": [
      "/Users/simonefroley/opt/anaconda3/lib/python3.7/site-packages/ipykernel_launcher.py:12: UserWarning: Boolean Series key will be reindexed to match DataFrame index.\n",
      "  if sys.path[0] == '':\n",
      "/Users/simonefroley/opt/anaconda3/lib/python3.7/site-packages/ipykernel_launcher.py:13: UserWarning: Boolean Series key will be reindexed to match DataFrame index.\n",
      "  del sys.path[0]\n",
      "/Users/simonefroley/opt/anaconda3/lib/python3.7/site-packages/ipykernel_launcher.py:25: UserWarning: Boolean Series key will be reindexed to match DataFrame index.\n",
      "/Users/simonefroley/opt/anaconda3/lib/python3.7/site-packages/ipykernel_launcher.py:26: UserWarning: Boolean Series key will be reindexed to match DataFrame index.\n"
     ]
    }
   ],
   "source": [
    "'''Here we load the csv files into pandas dataframes by calling organize_trial_by_trial and get the scores in games\n",
    "1 and 2 by calling call_get_score.\n",
    "Note: for the files that were hand coded, the scores will be obtained later, as the score column needs to be filled out still.'''\n",
    "\n",
    "# # Multi Analysis\n",
    "\n",
    "#df = organize_trial_by_trial_hand_code2('data/m01_gamedata_handcode.csv')\n",
    "#m01 = df\n",
    "#m01_p1_g1_score,m01_p1_g2_score,m01_p2_g1_score,m01_p2_g2_score,m01_p1_diff,m01_p2_diff,m01_p1_g1_50,m01_p1_g2_50,m01_p2_g1_50,m01_p2_g2_50 = call_get_score(m01, 'm')\n",
    "#m01.head()\n",
    "\n",
    "#df = organize_trial_by_trial_hand_code2('data/m03_gamedata_handcode.csv')\n",
    "#m03 = df\n",
    "#m01_p1_g1_score,m01_p1_g2_score,m01_p2_g1_score,m01_p2_g2_score,m01_p1_diff,m01_p2_diff,m01_p1_g1_50,m01_p1_g2_50,m01_p2_g1_50,m01_p2_g2_50 = call_get_score(m01, 'm')\n",
    "#m03.head()\n",
    "\n",
    "df = organize_trial_by_trial('data/m05_gamedata.csv')\n",
    "m05 = df\n",
    "m05_p1_g1_score,m05_p1_g2_score,m05_p2_g1_score,m05_p2_g2_score,m05_p1_diff,m05_p2_diff,m05_p1_g1_50,m05_p1_g2_50,m05_p2_g1_50,m05_p2_g2_50 = call_get_score(m05, 'm')\n",
    "m05.head()\n",
    "\n",
    "\n",
    "# In[ ]:\n",
    "\n",
    "\n",
    "df = organize_trial_by_trial_300('data/m06_gamedata2.csv')\n",
    "m06 = df\n",
    "m06_p1_g1_score,m06_p1_g2_score,m06_p2_g1_score,m06_p2_g2_score,m06_p1_diff,m06_p2_diff,m06_p1_g1_50,m06_p1_g2_50,m06_p2_g1_50,m06_p2_g2_50 = call_get_score(m06, 'm')\n",
    "m06.head()\n",
    "\n",
    "\n",
    "#df = organize_trial_by_trial_hand_code2('data/m07_gamedata_handcode.csv')\n",
    "#m07 = df\n",
    "#m01_p1_g1_score,m01_p1_g2_score,m01_p2_g1_score,m01_p2_g2_score,m01_p1_diff,m01_p2_diff,m01_p1_g1_50,m01_p1_g2_50,m01_p2_g1_50,m01_p2_g2_50 = call_get_score(m01, 'm')\n",
    "#m07.head()\n",
    "\n",
    "#m09 from LSL needs to be combined with hand coded\n",
    "#df = organize_trial_by_trial_hand_code('data/m09_gamedata_handcode.csv')\n",
    "#m09 = df\n",
    "#m01_p1_g1_score,m01_p1_g2_score,m01_p2_g1_score,m01_p2_g2_score,m01_p1_diff,m01_p2_diff,m01_p1_g1_50,m01_p1_g2_50,m01_p2_g1_50,m01_p2_g2_50 = call_get_score(m01, 'm')\n",
    "#m09.head()\n",
    "\n",
    "#df = organize_trial_by_trial('data/m09_gamedata.csv')\n",
    "#m09_lsl = df\n",
    "#m09_p1_g1_score,m09_p1_g2_score,m09_p2_g1_score,m09_p2_g2_score,m09_p1_diff,m09_p2_diff,m09_p1_g1_50,m09_p1_g2_50,m09_p2_g1_50,m09_p2_g2_50 = call_get_score(m09, 'm')\n",
    "#m09.head()\n",
    "\n",
    "df = organize_trial_by_trial_300('data/m08_gamedata2.csv')\n",
    "m08 = df\n",
    "m08_p1_g1_score,m08_p1_g2_score,m08_p2_g1_score,m08_p2_g2_score,m08_p1_diff,m08_p2_diff,m08_p1_g1_50,m08_p1_g2_50,m08_p2_g1_50,m08_p2_g2_50 = call_get_score(m08, 'm')\n",
    "m08.head()\n",
    "\n",
    "\n",
    "# In[ ]:\n",
    "\n",
    "\n",
    "# In[ ]:\n",
    "\n",
    "\n",
    "df = organize_trial_by_trial_300('data/m10_gamedata2.csv')\n",
    "m10 = df\n",
    "m10_p1_g1_score,m10_p1_g2_score,m10_p2_g1_score,m10_p2_g2_score,m10_p1_diff,m10_p2_diff,m10_p1_g1_50,m10_p1_g2_50,m10_p2_g1_50,m10_p2_g2_50 = call_get_score(m10, 'm')\n",
    "m10.head()\n",
    "\n",
    "\n",
    "# In[ ]:\n",
    "\n",
    "\n",
    "df = organize_trial_by_trial_300('data/m11_gamedata2.csv')\n",
    "m11 = df\n",
    "m11_p1_g1_score,m11_p1_g2_score,m11_p2_g1_score,m11_p2_g2_score,m11_p1_diff,m11_p2_diff,m11_p1_g1_50,m11_p1_g2_50,m11_p2_g1_50,m11_p2_g2_50 = call_get_score(m11, 'm')\n",
    "m11.head()\n",
    "\n",
    "\n",
    "# In[ ]:\n",
    "\n",
    "#session ends early\n",
    "#df = organize_trial_by_trial_floatclick('data/m12_gamedata.csv')\n",
    "#m12 = df\n",
    "#m12_p1_g1_score,m12_p1_g2_score,m12_p2_g1_score,m12_p2_g2_score,m12_p1_score_diff,m12_p2_score_diff = call_get_score(m12, 'm')\n",
    "#m12.head()\n",
    "\n",
    "\n",
    "# In[ ]:\n",
    "\n",
    "\n",
    "df = organize_trial_by_trial_300('data/m13_gamedata2.csv')\n",
    "m13 = df\n",
    "m13_p1_g1_score,m13_p1_g2_score,m13_p2_g1_score,m13_p2_g2_score,m13_p1_diff,m13_p2_diff,m13_p1_g1_50,m13_p1_g2_50,m13_p2_g1_50,m13_p2_g2_50 = call_get_score(m13, 'm')\n",
    "m13.head()\n",
    "\n",
    "\n",
    "# In[ ]:\n",
    "\n",
    "\n",
    "df = organize_trial_by_trial_300('data/m14_gamedata2.csv')\n",
    "m14 = df\n",
    "m14_p1_g1_score,m14_p1_g2_score,m14_p2_g1_score,m14_p2_g2_score,m14_p1_diff,m14_p2_diff,m14_p1_g1_50,m14_p1_g2_50,m14_p2_g1_50,m14_p2_g2_50 = call_get_score(m14, 'm')\n",
    "m14.head()\n",
    "\n",
    "\n",
    "# In[ ]:\n",
    "\n",
    "\n",
    "m05_p1_g1, m05_p1_g2, m05_p2_g1, m05_p2_g2 = separate_df(m05, 'm')\n",
    "m06_p1_g1, m06_p1_g2, m06_p2_g1, m06_p2_g2 = separate_df(m06, 'm')\n",
    "#m07_p1_g1, m07_p1_g2, m07_p2_g1, m07_p2_g2 = separate_df(m07, 'm')\n",
    "m08_p1_g1, m08_p1_g2, m08_p2_g1, m08_p2_g2 = separate_df(m08, 'm')\n",
    "m10_p1_g1, m10_p1_g2, m10_p2_g1, m10_p2_g2 = separate_df(m10, 'm')\n",
    "m11_p1_g1, m11_p1_g2, m11_p2_g1, m11_p2_g2 = separate_df(m11, 'm')\n",
    "m13_p1_g1, m13_p1_g2, m13_p2_g1, m13_p2_g2 = separate_df(m13, 'm')\n",
    "\n",
    "m14_p1_g1, m14_p1_g2, m14_p2_g1, m14_p2_g2 = separate_df(m14, 'm')"
   ]
  },
  {
   "cell_type": "code",
   "execution_count": 203,
   "metadata": {},
   "outputs": [
    {
     "data": {
      "text/html": [
       "<div>\n",
       "<style scoped>\n",
       "    .dataframe tbody tr th:only-of-type {\n",
       "        vertical-align: middle;\n",
       "    }\n",
       "\n",
       "    .dataframe tbody tr th {\n",
       "        vertical-align: top;\n",
       "    }\n",
       "\n",
       "    .dataframe thead th {\n",
       "        text-align: right;\n",
       "    }\n",
       "</style>\n",
       "<table border=\"1\" class=\"dataframe\">\n",
       "  <thead>\n",
       "    <tr style=\"text-align: right;\">\n",
       "      <th></th>\n",
       "      <th>game number</th>\n",
       "      <th>trial</th>\n",
       "      <th>player</th>\n",
       "      <th>arm</th>\n",
       "      <th>probability</th>\n",
       "      <th>reward</th>\n",
       "      <th>time</th>\n",
       "      <th>P1 score</th>\n",
       "      <th>P2 score</th>\n",
       "    </tr>\n",
       "  </thead>\n",
       "  <tbody>\n",
       "    <tr>\n",
       "      <td>20</td>\n",
       "      <td>1</td>\n",
       "      <td>21</td>\n",
       "      <td>1</td>\n",
       "      <td>3</td>\n",
       "      <td>90</td>\n",
       "      <td>1</td>\n",
       "      <td>4.524838</td>\n",
       "      <td>5</td>\n",
       "      <td>5</td>\n",
       "    </tr>\n",
       "    <tr>\n",
       "      <td>22</td>\n",
       "      <td>1</td>\n",
       "      <td>23</td>\n",
       "      <td>1</td>\n",
       "      <td>1</td>\n",
       "      <td>30</td>\n",
       "      <td>1</td>\n",
       "      <td>3.596283</td>\n",
       "      <td>6</td>\n",
       "      <td>6</td>\n",
       "    </tr>\n",
       "    <tr>\n",
       "      <td>24</td>\n",
       "      <td>1</td>\n",
       "      <td>25</td>\n",
       "      <td>1</td>\n",
       "      <td>3</td>\n",
       "      <td>90</td>\n",
       "      <td>0</td>\n",
       "      <td>4.707752</td>\n",
       "      <td>6</td>\n",
       "      <td>7</td>\n",
       "    </tr>\n",
       "    <tr>\n",
       "      <td>26</td>\n",
       "      <td>1</td>\n",
       "      <td>27</td>\n",
       "      <td>1</td>\n",
       "      <td>1</td>\n",
       "      <td>30</td>\n",
       "      <td>0</td>\n",
       "      <td>4.226980</td>\n",
       "      <td>6</td>\n",
       "      <td>8</td>\n",
       "    </tr>\n",
       "    <tr>\n",
       "      <td>28</td>\n",
       "      <td>1</td>\n",
       "      <td>29</td>\n",
       "      <td>1</td>\n",
       "      <td>2</td>\n",
       "      <td>60</td>\n",
       "      <td>0</td>\n",
       "      <td>4.341929</td>\n",
       "      <td>6</td>\n",
       "      <td>8</td>\n",
       "    </tr>\n",
       "    <tr>\n",
       "      <td>30</td>\n",
       "      <td>1</td>\n",
       "      <td>31</td>\n",
       "      <td>1</td>\n",
       "      <td>3</td>\n",
       "      <td>90</td>\n",
       "      <td>0</td>\n",
       "      <td>4.345925</td>\n",
       "      <td>6</td>\n",
       "      <td>9</td>\n",
       "    </tr>\n",
       "    <tr>\n",
       "      <td>32</td>\n",
       "      <td>1</td>\n",
       "      <td>33</td>\n",
       "      <td>1</td>\n",
       "      <td>1</td>\n",
       "      <td>30</td>\n",
       "      <td>1</td>\n",
       "      <td>4.068058</td>\n",
       "      <td>7</td>\n",
       "      <td>10</td>\n",
       "    </tr>\n",
       "    <tr>\n",
       "      <td>34</td>\n",
       "      <td>1</td>\n",
       "      <td>35</td>\n",
       "      <td>1</td>\n",
       "      <td>3</td>\n",
       "      <td>90</td>\n",
       "      <td>1</td>\n",
       "      <td>6.244021</td>\n",
       "      <td>8</td>\n",
       "      <td>11</td>\n",
       "    </tr>\n",
       "    <tr>\n",
       "      <td>36</td>\n",
       "      <td>1</td>\n",
       "      <td>37</td>\n",
       "      <td>1</td>\n",
       "      <td>2</td>\n",
       "      <td>60</td>\n",
       "      <td>1</td>\n",
       "      <td>5.267478</td>\n",
       "      <td>9</td>\n",
       "      <td>12</td>\n",
       "    </tr>\n",
       "    <tr>\n",
       "      <td>38</td>\n",
       "      <td>1</td>\n",
       "      <td>39</td>\n",
       "      <td>1</td>\n",
       "      <td>3</td>\n",
       "      <td>90</td>\n",
       "      <td>1</td>\n",
       "      <td>4.970626</td>\n",
       "      <td>10</td>\n",
       "      <td>13</td>\n",
       "    </tr>\n",
       "    <tr>\n",
       "      <td>40</td>\n",
       "      <td>1</td>\n",
       "      <td>41</td>\n",
       "      <td>1</td>\n",
       "      <td>1</td>\n",
       "      <td>30</td>\n",
       "      <td>0</td>\n",
       "      <td>4.402897</td>\n",
       "      <td>10</td>\n",
       "      <td>14</td>\n",
       "    </tr>\n",
       "    <tr>\n",
       "      <td>42</td>\n",
       "      <td>1</td>\n",
       "      <td>43</td>\n",
       "      <td>1</td>\n",
       "      <td>2</td>\n",
       "      <td>60</td>\n",
       "      <td>1</td>\n",
       "      <td>4.995615</td>\n",
       "      <td>11</td>\n",
       "      <td>15</td>\n",
       "    </tr>\n",
       "    <tr>\n",
       "      <td>44</td>\n",
       "      <td>1</td>\n",
       "      <td>45</td>\n",
       "      <td>1</td>\n",
       "      <td>1</td>\n",
       "      <td>30</td>\n",
       "      <td>0</td>\n",
       "      <td>3.771196</td>\n",
       "      <td>11</td>\n",
       "      <td>16</td>\n",
       "    </tr>\n",
       "    <tr>\n",
       "      <td>46</td>\n",
       "      <td>1</td>\n",
       "      <td>47</td>\n",
       "      <td>1</td>\n",
       "      <td>3</td>\n",
       "      <td>90</td>\n",
       "      <td>1</td>\n",
       "      <td>4.091046</td>\n",
       "      <td>12</td>\n",
       "      <td>17</td>\n",
       "    </tr>\n",
       "    <tr>\n",
       "      <td>48</td>\n",
       "      <td>1</td>\n",
       "      <td>49</td>\n",
       "      <td>1</td>\n",
       "      <td>1</td>\n",
       "      <td>30</td>\n",
       "      <td>0</td>\n",
       "      <td>3.571292</td>\n",
       "      <td>12</td>\n",
       "      <td>18</td>\n",
       "    </tr>\n",
       "    <tr>\n",
       "      <td>50</td>\n",
       "      <td>1</td>\n",
       "      <td>51</td>\n",
       "      <td>1</td>\n",
       "      <td>2</td>\n",
       "      <td>60</td>\n",
       "      <td>1</td>\n",
       "      <td>3.957111</td>\n",
       "      <td>13</td>\n",
       "      <td>18</td>\n",
       "    </tr>\n",
       "    <tr>\n",
       "      <td>52</td>\n",
       "      <td>1</td>\n",
       "      <td>53</td>\n",
       "      <td>1</td>\n",
       "      <td>1</td>\n",
       "      <td>30</td>\n",
       "      <td>0</td>\n",
       "      <td>4.134026</td>\n",
       "      <td>13</td>\n",
       "      <td>18</td>\n",
       "    </tr>\n",
       "    <tr>\n",
       "      <td>54</td>\n",
       "      <td>1</td>\n",
       "      <td>55</td>\n",
       "      <td>1</td>\n",
       "      <td>2</td>\n",
       "      <td>60</td>\n",
       "      <td>0</td>\n",
       "      <td>3.867153</td>\n",
       "      <td>13</td>\n",
       "      <td>19</td>\n",
       "    </tr>\n",
       "    <tr>\n",
       "      <td>56</td>\n",
       "      <td>1</td>\n",
       "      <td>57</td>\n",
       "      <td>1</td>\n",
       "      <td>1</td>\n",
       "      <td>30</td>\n",
       "      <td>0</td>\n",
       "      <td>3.715225</td>\n",
       "      <td>13</td>\n",
       "      <td>20</td>\n",
       "    </tr>\n",
       "    <tr>\n",
       "      <td>58</td>\n",
       "      <td>1</td>\n",
       "      <td>59</td>\n",
       "      <td>1</td>\n",
       "      <td>2</td>\n",
       "      <td>60</td>\n",
       "      <td>1</td>\n",
       "      <td>5.331454</td>\n",
       "      <td>14</td>\n",
       "      <td>21</td>\n",
       "    </tr>\n",
       "    <tr>\n",
       "      <td>60</td>\n",
       "      <td>1</td>\n",
       "      <td>61</td>\n",
       "      <td>1</td>\n",
       "      <td>2</td>\n",
       "      <td>60</td>\n",
       "      <td>1</td>\n",
       "      <td>3.933122</td>\n",
       "      <td>15</td>\n",
       "      <td>21</td>\n",
       "    </tr>\n",
       "    <tr>\n",
       "      <td>62</td>\n",
       "      <td>1</td>\n",
       "      <td>63</td>\n",
       "      <td>1</td>\n",
       "      <td>2</td>\n",
       "      <td>60</td>\n",
       "      <td>0</td>\n",
       "      <td>3.258445</td>\n",
       "      <td>15</td>\n",
       "      <td>22</td>\n",
       "    </tr>\n",
       "    <tr>\n",
       "      <td>64</td>\n",
       "      <td>1</td>\n",
       "      <td>65</td>\n",
       "      <td>1</td>\n",
       "      <td>3</td>\n",
       "      <td>90</td>\n",
       "      <td>0</td>\n",
       "      <td>3.998090</td>\n",
       "      <td>15</td>\n",
       "      <td>22</td>\n",
       "    </tr>\n",
       "    <tr>\n",
       "      <td>66</td>\n",
       "      <td>1</td>\n",
       "      <td>67</td>\n",
       "      <td>1</td>\n",
       "      <td>1</td>\n",
       "      <td>30</td>\n",
       "      <td>0</td>\n",
       "      <td>6.802752</td>\n",
       "      <td>15</td>\n",
       "      <td>23</td>\n",
       "    </tr>\n",
       "    <tr>\n",
       "      <td>68</td>\n",
       "      <td>1</td>\n",
       "      <td>69</td>\n",
       "      <td>1</td>\n",
       "      <td>2</td>\n",
       "      <td>60</td>\n",
       "      <td>1</td>\n",
       "      <td>4.860678</td>\n",
       "      <td>16</td>\n",
       "      <td>23</td>\n",
       "    </tr>\n",
       "    <tr>\n",
       "      <td>70</td>\n",
       "      <td>1</td>\n",
       "      <td>71</td>\n",
       "      <td>1</td>\n",
       "      <td>1</td>\n",
       "      <td>30</td>\n",
       "      <td>0</td>\n",
       "      <td>3.893140</td>\n",
       "      <td>16</td>\n",
       "      <td>23</td>\n",
       "    </tr>\n",
       "    <tr>\n",
       "      <td>72</td>\n",
       "      <td>1</td>\n",
       "      <td>73</td>\n",
       "      <td>1</td>\n",
       "      <td>2</td>\n",
       "      <td>60</td>\n",
       "      <td>1</td>\n",
       "      <td>3.201471</td>\n",
       "      <td>17</td>\n",
       "      <td>24</td>\n",
       "    </tr>\n",
       "    <tr>\n",
       "      <td>74</td>\n",
       "      <td>1</td>\n",
       "      <td>75</td>\n",
       "      <td>1</td>\n",
       "      <td>3</td>\n",
       "      <td>90</td>\n",
       "      <td>1</td>\n",
       "      <td>5.739260</td>\n",
       "      <td>18</td>\n",
       "      <td>25</td>\n",
       "    </tr>\n",
       "    <tr>\n",
       "      <td>76</td>\n",
       "      <td>1</td>\n",
       "      <td>77</td>\n",
       "      <td>1</td>\n",
       "      <td>1</td>\n",
       "      <td>30</td>\n",
       "      <td>1</td>\n",
       "      <td>4.148019</td>\n",
       "      <td>19</td>\n",
       "      <td>26</td>\n",
       "    </tr>\n",
       "    <tr>\n",
       "      <td>78</td>\n",
       "      <td>1</td>\n",
       "      <td>79</td>\n",
       "      <td>1</td>\n",
       "      <td>2</td>\n",
       "      <td>60</td>\n",
       "      <td>0</td>\n",
       "      <td>4.508847</td>\n",
       "      <td>19</td>\n",
       "      <td>26</td>\n",
       "    </tr>\n",
       "  </tbody>\n",
       "</table>\n",
       "</div>"
      ],
      "text/plain": [
       "    game number  trial  player  arm  probability  reward      time  P1 score  \\\n",
       "20            1     21       1    3           90       1  4.524838         5   \n",
       "22            1     23       1    1           30       1  3.596283         6   \n",
       "24            1     25       1    3           90       0  4.707752         6   \n",
       "26            1     27       1    1           30       0  4.226980         6   \n",
       "28            1     29       1    2           60       0  4.341929         6   \n",
       "30            1     31       1    3           90       0  4.345925         6   \n",
       "32            1     33       1    1           30       1  4.068058         7   \n",
       "34            1     35       1    3           90       1  6.244021         8   \n",
       "36            1     37       1    2           60       1  5.267478         9   \n",
       "38            1     39       1    3           90       1  4.970626        10   \n",
       "40            1     41       1    1           30       0  4.402897        10   \n",
       "42            1     43       1    2           60       1  4.995615        11   \n",
       "44            1     45       1    1           30       0  3.771196        11   \n",
       "46            1     47       1    3           90       1  4.091046        12   \n",
       "48            1     49       1    1           30       0  3.571292        12   \n",
       "50            1     51       1    2           60       1  3.957111        13   \n",
       "52            1     53       1    1           30       0  4.134026        13   \n",
       "54            1     55       1    2           60       0  3.867153        13   \n",
       "56            1     57       1    1           30       0  3.715225        13   \n",
       "58            1     59       1    2           60       1  5.331454        14   \n",
       "60            1     61       1    2           60       1  3.933122        15   \n",
       "62            1     63       1    2           60       0  3.258445        15   \n",
       "64            1     65       1    3           90       0  3.998090        15   \n",
       "66            1     67       1    1           30       0  6.802752        15   \n",
       "68            1     69       1    2           60       1  4.860678        16   \n",
       "70            1     71       1    1           30       0  3.893140        16   \n",
       "72            1     73       1    2           60       1  3.201471        17   \n",
       "74            1     75       1    3           90       1  5.739260        18   \n",
       "76            1     77       1    1           30       1  4.148019        19   \n",
       "78            1     79       1    2           60       0  4.508847        19   \n",
       "\n",
       "    P2 score  \n",
       "20         5  \n",
       "22         6  \n",
       "24         7  \n",
       "26         8  \n",
       "28         8  \n",
       "30         9  \n",
       "32        10  \n",
       "34        11  \n",
       "36        12  \n",
       "38        13  \n",
       "40        14  \n",
       "42        15  \n",
       "44        16  \n",
       "46        17  \n",
       "48        18  \n",
       "50        18  \n",
       "52        18  \n",
       "54        19  \n",
       "56        20  \n",
       "58        21  \n",
       "60        21  \n",
       "62        22  \n",
       "64        22  \n",
       "66        23  \n",
       "68        23  \n",
       "70        23  \n",
       "72        24  \n",
       "74        25  \n",
       "76        26  \n",
       "78        26  "
      ]
     },
     "execution_count": 203,
     "metadata": {},
     "output_type": "execute_result"
    }
   ],
   "source": [
    "m13_p1_g1"
   ]
  },
  {
   "cell_type": "code",
   "execution_count": 204,
   "metadata": {},
   "outputs": [],
   "source": [
    "#m01_p1_counts, m01_p2_counts, m01_p1_probs, m01_p2_probs = handcode_calc_prob(m01)\n",
    "#m03_p1_counts, m03_p2_counts, m03_p1_probs, m03_p2_probs = handcode_calc_prob(m03)\n",
    "#m07_p1_counts, m07_p2_counts, m07_p1_probs, m07_p2_probs = handcode_calc_prob(m07)"
   ]
  },
  {
   "cell_type": "code",
   "execution_count": 205,
   "metadata": {},
   "outputs": [],
   "source": [
    "#m01_p1_g1, m01_p1_g2, m01_p2_g1, m01_p2_g2 = separate_df(m01, 'm')\n",
    "#m03_p1_g1, m03_p1_g2, m03_p2_g1, m03_p2_g2 = separate_df(m03, 'm')\n",
    "#m07_p1_g1, m07_p1_g2, m07_p2_g1, m07_p2_g2 = separate_df(m07, 'm')"
   ]
  },
  {
   "cell_type": "code",
   "execution_count": 206,
   "metadata": {},
   "outputs": [
    {
     "data": {
      "text/plain": [
       "'m01_p1_g1_map = hole_prob_map(m01_p1_g1)\\nm01_p1_g2_map = hole_prob_map(m01_p1_g2)\\nm01_p2_g1_map = hole_prob_map(m01_p2_g1)\\n\\nm03_p2_g2_map = hole_prob_map(m03_p2_g2)\\nm03_p1_g1_map = hole_prob_map(m03_p1_g1)\\nm03_p1_g2_map = hole_prob_map(m03_p1_g2)\\nm03_p2_g1_map = hole_prob_map(m03_p2_g1)\\nm03_p2_g2_map = hole_prob_map(m03_p2_g2)\\n\\nm05_p1_g1_map = hole_prob_map(m05_p1_g1)\\nm05_p1_g2_map = hole_prob_map(m05_p1_g2)\\nm05_p2_g1_map = hole_prob_map(m05_p2_g1)\\nm05_p2_g2_map = hole_prob_map(m05_p2_g2)\\n\\nm06_p1_g1_map = hole_prob_map(m06_p1_g1)\\nm06_p1_g2_map = hole_prob_map(m06_p1_g2)\\nm06_p2_g1_map = hole_prob_map(m06_p2_g1)\\nm06_p2_g2_map = hole_prob_map(m06_p2_g2)\\n\\nm07_p1_g1_map = hole_prob_map(m07_p1_g1)\\n#m07_p1_g2_map = hole_prob_map(m07_p1_g2)\\nm07_p2_g1_map = hole_prob_map(m07_p2_g1)\\n#m07_p2_g2_map = hole_prob_map(m07_p2_g2)\\n\\nm08_p1_g1_map = hole_prob_map(m08_p1_g1)\\nm08_p1_g2_map = hole_prob_map(m08_p1_g2)\\nm08_p2_g1_map = hole_prob_map(m08_p2_g1)\\nm08_p2_g2_map = hole_prob_map(m08_p2_g2)\\n\\nm10_p1_g1_map = hole_prob_map(m10_p1_g1)\\nm10_p1_g2_map = hole_prob_map(m10_p1_g2)\\nm10_p2_g1_map = hole_prob_map(m10_p2_g1)\\nm10_p2_g2_map = hole_prob_map(m10_p2_g2)\\n\\nm11_p1_g1_map = hole_prob_map(m11_p1_g1)\\n#m11_p1_g2_map = hole_prob_map(m11_p1_g2)\\nm11_p2_g1_map = hole_prob_map(m11_p2_g1)\\n#m11_p2_g2_map = hole_prob_map(m11_p2_g2)\\n\\nm13_p1_g1_map = hole_prob_map(m13_p1_g1)\\nm13_p1_g2_map = hole_prob_map(m13_p1_g2)\\nm13_p2_g1_map = hole_prob_map(m13_p2_g1)\\nm13_p2_g2_map = hole_prob_map(m13_p2_g2)'"
      ]
     },
     "execution_count": 206,
     "metadata": {},
     "output_type": "execute_result"
    }
   ],
   "source": [
    "'''Here we check the probability-hole mappings for each player in each game'''\n",
    "#INDEXOR ERROR\n",
    "\n",
    "'''m01_p1_g1_map = hole_prob_map(m01_p1_g1)\n",
    "m01_p1_g2_map = hole_prob_map(m01_p1_g2)\n",
    "m01_p2_g1_map = hole_prob_map(m01_p2_g1)\n",
    "\n",
    "m03_p2_g2_map = hole_prob_map(m03_p2_g2)\n",
    "m03_p1_g1_map = hole_prob_map(m03_p1_g1)\n",
    "m03_p1_g2_map = hole_prob_map(m03_p1_g2)\n",
    "m03_p2_g1_map = hole_prob_map(m03_p2_g1)\n",
    "m03_p2_g2_map = hole_prob_map(m03_p2_g2)\n",
    "\n",
    "m05_p1_g1_map = hole_prob_map(m05_p1_g1)\n",
    "m05_p1_g2_map = hole_prob_map(m05_p1_g2)\n",
    "m05_p2_g1_map = hole_prob_map(m05_p2_g1)\n",
    "m05_p2_g2_map = hole_prob_map(m05_p2_g2)\n",
    "\n",
    "m06_p1_g1_map = hole_prob_map(m06_p1_g1)\n",
    "m06_p1_g2_map = hole_prob_map(m06_p1_g2)\n",
    "m06_p2_g1_map = hole_prob_map(m06_p2_g1)\n",
    "m06_p2_g2_map = hole_prob_map(m06_p2_g2)\n",
    "\n",
    "m07_p1_g1_map = hole_prob_map(m07_p1_g1)\n",
    "#m07_p1_g2_map = hole_prob_map(m07_p1_g2)\n",
    "m07_p2_g1_map = hole_prob_map(m07_p2_g1)\n",
    "#m07_p2_g2_map = hole_prob_map(m07_p2_g2)\n",
    "\n",
    "m08_p1_g1_map = hole_prob_map(m08_p1_g1)\n",
    "m08_p1_g2_map = hole_prob_map(m08_p1_g2)\n",
    "m08_p2_g1_map = hole_prob_map(m08_p2_g1)\n",
    "m08_p2_g2_map = hole_prob_map(m08_p2_g2)\n",
    "\n",
    "m10_p1_g1_map = hole_prob_map(m10_p1_g1)\n",
    "m10_p1_g2_map = hole_prob_map(m10_p1_g2)\n",
    "m10_p2_g1_map = hole_prob_map(m10_p2_g1)\n",
    "m10_p2_g2_map = hole_prob_map(m10_p2_g2)\n",
    "\n",
    "m11_p1_g1_map = hole_prob_map(m11_p1_g1)\n",
    "#m11_p1_g2_map = hole_prob_map(m11_p1_g2)\n",
    "m11_p2_g1_map = hole_prob_map(m11_p2_g1)\n",
    "#m11_p2_g2_map = hole_prob_map(m11_p2_g2)\n",
    "\n",
    "m13_p1_g1_map = hole_prob_map(m13_p1_g1)\n",
    "m13_p1_g2_map = hole_prob_map(m13_p1_g2)\n",
    "m13_p2_g1_map = hole_prob_map(m13_p2_g1)\n",
    "m13_p2_g2_map = hole_prob_map(m13_p2_g2)'''"
   ]
  },
  {
   "cell_type": "code",
   "execution_count": 207,
   "metadata": {},
   "outputs": [
    {
     "data": {
      "text/plain": [
       "\"m01_p1_g1_score = m01_p1_g1['reward'].sum()\\nm01_p1_g2_score = m01_p1_g2['reward'].sum()\\nm01_p2_g1_score = m01_p2_g1['reward'].sum()\\nm01_p2_g2_score = m01_p2_g2['reward'].sum()\\n\\nm03_p1_g1_score = m03_p1_g1['reward'].sum()\\nm03_p1_g2_score = m03_p1_g2['reward'].sum()\\nm03_p2_g1_score = m03_p2_g1['reward'].sum()\\nm03_p2_g2_score = m03_p2_g2['reward'].sum()\\n\\nm07_p1_g1_score = m07_p1_g1['reward'].sum()\\nm07_p1_g2_score = m07_p1_g2['reward'].sum()\\nm07_p2_g1_score = m07_p2_g1['reward'].sum()\\nm07_p2_g2_score = m07_p2_g2['reward'].sum()\""
      ]
     },
     "execution_count": 207,
     "metadata": {},
     "output_type": "execute_result"
    }
   ],
   "source": [
    "'''m01_p1_g1_score = m01_p1_g1['reward'].sum()\n",
    "m01_p1_g2_score = m01_p1_g2['reward'].sum()\n",
    "m01_p2_g1_score = m01_p2_g1['reward'].sum()\n",
    "m01_p2_g2_score = m01_p2_g2['reward'].sum()\n",
    "\n",
    "m03_p1_g1_score = m03_p1_g1['reward'].sum()\n",
    "m03_p1_g2_score = m03_p1_g2['reward'].sum()\n",
    "m03_p2_g1_score = m03_p2_g1['reward'].sum()\n",
    "m03_p2_g2_score = m03_p2_g2['reward'].sum()\n",
    "\n",
    "m07_p1_g1_score = m07_p1_g1['reward'].sum()\n",
    "m07_p1_g2_score = m07_p1_g2['reward'].sum()\n",
    "m07_p2_g1_score = m07_p2_g1['reward'].sum()\n",
    "m07_p2_g2_score = m07_p2_g2['reward'].sum()'''"
   ]
  },
  {
   "cell_type": "code",
   "execution_count": 208,
   "metadata": {},
   "outputs": [
    {
     "data": {
      "text/plain": [
       "\"m01_p1_g1_count = m01_p1_g1['probability'].value_counts(sort=False)\\nm01_p1_g2_count = m01_p1_g2['probability'].value_counts(sort=False)\\nm01_p2_g1_count = m01_p2_g1['probability'].value_counts(sort=False)\\nm01_p2_g2_count = m01_p2_g2['probability'].value_counts(sort=False)\\nm03_p1_g1_count = m03_p1_g1['probability'].value_counts(sort=False)\\nm03_p1_g2_count = m03_p1_g2['probability'].value_counts(sort=False)\\nm03_p2_g1_count = m03_p2_g1['probability'].value_counts(sort=False)\\nm03_p2_g2_count = m03_p2_g2['probability'].value_counts(sort=False)\\n\\nm05_p1_g1_count = m05_p1_g1['probability'].value_counts(sort=False)\\nm05_p1_g2_count = m05_p1_g2['probability'].value_counts(sort=False)\\nm05_p2_g1_count = m05_p2_g1['probability'].value_counts(sort=False)\\nm05_p2_g2_count = m05_p2_g2['probability'].value_counts(sort=False)\\n\\nm07_p1_g1_count = m07_p1_g1['probability'].value_counts(sort=False)\\nm07_p1_g2_count = m07_p1_g2['probability'].value_counts(sort=False)\\nm07_p2_g1_count = m07_p2_g1['probability'].value_counts(sort=False)\\nm07_p2_g2_count = m07_p2_g2['probability'].value_counts(sort=False)\""
      ]
     },
     "execution_count": 208,
     "metadata": {},
     "output_type": "execute_result"
    }
   ],
   "source": [
    "# In[ ]:\n",
    "#Not working for m01 and m07 (hand coded)- need to fill in the probability column\n",
    "'''m01_p1_g1_count = m01_p1_g1['probability'].value_counts(sort=False)\n",
    "m01_p1_g2_count = m01_p1_g2['probability'].value_counts(sort=False)\n",
    "m01_p2_g1_count = m01_p2_g1['probability'].value_counts(sort=False)\n",
    "m01_p2_g2_count = m01_p2_g2['probability'].value_counts(sort=False)\n",
    "m03_p1_g1_count = m03_p1_g1['probability'].value_counts(sort=False)\n",
    "m03_p1_g2_count = m03_p1_g2['probability'].value_counts(sort=False)\n",
    "m03_p2_g1_count = m03_p2_g1['probability'].value_counts(sort=False)\n",
    "m03_p2_g2_count = m03_p2_g2['probability'].value_counts(sort=False)\n",
    "\n",
    "m05_p1_g1_count = m05_p1_g1['probability'].value_counts(sort=False)\n",
    "m05_p1_g2_count = m05_p1_g2['probability'].value_counts(sort=False)\n",
    "m05_p2_g1_count = m05_p2_g1['probability'].value_counts(sort=False)\n",
    "m05_p2_g2_count = m05_p2_g2['probability'].value_counts(sort=False)\n",
    "\n",
    "m07_p1_g1_count = m07_p1_g1['probability'].value_counts(sort=False)\n",
    "m07_p1_g2_count = m07_p1_g2['probability'].value_counts(sort=False)\n",
    "m07_p2_g1_count = m07_p2_g1['probability'].value_counts(sort=False)\n",
    "m07_p2_g2_count = m07_p2_g2['probability'].value_counts(sort=False)'''"
   ]
  },
  {
   "cell_type": "code",
   "execution_count": 209,
   "metadata": {},
   "outputs": [],
   "source": [
    "#same_probs_g1_2\n",
    "m05_p1_g1_count = m05_p1_g1['probability'].value_counts(sort=False)\n",
    "m05_p1_g2_count = m05_p1_g2['probability'].value_counts(sort=False)\n",
    "m05_p2_g1_count = m05_p2_g1['probability'].value_counts(sort=False)\n",
    "m05_p2_g2_count = m05_p2_g2['probability'].value_counts(sort=False)\n",
    "m06_p1_g1_count = m06_p1_g1['probability'].value_counts(sort=False)\n",
    "m06_p1_g2_count = m06_p1_g2['probability'].value_counts(sort=False)\n",
    "m06_p2_g1_count = m06_p2_g1['probability'].value_counts(sort=False)\n",
    "m06_p2_g2_count = m06_p2_g2['probability'].value_counts(sort=False)\n",
    "#m07_p1_g1_count = m07_p1_g1['probability'].value_counts(sort=False)\n",
    "#m07_p1_g2_count = m07_p1_g2['probability'].value_counts(sort=False)\n",
    "#m07_p2_g1_count = m07_p2_g1['probability'].value_counts(sort=False)\n",
    "#m07_p2_g2_count = m07_p2_g2['probability'].value_counts(sort=False)\n",
    "m08_p1_g1_count = m08_p1_g1['probability'].value_counts(sort=False)\n",
    "m08_p1_g2_count = m08_p1_g2['probability'].value_counts(sort=False)\n",
    "m08_p2_g1_count = m08_p2_g1['probability'].value_counts(sort=False)\n",
    "m08_p2_g2_count = m08_p2_g2['probability'].value_counts(sort=False)\n",
    "m10_p1_g1_count = m10_p1_g1['probability'].value_counts(sort=False)\n",
    "m10_p1_g2_count = m10_p1_g2['probability'].value_counts(sort=False)\n",
    "m10_p2_g1_count = m10_p2_g1['probability'].value_counts(sort=False)\n",
    "m10_p2_g2_count = m10_p2_g2['probability'].value_counts(sort=False)\n",
    "m11_p1_g1_count = m11_p1_g1['probability'].value_counts(sort=False)\n",
    "m11_p1_g2_count = m11_p1_g2['probability'].value_counts(sort=False)\n",
    "m11_p2_g1_count = m11_p2_g1['probability'].value_counts(sort=False)\n",
    "m11_p2_g2_count = m11_p2_g2['probability'].value_counts(sort=False)\n",
    "m13_p1_g1_count = m13_p1_g1['probability'].value_counts(sort=False)\n",
    "m13_p1_g2_count = m13_p1_g2['probability'].value_counts(sort=False)\n",
    "m13_p2_g1_count = m13_p2_g1['probability'].value_counts(sort=False)\n",
    "m13_p2_g2_count = m13_p2_g2['probability'].value_counts(sort=False)\n",
    "m14_p1_g1_count = m14_p1_g1['probability'].value_counts(sort=False)\n",
    "m14_p1_g2_count = m14_p1_g2['probability'].value_counts(sort=False)\n",
    "m14_p2_g1_count = m14_p2_g1['probability'].value_counts(sort=False)\n",
    "m14_p2_g2_count = m14_p2_g2['probability'].value_counts(sort=False)"
   ]
  },
  {
   "cell_type": "code",
   "execution_count": 210,
   "metadata": {},
   "outputs": [],
   "source": [
    "#call fix_reward on all of the files imported with '300' to fix the reward column\n",
    "m06_p1_g1 = fix_reward(m06_p1_g1)\n",
    "m06_p1_g2 = fix_reward(m06_p1_g2)\n",
    "m06_p2_g1 = fix_reward(m06_p2_g1)\n",
    "m06_p2_g2 = fix_reward(m06_p2_g2)\n",
    "m08_p1_g1 = fix_reward(m08_p1_g1)\n",
    "m08_p1_g2 = fix_reward(m08_p1_g2)\n",
    "m08_p2_g1 = fix_reward(m08_p2_g1)\n",
    "m08_p2_g2 = fix_reward(m08_p2_g2)\n",
    "m10_p1_g1 = fix_reward(m10_p1_g1)\n",
    "m10_p1_g2 = fix_reward(m10_p1_g2)\n",
    "m10_p2_g1 = fix_reward(m10_p2_g1)\n",
    "m10_p2_g2 = fix_reward(m10_p2_g2)\n",
    "m11_p1_g1 = fix_reward(m11_p1_g1)\n",
    "m11_p1_g2 = fix_reward(m11_p1_g2)\n",
    "m11_p2_g1 = fix_reward(m11_p2_g1)\n",
    "m11_p2_g2 = fix_reward(m11_p2_g2)\n",
    "m13_p1_g1 = fix_reward(m13_p1_g1)\n",
    "m13_p1_g2 = fix_reward(m13_p1_g2)\n",
    "m13_p2_g1 = fix_reward(m13_p2_g1)\n",
    "m13_p2_g2 = fix_reward(m13_p2_g2)\n",
    "m14_p1_g1 = fix_reward(m14_p1_g1)\n",
    "m14_p1_g2 = fix_reward(m14_p1_g2)\n",
    "m14_p2_g1 = fix_reward(m14_p2_g1)\n",
    "m14_p2_g2 = fix_reward(m14_p2_g2)"
   ]
  },
  {
   "cell_type": "code",
   "execution_count": 211,
   "metadata": {},
   "outputs": [
    {
     "data": {
      "text/html": [
       "<div>\n",
       "<style scoped>\n",
       "    .dataframe tbody tr th:only-of-type {\n",
       "        vertical-align: middle;\n",
       "    }\n",
       "\n",
       "    .dataframe tbody tr th {\n",
       "        vertical-align: top;\n",
       "    }\n",
       "\n",
       "    .dataframe thead th {\n",
       "        text-align: right;\n",
       "    }\n",
       "</style>\n",
       "<table border=\"1\" class=\"dataframe\">\n",
       "  <thead>\n",
       "    <tr style=\"text-align: right;\">\n",
       "      <th></th>\n",
       "      <th>score_1</th>\n",
       "    </tr>\n",
       "    <tr>\n",
       "      <th>participant</th>\n",
       "      <th></th>\n",
       "    </tr>\n",
       "  </thead>\n",
       "  <tbody>\n",
       "    <tr>\n",
       "      <td>m05_p1</td>\n",
       "      <td>86</td>\n",
       "    </tr>\n",
       "    <tr>\n",
       "      <td>m05_p2</td>\n",
       "      <td>75</td>\n",
       "    </tr>\n",
       "    <tr>\n",
       "      <td>m08_p1</td>\n",
       "      <td>69</td>\n",
       "    </tr>\n",
       "    <tr>\n",
       "      <td>m08_p2</td>\n",
       "      <td>83</td>\n",
       "    </tr>\n",
       "    <tr>\n",
       "      <td>m10_p1</td>\n",
       "      <td>69</td>\n",
       "    </tr>\n",
       "    <tr>\n",
       "      <td>m10_p2</td>\n",
       "      <td>57</td>\n",
       "    </tr>\n",
       "    <tr>\n",
       "      <td>m11_p1</td>\n",
       "      <td>80</td>\n",
       "    </tr>\n",
       "    <tr>\n",
       "      <td>m11_p2</td>\n",
       "      <td>87</td>\n",
       "    </tr>\n",
       "    <tr>\n",
       "      <td>m13_p1</td>\n",
       "      <td>53</td>\n",
       "    </tr>\n",
       "    <tr>\n",
       "      <td>m13_p2</td>\n",
       "      <td>60</td>\n",
       "    </tr>\n",
       "    <tr>\n",
       "      <td>m14_p1</td>\n",
       "      <td>75</td>\n",
       "    </tr>\n",
       "    <tr>\n",
       "      <td>m14_p2</td>\n",
       "      <td>63</td>\n",
       "    </tr>\n",
       "  </tbody>\n",
       "</table>\n",
       "</div>"
      ],
      "text/plain": [
       "             score_1\n",
       "participant         \n",
       "m05_p1            86\n",
       "m05_p2            75\n",
       "m08_p1            69\n",
       "m08_p2            83\n",
       "m10_p1            69\n",
       "m10_p2            57\n",
       "m11_p1            80\n",
       "m11_p2            87\n",
       "m13_p1            53\n",
       "m13_p2            60\n",
       "m14_p1            75\n",
       "m14_p2            63"
      ]
     },
     "execution_count": 211,
     "metadata": {},
     "output_type": "execute_result"
    }
   ],
   "source": [
    "# # Combined multi scores G1\n",
    "\n",
    "# In[ ]:\n",
    "\n",
    "m_scores_1 = pd.DataFrame({'participant':['m05_p1', 'm05_p2', 'm08_p1', 'm08_p2', 'm10_p1', 'm10_p2', 'm11_p1', 'm11_p2', 'm13_p1', 'm13_p2', 'm14_p1', 'm14_p2'], 'score_1':\n",
    "     [m05_p1_g1_score, m05_p2_g1_score, m08_p1_g1_score, m08_p2_g1_score,\n",
    "      m10_p1_g1_score, m10_p2_g1_score, m11_p1_g1_score, m11_p2_g1_score, m13_p1_g1_score, m13_p2_g1_score,\n",
    "      m14_p1_g1_score, m14_p2_g1_score]})\n",
    "m_scores_1.set_index('participant', inplace=True, drop=True)\n",
    "m_scores_1"
   ]
  },
  {
   "cell_type": "code",
   "execution_count": 212,
   "metadata": {},
   "outputs": [],
   "source": [
    "# # Combined multi scores G2\n",
    "\n",
    "# In[ ]:\n",
    "\n",
    "#NEEDS TO BE SEPARATED\n",
    "m_scores_2_d = pd.DataFrame({'participant':['m05_p1','m05_p2'], 'score_2':\n",
    "     [m05_p1_g2_score, m05_p2_g2_score]})\n",
    "m_scores_2_d.set_index('participant', inplace=True, drop=True)\n",
    "\n",
    "m_scores_2_s = pd.DataFrame({'participant':['m08_p1', 'm08_p2', 'm10_p1', 'm10_p2', 'm11_p1', 'm11_p2', 'm13_p1', 'm13_p2', 'm14_p1', 'm14_p2'], 'score_2':\n",
    "     [m08_p1_g2_score, m08_p2_g2_score,\n",
    "      m10_p1_g2_score, m10_p2_g2_score, m11_p1_g2_score, m11_p2_g2_score, m13_p1_g2_score, m13_p2_g2_score,\n",
    "      m14_p1_g2_score, m14_p2_g2_score]})\n",
    "m_scores_2_s.set_index('participant', inplace=True, drop=True)\n",
    "\n",
    "\n",
    "#NEEDS TO BE REVISITED, add 50 to hand coded sessions\n",
    "'''m_scores_1_50 = pd.DataFrame({'participant':['m01_p1','m01_p2', 'm03_p1', 'm03_p2','m05_p1', 'm05_p2','m06_p1', 'm06_p2', 'm07_p1', 'm07_p2', 'm08_p1', 'm08_p2', 'm10_p1', 'm10_p2', 'm11_p1', 'm11_p2', 'm13_p1', 'm13_p2', 'm14_p1', 'm14_p2'], 'score_1_50':\n",
    "     [m01_p1_g1_50, m01_p2_g1_50, m03_p1_g1_50, m03_p2_g1_50, m05_p1_g1_50, m05_p2_g1_50, m06_p1_g1_50, m06_p2_g1_50, m07_p1_g1_50, m07_p2_g1_50, m08_p1_g1_50, m08_p2_g1_50, m10_p1_g1_50, m10_p2_g1_50, m11_p1_g1_50, m11_p2_g1_50, m13_p1_g1_50, m13_p2_g1_50,\n",
    "     m14_p1_g1_50, m14_p2_g1_50,]})\n",
    "m_scores_1_50.set_index('participant', inplace=True, drop=True)'''\n",
    "\n",
    "#NEEDS TO BE SEPARATED\n",
    "m_scores_2_50 = pd.DataFrame({'participant':['m05_p1', 'm05_p2','m06_p1', 'm06_p2', 'm08_p1', 'm08_p2', 'm10_p1', 'm10_p2', 'm11_p1', 'm11_p2', 'm13_p1', 'm13_p2', 'm14_p1', 'm14_p2'], 'score_1_50':\n",
    "     [m05_p1_g2_50, m05_p2_g2_50, m06_p1_g2_50, m06_p2_g2_50, m08_p1_g2_50, m08_p2_g2_50, m10_p1_g2_50, m10_p2_g2_50, m11_p1_g2_50, m11_p2_g2_50, m13_p1_g2_50, m13_p2_g2_50,\n",
    "     m14_p1_g2_50, m14_p2_g2_50,]})\n",
    "m_scores_2_50.set_index('participant', inplace=True, drop=True)"
   ]
  },
  {
   "cell_type": "code",
   "execution_count": 213,
   "metadata": {},
   "outputs": [
    {
     "data": {
      "image/png": "[encoded data removed]",
      "text/plain": [
       "<Figure size 432x288 with 1 Axes>"
      ]
     },
     "metadata": {},
     "output_type": "display_data"
    }
   ],
   "source": [
    "m_scores_1_bar = m_scores_1.plot.bar()"
   ]
  },
  {
   "cell_type": "code",
   "execution_count": 214,
   "metadata": {},
   "outputs": [
    {
     "data": {
      "image/png": "[encoded data removed]",
      "text/plain": [
       "<Figure size 432x288 with 1 Axes>"
      ]
     },
     "metadata": {},
     "output_type": "display_data"
    }
   ],
   "source": [
    "m_g1_scores_box = sns.boxplot( \n",
    "                 data=m_scores_1, \n",
    "                 width=0.5,\n",
    "                 palette=\"pastel\")\n",
    "m_g1_scores_box.axes.set_title(\"SMAB4 Social Scores in Game 1\",\n",
    "                    fontsize=16)\n",
    "\n",
    "plot_file_name=\"m_g1_score_box.jpg\"\n",
    " \n",
    "plt.ylim(0, 100)\n",
    "m_g1_scores_box.axes.set(ylabel='Score')\n",
    "\n",
    "# save as jpeg\n",
    "m_g1_scores_box.figure.savefig(plot_file_name,\n",
    "                    format='jpeg')\n"
   ]
  },
  {
   "cell_type": "code",
   "execution_count": 215,
   "metadata": {},
   "outputs": [
    {
     "data": {
      "image/png": "[encoded data removed]",
      "text/plain": [
       "<Figure size 432x288 with 1 Axes>"
      ]
     },
     "metadata": {},
     "output_type": "display_data"
    }
   ],
   "source": [
    "m_g2d_scores_box = sns.boxplot( \n",
    "                 data=m_scores_2_d, \n",
    "                 width=0.5,\n",
    "                 palette=\"pastel\")\n",
    "m_g2d_scores_box.axes.set_title(\"SMAB4 Social Scores in Game 2-Different\",\n",
    "                    fontsize=16)\n",
    "\n",
    "plot_file_name=\"m_g2d_score_box.jpg\"\n",
    " \n",
    "plt.ylim(0, 100)\n",
    "m_g2d_scores_box.axes.set(ylabel='Score')\n",
    "\n",
    "# save as jpeg\n",
    "m_g2d_scores_box.figure.savefig(plot_file_name,\n",
    "                    format='jpeg')"
   ]
  },
  {
   "cell_type": "code",
   "execution_count": 216,
   "metadata": {},
   "outputs": [
    {
     "data": {
      "image/png": "[encoded data removed]",
      "text/plain": [
       "<Figure size 432x288 with 1 Axes>"
      ]
     },
     "metadata": {},
     "output_type": "display_data"
    }
   ],
   "source": [
    "m_g2s_scores_box = sns.boxplot( \n",
    "                 data=m_scores_2_s, \n",
    "                 width=0.5,\n",
    "                 palette=\"pastel\")\n",
    "m_g2s_scores_box.axes.set_title(\"SMAB4 Social Scores in Game 2-Same\",\n",
    "                    fontsize=16)\n",
    "\n",
    "plot_file_name=\"m_g2s_score_box.jpg\"\n",
    " \n",
    "plt.ylim(0, 100)\n",
    "m_g2s_scores_box.axes.set(ylabel='Score')\n",
    "\n",
    "# save as jpeg\n",
    "m_g2s_scores_box.figure.savefig(plot_file_name,\n",
    "                    format='jpeg')"
   ]
  },
  {
   "cell_type": "code",
   "execution_count": 217,
   "metadata": {},
   "outputs": [],
   "source": [
    "m_scores_2s_mean = m_scores_2_s.mean()"
   ]
  },
  {
   "cell_type": "code",
   "execution_count": 218,
   "metadata": {},
   "outputs": [],
   "source": [
    "m_scores_2s_std = m_scores_2_s.std()"
   ]
  },
  {
   "cell_type": "code",
   "execution_count": 219,
   "metadata": {},
   "outputs": [],
   "source": [
    "m_scores_2d_mean = m_scores_2_d.mean()"
   ]
  },
  {
   "cell_type": "code",
   "execution_count": 220,
   "metadata": {},
   "outputs": [],
   "source": [
    "m_scores_2d_std = m_scores_2_d.std()"
   ]
  },
  {
   "cell_type": "code",
   "execution_count": 221,
   "metadata": {},
   "outputs": [
    {
     "data": {
      "text/plain": [
       "(score_2    72.5\n",
       " dtype: float64, score_2    12.49222\n",
       " dtype: float64)"
      ]
     },
     "execution_count": 221,
     "metadata": {},
     "output_type": "execute_result"
    }
   ],
   "source": [
    "m_scores_2s_mean, m_scores_2s_std"
   ]
  },
  {
   "cell_type": "code",
   "execution_count": 222,
   "metadata": {},
   "outputs": [
    {
     "data": {
      "text/plain": [
       "(score_2    77.0\n",
       " dtype: float64, score_2    12.727922\n",
       " dtype: float64)"
      ]
     },
     "execution_count": 222,
     "metadata": {},
     "output_type": "execute_result"
    }
   ],
   "source": [
    "m_scores_2d_mean, m_scores_2d_std"
   ]
  },
  {
   "cell_type": "code",
   "execution_count": 223,
   "metadata": {},
   "outputs": [
    {
     "data": {
      "text/plain": [
       "Ttest_indResult(statistic=array([-0.46416425]), pvalue=array([0.65247024]))"
      ]
     },
     "execution_count": 223,
     "metadata": {},
     "output_type": "execute_result"
    }
   ],
   "source": [
    "sp.stats.ttest_ind(m_scores_2_s, m_scores_2_d)"
   ]
  },
  {
   "cell_type": "markdown",
   "metadata": {},
   "source": [
    "# COMPLETE MULTIPLAYER CHOICE DIST"
   ]
  },
  {
   "cell_type": "code",
   "execution_count": 358,
   "metadata": {},
   "outputs": [
    {
     "data": {
      "text/plain": [
       "j01_p1_g1_count    30.0\n",
       "j01_p2_g1_count    30.0\n",
       "j02_p1_g1_count    30.0\n",
       "j02_p2_g1_count    30.0\n",
       "j03_p1_g1_count    30.0\n",
       "j03_p2_g1_count    30.0\n",
       "j04_p1_g1_count    30.0\n",
       "j04_p2_g1_count    30.0\n",
       "j05_p1_g1_count    30.0\n",
       "j05_p2_g1_count    30.0\n",
       "j06_p1_g1_count    30.0\n",
       "j06_p2_g1_count    30.0\n",
       "j07_p1_g1_count    30.0\n",
       "j07_p2_g1_count    30.0\n",
       "j08_p1_g1_count    30.0\n",
       "j08_p2_g1_count    30.0\n",
       "j10_p1_g1_count    30.0\n",
       "j10_p2_g1_count    30.0\n",
       "j11_p1_g1_count    30.0\n",
       "j11_p2_g1_count    30.0\n",
       "m05_p1_g1_count    30.0\n",
       "m05_p2_g1_count    30.0\n",
       "m08_p1_g1_count    30.0\n",
       "m08_p2_g1_count    30.0\n",
       "m10_p1_g1_count    30.0\n",
       "m10_p2_g1_count    30.0\n",
       "m11_p1_g1_count    30.0\n",
       "m11_p2_g1_count    30.0\n",
       "m13_p1_g1_count    30.0\n",
       "m13_p2_g1_count    30.0\n",
       "m14_p1_g1_count    30.0\n",
       "m14_p2_g1_count    30.0\n",
       "dtype: float64"
      ]
     },
     "execution_count": 358,
     "metadata": {},
     "output_type": "execute_result"
    }
   ],
   "source": [
    "'''Here we place the counts of how many times each hole was chosen into dataframes for games 1 and 2. We also \n",
    "get statistics on this data and plot it.'''\n",
    "\n",
    "# # Multi combined choices in G1\n",
    "\n",
    "# In[ ]:\n",
    "\n",
    "\n",
    "m_g1_counts = pd.DataFrame([j01_p1_g1_count, j01_p2_g1_count, j02_p1_g1_count, j02_p2_g1_count, j03_p1_g1_count, \n",
    "              j03_p2_g1_count, j04_p1_g1_count, j04_p2_g1_count, j05_p1_g1_count, j05_p2_g1_count, j06_p1_g1_count, \n",
    "              j06_p2_g1_count, j07_p1_g1_count, j07_p2_g1_count, j08_p1_g1_count, j08_p2_g1_count, \n",
    "              j10_p1_g1_count, j10_p2_g1_count, j11_p1_g1_count, j11_p2_g1_count, m05_p1_g1_count, m05_p2_g1_count, m08_p1_g1_count, m08_p2_g1_count, \n",
    "              m10_p1_g1_count, m10_p2_g1_count, m11_p1_g1_count, m11_p2_g1_count, m13_p1_g1_count, m13_p2_g1_count, \n",
    "              m14_p1_g1_count, m14_p2_g1_count],\n",
    "                index = ['j01_p1_g1_count', 'j01_p2_g1_count', 'j02_p1_g1_count', 'j02_p2_g1_count', \n",
    "                 'j03_p1_g1_count', 'j03_p2_g1_count', 'j04_p1_g1_count', 'j04_p2_g1_count', 'j05_p1_g1_count', \n",
    "                  'j05_p2_g1_count', 'j06_p1_g1_count', 'j06_p2_g1_count', 'j07_p1_g1_count', \n",
    "                    'j07_p2_g1_count', 'j08_p1_g1_count', 'j08_p2_g1_count', 'j10_p1_g1_count', 'j10_p2_g1_count', \n",
    "                    'j11_p1_g1_count', 'j11_p2_g1_count', 'm05_p1_g1_count', 'm05_p2_g1_count', \n",
    "                'm08_p1_g1_count', 'm08_p2_g1_count', 'm10_p1_g1_count', 'm10_p2_g1_count', 'm11_p1_g1_count', \n",
    "                'm11_p2_g1_count', 'm13_p1_g1_count', 'm13_p2_g1_count', 'm14_p1_g1_count', 'm14_p2_g1_count']) \n",
    "\n",
    "\n",
    "\n",
    "\n",
    "\n",
    "\n",
    "# In[ ]:\n",
    "\n",
    "\n",
    "m_g1_counts = m_g1_counts.fillna(0) \n",
    "\n",
    "\n",
    "\n",
    "# In[ ]:\n",
    "\n",
    "\n",
    "m_g1_counts\n",
    "\n",
    "\n",
    "# In[ ]:\n",
    "\n",
    "\n",
    "m_g1_counts.sum(axis=1)\n",
    "\n",
    "\n",
    "# In[ ]:\n",
    "\n",
    "# save as jpeg\n",
    "\n",
    "\n"
   ]
  },
  {
   "cell_type": "code",
   "execution_count": 359,
   "metadata": {},
   "outputs": [
    {
     "data": {
      "text/html": [
       "<div>\n",
       "<style scoped>\n",
       "    .dataframe tbody tr th:only-of-type {\n",
       "        vertical-align: middle;\n",
       "    }\n",
       "\n",
       "    .dataframe tbody tr th {\n",
       "        vertical-align: top;\n",
       "    }\n",
       "\n",
       "    .dataframe thead th {\n",
       "        text-align: right;\n",
       "    }\n",
       "</style>\n",
       "<table border=\"1\" class=\"dataframe\">\n",
       "  <thead>\n",
       "    <tr style=\"text-align: right;\">\n",
       "      <th></th>\n",
       "      <th>30</th>\n",
       "      <th>60</th>\n",
       "      <th>90</th>\n",
       "    </tr>\n",
       "  </thead>\n",
       "  <tbody>\n",
       "    <tr>\n",
       "      <td>j01_p1_g1_count</td>\n",
       "      <td>12.0</td>\n",
       "      <td>9.0</td>\n",
       "      <td>9.0</td>\n",
       "    </tr>\n",
       "    <tr>\n",
       "      <td>j01_p2_g1_count</td>\n",
       "      <td>10.0</td>\n",
       "      <td>12.0</td>\n",
       "      <td>8.0</td>\n",
       "    </tr>\n",
       "    <tr>\n",
       "      <td>j02_p1_g1_count</td>\n",
       "      <td>11.0</td>\n",
       "      <td>13.0</td>\n",
       "      <td>6.0</td>\n",
       "    </tr>\n",
       "    <tr>\n",
       "      <td>j02_p2_g1_count</td>\n",
       "      <td>10.0</td>\n",
       "      <td>8.0</td>\n",
       "      <td>12.0</td>\n",
       "    </tr>\n",
       "    <tr>\n",
       "      <td>j03_p1_g1_count</td>\n",
       "      <td>9.0</td>\n",
       "      <td>9.0</td>\n",
       "      <td>12.0</td>\n",
       "    </tr>\n",
       "    <tr>\n",
       "      <td>j03_p2_g1_count</td>\n",
       "      <td>11.0</td>\n",
       "      <td>10.0</td>\n",
       "      <td>9.0</td>\n",
       "    </tr>\n",
       "    <tr>\n",
       "      <td>j04_p1_g1_count</td>\n",
       "      <td>8.0</td>\n",
       "      <td>13.0</td>\n",
       "      <td>9.0</td>\n",
       "    </tr>\n",
       "    <tr>\n",
       "      <td>j04_p2_g1_count</td>\n",
       "      <td>14.0</td>\n",
       "      <td>1.0</td>\n",
       "      <td>15.0</td>\n",
       "    </tr>\n",
       "    <tr>\n",
       "      <td>j05_p1_g1_count</td>\n",
       "      <td>1.0</td>\n",
       "      <td>6.0</td>\n",
       "      <td>23.0</td>\n",
       "    </tr>\n",
       "    <tr>\n",
       "      <td>j05_p2_g1_count</td>\n",
       "      <td>4.0</td>\n",
       "      <td>10.0</td>\n",
       "      <td>16.0</td>\n",
       "    </tr>\n",
       "    <tr>\n",
       "      <td>j06_p1_g1_count</td>\n",
       "      <td>14.0</td>\n",
       "      <td>9.0</td>\n",
       "      <td>7.0</td>\n",
       "    </tr>\n",
       "    <tr>\n",
       "      <td>j06_p2_g1_count</td>\n",
       "      <td>17.0</td>\n",
       "      <td>3.0</td>\n",
       "      <td>10.0</td>\n",
       "    </tr>\n",
       "    <tr>\n",
       "      <td>j07_p1_g1_count</td>\n",
       "      <td>2.0</td>\n",
       "      <td>13.0</td>\n",
       "      <td>15.0</td>\n",
       "    </tr>\n",
       "    <tr>\n",
       "      <td>j07_p2_g1_count</td>\n",
       "      <td>3.0</td>\n",
       "      <td>4.0</td>\n",
       "      <td>23.0</td>\n",
       "    </tr>\n",
       "    <tr>\n",
       "      <td>j08_p1_g1_count</td>\n",
       "      <td>6.0</td>\n",
       "      <td>13.0</td>\n",
       "      <td>11.0</td>\n",
       "    </tr>\n",
       "    <tr>\n",
       "      <td>j08_p2_g1_count</td>\n",
       "      <td>13.0</td>\n",
       "      <td>3.0</td>\n",
       "      <td>14.0</td>\n",
       "    </tr>\n",
       "    <tr>\n",
       "      <td>j10_p1_g1_count</td>\n",
       "      <td>8.0</td>\n",
       "      <td>10.0</td>\n",
       "      <td>12.0</td>\n",
       "    </tr>\n",
       "    <tr>\n",
       "      <td>j10_p2_g1_count</td>\n",
       "      <td>7.0</td>\n",
       "      <td>10.0</td>\n",
       "      <td>13.0</td>\n",
       "    </tr>\n",
       "    <tr>\n",
       "      <td>j11_p1_g1_count</td>\n",
       "      <td>0.0</td>\n",
       "      <td>12.0</td>\n",
       "      <td>18.0</td>\n",
       "    </tr>\n",
       "    <tr>\n",
       "      <td>j11_p2_g1_count</td>\n",
       "      <td>0.0</td>\n",
       "      <td>5.0</td>\n",
       "      <td>25.0</td>\n",
       "    </tr>\n",
       "    <tr>\n",
       "      <td>m05_p1_g1_count</td>\n",
       "      <td>2.0</td>\n",
       "      <td>8.0</td>\n",
       "      <td>20.0</td>\n",
       "    </tr>\n",
       "    <tr>\n",
       "      <td>m05_p2_g1_count</td>\n",
       "      <td>2.0</td>\n",
       "      <td>9.0</td>\n",
       "      <td>19.0</td>\n",
       "    </tr>\n",
       "    <tr>\n",
       "      <td>m08_p1_g1_count</td>\n",
       "      <td>6.0</td>\n",
       "      <td>9.0</td>\n",
       "      <td>15.0</td>\n",
       "    </tr>\n",
       "    <tr>\n",
       "      <td>m08_p2_g1_count</td>\n",
       "      <td>5.0</td>\n",
       "      <td>12.0</td>\n",
       "      <td>13.0</td>\n",
       "    </tr>\n",
       "    <tr>\n",
       "      <td>m10_p1_g1_count</td>\n",
       "      <td>10.0</td>\n",
       "      <td>8.0</td>\n",
       "      <td>12.0</td>\n",
       "    </tr>\n",
       "    <tr>\n",
       "      <td>m10_p2_g1_count</td>\n",
       "      <td>9.0</td>\n",
       "      <td>16.0</td>\n",
       "      <td>5.0</td>\n",
       "    </tr>\n",
       "    <tr>\n",
       "      <td>m11_p1_g1_count</td>\n",
       "      <td>15.0</td>\n",
       "      <td>0.0</td>\n",
       "      <td>15.0</td>\n",
       "    </tr>\n",
       "    <tr>\n",
       "      <td>m11_p2_g1_count</td>\n",
       "      <td>0.0</td>\n",
       "      <td>0.0</td>\n",
       "      <td>30.0</td>\n",
       "    </tr>\n",
       "    <tr>\n",
       "      <td>m13_p1_g1_count</td>\n",
       "      <td>11.0</td>\n",
       "      <td>11.0</td>\n",
       "      <td>8.0</td>\n",
       "    </tr>\n",
       "    <tr>\n",
       "      <td>m13_p2_g1_count</td>\n",
       "      <td>10.0</td>\n",
       "      <td>11.0</td>\n",
       "      <td>9.0</td>\n",
       "    </tr>\n",
       "    <tr>\n",
       "      <td>m14_p1_g1_count</td>\n",
       "      <td>5.0</td>\n",
       "      <td>10.0</td>\n",
       "      <td>15.0</td>\n",
       "    </tr>\n",
       "    <tr>\n",
       "      <td>m14_p2_g1_count</td>\n",
       "      <td>11.0</td>\n",
       "      <td>9.0</td>\n",
       "      <td>10.0</td>\n",
       "    </tr>\n",
       "  </tbody>\n",
       "</table>\n",
       "</div>"
      ],
      "text/plain": [
       "                   30    60    90\n",
       "j01_p1_g1_count  12.0   9.0   9.0\n",
       "j01_p2_g1_count  10.0  12.0   8.0\n",
       "j02_p1_g1_count  11.0  13.0   6.0\n",
       "j02_p2_g1_count  10.0   8.0  12.0\n",
       "j03_p1_g1_count   9.0   9.0  12.0\n",
       "j03_p2_g1_count  11.0  10.0   9.0\n",
       "j04_p1_g1_count   8.0  13.0   9.0\n",
       "j04_p2_g1_count  14.0   1.0  15.0\n",
       "j05_p1_g1_count   1.0   6.0  23.0\n",
       "j05_p2_g1_count   4.0  10.0  16.0\n",
       "j06_p1_g1_count  14.0   9.0   7.0\n",
       "j06_p2_g1_count  17.0   3.0  10.0\n",
       "j07_p1_g1_count   2.0  13.0  15.0\n",
       "j07_p2_g1_count   3.0   4.0  23.0\n",
       "j08_p1_g1_count   6.0  13.0  11.0\n",
       "j08_p2_g1_count  13.0   3.0  14.0\n",
       "j10_p1_g1_count   8.0  10.0  12.0\n",
       "j10_p2_g1_count   7.0  10.0  13.0\n",
       "j11_p1_g1_count   0.0  12.0  18.0\n",
       "j11_p2_g1_count   0.0   5.0  25.0\n",
       "m05_p1_g1_count   2.0   8.0  20.0\n",
       "m05_p2_g1_count   2.0   9.0  19.0\n",
       "m08_p1_g1_count   6.0   9.0  15.0\n",
       "m08_p2_g1_count   5.0  12.0  13.0\n",
       "m10_p1_g1_count  10.0   8.0  12.0\n",
       "m10_p2_g1_count   9.0  16.0   5.0\n",
       "m11_p1_g1_count  15.0   0.0  15.0\n",
       "m11_p2_g1_count   0.0   0.0  30.0\n",
       "m13_p1_g1_count  11.0  11.0   8.0\n",
       "m13_p2_g1_count  10.0  11.0   9.0\n",
       "m14_p1_g1_count   5.0  10.0  15.0\n",
       "m14_p2_g1_count  11.0   9.0  10.0"
      ]
     },
     "execution_count": 359,
     "metadata": {},
     "output_type": "execute_result"
    }
   ],
   "source": [
    "m_g1_counts"
   ]
  },
  {
   "cell_type": "code",
   "execution_count": 360,
   "metadata": {},
   "outputs": [
    {
     "data": {
      "image/png": "[encoded data removed]",
      "text/plain": [
       "<Figure size 432x288 with 1 Axes>"
      ]
     },
     "metadata": {},
     "output_type": "display_data"
    }
   ],
   "source": [
    "# In[ ]:\n",
    "\n",
    "\n",
    "m_g1_counts_box = sns.boxplot( \n",
    "                 data = m_g1_counts, \n",
    "                 width=0.5,\n",
    "                 palette=\"pastel\")\n",
    "m_g1_counts_box.axes.set_title(\"Block 1, Social Choice Distributions in Game 1\",\n",
    "                    fontsize=16)\n",
    "\n",
    "plot_file_name=\"m_g1_counts_box.jpg\"\n",
    " \n",
    "plt.ylim(0, 100)\n",
    "m_g1_counts_box.axes.set(xlabel='Arm',ylabel='Frequency')\n",
    "\n",
    "# save as jpeg\n",
    "m_g1_counts_box.figure.savefig(plot_file_name,\n",
    "                    format='jpeg')"
   ]
  },
  {
   "cell_type": "code",
   "execution_count": 361,
   "metadata": {},
   "outputs": [
    {
     "data": {
      "text/plain": [
       "j01_p1_g2_count    30.0\n",
       "j01_p2_g2_count    30.0\n",
       "j02_p1_g2_count    30.0\n",
       "j02_p2_g2_count    30.0\n",
       "j03_p1_g2_count    30.0\n",
       "j03_p2_g2_count    30.0\n",
       "j04_p1_g2_count    30.0\n",
       "j04_p2_g2_count    30.0\n",
       "j05_p1_g2_count    30.0\n",
       "j05_p2_g2_count    30.0\n",
       "j06_p1_g2_count    30.0\n",
       "j06_p2_g2_count    30.0\n",
       "j07_p1_g2_count    30.0\n",
       "j07_p2_g2_count    30.0\n",
       "j08_p1_g2_count    30.0\n",
       "j08_p2_g2_count    30.0\n",
       "j10_p1_g2_count    30.0\n",
       "j10_p2_g2_count    30.0\n",
       "j11_p1_g2_count    30.0\n",
       "j11_p2_g2_count    30.0\n",
       "m05_p1_g2_count    30.0\n",
       "m05_p2_g2_count    30.0\n",
       "m08_p1_g2_count    30.0\n",
       "m08_p2_g2_count    30.0\n",
       "m10_p1_g2_count    30.0\n",
       "m10_p2_g2_count    30.0\n",
       "m11_p1_g2_count    30.0\n",
       "m11_p2_g2_count    30.0\n",
       "m13_p1_g2_count    30.0\n",
       "m13_p2_g2_count    30.0\n",
       "m14_p1_g2_count    30.0\n",
       "m14_p2_g2_count    30.0\n",
       "dtype: float64"
      ]
     },
     "execution_count": 361,
     "metadata": {},
     "output_type": "execute_result"
    }
   ],
   "source": [
    "# # Multi combined choices in G2\n",
    "\n",
    "\n",
    "m_g2_counts = pd.DataFrame([j01_p1_g2_count, j01_p2_g2_count, j02_p1_g2_count, j02_p2_g2_count, j03_p1_g2_count, \n",
    "              j03_p2_g2_count, j04_p1_g2_count, j04_p2_g2_count, j05_p1_g2_count, j05_p2_g2_count, j06_p1_g2_count, \n",
    "              j06_p2_g2_count, j07_p1_g2_count, j07_p2_g2_count, j08_p1_g2_count, j08_p2_g2_count, \n",
    "              j10_p1_g2_count, j10_p2_g2_count, j11_p1_g2_count, j11_p2_g2_count, m05_p1_g2_count, m05_p2_g2_count, m08_p1_g2_count, m08_p2_g2_count, \n",
    "              m10_p1_g2_count, m10_p2_g2_count, m11_p1_g2_count, m11_p2_g2_count, m13_p1_g2_count, m13_p2_g2_count, \n",
    "              m14_p1_g2_count, m14_p2_g2_count],\n",
    "                index = ['j01_p1_g2_count', 'j01_p2_g2_count', 'j02_p1_g2_count', 'j02_p2_g2_count', \n",
    "                 'j03_p1_g2_count', 'j03_p2_g2_count', 'j04_p1_g2_count', 'j04_p2_g2_count', 'j05_p1_g2_count', \n",
    "                  'j05_p2_g2_count', 'j06_p1_g2_count', 'j06_p2_g2_count', 'j07_p1_g2_count', \n",
    "                    'j07_p2_g2_count', 'j08_p1_g2_count', 'j08_p2_g2_count', 'j10_p1_g2_count', 'j10_p2_g2_count', \n",
    "                    'j11_p1_g2_count', 'j11_p2_g2_count', 'm05_p1_g2_count', 'm05_p2_g2_count', \n",
    "                'm08_p1_g2_count', 'm08_p2_g2_count', 'm10_p1_g2_count', 'm10_p2_g2_count', 'm11_p1_g2_count', \n",
    "                'm11_p2_g2_count', 'm13_p1_g2_count', 'm13_p2_g2_count', 'm14_p1_g2_count', 'm14_p2_g2_count']) \n",
    "\n",
    "\n",
    "\n",
    "\n",
    "m_g2_counts = m_g2_counts.fillna(0) \n",
    "\n",
    "\n",
    "\n",
    "m_g2_counts.sum(axis=1)"
   ]
  },
  {
   "cell_type": "code",
   "execution_count": 362,
   "metadata": {},
   "outputs": [
    {
     "data": {
      "image/png": "[encoded data removed]",
      "text/plain": [
       "<Figure size 432x288 with 1 Axes>"
      ]
     },
     "metadata": {},
     "output_type": "display_data"
    }
   ],
   "source": [
    "m_g2_counts_box = sns.boxplot( \n",
    "                 data = m_g2_counts, \n",
    "                 width=0.5,\n",
    "                 palette=\"pastel\")\n",
    "m_g2_counts_box.axes.set_title(\"Block 1 Social Choice Distributions in Game 2\",\n",
    "                    fontsize=16)\n",
    "\n",
    "plot_file_name=\"m_g2_counts_box.jpg\"\n",
    " \n",
    "plt.ylim(0, 100)\n",
    "m_g2_counts_box.axes.set(xlabel='Arm',ylabel='Frequency')\n",
    "\n",
    "# save as jpeg\n",
    "m_g2_counts_box.figure.savefig(plot_file_name,\n",
    "                    format='jpeg')"
   ]
  },
  {
   "cell_type": "code",
   "execution_count": 363,
   "metadata": {},
   "outputs": [],
   "source": [
    "m_g1_low = np.mean(m_g1_counts.iloc[:,0])\n",
    "m_g1_med = np.mean(m_g1_counts.iloc[:,1])\n",
    "m_g1_high = np.mean(m_g1_counts.iloc[:,2])\n",
    "\n",
    "m_g1_low_std = np.std(m_g1_counts.iloc[:,0])\n",
    "m_g1_med_std = np.std(m_g1_counts.iloc[:,1])\n",
    "m_g1_high_std = np.std(m_g1_counts.iloc[:,2])"
   ]
  },
  {
   "cell_type": "code",
   "execution_count": 364,
   "metadata": {},
   "outputs": [
    {
     "data": {
      "text/plain": [
       "(7.6875, 8.625, 13.6875)"
      ]
     },
     "execution_count": 364,
     "metadata": {},
     "output_type": "execute_result"
    }
   ],
   "source": [
    "(m_g1_low, m_g1_med, m_g1_high)"
   ]
  },
  {
   "cell_type": "code",
   "execution_count": 365,
   "metadata": {},
   "outputs": [
    {
     "data": {
      "text/plain": [
       "(4.713262537775718, 3.950870157319777, 5.719689130538477)"
      ]
     },
     "execution_count": 365,
     "metadata": {},
     "output_type": "execute_result"
    }
   ],
   "source": [
    "(m_g1_low_std, m_g1_med_std, m_g1_high_std)"
   ]
  },
  {
   "cell_type": "code",
   "execution_count": 366,
   "metadata": {},
   "outputs": [],
   "source": [
    "m_g2_low = np.mean(m_g2_counts.iloc[:,0])\n",
    "m_g2_med = np.mean(m_g2_counts.iloc[:,1])\n",
    "m_g2_high = np.mean(m_g2_counts.iloc[:,2])\n",
    "\n",
    "m_g2_low_std = np.std(m_g2_counts.iloc[:,0])\n",
    "m_g2_med_std = np.std(m_g2_counts.iloc[:,1])\n",
    "m_g2_high_std = np.std(m_g2_counts.iloc[:,2])"
   ]
  },
  {
   "cell_type": "code",
   "execution_count": 367,
   "metadata": {},
   "outputs": [
    {
     "data": {
      "text/plain": [
       "(5.5625, 8.0, 16.4375)"
      ]
     },
     "execution_count": 367,
     "metadata": {},
     "output_type": "execute_result"
    }
   ],
   "source": [
    "(m_g2_low, m_g2_med, m_g2_high)"
   ]
  },
  {
   "cell_type": "code",
   "execution_count": 368,
   "metadata": {},
   "outputs": [
    {
     "data": {
      "text/plain": [
       "(4.582149468317244, 5.44288526426931, 7.980200107140171)"
      ]
     },
     "execution_count": 368,
     "metadata": {},
     "output_type": "execute_result"
    }
   ],
   "source": [
    "(m_g2_low_std, m_g2_med_std, m_g2_high_std)"
   ]
  },
  {
   "cell_type": "code",
   "execution_count": 369,
   "metadata": {},
   "outputs": [
    {
     "data": {
      "text/plain": [
       "Ttest_indResult(statistic=array([ 1.79987745,  0.51740017, -1.55947545]), pvalue=array([0.07674564, 0.60671797, 0.12397421]))"
      ]
     },
     "execution_count": 369,
     "metadata": {},
     "output_type": "execute_result"
    }
   ],
   "source": [
    "sp.stats.ttest_ind(m_g1_counts, m_g2_counts)"
   ]
  },
  {
   "cell_type": "markdown",
   "metadata": {},
   "source": [
    "# Reaction Time"
   ]
  },
  {
   "cell_type": "code",
   "execution_count": 240,
   "metadata": {},
   "outputs": [],
   "source": [
    "'Here we get the reaction times'\n",
    "time_m_1 = pd.DataFrame(columns = ['session','post win','post loss'])\n",
    "time_m_2 = pd.DataFrame(columns = ['session','post win','post loss'])\n",
    "\n",
    "time_m_1 = reaction_time(m05_p1_g1, time_m_1)\n",
    "time_m_1 = reaction_time(m06_p1_g1, time_m_1)\n",
    "time_m_1 = reaction_time(m08_p1_g1, time_m_1)\n",
    "time_m_1 = reaction_time(m10_p1_g1, time_m_1)\n",
    "time_m_1 = reaction_time(m11_p1_g1, time_m_1)\n",
    "time_m_1 = reaction_time(m13_p1_g1, time_m_1)\n",
    "time_m_1 = reaction_time(m14_p1_g1, time_m_1)\n",
    "time_m_1 = reaction_time(m05_p2_g1, time_m_1)\n",
    "time_m_1 = reaction_time(m06_p2_g1, time_m_1)\n",
    "time_m_1 = reaction_time(m08_p2_g1, time_m_1)\n",
    "time_m_1 = reaction_time(m10_p2_g1, time_m_1)\n",
    "time_m_1 = reaction_time(m11_p2_g1, time_m_1)\n",
    "time_m_1 = reaction_time(m13_p2_g1, time_m_1)\n",
    "time_m_1 = reaction_time(m14_p2_g1, time_m_1)\n",
    "\n",
    "time_m_2 = reaction_time(m05_p1_g2, time_m_2)\n",
    "time_m_2 = reaction_time(m06_p1_g2, time_m_2)\n",
    "time_m_2 = reaction_time(m08_p1_g2, time_m_2)\n",
    "time_m_2 = reaction_time(m10_p1_g2, time_m_2)\n",
    "time_m_2 = reaction_time(m11_p1_g2, time_m_2)\n",
    "time_m_2 = reaction_time(m13_p1_g2, time_m_2)\n",
    "time_m_2 = reaction_time(m14_p1_g2, time_m_2)\n",
    "time_m_2 = reaction_time(m05_p2_g2, time_m_2)\n",
    "time_m_2 = reaction_time(m06_p2_g2, time_m_2)\n",
    "time_m_2 = reaction_time(m08_p2_g2, time_m_2)\n",
    "time_m_2 = reaction_time(m10_p2_g2, time_m_2)\n",
    "time_m_2 = reaction_time(m11_p2_g2, time_m_2)\n",
    "time_m_2 = reaction_time(m13_p2_g2, time_m_2)\n",
    "time_m_2 = reaction_time(m14_p2_g2, time_m_2)"
   ]
  },
  {
   "cell_type": "code",
   "execution_count": 241,
   "metadata": {},
   "outputs": [
    {
     "data": {
      "image/png": "[encoded data removed]",
      "text/plain": [
       "<Figure size 432x288 with 1 Axes>"
      ]
     },
     "metadata": {},
     "output_type": "display_data"
    }
   ],
   "source": [
    "times_m_g1_box = sns.boxplot( \n",
    "                 data=time_m_1, \n",
    "                 width=0.5,\n",
    "                 palette=\"pastel\")\n",
    "times_m_g1_box.axes.set_title(\"SMAB4 Joint Reaction Times in Game 1\",\n",
    "                    fontsize=16)\n",
    "\n",
    "plot_file_name=\"times_m_g1_box.jpg\"\n",
    " \n",
    "plt.ylim(0, 5)\n",
    "times_m_g1_box.axes.set(ylabel='Time in sec.')\n",
    "\n",
    "# save as jpeg\n",
    "times_m_g1_box.figure.savefig(plot_file_name,format='jpeg')"
   ]
  },
  {
   "cell_type": "code",
   "execution_count": 242,
   "metadata": {},
   "outputs": [
    {
     "data": {
      "image/png": "[encoded data removed]",
      "text/plain": [
       "<Figure size 432x288 with 1 Axes>"
      ]
     },
     "metadata": {},
     "output_type": "display_data"
    }
   ],
   "source": [
    "times_m_g2_box = sns.boxplot( \n",
    "                 data=time_m_2, \n",
    "                 width=0.5,\n",
    "                 palette=\"pastel\")\n",
    "times_m_g2_box.axes.set_title(\"SMAB4 Joint Reaction Times in Game 2\",\n",
    "                    fontsize=16)\n",
    "\n",
    "plot_file_name=\"times_m_g2_box.jpg\"\n",
    " \n",
    "plt.ylim(0, 5)\n",
    "times_m_g2_box.axes.set(ylabel='Time in sec.')\n",
    "\n",
    "# save as jpeg\n",
    "times_m_g2_box.figure.savefig(plot_file_name,format='jpeg')"
   ]
  },
  {
   "cell_type": "code",
   "execution_count": 243,
   "metadata": {},
   "outputs": [
    {
     "data": {
      "text/plain": [
       "post win     3.641789\n",
       "post loss    3.715743\n",
       "dtype: float64"
      ]
     },
     "execution_count": 243,
     "metadata": {},
     "output_type": "execute_result"
    }
   ],
   "source": [
    "np.mean(time_m_1)"
   ]
  },
  {
   "cell_type": "code",
   "execution_count": 244,
   "metadata": {},
   "outputs": [
    {
     "data": {
      "text/plain": [
       "post win     3.272778\n",
       "post loss    3.246691\n",
       "dtype: float64"
      ]
     },
     "execution_count": 244,
     "metadata": {},
     "output_type": "execute_result"
    }
   ],
   "source": [
    "np.mean(time_m_2)"
   ]
  },
  {
   "cell_type": "code",
   "execution_count": 245,
   "metadata": {},
   "outputs": [
    {
     "data": {
      "text/plain": [
       "post win     0.525988\n",
       "post loss    0.389139\n",
       "dtype: float64"
      ]
     },
     "execution_count": 245,
     "metadata": {},
     "output_type": "execute_result"
    }
   ],
   "source": [
    "np.std(time_m_1)"
   ]
  },
  {
   "cell_type": "code",
   "execution_count": 246,
   "metadata": {},
   "outputs": [
    {
     "data": {
      "text/plain": [
       "post win     0.282010\n",
       "post loss    0.320837\n",
       "dtype: float64"
      ]
     },
     "execution_count": 246,
     "metadata": {},
     "output_type": "execute_result"
    }
   ],
   "source": [
    "np.std(time_m_2)"
   ]
  },
  {
   "cell_type": "code",
   "execution_count": 247,
   "metadata": {},
   "outputs": [
    {
     "data": {
      "text/plain": [
       "Ttest_relResult(statistic=-0.8695721834508444, pvalue=0.40030517597365756)"
      ]
     },
     "execution_count": 247,
     "metadata": {},
     "output_type": "execute_result"
    }
   ],
   "source": [
    "sp.stats.ttest_rel(time_m_1['post win'], time_m_1['post loss'])"
   ]
  },
  {
   "cell_type": "code",
   "execution_count": 248,
   "metadata": {},
   "outputs": [
    {
     "data": {
      "text/plain": [
       "Ttest_relResult(statistic=0.39307880833314035, pvalue=0.7006314687637663)"
      ]
     },
     "execution_count": 248,
     "metadata": {},
     "output_type": "execute_result"
    }
   ],
   "source": [
    "sp.stats.ttest_rel(time_m_2['post win'], time_m_2['post loss'])"
   ]
  },
  {
   "cell_type": "code",
   "execution_count": 249,
   "metadata": {},
   "outputs": [
    {
     "data": {
      "text/plain": [
       "Ttest_relResult(statistic=2.195957126298575, pvalue=0.046843975670229555)"
      ]
     },
     "execution_count": 249,
     "metadata": {},
     "output_type": "execute_result"
    }
   ],
   "source": [
    "sp.stats.ttest_rel(time_m_1['post win'], time_m_2['post win'])"
   ]
  },
  {
   "cell_type": "code",
   "execution_count": 250,
   "metadata": {},
   "outputs": [
    {
     "data": {
      "text/plain": [
       "Ttest_relResult(statistic=3.848681856174537, pvalue=0.0020125525652778865)"
      ]
     },
     "execution_count": 250,
     "metadata": {},
     "output_type": "execute_result"
    }
   ],
   "source": [
    "sp.stats.ttest_rel(time_m_1['post loss'], time_m_2['post loss'])"
   ]
  },
  {
   "cell_type": "markdown",
   "metadata": {},
   "source": [
    "# Test for differences between SMAB3 and SMAB4 in multi-player data"
   ]
  },
  {
   "cell_type": "code",
   "execution_count": 251,
   "metadata": {},
   "outputs": [
    {
     "data": {
      "text/plain": [
       "Ttest_indResult(statistic=array([1.20725387]), pvalue=array([0.23676707]))"
      ]
     },
     "execution_count": 251,
     "metadata": {},
     "output_type": "execute_result"
    }
   ],
   "source": [
    "#simple t-test for score \n",
    "sp.stats.ttest_ind(m_scores_1, j_scores_1)"
   ]
  },
  {
   "cell_type": "code",
   "execution_count": 252,
   "metadata": {},
   "outputs": [],
   "source": [
    "#combine control_score_2 and control_score_1\n",
    "#social_scores = social_scores_1.merge(social_scores_2,right_index=True,left_index=True)\n",
    "\n",
    "\n",
    "#convert from wide-format to long-format\n",
    "#social_scores = pd.melt(social_scores,ignore_index=False)"
   ]
  },
  {
   "cell_type": "markdown",
   "metadata": {},
   "source": [
    "# Testing for differences b/w SMAB3 and 4"
   ]
  },
  {
   "cell_type": "code",
   "execution_count": 253,
   "metadata": {},
   "outputs": [],
   "source": [
    "#combine m_counts and j_counts\n",
    "soc_g1_counts_unmelt = m_g1_counts.append(j_g1_counts)"
   ]
  },
  {
   "cell_type": "code",
   "execution_count": 254,
   "metadata": {},
   "outputs": [],
   "source": [
    "#combine m_counts and j_counts\n",
    "soc_g2_s_counts_unmelt = m_g2s_counts.append(j_g2_s_counts)\n",
    "\n",
    "soc_g2_d_counts_unmelt = m_g2d_counts.append(j_g2_d_counts)"
   ]
  },
  {
   "cell_type": "code",
   "execution_count": 255,
   "metadata": {},
   "outputs": [
    {
     "ename": "NameError",
     "evalue": "name 's_g2_d_counts' is not defined",
     "output_type": "error",
     "traceback": [
      "\u001b[0;31m---------------------------------------------------------------------------\u001b[0m",
      "\u001b[0;31mNameError\u001b[0m                                 Traceback (most recent call last)",
      "\u001b[0;32m<ipython-input-255-277bdc954e35>\u001b[0m in \u001b[0;36m<module>\u001b[0;34m\u001b[0m\n\u001b[0;32m----> 1\u001b[0;31m \u001b[0mconfed_g2_d_counts_unmelt\u001b[0m \u001b[0;34m=\u001b[0m \u001b[0mc_g2_d_counts\u001b[0m\u001b[0;34m.\u001b[0m\u001b[0mappend\u001b[0m\u001b[0;34m(\u001b[0m\u001b[0ms_g2_d_counts\u001b[0m\u001b[0;34m)\u001b[0m\u001b[0;34m\u001b[0m\u001b[0;34m\u001b[0m\u001b[0m\n\u001b[0m\u001b[1;32m      2\u001b[0m \u001b[0;34m\u001b[0m\u001b[0m\n\u001b[1;32m      3\u001b[0m \u001b[0mconfed_g2_s_counts_unmelt\u001b[0m \u001b[0;34m=\u001b[0m \u001b[0mc_g2_s_counts\u001b[0m\u001b[0;34m.\u001b[0m\u001b[0mappend\u001b[0m\u001b[0;34m(\u001b[0m\u001b[0ms_g2_s_counts\u001b[0m\u001b[0;34m)\u001b[0m\u001b[0;34m\u001b[0m\u001b[0;34m\u001b[0m\u001b[0m\n",
      "\u001b[0;31mNameError\u001b[0m: name 's_g2_d_counts' is not defined"
     ]
    }
   ],
   "source": [
    "confed_g2_d_counts_unmelt = c_g2_d_counts.append(s_g2_d_counts)\n",
    "\n",
    "confed_g2_s_counts_unmelt = c_g2_s_counts.append(s_g2_s_counts)"
   ]
  },
  {
   "cell_type": "code",
   "execution_count": null,
   "metadata": {},
   "outputs": [],
   "source": [
    "soc_g2_s_scores_unmelt = m_scores_2_s.append(j_scores_2_s)\n",
    "\n",
    "soc_g2_d_scores_unmelt = m_scores_2_d.append(j_scores_2_d)"
   ]
  },
  {
   "cell_type": "code",
   "execution_count": null,
   "metadata": {},
   "outputs": [],
   "source": [
    "confed_g2_s_scores_unmelt = c_scores_2_s.append(s_scores_2_s)\n",
    "\n",
    "confed_g2_d_scores_unmelt = c_scores_2_d.append(s_scores_2_d)"
   ]
  },
  {
   "cell_type": "code",
   "execution_count": null,
   "metadata": {},
   "outputs": [],
   "source": [
    "soc_g1_counts_unmelt"
   ]
  },
  {
   "cell_type": "code",
   "execution_count": null,
   "metadata": {},
   "outputs": [],
   "source": [
    "'''The next few cells are done in order to be able to run ANOVA.'''\n",
    "soc_g1_counts = soc_g1_counts_unmelt.melt(ignore_index=False)"
   ]
  },
  {
   "cell_type": "code",
   "execution_count": null,
   "metadata": {},
   "outputs": [],
   "source": [
    "soc_g1_counts"
   ]
  },
  {
   "cell_type": "code",
   "execution_count": null,
   "metadata": {},
   "outputs": [],
   "source": [
    "confed_g1_counts_unmelt = c_g1_counts.append(s_g1_counts)\n",
    "confed_g1_counts = confed_g1_counts_unmelt.melt(ignore_index=False)"
   ]
  },
  {
   "cell_type": "code",
   "execution_count": null,
   "metadata": {},
   "outputs": [],
   "source": [
    "confed_g1_counts_unmelt"
   ]
  },
  {
   "cell_type": "code",
   "execution_count": null,
   "metadata": {},
   "outputs": [],
   "source": [
    "np.mean(confed_g1_counts_unmelt)"
   ]
  },
  {
   "cell_type": "code",
   "execution_count": null,
   "metadata": {},
   "outputs": [],
   "source": [
    "np.mean(soc_g1_counts_unmelt)"
   ]
  },
  {
   "cell_type": "code",
   "execution_count": null,
   "metadata": {},
   "outputs": [],
   "source": [
    "np.std(confed_g1_counts_unmelt)"
   ]
  },
  {
   "cell_type": "code",
   "execution_count": null,
   "metadata": {},
   "outputs": [],
   "source": [
    "np.std(confed_g1_counts_unmelt)"
   ]
  },
  {
   "cell_type": "code",
   "execution_count": null,
   "metadata": {},
   "outputs": [],
   "source": [
    "sp.stats.ttest_ind(confed_g1_counts_unmelt,soc_g1_counts_unmelt)"
   ]
  },
  {
   "cell_type": "code",
   "execution_count": null,
   "metadata": {},
   "outputs": [],
   "source": [
    "g1_counts = confed_g1_counts.append(soc_g1_counts)"
   ]
  },
  {
   "cell_type": "code",
   "execution_count": null,
   "metadata": {},
   "outputs": [],
   "source": [
    "g1_counts"
   ]
  },
  {
   "cell_type": "code",
   "execution_count": null,
   "metadata": {},
   "outputs": [],
   "source": [
    "#add another column to scores indicating whether it's the single or multiplayer\n",
    "\n",
    "subjects = g1_counts.index.to_numpy()\n",
    "\n",
    "condition = np.array([])\n",
    "\n",
    "for i in subjects:\n",
    "    if [i][0][0] == 's' or [i][0][0] == 'c':\n",
    "        condition = np.append(condition,'control')\n",
    "    elif [i][0][0] == 'm' or [i][0][0] == 'j':\n",
    "        condition = np.append(condition,'social')\n",
    "\n",
    "g1_counts['condition'] = condition"
   ]
  },
  {
   "cell_type": "code",
   "execution_count": null,
   "metadata": {},
   "outputs": [],
   "source": [
    "#add column to joint_counts indicating whether it's SMAB3 or 4\n",
    "subjects = g1_counts.index.to_numpy()\n",
    "\n",
    "experiment = np.array([])\n",
    "\n",
    "for i in subjects:\n",
    "    if [i][0][0] == 'j' or [i][0][0] == 's':\n",
    "        experiment = np.append(experiment,3)\n",
    "    elif [i][0][0] == 'm' or [i][0][0] == 'c':\n",
    "        experiment = np.append(experiment,4)\n",
    "        \n",
    "g1_counts['experiment'] = experiment"
   ]
  },
  {
   "cell_type": "code",
   "execution_count": null,
   "metadata": {},
   "outputs": [],
   "source": [
    "g1_counts"
   ]
  },
  {
   "cell_type": "code",
   "execution_count": null,
   "metadata": {},
   "outputs": [],
   "source": [
    "#break up counts dataframe into 30,60,90\n",
    "grouped = g1_counts.groupby(g1_counts.variable)\n",
    "g1_counts_30 = grouped.get_group(30.0)\n",
    "g1_counts_60 = grouped.get_group(60.0)\n",
    "g1_counts_90 = grouped.get_group(90.0)"
   ]
  },
  {
   "cell_type": "code",
   "execution_count": null,
   "metadata": {},
   "outputs": [],
   "source": [
    "g1_counts_30"
   ]
  },
  {
   "cell_type": "code",
   "execution_count": null,
   "metadata": {},
   "outputs": [],
   "source": [
    "#combine c_score and s_score\n",
    "confed_g1_score = c_scores_1.append(s_scores_1)\n",
    "confed_g1_score = confed_g1_score.melt(ignore_index=False)"
   ]
  },
  {
   "cell_type": "code",
   "execution_count": null,
   "metadata": {},
   "outputs": [],
   "source": [
    "confed_g1_score"
   ]
  },
  {
   "cell_type": "code",
   "execution_count": null,
   "metadata": {},
   "outputs": [],
   "source": [
    "confed_g1_score"
   ]
  },
  {
   "cell_type": "code",
   "execution_count": null,
   "metadata": {},
   "outputs": [],
   "source": [
    "#combine m_score and j_score\n",
    "soc_g1_score = m_scores_1.append(j_scores_1)\n",
    "soc_g1_score = soc_g1_score.melt(ignore_index=False)"
   ]
  },
  {
   "cell_type": "code",
   "execution_count": null,
   "metadata": {},
   "outputs": [],
   "source": [
    "soc_g1_score"
   ]
  },
  {
   "cell_type": "markdown",
   "metadata": {},
   "source": [
    "# Plotting Combined Data"
   ]
  },
  {
   "cell_type": "code",
   "execution_count": null,
   "metadata": {},
   "outputs": [],
   "source": [
    "soc_g1_counts_box = sns.boxplot( \n",
    "                 data=soc_g1_counts_unmelt,\n",
    "                 width=0.5,\n",
    "                 palette=\"pastel\")\n",
    "soc_g1_counts_box.axes.set_title(\"Social Choice Distributions in Game 1\",\n",
    "                    fontsize=16)\n",
    "\n",
    "plot_file_name=\"soc_counts1_box.jpg\"\n",
    " \n",
    "plt.ylim(0, 100)\n",
    "soc_g1_counts_box.axes.set(ylabel='Counts')\n",
    "\n",
    "# save as jpeg\n",
    "soc_g1_counts_box.figure.savefig(plot_file_name,\n",
    "                    format='jpeg')"
   ]
  },
  {
   "cell_type": "code",
   "execution_count": null,
   "metadata": {},
   "outputs": [],
   "source": [
    "confed_g1_counts_box = sns.boxplot( \n",
    "                 data=confed_g1_counts_unmelt,\n",
    "                 width=0.5,\n",
    "                 palette=\"pastel\")\n",
    "confed_g1_counts_box.axes.set_title(\"Confederate Choice Distributions in Game 1\",\n",
    "                    fontsize=16)\n",
    "\n",
    "plot_file_name=\"confed_counts1_box.jpg\"\n",
    " \n",
    "plt.ylim(0, 100)\n",
    "confed_g1_counts_box.axes.set(ylabel='Counts')\n",
    "\n",
    "# save as jpeg\n",
    "confed_g1_counts_box.figure.savefig(plot_file_name,\n",
    "                    format='jpeg')"
   ]
  },
  {
   "cell_type": "code",
   "execution_count": null,
   "metadata": {},
   "outputs": [],
   "source": [
    "sp.stats.ttest_ind(soc_g1_counts_unmelt, confed_g1_counts_unmelt)"
   ]
  },
  {
   "cell_type": "code",
   "execution_count": null,
   "metadata": {},
   "outputs": [],
   "source": [
    "confed_g1_scores_box = sns.boxplot( \n",
    "                 data=confed_g1_score['value'],\n",
    "                 width=0.5,\n",
    "                 palette=\"pastel\")\n",
    "confed_g1_scores_box.axes.set_title(\"Confederate Scores in Game 1\",\n",
    "                    fontsize=16)\n",
    "\n",
    "plot_file_name=\"confed_score1_box.jpg\"\n",
    " \n",
    "plt.ylim(0, 100)\n",
    "confed_g1_scores_box.axes.set(ylabel='Score')\n",
    "\n",
    "# save as jpeg\n",
    "confed_g1_scores_box.figure.savefig(plot_file_name,\n",
    "                    format='jpeg')"
   ]
  },
  {
   "cell_type": "code",
   "execution_count": null,
   "metadata": {},
   "outputs": [],
   "source": [
    "soc_g1_scores_box = sns.boxplot( \n",
    "                 data=soc_g1_score['value'],\n",
    "                 width=0.5,\n",
    "                 palette=\"pastel\")\n",
    "soc_g1_scores_box.axes.set_title(\"Social Scores in Game 1\",\n",
    "                    fontsize=16)\n",
    "\n",
    "plot_file_name=\"soc_score1_box.jpg\"\n",
    " \n",
    "plt.ylim(0, 100)\n",
    "soc_g1_scores_box.axes.set(ylabel='Score')\n",
    "\n",
    "# save as jpeg\n",
    "soc_g1_scores_box.figure.savefig(plot_file_name,\n",
    "                    format='jpeg')"
   ]
  },
  {
   "cell_type": "code",
   "execution_count": null,
   "metadata": {},
   "outputs": [],
   "source": [
    "sp.stats.ttest_ind(soc_g1_score['value'], confed_g1_score['value'])"
   ]
  },
  {
   "cell_type": "code",
   "execution_count": null,
   "metadata": {},
   "outputs": [],
   "source": [
    "soc_g2s_counts_box = sns.boxplot( \n",
    "                 data=soc_g2_s_counts_unmelt,\n",
    "                 width=0.5,\n",
    "                 palette=\"pastel\")\n",
    "soc_g2s_counts_box.axes.set_title(\"Social Choice Distributions in Game 2-Same\",\n",
    "                    fontsize=16)\n",
    "\n",
    "plot_file_name=\"soc_counts2s_box.jpg\"\n",
    " \n",
    "plt.ylim(0, 100)\n",
    "soc_g2s_counts_box.axes.set(ylabel='Counts')\n",
    "\n",
    "# save as jpeg\n",
    "soc_g2s_counts_box.figure.savefig(plot_file_name,\n",
    "                    format='jpeg')"
   ]
  },
  {
   "cell_type": "code",
   "execution_count": null,
   "metadata": {},
   "outputs": [],
   "source": [
    "soc_g2_s_counts_unmelt"
   ]
  },
  {
   "cell_type": "code",
   "execution_count": null,
   "metadata": {},
   "outputs": [],
   "source": [
    "soc_g2d_counts_box = sns.boxplot( \n",
    "                 data=soc_g2_d_counts_unmelt,\n",
    "                 width=0.5,\n",
    "                 palette=\"pastel\")\n",
    "soc_g2d_counts_box.axes.set_title(\"Social Choice Distributions in Game 2-Different\",\n",
    "                    fontsize=16)\n",
    "\n",
    "plot_file_name=\"soc_counts2d_box.jpg\"\n",
    " \n",
    "plt.ylim(0, 100)\n",
    "soc_g2d_counts_box.axes.set(ylabel='Counts')\n",
    "\n",
    "# save as jpeg\n",
    "soc_g2d_counts_box.figure.savefig(plot_file_name,\n",
    "                    format='jpeg')"
   ]
  },
  {
   "cell_type": "code",
   "execution_count": null,
   "metadata": {},
   "outputs": [],
   "source": [
    "sp.stats.ttest_ind(soc_g2_d_counts_unmelt, soc_g2_s_counts_unmelt)"
   ]
  },
  {
   "cell_type": "code",
   "execution_count": null,
   "metadata": {},
   "outputs": [],
   "source": [
    "sp.stats.ttest_ind(soc_g2_d_counts_unmelt, soc_g2_s_counts_unmelt)"
   ]
  },
  {
   "cell_type": "code",
   "execution_count": null,
   "metadata": {},
   "outputs": [],
   "source": [
    "confed_g2d_counts_box = sns.boxplot( \n",
    "                 data=confed_g2_d_counts_unmelt,\n",
    "                 width=0.5,\n",
    "                 palette=\"pastel\")\n",
    "confed_g2d_counts_box.axes.set_title(\"Control Choice Distributions in Game 2-Different\",\n",
    "                    fontsize=16)\n",
    "\n",
    "plot_file_name=\"confed_counts2d_box.jpg\"\n",
    " \n",
    "plt.ylim(0, 100)\n",
    "confed_g2d_counts_box.axes.set(ylabel='Counts')\n",
    "\n",
    "# save as jpeg\n",
    "confed_g2d_counts_box.figure.savefig(plot_file_name,\n",
    "                    format='jpeg')"
   ]
  },
  {
   "cell_type": "code",
   "execution_count": null,
   "metadata": {},
   "outputs": [],
   "source": [
    "confed_g2s_counts_box = sns.boxplot( \n",
    "                 data=confed_g2_s_counts_unmelt,\n",
    "                 width=0.5,\n",
    "                 palette=\"pastel\")\n",
    "confed_g2s_counts_box.axes.set_title(\"Control Choice Distributions in Game 2-Same\",\n",
    "                    fontsize=16)\n",
    "\n",
    "plot_file_name=\"confed_counts2s_box.jpg\"\n",
    " \n",
    "plt.ylim(0, 100)\n",
    "confed_g2s_counts_box.axes.set(ylabel='Counts')\n",
    "\n",
    "# save as jpeg\n",
    "confed_g2s_counts_box.figure.savefig(plot_file_name,\n",
    "                    format='jpeg')"
   ]
  },
  {
   "cell_type": "code",
   "execution_count": null,
   "metadata": {},
   "outputs": [],
   "source": [
    "sp.stats.ttest_ind(confed_g2_d_counts_unmelt, confed_g2_s_counts_unmelt)"
   ]
  },
  {
   "cell_type": "code",
   "execution_count": null,
   "metadata": {},
   "outputs": [],
   "source": [
    "soc_g2_s_scores_box = sns.boxplot( \n",
    "                 data=soc_g2_s_scores_unmelt,\n",
    "                 width=0.5,\n",
    "                 palette=\"pastel\")\n",
    "soc_g2_s_scores_box.axes.set_title(\"Social Scores in Game 2-Same\",\n",
    "                    fontsize=16)\n",
    "\n",
    "plot_file_name=\"soc_g2_s_scores_box.jpg\"\n",
    " \n",
    "plt.ylim(0, 100)\n",
    "soc_g2_s_scores_box.axes.set(ylabel='Score')\n",
    "\n",
    "# save as jpeg\n",
    "soc_g2_s_scores_box.figure.savefig(plot_file_name,\n",
    "                    format='jpeg')"
   ]
  },
  {
   "cell_type": "code",
   "execution_count": null,
   "metadata": {},
   "outputs": [],
   "source": [
    "soc_g2_d_scores_box = sns.boxplot( \n",
    "                 data=soc_g2_d_scores_unmelt,\n",
    "                 width=0.5,\n",
    "                 palette=\"pastel\")\n",
    "soc_g2_d_scores_box.axes.set_title(\"Social Scores in Game 2-Different\",\n",
    "                    fontsize=16)\n",
    "\n",
    "plot_file_name=\"soc_g2_d_scores_box.jpg\"\n",
    " \n",
    "plt.ylim(0, 100)\n",
    "soc_g2_d_scores_box.axes.set(ylabel='Score')\n",
    "\n",
    "# save as jpeg\n",
    "soc_g2_d_scores_box.figure.savefig(plot_file_name,\n",
    "                    format='jpeg')"
   ]
  },
  {
   "cell_type": "code",
   "execution_count": null,
   "metadata": {},
   "outputs": [],
   "source": [
    "sp.stats.ttest_ind(soc_g2_d_scores_unmelt, soc_g2_s_scores_unmelt)"
   ]
  },
  {
   "cell_type": "code",
   "execution_count": null,
   "metadata": {},
   "outputs": [],
   "source": [
    "#NEED TO FIX\n",
    "confed_g2_d_scores_box = sns.boxplot( \n",
    "                 data=confed_g2_d_scores_unmelt,\n",
    "                 width=0.5,\n",
    "                 palette=\"pastel\")\n",
    "confed_g2_d_scores_box.axes.set_title(\"Control Scores in Game 2-Different\",\n",
    "                    fontsize=16)\n",
    "\n",
    "plot_file_name=\"confed_g2_d_scores_box.jpg\"\n",
    " \n",
    "plt.ylim(0, 100)\n",
    "confed_g2_d_scores_box.axes.set(ylabel='Score')\n",
    "\n",
    "# save as jpeg\n",
    "confed_g2_d_scores_box.figure.savefig(plot_file_name,\n",
    "                    format='jpeg')"
   ]
  },
  {
   "cell_type": "code",
   "execution_count": null,
   "metadata": {},
   "outputs": [],
   "source": [
    "confed_g2_s_scores_box = sns.boxplot( \n",
    "                 data=confed_g2_s_scores_unmelt,\n",
    "                 width=0.5,\n",
    "                 palette=\"pastel\")\n",
    "confed_g2_s_scores_box.axes.set_title(\"Control Scores in Game 2-Same\",\n",
    "                    fontsize=16)\n",
    "\n",
    "plot_file_name=\"confed_g2_s_scores_box.jpg\"\n",
    " \n",
    "plt.ylim(0, 100)\n",
    "confed_g2_s_scores_box.axes.set(ylabel='Score')\n",
    "\n",
    "# save as jpeg\n",
    "confed_g2_s_scores_box.figure.savefig(plot_file_name,\n",
    "                    format='jpeg')"
   ]
  },
  {
   "cell_type": "code",
   "execution_count": null,
   "metadata": {},
   "outputs": [],
   "source": [
    "sp.stats.ttest_ind(confed_g2_d_scores_unmelt, confed_g2_s_scores_unmelt)"
   ]
  },
  {
   "cell_type": "code",
   "execution_count": null,
   "metadata": {},
   "outputs": [],
   "source": [
    "sp.stats.ttest_ind(confed_g2_d_scores_unmelt, confed_g1_score['value'])"
   ]
  },
  {
   "cell_type": "code",
   "execution_count": null,
   "metadata": {},
   "outputs": [],
   "source": [
    "sp.stats.ttest_ind(confed_g2_s_scores_unmelt, confed_g1_score['value'])"
   ]
  },
  {
   "cell_type": "code",
   "execution_count": null,
   "metadata": {},
   "outputs": [],
   "source": [
    "sp.stats.ttest_ind(confed_g2_d_counts_unmelt, confed_g1_counts_unmelt)"
   ]
  },
  {
   "cell_type": "code",
   "execution_count": null,
   "metadata": {},
   "outputs": [],
   "source": [
    "sp.stats.ttest_ind(confed_g2_s_counts_unmelt, confed_g1_counts_unmelt)"
   ]
  },
  {
   "cell_type": "markdown",
   "metadata": {},
   "source": [
    "# Maximizing vs Matching Social Condition"
   ]
  },
  {
   "cell_type": "code",
   "execution_count": null,
   "metadata": {},
   "outputs": [],
   "source": [
    "# # Maximizing/Matching SOCIAL\n",
    "\n",
    "# In[ ]:\n",
    "\n",
    "\n",
    "from scipy import stats\n",
    "\n",
    "\n",
    "# In[ ]:\n",
    "\n",
    "\n",
    "#Optional: Idealized probability distributions to use for comparison. These assume a social strategy in which the probability\n",
    "#distributions of both partners in a joint session are averaged (all holes reward at a 60% rate)\n",
    "\n",
    "#social_max = [0, 0, 100]\n",
    "#social_match = [30/180 * 100,60/180 * 100, 90/180 * 100]\n",
    "\n",
    "\n",
    "# In[ ]:\n",
    "\n",
    "\n",
    "#Calls jsd with the social distributions.\n",
    "#def call_jsd_social(counts):\n",
    "   # maxi = jsd(counts,social_max)\n",
    "   # matchi = jsd(counts,social_match)\n",
    "    #return maxi,matchi\n",
    "\n",
    "\n",
    "# In[ ]:\n",
    "\n",
    "\n",
    "j01_p1_g1_max,j01_p1_g1_match,j01_p1_g1_rand,j01_p1_g1_soc = call_jsd(j01_p1_g1_count)\n",
    "j01_p1_g2_max,j01_p1_g2_match,j01_p1_g2_rand,j01_p1_g2_soc = call_jsd(j01_p1_g2_count)\n",
    "j01_p2_g1_max,j01_p2_g1_match,j01_p2_g1_rand,j01_p2_g1_soc = call_jsd(j01_p2_g1_count)\n",
    "j01_p2_g2_max,j01_p2_g2_match,j01_p2_g2_rand,j01_p2_g2_soc = call_jsd(j01_p2_g2_count)\n",
    "j02_p1_g1_max,j02_p1_g1_match,j02_p1_g1_rand,j02_p1_g1_soc = call_jsd(j02_p1_g1_count)\n",
    "j02_p1_g2_max,j02_p1_g2_match,j02_p1_g2_rand,j02_p1_g2_soc = call_jsd(j02_p1_g2_count)\n",
    "j02_p2_g1_max,j02_p2_g1_match,j02_p2_g1_rand,j02_p2_g1_soc = call_jsd(j02_p2_g1_count)\n",
    "j02_p2_g2_max,j02_p2_g2_match,j02_p2_g2_rand,j02_p2_g2_soc = call_jsd(j02_p2_g2_count)\n",
    "j03_p1_g1_max,j03_p1_g1_match,j03_p1_g1_rand,j03_p1_g1_soc = call_jsd(j03_p1_g1_count)\n",
    "j03_p1_g2_max,j03_p1_g2_match,j03_p1_g2_rand,j03_p1_g2_soc = call_jsd(j03_p1_g2_count)\n",
    "j03_p2_g1_max,j03_p2_g1_match,j03_p2_g1_rand,j03_p2_g1_soc  = call_jsd(j03_p2_g1_count)\n",
    "j03_p2_g2_max,j03_p2_g2_match,j03_p2_g2_rand,j03_p2_g2_soc = call_jsd(j03_p2_g2_count)\n",
    "j04_p1_g1_max,j04_p1_g1_match,j04_p1_g1_rand,j04_p1_g1_soc = call_jsd(j04_p1_g1_count)\n",
    "j04_p1_g2_max,j04_p1_g2_match,j04_p1_g2_rand,j04_p1_g2_soc = call_jsd(j04_p1_g2_count)\n",
    "j04_p2_g1_max,j04_p2_g1_match,j04_p2_g1_rand,j04_p2_g1_soc  = call_jsd(j04_p2_g1_count)\n",
    "j04_p2_g2_max,j04_p2_g2_match,j04_p2_g2_rand,j04_p2_g2_soc = call_jsd(j04_p2_g2_count)\n",
    "j05_p1_g1_max,j05_p1_g1_match,j05_p1_g1_rand,j05_p1_g1_soc = call_jsd(j05_p1_g1_count)\n",
    "j05_p1_g2_max,j05_p1_g2_match,j05_p1_g2_rand,j05_p1_g2_soc = call_jsd(j05_p1_g2_count)\n",
    "j05_p2_g1_max,j05_p2_g1_match,j05_p2_g1_rand,j05_p2_g1_soc = call_jsd(j05_p2_g1_count)\n",
    "j05_p2_g2_max,j05_p2_g2_match,j05_p2_g2_rand,j05_p2_g2_soc = call_jsd(j05_p2_g2_count)\n",
    "j06_p1_g1_max,j06_p1_g1_match,j06_p1_g1_rand,j06_p1_g1_soc = call_jsd(j06_p1_g1_count)\n",
    "j06_p1_g2_max,j06_p1_g2_match,j06_p1_g2_rand,j06_p1_g2_soc = call_jsd(j06_p1_g2_count)\n",
    "j06_p2_g1_max,j06_p2_g1_match,j06_p2_g1_rand,j06_p2_g1_soc = call_jsd(j06_p2_g1_count)\n",
    "j06_p2_g2_max,j06_p2_g2_match,j06_p2_g2_rand,j06_p2_g2_soc = call_jsd(j06_p2_g2_count)\n",
    "j07_p1_g1_max,j07_p1_g1_match,j07_p1_g1_rand,j07_p1_g1_soc = call_jsd(j07_p1_g1_count)\n",
    "j07_p1_g2_max,j07_p1_g2_match,j07_p1_g2_rand,j07_p1_g2_soc = call_jsd(j07_p1_g2_count)\n",
    "j07_p2_g1_max,j07_p2_g1_match,j07_p2_g1_rand,j07_p2_g1_soc = call_jsd(j07_p2_g1_count)\n",
    "j07_p2_g2_max,j07_p2_g2_match,j07_p2_g2_rand,j07_p2_g2_soc = call_jsd(j07_p2_g2_count)\n",
    "j08_p1_g1_max,j08_p1_g1_match,j08_p1_g1_rand,j08_p1_g1_soc = call_jsd(j08_p1_g1_count)\n",
    "j08_p1_g2_max,j08_p1_g2_match,j08_p1_g2_rand,j08_p1_g2_soc = call_jsd(j08_p1_g2_count)\n",
    "j08_p2_g1_max,j08_p2_g1_match,j08_p2_g1_rand,j08_p2_g1_soc = call_jsd(j08_p2_g1_count)\n",
    "j08_p2_g2_max,j08_p2_g2_match,j08_p2_g2_rand,j08_p2_g2_soc = call_jsd(j08_p2_g2_count)\n",
    "j10_p1_g1_max,j10_p1_g1_match,j10_p1_g1_rand,j10_p1_g1_soc = call_jsd(j10_p1_g1_count)\n",
    "j10_p1_g2_max,j10_p1_g2_match,j10_p1_g2_rand,j10_p1_g2_soc = call_jsd(j10_p1_g2_count)\n",
    "j10_p2_g1_max,j10_p2_g1_match,j10_p2_g1_rand,j10_p2_g1_soc = call_jsd(j10_p2_g1_count)\n",
    "j10_p2_g2_max,j10_p2_g2_match,j10_p2_g2_rand,j10_p2_g2_soc = call_jsd(j10_p2_g2_count)\n",
    "j11_p1_g1_max,j11_p1_g1_match,j11_p1_g1_rand,j11_p1_g1_soc = call_jsd([0,40,60])\n",
    "j11_p1_g2_max,j11_p1_g2_match,j11_p1_g2_rand,j11_p1_g2_soc = call_jsd([0,22,78])\n",
    "j11_p2_g1_max,j11_p2_g1_match,j11_p2_g1_rand,j11_p2_g1_soc = call_jsd(j11_p2_g1_count)\n",
    "j11_p2_g2_max,j11_p2_g2_match,j11_p2_g2_rand,j11_p2_g2_soc = call_jsd([0,1,99])\n",
    "m01_p1_g1_max,m01_p1_g1_match,m01_p1_g1_rand,m01_p1_g1_soc = call_jsd(m01_p1_g1_count)\n",
    "m01_p1_g2_max,m01_p1_g2_match,m01_p1_g2_rand,m01_p1_g2_soc = call_jsd(m01_p1_g2_count)\n",
    "m01_p2_g1_max,m01_p2_g1_match,m01_p2_g1_rand,m01_p2_g1_soc = call_jsd(m01_p2_g1_count)\n",
    "m01_p2_g2_max,m01_p2_g2_match,m01_p2_g2_rand,m01_p2_g2_soc = call_jsd(m01_p2_g2_count)\n",
    "m03_p1_g1_max,m03_p1_g1_match,m03_p1_g1_rand,m03_p1_g1_soc = call_jsd(m03_p1_g1_count)\n",
    "m03_p1_g2_max,m03_p1_g2_match,m03_p1_g2_rand,m03_p1_g2_soc = call_jsd(m03_p1_g2_count)\n",
    "m03_p2_g1_max,m03_p2_g1_match,m03_p2_g1_rand,m03_p2_g1_soc = call_jsd(m03_p2_g1_count)\n",
    "m03_p2_g2_max,m03_p2_g2_match,m03_p2_g2_rand,m03_p2_g2_soc = call_jsd(m03_p2_g2_count)\n",
    "m05_p1_g1_max,m05_p1_g1_match,m05_p1_g1_rand,m01_p1_g1_soc = call_jsd(m05_p1_g1_count)\n",
    "m05_p1_g2_max,m05_p1_g2_match,m05_p1_g2_rand,m05_p1_g2_soc = call_jsd(m05_p1_g2_count)\n",
    "m05_p2_g1_max,m05_p2_g1_match,m05_p2_g1_rand,m05_p2_g1_soc = call_jsd(m05_p2_g1_count)\n",
    "m05_p2_g2_max,m05_p2_g2_match,m05_p2_g2_rand,m05_p2_g2_soc = call_jsd(m05_p2_g2_count)\n",
    "m06_p1_g1_max,m06_p1_g1_match,m06_p1_g1_rand,m06_p1_g1_soc = call_jsd(m06_p1_g1_count)\n",
    "m06_p1_g2_max,m06_p1_g2_match,m06_p1_g2_rand,m06_p1_g2_soc = call_jsd(m06_p1_g2_count)\n",
    "m06_p2_g1_max,m06_p2_g1_match,m06_p2_g1_rand,m06_p2_g1_soc = call_jsd(m06_p2_g1_count)\n",
    "m06_p2_g2_max,m06_p2_g2_match,m06_p2_g2_rand,m06_p2_g2_soc = call_jsd(m06_p2_g2_count)\n",
    "m08_p1_g1_max,m08_p1_g1_match,m08_p1_g1_rand,m08_p1_g1_soc = call_jsd(m08_p1_g1_count)\n",
    "m08_p1_g2_max,m08_p1_g2_match,m08_p1_g2_rand,m08_p1_g2_soc = call_jsd(m08_p1_g2_count)\n",
    "m08_p2_g1_max,m08_p2_g1_match,m08_p2_g1_rand,m08_p2_g1_soc = call_jsd(m08_p2_g1_count)\n",
    "m08_p2_g2_max,m08_p2_g2_match,m08_p2_g2_rand,m08_p2_g2_soc = call_jsd(m08_p2_g2_count)\n",
    "m10_p1_g1_max,m10_p1_g1_match,m10_p1_g1_rand,m10_p1_g1_soc = call_jsd(m10_p1_g1_count)\n",
    "m10_p1_g2_max,m10_p1_g2_match,m10_p1_g2_rand,m10_p1_g2_soc = call_jsd(m10_p1_g2_count)\n",
    "m10_p2_g1_max,m10_p2_g1_match,m10_p2_g1_rand,m10_p2_g1_soc = call_jsd(m10_p2_g1_count)\n",
    "m10_p2_g2_max,m10_p2_g2_match,m10_p2_g2_rand,m10_p2_g2_soc = call_jsd(m10_p2_g2_count)\n",
    "m11_p1_g1_max,m11_p1_g1_match,m11_p1_g1_rand,m11_p1_g1_soc = call_jsd(m11_p1_g1_count)\n",
    "m11_p1_g2_max,m11_p1_g2_match,m11_p1_g2_rand,m11_p1_g2_soc = call_jsd([0,1,99])\n",
    "m11_p2_g1_max,m11_p2_g1_match,m11_p2_g1_rand,m11_p2_g1_soc = call_jsd(m11_p2_g1_count)\n",
    "m11_p2_g2_max,m11_p2_g2_match,m11_p2_g2_rand,m11_p2_g2_soc = call_jsd([0,0,100])\n",
    "m13_p1_g1_max,m13_p1_g1_match,m13_p1_g1_rand,m13_p1_g1_soc = call_jsd(m13_p1_g1_count)\n",
    "m13_p1_g2_max,m13_p1_g2_match,m13_p1_g2_rand,m13_p1_g2_soc = call_jsd(m13_p1_g2_count)\n",
    "m13_p2_g1_max,m13_p2_g1_match,m13_p2_g1_rand,m13_p2_g1_soc = call_jsd(m13_p2_g1_count)\n",
    "m13_p2_g2_max,m13_p2_g2_match,m13_p2_g2_rand,m13_p2_g2_soc = call_jsd(m13_p2_g2_count)\n",
    "m14_p1_g1_max,m14_p1_g1_match,m14_p1_g1_rand,m14_p1_g1_soc = call_jsd(m14_p1_g1_count)\n",
    "m14_p1_g2_max,m14_p1_g2_match,m14_p1_g2_rand,m14_p1_g2_soc = call_jsd(m14_p1_g2_count)\n",
    "m14_p2_g1_max,m14_p2_g1_match,m14_p2_g1_rand,m14_p2_g1_soc = call_jsd(m14_p2_g1_count)\n",
    "m14_p2_g2_max,m14_p2_g2_match,m14_p2_g2_rand,m14_p2_g2_soc = call_jsd(m14_p2_g2_count)"
   ]
  },
  {
   "cell_type": "code",
   "execution_count": null,
   "metadata": {},
   "outputs": [],
   "source": [
    "#Create a dataframe for single player game 1 jsd scores, with a column for each strategy.'''\n",
    "social_jsd_g1 = pd.DataFrame({'max':[j01_p1_g1_max,j01_p2_g1_max,j02_p1_g1_max,j02_p2_g1_max,j03_p1_g1_max,j03_p2_g1_max,\n",
    "                             j04_p1_g1_max,j04_p2_g1_max,j05_p1_g1_max,j05_p2_g1_max,j06_p1_g1_max,j06_p2_g1_max,\n",
    "                             j07_p1_g1_max,j07_p2_g1_max,j08_p1_g1_max,j08_p2_g1_max, j10_p1_g1_max, j10_p2_g1_max,\n",
    "                               j11_p1_g1_max, j11_p2_g1_max, m01_p1_g1_max, m01_p2_g1_max, m03_p1_g1_max, m03_p2_g1_max,\n",
    "                                     m05_p1_g1_max, m05_p2_g1_max,\n",
    "                                   m08_p1_g1_max, m08_p2_g1_max, m10_p1_g1_max, m10_p2_g1_max, m11_p1_g1_max, m11_p2_g1_max,\n",
    "                                    m13_p1_g1_max, m13_p2_g1_max, m14_p1_g1_max, m14_p2_g1_max],\n",
    "                    'match':[j01_p1_g1_match,j01_p2_g1_match,j02_p1_g1_match, j02_p2_g1_match,j03_p1_g1_match,j03_p2_g1_match,\n",
    "                               j04_p1_g1_match,j04_p2_g1_match,j05_p1_g1_match,\n",
    "                               j05_p2_g1_match,j06_p1_g1_match,j06_p2_g1_match,\n",
    "                               j07_p1_g1_match,j07_p2_g1_match,j08_p1_g1_match,j08_p2_g1_match, j10_p1_g1_match,\n",
    "                               j10_p2_g1_match, j11_p1_g1_match, j11_p2_g1_match, m01_p1_g1_match, m01_p2_g1_match,\n",
    "                             m03_p1_g1_match, m03_p2_g1_match, m05_p1_g1_match, m05_p2_g1_match,\n",
    "                                m08_p1_g1_match, m08_p2_g1_match, m10_p1_g1_match,\n",
    "                               m10_p2_g1_match, m11_p1_g1_match, m11_p2_g1_match, m13_p1_g1_match, m13_p2_g1_match,\n",
    "                               m14_p1_g1_match, m14_p2_g1_match],\n",
    "                    'rand':[j01_p1_g1_rand,j01_p2_g1_rand,j02_p1_g1_rand,j02_p2_g1_rand,j03_p1_g1_rand,j03_p2_g1_rand,\n",
    "                             j04_p1_g1_rand,j04_p2_g1_rand,j05_p1_g1_rand,j05_p2_g1_rand,j06_p1_g1_rand,j06_p2_g1_rand,\n",
    "                             j07_p1_g1_rand,j07_p2_g1_rand,j08_p1_g1_rand,j08_p2_g1_rand, j10_p1_g1_rand, j10_p2_g1_rand,\n",
    "                               j11_p1_g1_rand, j11_p2_g1_rand, m01_p1_g1_rand, m01_p2_g1_rand, m03_p1_g1_rand, m03_p2_g1_rand,\n",
    "                                m05_p1_g1_rand, m05_p2_g1_rand,\n",
    "                                   m08_p1_g1_rand, m08_p2_g1_rand, m10_p1_g1_rand, m10_p2_g1_rand, m11_p1_g1_rand, m11_p2_g1_rand,\n",
    "                                    m13_p1_g1_rand, m13_p2_g1_rand, m14_p1_g1_rand, m14_p2_g1_rand],\n",
    "                    'soc':[j01_p1_g1_soc,j01_p2_g1_soc,j02_p1_g1_soc, j02_p2_g1_soc,j03_p1_g1_soc,j03_p2_g1_soc,\n",
    "                               j04_p1_g1_soc,j04_p2_g1_soc,j05_p1_g1_soc,\n",
    "                               j05_p2_g1_soc,j06_p1_g1_soc,j06_p2_g1_soc,\n",
    "                               j07_p1_g1_soc,j07_p2_g1_soc,j08_p1_g1_soc,j08_p2_g1_soc, j10_p1_g1_soc,\n",
    "                               j10_p2_g1_soc, j11_p1_g1_soc, j11_p2_g1_soc, m01_p1_g1_soc, m01_p2_g1_soc, \n",
    "                               m03_p1_g1_soc, m03_p2_g1_soc, m05_p1_g1_soc, m05_p2_g1_soc,\n",
    "                               m08_p1_g1_soc, m08_p2_g1_soc, m10_p1_g1_soc,\n",
    "                               m10_p2_g1_soc, m11_p1_g1_soc, m11_p2_g1_soc, m13_p1_g1_soc, m13_p2_g1_soc,\n",
    "                               m14_p1_g1_soc, m14_p2_g1_soc]},\n",
    "                         index=['j01', 'j01', 'j02', 'j02', 'j03', 'j03','j04',\n",
    "                                'j04','j05', 'j05', 'j06', 'j06','j07','j07','j08','j08', 'j10', 'j10', 'j11', 'j11','m01',\n",
    "                                'm01','m03','m03',\n",
    "                                'm05','m05', 'm08', 'm08', 'm10', 'm10', 'm11', 'm11', 'm13','m13', 'm14', 'm14'])\n",
    "\n",
    "\n",
    "# In[ ]:\n",
    "\n",
    "\n",
    "#to print wothout truncation\n",
    "pd.set_option('display.max_rows', None)\n",
    "\n",
    "\n",
    "# In[ ]:\n",
    "\n",
    "\n",
    "social_jsd_g1\n",
    "\n",
    "\n",
    "\n",
    "\n",
    "# get the column name of min values in every row\n",
    "strategy_social_jsd_g1 = social_jsd_g1.idxmin(axis=1)\n",
    " \n",
    "print(\"min values of row are at following columns :\")\n",
    "print(strategy_social_jsd_g1)\n",
    "\n",
    "\n",
    "\n",
    "\n",
    "\n",
    "strategy_social_jsd_g1.value_counts()\n",
    "\n",
    "\n",
    "# In[ ]:\n",
    "\n",
    "\n",
    "#social_types_g1 = check_type(social_jsd_g1)\n",
    "\n",
    "\n",
    "# In[ ]:\n",
    "\n",
    "\n",
    "#social_types_g1.drop([0])\n",
    "\n",
    "\n",
    "# In[ ]:\n",
    "\n",
    "\n",
    "#(social_types_g1 == 'maxi').sum()"
   ]
  },
  {
   "cell_type": "code",
   "execution_count": null,
   "metadata": {},
   "outputs": [],
   "source": [
    "m01_p1_g1_rand"
   ]
  },
  {
   "cell_type": "code",
   "execution_count": null,
   "metadata": {},
   "outputs": [],
   "source": [
    "social_jsd_g1"
   ]
  },
  {
   "cell_type": "code",
   "execution_count": null,
   "metadata": {},
   "outputs": [],
   "source": [
    "sp.stats.ttest_ind(control_jsd_g1,social_jsd_g1)"
   ]
  },
  {
   "cell_type": "code",
   "execution_count": null,
   "metadata": {},
   "outputs": [],
   "source": [
    "sp.stats.ttest_ind(control_jsd_g1,social_jsd_g1)"
   ]
  },
  {
   "cell_type": "code",
   "execution_count": null,
   "metadata": {},
   "outputs": [],
   "source": [
    "#Create a dataframe for single player game 1 jsd scores, with a column for each strategy.'''\n",
    "social_jsd_g2 = pd.DataFrame({'max':[j01_p1_g2_max,j01_p2_g2_max,j02_p1_g2_max,j02_p2_g2_max,j03_p1_g2_max,j03_p2_g2_max,\n",
    "                             j04_p1_g2_max,j04_p2_g2_max,j05_p1_g2_max,j05_p2_g2_max,j06_p1_g2_max,j06_p2_g2_max,\n",
    "                             j07_p1_g2_max,j07_p2_g2_max,j08_p1_g2_max,j08_p2_g2_max, j10_p1_g2_max, j10_p2_g2_max,\n",
    "                               j11_p1_g2_max, j11_p2_g2_max, m01_p1_g2_max, m01_p2_g2_max, m03_p1_g2_max, m03_p2_g2_max,\n",
    "                                     m05_p1_g2_max, m05_p2_g2_max, m08_p1_g2_max, m08_p2_g2_max, m10_p1_g2_max, m10_p2_g2_max, m11_p1_g2_max, m11_p2_g2_max,\n",
    "                                    m13_p1_g2_max, m13_p2_g2_max, m14_p1_g2_max, m14_p2_g2_max],\n",
    "                    'match':[j01_p1_g2_match,j01_p2_g2_match,j02_p1_g2_match, j02_p2_g2_match,j03_p1_g2_match,j03_p2_g2_match,\n",
    "                               j04_p1_g2_match,j04_p2_g2_match,j05_p1_g2_match,\n",
    "                               j05_p2_g2_match,j06_p1_g2_match,j06_p2_g2_match,\n",
    "                               j07_p1_g2_match,j07_p2_g2_match,j08_p1_g2_match,j08_p2_g2_match, j10_p1_g2_match,\n",
    "                               j10_p2_g2_match, j11_p1_g2_match, j11_p2_g2_match, m01_p1_g2_match, m01_p2_g2_match,m03_p1_g2_match, \n",
    "                               m03_p2_g2_match, m05_p1_g2_match, m05_p2_g2_match,\n",
    "                               m08_p1_g2_match, m08_p2_g2_match, m10_p1_g2_match,\n",
    "                               m10_p2_g2_match, m11_p1_g2_match, m11_p2_g2_match, m13_p1_g2_match, m13_p2_g2_match,\n",
    "                               m14_p1_g2_match, m14_p2_g2_match],\n",
    "                    'rand':[j01_p1_g2_rand,j01_p2_g2_rand,j02_p1_g2_rand,j02_p2_g2_rand,j03_p1_g2_rand,j03_p2_g2_rand,\n",
    "                             j04_p1_g2_rand,j04_p2_g2_rand,j05_p1_g2_rand,j05_p2_g2_rand,j06_p1_g2_rand,j06_p2_g2_rand,\n",
    "                             j07_p1_g2_rand,j07_p2_g2_rand,j08_p1_g2_rand,j08_p2_g2_rand, j10_p1_g2_rand, j10_p2_g2_rand,\n",
    "                               j11_p1_g2_rand, j11_p2_g2_rand, m01_p1_g2_rand, m01_p2_g2_rand,m03_p1_g2_rand, m03_p2_g2_rand,\n",
    "                            m05_p1_g2_rand, m05_p2_g2_rand,\n",
    "                                   m08_p1_g2_rand, m08_p2_g2_rand, m10_p1_g2_rand, m10_p2_g2_rand, m11_p1_g2_rand, m11_p2_g2_rand,\n",
    "                                    m13_p1_g2_rand, m13_p2_g2_rand, m14_p1_g2_rand, m14_p2_g2_rand],\n",
    "                    'soc':[j01_p1_g2_soc,j01_p2_g2_soc,j02_p1_g2_soc, j02_p2_g2_soc,j03_p1_g2_soc,j03_p2_g2_soc,\n",
    "                               j04_p1_g2_soc,j04_p2_g2_soc,j05_p1_g2_soc,\n",
    "                               j05_p2_g2_soc,j06_p1_g2_soc,j06_p2_g2_soc,\n",
    "                               j07_p1_g2_soc,j07_p2_g2_soc,j08_p1_g2_soc,j08_p2_g2_soc, j10_p1_g2_soc,\n",
    "                               j10_p2_g2_soc, j11_p1_g2_soc, j11_p2_g2_soc, m01_p1_g2_soc, m01_p2_g2_soc,m03_p1_g2_soc, \n",
    "                           m03_p2_g2_soc,\n",
    "                           m05_p1_g2_soc, m05_p2_g2_soc,\n",
    "                               m08_p1_g2_soc, m08_p2_g2_soc, m10_p1_g2_soc,\n",
    "                               m10_p2_g2_soc, m11_p1_g2_soc, m11_p2_g2_soc, m13_p1_g2_soc, m13_p2_g2_soc,\n",
    "                               m14_p1_g2_soc, m14_p2_g2_soc]},\n",
    "                         index=['j01', 'j01', 'j02', 'j02', 'j03', 'j03','j04',\n",
    "                                'j04','j05', 'j05', 'j06', 'j06','j07','j07','j08','j08', 'j10', 'j10', 'j11', 'j11',\n",
    "                                'm01','m01','m03','m03','m05','m05','m08', 'm08', 'm10', 'm10', 'm11', 'm11', 'm13','m13', 'm14', 'm14'])\n",
    "\n",
    "\n",
    "strategy_social_jsd_g2 = social_jsd_g2.idxmin(axis=1)\n",
    "\n",
    "\n",
    "strategy_social_jsd_g2.value_counts()"
   ]
  },
  {
   "cell_type": "code",
   "execution_count": null,
   "metadata": {},
   "outputs": [],
   "source": [
    "#Create a dataframe for single player game 1 jsd scores, with a column for each strategy.'''\n",
    "social_jsd_g2d = pd.DataFrame({'max':[j01_p1_g2_max,j01_p2_g2_max,j02_p1_g2_max,j02_p2_g2_max,j03_p1_g2_max,j03_p2_g2_max,\n",
    "                             j04_p1_g2_max,j04_p2_g2_max,j05_p1_g2_max,j05_p2_g2_max,j06_p1_g2_max,j06_p2_g2_max,\n",
    "                             j07_p1_g2_max,j07_p2_g2_max,j08_p1_g2_max,j08_p2_g2_max,m01_p1_g2_max, m01_p2_g2_max, m03_p1_g2_max, m03_p2_g2_max,\n",
    "                                     m05_p1_g2_max, m05_p2_g2_max],\n",
    "                    'match':[j01_p1_g2_match,j01_p2_g2_match,j02_p1_g2_match, j02_p2_g2_match,j03_p1_g2_match,j03_p2_g2_match,\n",
    "                               j04_p1_g2_match,j04_p2_g2_match,j05_p1_g2_match,\n",
    "                               j05_p2_g2_match,j06_p1_g2_match,j06_p2_g2_match,\n",
    "                               j07_p1_g2_match,j07_p2_g2_match,j08_p1_g2_match,j08_p2_g2_match, m01_p1_g2_match, m01_p2_g2_match,m03_p1_g2_match, \n",
    "                               m03_p2_g2_match, m05_p1_g2_match, m05_p2_g2_match],\n",
    "                    'rand':[j01_p1_g2_rand,j01_p2_g2_rand,j02_p1_g2_rand,j02_p2_g2_rand,j03_p1_g2_rand,j03_p2_g2_rand,\n",
    "                             j04_p1_g2_rand,j04_p2_g2_rand,j05_p1_g2_rand,j05_p2_g2_rand,j06_p1_g2_rand,j06_p2_g2_rand,\n",
    "                             j07_p1_g2_rand,j07_p2_g2_rand,j08_p1_g2_rand,j08_p2_g2_rand, m01_p1_g2_rand, m01_p2_g2_rand,\n",
    "                            m03_p1_g2_rand, m03_p2_g2_rand,\n",
    "                            m05_p1_g2_rand, m05_p2_g2_rand],\n",
    "                    'soc':[j01_p1_g2_soc,j01_p2_g2_soc,j02_p1_g2_soc, j02_p2_g2_soc,j03_p1_g2_soc,j03_p2_g2_soc,\n",
    "                               j04_p1_g2_soc,j04_p2_g2_soc,j05_p1_g2_soc,\n",
    "                               j05_p2_g2_soc,j06_p1_g2_soc,j06_p2_g2_soc,\n",
    "                               j07_p1_g2_soc,j07_p2_g2_soc,j08_p1_g2_soc,j08_p2_g2_soc,\n",
    "                           m01_p1_g2_soc, m01_p2_g2_soc,m03_p1_g2_soc, \n",
    "                           m03_p2_g2_soc,\n",
    "                           m05_p1_g2_soc, m05_p2_g2_soc]},\n",
    "                         index=['j01', 'j01', 'j02', 'j02', 'j03', 'j03','j04',\n",
    "                                'j04','j05', 'j05', 'j06', 'j06','j07','j07','j08','j08',\n",
    "                                'm01','m01','m03','m03','m05','m05'])"
   ]
  },
  {
   "cell_type": "code",
   "execution_count": null,
   "metadata": {},
   "outputs": [],
   "source": [
    "#Create a dataframe for single player game 1 jsd scores, with a column for each strategy.'''\n",
    "social_jsd_g2s = pd.DataFrame({'max':[j10_p1_g2_max, j10_p2_g2_max,\n",
    "                               j11_p1_g2_max, j11_p2_g2_max, m08_p1_g2_max, m08_p2_g2_max, m10_p1_g2_max, \n",
    "                                      m10_p2_g2_max, m11_p1_g2_max, m11_p2_g2_max,\n",
    "                                    m13_p1_g2_max, m13_p2_g2_max, m14_p1_g2_max, m14_p2_g2_max],\n",
    "                    'match':[j10_p1_g2_match, j10_p2_g2_match, j11_p1_g2_match, j11_p2_g2_match, \n",
    "                               m08_p1_g2_match, m08_p2_g2_match, m10_p1_g2_match,\n",
    "                               m10_p2_g2_match, m11_p1_g2_match, m11_p2_g2_match, m13_p1_g2_match, m13_p2_g2_match,\n",
    "                               m14_p1_g2_match, m14_p2_g2_match],\n",
    "                    'rand':[j10_p1_g2_rand, j10_p2_g2_rand,\n",
    "                               j11_p1_g2_rand, j11_p2_g2_rand,\n",
    "                                   m08_p1_g2_rand, m08_p2_g2_rand, m10_p1_g2_rand, m10_p2_g2_rand, m11_p1_g2_rand, m11_p2_g2_rand,\n",
    "                                    m13_p1_g2_rand, m13_p2_g2_rand, m14_p1_g2_rand, m14_p2_g2_rand],\n",
    "                    'soc':[j10_p1_g2_soc, j10_p2_g2_soc, j11_p1_g2_soc, j11_p2_g2_soc,\n",
    "                               m08_p1_g2_soc, m08_p2_g2_soc, m10_p1_g2_soc,\n",
    "                               m10_p2_g2_soc, m11_p1_g2_soc, m11_p2_g2_soc, m13_p1_g2_soc, m13_p2_g2_soc,\n",
    "                               m14_p1_g2_soc, m14_p2_g2_soc]},\n",
    "                         index=['j10', 'j10', 'j11', 'j11',\n",
    "                                'm08', 'm08', 'm10', 'm10', 'm11', 'm11', 'm13','m13', 'm14', 'm14'])"
   ]
  },
  {
   "cell_type": "code",
   "execution_count": null,
   "metadata": {},
   "outputs": [],
   "source": [
    "# get the column name of min values in every row\n",
    "strategy_social_jsd_g2s = social_jsd_g2s.idxmin(axis=1)\n",
    "\n",
    "strategy_social_jsd_g2d = social_jsd_g2d.idxmin(axis=1)"
   ]
  },
  {
   "cell_type": "code",
   "execution_count": null,
   "metadata": {},
   "outputs": [],
   "source": [
    "strategy_social_jsd_g2s.value_counts()"
   ]
  },
  {
   "cell_type": "code",
   "execution_count": null,
   "metadata": {},
   "outputs": [],
   "source": [
    "strategy_social_jsd_g2d.value_counts()"
   ]
  },
  {
   "cell_type": "code",
   "execution_count": null,
   "metadata": {},
   "outputs": [],
   "source": [
    "sp.stats.ttest_ind(social_jsd_g1, social_jsd_g2)"
   ]
  },
  {
   "cell_type": "code",
   "execution_count": null,
   "metadata": {},
   "outputs": [],
   "source": [
    "sp.stats.ttest_ind(social_jsd_g1['rand'], social_jsd_g2['rand'])"
   ]
  },
  {
   "cell_type": "code",
   "execution_count": null,
   "metadata": {},
   "outputs": [],
   "source": [
    "sp.stats.ttest_ind(social_jsd_g1['match'],social_jsd_g2['match'])"
   ]
  },
  {
   "cell_type": "code",
   "execution_count": null,
   "metadata": {},
   "outputs": [],
   "source": [
    "# In[ ]:\n",
    "\n",
    "\n",
    "#under line = matching (closer to 0)\n",
    "#plots of actual jsd values\n",
    "\n",
    "m, b = np.polyfit(control_jsd_g1['max'], control_jsd_g1['match'], 1)\n",
    "\n",
    "social_ego_jsd_g1_plot = social_jsd_g1.plot.scatter(x='max',y='match',s=50)\n",
    "plt.title('Social Egocentric Strategies Game 1', fontsize=18, y=1.05)\n",
    "plt.xticks(np.arange(0, 1, step=0.1))\n",
    "plt.yticks(np.arange(0, 1, step=0.1))\n",
    "#line1 = mlines.Line2D([0.2148, 0.2148],[-0.03, 0.5], color='red')\n",
    "#line2 = mlines.Line2D([0,0.8],[0.2148,0.2148])\n",
    "\n",
    "#plt.xlabel('Match')\n",
    "#plt.ylabel('Maximize')\n",
    "\n",
    "plt.ylim(-.1, .5)\n",
    "plt.xlim(-.1, .5)\n",
    "\n",
    "plt.gca().set_aspect('equal', adjustable='box')\n",
    "plt.draw()\n",
    "\n",
    "#add legend (NEEDS TO BE FIXED)\n",
    "from numpy.random import randn\n",
    "\n",
    "z = randn(100)\n",
    "\n",
    "#add line of slope 1\n",
    "plt.plot([0,1],[0,1], transform=plt.gca().transAxes)\n",
    "\n",
    "#s_jsd_g2_plot.add_line(line2)\n",
    "plt.savefig('social_ego_jsd_1.jpeg',format='jpeg')\n",
    "plt.show()"
   ]
  },
  {
   "cell_type": "code",
   "execution_count": null,
   "metadata": {},
   "outputs": [],
   "source": [
    "# In[ ]:\n",
    "\n",
    "\n",
    "#under line = matching (closer to 0)\n",
    "#plots of actual jsd values\n",
    "\n",
    "m, b = np.polyfit(control_jsd_g1['max'], control_jsd_g1['match'], 1)\n",
    "\n",
    "social_ego_jsd_g2d_plot = social_jsd_g2d.plot.scatter(x='max',y='match',s=50)\n",
    "plt.title('Social Egocentric Strategies Game 2-Different', fontsize=18, y=1.05)\n",
    "plt.xticks(np.arange(0, 1, step=0.1))\n",
    "plt.yticks(np.arange(0, 1, step=0.1))\n",
    "#line1 = mlines.Line2D([0.2148, 0.2148],[-0.03, 0.5], color='red')\n",
    "#line2 = mlines.Line2D([0,0.8],[0.2148,0.2148])\n",
    "\n",
    "#plt.xlabel('Match')\n",
    "#plt.ylabel('Maximize')\n",
    "\n",
    "plt.ylim(-.1, .5)\n",
    "plt.xlim(-.1, .5)\n",
    "\n",
    "plt.gca().set_aspect('equal', adjustable='box')\n",
    "plt.draw()\n",
    "\n",
    "#add legend (NEEDS TO BE FIXED)\n",
    "from numpy.random import randn\n",
    "\n",
    "z = randn(100)\n",
    "\n",
    "#add line of slope 1\n",
    "plt.plot([0,1],[0,1], transform=plt.gca().transAxes)\n",
    "\n",
    "#s_jsd_g2_plot.add_line(line2)\n",
    "plt.savefig('social_ego_jsd_2d.jpeg',format='jpeg')\n",
    "plt.show()"
   ]
  },
  {
   "cell_type": "code",
   "execution_count": null,
   "metadata": {},
   "outputs": [],
   "source": [
    "# In[ ]:\n",
    "\n",
    "\n",
    "#under line = matching (closer to 0)\n",
    "#plots of actual jsd values\n",
    "\n",
    "m, b = np.polyfit(control_jsd_g1['max'], control_jsd_g1['match'], 1)\n",
    "\n",
    "social_ego_jsd_g2s_plot = social_jsd_g2s.plot.scatter(x='max',y='match',s=50)\n",
    "plt.title('Social Egocentric Strategies Game 2-Same', fontsize=18, y=1.05)\n",
    "plt.xticks(np.arange(0, 1, step=0.1))\n",
    "plt.yticks(np.arange(0, 1, step=0.1))\n",
    "#line1 = mlines.Line2D([0.2148, 0.2148],[-0.03, 0.5], color='red')\n",
    "#line2 = mlines.Line2D([0,0.8],[0.2148,0.2148])\n",
    "\n",
    "#plt.xlabel('Match')\n",
    "#plt.ylabel('Maximize')\n",
    "\n",
    "plt.ylim(-.1, .5)\n",
    "plt.xlim(-.1, .5)\n",
    "\n",
    "plt.gca().set_aspect('equal', adjustable='box')\n",
    "plt.draw()\n",
    "\n",
    "#add legend (NEEDS TO BE FIXED)\n",
    "from numpy.random import randn\n",
    "\n",
    "z = randn(100)\n",
    "\n",
    "#add line of slope 1\n",
    "plt.plot([0,1],[0,1], transform=plt.gca().transAxes)\n",
    "\n",
    "#s_jsd_g2_plot.add_line(line2)\n",
    "plt.savefig('social_ego_jsd_2s.jpeg',format='jpeg')\n",
    "plt.show()"
   ]
  },
  {
   "cell_type": "code",
   "execution_count": null,
   "metadata": {},
   "outputs": [],
   "source": [
    "sp.stats.ttest_ind(social_jsd_g2s, social_jsd_g2d)"
   ]
  },
  {
   "cell_type": "code",
   "execution_count": null,
   "metadata": {},
   "outputs": [],
   "source": [
    "social_jsd_g2['rand'].sum()"
   ]
  },
  {
   "cell_type": "code",
   "execution_count": null,
   "metadata": {},
   "outputs": [],
   "source": [
    "social_jsd_g2['max'].sum()"
   ]
  },
  {
   "cell_type": "code",
   "execution_count": null,
   "metadata": {},
   "outputs": [],
   "source": [
    "social_jsd_g2['match'].sum()"
   ]
  },
  {
   "cell_type": "code",
   "execution_count": null,
   "metadata": {},
   "outputs": [],
   "source": [
    "social_jsd_g1['rand'].sum()"
   ]
  },
  {
   "cell_type": "code",
   "execution_count": null,
   "metadata": {},
   "outputs": [],
   "source": [
    "social_jsd_g1['max'].sum()"
   ]
  },
  {
   "cell_type": "code",
   "execution_count": null,
   "metadata": {},
   "outputs": [],
   "source": [
    "social_jsd_g1['match'].sum()"
   ]
  },
  {
   "cell_type": "code",
   "execution_count": null,
   "metadata": {},
   "outputs": [],
   "source": [
    "social_jsd_g1.mean()"
   ]
  },
  {
   "cell_type": "code",
   "execution_count": null,
   "metadata": {},
   "outputs": [],
   "source": [
    "social_jsd_g2.mean()"
   ]
  },
  {
   "cell_type": "code",
   "execution_count": null,
   "metadata": {},
   "outputs": [],
   "source": [
    "confed_g2_counts = confed_g2_s_counts_unmelt.append(confed_g2_d_counts_unmelt)"
   ]
  },
  {
   "cell_type": "code",
   "execution_count": null,
   "metadata": {},
   "outputs": [],
   "source": [
    "soc_g2_counts = soc_g2_s_counts_unmelt.append(soc_g2_d_counts_unmelt)"
   ]
  },
  {
   "cell_type": "code",
   "execution_count": null,
   "metadata": {},
   "outputs": [],
   "source": [
    "sp.stats.ttest_ind(confed_g1_counts_unmelt,confed_g2_counts)"
   ]
  },
  {
   "cell_type": "code",
   "execution_count": null,
   "metadata": {},
   "outputs": [],
   "source": [
    "sp.stats.ttest_ind(soc_g1_counts_unmelt,social_g2_counts)"
   ]
  },
  {
   "cell_type": "code",
   "execution_count": null,
   "metadata": {},
   "outputs": [],
   "source": [
    "sp.stats.ttest_ind(soc_g2_s_counts_unmelt,soc_g2_d_counts_unmelt)"
   ]
  },
  {
   "cell_type": "code",
   "execution_count": null,
   "metadata": {},
   "outputs": [],
   "source": [
    "soc_g1_counts_unmelt.mean()"
   ]
  },
  {
   "cell_type": "code",
   "execution_count": null,
   "metadata": {},
   "outputs": [],
   "source": [
    "soc_g2_counts.mean()"
   ]
  },
  {
   "cell_type": "code",
   "execution_count": null,
   "metadata": {},
   "outputs": [],
   "source": [
    "sp.stats.ttest_ind(soc_g1_counts_unmelt,soc_g2_d_counts_unmelt)"
   ]
  },
  {
   "cell_type": "code",
   "execution_count": null,
   "metadata": {},
   "outputs": [],
   "source": [
    "sp.stats.ttest_ind(soc_g1_counts_unmelt,soc_g2_s_counts_unmelt)"
   ]
  },
  {
   "cell_type": "code",
   "execution_count": null,
   "metadata": {},
   "outputs": [],
   "source": [
    "sp.stats.ttest_ind(soc_g2_d_scores_unmelt, soc_g2_s_scores_unmelt)"
   ]
  },
  {
   "cell_type": "code",
   "execution_count": null,
   "metadata": {},
   "outputs": [],
   "source": [
    "sp.stats.ttest_ind(soc_g1_score['value'], soc_g2_s_scores_unmelt)"
   ]
  },
  {
   "cell_type": "code",
   "execution_count": null,
   "metadata": {},
   "outputs": [],
   "source": [
    "sp.stats.ttest_ind(soc_g1_score['value'], soc_g2_d_scores_unmelt)"
   ]
  },
  {
   "cell_type": "code",
   "execution_count": null,
   "metadata": {},
   "outputs": [],
   "source": [
    "soc_g2_scores = soc_g2_d_scores_unmelt.append(soc_g2_s_scores_unmelt)"
   ]
  },
  {
   "cell_type": "code",
   "execution_count": null,
   "metadata": {},
   "outputs": [],
   "source": [
    "sp.stats.ttest_ind(soc_g1_score['value'],soc_g2_scores)"
   ]
  },
  {
   "cell_type": "code",
   "execution_count": null,
   "metadata": {},
   "outputs": [],
   "source": [
    "sp.stats.ttest_ind(confed_g2_d_scores_unmelt, confed_g2_s_scores_unmelt)"
   ]
  },
  {
   "cell_type": "code",
   "execution_count": null,
   "metadata": {},
   "outputs": [],
   "source": [
    "confed_g2_scores = confed_g2_d_scores_unmelt.append(confed_g2_s_scores_unmelt)"
   ]
  },
  {
   "cell_type": "code",
   "execution_count": null,
   "metadata": {},
   "outputs": [],
   "source": [
    "sp.stats.ttest_ind(confed_g1_score['value'], confed_g2_scores)"
   ]
  },
  {
   "cell_type": "code",
   "execution_count": null,
   "metadata": {},
   "outputs": [],
   "source": [
    "sp.stats.ttest_ind(confed_g1_score['value'], soc_g1_score['value'])"
   ]
  },
  {
   "cell_type": "code",
   "execution_count": null,
   "metadata": {},
   "outputs": [],
   "source": [
    "sp.stats.ttest_ind(confed_g2_scores, soc_g2_scores)"
   ]
  },
  {
   "cell_type": "markdown",
   "metadata": {},
   "source": [
    "# Plotting combined g2 data"
   ]
  },
  {
   "cell_type": "code",
   "execution_count": null,
   "metadata": {},
   "outputs": [],
   "source": [
    "soc_g2_scores_box = sns.boxplot( \n",
    "                 data=soc_g2_scores,\n",
    "                 width=0.5,\n",
    "                 palette=\"pastel\")\n",
    "soc_g2_scores_box.axes.set_title(\"Social Scores in Game 2-Combined\",\n",
    "                    fontsize=16)\n",
    "\n",
    "plot_file_name=\"soc_g2_combo_scores_box.jpg\"\n",
    " \n",
    "plt.ylim(0, 100)\n",
    "soc_g2_scores_box.axes.set(ylabel='Score')\n",
    "\n",
    "# save as jpeg\n",
    "soc_g2_scores_box.figure.savefig(plot_file_name,\n",
    "                    format='jpeg')"
   ]
  },
  {
   "cell_type": "code",
   "execution_count": null,
   "metadata": {},
   "outputs": [],
   "source": [
    "soc_g2_counts_box = sns.boxplot( \n",
    "                 data=soc_g2_counts,\n",
    "                 width=0.5,\n",
    "                 palette=\"pastel\")\n",
    "soc_g2_counts_box.axes.set_title(\"Social Counts in Game 2-Combined\",\n",
    "                    fontsize=16)\n",
    "\n",
    "plot_file_name=\"soc_g2_combo_combo_box.jpg\"\n",
    " \n",
    "plt.ylim(0, 100)\n",
    "soc_g2_counts_box.axes.set(ylabel='Choice Distribution')\n",
    "\n",
    "# save as jpeg\n",
    "soc_g2_counts_box.figure.savefig(plot_file_name,\n",
    "                    format='jpeg')"
   ]
  },
  {
   "cell_type": "code",
   "execution_count": null,
   "metadata": {},
   "outputs": [],
   "source": [
    "social_jsd_g2 = social_jsd_g2d.append(social_jsd_g2s)"
   ]
  },
  {
   "cell_type": "code",
   "execution_count": null,
   "metadata": {},
   "outputs": [],
   "source": [
    "social_ego_jsd_g2_plot = social_jsd_g2.plot.scatter(x='max',y='match',s=50)\n",
    "plt.title('Social Egocentric Strategies Game 2', fontsize=18, y=1.05)\n",
    "plt.xticks(np.arange(0, 1, step=0.1))\n",
    "plt.yticks(np.arange(0, 1, step=0.1))\n",
    "#line1 = mlines.Line2D([0.2148, 0.2148],[-0.03, 0.5], color='red')\n",
    "#line2 = mlines.Line2D([0,0.8],[0.2148,0.2148])\n",
    "\n",
    "#plt.xlabel('Match')\n",
    "#plt.ylabel('Maximize')\n",
    "\n",
    "plt.ylim(-.1, .5)\n",
    "plt.xlim(-.1, .5)\n",
    "\n",
    "plt.gca().set_aspect('equal', adjustable='box')\n",
    "plt.draw()\n",
    "\n",
    "#add legend (NEEDS TO BE FIXED)\n",
    "from numpy.random import randn\n",
    "\n",
    "z = randn(100)\n",
    "\n",
    "#add line of slope 1\n",
    "plt.plot([0,1],[0,1], transform=plt.gca().transAxes)\n",
    "\n",
    "#s_jsd_g2_plot.add_line(line2)\n",
    "plt.savefig('social_ego_jsd_2.jpeg',format='jpeg')\n",
    "plt.show()"
   ]
  },
  {
   "cell_type": "code",
   "execution_count": null,
   "metadata": {},
   "outputs": [],
   "source": [
    "confed_g2_scores_box = sns.boxplot( \n",
    "                 data=confed_g2_scores,\n",
    "                 width=0.5,\n",
    "                 palette=\"pastel\")\n",
    "confed_g2_scores_box.axes.set_title(\"Confederate Scores in Game 2-Combined\",\n",
    "                    fontsize=16)\n",
    "\n",
    "plot_file_name=\"confed_g2_combo_scores_box.jpg\"\n",
    " \n",
    "plt.ylim(0, 100)\n",
    "confed_g2_scores_box.axes.set(ylabel='Score')\n",
    "\n",
    "# save as jpeg\n",
    "confed_g2_scores_box.figure.savefig(plot_file_name,\n",
    "                    format='jpeg')"
   ]
  },
  {
   "cell_type": "code",
   "execution_count": null,
   "metadata": {},
   "outputs": [],
   "source": [
    "confed_g2_counts_box = sns.boxplot( \n",
    "                 data=confed_g2_counts,\n",
    "                 width=0.5,\n",
    "                 palette=\"pastel\")\n",
    "confed_g2_counts_box.axes.set_title(\"Confederate Counts in Game 2-Combined\",\n",
    "                    fontsize=16)\n",
    "\n",
    "plot_file_name=\"confed_g2_combo_combo_box.jpg\"\n",
    " \n",
    "plt.ylim(0, 100)\n",
    "confed_g2_counts_box.axes.set(ylabel='Choice Distribution')\n",
    "\n",
    "# save as jpeg\n",
    "confed_g2_counts_box.figure.savefig(plot_file_name,\n",
    "                    format='jpeg')"
   ]
  },
  {
   "cell_type": "code",
   "execution_count": null,
   "metadata": {},
   "outputs": [],
   "source": [
    "confed_jsd_g2 = confed_jsd_g2_d.append(confed_jsd_g2_s)"
   ]
  },
  {
   "cell_type": "code",
   "execution_count": null,
   "metadata": {},
   "outputs": [],
   "source": [
    "confed_ego_jsd_g2_plot = confed_jsd_g2.plot.scatter(x='max',y='match',s=50)\n",
    "plt.title('Confederate Egocentric Strategies Game 2', fontsize=18, y=1.05)\n",
    "plt.xticks(np.arange(0, 1, step=0.1))\n",
    "plt.yticks(np.arange(0, 1, step=0.1))\n",
    "#line1 = mlines.Line2D([0.2148, 0.2148],[-0.03, 0.5], color='red')\n",
    "#line2 = mlines.Line2D([0,0.8],[0.2148,0.2148])\n",
    "\n",
    "#plt.xlabel('Match')\n",
    "#plt.ylabel('Maximize')\n",
    "\n",
    "plt.ylim(-.1, .5)\n",
    "plt.xlim(-.1, .5)\n",
    "\n",
    "plt.gca().set_aspect('equal', adjustable='box')\n",
    "plt.draw()\n",
    "\n",
    "#add legend (NEEDS TO BE FIXED)\n",
    "from numpy.random import randn\n",
    "\n",
    "z = randn(100)\n",
    "\n",
    "#add line of slope 1\n",
    "plt.plot([0,1],[0,1], transform=plt.gca().transAxes)\n",
    "\n",
    "#s_jsd_g2_plot.add_line(line2)\n",
    "plt.savefig('confed_ego_jsd_2.jpeg',format='jpeg')\n",
    "plt.show()"
   ]
  },
  {
   "cell_type": "code",
   "execution_count": null,
   "metadata": {},
   "outputs": [],
   "source": []
  }
 ],
 "metadata": {
  "anaconda-cloud": {},
  "kernelspec": {
   "display_name": "Python 3",
   "language": "python",
   "name": "python3"
  },
  "language_info": {
   "codemirror_mode": {
    "name": "ipython",
    "version": 3
   },
   "file_extension": ".py",
   "mimetype": "text/x-python",
   "name": "python",
   "nbconvert_exporter": "python",
   "pygments_lexer": "ipython3",
   "version": "3.7.4"
  }
 },
 "nbformat": 4,
 "nbformat_minor": 1
}
