{
 "cells": [
  {
   "cell_type": "code",
   "execution_count": 1,
   "metadata": {},
   "outputs": [],
   "source": [
    "#Jump to: Maximizing/Matching CONTROL\n",
    " #or: Maximizing/Matching SOCIAL  \n",
    "\n",
    "import csv\n",
    "import pandas as pd\n",
    "import numpy as np\n",
    "import glob\n",
    "import matplotlib\n",
    "import scipy as sp\n",
    "from matplotlib import pyplot as plt\n",
    "from itertools import cycle, islice\n",
    "from scipy import stats\n",
    "from datetime import datetime\n",
    "\n",
    "import seaborn as sns"
   ]
  },
  {
   "cell_type": "markdown",
   "metadata": {},
   "source": [
    "-plot score for 50 and 20 intervals \n",
    "\n",
    "\n",
    "-removing 1st trials?\n",
    "-RT\n",
    "-questionnaire\n",
    "-JSD for max/match\n",
    "-win-stay, lose-switch"
   ]
  },
  {
   "cell_type": "markdown",
   "metadata": {},
   "source": [
    "9/25\n",
    "need to:\n",
    "\n",
    "1. look into c07 (key error 399): need to code first 3 trials\n",
    "2. compare 100, 200, 300 timestamps\n",
    "4. write script to add probabilities to hand coded df \n",
    "5. work on reaction time analyses\n",
    "    import timestamps from hand coded files \n",
    "7. hand code first 3 trials of c07 and add to analyses "
   ]
  },
  {
   "cell_type": "markdown",
   "metadata": {},
   "source": [
    "This notebook is for analyzing behavior data in the social multi-armed bandit (SMAB) paradigm.\n",
    "It uses Pandas dataframes (https://pandas.pydata.org/docs/getting_started/index.html#getting-started).\n",
    "The 's' datasets are single-player sessions from SMAB3 and the 'j' datasets are multi-player sessions from SMAB3.\n",
    "The 'c' datasets are single-player sessions from SMAB4 and the 'm' datasets are multi-player sessions from SMAB4.\n",
    "\n",
    "Updated by Bar Y. 8/4/20"
   ]
  },
  {
   "cell_type": "code",
   "execution_count": 2,
   "metadata": {},
   "outputs": [],
   "source": [
    "'''\n",
    "These functions import csv files into pandas dataframes and rename the columns.\n",
    "input: filename of the csv file to import; the path needs to be included, as well\n",
    "output: pandas dataframe\n",
    "\n",
    "There are multiple iterations of this function because the data is in slightly different formats. \n",
    "'''\n",
    "\n",
    "\n",
    "def organize_trial_by_trial(txt_filename):\n",
    "    reader = csv.reader( open(txt_filename))\n",
    "    game_data = [row for row in reader]\n",
    "    df = pd.DataFrame(np.array(game_data))\n",
    "    df = df.T\n",
    "    df = df.rename(columns = {0:\"game number\", 1:\"trial\", 2:\"player\", 3:\"arm\", 4:\"probability\", 5:\"reward\", 6:\"time\", 7:\"P1 score\", 8:\"P2 score\"})\n",
    "    #drops first 20 trials of game 1\n",
    "    #remove if you want to analyze the whole session\n",
    "    #df = df[40:]\n",
    "    #df = df.drop(columns = 'time') #can comment this out if want to look at time\n",
    "    #df = df.drop(['reward'], axis=1)\n",
    "    df = df.apply(pd.to_numeric)\n",
    "    df.head()\n",
    "    \n",
    "    return df\n",
    "\n",
    "\n",
    "\n",
    "#0 means \"next\" button\n",
    "#need to exclude zero?\n",
    "\n",
    "def organize_trial_by_trial_floatclick(txt_filename):\n",
    "    reader = csv.reader( open(txt_filename))\n",
    "    game_data = [row for row in reader]\n",
    "    df = pd.DataFrame(np.array(game_data))\n",
    "    df = df.T\n",
    "    df = df.rename(columns = {0:\"type\", 1:\"game number\", 2:\"trial\", 3:\"player\", 4:\"arm\", 5:\"probability\", 6:\"P1 score\", 7:\"P2 score\", 8:\"\"})\n",
    "    #have 402 so need to restrict\n",
    "    #df = df[1:]\n",
    "    #df = df.drop(columns = 'time') #can comment this out if want to look at time\n",
    "    df = df.drop(['type'], axis=1)\n",
    "    df = df.apply(pd.to_numeric)\n",
    "    df.head()\n",
    "    \n",
    "    return df\n",
    "\n",
    "\n",
    "\n",
    "def organize_trial_by_trial_300(txt_filename):\n",
    "    reader = csv.reader( open(txt_filename))\n",
    "    game_data = [row for row in reader]\n",
    "    df = pd.DataFrame(np.array(game_data))\n",
    "    df = df.T\n",
    "    df = df.rename(columns = {0:\"type\", 1:\"game number\", 2:\"trial\", 3:\"player\", 4:\"arm\", 5:\"probability\", 6:\"reward\", 7:\"time\", 8:\"P1 score\", 9:\"P2 score\"})\n",
    "    #df = df[40:]\n",
    "    #df = df.drop(columns = 'time') #can comment this out if want to look at time\n",
    "    #df = df.drop(['type', 'reward'], axis=1)\n",
    "    df = df.drop(['type'], axis=1)\n",
    "    df = df.apply(pd.to_numeric)\n",
    "    df.head()\n",
    "    \n",
    "    return df\n",
    "\n",
    "#used before changes were made to template\n",
    "def organize_trial_by_trial_hand_code(txt_filename):\n",
    "    reader = csv.reader( open(txt_filename))\n",
    "    game_data = [row for row in reader]\n",
    "    df = pd.DataFrame(np.array(game_data))\n",
    "    #remove first row with column headings\n",
    "    df = df.drop(df.index[0])\n",
    "    #convert values to numbers (NEED TO FIX)\n",
    "    df.reset_index(drop=True,inplace=True)\n",
    "    df = df.drop(range(0, 8))\n",
    "    df.reset_index(drop=True,inplace=True)\n",
    "    #df = df.apply(pd.to_numeric)\n",
    "    #add column headings\n",
    "    df = df.rename(columns = {0:\"game number\", 1:\"trial\", 2:\"player\", 3:\"arm\", 4:\"probability\", 5:\"reward\",6:\"time\",7:\"P1 score\", 8:\"P2 score\"})\n",
    "    df.head()\n",
    "    \n",
    "    return df\n",
    "\n",
    "#use this function for hand coded game data files \n",
    "def organize_trial_by_trial_hand_code2(txt_filename):\n",
    "    reader = csv.reader( open(txt_filename))\n",
    "    game_data = [row for row in reader]\n",
    "    df = pd.DataFrame(np.array(game_data))\n",
    "    #remove first row with column headings\n",
    "    df = df.drop(df.index[0])\n",
    "    #convert values to numbers (NEED TO FIX)\n",
    "    df.reset_index(drop=True,inplace=True)\n",
    "    df = df.drop(range(0, 8))\n",
    "    df.reset_index(drop=True,inplace=True)\n",
    "    #drop comment columns\n",
    "    #df = df.drop(range(7,9), axis = 1)\n",
    "    #add p1 and p2 score columns\n",
    "    df.insert\n",
    "    #add column headings\n",
    "    df = df.rename(columns = {0:\"game number\", 1:\"trial\", 2:\"player\", 3:\"arm\", 4:\"probability\", 5:\"reward\",6:\"time\",7:\"comment 1\", 8:\"comment 2\", 9:\"P1 score\", 10:\"P2 score\"})\n",
    "    \n",
    "    #remove the time and comment columns (we'll add them back in a moment)\n",
    "    #we are removing them bc we are converting all the values to numbeic and this can't be done to these columns\n",
    "    time = df['time']\n",
    "    df = df.drop('time', axis = 1 )\n",
    "    \n",
    "    comment_1 = df['comment 1']\n",
    "    comment_2 = df['comment 2']\n",
    "    df = df.drop('comment 1', axis = 1 )\n",
    "    df = df.drop('comment 2', axis = 1 )\n",
    "    \n",
    "    df = df.apply(pd.to_numeric)\n",
    "    \n",
    "    #add dropped columns back in\n",
    "    df['time'] = time\n",
    "    df['comment 1'] = comment_1\n",
    "    df['comment 2'] = comment_2\n",
    "    \n",
    "    #convert time and comment 1 to date time objects\n",
    "    df['time']= pd.to_datetime(df['time'], errors = 'coerce', format = '%M:%S.%f')\n",
    "    df['comment 1']= pd.to_datetime(df['comment 1'], errors = 'coerce', format = '%M:%S.%f')\n",
    "\n",
    "    df.head()\n",
    "    \n",
    "    return df"
   ]
  },
  {
   "cell_type": "code",
   "execution_count": 3,
   "metadata": {},
   "outputs": [],
   "source": [
    "'''\n",
    "This function returns the score for game 1 and game 2. call_get_score can be used to call this function.\n",
    "'''\n",
    "def get_score(df, player_number, game_number):\n",
    "    if game_number == 1:\n",
    "        row = 199\n",
    "    elif game_number == 2:\n",
    "        row = 399\n",
    "    if player_number == 1:\n",
    "        column = 'P1 score'\n",
    "    elif player_number == 2:\n",
    "        column = 'P2 score'\n",
    "    score = df.loc[row, column]\n",
    "    return score\n",
    "\n",
    "'''Here we get the score at trial 50 of both games'''\n",
    "def get_score_at_50(df, player_number, game_number):\n",
    "    if game_number == 1:\n",
    "        row = 99\n",
    "    elif game_number == 2:\n",
    "        row = 300\n",
    "    if player_number == 1:\n",
    "        column = 'P1 score'\n",
    "    elif player_number == 2:\n",
    "        column = 'P2 score'\n",
    "    score = df.loc[row, column]\n",
    "    return score"
   ]
  },
  {
   "cell_type": "code",
   "execution_count": 4,
   "metadata": {},
   "outputs": [],
   "source": [
    "#create a dataframes for scores\n",
    "scores = pd.DataFrame(columns=['s_g1','s_g2','c_g1','c_g2', 'j_g1', 'j_g2', 'm_g1', 'm_g2'])\n",
    "\n",
    "'''This function calls get_score.\n",
    "input: dataframe with game data and version*\n",
    "output: scores for each player and each game**\n",
    "*version is 's' for single player SMAB3, 'c' for single player SMAB4, 'j' for multiplayer SMAB3, \n",
    "'m' for multiplayer SMAB4\n",
    "**only 1 player score is outputted for each game in the single player sessions, while scores for both players are \n",
    "outputted for multiplayer sessions'''\n",
    "def call_get_score(df, version):\n",
    "    p1_g1 = get_score(df, 1, 1)\n",
    "    p1_g2 = get_score(df, 1, 2)\n",
    "    p1_score_diff = p1_g2 - p1_g1\n",
    "    \n",
    "    p1_g1_50 = get_score_at_50(df, 1, 1)\n",
    "    p1_g2_50 = get_score_at_50(df, 1, 2)\n",
    "    \n",
    "    if version == 'j' or version == 'm':\n",
    "        p1_g1 = get_score(df, 1, 1)\n",
    "        p1_g2 = get_score(df, 1, 2)\n",
    "        p1_score_diff = p1_g2 - p1_g1\n",
    "        \n",
    "        p1_g1_50 = get_score_at_50(df, 1, 1)\n",
    "        p1_g2_50 = get_score_at_50(df, 1, 2)\n",
    "        \n",
    "        p2_g1 = get_score(df, 2, 1)\n",
    "        p2_g2 = get_score(df, 2, 2)\n",
    "        p2_score_diff = p2_g2 - p2_g1\n",
    "        \n",
    "        p2_g1_50 = get_score_at_50(df, 2, 1)\n",
    "        p2_g2_50 = get_score_at_50(df, 2, 2)\n",
    "        return p1_g1, p1_g2, p2_g1, p2_g2, p1_score_diff, p2_score_diff, p1_g1_50,p1_g2_50, p2_g1_50, p2_g2_50\n",
    "\n",
    "    return p1_g1, p1_g2, p1_score_diff, p1_g1_50, p1_g2_50"
   ]
  },
  {
   "cell_type": "code",
   "execution_count": 5,
   "metadata": {},
   "outputs": [],
   "source": [
    "'''This functions separates the dataframes by player and game.\n",
    "input: dataframe with gamedata and version*\n",
    "output: four dataframes separated by player and game\n",
    "*same as call_get_score above'''\n",
    "def separate_df(df, version):\n",
    "    df_p1 = df[df['player'] == 1]\n",
    "    df_p1_g1 = df_p1[df['game number'] == 1]\n",
    "    df_p1_g2 = df_p1[df['game number'] == 2]\n",
    "    \n",
    "    #remove trials for g1\n",
    "    #df_p1_g1 = df_p1_g1[20:40]\n",
    "    #remove trials for g2\n",
    "    #df_p1_g2 = df_p1_g2[20:40]\n",
    "    \n",
    "    if version == 's':\n",
    "        return df_p1_g1, df_p1_g2\n",
    "    if version == 'c':\n",
    "        return df_p1_g1, df_p1_g2\n",
    "    df_p2 = df[df['player'] ==2 ]\n",
    "    df_p2_g1 = df_p2[df['game number'] == 1]\n",
    "    df_p2_g2 = df_p2[df['game number'] == 2]\n",
    "    \n",
    "    #remove trials for g1\n",
    "   # df_p2_g1 = df_p2_g1[20:40]\n",
    "    #remove trials for g2\n",
    "    #df_p2_g2= df_p2_g2[20:40]\n",
    "    \n",
    "    return df_p1_g1, df_p1_g2, df_p2_g1, df_p2_g2"
   ]
  },
  {
   "cell_type": "code",
   "execution_count": 6,
   "metadata": {},
   "outputs": [],
   "source": [
    "#ignore for now\n",
    "def get_df_name(df):\n",
    "    name =[x for x in globals() if globals()[x] is df][0]\n",
    "    return name"
   ]
  },
  {
   "cell_type": "code",
   "execution_count": 7,
   "metadata": {},
   "outputs": [],
   "source": [
    "'''This function separates reaction times into post-win and post-loss arrays.\n",
    "NOTE that it is intended to be called with dataframes separated by separate_df (ex. s01_p1_g1)'''\n",
    "def reaction_time(df, time):\n",
    "    df.reset_index(drop=True, inplace=True)\n",
    "    post_win_time = []\n",
    "    post_loss_time = []\n",
    "    for index, row in df.iterrows():\n",
    "        if index > 0 and index < 101:\n",
    "            prev_rew = df.loc[index - 1, 'reward']\n",
    "            if prev_rew == 1:\n",
    "                post_win_time.append(df.loc[index, 'time'])\n",
    "            elif prev_rew == 0:\n",
    "                post_loss_time.append(df.loc[index, 'time'])\n",
    "    post_win_mean = np.mean(post_win_time)\n",
    "    post_loss_mean = np.mean(post_loss_time)\n",
    "    name = str(get_df_name(df))\n",
    "    time = time.append({'session' : name , 'post win' : post_win_mean, 'post loss': post_loss_mean} , ignore_index=True)\n",
    "    return(time)"
   ]
  },
  {
   "cell_type": "code",
   "execution_count": 8,
   "metadata": {},
   "outputs": [],
   "source": [
    "'''This functionfixes the reward column in the files imported using the '300' function. \n",
    "This function works for dataframes that have already been split up by game and player by separate_df (ex. c12_p1_g1)\n",
    "NOTE that this function had to be written for a subset of the data that had a bug that caused the reward column to be\n",
    "0 for all trials.'''\n",
    "def fix_reward(df):\n",
    "    df.reset_index(drop=True, inplace=True)\n",
    "    for index, row in df.iterrows():\n",
    "        if df.loc[index, 'player'] == 1:\n",
    "                score_column = 'P1 score'\n",
    "        elif df.loc[index, 'player'] == 2:\n",
    "                score_column = 'P2 score'\n",
    "        if index == 0:\n",
    "            if df.loc[index, score_column] == 1:\n",
    "                df.loc[index, 'reward'] = 1\n",
    "            #not necessary here because the values are all 0\n",
    "            else:\n",
    "                df.loc[index, 'reward'] = 0\n",
    "        elif index > 0:\n",
    "            prev_score = df.loc[index - 1, score_column]\n",
    "            curr_score = df.loc[index, score_column]\n",
    "            score_diff = curr_score - prev_score\n",
    "            df.loc[index, 'reward'] = score_diff\n",
    "    return(df)"
   ]
  },
  {
   "cell_type": "code",
   "execution_count": 9,
   "metadata": {},
   "outputs": [],
   "source": [
    "'''This function outputs the hole-probability mappings in each game. \n",
    "input: df of session data\n",
    "output: df with the hole-probability mappings\n",
    "g = game\n",
    "p = player\n",
    "h = hole\n",
    "r = reward (1 means yes and 0 means no)\n",
    "'''\n",
    "\n",
    "def hole_prob_map(df):\n",
    "    h1_prob = df.loc[df['arm'] == 1, 'probability'].iloc[0]\n",
    "    h2_prob = df.loc[df['arm'] == 2, 'probability'].iloc[0]\n",
    "    h3_prob = df.loc[df['arm'] == 3, 'probability'].iloc[0]\n",
    "    h_probs = pd.DataFrame({'h1_prob': [h1_prob], 'h2_prob': [h2_prob], 'h3_prob': [h3_prob]})\n",
    "    \n",
    "    return h_probs\n"
   ]
  },
  {
   "cell_type": "code",
   "execution_count": 10,
   "metadata": {},
   "outputs": [],
   "source": [
    "'''Here we compare the choice distributions to idealized models of two decision-making strategies: \n",
    "matching and maximizing. Matching would be choosing each each hole proportionally to its reward rate, \n",
    "and maximizing would be always choosing the high reward hole.'''\n",
    "\n",
    "#JSD: Jensen Shannon Divergence. Measures the similarity between two probability distributions. Taken from \n",
    "#https://urldefense.com/v3/__https://gist.github.com/zhiyzuo/f80e2b1cfb493a5711330d271a228a3d__;!!Mih3wA!SwZbl3yG75UWaB_c9Pq_T5wxVHgFZMbUZ5HHf5pZDf119g1JHaZr-dX94Xg7JRI$ . *Note: probability distributions need to be\n",
    "#normalized.'''\n",
    "#parameters: p and q are the two probability distributions to be compared.\n",
    "\n",
    "def jsd(p, q, base=np.e):\n",
    "    \n",
    "    \n",
    "    #Implementation of pairwise `jsd` based on https://urldefense.com/v3/__https://en.wikipedia.org/wiki/Jensen**BShannon_divergence__;4oCT!!Mih3wA!SwZbl3yG75UWaB_c9Pq_T5wxVHgFZMbUZ5HHf5pZDf119g1JHaZr-dX9SSBIvMc$ \n",
    "    # convert to np.array\n",
    "    p, q = np.asarray(p), np.asarray(q)\n",
    "    # normalize p, q to probabilities\n",
    "    p, q = p/p.sum(), q/q.sum()\n",
    "    m = 1./2*(p + q)\n",
    "    return sp.stats.entropy(p,m, base=base)/2. +  sp.stats.entropy(q, m, base=base)/2.\n",
    "\n",
    "\n",
    "\n",
    "#Idealized probability distributions to use for comparison. You can change these or add more models.\n",
    "\n",
    "maximize = [0,0,100]\n",
    "match = [30/180 * 100,60/180 * 100,90/180 * 100]\n",
    "random = [30/90 * 100,30/90 * 100,30/90 * 100]\n",
    "social = [1/3 * 100,1/3 * 100, 1/3 * 100]\n",
    "\n",
    "\n",
    "#This function calls jsd. \n",
    "#Input: counts- a player's choice distributions in a particular game (ex. s01_p1_g1_counts)\n",
    "#Output: maxi- JSD score for the maximizing strategy\n",
    "        #matchi- JSD score for the matching strategy\n",
    "def call_jsd(counts):\n",
    "    maxi = jsd(counts,maximize) #(p, q)\n",
    "    matchi = jsd(counts,match)\n",
    "    randi = jsd(counts,random)\n",
    "    soci = jsd(counts,social)\n",
    "    return maxi,matchi,randi, soci"
   ]
  },
  {
   "cell_type": "markdown",
   "metadata": {},
   "source": [
    "# Hand Coding Functions\n",
    "These functions can be used for game data files that were created by hand coding."
   ]
  },
  {
   "cell_type": "code",
   "execution_count": 11,
   "metadata": {},
   "outputs": [],
   "source": [
    "#jsd(social,m01_p1_g1_count)"
   ]
  },
  {
   "cell_type": "code",
   "execution_count": 12,
   "metadata": {},
   "outputs": [],
   "source": [
    "'''This function calculates the number of times each hole was chosen and the \n",
    "probability with which each hole rewarded each player in each game.\n",
    "input: hand coded game data file in a df\n",
    "output: df with the number of times each hole was chosen by each player in each game and the percentage of choices that were\n",
    "rewarded\n",
    "g = game\n",
    "p = player\n",
    "h = hole\n",
    "r = reward (1 means yes and 0 means no)'''\n",
    "\n",
    "def handcode_calc_prob(df):\n",
    "    \n",
    "    #NOTE: turn into function with parameters for game and player\n",
    "    #get counts for g1, p1\n",
    "    g1_p1_h1_r1_count,g1_p1_h1_r0_count,g1_p1_h2_r1_count,g1_p1_h2_r0_count,g1_p1_h3_r1_count,g1_p1_h3_r0_count = get_count(df, 1,1)\n",
    "    \n",
    "    g1_p2_h1_r1_count,g1_p2_h1_r0_count,g1_p2_h2_r1_count,g1_p2_h2_r0_count,g1_p2_h3_r1_count,g1_p2_h3_r0_count = get_count(df, 2,1)\n",
    "    \n",
    "    g2_p1_h1_r1_count,g2_p1_h1_r0_count,g2_p1_h2_r1_count,g2_p1_h2_r0_count,g2_p1_h3_r1_count,g2_p1_h3_r0_count = get_count(df, 1,2)\n",
    "    \n",
    "    g2_p2_h1_r1_count,g2_p2_h1_r0_count,g2_p2_h2_r1_count,g2_p2_h2_r0_count,g2_p2_h3_r1_count,g2_p2_h3_r0_count = get_count(df, 2,2)\n",
    "    \n",
    "    #calculate reward rate of each hole in each condition\n",
    "    \n",
    "    g1_p1_h1 = calc_prob(g1_p1_h1_r1_count,g1_p1_h1_r0_count)\n",
    "    g1_p1_h2 = calc_prob(g1_p1_h2_r1_count,g1_p1_h2_r0_count)\n",
    "    g1_p1_h3 = calc_prob(g1_p1_h3_r1_count,g1_p1_h3_r0_count)\n",
    "    \n",
    "    g1_p2_h1 = calc_prob(g1_p2_h1_r1_count,g1_p2_h1_r0_count)\n",
    "    g1_p2_h2 = calc_prob(g1_p2_h2_r1_count,g1_p2_h2_r0_count)\n",
    "    g1_p2_h3 = calc_prob(g1_p2_h3_r1_count,g1_p2_h3_r0_count)\n",
    "    \n",
    "    g2_p1_h1 = calc_prob(g2_p1_h1_r1_count,g2_p1_h1_r0_count)\n",
    "    g2_p1_h2 = calc_prob(g2_p1_h2_r1_count,g2_p1_h2_r0_count)\n",
    "    g2_p1_h3 = calc_prob(g2_p1_h3_r1_count,g2_p1_h3_r0_count)\n",
    "    \n",
    "    g2_p2_h1 = calc_prob(g2_p2_h1_r1_count,g2_p2_h1_r0_count)\n",
    "    g2_p2_h2 = calc_prob(g2_p2_h2_r1_count,g2_p2_h2_r0_count)\n",
    "    g2_p2_h3 = calc_prob(g2_p2_h3_r1_count,g2_p2_h3_r0_count)\n",
    "    \n",
    "    \n",
    "    #NEED to add indices to these\n",
    "    p1_counts_d = {'g1_p1_h1_count': [g1_p1_h1_r1_count, g1_p1_h1_r0_count], 'g1_p1_h2_count': [g1_p1_h2_r1_count, g1_p1_h2_r0_count],\n",
    "        'g1_p1_h3_count': [g1_p1_h3_r1_count, g1_p1_h3_r0_count], 'g2_p1_h1_count': [g2_p1_h1_r1_count, g2_p1_h1_r0_count], \n",
    "         'g2_p1_h2_count': [g2_p1_h2_r1_count, g2_p1_h2_r0_count],\n",
    "        'g2_p1_h3_count': [g2_p1_h3_r1_count, g2_p1_h3_r0_count] }\n",
    "    p1_counts_df = pd.DataFrame(p1_counts_d)\n",
    "    \n",
    "    p2_counts_d = {'g1_p2_h1_count': [g1_p2_h1_r1_count, g1_p2_h1_r0_count], 'g1_p2_h2_count': [g1_p2_h2_r1_count, g1_p2_h2_r0_count],\n",
    "        'g1_p2_h3_count': [g1_p2_h3_r1_count, g1_p2_h3_r0_count], 'g2_p2_h1_count': [g2_p2_h1_r1_count, g2_p2_h1_r0_count], \n",
    "         'g2_p2_h2_count': [g2_p2_h2_r1_count, g2_p2_h2_r0_count],\n",
    "        'g2_p2_h3_count': [g2_p2_h3_r1_count, g2_p2_h3_r0_count] }\n",
    "    p2_counts_df = pd.DataFrame(p2_counts_d)\n",
    "    \n",
    "    p1_counts_df.index = ['rewarded', 'non-rewarded']\n",
    "    p2_counts_df.index = ['rewarded','non-rewarded']\n",
    "    \n",
    "    p1_probs_d = {'p1_h1':[g1_p1_h1, g2_p1_h1], 'p1_h2':[g1_p1_h2, g2_p1_h2], 'p1_h3':[g1_p1_h3, g2_p1_h3]}\n",
    "    p1_probs_df = pd.DataFrame(p1_probs_d)\n",
    "    \n",
    "    p2_probs_d = {'p2_h1':[g1_p2_h1, g2_p2_h1], 'p1_h2':[g1_p2_h2, g2_p2_h2], 'p1_h3':[g1_p2_h3, g2_p2_h3]}\n",
    "    p2_probs_df = pd.DataFrame(p2_probs_d)\n",
    "    \n",
    "    p1_probs_df.index = ['game 1', 'game 2'] \n",
    "    p2_probs_df.index = ['game 1','game 2']\n",
    "    \n",
    "    return p1_counts_df, p2_counts_df, p1_probs_df, p2_probs_df\n"
   ]
  },
  {
   "cell_type": "code",
   "execution_count": 13,
   "metadata": {},
   "outputs": [],
   "source": [
    "'''This function is called in handcode_calc_prob and calculates the number of times each hole was chosen and rewarded/not rewarded\n",
    "input: df, player and game numbers\n",
    "output: counts for each hole and outcome (rewarded/not rewarded)\n",
    "'''\n",
    "def get_count(df,player,game):\n",
    "    h1_r1_count = len(df[(df['game number']==game) & (df['player']==player) & (df['arm']==1) & (df['reward']==1)])\n",
    "    h1_r0_count = len(df[(df['game number']==game) & (df['player']==player) & (df['arm']==1) & (df['reward']==0)])\n",
    "    h2_r1_count = len(df[(df['game number']==game) & (df['player']==player) & (df['arm']==2) & (df['reward']==1)])\n",
    "    h2_r0_count = len(df[(df['game number']==game) & (df['player']==player) & (df['arm']==2) & (df['reward']==0)])\n",
    "    h3_r1_count = len(df[(df['game number']==game) & (df['player']==player) & (df['arm']==3) & (df['reward']==1)])\n",
    "    h3_r0_count = len(df[(df['game number']==game) & (df['player']==player) & (df['arm']==3) & (df['reward']==0)])\n",
    "    return h1_r1_count, h1_r0_count, h2_r1_count, h2_r0_count, h3_r1_count, h2_r0_count"
   ]
  },
  {
   "cell_type": "code",
   "execution_count": 14,
   "metadata": {},
   "outputs": [],
   "source": [
    "'''This function is called in handcode_calc_prob and calculates the reward probability of a hole.\n",
    "input: number of rewarded trials, number of un-rewarded trials\n",
    "output: percentage of rewarded trials for that hole'''\n",
    "def calc_prob(r1,r0):\n",
    "    try:\n",
    "        return (r1/(r1+r0) * 100)\n",
    "    #if the hole was never chosen and the denominator is 0\n",
    "    except ZeroDivisionError:\n",
    "        return 0"
   ]
  },
  {
   "cell_type": "code",
   "execution_count": 15,
   "metadata": {},
   "outputs": [],
   "source": [
    "'''This function fills in the dataframe with the probabilities (30, 60, or 90) to each hole for each player in each\n",
    "game.\n",
    "input: dataframe with gamedata, probabilities for each player/game number/hole*\n",
    "output: dataframe with the probabilities filled in\n",
    "*You must put the inputs in the correct order as defined in the parameters of the function.\n",
    "'''\n",
    "def fill_in_prob(df, p1_g1_h1, p1_g1_h2, p1_g1_h3, p1_g2_h1, p1_g2_h2, p1_g2_h3, p2_g1_h1, p2_g1_h2, p2_g1_h3, \n",
    "                 p2_g2_h1, p2_g2_h2, p2_g2_h3):\n",
    "    for index, row in df.iterrows():\n",
    "        if df.loc[index,'game number'] == 1:\n",
    "            if df.loc[index,'player'] == 1:\n",
    "                if df.loc[index,'arm'] == 1:\n",
    "                    df.loc[index,'probability'] = p1_g1_h1\n",
    "                elif df.loc[index,'arm'] == 2:\n",
    "                    df.loc[index,'probability'] = p1_g1_h2\n",
    "                elif df.loc[index,'arm'] == 3:\n",
    "                    df.loc[index,'probability'] = p1_g1_h3\n",
    "            elif df.loc[index,'player'] == 2:\n",
    "                if df.loc[index,'arm'] == 1:\n",
    "                    df.loc[index,'probability'] = p2_g1_h1\n",
    "                elif df.loc[index,'arm'] == 2:\n",
    "                    df.loc[index,'probability'] = p2_g1_h2\n",
    "                elif df.loc[index,'arm'] == 3:\n",
    "                    df.loc[index,'probability'] = p2_g1_h3\n",
    "        elif df.loc[index,'game number'] == 2:\n",
    "            if df.loc[index,'player'] == 1:\n",
    "                if df.loc[index,'arm'] == 1:\n",
    "                    df.loc[index,'probability'] = p1_g2_h1\n",
    "                elif df.loc[index,'arm'] == 2:\n",
    "                    df.loc[index,'probability'] = p1_g2_h2\n",
    "                elif df.loc[index,'arm'] == 3:\n",
    "                    df.loc[index,'probability'] = p1_g2_h3\n",
    "            elif df.loc[index,'player'] == 2:\n",
    "                if df.loc[index,'arm'] == 1:\n",
    "                    df.loc[index,'probability'] = p2_g2_h1\n",
    "                elif df.loc[index,'arm'] == 2:\n",
    "                    df.loc[index,'probability'] = p2_g2_h2\n",
    "                elif df.loc[index,'arm'] == 3:\n",
    "                    df.loc[index,'probability'] = p2_g2_h3\n",
    "    return df"
   ]
  },
  {
   "cell_type": "markdown",
   "metadata": {},
   "source": [
    "# SMAB3 Single Player Analysis"
   ]
  },
  {
   "cell_type": "code",
   "execution_count": 16,
   "metadata": {},
   "outputs": [
    {
     "data": {
      "text/html": [
       "<div>\n",
       "<style scoped>\n",
       "    .dataframe tbody tr th:only-of-type {\n",
       "        vertical-align: middle;\n",
       "    }\n",
       "\n",
       "    .dataframe tbody tr th {\n",
       "        vertical-align: top;\n",
       "    }\n",
       "\n",
       "    .dataframe thead th {\n",
       "        text-align: right;\n",
       "    }\n",
       "</style>\n",
       "<table border=\"1\" class=\"dataframe\">\n",
       "  <thead>\n",
       "    <tr style=\"text-align: right;\">\n",
       "      <th></th>\n",
       "      <th>game number</th>\n",
       "      <th>trial</th>\n",
       "      <th>player</th>\n",
       "      <th>arm</th>\n",
       "      <th>probability</th>\n",
       "      <th>P1 score</th>\n",
       "      <th>P2 score</th>\n",
       "    </tr>\n",
       "  </thead>\n",
       "  <tbody>\n",
       "    <tr>\n",
       "      <td>0</td>\n",
       "      <td>1</td>\n",
       "      <td>1</td>\n",
       "      <td>1</td>\n",
       "      <td>1</td>\n",
       "      <td>90</td>\n",
       "      <td>0</td>\n",
       "      <td>0</td>\n",
       "    </tr>\n",
       "    <tr>\n",
       "      <td>1</td>\n",
       "      <td>1</td>\n",
       "      <td>1</td>\n",
       "      <td>2</td>\n",
       "      <td>0</td>\n",
       "      <td>90</td>\n",
       "      <td>1</td>\n",
       "      <td>0</td>\n",
       "    </tr>\n",
       "    <tr>\n",
       "      <td>2</td>\n",
       "      <td>1</td>\n",
       "      <td>2</td>\n",
       "      <td>1</td>\n",
       "      <td>2</td>\n",
       "      <td>60</td>\n",
       "      <td>1</td>\n",
       "      <td>1</td>\n",
       "    </tr>\n",
       "    <tr>\n",
       "      <td>3</td>\n",
       "      <td>1</td>\n",
       "      <td>2</td>\n",
       "      <td>2</td>\n",
       "      <td>0</td>\n",
       "      <td>90</td>\n",
       "      <td>2</td>\n",
       "      <td>1</td>\n",
       "    </tr>\n",
       "    <tr>\n",
       "      <td>4</td>\n",
       "      <td>1</td>\n",
       "      <td>3</td>\n",
       "      <td>1</td>\n",
       "      <td>3</td>\n",
       "      <td>30</td>\n",
       "      <td>2</td>\n",
       "      <td>2</td>\n",
       "    </tr>\n",
       "  </tbody>\n",
       "</table>\n",
       "</div>"
      ],
      "text/plain": [
       "   game number  trial  player  arm  probability  P1 score  P2 score\n",
       "0            1      1       1    1           90         0         0\n",
       "1            1      1       2    0           90         1         0\n",
       "2            1      2       1    2           60         1         1\n",
       "3            1      2       2    0           90         2         1\n",
       "4            1      3       1    3           30         2         2"
      ]
     },
     "execution_count": 16,
     "metadata": {},
     "output_type": "execute_result"
    }
   ],
   "source": [
    "'''\n",
    "Here, we load all of the csv files into pandas dataframes using organize_trial_by_trial and get the game 1 and 2 scores using \n",
    "call_get_score.'''\n",
    "\n",
    "#in the s files, p2 is the confederate\n",
    "df = organize_trial_by_trial('data/s01_gamedata.csv')\n",
    "s01 = df\n",
    "s01_p1_g1_score,s01_p1_g2_score,s01_score_diff,s01_p1_g1_50,s01_p1_g2_50 = call_get_score(s01, 's')\n",
    "s01.head()\n",
    "\n",
    "''''#in the s files, p2 is the confederate- NEED TO WORK ON\n",
    "df = organize_trial_by_trial('data/s02_gamedata.csv')\n",
    "s02 = df\n",
    "s02_p1_g1_score = get_score(s02, 1, 1)\n",
    "s02_p1_g1_score,s02_p1_g2_score,s02_score_diff,s02_p1_g1_50,s02_p1_g2_50 = call_get_score(s02, 's')\n",
    "s02.head()'''\n",
    "\n",
    "\n",
    "#in the s files, p2 is the confederate\n",
    "df = organize_trial_by_trial('data/s03_gamedata.csv')\n",
    "s03 = df\n",
    "s03_p1_g1_score,s03_p1_g2_score,s03_score_diff,s03_p1_g1_50,s03_p1_g2_50 = call_get_score(s03, 's')\n",
    "s03.head()\n",
    "\n",
    "#in the s files, p2 is the confederate\n",
    "df = organize_trial_by_trial('data/s05_gamedata.csv')\n",
    "s05 = df\n",
    "s05_p1_g1_score,s05_p1_g2_score,s05_score_diff, s05_p1_g1_50,s05_p1_g2_50 = call_get_score(s05, 's')\n",
    "s05.head()\n",
    "\n",
    "#in the s files, p2 is the confederate\n",
    "df = organize_trial_by_trial('data/s06_gamedata.csv')\n",
    "s06 = df\n",
    "s06_p1_g1_score,s06_p1_g2_score,s06_score_diff, s06_p1_g1_50,s06_p1_g2_50 = call_get_score(s06, 's')\n",
    "s06.head()\n",
    "\n",
    "#in the s files, p2 is the confederate\n",
    "df = organize_trial_by_trial('data/s07_gamedata.csv')\n",
    "s07 = df\n",
    "s07_p1_g1_score,s07_p1_g2_score,s07_score_diff, s07_p1_g1_50,s07_p1_g2_50 = call_get_score(s07, 's')\n",
    "s07.head()\n",
    "\n",
    "pd.set_option('display.max_columns', None)  \n",
    "\n",
    "#in the s files, p2 is the confederate\n",
    "df = organize_trial_by_trial('data/s08_gamedata.csv')\n",
    "s08 = df\n",
    "s08_p1_g1_score,s08_p1_g2_score,s08_score_diff, s08_p1_g1_50,s08_p1_g2_50 = call_get_score(s08, 's')\n",
    "s08.head()\n",
    "\n",
    "#in the s files, p2 is the confederate\n",
    "df = organize_trial_by_trial('data/s09_gamedata.csv')\n",
    "s09 = df\n",
    "s09_p1_g1_score,s09_p1_g2_score,s09_score_diff, s09_p1_g1_50,s09_p1_g2_50 = call_get_score(s09, 's')\n",
    "s09.head()\n",
    "\n",
    "#in the s files, p2 is the confederate\n",
    "df = organize_trial_by_trial_300('data/s11_gamedata2.csv')\n",
    "s11 = df\n",
    "s11_p1_g1_score,s11_p1_g2_score,s11_score_diff,s11_p1_g1_50,s11_p1_g2_50 = call_get_score(s11, 's')\n",
    "s11.head()\n",
    "\n",
    "#in the s files, p2 is the confederate\n",
    "df = organize_trial_by_trial_300('data/s12_gamedata.csv')\n",
    "s12 = df\n",
    "s12_p1_g1_score,s12_p1_g2_score,s12_score_diff, s12_p1_g1_50,s12_p1_g2_50 = call_get_score(s12, 's')\n",
    "s12.head()\n",
    "\n",
    "#in the s files, p2 is the confederate\n",
    "df = organize_trial_by_trial_hand_code2('data/s14_gamedata_handcode.csv')\n",
    "s14 = df\n",
    "#s12_p1_g1_score,s12_p1_g2_score,s12_score_diff, s12_p1_g1_50,s12_p1_g2_50 = call_get_score(s12, 's')\n",
    "s14.head()\n",
    "\n",
    "#in the s files, p2 is the confederate\n",
    "df = organize_trial_by_trial_300('data/s15_gamedata2.csv')\n",
    "s15 = df\n",
    "s15_p1_g1_score,s15_p1_g2_score,s15_score_diff,s15_p1_g1_50,s15_p1_g2_50 = call_get_score(s15, 's')\n",
    "s15.head()\n",
    "\n",
    "#in the s files, p2 is the confederate\n",
    "df = organize_trial_by_trial_300('data/s16_gamedata2.csv')\n",
    "s16 = df\n",
    "s16_p1_g1_score,s16_p1_g2_score,s16_score_diff,s16_p1_g1_50,s16_p1_g2_50 = call_get_score(s16, 's')\n",
    "s16.head()\n",
    "\n",
    "#in the s files, p2 is the confederate\n",
    "df = organize_trial_by_trial_300('data/s19_gamedata.csv')\n",
    "s19 = df\n",
    "s19_p1_g1_score,s19_p1_g2_score,s19_score_diff,s19_p1_g1_50,s19_p1_g2_50 = call_get_score(s19, 's')\n",
    "s19.head()\n",
    "\n",
    "#in the s files, p2 is the confederate\n",
    "df = organize_trial_by_trial_300('data/s17_gamedata2.csv')\n",
    "s17 = df\n",
    "s17_p1_g1_score,s17_p1_g2_score,s17_score_diff,s17_p1_g1_50,s17_p1_g2_50 = call_get_score(s17, 's')\n",
    "s17.head()\n",
    "\n",
    "#in the s files, p2 is the confederate\n",
    "df = organize_trial_by_trial_floatclick('data/s20_gamedata.csv')\n",
    "s20 = df\n",
    "s20_p1_g1_score,s20_p1_g2_score,s20_score_diff, s20_p1_g1_50,s20_p1_g2_50= call_get_score(s20, 's')\n",
    "s20.head()"
   ]
  },
  {
   "cell_type": "code",
   "execution_count": 17,
   "metadata": {},
   "outputs": [],
   "source": [
    "s14_p1_counts, s14_p2_counts, s14_p1_probs, s14_p2_probs = handcode_calc_prob(s14)"
   ]
  },
  {
   "cell_type": "code",
   "execution_count": 18,
   "metadata": {},
   "outputs": [
    {
     "name": "stderr",
     "output_type": "stream",
     "text": [
      "/Users/simonefroley/opt/anaconda3/lib/python3.7/site-packages/ipykernel_launcher.py:7: UserWarning: Boolean Series key will be reindexed to match DataFrame index.\n",
      "  import sys\n",
      "/Users/simonefroley/opt/anaconda3/lib/python3.7/site-packages/ipykernel_launcher.py:8: UserWarning: Boolean Series key will be reindexed to match DataFrame index.\n",
      "  \n"
     ]
    }
   ],
   "source": [
    "'''The Hand Code Functions are called for s14'''\n",
    "s14 = fill_in_prob(s14, 60,90,30,60,90,30,60,90,30,60,90,30)\n",
    "s14_p1_g1, s14_p1_g2 = separate_df(s14, 'c')\n",
    "s14_p1_g1_score = s14_p1_g1['reward'].sum()\n",
    "s14_p1_g2_score = s14_p1_g2['reward'].sum()"
   ]
  },
  {
   "cell_type": "code",
   "execution_count": 19,
   "metadata": {},
   "outputs": [],
   "source": [
    "'''\n",
    "Here, we create a dataframe of all of the scores and score differences between game 1 and 2'''\n",
    "\n",
    "#list out all the scores in game 1 by participant\n",
    "s_scores_1 = pd.DataFrame({'participant':['s01','s03', 's05', \n",
    "                               's06', 's07', 's08', 's09', 's11', 's12', 's14','s15', 's16', 's17', 's19', 's20'], 'score':\n",
    "     [s01_p1_g1_score, s03_p1_g1_score, s05_p1_g1_score,\n",
    "      s06_p1_g1_score, s07_p1_g1_score, s08_p1_g1_score, s09_p1_g1_score, s11_p1_g1_score, s12_p1_g1_score, s14_p1_g1_score, s15_p1_g1_score, s16_p1_g1_score, s17_p1_g1_score, s19_p1_g1_score, s20_p1_g1_score]})\n",
    "#to prevent an extra column that numbers each row:\n",
    "s_scores_1.set_index('participant', inplace=True, drop=True)\n",
    "\n",
    "#game 2 data is split by same (s) and different (d) contingencies in g1 and g2\n",
    "#list out all the scores in game 2 by participant\n",
    "s_scores_2_d = pd.DataFrame({'participant':['s01', 's03', 's05', \n",
    "                               's06', 's07', 's08', 's09',], 'score':\n",
    "    [s01_p1_g2_score, s03_p1_g2_score, s05_p1_g2_score, \n",
    "s06_p1_g2_score, s07_p1_g2_score, s08_p1_g2_score, s09_p1_g2_score]})\n",
    "\n",
    "#to prevent an extra column that numbers each row:\n",
    "s_scores_2_d.set_index('participant', inplace=True, drop=True)\n",
    "\n",
    "s_scores_2_s = pd.DataFrame({'participant':['s11', 's12', 's14','s15', 's16', 's17', 's19', 's20'], 'score':\n",
    "    [s11_p1_g2_score, s12_p1_g2_score, s14_p1_g2_score, s15_p1_g2_score, s16_p1_g2_score, s17_p1_g2_score, s19_p1_g2_score, s20_p1_g2_score]})\n",
    "\n",
    "#to prevent an extra column that numbers each row:\n",
    "s_scores_2_s.set_index('participant', inplace=True, drop=True)\n",
    "\n",
    "\n",
    "#list out all the scores in game 1 by participant\n",
    "s_scores_1_50 = pd.DataFrame({'participant':['s01','s03', 's05', \n",
    "                               's06', 's07', 's08', 's09', 's11', 's12', 's15', 's16', 's17', 's19', 's20'], 'score_1_50':\n",
    "     [s01_p1_g1_50, s03_p1_g1_50, s05_p1_g1_50,\n",
    "      s06_p1_g1_50, s07_p1_g1_50, s08_p1_g1_50, s09_p1_g1_50, s11_p1_g1_50, s12_p1_g1_50, s15_p1_g1_50, s16_p1_g1_50, s17_p1_g1_50, s19_p1_g1_50, s20_p1_g1_50]})\n",
    "#to prevent an extra column that numbers each row:\n",
    "s_scores_1_50.set_index('participant', inplace=True, drop=True)\n",
    "\n",
    "#list out all the scores in game 2 by participant\n",
    "s_scores_2_50 = pd.DataFrame({'participant':['s01', 's03', 's05', \n",
    "                               's06', 's07', 's08', 's09', 's11', 's12', 's15', 's16', 's17', 's19', 's20'], 'score_2_50':\n",
    "    [s01_p1_g2_50, s03_p1_g2_50, s05_p1_g2_50, \n",
    "s06_p1_g2_50, s07_p1_g2_50, s08_p1_g2_50, s09_p1_g2_50, s11_p1_g2_50, s12_p1_g2_50, s15_p1_g2_50, s16_p1_g2_50, s17_p1_g2_50, s19_p1_g2_50, s20_p1_g2_50]})\n",
    "s_scores_2_50.set_index('participant', inplace=True, drop=True)\n",
    "\n",
    "#frames = [s_scores_1_50,s_scores_2_50,s_scores_1,s_scores_2]'''"
   ]
  },
  {
   "cell_type": "code",
   "execution_count": 20,
   "metadata": {},
   "outputs": [
    {
     "data": {
      "text/plain": [
       "\"\\n#merge both games by participant:\\ns_scores = pd.merge(s_scores_1, s_scores_2,on='participant')\\n\\n#label columns\\ns_scores.columns=['Game 1','Game 2']\\n\\ns_scores\""
      ]
     },
     "execution_count": 20,
     "metadata": {},
     "output_type": "execute_result"
    },
    {
     "data": {
      "image/png": "[encoded data removed]",
      "text/plain": [
       "<Figure size 432x288 with 1 Axes>"
      ]
     },
     "metadata": {
      "needs_background": "light"
     },
     "output_type": "display_data"
    },
    {
     "data": {
      "image/png": "[encoded data removed]",
      "text/plain": [
       "<Figure size 432x288 with 1 Axes>"
      ]
     },
     "metadata": {
      "needs_background": "light"
     },
     "output_type": "display_data"
    },
    {
     "data": {
      "image/png": "[encoded data removed]",
      "text/plain": [
       "<Figure size 432x288 with 1 Axes>"
      ]
     },
     "metadata": {
      "needs_background": "light"
     },
     "output_type": "display_data"
    }
   ],
   "source": [
    "'''Here we plot the scores.'''\n",
    "\n",
    "s_scores_1_bar = s_scores_1.plot.bar()\n",
    "\n",
    "s_scores_2_s_bar = s_scores_2_s.plot.bar()\n",
    "\n",
    "s_scores_2_d_bar = s_scores_2_d.plot.bar()\n",
    "\n",
    "'''\n",
    "#merge both games by participant:\n",
    "s_scores = pd.merge(s_scores_1, s_scores_2,on='participant')\n",
    "\n",
    "#label columns\n",
    "s_scores.columns=['Game 1','Game 2']\n",
    "\n",
    "s_scores'''"
   ]
  },
  {
   "cell_type": "code",
   "execution_count": 21,
   "metadata": {},
   "outputs": [
    {
     "data": {
      "image/png": "[encoded data removed]",
      "text/plain": [
       "<Figure size 432x288 with 1 Axes>"
      ]
     },
     "metadata": {
      "needs_background": "light"
     },
     "output_type": "display_data"
    }
   ],
   "source": [
    "#make a boxplot of the scores in game 1 and game 2 \n",
    "#s_scores_box = s_scores.boxplot(labels=['Game 1','Game 2'])\n",
    "#plt.grid(b=None)\n",
    "#plt.yticks(np.arange(50, 105, step=10))\n",
    "\n",
    "s_scores1_box = sns.boxplot( \n",
    "                 data=s_scores_1,\n",
    "                 width=0.5,\n",
    "                 palette=\"pastel\")\n",
    "s_scores1_box.axes.set_title(\"SMAB3 Control Scores in Game 1\",\n",
    "                    fontsize=16)\n",
    "\n",
    "plot_file_name=\"s_score1_box.jpg\"\n",
    " \n",
    "plt.ylim(0, 100)\n",
    "s_scores1_box.axes.set(ylabel='Score')\n",
    "\n",
    "# save as jpeg\n",
    "s_scores1_box.figure.savefig(plot_file_name,\n",
    "                    format='jpeg')"
   ]
  },
  {
   "cell_type": "code",
   "execution_count": 22,
   "metadata": {},
   "outputs": [
    {
     "data": {
      "image/png": "[encoded data removed]",
      "text/plain": [
       "<Figure size 432x288 with 1 Axes>"
      ]
     },
     "metadata": {
      "needs_background": "light"
     },
     "output_type": "display_data"
    }
   ],
   "source": [
    "#make a boxplot of the scores in game 1 and game 2 \n",
    "#s_scores_box = s_scores.boxplot(labels=['Game 1','Game 2'])\n",
    "#plt.grid(b=None)\n",
    "#plt.yticks(np.arange(50, 105, step=10))\n",
    "\n",
    "s_scores2s_box = sns.boxplot( \n",
    "                 data=s_scores_2_s,\n",
    "                 width=0.5,\n",
    "                 palette=\"pastel\")\n",
    "s_scores2s_box.axes.set_title(\"SMAB3 Control Scores in Game 2-Same\",\n",
    "                    fontsize=16)\n",
    "\n",
    "plot_file_name=\"s_score_2s_box.jpg\"\n",
    " \n",
    "plt.ylim(0, 100)\n",
    "s_scores2s_box.axes.set(ylabel='Score')\n",
    "\n",
    "# save as jpeg\n",
    "s_scores2s_box.figure.savefig(plot_file_name,\n",
    "                    format='jpeg')"
   ]
  },
  {
   "cell_type": "code",
   "execution_count": 23,
   "metadata": {},
   "outputs": [
    {
     "data": {
      "image/png": "[encoded data removed]",
      "text/plain": [
       "<Figure size 432x288 with 1 Axes>"
      ]
     },
     "metadata": {
      "needs_background": "light"
     },
     "output_type": "display_data"
    }
   ],
   "source": [
    "#make a boxplot of the scores in game 1 and game 2 \n",
    "#s_scores_box = s_scores.boxplot(labels=['Game 1','Game 2'])\n",
    "#plt.grid(b=None)\n",
    "#plt.yticks(np.arange(50, 105, step=10))\n",
    "\n",
    "s_scores2d_box = sns.boxplot( \n",
    "                 data=s_scores_2_d,\n",
    "                 width=0.5,\n",
    "                 palette=\"pastel\")\n",
    "s_scores2d_box.axes.set_title(\"SMAB3 Control Scores in Game 2-Different\",\n",
    "                    fontsize=16)\n",
    "\n",
    "plot_file_name=\"s_score_2d_box.jpg\"\n",
    " \n",
    "plt.ylim(0, 100)\n",
    "s_scores2d_box.axes.set(ylabel='Score')\n",
    "\n",
    "# save as jpeg\n",
    "s_scores2d_box.figure.savefig(plot_file_name,\n",
    "                    format='jpeg')"
   ]
  },
  {
   "cell_type": "code",
   "execution_count": 24,
   "metadata": {},
   "outputs": [],
   "source": [
    "'''Here we look at the means, standard deviations, and medians of the scores in games 1 and 2.'''\n",
    "\n",
    "s_scores_1_mean = s_scores_1.mean()"
   ]
  },
  {
   "cell_type": "code",
   "execution_count": 25,
   "metadata": {},
   "outputs": [],
   "source": [
    "s_scores_1_std = s_scores_1.std()"
   ]
  },
  {
   "cell_type": "code",
   "execution_count": 26,
   "metadata": {},
   "outputs": [
    {
     "data": {
      "text/plain": [
       "(score    71.8\n",
       " dtype: float64, score    11.181618\n",
       " dtype: float64)"
      ]
     },
     "execution_count": 26,
     "metadata": {},
     "output_type": "execute_result"
    }
   ],
   "source": [
    "s_scores_1_mean, s_scores_1_std"
   ]
  },
  {
   "cell_type": "code",
   "execution_count": 27,
   "metadata": {},
   "outputs": [],
   "source": [
    "s_scores_2s_mean = s_scores_2_s.mean()"
   ]
  },
  {
   "cell_type": "code",
   "execution_count": 28,
   "metadata": {},
   "outputs": [],
   "source": [
    "s_scores_2s_std = s_scores_2_s.std()"
   ]
  },
  {
   "cell_type": "code",
   "execution_count": 29,
   "metadata": {},
   "outputs": [],
   "source": [
    "s_scores_2d_mean = s_scores_2_d.mean()"
   ]
  },
  {
   "cell_type": "code",
   "execution_count": 30,
   "metadata": {},
   "outputs": [],
   "source": [
    "s_scores_2d_std = s_scores_2_d.std()"
   ]
  },
  {
   "cell_type": "code",
   "execution_count": 31,
   "metadata": {},
   "outputs": [
    {
     "data": {
      "text/plain": [
       "(score    74.625\n",
       " dtype: float64, score    12.603146\n",
       " dtype: float64)"
      ]
     },
     "execution_count": 31,
     "metadata": {},
     "output_type": "execute_result"
    }
   ],
   "source": [
    "s_scores_2s_mean, s_scores_2s_std"
   ]
  },
  {
   "cell_type": "code",
   "execution_count": 32,
   "metadata": {},
   "outputs": [
    {
     "data": {
      "text/plain": [
       "(score    76.857143\n",
       " dtype: float64, score    8.214389\n",
       " dtype: float64)"
      ]
     },
     "execution_count": 32,
     "metadata": {},
     "output_type": "execute_result"
    }
   ],
   "source": [
    "s_scores_2d_mean, s_scores_2d_std"
   ]
  },
  {
   "cell_type": "code",
   "execution_count": 33,
   "metadata": {},
   "outputs": [
    {
     "data": {
      "text/plain": [
       "Ttest_indResult(statistic=array([-0.39928923]), pvalue=array([0.69616225]))"
      ]
     },
     "execution_count": 33,
     "metadata": {},
     "output_type": "execute_result"
    }
   ],
   "source": [
    "sp.stats.ttest_ind(s_scores_2_s, s_scores_2_d)"
   ]
  },
  {
   "cell_type": "code",
   "execution_count": 34,
   "metadata": {
    "scrolled": true
   },
   "outputs": [
    {
     "name": "stderr",
     "output_type": "stream",
     "text": [
      "/Users/simonefroley/opt/anaconda3/lib/python3.7/site-packages/ipykernel_launcher.py:7: UserWarning: Boolean Series key will be reindexed to match DataFrame index.\n",
      "  import sys\n",
      "/Users/simonefroley/opt/anaconda3/lib/python3.7/site-packages/ipykernel_launcher.py:8: UserWarning: Boolean Series key will be reindexed to match DataFrame index.\n",
      "  \n"
     ]
    }
   ],
   "source": [
    "'''Here we separate the dataframes of game 1 and game 2 for each subject.'''\n",
    "\n",
    "\n",
    "s01_p1_g1, s01_p1_g2 = separate_df(s01, 's')\n",
    "s03_p1_g1, s03_p1_g2 = separate_df(s03, 's')\n",
    "s05_p1_g1, s05_p1_g2 = separate_df(s05, 's')\n",
    "s06_p1_g1, s06_p1_g2 = separate_df(s06, 's')\n",
    "s07_p1_g1, s07_p1_g2 = separate_df(s07, 's')\n",
    "s08_p1_g1, s08_p1_g2 = separate_df(s08, 's')\n",
    "s09_p1_g1, s09_p1_g2 = separate_df(s09, 's')\n",
    "s11_p1_g1, s11_p1_g2 = separate_df(s11, 's')\n",
    "s12_p1_g1, s12_p1_g2 = separate_df(s12, 's')\n",
    "s15_p1_g1, s15_p1_g2 = separate_df(s15, 's')\n",
    "s16_p1_g1, s16_p1_g2 = separate_df(s16, 's')\n",
    "s17_p1_g1, s17_p1_g2 = separate_df(s17, 's')\n",
    "s19_p1_g1, s19_p1_g2 = separate_df(s19, 's')\n",
    "s20_p1_g1, s20_p1_g2 = separate_df(s20, 's')"
   ]
  },
  {
   "cell_type": "code",
   "execution_count": 35,
   "metadata": {},
   "outputs": [],
   "source": [
    "'''Here we check the arm-probability mappings in each game'''\n",
    "s01_p1_g1_map = hole_prob_map(s01_p1_g1)\n",
    "s01_p1_g2_map = hole_prob_map(s01_p1_g2)\n",
    "\n",
    "s03_p1_g1_map = hole_prob_map(s03_p1_g1)\n",
    "s03_p1_g2_map = hole_prob_map(s03_p1_g2)\n",
    "\n",
    "s05_p1_g1_map = hole_prob_map(s05_p1_g1)\n",
    "#s05_p1_g2_map = hole_prob_map(s05_p1_g2)\n",
    "\n",
    "s07_p1_g1_map = hole_prob_map(s07_p1_g1)\n",
    "s07_p1_g2_map = hole_prob_map(s07_p1_g2)\n",
    "\n",
    "s08_p1_g1_map = hole_prob_map(s08_p1_g1)\n",
    "s08_p1_g2_map = hole_prob_map(s08_p1_g2)\n",
    "\n",
    "s09_p1_g1_map = hole_prob_map(s09_p1_g1)\n",
    "s09_p1_g2_map = hole_prob_map(s09_p1_g2)\n",
    "\n",
    "s11_p1_g1_map = hole_prob_map(s11_p1_g1)\n",
    "s11_p1_g2_map = hole_prob_map(s11_p1_g2)\n",
    "\n",
    "s12_p1_g1_map = hole_prob_map(s12_p1_g1)\n",
    "s12_p1_g2_map = hole_prob_map(s12_p1_g2)\n",
    "\n",
    "s15_p1_g1_map = hole_prob_map(s15_p1_g1)\n",
    "s15_p1_g2_map = hole_prob_map(s15_p1_g2)\n",
    "\n",
    "s16_p1_g1_map = hole_prob_map(s16_p1_g1)\n",
    "s16_p1_g2_map = hole_prob_map(s16_p1_g2)\n",
    "\n",
    "s17_p1_g1_map = hole_prob_map(s17_p1_g1)\n",
    "#s17_p1_g2_map = hole_prob_map(s17_p1_g2)"
   ]
  },
  {
   "cell_type": "code",
   "execution_count": 36,
   "metadata": {},
   "outputs": [
    {
     "data": {
      "text/html": [
       "<div>\n",
       "<style scoped>\n",
       "    .dataframe tbody tr th:only-of-type {\n",
       "        vertical-align: middle;\n",
       "    }\n",
       "\n",
       "    .dataframe tbody tr th {\n",
       "        vertical-align: top;\n",
       "    }\n",
       "\n",
       "    .dataframe thead th {\n",
       "        text-align: right;\n",
       "    }\n",
       "</style>\n",
       "<table border=\"1\" class=\"dataframe\">\n",
       "  <thead>\n",
       "    <tr style=\"text-align: right;\">\n",
       "      <th></th>\n",
       "      <th>game number</th>\n",
       "      <th>trial</th>\n",
       "      <th>player</th>\n",
       "      <th>arm</th>\n",
       "      <th>probability</th>\n",
       "      <th>reward</th>\n",
       "      <th>time</th>\n",
       "      <th>P1 score</th>\n",
       "      <th>P2 score</th>\n",
       "    </tr>\n",
       "  </thead>\n",
       "  <tbody>\n",
       "    <tr>\n",
       "      <td>0</td>\n",
       "      <td>1</td>\n",
       "      <td>1</td>\n",
       "      <td>1</td>\n",
       "      <td>2</td>\n",
       "      <td>30</td>\n",
       "      <td>1</td>\n",
       "      <td>11.220698</td>\n",
       "      <td>1</td>\n",
       "      <td>0</td>\n",
       "    </tr>\n",
       "    <tr>\n",
       "      <td>2</td>\n",
       "      <td>1</td>\n",
       "      <td>2</td>\n",
       "      <td>1</td>\n",
       "      <td>3</td>\n",
       "      <td>60</td>\n",
       "      <td>1</td>\n",
       "      <td>5.362458</td>\n",
       "      <td>2</td>\n",
       "      <td>1</td>\n",
       "    </tr>\n",
       "    <tr>\n",
       "      <td>4</td>\n",
       "      <td>1</td>\n",
       "      <td>3</td>\n",
       "      <td>1</td>\n",
       "      <td>2</td>\n",
       "      <td>30</td>\n",
       "      <td>0</td>\n",
       "      <td>3.489552</td>\n",
       "      <td>2</td>\n",
       "      <td>2</td>\n",
       "    </tr>\n",
       "    <tr>\n",
       "      <td>6</td>\n",
       "      <td>1</td>\n",
       "      <td>4</td>\n",
       "      <td>1</td>\n",
       "      <td>3</td>\n",
       "      <td>60</td>\n",
       "      <td>0</td>\n",
       "      <td>3.210886</td>\n",
       "      <td>2</td>\n",
       "      <td>3</td>\n",
       "    </tr>\n",
       "    <tr>\n",
       "      <td>8</td>\n",
       "      <td>1</td>\n",
       "      <td>5</td>\n",
       "      <td>1</td>\n",
       "      <td>3</td>\n",
       "      <td>60</td>\n",
       "      <td>1</td>\n",
       "      <td>2.904784</td>\n",
       "      <td>3</td>\n",
       "      <td>4</td>\n",
       "    </tr>\n",
       "    <tr>\n",
       "      <td>...</td>\n",
       "      <td>...</td>\n",
       "      <td>...</td>\n",
       "      <td>...</td>\n",
       "      <td>...</td>\n",
       "      <td>...</td>\n",
       "      <td>...</td>\n",
       "      <td>...</td>\n",
       "      <td>...</td>\n",
       "      <td>...</td>\n",
       "    </tr>\n",
       "    <tr>\n",
       "      <td>190</td>\n",
       "      <td>1</td>\n",
       "      <td>96</td>\n",
       "      <td>1</td>\n",
       "      <td>3</td>\n",
       "      <td>60</td>\n",
       "      <td>1</td>\n",
       "      <td>1.272485</td>\n",
       "      <td>56</td>\n",
       "      <td>87</td>\n",
       "    </tr>\n",
       "    <tr>\n",
       "      <td>192</td>\n",
       "      <td>1</td>\n",
       "      <td>97</td>\n",
       "      <td>1</td>\n",
       "      <td>2</td>\n",
       "      <td>30</td>\n",
       "      <td>1</td>\n",
       "      <td>1.465173</td>\n",
       "      <td>57</td>\n",
       "      <td>88</td>\n",
       "    </tr>\n",
       "    <tr>\n",
       "      <td>194</td>\n",
       "      <td>1</td>\n",
       "      <td>98</td>\n",
       "      <td>1</td>\n",
       "      <td>3</td>\n",
       "      <td>60</td>\n",
       "      <td>1</td>\n",
       "      <td>1.440924</td>\n",
       "      <td>58</td>\n",
       "      <td>89</td>\n",
       "    </tr>\n",
       "    <tr>\n",
       "      <td>196</td>\n",
       "      <td>1</td>\n",
       "      <td>99</td>\n",
       "      <td>1</td>\n",
       "      <td>3</td>\n",
       "      <td>60</td>\n",
       "      <td>1</td>\n",
       "      <td>1.370627</td>\n",
       "      <td>59</td>\n",
       "      <td>90</td>\n",
       "    </tr>\n",
       "    <tr>\n",
       "      <td>198</td>\n",
       "      <td>1</td>\n",
       "      <td>100</td>\n",
       "      <td>1</td>\n",
       "      <td>1</td>\n",
       "      <td>90</td>\n",
       "      <td>1</td>\n",
       "      <td>2.248848</td>\n",
       "      <td>60</td>\n",
       "      <td>91</td>\n",
       "    </tr>\n",
       "  </tbody>\n",
       "</table>\n",
       "<p>100 rows × 9 columns</p>\n",
       "</div>"
      ],
      "text/plain": [
       "     game number  trial  player  arm  probability  reward       time  \\\n",
       "0              1      1       1    2           30       1  11.220698   \n",
       "2              1      2       1    3           60       1   5.362458   \n",
       "4              1      3       1    2           30       0   3.489552   \n",
       "6              1      4       1    3           60       0   3.210886   \n",
       "8              1      5       1    3           60       1   2.904784   \n",
       "..           ...    ...     ...  ...          ...     ...        ...   \n",
       "190            1     96       1    3           60       1   1.272485   \n",
       "192            1     97       1    2           30       1   1.465173   \n",
       "194            1     98       1    3           60       1   1.440924   \n",
       "196            1     99       1    3           60       1   1.370627   \n",
       "198            1    100       1    1           90       1   2.248848   \n",
       "\n",
       "     P1 score  P2 score  \n",
       "0           1         0  \n",
       "2           2         1  \n",
       "4           2         2  \n",
       "6           2         3  \n",
       "8           3         4  \n",
       "..        ...       ...  \n",
       "190        56        87  \n",
       "192        57        88  \n",
       "194        58        89  \n",
       "196        59        90  \n",
       "198        60        91  \n",
       "\n",
       "[100 rows x 9 columns]"
      ]
     },
     "execution_count": 36,
     "metadata": {},
     "output_type": "execute_result"
    }
   ],
   "source": [
    "s01_p1_g1"
   ]
  },
  {
   "cell_type": "code",
   "execution_count": 37,
   "metadata": {},
   "outputs": [],
   "source": [
    "'''Here we count the number of times that each hole was selected by each subject in each game by calling value_counts'''\n",
    "\n",
    "\n",
    "s01_p1_g1_count = s01_p1_g1['probability'].value_counts(sort=False)\n",
    "s01_p1_g2_count = s01_p1_g2['probability'].value_counts(sort=False)\n",
    "s03_p1_g1_count = s03_p1_g1['probability'].value_counts(sort=False)\n",
    "s03_p1_g2_count = s03_p1_g2['probability'].value_counts(sort=False)\n",
    "s05_p1_g1_count = s05_p1_g1['probability'].value_counts(sort=False)\n",
    "s05_p1_g2_count = s05_p1_g2['probability'].value_counts(sort=False)\n",
    "s06_p1_g1_count = s06_p1_g1['probability'].value_counts(sort=False)\n",
    "s06_p1_g2_count = s06_p1_g2['probability'].value_counts(sort=False)\n",
    "s07_p1_g1_count = s07_p1_g1['probability'].value_counts(sort=False)\n",
    "s07_p1_g2_count = s07_p1_g2['probability'].value_counts(sort=False)\n",
    "s08_p1_g1_count = s08_p1_g1['probability'].value_counts(sort=False)\n",
    "s08_p1_g2_count = s08_p1_g2['probability'].value_counts(sort=False)\n",
    "s09_p1_g1_count = s09_p1_g1['probability'].value_counts(sort=False)\n",
    "s09_p1_g2_count = s09_p1_g2['probability'].value_counts(sort=False)\n",
    "s11_p1_g1_count = s11_p1_g1['probability'].value_counts(sort=False)\n",
    "s11_p1_g2_count = s11_p1_g2['probability'].value_counts(sort=False)\n",
    "s12_p1_g1_count = s12_p1_g1['probability'].value_counts(sort=False)\n",
    "s12_p1_g2_count = s12_p1_g2['probability'].value_counts(sort=False)\n",
    "s14_p1_g1_count = s14_p1_g1['probability'].value_counts(sort=False)\n",
    "s14_p1_g2_count = s14_p1_g2['probability'].value_counts(sort=False)\n",
    "s15_p1_g1_count = s15_p1_g1['probability'].value_counts(sort=False)\n",
    "s15_p1_g2_count = s15_p1_g2['probability'].value_counts(sort=False)\n",
    "s16_p1_g1_count = s16_p1_g1['probability'].value_counts(sort=False)\n",
    "s16_p1_g2_count = s16_p1_g2['probability'].value_counts(sort=False)\n",
    "s17_p1_g1_count = s17_p1_g1['probability'].value_counts(sort=False)\n",
    "s17_p1_g2_count = s17_p1_g2['probability'].value_counts(sort=False)\n",
    "s19_p1_g1_count = s19_p1_g1['probability'].value_counts(sort=False)\n",
    "s19_p1_g2_count = s19_p1_g2['probability'].value_counts(sort=False)\n",
    "s20_p1_g1_count = s20_p1_g1['probability'].value_counts(sort=False)\n",
    "s20_p1_g2_count = s20_p1_g2['probability'].value_counts(sort=False)"
   ]
  },
  {
   "cell_type": "code",
   "execution_count": 38,
   "metadata": {},
   "outputs": [
    {
     "data": {
      "text/plain": [
       "30    38\n",
       "60    43\n",
       "90    19\n",
       "Name: probability, dtype: int64"
      ]
     },
     "execution_count": 38,
     "metadata": {},
     "output_type": "execute_result"
    }
   ],
   "source": [
    "s01_p1_g1_count"
   ]
  },
  {
   "cell_type": "code",
   "execution_count": 39,
   "metadata": {},
   "outputs": [
    {
     "data": {
      "text/plain": [
       "30    38\n",
       "60    16\n",
       "90    46\n",
       "Name: probability, dtype: int64"
      ]
     },
     "execution_count": 39,
     "metadata": {},
     "output_type": "execute_result"
    }
   ],
   "source": [
    "s01_p1_g2_count"
   ]
  },
  {
   "cell_type": "code",
   "execution_count": 40,
   "metadata": {},
   "outputs": [
    {
     "data": {
      "text/html": [
       "<div>\n",
       "<style scoped>\n",
       "    .dataframe tbody tr th:only-of-type {\n",
       "        vertical-align: middle;\n",
       "    }\n",
       "\n",
       "    .dataframe tbody tr th {\n",
       "        vertical-align: top;\n",
       "    }\n",
       "\n",
       "    .dataframe thead th {\n",
       "        text-align: right;\n",
       "    }\n",
       "</style>\n",
       "<table border=\"1\" class=\"dataframe\">\n",
       "  <thead>\n",
       "    <tr style=\"text-align: right;\">\n",
       "      <th></th>\n",
       "      <th>30.0</th>\n",
       "      <th>60.0</th>\n",
       "      <th>90.0</th>\n",
       "    </tr>\n",
       "  </thead>\n",
       "  <tbody>\n",
       "    <tr>\n",
       "      <td>s01_p1_g1_count</td>\n",
       "      <td>38</td>\n",
       "      <td>43</td>\n",
       "      <td>19</td>\n",
       "    </tr>\n",
       "    <tr>\n",
       "      <td>s03_p1_g1_count</td>\n",
       "      <td>28</td>\n",
       "      <td>38</td>\n",
       "      <td>34</td>\n",
       "    </tr>\n",
       "    <tr>\n",
       "      <td>s05_p1_g1_count</td>\n",
       "      <td>11</td>\n",
       "      <td>35</td>\n",
       "      <td>54</td>\n",
       "    </tr>\n",
       "    <tr>\n",
       "      <td>s06_p1_g1_count</td>\n",
       "      <td>11</td>\n",
       "      <td>13</td>\n",
       "      <td>76</td>\n",
       "    </tr>\n",
       "    <tr>\n",
       "      <td>s07_p1_g1_count</td>\n",
       "      <td>25</td>\n",
       "      <td>29</td>\n",
       "      <td>46</td>\n",
       "    </tr>\n",
       "    <tr>\n",
       "      <td>s08_p1_g1_count</td>\n",
       "      <td>2</td>\n",
       "      <td>6</td>\n",
       "      <td>92</td>\n",
       "    </tr>\n",
       "    <tr>\n",
       "      <td>s09_p1_g1_count</td>\n",
       "      <td>17</td>\n",
       "      <td>38</td>\n",
       "      <td>45</td>\n",
       "    </tr>\n",
       "    <tr>\n",
       "      <td>s11_p1_g1_count</td>\n",
       "      <td>30</td>\n",
       "      <td>34</td>\n",
       "      <td>36</td>\n",
       "    </tr>\n",
       "    <tr>\n",
       "      <td>s12_p1_g1_count</td>\n",
       "      <td>7</td>\n",
       "      <td>28</td>\n",
       "      <td>65</td>\n",
       "    </tr>\n",
       "    <tr>\n",
       "      <td>s14_p1_g1_count</td>\n",
       "      <td>2</td>\n",
       "      <td>1</td>\n",
       "      <td>97</td>\n",
       "    </tr>\n",
       "    <tr>\n",
       "      <td>s15_p1_g1_count</td>\n",
       "      <td>10</td>\n",
       "      <td>12</td>\n",
       "      <td>78</td>\n",
       "    </tr>\n",
       "    <tr>\n",
       "      <td>s16_p1_g1_count</td>\n",
       "      <td>25</td>\n",
       "      <td>39</td>\n",
       "      <td>36</td>\n",
       "    </tr>\n",
       "    <tr>\n",
       "      <td>s17_p1_g1_count</td>\n",
       "      <td>2</td>\n",
       "      <td>5</td>\n",
       "      <td>93</td>\n",
       "    </tr>\n",
       "    <tr>\n",
       "      <td>s19_p1_g1_count</td>\n",
       "      <td>20</td>\n",
       "      <td>23</td>\n",
       "      <td>57</td>\n",
       "    </tr>\n",
       "    <tr>\n",
       "      <td>s20_p1_g1_count</td>\n",
       "      <td>21</td>\n",
       "      <td>49</td>\n",
       "      <td>31</td>\n",
       "    </tr>\n",
       "  </tbody>\n",
       "</table>\n",
       "</div>"
      ],
      "text/plain": [
       "                 30.0  60.0  90.0\n",
       "s01_p1_g1_count    38    43    19\n",
       "s03_p1_g1_count    28    38    34\n",
       "s05_p1_g1_count    11    35    54\n",
       "s06_p1_g1_count    11    13    76\n",
       "s07_p1_g1_count    25    29    46\n",
       "s08_p1_g1_count     2     6    92\n",
       "s09_p1_g1_count    17    38    45\n",
       "s11_p1_g1_count    30    34    36\n",
       "s12_p1_g1_count     7    28    65\n",
       "s14_p1_g1_count     2     1    97\n",
       "s15_p1_g1_count    10    12    78\n",
       "s16_p1_g1_count    25    39    36\n",
       "s17_p1_g1_count     2     5    93\n",
       "s19_p1_g1_count    20    23    57\n",
       "s20_p1_g1_count    21    49    31"
      ]
     },
     "execution_count": 40,
     "metadata": {},
     "output_type": "execute_result"
    }
   ],
   "source": [
    "'''Here we create dataframes with the counts for game 1.'''\n",
    "\n",
    "s_g1_counts = pd.DataFrame([s01_p1_g1_count, s03_p1_g1_count, s05_p1_g1_count, s06_p1_g1_count, s07_p1_g1_count, \n",
    "                s08_p1_g1_count, s09_p1_g1_count, s11_p1_g1_count, s12_p1_g1_count,s14_p1_g1_count, s15_p1_g1_count, s16_p1_g1_count,\n",
    "                    s17_p1_g1_count, s19_p1_g1_count, s20_p1_g1_count],\n",
    "                          index=['s01_p1_g1_count', 's03_p1_g1_count', \n",
    "                            's05_p1_g1_count', 's06_p1_g1_count', 's07_p1_g1_count', 's08_p1_g1_count', \n",
    "                                 's09_p1_g1_count', 's11_p1_g1_count', 's12_p1_g1_count','s14_p1_g1_count', 's15_p1_g1_count', \n",
    "                                 's16_p1_g1_count','s17_p1_g1_count', 's19_p1_g1_count', 's20_p1_g1_count'])\n",
    "\n",
    "\n",
    "\n",
    "#How to prevent NaN: df = df.fillna(0). This makes the value 0 if a hole was never selected by a subject.\n",
    "s_g1_counts = s_g1_counts.fillna(0)\n",
    "\n",
    "#print\n",
    "s_g1_counts"
   ]
  },
  {
   "cell_type": "code",
   "execution_count": 41,
   "metadata": {},
   "outputs": [
    {
     "data": {
      "image/png": "[encoded data removed]",
      "text/plain": [
       "<Figure size 432x288 with 1 Axes>"
      ]
     },
     "metadata": {
      "needs_background": "light"
     },
     "output_type": "display_data"
    }
   ],
   "source": [
    "#Here we plot the value counts\n",
    "\n",
    "s_g1_counts.sum(axis=1)\n",
    "\n",
    "\n",
    "s_g1_counts_bar = s_g1_counts.plot.bar()\n",
    "\n",
    "s_g1_counts_bar.axes.set_title(\"SMAB3 Control Choice Distributions in Game 1\",\n",
    "                    fontsize=16)\n",
    "\n",
    "# save as jpeg\n",
    "s_g1_counts_bar.figure.savefig(\"s_g1_counts_bar.jpg\",\n",
    "                    format='jpeg')"
   ]
  },
  {
   "cell_type": "code",
   "execution_count": 42,
   "metadata": {},
   "outputs": [
    {
     "data": {
      "image/png": "[encoded data removed]",
      "text/plain": [
       "<Figure size 432x288 with 1 Axes>"
      ]
     },
     "metadata": {
      "needs_background": "light"
     },
     "output_type": "display_data"
    }
   ],
   "source": [
    "s_g1_counts_box = sns.boxplot( \n",
    "                 data=s_g1_counts, \n",
    "                 width=0.5,\n",
    "                 palette=\"pastel\")\n",
    "s_g1_counts_box.axes.set_title(\"SMAB3 Control Choice Distributions in Game 1\",\n",
    "                    fontsize=16)\n",
    "\n",
    "plot_file_name=\"s_g1_counts_box.jpg\"\n",
    " \n",
    "plt.ylim(0, 100)\n",
    "s_g1_counts_box.axes.set(xlabel='Arm',ylabel='Frequency')\n",
    "\n",
    "# save as jpeg\n",
    "s_g1_counts_box.figure.savefig(plot_file_name,\n",
    "                    format='jpeg')"
   ]
  },
  {
   "cell_type": "code",
   "execution_count": 43,
   "metadata": {},
   "outputs": [],
   "source": [
    "'''Here we get the mean and standard deviation of the number of selections of each hole where low is the 0th column and the 30% hole, \n",
    "med is the 1st column and the 60% hole, and high is the 2nd column and the 90% hole.'''\n",
    "\n",
    "\n",
    "s_g1_low = np.mean(s_g1_counts.iloc[:,0])\n",
    "s_g1_med = np.mean(s_g1_counts.iloc[:,1])\n",
    "s_g1_high = np.mean(s_g1_counts.iloc[:,2])\n",
    "\n",
    "\n",
    "s_g1_low_std = np.std(s_g1_counts.iloc[:,0])\n",
    "s_g1_med_std = np.std(s_g1_counts.iloc[:,1])\n",
    "s_g1_high_std = np.std(s_g1_counts.iloc[:,2])"
   ]
  },
  {
   "cell_type": "code",
   "execution_count": 44,
   "metadata": {},
   "outputs": [
    {
     "data": {
      "text/plain": [
       "(16.6, 26.2, 57.266666666666666)"
      ]
     },
     "execution_count": 44,
     "metadata": {},
     "output_type": "execute_result"
    }
   ],
   "source": [
    "s_g1_low, s_g1_med, s_g1_high"
   ]
  },
  {
   "cell_type": "code",
   "execution_count": 45,
   "metadata": {},
   "outputs": [
    {
     "data": {
      "text/plain": [
       "(10.886076734373438, 14.770240350109406, 24.208722027860585)"
      ]
     },
     "execution_count": 45,
     "metadata": {},
     "output_type": "execute_result"
    }
   ],
   "source": [
    " s_g1_low_std, s_g1_med_std, s_g1_high_std"
   ]
  },
  {
   "cell_type": "code",
   "execution_count": 46,
   "metadata": {},
   "outputs": [
    {
     "data": {
      "text/plain": [
       "s01_p1_g2_count    100.0\n",
       "s03_p1_g2_count    100.0\n",
       "s05_p1_g2_count    100.0\n",
       "s06_p1_g2_count    100.0\n",
       "s07_p1_g2_count    100.0\n",
       "s08_p1_g2_count    100.0\n",
       "s09_p1_g2_count    100.0\n",
       "dtype: float64"
      ]
     },
     "execution_count": 46,
     "metadata": {},
     "output_type": "execute_result"
    }
   ],
   "source": [
    "'''Here we create dataframes with the counts for game 2.'''\n",
    "\n",
    "\n",
    "s_g2_s_counts = pd.DataFrame([s01_p1_g2_count, s03_p1_g2_count, \n",
    "                            s05_p1_g2_count, s06_p1_g2_count, s07_p1_g2_count, s08_p1_g2_count, s09_p1_g2_count],\n",
    "                             index= ['s01_p1_g2_count', 's03_p1_g2_count', 's05_p1_g2_count', 's06_p1_g2_count',\n",
    "                                 's07_p1_g2_count', 's08_p1_g2_count', 's09_p1_g2_count'])\n",
    "\n",
    "\n",
    "#How to prevent NaN: df = df.fillna(0)\n",
    "s_g2_s_counts = s_g2_s_counts.fillna(0)\n",
    "\n",
    "#print\n",
    "s_g2_s_counts\n",
    "\n",
    "s_g2_s_counts.sum(axis=1)"
   ]
  },
  {
   "cell_type": "code",
   "execution_count": 47,
   "metadata": {},
   "outputs": [
    {
     "data": {
      "text/plain": [
       "s11_p1_g2_count    100.0\n",
       "s12_p1_g2_count    100.0\n",
       "s14_p1_g2_count    100.0\n",
       "s15_p1_g2_count    100.0\n",
       "s16_p1_g2_count    100.0\n",
       "s17_p1_g2_count    100.0\n",
       "s19_p1_g2_count    100.0\n",
       "s20_p1_g2_count    101.0\n",
       "dtype: float64"
      ]
     },
     "execution_count": 47,
     "metadata": {},
     "output_type": "execute_result"
    }
   ],
   "source": [
    "s_g2_d_counts = pd.DataFrame([s11_p1_g2_count, s12_p1_g2_count, s14_p1_g2_count, s15_p1_g2_count, s16_p1_g2_count,\n",
    "                    s17_p1_g2_count, s19_p1_g2_count, s20_p1_g2_count],\n",
    "index= ['s11_p1_g2_count', 's12_p1_g2_count', 's14_p1_g2_count', 's15_p1_g2_count',\n",
    "                                 's16_p1_g2_count', 's17_p1_g2_count', 's19_p1_g2_count', 's20_p1_g2_count'])\n",
    "\n",
    "\n",
    "#How to prevent NaN: df = df.fillna(0)\n",
    "s_g2_d_counts = s_g2_d_counts.fillna(0)\n",
    "\n",
    "\n",
    "s_g2_d_counts.sum(axis=1)"
   ]
  },
  {
   "cell_type": "code",
   "execution_count": 48,
   "metadata": {},
   "outputs": [
    {
     "data": {
      "text/html": [
       "<div>\n",
       "<style scoped>\n",
       "    .dataframe tbody tr th:only-of-type {\n",
       "        vertical-align: middle;\n",
       "    }\n",
       "\n",
       "    .dataframe tbody tr th {\n",
       "        vertical-align: top;\n",
       "    }\n",
       "\n",
       "    .dataframe thead th {\n",
       "        text-align: right;\n",
       "    }\n",
       "</style>\n",
       "<table border=\"1\" class=\"dataframe\">\n",
       "  <thead>\n",
       "    <tr style=\"text-align: right;\">\n",
       "      <th></th>\n",
       "      <th>30.0</th>\n",
       "      <th>60.0</th>\n",
       "      <th>90.0</th>\n",
       "    </tr>\n",
       "  </thead>\n",
       "  <tbody>\n",
       "    <tr>\n",
       "      <td>s11_p1_g2_count</td>\n",
       "      <td>28.0</td>\n",
       "      <td>30.0</td>\n",
       "      <td>42.0</td>\n",
       "    </tr>\n",
       "    <tr>\n",
       "      <td>s12_p1_g2_count</td>\n",
       "      <td>7.0</td>\n",
       "      <td>5.0</td>\n",
       "      <td>88.0</td>\n",
       "    </tr>\n",
       "    <tr>\n",
       "      <td>s14_p1_g2_count</td>\n",
       "      <td>2.0</td>\n",
       "      <td>0.0</td>\n",
       "      <td>98.0</td>\n",
       "    </tr>\n",
       "    <tr>\n",
       "      <td>s15_p1_g2_count</td>\n",
       "      <td>3.0</td>\n",
       "      <td>7.0</td>\n",
       "      <td>90.0</td>\n",
       "    </tr>\n",
       "    <tr>\n",
       "      <td>s16_p1_g2_count</td>\n",
       "      <td>29.0</td>\n",
       "      <td>44.0</td>\n",
       "      <td>27.0</td>\n",
       "    </tr>\n",
       "    <tr>\n",
       "      <td>s17_p1_g2_count</td>\n",
       "      <td>0.0</td>\n",
       "      <td>22.0</td>\n",
       "      <td>78.0</td>\n",
       "    </tr>\n",
       "    <tr>\n",
       "      <td>s19_p1_g2_count</td>\n",
       "      <td>12.0</td>\n",
       "      <td>9.0</td>\n",
       "      <td>79.0</td>\n",
       "    </tr>\n",
       "    <tr>\n",
       "      <td>s20_p1_g2_count</td>\n",
       "      <td>10.0</td>\n",
       "      <td>54.0</td>\n",
       "      <td>37.0</td>\n",
       "    </tr>\n",
       "  </tbody>\n",
       "</table>\n",
       "</div>"
      ],
      "text/plain": [
       "                 30.0  60.0  90.0\n",
       "s11_p1_g2_count  28.0  30.0  42.0\n",
       "s12_p1_g2_count   7.0   5.0  88.0\n",
       "s14_p1_g2_count   2.0   0.0  98.0\n",
       "s15_p1_g2_count   3.0   7.0  90.0\n",
       "s16_p1_g2_count  29.0  44.0  27.0\n",
       "s17_p1_g2_count   0.0  22.0  78.0\n",
       "s19_p1_g2_count  12.0   9.0  79.0\n",
       "s20_p1_g2_count  10.0  54.0  37.0"
      ]
     },
     "execution_count": 48,
     "metadata": {},
     "output_type": "execute_result"
    }
   ],
   "source": [
    "s_g2_d_counts"
   ]
  },
  {
   "cell_type": "code",
   "execution_count": 49,
   "metadata": {},
   "outputs": [
    {
     "data": {
      "image/png": "[encoded data removed]",
      "text/plain": [
       "<Figure size 432x288 with 1 Axes>"
      ]
     },
     "metadata": {
      "needs_background": "light"
     },
     "output_type": "display_data"
    }
   ],
   "source": [
    "'''Here we plot the counts in game 2.'''\n",
    "\n",
    "s_g2_s_counts_bar = s_g2_s_counts.plot.bar()\n",
    "\n",
    "# save as jpeg\n",
    "s_g2_s_counts_bar.figure.savefig(plot_file_name,\n",
    "                    format='jpeg',\n",
    "                    dpi=100)"
   ]
  },
  {
   "cell_type": "code",
   "execution_count": 50,
   "metadata": {},
   "outputs": [
    {
     "data": {
      "image/png": "[encoded data removed]",
      "text/plain": [
       "<Figure size 432x288 with 1 Axes>"
      ]
     },
     "metadata": {
      "needs_background": "light"
     },
     "output_type": "display_data"
    }
   ],
   "source": [
    "s_g2_s_counts_box = sns.boxplot( \n",
    "                 data=s_g2_s_counts, \n",
    "                 width=0.5,\n",
    "                 palette=\"pastel\")\n",
    "s_g2_s_counts_box.axes.set_title(\"SMAB3 Control Choice Distributions in Game 2-Same\",\n",
    "                    fontsize=16)\n",
    "\n",
    "plot_file_name=\"s_g2_s_counts_box.jpg\"\n",
    "\n",
    "plt.ylim(0, 100)\n",
    "s_g2_s_counts_box.axes.set(xlabel='Arm',ylabel='Frequency')\n",
    "\n",
    "# save as jpeg\n",
    "s_g2_s_counts_box.figure.savefig(plot_file_name,\n",
    "                    format='jpeg')"
   ]
  },
  {
   "cell_type": "code",
   "execution_count": 51,
   "metadata": {},
   "outputs": [
    {
     "data": {
      "image/png": "[encoded data removed]",
      "text/plain": [
       "<Figure size 432x288 with 1 Axes>"
      ]
     },
     "metadata": {
      "needs_background": "light"
     },
     "output_type": "display_data"
    }
   ],
   "source": [
    "s_g2_d_counts_box = sns.boxplot( \n",
    "                 data=s_g2_d_counts, \n",
    "                 width=0.5,\n",
    "                 palette=\"pastel\")\n",
    "s_g2_d_counts_box.axes.set_title(\"SMAB3 Control Choice Distributions in Game 2-Different\",\n",
    "                    fontsize=16)\n",
    "\n",
    "plot_file_name=\"s_g2_d_counts_box.jpg\"\n",
    "\n",
    "plt.ylim(0, 100)\n",
    "s_g2_d_counts_box.axes.set(xlabel='Arm',ylabel='Frequency')\n",
    "\n",
    "# save as jpeg\n",
    "s_g2_d_counts_box.figure.savefig(plot_file_name,\n",
    "                    format='jpeg')"
   ]
  },
  {
   "cell_type": "code",
   "execution_count": 52,
   "metadata": {},
   "outputs": [],
   "source": [
    "'''Here we get the mean and standard deviation of the number of times participants chose each hole.'''\n",
    "\n",
    "\n",
    "s_g2_s_low = np.mean(s_g2_s_counts.iloc[:,0])\n",
    "s_g2_s_med = np.mean(s_g2_s_counts.iloc[:,1])\n",
    "s_g2_s_high = np.mean(s_g2_s_counts.iloc[:,2])\n"
   ]
  },
  {
   "cell_type": "code",
   "execution_count": 53,
   "metadata": {},
   "outputs": [],
   "source": [
    "'''Here we get the mean and standard deviation of the number of times participants chose each hole.'''\n",
    "\n",
    "\n",
    "s_g2_d_low = np.mean(s_g2_d_counts.iloc[:,0])\n",
    "s_g2_d_med = np.mean(s_g2_d_counts.iloc[:,1])\n",
    "s_g2_d_high = np.mean(s_g2_d_counts.iloc[:,2])\n"
   ]
  },
  {
   "cell_type": "code",
   "execution_count": 54,
   "metadata": {},
   "outputs": [],
   "source": [
    "s_g2_s_low_std = np.std(s_g2_s_counts.iloc[:,0])\n",
    "s_g2_s_med_std = np.std(s_g2_s_counts.iloc[:,1])\n",
    "s_g2_s_high_std = np.std(s_g2_s_counts.iloc[:,2])"
   ]
  },
  {
   "cell_type": "code",
   "execution_count": 55,
   "metadata": {},
   "outputs": [],
   "source": [
    "s_g2_d_low_std = np.std(s_g2_d_counts.iloc[:,0])\n",
    "s_g2_d_med_std = np.std(s_g2_d_counts.iloc[:,1])\n",
    "s_g2_d_high_std = np.std(s_g2_d_counts.iloc[:,2])"
   ]
  },
  {
   "cell_type": "code",
   "execution_count": 56,
   "metadata": {},
   "outputs": [
    {
     "data": {
      "text/plain": [
       "'Here we place the value counts for each hole for each game into separate numy arrays and compare them statistically.\\n\\n\\nimport researchpy as rp\\n\\n\\ns_90_1 = np.array(s_g1_counts.iloc[:,2])\\ns_90_2 = np.array(s_g2_counts.iloc[:,2])\\n\\ns_60_1 = np.array(s_g1_counts.iloc[:,1])\\ns_60_2 = np.array(s_g2_counts.iloc[:,1])\\n\\n\\ns_30_1 = np.array(s_g1_counts.iloc[:,0])\\ns_30_2 = np.array(s_g2_counts.iloc[:,0])\\n\\ns_90_p = sp.stats.ttest_rel(s_90_1,s_90_2)\\ns_60_p = sp.stats.ttest_rel(s_60_1,s_60_2)\\ns_30_p = sp.stats.ttest_rel(s_30_1,s_30_2)'"
      ]
     },
     "execution_count": 56,
     "metadata": {},
     "output_type": "execute_result"
    }
   ],
   "source": [
    "'''Here we place the value counts for each hole for each game into separate numy arrays and compare them statistically.\n",
    "\n",
    "\n",
    "import researchpy as rp\n",
    "\n",
    "\n",
    "s_90_1 = np.array(s_g1_counts.iloc[:,2])\n",
    "s_90_2 = np.array(s_g2_counts.iloc[:,2])\n",
    "\n",
    "s_60_1 = np.array(s_g1_counts.iloc[:,1])\n",
    "s_60_2 = np.array(s_g2_counts.iloc[:,1])\n",
    "\n",
    "\n",
    "s_30_1 = np.array(s_g1_counts.iloc[:,0])\n",
    "s_30_2 = np.array(s_g2_counts.iloc[:,0])\n",
    "\n",
    "s_90_p = sp.stats.ttest_rel(s_90_1,s_90_2)\n",
    "s_60_p = sp.stats.ttest_rel(s_60_1,s_60_2)\n",
    "s_30_p = sp.stats.ttest_rel(s_30_1,s_30_2)'''"
   ]
  },
  {
   "cell_type": "code",
   "execution_count": 57,
   "metadata": {},
   "outputs": [],
   "source": [
    "s01_p1_g1.reset_index(drop=True, inplace=True)"
   ]
  },
  {
   "cell_type": "markdown",
   "metadata": {},
   "source": [
    "# Reaction Time Analyses"
   ]
  },
  {
   "cell_type": "code",
   "execution_count": 58,
   "metadata": {},
   "outputs": [],
   "source": [
    "'Here we get the reaction times'\n",
    "time_s_1 = pd.DataFrame(columns = ['session','post win','post loss'])\n",
    "time_s_2 = pd.DataFrame(columns = ['session','post win','post loss'])"
   ]
  },
  {
   "cell_type": "code",
   "execution_count": 59,
   "metadata": {},
   "outputs": [],
   "source": [
    "time_s_1 = reaction_time(s01_p1_g1, time_s_1)"
   ]
  },
  {
   "cell_type": "code",
   "execution_count": 60,
   "metadata": {},
   "outputs": [],
   "source": [
    "time_s_1 = reaction_time(s03_p1_g1, time_s_1)\n",
    "time_s_1 = reaction_time(s05_p1_g1, time_s_1)\n",
    "time_s_1 = reaction_time(s06_p1_g1, time_s_1)\n",
    "time_s_1 = reaction_time(s07_p1_g1, time_s_1)\n",
    "time_s_1 = reaction_time(s08_p1_g1, time_s_1)\n",
    "time_s_1 = reaction_time(s09_p1_g1, time_s_1)\n",
    "time_s_1 = reaction_time(s11_p1_g1, time_s_1)\n",
    "time_s_1 = reaction_time(s12_p1_g1, time_s_1)\n",
    "time_s_1 = reaction_time(s15_p1_g1, time_s_1)\n",
    "time_s_1 = reaction_time(s16_p1_g1, time_s_1)\n",
    "time_s_1 = reaction_time(s17_p1_g1, time_s_1)\n",
    "time_s_1 = reaction_time(s19_p1_g1, time_s_1)\n",
    "#time_s_1 = reaction_time(s20_p1_g1, time_s_1)"
   ]
  },
  {
   "cell_type": "code",
   "execution_count": 61,
   "metadata": {},
   "outputs": [],
   "source": [
    "time_s_2 = reaction_time(s03_p1_g2, time_s_2)\n",
    "time_s_2 = reaction_time(s05_p1_g2, time_s_2)\n",
    "time_s_2 = reaction_time(s06_p1_g2, time_s_2)\n",
    "time_s_2 = reaction_time(s07_p1_g2, time_s_2)\n",
    "time_s_2 = reaction_time(s08_p1_g2, time_s_2)\n",
    "time_s_2 = reaction_time(s09_p1_g2, time_s_2)\n",
    "time_s_2 = reaction_time(s11_p1_g2, time_s_2)\n",
    "time_s_2 = reaction_time(s12_p1_g2, time_s_2)\n",
    "time_s_2 = reaction_time(s15_p1_g2, time_s_2)\n",
    "time_s_2 = reaction_time(s16_p1_g2, time_s_2)\n",
    "time_s_2 = reaction_time(s17_p1_g2, time_s_2)\n",
    "time_s_2 = reaction_time(s19_p1_g2, time_s_2)\n",
    "#time_s_2 = reaction_time(s20_p1_g2, time_s_2)"
   ]
  },
  {
   "cell_type": "code",
   "execution_count": 62,
   "metadata": {},
   "outputs": [
    {
     "data": {
      "text/plain": [
       "Ttest_relResult(statistic=-0.22232713395530926, pvalue=0.8277981973516864)"
      ]
     },
     "execution_count": 62,
     "metadata": {},
     "output_type": "execute_result"
    }
   ],
   "source": [
    "sp.stats.ttest_rel(time_s_1['post win'], time_s_1['post loss'])"
   ]
  },
  {
   "cell_type": "code",
   "execution_count": 63,
   "metadata": {},
   "outputs": [
    {
     "data": {
      "text/plain": [
       "Ttest_relResult(statistic=1.6133551404642006, pvalue=0.1349630881166298)"
      ]
     },
     "execution_count": 63,
     "metadata": {},
     "output_type": "execute_result"
    }
   ],
   "source": [
    "sp.stats.ttest_rel(time_s_2['post win'], time_s_2['post loss'])"
   ]
  },
  {
   "cell_type": "code",
   "execution_count": 64,
   "metadata": {},
   "outputs": [],
   "source": [
    "#sp.stats.ttest_rel(time_s_1['post loss'], time_s_2['post loss'])"
   ]
  },
  {
   "cell_type": "code",
   "execution_count": 65,
   "metadata": {},
   "outputs": [
    {
     "data": {
      "text/plain": [
       "11.22069836"
      ]
     },
     "execution_count": 65,
     "metadata": {},
     "output_type": "execute_result"
    }
   ],
   "source": [
    "s01_p1_g1.loc[0,'time']"
   ]
  },
  {
   "cell_type": "code",
   "execution_count": 66,
   "metadata": {},
   "outputs": [],
   "source": [
    "'''Here we get the average reaction times for each subject in games 1 and 2'''\n",
    "s01_p1_g1_t = s01_p1_g1['time'].mean()\n",
    "s01_p1_g2_t = s01_p1_g2['time'].mean()"
   ]
  },
  {
   "cell_type": "markdown",
   "metadata": {},
   "source": [
    "# SMAB4 Single Player Analysis"
   ]
  },
  {
   "cell_type": "code",
   "execution_count": 67,
   "metadata": {},
   "outputs": [
    {
     "data": {
      "text/html": [
       "<div>\n",
       "<style scoped>\n",
       "    .dataframe tbody tr th:only-of-type {\n",
       "        vertical-align: middle;\n",
       "    }\n",
       "\n",
       "    .dataframe tbody tr th {\n",
       "        vertical-align: top;\n",
       "    }\n",
       "\n",
       "    .dataframe thead th {\n",
       "        text-align: right;\n",
       "    }\n",
       "</style>\n",
       "<table border=\"1\" class=\"dataframe\">\n",
       "  <thead>\n",
       "    <tr style=\"text-align: right;\">\n",
       "      <th></th>\n",
       "      <th>game number</th>\n",
       "      <th>trial</th>\n",
       "      <th>player</th>\n",
       "      <th>arm</th>\n",
       "      <th>probability</th>\n",
       "      <th>reward</th>\n",
       "      <th>time</th>\n",
       "      <th>P1 score</th>\n",
       "      <th>P2 score</th>\n",
       "    </tr>\n",
       "  </thead>\n",
       "  <tbody>\n",
       "    <tr>\n",
       "      <td>0</td>\n",
       "      <td>1</td>\n",
       "      <td>1</td>\n",
       "      <td>1</td>\n",
       "      <td>3</td>\n",
       "      <td>90</td>\n",
       "      <td>0</td>\n",
       "      <td>5.135425</td>\n",
       "      <td>0</td>\n",
       "      <td>0</td>\n",
       "    </tr>\n",
       "    <tr>\n",
       "      <td>1</td>\n",
       "      <td>1</td>\n",
       "      <td>2</td>\n",
       "      <td>2</td>\n",
       "      <td>3</td>\n",
       "      <td>30</td>\n",
       "      <td>0</td>\n",
       "      <td>2.545789</td>\n",
       "      <td>1</td>\n",
       "      <td>0</td>\n",
       "    </tr>\n",
       "    <tr>\n",
       "      <td>2</td>\n",
       "      <td>1</td>\n",
       "      <td>3</td>\n",
       "      <td>1</td>\n",
       "      <td>2</td>\n",
       "      <td>60</td>\n",
       "      <td>0</td>\n",
       "      <td>7.996138</td>\n",
       "      <td>1</td>\n",
       "      <td>0</td>\n",
       "    </tr>\n",
       "    <tr>\n",
       "      <td>3</td>\n",
       "      <td>1</td>\n",
       "      <td>4</td>\n",
       "      <td>2</td>\n",
       "      <td>3</td>\n",
       "      <td>30</td>\n",
       "      <td>0</td>\n",
       "      <td>3.018310</td>\n",
       "      <td>2</td>\n",
       "      <td>0</td>\n",
       "    </tr>\n",
       "    <tr>\n",
       "      <td>4</td>\n",
       "      <td>1</td>\n",
       "      <td>4</td>\n",
       "      <td>1</td>\n",
       "      <td>3</td>\n",
       "      <td>90</td>\n",
       "      <td>0</td>\n",
       "      <td>1.015114</td>\n",
       "      <td>2</td>\n",
       "      <td>0</td>\n",
       "    </tr>\n",
       "    <tr>\n",
       "      <td>...</td>\n",
       "      <td>...</td>\n",
       "      <td>...</td>\n",
       "      <td>...</td>\n",
       "      <td>...</td>\n",
       "      <td>...</td>\n",
       "      <td>...</td>\n",
       "      <td>...</td>\n",
       "      <td>...</td>\n",
       "      <td>...</td>\n",
       "    </tr>\n",
       "    <tr>\n",
       "      <td>395</td>\n",
       "      <td>2</td>\n",
       "      <td>196</td>\n",
       "      <td>2</td>\n",
       "      <td>3</td>\n",
       "      <td>30</td>\n",
       "      <td>0</td>\n",
       "      <td>3.947417</td>\n",
       "      <td>73</td>\n",
       "      <td>35</td>\n",
       "    </tr>\n",
       "    <tr>\n",
       "      <td>396</td>\n",
       "      <td>2</td>\n",
       "      <td>197</td>\n",
       "      <td>1</td>\n",
       "      <td>1</td>\n",
       "      <td>30</td>\n",
       "      <td>0</td>\n",
       "      <td>3.995810</td>\n",
       "      <td>73</td>\n",
       "      <td>35</td>\n",
       "    </tr>\n",
       "    <tr>\n",
       "      <td>397</td>\n",
       "      <td>2</td>\n",
       "      <td>198</td>\n",
       "      <td>2</td>\n",
       "      <td>3</td>\n",
       "      <td>30</td>\n",
       "      <td>0</td>\n",
       "      <td>2.867564</td>\n",
       "      <td>73</td>\n",
       "      <td>35</td>\n",
       "    </tr>\n",
       "    <tr>\n",
       "      <td>398</td>\n",
       "      <td>2</td>\n",
       "      <td>199</td>\n",
       "      <td>1</td>\n",
       "      <td>3</td>\n",
       "      <td>90</td>\n",
       "      <td>0</td>\n",
       "      <td>3.397195</td>\n",
       "      <td>73</td>\n",
       "      <td>35</td>\n",
       "    </tr>\n",
       "    <tr>\n",
       "      <td>399</td>\n",
       "      <td>2</td>\n",
       "      <td>200</td>\n",
       "      <td>2</td>\n",
       "      <td>3</td>\n",
       "      <td>30</td>\n",
       "      <td>0</td>\n",
       "      <td>2.818558</td>\n",
       "      <td>74</td>\n",
       "      <td>35</td>\n",
       "    </tr>\n",
       "  </tbody>\n",
       "</table>\n",
       "<p>400 rows × 9 columns</p>\n",
       "</div>"
      ],
      "text/plain": [
       "     game number  trial  player  arm  probability  reward      time  P1 score  \\\n",
       "0              1      1       1    3           90       0  5.135425         0   \n",
       "1              1      2       2    3           30       0  2.545789         1   \n",
       "2              1      3       1    2           60       0  7.996138         1   \n",
       "3              1      4       2    3           30       0  3.018310         2   \n",
       "4              1      4       1    3           90       0  1.015114         2   \n",
       "..           ...    ...     ...  ...          ...     ...       ...       ...   \n",
       "395            2    196       2    3           30       0  3.947417        73   \n",
       "396            2    197       1    1           30       0  3.995810        73   \n",
       "397            2    198       2    3           30       0  2.867564        73   \n",
       "398            2    199       1    3           90       0  3.397195        73   \n",
       "399            2    200       2    3           30       0  2.818558        74   \n",
       "\n",
       "     P2 score  \n",
       "0           0  \n",
       "1           0  \n",
       "2           0  \n",
       "3           0  \n",
       "4           0  \n",
       "..        ...  \n",
       "395        35  \n",
       "396        35  \n",
       "397        35  \n",
       "398        35  \n",
       "399        35  \n",
       "\n",
       "[400 rows x 9 columns]"
      ]
     },
     "execution_count": 67,
     "metadata": {},
     "output_type": "execute_result"
    }
   ],
   "source": [
    "'''Here we load the csv files into pandas dataframes by calling organize_trial_by_trial and get the scores in games\n",
    "1 and 2 by calling call_get_score.'''\n",
    "\n",
    "df = organize_trial_by_trial_hand_code2('data/c01_gamedata_handcode.csv')\n",
    "c01 = df\n",
    "#c02_p1_g1_score,c02_p1_g2_score,c02_score_diff, c02_p1_g1_50,c02_p1_g2_50 = call_get_score(c02, 'c')\n",
    "c01.head()\n",
    "\n",
    "df = organize_trial_by_trial('data/c02_gamedata.csv')\n",
    "c02 = df\n",
    "c02_p1_g1_score,c02_p1_g2_score,c02_score_diff, c02_p1_g1_50,c02_p1_g2_50 = call_get_score(c02, 'c')\n",
    "c02.head()\n",
    "\n",
    "#in the s files, p2 is the confederate\n",
    "df = organize_trial_by_trial('data/c03_gamedata.csv')\n",
    "c03 = df\n",
    "c03_p1_g1_score,c03_p1_g2_score,c03_score_diff, c03_p1_g1_50,c03_p1_g2_50 = call_get_score(c03, 'c')\n",
    "c03.head()\n",
    "\n",
    "df = organize_trial_by_trial_hand_code2('data/c04_gamedata_handcode.csv')\n",
    "c04 = df\n",
    "#c04_p1_g1_score,c04_p1_g2_score,c04_score_diff, c04_p1_g1_50,c04_p1_g2_50 = call_get_score(c04, 'c')\n",
    "c04.head()\n",
    "\n",
    "#in the s files, p2 is the confederate\n",
    "df = organize_trial_by_trial('data/c05_gamedata.csv')\n",
    "c05 = df\n",
    "c05_p1_g1_score,c05_p1_g2_score,c05_score_diff, c05_p1_g1_50,c05_p1_g2_50 = call_get_score(c05, 'c')\n",
    "c05.head()\n",
    "\n",
    "#in the s files, p2 is the confederate\n",
    "df = organize_trial_by_trial('data/c06_gamedata.csv')\n",
    "c06 = df\n",
    "c06_p1_g1_score,c06_p1_g2_score,c06_score_diff, c06_p1_g1_50,c06_p1_g2_50 = call_get_score(c06, 'c')\n",
    "c06.head()\n",
    "\n",
    "\n",
    "#in the s files, p2 is the confederate\n",
    "df = organize_trial_by_trial('data/c07_gamedata.csv')\n",
    "c07 = df\n",
    "c07_p1_g1_score,c07_p1_g2_score,c07_score_diff, c07_p1_g1_50,c07_p1_g2_50 = 78, 86, 8, 34, 42 \n",
    "#c07.head()\n",
    "\n",
    "#in the s files, p2 is the confederate\n",
    "df = organize_trial_by_trial('data/c09_gamedata.csv')\n",
    "c09 = df\n",
    "c09_p1_g1_score,c09_p1_g2_score,c09_score_diff, c09_p1_g1_50,c09_p1_g2_50 = call_get_score(c09, 'c')\n",
    "c09.head()\n",
    "\n",
    "#in the s files, p2 is the confederate\n",
    "df = organize_trial_by_trial('data/c10_gamedata.csv')\n",
    "c10 = df\n",
    "c10_p1_g1_score,c10_p1_g2_score,c10_score_diff, c10_p1_g1_50,c10_p1_g2_50 = call_get_score(c10, 'c')\n",
    "c10.head()\n",
    "\n",
    "#in the s files, p2 is the confederate\n",
    "df = organize_trial_by_trial('data/c11_gamedata.csv')\n",
    "c11 = df\n",
    "c11_p1_g1_score,c11_p1_g2_score,c11_score_diff, c11_p1_g1_50,c11_p1_g2_50 = call_get_score(c11, 'c')\n",
    "c11.head()\n",
    "\n",
    "pd.set_option('display.max_columns', None)  \n",
    "\n",
    "#in the s files, p2 is the confederate\n",
    "df = organize_trial_by_trial_300('data/c12_gamedata2.csv')\n",
    "c12 = df\n",
    "c12_p1_g1_score,c12_p1_g2_score,c12_score_diff, c12_p1_g1_50,c12_p1_g2_50 = call_get_score(c12, 'c')\n",
    "c12.head()\n",
    "\n",
    "#in the s files, p2 is the confederate\n",
    "df = organize_trial_by_trial_300('data/c13_gamedata2.csv')\n",
    "c13 = df\n",
    "c13_p1_g1_score,c13_p1_g2_score,c13_score_diff, c13_p1_g1_50,c13_p1_g2_50 = call_get_score(c13, 'c')\n",
    "c13.head()\n",
    "\n",
    "#in the s files, p2 is the confederate\n",
    "df = organize_trial_by_trial_300('data/c14_gamedata2.csv')\n",
    "c14 = df\n",
    "c14_p1_g1_score,c14_p1_g2_score,c14_score_diff, c14_p1_g1_50,c14_p1_g2_50 = call_get_score(c14, 'c')\n",
    "c14.head()\n",
    "\n",
    "#in the s files, p2 is the confederate\n",
    "df = organize_trial_by_trial_300('data/c15_gamedata.csv')\n",
    "c15 = df\n",
    "c15_p1_g1_score,c15_p1_g2_score,c15_score_diff, c15_p1_g1_50,c15_p1_g2_50 = call_get_score(c15, 'c')\n",
    "\n",
    "\n",
    "#in the s files, p2 is the confederate\n",
    "df = organize_trial_by_trial_300('data/c16_gamedata2.csv')\n",
    "c16 = df\n",
    "c16_p1_g1_score,c16_p1_g2_score,c16_score_diff, c16_p1_g1_50,c16_p1_g2_50 = call_get_score(c16, 'c')\n",
    "c16.head()\n",
    "\n",
    "#in the s files, p2 is the confederate\n",
    "df = organize_trial_by_trial_300('data/c17_gamedata2.csv')\n",
    "c17 = df\n",
    "c17_p1_g1_score,c17_p1_g2_score,c17_score_diff, c17_p1_g1_50,c17_p1_g2_50 = call_get_score(c17, 'c')\n",
    "c17#in the s files, p2 is the confederate\n",
    "\n",
    "#in the s files, p2 is the confederate\n",
    "df = organize_trial_by_trial_300('data/c18_gamedata.csv')\n",
    "c18 = df\n",
    "c18_p1_g1_score,c18_p1_g2_score,c18_score_diff, c18_p1_g1_50,c18_p1_g2_50 = call_get_score(c18, 'c')\n",
    "c18#in the s files, p2 is the confederate\n",
    "\n"
   ]
  },
  {
   "cell_type": "code",
   "execution_count": 68,
   "metadata": {},
   "outputs": [],
   "source": [
    "c01_p1_counts, c01_p2_counts, c01_p1_probs, c01_p2_probs = handcode_calc_prob(c01)\n",
    "c04_p1_counts, c04_p2_counts, c04_p1_probs, c04_p2_probs = handcode_calc_prob(c04)"
   ]
  },
  {
   "cell_type": "code",
   "execution_count": 69,
   "metadata": {},
   "outputs": [
    {
     "data": {
      "text/html": [
       "<div>\n",
       "<style scoped>\n",
       "    .dataframe tbody tr th:only-of-type {\n",
       "        vertical-align: middle;\n",
       "    }\n",
       "\n",
       "    .dataframe tbody tr th {\n",
       "        vertical-align: top;\n",
       "    }\n",
       "\n",
       "    .dataframe thead th {\n",
       "        text-align: right;\n",
       "    }\n",
       "</style>\n",
       "<table border=\"1\" class=\"dataframe\">\n",
       "  <thead>\n",
       "    <tr style=\"text-align: right;\">\n",
       "      <th></th>\n",
       "      <th>g1_p1_h1_count</th>\n",
       "      <th>g1_p1_h2_count</th>\n",
       "      <th>g1_p1_h3_count</th>\n",
       "      <th>g2_p1_h1_count</th>\n",
       "      <th>g2_p1_h2_count</th>\n",
       "      <th>g2_p1_h3_count</th>\n",
       "    </tr>\n",
       "  </thead>\n",
       "  <tbody>\n",
       "    <tr>\n",
       "      <td>rewarded</td>\n",
       "      <td>39</td>\n",
       "      <td>20</td>\n",
       "      <td>7</td>\n",
       "      <td>53</td>\n",
       "      <td>20</td>\n",
       "      <td>2</td>\n",
       "    </tr>\n",
       "    <tr>\n",
       "      <td>non-rewarded</td>\n",
       "      <td>4</td>\n",
       "      <td>14</td>\n",
       "      <td>14</td>\n",
       "      <td>9</td>\n",
       "      <td>10</td>\n",
       "      <td>10</td>\n",
       "    </tr>\n",
       "  </tbody>\n",
       "</table>\n",
       "</div>"
      ],
      "text/plain": [
       "              g1_p1_h1_count  g1_p1_h2_count  g1_p1_h3_count  g2_p1_h1_count  \\\n",
       "rewarded                  39              20               7              53   \n",
       "non-rewarded               4              14              14               9   \n",
       "\n",
       "              g2_p1_h2_count  g2_p1_h3_count  \n",
       "rewarded                  20               2  \n",
       "non-rewarded              10              10  "
      ]
     },
     "execution_count": 69,
     "metadata": {},
     "output_type": "execute_result"
    }
   ],
   "source": [
    "c01_p1_counts"
   ]
  },
  {
   "cell_type": "code",
   "execution_count": 70,
   "metadata": {},
   "outputs": [
    {
     "data": {
      "text/html": [
       "<div>\n",
       "<style scoped>\n",
       "    .dataframe tbody tr th:only-of-type {\n",
       "        vertical-align: middle;\n",
       "    }\n",
       "\n",
       "    .dataframe tbody tr th {\n",
       "        vertical-align: top;\n",
       "    }\n",
       "\n",
       "    .dataframe thead th {\n",
       "        text-align: right;\n",
       "    }\n",
       "</style>\n",
       "<table border=\"1\" class=\"dataframe\">\n",
       "  <thead>\n",
       "    <tr style=\"text-align: right;\">\n",
       "      <th></th>\n",
       "      <th>g1_p1_h1_count</th>\n",
       "      <th>g1_p1_h2_count</th>\n",
       "      <th>g1_p1_h3_count</th>\n",
       "      <th>g2_p1_h1_count</th>\n",
       "      <th>g2_p1_h2_count</th>\n",
       "      <th>g2_p1_h3_count</th>\n",
       "    </tr>\n",
       "  </thead>\n",
       "  <tbody>\n",
       "    <tr>\n",
       "      <td>rewarded</td>\n",
       "      <td>43</td>\n",
       "      <td>12</td>\n",
       "      <td>1</td>\n",
       "      <td>50</td>\n",
       "      <td>21</td>\n",
       "      <td>1</td>\n",
       "    </tr>\n",
       "    <tr>\n",
       "      <td>non-rewarded</td>\n",
       "      <td>5</td>\n",
       "      <td>10</td>\n",
       "      <td>10</td>\n",
       "      <td>7</td>\n",
       "      <td>17</td>\n",
       "      <td>17</td>\n",
       "    </tr>\n",
       "  </tbody>\n",
       "</table>\n",
       "</div>"
      ],
      "text/plain": [
       "              g1_p1_h1_count  g1_p1_h2_count  g1_p1_h3_count  g2_p1_h1_count  \\\n",
       "rewarded                  43              12               1              50   \n",
       "non-rewarded               5              10              10               7   \n",
       "\n",
       "              g2_p1_h2_count  g2_p1_h3_count  \n",
       "rewarded                  21               1  \n",
       "non-rewarded              17              17  "
      ]
     },
     "execution_count": 70,
     "metadata": {},
     "output_type": "execute_result"
    }
   ],
   "source": [
    "c04_p1_counts"
   ]
  },
  {
   "cell_type": "code",
   "execution_count": 71,
   "metadata": {},
   "outputs": [
    {
     "data": {
      "text/html": [
       "<div>\n",
       "<style scoped>\n",
       "    .dataframe tbody tr th:only-of-type {\n",
       "        vertical-align: middle;\n",
       "    }\n",
       "\n",
       "    .dataframe tbody tr th {\n",
       "        vertical-align: top;\n",
       "    }\n",
       "\n",
       "    .dataframe thead th {\n",
       "        text-align: right;\n",
       "    }\n",
       "</style>\n",
       "<table border=\"1\" class=\"dataframe\">\n",
       "  <thead>\n",
       "    <tr style=\"text-align: right;\">\n",
       "      <th></th>\n",
       "      <th>p1_h1</th>\n",
       "      <th>p1_h2</th>\n",
       "      <th>p1_h3</th>\n",
       "    </tr>\n",
       "  </thead>\n",
       "  <tbody>\n",
       "    <tr>\n",
       "      <td>game 1</td>\n",
       "      <td>90.697674</td>\n",
       "      <td>58.823529</td>\n",
       "      <td>33.333333</td>\n",
       "    </tr>\n",
       "    <tr>\n",
       "      <td>game 2</td>\n",
       "      <td>85.483871</td>\n",
       "      <td>66.666667</td>\n",
       "      <td>16.666667</td>\n",
       "    </tr>\n",
       "  </tbody>\n",
       "</table>\n",
       "</div>"
      ],
      "text/plain": [
       "            p1_h1      p1_h2      p1_h3\n",
       "game 1  90.697674  58.823529  33.333333\n",
       "game 2  85.483871  66.666667  16.666667"
      ]
     },
     "execution_count": 71,
     "metadata": {},
     "output_type": "execute_result"
    }
   ],
   "source": [
    "c01_p1_probs"
   ]
  },
  {
   "cell_type": "code",
   "execution_count": 72,
   "metadata": {},
   "outputs": [
    {
     "data": {
      "text/html": [
       "<div>\n",
       "<style scoped>\n",
       "    .dataframe tbody tr th:only-of-type {\n",
       "        vertical-align: middle;\n",
       "    }\n",
       "\n",
       "    .dataframe tbody tr th {\n",
       "        vertical-align: top;\n",
       "    }\n",
       "\n",
       "    .dataframe thead th {\n",
       "        text-align: right;\n",
       "    }\n",
       "</style>\n",
       "<table border=\"1\" class=\"dataframe\">\n",
       "  <thead>\n",
       "    <tr style=\"text-align: right;\">\n",
       "      <th></th>\n",
       "      <th>p1_h1</th>\n",
       "      <th>p1_h2</th>\n",
       "      <th>p1_h3</th>\n",
       "    </tr>\n",
       "  </thead>\n",
       "  <tbody>\n",
       "    <tr>\n",
       "      <td>game 1</td>\n",
       "      <td>89.583333</td>\n",
       "      <td>54.545455</td>\n",
       "      <td>9.090909</td>\n",
       "    </tr>\n",
       "    <tr>\n",
       "      <td>game 2</td>\n",
       "      <td>87.719298</td>\n",
       "      <td>55.263158</td>\n",
       "      <td>5.555556</td>\n",
       "    </tr>\n",
       "  </tbody>\n",
       "</table>\n",
       "</div>"
      ],
      "text/plain": [
       "            p1_h1      p1_h2     p1_h3\n",
       "game 1  89.583333  54.545455  9.090909\n",
       "game 2  87.719298  55.263158  5.555556"
      ]
     },
     "execution_count": 72,
     "metadata": {},
     "output_type": "execute_result"
    }
   ],
   "source": [
    "c04_p1_probs"
   ]
  },
  {
   "cell_type": "code",
   "execution_count": 73,
   "metadata": {},
   "outputs": [],
   "source": [
    "#NOT SURE\n",
    "c01 = fill_in_prob(c01, 90,60,30,90,60,30,30,60,90,30,60,90)\n",
    "c04 = fill_in_prob(c04, 90,60,30,90,60,30,30,60,90,30,60,90)"
   ]
  },
  {
   "cell_type": "code",
   "execution_count": 74,
   "metadata": {},
   "outputs": [
    {
     "name": "stderr",
     "output_type": "stream",
     "text": [
      "/Users/simonefroley/opt/anaconda3/lib/python3.7/site-packages/ipykernel_launcher.py:7: UserWarning: Boolean Series key will be reindexed to match DataFrame index.\n",
      "  import sys\n",
      "/Users/simonefroley/opt/anaconda3/lib/python3.7/site-packages/ipykernel_launcher.py:8: UserWarning: Boolean Series key will be reindexed to match DataFrame index.\n",
      "  \n"
     ]
    }
   ],
   "source": [
    "c01_p1_g1, c01_p1_g2 = separate_df(c01, 'c')\n",
    "c04_p1_g1, c04_p1_g2 = separate_df(c04, 'c')"
   ]
  },
  {
   "cell_type": "code",
   "execution_count": 75,
   "metadata": {},
   "outputs": [],
   "source": [
    "c01_p1_g1_score = c01_p1_g1['reward'].sum()\n",
    "c01_p1_g2_score = c01_p1_g2['reward'].sum()\n",
    "c04_p1_g1_score = c04_p1_g1['reward'].sum()\n",
    "c04_p1_g2_score = c04_p1_g2['reward'].sum()"
   ]
  },
  {
   "cell_type": "code",
   "execution_count": 76,
   "metadata": {},
   "outputs": [
    {
     "data": {
      "text/plain": [
       "\"\\n#list out all the scores in game 1 by participant\\nc_scores_1_50 = pd.DataFrame({'participant':['c02', 'c03', \\n                              'c05', 'c06', 'c09', 'c10', 'c11', 'c12', 'c13', 'c15', 'c14', 'c16', 'c17', 'c18'], 'score_1_50':\\n     [c02_p1_g1_50, c03_p1_g1_50, c05_p1_g1_50,\\n      c06_p1_g1_50, c09_p1_g1_50, c10_p1_g1_50, c11_p1_g1_50, c12_p1_g1_50, c13_p1_g1_50, c14_p1_g1_50, c15_p1_g1_50,\\n      c16_p1_g1_50, c17_p1_g1_50, c18_p1_g1_50]})\\n#to prevent an extra column that numbers each row:\\nc_scores_1_50.set_index('participant', inplace=True, drop=True)\\n\\n#list out all the scores in game 2 by participant\\nc_scores_2_50 = pd.DataFrame({'participant':['c02', 'c03', \\n                              'c05', 'c06', 'c09', 'c10', 'c11', 'c12', 'c13', 'c14', 'c15', 'c16', 'c17','c18'], 'score_1_50':\\n     [c02_p1_g2_50, c03_p1_g2_50, c05_p1_g2_50,\\n      c06_p1_g2_50, c09_p1_g2_50, c10_p1_g2_50, c11_p1_g2_50, c12_p1_g2_50, c13_p1_g2_50, c14_p1_g2_50, \\n      c15_p1_g2_50,c16_p1_g2_50, c17_p1_g2_50, c18_p1_g2_50]})\\nc_scores_2_50.set_index('participant', inplace=True, drop=True)\""
      ]
     },
     "execution_count": 76,
     "metadata": {},
     "output_type": "execute_result"
    }
   ],
   "source": [
    "'''Here we place the scores in games 1 and 2 into dataframes.'''\n",
    "\n",
    "\n",
    "#list out all the scores in game 1 by participant\n",
    "c_scores_1 = pd.DataFrame({'participant':['c01','c02', 'c03', 'c04',\n",
    "                               'c05', 'c06', 'c07','c09', 'c10', 'c11', 'c12', 'c13', 'c14', 'c15', 'c16', 'c17', 'c18'], 'score':\n",
    "     [c01_p1_g1_score, c02_p1_g1_score, c03_p1_g1_score, c04_p1_g1_score, c05_p1_g1_score, c06_p1_g1_score, c07_p1_g1_score,\n",
    "      c09_p1_g1_score, c10_p1_g1_score, c11_p1_g1_score, c12_p1_g1_score, c13_p1_g1_score, c14_p1_g1_score, \n",
    "      c15_p1_g1_score, c16_p1_g1_score, c17_p1_g1_score, c18_p1_g1_score]})\n",
    "#to prevent an extra column that numbers each row:\n",
    "c_scores_1.set_index('participant', inplace=True, drop=True)\n",
    "\n",
    "#print\n",
    "c_scores_1\n",
    "\n",
    "\n",
    "#list out all the scores in game 2 by participant\n",
    "c_scores_2_d = pd.DataFrame({'participant':['c01','c02', 'c03', 'c04', \n",
    "                              'c05', 'c06', 'c09', 'c10', 'c11'], 'score':\n",
    "                           [c01_p1_g2_score, c02_p1_g2_score, c03_p1_g2_score, c04_p1_g2_score, c05_p1_g2_score, c06_p1_g2_score, c09_p1_g2_score, c10_p1_g2_score, c11_p1_g2_score]})\n",
    "\n",
    "#to prevent an extra column that numbers each row:\n",
    "c_scores_2_d.set_index('participant', inplace=True, drop=True)\n",
    "\n",
    "c_scores_2_s = pd.DataFrame({'participant':['c12', 'c13', 'c14', 'c15', 'c16', 'c17', 'c18'], 'score':\n",
    "                           [c12_p1_g2_score, c13_p1_g2_score, c14_p1_g2_score, c15_p1_g2_score, c16_p1_g2_score, c17_p1_g2_score, c18_p1_g2_score]})\n",
    "\n",
    "#to prevent an extra column that numbers each row:\n",
    "c_scores_2_s.set_index('participant', inplace=True, drop=True)\n",
    "\n",
    "'''\n",
    "#list out all the scores in game 1 by participant\n",
    "c_scores_1_50 = pd.DataFrame({'participant':['c02', 'c03', \n",
    "                              'c05', 'c06', 'c09', 'c10', 'c11', 'c12', 'c13', 'c15', 'c14', 'c16', 'c17', 'c18'], 'score_1_50':\n",
    "     [c02_p1_g1_50, c03_p1_g1_50, c05_p1_g1_50,\n",
    "      c06_p1_g1_50, c09_p1_g1_50, c10_p1_g1_50, c11_p1_g1_50, c12_p1_g1_50, c13_p1_g1_50, c14_p1_g1_50, c15_p1_g1_50,\n",
    "      c16_p1_g1_50, c17_p1_g1_50, c18_p1_g1_50]})\n",
    "#to prevent an extra column that numbers each row:\n",
    "c_scores_1_50.set_index('participant', inplace=True, drop=True)\n",
    "\n",
    "#list out all the scores in game 2 by participant\n",
    "c_scores_2_50 = pd.DataFrame({'participant':['c02', 'c03', \n",
    "                              'c05', 'c06', 'c09', 'c10', 'c11', 'c12', 'c13', 'c14', 'c15', 'c16', 'c17','c18'], 'score_1_50':\n",
    "     [c02_p1_g2_50, c03_p1_g2_50, c05_p1_g2_50,\n",
    "      c06_p1_g2_50, c09_p1_g2_50, c10_p1_g2_50, c11_p1_g2_50, c12_p1_g2_50, c13_p1_g2_50, c14_p1_g2_50, \n",
    "      c15_p1_g2_50,c16_p1_g2_50, c17_p1_g2_50, c18_p1_g2_50]})\n",
    "c_scores_2_50.set_index('participant', inplace=True, drop=True)'''"
   ]
  },
  {
   "cell_type": "code",
   "execution_count": 77,
   "metadata": {},
   "outputs": [
    {
     "data": {
      "text/plain": [
       "'Here we combine the dataframes with the scores from the 2 games.\\nc_scores_50 = c_scores_1_50.merge(c_scores_2_50,right_index=True,left_index=True)\\nc_scores = c_scores_1.merge(c_scores_2,right_index=True,left_index=True)\\nc_combo = c_scores_50.merge(c_scores,right_index=True,left_index=True)\\n\\n#rename columns\\nc_combo.columns=[\"score_1_50\", \"score_2_50\", \"score_1\", \"score_2\"]'"
      ]
     },
     "execution_count": 77,
     "metadata": {},
     "output_type": "execute_result"
    }
   ],
   "source": [
    "'''Here we combine the dataframes with the scores from the 2 games.\n",
    "c_scores_50 = c_scores_1_50.merge(c_scores_2_50,right_index=True,left_index=True)\n",
    "c_scores = c_scores_1.merge(c_scores_2,right_index=True,left_index=True)\n",
    "c_combo = c_scores_50.merge(c_scores,right_index=True,left_index=True)\n",
    "\n",
    "#rename columns\n",
    "c_combo.columns=[\"score_1_50\", \"score_2_50\", \"score_1\", \"score_2\"]'''"
   ]
  },
  {
   "cell_type": "code",
   "execution_count": 78,
   "metadata": {},
   "outputs": [
    {
     "data": {
      "text/plain": [
       "\"Here we plot the scores in games 1 and 2.\\n\\nc_scores_1_bar = c_scores_1.plot.bar()\\n\\n\\n\\nc_scores_2_bar = c_scores_2.plot.bar()\\n\\n\\n\\n#label columns\\n#c_scores.columns=['Game 1','Game 2']\\n\\n\\nc_scores\""
      ]
     },
     "execution_count": 78,
     "metadata": {},
     "output_type": "execute_result"
    }
   ],
   "source": [
    "'''Here we plot the scores in games 1 and 2.\n",
    "\n",
    "c_scores_1_bar = c_scores_1.plot.bar()\n",
    "\n",
    "\n",
    "\n",
    "c_scores_2_bar = c_scores_2.plot.bar()\n",
    "\n",
    "\n",
    "\n",
    "#label columns\n",
    "#c_scores.columns=['Game 1','Game 2']\n",
    "\n",
    "\n",
    "c_scores'''"
   ]
  },
  {
   "cell_type": "code",
   "execution_count": 79,
   "metadata": {},
   "outputs": [
    {
     "data": {
      "image/png": "[encoded data removed]",
      "text/plain": [
       "<Figure size 432x288 with 1 Axes>"
      ]
     },
     "metadata": {
      "needs_background": "light"
     },
     "output_type": "display_data"
    }
   ],
   "source": [
    "#c_scores1_box = c_scores_1.boxplot()\n",
    "#plt.grid(b=None)\n",
    "#plt.yticks(np.arange(50, 105, step=10))\n",
    "\n",
    "\n",
    "c_scores1_box = sns.boxplot( \n",
    "                 data=c_scores_1, \n",
    "                 width=0.5,\n",
    "                 palette=\"pastel\")\n",
    "c_scores1_box.axes.set_title(\"SMAB4 Control Scores in Game 1\",\n",
    "                    fontsize=16)\n",
    "\n",
    "plot_file_name=\"c_g1_score_box.jpg\"\n",
    " \n",
    "plt.ylim(0, 100)\n",
    "c_scores1_box.axes.set(ylabel='Score')\n",
    "\n",
    "# save as jpeg\n",
    "c_scores1_box.figure.savefig(plot_file_name,\n",
    "                    format='jpeg')"
   ]
  },
  {
   "cell_type": "code",
   "execution_count": 80,
   "metadata": {},
   "outputs": [
    {
     "data": {
      "image/png": "[encoded data removed]",
      "text/plain": [
       "<Figure size 432x288 with 1 Axes>"
      ]
     },
     "metadata": {
      "needs_background": "light"
     },
     "output_type": "display_data"
    }
   ],
   "source": [
    "c_scores_2d_box = sns.boxplot( \n",
    "                 data=c_scores_2_d, \n",
    "                 width=0.5,\n",
    "                 palette=\"pastel\")\n",
    "c_scores_2d_box.axes.set_title(\"SMAB4 Control Scores in Game 1-Different\",\n",
    "                    fontsize=16)\n",
    "\n",
    "plot_file_name=\"c_g2d_score_box.jpg\"\n",
    " \n",
    "plt.ylim(0, 100)\n",
    "c_scores_2d_box.axes.set(ylabel='Score')\n",
    "\n",
    "# save as jpeg\n",
    "c_scores_2d_box.figure.savefig(plot_file_name,\n",
    "                    format='jpeg')"
   ]
  },
  {
   "cell_type": "code",
   "execution_count": 81,
   "metadata": {},
   "outputs": [
    {
     "data": {
      "image/png": "[encoded data removed]",
      "text/plain": [
       "<Figure size 432x288 with 1 Axes>"
      ]
     },
     "metadata": {
      "needs_background": "light"
     },
     "output_type": "display_data"
    }
   ],
   "source": [
    "c_scores_2s_box = sns.boxplot( \n",
    "                 data=c_scores_2_s, \n",
    "                 width=0.5,\n",
    "                 palette=\"pastel\")\n",
    "c_scores_2s_box.axes.set_title(\"SMAB4 Control Scores in Game 1-Same\",\n",
    "                    fontsize=16)\n",
    "\n",
    "plot_file_name=\"c_g2s_score_box.jpg\"\n",
    " \n",
    "plt.ylim(0, 100)\n",
    "c_scores_2s_box.axes.set(ylabel='Score')\n",
    "\n",
    "# save as jpeg\n",
    "c_scores_2s_box.figure.savefig(plot_file_name,\n",
    "                    format='jpeg')"
   ]
  },
  {
   "cell_type": "code",
   "execution_count": 82,
   "metadata": {},
   "outputs": [],
   "source": [
    "c_scores_2s_mean = c_scores_2_s.mean()"
   ]
  },
  {
   "cell_type": "code",
   "execution_count": 83,
   "metadata": {},
   "outputs": [],
   "source": [
    "c_scores_2s_std = c_scores_2_s.std()"
   ]
  },
  {
   "cell_type": "code",
   "execution_count": 84,
   "metadata": {},
   "outputs": [],
   "source": [
    "c_scores_2d_mean = c_scores_2_d.mean()"
   ]
  },
  {
   "cell_type": "code",
   "execution_count": 85,
   "metadata": {},
   "outputs": [],
   "source": [
    "c_scores_2d_std = c_scores_2_d.std()"
   ]
  },
  {
   "cell_type": "code",
   "execution_count": 86,
   "metadata": {},
   "outputs": [
    {
     "data": {
      "text/plain": [
       "(score    69.857143\n",
       " dtype: float64, score    9.191093\n",
       " dtype: float64)"
      ]
     },
     "execution_count": 86,
     "metadata": {},
     "output_type": "execute_result"
    }
   ],
   "source": [
    "c_scores_2s_mean, c_scores_2s_std"
   ]
  },
  {
   "cell_type": "code",
   "execution_count": 87,
   "metadata": {},
   "outputs": [
    {
     "data": {
      "text/plain": [
       "(score    70.555556\n",
       " dtype: float64, score    13.482499\n",
       " dtype: float64)"
      ]
     },
     "execution_count": 87,
     "metadata": {},
     "output_type": "execute_result"
    }
   ],
   "source": [
    "c_scores_2d_mean, c_scores_2d_std"
   ]
  },
  {
   "cell_type": "code",
   "execution_count": 88,
   "metadata": {},
   "outputs": [
    {
     "data": {
      "text/plain": [
       "Ttest_indResult(statistic=array([-0.11709513]), pvalue=array([0.90844792]))"
      ]
     },
     "execution_count": 88,
     "metadata": {},
     "output_type": "execute_result"
    }
   ],
   "source": [
    "sp.stats.ttest_ind(c_scores_2_s, c_scores_2_d)"
   ]
  },
  {
   "cell_type": "code",
   "execution_count": 89,
   "metadata": {},
   "outputs": [
    {
     "data": {
      "text/plain": [
       "'Here we make a boxplot with the scores in the first and second half of the games included\\nc_combo_box = sns.boxplot( \\n                 data=c_combo, order = [\\'score_1_50\\',\\'score_2_50\\',\\'score_1\\',\\'score_2\\'],\\n                 width=0.5,\\n                 palette=\"pastel\")\\nc_combo_box.axes.set_title(\"SMAB4 Control Scores\",\\n                    fontsize=16)\\n\\nplot_file_name=\"c_score_box.jpg\"\\n \\nplt.ylim(0, 100)\\nc_combo_box.axes.set(ylabel=\\'Score\\')\\n\\n# save as jpeg\\nc_combo_box.figure.savefig(plot_file_name,\\n                    format=\\'jpeg\\')'"
      ]
     },
     "execution_count": 89,
     "metadata": {},
     "output_type": "execute_result"
    }
   ],
   "source": [
    "'''Here we make a boxplot with the scores in the first and second half of the games included\n",
    "c_combo_box = sns.boxplot( \n",
    "                 data=c_combo, order = ['score_1_50','score_2_50','score_1','score_2'],\n",
    "                 width=0.5,\n",
    "                 palette=\"pastel\")\n",
    "c_combo_box.axes.set_title(\"SMAB4 Control Scores\",\n",
    "                    fontsize=16)\n",
    "\n",
    "plot_file_name=\"c_score_box.jpg\"\n",
    " \n",
    "plt.ylim(0, 100)\n",
    "c_combo_box.axes.set(ylabel='Score')\n",
    "\n",
    "# save as jpeg\n",
    "c_combo_box.figure.savefig(plot_file_name,\n",
    "                    format='jpeg')'''"
   ]
  },
  {
   "cell_type": "code",
   "execution_count": 90,
   "metadata": {},
   "outputs": [
    {
     "data": {
      "text/plain": [
       "\"Get the p value between the scores in games 1 and 2.\\n\\nc_scores_p = sp.stats.ttest_rel(c_scores['Game 1'],c_scores['Game 2'])\\n\\n\\n\\nc_scores_p\\n\\n\\n#plot bar graph of scores\\n\\n\\nc_scores_2_bar = c_scores_2.plot.bar()\\n\\n\\n\\n#combine g1 and g2 to one dataframe\\nc_combo = c_scores_1.append(c_scores_2)\\n\\n\\n\\nc_combo = pd.DataFrame({'participant':['c02', 'c02', 'c03', 'c03',\\n                              'c06','c06','c09','c09','c10','c10','c11','c11','c12','c12','c13','c13','c14','c14','c16','c16','c17','c17'], 'score':\\n     [c02_p1_g1_score, c02_p1_g2_score, c03_p1_g1_score, c03_p1_g2_score, c05_p1_g1_score, c05_p1_g2_score, c06_p1_g1_score, c06_p1_g2_score, c09_p1_g1_score, c09_p1_g2_score, c10_p1_g1_score, c10_p1_g2_score, c11_p1_g1_score, c11_p1_g2_score, c12_p1_g1_score, c12_p1_g2_score, c13_p1_g1_score, c13_p1_g2_score, c14_p1_g1_score, c14_p1_g2_score, c16_p1_g1_score, c16_p1_g2_score, c17_p1_g1_score, c17_p1_g2_score]})\\nc_combo.set_index('participant', inplace=True, drop=True)\\n\\n\\n#new_index = ('c02_g1','c02_g2','c03_g1','c03_g2','c04_g1','c04_g2','c05_g1','c05_g2','c06_g1','c06_g2','c09_g1','c09_g2','c10_g1','c10_g2','c11_g1','c11_g2','c12_g1','c12_g2','c13_g1','c13_g2','c14_g1','c14_g2','c16_g1','c16_g2','c17_g1','c17_g2')\\n#c_combo.index = new_index\\n\\n\\nc_combo = c_combo.sort_values(by=['participant'])\""
      ]
     },
     "execution_count": 90,
     "metadata": {},
     "output_type": "execute_result"
    }
   ],
   "source": [
    "'''Get the p value between the scores in games 1 and 2.\n",
    "\n",
    "c_scores_p = sp.stats.ttest_rel(c_scores['Game 1'],c_scores['Game 2'])\n",
    "\n",
    "\n",
    "\n",
    "c_scores_p\n",
    "\n",
    "\n",
    "#plot bar graph of scores\n",
    "\n",
    "\n",
    "c_scores_2_bar = c_scores_2.plot.bar()\n",
    "\n",
    "\n",
    "\n",
    "#combine g1 and g2 to one dataframe\n",
    "c_combo = c_scores_1.append(c_scores_2)\n",
    "\n",
    "\n",
    "\n",
    "c_combo = pd.DataFrame({'participant':['c02', 'c02', 'c03', 'c03',\n",
    "                              'c06','c06','c09','c09','c10','c10','c11','c11','c12','c12','c13','c13','c14','c14','c16','c16','c17','c17'], 'score':\n",
    "     [c02_p1_g1_score, c02_p1_g2_score, c03_p1_g1_score, c03_p1_g2_score, c05_p1_g1_score, c05_p1_g2_score, c06_p1_g1_score, c06_p1_g2_score, c09_p1_g1_score, c09_p1_g2_score, c10_p1_g1_score, c10_p1_g2_score, c11_p1_g1_score, c11_p1_g2_score, c12_p1_g1_score, c12_p1_g2_score, c13_p1_g1_score, c13_p1_g2_score, c14_p1_g1_score, c14_p1_g2_score, c16_p1_g1_score, c16_p1_g2_score, c17_p1_g1_score, c17_p1_g2_score]})\n",
    "c_combo.set_index('participant', inplace=True, drop=True)\n",
    "\n",
    "\n",
    "#new_index = ('c02_g1','c02_g2','c03_g1','c03_g2','c04_g1','c04_g2','c05_g1','c05_g2','c06_g1','c06_g2','c09_g1','c09_g2','c10_g1','c10_g2','c11_g1','c11_g2','c12_g1','c12_g2','c13_g1','c13_g2','c14_g1','c14_g2','c16_g1','c16_g2','c17_g1','c17_g2')\n",
    "#c_combo.index = new_index\n",
    "\n",
    "\n",
    "c_combo = c_combo.sort_values(by=['participant'])'''"
   ]
  },
  {
   "cell_type": "code",
   "execution_count": 91,
   "metadata": {},
   "outputs": [],
   "source": [
    "#unnecessary graph\n",
    "#need to make g1 and g2 bars diff colors\n",
    "#colors = list(islice(cycle(['red','blue','green', 'yellow']),None,len(c_combo)))\n",
    "#blue','red','blue','red','blue','red','blue','red','blue','red','blue']),None,len(c_combo)))\n",
    "#my_colors = list(islice(cycle(['b', 'r', 'g', 'y', 'k']), None, len(df)))\n",
    "#c_combo_bar = c_combo.plot(kind='bar',color=colors)"
   ]
  },
  {
   "cell_type": "markdown",
   "metadata": {},
   "source": [
    "# Checking for outliars"
   ]
  },
  {
   "cell_type": "code",
   "execution_count": 92,
   "metadata": {},
   "outputs": [
    {
     "data": {
      "text/plain": [
       "\"\\nfig, ax = plt.subplots(figsize=(16,8))\\nax.scatter(c_combo['score_2_50'], c_combo['score_2'])\\nax.set_xlabel('Score at trial 50')\\nax.set_ylabel('Score at trial 100')\\nplt.show()\""
      ]
     },
     "execution_count": 92,
     "metadata": {},
     "output_type": "execute_result"
    }
   ],
   "source": [
    "#scatter plot\n",
    "'''\n",
    "fig, ax = plt.subplots(figsize=(16,8))\n",
    "ax.scatter(c_combo['score_2_50'], c_combo['score_2'])\n",
    "ax.set_xlabel('Score at trial 50')\n",
    "ax.set_ylabel('Score at trial 100')\n",
    "plt.show()'''"
   ]
  },
  {
   "cell_type": "code",
   "execution_count": 93,
   "metadata": {},
   "outputs": [],
   "source": [
    "#calculate z score\n",
    "#z = np.abs(stats.zscore(c_combo['score_2']))\n",
    "#print(z)"
   ]
  },
  {
   "cell_type": "code",
   "execution_count": 94,
   "metadata": {},
   "outputs": [],
   "source": [
    "#z = np.abs(stats.zscore(c_combo['score_2_50']))\n",
    "#print(z)"
   ]
  },
  {
   "cell_type": "code",
   "execution_count": 95,
   "metadata": {},
   "outputs": [
    {
     "data": {
      "text/plain": [
       "score    68.588235\n",
       "dtype: float64"
      ]
     },
     "execution_count": 95,
     "metadata": {},
     "output_type": "execute_result"
    }
   ],
   "source": [
    "'''Here we get the mean, median, and standard deviation of the scores in games 1 and 2.'''\n",
    "\n",
    "c_scores_1_mean = c_scores_1.mean()\n",
    "\n",
    "\n",
    "c_scores_1_mean"
   ]
  },
  {
   "cell_type": "code",
   "execution_count": 96,
   "metadata": {},
   "outputs": [
    {
     "data": {
      "text/plain": [
       "score    8.846319\n",
       "dtype: float64"
      ]
     },
     "execution_count": 96,
     "metadata": {},
     "output_type": "execute_result"
    }
   ],
   "source": [
    "c_scores_1_std = c_scores_1.std()\n",
    "\n",
    "\n",
    "c_scores_1_std"
   ]
  },
  {
   "cell_type": "code",
   "execution_count": 97,
   "metadata": {},
   "outputs": [
    {
     "data": {
      "text/plain": [
       "(score    68.588235\n",
       " dtype: float64, score    8.846319\n",
       " dtype: float64)"
      ]
     },
     "execution_count": 97,
     "metadata": {},
     "output_type": "execute_result"
    }
   ],
   "source": [
    "c_scores_1_mean, c_scores_1_std"
   ]
  },
  {
   "cell_type": "code",
   "execution_count": 98,
   "metadata": {},
   "outputs": [
    {
     "data": {
      "text/plain": [
       "'\\nc_scores_2_mean = c_scores_2.mean()\\n\\n\\n# In[147]:\\n\\n\\nc_scores_2_mean'"
      ]
     },
     "execution_count": 98,
     "metadata": {},
     "output_type": "execute_result"
    }
   ],
   "source": [
    "'''\n",
    "c_scores_2_mean = c_scores_2.mean()\n",
    "\n",
    "\n",
    "# In[147]:\n",
    "\n",
    "\n",
    "c_scores_2_mean'''"
   ]
  },
  {
   "cell_type": "code",
   "execution_count": 99,
   "metadata": {},
   "outputs": [
    {
     "data": {
      "text/plain": [
       "'\\nc_scores_2_std = c_scores_2.std()\\n\\n\\n# In[149]:\\n\\n\\nc_scores_2_std'"
      ]
     },
     "execution_count": 99,
     "metadata": {},
     "output_type": "execute_result"
    }
   ],
   "source": [
    "# In[148]:\n",
    "\n",
    "'''\n",
    "c_scores_2_std = c_scores_2.std()\n",
    "\n",
    "\n",
    "# In[149]:\n",
    "\n",
    "\n",
    "c_scores_2_std'''"
   ]
  },
  {
   "cell_type": "code",
   "execution_count": 100,
   "metadata": {},
   "outputs": [
    {
     "data": {
      "text/plain": [
       "'\\nc_scores_med = c_scores.median()\\nc_scores_med'"
      ]
     },
     "execution_count": 100,
     "metadata": {},
     "output_type": "execute_result"
    }
   ],
   "source": [
    "# In[150]:\n",
    "\n",
    "'''\n",
    "c_scores_med = c_scores.median()\n",
    "c_scores_med'''"
   ]
  },
  {
   "cell_type": "code",
   "execution_count": 101,
   "metadata": {},
   "outputs": [
    {
     "name": "stderr",
     "output_type": "stream",
     "text": [
      "/Users/simonefroley/opt/anaconda3/lib/python3.7/site-packages/ipykernel_launcher.py:7: UserWarning: Boolean Series key will be reindexed to match DataFrame index.\n",
      "  import sys\n",
      "/Users/simonefroley/opt/anaconda3/lib/python3.7/site-packages/ipykernel_launcher.py:8: UserWarning: Boolean Series key will be reindexed to match DataFrame index.\n",
      "  \n"
     ]
    }
   ],
   "source": [
    "'''Here we separate the dataframes into games 1 and 2.'''\n",
    "\n",
    "#s01_p1_g1, s01_p1_g2 = separate_df(s01, 's')\n",
    "c02_p1_g1, c02_p1_g2 = separate_df(c02, 'c')\n",
    "c03_p1_g1, c03_p1_g2 = separate_df(c03, 'c')\n",
    "c05_p1_g1, c05_p1_g2 = separate_df(c05, 'c')\n",
    "c06_p1_g1, c06_p1_g2 = separate_df(c06, 'c')\n",
    "c07_p1_g1, c07_p1_g2 = separate_df(c07, 'c')\n",
    "c09_p1_g1, c09_p1_g2 = separate_df(c09, 'c')\n",
    "c10_p1_g1, c10_p1_g2 = separate_df(c10, 'c')\n",
    "c11_p1_g1, c11_p1_g2 = separate_df(c11, 'c')\n",
    "c12_p1_g1, c12_p1_g2 = separate_df(c12, 'c')\n",
    "c13_p1_g1, c13_p1_g2 = separate_df(c13, 'c')\n",
    "c14_p1_g1, c14_p1_g2 = separate_df(c14, 'c')\n",
    "c15_p1_g1, c15_p1_g2 = separate_df(c15, 'c')\n",
    "c16_p1_g1, c16_p1_g2 = separate_df(c16, 'c')\n",
    "c17_p1_g1, c17_p1_g2 = separate_df(c17, 'c')\n",
    "c18_p1_g1, c18_p1_g2 = separate_df(c18, 'c')"
   ]
  },
  {
   "cell_type": "code",
   "execution_count": 102,
   "metadata": {},
   "outputs": [],
   "source": [
    "c02_p1_g1_map = hole_prob_map(c02_p1_g1)\n",
    "c02_p1_g2_map = hole_prob_map(c02_p1_g2)\n",
    "\n",
    "c03_p1_g1_map = hole_prob_map(c03_p1_g1)\n",
    "c03_p1_g2_map = hole_prob_map(c03_p1_g2)\n",
    "\n",
    "c07_p1_g1_map = hole_prob_map(c07_p1_g1)\n",
    "c07_p1_g2_map = hole_prob_map(c07_p1_g2)\n",
    "\n",
    "c05_p1_g1_map = hole_prob_map(c05_p1_g1)\n",
    "c05_p1_g2_map = hole_prob_map(c05_p1_g2)\n",
    "\n",
    "c06_p1_g1_map = hole_prob_map(c06_p1_g1)\n",
    "c06_p1_g2_map = hole_prob_map(c06_p1_g2)\n",
    "\n",
    "c09_p1_g1_map = hole_prob_map(c09_p1_g1)\n",
    "c09_p1_g2_map = hole_prob_map(c09_p1_g2)\n",
    "\n",
    "c10_p1_g1_map = hole_prob_map(c10_p1_g1)\n",
    "c10_p1_g2_map = hole_prob_map(c10_p1_g2)\n",
    "\n",
    "c11_p1_g1_map = hole_prob_map(c11_p1_g1)\n",
    "c11_p1_g2_map = hole_prob_map(c11_p1_g2)\n",
    "\n",
    "c12_p1_g1_map = hole_prob_map(c12_p1_g1)\n",
    "c12_p1_g2_map = hole_prob_map(c12_p1_g2)\n",
    "\n",
    "c13_p1_g1_map = hole_prob_map(c13_p1_g1)\n",
    "c13_p1_g2_map = hole_prob_map(c13_p1_g2)\n",
    "\n",
    "c14_p1_g1_map = hole_prob_map(c14_p1_g1)\n",
    "c14_p1_g2_map = hole_prob_map(c14_p1_g2)\n",
    "\n",
    "c15_p1_g1_map = hole_prob_map(c15_p1_g1)\n",
    "c15_p1_g2_map = hole_prob_map(c15_p1_g2)\n",
    "\n",
    "c16_p1_g1_map = hole_prob_map(c16_p1_g1)\n",
    "c16_p1_g2_map = hole_prob_map(c16_p1_g2)\n",
    "\n",
    "c17_p1_g1_map = hole_prob_map(c17_p1_g1)\n",
    "c17_p1_g2_map = hole_prob_map(c17_p1_g2)\n",
    "\n",
    "c18_p1_g1_map = hole_prob_map(c18_p1_g1)\n",
    "c18_p1_g2_map = hole_prob_map(c18_p1_g2)"
   ]
  },
  {
   "cell_type": "code",
   "execution_count": 103,
   "metadata": {},
   "outputs": [
    {
     "data": {
      "text/html": [
       "<div>\n",
       "<style scoped>\n",
       "    .dataframe tbody tr th:only-of-type {\n",
       "        vertical-align: middle;\n",
       "    }\n",
       "\n",
       "    .dataframe tbody tr th {\n",
       "        vertical-align: top;\n",
       "    }\n",
       "\n",
       "    .dataframe thead th {\n",
       "        text-align: right;\n",
       "    }\n",
       "</style>\n",
       "<table border=\"1\" class=\"dataframe\">\n",
       "  <thead>\n",
       "    <tr style=\"text-align: right;\">\n",
       "      <th></th>\n",
       "      <th>h1_prob</th>\n",
       "      <th>h2_prob</th>\n",
       "      <th>h3_prob</th>\n",
       "    </tr>\n",
       "  </thead>\n",
       "  <tbody>\n",
       "    <tr>\n",
       "      <td>0</td>\n",
       "      <td>30</td>\n",
       "      <td>90</td>\n",
       "      <td>60</td>\n",
       "    </tr>\n",
       "  </tbody>\n",
       "</table>\n",
       "</div>"
      ],
      "text/plain": [
       "   h1_prob  h2_prob  h3_prob\n",
       "0       30       90       60"
      ]
     },
     "execution_count": 103,
     "metadata": {},
     "output_type": "execute_result"
    }
   ],
   "source": [
    "c07_p1_g1_map"
   ]
  },
  {
   "cell_type": "code",
   "execution_count": 104,
   "metadata": {},
   "outputs": [
    {
     "data": {
      "text/html": [
       "<div>\n",
       "<style scoped>\n",
       "    .dataframe tbody tr th:only-of-type {\n",
       "        vertical-align: middle;\n",
       "    }\n",
       "\n",
       "    .dataframe tbody tr th {\n",
       "        vertical-align: top;\n",
       "    }\n",
       "\n",
       "    .dataframe thead th {\n",
       "        text-align: right;\n",
       "    }\n",
       "</style>\n",
       "<table border=\"1\" class=\"dataframe\">\n",
       "  <thead>\n",
       "    <tr style=\"text-align: right;\">\n",
       "      <th></th>\n",
       "      <th>h1_prob</th>\n",
       "      <th>h2_prob</th>\n",
       "      <th>h3_prob</th>\n",
       "    </tr>\n",
       "  </thead>\n",
       "  <tbody>\n",
       "    <tr>\n",
       "      <td>0</td>\n",
       "      <td>90</td>\n",
       "      <td>60</td>\n",
       "      <td>30</td>\n",
       "    </tr>\n",
       "  </tbody>\n",
       "</table>\n",
       "</div>"
      ],
      "text/plain": [
       "   h1_prob  h2_prob  h3_prob\n",
       "0       90       60       30"
      ]
     },
     "execution_count": 104,
     "metadata": {},
     "output_type": "execute_result"
    }
   ],
   "source": [
    "c07_p1_g2_map"
   ]
  },
  {
   "cell_type": "code",
   "execution_count": 105,
   "metadata": {},
   "outputs": [],
   "source": [
    "#call fix_reward on all of the files imported with '300' to fix the reward column\n",
    "c12_p1_g1 = fix_reward(c12_p1_g1)\n",
    "c12_p1_g2 = fix_reward(c12_p1_g2)\n",
    "c13_p1_g1 = fix_reward(c13_p1_g1)\n",
    "c13_p1_g2 = fix_reward(c13_p1_g2)\n",
    "c14_p1_g1 = fix_reward(c14_p1_g1)\n",
    "c14_p1_g2 = fix_reward(c14_p1_g2)\n",
    "c15_p1_g1 = fix_reward(c15_p1_g1)\n",
    "c15_p1_g2 = fix_reward(c15_p1_g2)\n",
    "c16_p1_g1 = fix_reward(c16_p1_g1)\n",
    "c16_p1_g2 = fix_reward(c16_p1_g2)\n",
    "c17_p1_g1 = fix_reward(c17_p1_g1)\n",
    "c17_p1_g2 = fix_reward(c17_p1_g2)\n",
    "c18_p1_g1 = fix_reward(c18_p1_g1)\n",
    "c18_p1_g2 = fix_reward(c18_p1_g2)\n"
   ]
  },
  {
   "cell_type": "code",
   "execution_count": null,
   "metadata": {},
   "outputs": [],
   "source": []
  },
  {
   "cell_type": "code",
   "execution_count": 106,
   "metadata": {},
   "outputs": [],
   "source": [
    "'''Here we count the number of times each hole was chosen in each game and place it in an array.'''\n",
    "\n",
    "c01_p1_g1_count = c01_p1_g1['probability'].value_counts(sort=False)\n",
    "c01_p1_g2_count = c01_p1_g2['probability'].value_counts(sort=False)\n",
    "c02_p1_g1_count = c02_p1_g1['probability'].value_counts(sort=False)\n",
    "c02_p1_g2_count = c02_p1_g2['probability'].value_counts(sort=False)\n",
    "c03_p1_g1_count = c03_p1_g1['probability'].value_counts(sort=False)\n",
    "c03_p1_g2_count = c03_p1_g2['probability'].value_counts(sort=False)\n",
    "c04_p1_g1_count = c04_p1_g1['probability'].value_counts(sort=False)\n",
    "c04_p1_g2_count = c04_p1_g2['probability'].value_counts(sort=False)\n",
    "c05_p1_g1_count = c05_p1_g1['probability'].value_counts(sort=False)\n",
    "c05_p1_g2_count = c05_p1_g2['probability'].value_counts(sort=False)\n",
    "c06_p1_g1_count = c06_p1_g1['probability'].value_counts(sort=False)\n",
    "c06_p1_g2_count = c06_p1_g2['probability'].value_counts(sort=False)\n",
    "c07_p1_g1_count = c07_p1_g1['probability'].value_counts(sort=False)\n",
    "c07_p1_g2_count = c07_p1_g2['probability'].value_counts(sort=False)\n",
    "c09_p1_g1_count = c09_p1_g1['probability'].value_counts(sort=False)\n",
    "c09_p1_g2_count = c09_p1_g2['probability'].value_counts(sort=False)\n",
    "c10_p1_g1_count = c10_p1_g1['probability'].value_counts(sort=False)\n",
    "c10_p1_g2_count = c10_p1_g2['probability'].value_counts(sort=False)\n",
    "c11_p1_g1_count = c11_p1_g1['probability'].value_counts(sort=False)\n",
    "c11_p1_g2_count = c11_p1_g2['probability'].value_counts(sort=False)\n",
    "c12_p1_g1_count = c12_p1_g1['probability'].value_counts(sort=False)\n",
    "c12_p1_g2_count = c12_p1_g2['probability'].value_counts(sort=False)\n",
    "c13_p1_g1_count = c13_p1_g1['probability'].value_counts(sort=False)\n",
    "c13_p1_g2_count = c13_p1_g2['probability'].value_counts(sort=False)\n",
    "c14_p1_g1_count = c14_p1_g1['probability'].value_counts(sort=False)\n",
    "c14_p1_g2_count = c14_p1_g2['probability'].value_counts(sort=False)\n",
    "c15_p1_g1_count = c15_p1_g1['probability'].value_counts(sort=False)\n",
    "c15_p1_g2_count = c15_p1_g2['probability'].value_counts(sort=False)\n",
    "c16_p1_g1_count = c16_p1_g1['probability'].value_counts(sort=False)\n",
    "c16_p1_g2_count = c16_p1_g2['probability'].value_counts(sort=False)\n",
    "c17_p1_g1_count = c17_p1_g1['probability'].value_counts(sort=False)\n",
    "c17_p1_g2_count = c17_p1_g2['probability'].value_counts(sort=False)\n",
    "c18_p1_g1_count = c18_p1_g1['probability'].value_counts(sort=False)\n",
    "c18_p1_g2_count = c18_p1_g2['probability'].value_counts(sort=False)"
   ]
  },
  {
   "cell_type": "code",
   "execution_count": 107,
   "metadata": {},
   "outputs": [
    {
     "data": {
      "image/png": "[encoded data removed]",
      "text/plain": [
       "<Figure size 432x288 with 1 Axes>"
      ]
     },
     "metadata": {
      "needs_background": "light"
     },
     "output_type": "display_data"
    }
   ],
   "source": [
    "'''Here we place the number of times each hole was chosen by each subject in game 1 and into a dataframe.\n",
    "We also plot this data and get the means and standard deviations of it.'''\n",
    "\n",
    "\n",
    "c_g1_counts = pd.DataFrame([c01_p1_g1_count, c02_p1_g1_count, c03_p1_g1_count, c04_p1_g1_count,\n",
    "                            c05_p1_g1_count, c06_p1_g1_count, c07_p1_g1_count, c09_p1_g1_count, c10_p1_g1_count, c11_p1_g1_count, c12_p1_g1_count, c13_p1_g1_count, c14_p1_g1_count, c15_p1_g1_count,\n",
    "                            c16_p1_g1_count, c17_p1_g1_count, c18_p1_g1_count],\n",
    "         index=['c01_p1_g1_count', 'c02_p1_g1_count', 'c03_p1_g1_count', 'c04_p1_g1_count', 'c05_p1_g1_count', 'c06_p1_g1_count', \n",
    "                'c07_p1_g1_count','c09_p1_g1_count', 'c10_p1_g1_count', 'c11_p1_g1_count', 'c12_p1_g1_count', 'c13_p1_g1_count', 'c14_p1_g1_count', \n",
    "                'c15_p1_g1_count', 'c16_p1_g1_count', 'c17_p1_g1_count', 'c18_p1_g1_count'])\n",
    "\n",
    "\n",
    "#How to prevent NaN: df = df.fillna(0)\n",
    "c_g1_counts = c_g1_counts.fillna(0)\n",
    "\n",
    "#print\n",
    "c_g1_counts\n",
    "\n",
    "\n",
    "c_g1_counts.sum(axis=1)\n",
    "\n",
    "\n",
    "c_g1_counts_bar = c_g1_counts.plot.bar()\n",
    "\n",
    "c_g1_counts_bar.axes.set_title(\"SMAB4 Control Choice Distributions in Game 1\",\n",
    "                    fontsize=16)\n",
    "\n",
    "# save as jpeg\n",
    "c_g1_counts_bar.figure.savefig('c_g1_counts_bar.jpg',\n",
    "                    format='jpeg',\n",
    "                    dpi=100)"
   ]
  },
  {
   "cell_type": "code",
   "execution_count": 108,
   "metadata": {},
   "outputs": [
    {
     "data": {
      "image/png": "[encoded data removed]",
      "text/plain": [
       "<Figure size 432x288 with 1 Axes>"
      ]
     },
     "metadata": {
      "needs_background": "light"
     },
     "output_type": "display_data"
    }
   ],
   "source": [
    "c_g1_counts_box = sns.boxplot( \n",
    "                 data=c_g1_counts, \n",
    "                 width=0.5,\n",
    "                 palette=\"pastel\")\n",
    "c_g1_counts_box.axes.set_title(\"SMAB4 Control Choice Distributions in Game 1\",\n",
    "                    fontsize=16)\n",
    "\n",
    "plot_file_name=\"c_g1_counts_box.jpg\"\n",
    " \n",
    "plt.ylim(0, 100)\n",
    "c_g1_counts_box.axes.set(xlabel='Arm',ylabel='Frequency')\n",
    "\n",
    "# save as jpeg\n",
    "c_g1_counts_box.figure.savefig(plot_file_name,\n",
    "                    format='jpeg')"
   ]
  },
  {
   "cell_type": "code",
   "execution_count": 109,
   "metadata": {},
   "outputs": [],
   "source": [
    "# In[158]:\n",
    "\n",
    "\n",
    "#0 is low (30), 1 is med (60), 2 is high (90)\n",
    "c_g1_low = np.mean(c_g1_counts.iloc[:,0])\n",
    "c_g1_med = np.mean(c_g1_counts.iloc[:,1])\n",
    "c_g1_high = np.mean(c_g1_counts.iloc[:,2])"
   ]
  },
  {
   "cell_type": "code",
   "execution_count": 110,
   "metadata": {},
   "outputs": [],
   "source": [
    "c_g1_low_std = np.std(c_g1_counts.iloc[:,0])\n",
    "c_g1_med_std = np.std(c_g1_counts.iloc[:,1])\n",
    "c_g1_high_std = np.std(c_g1_counts.iloc[:,2])"
   ]
  },
  {
   "cell_type": "code",
   "execution_count": 111,
   "metadata": {},
   "outputs": [
    {
     "data": {
      "text/plain": [
       "(19.941176470588236, 28.11764705882353, 50.529411764705884)"
      ]
     },
     "execution_count": 111,
     "metadata": {},
     "output_type": "execute_result"
    }
   ],
   "source": [
    "c_g1_low, c_g1_med, c_g1_high"
   ]
  },
  {
   "cell_type": "code",
   "execution_count": 112,
   "metadata": {},
   "outputs": [
    {
     "data": {
      "text/plain": [
       "(9.174585024981939, 12.512969050695677, 19.10071648504879)"
      ]
     },
     "execution_count": 112,
     "metadata": {},
     "output_type": "execute_result"
    }
   ],
   "source": [
    "c_g1_low_std, c_g1_med_std, c_g1_high_std"
   ]
  },
  {
   "cell_type": "code",
   "execution_count": 113,
   "metadata": {},
   "outputs": [
    {
     "data": {
      "image/png": "[encoded data removed]",
      "text/plain": [
       "<Figure size 432x288 with 1 Axes>"
      ]
     },
     "metadata": {
      "needs_background": "light"
     },
     "output_type": "display_data"
    }
   ],
   "source": [
    "'''Here we place the number of times each hole was chosen by each subject in game 2 and into a dataframe.\n",
    "We also plot this data and get the means and standard deviations of it.'''\n",
    "\n",
    "c_g2_d_counts = pd.DataFrame([c02_p1_g2_count, c03_p1_g2_count,\n",
    "                            c05_p1_g2_count, c06_p1_g2_count, c09_p1_g2_count, c10_p1_g2_count, c11_p1_g2_count],\n",
    "         index=['c02_p1_g2_count', 'c03_p1_g2_count', 'c05_p1_g2_count', 'c06_p1_g2_count', \n",
    "                'c09_p1_g2_count', 'c10_p1_g2_count', 'c11_p1_g2_count'])\n",
    "\n",
    "\n",
    "#How to prevent NaN: df = df.fillna(0)\n",
    "c_g2_d_counts = c_g2_d_counts.fillna(0)\n",
    "\n",
    "#print\n",
    "c_g2_d_counts\n",
    "\n",
    "\n",
    "c_g2_d_counts.sum(axis=1)\n",
    "\n",
    "\n",
    "c_g2_d_counts_bar = c_g2_d_counts.plot.bar()\n",
    "\n",
    "# save as jpeg\n",
    "c_g2_d_counts_bar.figure.savefig(plot_file_name,\n",
    "                    format='jpeg',\n",
    "                    dpi=100)"
   ]
  },
  {
   "cell_type": "code",
   "execution_count": 114,
   "metadata": {},
   "outputs": [
    {
     "data": {
      "image/png": "[encoded data removed]",
      "text/plain": [
       "<Figure size 432x288 with 1 Axes>"
      ]
     },
     "metadata": {
      "needs_background": "light"
     },
     "output_type": "display_data"
    }
   ],
   "source": [
    "'''Here we place the number of times each hole was chosen by each subject in game 2 and into a dataframe.\n",
    "We also plot this data and get the means and standard deviations of it.'''\n",
    "\n",
    "c_g2_s_counts = pd.DataFrame([c01_p1_g2_count, c04_p1_g2_count, c12_p1_g2_count, c13_p1_g2_count, c14_p1_g2_count, c15_p1_g2_count, c16_p1_g2_count, c17_p1_g2_count, c18_p1_g2_count],\n",
    "         index=['c01_p1_g2_count', 'c04_p1_g2_count','c12_p1_g2_count', 'c13_p1_g2_count', \n",
    "                'c14_p1_g2_count', 'c15_p1_g2_count',\n",
    "                'c16_p1_g2_count', 'c17_p1_g2_count', 'c18_p1_g2_count'])\n",
    "\n",
    "\n",
    "#How to prevent NaN: df = df.fillna(0)\n",
    "c_g2_s_counts = c_g2_s_counts.fillna(0)\n",
    "\n",
    "#print\n",
    "c_g2_s_counts\n",
    "\n",
    "\n",
    "c_g2_s_counts.sum(axis=1)\n",
    "\n",
    "\n",
    "c_g2_s_counts_bar = c_g2_s_counts.plot.bar()\n",
    "\n",
    "# save as jpeg\n",
    "c_g2_s_counts_bar.figure.savefig(plot_file_name,\n",
    "                    format='jpeg',\n",
    "                    dpi=100)"
   ]
  },
  {
   "cell_type": "code",
   "execution_count": 115,
   "metadata": {},
   "outputs": [
    {
     "data": {
      "image/png": "[encoded data removed]",
      "text/plain": [
       "<Figure size 432x288 with 1 Axes>"
      ]
     },
     "metadata": {
      "needs_background": "light"
     },
     "output_type": "display_data"
    }
   ],
   "source": [
    "c_g2_s_counts_box = sns.boxplot( \n",
    "                 data=c_g2_s_counts, \n",
    "                 width=0.5,\n",
    "                 palette=\"pastel\")\n",
    "c_g2_s_counts_box.axes.set_title(\"SMAB4 Control Choice Distributions in Game 2-Same\",\n",
    "                    fontsize=16)\n",
    "\n",
    "plot_file_name=\"c_g2_s_counts_box.jpg\"\n",
    " \n",
    "plt.ylim(0, 100)\n",
    "c_g2_s_counts_box.axes.set(xlabel='Arm',ylabel='Frequency')\n",
    "\n",
    "# save as jpeg\n",
    "c_g2_s_counts_box.figure.savefig(plot_file_name,\n",
    "                    format='jpeg')"
   ]
  },
  {
   "cell_type": "code",
   "execution_count": 116,
   "metadata": {},
   "outputs": [
    {
     "data": {
      "image/png": "[encoded data removed]",
      "text/plain": [
       "<Figure size 432x288 with 1 Axes>"
      ]
     },
     "metadata": {
      "needs_background": "light"
     },
     "output_type": "display_data"
    }
   ],
   "source": [
    "c_g2_d_counts_box = sns.boxplot( \n",
    "                 data=c_g2_d_counts, \n",
    "                 width=0.5,\n",
    "                 palette=\"pastel\")\n",
    "c_g2_d_counts_box.axes.set_title(\"SMAB4 Control Choice Distributions in Game 2-Different\",\n",
    "                    fontsize=16)\n",
    "\n",
    "plot_file_name=\"c_g2_d_counts_box.jpg\"\n",
    " \n",
    "plt.ylim(0, 100)\n",
    "c_g2_d_counts_box.axes.set(xlabel='Arm',ylabel='Frequency')\n",
    "\n",
    "# save as jpeg\n",
    "c_g2_d_counts_box.figure.savefig(plot_file_name,\n",
    "                    format='jpeg')"
   ]
  },
  {
   "cell_type": "code",
   "execution_count": 117,
   "metadata": {},
   "outputs": [],
   "source": [
    "c_g2_s_low = np.mean(c_g2_s_counts.iloc[:,0])\n",
    "c_g2_s_med = np.mean(c_g2_s_counts.iloc[:,1])\n",
    "c_g2_s_high = np.mean(c_g2_s_counts.iloc[:,2])\n",
    "\n",
    "c_g2_d_low = np.mean(c_g2_d_counts.iloc[:,0])\n",
    "c_g2_d_med = np.mean(c_g2_d_counts.iloc[:,1])\n",
    "c_g2_d_high = np.mean(c_g2_d_counts.iloc[:,2])"
   ]
  },
  {
   "cell_type": "code",
   "execution_count": 118,
   "metadata": {},
   "outputs": [],
   "source": [
    "c_g2_s_low_std = np.std(c_g2_s_counts.iloc[:,0])\n",
    "c_g2_s_med_std = np.std(c_g2_s_counts.iloc[:,1])\n",
    "c_g2_s_high_std = np.std(c_g2_s_counts.iloc[:,2])\n",
    "\n",
    "c_g2_d_low_std = np.std(c_g2_d_counts.iloc[:,0])\n",
    "c_g2_d_med_std = np.std(c_g2_d_counts.iloc[:,1])\n",
    "c_g2_d_high_std = np.std(c_g2_d_counts.iloc[:,2])"
   ]
  },
  {
   "cell_type": "code",
   "execution_count": 119,
   "metadata": {},
   "outputs": [
    {
     "data": {
      "text/plain": [
       "Ttest_indResult(statistic=array([ 1.42791681, -0.04402531, -0.95511923]), pvalue=array([0.16620003, 0.96524848, 0.34903964]))"
      ]
     },
     "execution_count": 119,
     "metadata": {},
     "output_type": "execute_result"
    }
   ],
   "source": [
    "sp.stats.ttest_ind(c_g1_counts, c_g2_s_counts)"
   ]
  },
  {
   "cell_type": "code",
   "execution_count": 120,
   "metadata": {},
   "outputs": [
    {
     "data": {
      "text/plain": [
       "Ttest_indResult(statistic=array([-0.08967126,  0.49792931, -0.38736068]), pvalue=array([0.92935982, 0.62347478, 0.7022113 ]))"
      ]
     },
     "execution_count": 120,
     "metadata": {},
     "output_type": "execute_result"
    }
   ],
   "source": [
    "sp.stats.ttest_ind(c_g1_counts, c_g2_d_counts)"
   ]
  },
  {
   "cell_type": "code",
   "execution_count": 121,
   "metadata": {},
   "outputs": [],
   "source": [
    "#sp.stats.ttest_ind(c_g1_scores, c_g2_s_scores)"
   ]
  },
  {
   "cell_type": "markdown",
   "metadata": {},
   "source": [
    "# Reaction Time Analyses"
   ]
  },
  {
   "cell_type": "code",
   "execution_count": 122,
   "metadata": {},
   "outputs": [],
   "source": [
    "'Here we get the reaction times'\n",
    "'NEED to fix rewards for SMAB4'\n",
    "time_c_1 = pd.DataFrame(columns = ['session','post win','post loss'])\n",
    "time_c_2 = pd.DataFrame(columns = ['session','post win','post loss'])"
   ]
  },
  {
   "cell_type": "code",
   "execution_count": 123,
   "metadata": {},
   "outputs": [],
   "source": [
    "time_c_1 = reaction_time(c02_p1_g1, time_c_1)\n",
    "time_c_1 = reaction_time(c03_p1_g1, time_c_1)\n",
    "time_c_1 = reaction_time(c05_p1_g1, time_c_1)\n",
    "time_c_1 = reaction_time(c06_p1_g1, time_c_1)\n",
    "time_c_1 = reaction_time(c09_p1_g1, time_c_1)\n",
    "time_c_1 = reaction_time(c10_p1_g1, time_c_1)\n",
    "time_c_1 = reaction_time(c11_p1_g1, time_c_1)\n",
    "time_c_1 = reaction_time(c12_p1_g1, time_c_1)\n",
    "time_c_1 = reaction_time(c13_p1_g1, time_c_1)\n",
    "time_c_1 = reaction_time(c14_p1_g1, time_c_1)\n",
    "time_c_1 = reaction_time(c15_p1_g1, time_c_1)\n",
    "time_c_1 = reaction_time(c16_p1_g1, time_c_1)\n",
    "time_c_1 = reaction_time(c17_p1_g1, time_c_1)\n",
    "time_c_1 = reaction_time(c18_p1_g1, time_c_1)"
   ]
  },
  {
   "cell_type": "code",
   "execution_count": 124,
   "metadata": {},
   "outputs": [
    {
     "data": {
      "text/html": [
       "<div>\n",
       "<style scoped>\n",
       "    .dataframe tbody tr th:only-of-type {\n",
       "        vertical-align: middle;\n",
       "    }\n",
       "\n",
       "    .dataframe tbody tr th {\n",
       "        vertical-align: top;\n",
       "    }\n",
       "\n",
       "    .dataframe thead th {\n",
       "        text-align: right;\n",
       "    }\n",
       "</style>\n",
       "<table border=\"1\" class=\"dataframe\">\n",
       "  <thead>\n",
       "    <tr style=\"text-align: right;\">\n",
       "      <th></th>\n",
       "      <th>session</th>\n",
       "      <th>post win</th>\n",
       "      <th>post loss</th>\n",
       "    </tr>\n",
       "  </thead>\n",
       "  <tbody>\n",
       "    <tr>\n",
       "      <td>0</td>\n",
       "      <td>c02_p1_g1</td>\n",
       "      <td>4.310843</td>\n",
       "      <td>4.483266</td>\n",
       "    </tr>\n",
       "    <tr>\n",
       "      <td>1</td>\n",
       "      <td>c03_p1_g1</td>\n",
       "      <td>3.233906</td>\n",
       "      <td>3.376468</td>\n",
       "    </tr>\n",
       "    <tr>\n",
       "      <td>2</td>\n",
       "      <td>c05_p1_g1</td>\n",
       "      <td>3.831172</td>\n",
       "      <td>3.794584</td>\n",
       "    </tr>\n",
       "    <tr>\n",
       "      <td>3</td>\n",
       "      <td>c06_p1_g1</td>\n",
       "      <td>3.367617</td>\n",
       "      <td>3.455480</td>\n",
       "    </tr>\n",
       "    <tr>\n",
       "      <td>4</td>\n",
       "      <td>c09_p1_g1</td>\n",
       "      <td>3.567952</td>\n",
       "      <td>3.557236</td>\n",
       "    </tr>\n",
       "    <tr>\n",
       "      <td>5</td>\n",
       "      <td>c10_p1_g1</td>\n",
       "      <td>3.213206</td>\n",
       "      <td>3.451479</td>\n",
       "    </tr>\n",
       "    <tr>\n",
       "      <td>6</td>\n",
       "      <td>c11_p1_g1</td>\n",
       "      <td>3.615086</td>\n",
       "      <td>4.014988</td>\n",
       "    </tr>\n",
       "    <tr>\n",
       "      <td>7</td>\n",
       "      <td>c12_p1_g1</td>\n",
       "      <td>3.721225</td>\n",
       "      <td>3.878290</td>\n",
       "    </tr>\n",
       "    <tr>\n",
       "      <td>8</td>\n",
       "      <td>c13_p1_g1</td>\n",
       "      <td>3.484952</td>\n",
       "      <td>3.786906</td>\n",
       "    </tr>\n",
       "    <tr>\n",
       "      <td>9</td>\n",
       "      <td>c14_p1_g1</td>\n",
       "      <td>3.311307</td>\n",
       "      <td>3.439066</td>\n",
       "    </tr>\n",
       "    <tr>\n",
       "      <td>10</td>\n",
       "      <td>c15_p1_g1</td>\n",
       "      <td>4.145404</td>\n",
       "      <td>4.108843</td>\n",
       "    </tr>\n",
       "    <tr>\n",
       "      <td>11</td>\n",
       "      <td>c16_p1_g1</td>\n",
       "      <td>3.262908</td>\n",
       "      <td>3.320465</td>\n",
       "    </tr>\n",
       "    <tr>\n",
       "      <td>12</td>\n",
       "      <td>c17_p1_g1</td>\n",
       "      <td>2.647495</td>\n",
       "      <td>2.769062</td>\n",
       "    </tr>\n",
       "    <tr>\n",
       "      <td>13</td>\n",
       "      <td>c18_p1_g1</td>\n",
       "      <td>3.518423</td>\n",
       "      <td>3.607217</td>\n",
       "    </tr>\n",
       "  </tbody>\n",
       "</table>\n",
       "</div>"
      ],
      "text/plain": [
       "      session  post win  post loss\n",
       "0   c02_p1_g1  4.310843   4.483266\n",
       "1   c03_p1_g1  3.233906   3.376468\n",
       "2   c05_p1_g1  3.831172   3.794584\n",
       "3   c06_p1_g1  3.367617   3.455480\n",
       "4   c09_p1_g1  3.567952   3.557236\n",
       "5   c10_p1_g1  3.213206   3.451479\n",
       "6   c11_p1_g1  3.615086   4.014988\n",
       "7   c12_p1_g1  3.721225   3.878290\n",
       "8   c13_p1_g1  3.484952   3.786906\n",
       "9   c14_p1_g1  3.311307   3.439066\n",
       "10  c15_p1_g1  4.145404   4.108843\n",
       "11  c16_p1_g1  3.262908   3.320465\n",
       "12  c17_p1_g1  2.647495   2.769062\n",
       "13  c18_p1_g1  3.518423   3.607217"
      ]
     },
     "execution_count": 124,
     "metadata": {},
     "output_type": "execute_result"
    }
   ],
   "source": [
    "time_c_1"
   ]
  },
  {
   "cell_type": "code",
   "execution_count": 125,
   "metadata": {},
   "outputs": [],
   "source": [
    "time_c_2 = reaction_time(c02_p1_g2, time_c_2)\n",
    "time_c_2 = reaction_time(c03_p1_g2, time_c_2)\n",
    "time_c_2 = reaction_time(c05_p1_g2, time_c_2)\n",
    "time_c_2 = reaction_time(c06_p1_g2, time_c_2)\n",
    "time_c_2 = reaction_time(c09_p1_g2, time_c_2)\n",
    "time_c_2 = reaction_time(c10_p1_g2, time_c_2)\n",
    "time_c_2 = reaction_time(c11_p1_g2, time_c_2)\n",
    "time_c_2 = reaction_time(c12_p1_g2, time_c_2)\n",
    "time_c_2 = reaction_time(c13_p1_g2, time_c_2)\n",
    "time_c_2 = reaction_time(c14_p1_g2, time_c_2)\n",
    "time_c_2 = reaction_time(c15_p1_g2, time_c_2)\n",
    "time_c_2 = reaction_time(c16_p1_g2, time_c_2)\n",
    "time_c_2 = reaction_time(c17_p1_g2, time_c_2)\n",
    "time_c_2 = reaction_time(c18_p1_g2, time_c_2)"
   ]
  },
  {
   "cell_type": "code",
   "execution_count": 126,
   "metadata": {},
   "outputs": [
    {
     "data": {
      "image/png": "[encoded data removed]",
      "text/plain": [
       "<Figure size 432x288 with 1 Axes>"
      ]
     },
     "metadata": {
      "needs_background": "light"
     },
     "output_type": "display_data"
    }
   ],
   "source": [
    "times_c_g1_box = sns.boxplot( \n",
    "                 data=time_c_1, \n",
    "                 width=0.5,\n",
    "                 palette=\"pastel\")\n",
    "times_c_g1_box.axes.set_title(\"SMAB4 Control Reaction Times in Game 1\",\n",
    "                    fontsize=16)\n",
    "\n",
    "plot_file_name=\"times_c_g1_box.jpg\"\n",
    " \n",
    "plt.ylim(0, 5)\n",
    "times_c_g1_box.axes.set(ylabel='Time in sec.')\n",
    "\n",
    "# save as jpeg\n",
    "times_c_g1_box.figure.savefig(plot_file_name,format='jpeg')"
   ]
  },
  {
   "cell_type": "code",
   "execution_count": 127,
   "metadata": {},
   "outputs": [
    {
     "data": {
      "image/png": "[encoded data removed]",
      "text/plain": [
       "<Figure size 432x288 with 1 Axes>"
      ]
     },
     "metadata": {
      "needs_background": "light"
     },
     "output_type": "display_data"
    }
   ],
   "source": [
    "times_c_g2_box = sns.boxplot( \n",
    "                 data=time_c_2, \n",
    "                 width=0.5,\n",
    "                 palette=\"pastel\")\n",
    "times_c_g2_box.axes.set_title(\"SMAB4 Control Reaction Times in Game 2\",\n",
    "                    fontsize=16)\n",
    "\n",
    "plot_file_name=\"times_c_g2_box.jpg\"\n",
    " \n",
    "plt.ylim(0, 5)\n",
    "times_c_g2_box.axes.set(ylabel='Time in sec.')\n",
    "\n",
    "# save as jpeg\n",
    "times_c_g2_box.figure.savefig(plot_file_name,format='jpeg')"
   ]
  },
  {
   "cell_type": "code",
   "execution_count": 128,
   "metadata": {},
   "outputs": [
    {
     "data": {
      "text/plain": [
       "post win     3.516535\n",
       "post loss    3.645953\n",
       "dtype: float64"
      ]
     },
     "execution_count": 128,
     "metadata": {},
     "output_type": "execute_result"
    }
   ],
   "source": [
    "np.mean(time_c_1)"
   ]
  },
  {
   "cell_type": "code",
   "execution_count": 129,
   "metadata": {},
   "outputs": [
    {
     "data": {
      "text/plain": [
       "post win     3.423937\n",
       "post loss    3.395499\n",
       "dtype: float64"
      ]
     },
     "execution_count": 129,
     "metadata": {},
     "output_type": "execute_result"
    }
   ],
   "source": [
    "np.mean(time_c_2)"
   ]
  },
  {
   "cell_type": "code",
   "execution_count": 130,
   "metadata": {},
   "outputs": [
    {
     "data": {
      "text/plain": [
       "post win     0.399678\n",
       "post loss    0.398324\n",
       "dtype: float64"
      ]
     },
     "execution_count": 130,
     "metadata": {},
     "output_type": "execute_result"
    }
   ],
   "source": [
    "np.std(time_c_1)"
   ]
  },
  {
   "cell_type": "code",
   "execution_count": 131,
   "metadata": {},
   "outputs": [
    {
     "data": {
      "text/plain": [
       "post win     0.436234\n",
       "post loss    0.536441\n",
       "dtype: float64"
      ]
     },
     "execution_count": 131,
     "metadata": {},
     "output_type": "execute_result"
    }
   ],
   "source": [
    "np.std(time_c_2)"
   ]
  },
  {
   "cell_type": "code",
   "execution_count": 132,
   "metadata": {},
   "outputs": [
    {
     "data": {
      "text/plain": [
       "Ttest_relResult(statistic=-3.895131923798299, pvalue=0.0018430668367242645)"
      ]
     },
     "execution_count": 132,
     "metadata": {},
     "output_type": "execute_result"
    }
   ],
   "source": [
    "sp.stats.ttest_rel(time_c_1['post win'],time_c_1['post loss'])"
   ]
  },
  {
   "cell_type": "code",
   "execution_count": 133,
   "metadata": {},
   "outputs": [
    {
     "data": {
      "text/plain": [
       "Ttest_relResult(statistic=0.3910238480157525, pvalue=0.7021128497106475)"
      ]
     },
     "execution_count": 133,
     "metadata": {},
     "output_type": "execute_result"
    }
   ],
   "source": [
    "sp.stats.ttest_rel(time_c_2['post win'],time_c_2['post loss'])"
   ]
  },
  {
   "cell_type": "code",
   "execution_count": 134,
   "metadata": {},
   "outputs": [],
   "source": [
    "#not working\n",
    "#sp.stats.ttest_rel(time_c_1['post win'],time_c_2['post win'])"
   ]
  },
  {
   "cell_type": "code",
   "execution_count": 135,
   "metadata": {},
   "outputs": [],
   "source": [
    "#not working\n",
    "#sp.stats.ttest_rel(time_c_1['post loss'],time_c_2['post loss'])"
   ]
  },
  {
   "cell_type": "markdown",
   "metadata": {},
   "source": [
    "# Maximizing vs Matching"
   ]
  },
  {
   "cell_type": "code",
   "execution_count": 136,
   "metadata": {},
   "outputs": [],
   "source": [
    "import math"
   ]
  },
  {
   "cell_type": "code",
   "execution_count": 137,
   "metadata": {},
   "outputs": [
    {
     "data": {
      "text/plain": [
       "'\\n#TEST- JSD for multiple distributions\\ndef entropy(prob_dist, base=math.e):\\n        return -sum([p * math.log(p,base) for p in prob_dist if p != 0])\\n\\ndef jsd(prob_dists, base=math.e):\\n    weight = 1/len(prob_dists) #all same weight\\n    js_left = [0,0,0]\\n    js_right = 0    \\n    for pd in prob_dists:\\n        js_left[0] += pd[0]*weight\\n        js_left[1] += pd[1]*weight\\n        js_left[2] += pd[2]*weight\\n        js_right += weight*entropy(pd,base)\\n    return entropy(js_left)-js_right'"
      ]
     },
     "execution_count": 137,
     "metadata": {},
     "output_type": "execute_result"
    }
   ],
   "source": [
    "'''\n",
    "#TEST- JSD for multiple distributions\n",
    "def entropy(prob_dist, base=math.e):\n",
    "        return -sum([p * math.log(p,base) for p in prob_dist if p != 0])\n",
    "\n",
    "def jsd(prob_dists, base=math.e):\n",
    "    weight = 1/len(prob_dists) #all same weight\n",
    "    js_left = [0,0,0]\n",
    "    js_right = 0    \n",
    "    for pd in prob_dists:\n",
    "        js_left[0] += pd[0]*weight\n",
    "        js_left[1] += pd[1]*weight\n",
    "        js_left[2] += pd[2]*weight\n",
    "        js_right += weight*entropy(pd,base)\n",
    "    return entropy(js_left)-js_right'''"
   ]
  },
  {
   "cell_type": "code",
   "execution_count": 138,
   "metadata": {},
   "outputs": [],
   "source": [
    "#NOTE: rewrite using pandas dataframe\n",
    "# In[239]:\n",
    "\n",
    "#Call 'call_jsd' for each participant for each game in the single player sessions.\n",
    "#with 0, put in actual probabilities in brackets\n",
    "\n",
    "s01_g1_max,s01_g1_match,s01_g1_rand,s01_g1_soc = call_jsd(s01_p1_g1_count)\n",
    "s01_g2_max,s01_g2_match,s01_g2_rand,s01_g2_soc = call_jsd(s01_p1_g2_count)\n",
    "s03_g1_max,s03_g1_match,s03_g1_rand,s03_g1_soc = call_jsd(s03_p1_g1_count)\n",
    "s03_g2_max,s03_g2_match,s03_g2_rand,s03_g2_soc = call_jsd(s03_p1_g2_count)\n",
    "s05_g1_max,s05_g1_match,s05_g1_rand,s05_g1_soc= call_jsd(s05_p1_g1_count)\n",
    "s05_g2_max,s05_g2_match,s05_g2_rand,s05_g2_soc = call_jsd([11, 0, 89])\n",
    "s06_g1_max,s06_g1_match,s06_g1_rand,s06_g1_soc = call_jsd(s06_p1_g1_count)\n",
    "s06_g2_max,s06_g2_match,s06_g2_rand,s06_g2_soc = call_jsd(s06_p1_g2_count)\n",
    "s07_g1_max,s07_g1_match,s07_g1_rand,s07_g1_soc = call_jsd(s07_p1_g1_count)\n",
    "s07_g2_max,s07_g2_match,s07_g2_rand,s07_g2_soc = call_jsd(s07_p1_g2_count)\n",
    "s08_g1_max,s08_g1_match,s08_g1_rand,s08_g1_soc = call_jsd(s08_p1_g1_count)\n",
    "s08_g2_max,s08_g2_match,s08_g2_rand,s08_g2_soc = call_jsd(s08_p1_g2_count)\n",
    "s09_g1_max,s09_g1_match,s09_g1_rand,s09_g1_soc = call_jsd(s09_p1_g1_count)\n",
    "s09_g2_max,s09_g2_match,s09_g2_rand,s09_g2_soc = call_jsd(s09_p1_g2_count)\n",
    "s11_g1_max,s11_g1_match,s11_g1_rand,s11_g1_soc = call_jsd(s11_p1_g1_count)\n",
    "s11_g2_max,s11_g2_match,s11_g2_rand,s11_g2_soc = call_jsd(s11_p1_g2_count)\n",
    "s12_g1_max,s12_g1_match,s12_g1_rand,s12_g1_soc = call_jsd(s12_p1_g1_count)\n",
    "s12_g2_max,s12_g2_match,s12_g2_rand,s12_g2_soc = call_jsd(s12_p1_g2_count)\n",
    "s14_g1_max,s14_g1_match,s14_g1_rand,s14_g1_soc = call_jsd(s14_p1_g1_count)\n",
    "s14_g2_max,s14_g2_match,s14_g2_rand,s14_g2_soc = call_jsd([2,0,98])\n",
    "s15_g1_max,s15_g1_match,s15_g1_rand,s15_g1_soc = call_jsd(s15_p1_g1_count)\n",
    "s15_g2_max,s15_g2_match,s15_g2_rand,s15_g2_soc = call_jsd(s15_p1_g2_count)\n",
    "s16_g1_max,s16_g1_match,s16_g1_rand,s16_g1_soc = call_jsd(s16_p1_g1_count)\n",
    "s16_g2_max,s16_g2_match,s16_g2_rand,s16_g2_soc = call_jsd(s16_p1_g2_count)\n",
    "s17_g1_max,s17_g1_match,s17_g1_rand,s17_g1_soc = call_jsd(s17_p1_g1_count)\n",
    "s17_g2_max,s17_g2_match,s17_g2_rand,s17_g2_soc = call_jsd([0,22,78])\n",
    "s19_g1_max,s19_g1_match,s19_g1_rand,s19_g1_soc = call_jsd(s19_p1_g1_count)\n",
    "s19_g2_max,s19_g2_match,s19_g2_rand,s19_g2_soc = call_jsd(s19_p1_g2_count)\n",
    "s20_g1_max,s20_g1_match,s20_g1_rand,s20_g1_soc = call_jsd(s20_p1_g1_count)\n",
    "s20_g2_max,s20_g2_match,s20_g2_rand,s20_g2_soc = call_jsd(s20_p1_g2_count)\n",
    "c01_g1_max,c01_g1_match,c01_g1_rand,c01_g1_soc = call_jsd(c01_p1_g1_count)\n",
    "c01_g2_max,c01_g2_match,c01_g2_rand,c01_g2_soc = call_jsd(c01_p1_g2_count)\n",
    "c02_g1_max,c02_g1_match,c02_g1_rand,c02_g1_soc = call_jsd(c02_p1_g1_count)\n",
    "c02_g2_max,c02_g2_match,c02_g2_rand,c02_g2_soc = call_jsd(c02_p1_g2_count)\n",
    "c03_g1_max,c03_g1_match,c03_g1_rand,c03_g1_soc = call_jsd(c03_p1_g1_count)\n",
    "c03_g2_max,c03_g2_match,c03_g2_rand,c03_g2_soc = call_jsd(c03_p1_g2_count)\n",
    "c04_g1_max,c04_g1_match,c04_g1_rand,c04_g1_soc = call_jsd(c04_p1_g1_count)\n",
    "c04_g2_max,c04_g2_match,c04_g2_rand,c04_g2_soc = call_jsd(c04_p1_g2_count)\n",
    "c05_g1_max,c05_g1_match,c05_g1_rand,c05_g1_soc = call_jsd(c05_p1_g1_count)\n",
    "c05_g2_max,c05_g2_match,c05_g2_rand,c05_g2_soc = call_jsd(c05_p1_g2_count)\n",
    "c06_g1_max,c06_g1_match,c06_g1_rand,c06_g1_soc = call_jsd(c06_p1_g1_count)\n",
    "c06_g2_max,c06_g2_match,c06_g2_rand,c06_g2_soc = call_jsd(c06_p1_g1_count)\n",
    "c07_g1_max,c07_g1_match,c07_g1_rand,c07_g1_soc = call_jsd(c07_p1_g1_count)\n",
    "c07_g2_max,c07_g2_match,c07_g2_rand,c07_g2_soc = call_jsd(c07_p1_g1_count)\n",
    "c09_g1_max,c09_g1_match,c09_g1_rand,c09_g1_soc = call_jsd(c09_p1_g1_count)\n",
    "c09_g2_max,c09_g2_match,c09_g2_rand,c09_g2_soc = call_jsd(c09_p1_g2_count)\n",
    "c10_g1_max,c10_g1_match,c10_g1_rand,c10_g1_soc = call_jsd(c10_p1_g1_count)\n",
    "c10_g2_max,c10_g2_match,c10_g2_rand,c10_g2_soc = call_jsd(c10_p1_g2_count)\n",
    "c11_g1_max,c11_g1_match,c11_g1_rand,c11_g1_soc = call_jsd(c11_p1_g1_count)\n",
    "c11_g2_max,c11_g2_match,c11_g2_rand,c11_g2_soc= call_jsd(c11_p1_g2_count)\n",
    "c12_g1_max,c12_g1_match,c12_g1_rand,c12_g1_soc = call_jsd(c12_p1_g1_count)\n",
    "c12_g2_max,c12_g2_match,c12_g2_rand,c12_g2_soc = call_jsd(c12_p1_g2_count)\n",
    "c13_g1_max,c13_g1_match,c13_g1_rand,c13_g1_soc  = call_jsd(c13_p1_g1_count)\n",
    "c13_g2_max,c13_g2_match,c13_g2_rand,c13_g2_soc = call_jsd(c13_p1_g2_count)\n",
    "c14_g1_max,c14_g1_match,c14_g1_rand,c14_g1_soc = call_jsd(c14_p1_g1_count)\n",
    "c14_g2_max,c14_g2_match,c14_g2_rand,c14_g2_soc = call_jsd(c14_p1_g2_count)\n",
    "c16_g1_max,c16_g1_match,c16_g1_rand,c16_g1_soc = call_jsd(c16_p1_g1_count)\n",
    "c16_g2_max,c16_g2_match,c16_g2_rand,c16_g2_soc = call_jsd(c16_p1_g2_count)\n",
    "c17_g1_max,c17_g1_match,c17_g1_rand,c17_g1_soc = call_jsd(c17_p1_g1_count)\n",
    "c17_g2_max,c17_g2_match,c17_g2_rand,c17_g2_soc = call_jsd(c17_p1_g2_count)\n",
    "c18_g1_max,c18_g1_match,c18_g1_rand,c18_g1_soc = call_jsd(c18_p1_g1_count)\n",
    "c18_g2_max,c18_g2_match,c18_g2_rand,c18_g2_soc = call_jsd(c18_p1_g2_count)"
   ]
  },
  {
   "cell_type": "code",
   "execution_count": 139,
   "metadata": {},
   "outputs": [
    {
     "data": {
      "text/plain": [
       "30    38\n",
       "60    43\n",
       "90    19\n",
       "Name: probability, dtype: int64"
      ]
     },
     "execution_count": 139,
     "metadata": {},
     "output_type": "execute_result"
    }
   ],
   "source": [
    "s01_p1_g1_count"
   ]
  },
  {
   "cell_type": "code",
   "execution_count": 140,
   "metadata": {},
   "outputs": [
    {
     "data": {
      "text/plain": [
       "0.4318754981734429"
      ]
     },
     "execution_count": 140,
     "metadata": {},
     "output_type": "execute_result"
    }
   ],
   "source": [
    "s01_g1_max"
   ]
  },
  {
   "cell_type": "code",
   "execution_count": 141,
   "metadata": {},
   "outputs": [
    {
     "data": {
      "text/plain": [
       "0.06054148947299787"
      ]
     },
     "execution_count": 141,
     "metadata": {},
     "output_type": "execute_result"
    }
   ],
   "source": [
    "s01_g1_match"
   ]
  },
  {
   "cell_type": "code",
   "execution_count": 142,
   "metadata": {},
   "outputs": [
    {
     "data": {
      "text/plain": [
       "30    38\n",
       "60    16\n",
       "90    46\n",
       "Name: probability, dtype: int64"
      ]
     },
     "execution_count": 142,
     "metadata": {},
     "output_type": "execute_result"
    }
   ],
   "source": [
    "s01_p1_g2_count"
   ]
  },
  {
   "cell_type": "code",
   "execution_count": 143,
   "metadata": {},
   "outputs": [
    {
     "data": {
      "text/plain": [
       "0.23828696089939724"
      ]
     },
     "execution_count": 143,
     "metadata": {},
     "output_type": "execute_result"
    }
   ],
   "source": [
    "s01_g2_max"
   ]
  },
  {
   "cell_type": "code",
   "execution_count": 144,
   "metadata": {},
   "outputs": [],
   "source": [
    "max_vs_max, max_vs_match, d, c = call_jsd(maximize)"
   ]
  },
  {
   "cell_type": "code",
   "execution_count": 145,
   "metadata": {},
   "outputs": [],
   "source": [
    "# In[ ]:\n",
    "\n",
    "\n",
    "#Create a dataframe for single player game 1 jsd scores, with a column for each strategy.'''\n",
    "control_jsd_g1 = pd.DataFrame({'max':[s01_g1_max,s03_g1_max,s05_g1_max,s06_g1_max,s07_g1_max,s08_g1_max,\n",
    "                                s09_g1_max, s11_g1_max, s12_g1_max, s14_g1_max, s15_g1_max, s16_g1_max, s17_g1_max, \n",
    "                                      s19_g1_max, s20_g1_max, c01_g1_max, c02_g1_max, c03_g1_max, c04_g1_max, c05_g1_max, c06_g1_max, \n",
    "                                      c07_g1_max, c09_g1_max, c10_g1_max, c11_g1_max, c12_g1_max, c13_g1_max, c14_g1_max, \n",
    "                                      c16_g1_max, c17_g1_max, c18_g1_max],\n",
    "                      'match':[s01_g1_match,s03_g1_match,s05_g1_match\n",
    "                               ,s06_g1_match,s07_g1_match,s08_g1_match,s09_g1_match, s11_g1_match, \n",
    "                               s12_g1_match, s14_g1_match, s15_g1_match, s16_g1_match, s17_g1_match, s19_g1_match, \n",
    "                               s20_g1_match, c01_g1_match, c02_g1_match, c03_g1_match, c04_g1_match, c05_g1_match, c06_g1_match, \n",
    "                                      c07_g1_match, c09_g1_match, c10_g1_match, c11_g1_match, c12_g1_match, c13_g1_match, c14_g1_match, \n",
    "                                      c16_g1_match, c17_g1_match, c18_g1_match],\n",
    "                    'rand':[s01_g1_rand,s03_g1_rand,s05_g1_rand,s06_g1_rand,s07_g1_rand,s08_g1_rand,\n",
    "                                s09_g1_rand, s11_g1_rand, s12_g1_rand, s14_g1_rand, s15_g1_rand, s16_g1_rand, s17_g1_rand, \n",
    "                                      s19_g1_rand, s20_g1_rand, c01_g1_rand, c02_g1_rand, c03_g1_rand, c04_g1_rand, c05_g1_rand, c06_g1_rand, \n",
    "                                      c07_g1_rand, c09_g1_rand, c10_g1_rand, c11_g1_rand, c12_g1_rand, c13_g1_rand, c14_g1_rand, \n",
    "                                      c16_g1_rand, c17_g1_rand, c18_g1_rand],\n",
    "                        'soc':[s01_g1_soc,s03_g1_soc,s05_g1_soc,s06_g1_soc,s07_g1_soc,s08_g1_soc,\n",
    "                                s09_g1_soc, s11_g1_soc, s12_g1_soc, s14_g1_soc, s15_g1_soc, s16_g1_soc, s17_g1_soc, \n",
    "                                      s19_g1_soc, s20_g1_soc, c01_g1_soc, c02_g1_soc, c03_g1_soc, c04_g1_soc, c05_g1_soc, c06_g1_soc, \n",
    "                                      c07_g1_soc, c09_g1_soc, c10_g1_soc, c11_g1_soc, c12_g1_soc, c13_g1_soc, c14_g1_soc, \n",
    "                                      c16_g1_soc, c17_g1_soc, c18_g1_soc]},\n",
    "                              \n",
    "                        index=['s01', 's03','s05','s06','s07','s08','s09', 's11', 's12', 's14', 's15', 's16', 's17', 's19', 's20', 'c01', 'c02', 'c03', \n",
    "                               'c04','c05', 'c06', 'c07','c09', 'c10', 'c11', 'c12', 'c13', 'c14', 'c16', 'c17', 'c18'])"
   ]
  },
  {
   "cell_type": "code",
   "execution_count": 146,
   "metadata": {},
   "outputs": [
    {
     "data": {
      "text/html": [
       "<div>\n",
       "<style scoped>\n",
       "    .dataframe tbody tr th:only-of-type {\n",
       "        vertical-align: middle;\n",
       "    }\n",
       "\n",
       "    .dataframe tbody tr th {\n",
       "        vertical-align: top;\n",
       "    }\n",
       "\n",
       "    .dataframe thead th {\n",
       "        text-align: right;\n",
       "    }\n",
       "</style>\n",
       "<table border=\"1\" class=\"dataframe\">\n",
       "  <thead>\n",
       "    <tr style=\"text-align: right;\">\n",
       "      <th></th>\n",
       "      <th>max</th>\n",
       "      <th>match</th>\n",
       "      <th>rand</th>\n",
       "      <th>soc</th>\n",
       "    </tr>\n",
       "  </thead>\n",
       "  <tbody>\n",
       "    <tr>\n",
       "      <td>s01</td>\n",
       "      <td>0.431875</td>\n",
       "      <td>0.060541</td>\n",
       "      <td>0.013773</td>\n",
       "      <td>0.013773</td>\n",
       "    </tr>\n",
       "    <tr>\n",
       "      <td>s03</td>\n",
       "      <td>0.313661</td>\n",
       "      <td>0.015698</td>\n",
       "      <td>0.001941</td>\n",
       "      <td>0.001941</td>\n",
       "    </tr>\n",
       "    <tr>\n",
       "      <td>s05</td>\n",
       "      <td>0.194304</td>\n",
       "      <td>0.003409</td>\n",
       "      <td>0.041901</td>\n",
       "      <td>0.041901</td>\n",
       "    </tr>\n",
       "    <tr>\n",
       "      <td>s06</td>\n",
       "      <td>0.091385</td>\n",
       "      <td>0.039518</td>\n",
       "      <td>0.095295</td>\n",
       "      <td>0.095295</td>\n",
       "    </tr>\n",
       "    <tr>\n",
       "      <td>s07</td>\n",
       "      <td>0.238287</td>\n",
       "      <td>0.005365</td>\n",
       "      <td>0.008818</td>\n",
       "      <td>0.008818</td>\n",
       "    </tr>\n",
       "    <tr>\n",
       "      <td>s08</td>\n",
       "      <td>0.028559</td>\n",
       "      <td>0.116763</td>\n",
       "      <td>0.207761</td>\n",
       "      <td>0.207761</td>\n",
       "    </tr>\n",
       "    <tr>\n",
       "      <td>s09</td>\n",
       "      <td>0.244099</td>\n",
       "      <td>0.001430</td>\n",
       "      <td>0.018617</td>\n",
       "      <td>0.018617</td>\n",
       "    </tr>\n",
       "    <tr>\n",
       "      <td>s11</td>\n",
       "      <td>0.300160</td>\n",
       "      <td>0.015397</td>\n",
       "      <td>0.000712</td>\n",
       "      <td>0.000712</td>\n",
       "    </tr>\n",
       "    <tr>\n",
       "      <td>s12</td>\n",
       "      <td>0.140003</td>\n",
       "      <td>0.016232</td>\n",
       "      <td>0.073835</td>\n",
       "      <td>0.073835</td>\n",
       "    </tr>\n",
       "    <tr>\n",
       "      <td>s14</td>\n",
       "      <td>0.665096</td>\n",
       "      <td>0.393220</td>\n",
       "      <td>0.261594</td>\n",
       "      <td>0.261594</td>\n",
       "    </tr>\n",
       "    <tr>\n",
       "      <td>s15</td>\n",
       "      <td>0.083061</td>\n",
       "      <td>0.045766</td>\n",
       "      <td>0.105342</td>\n",
       "      <td>0.105342</td>\n",
       "    </tr>\n",
       "    <tr>\n",
       "      <td>s16</td>\n",
       "      <td>0.300160</td>\n",
       "      <td>0.011029</td>\n",
       "      <td>0.004354</td>\n",
       "      <td>0.004354</td>\n",
       "    </tr>\n",
       "    <tr>\n",
       "      <td>s17</td>\n",
       "      <td>0.024895</td>\n",
       "      <td>0.124382</td>\n",
       "      <td>0.216001</td>\n",
       "      <td>0.216001</td>\n",
       "    </tr>\n",
       "    <tr>\n",
       "      <td>s19</td>\n",
       "      <td>0.178849</td>\n",
       "      <td>0.006670</td>\n",
       "      <td>0.028872</td>\n",
       "      <td>0.028872</td>\n",
       "    </tr>\n",
       "    <tr>\n",
       "      <td>s20</td>\n",
       "      <td>0.336964</td>\n",
       "      <td>0.019880</td>\n",
       "      <td>0.014684</td>\n",
       "      <td>0.014684</td>\n",
       "    </tr>\n",
       "    <tr>\n",
       "      <td>c01</td>\n",
       "      <td>0.396821</td>\n",
       "      <td>0.043765</td>\n",
       "      <td>0.007851</td>\n",
       "      <td>0.007851</td>\n",
       "    </tr>\n",
       "    <tr>\n",
       "      <td>c02</td>\n",
       "      <td>0.255956</td>\n",
       "      <td>0.006144</td>\n",
       "      <td>0.029844</td>\n",
       "      <td>0.029844</td>\n",
       "    </tr>\n",
       "    <tr>\n",
       "      <td>c03</td>\n",
       "      <td>0.058934</td>\n",
       "      <td>0.089540</td>\n",
       "      <td>0.148483</td>\n",
       "      <td>0.148483</td>\n",
       "    </tr>\n",
       "    <tr>\n",
       "      <td>c04</td>\n",
       "      <td>0.522538</td>\n",
       "      <td>0.140916</td>\n",
       "      <td>0.054512</td>\n",
       "      <td>0.054512</td>\n",
       "    </tr>\n",
       "    <tr>\n",
       "      <td>c05</td>\n",
       "      <td>0.306858</td>\n",
       "      <td>0.021992</td>\n",
       "      <td>0.000330</td>\n",
       "      <td>0.000330</td>\n",
       "    </tr>\n",
       "    <tr>\n",
       "      <td>c06</td>\n",
       "      <td>0.262006</td>\n",
       "      <td>0.010927</td>\n",
       "      <td>0.004006</td>\n",
       "      <td>0.004006</td>\n",
       "    </tr>\n",
       "    <tr>\n",
       "      <td>c07</td>\n",
       "      <td>0.110982</td>\n",
       "      <td>0.026060</td>\n",
       "      <td>0.075646</td>\n",
       "      <td>0.075646</td>\n",
       "    </tr>\n",
       "    <tr>\n",
       "      <td>c09</td>\n",
       "      <td>0.380396</td>\n",
       "      <td>0.034347</td>\n",
       "      <td>0.009988</td>\n",
       "      <td>0.009988</td>\n",
       "    </tr>\n",
       "    <tr>\n",
       "      <td>c10</td>\n",
       "      <td>0.083061</td>\n",
       "      <td>0.044336</td>\n",
       "      <td>0.106377</td>\n",
       "      <td>0.106377</td>\n",
       "    </tr>\n",
       "    <tr>\n",
       "      <td>c11</td>\n",
       "      <td>0.255956</td>\n",
       "      <td>0.002464</td>\n",
       "      <td>0.013773</td>\n",
       "      <td>0.013773</td>\n",
       "    </tr>\n",
       "    <tr>\n",
       "      <td>c12</td>\n",
       "      <td>0.422810</td>\n",
       "      <td>0.052730</td>\n",
       "      <td>0.014268</td>\n",
       "      <td>0.014268</td>\n",
       "    </tr>\n",
       "    <tr>\n",
       "      <td>c13</td>\n",
       "      <td>0.262006</td>\n",
       "      <td>0.005082</td>\n",
       "      <td>0.006330</td>\n",
       "      <td>0.006330</td>\n",
       "    </tr>\n",
       "    <tr>\n",
       "      <td>c14</td>\n",
       "      <td>0.178849</td>\n",
       "      <td>0.006670</td>\n",
       "      <td>0.028872</td>\n",
       "      <td>0.028872</td>\n",
       "    </tr>\n",
       "    <tr>\n",
       "      <td>c16</td>\n",
       "      <td>0.226883</td>\n",
       "      <td>0.000247</td>\n",
       "      <td>0.018292</td>\n",
       "      <td>0.018292</td>\n",
       "    </tr>\n",
       "    <tr>\n",
       "      <td>c17</td>\n",
       "      <td>0.066841</td>\n",
       "      <td>0.060504</td>\n",
       "      <td>0.127830</td>\n",
       "      <td>0.127830</td>\n",
       "    </tr>\n",
       "    <tr>\n",
       "      <td>c18</td>\n",
       "      <td>0.121735</td>\n",
       "      <td>0.020379</td>\n",
       "      <td>0.066452</td>\n",
       "      <td>0.066452</td>\n",
       "    </tr>\n",
       "  </tbody>\n",
       "</table>\n",
       "</div>"
      ],
      "text/plain": [
       "          max     match      rand       soc\n",
       "s01  0.431875  0.060541  0.013773  0.013773\n",
       "s03  0.313661  0.015698  0.001941  0.001941\n",
       "s05  0.194304  0.003409  0.041901  0.041901\n",
       "s06  0.091385  0.039518  0.095295  0.095295\n",
       "s07  0.238287  0.005365  0.008818  0.008818\n",
       "s08  0.028559  0.116763  0.207761  0.207761\n",
       "s09  0.244099  0.001430  0.018617  0.018617\n",
       "s11  0.300160  0.015397  0.000712  0.000712\n",
       "s12  0.140003  0.016232  0.073835  0.073835\n",
       "s14  0.665096  0.393220  0.261594  0.261594\n",
       "s15  0.083061  0.045766  0.105342  0.105342\n",
       "s16  0.300160  0.011029  0.004354  0.004354\n",
       "s17  0.024895  0.124382  0.216001  0.216001\n",
       "s19  0.178849  0.006670  0.028872  0.028872\n",
       "s20  0.336964  0.019880  0.014684  0.014684\n",
       "c01  0.396821  0.043765  0.007851  0.007851\n",
       "c02  0.255956  0.006144  0.029844  0.029844\n",
       "c03  0.058934  0.089540  0.148483  0.148483\n",
       "c04  0.522538  0.140916  0.054512  0.054512\n",
       "c05  0.306858  0.021992  0.000330  0.000330\n",
       "c06  0.262006  0.010927  0.004006  0.004006\n",
       "c07  0.110982  0.026060  0.075646  0.075646\n",
       "c09  0.380396  0.034347  0.009988  0.009988\n",
       "c10  0.083061  0.044336  0.106377  0.106377\n",
       "c11  0.255956  0.002464  0.013773  0.013773\n",
       "c12  0.422810  0.052730  0.014268  0.014268\n",
       "c13  0.262006  0.005082  0.006330  0.006330\n",
       "c14  0.178849  0.006670  0.028872  0.028872\n",
       "c16  0.226883  0.000247  0.018292  0.018292\n",
       "c17  0.066841  0.060504  0.127830  0.127830\n",
       "c18  0.121735  0.020379  0.066452  0.066452"
      ]
     },
     "execution_count": 146,
     "metadata": {},
     "output_type": "execute_result"
    }
   ],
   "source": [
    "control_jsd_g1"
   ]
  },
  {
   "cell_type": "code",
   "execution_count": 147,
   "metadata": {},
   "outputs": [
    {
     "name": "stdout",
     "output_type": "stream",
     "text": [
      "min values of row are at following columns :\n",
      "s01     rand\n",
      "s03     rand\n",
      "s05    match\n",
      "s06    match\n",
      "s07    match\n",
      "s08      max\n",
      "s09    match\n",
      "s11     rand\n",
      "s12    match\n",
      "s14     rand\n",
      "s15    match\n",
      "s16     rand\n",
      "s17      max\n",
      "s19    match\n",
      "s20     rand\n",
      "c01     rand\n",
      "c02    match\n",
      "c03      max\n",
      "c04     rand\n",
      "c05     rand\n",
      "c06     rand\n",
      "c07    match\n",
      "c09     rand\n",
      "c10    match\n",
      "c11    match\n",
      "c12     rand\n",
      "c13    match\n",
      "c14    match\n",
      "c16    match\n",
      "c17    match\n",
      "c18    match\n",
      "dtype: object\n"
     ]
    },
    {
     "data": {
      "text/plain": [
       "match    16\n",
       "rand     12\n",
       "max       3\n",
       "dtype: int64"
      ]
     },
     "execution_count": 147,
     "metadata": {},
     "output_type": "execute_result"
    }
   ],
   "source": [
    "# In[ ]:\n",
    "\n",
    "\n",
    "#closer to 0 = closer to that pure strategy\n",
    "control_jsd_g1\n",
    "\n",
    "\n",
    "\n",
    "# get the column name of min values in every row\n",
    "strategy_control_jsd_g1 = control_jsd_g1.idxmin(axis=1)\n",
    " \n",
    "print(\"min values of row are at following columns :\")\n",
    "print(strategy_control_jsd_g1)\n",
    "\n",
    "\n",
    "# In[ ]:\n",
    "\n",
    "\n",
    "strategy_control_jsd_g1.value_counts()"
   ]
  },
  {
   "cell_type": "code",
   "execution_count": 148,
   "metadata": {},
   "outputs": [],
   "source": [
    "#Create a dataframe for single player game 1 jsd scores, with a column for each strategy.'''\n",
    "control_jsd_g2d = pd.DataFrame({'max':[s01_g2_max,s03_g2_max,s05_g2_max,s06_g2_max,s07_g2_max,s08_g2_max,\n",
    "                                s09_g2_max, c02_g2_max, c03_g2_max, c05_g2_max, c06_g2_max, c07_g2_max,\n",
    "                                      c09_g2_max, c10_g2_max, c11_g2_max],\n",
    "                      'match':[s01_g2_match,s03_g2_match,s05_g2_match,\n",
    "                               s06_g2_match,s07_g2_match,s08_g2_match,s09_g2_match, \n",
    "                                c02_g2_match, c03_g2_match, c05_g2_match, c06_g2_match, c07_g2_match,\n",
    "                                      c09_g2_match, c10_g2_match, c11_g2_match],\n",
    "                    'rand':[s01_g2_rand,s03_g2_rand,s05_g2_rand,s06_g2_rand,s07_g2_rand,s08_g2_rand,\n",
    "                                s09_g2_rand, c02_g2_rand, c03_g2_rand, c05_g2_rand, c06_g2_rand, c07_g2_rand, \n",
    "                                      c09_g2_rand, c10_g2_rand, c11_g2_rand],\n",
    "                        'soc':[s01_g2_soc,s03_g2_soc,s05_g2_soc,s06_g2_soc,s07_g2_soc,s08_g2_soc,\n",
    "                                s09_g2_soc, c02_g2_soc, c03_g2_soc, c05_g2_soc, c06_g2_soc, c07_g2_soc,\n",
    "                                      c09_g2_soc, c10_g2_soc, c11_g2_soc]},    \n",
    "                        index=['s01', 's03','s05','s06','s07','s08','s09', 'c02', 'c03', \n",
    "                               'c05', 'c06', 'c07', 'c09', 'c10', 'c11'])"
   ]
  },
  {
   "cell_type": "code",
   "execution_count": 149,
   "metadata": {},
   "outputs": [],
   "source": [
    "#Create a dataframe for single player game 1 jsd scores, with a column for each strategy.'''\n",
    "control_jsd_g2s = pd.DataFrame({'max':[s11_g2_max, s12_g2_max, s14_g2_max, s15_g2_max, s16_g2_max, s17_g2_max, \n",
    "                                      s19_g2_max, s20_g2_max, c01_g2_max, c04_g2_max, c12_g2_max, c13_g2_max, c14_g2_max, \n",
    "                                      c16_g2_max, c17_g2_max, c18_g2_max],\n",
    "                      'match':[s11_g2_match, s12_g2_match, s14_g2_match, s15_g2_match, s16_g2_match, s17_g2_match, s19_g2_match, \n",
    "                               s20_g2_match, c01_g2_match, c04_g2_match, c12_g2_match, c13_g2_match, c14_g2_match, \n",
    "                                      c16_g2_match, c17_g2_match, c18_g2_match],\n",
    "                    'rand':[s11_g2_rand, s12_g2_rand, s14_g2_rand, s15_g2_rand, s16_g2_rand, s17_g2_rand, \n",
    "                                      s19_g2_rand, s20_g2_rand, c01_g2_rand, c04_g2_rand, c12_g2_rand, c13_g2_rand, c14_g2_rand, \n",
    "                                      c16_g2_rand, c17_g2_rand, c18_g2_rand],\n",
    "                        'soc':[s11_g2_soc, s12_g2_soc, s14_g2_soc, s15_g2_soc, s16_g2_soc, s17_g2_soc, \n",
    "                                      s19_g2_soc, s20_g2_soc, c01_g2_soc, c04_g2_soc, c12_g2_soc, c13_g2_soc, c14_g2_soc, \n",
    "                                      c16_g2_soc, c17_g2_soc, c18_g2_soc]},\n",
    "                              \n",
    "                        index=['s11', 's12', 's14','s15', 's16', 's17', 's19', 's20', 'c01', 'c04', 'c12', 'c13', 'c14', 'c16', 'c17', 'c18'])"
   ]
  },
  {
   "cell_type": "code",
   "execution_count": 150,
   "metadata": {},
   "outputs": [
    {
     "name": "stdout",
     "output_type": "stream",
     "text": [
      "min values of row are at following columns :\n",
      "s01     rand\n",
      "s03     rand\n",
      "s05      max\n",
      "s06      max\n",
      "s07    match\n",
      "s08    match\n",
      "s09    match\n",
      "c02    match\n",
      "c03      max\n",
      "c05     rand\n",
      "c06     rand\n",
      "c07    match\n",
      "c09     rand\n",
      "c10    match\n",
      "c11    match\n",
      "dtype: object\n",
      "minimum value in each column : \n",
      "max      0.039725\n",
      "match    0.000196\n",
      "rand     0.000712\n",
      "soc      0.000712\n",
      "dtype: float64\n",
      "maximum value in each column : \n",
      "max      0.441162\n",
      "match    0.146174\n",
      "rand     0.210697\n",
      "soc      0.210697\n",
      "dtype: float64\n"
     ]
    },
    {
     "data": {
      "text/plain": [
       "match    7\n",
       "rand     5\n",
       "max      3\n",
       "dtype: int64"
      ]
     },
     "execution_count": 150,
     "metadata": {},
     "output_type": "execute_result"
    }
   ],
   "source": [
    "control_jsd_g2d\n",
    "\n",
    "# get the column name of min values in every row\n",
    "strategy_control_jsd_g2d = control_jsd_g2d.idxmin(axis=1)\n",
    " \n",
    "print(\"min values of row are at following columns :\")\n",
    "print(strategy_control_jsd_g2d)\n",
    "\n",
    "\n",
    "\n",
    "minValues_control_jsd_g2d = control_jsd_g2d.min()\n",
    " \n",
    "print('minimum value in each column : ')\n",
    "print(minValues_control_jsd_g2d)\n",
    "\n",
    "\n",
    "# In[ ]:\n",
    "\n",
    "\n",
    "maxValues_control_jsd_g2d = control_jsd_g2d.max()\n",
    " \n",
    "print('maximum value in each column : ')\n",
    "print(maxValues_control_jsd_g2d)\n",
    "\n",
    "\n",
    "# In[ ]:\n",
    "\n",
    "\n",
    "strategy_control_jsd_g2d.value_counts()\n"
   ]
  },
  {
   "cell_type": "code",
   "execution_count": 151,
   "metadata": {},
   "outputs": [
    {
     "name": "stdout",
     "output_type": "stream",
     "text": [
      "min values of row are at following columns :\n",
      "s11     rand\n",
      "s12      max\n",
      "s14      max\n",
      "s15      max\n",
      "s16     rand\n",
      "s17    match\n",
      "s19    match\n",
      "s20    match\n",
      "c01     rand\n",
      "c04     rand\n",
      "c12     rand\n",
      "c13    match\n",
      "c14    match\n",
      "c16    match\n",
      "c17    match\n",
      "c18    match\n",
      "dtype: object\n",
      "minimum value in each column : \n",
      "max      0.006982\n",
      "match    0.000845\n",
      "rand     0.004098\n",
      "soc      0.004098\n",
      "dtype: float64\n",
      "maximum value in each column : \n",
      "max      0.624791\n",
      "match    0.188451\n",
      "rand     0.282731\n",
      "soc      0.282731\n",
      "dtype: float64\n"
     ]
    },
    {
     "data": {
      "text/plain": [
       "match    8\n",
       "rand     5\n",
       "max      3\n",
       "dtype: int64"
      ]
     },
     "execution_count": 151,
     "metadata": {},
     "output_type": "execute_result"
    }
   ],
   "source": [
    "control_jsd_g2s\n",
    "\n",
    "# get the column name of min values in every row\n",
    "strategy_control_jsd_g2s = control_jsd_g2s.idxmin(axis=1)\n",
    " \n",
    "print(\"min values of row are at following columns :\")\n",
    "print(strategy_control_jsd_g2s)\n",
    "\n",
    "\n",
    "\n",
    "minValues_control_jsd_g2s = control_jsd_g2s.min()\n",
    " \n",
    "print('minimum value in each column : ')\n",
    "print(minValues_control_jsd_g2s)\n",
    "\n",
    "\n",
    "# In[ ]:\n",
    "\n",
    "\n",
    "maxValues_control_jsd_g2s = control_jsd_g2s.max()\n",
    " \n",
    "print('maximum value in each column : ')\n",
    "print(maxValues_control_jsd_g2s)\n",
    "\n",
    "\n",
    "# In[ ]:\n",
    "\n",
    "\n",
    "strategy_control_jsd_g2s.value_counts()\n"
   ]
  },
  {
   "cell_type": "code",
   "execution_count": 152,
   "metadata": {},
   "outputs": [
    {
     "data": {
      "image/png": "[encoded data removed]",
      "text/plain": [
       "<Figure size 432x288 with 1 Axes>"
      ]
     },
     "metadata": {
      "needs_background": "light"
     },
     "output_type": "display_data"
    }
   ],
   "source": [
    "# In[ ]:\n",
    "\n",
    "\n",
    "#under line = matching (closer to 0)\n",
    "#plots of actual jsd values\n",
    "\n",
    "m, b = np.polyfit(control_jsd_g1['max'], control_jsd_g1['match'], 1)\n",
    "\n",
    "control_ego_jsd_g1_plot = control_jsd_g1.plot.scatter(x='max',y='match',s=50)\n",
    "plt.title('Control Egocentric Strategies Game 1', fontsize=18, y=1.05)\n",
    "plt.xticks(np.arange(0, 1, step=0.1))\n",
    "plt.yticks(np.arange(0, 1, step=0.1))\n",
    "#line1 = mlines.Line2D([0.2148, 0.2148],[-0.03, 0.5], color='red')\n",
    "#line2 = mlines.Line2D([0,0.8],[0.2148,0.2148])\n",
    "\n",
    "#plt.xlabel('Match')\n",
    "#plt.ylabel('Maximize')\n",
    "\n",
    "plt.ylim(-.1, .5)\n",
    "plt.xlim(-.1, .5)\n",
    "\n",
    "plt.gca().set_aspect('equal', adjustable='box')\n",
    "plt.draw()\n",
    "\n",
    "#add legend (NEEDS TO BE FIXED)\n",
    "from numpy.random import randn\n",
    "\n",
    "z = randn(100)\n",
    "\n",
    "#add line of slope 1\n",
    "plt.plot([0,1],[0,1], transform=plt.gca().transAxes)\n",
    "\n",
    "#s_jsd_g2_plot.add_line(line2)\n",
    "plt.savefig('control_ego_jsd_1.jpeg',format='jpeg')\n",
    "plt.show()"
   ]
  },
  {
   "cell_type": "code",
   "execution_count": 153,
   "metadata": {},
   "outputs": [
    {
     "data": {
      "image/png": "[encoded data removed]",
      "text/plain": [
       "<Figure size 432x288 with 1 Axes>"
      ]
     },
     "metadata": {
      "needs_background": "light"
     },
     "output_type": "display_data"
    }
   ],
   "source": [
    "# In[ ]:\n",
    "\n",
    "\n",
    "#under line = matching (closer to 0)\n",
    "#plots of actual jsd values\n",
    "\n",
    "m, b = np.polyfit(control_jsd_g2d['max'], control_jsd_g2d['match'], 1)\n",
    "\n",
    "control_ego_jsd_g2d_plot = control_jsd_g2d.plot.scatter(x='max',y='match',s=50)\n",
    "plt.title('Control Egocentric Strategies Game 2- Different', fontsize=18, y=1.05)\n",
    "plt.xticks(np.arange(0, 1, step=0.1))\n",
    "plt.yticks(np.arange(0, 1, step=0.1))\n",
    "#line1 = mlines.Line2D([0.2148, 0.2148],[-0.03, 0.5], color='red')\n",
    "#line2 = mlines.Line2D([0,0.8],[0.2148,0.2148])\n",
    "\n",
    "#plt.xlabel('Match')\n",
    "#plt.ylabel('Maximize')\n",
    "\n",
    "plt.ylim(-.1, .5)\n",
    "plt.xlim(-.1, .5)\n",
    "\n",
    "plt.gca().set_aspect('equal', adjustable='box')\n",
    "plt.draw()\n",
    "\n",
    "#add legend (NEEDS TO BE FIXED)\n",
    "from numpy.random import randn\n",
    "\n",
    "z = randn(100)\n",
    "\n",
    "plt.plot([0,1],[0,1], transform=plt.gca().transAxes)\n",
    "\n",
    "#s_jsd_g2_plot.add_line(line2)\n",
    "plt.savefig('control_ego_jsd_2d.jpg',format='jpg')\n",
    "plt.show()"
   ]
  },
  {
   "cell_type": "code",
   "execution_count": 154,
   "metadata": {},
   "outputs": [
    {
     "data": {
      "image/png": "[encoded data removed]",
      "text/plain": [
       "<Figure size 432x288 with 1 Axes>"
      ]
     },
     "metadata": {
      "needs_background": "light"
     },
     "output_type": "display_data"
    }
   ],
   "source": [
    "#under line = matching (closer to 0)\n",
    "#plots of actual jsd values\n",
    "\n",
    "m, b = np.polyfit(control_jsd_g2s['max'], control_jsd_g2s['match'], 1)\n",
    "\n",
    "control_ego_jsd_g2s_plot = control_jsd_g2s.plot.scatter(x='max',y='match',s=50)\n",
    "plt.title('Control Egocentric Strategies Game 2- Same', fontsize=18, y=1.05)\n",
    "plt.xticks(np.arange(0, 1, step=0.1))\n",
    "plt.yticks(np.arange(0, 1, step=0.1))\n",
    "#line1 = mlines.Line2D([0.2148, 0.2148],[-0.03, 0.5], color='red')\n",
    "#line2 = mlines.Line2D([0,0.8],[0.2148,0.2148])\n",
    "\n",
    "#plt.xlabel('Match')\n",
    "#plt.ylabel('Maximize')\n",
    "\n",
    "plt.ylim(-.1, .5)\n",
    "plt.xlim(-.1, .5)\n",
    "\n",
    "plt.gca().set_aspect('equal', adjustable='box')\n",
    "plt.draw()\n",
    "\n",
    "#add legend (NEEDS TO BE FIXED)\n",
    "from numpy.random import randn\n",
    "\n",
    "z = randn(100)\n",
    "\n",
    "plt.plot([0,1],[0,1], transform=plt.gca().transAxes)\n",
    "\n",
    "#s_jsd_g2_plot.add_line(line2)\n",
    "plt.savefig('control_ego_jsd_2s.jpg',format='jpg')\n",
    "plt.show()"
   ]
  },
  {
   "cell_type": "code",
   "execution_count": 155,
   "metadata": {},
   "outputs": [
    {
     "data": {
      "text/plain": [
       "Ttest_indResult(statistic=array([ 0.57630709, -0.77246361, -1.25089689, -1.25089689]), pvalue=array([0.56727916, 0.44387821, 0.21743692, 0.21743692]))"
      ]
     },
     "execution_count": 155,
     "metadata": {},
     "output_type": "execute_result"
    }
   ],
   "source": [
    "sp.stats.ttest_ind(control_jsd_g1, control_jsd_g2s)"
   ]
  },
  {
   "cell_type": "code",
   "execution_count": 156,
   "metadata": {},
   "outputs": [],
   "source": [
    "control_jsd_g2 = control_jsd_g2s.append(control_jsd_g2d)"
   ]
  },
  {
   "cell_type": "code",
   "execution_count": 157,
   "metadata": {},
   "outputs": [
    {
     "data": {
      "text/plain": [
       "Ttest_indResult(statistic=array([0.73598847, 1.27137223, 0.64338752, 0.64338752]), pvalue=array([0.46764948, 0.21369909, 0.52502818, 0.52502818]))"
      ]
     },
     "execution_count": 157,
     "metadata": {},
     "output_type": "execute_result"
    }
   ],
   "source": [
    "sp.stats.ttest_ind(control_jsd_g2s,control_jsd_g2d)"
   ]
  },
  {
   "cell_type": "code",
   "execution_count": 158,
   "metadata": {},
   "outputs": [],
   "source": [
    "#sp.stats.ttest_ind(control_jsd_g2,social_jsd_g2)"
   ]
  },
  {
   "cell_type": "code",
   "execution_count": 159,
   "metadata": {},
   "outputs": [
    {
     "data": {
      "text/plain": [
       "Ttest_indResult(statistic=array([ 1.24226037, -0.32270715, -1.10894815, -1.10894815]), pvalue=array([0.21897412, 0.74803892, 0.27187779, 0.27187779]))"
      ]
     },
     "execution_count": 159,
     "metadata": {},
     "output_type": "execute_result"
    }
   ],
   "source": [
    "sp.stats.ttest_ind(control_jsd_g1,control_jsd_g2)"
   ]
  },
  {
   "cell_type": "markdown",
   "metadata": {},
   "source": [
    "# SMAB4 Joint Analysis"
   ]
  },
  {
   "cell_type": "code",
   "execution_count": 160,
   "metadata": {},
   "outputs": [
    {
     "data": {
      "text/plain": [
       "\"'df = organize_trial_by_trial_300('data/j12_gamedata_old.csv')\\nj12 = df\\nj12_p1_g1_score,j12_p1_g2_score,j12_p2_g1_score,j12_p2_g2_score,j12_p1_diff,j12_p2_diff,j12_p1_g1_50,j12_p1_g2_50,j12_p2_g1_50,j12_p2_g2_50 = call_get_score(j12, 'j')\\nj12.head()\""
      ]
     },
     "execution_count": 160,
     "metadata": {},
     "output_type": "execute_result"
    }
   ],
   "source": [
    "'''Here we load the csv files into Pandas dataframes by calling organize_trial_by_trial and get the score of each subject \n",
    "in each game by calling call_get_score.'''\n",
    "\n",
    "\n",
    "df = organize_trial_by_trial('data/j01_gamedata.csv')\n",
    "j01 = df\n",
    "j01_p1_g1_score,j01_p1_g2_score,j01_p2_g1_score,j01_p2_g2_score,j01_p1_diff,j01_p2_diff,j01_p1_g1_50,j01_p1_g2_50,j01_p2_g1_50,j01_p2_g2_50= call_get_score(j01, 'j')\n",
    "j01.head()\n",
    "\n",
    "df = organize_trial_by_trial('data/j02_gamedata.csv')\n",
    "j02 = df\n",
    "j02_p1_g1_score,j02_p1_g2_score,j02_p2_g1_score,j02_p2_g2_score,j02_p1_diff,j02_p2_diff,j02_p1_g1_50,j02_p1_g2_50,j02_p2_g1_50,j02_p2_g2_50 = call_get_score(j02, 'j')\n",
    "j02.head()\n",
    "\n",
    "\n",
    "df = organize_trial_by_trial('data/j03_gamedata.csv')\n",
    "j03 = df\n",
    "j03_p1_g1_score,j03_p1_g2_score,j03_p2_g1_score,j03_p2_g2_score,j03_p1_diff,j03_p2_diff,j03_p1_g1_50,j03_p1_g2_50,j03_p2_g1_50,j03_p2_g2_50 = call_get_score(j03, 'j')\n",
    "j03.head()\n",
    "\n",
    "\n",
    "df = organize_trial_by_trial('data/j04_gamedata.csv')\n",
    "j04 = df\n",
    "j04_p1_g1_score,j04_p1_g2_score,j04_p2_g1_score,j04_p2_g2_score,j04_p1_diff,j04_p2_diff,j04_p1_g1_50,j04_p1_g2_50,j04_p2_g1_50,j04_p2_g2_50 = call_get_score(j04, 'j')\n",
    "j04.head()\n",
    "\n",
    "\n",
    "df = organize_trial_by_trial('data/j05_gamedata.csv')\n",
    "j05 = df\n",
    "j05_p1_g1_score,j05_p1_g2_score,j05_p2_g1_score,j05_p2_g2_score,j05_p1_diff,j05_p2_diff,j05_p1_g1_50,j05_p1_g2_50,j05_p2_g1_50,j05_p2_g2_50 = call_get_score(j05, 'j')\n",
    "j05.head()\n",
    "\n",
    "\n",
    "df = organize_trial_by_trial('data/j06_gamedata.csv')\n",
    "j06 = df\n",
    "j06_p1_g1_score,j06_p1_g2_score,j06_p2_g1_score,j06_p2_g2_score,j06_p1_diff,j06_p2_diff,j06_p1_g1_50,j06_p1_g2_50,j06_p2_g1_50,j06_p2_g2_50 = call_get_score(j06, 'j')\n",
    "j06.head()\n",
    "\n",
    "\n",
    "df = organize_trial_by_trial('data/j07_gamedata.csv')\n",
    "j07 = df\n",
    "j07_p1_g1_score,j07_p1_g2_score,j07_p2_g1_score,j07_p2_g2_score,j07_p1_diff,j07_p2_diff,j07_p1_g1_50,j07_p1_g2_50,j07_p2_g1_50,j07_p2_g2_50 = call_get_score(j07, 'j')\n",
    "j07.head()\n",
    "\n",
    "\n",
    "df = organize_trial_by_trial('data/j08_gamedata.csv')\n",
    "j08 = df\n",
    "j08_p1_g1_score,j08_p1_g2_score,j08_p2_g1_score,j08_p2_g2_score,j08_p1_diff,j08_p2_diff,j08_p1_g1_50,j08_p1_g2_50,j08_p2_g1_50,j08_p2_g2_50 = call_get_score(j08, 'j')\n",
    "j08.head()\n",
    "\n",
    "\n",
    "df = organize_trial_by_trial_300('data/j10_gamedata2.csv')\n",
    "j10 = df\n",
    "j10_p1_g1_score,j10_p1_g2_score,j10_p2_g1_score,j10_p2_g2_score,j10_p1_diff,j10_p2_diff,j10_p1_g1_50,j10_p1_g2_50,j10_p2_g1_50,j10_p2_g2_50 = call_get_score(j10, 'j')\n",
    "j10.head()\n",
    "\n",
    "\n",
    "df = organize_trial_by_trial_300('data/j11_gamedata2.csv')\n",
    "j11 = df\n",
    "j11_p1_g1_score,j11_p1_g2_score,j11_p2_g1_score,j11_p2_g2_score,j11_p1_diff,j11_p2_diff,j11_p1_g1_50,j11_p1_g2_50,j11_p2_g1_50,j11_p2_g2_50 = call_get_score(j11, 'j')\n",
    "j11.head()\n",
    "\n",
    "#NEED to add j12 to other analyses\n",
    "''''df = organize_trial_by_trial_300('data/j12_gamedata_old.csv')\n",
    "j12 = df\n",
    "j12_p1_g1_score,j12_p1_g2_score,j12_p2_g1_score,j12_p2_g2_score,j12_p1_diff,j12_p2_diff,j12_p1_g1_50,j12_p1_g2_50,j12_p2_g1_50,j12_p2_g2_50 = call_get_score(j12, 'j')\n",
    "j12.head()'''"
   ]
  },
  {
   "cell_type": "code",
   "execution_count": 161,
   "metadata": {},
   "outputs": [
    {
     "name": "stderr",
     "output_type": "stream",
     "text": [
      "/Users/simonefroley/opt/anaconda3/lib/python3.7/site-packages/ipykernel_launcher.py:7: UserWarning: Boolean Series key will be reindexed to match DataFrame index.\n",
      "  import sys\n",
      "/Users/simonefroley/opt/anaconda3/lib/python3.7/site-packages/ipykernel_launcher.py:8: UserWarning: Boolean Series key will be reindexed to match DataFrame index.\n",
      "  \n",
      "/Users/simonefroley/opt/anaconda3/lib/python3.7/site-packages/ipykernel_launcher.py:20: UserWarning: Boolean Series key will be reindexed to match DataFrame index.\n",
      "/Users/simonefroley/opt/anaconda3/lib/python3.7/site-packages/ipykernel_launcher.py:21: UserWarning: Boolean Series key will be reindexed to match DataFrame index.\n"
     ]
    }
   ],
   "source": [
    "'''Here we separate the dataframes by suject and game by calling separate_df. We also create arrays with the number of\n",
    "times that each subject chose each hole by calling value_counts.'''\n",
    "\n",
    "j01_p1_g1, j01_p1_g2, j01_p2_g1, j01_p2_g2 = separate_df(j01, 'j')\n",
    "j02_p1_g1, j02_p1_g2, j02_p2_g1, j02_p2_g2 = separate_df(j02, 'j')\n",
    "j03_p1_g1, j03_p1_g2, j03_p2_g1, j03_p2_g2 = separate_df(j03, 'j')\n",
    "j04_p1_g1, j04_p1_g2, j04_p2_g1, j04_p2_g2 = separate_df(j04, 'j')\n",
    "j05_p1_g1, j05_p1_g2, j05_p2_g1, j05_p2_g2 = separate_df(j05, 'j')\n",
    "j06_p1_g1, j06_p1_g2, j06_p2_g1, j06_p2_g2 = separate_df(j06, 'j')\n",
    "j07_p1_g1, j07_p1_g2, j07_p2_g1, j07_p2_g2 = separate_df(j07, 'j')\n",
    "j08_p1_g1, j08_p1_g2, j08_p2_g1, j08_p2_g2 = separate_df(j08, 'j')\n",
    "j10_p1_g1, j10_p1_g2, j10_p2_g1, j10_p2_g2 = separate_df(j10, 'j')\n",
    "j11_p1_g1, j11_p1_g2, j11_p2_g1, j11_p2_g2 = separate_df(j11, 'j')\n",
    "\n",
    "\n",
    "\n",
    "j01_p1_g1_count = j01_p1_g1['probability'].value_counts(sort=False)\n",
    "j01_p1_g2_count = j01_p1_g2['probability'].value_counts(sort=False)\n",
    "j01_p2_g1_count = j01_p2_g1['probability'].value_counts(sort=False)\n",
    "j01_p2_g2_count = j01_p2_g2['probability'].value_counts(sort=False)\n",
    "j02_p1_g1_count = j02_p1_g1['probability'].value_counts(sort=False)\n",
    "j02_p1_g2_count = j02_p1_g2['probability'].value_counts(sort=False)\n",
    "j02_p2_g1_count = j02_p2_g1['probability'].value_counts(sort=False)\n",
    "j02_p2_g2_count = j02_p2_g2['probability'].value_counts(sort=False)\n",
    "j03_p1_g1_count = j03_p1_g1['probability'].value_counts(sort=False)\n",
    "j03_p1_g2_count = j03_p1_g2['probability'].value_counts(sort=False)\n",
    "j03_p2_g1_count = j03_p2_g1['probability'].value_counts(sort=False)\n",
    "j03_p2_g2_count = j03_p2_g2['probability'].value_counts(sort=False)\n",
    "j04_p1_g1_count = j04_p1_g1['probability'].value_counts(sort=False)\n",
    "j04_p1_g2_count = j04_p1_g2['probability'].value_counts(sort=False)\n",
    "j04_p2_g1_count = j04_p2_g1['probability'].value_counts(sort=False)\n",
    "j04_p2_g2_count = j04_p2_g2['probability'].value_counts(sort=False)\n",
    "j05_p1_g1_count = j05_p1_g1['probability'].value_counts(sort=False)\n",
    "j05_p1_g2_count = j05_p1_g2['probability'].value_counts(sort=False)\n",
    "j05_p2_g1_count = j05_p2_g1['probability'].value_counts(sort=False)\n",
    "j05_p2_g2_count = j05_p2_g2['probability'].value_counts(sort=False)\n",
    "j06_p1_g1_count = j06_p1_g1['probability'].value_counts(sort=False)\n",
    "j06_p1_g2_count = j06_p1_g2['probability'].value_counts(sort=False)\n",
    "j06_p2_g1_count = j06_p2_g1['probability'].value_counts(sort=False)\n",
    "j06_p2_g2_count = j06_p2_g2['probability'].value_counts(sort=False)\n",
    "j07_p1_g1_count = j07_p1_g1['probability'].value_counts(sort=False)\n",
    "j07_p1_g2_count = j07_p1_g2['probability'].value_counts(sort=False)\n",
    "j07_p2_g1_count = j07_p2_g1['probability'].value_counts(sort=False)\n",
    "j07_p2_g2_count = j07_p2_g2['probability'].value_counts(sort=False)\n",
    "j08_p1_g1_count = j08_p1_g1['probability'].value_counts(sort=False)\n",
    "j08_p1_g2_count = j08_p1_g2['probability'].value_counts(sort=False)\n",
    "j08_p2_g1_count = j08_p2_g1['probability'].value_counts(sort=False)\n",
    "j08_p2_g2_count = j08_p2_g2['probability'].value_counts(sort=False)\n",
    "j10_p1_g1_count = j10_p1_g1['probability'].value_counts(sort=False)\n",
    "j10_p1_g2_count = j10_p1_g2['probability'].value_counts(sort=False)\n",
    "j10_p2_g1_count = j10_p2_g1['probability'].value_counts(sort=False)\n",
    "j10_p2_g2_count = j10_p2_g2['probability'].value_counts(sort=False)\n",
    "j11_p1_g1_count = j11_p1_g1['probability'].value_counts(sort=False)\n",
    "j11_p1_g2_count = j11_p1_g2['probability'].value_counts(sort=False)\n",
    "j11_p2_g1_count = j11_p2_g1['probability'].value_counts(sort=False)\n",
    "j11_p2_g2_count = j11_p2_g2['probability'].value_counts(sort=False)"
   ]
  },
  {
   "cell_type": "code",
   "execution_count": 162,
   "metadata": {},
   "outputs": [],
   "source": [
    "'''Here we mech the hole-probability mappings in each game for each player'''\n",
    "j01_p1_g1_map = hole_prob_map(j01_p1_g1)\n",
    "j01_p1_g2_map = hole_prob_map(j01_p1_g2)\n",
    "j01_p2_g1_map = hole_prob_map(j01_p2_g1)\n",
    "j01_p2_g2_map = hole_prob_map(j01_p2_g2)\n",
    "\n",
    "j02_p1_g1_map = hole_prob_map(j02_p1_g1)\n",
    "j02_p1_g2_map = hole_prob_map(j02_p1_g2)\n",
    "j02_p2_g1_map = hole_prob_map(j02_p2_g1)\n",
    "j02_p2_g2_map = hole_prob_map(j02_p2_g2)\n",
    "\n",
    "j03_p1_g1_map = hole_prob_map(j03_p1_g1)\n",
    "j03_p1_g2_map = hole_prob_map(j03_p1_g2)\n",
    "j03_p2_g1_map = hole_prob_map(j03_p2_g1)\n",
    "j03_p2_g2_map = hole_prob_map(j03_p2_g2)\n",
    "\n",
    "j04_p1_g1_map = hole_prob_map(j04_p1_g1)\n",
    "j04_p1_g2_map = hole_prob_map(j04_p1_g2)\n",
    "j04_p2_g1_map = hole_prob_map(j04_p2_g1)\n",
    "j04_p2_g2_map = hole_prob_map(j04_p2_g2)\n",
    "\n",
    "j05_p1_g1_map = hole_prob_map(j05_p1_g1)\n",
    "j05_p1_g2_map = hole_prob_map(j05_p1_g2)\n",
    "j05_p2_g1_map = hole_prob_map(j05_p2_g1)\n",
    "j05_p2_g2_map = hole_prob_map(j05_p2_g2)\n",
    "\n",
    "j06_p1_g1_map = hole_prob_map(j06_p1_g1)\n",
    "j06_p1_g2_map = hole_prob_map(j06_p1_g2)\n",
    "j06_p2_g1_map = hole_prob_map(j06_p2_g1)\n",
    "j06_p2_g2_map = hole_prob_map(j06_p2_g2)\n",
    "\n",
    "j07_p1_g1_map = hole_prob_map(j07_p1_g1)\n",
    "j07_p1_g2_map = hole_prob_map(j07_p1_g2)\n",
    "j07_p2_g1_map = hole_prob_map(j07_p2_g1)\n",
    "j07_p2_g2_map = hole_prob_map(j07_p2_g2)\n",
    "\n",
    "j08_p1_g1_map = hole_prob_map(j08_p1_g1)\n",
    "j08_p1_g2_map = hole_prob_map(j08_p1_g2)\n",
    "j08_p2_g1_map = hole_prob_map(j08_p2_g1)\n",
    "j08_p2_g2_map = hole_prob_map(j08_p2_g2)\n",
    "\n",
    "j10_p1_g1_map = hole_prob_map(j10_p1_g1)\n",
    "j10_p1_g2_map = hole_prob_map(j10_p1_g2)\n",
    "j10_p2_g1_map = hole_prob_map(j10_p2_g1)\n",
    "j10_p2_g2_map = hole_prob_map(j10_p2_g2)\n",
    "\n",
    "#j11_p1_g1_map = hole_prob_map(j11_p1_g1)\n",
    "#j11_p1_g2_map = hole_prob_map(j11_p1_g2)\n",
    "#j11_p2_g1_map = hole_prob_map(j11_p2_g1)\n",
    "#j11_p2_g2_map = hole_prob_map(j11_p2_g2)"
   ]
  },
  {
   "cell_type": "code",
   "execution_count": 163,
   "metadata": {},
   "outputs": [],
   "source": [
    "'''Here we create dataframes with all of the scores of each subject in games 1 and 2. 50 refers to the score half-way\n",
    "through the games'''\n",
    "\n",
    "\n",
    "# # Combined Joint scores G1\n",
    "\n",
    "j_scores_1 = pd.DataFrame({'participant':['j01_p1', 'j01_p2','j02_p1', 'j02_p2','j03_p1', 'j03_p2','j04_p1', 'j04_p2','j05_p1', 'j05_p2','j06_p1','j06_p2','j07_p1', 'j07_p2','j08_p1', 'j08_p2','j10_p1', 'j10_p2','j11_p1', 'j11_p2'], 'score_1':\n",
    "     [j01_p1_g1_score, j01_p2_g1_score, j02_p1_g1_score, j02_p2_g1_score, j03_p1_g1_score, j03_p2_g1_score,\n",
    "      j04_p1_g1_score, j04_p2_g1_score, j05_p1_g1_score, j05_p2_g1_score, j06_p1_g1_score, j06_p2_g1_score,\n",
    "      j07_p1_g1_score, j07_p2_g1_score, j08_p1_g1_score, j08_p2_g1_score, j10_p1_g1_score, j10_p2_g1_score, j11_p1_g1_score, j11_p2_g1_score]})\n",
    "j_scores_1.set_index('participant', inplace=True, drop=True)\n",
    "j_scores_1\n",
    "\n",
    "\n",
    "# # Combined Joint scores G2\n",
    "\n",
    "# In[ ]:\n",
    "\n",
    "\n",
    "j_scores_2_d = pd.DataFrame({'participant':['j01_p1', 'j01_p2','j02_p1', 'j02_p2','j03_p1', 'j03_p2','j04_p1', 'j04_p2','j05_p1', 'j05_p2','j06_p1','j06_p2','j07_p1', 'j07_p2','j08_p1', 'j08_p2'], 'score_2':\n",
    "     [j01_p1_g2_score, j01_p2_g2_score, j02_p1_g2_score, j02_p2_g2_score, j03_p1_g2_score, j03_p2_g2_score,\n",
    "      j04_p1_g2_score, j04_p2_g2_score, j05_p1_g2_score, j05_p2_g2_score, j06_p1_g2_score, j06_p2_g2_score,\n",
    "      j07_p1_g2_score, j07_p2_g2_score, j08_p1_g2_score, j08_p2_g2_score]})\n",
    "j_scores_2_d.set_index('participant', inplace=True, drop=True)\n",
    "\n",
    "j_scores_2_s = pd.DataFrame({'participant':['j10_p1', 'j10_p2','j11_p1', 'j11_p2'], 'score_2':\n",
    "     [j10_p1_g2_score, j10_p2_g2_score, j11_p1_g2_score, j11_p2_g2_score]})\n",
    "j_scores_2_s.set_index('participant', inplace=True, drop=True)\n",
    "\n",
    "j_scores_1_50 = pd.DataFrame({'participant':['j01_p1', 'j01_p2','j02_p1', 'j02_p2','j03_p1', 'j03_p2','j04_p1', 'j04_p2','j05_p1', 'j05_p2','j06_p1','j06_p2','j07_p1', 'j07_p2','j08_p1', 'j08_p2','j10_p1', 'j10_p2','j11_p1', 'j11_p2'], 'score_1_50':\n",
    "     [j01_p1_g1_50, j01_p2_g1_50, j02_p1_g1_50, j02_p2_g1_50, j03_p1_g1_50, j03_p2_g1_50,\n",
    "      j04_p1_g1_50, j04_p2_g1_50, j05_p1_g1_50, j05_p2_g1_50, j06_p1_g1_50, j06_p2_g1_50,\n",
    "      j07_p1_g1_50, j07_p2_g1_50, j08_p1_g1_50, j08_p2_g1_50, j10_p1_g1_50, j10_p2_g1_50, j11_p1_g1_50, j11_p2_g1_50]})\n",
    "j_scores_1_50.set_index('participant', inplace=True, drop=True)\n",
    "\n",
    "\n",
    "\n",
    "\n",
    "j_scores_2_50 = pd.DataFrame({'participant':['j01_p1', 'j01_p2','j02_p1', 'j02_p2','j03_p1', 'j03_p2','j04_p1', 'j04_p2','j05_p1', 'j05_p2','j06_p1','j06_p2','j07_p1', 'j07_p2','j08_p1', 'j08_p2','j10_p1', 'j10_p2','j11_p1', 'j11_p2'], 'score_2_50':\n",
    "     [j01_p1_g2_50, j01_p2_g2_50, j02_p1_g2_50, j02_p2_g2_50, j03_p1_g2_50, j03_p2_g2_50,\n",
    "      j04_p1_g2_50, j04_p2_g2_50, j05_p1_g2_50, j05_p2_g2_50, j06_p1_g2_50, j06_p2_g2_50,\n",
    "      j07_p1_g2_50, j07_p2_g2_50, j08_p1_g2_50, j08_p2_g2_50, j10_p1_g2_50, j10_p2_g2_50, j11_p1_g2_50, j11_p2_g2_50]})\n",
    "j_scores_2_50.set_index('participant', inplace=True, drop=True)\n",
    "\n"
   ]
  },
  {
   "cell_type": "code",
   "execution_count": 164,
   "metadata": {},
   "outputs": [
    {
     "data": {
      "image/png": "[encoded data removed]",
      "text/plain": [
       "<Figure size 432x288 with 1 Axes>"
      ]
     },
     "metadata": {
      "needs_background": "light"
     },
     "output_type": "display_data"
    }
   ],
   "source": [
    "j_scores_1_box = sns.boxplot( \n",
    "                 data=j_scores_1, \n",
    "                 width=0.5,\n",
    "                 palette=\"pastel\")\n",
    "j_scores_1_box.axes.set_title(\"SMAB3 Social Scores in Game 1\",\n",
    "                    fontsize=16)\n",
    "\n",
    "plot_file_name=\"j_score_1_box.jpg\"\n",
    " \n",
    "plt.ylim(0, 100)\n",
    "j_scores_1_box.axes.set(ylabel='Score')\n",
    "\n",
    "# save as jpeg\n",
    "j_scores_1_box.figure.savefig(plot_file_name,\n",
    "                    format='jpeg')"
   ]
  },
  {
   "cell_type": "code",
   "execution_count": 165,
   "metadata": {},
   "outputs": [
    {
     "data": {
      "image/png": "[encoded data removed]",
      "text/plain": [
       "<Figure size 432x288 with 1 Axes>"
      ]
     },
     "metadata": {
      "needs_background": "light"
     },
     "output_type": "display_data"
    }
   ],
   "source": [
    "j_scores_2s_box = sns.boxplot( \n",
    "                 data=j_scores_2_s, \n",
    "                 width=0.5,\n",
    "                 palette=\"pastel\")\n",
    "j_scores_2s_box.axes.set_title(\"SMAB3 Social Scores in Game 1-Same\",\n",
    "                    fontsize=16)\n",
    "\n",
    "plot_file_name=\"j_score_2s_box.jpg\"\n",
    " \n",
    "plt.ylim(0, 100)\n",
    "j_scores_2s_box.axes.set(ylabel='Score')\n",
    "\n",
    "# save as jpeg\n",
    "j_scores_2s_box.figure.savefig(plot_file_name,\n",
    "                    format='jpeg')"
   ]
  },
  {
   "cell_type": "code",
   "execution_count": 166,
   "metadata": {},
   "outputs": [
    {
     "data": {
      "image/png": "[encoded data removed]",
      "text/plain": [
       "<Figure size 432x288 with 1 Axes>"
      ]
     },
     "metadata": {
      "needs_background": "light"
     },
     "output_type": "display_data"
    }
   ],
   "source": [
    "j_scores_2d_box = sns.boxplot( \n",
    "                 data=j_scores_2_d, \n",
    "                 width=0.5,\n",
    "                 palette=\"pastel\")\n",
    "j_scores_2d_box.axes.set_title(\"SMAB3 Social Scores in Game 1-Different\",\n",
    "                    fontsize=16)\n",
    "\n",
    "plot_file_name=\"j_score_2d_box.jpg\"\n",
    " \n",
    "plt.ylim(0, 100)\n",
    "j_scores_2d_box.axes.set(ylabel='Score')\n",
    "\n",
    "# save as jpeg\n",
    "j_scores_2d_box.figure.savefig(plot_file_name,\n",
    "                    format='jpeg')"
   ]
  },
  {
   "cell_type": "code",
   "execution_count": 167,
   "metadata": {},
   "outputs": [],
   "source": [
    "j_scores_2s_mean = j_scores_2_s.mean()"
   ]
  },
  {
   "cell_type": "code",
   "execution_count": 168,
   "metadata": {},
   "outputs": [],
   "source": [
    "j_scores_2d_mean = j_scores_2_d.mean()"
   ]
  },
  {
   "cell_type": "code",
   "execution_count": 169,
   "metadata": {},
   "outputs": [],
   "source": [
    "j_scores_2s_std = j_scores_2_s.std()"
   ]
  },
  {
   "cell_type": "code",
   "execution_count": 170,
   "metadata": {},
   "outputs": [],
   "source": [
    "j_scores_2d_std = j_scores_2_d.std()"
   ]
  },
  {
   "cell_type": "code",
   "execution_count": 171,
   "metadata": {},
   "outputs": [
    {
     "data": {
      "text/plain": [
       "(score_2    80.25\n",
       " dtype: float64, score_2    5.965177\n",
       " dtype: float64)"
      ]
     },
     "execution_count": 171,
     "metadata": {},
     "output_type": "execute_result"
    }
   ],
   "source": [
    "j_scores_2s_mean, j_scores_2s_std"
   ]
  },
  {
   "cell_type": "code",
   "execution_count": 172,
   "metadata": {},
   "outputs": [
    {
     "data": {
      "text/plain": [
       "(score_2    72.6875\n",
       " dtype: float64, score_2    8.42788\n",
       " dtype: float64)"
      ]
     },
     "execution_count": 172,
     "metadata": {},
     "output_type": "execute_result"
    }
   ],
   "source": [
    "j_scores_2d_mean, j_scores_2d_std"
   ]
  },
  {
   "cell_type": "code",
   "execution_count": 173,
   "metadata": {},
   "outputs": [
    {
     "data": {
      "text/plain": [
       "Ttest_indResult(statistic=array([1.67640168]), pvalue=array([0.11094111]))"
      ]
     },
     "execution_count": 173,
     "metadata": {},
     "output_type": "execute_result"
    }
   ],
   "source": [
    "sp.stats.ttest_ind(j_scores_2_s, j_scores_2_d)"
   ]
  },
  {
   "cell_type": "code",
   "execution_count": 174,
   "metadata": {},
   "outputs": [
    {
     "data": {
      "text/plain": [
       "8"
      ]
     },
     "execution_count": 174,
     "metadata": {},
     "output_type": "execute_result"
    }
   ],
   "source": [
    "s_scores_2_s.size"
   ]
  },
  {
   "cell_type": "code",
   "execution_count": 175,
   "metadata": {},
   "outputs": [
    {
     "data": {
      "text/plain": [
       "score_1    9.653333\n",
       "dtype: float64"
      ]
     },
     "execution_count": 175,
     "metadata": {},
     "output_type": "execute_result"
    }
   ],
   "source": [
    "'''Here we get the mean, median, and standard deviation of the scores. We also run a t-test comparing the scores in games 1 and 2\n",
    "and plot the data.'''\n",
    "\n",
    "j_scores_1_mean = j_scores_1.mean()\n",
    "\n",
    "\n",
    "# In[ ]:\n",
    "\n",
    "\n",
    "j_scores_1_mean\n",
    "\n",
    "\n",
    "# In[ ]:\n",
    "\n",
    "\n",
    "j_scores_1_std = j_scores_1.std()\n",
    "\n",
    "\n",
    "# In[ ]:\n",
    "\n",
    "\n",
    "j_scores_1_std"
   ]
  },
  {
   "cell_type": "code",
   "execution_count": 176,
   "metadata": {},
   "outputs": [],
   "source": [
    "#j_scores_p = sp.stats.ttest_rel(j_scores['Game 1'],j_scores['Game 2'])"
   ]
  },
  {
   "cell_type": "code",
   "execution_count": 177,
   "metadata": {},
   "outputs": [
    {
     "data": {
      "text/plain": [
       "20"
      ]
     },
     "execution_count": 177,
     "metadata": {},
     "output_type": "execute_result"
    }
   ],
   "source": [
    "len(j_scores_1)"
   ]
  },
  {
   "cell_type": "code",
   "execution_count": 178,
   "metadata": {},
   "outputs": [
    {
     "data": {
      "text/plain": [
       "'\\nj_scores_box = sns.boxplot( \\n                 data=j_scores, \\n                 width=0.5,\\n                 palette=\"pastel\")\\nj_scores_box.axes.set_title(\"SMAB3 Social Scores\",\\n                    fontsize=16)\\n\\nplot_file_name=\"j_score_box.jpg\"\\n \\nplt.ylim(0, 100)\\nj_scores_box.axes.set(ylabel=\\'Score\\')\\n\\n# save as jpeg\\nj_scores_box.figure.savefig(plot_file_name,\\n                    format=\\'jpeg\\')'"
      ]
     },
     "execution_count": 178,
     "metadata": {},
     "output_type": "execute_result"
    }
   ],
   "source": [
    "'''\n",
    "j_scores_box = sns.boxplot( \n",
    "                 data=j_scores, \n",
    "                 width=0.5,\n",
    "                 palette=\"pastel\")\n",
    "j_scores_box.axes.set_title(\"SMAB3 Social Scores\",\n",
    "                    fontsize=16)\n",
    "\n",
    "plot_file_name=\"j_score_box.jpg\"\n",
    " \n",
    "plt.ylim(0, 100)\n",
    "j_scores_box.axes.set(ylabel='Score')\n",
    "\n",
    "# save as jpeg\n",
    "j_scores_box.figure.savefig(plot_file_name,\n",
    "                    format='jpeg')'''"
   ]
  },
  {
   "cell_type": "code",
   "execution_count": 179,
   "metadata": {},
   "outputs": [
    {
     "data": {
      "image/png": "[encoded data removed]",
      "text/plain": [
       "<Figure size 432x288 with 1 Axes>"
      ]
     },
     "metadata": {
      "needs_background": "light"
     },
     "output_type": "display_data"
    }
   ],
   "source": [
    "'''Here we place all of the data into the number of times each subject chose each hole into dataframes for games 1 \n",
    "and 2. We plot this data and run statistics on it.'''\n",
    "\n",
    "# # Joint combined choices in G1\n",
    "\n",
    "\n",
    "\n",
    "j_g1_counts = pd.DataFrame([j01_p1_g1_count, j01_p2_g1_count, j02_p1_g1_count, j02_p2_g1_count, j03_p1_g1_count, \n",
    "              j03_p2_g1_count, j04_p1_g1_count, j04_p2_g1_count, j05_p1_g1_count, j05_p2_g1_count, j06_p1_g1_count, \n",
    "              j06_p2_g1_count, j07_p1_g1_count, j07_p2_g1_count, j08_p1_g1_count, j08_p2_g1_count, \n",
    "              j10_p1_g1_count, j10_p2_g1_count, j11_p1_g1_count, j11_p2_g1_count],\n",
    "                index = ['j01_p1_g1_count', 'j01_p2_g1_count', 'j02_p1_g1_count', 'j02_p2_g1_count', \n",
    "                 'j03_p1_g1_count', 'j03_p2_g1_count', 'j04_p1_g1_count', 'j04_p2_g1_count', 'j05_p1_g1_count', \n",
    "                  'j05_p2_g1_count', 'j06_p1_g1_count', 'j06_p2_g1_count', 'j07_p1_g1_count', \n",
    "                    'j07_p2_g1_count', 'j08_p1_g1_count', 'j08_p2_g1_count', 'j10_p1_g1_count', 'j10_p2_g1_count', \n",
    "                    'j11_p1_g1_count', 'j11_p2_g1_count'])\n",
    "\n",
    "\n",
    "# In[ ]:\n",
    "\n",
    "\n",
    "j_g1_counts = j_g1_counts.fillna(0)\n",
    "\n",
    "\n",
    "# In[ ]:\n",
    "\n",
    "\n",
    "j_g1_counts \n",
    "\n",
    "\n",
    "# In[ ]:\n",
    "\n",
    "\n",
    "j_g1_counts.sum(axis=1)\n",
    "\n",
    "\n",
    "# In[ ]:\n",
    "\n",
    "\n",
    "j_g1_counts_bar = j_g1_counts.plot.bar()\n",
    "\n",
    "j_g1_counts_bar.axes.set_title(\"SMAB3 Social Choice Distributions in Game 1\",\n",
    "                    fontsize=16)\n",
    "\n",
    "j_g1_counts_bar.figure.savefig(\"j_g1_counts_bar.jpg\",\n",
    "                    format='jpeg')"
   ]
  },
  {
   "cell_type": "code",
   "execution_count": 180,
   "metadata": {},
   "outputs": [
    {
     "data": {
      "image/png": "[encoded data removed]",
      "text/plain": [
       "<Figure size 432x288 with 1 Axes>"
      ]
     },
     "metadata": {},
     "output_type": "display_data"
    }
   ],
   "source": [
    "# In[ ]:\n",
    "sns.set_style(\"whitegrid\")\n",
    "\n",
    "j_g1_counts_box = sns.boxplot( \n",
    "                 data=j_g1_counts, \n",
    "                 width=0.5,\n",
    "                 palette=\"pastel\")\n",
    "j_g1_counts_box.axes.set_title(\"SMAB3 Social Choice Distributions in Game 1\",\n",
    "                    fontsize=16)\n",
    "\n",
    "plot_file_name=\"j_g1_counts_box.jpg\"\n",
    " \n",
    "plt.ylim(0, 100)\n",
    "j_g1_counts_box.axes.set(xlabel='Arm',ylabel='Frequency')\n",
    "\n",
    "# save as jpeg\n",
    "j_g1_counts_box.figure.savefig(plot_file_name,\n",
    "                    format='jpeg')\n",
    "\n",
    "\n",
    "# In[ ]:"
   ]
  },
  {
   "cell_type": "code",
   "execution_count": 181,
   "metadata": {},
   "outputs": [
    {
     "data": {
      "text/plain": [
       "17.746760267722106"
      ]
     },
     "execution_count": 181,
     "metadata": {},
     "output_type": "execute_result"
    }
   ],
   "source": [
    "j_g1_low = np.mean(j_g1_counts.iloc[:,0])\n",
    "j_g1_med = np.mean(j_g1_counts.iloc[:,1])\n",
    "j_g1_high = np.mean(j_g1_counts.iloc[:,2])\n",
    "\n",
    "\n",
    "# In[ ]:\n",
    "\n",
    "\n",
    "j_g1_low\n",
    "\n",
    "\n",
    "# In[ ]:\n",
    "\n",
    "\n",
    "j_g1_med\n",
    "\n",
    "\n",
    "# In[ ]:\n",
    "\n",
    "\n",
    "j_g1_high\n",
    "\n",
    "\n",
    "# In[ ]:\n",
    "\n",
    "\n",
    "j_g1_low_std = np.std(j_g1_counts.iloc[:,0])\n",
    "j_g1_med_std = np.std(j_g1_counts.iloc[:,1])\n",
    "j_g1_high_std = np.std(j_g1_counts.iloc[:,2])\n",
    "\n",
    "\n",
    "# In[ ]:\n",
    "\n",
    "\n",
    "j_g1_low_std\n",
    "\n",
    "\n",
    "# In[ ]:\n",
    "\n",
    "\n",
    "j_g1_med_std\n",
    "\n",
    "\n",
    "# In[ ]:\n",
    "\n",
    "\n",
    "j_g1_high_std"
   ]
  },
  {
   "cell_type": "code",
   "execution_count": 182,
   "metadata": {},
   "outputs": [
    {
     "data": {
      "image/png": "[encoded data removed]",
      "text/plain": [
       "<Figure size 432x288 with 1 Axes>"
      ]
     },
     "metadata": {},
     "output_type": "display_data"
    }
   ],
   "source": [
    "# # Joint combined choices in G2\n",
    "\n",
    "\n",
    "j_g2_d_counts = pd.DataFrame([j01_p1_g2_count, j01_p2_g2_count, j02_p1_g2_count, j02_p2_g2_count, j03_p1_g2_count, \n",
    "              j03_p2_g2_count, j04_p1_g2_count, j04_p2_g2_count, j05_p1_g2_count, j05_p2_g2_count, j06_p1_g2_count, \n",
    "              j06_p2_g2_count, j07_p1_g2_count, j07_p2_g2_count, j08_p1_g2_count, j08_p2_g2_count],\n",
    "                index = ['j01_p1_g2_count', 'j01_p2_g2_count', 'j02_p1_g2_count', 'j02_p2_g2_count', \n",
    "                 'j03_p1_g2_count', 'j03_p2_g2_count', 'j04_p1_g2_count', 'j04_p2_g2_count', 'j05_p1_g2_count', \n",
    "                  'j05_p2_g2_count', 'j06_p1_g2_count', 'j06_p2_g2_count', 'j07_p1_g1_count', 'j07_p1_g2_count', \n",
    "                 'j08_p1_g2_count', 'j08_p2_g2_count'])\n",
    "\n",
    "\n",
    "\n",
    "j_g2_d_counts = j_g2_d_counts.fillna(0)\n",
    "\n",
    "\n",
    "\n",
    "j_g2_d_counts.sum(axis=1)\n",
    "\n",
    "\n",
    "\n",
    "j_g2_d_counts_bar = j_g2_d_counts.plot.bar()"
   ]
  },
  {
   "cell_type": "code",
   "execution_count": 183,
   "metadata": {},
   "outputs": [
    {
     "data": {
      "image/png": "[encoded data removed]",
      "text/plain": [
       "<Figure size 432x288 with 1 Axes>"
      ]
     },
     "metadata": {},
     "output_type": "display_data"
    }
   ],
   "source": [
    "j_g2_s_counts = pd.DataFrame([j10_p1_g2_count, j10_p2_g2_count, j11_p1_g2_count, j11_p2_g2_count],\n",
    "                index = ['j10_p1_g2_count', 'j10_p2_g2_count', \n",
    "                    'j11_p1_g2_count', 'j11_p2_g2_count'])\n",
    "\n",
    "\n",
    "\n",
    "j_g2_s_counts = j_g2_s_counts.fillna(0)\n",
    "\n",
    "\n",
    "\n",
    "j_g2_s_counts.sum(axis=1)\n",
    "\n",
    "\n",
    "\n",
    "j_g2_s_counts_bar = j_g2_s_counts.plot.bar()"
   ]
  },
  {
   "cell_type": "code",
   "execution_count": 184,
   "metadata": {},
   "outputs": [
    {
     "data": {
      "image/png": "[encoded data removed]",
      "text/plain": [
       "<Figure size 432x288 with 1 Axes>"
      ]
     },
     "metadata": {},
     "output_type": "display_data"
    }
   ],
   "source": [
    "# In[ ]:\n",
    "\n",
    "\n",
    "j_g2_s_counts_box = sns.boxplot( \n",
    "                 data=j_g2_s_counts, \n",
    "                 width=0.5,\n",
    "                 palette=\"pastel\")\n",
    "j_g2_s_counts_box.axes.set_title(\"SMAB3 Social Choice Distributions in Game 2- Same\",\n",
    "                    fontsize=16)\n",
    "\n",
    "plot_file_name=\"j_g2_s_counts_box.jpg\"\n",
    " \n",
    "plt.ylim(0, 100)\n",
    "j_g2_s_counts_box.axes.set(xlabel='Arm',ylabel='Frequency')\n",
    "\n",
    "# save as jpeg\n",
    "j_g2_s_counts_box.figure.savefig(plot_file_name,\n",
    "                    format='jpeg')"
   ]
  },
  {
   "cell_type": "code",
   "execution_count": 185,
   "metadata": {},
   "outputs": [
    {
     "data": {
      "image/png": "[encoded data removed]",
      "text/plain": [
       "<Figure size 432x288 with 1 Axes>"
      ]
     },
     "metadata": {},
     "output_type": "display_data"
    }
   ],
   "source": [
    "j_g2_d_counts_box = sns.boxplot( \n",
    "                 data=j_g2_d_counts, \n",
    "                 width=0.5,\n",
    "                 palette=\"pastel\")\n",
    "j_g2_d_counts_box.axes.set_title(\"SMAB3 Social Choice Distributions in Game 2- Different\",\n",
    "                    fontsize=16)\n",
    "\n",
    "plot_file_name=\"j_g2_d_counts_box.jpg\"\n",
    " \n",
    "plt.ylim(0, 100)\n",
    "j_g2_d_counts_box.axes.set(xlabel='Arm',ylabel='Frequency')\n",
    "\n",
    "# save as jpeg\n",
    "j_g2_d_counts_box.figure.savefig(plot_file_name,\n",
    "                    format='jpeg')"
   ]
  },
  {
   "cell_type": "code",
   "execution_count": 186,
   "metadata": {},
   "outputs": [
    {
     "data": {
      "text/html": [
       "<div>\n",
       "<style scoped>\n",
       "    .dataframe tbody tr th:only-of-type {\n",
       "        vertical-align: middle;\n",
       "    }\n",
       "\n",
       "    .dataframe tbody tr th {\n",
       "        vertical-align: top;\n",
       "    }\n",
       "\n",
       "    .dataframe thead th {\n",
       "        text-align: right;\n",
       "    }\n",
       "</style>\n",
       "<table border=\"1\" class=\"dataframe\">\n",
       "  <thead>\n",
       "    <tr style=\"text-align: right;\">\n",
       "      <th></th>\n",
       "      <th>score_1</th>\n",
       "    </tr>\n",
       "    <tr>\n",
       "      <th>participant</th>\n",
       "      <th></th>\n",
       "    </tr>\n",
       "  </thead>\n",
       "  <tbody>\n",
       "    <tr>\n",
       "      <td>j01_p1</td>\n",
       "      <td>57</td>\n",
       "    </tr>\n",
       "    <tr>\n",
       "      <td>j01_p2</td>\n",
       "      <td>61</td>\n",
       "    </tr>\n",
       "    <tr>\n",
       "      <td>j02_p1</td>\n",
       "      <td>54</td>\n",
       "    </tr>\n",
       "    <tr>\n",
       "      <td>j02_p2</td>\n",
       "      <td>68</td>\n",
       "    </tr>\n",
       "    <tr>\n",
       "      <td>j03_p1</td>\n",
       "      <td>69</td>\n",
       "    </tr>\n",
       "    <tr>\n",
       "      <td>j03_p2</td>\n",
       "      <td>67</td>\n",
       "    </tr>\n",
       "    <tr>\n",
       "      <td>j04_p1</td>\n",
       "      <td>64</td>\n",
       "    </tr>\n",
       "    <tr>\n",
       "      <td>j04_p2</td>\n",
       "      <td>56</td>\n",
       "    </tr>\n",
       "    <tr>\n",
       "      <td>j05_p1</td>\n",
       "      <td>77</td>\n",
       "    </tr>\n",
       "    <tr>\n",
       "      <td>j05_p2</td>\n",
       "      <td>70</td>\n",
       "    </tr>\n",
       "    <tr>\n",
       "      <td>j06_p1</td>\n",
       "      <td>54</td>\n",
       "    </tr>\n",
       "    <tr>\n",
       "      <td>j06_p2</td>\n",
       "      <td>61</td>\n",
       "    </tr>\n",
       "    <tr>\n",
       "      <td>j07_p1</td>\n",
       "      <td>74</td>\n",
       "    </tr>\n",
       "    <tr>\n",
       "      <td>j07_p2</td>\n",
       "      <td>80</td>\n",
       "    </tr>\n",
       "    <tr>\n",
       "      <td>j08_p1</td>\n",
       "      <td>60</td>\n",
       "    </tr>\n",
       "    <tr>\n",
       "      <td>j08_p2</td>\n",
       "      <td>57</td>\n",
       "    </tr>\n",
       "    <tr>\n",
       "      <td>j10_p1</td>\n",
       "      <td>66</td>\n",
       "    </tr>\n",
       "    <tr>\n",
       "      <td>j10_p2</td>\n",
       "      <td>75</td>\n",
       "    </tr>\n",
       "    <tr>\n",
       "      <td>j11_p1</td>\n",
       "      <td>79</td>\n",
       "    </tr>\n",
       "    <tr>\n",
       "      <td>j11_p2</td>\n",
       "      <td>88</td>\n",
       "    </tr>\n",
       "  </tbody>\n",
       "</table>\n",
       "</div>"
      ],
      "text/plain": [
       "             score_1\n",
       "participant         \n",
       "j01_p1            57\n",
       "j01_p2            61\n",
       "j02_p1            54\n",
       "j02_p2            68\n",
       "j03_p1            69\n",
       "j03_p2            67\n",
       "j04_p1            64\n",
       "j04_p2            56\n",
       "j05_p1            77\n",
       "j05_p2            70\n",
       "j06_p1            54\n",
       "j06_p2            61\n",
       "j07_p1            74\n",
       "j07_p2            80\n",
       "j08_p1            60\n",
       "j08_p2            57\n",
       "j10_p1            66\n",
       "j10_p2            75\n",
       "j11_p1            79\n",
       "j11_p2            88"
      ]
     },
     "execution_count": 186,
     "metadata": {},
     "output_type": "execute_result"
    }
   ],
   "source": [
    "j_scores_1"
   ]
  },
  {
   "cell_type": "code",
   "execution_count": 187,
   "metadata": {},
   "outputs": [
    {
     "data": {
      "text/plain": [
       "score_1    66.85\n",
       "dtype: float64"
      ]
     },
     "execution_count": 187,
     "metadata": {},
     "output_type": "execute_result"
    }
   ],
   "source": [
    "j_scores_1_mean"
   ]
  },
  {
   "cell_type": "code",
   "execution_count": 188,
   "metadata": {},
   "outputs": [
    {
     "data": {
      "text/plain": [
       "score_1    9.653333\n",
       "dtype: float64"
      ]
     },
     "execution_count": 188,
     "metadata": {},
     "output_type": "execute_result"
    }
   ],
   "source": [
    "j_scores_1_std"
   ]
  },
  {
   "cell_type": "code",
   "execution_count": 189,
   "metadata": {},
   "outputs": [],
   "source": [
    "# In[ ]:\n",
    "\n",
    "j_g1_low = np.mean(j_g1_counts.iloc[:,0])\n",
    "j_g1_med = np.mean(j_g1_counts.iloc[:,1])\n",
    "j_g1_high = np.mean(j_g1_counts.iloc[:,2])\n",
    "\n",
    "j_g2_s_low = np.mean(j_g2_s_counts.iloc[:,0])\n",
    "j_g2_s_med = np.mean(j_g2_s_counts.iloc[:,1])\n",
    "j_g2_s_high = np.mean(j_g2_s_counts.iloc[:,2])\n",
    "\n",
    "j_g2_d_low = np.mean(j_g2_d_counts.iloc[:,0])\n",
    "j_g2_d_med = np.mean(j_g2_d_counts.iloc[:,1])\n",
    "j_g2_d_high = np.mean(j_g2_d_counts.iloc[:,2])"
   ]
  },
  {
   "cell_type": "code",
   "execution_count": 190,
   "metadata": {},
   "outputs": [
    {
     "data": {
      "text/plain": [
       "(23.6, 28.45, 47.95)"
      ]
     },
     "execution_count": 190,
     "metadata": {},
     "output_type": "execute_result"
    }
   ],
   "source": [
    "j_g1_low, j_g1_med, j_g1_high"
   ]
  },
  {
   "cell_type": "code",
   "execution_count": 191,
   "metadata": {},
   "outputs": [
    {
     "data": {
      "text/plain": [
       "(13.268006632497586, 9.499868420141407, 17.746760267722106)"
      ]
     },
     "execution_count": 191,
     "metadata": {},
     "output_type": "execute_result"
    }
   ],
   "source": [
    "j_g1_low_std, j_g1_med_std, j_g1_high_std"
   ]
  },
  {
   "cell_type": "code",
   "execution_count": 192,
   "metadata": {},
   "outputs": [
    {
     "data": {
      "text/html": [
       "<div>\n",
       "<style scoped>\n",
       "    .dataframe tbody tr th:only-of-type {\n",
       "        vertical-align: middle;\n",
       "    }\n",
       "\n",
       "    .dataframe tbody tr th {\n",
       "        vertical-align: top;\n",
       "    }\n",
       "\n",
       "    .dataframe thead th {\n",
       "        text-align: right;\n",
       "    }\n",
       "</style>\n",
       "<table border=\"1\" class=\"dataframe\">\n",
       "  <thead>\n",
       "    <tr style=\"text-align: right;\">\n",
       "      <th></th>\n",
       "      <th>30</th>\n",
       "      <th>60</th>\n",
       "      <th>90</th>\n",
       "    </tr>\n",
       "  </thead>\n",
       "  <tbody>\n",
       "    <tr>\n",
       "      <td>j01_p1_g1_count</td>\n",
       "      <td>38.0</td>\n",
       "      <td>36.0</td>\n",
       "      <td>26.0</td>\n",
       "    </tr>\n",
       "    <tr>\n",
       "      <td>j01_p2_g1_count</td>\n",
       "      <td>33.0</td>\n",
       "      <td>37.0</td>\n",
       "      <td>30.0</td>\n",
       "    </tr>\n",
       "    <tr>\n",
       "      <td>j02_p1_g1_count</td>\n",
       "      <td>36.0</td>\n",
       "      <td>32.0</td>\n",
       "      <td>32.0</td>\n",
       "    </tr>\n",
       "    <tr>\n",
       "      <td>j02_p2_g1_count</td>\n",
       "      <td>25.0</td>\n",
       "      <td>39.0</td>\n",
       "      <td>36.0</td>\n",
       "    </tr>\n",
       "    <tr>\n",
       "      <td>j03_p1_g1_count</td>\n",
       "      <td>22.0</td>\n",
       "      <td>29.0</td>\n",
       "      <td>49.0</td>\n",
       "    </tr>\n",
       "    <tr>\n",
       "      <td>j03_p2_g1_count</td>\n",
       "      <td>29.0</td>\n",
       "      <td>23.0</td>\n",
       "      <td>48.0</td>\n",
       "    </tr>\n",
       "    <tr>\n",
       "      <td>j04_p1_g1_count</td>\n",
       "      <td>26.0</td>\n",
       "      <td>39.0</td>\n",
       "      <td>35.0</td>\n",
       "    </tr>\n",
       "    <tr>\n",
       "      <td>j04_p2_g1_count</td>\n",
       "      <td>34.0</td>\n",
       "      <td>22.0</td>\n",
       "      <td>44.0</td>\n",
       "    </tr>\n",
       "    <tr>\n",
       "      <td>j05_p1_g1_count</td>\n",
       "      <td>5.0</td>\n",
       "      <td>16.0</td>\n",
       "      <td>79.0</td>\n",
       "    </tr>\n",
       "    <tr>\n",
       "      <td>j05_p2_g1_count</td>\n",
       "      <td>14.0</td>\n",
       "      <td>28.0</td>\n",
       "      <td>58.0</td>\n",
       "    </tr>\n",
       "    <tr>\n",
       "      <td>j06_p1_g1_count</td>\n",
       "      <td>36.0</td>\n",
       "      <td>34.0</td>\n",
       "      <td>30.0</td>\n",
       "    </tr>\n",
       "    <tr>\n",
       "      <td>j06_p2_g1_count</td>\n",
       "      <td>45.0</td>\n",
       "      <td>16.0</td>\n",
       "      <td>39.0</td>\n",
       "    </tr>\n",
       "    <tr>\n",
       "      <td>j07_p1_g1_count</td>\n",
       "      <td>7.0</td>\n",
       "      <td>35.0</td>\n",
       "      <td>58.0</td>\n",
       "    </tr>\n",
       "    <tr>\n",
       "      <td>j07_p2_g1_count</td>\n",
       "      <td>11.0</td>\n",
       "      <td>17.0</td>\n",
       "      <td>72.0</td>\n",
       "    </tr>\n",
       "    <tr>\n",
       "      <td>j08_p1_g1_count</td>\n",
       "      <td>31.0</td>\n",
       "      <td>42.0</td>\n",
       "      <td>27.0</td>\n",
       "    </tr>\n",
       "    <tr>\n",
       "      <td>j08_p2_g1_count</td>\n",
       "      <td>40.0</td>\n",
       "      <td>23.0</td>\n",
       "      <td>37.0</td>\n",
       "    </tr>\n",
       "    <tr>\n",
       "      <td>j10_p1_g1_count</td>\n",
       "      <td>24.0</td>\n",
       "      <td>28.0</td>\n",
       "      <td>48.0</td>\n",
       "    </tr>\n",
       "    <tr>\n",
       "      <td>j10_p2_g1_count</td>\n",
       "      <td>14.0</td>\n",
       "      <td>27.0</td>\n",
       "      <td>59.0</td>\n",
       "    </tr>\n",
       "    <tr>\n",
       "      <td>j11_p1_g1_count</td>\n",
       "      <td>0.0</td>\n",
       "      <td>40.0</td>\n",
       "      <td>60.0</td>\n",
       "    </tr>\n",
       "    <tr>\n",
       "      <td>j11_p2_g1_count</td>\n",
       "      <td>2.0</td>\n",
       "      <td>6.0</td>\n",
       "      <td>92.0</td>\n",
       "    </tr>\n",
       "  </tbody>\n",
       "</table>\n",
       "</div>"
      ],
      "text/plain": [
       "                   30    60    90\n",
       "j01_p1_g1_count  38.0  36.0  26.0\n",
       "j01_p2_g1_count  33.0  37.0  30.0\n",
       "j02_p1_g1_count  36.0  32.0  32.0\n",
       "j02_p2_g1_count  25.0  39.0  36.0\n",
       "j03_p1_g1_count  22.0  29.0  49.0\n",
       "j03_p2_g1_count  29.0  23.0  48.0\n",
       "j04_p1_g1_count  26.0  39.0  35.0\n",
       "j04_p2_g1_count  34.0  22.0  44.0\n",
       "j05_p1_g1_count   5.0  16.0  79.0\n",
       "j05_p2_g1_count  14.0  28.0  58.0\n",
       "j06_p1_g1_count  36.0  34.0  30.0\n",
       "j06_p2_g1_count  45.0  16.0  39.0\n",
       "j07_p1_g1_count   7.0  35.0  58.0\n",
       "j07_p2_g1_count  11.0  17.0  72.0\n",
       "j08_p1_g1_count  31.0  42.0  27.0\n",
       "j08_p2_g1_count  40.0  23.0  37.0\n",
       "j10_p1_g1_count  24.0  28.0  48.0\n",
       "j10_p2_g1_count  14.0  27.0  59.0\n",
       "j11_p1_g1_count   0.0  40.0  60.0\n",
       "j11_p2_g1_count   2.0   6.0  92.0"
      ]
     },
     "execution_count": 192,
     "metadata": {},
     "output_type": "execute_result"
    }
   ],
   "source": [
    "j_g1_counts"
   ]
  },
  {
   "cell_type": "markdown",
   "metadata": {},
   "source": [
    "# Reaction Time"
   ]
  },
  {
   "cell_type": "code",
   "execution_count": 193,
   "metadata": {},
   "outputs": [],
   "source": [
    "'Here we get the reaction times'\n",
    "time_j_1 = pd.DataFrame(columns = ['session','post win','post loss'])\n",
    "time_j_2 = pd.DataFrame(columns = ['session','post win','post loss'])"
   ]
  },
  {
   "cell_type": "code",
   "execution_count": 194,
   "metadata": {},
   "outputs": [],
   "source": [
    "time_j_1 = reaction_time(j01_p1_g1, time_j_1)\n",
    "time_j_1 = reaction_time(j02_p1_g1, time_j_1)\n",
    "time_j_1 = reaction_time(j03_p1_g1, time_j_1)\n",
    "time_j_1 = reaction_time(j04_p1_g1, time_j_1)\n",
    "time_j_1 = reaction_time(j05_p1_g1, time_j_1)\n",
    "time_j_1 = reaction_time(j06_p1_g1, time_j_1)\n",
    "time_j_1 = reaction_time(j07_p1_g1, time_j_1)\n",
    "time_j_1 = reaction_time(j08_p1_g1, time_j_1)\n",
    "time_j_1 = reaction_time(j10_p1_g1, time_j_1)\n",
    "time_j_1 = reaction_time(j11_p1_g1, time_j_1)"
   ]
  },
  {
   "cell_type": "code",
   "execution_count": 195,
   "metadata": {},
   "outputs": [],
   "source": [
    "time_j_2 = reaction_time(j01_p1_g2, time_j_2)\n",
    "time_j_2 = reaction_time(j02_p1_g2, time_j_2)\n",
    "time_j_2 = reaction_time(j03_p1_g2, time_j_2)\n",
    "time_j_2 = reaction_time(j04_p1_g2, time_j_2)\n",
    "time_j_2 = reaction_time(j05_p1_g2, time_j_2)\n",
    "time_j_2 = reaction_time(j06_p1_g2, time_j_2)\n",
    "time_j_2 = reaction_time(j07_p1_g2, time_j_2)\n",
    "time_j_2 = reaction_time(j08_p1_g2, time_j_2)\n",
    "time_j_2 = reaction_time(j10_p1_g2, time_j_2)\n",
    "time_j_2 = reaction_time(j11_p1_g2, time_j_2)"
   ]
  },
  {
   "cell_type": "code",
   "execution_count": 196,
   "metadata": {},
   "outputs": [
    {
     "data": {
      "image/png": "[encoded data removed]",
      "text/plain": [
       "<Figure size 432x288 with 1 Axes>"
      ]
     },
     "metadata": {},
     "output_type": "display_data"
    }
   ],
   "source": [
    "times_j_g1_box = sns.boxplot( \n",
    "                 data=time_j_1, \n",
    "                 width=0.5,\n",
    "                 palette=\"pastel\")\n",
    "times_j_g1_box.axes.set_title(\"SMAB3 Joint Reaction Times in Game 1\",\n",
    "                    fontsize=16)\n",
    "\n",
    "plot_file_name=\"times_j_g1_box.jpg\"\n",
    " \n",
    "plt.ylim(0, 5)\n",
    "times_j_g1_box.axes.set(ylabel='Time in sec.')\n",
    "\n",
    "# save as jpeg\n",
    "times_j_g1_box.figure.savefig(plot_file_name,format='jpeg')"
   ]
  },
  {
   "cell_type": "code",
   "execution_count": 197,
   "metadata": {},
   "outputs": [
    {
     "data": {
      "image/png": "[encoded data removed]",
      "text/plain": [
       "<Figure size 432x288 with 1 Axes>"
      ]
     },
     "metadata": {},
     "output_type": "display_data"
    }
   ],
   "source": [
    "times_j_g2_box = sns.boxplot( \n",
    "                 data=time_j_2, \n",
    "                 width=0.5,\n",
    "                 palette=\"pastel\")\n",
    "times_j_g2_box.axes.set_title(\"SMAB3 Joint Reaction Times in Game 2\",\n",
    "                    fontsize=16)\n",
    "\n",
    "plot_file_name=\"times_j_g2_box.jpg\"\n",
    " \n",
    "plt.ylim(0, 5)\n",
    "times_j_g2_box.axes.set(ylabel='Time in sec.')\n",
    "\n",
    "# save as jpeg\n",
    "times_j_g2_box.figure.savefig(plot_file_name,format='jpeg')"
   ]
  },
  {
   "cell_type": "code",
   "execution_count": 198,
   "metadata": {},
   "outputs": [
    {
     "data": {
      "image/png": "[encoded data removed]",
      "text/plain": [
       "<Figure size 432x288 with 1 Axes>"
      ]
     },
     "metadata": {},
     "output_type": "display_data"
    }
   ],
   "source": [
    "times_s_g2_box = sns.boxplot( \n",
    "                 data=time_s_2, \n",
    "                 width=0.5,\n",
    "                 palette=\"pastel\")\n",
    "times_s_g2_box.axes.set_title(\"SMAB3 Control Reaction Times in Game 2\",\n",
    "                    fontsize=16)\n",
    "\n",
    "plot_file_name=\"times_s_g2_box.jpg\"\n",
    " \n",
    "plt.ylim(0, 5)\n",
    "times_s_g2_box.axes.set(ylabel='Time in sec.')\n",
    "\n",
    "# save as jpeg\n",
    "times_s_g2_box.figure.savefig(plot_file_name,format='jpeg')"
   ]
  },
  {
   "cell_type": "code",
   "execution_count": 199,
   "metadata": {},
   "outputs": [
    {
     "data": {
      "image/png": "[encoded data removed]",
      "text/plain": [
       "<Figure size 432x288 with 1 Axes>"
      ]
     },
     "metadata": {},
     "output_type": "display_data"
    }
   ],
   "source": [
    "times_s_g1_box = sns.boxplot( \n",
    "                 data=time_s_1, \n",
    "                 width=0.5,\n",
    "                 palette=\"pastel\")\n",
    "times_s_g1_box.axes.set_title(\"SMAB3 Control Reaction Times in Game 1\",\n",
    "                    fontsize=16)\n",
    "\n",
    "plot_file_name=\"times_s_g1_box.jpg\"\n",
    " \n",
    "plt.ylim(0, 5)\n",
    "times_s_g1_box.axes.set(ylabel='Time in sec.')\n",
    "\n",
    "# save as jpeg\n",
    "times_s_g1_box.figure.savefig(plot_file_name,format='jpeg')"
   ]
  },
  {
   "cell_type": "code",
   "execution_count": 200,
   "metadata": {},
   "outputs": [
    {
     "data": {
      "text/plain": [
       "post win     2.143281\n",
       "post loss    2.156833\n",
       "dtype: float64"
      ]
     },
     "execution_count": 200,
     "metadata": {},
     "output_type": "execute_result"
    }
   ],
   "source": [
    "np.mean(time_s_1)"
   ]
  },
  {
   "cell_type": "code",
   "execution_count": 201,
   "metadata": {},
   "outputs": [
    {
     "data": {
      "text/plain": [
       "post win     2.095491\n",
       "post loss    2.040904\n",
       "dtype: float64"
      ]
     },
     "execution_count": 201,
     "metadata": {},
     "output_type": "execute_result"
    }
   ],
   "source": [
    "np.mean(time_s_2)"
   ]
  },
  {
   "cell_type": "code",
   "execution_count": 202,
   "metadata": {},
   "outputs": [
    {
     "data": {
      "text/plain": [
       "post win     0.501875\n",
       "post loss    0.504602\n",
       "dtype: float64"
      ]
     },
     "execution_count": 202,
     "metadata": {},
     "output_type": "execute_result"
    }
   ],
   "source": [
    "np.std(time_s_1)"
   ]
  },
  {
   "cell_type": "code",
   "execution_count": 203,
   "metadata": {},
   "outputs": [
    {
     "data": {
      "text/plain": [
       "post win     0.539784\n",
       "post loss    0.528833\n",
       "dtype: float64"
      ]
     },
     "execution_count": 203,
     "metadata": {},
     "output_type": "execute_result"
    }
   ],
   "source": [
    "np.std(time_s_2)"
   ]
  },
  {
   "cell_type": "code",
   "execution_count": 204,
   "metadata": {},
   "outputs": [
    {
     "data": {
      "text/plain": [
       "post win     3.003842\n",
       "post loss    2.743744\n",
       "dtype: float64"
      ]
     },
     "execution_count": 204,
     "metadata": {},
     "output_type": "execute_result"
    }
   ],
   "source": [
    "np.mean(time_j_1)"
   ]
  },
  {
   "cell_type": "code",
   "execution_count": 205,
   "metadata": {},
   "outputs": [
    {
     "data": {
      "text/plain": [
       "post win     2.571192\n",
       "post loss    2.772587\n",
       "dtype: float64"
      ]
     },
     "execution_count": 205,
     "metadata": {},
     "output_type": "execute_result"
    }
   ],
   "source": [
    "np.mean(time_j_2)"
   ]
  },
  {
   "cell_type": "code",
   "execution_count": 206,
   "metadata": {},
   "outputs": [
    {
     "data": {
      "text/plain": [
       "post win     1.287668\n",
       "post loss    0.547701\n",
       "dtype: float64"
      ]
     },
     "execution_count": 206,
     "metadata": {},
     "output_type": "execute_result"
    }
   ],
   "source": [
    "np.std(time_j_1)"
   ]
  },
  {
   "cell_type": "code",
   "execution_count": 207,
   "metadata": {},
   "outputs": [
    {
     "data": {
      "text/plain": [
       "post win     0.715499\n",
       "post loss    0.768199\n",
       "dtype: float64"
      ]
     },
     "execution_count": 207,
     "metadata": {},
     "output_type": "execute_result"
    }
   ],
   "source": [
    "np.std(time_j_2)"
   ]
  },
  {
   "cell_type": "code",
   "execution_count": 208,
   "metadata": {},
   "outputs": [
    {
     "data": {
      "text/plain": [
       "Ttest_relResult(statistic=-0.22232713395530926, pvalue=0.8277981973516864)"
      ]
     },
     "execution_count": 208,
     "metadata": {},
     "output_type": "execute_result"
    }
   ],
   "source": [
    "sp.stats.ttest_rel(time_s_1['post win'],time_s_1['post loss'])"
   ]
  },
  {
   "cell_type": "code",
   "execution_count": 209,
   "metadata": {},
   "outputs": [
    {
     "data": {
      "text/plain": [
       "Ttest_relResult(statistic=1.6133551404642006, pvalue=0.1349630881166298)"
      ]
     },
     "execution_count": 209,
     "metadata": {},
     "output_type": "execute_result"
    }
   ],
   "source": [
    "sp.stats.ttest_rel(time_s_2['post win'],time_s_2['post loss'])"
   ]
  },
  {
   "cell_type": "code",
   "execution_count": 210,
   "metadata": {},
   "outputs": [
    {
     "data": {
      "text/plain": [
       "Ttest_relResult(statistic=0.8796229730498023, pvalue=0.40193938606783575)"
      ]
     },
     "execution_count": 210,
     "metadata": {},
     "output_type": "execute_result"
    }
   ],
   "source": [
    "sp.stats.ttest_rel(time_j_1['post win'],time_j_1['post loss'])"
   ]
  },
  {
   "cell_type": "code",
   "execution_count": 211,
   "metadata": {},
   "outputs": [
    {
     "data": {
      "text/plain": [
       "Ttest_relResult(statistic=-1.240209628973232, pvalue=0.24625663257219957)"
      ]
     },
     "execution_count": 211,
     "metadata": {},
     "output_type": "execute_result"
    }
   ],
   "source": [
    "sp.stats.ttest_rel(time_j_2['post win'],time_j_2['post loss'])"
   ]
  },
  {
   "cell_type": "markdown",
   "metadata": {},
   "source": [
    "# SMAB4 Joint Data "
   ]
  },
  {
   "cell_type": "code",
   "execution_count": 212,
   "metadata": {},
   "outputs": [
    {
     "name": "stderr",
     "output_type": "stream",
     "text": [
      "/Users/simonefroley/opt/anaconda3/lib/python3.7/site-packages/ipykernel_launcher.py:7: UserWarning: Boolean Series key will be reindexed to match DataFrame index.\n",
      "  import sys\n",
      "/Users/simonefroley/opt/anaconda3/lib/python3.7/site-packages/ipykernel_launcher.py:8: UserWarning: Boolean Series key will be reindexed to match DataFrame index.\n",
      "  \n",
      "/Users/simonefroley/opt/anaconda3/lib/python3.7/site-packages/ipykernel_launcher.py:20: UserWarning: Boolean Series key will be reindexed to match DataFrame index.\n",
      "/Users/simonefroley/opt/anaconda3/lib/python3.7/site-packages/ipykernel_launcher.py:21: UserWarning: Boolean Series key will be reindexed to match DataFrame index.\n"
     ]
    }
   ],
   "source": [
    "'''Here we load the csv files into pandas dataframes by calling organize_trial_by_trial and get the scores in games\n",
    "1 and 2 by calling call_get_score.\n",
    "Note: for the files that were hand coded, the scores will be obtained later, as the score column needs to be filled out still.'''\n",
    "\n",
    "# # Multi Analysis\n",
    "\n",
    "df = organize_trial_by_trial_hand_code2('data/m01_gamedata_handcode.csv')\n",
    "m01 = df\n",
    "#m01_p1_g1_score,m01_p1_g2_score,m01_p2_g1_score,m01_p2_g2_score,m01_p1_diff,m01_p2_diff,m01_p1_g1_50,m01_p1_g2_50,m01_p2_g1_50,m01_p2_g2_50 = call_get_score(m01, 'm')\n",
    "m01.head()\n",
    "\n",
    "df = organize_trial_by_trial_hand_code2('data/m03_gamedata_handcode.csv')\n",
    "m03 = df\n",
    "#m01_p1_g1_score,m01_p1_g2_score,m01_p2_g1_score,m01_p2_g2_score,m01_p1_diff,m01_p2_diff,m01_p1_g1_50,m01_p1_g2_50,m01_p2_g1_50,m01_p2_g2_50 = call_get_score(m01, 'm')\n",
    "m03.head()\n",
    "\n",
    "df = organize_trial_by_trial('data/m05_gamedata.csv')\n",
    "m05 = df\n",
    "m05_p1_g1_score,m05_p1_g2_score,m05_p2_g1_score,m05_p2_g2_score,m05_p1_diff,m05_p2_diff,m05_p1_g1_50,m05_p1_g2_50,m05_p2_g1_50,m05_p2_g2_50 = call_get_score(m05, 'm')\n",
    "m05.head()\n",
    "\n",
    "\n",
    "# In[ ]:\n",
    "\n",
    "\n",
    "df = organize_trial_by_trial_300('data/m06_gamedata2.csv')\n",
    "m06 = df\n",
    "m06_p1_g1_score,m06_p1_g2_score,m06_p2_g1_score,m06_p2_g2_score,m06_p1_diff,m06_p2_diff,m06_p1_g1_50,m06_p1_g2_50,m06_p2_g1_50,m06_p2_g2_50 = call_get_score(m06, 'm')\n",
    "m06.head()\n",
    "\n",
    "\n",
    "df = organize_trial_by_trial_hand_code2('data/m07_gamedata_handcode.csv')\n",
    "m07 = df\n",
    "#m01_p1_g1_score,m01_p1_g2_score,m01_p2_g1_score,m01_p2_g2_score,m01_p1_diff,m01_p2_diff,m01_p1_g1_50,m01_p1_g2_50,m01_p2_g1_50,m01_p2_g2_50 = call_get_score(m01, 'm')\n",
    "m07.head()\n",
    "\n",
    "#m09 from LSL needs to be combined with hand coded\n",
    "df = organize_trial_by_trial_hand_code('data/m09_gamedata_handcode.csv')\n",
    "m09 = df\n",
    "#m01_p1_g1_score,m01_p1_g2_score,m01_p2_g1_score,m01_p2_g2_score,m01_p1_diff,m01_p2_diff,m01_p1_g1_50,m01_p1_g2_50,m01_p2_g1_50,m01_p2_g2_50 = call_get_score(m01, 'm')\n",
    "m09.head()\n",
    "\n",
    "df = organize_trial_by_trial('data/m09_gamedata.csv')\n",
    "m09_lsl = df\n",
    "#m08_p1_g1_score,m08_p1_g2_score,m08_p2_g1_score,m08_p2_g2_score,m08_p1_diff,m08_p2_diff,m08_p1_g1_50,m08_p1_g2_50,m08_p2_g1_50,m08_p2_g2_50 = call_get_score(m08, 'm')\n",
    "m09.head()\n",
    "\n",
    "df = organize_trial_by_trial_300('data/m08_gamedata2.csv')\n",
    "m08 = df\n",
    "m08_p1_g1_score,m08_p1_g2_score,m08_p2_g1_score,m08_p2_g2_score,m08_p1_diff,m08_p2_diff,m08_p1_g1_50,m08_p1_g2_50,m08_p2_g1_50,m08_p2_g2_50 = call_get_score(m08, 'm')\n",
    "m08.head()\n",
    "\n",
    "\n",
    "# In[ ]:\n",
    "\n",
    "\n",
    "# In[ ]:\n",
    "\n",
    "\n",
    "df = organize_trial_by_trial_300('data/m10_gamedata2.csv')\n",
    "m10 = df\n",
    "m10_p1_g1_score,m10_p1_g2_score,m10_p2_g1_score,m10_p2_g2_score,m10_p1_diff,m10_p2_diff,m10_p1_g1_50,m10_p1_g2_50,m10_p2_g1_50,m10_p2_g2_50 = call_get_score(m10, 'm')\n",
    "m10.head()\n",
    "\n",
    "\n",
    "# In[ ]:\n",
    "\n",
    "\n",
    "df = organize_trial_by_trial_300('data/m11_gamedata2.csv')\n",
    "m11 = df\n",
    "m11_p1_g1_score,m11_p1_g2_score,m11_p2_g1_score,m11_p2_g2_score,m11_p1_diff,m11_p2_diff,m11_p1_g1_50,m11_p1_g2_50,m11_p2_g1_50,m11_p2_g2_50 = call_get_score(m11, 'm')\n",
    "m11.head()\n",
    "\n",
    "\n",
    "# In[ ]:\n",
    "\n",
    "#session ends early\n",
    "#df = organize_trial_by_trial_floatclick('data/m12_gamedata.csv')\n",
    "#m12 = df\n",
    "#m12_p1_g1_score,m12_p1_g2_score,m12_p2_g1_score,m12_p2_g2_score,m12_p1_score_diff,m12_p2_score_diff = call_get_score(m12, 'm')\n",
    "#m12.head()\n",
    "\n",
    "\n",
    "# In[ ]:\n",
    "\n",
    "\n",
    "df = organize_trial_by_trial_300('data/m13_gamedata2.csv')\n",
    "m13 = df\n",
    "m13_p1_g1_score,m13_p1_g2_score,m13_p2_g1_score,m13_p2_g2_score,m13_p1_diff,m13_p2_diff,m13_p1_g1_50,m13_p1_g2_50,m13_p2_g1_50,m13_p2_g2_50 = call_get_score(m13, 'm')\n",
    "m13.head()\n",
    "\n",
    "\n",
    "# In[ ]:\n",
    "\n",
    "\n",
    "df = organize_trial_by_trial_300('data/m14_gamedata2.csv')\n",
    "m14 = df\n",
    "m14_p1_g1_score,m14_p1_g2_score,m14_p2_g1_score,m14_p2_g2_score,m14_p1_diff,m14_p2_diff,m14_p1_g1_50,m14_p1_g2_50,m14_p2_g1_50,m14_p2_g2_50 = call_get_score(m14, 'm')\n",
    "m14.head()\n",
    "\n",
    "\n",
    "# In[ ]:\n",
    "\n",
    "\n",
    "m05_p1_g1, m05_p1_g2, m05_p2_g1, m05_p2_g2 = separate_df(m05, 'm')\n",
    "m06_p1_g1, m06_p1_g2, m06_p2_g1, m06_p2_g2 = separate_df(m06, 'm')\n",
    "m07_p1_g1, m07_p1_g2, m07_p2_g1, m07_p2_g2 = separate_df(m07, 'm')\n",
    "m08_p1_g1, m08_p1_g2, m08_p2_g1, m08_p2_g2 = separate_df(m08, 'm')\n",
    "m10_p1_g1, m10_p1_g2, m10_p2_g1, m10_p2_g2 = separate_df(m10, 'm')\n",
    "m11_p1_g1, m11_p1_g2, m11_p2_g1, m11_p2_g2 = separate_df(m11, 'm')\n",
    "m13_p1_g1, m13_p1_g2, m13_p2_g1, m13_p2_g2 = separate_df(m13, 'm')\n",
    "\n",
    "m14_p1_g1, m14_p1_g2, m14_p2_g1, m14_p2_g2 = separate_df(m14, 'm')"
   ]
  },
  {
   "cell_type": "code",
   "execution_count": 213,
   "metadata": {},
   "outputs": [],
   "source": [
    "m01_p1_counts, m01_p2_counts, m01_p1_probs, m01_p2_probs = handcode_calc_prob(m01)\n",
    "m03_p1_counts, m03_p2_counts, m03_p1_probs, m03_p2_probs = handcode_calc_prob(m03)\n",
    "m07_p1_counts, m07_p2_counts, m07_p1_probs, m07_p2_probs = handcode_calc_prob(m07)"
   ]
  },
  {
   "cell_type": "code",
   "execution_count": 214,
   "metadata": {},
   "outputs": [
    {
     "data": {
      "text/html": [
       "<div>\n",
       "<style scoped>\n",
       "    .dataframe tbody tr th:only-of-type {\n",
       "        vertical-align: middle;\n",
       "    }\n",
       "\n",
       "    .dataframe tbody tr th {\n",
       "        vertical-align: top;\n",
       "    }\n",
       "\n",
       "    .dataframe thead th {\n",
       "        text-align: right;\n",
       "    }\n",
       "</style>\n",
       "<table border=\"1\" class=\"dataframe\">\n",
       "  <thead>\n",
       "    <tr style=\"text-align: right;\">\n",
       "      <th></th>\n",
       "      <th>g1_p1_h1_count</th>\n",
       "      <th>g1_p1_h2_count</th>\n",
       "      <th>g1_p1_h3_count</th>\n",
       "      <th>g2_p1_h1_count</th>\n",
       "      <th>g2_p1_h2_count</th>\n",
       "      <th>g2_p1_h3_count</th>\n",
       "    </tr>\n",
       "  </thead>\n",
       "  <tbody>\n",
       "    <tr>\n",
       "      <td>rewarded</td>\n",
       "      <td>56</td>\n",
       "      <td>22</td>\n",
       "      <td>2</td>\n",
       "      <td>87</td>\n",
       "      <td>1</td>\n",
       "      <td>0</td>\n",
       "    </tr>\n",
       "    <tr>\n",
       "      <td>non-rewarded</td>\n",
       "      <td>3</td>\n",
       "      <td>9</td>\n",
       "      <td>9</td>\n",
       "      <td>10</td>\n",
       "      <td>2</td>\n",
       "      <td>2</td>\n",
       "    </tr>\n",
       "  </tbody>\n",
       "</table>\n",
       "</div>"
      ],
      "text/plain": [
       "              g1_p1_h1_count  g1_p1_h2_count  g1_p1_h3_count  g2_p1_h1_count  \\\n",
       "rewarded                  56              22               2              87   \n",
       "non-rewarded               3               9               9              10   \n",
       "\n",
       "              g2_p1_h2_count  g2_p1_h3_count  \n",
       "rewarded                   1               0  \n",
       "non-rewarded               2               2  "
      ]
     },
     "execution_count": 214,
     "metadata": {},
     "output_type": "execute_result"
    }
   ],
   "source": [
    "m07_p1_counts"
   ]
  },
  {
   "cell_type": "code",
   "execution_count": 215,
   "metadata": {},
   "outputs": [
    {
     "data": {
      "text/html": [
       "<div>\n",
       "<style scoped>\n",
       "    .dataframe tbody tr th:only-of-type {\n",
       "        vertical-align: middle;\n",
       "    }\n",
       "\n",
       "    .dataframe tbody tr th {\n",
       "        vertical-align: top;\n",
       "    }\n",
       "\n",
       "    .dataframe thead th {\n",
       "        text-align: right;\n",
       "    }\n",
       "</style>\n",
       "<table border=\"1\" class=\"dataframe\">\n",
       "  <thead>\n",
       "    <tr style=\"text-align: right;\">\n",
       "      <th></th>\n",
       "      <th>p1_h1</th>\n",
       "      <th>p1_h2</th>\n",
       "      <th>p1_h3</th>\n",
       "    </tr>\n",
       "  </thead>\n",
       "  <tbody>\n",
       "    <tr>\n",
       "      <td>game 1</td>\n",
       "      <td>94.915254</td>\n",
       "      <td>70.967742</td>\n",
       "      <td>18.181818</td>\n",
       "    </tr>\n",
       "    <tr>\n",
       "      <td>game 2</td>\n",
       "      <td>89.690722</td>\n",
       "      <td>33.333333</td>\n",
       "      <td>0.000000</td>\n",
       "    </tr>\n",
       "  </tbody>\n",
       "</table>\n",
       "</div>"
      ],
      "text/plain": [
       "            p1_h1      p1_h2      p1_h3\n",
       "game 1  94.915254  70.967742  18.181818\n",
       "game 2  89.690722  33.333333   0.000000"
      ]
     },
     "execution_count": 215,
     "metadata": {},
     "output_type": "execute_result"
    }
   ],
   "source": [
    "m07_p1_probs"
   ]
  },
  {
   "cell_type": "code",
   "execution_count": 216,
   "metadata": {},
   "outputs": [
    {
     "data": {
      "text/html": [
       "<div>\n",
       "<style scoped>\n",
       "    .dataframe tbody tr th:only-of-type {\n",
       "        vertical-align: middle;\n",
       "    }\n",
       "\n",
       "    .dataframe tbody tr th {\n",
       "        vertical-align: top;\n",
       "    }\n",
       "\n",
       "    .dataframe thead th {\n",
       "        text-align: right;\n",
       "    }\n",
       "</style>\n",
       "<table border=\"1\" class=\"dataframe\">\n",
       "  <thead>\n",
       "    <tr style=\"text-align: right;\">\n",
       "      <th></th>\n",
       "      <th>p2_h1</th>\n",
       "      <th>p1_h2</th>\n",
       "      <th>p1_h3</th>\n",
       "    </tr>\n",
       "  </thead>\n",
       "  <tbody>\n",
       "    <tr>\n",
       "      <td>game 1</td>\n",
       "      <td>93.333333</td>\n",
       "      <td>68.0</td>\n",
       "      <td>33.333333</td>\n",
       "    </tr>\n",
       "    <tr>\n",
       "      <td>game 2</td>\n",
       "      <td>88.000000</td>\n",
       "      <td>0.0</td>\n",
       "      <td>0.000000</td>\n",
       "    </tr>\n",
       "  </tbody>\n",
       "</table>\n",
       "</div>"
      ],
      "text/plain": [
       "            p2_h1  p1_h2      p1_h3\n",
       "game 1  93.333333   68.0  33.333333\n",
       "game 2  88.000000    0.0   0.000000"
      ]
     },
     "execution_count": 216,
     "metadata": {},
     "output_type": "execute_result"
    }
   ],
   "source": [
    "m07_p2_probs"
   ]
  },
  {
   "cell_type": "code",
   "execution_count": 217,
   "metadata": {},
   "outputs": [
    {
     "name": "stderr",
     "output_type": "stream",
     "text": [
      "/Users/simonefroley/opt/anaconda3/lib/python3.7/site-packages/ipykernel_launcher.py:7: UserWarning: Boolean Series key will be reindexed to match DataFrame index.\n",
      "  import sys\n",
      "/Users/simonefroley/opt/anaconda3/lib/python3.7/site-packages/ipykernel_launcher.py:8: UserWarning: Boolean Series key will be reindexed to match DataFrame index.\n",
      "  \n",
      "/Users/simonefroley/opt/anaconda3/lib/python3.7/site-packages/ipykernel_launcher.py:20: UserWarning: Boolean Series key will be reindexed to match DataFrame index.\n",
      "/Users/simonefroley/opt/anaconda3/lib/python3.7/site-packages/ipykernel_launcher.py:21: UserWarning: Boolean Series key will be reindexed to match DataFrame index.\n"
     ]
    }
   ],
   "source": [
    "m01_p1_g1, m01_p1_g2, m01_p2_g1, m01_p2_g2 = separate_df(m01, 'm')\n",
    "m03_p1_g1, m03_p1_g2, m03_p2_g1, m03_p2_g2 = separate_df(m03, 'm')\n",
    "m07_p1_g1, m07_p1_g2, m07_p2_g1, m07_p2_g2 = separate_df(m07, 'm')"
   ]
  },
  {
   "cell_type": "code",
   "execution_count": 218,
   "metadata": {},
   "outputs": [],
   "source": [
    "'''Here we check the probability-hole mappings for each player in each game'''\n",
    "m01_p1_g1_map = hole_prob_map(m01_p1_g1)\n",
    "m01_p1_g2_map = hole_prob_map(m01_p1_g2)\n",
    "m01_p2_g1_map = hole_prob_map(m01_p2_g1)\n",
    "\n",
    "m03_p2_g2_map = hole_prob_map(m03_p2_g2)\n",
    "m03_p1_g1_map = hole_prob_map(m03_p1_g1)\n",
    "m03_p1_g2_map = hole_prob_map(m03_p1_g2)\n",
    "m03_p2_g1_map = hole_prob_map(m03_p2_g1)\n",
    "m03_p2_g2_map = hole_prob_map(m03_p2_g2)\n",
    "\n",
    "m05_p1_g1_map = hole_prob_map(m05_p1_g1)\n",
    "m05_p1_g2_map = hole_prob_map(m05_p1_g2)\n",
    "m05_p2_g1_map = hole_prob_map(m05_p2_g1)\n",
    "m05_p2_g2_map = hole_prob_map(m05_p2_g2)\n",
    "\n",
    "m06_p1_g1_map = hole_prob_map(m06_p1_g1)\n",
    "m06_p1_g2_map = hole_prob_map(m06_p1_g2)\n",
    "m06_p2_g1_map = hole_prob_map(m06_p2_g1)\n",
    "m06_p2_g2_map = hole_prob_map(m06_p2_g2)\n",
    "\n",
    "m07_p1_g1_map = hole_prob_map(m07_p1_g1)\n",
    "#m07_p1_g2_map = hole_prob_map(m07_p1_g2)\n",
    "m07_p2_g1_map = hole_prob_map(m07_p2_g1)\n",
    "#m07_p2_g2_map = hole_prob_map(m07_p2_g2)\n",
    "\n",
    "m08_p1_g1_map = hole_prob_map(m08_p1_g1)\n",
    "m08_p1_g2_map = hole_prob_map(m08_p1_g2)\n",
    "m08_p2_g1_map = hole_prob_map(m08_p2_g1)\n",
    "m08_p2_g2_map = hole_prob_map(m08_p2_g2)\n",
    "\n",
    "m10_p1_g1_map = hole_prob_map(m10_p1_g1)\n",
    "m10_p1_g2_map = hole_prob_map(m10_p1_g2)\n",
    "m10_p2_g1_map = hole_prob_map(m10_p2_g1)\n",
    "m10_p2_g2_map = hole_prob_map(m10_p2_g2)\n",
    "\n",
    "m11_p1_g1_map = hole_prob_map(m11_p1_g1)\n",
    "#m11_p1_g2_map = hole_prob_map(m11_p1_g2)\n",
    "m11_p2_g1_map = hole_prob_map(m11_p2_g1)\n",
    "#m11_p2_g2_map = hole_prob_map(m11_p2_g2)\n",
    "\n",
    "m13_p1_g1_map = hole_prob_map(m13_p1_g1)\n",
    "m13_p1_g2_map = hole_prob_map(m13_p1_g2)\n",
    "m13_p2_g1_map = hole_prob_map(m13_p2_g1)\n",
    "m13_p2_g2_map = hole_prob_map(m13_p2_g2)"
   ]
  },
  {
   "cell_type": "code",
   "execution_count": 219,
   "metadata": {},
   "outputs": [],
   "source": [
    "m01_p1_g1_score = m01_p1_g1['reward'].sum()\n",
    "m01_p1_g2_score = m01_p1_g2['reward'].sum()\n",
    "m01_p2_g1_score = m01_p2_g1['reward'].sum()\n",
    "m01_p2_g2_score = m01_p2_g2['reward'].sum()\n",
    "\n",
    "m03_p1_g1_score = m03_p1_g1['reward'].sum()\n",
    "m03_p1_g2_score = m03_p1_g2['reward'].sum()\n",
    "m03_p2_g1_score = m03_p2_g1['reward'].sum()\n",
    "m03_p2_g2_score = m03_p2_g2['reward'].sum()\n",
    "\n",
    "m07_p1_g1_score = m07_p1_g1['reward'].sum()\n",
    "m07_p1_g2_score = m07_p1_g2['reward'].sum()\n",
    "m07_p2_g1_score = m07_p2_g1['reward'].sum()\n",
    "m07_p2_g2_score = m07_p2_g2['reward'].sum()"
   ]
  },
  {
   "cell_type": "code",
   "execution_count": 220,
   "metadata": {},
   "outputs": [
    {
     "data": {
      "text/html": [
       "<div>\n",
       "<style scoped>\n",
       "    .dataframe tbody tr th:only-of-type {\n",
       "        vertical-align: middle;\n",
       "    }\n",
       "\n",
       "    .dataframe tbody tr th {\n",
       "        vertical-align: top;\n",
       "    }\n",
       "\n",
       "    .dataframe thead th {\n",
       "        text-align: right;\n",
       "    }\n",
       "</style>\n",
       "<table border=\"1\" class=\"dataframe\">\n",
       "  <thead>\n",
       "    <tr style=\"text-align: right;\">\n",
       "      <th></th>\n",
       "      <th>game number</th>\n",
       "      <th>trial</th>\n",
       "      <th>player</th>\n",
       "      <th>arm</th>\n",
       "      <th>probability</th>\n",
       "      <th>reward</th>\n",
       "      <th>time</th>\n",
       "      <th>comment 1</th>\n",
       "      <th>comment 2</th>\n",
       "    </tr>\n",
       "  </thead>\n",
       "  <tbody>\n",
       "    <tr>\n",
       "      <td>200</td>\n",
       "      <td>2</td>\n",
       "      <td>1</td>\n",
       "      <td>1</td>\n",
       "      <td>3</td>\n",
       "      <td>NaN</td>\n",
       "      <td>0</td>\n",
       "      <td>1900-01-01 00:13:02.702</td>\n",
       "      <td>NaT</td>\n",
       "      <td></td>\n",
       "    </tr>\n",
       "    <tr>\n",
       "      <td>202</td>\n",
       "      <td>2</td>\n",
       "      <td>3</td>\n",
       "      <td>1</td>\n",
       "      <td>1</td>\n",
       "      <td>NaN</td>\n",
       "      <td>1</td>\n",
       "      <td>1900-01-01 00:13:09.572</td>\n",
       "      <td>NaT</td>\n",
       "      <td></td>\n",
       "    </tr>\n",
       "    <tr>\n",
       "      <td>204</td>\n",
       "      <td>2</td>\n",
       "      <td>5</td>\n",
       "      <td>1</td>\n",
       "      <td>3</td>\n",
       "      <td>NaN</td>\n",
       "      <td>1</td>\n",
       "      <td>1900-01-01 00:13:15.470</td>\n",
       "      <td>NaT</td>\n",
       "      <td></td>\n",
       "    </tr>\n",
       "    <tr>\n",
       "      <td>206</td>\n",
       "      <td>2</td>\n",
       "      <td>7</td>\n",
       "      <td>1</td>\n",
       "      <td>2</td>\n",
       "      <td>NaN</td>\n",
       "      <td>1</td>\n",
       "      <td>1900-01-01 00:13:21.267</td>\n",
       "      <td>NaT</td>\n",
       "      <td></td>\n",
       "    </tr>\n",
       "    <tr>\n",
       "      <td>208</td>\n",
       "      <td>2</td>\n",
       "      <td>9</td>\n",
       "      <td>1</td>\n",
       "      <td>1</td>\n",
       "      <td>NaN</td>\n",
       "      <td>0</td>\n",
       "      <td>1900-01-01 00:13:27.969</td>\n",
       "      <td>NaT</td>\n",
       "      <td></td>\n",
       "    </tr>\n",
       "    <tr>\n",
       "      <td>...</td>\n",
       "      <td>...</td>\n",
       "      <td>...</td>\n",
       "      <td>...</td>\n",
       "      <td>...</td>\n",
       "      <td>...</td>\n",
       "      <td>...</td>\n",
       "      <td>...</td>\n",
       "      <td>...</td>\n",
       "      <td>...</td>\n",
       "    </tr>\n",
       "    <tr>\n",
       "      <td>390</td>\n",
       "      <td>2</td>\n",
       "      <td>191</td>\n",
       "      <td>1</td>\n",
       "      <td>3</td>\n",
       "      <td>NaN</td>\n",
       "      <td>0</td>\n",
       "      <td>1900-01-01 00:23:20.902</td>\n",
       "      <td>NaT</td>\n",
       "      <td></td>\n",
       "    </tr>\n",
       "    <tr>\n",
       "      <td>392</td>\n",
       "      <td>2</td>\n",
       "      <td>193</td>\n",
       "      <td>1</td>\n",
       "      <td>2</td>\n",
       "      <td>NaN</td>\n",
       "      <td>0</td>\n",
       "      <td>1900-01-01 00:23:28.040</td>\n",
       "      <td>NaT</td>\n",
       "      <td></td>\n",
       "    </tr>\n",
       "    <tr>\n",
       "      <td>394</td>\n",
       "      <td>2</td>\n",
       "      <td>195</td>\n",
       "      <td>1</td>\n",
       "      <td>3</td>\n",
       "      <td>NaN</td>\n",
       "      <td>1</td>\n",
       "      <td>1900-01-01 00:23:33.536</td>\n",
       "      <td>NaT</td>\n",
       "      <td></td>\n",
       "    </tr>\n",
       "    <tr>\n",
       "      <td>396</td>\n",
       "      <td>2</td>\n",
       "      <td>197</td>\n",
       "      <td>1</td>\n",
       "      <td>3</td>\n",
       "      <td>NaN</td>\n",
       "      <td>1</td>\n",
       "      <td>1900-01-01 00:23:39.434</td>\n",
       "      <td>NaT</td>\n",
       "      <td></td>\n",
       "    </tr>\n",
       "    <tr>\n",
       "      <td>398</td>\n",
       "      <td>2</td>\n",
       "      <td>199</td>\n",
       "      <td>1</td>\n",
       "      <td>3</td>\n",
       "      <td>NaN</td>\n",
       "      <td>1</td>\n",
       "      <td>1900-01-01 00:23:45.935</td>\n",
       "      <td>NaT</td>\n",
       "      <td></td>\n",
       "    </tr>\n",
       "  </tbody>\n",
       "</table>\n",
       "<p>100 rows × 9 columns</p>\n",
       "</div>"
      ],
      "text/plain": [
       "     game number  trial  player  arm  probability  reward  \\\n",
       "200            2      1       1    3          NaN       0   \n",
       "202            2      3       1    1          NaN       1   \n",
       "204            2      5       1    3          NaN       1   \n",
       "206            2      7       1    2          NaN       1   \n",
       "208            2      9       1    1          NaN       0   \n",
       "..           ...    ...     ...  ...          ...     ...   \n",
       "390            2    191       1    3          NaN       0   \n",
       "392            2    193       1    2          NaN       0   \n",
       "394            2    195       1    3          NaN       1   \n",
       "396            2    197       1    3          NaN       1   \n",
       "398            2    199       1    3          NaN       1   \n",
       "\n",
       "                       time comment 1 comment 2  \n",
       "200 1900-01-01 00:13:02.702       NaT            \n",
       "202 1900-01-01 00:13:09.572       NaT            \n",
       "204 1900-01-01 00:13:15.470       NaT            \n",
       "206 1900-01-01 00:13:21.267       NaT            \n",
       "208 1900-01-01 00:13:27.969       NaT            \n",
       "..                      ...       ...       ...  \n",
       "390 1900-01-01 00:23:20.902       NaT            \n",
       "392 1900-01-01 00:23:28.040       NaT            \n",
       "394 1900-01-01 00:23:33.536       NaT            \n",
       "396 1900-01-01 00:23:39.434       NaT            \n",
       "398 1900-01-01 00:23:45.935       NaT            \n",
       "\n",
       "[100 rows x 9 columns]"
      ]
     },
     "execution_count": 220,
     "metadata": {},
     "output_type": "execute_result"
    }
   ],
   "source": [
    "m01_p1_g2"
   ]
  },
  {
   "cell_type": "code",
   "execution_count": 221,
   "metadata": {},
   "outputs": [],
   "source": [
    "# In[ ]:\n",
    "#Not working for m01 and m07 (hand coded)- need to fill in the probability column\n",
    "m01_p1_g1_count = m01_p1_g1['probability'].value_counts(sort=False)\n",
    "m01_p1_g2_count = m01_p1_g2['probability'].value_counts(sort=False)\n",
    "m01_p2_g1_count = m01_p2_g1['probability'].value_counts(sort=False)\n",
    "m01_p2_g2_count = m01_p2_g2['probability'].value_counts(sort=False)\n",
    "m03_p1_g1_count = m03_p1_g1['probability'].value_counts(sort=False)\n",
    "m03_p1_g2_count = m03_p1_g2['probability'].value_counts(sort=False)\n",
    "m03_p2_g1_count = m03_p2_g1['probability'].value_counts(sort=False)\n",
    "m03_p2_g2_count = m03_p2_g2['probability'].value_counts(sort=False)\n",
    "\n",
    "m05_p1_g1_count = m05_p1_g1['probability'].value_counts(sort=False)\n",
    "m05_p1_g2_count = m05_p1_g2['probability'].value_counts(sort=False)\n",
    "m05_p2_g1_count = m05_p2_g1['probability'].value_counts(sort=False)\n",
    "m05_p2_g2_count = m05_p2_g2['probability'].value_counts(sort=False)\n",
    "\n",
    "m07_p1_g1_count = m07_p1_g1['probability'].value_counts(sort=False)\n",
    "m07_p1_g2_count = m07_p1_g2['probability'].value_counts(sort=False)\n",
    "m07_p2_g1_count = m07_p2_g1['probability'].value_counts(sort=False)\n",
    "m07_p2_g2_count = m07_p2_g2['probability'].value_counts(sort=False)"
   ]
  },
  {
   "cell_type": "code",
   "execution_count": 222,
   "metadata": {},
   "outputs": [],
   "source": [
    "#same_probs_g1_2\n",
    "m06_p1_g1_count = m06_p1_g1['probability'].value_counts(sort=False)\n",
    "m06_p1_g2_count = m06_p1_g2['probability'].value_counts(sort=False)\n",
    "m06_p2_g1_count = m06_p2_g1['probability'].value_counts(sort=False)\n",
    "m06_p2_g2_count = m06_p2_g2['probability'].value_counts(sort=False)\n",
    "m07_p1_g1_count = m07_p1_g1['probability'].value_counts(sort=False)\n",
    "m07_p1_g2_count = m07_p1_g2['probability'].value_counts(sort=False)\n",
    "m07_p2_g1_count = m07_p2_g1['probability'].value_counts(sort=False)\n",
    "m07_p2_g2_count = m07_p2_g2['probability'].value_counts(sort=False)\n",
    "m08_p1_g1_count = m08_p1_g1['probability'].value_counts(sort=False)\n",
    "m08_p1_g2_count = m08_p1_g2['probability'].value_counts(sort=False)\n",
    "m08_p2_g1_count = m08_p2_g1['probability'].value_counts(sort=False)\n",
    "m08_p2_g2_count = m08_p2_g2['probability'].value_counts(sort=False)\n",
    "m10_p1_g1_count = m10_p1_g1['probability'].value_counts(sort=False)\n",
    "m10_p1_g2_count = m10_p1_g2['probability'].value_counts(sort=False)\n",
    "m10_p2_g1_count = m10_p2_g1['probability'].value_counts(sort=False)\n",
    "m10_p2_g2_count = m10_p2_g2['probability'].value_counts(sort=False)\n",
    "m11_p1_g1_count = m11_p1_g1['probability'].value_counts(sort=False)\n",
    "m11_p1_g2_count = m11_p1_g2['probability'].value_counts(sort=False)\n",
    "m11_p2_g1_count = m11_p2_g1['probability'].value_counts(sort=False)\n",
    "m11_p2_g2_count = m11_p2_g2['probability'].value_counts(sort=False)\n",
    "m13_p1_g1_count = m13_p1_g1['probability'].value_counts(sort=False)\n",
    "m13_p1_g2_count = m13_p1_g2['probability'].value_counts(sort=False)\n",
    "m13_p2_g1_count = m13_p2_g1['probability'].value_counts(sort=False)\n",
    "m13_p2_g2_count = m13_p2_g2['probability'].value_counts(sort=False)\n",
    "m14_p1_g1_count = m14_p1_g1['probability'].value_counts(sort=False)\n",
    "m14_p1_g2_count = m14_p1_g2['probability'].value_counts(sort=False)\n",
    "m14_p2_g1_count = m14_p2_g1['probability'].value_counts(sort=False)\n",
    "m14_p2_g2_count = m14_p2_g2['probability'].value_counts(sort=False)"
   ]
  },
  {
   "cell_type": "code",
   "execution_count": 223,
   "metadata": {},
   "outputs": [],
   "source": [
    "#call fix_reward on all of the files imported with '300' to fix the reward column\n",
    "m06_p1_g1 = fix_reward(m06_p1_g1)\n",
    "m06_p1_g2 = fix_reward(m06_p1_g2)\n",
    "m06_p2_g1 = fix_reward(m06_p2_g1)\n",
    "m06_p2_g2 = fix_reward(m06_p2_g2)\n",
    "m08_p1_g1 = fix_reward(m08_p1_g1)\n",
    "m08_p1_g2 = fix_reward(m08_p1_g2)\n",
    "m08_p2_g1 = fix_reward(m08_p2_g1)\n",
    "m08_p2_g2 = fix_reward(m08_p2_g2)\n",
    "m10_p1_g1 = fix_reward(m10_p1_g1)\n",
    "m10_p1_g2 = fix_reward(m10_p1_g2)\n",
    "m10_p2_g1 = fix_reward(m10_p2_g1)\n",
    "m10_p2_g2 = fix_reward(m10_p2_g2)\n",
    "m11_p1_g1 = fix_reward(m11_p1_g1)\n",
    "m11_p1_g2 = fix_reward(m11_p1_g2)\n",
    "m11_p2_g1 = fix_reward(m11_p2_g1)\n",
    "m11_p2_g2 = fix_reward(m11_p2_g2)\n",
    "m13_p1_g1 = fix_reward(m13_p1_g1)\n",
    "m13_p1_g2 = fix_reward(m13_p1_g2)\n",
    "m13_p2_g1 = fix_reward(m13_p2_g1)\n",
    "m13_p2_g2 = fix_reward(m13_p2_g2)\n",
    "m14_p1_g1 = fix_reward(m14_p1_g1)\n",
    "m14_p1_g2 = fix_reward(m14_p1_g2)\n",
    "m14_p2_g1 = fix_reward(m14_p2_g1)\n",
    "m14_p2_g2 = fix_reward(m14_p2_g2)"
   ]
  },
  {
   "cell_type": "code",
   "execution_count": 224,
   "metadata": {},
   "outputs": [
    {
     "data": {
      "text/html": [
       "<div>\n",
       "<style scoped>\n",
       "    .dataframe tbody tr th:only-of-type {\n",
       "        vertical-align: middle;\n",
       "    }\n",
       "\n",
       "    .dataframe tbody tr th {\n",
       "        vertical-align: top;\n",
       "    }\n",
       "\n",
       "    .dataframe thead th {\n",
       "        text-align: right;\n",
       "    }\n",
       "</style>\n",
       "<table border=\"1\" class=\"dataframe\">\n",
       "  <thead>\n",
       "    <tr style=\"text-align: right;\">\n",
       "      <th></th>\n",
       "      <th>score_1</th>\n",
       "    </tr>\n",
       "    <tr>\n",
       "      <th>participant</th>\n",
       "      <th></th>\n",
       "    </tr>\n",
       "  </thead>\n",
       "  <tbody>\n",
       "    <tr>\n",
       "      <td>m01_p1</td>\n",
       "      <td>67</td>\n",
       "    </tr>\n",
       "    <tr>\n",
       "      <td>m01_p2</td>\n",
       "      <td>59</td>\n",
       "    </tr>\n",
       "    <tr>\n",
       "      <td>m03_p1</td>\n",
       "      <td>61</td>\n",
       "    </tr>\n",
       "    <tr>\n",
       "      <td>m03_p2</td>\n",
       "      <td>65</td>\n",
       "    </tr>\n",
       "    <tr>\n",
       "      <td>m05_p1</td>\n",
       "      <td>86</td>\n",
       "    </tr>\n",
       "    <tr>\n",
       "      <td>m05_p2</td>\n",
       "      <td>75</td>\n",
       "    </tr>\n",
       "    <tr>\n",
       "      <td>m08_p1</td>\n",
       "      <td>69</td>\n",
       "    </tr>\n",
       "    <tr>\n",
       "      <td>m08_p2</td>\n",
       "      <td>83</td>\n",
       "    </tr>\n",
       "    <tr>\n",
       "      <td>m10_p1</td>\n",
       "      <td>69</td>\n",
       "    </tr>\n",
       "    <tr>\n",
       "      <td>m10_p2</td>\n",
       "      <td>57</td>\n",
       "    </tr>\n",
       "    <tr>\n",
       "      <td>m11_p1</td>\n",
       "      <td>80</td>\n",
       "    </tr>\n",
       "    <tr>\n",
       "      <td>m11_p2</td>\n",
       "      <td>87</td>\n",
       "    </tr>\n",
       "    <tr>\n",
       "      <td>m13_p1</td>\n",
       "      <td>53</td>\n",
       "    </tr>\n",
       "    <tr>\n",
       "      <td>m13_p2</td>\n",
       "      <td>60</td>\n",
       "    </tr>\n",
       "    <tr>\n",
       "      <td>m14_p1</td>\n",
       "      <td>75</td>\n",
       "    </tr>\n",
       "    <tr>\n",
       "      <td>m14_p2</td>\n",
       "      <td>63</td>\n",
       "    </tr>\n",
       "  </tbody>\n",
       "</table>\n",
       "</div>"
      ],
      "text/plain": [
       "             score_1\n",
       "participant         \n",
       "m01_p1            67\n",
       "m01_p2            59\n",
       "m03_p1            61\n",
       "m03_p2            65\n",
       "m05_p1            86\n",
       "m05_p2            75\n",
       "m08_p1            69\n",
       "m08_p2            83\n",
       "m10_p1            69\n",
       "m10_p2            57\n",
       "m11_p1            80\n",
       "m11_p2            87\n",
       "m13_p1            53\n",
       "m13_p2            60\n",
       "m14_p1            75\n",
       "m14_p2            63"
      ]
     },
     "execution_count": 224,
     "metadata": {},
     "output_type": "execute_result"
    }
   ],
   "source": [
    "# # Combined multi scores G1\n",
    "\n",
    "# In[ ]:\n",
    "\n",
    "\n",
    "m_scores_1 = pd.DataFrame({'participant':['m01_p1','m01_p2', 'm03_p1', 'm03_p2','m05_p1', 'm05_p2', 'm08_p1', 'm08_p2', 'm10_p1', 'm10_p2', 'm11_p1', 'm11_p2', 'm13_p1', 'm13_p2', 'm14_p1', 'm14_p2'], 'score_1':\n",
    "     [m01_p1_g1_score, m01_p2_g1_score, m03_p1_g1_score, m03_p2_g1_score, m05_p1_g1_score, m05_p2_g1_score, m08_p1_g1_score, m08_p2_g1_score,\n",
    "      m10_p1_g1_score, m10_p2_g1_score, m11_p1_g1_score, m11_p2_g1_score, m13_p1_g1_score, m13_p2_g1_score,\n",
    "      m14_p1_g1_score, m14_p2_g1_score]})\n",
    "m_scores_1.set_index('participant', inplace=True, drop=True)\n",
    "m_scores_1"
   ]
  },
  {
   "cell_type": "code",
   "execution_count": 225,
   "metadata": {},
   "outputs": [
    {
     "data": {
      "text/plain": [
       "\"m_scores_1_50 = pd.DataFrame({'participant':['m01_p1','m01_p2', 'm03_p1', 'm03_p2','m05_p1', 'm05_p2','m06_p1', 'm06_p2', 'm07_p1', 'm07_p2', 'm08_p1', 'm08_p2', 'm10_p1', 'm10_p2', 'm11_p1', 'm11_p2', 'm13_p1', 'm13_p2', 'm14_p1', 'm14_p2'], 'score_1_50':\\n     [m01_p1_g1_50, m01_p2_g1_50, m03_p1_g1_50, m03_p2_g1_50, m05_p1_g1_50, m05_p2_g1_50, m06_p1_g1_50, m06_p2_g1_50, m07_p1_g1_50, m07_p2_g1_50, m08_p1_g1_50, m08_p2_g1_50, m10_p1_g1_50, m10_p2_g1_50, m11_p1_g1_50, m11_p2_g1_50, m13_p1_g1_50, m13_p2_g1_50,\\n     m14_p1_g1_50, m14_p2_g1_50,]})\\nm_scores_1_50.set_index('participant', inplace=True, drop=True)\\n\\n#NEEDS TO BE SEPARATED\\nm_scores_2_50 = pd.DataFrame({'participant':['m05_p1', 'm05_p2','m06_p1', 'm06_p2', 'm07_p1', 'm07_p2', 'm08_p1', 'm08_p2', 'm10_p1', 'm10_p2', 'm11_p1', 'm11_p2', 'm13_p1', 'm13_p2', 'm14_p1', 'm14_p2'], 'score_1_50':\\n     [m01_p1_g2_50, m01_p2_g2_50, m03_p1_g2_50, m03_p2_g2_50, m05_p1_g2_50, m05_p2_g2_50, m06_p1_g2_50, m06_p2_g2_50, m07_p1_g2_50, m07_p2_g2_50, m08_p1_g2_50, m08_p2_g2_50, m10_p1_g2_50, m10_p2_g2_50, m11_p1_g2_50, m11_p2_g2_50, m13_p1_g2_50, m13_p2_g2_50,\\n     m14_p1_g2_50, m14_p2_g2_50,]})\\nm_scores_2_50.set_index('participant', inplace=True, drop=True)\""
      ]
     },
     "execution_count": 225,
     "metadata": {},
     "output_type": "execute_result"
    }
   ],
   "source": [
    "# # Combined multi scores G2\n",
    "\n",
    "# In[ ]:\n",
    "\n",
    "#NEEDS TO BE SEPARATED\n",
    "m_scores_2_d = pd.DataFrame({'participant':['m01_p1', 'm01_p2','m03_p1','m03_p2','m05_p1','m05_p2'], 'score_2':\n",
    "     [m01_p1_g2_score, m01_p2_g2_score, m03_p1_g2_score, m03_p2_g2_score, m05_p1_g2_score, m05_p2_g2_score]})\n",
    "m_scores_2_d.set_index('participant', inplace=True, drop=True)\n",
    "\n",
    "m_scores_2_s = pd.DataFrame({'participant':['m08_p1', 'm08_p2', 'm10_p1', 'm10_p2', 'm11_p1', 'm11_p2', 'm13_p1', 'm13_p2', 'm14_p1', 'm14_p2'], 'score_2':\n",
    "     [m08_p1_g2_score, m08_p2_g2_score,\n",
    "      m10_p1_g2_score, m10_p2_g2_score, m11_p1_g2_score, m11_p2_g2_score, m13_p1_g2_score, m13_p2_g2_score,\n",
    "      m14_p1_g2_score, m14_p2_g2_score]})\n",
    "m_scores_2_s.set_index('participant', inplace=True, drop=True)\n",
    "\n",
    "\n",
    "#NEEDS TO BE REVISITED, add 50 to hand coded sessions\n",
    "'''m_scores_1_50 = pd.DataFrame({'participant':['m01_p1','m01_p2', 'm03_p1', 'm03_p2','m05_p1', 'm05_p2','m06_p1', 'm06_p2', 'm07_p1', 'm07_p2', 'm08_p1', 'm08_p2', 'm10_p1', 'm10_p2', 'm11_p1', 'm11_p2', 'm13_p1', 'm13_p2', 'm14_p1', 'm14_p2'], 'score_1_50':\n",
    "     [m01_p1_g1_50, m01_p2_g1_50, m03_p1_g1_50, m03_p2_g1_50, m05_p1_g1_50, m05_p2_g1_50, m06_p1_g1_50, m06_p2_g1_50, m07_p1_g1_50, m07_p2_g1_50, m08_p1_g1_50, m08_p2_g1_50, m10_p1_g1_50, m10_p2_g1_50, m11_p1_g1_50, m11_p2_g1_50, m13_p1_g1_50, m13_p2_g1_50,\n",
    "     m14_p1_g1_50, m14_p2_g1_50,]})\n",
    "m_scores_1_50.set_index('participant', inplace=True, drop=True)\n",
    "\n",
    "#NEEDS TO BE SEPARATED\n",
    "m_scores_2_50 = pd.DataFrame({'participant':['m05_p1', 'm05_p2','m06_p1', 'm06_p2', 'm07_p1', 'm07_p2', 'm08_p1', 'm08_p2', 'm10_p1', 'm10_p2', 'm11_p1', 'm11_p2', 'm13_p1', 'm13_p2', 'm14_p1', 'm14_p2'], 'score_1_50':\n",
    "     [m01_p1_g2_50, m01_p2_g2_50, m03_p1_g2_50, m03_p2_g2_50, m05_p1_g2_50, m05_p2_g2_50, m06_p1_g2_50, m06_p2_g2_50, m07_p1_g2_50, m07_p2_g2_50, m08_p1_g2_50, m08_p2_g2_50, m10_p1_g2_50, m10_p2_g2_50, m11_p1_g2_50, m11_p2_g2_50, m13_p1_g2_50, m13_p2_g2_50,\n",
    "     m14_p1_g2_50, m14_p2_g2_50,]})\n",
    "m_scores_2_50.set_index('participant', inplace=True, drop=True)'''"
   ]
  },
  {
   "cell_type": "code",
   "execution_count": 226,
   "metadata": {},
   "outputs": [
    {
     "data": {
      "text/html": [
       "<div>\n",
       "<style scoped>\n",
       "    .dataframe tbody tr th:only-of-type {\n",
       "        vertical-align: middle;\n",
       "    }\n",
       "\n",
       "    .dataframe tbody tr th {\n",
       "        vertical-align: top;\n",
       "    }\n",
       "\n",
       "    .dataframe thead th {\n",
       "        text-align: right;\n",
       "    }\n",
       "</style>\n",
       "<table border=\"1\" class=\"dataframe\">\n",
       "  <thead>\n",
       "    <tr style=\"text-align: right;\">\n",
       "      <th></th>\n",
       "      <th>score_1</th>\n",
       "    </tr>\n",
       "    <tr>\n",
       "      <th>participant</th>\n",
       "      <th></th>\n",
       "    </tr>\n",
       "  </thead>\n",
       "  <tbody>\n",
       "    <tr>\n",
       "      <td>m01_p1</td>\n",
       "      <td>67</td>\n",
       "    </tr>\n",
       "    <tr>\n",
       "      <td>m01_p2</td>\n",
       "      <td>59</td>\n",
       "    </tr>\n",
       "    <tr>\n",
       "      <td>m03_p1</td>\n",
       "      <td>61</td>\n",
       "    </tr>\n",
       "    <tr>\n",
       "      <td>m03_p2</td>\n",
       "      <td>65</td>\n",
       "    </tr>\n",
       "    <tr>\n",
       "      <td>m05_p1</td>\n",
       "      <td>86</td>\n",
       "    </tr>\n",
       "    <tr>\n",
       "      <td>m05_p2</td>\n",
       "      <td>75</td>\n",
       "    </tr>\n",
       "    <tr>\n",
       "      <td>m08_p1</td>\n",
       "      <td>69</td>\n",
       "    </tr>\n",
       "    <tr>\n",
       "      <td>m08_p2</td>\n",
       "      <td>83</td>\n",
       "    </tr>\n",
       "    <tr>\n",
       "      <td>m10_p1</td>\n",
       "      <td>69</td>\n",
       "    </tr>\n",
       "    <tr>\n",
       "      <td>m10_p2</td>\n",
       "      <td>57</td>\n",
       "    </tr>\n",
       "    <tr>\n",
       "      <td>m11_p1</td>\n",
       "      <td>80</td>\n",
       "    </tr>\n",
       "    <tr>\n",
       "      <td>m11_p2</td>\n",
       "      <td>87</td>\n",
       "    </tr>\n",
       "    <tr>\n",
       "      <td>m13_p1</td>\n",
       "      <td>53</td>\n",
       "    </tr>\n",
       "    <tr>\n",
       "      <td>m13_p2</td>\n",
       "      <td>60</td>\n",
       "    </tr>\n",
       "    <tr>\n",
       "      <td>m14_p1</td>\n",
       "      <td>75</td>\n",
       "    </tr>\n",
       "    <tr>\n",
       "      <td>m14_p2</td>\n",
       "      <td>63</td>\n",
       "    </tr>\n",
       "  </tbody>\n",
       "</table>\n",
       "</div>"
      ],
      "text/plain": [
       "             score_1\n",
       "participant         \n",
       "m01_p1            67\n",
       "m01_p2            59\n",
       "m03_p1            61\n",
       "m03_p2            65\n",
       "m05_p1            86\n",
       "m05_p2            75\n",
       "m08_p1            69\n",
       "m08_p2            83\n",
       "m10_p1            69\n",
       "m10_p2            57\n",
       "m11_p1            80\n",
       "m11_p2            87\n",
       "m13_p1            53\n",
       "m13_p2            60\n",
       "m14_p1            75\n",
       "m14_p2            63"
      ]
     },
     "execution_count": 226,
     "metadata": {},
     "output_type": "execute_result"
    }
   ],
   "source": [
    "m_scores_1"
   ]
  },
  {
   "cell_type": "code",
   "execution_count": 227,
   "metadata": {},
   "outputs": [
    {
     "data": {
      "image/png": "[encoded data removed]",
      "text/plain": [
       "<Figure size 432x288 with 1 Axes>"
      ]
     },
     "metadata": {},
     "output_type": "display_data"
    }
   ],
   "source": [
    "m_scores_1_bar = m_scores_1.plot.bar()"
   ]
  },
  {
   "cell_type": "code",
   "execution_count": 228,
   "metadata": {},
   "outputs": [
    {
     "data": {
      "image/png": "[encoded data removed]",
      "text/plain": [
       "<Figure size 432x288 with 1 Axes>"
      ]
     },
     "metadata": {},
     "output_type": "display_data"
    }
   ],
   "source": [
    "m_g1_scores_box = sns.boxplot( \n",
    "                 data=m_scores_1, \n",
    "                 width=0.5,\n",
    "                 palette=\"pastel\")\n",
    "m_g1_scores_box.axes.set_title(\"SMAB4 Social Scores in Game 1\",\n",
    "                    fontsize=16)\n",
    "\n",
    "plot_file_name=\"m_g1_score_box.jpg\"\n",
    " \n",
    "plt.ylim(0, 100)\n",
    "m_g1_scores_box.axes.set(ylabel='Score')\n",
    "\n",
    "# save as jpeg\n",
    "m_g1_scores_box.figure.savefig(plot_file_name,\n",
    "                    format='jpeg')\n"
   ]
  },
  {
   "cell_type": "code",
   "execution_count": 229,
   "metadata": {},
   "outputs": [
    {
     "data": {
      "image/png": "[encoded data removed]",
      "text/plain": [
       "<Figure size 432x288 with 1 Axes>"
      ]
     },
     "metadata": {},
     "output_type": "display_data"
    }
   ],
   "source": [
    "m_g2d_scores_box = sns.boxplot( \n",
    "                 data=m_scores_2_d, \n",
    "                 width=0.5,\n",
    "                 palette=\"pastel\")\n",
    "m_g2d_scores_box.axes.set_title(\"SMAB4 Social Scores in Game 2-Different\",\n",
    "                    fontsize=16)\n",
    "\n",
    "plot_file_name=\"m_g2d_score_box.jpg\"\n",
    " \n",
    "plt.ylim(0, 100)\n",
    "m_g2d_scores_box.axes.set(ylabel='Score')\n",
    "\n",
    "# save as jpeg\n",
    "m_g2d_scores_box.figure.savefig(plot_file_name,\n",
    "                    format='jpeg')"
   ]
  },
  {
   "cell_type": "code",
   "execution_count": 230,
   "metadata": {},
   "outputs": [
    {
     "data": {
      "image/png": "[encoded data removed]",
      "text/plain": [
       "<Figure size 432x288 with 1 Axes>"
      ]
     },
     "metadata": {},
     "output_type": "display_data"
    }
   ],
   "source": [
    "m_g2s_scores_box = sns.boxplot( \n",
    "                 data=m_scores_2_s, \n",
    "                 width=0.5,\n",
    "                 palette=\"pastel\")\n",
    "m_g2s_scores_box.axes.set_title(\"SMAB4 Social Scores in Game 2-Same\",\n",
    "                    fontsize=16)\n",
    "\n",
    "plot_file_name=\"m_g2s_score_box.jpg\"\n",
    " \n",
    "plt.ylim(0, 100)\n",
    "m_g2s_scores_box.axes.set(ylabel='Score')\n",
    "\n",
    "# save as jpeg\n",
    "m_g2s_scores_box.figure.savefig(plot_file_name,\n",
    "                    format='jpeg')"
   ]
  },
  {
   "cell_type": "code",
   "execution_count": 231,
   "metadata": {},
   "outputs": [],
   "source": [
    "m_scores_2s_mean = m_scores_2_s.mean()"
   ]
  },
  {
   "cell_type": "code",
   "execution_count": 232,
   "metadata": {},
   "outputs": [],
   "source": [
    "m_scores_2s_std = m_scores_2_s.std()"
   ]
  },
  {
   "cell_type": "code",
   "execution_count": 233,
   "metadata": {},
   "outputs": [],
   "source": [
    "m_scores_2d_mean = m_scores_2_d.mean()"
   ]
  },
  {
   "cell_type": "code",
   "execution_count": 234,
   "metadata": {},
   "outputs": [],
   "source": [
    "m_scores_2d_std = m_scores_2_d.std()"
   ]
  },
  {
   "cell_type": "code",
   "execution_count": 235,
   "metadata": {},
   "outputs": [
    {
     "data": {
      "text/plain": [
       "(score_2    72.5\n",
       " dtype: float64, score_2    12.49222\n",
       " dtype: float64)"
      ]
     },
     "execution_count": 235,
     "metadata": {},
     "output_type": "execute_result"
    }
   ],
   "source": [
    "m_scores_2s_mean, m_scores_2s_std"
   ]
  },
  {
   "cell_type": "code",
   "execution_count": 236,
   "metadata": {},
   "outputs": [
    {
     "data": {
      "text/plain": [
       "(score_2    68.833333\n",
       " dtype: float64, score_2    12.319361\n",
       " dtype: float64)"
      ]
     },
     "execution_count": 236,
     "metadata": {},
     "output_type": "execute_result"
    }
   ],
   "source": [
    "m_scores_2d_mean, m_scores_2d_std"
   ]
  },
  {
   "cell_type": "code",
   "execution_count": 237,
   "metadata": {},
   "outputs": [
    {
     "data": {
      "text/plain": [
       "Ttest_indResult(statistic=array([0.57120153]), pvalue=array([0.57691828]))"
      ]
     },
     "execution_count": 237,
     "metadata": {},
     "output_type": "execute_result"
    }
   ],
   "source": [
    "sp.stats.ttest_ind(m_scores_2_s, m_scores_2_d)"
   ]
  },
  {
   "cell_type": "code",
   "execution_count": 238,
   "metadata": {},
   "outputs": [
    {
     "data": {
      "image/png": "[encoded data removed]",
      "text/plain": [
       "<Figure size 432x288 with 1 Axes>"
      ]
     },
     "metadata": {},
     "output_type": "display_data"
    }
   ],
   "source": [
    "'''Here we place the counts of how many times each hole was chosen into dataframes for games 1 and 2. We also \n",
    "get statistics on this data and plot it.'''\n",
    "\n",
    "# # Multi combined choices in G1\n",
    "\n",
    "# In[ ]:\n",
    "\n",
    "\n",
    "m_g1_counts = pd.DataFrame([m01_p1_g1_count, m01_p2_g1_count, m03_p1_g1_count, m03_p2_g1_count, m05_p1_g1_count, m05_p2_g1_count, m08_p1_g1_count, m08_p2_g1_count, \n",
    "              m10_p1_g1_count, m10_p2_g1_count, m11_p1_g1_count, m11_p2_g1_count, m13_p1_g1_count, m13_p2_g1_count, \n",
    "              m14_p1_g1_count, m14_p2_g1_count],\n",
    "                index = ['m01_p1_g1_count', 'm01_p2_g1_count', 'm03_p1_g1_count', 'm03_p2_g1_count', 'm05_p1_g1_count', 'm05_p2_g1_count', \n",
    "                'm08_p1_g1_count', 'm08_p2_g1_count', 'm10_p1_g1_count', 'm10_p2_g1_count', 'm11_p1_g1_count', \n",
    "                'm11_p2_g1_count', 'm13_p1_g1_count', 'm13_p2_g1_count', 'm14_p1_g1_count', 'm14_p2_g1_count']) \n",
    "\n",
    "# In[ ]:\n",
    "\n",
    "\n",
    "m_g1_counts = m_g1_counts.fillna(0) \n",
    "\n",
    "\n",
    "\n",
    "# In[ ]:\n",
    "\n",
    "\n",
    "m_g1_counts\n",
    "\n",
    "\n",
    "# In[ ]:\n",
    "\n",
    "\n",
    "m_g1_counts.sum(axis=1)\n",
    "\n",
    "\n",
    "# In[ ]:\n",
    "\n",
    "# save as jpeg\n",
    "\n",
    "\n",
    "m_g1_counts_bar = m_g1_counts.plot.bar()\n",
    "\n",
    "m_g1_counts_bar.axes.set(ylabel='SMAB4 Game 1 Choices')\n",
    "\n",
    "m_g1_counts_bar.axes.set_title(\"SMAB4 Social Choice Distributions in Game 1\",fontsize=16)\n",
    "\n",
    "m_g1_counts_bar.figure.savefig(\"m1_g1_counts_bar.jpg\",\n",
    "                    format='jpeg')"
   ]
  },
  {
   "cell_type": "code",
   "execution_count": 239,
   "metadata": {},
   "outputs": [
    {
     "data": {
      "text/plain": [
       "Series([], Name: probability, dtype: int64)"
      ]
     },
     "execution_count": 239,
     "metadata": {},
     "output_type": "execute_result"
    }
   ],
   "source": [
    "m01_p1_g1_count"
   ]
  },
  {
   "cell_type": "code",
   "execution_count": 240,
   "metadata": {},
   "outputs": [
    {
     "data": {
      "text/html": [
       "<div>\n",
       "<style scoped>\n",
       "    .dataframe tbody tr th:only-of-type {\n",
       "        vertical-align: middle;\n",
       "    }\n",
       "\n",
       "    .dataframe tbody tr th {\n",
       "        vertical-align: top;\n",
       "    }\n",
       "\n",
       "    .dataframe thead th {\n",
       "        text-align: right;\n",
       "    }\n",
       "</style>\n",
       "<table border=\"1\" class=\"dataframe\">\n",
       "  <thead>\n",
       "    <tr style=\"text-align: right;\">\n",
       "      <th></th>\n",
       "      <th>30.0</th>\n",
       "      <th>60.0</th>\n",
       "      <th>90.0</th>\n",
       "    </tr>\n",
       "  </thead>\n",
       "  <tbody>\n",
       "    <tr>\n",
       "      <td>m01_p1_g1_count</td>\n",
       "      <td>0.0</td>\n",
       "      <td>0.0</td>\n",
       "      <td>0.0</td>\n",
       "    </tr>\n",
       "    <tr>\n",
       "      <td>m01_p2_g1_count</td>\n",
       "      <td>0.0</td>\n",
       "      <td>0.0</td>\n",
       "      <td>0.0</td>\n",
       "    </tr>\n",
       "    <tr>\n",
       "      <td>m03_p1_g1_count</td>\n",
       "      <td>0.0</td>\n",
       "      <td>0.0</td>\n",
       "      <td>0.0</td>\n",
       "    </tr>\n",
       "    <tr>\n",
       "      <td>m03_p2_g1_count</td>\n",
       "      <td>0.0</td>\n",
       "      <td>0.0</td>\n",
       "      <td>0.0</td>\n",
       "    </tr>\n",
       "    <tr>\n",
       "      <td>m05_p1_g1_count</td>\n",
       "      <td>11.0</td>\n",
       "      <td>26.0</td>\n",
       "      <td>63.0</td>\n",
       "    </tr>\n",
       "    <tr>\n",
       "      <td>m05_p2_g1_count</td>\n",
       "      <td>13.0</td>\n",
       "      <td>31.0</td>\n",
       "      <td>56.0</td>\n",
       "    </tr>\n",
       "    <tr>\n",
       "      <td>m08_p1_g1_count</td>\n",
       "      <td>13.0</td>\n",
       "      <td>26.0</td>\n",
       "      <td>61.0</td>\n",
       "    </tr>\n",
       "    <tr>\n",
       "      <td>m08_p2_g1_count</td>\n",
       "      <td>9.0</td>\n",
       "      <td>32.0</td>\n",
       "      <td>59.0</td>\n",
       "    </tr>\n",
       "    <tr>\n",
       "      <td>m10_p1_g1_count</td>\n",
       "      <td>21.0</td>\n",
       "      <td>30.0</td>\n",
       "      <td>49.0</td>\n",
       "    </tr>\n",
       "    <tr>\n",
       "      <td>m10_p2_g1_count</td>\n",
       "      <td>29.0</td>\n",
       "      <td>44.0</td>\n",
       "      <td>27.0</td>\n",
       "    </tr>\n",
       "    <tr>\n",
       "      <td>m11_p1_g1_count</td>\n",
       "      <td>20.0</td>\n",
       "      <td>2.0</td>\n",
       "      <td>78.0</td>\n",
       "    </tr>\n",
       "    <tr>\n",
       "      <td>m11_p2_g1_count</td>\n",
       "      <td>1.0</td>\n",
       "      <td>7.0</td>\n",
       "      <td>92.0</td>\n",
       "    </tr>\n",
       "    <tr>\n",
       "      <td>m13_p1_g1_count</td>\n",
       "      <td>34.0</td>\n",
       "      <td>32.0</td>\n",
       "      <td>34.0</td>\n",
       "    </tr>\n",
       "    <tr>\n",
       "      <td>m13_p2_g1_count</td>\n",
       "      <td>32.0</td>\n",
       "      <td>33.0</td>\n",
       "      <td>35.0</td>\n",
       "    </tr>\n",
       "    <tr>\n",
       "      <td>m14_p1_g1_count</td>\n",
       "      <td>26.0</td>\n",
       "      <td>28.0</td>\n",
       "      <td>46.0</td>\n",
       "    </tr>\n",
       "    <tr>\n",
       "      <td>m14_p2_g1_count</td>\n",
       "      <td>35.0</td>\n",
       "      <td>37.0</td>\n",
       "      <td>28.0</td>\n",
       "    </tr>\n",
       "  </tbody>\n",
       "</table>\n",
       "</div>"
      ],
      "text/plain": [
       "                 30.0  60.0  90.0\n",
       "m01_p1_g1_count   0.0   0.0   0.0\n",
       "m01_p2_g1_count   0.0   0.0   0.0\n",
       "m03_p1_g1_count   0.0   0.0   0.0\n",
       "m03_p2_g1_count   0.0   0.0   0.0\n",
       "m05_p1_g1_count  11.0  26.0  63.0\n",
       "m05_p2_g1_count  13.0  31.0  56.0\n",
       "m08_p1_g1_count  13.0  26.0  61.0\n",
       "m08_p2_g1_count   9.0  32.0  59.0\n",
       "m10_p1_g1_count  21.0  30.0  49.0\n",
       "m10_p2_g1_count  29.0  44.0  27.0\n",
       "m11_p1_g1_count  20.0   2.0  78.0\n",
       "m11_p2_g1_count   1.0   7.0  92.0\n",
       "m13_p1_g1_count  34.0  32.0  34.0\n",
       "m13_p2_g1_count  32.0  33.0  35.0\n",
       "m14_p1_g1_count  26.0  28.0  46.0\n",
       "m14_p2_g1_count  35.0  37.0  28.0"
      ]
     },
     "execution_count": 240,
     "metadata": {},
     "output_type": "execute_result"
    }
   ],
   "source": [
    "m_g1_counts"
   ]
  },
  {
   "cell_type": "code",
   "execution_count": 241,
   "metadata": {},
   "outputs": [
    {
     "data": {
      "text/plain": [
       "16"
      ]
     },
     "execution_count": 241,
     "metadata": {},
     "output_type": "execute_result"
    }
   ],
   "source": [
    "len(m_g1_counts)"
   ]
  },
  {
   "cell_type": "code",
   "execution_count": 242,
   "metadata": {},
   "outputs": [
    {
     "data": {
      "image/png": "[encoded data removed]",
      "text/plain": [
       "<Figure size 432x288 with 1 Axes>"
      ]
     },
     "metadata": {},
     "output_type": "display_data"
    }
   ],
   "source": [
    "# In[ ]:\n",
    "\n",
    "\n",
    "m_g1_counts_box = sns.boxplot( \n",
    "                 data = m_g1_counts, \n",
    "                 width=0.5,\n",
    "                 palette=\"pastel\")\n",
    "m_g1_counts_box.axes.set_title(\"SMAB4 Social Choice Distributions in Game 1\",\n",
    "                    fontsize=16)\n",
    "\n",
    "plot_file_name=\"m_g1_counts_box.jpg\"\n",
    " \n",
    "plt.ylim(0, 100)\n",
    "m_g1_counts_box.axes.set(xlabel='Arm',ylabel='Frequency')\n",
    "\n",
    "# save as jpeg\n",
    "m_g1_counts_box.figure.savefig(plot_file_name,\n",
    "                    format='jpeg')"
   ]
  },
  {
   "cell_type": "code",
   "execution_count": 243,
   "metadata": {},
   "outputs": [
    {
     "data": {
      "text/plain": [
       "28.081355024286133"
      ]
     },
     "execution_count": 243,
     "metadata": {},
     "output_type": "execute_result"
    }
   ],
   "source": [
    "# In[ ]:\n",
    "\n",
    "\n",
    "m_g1_low = np.mean(m_g1_counts.iloc[:,0])\n",
    "m_g1_med = np.mean(m_g1_counts.iloc[:,1])\n",
    "m_g1_high = np.mean(m_g1_counts.iloc[:,2])\n",
    "\n",
    "\n",
    "# In[ ]:\n",
    "\n",
    "\n",
    "m_g1_low\n",
    "\n",
    "\n",
    "# In[ ]:\n",
    "\n",
    "\n",
    "m_g1_med\n",
    "\n",
    "\n",
    "# In[ ]:\n",
    "\n",
    "\n",
    "m_g1_high\n",
    "\n",
    "\n",
    "# In[ ]:\n",
    "\n",
    "\n",
    "m_g1_low_std = np.std(m_g1_counts.iloc[:,0])\n",
    "m_g1_med_std = np.std(m_g1_counts.iloc[:,1])\n",
    "m_g1_high_std = np.std(m_g1_counts.iloc[:,2])\n",
    "\n",
    "\n",
    "# In[ ]:\n",
    "\n",
    "\n",
    "m_g1_low_std\n",
    "\n",
    "\n",
    "# In[ ]:\n",
    "\n",
    "\n",
    "m_g1_med_std\n",
    "\n",
    "\n",
    "# In[ ]:\n",
    "\n",
    "\n",
    "m_g1_high_std"
   ]
  },
  {
   "cell_type": "code",
   "execution_count": 244,
   "metadata": {},
   "outputs": [
    {
     "data": {
      "text/plain": [
       "m01_p1_g2_count      0.0\n",
       "m01_p2_g2_count      0.0\n",
       "m03_p1_g2_count      0.0\n",
       "m03_p2_g2_count      0.0\n",
       "m05_p1_g2_count    100.0\n",
       "m05_p2_g2_count    100.0\n",
       "dtype: float64"
      ]
     },
     "execution_count": 244,
     "metadata": {},
     "output_type": "execute_result"
    }
   ],
   "source": [
    "# # Multi combined choices in G2\n",
    "\n",
    "\n",
    "m_g2d_counts = pd.DataFrame([m01_p1_g2_count, m01_p2_g2_count, m03_p1_g2_count, m03_p2_g2_count, m05_p1_g2_count, m05_p2_g2_count],\n",
    "                index = ['m01_p1_g2_count','m01_p2_g2_count','m03_p1_g2_count', 'm03_p2_g2_count','m05_p1_g2_count', 'm05_p2_g2_count'])\n",
    "\n",
    "\n",
    "\n",
    "m_g2d_counts = m_g2d_counts.fillna(0) \n",
    "\n",
    "\n",
    "m_g2d_counts.sum(axis=1)"
   ]
  },
  {
   "cell_type": "code",
   "execution_count": 245,
   "metadata": {},
   "outputs": [
    {
     "data": {
      "text/plain": [
       "m08_p1_g2_count    100.0\n",
       "m08_p2_g2_count    100.0\n",
       "m10_p1_g2_count    100.0\n",
       "m10_p2_g2_count    100.0\n",
       "m11_p1_g2_count    100.0\n",
       "m11_p2_g2_count    100.0\n",
       "m13_p1_g2_count    100.0\n",
       "m13_p2_g2_count    100.0\n",
       "m14_p1_g2_count    100.0\n",
       "m14_p2_g2_count    100.0\n",
       "dtype: float64"
      ]
     },
     "execution_count": 245,
     "metadata": {},
     "output_type": "execute_result"
    }
   ],
   "source": [
    "# # Multi combined choices in G2\n",
    "\n",
    "\n",
    "m_g2s_counts = pd.DataFrame([m08_p1_g2_count, m08_p2_g2_count, \n",
    "              m10_p1_g2_count, m10_p2_g2_count, m11_p1_g2_count, m11_p2_g2_count, m13_p1_g2_count, m13_p2_g2_count, \n",
    "              m14_p1_g2_count, m14_p2_g2_count],\n",
    "                index = ['m08_p1_g2_count', 'm08_p2_g2_count', 'm10_p1_g2_count', 'm10_p2_g2_count', 'm11_p1_g2_count', \n",
    "                'm11_p2_g2_count', 'm13_p1_g2_count', 'm13_p2_g2_count', 'm14_p1_g2_count', 'm14_p2_g2_count'])\n",
    "\n",
    "\n",
    "m_g2s_counts = m_g2s_counts.fillna(0) \n",
    "\n",
    "\n",
    "\n",
    "m_g2s_counts.sum(axis=1)"
   ]
  },
  {
   "cell_type": "code",
   "execution_count": 246,
   "metadata": {},
   "outputs": [
    {
     "data": {
      "text/html": [
       "<div>\n",
       "<style scoped>\n",
       "    .dataframe tbody tr th:only-of-type {\n",
       "        vertical-align: middle;\n",
       "    }\n",
       "\n",
       "    .dataframe tbody tr th {\n",
       "        vertical-align: top;\n",
       "    }\n",
       "\n",
       "    .dataframe thead th {\n",
       "        text-align: right;\n",
       "    }\n",
       "</style>\n",
       "<table border=\"1\" class=\"dataframe\">\n",
       "  <thead>\n",
       "    <tr style=\"text-align: right;\">\n",
       "      <th></th>\n",
       "      <th>score_1</th>\n",
       "    </tr>\n",
       "    <tr>\n",
       "      <th>participant</th>\n",
       "      <th></th>\n",
       "    </tr>\n",
       "  </thead>\n",
       "  <tbody>\n",
       "    <tr>\n",
       "      <td>m01_p1</td>\n",
       "      <td>67</td>\n",
       "    </tr>\n",
       "    <tr>\n",
       "      <td>m01_p2</td>\n",
       "      <td>59</td>\n",
       "    </tr>\n",
       "    <tr>\n",
       "      <td>m03_p1</td>\n",
       "      <td>61</td>\n",
       "    </tr>\n",
       "    <tr>\n",
       "      <td>m03_p2</td>\n",
       "      <td>65</td>\n",
       "    </tr>\n",
       "    <tr>\n",
       "      <td>m05_p1</td>\n",
       "      <td>86</td>\n",
       "    </tr>\n",
       "    <tr>\n",
       "      <td>m05_p2</td>\n",
       "      <td>75</td>\n",
       "    </tr>\n",
       "    <tr>\n",
       "      <td>m08_p1</td>\n",
       "      <td>69</td>\n",
       "    </tr>\n",
       "    <tr>\n",
       "      <td>m08_p2</td>\n",
       "      <td>83</td>\n",
       "    </tr>\n",
       "    <tr>\n",
       "      <td>m10_p1</td>\n",
       "      <td>69</td>\n",
       "    </tr>\n",
       "    <tr>\n",
       "      <td>m10_p2</td>\n",
       "      <td>57</td>\n",
       "    </tr>\n",
       "    <tr>\n",
       "      <td>m11_p1</td>\n",
       "      <td>80</td>\n",
       "    </tr>\n",
       "    <tr>\n",
       "      <td>m11_p2</td>\n",
       "      <td>87</td>\n",
       "    </tr>\n",
       "    <tr>\n",
       "      <td>m13_p1</td>\n",
       "      <td>53</td>\n",
       "    </tr>\n",
       "    <tr>\n",
       "      <td>m13_p2</td>\n",
       "      <td>60</td>\n",
       "    </tr>\n",
       "    <tr>\n",
       "      <td>m14_p1</td>\n",
       "      <td>75</td>\n",
       "    </tr>\n",
       "    <tr>\n",
       "      <td>m14_p2</td>\n",
       "      <td>63</td>\n",
       "    </tr>\n",
       "  </tbody>\n",
       "</table>\n",
       "</div>"
      ],
      "text/plain": [
       "             score_1\n",
       "participant         \n",
       "m01_p1            67\n",
       "m01_p2            59\n",
       "m03_p1            61\n",
       "m03_p2            65\n",
       "m05_p1            86\n",
       "m05_p2            75\n",
       "m08_p1            69\n",
       "m08_p2            83\n",
       "m10_p1            69\n",
       "m10_p2            57\n",
       "m11_p1            80\n",
       "m11_p2            87\n",
       "m13_p1            53\n",
       "m13_p2            60\n",
       "m14_p1            75\n",
       "m14_p2            63"
      ]
     },
     "execution_count": 246,
     "metadata": {},
     "output_type": "execute_result"
    }
   ],
   "source": [
    "m_scores_1"
   ]
  },
  {
   "cell_type": "code",
   "execution_count": 247,
   "metadata": {},
   "outputs": [],
   "source": [
    "m_scores_mean_1 = np.mean(m_scores_1)\n",
    "m_scores_std_1 = np.std(m_scores_1)"
   ]
  },
  {
   "cell_type": "code",
   "execution_count": 248,
   "metadata": {},
   "outputs": [
    {
     "data": {
      "text/plain": [
       "score_1    69.3125\n",
       "dtype: float64"
      ]
     },
     "execution_count": 248,
     "metadata": {},
     "output_type": "execute_result"
    }
   ],
   "source": [
    "m_scores_mean_1"
   ]
  },
  {
   "cell_type": "code",
   "execution_count": 249,
   "metadata": {},
   "outputs": [
    {
     "data": {
      "text/plain": [
       "score_1    10.312121\n",
       "dtype: float64"
      ]
     },
     "execution_count": 249,
     "metadata": {},
     "output_type": "execute_result"
    }
   ],
   "source": [
    "m_scores_std_1"
   ]
  },
  {
   "cell_type": "code",
   "execution_count": 250,
   "metadata": {},
   "outputs": [
    {
     "data": {
      "text/plain": [
       "(15.25, 20.5, 39.25)"
      ]
     },
     "execution_count": 250,
     "metadata": {},
     "output_type": "execute_result"
    }
   ],
   "source": [
    "m_g1_low, m_g1_med, m_g1_high"
   ]
  },
  {
   "cell_type": "code",
   "execution_count": 251,
   "metadata": {},
   "outputs": [
    {
     "data": {
      "text/plain": [
       "(12.705805759573062, 15.346009253222807, 28.081355024286133)"
      ]
     },
     "execution_count": 251,
     "metadata": {},
     "output_type": "execute_result"
    }
   ],
   "source": [
    "m_g1_low_std, m_g1_med_std, m_g1_high_std"
   ]
  },
  {
   "cell_type": "code",
   "execution_count": 252,
   "metadata": {},
   "outputs": [
    {
     "data": {
      "image/png": "[encoded data removed]",
      "text/plain": [
       "<Figure size 432x288 with 1 Axes>"
      ]
     },
     "metadata": {},
     "output_type": "display_data"
    }
   ],
   "source": [
    "m_g2s_counts_box = sns.boxplot( \n",
    "                 data = m_g2s_counts, \n",
    "                 width=0.5,\n",
    "                 palette=\"pastel\")\n",
    "m_g2s_counts_box.axes.set_title(\"SMAB4 Social Choice Distributions in Game 2-Same\",\n",
    "                    fontsize=16)\n",
    "\n",
    "plot_file_name=\"m_g2s_counts_box.jpg\"\n",
    " \n",
    "plt.ylim(0, 100)\n",
    "m_g2s_counts_box.axes.set(xlabel='Arm',ylabel='Frequency')\n",
    "\n",
    "# save as jpeg\n",
    "m_g2s_counts_box.figure.savefig(plot_file_name,\n",
    "                    format='jpeg')"
   ]
  },
  {
   "cell_type": "code",
   "execution_count": 253,
   "metadata": {},
   "outputs": [
    {
     "data": {
      "image/png": "[encoded data removed]",
      "text/plain": [
       "<Figure size 432x288 with 1 Axes>"
      ]
     },
     "metadata": {},
     "output_type": "display_data"
    }
   ],
   "source": [
    "m_g2d_counts_box = sns.boxplot( \n",
    "                 data = m_g2d_counts, \n",
    "                 width=0.5,\n",
    "                 palette=\"pastel\")\n",
    "m_g2d_counts_box.axes.set_title(\"SMAB4 Social Choice Distributions in Game 2-Different\",\n",
    "                    fontsize=16)\n",
    "\n",
    "plot_file_name=\"m_g2d_counts_box.jpg\"\n",
    " \n",
    "plt.ylim(0, 100)\n",
    "m_g2d_counts_box.axes.set(xlabel='Arm',ylabel='Frequency')\n",
    "\n",
    "# save as jpeg\n",
    "m_g2d_counts_box.figure.savefig(plot_file_name,\n",
    "                    format='jpeg')"
   ]
  },
  {
   "cell_type": "code",
   "execution_count": 254,
   "metadata": {},
   "outputs": [],
   "source": [
    "# In[ ]:\n",
    "\n",
    "\n",
    "m_g2s_low = np.mean(m_g2s_counts.iloc[:,0])\n",
    "m_g2s_med = np.mean(m_g2s_counts.iloc[:,1])\n",
    "m_g2s_high = np.mean(m_g2s_counts.iloc[:,2])\n",
    "\n",
    "m_g2s_low_std = np.std(m_g2s_counts.iloc[:,0])\n",
    "m_g2s_med_std = np.std(m_g2s_counts.iloc[:,1])\n",
    "m_g2s_high_std = np.std(m_g2s_counts.iloc[:,2])\n",
    "\n",
    "\n",
    "\n",
    "import researchpy as rp\n",
    "\n",
    "\n",
    "# In[ ]:\n",
    "\n",
    "\n",
    "m_90_1 = np.array(m_g1_counts.iloc[:,2])\n",
    "m_90_2s = np.array(m_g2s_counts.iloc[:,2])\n",
    "m_90_2d = np.array(m_g2s_counts.iloc[:,2])\n",
    "\n",
    "m_60_1 = np.array(m_g1_counts.iloc[:,1])\n",
    "m_60_2s = np.array(m_g2s_counts.iloc[:,1])\n",
    "m_60_2d = np.array(m_g2d_counts.iloc[:,1])\n",
    "\n",
    "\n",
    "m_30_1 = np.array(m_g1_counts.iloc[:,0])\n",
    "m_30_2s = np.array(m_g2s_counts.iloc[:,0])\n",
    "m_30_2d = np.array(m_g2d_counts.iloc[:,0])"
   ]
  },
  {
   "cell_type": "markdown",
   "metadata": {},
   "source": [
    "# Reaction Time"
   ]
  },
  {
   "cell_type": "code",
   "execution_count": 255,
   "metadata": {},
   "outputs": [],
   "source": [
    "'Here we get the reaction times'\n",
    "time_m_1 = pd.DataFrame(columns = ['session','post win','post loss'])\n",
    "time_m_2 = pd.DataFrame(columns = ['session','post win','post loss'])\n",
    "\n",
    "time_m_1 = reaction_time(m05_p1_g1, time_m_1)\n",
    "time_m_1 = reaction_time(m06_p1_g1, time_m_1)\n",
    "time_m_1 = reaction_time(m08_p1_g1, time_m_1)\n",
    "time_m_1 = reaction_time(m10_p1_g1, time_m_1)\n",
    "time_m_1 = reaction_time(m11_p1_g1, time_m_1)\n",
    "time_m_1 = reaction_time(m13_p1_g1, time_m_1)\n",
    "time_m_1 = reaction_time(m14_p1_g1, time_m_1)\n",
    "time_m_1 = reaction_time(m05_p2_g1, time_m_1)\n",
    "time_m_1 = reaction_time(m06_p2_g1, time_m_1)\n",
    "time_m_1 = reaction_time(m08_p2_g1, time_m_1)\n",
    "time_m_1 = reaction_time(m10_p2_g1, time_m_1)\n",
    "time_m_1 = reaction_time(m11_p2_g1, time_m_1)\n",
    "time_m_1 = reaction_time(m13_p2_g1, time_m_1)\n",
    "time_m_1 = reaction_time(m14_p2_g1, time_m_1)\n",
    "\n",
    "time_m_2 = reaction_time(m05_p1_g2, time_m_2)\n",
    "time_m_2 = reaction_time(m06_p1_g2, time_m_2)\n",
    "time_m_2 = reaction_time(m08_p1_g2, time_m_2)\n",
    "time_m_2 = reaction_time(m10_p1_g2, time_m_2)\n",
    "time_m_2 = reaction_time(m11_p1_g2, time_m_2)\n",
    "time_m_2 = reaction_time(m13_p1_g2, time_m_2)\n",
    "time_m_2 = reaction_time(m14_p1_g2, time_m_2)\n",
    "time_m_2 = reaction_time(m05_p2_g2, time_m_2)\n",
    "time_m_2 = reaction_time(m06_p2_g2, time_m_2)\n",
    "time_m_2 = reaction_time(m08_p2_g2, time_m_2)\n",
    "time_m_2 = reaction_time(m10_p2_g2, time_m_2)\n",
    "time_m_2 = reaction_time(m11_p2_g2, time_m_2)\n",
    "time_m_2 = reaction_time(m13_p2_g2, time_m_2)\n",
    "time_m_2 = reaction_time(m14_p2_g2, time_m_2)"
   ]
  },
  {
   "cell_type": "code",
   "execution_count": 256,
   "metadata": {},
   "outputs": [
    {
     "data": {
      "image/png": "[encoded data removed]",
      "text/plain": [
       "<Figure size 432x288 with 1 Axes>"
      ]
     },
     "metadata": {},
     "output_type": "display_data"
    }
   ],
   "source": [
    "times_m_g1_box = sns.boxplot( \n",
    "                 data=time_m_1, \n",
    "                 width=0.5,\n",
    "                 palette=\"pastel\")\n",
    "times_m_g1_box.axes.set_title(\"SMAB4 Joint Reaction Times in Game 1\",\n",
    "                    fontsize=16)\n",
    "\n",
    "plot_file_name=\"times_m_g1_box.jpg\"\n",
    " \n",
    "plt.ylim(0, 5)\n",
    "times_m_g1_box.axes.set(ylabel='Time in sec.')\n",
    "\n",
    "# save as jpeg\n",
    "times_m_g1_box.figure.savefig(plot_file_name,format='jpeg')"
   ]
  },
  {
   "cell_type": "code",
   "execution_count": 257,
   "metadata": {},
   "outputs": [
    {
     "data": {
      "image/png": "[encoded data removed]",
      "text/plain": [
       "<Figure size 432x288 with 1 Axes>"
      ]
     },
     "metadata": {},
     "output_type": "display_data"
    }
   ],
   "source": [
    "times_m_g2_box = sns.boxplot( \n",
    "                 data=time_m_2, \n",
    "                 width=0.5,\n",
    "                 palette=\"pastel\")\n",
    "times_m_g2_box.axes.set_title(\"SMAB4 Joint Reaction Times in Game 2\",\n",
    "                    fontsize=16)\n",
    "\n",
    "plot_file_name=\"times_m_g2_box.jpg\"\n",
    " \n",
    "plt.ylim(0, 5)\n",
    "times_m_g2_box.axes.set(ylabel='Time in sec.')\n",
    "\n",
    "# save as jpeg\n",
    "times_m_g2_box.figure.savefig(plot_file_name,format='jpeg')"
   ]
  },
  {
   "cell_type": "code",
   "execution_count": 258,
   "metadata": {},
   "outputs": [
    {
     "data": {
      "text/plain": [
       "post win     3.626935\n",
       "post loss    3.656920\n",
       "dtype: float64"
      ]
     },
     "execution_count": 258,
     "metadata": {},
     "output_type": "execute_result"
    }
   ],
   "source": [
    "np.mean(time_m_1)"
   ]
  },
  {
   "cell_type": "code",
   "execution_count": 259,
   "metadata": {},
   "outputs": [
    {
     "data": {
      "text/plain": [
       "post win     3.426058\n",
       "post loss    3.214477\n",
       "dtype: float64"
      ]
     },
     "execution_count": 259,
     "metadata": {},
     "output_type": "execute_result"
    }
   ],
   "source": [
    "np.mean(time_m_2)"
   ]
  },
  {
   "cell_type": "code",
   "execution_count": 260,
   "metadata": {},
   "outputs": [
    {
     "data": {
      "text/plain": [
       "post win     0.388043\n",
       "post loss    0.357404\n",
       "dtype: float64"
      ]
     },
     "execution_count": 260,
     "metadata": {},
     "output_type": "execute_result"
    }
   ],
   "source": [
    "np.std(time_m_1)"
   ]
  },
  {
   "cell_type": "code",
   "execution_count": 261,
   "metadata": {},
   "outputs": [
    {
     "data": {
      "text/plain": [
       "post win     0.823263\n",
       "post loss    0.280154\n",
       "dtype: float64"
      ]
     },
     "execution_count": 261,
     "metadata": {},
     "output_type": "execute_result"
    }
   ],
   "source": [
    "np.std(time_m_2)"
   ]
  },
  {
   "cell_type": "code",
   "execution_count": 262,
   "metadata": {},
   "outputs": [
    {
     "data": {
      "text/plain": [
       "Ttest_relResult(statistic=-0.7438584283556953, pvalue=0.4701941413958608)"
      ]
     },
     "execution_count": 262,
     "metadata": {},
     "output_type": "execute_result"
    }
   ],
   "source": [
    "sp.stats.ttest_rel(time_m_1['post win'], time_m_1['post loss'])"
   ]
  },
  {
   "cell_type": "code",
   "execution_count": 263,
   "metadata": {},
   "outputs": [
    {
     "data": {
      "text/plain": [
       "Ttest_relResult(statistic=0.9748098200412652, pvalue=0.3474456609541037)"
      ]
     },
     "execution_count": 263,
     "metadata": {},
     "output_type": "execute_result"
    }
   ],
   "source": [
    "sp.stats.ttest_rel(time_m_2['post win'], time_m_2['post loss'])"
   ]
  },
  {
   "cell_type": "code",
   "execution_count": 264,
   "metadata": {},
   "outputs": [
    {
     "data": {
      "text/plain": [
       "Ttest_relResult(statistic=0.8653075259742253, pvalue=0.4025564225265744)"
      ]
     },
     "execution_count": 264,
     "metadata": {},
     "output_type": "execute_result"
    }
   ],
   "source": [
    "sp.stats.ttest_rel(time_m_1['post win'], time_m_2['post win'])"
   ]
  },
  {
   "cell_type": "code",
   "execution_count": 265,
   "metadata": {},
   "outputs": [
    {
     "data": {
      "text/plain": [
       "Ttest_relResult(statistic=5.168850202010096, pvalue=0.00018063098116127718)"
      ]
     },
     "execution_count": 265,
     "metadata": {},
     "output_type": "execute_result"
    }
   ],
   "source": [
    "sp.stats.ttest_rel(time_m_1['post loss'], time_m_2['post loss'])"
   ]
  },
  {
   "cell_type": "markdown",
   "metadata": {},
   "source": [
    "# Test for differences between SMAB3 and SMAB4 in multi-player data"
   ]
  },
  {
   "cell_type": "code",
   "execution_count": 266,
   "metadata": {},
   "outputs": [
    {
     "data": {
      "text/plain": [
       "Ttest_indResult(statistic=array([0.72652466]), pvalue=array([0.47248973]))"
      ]
     },
     "execution_count": 266,
     "metadata": {},
     "output_type": "execute_result"
    }
   ],
   "source": [
    "#simple t-test for score \n",
    "sp.stats.ttest_ind(m_scores_1, j_scores_1)"
   ]
  },
  {
   "cell_type": "code",
   "execution_count": 267,
   "metadata": {},
   "outputs": [],
   "source": [
    "#combine control_score_2 and control_score_1\n",
    "#social_scores = social_scores_1.merge(social_scores_2,right_index=True,left_index=True)\n",
    "\n",
    "\n",
    "#convert from wide-format to long-format\n",
    "#social_scores = pd.melt(social_scores,ignore_index=False)"
   ]
  },
  {
   "cell_type": "markdown",
   "metadata": {},
   "source": [
    "# Testing for differences b/w SMAB3 and 4"
   ]
  },
  {
   "cell_type": "code",
   "execution_count": 268,
   "metadata": {},
   "outputs": [],
   "source": [
    "#combine m_counts and j_counts\n",
    "soc_g1_counts_unmelt = m_g1_counts.append(j_g1_counts)"
   ]
  },
  {
   "cell_type": "code",
   "execution_count": 269,
   "metadata": {},
   "outputs": [],
   "source": [
    "#combine m_counts and j_counts\n",
    "soc_g2_s_counts_unmelt = m_g2s_counts.append(j_g2_s_counts)\n",
    "\n",
    "soc_g2_d_counts_unmelt = m_g2d_counts.append(j_g2_d_counts)"
   ]
  },
  {
   "cell_type": "code",
   "execution_count": 270,
   "metadata": {},
   "outputs": [],
   "source": [
    "confed_g2_d_counts_unmelt = c_g2_d_counts.append(s_g2_d_counts)\n",
    "\n",
    "confed_g2_s_counts_unmelt = c_g2_s_counts.append(s_g2_s_counts)"
   ]
  },
  {
   "cell_type": "code",
   "execution_count": 271,
   "metadata": {},
   "outputs": [],
   "source": [
    "soc_g2_s_scores_unmelt = m_scores_2_s.append(j_scores_2_s)\n",
    "\n",
    "soc_g2_d_scores_unmelt = m_scores_2_d.append(j_scores_2_d)"
   ]
  },
  {
   "cell_type": "code",
   "execution_count": 272,
   "metadata": {},
   "outputs": [],
   "source": [
    "confed_g2_s_scores_unmelt = c_scores_2_s.append(s_scores_2_s)\n",
    "\n",
    "confed_g2_d_scores_unmelt = c_scores_2_d.append(s_scores_2_d)"
   ]
  },
  {
   "cell_type": "code",
   "execution_count": 273,
   "metadata": {},
   "outputs": [
    {
     "data": {
      "text/html": [
       "<div>\n",
       "<style scoped>\n",
       "    .dataframe tbody tr th:only-of-type {\n",
       "        vertical-align: middle;\n",
       "    }\n",
       "\n",
       "    .dataframe tbody tr th {\n",
       "        vertical-align: top;\n",
       "    }\n",
       "\n",
       "    .dataframe thead th {\n",
       "        text-align: right;\n",
       "    }\n",
       "</style>\n",
       "<table border=\"1\" class=\"dataframe\">\n",
       "  <thead>\n",
       "    <tr style=\"text-align: right;\">\n",
       "      <th></th>\n",
       "      <th>30.0</th>\n",
       "      <th>60.0</th>\n",
       "      <th>90.0</th>\n",
       "    </tr>\n",
       "  </thead>\n",
       "  <tbody>\n",
       "    <tr>\n",
       "      <td>m01_p1_g1_count</td>\n",
       "      <td>0.0</td>\n",
       "      <td>0.0</td>\n",
       "      <td>0.0</td>\n",
       "    </tr>\n",
       "    <tr>\n",
       "      <td>m01_p2_g1_count</td>\n",
       "      <td>0.0</td>\n",
       "      <td>0.0</td>\n",
       "      <td>0.0</td>\n",
       "    </tr>\n",
       "    <tr>\n",
       "      <td>m03_p1_g1_count</td>\n",
       "      <td>0.0</td>\n",
       "      <td>0.0</td>\n",
       "      <td>0.0</td>\n",
       "    </tr>\n",
       "    <tr>\n",
       "      <td>m03_p2_g1_count</td>\n",
       "      <td>0.0</td>\n",
       "      <td>0.0</td>\n",
       "      <td>0.0</td>\n",
       "    </tr>\n",
       "    <tr>\n",
       "      <td>m05_p1_g1_count</td>\n",
       "      <td>11.0</td>\n",
       "      <td>26.0</td>\n",
       "      <td>63.0</td>\n",
       "    </tr>\n",
       "    <tr>\n",
       "      <td>m05_p2_g1_count</td>\n",
       "      <td>13.0</td>\n",
       "      <td>31.0</td>\n",
       "      <td>56.0</td>\n",
       "    </tr>\n",
       "    <tr>\n",
       "      <td>m08_p1_g1_count</td>\n",
       "      <td>13.0</td>\n",
       "      <td>26.0</td>\n",
       "      <td>61.0</td>\n",
       "    </tr>\n",
       "    <tr>\n",
       "      <td>m08_p2_g1_count</td>\n",
       "      <td>9.0</td>\n",
       "      <td>32.0</td>\n",
       "      <td>59.0</td>\n",
       "    </tr>\n",
       "    <tr>\n",
       "      <td>m10_p1_g1_count</td>\n",
       "      <td>21.0</td>\n",
       "      <td>30.0</td>\n",
       "      <td>49.0</td>\n",
       "    </tr>\n",
       "    <tr>\n",
       "      <td>m10_p2_g1_count</td>\n",
       "      <td>29.0</td>\n",
       "      <td>44.0</td>\n",
       "      <td>27.0</td>\n",
       "    </tr>\n",
       "    <tr>\n",
       "      <td>m11_p1_g1_count</td>\n",
       "      <td>20.0</td>\n",
       "      <td>2.0</td>\n",
       "      <td>78.0</td>\n",
       "    </tr>\n",
       "    <tr>\n",
       "      <td>m11_p2_g1_count</td>\n",
       "      <td>1.0</td>\n",
       "      <td>7.0</td>\n",
       "      <td>92.0</td>\n",
       "    </tr>\n",
       "    <tr>\n",
       "      <td>m13_p1_g1_count</td>\n",
       "      <td>34.0</td>\n",
       "      <td>32.0</td>\n",
       "      <td>34.0</td>\n",
       "    </tr>\n",
       "    <tr>\n",
       "      <td>m13_p2_g1_count</td>\n",
       "      <td>32.0</td>\n",
       "      <td>33.0</td>\n",
       "      <td>35.0</td>\n",
       "    </tr>\n",
       "    <tr>\n",
       "      <td>m14_p1_g1_count</td>\n",
       "      <td>26.0</td>\n",
       "      <td>28.0</td>\n",
       "      <td>46.0</td>\n",
       "    </tr>\n",
       "    <tr>\n",
       "      <td>m14_p2_g1_count</td>\n",
       "      <td>35.0</td>\n",
       "      <td>37.0</td>\n",
       "      <td>28.0</td>\n",
       "    </tr>\n",
       "    <tr>\n",
       "      <td>j01_p1_g1_count</td>\n",
       "      <td>38.0</td>\n",
       "      <td>36.0</td>\n",
       "      <td>26.0</td>\n",
       "    </tr>\n",
       "    <tr>\n",
       "      <td>j01_p2_g1_count</td>\n",
       "      <td>33.0</td>\n",
       "      <td>37.0</td>\n",
       "      <td>30.0</td>\n",
       "    </tr>\n",
       "    <tr>\n",
       "      <td>j02_p1_g1_count</td>\n",
       "      <td>36.0</td>\n",
       "      <td>32.0</td>\n",
       "      <td>32.0</td>\n",
       "    </tr>\n",
       "    <tr>\n",
       "      <td>j02_p2_g1_count</td>\n",
       "      <td>25.0</td>\n",
       "      <td>39.0</td>\n",
       "      <td>36.0</td>\n",
       "    </tr>\n",
       "    <tr>\n",
       "      <td>j03_p1_g1_count</td>\n",
       "      <td>22.0</td>\n",
       "      <td>29.0</td>\n",
       "      <td>49.0</td>\n",
       "    </tr>\n",
       "    <tr>\n",
       "      <td>j03_p2_g1_count</td>\n",
       "      <td>29.0</td>\n",
       "      <td>23.0</td>\n",
       "      <td>48.0</td>\n",
       "    </tr>\n",
       "    <tr>\n",
       "      <td>j04_p1_g1_count</td>\n",
       "      <td>26.0</td>\n",
       "      <td>39.0</td>\n",
       "      <td>35.0</td>\n",
       "    </tr>\n",
       "    <tr>\n",
       "      <td>j04_p2_g1_count</td>\n",
       "      <td>34.0</td>\n",
       "      <td>22.0</td>\n",
       "      <td>44.0</td>\n",
       "    </tr>\n",
       "    <tr>\n",
       "      <td>j05_p1_g1_count</td>\n",
       "      <td>5.0</td>\n",
       "      <td>16.0</td>\n",
       "      <td>79.0</td>\n",
       "    </tr>\n",
       "    <tr>\n",
       "      <td>j05_p2_g1_count</td>\n",
       "      <td>14.0</td>\n",
       "      <td>28.0</td>\n",
       "      <td>58.0</td>\n",
       "    </tr>\n",
       "    <tr>\n",
       "      <td>j06_p1_g1_count</td>\n",
       "      <td>36.0</td>\n",
       "      <td>34.0</td>\n",
       "      <td>30.0</td>\n",
       "    </tr>\n",
       "    <tr>\n",
       "      <td>j06_p2_g1_count</td>\n",
       "      <td>45.0</td>\n",
       "      <td>16.0</td>\n",
       "      <td>39.0</td>\n",
       "    </tr>\n",
       "    <tr>\n",
       "      <td>j07_p1_g1_count</td>\n",
       "      <td>7.0</td>\n",
       "      <td>35.0</td>\n",
       "      <td>58.0</td>\n",
       "    </tr>\n",
       "    <tr>\n",
       "      <td>j07_p2_g1_count</td>\n",
       "      <td>11.0</td>\n",
       "      <td>17.0</td>\n",
       "      <td>72.0</td>\n",
       "    </tr>\n",
       "    <tr>\n",
       "      <td>j08_p1_g1_count</td>\n",
       "      <td>31.0</td>\n",
       "      <td>42.0</td>\n",
       "      <td>27.0</td>\n",
       "    </tr>\n",
       "    <tr>\n",
       "      <td>j08_p2_g1_count</td>\n",
       "      <td>40.0</td>\n",
       "      <td>23.0</td>\n",
       "      <td>37.0</td>\n",
       "    </tr>\n",
       "    <tr>\n",
       "      <td>j10_p1_g1_count</td>\n",
       "      <td>24.0</td>\n",
       "      <td>28.0</td>\n",
       "      <td>48.0</td>\n",
       "    </tr>\n",
       "    <tr>\n",
       "      <td>j10_p2_g1_count</td>\n",
       "      <td>14.0</td>\n",
       "      <td>27.0</td>\n",
       "      <td>59.0</td>\n",
       "    </tr>\n",
       "    <tr>\n",
       "      <td>j11_p1_g1_count</td>\n",
       "      <td>0.0</td>\n",
       "      <td>40.0</td>\n",
       "      <td>60.0</td>\n",
       "    </tr>\n",
       "    <tr>\n",
       "      <td>j11_p2_g1_count</td>\n",
       "      <td>2.0</td>\n",
       "      <td>6.0</td>\n",
       "      <td>92.0</td>\n",
       "    </tr>\n",
       "  </tbody>\n",
       "</table>\n",
       "</div>"
      ],
      "text/plain": [
       "                 30.0  60.0  90.0\n",
       "m01_p1_g1_count   0.0   0.0   0.0\n",
       "m01_p2_g1_count   0.0   0.0   0.0\n",
       "m03_p1_g1_count   0.0   0.0   0.0\n",
       "m03_p2_g1_count   0.0   0.0   0.0\n",
       "m05_p1_g1_count  11.0  26.0  63.0\n",
       "m05_p2_g1_count  13.0  31.0  56.0\n",
       "m08_p1_g1_count  13.0  26.0  61.0\n",
       "m08_p2_g1_count   9.0  32.0  59.0\n",
       "m10_p1_g1_count  21.0  30.0  49.0\n",
       "m10_p2_g1_count  29.0  44.0  27.0\n",
       "m11_p1_g1_count  20.0   2.0  78.0\n",
       "m11_p2_g1_count   1.0   7.0  92.0\n",
       "m13_p1_g1_count  34.0  32.0  34.0\n",
       "m13_p2_g1_count  32.0  33.0  35.0\n",
       "m14_p1_g1_count  26.0  28.0  46.0\n",
       "m14_p2_g1_count  35.0  37.0  28.0\n",
       "j01_p1_g1_count  38.0  36.0  26.0\n",
       "j01_p2_g1_count  33.0  37.0  30.0\n",
       "j02_p1_g1_count  36.0  32.0  32.0\n",
       "j02_p2_g1_count  25.0  39.0  36.0\n",
       "j03_p1_g1_count  22.0  29.0  49.0\n",
       "j03_p2_g1_count  29.0  23.0  48.0\n",
       "j04_p1_g1_count  26.0  39.0  35.0\n",
       "j04_p2_g1_count  34.0  22.0  44.0\n",
       "j05_p1_g1_count   5.0  16.0  79.0\n",
       "j05_p2_g1_count  14.0  28.0  58.0\n",
       "j06_p1_g1_count  36.0  34.0  30.0\n",
       "j06_p2_g1_count  45.0  16.0  39.0\n",
       "j07_p1_g1_count   7.0  35.0  58.0\n",
       "j07_p2_g1_count  11.0  17.0  72.0\n",
       "j08_p1_g1_count  31.0  42.0  27.0\n",
       "j08_p2_g1_count  40.0  23.0  37.0\n",
       "j10_p1_g1_count  24.0  28.0  48.0\n",
       "j10_p2_g1_count  14.0  27.0  59.0\n",
       "j11_p1_g1_count   0.0  40.0  60.0\n",
       "j11_p2_g1_count   2.0   6.0  92.0"
      ]
     },
     "execution_count": 273,
     "metadata": {},
     "output_type": "execute_result"
    }
   ],
   "source": [
    "soc_g1_counts_unmelt"
   ]
  },
  {
   "cell_type": "code",
   "execution_count": 274,
   "metadata": {},
   "outputs": [
    {
     "ename": "TypeError",
     "evalue": "melt() got an unexpected keyword argument 'ignore_index'",
     "output_type": "error",
     "traceback": [
      "\u001b[0;31m---------------------------------------------------------------------------\u001b[0m",
      "\u001b[0;31mTypeError\u001b[0m                                 Traceback (most recent call last)",
      "\u001b[0;32m<ipython-input-274-70bc4cbb379b>\u001b[0m in \u001b[0;36m<module>\u001b[0;34m\u001b[0m\n\u001b[1;32m      1\u001b[0m \u001b[0;34m'''The next few cells are done in order to be able to run ANOVA.'''\u001b[0m\u001b[0;34m\u001b[0m\u001b[0;34m\u001b[0m\u001b[0m\n\u001b[0;32m----> 2\u001b[0;31m \u001b[0msoc_g1_counts\u001b[0m \u001b[0;34m=\u001b[0m \u001b[0msoc_g1_counts_unmelt\u001b[0m\u001b[0;34m.\u001b[0m\u001b[0mmelt\u001b[0m\u001b[0;34m(\u001b[0m\u001b[0mignore_index\u001b[0m\u001b[0;34m=\u001b[0m\u001b[0;32mFalse\u001b[0m\u001b[0;34m)\u001b[0m\u001b[0;34m\u001b[0m\u001b[0;34m\u001b[0m\u001b[0m\n\u001b[0m",
      "\u001b[0;31mTypeError\u001b[0m: melt() got an unexpected keyword argument 'ignore_index'"
     ]
    }
   ],
   "source": [
    "'''The next few cells are done in order to be able to run ANOVA.'''\n",
    "soc_g1_counts = soc_g1_counts_unmelt.melt(ignore_index=False)"
   ]
  },
  {
   "cell_type": "code",
   "execution_count": null,
   "metadata": {},
   "outputs": [],
   "source": [
    "soc_g1_counts"
   ]
  },
  {
   "cell_type": "code",
   "execution_count": null,
   "metadata": {},
   "outputs": [],
   "source": [
    "confed_g1_counts_unmelt = c_g1_counts.append(s_g1_counts)\n",
    "confed_g1_counts = confed_g1_counts_unmelt.melt(ignore_index=False)"
   ]
  },
  {
   "cell_type": "code",
   "execution_count": null,
   "metadata": {},
   "outputs": [],
   "source": [
    "confed_g1_counts_unmelt"
   ]
  },
  {
   "cell_type": "code",
   "execution_count": null,
   "metadata": {},
   "outputs": [],
   "source": [
    "np.mean(confed_g1_counts_unmelt)"
   ]
  },
  {
   "cell_type": "code",
   "execution_count": null,
   "metadata": {},
   "outputs": [],
   "source": [
    "np.mean(soc_g1_counts_unmelt)"
   ]
  },
  {
   "cell_type": "code",
   "execution_count": null,
   "metadata": {},
   "outputs": [],
   "source": [
    "np.std(confed_g1_counts_unmelt)"
   ]
  },
  {
   "cell_type": "code",
   "execution_count": null,
   "metadata": {},
   "outputs": [],
   "source": [
    "np.std(confed_g1_counts_unmelt)"
   ]
  },
  {
   "cell_type": "code",
   "execution_count": null,
   "metadata": {},
   "outputs": [],
   "source": [
    "sp.stats.ttest_ind(confed_g1_counts_unmelt,soc_g1_counts_unmelt)"
   ]
  },
  {
   "cell_type": "code",
   "execution_count": null,
   "metadata": {},
   "outputs": [],
   "source": [
    "g1_counts = confed_g1_counts.append(soc_g1_counts)"
   ]
  },
  {
   "cell_type": "code",
   "execution_count": null,
   "metadata": {},
   "outputs": [],
   "source": [
    "g1_counts"
   ]
  },
  {
   "cell_type": "code",
   "execution_count": null,
   "metadata": {},
   "outputs": [],
   "source": [
    "#add another column to scores indicating whether it's the single or multiplayer\n",
    "\n",
    "subjects = g1_counts.index.to_numpy()\n",
    "\n",
    "condition = np.array([])\n",
    "\n",
    "for i in subjects:\n",
    "    if [i][0][0] == 's' or [i][0][0] == 'c':\n",
    "        condition = np.append(condition,'control')\n",
    "    elif [i][0][0] == 'm' or [i][0][0] == 'j':\n",
    "        condition = np.append(condition,'social')\n",
    "\n",
    "g1_counts['condition'] = condition"
   ]
  },
  {
   "cell_type": "code",
   "execution_count": null,
   "metadata": {},
   "outputs": [],
   "source": [
    "#add column to joint_counts indicating whether it's SMAB3 or 4\n",
    "subjects = g1_counts.index.to_numpy()\n",
    "\n",
    "experiment = np.array([])\n",
    "\n",
    "for i in subjects:\n",
    "    if [i][0][0] == 'j' or [i][0][0] == 's':\n",
    "        experiment = np.append(experiment,3)\n",
    "    elif [i][0][0] == 'm' or [i][0][0] == 'c':\n",
    "        experiment = np.append(experiment,4)\n",
    "        \n",
    "g1_counts['experiment'] = experiment"
   ]
  },
  {
   "cell_type": "code",
   "execution_count": null,
   "metadata": {},
   "outputs": [],
   "source": [
    "g1_counts"
   ]
  },
  {
   "cell_type": "code",
   "execution_count": null,
   "metadata": {},
   "outputs": [],
   "source": [
    "#break up counts dataframe into 30,60,90\n",
    "grouped = g1_counts.groupby(g1_counts.variable)\n",
    "g1_counts_30 = grouped.get_group(30.0)\n",
    "g1_counts_60 = grouped.get_group(60.0)\n",
    "g1_counts_90 = grouped.get_group(90.0)"
   ]
  },
  {
   "cell_type": "code",
   "execution_count": null,
   "metadata": {},
   "outputs": [],
   "source": [
    "g1_counts_30"
   ]
  },
  {
   "cell_type": "code",
   "execution_count": null,
   "metadata": {},
   "outputs": [],
   "source": [
    "#combine c_score and s_score\n",
    "confed_g1_score = c_scores_1.append(s_scores_1)\n",
    "confed_g1_score = confed_g1_score.melt(ignore_index=False)"
   ]
  },
  {
   "cell_type": "code",
   "execution_count": null,
   "metadata": {},
   "outputs": [],
   "source": [
    "confed_g1_score"
   ]
  },
  {
   "cell_type": "code",
   "execution_count": null,
   "metadata": {},
   "outputs": [],
   "source": [
    "confed_g1_score"
   ]
  },
  {
   "cell_type": "code",
   "execution_count": null,
   "metadata": {},
   "outputs": [],
   "source": [
    "#combine m_score and j_score\n",
    "soc_g1_score = m_scores_1.append(j_scores_1)\n",
    "soc_g1_score = soc_g1_score.melt(ignore_index=False)"
   ]
  },
  {
   "cell_type": "code",
   "execution_count": null,
   "metadata": {},
   "outputs": [],
   "source": [
    "soc_g1_score"
   ]
  },
  {
   "cell_type": "markdown",
   "metadata": {},
   "source": [
    "# Plotting Combined Data"
   ]
  },
  {
   "cell_type": "code",
   "execution_count": null,
   "metadata": {},
   "outputs": [],
   "source": [
    "soc_g1_counts_box = sns.boxplot( \n",
    "                 data=soc_g1_counts_unmelt,\n",
    "                 width=0.5,\n",
    "                 palette=\"pastel\")\n",
    "soc_g1_counts_box.axes.set_title(\"Social Choice Distributions in Game 1\",\n",
    "                    fontsize=16)\n",
    "\n",
    "plot_file_name=\"soc_counts1_box.jpg\"\n",
    " \n",
    "plt.ylim(0, 100)\n",
    "soc_g1_counts_box.axes.set(ylabel='Counts')\n",
    "\n",
    "# save as jpeg\n",
    "soc_g1_counts_box.figure.savefig(plot_file_name,\n",
    "                    format='jpeg')"
   ]
  },
  {
   "cell_type": "code",
   "execution_count": null,
   "metadata": {},
   "outputs": [],
   "source": [
    "confed_g1_counts_box = sns.boxplot( \n",
    "                 data=confed_g1_counts_unmelt,\n",
    "                 width=0.5,\n",
    "                 palette=\"pastel\")\n",
    "confed_g1_counts_box.axes.set_title(\"Confederate Choice Distributions in Game 1\",\n",
    "                    fontsize=16)\n",
    "\n",
    "plot_file_name=\"confed_counts1_box.jpg\"\n",
    " \n",
    "plt.ylim(0, 100)\n",
    "confed_g1_counts_box.axes.set(ylabel='Counts')\n",
    "\n",
    "# save as jpeg\n",
    "confed_g1_counts_box.figure.savefig(plot_file_name,\n",
    "                    format='jpeg')"
   ]
  },
  {
   "cell_type": "code",
   "execution_count": null,
   "metadata": {},
   "outputs": [],
   "source": [
    "sp.stats.ttest_ind(soc_g1_counts_unmelt, confed_g1_counts_unmelt)"
   ]
  },
  {
   "cell_type": "code",
   "execution_count": null,
   "metadata": {},
   "outputs": [],
   "source": [
    "confed_g1_scores_box = sns.boxplot( \n",
    "                 data=confed_g1_score['value'],\n",
    "                 width=0.5,\n",
    "                 palette=\"pastel\")\n",
    "confed_g1_scores_box.axes.set_title(\"Confederate Scores in Game 1\",\n",
    "                    fontsize=16)\n",
    "\n",
    "plot_file_name=\"confed_score1_box.jpg\"\n",
    " \n",
    "plt.ylim(0, 100)\n",
    "confed_g1_scores_box.axes.set(ylabel='Score')\n",
    "\n",
    "# save as jpeg\n",
    "confed_g1_scores_box.figure.savefig(plot_file_name,\n",
    "                    format='jpeg')"
   ]
  },
  {
   "cell_type": "code",
   "execution_count": null,
   "metadata": {},
   "outputs": [],
   "source": [
    "soc_g1_scores_box = sns.boxplot( \n",
    "                 data=soc_g1_score['value'],\n",
    "                 width=0.5,\n",
    "                 palette=\"pastel\")\n",
    "soc_g1_scores_box.axes.set_title(\"Social Scores in Game 1\",\n",
    "                    fontsize=16)\n",
    "\n",
    "plot_file_name=\"soc_score1_box.jpg\"\n",
    " \n",
    "plt.ylim(0, 100)\n",
    "soc_g1_scores_box.axes.set(ylabel='Score')\n",
    "\n",
    "# save as jpeg\n",
    "soc_g1_scores_box.figure.savefig(plot_file_name,\n",
    "                    format='jpeg')"
   ]
  },
  {
   "cell_type": "code",
   "execution_count": null,
   "metadata": {},
   "outputs": [],
   "source": [
    "sp.stats.ttest_ind(soc_g1_score['value'], confed_g1_score['value'])"
   ]
  },
  {
   "cell_type": "code",
   "execution_count": null,
   "metadata": {},
   "outputs": [],
   "source": [
    "soc_g2s_counts_box = sns.boxplot( \n",
    "                 data=soc_g2_s_counts_unmelt,\n",
    "                 width=0.5,\n",
    "                 palette=\"pastel\")\n",
    "soc_g2s_counts_box.axes.set_title(\"Social Choice Distributions in Game 2-Same\",\n",
    "                    fontsize=16)\n",
    "\n",
    "plot_file_name=\"soc_counts2s_box.jpg\"\n",
    " \n",
    "plt.ylim(0, 100)\n",
    "soc_g2s_counts_box.axes.set(ylabel='Counts')\n",
    "\n",
    "# save as jpeg\n",
    "soc_g2s_counts_box.figure.savefig(plot_file_name,\n",
    "                    format='jpeg')"
   ]
  },
  {
   "cell_type": "code",
   "execution_count": null,
   "metadata": {},
   "outputs": [],
   "source": [
    "soc_g2_s_counts_unmelt"
   ]
  },
  {
   "cell_type": "code",
   "execution_count": null,
   "metadata": {},
   "outputs": [],
   "source": [
    "soc_g2d_counts_box = sns.boxplot( \n",
    "                 data=soc_g2_d_counts_unmelt,\n",
    "                 width=0.5,\n",
    "                 palette=\"pastel\")\n",
    "soc_g2d_counts_box.axes.set_title(\"Social Choice Distributions in Game 2-Different\",\n",
    "                    fontsize=16)\n",
    "\n",
    "plot_file_name=\"soc_counts2d_box.jpg\"\n",
    " \n",
    "plt.ylim(0, 100)\n",
    "soc_g2d_counts_box.axes.set(ylabel='Counts')\n",
    "\n",
    "# save as jpeg\n",
    "soc_g2d_counts_box.figure.savefig(plot_file_name,\n",
    "                    format='jpeg')"
   ]
  },
  {
   "cell_type": "code",
   "execution_count": null,
   "metadata": {},
   "outputs": [],
   "source": [
    "sp.stats.ttest_ind(soc_g2_d_counts_unmelt, soc_g2_s_counts_unmelt)"
   ]
  },
  {
   "cell_type": "code",
   "execution_count": null,
   "metadata": {},
   "outputs": [],
   "source": [
    "sp.stats.ttest_ind(soc_g2_d_counts_unmelt, soc_g2_s_counts_unmelt)"
   ]
  },
  {
   "cell_type": "code",
   "execution_count": null,
   "metadata": {},
   "outputs": [],
   "source": [
    "confed_g2d_counts_box = sns.boxplot( \n",
    "                 data=confed_g2_d_counts_unmelt,\n",
    "                 width=0.5,\n",
    "                 palette=\"pastel\")\n",
    "confed_g2d_counts_box.axes.set_title(\"Control Choice Distributions in Game 2-Different\",\n",
    "                    fontsize=16)\n",
    "\n",
    "plot_file_name=\"confed_counts2d_box.jpg\"\n",
    " \n",
    "plt.ylim(0, 100)\n",
    "confed_g2d_counts_box.axes.set(ylabel='Counts')\n",
    "\n",
    "# save as jpeg\n",
    "confed_g2d_counts_box.figure.savefig(plot_file_name,\n",
    "                    format='jpeg')"
   ]
  },
  {
   "cell_type": "code",
   "execution_count": null,
   "metadata": {},
   "outputs": [],
   "source": [
    "confed_g2s_counts_box = sns.boxplot( \n",
    "                 data=confed_g2_s_counts_unmelt,\n",
    "                 width=0.5,\n",
    "                 palette=\"pastel\")\n",
    "confed_g2s_counts_box.axes.set_title(\"Control Choice Distributions in Game 2-Same\",\n",
    "                    fontsize=16)\n",
    "\n",
    "plot_file_name=\"confed_counts2s_box.jpg\"\n",
    " \n",
    "plt.ylim(0, 100)\n",
    "confed_g2s_counts_box.axes.set(ylabel='Counts')\n",
    "\n",
    "# save as jpeg\n",
    "confed_g2s_counts_box.figure.savefig(plot_file_name,\n",
    "                    format='jpeg')"
   ]
  },
  {
   "cell_type": "code",
   "execution_count": null,
   "metadata": {},
   "outputs": [],
   "source": [
    "sp.stats.ttest_ind(confed_g2_d_counts_unmelt, confed_g2_s_counts_unmelt)"
   ]
  },
  {
   "cell_type": "code",
   "execution_count": null,
   "metadata": {},
   "outputs": [],
   "source": [
    "soc_g2_s_scores_box = sns.boxplot( \n",
    "                 data=soc_g2_s_scores_unmelt,\n",
    "                 width=0.5,\n",
    "                 palette=\"pastel\")\n",
    "soc_g2_s_scores_box.axes.set_title(\"Social Scores in Game 2-Same\",\n",
    "                    fontsize=16)\n",
    "\n",
    "plot_file_name=\"soc_g2_s_scores_box.jpg\"\n",
    " \n",
    "plt.ylim(0, 100)\n",
    "soc_g2_s_scores_box.axes.set(ylabel='Score')\n",
    "\n",
    "# save as jpeg\n",
    "soc_g2_s_scores_box.figure.savefig(plot_file_name,\n",
    "                    format='jpeg')"
   ]
  },
  {
   "cell_type": "code",
   "execution_count": null,
   "metadata": {},
   "outputs": [],
   "source": [
    "soc_g2_d_scores_box = sns.boxplot( \n",
    "                 data=soc_g2_d_scores_unmelt,\n",
    "                 width=0.5,\n",
    "                 palette=\"pastel\")\n",
    "soc_g2_d_scores_box.axes.set_title(\"Social Scores in Game 2-Different\",\n",
    "                    fontsize=16)\n",
    "\n",
    "plot_file_name=\"soc_g2_d_scores_box.jpg\"\n",
    " \n",
    "plt.ylim(0, 100)\n",
    "soc_g2_d_scores_box.axes.set(ylabel='Score')\n",
    "\n",
    "# save as jpeg\n",
    "soc_g2_d_scores_box.figure.savefig(plot_file_name,\n",
    "                    format='jpeg')"
   ]
  },
  {
   "cell_type": "code",
   "execution_count": null,
   "metadata": {},
   "outputs": [],
   "source": [
    "sp.stats.ttest_ind(soc_g2_d_scores_unmelt, soc_g2_s_scores_unmelt)"
   ]
  },
  {
   "cell_type": "code",
   "execution_count": null,
   "metadata": {},
   "outputs": [],
   "source": [
    "#NEED TO FIX\n",
    "confed_g2_d_scores_box = sns.boxplot( \n",
    "                 data=confed_g2_d_scores_unmelt,\n",
    "                 width=0.5,\n",
    "                 palette=\"pastel\")\n",
    "confed_g2_d_scores_box.axes.set_title(\"Control Scores in Game 2-Different\",\n",
    "                    fontsize=16)\n",
    "\n",
    "plot_file_name=\"confed_g2_d_scores_box.jpg\"\n",
    " \n",
    "plt.ylim(0, 100)\n",
    "confed_g2_d_scores_box.axes.set(ylabel='Score')\n",
    "\n",
    "# save as jpeg\n",
    "confed_g2_d_scores_box.figure.savefig(plot_file_name,\n",
    "                    format='jpeg')"
   ]
  },
  {
   "cell_type": "code",
   "execution_count": null,
   "metadata": {},
   "outputs": [],
   "source": [
    "confed_g2_s_scores_box = sns.boxplot( \n",
    "                 data=confed_g2_s_scores_unmelt,\n",
    "                 width=0.5,\n",
    "                 palette=\"pastel\")\n",
    "confed_g2_s_scores_box.axes.set_title(\"Control Scores in Game 2-Same\",\n",
    "                    fontsize=16)\n",
    "\n",
    "plot_file_name=\"confed_g2_s_scores_box.jpg\"\n",
    " \n",
    "plt.ylim(0, 100)\n",
    "confed_g2_s_scores_box.axes.set(ylabel='Score')\n",
    "\n",
    "# save as jpeg\n",
    "confed_g2_s_scores_box.figure.savefig(plot_file_name,\n",
    "                    format='jpeg')"
   ]
  },
  {
   "cell_type": "code",
   "execution_count": null,
   "metadata": {},
   "outputs": [],
   "source": [
    "sp.stats.ttest_ind(confed_g2_d_scores_unmelt, confed_g2_s_scores_unmelt)"
   ]
  },
  {
   "cell_type": "code",
   "execution_count": null,
   "metadata": {},
   "outputs": [],
   "source": [
    "sp.stats.ttest_ind(confed_g2_d_scores_unmelt, confed_g1_score['value'])"
   ]
  },
  {
   "cell_type": "code",
   "execution_count": null,
   "metadata": {},
   "outputs": [],
   "source": [
    "sp.stats.ttest_ind(confed_g2_s_scores_unmelt, confed_g1_score['value'])"
   ]
  },
  {
   "cell_type": "code",
   "execution_count": null,
   "metadata": {},
   "outputs": [],
   "source": [
    "sp.stats.ttest_ind(confed_g2_d_counts_unmelt, confed_g1_counts_unmelt)"
   ]
  },
  {
   "cell_type": "code",
   "execution_count": null,
   "metadata": {},
   "outputs": [],
   "source": [
    "sp.stats.ttest_ind(confed_g2_s_counts_unmelt, confed_g1_counts_unmelt)"
   ]
  },
  {
   "cell_type": "markdown",
   "metadata": {},
   "source": [
    "# Maximizing vs Matching Social Condition"
   ]
  },
  {
   "cell_type": "code",
   "execution_count": null,
   "metadata": {},
   "outputs": [],
   "source": [
    "# # Maximizing/Matching SOCIAL\n",
    "\n",
    "# In[ ]:\n",
    "\n",
    "\n",
    "from scipy import stats\n",
    "\n",
    "\n",
    "# In[ ]:\n",
    "\n",
    "\n",
    "#Optional: Idealized probability distributions to use for comparison. These assume a social strategy in which the probability\n",
    "#distributions of both partners in a joint session are averaged (all holes reward at a 60% rate)\n",
    "\n",
    "#social_max = [0, 0, 100]\n",
    "#social_match = [30/180 * 100,60/180 * 100, 90/180 * 100]\n",
    "\n",
    "\n",
    "# In[ ]:\n",
    "\n",
    "\n",
    "#Calls jsd with the social distributions.\n",
    "#def call_jsd_social(counts):\n",
    "   # maxi = jsd(counts,social_max)\n",
    "   # matchi = jsd(counts,social_match)\n",
    "    #return maxi,matchi\n",
    "\n",
    "\n",
    "# In[ ]:\n",
    "\n",
    "\n",
    "j01_p1_g1_max,j01_p1_g1_match,j01_p1_g1_rand,j01_p1_g1_soc = call_jsd(j01_p1_g1_count)\n",
    "j01_p1_g2_max,j01_p1_g2_match,j01_p1_g2_rand,j01_p1_g2_soc = call_jsd(j01_p1_g2_count)\n",
    "j01_p2_g1_max,j01_p2_g1_match,j01_p2_g1_rand,j01_p2_g1_soc = call_jsd(j01_p2_g1_count)\n",
    "j01_p2_g2_max,j01_p2_g2_match,j01_p2_g2_rand,j01_p2_g2_soc = call_jsd(j01_p2_g2_count)\n",
    "j02_p1_g1_max,j02_p1_g1_match,j02_p1_g1_rand,j02_p1_g1_soc = call_jsd(j02_p1_g1_count)\n",
    "j02_p1_g2_max,j02_p1_g2_match,j02_p1_g2_rand,j02_p1_g2_soc = call_jsd(j02_p1_g2_count)\n",
    "j02_p2_g1_max,j02_p2_g1_match,j02_p2_g1_rand,j02_p2_g1_soc = call_jsd(j02_p2_g1_count)\n",
    "j02_p2_g2_max,j02_p2_g2_match,j02_p2_g2_rand,j02_p2_g2_soc = call_jsd(j02_p2_g2_count)\n",
    "j03_p1_g1_max,j03_p1_g1_match,j03_p1_g1_rand,j03_p1_g1_soc = call_jsd(j03_p1_g1_count)\n",
    "j03_p1_g2_max,j03_p1_g2_match,j03_p1_g2_rand,j03_p1_g2_soc = call_jsd(j03_p1_g2_count)\n",
    "j03_p2_g1_max,j03_p2_g1_match,j03_p2_g1_rand,j03_p2_g1_soc  = call_jsd(j03_p2_g1_count)\n",
    "j03_p2_g2_max,j03_p2_g2_match,j03_p2_g2_rand,j03_p2_g2_soc = call_jsd(j03_p2_g2_count)\n",
    "j04_p1_g1_max,j04_p1_g1_match,j04_p1_g1_rand,j04_p1_g1_soc = call_jsd(j04_p1_g1_count)\n",
    "j04_p1_g2_max,j04_p1_g2_match,j04_p1_g2_rand,j04_p1_g2_soc = call_jsd(j04_p1_g2_count)\n",
    "j04_p2_g1_max,j04_p2_g1_match,j04_p2_g1_rand,j04_p2_g1_soc  = call_jsd(j04_p2_g1_count)\n",
    "j04_p2_g2_max,j04_p2_g2_match,j04_p2_g2_rand,j04_p2_g2_soc = call_jsd(j04_p2_g2_count)\n",
    "j05_p1_g1_max,j05_p1_g1_match,j05_p1_g1_rand,j05_p1_g1_soc = call_jsd(j05_p1_g1_count)\n",
    "j05_p1_g2_max,j05_p1_g2_match,j05_p1_g2_rand,j05_p1_g2_soc = call_jsd(j05_p1_g2_count)\n",
    "j05_p2_g1_max,j05_p2_g1_match,j05_p2_g1_rand,j05_p2_g1_soc = call_jsd(j05_p2_g1_count)\n",
    "j05_p2_g2_max,j05_p2_g2_match,j05_p2_g2_rand,j05_p2_g2_soc = call_jsd(j05_p2_g2_count)\n",
    "j06_p1_g1_max,j06_p1_g1_match,j06_p1_g1_rand,j06_p1_g1_soc = call_jsd(j06_p1_g1_count)\n",
    "j06_p1_g2_max,j06_p1_g2_match,j06_p1_g2_rand,j06_p1_g2_soc = call_jsd(j06_p1_g2_count)\n",
    "j06_p2_g1_max,j06_p2_g1_match,j06_p2_g1_rand,j06_p2_g1_soc = call_jsd(j06_p2_g1_count)\n",
    "j06_p2_g2_max,j06_p2_g2_match,j06_p2_g2_rand,j06_p2_g2_soc = call_jsd(j06_p2_g2_count)\n",
    "j07_p1_g1_max,j07_p1_g1_match,j07_p1_g1_rand,j07_p1_g1_soc = call_jsd(j07_p1_g1_count)\n",
    "j07_p1_g2_max,j07_p1_g2_match,j07_p1_g2_rand,j07_p1_g2_soc = call_jsd(j07_p1_g2_count)\n",
    "j07_p2_g1_max,j07_p2_g1_match,j07_p2_g1_rand,j07_p2_g1_soc = call_jsd(j07_p2_g1_count)\n",
    "j07_p2_g2_max,j07_p2_g2_match,j07_p2_g2_rand,j07_p2_g2_soc = call_jsd(j07_p2_g2_count)\n",
    "j08_p1_g1_max,j08_p1_g1_match,j08_p1_g1_rand,j08_p1_g1_soc = call_jsd(j08_p1_g1_count)\n",
    "j08_p1_g2_max,j08_p1_g2_match,j08_p1_g2_rand,j08_p1_g2_soc = call_jsd(j08_p1_g2_count)\n",
    "j08_p2_g1_max,j08_p2_g1_match,j08_p2_g1_rand,j08_p2_g1_soc = call_jsd(j08_p2_g1_count)\n",
    "j08_p2_g2_max,j08_p2_g2_match,j08_p2_g2_rand,j08_p2_g2_soc = call_jsd(j08_p2_g2_count)\n",
    "j10_p1_g1_max,j10_p1_g1_match,j10_p1_g1_rand,j10_p1_g1_soc = call_jsd(j10_p1_g1_count)\n",
    "j10_p1_g2_max,j10_p1_g2_match,j10_p1_g2_rand,j10_p1_g2_soc = call_jsd(j10_p1_g2_count)\n",
    "j10_p2_g1_max,j10_p2_g1_match,j10_p2_g1_rand,j10_p2_g1_soc = call_jsd(j10_p2_g1_count)\n",
    "j10_p2_g2_max,j10_p2_g2_match,j10_p2_g2_rand,j10_p2_g2_soc = call_jsd(j10_p2_g2_count)\n",
    "j11_p1_g1_max,j11_p1_g1_match,j11_p1_g1_rand,j11_p1_g1_soc = call_jsd([0,40,60])\n",
    "j11_p1_g2_max,j11_p1_g2_match,j11_p1_g2_rand,j11_p1_g2_soc = call_jsd([0,22,78])\n",
    "j11_p2_g1_max,j11_p2_g1_match,j11_p2_g1_rand,j11_p2_g1_soc = call_jsd(j11_p2_g1_count)\n",
    "j11_p2_g2_max,j11_p2_g2_match,j11_p2_g2_rand,j11_p2_g2_soc = call_jsd([0,1,99])\n",
    "m01_p1_g1_max,m01_p1_g1_match,m01_p1_g1_rand,m01_p1_g1_soc = call_jsd(m01_p1_g1_count)\n",
    "m01_p1_g2_max,m01_p1_g2_match,m01_p1_g2_rand,m01_p1_g2_soc = call_jsd(m01_p1_g2_count)\n",
    "m01_p2_g1_max,m01_p2_g1_match,m01_p2_g1_rand,m01_p2_g1_soc = call_jsd(m01_p2_g1_count)\n",
    "m01_p2_g2_max,m01_p2_g2_match,m01_p2_g2_rand,m01_p2_g2_soc = call_jsd(m01_p2_g2_count)\n",
    "m03_p1_g1_max,m03_p1_g1_match,m03_p1_g1_rand,m03_p1_g1_soc = call_jsd(m03_p1_g1_count)\n",
    "m03_p1_g2_max,m03_p1_g2_match,m03_p1_g2_rand,m03_p1_g2_soc = call_jsd(m03_p1_g2_count)\n",
    "m03_p2_g1_max,m03_p2_g1_match,m03_p2_g1_rand,m03_p2_g1_soc = call_jsd(m03_p2_g1_count)\n",
    "m03_p2_g2_max,m03_p2_g2_match,m03_p2_g2_rand,m03_p2_g2_soc = call_jsd(m03_p2_g2_count)\n",
    "m05_p1_g1_max,m05_p1_g1_match,m05_p1_g1_rand,m01_p1_g1_soc = call_jsd(m05_p1_g1_count)\n",
    "m05_p1_g2_max,m05_p1_g2_match,m05_p1_g2_rand,m05_p1_g2_soc = call_jsd(m05_p1_g2_count)\n",
    "m05_p2_g1_max,m05_p2_g1_match,m05_p2_g1_rand,m05_p2_g1_soc = call_jsd(m05_p2_g1_count)\n",
    "m05_p2_g2_max,m05_p2_g2_match,m05_p2_g2_rand,m05_p2_g2_soc = call_jsd(m05_p2_g2_count)\n",
    "m06_p1_g1_max,m06_p1_g1_match,m06_p1_g1_rand,m06_p1_g1_soc = call_jsd(m06_p1_g1_count)\n",
    "m06_p1_g2_max,m06_p1_g2_match,m06_p1_g2_rand,m06_p1_g2_soc = call_jsd(m06_p1_g2_count)\n",
    "m06_p2_g1_max,m06_p2_g1_match,m06_p2_g1_rand,m06_p2_g1_soc = call_jsd(m06_p2_g1_count)\n",
    "m06_p2_g2_max,m06_p2_g2_match,m06_p2_g2_rand,m06_p2_g2_soc = call_jsd(m06_p2_g2_count)\n",
    "m08_p1_g1_max,m08_p1_g1_match,m08_p1_g1_rand,m08_p1_g1_soc = call_jsd(m08_p1_g1_count)\n",
    "m08_p1_g2_max,m08_p1_g2_match,m08_p1_g2_rand,m08_p1_g2_soc = call_jsd(m08_p1_g2_count)\n",
    "m08_p2_g1_max,m08_p2_g1_match,m08_p2_g1_rand,m08_p2_g1_soc = call_jsd(m08_p2_g1_count)\n",
    "m08_p2_g2_max,m08_p2_g2_match,m08_p2_g2_rand,m08_p2_g2_soc = call_jsd(m08_p2_g2_count)\n",
    "m10_p1_g1_max,m10_p1_g1_match,m10_p1_g1_rand,m10_p1_g1_soc = call_jsd(m10_p1_g1_count)\n",
    "m10_p1_g2_max,m10_p1_g2_match,m10_p1_g2_rand,m10_p1_g2_soc = call_jsd(m10_p1_g2_count)\n",
    "m10_p2_g1_max,m10_p2_g1_match,m10_p2_g1_rand,m10_p2_g1_soc = call_jsd(m10_p2_g1_count)\n",
    "m10_p2_g2_max,m10_p2_g2_match,m10_p2_g2_rand,m10_p2_g2_soc = call_jsd(m10_p2_g2_count)\n",
    "m11_p1_g1_max,m11_p1_g1_match,m11_p1_g1_rand,m11_p1_g1_soc = call_jsd(m11_p1_g1_count)\n",
    "m11_p1_g2_max,m11_p1_g2_match,m11_p1_g2_rand,m11_p1_g2_soc = call_jsd([0,1,99])\n",
    "m11_p2_g1_max,m11_p2_g1_match,m11_p2_g1_rand,m11_p2_g1_soc = call_jsd(m11_p2_g1_count)\n",
    "m11_p2_g2_max,m11_p2_g2_match,m11_p2_g2_rand,m11_p2_g2_soc = call_jsd([0,0,100])\n",
    "m13_p1_g1_max,m13_p1_g1_match,m13_p1_g1_rand,m13_p1_g1_soc = call_jsd(m13_p1_g1_count)\n",
    "m13_p1_g2_max,m13_p1_g2_match,m13_p1_g2_rand,m13_p1_g2_soc = call_jsd(m13_p1_g2_count)\n",
    "m13_p2_g1_max,m13_p2_g1_match,m13_p2_g1_rand,m13_p2_g1_soc = call_jsd(m13_p2_g1_count)\n",
    "m13_p2_g2_max,m13_p2_g2_match,m13_p2_g2_rand,m13_p2_g2_soc = call_jsd(m13_p2_g2_count)\n",
    "m14_p1_g1_max,m14_p1_g1_match,m14_p1_g1_rand,m14_p1_g1_soc = call_jsd(m14_p1_g1_count)\n",
    "m14_p1_g2_max,m14_p1_g2_match,m14_p1_g2_rand,m14_p1_g2_soc = call_jsd(m14_p1_g2_count)\n",
    "m14_p2_g1_max,m14_p2_g1_match,m14_p2_g1_rand,m14_p2_g1_soc = call_jsd(m14_p2_g1_count)\n",
    "m14_p2_g2_max,m14_p2_g2_match,m14_p2_g2_rand,m14_p2_g2_soc = call_jsd(m14_p2_g2_count)"
   ]
  },
  {
   "cell_type": "code",
   "execution_count": null,
   "metadata": {},
   "outputs": [],
   "source": [
    "#Create a dataframe for single player game 1 jsd scores, with a column for each strategy.'''\n",
    "social_jsd_g1 = pd.DataFrame({'max':[j01_p1_g1_max,j01_p2_g1_max,j02_p1_g1_max,j02_p2_g1_max,j03_p1_g1_max,j03_p2_g1_max,\n",
    "                             j04_p1_g1_max,j04_p2_g1_max,j05_p1_g1_max,j05_p2_g1_max,j06_p1_g1_max,j06_p2_g1_max,\n",
    "                             j07_p1_g1_max,j07_p2_g1_max,j08_p1_g1_max,j08_p2_g1_max, j10_p1_g1_max, j10_p2_g1_max,\n",
    "                               j11_p1_g1_max, j11_p2_g1_max, m01_p1_g1_max, m01_p2_g1_max, m03_p1_g1_max, m03_p2_g1_max,\n",
    "                                     m05_p1_g1_max, m05_p2_g1_max,\n",
    "                                   m08_p1_g1_max, m08_p2_g1_max, m10_p1_g1_max, m10_p2_g1_max, m11_p1_g1_max, m11_p2_g1_max,\n",
    "                                    m13_p1_g1_max, m13_p2_g1_max, m14_p1_g1_max, m14_p2_g1_max],\n",
    "                    'match':[j01_p1_g1_match,j01_p2_g1_match,j02_p1_g1_match, j02_p2_g1_match,j03_p1_g1_match,j03_p2_g1_match,\n",
    "                               j04_p1_g1_match,j04_p2_g1_match,j05_p1_g1_match,\n",
    "                               j05_p2_g1_match,j06_p1_g1_match,j06_p2_g1_match,\n",
    "                               j07_p1_g1_match,j07_p2_g1_match,j08_p1_g1_match,j08_p2_g1_match, j10_p1_g1_match,\n",
    "                               j10_p2_g1_match, j11_p1_g1_match, j11_p2_g1_match, m01_p1_g1_match, m01_p2_g1_match,\n",
    "                             m03_p1_g1_match, m03_p2_g1_match, m05_p1_g1_match, m05_p2_g1_match,\n",
    "                                m08_p1_g1_match, m08_p2_g1_match, m10_p1_g1_match,\n",
    "                               m10_p2_g1_match, m11_p1_g1_match, m11_p2_g1_match, m13_p1_g1_match, m13_p2_g1_match,\n",
    "                               m14_p1_g1_match, m14_p2_g1_match],\n",
    "                    'rand':[j01_p1_g1_rand,j01_p2_g1_rand,j02_p1_g1_rand,j02_p2_g1_rand,j03_p1_g1_rand,j03_p2_g1_rand,\n",
    "                             j04_p1_g1_rand,j04_p2_g1_rand,j05_p1_g1_rand,j05_p2_g1_rand,j06_p1_g1_rand,j06_p2_g1_rand,\n",
    "                             j07_p1_g1_rand,j07_p2_g1_rand,j08_p1_g1_rand,j08_p2_g1_rand, j10_p1_g1_rand, j10_p2_g1_rand,\n",
    "                               j11_p1_g1_rand, j11_p2_g1_rand, m01_p1_g1_rand, m01_p2_g1_rand, m03_p1_g1_rand, m03_p2_g1_rand,\n",
    "                                m05_p1_g1_rand, m05_p2_g1_rand,\n",
    "                                   m08_p1_g1_rand, m08_p2_g1_rand, m10_p1_g1_rand, m10_p2_g1_rand, m11_p1_g1_rand, m11_p2_g1_rand,\n",
    "                                    m13_p1_g1_rand, m13_p2_g1_rand, m14_p1_g1_rand, m14_p2_g1_rand],\n",
    "                    'soc':[j01_p1_g1_soc,j01_p2_g1_soc,j02_p1_g1_soc, j02_p2_g1_soc,j03_p1_g1_soc,j03_p2_g1_soc,\n",
    "                               j04_p1_g1_soc,j04_p2_g1_soc,j05_p1_g1_soc,\n",
    "                               j05_p2_g1_soc,j06_p1_g1_soc,j06_p2_g1_soc,\n",
    "                               j07_p1_g1_soc,j07_p2_g1_soc,j08_p1_g1_soc,j08_p2_g1_soc, j10_p1_g1_soc,\n",
    "                               j10_p2_g1_soc, j11_p1_g1_soc, j11_p2_g1_soc, m01_p1_g1_soc, m01_p2_g1_soc, \n",
    "                               m03_p1_g1_soc, m03_p2_g1_soc, m05_p1_g1_soc, m05_p2_g1_soc,\n",
    "                               m08_p1_g1_soc, m08_p2_g1_soc, m10_p1_g1_soc,\n",
    "                               m10_p2_g1_soc, m11_p1_g1_soc, m11_p2_g1_soc, m13_p1_g1_soc, m13_p2_g1_soc,\n",
    "                               m14_p1_g1_soc, m14_p2_g1_soc]},\n",
    "                         index=['j01', 'j01', 'j02', 'j02', 'j03', 'j03','j04',\n",
    "                                'j04','j05', 'j05', 'j06', 'j06','j07','j07','j08','j08', 'j10', 'j10', 'j11', 'j11','m01',\n",
    "                                'm01','m03','m03',\n",
    "                                'm05','m05', 'm08', 'm08', 'm10', 'm10', 'm11', 'm11', 'm13','m13', 'm14', 'm14'])\n",
    "\n",
    "\n",
    "# In[ ]:\n",
    "\n",
    "\n",
    "#to print wothout truncation\n",
    "pd.set_option('display.max_rows', None)\n",
    "\n",
    "\n",
    "# In[ ]:\n",
    "\n",
    "\n",
    "social_jsd_g1\n",
    "\n",
    "\n",
    "\n",
    "\n",
    "# get the column name of min values in every row\n",
    "strategy_social_jsd_g1 = social_jsd_g1.idxmin(axis=1)\n",
    " \n",
    "print(\"min values of row are at following columns :\")\n",
    "print(strategy_social_jsd_g1)\n",
    "\n",
    "\n",
    "\n",
    "\n",
    "\n",
    "strategy_social_jsd_g1.value_counts()\n",
    "\n",
    "\n",
    "# In[ ]:\n",
    "\n",
    "\n",
    "#social_types_g1 = check_type(social_jsd_g1)\n",
    "\n",
    "\n",
    "# In[ ]:\n",
    "\n",
    "\n",
    "#social_types_g1.drop([0])\n",
    "\n",
    "\n",
    "# In[ ]:\n",
    "\n",
    "\n",
    "#(social_types_g1 == 'maxi').sum()"
   ]
  },
  {
   "cell_type": "code",
   "execution_count": null,
   "metadata": {},
   "outputs": [],
   "source": [
    "m01_p1_g1_rand"
   ]
  },
  {
   "cell_type": "code",
   "execution_count": null,
   "metadata": {},
   "outputs": [],
   "source": [
    "social_jsd_g1"
   ]
  },
  {
   "cell_type": "code",
   "execution_count": null,
   "metadata": {},
   "outputs": [],
   "source": [
    "sp.stats.ttest_ind(control_jsd_g1,social_jsd_g1)"
   ]
  },
  {
   "cell_type": "code",
   "execution_count": null,
   "metadata": {},
   "outputs": [],
   "source": [
    "sp.stats.ttest_ind(control_jsd_g1,social_jsd_g1)"
   ]
  },
  {
   "cell_type": "code",
   "execution_count": null,
   "metadata": {},
   "outputs": [],
   "source": [
    "#Create a dataframe for single player game 1 jsd scores, with a column for each strategy.'''\n",
    "social_jsd_g2 = pd.DataFrame({'max':[j01_p1_g2_max,j01_p2_g2_max,j02_p1_g2_max,j02_p2_g2_max,j03_p1_g2_max,j03_p2_g2_max,\n",
    "                             j04_p1_g2_max,j04_p2_g2_max,j05_p1_g2_max,j05_p2_g2_max,j06_p1_g2_max,j06_p2_g2_max,\n",
    "                             j07_p1_g2_max,j07_p2_g2_max,j08_p1_g2_max,j08_p2_g2_max, j10_p1_g2_max, j10_p2_g2_max,\n",
    "                               j11_p1_g2_max, j11_p2_g2_max, m01_p1_g2_max, m01_p2_g2_max, m03_p1_g2_max, m03_p2_g2_max,\n",
    "                                     m05_p1_g2_max, m05_p2_g2_max, m08_p1_g2_max, m08_p2_g2_max, m10_p1_g2_max, m10_p2_g2_max, m11_p1_g2_max, m11_p2_g2_max,\n",
    "                                    m13_p1_g2_max, m13_p2_g2_max, m14_p1_g2_max, m14_p2_g2_max],\n",
    "                    'match':[j01_p1_g2_match,j01_p2_g2_match,j02_p1_g2_match, j02_p2_g2_match,j03_p1_g2_match,j03_p2_g2_match,\n",
    "                               j04_p1_g2_match,j04_p2_g2_match,j05_p1_g2_match,\n",
    "                               j05_p2_g2_match,j06_p1_g2_match,j06_p2_g2_match,\n",
    "                               j07_p1_g2_match,j07_p2_g2_match,j08_p1_g2_match,j08_p2_g2_match, j10_p1_g2_match,\n",
    "                               j10_p2_g2_match, j11_p1_g2_match, j11_p2_g2_match, m01_p1_g2_match, m01_p2_g2_match,m03_p1_g2_match, \n",
    "                               m03_p2_g2_match, m05_p1_g2_match, m05_p2_g2_match,\n",
    "                               m08_p1_g2_match, m08_p2_g2_match, m10_p1_g2_match,\n",
    "                               m10_p2_g2_match, m11_p1_g2_match, m11_p2_g2_match, m13_p1_g2_match, m13_p2_g2_match,\n",
    "                               m14_p1_g2_match, m14_p2_g2_match],\n",
    "                    'rand':[j01_p1_g2_rand,j01_p2_g2_rand,j02_p1_g2_rand,j02_p2_g2_rand,j03_p1_g2_rand,j03_p2_g2_rand,\n",
    "                             j04_p1_g2_rand,j04_p2_g2_rand,j05_p1_g2_rand,j05_p2_g2_rand,j06_p1_g2_rand,j06_p2_g2_rand,\n",
    "                             j07_p1_g2_rand,j07_p2_g2_rand,j08_p1_g2_rand,j08_p2_g2_rand, j10_p1_g2_rand, j10_p2_g2_rand,\n",
    "                               j11_p1_g2_rand, j11_p2_g2_rand, m01_p1_g2_rand, m01_p2_g2_rand,m03_p1_g2_rand, m03_p2_g2_rand,\n",
    "                            m05_p1_g2_rand, m05_p2_g2_rand,\n",
    "                                   m08_p1_g2_rand, m08_p2_g2_rand, m10_p1_g2_rand, m10_p2_g2_rand, m11_p1_g2_rand, m11_p2_g2_rand,\n",
    "                                    m13_p1_g2_rand, m13_p2_g2_rand, m14_p1_g2_rand, m14_p2_g2_rand],\n",
    "                    'soc':[j01_p1_g2_soc,j01_p2_g2_soc,j02_p1_g2_soc, j02_p2_g2_soc,j03_p1_g2_soc,j03_p2_g2_soc,\n",
    "                               j04_p1_g2_soc,j04_p2_g2_soc,j05_p1_g2_soc,\n",
    "                               j05_p2_g2_soc,j06_p1_g2_soc,j06_p2_g2_soc,\n",
    "                               j07_p1_g2_soc,j07_p2_g2_soc,j08_p1_g2_soc,j08_p2_g2_soc, j10_p1_g2_soc,\n",
    "                               j10_p2_g2_soc, j11_p1_g2_soc, j11_p2_g2_soc, m01_p1_g2_soc, m01_p2_g2_soc,m03_p1_g2_soc, \n",
    "                           m03_p2_g2_soc,\n",
    "                           m05_p1_g2_soc, m05_p2_g2_soc,\n",
    "                               m08_p1_g2_soc, m08_p2_g2_soc, m10_p1_g2_soc,\n",
    "                               m10_p2_g2_soc, m11_p1_g2_soc, m11_p2_g2_soc, m13_p1_g2_soc, m13_p2_g2_soc,\n",
    "                               m14_p1_g2_soc, m14_p2_g2_soc]},\n",
    "                         index=['j01', 'j01', 'j02', 'j02', 'j03', 'j03','j04',\n",
    "                                'j04','j05', 'j05', 'j06', 'j06','j07','j07','j08','j08', 'j10', 'j10', 'j11', 'j11',\n",
    "                                'm01','m01','m03','m03','m05','m05','m08', 'm08', 'm10', 'm10', 'm11', 'm11', 'm13','m13', 'm14', 'm14'])\n",
    "\n",
    "\n",
    "strategy_social_jsd_g2 = social_jsd_g2.idxmin(axis=1)\n",
    "\n",
    "\n",
    "strategy_social_jsd_g2.value_counts()"
   ]
  },
  {
   "cell_type": "code",
   "execution_count": null,
   "metadata": {},
   "outputs": [],
   "source": [
    "#Create a dataframe for single player game 1 jsd scores, with a column for each strategy.'''\n",
    "social_jsd_g2d = pd.DataFrame({'max':[j01_p1_g2_max,j01_p2_g2_max,j02_p1_g2_max,j02_p2_g2_max,j03_p1_g2_max,j03_p2_g2_max,\n",
    "                             j04_p1_g2_max,j04_p2_g2_max,j05_p1_g2_max,j05_p2_g2_max,j06_p1_g2_max,j06_p2_g2_max,\n",
    "                             j07_p1_g2_max,j07_p2_g2_max,j08_p1_g2_max,j08_p2_g2_max,m01_p1_g2_max, m01_p2_g2_max, m03_p1_g2_max, m03_p2_g2_max,\n",
    "                                     m05_p1_g2_max, m05_p2_g2_max],\n",
    "                    'match':[j01_p1_g2_match,j01_p2_g2_match,j02_p1_g2_match, j02_p2_g2_match,j03_p1_g2_match,j03_p2_g2_match,\n",
    "                               j04_p1_g2_match,j04_p2_g2_match,j05_p1_g2_match,\n",
    "                               j05_p2_g2_match,j06_p1_g2_match,j06_p2_g2_match,\n",
    "                               j07_p1_g2_match,j07_p2_g2_match,j08_p1_g2_match,j08_p2_g2_match, m01_p1_g2_match, m01_p2_g2_match,m03_p1_g2_match, \n",
    "                               m03_p2_g2_match, m05_p1_g2_match, m05_p2_g2_match],\n",
    "                    'rand':[j01_p1_g2_rand,j01_p2_g2_rand,j02_p1_g2_rand,j02_p2_g2_rand,j03_p1_g2_rand,j03_p2_g2_rand,\n",
    "                             j04_p1_g2_rand,j04_p2_g2_rand,j05_p1_g2_rand,j05_p2_g2_rand,j06_p1_g2_rand,j06_p2_g2_rand,\n",
    "                             j07_p1_g2_rand,j07_p2_g2_rand,j08_p1_g2_rand,j08_p2_g2_rand, m01_p1_g2_rand, m01_p2_g2_rand,\n",
    "                            m03_p1_g2_rand, m03_p2_g2_rand,\n",
    "                            m05_p1_g2_rand, m05_p2_g2_rand],\n",
    "                    'soc':[j01_p1_g2_soc,j01_p2_g2_soc,j02_p1_g2_soc, j02_p2_g2_soc,j03_p1_g2_soc,j03_p2_g2_soc,\n",
    "                               j04_p1_g2_soc,j04_p2_g2_soc,j05_p1_g2_soc,\n",
    "                               j05_p2_g2_soc,j06_p1_g2_soc,j06_p2_g2_soc,\n",
    "                               j07_p1_g2_soc,j07_p2_g2_soc,j08_p1_g2_soc,j08_p2_g2_soc,\n",
    "                           m01_p1_g2_soc, m01_p2_g2_soc,m03_p1_g2_soc, \n",
    "                           m03_p2_g2_soc,\n",
    "                           m05_p1_g2_soc, m05_p2_g2_soc]},\n",
    "                         index=['j01', 'j01', 'j02', 'j02', 'j03', 'j03','j04',\n",
    "                                'j04','j05', 'j05', 'j06', 'j06','j07','j07','j08','j08',\n",
    "                                'm01','m01','m03','m03','m05','m05'])"
   ]
  },
  {
   "cell_type": "code",
   "execution_count": null,
   "metadata": {},
   "outputs": [],
   "source": [
    "#Create a dataframe for single player game 1 jsd scores, with a column for each strategy.'''\n",
    "social_jsd_g2s = pd.DataFrame({'max':[j10_p1_g2_max, j10_p2_g2_max,\n",
    "                               j11_p1_g2_max, j11_p2_g2_max, m08_p1_g2_max, m08_p2_g2_max, m10_p1_g2_max, \n",
    "                                      m10_p2_g2_max, m11_p1_g2_max, m11_p2_g2_max,\n",
    "                                    m13_p1_g2_max, m13_p2_g2_max, m14_p1_g2_max, m14_p2_g2_max],\n",
    "                    'match':[j10_p1_g2_match, j10_p2_g2_match, j11_p1_g2_match, j11_p2_g2_match, \n",
    "                               m08_p1_g2_match, m08_p2_g2_match, m10_p1_g2_match,\n",
    "                               m10_p2_g2_match, m11_p1_g2_match, m11_p2_g2_match, m13_p1_g2_match, m13_p2_g2_match,\n",
    "                               m14_p1_g2_match, m14_p2_g2_match],\n",
    "                    'rand':[j10_p1_g2_rand, j10_p2_g2_rand,\n",
    "                               j11_p1_g2_rand, j11_p2_g2_rand,\n",
    "                                   m08_p1_g2_rand, m08_p2_g2_rand, m10_p1_g2_rand, m10_p2_g2_rand, m11_p1_g2_rand, m11_p2_g2_rand,\n",
    "                                    m13_p1_g2_rand, m13_p2_g2_rand, m14_p1_g2_rand, m14_p2_g2_rand],\n",
    "                    'soc':[j10_p1_g2_soc, j10_p2_g2_soc, j11_p1_g2_soc, j11_p2_g2_soc,\n",
    "                               m08_p1_g2_soc, m08_p2_g2_soc, m10_p1_g2_soc,\n",
    "                               m10_p2_g2_soc, m11_p1_g2_soc, m11_p2_g2_soc, m13_p1_g2_soc, m13_p2_g2_soc,\n",
    "                               m14_p1_g2_soc, m14_p2_g2_soc]},\n",
    "                         index=['j10', 'j10', 'j11', 'j11',\n",
    "                                'm08', 'm08', 'm10', 'm10', 'm11', 'm11', 'm13','m13', 'm14', 'm14'])"
   ]
  },
  {
   "cell_type": "code",
   "execution_count": null,
   "metadata": {},
   "outputs": [],
   "source": [
    "# get the column name of min values in every row\n",
    "strategy_social_jsd_g2s = social_jsd_g2s.idxmin(axis=1)\n",
    "\n",
    "strategy_social_jsd_g2d = social_jsd_g2d.idxmin(axis=1)"
   ]
  },
  {
   "cell_type": "code",
   "execution_count": null,
   "metadata": {},
   "outputs": [],
   "source": [
    "strategy_social_jsd_g2s.value_counts()"
   ]
  },
  {
   "cell_type": "code",
   "execution_count": null,
   "metadata": {},
   "outputs": [],
   "source": [
    "strategy_social_jsd_g2d.value_counts()"
   ]
  },
  {
   "cell_type": "code",
   "execution_count": null,
   "metadata": {},
   "outputs": [],
   "source": [
    "sp.stats.ttest_ind(social_jsd_g1, social_jsd_g2)"
   ]
  },
  {
   "cell_type": "code",
   "execution_count": null,
   "metadata": {},
   "outputs": [],
   "source": [
    "sp.stats.ttest_ind(social_jsd_g1['rand'], social_jsd_g2['rand'])"
   ]
  },
  {
   "cell_type": "code",
   "execution_count": null,
   "metadata": {},
   "outputs": [],
   "source": [
    "sp.stats.ttest_ind(social_jsd_g1['match'],social_jsd_g2['match'])"
   ]
  },
  {
   "cell_type": "code",
   "execution_count": null,
   "metadata": {},
   "outputs": [],
   "source": [
    "# In[ ]:\n",
    "\n",
    "\n",
    "#under line = matching (closer to 0)\n",
    "#plots of actual jsd values\n",
    "\n",
    "m, b = np.polyfit(control_jsd_g1['max'], control_jsd_g1['match'], 1)\n",
    "\n",
    "social_ego_jsd_g1_plot = social_jsd_g1.plot.scatter(x='max',y='match',s=50)\n",
    "plt.title('Social Egocentric Strategies Game 1', fontsize=18, y=1.05)\n",
    "plt.xticks(np.arange(0, 1, step=0.1))\n",
    "plt.yticks(np.arange(0, 1, step=0.1))\n",
    "#line1 = mlines.Line2D([0.2148, 0.2148],[-0.03, 0.5], color='red')\n",
    "#line2 = mlines.Line2D([0,0.8],[0.2148,0.2148])\n",
    "\n",
    "#plt.xlabel('Match')\n",
    "#plt.ylabel('Maximize')\n",
    "\n",
    "plt.ylim(-.1, .5)\n",
    "plt.xlim(-.1, .5)\n",
    "\n",
    "plt.gca().set_aspect('equal', adjustable='box')\n",
    "plt.draw()\n",
    "\n",
    "#add legend (NEEDS TO BE FIXED)\n",
    "from numpy.random import randn\n",
    "\n",
    "z = randn(100)\n",
    "\n",
    "#add line of slope 1\n",
    "plt.plot([0,1],[0,1], transform=plt.gca().transAxes)\n",
    "\n",
    "#s_jsd_g2_plot.add_line(line2)\n",
    "plt.savefig('social_ego_jsd_1.jpeg',format='jpeg')\n",
    "plt.show()"
   ]
  },
  {
   "cell_type": "code",
   "execution_count": null,
   "metadata": {},
   "outputs": [],
   "source": [
    "# In[ ]:\n",
    "\n",
    "\n",
    "#under line = matching (closer to 0)\n",
    "#plots of actual jsd values\n",
    "\n",
    "m, b = np.polyfit(control_jsd_g1['max'], control_jsd_g1['match'], 1)\n",
    "\n",
    "social_ego_jsd_g2d_plot = social_jsd_g2d.plot.scatter(x='max',y='match',s=50)\n",
    "plt.title('Social Egocentric Strategies Game 2-Different', fontsize=18, y=1.05)\n",
    "plt.xticks(np.arange(0, 1, step=0.1))\n",
    "plt.yticks(np.arange(0, 1, step=0.1))\n",
    "#line1 = mlines.Line2D([0.2148, 0.2148],[-0.03, 0.5], color='red')\n",
    "#line2 = mlines.Line2D([0,0.8],[0.2148,0.2148])\n",
    "\n",
    "#plt.xlabel('Match')\n",
    "#plt.ylabel('Maximize')\n",
    "\n",
    "plt.ylim(-.1, .5)\n",
    "plt.xlim(-.1, .5)\n",
    "\n",
    "plt.gca().set_aspect('equal', adjustable='box')\n",
    "plt.draw()\n",
    "\n",
    "#add legend (NEEDS TO BE FIXED)\n",
    "from numpy.random import randn\n",
    "\n",
    "z = randn(100)\n",
    "\n",
    "#add line of slope 1\n",
    "plt.plot([0,1],[0,1], transform=plt.gca().transAxes)\n",
    "\n",
    "#s_jsd_g2_plot.add_line(line2)\n",
    "plt.savefig('social_ego_jsd_2d.jpeg',format='jpeg')\n",
    "plt.show()"
   ]
  },
  {
   "cell_type": "code",
   "execution_count": null,
   "metadata": {},
   "outputs": [],
   "source": [
    "# In[ ]:\n",
    "\n",
    "\n",
    "#under line = matching (closer to 0)\n",
    "#plots of actual jsd values\n",
    "\n",
    "m, b = np.polyfit(control_jsd_g1['max'], control_jsd_g1['match'], 1)\n",
    "\n",
    "social_ego_jsd_g2s_plot = social_jsd_g2s.plot.scatter(x='max',y='match',s=50)\n",
    "plt.title('Social Egocentric Strategies Game 2-Same', fontsize=18, y=1.05)\n",
    "plt.xticks(np.arange(0, 1, step=0.1))\n",
    "plt.yticks(np.arange(0, 1, step=0.1))\n",
    "#line1 = mlines.Line2D([0.2148, 0.2148],[-0.03, 0.5], color='red')\n",
    "#line2 = mlines.Line2D([0,0.8],[0.2148,0.2148])\n",
    "\n",
    "#plt.xlabel('Match')\n",
    "#plt.ylabel('Maximize')\n",
    "\n",
    "plt.ylim(-.1, .5)\n",
    "plt.xlim(-.1, .5)\n",
    "\n",
    "plt.gca().set_aspect('equal', adjustable='box')\n",
    "plt.draw()\n",
    "\n",
    "#add legend (NEEDS TO BE FIXED)\n",
    "from numpy.random import randn\n",
    "\n",
    "z = randn(100)\n",
    "\n",
    "#add line of slope 1\n",
    "plt.plot([0,1],[0,1], transform=plt.gca().transAxes)\n",
    "\n",
    "#s_jsd_g2_plot.add_line(line2)\n",
    "plt.savefig('social_ego_jsd_2s.jpeg',format='jpeg')\n",
    "plt.show()"
   ]
  },
  {
   "cell_type": "code",
   "execution_count": null,
   "metadata": {},
   "outputs": [],
   "source": [
    "sp.stats.ttest_ind(social_jsd_g2s, social_jsd_g2d)"
   ]
  },
  {
   "cell_type": "code",
   "execution_count": null,
   "metadata": {},
   "outputs": [],
   "source": [
    "social_jsd_g2['rand'].sum()"
   ]
  },
  {
   "cell_type": "code",
   "execution_count": null,
   "metadata": {},
   "outputs": [],
   "source": [
    "social_jsd_g2['max'].sum()"
   ]
  },
  {
   "cell_type": "code",
   "execution_count": null,
   "metadata": {},
   "outputs": [],
   "source": [
    "social_jsd_g2['match'].sum()"
   ]
  },
  {
   "cell_type": "code",
   "execution_count": null,
   "metadata": {},
   "outputs": [],
   "source": [
    "social_jsd_g1['rand'].sum()"
   ]
  },
  {
   "cell_type": "code",
   "execution_count": null,
   "metadata": {},
   "outputs": [],
   "source": [
    "social_jsd_g1['max'].sum()"
   ]
  },
  {
   "cell_type": "code",
   "execution_count": null,
   "metadata": {},
   "outputs": [],
   "source": [
    "social_jsd_g1['match'].sum()"
   ]
  },
  {
   "cell_type": "code",
   "execution_count": null,
   "metadata": {},
   "outputs": [],
   "source": [
    "social_jsd_g1.mean()"
   ]
  },
  {
   "cell_type": "code",
   "execution_count": null,
   "metadata": {},
   "outputs": [],
   "source": [
    "social_jsd_g2.mean()"
   ]
  },
  {
   "cell_type": "code",
   "execution_count": null,
   "metadata": {},
   "outputs": [],
   "source": [
    "confed_g2_counts = confed_g2_s_counts_unmelt.append(confed_g2_d_counts_unmelt)"
   ]
  },
  {
   "cell_type": "code",
   "execution_count": null,
   "metadata": {},
   "outputs": [],
   "source": [
    "soc_g2_counts = soc_g2_s_counts_unmelt.append(soc_g2_d_counts_unmelt)"
   ]
  },
  {
   "cell_type": "code",
   "execution_count": null,
   "metadata": {},
   "outputs": [],
   "source": [
    "sp.stats.ttest_ind(confed_g1_counts_unmelt,confed_g2_counts)"
   ]
  },
  {
   "cell_type": "code",
   "execution_count": null,
   "metadata": {},
   "outputs": [],
   "source": [
    "sp.stats.ttest_ind(soc_g1_counts_unmelt,social_g2_counts)"
   ]
  },
  {
   "cell_type": "code",
   "execution_count": null,
   "metadata": {},
   "outputs": [],
   "source": [
    "sp.stats.ttest_ind(soc_g2_s_counts_unmelt,soc_g2_d_counts_unmelt)"
   ]
  },
  {
   "cell_type": "code",
   "execution_count": null,
   "metadata": {},
   "outputs": [],
   "source": [
    "soc_g1_counts_unmelt.mean()"
   ]
  },
  {
   "cell_type": "code",
   "execution_count": null,
   "metadata": {},
   "outputs": [],
   "source": [
    "soc_g2_counts.mean()"
   ]
  },
  {
   "cell_type": "code",
   "execution_count": null,
   "metadata": {},
   "outputs": [],
   "source": [
    "sp.stats.ttest_ind(soc_g1_counts_unmelt,soc_g2_d_counts_unmelt)"
   ]
  },
  {
   "cell_type": "code",
   "execution_count": null,
   "metadata": {},
   "outputs": [],
   "source": [
    "sp.stats.ttest_ind(soc_g1_counts_unmelt,soc_g2_s_counts_unmelt)"
   ]
  },
  {
   "cell_type": "code",
   "execution_count": null,
   "metadata": {},
   "outputs": [],
   "source": [
    "sp.stats.ttest_ind(soc_g2_d_scores_unmelt, soc_g2_s_scores_unmelt)"
   ]
  },
  {
   "cell_type": "code",
   "execution_count": null,
   "metadata": {},
   "outputs": [],
   "source": [
    "sp.stats.ttest_ind(soc_g1_score['value'], soc_g2_s_scores_unmelt)"
   ]
  },
  {
   "cell_type": "code",
   "execution_count": null,
   "metadata": {},
   "outputs": [],
   "source": [
    "sp.stats.ttest_ind(soc_g1_score['value'], soc_g2_d_scores_unmelt)"
   ]
  },
  {
   "cell_type": "code",
   "execution_count": null,
   "metadata": {},
   "outputs": [],
   "source": [
    "soc_g2_scores = soc_g2_d_scores_unmelt.append(soc_g2_s_scores_unmelt)"
   ]
  },
  {
   "cell_type": "code",
   "execution_count": null,
   "metadata": {},
   "outputs": [],
   "source": [
    "sp.stats.ttest_ind(soc_g1_score['value'],soc_g2_scores)"
   ]
  },
  {
   "cell_type": "code",
   "execution_count": null,
   "metadata": {},
   "outputs": [],
   "source": [
    "sp.stats.ttest_ind(confed_g2_d_scores_unmelt, confed_g2_s_scores_unmelt)"
   ]
  },
  {
   "cell_type": "code",
   "execution_count": null,
   "metadata": {},
   "outputs": [],
   "source": [
    "confed_g2_scores = confed_g2_d_scores_unmelt.append(confed_g2_s_scores_unmelt)"
   ]
  },
  {
   "cell_type": "code",
   "execution_count": null,
   "metadata": {},
   "outputs": [],
   "source": [
    "sp.stats.ttest_ind(confed_g1_score['value'], confed_g2_scores)"
   ]
  },
  {
   "cell_type": "code",
   "execution_count": null,
   "metadata": {},
   "outputs": [],
   "source": [
    "sp.stats.ttest_ind(confed_g1_score['value'], soc_g1_score['value'])"
   ]
  },
  {
   "cell_type": "code",
   "execution_count": null,
   "metadata": {},
   "outputs": [],
   "source": [
    "sp.stats.ttest_ind(confed_g2_scores, soc_g2_scores)"
   ]
  },
  {
   "cell_type": "markdown",
   "metadata": {},
   "source": [
    "# Plotting combined g2 data"
   ]
  },
  {
   "cell_type": "code",
   "execution_count": null,
   "metadata": {},
   "outputs": [],
   "source": [
    "soc_g2_scores_box = sns.boxplot( \n",
    "                 data=soc_g2_scores,\n",
    "                 width=0.5,\n",
    "                 palette=\"pastel\")\n",
    "soc_g2_scores_box.axes.set_title(\"Social Scores in Game 2-Combined\",\n",
    "                    fontsize=16)\n",
    "\n",
    "plot_file_name=\"soc_g2_combo_scores_box.jpg\"\n",
    " \n",
    "plt.ylim(0, 100)\n",
    "soc_g2_scores_box.axes.set(ylabel='Score')\n",
    "\n",
    "# save as jpeg\n",
    "soc_g2_scores_box.figure.savefig(plot_file_name,\n",
    "                    format='jpeg')"
   ]
  },
  {
   "cell_type": "code",
   "execution_count": null,
   "metadata": {},
   "outputs": [],
   "source": [
    "soc_g2_counts_box = sns.boxplot( \n",
    "                 data=soc_g2_counts,\n",
    "                 width=0.5,\n",
    "                 palette=\"pastel\")\n",
    "soc_g2_counts_box.axes.set_title(\"Social Counts in Game 2-Combined\",\n",
    "                    fontsize=16)\n",
    "\n",
    "plot_file_name=\"soc_g2_combo_combo_box.jpg\"\n",
    " \n",
    "plt.ylim(0, 100)\n",
    "soc_g2_counts_box.axes.set(ylabel='Choice Distribution')\n",
    "\n",
    "# save as jpeg\n",
    "soc_g2_counts_box.figure.savefig(plot_file_name,\n",
    "                    format='jpeg')"
   ]
  },
  {
   "cell_type": "code",
   "execution_count": null,
   "metadata": {},
   "outputs": [],
   "source": [
    "social_jsd_g2 = social_jsd_g2d.append(social_jsd_g2s)"
   ]
  },
  {
   "cell_type": "code",
   "execution_count": null,
   "metadata": {},
   "outputs": [],
   "source": [
    "social_ego_jsd_g2_plot = social_jsd_g2.plot.scatter(x='max',y='match',s=50)\n",
    "plt.title('Social Egocentric Strategies Game 2', fontsize=18, y=1.05)\n",
    "plt.xticks(np.arange(0, 1, step=0.1))\n",
    "plt.yticks(np.arange(0, 1, step=0.1))\n",
    "#line1 = mlines.Line2D([0.2148, 0.2148],[-0.03, 0.5], color='red')\n",
    "#line2 = mlines.Line2D([0,0.8],[0.2148,0.2148])\n",
    "\n",
    "#plt.xlabel('Match')\n",
    "#plt.ylabel('Maximize')\n",
    "\n",
    "plt.ylim(-.1, .5)\n",
    "plt.xlim(-.1, .5)\n",
    "\n",
    "plt.gca().set_aspect('equal', adjustable='box')\n",
    "plt.draw()\n",
    "\n",
    "#add legend (NEEDS TO BE FIXED)\n",
    "from numpy.random import randn\n",
    "\n",
    "z = randn(100)\n",
    "\n",
    "#add line of slope 1\n",
    "plt.plot([0,1],[0,1], transform=plt.gca().transAxes)\n",
    "\n",
    "#s_jsd_g2_plot.add_line(line2)\n",
    "plt.savefig('social_ego_jsd_2.jpeg',format='jpeg')\n",
    "plt.show()"
   ]
  },
  {
   "cell_type": "code",
   "execution_count": null,
   "metadata": {},
   "outputs": [],
   "source": [
    "confed_g2_scores_box = sns.boxplot( \n",
    "                 data=confed_g2_scores,\n",
    "                 width=0.5,\n",
    "                 palette=\"pastel\")\n",
    "confed_g2_scores_box.axes.set_title(\"Confederate Scores in Game 2-Combined\",\n",
    "                    fontsize=16)\n",
    "\n",
    "plot_file_name=\"confed_g2_combo_scores_box.jpg\"\n",
    " \n",
    "plt.ylim(0, 100)\n",
    "confed_g2_scores_box.axes.set(ylabel='Score')\n",
    "\n",
    "# save as jpeg\n",
    "confed_g2_scores_box.figure.savefig(plot_file_name,\n",
    "                    format='jpeg')"
   ]
  },
  {
   "cell_type": "code",
   "execution_count": null,
   "metadata": {},
   "outputs": [],
   "source": [
    "confed_g2_counts_box = sns.boxplot( \n",
    "                 data=confed_g2_counts,\n",
    "                 width=0.5,\n",
    "                 palette=\"pastel\")\n",
    "confed_g2_counts_box.axes.set_title(\"Confederate Counts in Game 2-Combined\",\n",
    "                    fontsize=16)\n",
    "\n",
    "plot_file_name=\"confed_g2_combo_combo_box.jpg\"\n",
    " \n",
    "plt.ylim(0, 100)\n",
    "confed_g2_counts_box.axes.set(ylabel='Choice Distribution')\n",
    "\n",
    "# save as jpeg\n",
    "confed_g2_counts_box.figure.savefig(plot_file_name,\n",
    "                    format='jpeg')"
   ]
  },
  {
   "cell_type": "code",
   "execution_count": null,
   "metadata": {},
   "outputs": [],
   "source": [
    "confed_jsd_g2 = confed_jsd_g2_d.append(confed_jsd_g2_s)"
   ]
  },
  {
   "cell_type": "code",
   "execution_count": null,
   "metadata": {},
   "outputs": [],
   "source": [
    "confed_ego_jsd_g2_plot = confed_jsd_g2.plot.scatter(x='max',y='match',s=50)\n",
    "plt.title('Confederate Egocentric Strategies Game 2', fontsize=18, y=1.05)\n",
    "plt.xticks(np.arange(0, 1, step=0.1))\n",
    "plt.yticks(np.arange(0, 1, step=0.1))\n",
    "#line1 = mlines.Line2D([0.2148, 0.2148],[-0.03, 0.5], color='red')\n",
    "#line2 = mlines.Line2D([0,0.8],[0.2148,0.2148])\n",
    "\n",
    "#plt.xlabel('Match')\n",
    "#plt.ylabel('Maximize')\n",
    "\n",
    "plt.ylim(-.1, .5)\n",
    "plt.xlim(-.1, .5)\n",
    "\n",
    "plt.gca().set_aspect('equal', adjustable='box')\n",
    "plt.draw()\n",
    "\n",
    "#add legend (NEEDS TO BE FIXED)\n",
    "from numpy.random import randn\n",
    "\n",
    "z = randn(100)\n",
    "\n",
    "#add line of slope 1\n",
    "plt.plot([0,1],[0,1], transform=plt.gca().transAxes)\n",
    "\n",
    "#s_jsd_g2_plot.add_line(line2)\n",
    "plt.savefig('confed_ego_jsd_2.jpeg',format='jpeg')\n",
    "plt.show()"
   ]
  },
  {
   "cell_type": "code",
   "execution_count": null,
   "metadata": {},
   "outputs": [],
   "source": []
  }
 ],
 "metadata": {
  "anaconda-cloud": {},
  "kernelspec": {
   "display_name": "Python 3",
   "language": "python",
   "name": "python3"
  },
  "language_info": {
   "codemirror_mode": {
    "name": "ipython",
    "version": 3
   },
   "file_extension": ".py",
   "mimetype": "text/x-python",
   "name": "python",
   "nbconvert_exporter": "python",
   "pygments_lexer": "ipython3",
   "version": "3.7.4"
  }
 },
 "nbformat": 4,
 "nbformat_minor": 1
}
