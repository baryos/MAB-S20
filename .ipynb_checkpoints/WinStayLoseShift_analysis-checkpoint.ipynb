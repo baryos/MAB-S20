{
 "cells": [
  {
   "cell_type": "markdown",
   "metadata": {},
   "source": [
    "# Kexin's analysis on WSLS"
   ]
  },
  {
   "cell_type": "code",
   "execution_count": 1,
   "metadata": {},
   "outputs": [],
   "source": [
    "import pandas as pd\n",
    "import numpy as np\n",
    "import matplotlib \n",
    "from matplotlib import pyplot as plt\n",
    "\n",
    "from scipy import stats\n",
    "from datetime import datetime\n",
    "\n",
    "import seaborn as sns\n",
    "import warnings\n",
    "warnings.filterwarnings('ignore')"
   ]
  },
  {
   "cell_type": "markdown",
   "metadata": {},
   "source": [
    "## Briefly Preprocessing"
   ]
  },
  {
   "cell_type": "code",
   "execution_count": 67,
   "metadata": {
    "scrolled": true
   },
   "outputs": [
    {
     "data": {
      "text/html": [
       "<div>\n",
       "<style scoped>\n",
       "    .dataframe tbody tr th:only-of-type {\n",
       "        vertical-align: middle;\n",
       "    }\n",
       "\n",
       "    .dataframe tbody tr th {\n",
       "        vertical-align: top;\n",
       "    }\n",
       "\n",
       "    .dataframe thead th {\n",
       "        text-align: right;\n",
       "    }\n",
       "</style>\n",
       "<table border=\"1\" class=\"dataframe\">\n",
       "  <thead>\n",
       "    <tr style=\"text-align: right;\">\n",
       "      <th>Trial Number</th>\n",
       "      <th>Game Number</th>\n",
       "      <th>Player</th>\n",
       "      <th>Arm</th>\n",
       "      <th>Outcome</th>\n",
       "      <th>Time</th>\n",
       "    </tr>\n",
       "    <tr>\n",
       "      <th>m03</th>\n",
       "      <th></th>\n",
       "      <th></th>\n",
       "      <th></th>\n",
       "      <th></th>\n",
       "      <th></th>\n",
       "    </tr>\n",
       "  </thead>\n",
       "  <tbody>\n",
       "    <tr>\n",
       "      <th>1</th>\n",
       "      <td>1</td>\n",
       "      <td>1</td>\n",
       "      <td>1</td>\n",
       "      <td>1</td>\n",
       "      <td>02:00.906</td>\n",
       "    </tr>\n",
       "    <tr>\n",
       "      <th>2</th>\n",
       "      <td>1</td>\n",
       "      <td>2</td>\n",
       "      <td>3</td>\n",
       "      <td>1</td>\n",
       "      <td>02:04.659</td>\n",
       "    </tr>\n",
       "    <tr>\n",
       "      <th>3</th>\n",
       "      <td>1</td>\n",
       "      <td>1</td>\n",
       "      <td>3</td>\n",
       "      <td>0</td>\n",
       "      <td>02:07.641</td>\n",
       "    </tr>\n",
       "    <tr>\n",
       "      <th>4</th>\n",
       "      <td>1</td>\n",
       "      <td>2</td>\n",
       "      <td>2</td>\n",
       "      <td>0</td>\n",
       "      <td>02:10.657</td>\n",
       "    </tr>\n",
       "    <tr>\n",
       "      <th>5</th>\n",
       "      <td>1</td>\n",
       "      <td>1</td>\n",
       "      <td>2</td>\n",
       "      <td>1</td>\n",
       "      <td>02:13.639</td>\n",
       "    </tr>\n",
       "    <tr>\n",
       "      <th>...</th>\n",
       "      <td>...</td>\n",
       "      <td>...</td>\n",
       "      <td>...</td>\n",
       "      <td>...</td>\n",
       "      <td>...</td>\n",
       "    </tr>\n",
       "    <tr>\n",
       "      <th>196</th>\n",
       "      <td>2</td>\n",
       "      <td>2</td>\n",
       "      <td>1</td>\n",
       "      <td>0</td>\n",
       "      <td>22:26.012</td>\n",
       "    </tr>\n",
       "    <tr>\n",
       "      <th>197</th>\n",
       "      <td>2</td>\n",
       "      <td>1</td>\n",
       "      <td>1</td>\n",
       "      <td>1</td>\n",
       "      <td>22.28.660</td>\n",
       "    </tr>\n",
       "    <tr>\n",
       "      <th>198</th>\n",
       "      <td>2</td>\n",
       "      <td>2</td>\n",
       "      <td>2</td>\n",
       "      <td>1</td>\n",
       "      <td>22:30.838</td>\n",
       "    </tr>\n",
       "    <tr>\n",
       "      <th>199</th>\n",
       "      <td>2</td>\n",
       "      <td>1</td>\n",
       "      <td>3</td>\n",
       "      <td>1</td>\n",
       "      <td>22:33.586</td>\n",
       "    </tr>\n",
       "    <tr>\n",
       "      <th>200</th>\n",
       "      <td>2</td>\n",
       "      <td>2</td>\n",
       "      <td>1</td>\n",
       "      <td>0</td>\n",
       "      <td>22:35.864</td>\n",
       "    </tr>\n",
       "  </tbody>\n",
       "</table>\n",
       "<p>400 rows × 5 columns</p>\n",
       "</div>"
      ],
      "text/plain": [
       "Trial Number Game Number Player Arm Outcome       Time\n",
       "m03                                                   \n",
       "1                      1      1   1       1  02:00.906\n",
       "2                      1      2   3       1  02:04.659\n",
       "3                      1      1   3       0  02:07.641\n",
       "4                      1      2   2       0  02:10.657\n",
       "5                      1      1   2       1  02:13.639\n",
       "..                   ...    ...  ..     ...        ...\n",
       "196                    2      2   1       0  22:26.012\n",
       "197                    2      1   1       1  22.28.660\n",
       "198                    2      2   2       1  22:30.838\n",
       "199                    2      1   3       1  22:33.586\n",
       "200                    2      2   1       0  22:35.864\n",
       "\n",
       "[400 rows x 5 columns]"
      ]
     },
     "execution_count": 67,
     "metadata": {},
     "output_type": "execute_result"
    }
   ],
   "source": [
    "df=pd.read_csv('./data/m03_gamedata_handcode.csv',index_col=1)\n",
    "df.columns = df.iloc[7]\n",
    "df=df[[\"Game Number\",\"Player\",'Arm','Outcome','Time']].iloc[8:,:]\n",
    "df"
   ]
  },
  {
   "cell_type": "markdown",
   "metadata": {},
   "source": [
    "## Separate out each dataframes(diff player & diff game)"
   ]
  },
  {
   "cell_type": "code",
   "execution_count": 91,
   "metadata": {},
   "outputs": [
    {
     "data": {
      "text/plain": [
       "(100, 5)"
      ]
     },
     "execution_count": 91,
     "metadata": {},
     "output_type": "execute_result"
    }
   ],
   "source": [
    "df_player1_1=df[(df['Game Number']=='1') & (df['Player']=='1')]\n",
    "df_player1_2=df[(df['Game Number']=='2') & (df['Player']=='1')]\n",
    "df_player2_1=df[(df['Game Number']=='1') & (df['Player']=='2')]\n",
    "df_player2_2=df[(df['Game Number']=='2') & (df['Player']=='2')]\n",
    "# df_player1_1.shape"
   ]
  },
  {
   "cell_type": "markdown",
   "metadata": {},
   "source": [
    "## Functions for process and analysis"
   ]
  },
  {
   "cell_type": "code",
   "execution_count": 165,
   "metadata": {},
   "outputs": [],
   "source": [
    "# calc difference of outcome between trials\n",
    "def win_lose_outcome(cur_df,col_name):\n",
    "    cur_df=cur_df.iloc[::-1]\n",
    "    change_ls=[0]\n",
    "    ls=cur_df[col_name].tolist()\n",
    "    ls=[int(i) for i in ls]\n",
    "    change_ls=np.concatenate((np.diff(ls),change_ls))\n",
    "    new_col_name=col_name+'Diff'\n",
    "    cur_df[new_col_name]=change_ls\n",
    "    cur_df=cur_df.iloc[::-1]\n",
    "    return cur_df\n",
    "\n",
    "# label the status for each type\n",
    "def labeling(num,type_):\n",
    "    label=''\n",
    "    num=str(num)\n",
    "    if type_=='Outcome':\n",
    "        if num=='0':\n",
    "            label='Unchanged Outcome'\n",
    "        elif num=='-1':\n",
    "            label='Loss'\n",
    "        elif num=='1':\n",
    "            label='Win'\n",
    "    else:\n",
    "        if num=='0':\n",
    "            label='Unswitched Arms'\n",
    "        else:\n",
    "            label='Switched Arms'\n",
    "    return label\n",
    "\n",
    "#similar process of calc differences of arms\n",
    "def switch_arms(cur_df):\n",
    "    cur_df=win_lose_outcome(cur_df,'Arm')\n",
    "    return cur_df['ArmDiff']\n",
    "\n",
    "def find_df_perCond(cur_df,outStatus,armStatus):\n",
    "    df_new=cur_df[(cur_df['Outcome_labels']==outStatus)&(cur_df['Arms_labels']==armStatus)]\n",
    "    p=df_new.shape[0]/cur_df.shape[0]*100\n",
    "    prob=\"%.2f\" % round(p, 2)+'%'\n",
    "    return prob\n",
    "# find prob of each condition (W-Stay, W-Change, L-Stay, L-Change)\n",
    "def find_prob(cur_df):\n",
    "    val1=find_df_perCond(cur_df,'Win','Unswitched Arms')\n",
    "    val2=find_df_perCond(cur_df,'Win','Switched Arms')\n",
    "    val3=find_df_perCond(cur_df,'Loss','Unswitched Arms')\n",
    "    val4=find_df_perCond(cur_df,'Loss','Switched Arms')\n",
    "    return [{\"W-S\":val1},{\"W-C\":val2},{\"L-S\":val3},{\"L-C\":val4}]\n",
    "\n",
    "\n",
    "# put the operations into one simple function\n",
    "def full_operations(cur_df):\n",
    "    new_df=win_lose_outcome(cur_df,'Outcome')\n",
    "    new_df['Outcome_labels']=new_df.apply(lambda row: labeling(row['OutcomeDiff'], 'Outcome'), axis=1)\n",
    "    new_df['ArmDiff']=switch_arms(cur_df)\n",
    "    new_df['Arms_labels']=new_df.apply(lambda row: labeling(row['ArmDiff'],'Arm'), axis=1)\n",
    "    prob_val=find_prob(new_df)\n",
    "    print(prob_val)\n",
    "    return new_df # or you can return prob_val for analysing probability\n",
    "\n",
    "\n",
    "    \n",
    "    "
   ]
  },
  {
   "cell_type": "markdown",
   "metadata": {},
   "source": [
    "## Return probabilities in each case & Plot Bar plot"
   ]
  },
  {
   "cell_type": "code",
   "execution_count": 171,
   "metadata": {},
   "outputs": [
    {
     "name": "stdout",
     "output_type": "stream",
     "text": [
      "[{'W-S': '7.00%'}, {'W-C': '17.00%'}, {'L-S': '4.00%'}, {'L-C': '19.00%'}]\n",
      "[{'W-S': '8.00%'}, {'W-C': '20.00%'}, {'L-S': '3.00%'}, {'L-C': '25.00%'}]\n",
      "[{'W-S': '4.00%'}, {'W-C': '20.00%'}, {'L-S': '4.00%'}, {'L-C': '19.00%'}]\n",
      "[{'W-S': '6.00%'}, {'W-C': '20.00%'}, {'L-S': '4.00%'}, {'L-C': '22.00%'}]\n"
     ]
    },
    {
     "data": {
      "text/plain": [
       "<matplotlib.legend.Legend at 0x1a22c49650>"
      ]
     },
     "execution_count": 171,
     "metadata": {},
     "output_type": "execute_result"
    },
    {
     "data": {
      "image/png": "[encoded data removed]",
      "text/plain": [
       "<Figure size 432x288 with 1 Axes>"
      ]
     },
     "metadata": {
      "needs_background": "light"
     },
     "output_type": "display_data"
    }
   ],
   "source": [
    "df_lst=[df_player1_1,df_player1_2,df_player2_1,df_player2_2]\n",
    "prob_lst=[]\n",
    "for i in df_lst:\n",
    "    prob_val=full_operations(i)\n",
    "    prob_lst.append(prob_val)\n",
    "\n",
    "prob=[e for a in prob_lst for e in a]\n",
    "\n",
    "\n",
    "data=[[7,17,4,19],[8,20,3,25],[4,20,4,19],[6,20,4,22]] # data has the same num as prob\n",
    "labels=[\"W-Stay\",\"W-Change\",\"L-Stay\",\"L-Change\"]\n",
    "\n",
    "x = np.arange(len(labels))  # the label locations\n",
    "width = 0.35  # the width of the bars\n",
    "\n",
    "\n",
    "fig = plt.figure()\n",
    "ax = fig.add_axes([0,0,1,1])\n",
    "ax.bar(X + 0.00, data[0], width = 0.2,label='Player1_game1')\n",
    "ax.bar(X + 0.2, data[1], width = 0.2,label='Player1_game2')\n",
    "ax.bar(X + 0.40, data[2], width = 0.2,label='Player2_game1')\n",
    "ax.bar(X + 0.6, data[3], width = 0.2,label='Player2_game2')\n",
    "fig.tight_layout()\n",
    "ax.set_ylabel('Probability in %')\n",
    "ax.set_title('Game Rounds by Different Players')\n",
    "ax.set_xticks(x)\n",
    "ax.set_xticklabels(labels)\n",
    "ax.legend()"
   ]
  },
  {
   "cell_type": "markdown",
   "metadata": {},
   "source": [
    "## Comments for further study"
   ]
  },
  {
   "cell_type": "code",
   "execution_count": null,
   "metadata": {},
   "outputs": [],
   "source": [
    "# you could also try export and further analyse the df's that are returned.\n",
    "# I did not save them to csv's."
   ]
  }
 ],
 "metadata": {
  "kernelspec": {
   "display_name": "Python 3",
   "language": "python",
   "name": "python3"
  },
  "language_info": {
   "codemirror_mode": {
    "name": "ipython",
    "version": 3
   },
   "file_extension": ".py",
   "mimetype": "text/x-python",
   "name": "python",
   "nbconvert_exporter": "python",
   "pygments_lexer": "ipython3",
   "version": "3.7.6"
  }
 },
 "nbformat": 4,
 "nbformat_minor": 4
}
